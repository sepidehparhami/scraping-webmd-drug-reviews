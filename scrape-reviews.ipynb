{
 "cells": [
  {
   "cell_type": "markdown",
   "id": "3d30b46e",
   "metadata": {
    "papermill": {
     "duration": 0.003913,
     "end_time": "2024-03-08T23:16:34.957387",
     "exception": false,
     "start_time": "2024-03-08T23:16:34.953474",
     "status": "completed"
    },
    "tags": []
   },
   "source": [
    "# Scraping WebMD Drug Reviews\n",
    "## Introduction\n",
    "While documents from medical encounters are safeguarded by laws such as HIPAA in the United States, there are a number of public websites where patients are nonetheless sharing health information that may prove valuable as a data source. One such site is WebMD, which provides a database of prescription drugs and solicits reviews from patients about their experience with the medications.\n",
    "\n",
    "Python's `requests` and `BeautifulSoup` libraries make it relatively simple to scrape data from any webpage, and this notebook can be used with only a few modifications to collect user reviews for any medication in WebMD's database for use in downstream analysis. Each review consists of demographic information about the patient, a set of ratings on a scale of 1 to 5 stars, and unstructured text.\n",
    "\n",
    "This notebook focuses on compiling reviews for various medications used to treat depression. Because psychoactive medication works to alter people's thoughts, feelings, and behavior, firsthand narratives written by patients taking these medications are especially valuable as a source of insight into how well a treatment worked and possible explanations as to why."
   ]
  },
  {
   "cell_type": "markdown",
   "id": "95577453",
   "metadata": {
    "papermill": {
     "duration": 0.00305,
     "end_time": "2024-03-08T23:16:34.965641",
     "exception": false,
     "start_time": "2024-03-08T23:16:34.962591",
     "status": "completed"
    },
    "tags": []
   },
   "source": [
    "## Setup"
   ]
  },
  {
   "cell_type": "code",
   "execution_count": 1,
   "id": "a3ef3b81",
   "metadata": {
    "execution": {
     "iopub.execute_input": "2024-03-08T23:16:34.974218Z",
     "iopub.status.busy": "2024-03-08T23:16:34.973343Z",
     "iopub.status.idle": "2024-03-08T23:16:35.801336Z",
     "shell.execute_reply": "2024-03-08T23:16:35.800299Z"
    },
    "papermill": {
     "duration": 0.83455,
     "end_time": "2024-03-08T23:16:35.803427",
     "exception": false,
     "start_time": "2024-03-08T23:16:34.968877",
     "status": "completed"
    },
    "tags": []
   },
   "outputs": [],
   "source": [
    "# imports\n",
    "import requests\n",
    "import numpy as np\n",
    "import pandas as pd\n",
    "import regex as re"
   ]
  },
  {
   "cell_type": "markdown",
   "id": "58334cd7",
   "metadata": {
    "papermill": {
     "duration": 0.00305,
     "end_time": "2024-03-08T23:16:35.810220",
     "exception": false,
     "start_time": "2024-03-08T23:16:35.807170",
     "status": "completed"
    },
    "tags": []
   },
   "source": [
    "## Functions"
   ]
  },
  {
   "cell_type": "code",
   "execution_count": 2,
   "id": "02a77f84",
   "metadata": {
    "execution": {
     "iopub.execute_input": "2024-03-08T23:16:35.818123Z",
     "iopub.status.busy": "2024-03-08T23:16:35.817658Z",
     "iopub.status.idle": "2024-03-08T23:16:35.826058Z",
     "shell.execute_reply": "2024-03-08T23:16:35.825259Z"
    },
    "papermill": {
     "duration": 0.014576,
     "end_time": "2024-03-08T23:16:35.827997",
     "exception": false,
     "start_time": "2024-03-08T23:16:35.813421",
     "status": "completed"
    },
    "tags": []
   },
   "outputs": [],
   "source": [
    "# regular expressions for parsing data from a single review\n",
    "# elements found in review-details div\n",
    "def regex_date(review):\n",
    "    '''Parses the date of the review in format dd/mm/yyyy'''\n",
    "    return re.findall(r'\\d+/\\d+/\\d+', review.find('div', class_='date').text)[0]\n",
    "\n",
    "def regex_condition(review):\n",
    "    '''Parses the condition for which the medication is used'''\n",
    "    condition_element = review.find('strong', class_='condition')\n",
    "    condition_listed = condition_element is not None\n",
    "    if condition_listed:\n",
    "        # TODO: be able to match ''\"Change of Life\" Signs' condition\n",
    "        condition_match = re.findall(r'(?<=Condition:\\s)\\w+(?:\\s\\w+)*', condition_element.text)\n",
    "    return condition_match[0] if (condition_listed and len(condition_match) > 0) else np.nan\n",
    "\n",
    "def regex_rating_overall(review):\n",
    "    '''Parses the overall rating, the average of 3 categories'''\n",
    "    rating_overall_line = review.find('div', class_='overall-rating').strong.text\n",
    "    return re.findall(r'\\d+.\\d+', rating_overall_line)\n",
    "\n",
    "def regex_rating_category(review, ind_cat):\n",
    "    '''Parses the rating for the category at index ind_cat in ['effectiveness', 'ease_of_use', 'satisfaction']'''\n",
    "    rating_categories = review.find('div', class_='categories').find_all('section')\n",
    "    div = rating_categories[ind_cat].find('div', class_='webmd-rate on-mobile')\n",
    "    return int(div.get('aria-valuenow'))\n",
    "\n",
    "def regex_text(review):\n",
    "    '''Parses the free response text review for the drug'''\n",
    "    text_line = review.find('p', class_='description-text')\n",
    "    return text_line.text if text_line is not None else np.nan"
   ]
  },
  {
   "cell_type": "code",
   "execution_count": 3,
   "id": "06cd713d",
   "metadata": {
    "execution": {
     "iopub.execute_input": "2024-03-08T23:16:35.835815Z",
     "iopub.status.busy": "2024-03-08T23:16:35.835509Z",
     "iopub.status.idle": "2024-03-08T23:16:35.842580Z",
     "shell.execute_reply": "2024-03-08T23:16:35.841571Z"
    },
    "papermill": {
     "duration": 0.013002,
     "end_time": "2024-03-08T23:16:35.844337",
     "exception": false,
     "start_time": "2024-03-08T23:16:35.831335",
     "status": "completed"
    },
    "tags": []
   },
   "outputs": [],
   "source": [
    "# regular expressions for parsing data from a single review\n",
    "# elements found in details div\n",
    "def regex_age(details):\n",
    "    '''Parses the age of the medication user'''\n",
    "    age_match = re.findall(r'(?<=\\|\\s+)\\d+-\\d+', details)\n",
    "    return age_match[0] if len(age_match) > 0 else np.nan\n",
    "\n",
    "def regex_gender(details):\n",
    "    '''Parses the gender of the medication user'''\n",
    "    gender_match = re.findall(r'(?<=\\|\\s+)Male|Female', details)\n",
    "    return gender_match[0] if len(gender_match) > 0 else np.nan\n",
    "\n",
    "def regex_time(details):\n",
    "    '''Parses the duration of time on drug'''\n",
    "    time_match = re.findall(r'(?<=On\\smedication\\sfor\\s)\\w+(?:\\s\\w+)*', details)\n",
    "    return time_match[0] if len(time_match) > 0 else np.nan\n",
    "\n",
    "def regex_reviewer(details):\n",
    "    '''Parses the type of reviewer'''\n",
    "    reviewer_match = re.findall(r'(?<=\\|\\s+)\\w+(?:\\s\\w+)*(?=\\s*$)', details)\n",
    "    return reviewer_match[0] if len(reviewer_match) > 0 else np.nan"
   ]
  },
  {
   "cell_type": "code",
   "execution_count": 4,
   "id": "5cc64a47",
   "metadata": {
    "execution": {
     "iopub.execute_input": "2024-03-08T23:16:35.851662Z",
     "iopub.status.busy": "2024-03-08T23:16:35.851438Z",
     "iopub.status.idle": "2024-03-08T23:16:35.859479Z",
     "shell.execute_reply": "2024-03-08T23:16:35.858484Z"
    },
    "papermill": {
     "duration": 0.013697,
     "end_time": "2024-03-08T23:16:35.861247",
     "exception": false,
     "start_time": "2024-03-08T23:16:35.847550",
     "status": "completed"
    },
    "tags": []
   },
   "outputs": [],
   "source": [
    "# parse the reviews on a single webpage\n",
    "def parse_reviews_page(soup, reviews_df):\n",
    "    '''Populates reviews_df data frame with records from 1 page's reviews\n",
    "    \n",
    "    Parameters:\n",
    "    reviews_html (str): HTML for the webpage extracted using BeautifulSoup\n",
    "    drug_name (str): the name of the drug being reviewed\n",
    "    reviews_df (pd.DataFrame): dataframe with one row per review\n",
    "    \n",
    "    Returns:\n",
    "    pd.DataFrame: reviews_df dataframe with new records appended\n",
    "    \n",
    "    '''\n",
    "    reviews_html = soup.find_all('div', class_='review-details') # get elements that hold each review\n",
    "    drug_name = re.findall(r'(.*)(?=\\sReviews)', soup.title.text)[0] # page title is drug name\n",
    "    \n",
    "    # loop over reviews from a single page\n",
    "    for i, review in enumerate(reviews_html):\n",
    "        to_append = pd.DataFrame([pd.Series([None]*len(cols), index=cols)])\n",
    "        \n",
    "        details = review.find('div', class_='details').text\n",
    "\n",
    "        to_append['drug_name'] = drug_name\n",
    "        to_append['date'] = regex_date(review)\n",
    "        to_append['age'] = regex_age(details)\n",
    "        to_append['gender'] = regex_gender(details)\n",
    "        to_append['time_on_drug'] = regex_time(details)\n",
    "        to_append['reviewer_type'] = regex_reviewer(details)\n",
    "        to_append['condition'] = regex_condition(review)\n",
    "        to_append['rating_overall'] = regex_rating_overall(review)\n",
    "        \n",
    "        for ind_cat, cat in enumerate(['effectiveness', 'ease_of_use', 'satisfaction']):\n",
    "            to_append[f'rating_{cat}'] = regex_rating_category(review, ind_cat)\n",
    "    \n",
    "        to_append['text'] = regex_text(review)\n",
    "        reviews_df = pd.concat([reviews_df, to_append], ignore_index=True)\n",
    "        \n",
    "    return reviews_df"
   ]
  },
  {
   "cell_type": "code",
   "execution_count": 5,
   "id": "cd1c06f1",
   "metadata": {
    "execution": {
     "iopub.execute_input": "2024-03-08T23:16:35.868884Z",
     "iopub.status.busy": "2024-03-08T23:16:35.868602Z",
     "iopub.status.idle": "2024-03-08T23:16:35.872857Z",
     "shell.execute_reply": "2024-03-08T23:16:35.872104Z"
    },
    "papermill": {
     "duration": 0.009898,
     "end_time": "2024-03-08T23:16:35.874504",
     "exception": false,
     "start_time": "2024-03-08T23:16:35.864606",
     "status": "completed"
    },
    "tags": []
   },
   "outputs": [],
   "source": [
    "def get_soup(review_url, page):\n",
    "    curr_url = review_url + f'&page={page}'\n",
    "    response = requests.get(curr_url, headers=headers).content\n",
    "    return BeautifulSoup(response, 'lxml')"
   ]
  },
  {
   "cell_type": "code",
   "execution_count": 6,
   "id": "4cb5efb9",
   "metadata": {
    "execution": {
     "iopub.execute_input": "2024-03-08T23:16:35.882168Z",
     "iopub.status.busy": "2024-03-08T23:16:35.881918Z",
     "iopub.status.idle": "2024-03-08T23:16:35.900608Z",
     "shell.execute_reply": "2024-03-08T23:16:35.899594Z"
    },
    "papermill": {
     "duration": 0.024552,
     "end_time": "2024-03-08T23:16:35.902436",
     "exception": false,
     "start_time": "2024-03-08T23:16:35.877884",
     "status": "completed"
    },
    "tags": []
   },
   "outputs": [],
   "source": [
    "# crawl over the review pages for one drug\n",
    "from tqdm import tqdm # progress bar\n",
    "\n",
    "def crawl_reviews_pages(review_url, reviews_df):\n",
    "    '''Crawls a drug's reviews page-by-page, saving each page's reviews into reviews_df\n",
    "    \n",
    "    Parameters:\n",
    "    reviews_df (pd.DataFrame): dataframe with one row per review\n",
    "    \n",
    "    Returns:\n",
    "    pd.DataFrame: reviews_df dataframe with new records appended\n",
    "    \n",
    "    '''\n",
    "    # find how many review pages there are total for the drug by parsing it from the first page\n",
    "    soup = get_soup(review_url, 1)\n",
    "    pages = soup.find('ul', class_='pagination')\n",
    "    last_page = int(pages.find_all('li', class_='page-item')[-1].text.strip())\n",
    "    \n",
    "    for i in tqdm(range(1, last_page+1)):\n",
    "        soup = get_soup(review_url, 1)\n",
    "        reviews_df = parse_reviews_page(soup, reviews_df)\n",
    "            \n",
    "    return reviews_df"
   ]
  },
  {
   "cell_type": "markdown",
   "id": "40c0ec20",
   "metadata": {
    "papermill": {
     "duration": 0.003,
     "end_time": "2024-03-08T23:16:35.908925",
     "exception": false,
     "start_time": "2024-03-08T23:16:35.905925",
     "status": "completed"
    },
    "tags": []
   },
   "source": [
    "## Scrape Names of Depression Drugs from WebMD List"
   ]
  },
  {
   "cell_type": "code",
   "execution_count": 7,
   "id": "0fafbc95",
   "metadata": {
    "execution": {
     "iopub.execute_input": "2024-03-08T23:16:35.916782Z",
     "iopub.status.busy": "2024-03-08T23:16:35.916470Z",
     "iopub.status.idle": "2024-03-08T23:16:36.086945Z",
     "shell.execute_reply": "2024-03-08T23:16:36.085853Z"
    },
    "papermill": {
     "duration": 0.176923,
     "end_time": "2024-03-08T23:16:36.089200",
     "exception": false,
     "start_time": "2024-03-08T23:16:35.912277",
     "status": "completed"
    },
    "tags": []
   },
   "outputs": [],
   "source": [
    "# need to spoof a browser in order to not get blocked when making request\n",
    "# https://bar.rady.ucsd.edu/Web_Scraping.html\n",
    "from bs4 import BeautifulSoup\n",
    "\n",
    "headers = requests.utils.default_headers()\n",
    "agent = 'Mozilla/5.0 (X11; Ubuntu; Linux x86_64; rv:52.0) Gecko/20100101 Firefox/52.0'\n",
    "headers.update({\n",
    "    'User-Agent': agent,\n",
    "})"
   ]
  },
  {
   "cell_type": "code",
   "execution_count": 8,
   "id": "7062deb2",
   "metadata": {
    "execution": {
     "iopub.execute_input": "2024-03-08T23:16:36.097855Z",
     "iopub.status.busy": "2024-03-08T23:16:36.097275Z",
     "iopub.status.idle": "2024-03-08T23:16:36.366498Z",
     "shell.execute_reply": "2024-03-08T23:16:36.365599Z"
    },
    "papermill": {
     "duration": 0.276116,
     "end_time": "2024-03-08T23:16:36.368865",
     "exception": false,
     "start_time": "2024-03-08T23:16:36.092749",
     "status": "completed"
    },
    "tags": []
   },
   "outputs": [],
   "source": [
    "# list of depression drugs from WebMD\n",
    "url = 'https://www.webmd.com/depression/depression-medications-antidepressants'\n",
    "response = requests.get(url, headers=headers).content\n",
    "soup = BeautifulSoup(response, 'lxml')\n",
    "drugs_section = soup.find('div', class_='article-page active-page')"
   ]
  },
  {
   "cell_type": "code",
   "execution_count": 9,
   "id": "83a9e580",
   "metadata": {
    "execution": {
     "iopub.execute_input": "2024-03-08T23:16:36.377090Z",
     "iopub.status.busy": "2024-03-08T23:16:36.376779Z",
     "iopub.status.idle": "2024-03-08T23:16:36.385281Z",
     "shell.execute_reply": "2024-03-08T23:16:36.384343Z"
    },
    "papermill": {
     "duration": 0.01463,
     "end_time": "2024-03-08T23:16:36.387022",
     "exception": false,
     "start_time": "2024-03-08T23:16:36.372392",
     "status": "completed"
    },
    "tags": []
   },
   "outputs": [],
   "source": [
    "# make empty data frame to contain values and full text from each review\n",
    "cols = ['drug_name',\n",
    "       'date',\n",
    "       'age',\n",
    "       'gender',\n",
    "       'time_on_drug',\n",
    "       'reviewer_type',\n",
    "       'condition',\n",
    "       'rating_overall',\n",
    "       'rating_effectiveness',\n",
    "       'rating_ease_of_use',\n",
    "       'rating_satisfaction',\n",
    "       'text']\n",
    "\n",
    "reviews_df = pd.DataFrame(columns=cols, index=[])"
   ]
  },
  {
   "cell_type": "code",
   "execution_count": 10,
   "id": "98541fc5",
   "metadata": {
    "execution": {
     "iopub.execute_input": "2024-03-08T23:16:36.395537Z",
     "iopub.status.busy": "2024-03-08T23:16:36.395228Z",
     "iopub.status.idle": "2024-03-08T23:33:46.601800Z",
     "shell.execute_reply": "2024-03-08T23:33:46.600915Z"
    },
    "papermill": {
     "duration": 1030.212977,
     "end_time": "2024-03-08T23:33:46.603799",
     "exception": false,
     "start_time": "2024-03-08T23:16:36.390822",
     "status": "completed"
    },
    "tags": []
   },
   "outputs": [
    {
     "name": "stdout",
     "output_type": "stream",
     "text": [
      "https://reviews.webmd.com/drugs/drugreview-64439-abilify\n"
     ]
    },
    {
     "name": "stderr",
     "output_type": "stream",
     "text": [
      "100%|██████████| 95/95 [00:54<00:00,  1.73it/s]\n"
     ]
    },
    {
     "name": "stdout",
     "output_type": "stream",
     "text": [
      "https://reviews.webmd.com/drugs/drugreview-8647-doxepin-hcl-concentrate\n"
     ]
    },
    {
     "name": "stderr",
     "output_type": "stream",
     "text": [
      "100%|██████████| 13/13 [00:07<00:00,  1.65it/s]\n"
     ]
    },
    {
     "name": "stdout",
     "output_type": "stream",
     "text": [
      "https://reviews.webmd.com/drugs/drugreview-1305-clomipramine-hcl\n"
     ]
    },
    {
     "name": "stderr",
     "output_type": "stream",
     "text": [
      "100%|██████████| 4/4 [00:02<00:00,  1.55it/s]\n"
     ]
    },
    {
     "name": "stdout",
     "output_type": "stream",
     "text": [
      "https://reviews.webmd.com/drugs/drugreview-151973-aplenzin\n"
     ]
    },
    {
     "name": "stderr",
     "output_type": "stream",
     "text": [
      "100%|██████████| 3/3 [00:02<00:00,  1.45it/s]\n"
     ]
    },
    {
     "name": "stdout",
     "output_type": "stream",
     "text": [
      "https://reviews.webmd.com/drugs/drugreview-6171-asendin-tablet\n"
     ]
    },
    {
     "name": "stderr",
     "output_type": "stream",
     "text": [
      "100%|██████████| 1/1 [00:00<00:00,  1.60it/s]\n"
     ]
    },
    {
     "name": "stdout",
     "output_type": "stream",
     "text": [
      "https://reviews.webmd.com/drugs/drugreview-6172-aventyl-capsule\n"
     ]
    },
    {
     "name": "stderr",
     "output_type": "stream",
     "text": [
      "100%|██████████| 1/1 [00:00<00:00,  1.62it/s]\n"
     ]
    },
    {
     "name": "stdout",
     "output_type": "stream",
     "text": [
      "https://reviews.webmd.com/drugs/drugreview-169290-brexpiprazole-tablet\n"
     ]
    },
    {
     "name": "stderr",
     "output_type": "stream",
     "text": [
      "100%|██████████| 1/1 [00:00<00:00,  1.89it/s]\n"
     ]
    },
    {
     "name": "stdout",
     "output_type": "stream",
     "text": [
      "https://reviews.webmd.com/drugs/drugreview-178621-caplyta\n"
     ]
    },
    {
     "name": "stderr",
     "output_type": "stream",
     "text": [
      "100%|██████████| 5/5 [00:03<00:00,  1.49it/s]\n"
     ]
    },
    {
     "name": "stdout",
     "output_type": "stream",
     "text": [
      "https://reviews.webmd.com/drugs/drugreview-1701-citalopram-hbr\n"
     ]
    },
    {
     "name": "stderr",
     "output_type": "stream",
     "text": [
      "100%|██████████| 81/81 [00:48<00:00,  1.68it/s]\n"
     ]
    },
    {
     "name": "stdout",
     "output_type": "stream",
     "text": [
      "https://reviews.webmd.com/drugs/drugreview-91491-cymbalta\n"
     ]
    },
    {
     "name": "stderr",
     "output_type": "stream",
     "text": [
      "100%|██████████| 235/235 [02:21<00:00,  1.66it/s]\n"
     ]
    },
    {
     "name": "stdout",
     "output_type": "stream",
     "text": [
      "https://reviews.webmd.com/drugs/drugreview-6750-desyrel-tablet\n"
     ]
    },
    {
     "name": "stderr",
     "output_type": "stream",
     "text": [
      "100%|██████████| 6/6 [00:03<00:00,  1.55it/s]\n"
     ]
    },
    {
     "name": "stdout",
     "output_type": "stream",
     "text": [
      "https://reviews.webmd.com/drugs/drugreview-4896-effexor-xr\n"
     ]
    },
    {
     "name": "stderr",
     "output_type": "stream",
     "text": [
      "100%|██████████| 179/179 [01:49<00:00,  1.63it/s]\n"
     ]
    },
    {
     "name": "stdout",
     "output_type": "stream",
     "text": [
      "https://reviews.webmd.com/drugs/drugreview-95354-emsam-patch-24-hours\n"
     ]
    },
    {
     "name": "stderr",
     "output_type": "stream",
     "text": [
      "100%|██████████| 4/4 [00:02<00:00,  1.47it/s]\n"
     ]
    },
    {
     "name": "stdout",
     "output_type": "stream",
     "text": [
      "https://reviews.webmd.com/drugs/drugreview-16109-etrafon-tablet\n"
     ]
    },
    {
     "name": "stderr",
     "output_type": "stream",
     "text": [
      "100%|██████████| 1/1 [00:00<00:00,  1.42it/s]\n"
     ]
    },
    {
     "name": "stdout",
     "output_type": "stream",
     "text": [
      "https://reviews.webmd.com/drugs/drugreview-1807-elavil-tablet\n"
     ]
    },
    {
     "name": "stderr",
     "output_type": "stream",
     "text": [
      "100%|██████████| 21/21 [00:13<00:00,  1.56it/s]\n"
     ]
    },
    {
     "name": "stdout",
     "output_type": "stream",
     "text": [
      "https://reviews.webmd.com/drugs/drugreview-9159-endep-tablet\n"
     ]
    },
    {
     "name": "stderr",
     "output_type": "stream",
     "text": [
      "100%|██████████| 2/2 [00:01<00:00,  1.31it/s]\n"
     ]
    },
    {
     "name": "stdout",
     "output_type": "stream",
     "text": [
      "skipping 1 drug with link https://www.webmd.com/depression/optimizing-depression-medicines\n",
      "https://reviews.webmd.com/drugs/drugreview-164859-khedezla-tablet-er-24-hr\n"
     ]
    },
    {
     "name": "stderr",
     "output_type": "stream",
     "text": [
      "100%|██████████| 1/1 [00:01<00:00,  1.20s/it]\n"
     ]
    },
    {
     "name": "stdout",
     "output_type": "stream",
     "text": [
      "https://reviews.webmd.com/drugs/drugreview-155134-latuda\n"
     ]
    },
    {
     "name": "stderr",
     "output_type": "stream",
     "text": [
      "100%|██████████| 20/20 [00:13<00:00,  1.53it/s]\n"
     ]
    },
    {
     "name": "stdout",
     "output_type": "stream",
     "text": [
      "https://reviews.webmd.com/drugs/drugreview-8486-lamictal-tablet\n"
     ]
    },
    {
     "name": "stderr",
     "output_type": "stream",
     "text": [
      "100%|██████████| 65/65 [00:40<00:00,  1.61it/s]\n"
     ]
    },
    {
     "name": "stdout",
     "output_type": "stream",
     "text": [
      "https://reviews.webmd.com/drugs/drugreview-63990-lexapro\n"
     ]
    },
    {
     "name": "stderr",
     "output_type": "stream",
     "text": [
      "100%|██████████| 215/215 [02:17<00:00,  1.56it/s]\n"
     ]
    },
    {
     "name": "stdout",
     "output_type": "stream",
     "text": [
      "https://reviews.webmd.com/drugs/drugreview-16020-limbitrol-ds-tablet\n"
     ]
    },
    {
     "name": "stderr",
     "output_type": "stream",
     "text": [
      "100%|██████████| 1/1 [00:00<00:00,  2.21it/s]\n"
     ]
    },
    {
     "name": "stdout",
     "output_type": "stream",
     "text": [
      "https://reviews.webmd.com/drugs/drugreview-11985-marplan\n"
     ]
    },
    {
     "name": "stderr",
     "output_type": "stream",
     "text": [
      "100%|██████████| 1/1 [00:00<00:00,  1.74it/s]\n"
     ]
    },
    {
     "name": "stdout",
     "output_type": "stream",
     "text": [
      "https://reviews.webmd.com/drugs/drugreview-8827-phenelzine-sulfate\n"
     ]
    },
    {
     "name": "stderr",
     "output_type": "stream",
     "text": [
      "100%|██████████| 1/1 [00:00<00:00,  1.66it/s]\n"
     ]
    },
    {
     "name": "stdout",
     "output_type": "stream",
     "text": [
      "https://reviews.webmd.com/drugs/drugreview-6936-norpramin\n"
     ]
    },
    {
     "name": "stderr",
     "output_type": "stream",
     "text": [
      "100%|██████████| 2/2 [00:01<00:00,  1.20it/s]\n"
     ]
    },
    {
     "name": "stdout",
     "output_type": "stream",
     "text": [
      "skipping 1 drug with link https://www.webmd.com/drugs/2/index\n",
      "https://reviews.webmd.com/drugs/drugreview-1820-pamelor\n"
     ]
    },
    {
     "name": "stderr",
     "output_type": "stream",
     "text": [
      "100%|██████████| 7/7 [00:04<00:00,  1.45it/s]\n"
     ]
    },
    {
     "name": "stdout",
     "output_type": "stream",
     "text": [
      "https://reviews.webmd.com/drugs/drugreview-6965-parnate\n"
     ]
    },
    {
     "name": "stderr",
     "output_type": "stream",
     "text": [
      "100%|██████████| 5/5 [00:03<00:00,  1.48it/s]\n"
     ]
    },
    {
     "name": "stdout",
     "output_type": "stream",
     "text": [
      "https://reviews.webmd.com/drugs/drugreview-6969-paroxetine-hcl-suspension-final-dose-form\n"
     ]
    },
    {
     "name": "stderr",
     "output_type": "stream",
     "text": [
      "100%|██████████| 16/16 [00:10<00:00,  1.50it/s]\n"
     ]
    },
    {
     "name": "stdout",
     "output_type": "stream",
     "text": [
      "https://reviews.webmd.com/drugs/drugreview-78102-pexeva\n"
     ]
    },
    {
     "name": "stderr",
     "output_type": "stream",
     "text": [
      "100%|██████████| 4/4 [00:02<00:00,  1.36it/s]\n"
     ]
    },
    {
     "name": "stdout",
     "output_type": "stream",
     "text": [
      "https://reviews.webmd.com/drugs/drugreview-6997-prozac-capsule\n"
     ]
    },
    {
     "name": "stderr",
     "output_type": "stream",
     "text": [
      "100%|██████████| 88/88 [00:58<00:00,  1.51it/s]\n"
     ]
    },
    {
     "name": "stdout",
     "output_type": "stream",
     "text": [
      "https://reviews.webmd.com/drugs/drugreview-150251-pristiq\n"
     ]
    },
    {
     "name": "stderr",
     "output_type": "stream",
     "text": [
      "100%|██████████| 74/74 [00:50<00:00,  1.47it/s]\n"
     ]
    },
    {
     "name": "stdout",
     "output_type": "stream",
     "text": [
      "https://reviews.webmd.com/drugs/drugreview-13706-mirtazapine-tablet\n"
     ]
    },
    {
     "name": "stderr",
     "output_type": "stream",
     "text": [
      "100%|██████████| 24/24 [00:15<00:00,  1.51it/s]\n"
     ]
    },
    {
     "name": "stdout",
     "output_type": "stream",
     "text": [
      "https://reviews.webmd.com/drugs/drugreview-19825-sarafem-capsule\n"
     ]
    },
    {
     "name": "stderr",
     "output_type": "stream",
     "text": [
      "100%|██████████| 3/3 [00:02<00:00,  1.32it/s]\n"
     ]
    },
    {
     "name": "stdout",
     "output_type": "stream",
     "text": [
      "https://reviews.webmd.com/drugs/drugreview-148614-seroquel-xr\n"
     ]
    },
    {
     "name": "stderr",
     "output_type": "stream",
     "text": [
      "100%|██████████| 17/17 [00:11<00:00,  1.43it/s]\n"
     ]
    },
    {
     "name": "stdout",
     "output_type": "stream",
     "text": [
      "https://reviews.webmd.com/drugs/drugreview-4286-nefazodone-hcl\n"
     ]
    },
    {
     "name": "stderr",
     "output_type": "stream",
     "text": [
      "100%|██████████| 2/2 [00:01<00:00,  1.47it/s]\n"
     ]
    },
    {
     "name": "stdout",
     "output_type": "stream",
     "text": [
      "https://reviews.webmd.com/drugs/drugreview-3335-sinequan-capsule\n"
     ]
    },
    {
     "name": "stderr",
     "output_type": "stream",
     "text": [
      "100%|██████████| 2/2 [00:01<00:00,  1.13it/s]\n"
     ]
    },
    {
     "name": "stdout",
     "output_type": "stream",
     "text": [
      "https://reviews.webmd.com/drugs/drugreview-176955-spravato-spray-non-aerosol\n"
     ]
    },
    {
     "name": "stderr",
     "output_type": "stream",
     "text": [
      "100%|██████████| 2/2 [00:01<00:00,  1.35it/s]\n"
     ]
    },
    {
     "name": "stdout",
     "output_type": "stream",
     "text": [
      "https://reviews.webmd.com/drugs/drugreview-7032-trimipramine-maleate\n"
     ]
    },
    {
     "name": "stderr",
     "output_type": "stream",
     "text": [
      "100%|██████████| 1/1 [00:00<00:00,  1.71it/s]\n"
     ]
    },
    {
     "name": "stdout",
     "output_type": "stream",
     "text": [
      "https://reviews.webmd.com/drugs/drugreview-78212-symbyax\n"
     ]
    },
    {
     "name": "stderr",
     "output_type": "stream",
     "text": [
      "100%|██████████| 7/7 [00:05<00:00,  1.27it/s]\n"
     ]
    },
    {
     "name": "stdout",
     "output_type": "stream",
     "text": [
      "https://reviews.webmd.com/drugs/drugreview-7047-tofranil-tablet\n"
     ]
    },
    {
     "name": "stderr",
     "output_type": "stream",
     "text": [
      "100%|██████████| 3/3 [00:02<00:00,  1.27it/s]\n"
     ]
    },
    {
     "name": "stdout",
     "output_type": "stream",
     "text": [
      "https://reviews.webmd.com/drugs/drugreview-57378-triavil-tablet\n"
     ]
    },
    {
     "name": "stderr",
     "output_type": "stream",
     "text": [
      "100%|██████████| 1/1 [00:00<00:00,  1.89it/s]\n"
     ]
    },
    {
     "name": "stdout",
     "output_type": "stream",
     "text": [
      "https://reviews.webmd.com/drugs/drugreview-167367-trintellix\n"
     ]
    },
    {
     "name": "stderr",
     "output_type": "stream",
     "text": [
      "100%|██████████| 8/8 [00:05<00:00,  1.37it/s]\n"
     ]
    },
    {
     "name": "stdout",
     "output_type": "stream",
     "text": [
      "https://reviews.webmd.com/drugs/drugreview-155880-viibryd\n"
     ]
    },
    {
     "name": "stderr",
     "output_type": "stream",
     "text": [
      "100%|██████████| 46/46 [00:30<00:00,  1.50it/s]\n"
     ]
    },
    {
     "name": "stdout",
     "output_type": "stream",
     "text": [
      "https://reviews.webmd.com/drugs/drugreview-12169-vivactil-tablet\n"
     ]
    },
    {
     "name": "stderr",
     "output_type": "stream",
     "text": [
      "100%|██████████| 1/1 [00:00<00:00,  1.64it/s]\n"
     ]
    },
    {
     "name": "stdout",
     "output_type": "stream",
     "text": [
      "https://reviews.webmd.com/drugs/drugreview-170027-vraylar\n"
     ]
    },
    {
     "name": "stderr",
     "output_type": "stream",
     "text": [
      "100%|██████████| 4/4 [00:02<00:00,  1.42it/s]\n"
     ]
    },
    {
     "name": "stdout",
     "output_type": "stream",
     "text": [
      "https://reviews.webmd.com/drugs/drugreview-13509-wellbutrin-tablet\n"
     ]
    },
    {
     "name": "stderr",
     "output_type": "stream",
     "text": [
      "100%|██████████| 42/42 [00:29<00:00,  1.40it/s]\n"
     ]
    },
    {
     "name": "stdout",
     "output_type": "stream",
     "text": [
      "https://reviews.webmd.com/drugs/drugreview-35-zoloft\n"
     ]
    },
    {
     "name": "stderr",
     "output_type": "stream",
     "text": [
      "100%|██████████| 140/140 [01:35<00:00,  1.47it/s]\n"
     ]
    },
    {
     "name": "stdout",
     "output_type": "stream",
     "text": [
      "https://reviews.webmd.com/drugs/drugreview-1699-zyprexa\n"
     ]
    },
    {
     "name": "stderr",
     "output_type": "stream",
     "text": [
      "100%|██████████| 25/25 [00:17<00:00,  1.40it/s]\n"
     ]
    }
   ],
   "source": [
    "# TODO: change parsing so that it looks for reviews.webmd.com in case ordering of tabs changes\n",
    "for drug in drugs_section.find_all('p'):\n",
    "    link = drug.a.get('href')\n",
    "    response = requests.get(link, headers=headers, allow_redirects=True)\n",
    "    \n",
    "    # if the link on the depression medications page redirects to a generic page (no dedicated page for the drug exists), skip it\n",
    "    new_link = response.url\n",
    "    redirected_links = ['https://www.webmd.com/depression/optimizing-depression-medicines',\n",
    "                       'https://www.webmd.com/drugs/2/index']\n",
    "    if new_link in redirected_links:\n",
    "        print(f'skipping 1 drug with link {new_link}')\n",
    "        continue\n",
    "        \n",
    "    # the link for Vraylar leads to search results, but with only 1 result - load that result page\n",
    "    if new_link == 'https://www.webmd.com/drugs/2/search?type=drugs&query=vraylar':\n",
    "        vraylar_link = 'https://www.webmd.com/drugs/2/drug-170027/vraylar-oral/details'\n",
    "        response = requests.get(vraylar_link, headers=headers, allow_redirects=True)\n",
    "    \n",
    "    drug_page = BeautifulSoup(response.content, 'lxml')\n",
    "    \n",
    "    drug_review_element = drug_page.find('ul', class_='auto-tabs').find_all('li')[-1] # get the data for the last tab, Reviews\n",
    "    review_url = drug_review_element.a.get('href')\n",
    "        \n",
    "    print(review_url)\n",
    "    reviews_df = crawl_reviews_pages(review_url, reviews_df)\n",
    "    \n",
    "reviews_df.to_csv('psychiatric_drug_webmd_reviews.csv')"
   ]
  },
  {
   "cell_type": "markdown",
   "id": "8e7af702",
   "metadata": {
    "papermill": {
     "duration": 0.095508,
     "end_time": "2024-03-08T23:33:46.795415",
     "exception": false,
     "start_time": "2024-03-08T23:33:46.699907",
     "status": "completed"
    },
    "tags": []
   },
   "source": [
    "\n"
   ]
  }
 ],
 "metadata": {
  "kaggle": {
   "accelerator": "none",
   "dataSources": [],
   "dockerImageVersionId": 30587,
   "isGpuEnabled": false,
   "isInternetEnabled": true,
   "language": "python",
   "sourceType": "notebook"
  },
  "kernelspec": {
   "display_name": "Python 3",
   "language": "python",
   "name": "python3"
  },
  "language_info": {
   "codemirror_mode": {
    "name": "ipython",
    "version": 3
   },
   "file_extension": ".py",
   "mimetype": "text/x-python",
   "name": "python",
   "nbconvert_exporter": "python",
   "pygments_lexer": "ipython3",
   "version": "3.10.12"
  },
  "papermill": {
   "default_parameters": {},
   "duration": 1035.616664,
   "end_time": "2024-03-08T23:33:47.415567",
   "environment_variables": {},
   "exception": null,
   "input_path": "__notebook__.ipynb",
   "output_path": "__notebook__.ipynb",
   "parameters": {},
   "start_time": "2024-03-08T23:16:31.798903",
   "version": "2.4.0"
  }
 },
 "nbformat": 4,
 "nbformat_minor": 5
}
