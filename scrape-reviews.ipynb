{
 "cells": [
  {
   "cell_type": "markdown",
   "id": "2c8d0615",
   "metadata": {
    "papermill": {
     "duration": 0.007489,
     "end_time": "2024-03-11T18:04:59.693674",
     "exception": false,
     "start_time": "2024-03-11T18:04:59.686185",
     "status": "completed"
    },
    "tags": []
   },
   "source": [
    "# Scraping WebMD Drug Reviews\n",
    "## Introduction\n",
    "While documents from medical encounters are safeguarded by laws such as HIPAA in the United States, there are a number of public websites where patients are nonetheless sharing health information that may prove valuable as a data source. One such site is WebMD, which provides a database of prescription drugs and solicits reviews from patients about their experience with the medications.\n",
    "\n",
    "Python's `requests` and `BeautifulSoup` libraries make it relatively simple to scrape data from any webpage, and this notebook can be used with only a few modifications to collect user reviews for any medication in WebMD's database for use in downstream analysis. Each review consists of demographic information about the patient, a set of ratings on a scale of 1 to 5 stars, and unstructured text.\n",
    "\n",
    "This notebook focuses on compiling reviews for various medications used to treat depression. Because psychoactive medication works to alter people's thoughts, feelings, and behavior, firsthand narratives written by patients taking these medications are especially valuable as a source of insight into how well a treatment worked and possible explanations as to why."
   ]
  },
  {
   "cell_type": "markdown",
   "id": "4341c50e",
   "metadata": {
    "papermill": {
     "duration": 0.006286,
     "end_time": "2024-03-11T18:04:59.710155",
     "exception": false,
     "start_time": "2024-03-11T18:04:59.703869",
     "status": "completed"
    },
    "tags": []
   },
   "source": [
    "## Setup"
   ]
  },
  {
   "cell_type": "code",
   "execution_count": 1,
   "id": "87c9f85c",
   "metadata": {
    "execution": {
     "iopub.execute_input": "2024-03-11T18:04:59.725944Z",
     "iopub.status.busy": "2024-03-11T18:04:59.725115Z",
     "iopub.status.idle": "2024-03-11T18:05:00.969665Z",
     "shell.execute_reply": "2024-03-11T18:05:00.968112Z"
    },
    "papermill": {
     "duration": 1.256783,
     "end_time": "2024-03-11T18:05:00.973491",
     "exception": false,
     "start_time": "2024-03-11T18:04:59.716708",
     "status": "completed"
    },
    "tags": []
   },
   "outputs": [],
   "source": [
    "# imports\n",
    "import requests\n",
    "import numpy as np\n",
    "import pandas as pd\n",
    "import regex as re"
   ]
  },
  {
   "cell_type": "markdown",
   "id": "fec2d7f9",
   "metadata": {
    "papermill": {
     "duration": 0.006588,
     "end_time": "2024-03-11T18:05:00.989024",
     "exception": false,
     "start_time": "2024-03-11T18:05:00.982436",
     "status": "completed"
    },
    "tags": []
   },
   "source": [
    "## Functions"
   ]
  },
  {
   "cell_type": "code",
   "execution_count": 2,
   "id": "14312085",
   "metadata": {
    "execution": {
     "iopub.execute_input": "2024-03-11T18:05:01.005437Z",
     "iopub.status.busy": "2024-03-11T18:05:01.004473Z",
     "iopub.status.idle": "2024-03-11T18:05:01.019290Z",
     "shell.execute_reply": "2024-03-11T18:05:01.017787Z"
    },
    "papermill": {
     "duration": 0.026675,
     "end_time": "2024-03-11T18:05:01.022134",
     "exception": false,
     "start_time": "2024-03-11T18:05:00.995459",
     "status": "completed"
    },
    "tags": []
   },
   "outputs": [],
   "source": [
    "# regular expressions for parsing data from a single review\n",
    "# elements found in review-details div\n",
    "def regex_date(review):\n",
    "    '''Parses the date of the review in format dd/mm/yyyy'''\n",
    "    return re.findall(r'\\d+/\\d+/\\d+', review.find('div', class_='date').text)[0]\n",
    "\n",
    "def regex_condition(review):\n",
    "    '''Parses the condition for which the medication is used'''\n",
    "    condition_element = review.find('strong', class_='condition')\n",
    "    condition_listed = condition_element is not None\n",
    "    if condition_listed:\n",
    "        # TODO: be able to match ''\"Change of Life\" Signs' condition\n",
    "        condition_match = re.findall(r'(?<=Condition:\\s)\\w+(?:\\s\\w+)*', condition_element.text)\n",
    "    return condition_match[0] if (condition_listed and len(condition_match) > 0) else np.nan\n",
    "\n",
    "def regex_rating_overall(review):\n",
    "    '''Parses the overall rating, the average of 3 categories'''\n",
    "    rating_overall_line = review.find('div', class_='overall-rating').strong.text\n",
    "    return re.findall(r'\\d+.\\d+', rating_overall_line)\n",
    "\n",
    "def regex_rating_category(review, ind_cat):\n",
    "    '''Parses the rating for the category at index ind_cat in ['effectiveness', 'ease_of_use', 'satisfaction']'''\n",
    "    rating_categories = review.find('div', class_='categories').find_all('section')\n",
    "    div = rating_categories[ind_cat].find('div', class_='webmd-rate on-mobile')\n",
    "    return int(div.get('aria-valuenow'))\n",
    "\n",
    "def regex_text(review):\n",
    "    '''Parses the free response text review for the drug'''\n",
    "    text_line = review.find('p', class_='description-text')\n",
    "    return text_line.text if text_line is not None else np.nan"
   ]
  },
  {
   "cell_type": "code",
   "execution_count": 3,
   "id": "ebfd39e5",
   "metadata": {
    "execution": {
     "iopub.execute_input": "2024-03-11T18:05:01.037306Z",
     "iopub.status.busy": "2024-03-11T18:05:01.036872Z",
     "iopub.status.idle": "2024-03-11T18:05:01.046444Z",
     "shell.execute_reply": "2024-03-11T18:05:01.045007Z"
    },
    "papermill": {
     "duration": 0.020708,
     "end_time": "2024-03-11T18:05:01.049400",
     "exception": false,
     "start_time": "2024-03-11T18:05:01.028692",
     "status": "completed"
    },
    "tags": []
   },
   "outputs": [],
   "source": [
    "# regular expressions for parsing data from a single review\n",
    "# elements found in details div\n",
    "def regex_age(details):\n",
    "    '''Parses the age of the medication user'''\n",
    "    age_match = re.findall(r'(?<=\\|\\s+)\\d+-\\d+', details)\n",
    "    return age_match[0] if len(age_match) > 0 else np.nan\n",
    "\n",
    "def regex_gender(details):\n",
    "    '''Parses the gender of the medication user'''\n",
    "    gender_match = re.findall(r'(?<=\\|\\s+)Male|Female', details)\n",
    "    return gender_match[0] if len(gender_match) > 0 else np.nan\n",
    "\n",
    "def regex_time(details):\n",
    "    '''Parses the duration of time on drug'''\n",
    "    time_match = re.findall(r'(?<=On\\smedication\\sfor\\s)\\w+(?:\\s\\w+)*', details)\n",
    "    return time_match[0] if len(time_match) > 0 else np.nan\n",
    "\n",
    "def regex_reviewer(details):\n",
    "    '''Parses the type of reviewer'''\n",
    "    reviewer_match = re.findall(r'(?<=\\|\\s+)\\w+(?:\\s\\w+)*(?=\\s*$)', details)\n",
    "    return reviewer_match[0] if len(reviewer_match) > 0 else np.nan"
   ]
  },
  {
   "cell_type": "code",
   "execution_count": 4,
   "id": "dd922620",
   "metadata": {
    "execution": {
     "iopub.execute_input": "2024-03-11T18:05:01.064575Z",
     "iopub.status.busy": "2024-03-11T18:05:01.064159Z",
     "iopub.status.idle": "2024-03-11T18:05:01.077065Z",
     "shell.execute_reply": "2024-03-11T18:05:01.075445Z"
    },
    "papermill": {
     "duration": 0.024528,
     "end_time": "2024-03-11T18:05:01.080420",
     "exception": false,
     "start_time": "2024-03-11T18:05:01.055892",
     "status": "completed"
    },
    "tags": []
   },
   "outputs": [],
   "source": [
    "# parse the reviews on a single webpage\n",
    "def parse_reviews_page(soup, reviews_df):\n",
    "    '''Populates reviews_df data frame with records from 1 page's reviews\n",
    "    \n",
    "    Parameters:\n",
    "    reviews_html (str): HTML for the webpage extracted using BeautifulSoup\n",
    "    drug_name (str): the name of the drug being reviewed\n",
    "    reviews_df (pd.DataFrame): dataframe with one row per review\n",
    "    \n",
    "    Returns:\n",
    "    pd.DataFrame: reviews_df dataframe with new records appended\n",
    "    \n",
    "    '''\n",
    "    reviews_html = soup.find_all('div', class_='review-details') # get elements that hold each review\n",
    "    drug_name = re.findall(r'(.*)(?=\\sReviews)', soup.title.text)[0] # page title is drug name\n",
    "    \n",
    "    # loop over reviews from a single page\n",
    "    for i, review in enumerate(reviews_html):\n",
    "        to_append = pd.DataFrame([pd.Series([None]*len(cols), index=cols)])\n",
    "        \n",
    "        details = review.find('div', class_='details').text\n",
    "\n",
    "        to_append['drug_name'] = drug_name\n",
    "        to_append['date'] = regex_date(review)\n",
    "        to_append['age'] = regex_age(details)\n",
    "        to_append['gender'] = regex_gender(details)\n",
    "        to_append['time_on_drug'] = regex_time(details)\n",
    "        to_append['reviewer_type'] = regex_reviewer(details)\n",
    "        to_append['condition'] = regex_condition(review)\n",
    "        to_append['rating_overall'] = regex_rating_overall(review)\n",
    "        \n",
    "        for ind_cat, cat in enumerate(['effectiveness', 'ease_of_use', 'satisfaction']):\n",
    "            to_append[f'rating_{cat}'] = regex_rating_category(review, ind_cat)\n",
    "    \n",
    "        to_append['text'] = regex_text(review)\n",
    "        reviews_df = pd.concat([reviews_df, to_append], ignore_index=True)\n",
    "        \n",
    "    return reviews_df"
   ]
  },
  {
   "cell_type": "code",
   "execution_count": 5,
   "id": "2045a51f",
   "metadata": {
    "execution": {
     "iopub.execute_input": "2024-03-11T18:05:01.096607Z",
     "iopub.status.busy": "2024-03-11T18:05:01.096183Z",
     "iopub.status.idle": "2024-03-11T18:05:01.104279Z",
     "shell.execute_reply": "2024-03-11T18:05:01.102375Z"
    },
    "papermill": {
     "duration": 0.019759,
     "end_time": "2024-03-11T18:05:01.107387",
     "exception": false,
     "start_time": "2024-03-11T18:05:01.087628",
     "status": "completed"
    },
    "tags": []
   },
   "outputs": [],
   "source": [
    "def get_soup(review_url, page):\n",
    "    curr_url = review_url + f'&page={page}'\n",
    "    response = requests.get(curr_url, headers=headers).content\n",
    "    return BeautifulSoup(response, 'lxml')"
   ]
  },
  {
   "cell_type": "code",
   "execution_count": 6,
   "id": "714f8e00",
   "metadata": {
    "execution": {
     "iopub.execute_input": "2024-03-11T18:05:01.123406Z",
     "iopub.status.busy": "2024-03-11T18:05:01.122384Z",
     "iopub.status.idle": "2024-03-11T18:05:01.150418Z",
     "shell.execute_reply": "2024-03-11T18:05:01.149046Z"
    },
    "papermill": {
     "duration": 0.039494,
     "end_time": "2024-03-11T18:05:01.153315",
     "exception": false,
     "start_time": "2024-03-11T18:05:01.113821",
     "status": "completed"
    },
    "tags": []
   },
   "outputs": [],
   "source": [
    "# crawl over the review pages for one drug\n",
    "from tqdm import tqdm # progress bar\n",
    "\n",
    "def crawl_reviews_pages(review_url, reviews_df):\n",
    "    '''Crawls a drug's reviews page-by-page, saving each page's reviews into reviews_df\n",
    "    \n",
    "    Parameters:\n",
    "    reviews_df (pd.DataFrame): dataframe with one row per review\n",
    "    \n",
    "    Returns:\n",
    "    pd.DataFrame: reviews_df dataframe with new records appended\n",
    "    \n",
    "    '''\n",
    "    # find how many review pages there are total for the drug by parsing it from the first page\n",
    "    soup = get_soup(review_url, 1)\n",
    "    pages = soup.find('ul', class_='pagination')\n",
    "    \n",
    "    # proceed only if there is at least 1 review\n",
    "    if pages is not None:\n",
    "        last_page = int(pages.find_all('li', class_='page-item')[-1].text.strip())\n",
    "\n",
    "        for i in tqdm(range(1, last_page+1)):\n",
    "            soup = get_soup(review_url, 1)\n",
    "            reviews_df = parse_reviews_page(soup, reviews_df)\n",
    "\n",
    "    return reviews_df"
   ]
  },
  {
   "cell_type": "markdown",
   "id": "cc95156f",
   "metadata": {
    "papermill": {
     "duration": 0.006061,
     "end_time": "2024-03-11T18:05:01.165913",
     "exception": false,
     "start_time": "2024-03-11T18:05:01.159852",
     "status": "completed"
    },
    "tags": []
   },
   "source": [
    "## Scrape Drugs by Condition from WebMD Search"
   ]
  },
  {
   "cell_type": "code",
   "execution_count": 7,
   "id": "5d5f70f6",
   "metadata": {
    "execution": {
     "iopub.execute_input": "2024-03-11T18:05:01.180804Z",
     "iopub.status.busy": "2024-03-11T18:05:01.180388Z",
     "iopub.status.idle": "2024-03-11T18:05:01.424727Z",
     "shell.execute_reply": "2024-03-11T18:05:01.423442Z"
    },
    "papermill": {
     "duration": 0.255328,
     "end_time": "2024-03-11T18:05:01.427613",
     "exception": false,
     "start_time": "2024-03-11T18:05:01.172285",
     "status": "completed"
    },
    "tags": []
   },
   "outputs": [],
   "source": [
    "# need to spoof a browser in order to not get blocked when making request\n",
    "# https://bar.rady.ucsd.edu/Web_Scraping.html\n",
    "from bs4 import BeautifulSoup\n",
    "\n",
    "headers = requests.utils.default_headers()\n",
    "agent = 'Mozilla/5.0 (X11; Ubuntu; Linux x86_64; rv:52.0) Gecko/20100101 Firefox/52.0'\n",
    "headers.update({\n",
    "    'User-Agent': agent,\n",
    "})"
   ]
  },
  {
   "cell_type": "code",
   "execution_count": 8,
   "id": "8cb3e40e",
   "metadata": {
    "execution": {
     "iopub.execute_input": "2024-03-11T18:05:01.445761Z",
     "iopub.status.busy": "2024-03-11T18:05:01.445036Z",
     "iopub.status.idle": "2024-03-11T18:05:01.457007Z",
     "shell.execute_reply": "2024-03-11T18:05:01.456012Z"
    },
    "papermill": {
     "duration": 0.023438,
     "end_time": "2024-03-11T18:05:01.459433",
     "exception": false,
     "start_time": "2024-03-11T18:05:01.435995",
     "status": "completed"
    },
    "tags": []
   },
   "outputs": [],
   "source": [
    "# make empty data frame to contain values and full text from each review\n",
    "cols = ['drug_name',\n",
    "       'date',\n",
    "       'age',\n",
    "       'gender',\n",
    "       'time_on_drug',\n",
    "       'reviewer_type',\n",
    "       'condition',\n",
    "       'rating_overall',\n",
    "       'rating_effectiveness',\n",
    "       'rating_ease_of_use',\n",
    "       'rating_satisfaction',\n",
    "       'text']\n",
    "\n",
    "reviews_df = pd.DataFrame(columns=cols, index=[])"
   ]
  },
  {
   "cell_type": "code",
   "execution_count": 9,
   "id": "21251127",
   "metadata": {
    "execution": {
     "iopub.execute_input": "2024-03-11T18:05:01.475011Z",
     "iopub.status.busy": "2024-03-11T18:05:01.474633Z",
     "iopub.status.idle": "2024-03-11T18:05:01.478864Z",
     "shell.execute_reply": "2024-03-11T18:05:01.477990Z"
    },
    "papermill": {
     "duration": 0.014971,
     "end_time": "2024-03-11T18:05:01.481246",
     "exception": false,
     "start_time": "2024-03-11T18:05:01.466275",
     "status": "completed"
    },
    "tags": []
   },
   "outputs": [],
   "source": [
    "# # list of depression drugs from WebMD\n",
    "# url = 'https://www.webmd.com/depression/depression-medications-antidepressants'\n",
    "# response = requests.get(url, headers=headers).content\n",
    "# soup = BeautifulSoup(response, 'lxml')\n",
    "# drugs_section = soup.find('div', class_='article-page active-page')"
   ]
  },
  {
   "cell_type": "code",
   "execution_count": 10,
   "id": "6058217f",
   "metadata": {
    "execution": {
     "iopub.execute_input": "2024-03-11T18:05:01.497586Z",
     "iopub.status.busy": "2024-03-11T18:05:01.497104Z",
     "iopub.status.idle": "2024-03-11T18:05:03.342527Z",
     "shell.execute_reply": "2024-03-11T18:05:03.341002Z"
    },
    "papermill": {
     "duration": 1.857796,
     "end_time": "2024-03-11T18:05:03.346324",
     "exception": false,
     "start_time": "2024-03-11T18:05:01.488528",
     "status": "completed"
    },
    "tags": []
   },
   "outputs": [],
   "source": [
    "# use WebMD's search to find drugs by illness\n",
    "review_urls = []\n",
    "\n",
    "conditions = {'anxiety': 'https://www.webmd.com/drugs/2/condition-967/anxiety',\n",
    "             'depression': 'https://www.webmd.com/drugs/2/condition-1022/depression',\n",
    "             'anxiety with depression': 'https://www.webmd.com/drugs/2/condition-978/anxiety-with-depression',\n",
    "             'bipolar disorder': 'https://www.webmd.com/drugs/2/condition-954/bipolar-disorder',\n",
    "             'schizophrenia': 'https://www.webmd.com/drugs/2/condition-948/schizophrenia'}\n",
    "\n",
    "for url in conditions.values():\n",
    "    response = requests.get(url, headers=headers).content\n",
    "    soup = BeautifulSoup(response, 'lxml')\n",
    "    drugs_section = soup.find('div', class_='medication-results-list')\n",
    "\n",
    "    for drug_review_element in drugs_section.find_all('span', class_='reviews-url'):\n",
    "        review_urls.append(drug_review_element.a.get('href'))\n",
    "\n",
    "# because there is a lot of overlap in medications between conditions, get unique values\n",
    "review_urls = np.unique(review_urls)"
   ]
  },
  {
   "cell_type": "code",
   "execution_count": 11,
   "id": "96d7ebcf",
   "metadata": {
    "execution": {
     "iopub.execute_input": "2024-03-11T18:05:03.363772Z",
     "iopub.status.busy": "2024-03-11T18:05:03.362342Z",
     "iopub.status.idle": "2024-03-11T18:05:03.378248Z",
     "shell.execute_reply": "2024-03-11T18:05:03.376723Z"
    },
    "papermill": {
     "duration": 0.028471,
     "end_time": "2024-03-11T18:05:03.382081",
     "exception": false,
     "start_time": "2024-03-11T18:05:03.353610",
     "status": "completed"
    },
    "tags": []
   },
   "outputs": [
    {
     "data": {
      "text/plain": [
       "array(['https://reviews.webmd.com/drugs/drugreview-1-sertraline-hcl',\n",
       "       'https://reviews.webmd.com/drugs/drugreview-10024-vanatrip-tablet',\n",
       "       'https://reviews.webmd.com/drugs/drugreview-10341-haloperidol-intensol-concentrate',\n",
       "       'https://reviews.webmd.com/drugs/drugreview-10405-thiothixene-hcl-capsule',\n",
       "       'https://reviews.webmd.com/drugs/drugreview-1049-fluvoxamine-maleate',\n",
       "       'https://reviews.webmd.com/drugs/drugreview-1049-fluvoxamine-maleate-er',\n",
       "       'https://reviews.webmd.com/drugs/drugreview-10610-diazepam-syringe',\n",
       "       'https://reviews.webmd.com/drugs/drugreview-10710-nortriptyline-hcl',\n",
       "       'https://reviews.webmd.com/drugs/drugreview-1089-luvox-tablet',\n",
       "       'https://reviews.webmd.com/drugs/drugreview-10962-epitol',\n",
       "       'https://reviews.webmd.com/drugs/drugreview-10991-atretol-tablet',\n",
       "       'https://reviews.webmd.com/drugs/drugreview-11034-amoxapine',\n",
       "       'https://reviews.webmd.com/drugs/drugreview-11066-haloperidol-lactate-vial',\n",
       "       'https://reviews.webmd.com/drugs/drugreview-11108-elavil-solution',\n",
       "       'https://reviews.webmd.com/drugs/drugreview-11116-valium',\n",
       "       'https://reviews.webmd.com/drugs/drugreview-11515-thorazine-solution',\n",
       "       'https://reviews.webmd.com/drugs/drugreview-11516-trifluoperazine-solution',\n",
       "       'https://reviews.webmd.com/drugs/drugreview-11519-stelazine-solution',\n",
       "       'https://reviews.webmd.com/drugs/drugreview-11647-lithonate-capsule',\n",
       "       'https://reviews.webmd.com/drugs/drugreview-11980-haloperidol-lactate',\n",
       "       'https://reviews.webmd.com/drugs/drugreview-11998-trifluoperazine-hcl',\n",
       "       'https://reviews.webmd.com/drugs/drugreview-12167-protriptyline-hcl',\n",
       "       'https://reviews.webmd.com/drugs/drugreview-12169-vivactil-tablet',\n",
       "       'https://reviews.webmd.com/drugs/drugreview-1305-clomipramine-hcl',\n",
       "       'https://reviews.webmd.com/drugs/drugreview-132-poxi-capsule',\n",
       "       'https://reviews.webmd.com/drugs/drugreview-13507-bupropion-hcl',\n",
       "       'https://reviews.webmd.com/drugs/drugreview-13507-bupropion-hcl-sr',\n",
       "       'https://reviews.webmd.com/drugs/drugreview-13507-bupropion-xl',\n",
       "       'https://reviews.webmd.com/drugs/drugreview-13509-wellbutrin-tablet',\n",
       "       'https://reviews.webmd.com/drugs/drugreview-13539-vistacot-solution',\n",
       "       'https://reviews.webmd.com/drugs/drugreview-13540-vistazine-solution',\n",
       "       'https://reviews.webmd.com/drugs/drugreview-13541-hyzine-solution',\n",
       "       'https://reviews.webmd.com/drugs/drugreview-13720-hy-pam-capsule',\n",
       "       'https://reviews.webmd.com/drugs/drugreview-13881-chlorpromazine-hcl-ampul',\n",
       "       'https://reviews.webmd.com/drugs/drugreview-14016-tranxene-t-tab',\n",
       "       'https://reviews.webmd.com/drugs/drugreview-14211-wellbutrin-sr',\n",
       "       'https://reviews.webmd.com/drugs/drugreview-14218-thsc-desipramine-hcl-tablet',\n",
       "       'https://reviews.webmd.com/drugs/drugreview-14227-thsc-hydroxyzine-hcl-tablet',\n",
       "       'https://reviews.webmd.com/drugs/drugreview-14232-thsc-diazepam-tablet',\n",
       "       'https://reviews.webmd.com/drugs/drugreview-14349-amitriptyline-solution',\n",
       "       'https://reviews.webmd.com/drugs/drugreview-14374-lithium-citrate',\n",
       "       'https://reviews.webmd.com/drugs/drugreview-14375-loxapine',\n",
       "       'https://reviews.webmd.com/drugs/drugreview-14398-valproic-acid',\n",
       "       'https://reviews.webmd.com/drugs/drugreview-1444-chlorpromazine-hcl',\n",
       "       'https://reviews.webmd.com/drugs/drugreview-14460-fluphenazine-decanoate-vial',\n",
       "       'https://reviews.webmd.com/drugs/drugreview-144686-abilify-discmelt-tablet-disintegrating',\n",
       "       'https://reviews.webmd.com/drugs/drugreview-14541-diazepam',\n",
       "       'https://reviews.webmd.com/drugs/drugreview-14588-lorazepam-intensol',\n",
       "       'https://reviews.webmd.com/drugs/drugreview-146479-aripiprazole-solution',\n",
       "       'https://reviews.webmd.com/drugs/drugreview-146479-aripiprazole-suspension-er-reconstituted-suspension-reconstituted',\n",
       "       'https://reviews.webmd.com/drugs/drugreview-146637-budeprion-xl-tablet-er-24-hr',\n",
       "       'https://reviews.webmd.com/drugs/drugreview-146718-paliperidone-er',\n",
       "       'https://reviews.webmd.com/drugs/drugreview-146745-invega',\n",
       "       'https://reviews.webmd.com/drugs/drugreview-14677-haldol-ampul',\n",
       "       'https://reviews.webmd.com/drugs/drugreview-14752-dizac-emulsion',\n",
       "       'https://reviews.webmd.com/drugs/drugreview-14829-etrafon-forte-tablet',\n",
       "       'https://reviews.webmd.com/drugs/drugreview-148614-seroquel-xr',\n",
       "       'https://reviews.webmd.com/drugs/drugreview-1493-carbamazepine',\n",
       "       'https://reviews.webmd.com/drugs/drugreview-1493-carbamazepine-er',\n",
       "       'https://reviews.webmd.com/drugs/drugreview-150188-luvox-cr-capsule-24-hr-capsule-er-hr',\n",
       "       'https://reviews.webmd.com/drugs/drugreview-1502-tegretol',\n",
       "       'https://reviews.webmd.com/drugs/drugreview-150519-selfemra-capsule',\n",
       "       'https://reviews.webmd.com/drugs/drugreview-151904-risperidone-odt-tablet-disintegrating',\n",
       "       'https://reviews.webmd.com/drugs/drugreview-151959-bupropion-hbr-tablet-er-24-hr',\n",
       "       'https://reviews.webmd.com/drugs/drugreview-151973-aplenzin',\n",
       "       'https://reviews.webmd.com/drugs/drugreview-152294-risperidone-m-tab-tablet-disintegrating',\n",
       "       'https://reviews.webmd.com/drugs/drugreview-152780-paliperidone-palmitate-syringe',\n",
       "       'https://reviews.webmd.com/drugs/drugreview-152807-invega-sustenna-syringe',\n",
       "       'https://reviews.webmd.com/drugs/drugreview-152900-asenapine-maleate-tablet',\n",
       "       'https://reviews.webmd.com/drugs/drugreview-152902-saphris-tablet',\n",
       "       'https://reviews.webmd.com/drugs/drugreview-153411-iloperidone-tablet',\n",
       "       'https://reviews.webmd.com/drugs/drugreview-153413-fanapt',\n",
       "       'https://reviews.webmd.com/drugs/drugreview-153606-olanzapine-pamoate-suspension-for-reconstitution',\n",
       "       'https://reviews.webmd.com/drugs/drugreview-153611-zyprexa-relprevv-vial',\n",
       "       'https://reviews.webmd.com/drugs/drugreview-155126-lurasidone-hcl',\n",
       "       'https://reviews.webmd.com/drugs/drugreview-155134-latuda',\n",
       "       'https://reviews.webmd.com/drugs/drugreview-15609-duo-vil-tablet',\n",
       "       'https://reviews.webmd.com/drugs/drugreview-15610-duo-vil-tablet',\n",
       "       'https://reviews.webmd.com/drugs/drugreview-16020-limbitrol-ds-tablet',\n",
       "       'https://reviews.webmd.com/drugs/drugreview-1609-zyban-tablet-er-12-hr',\n",
       "       'https://reviews.webmd.com/drugs/drugreview-1610-bupropion-smoking-deter-tablet-er',\n",
       "       'https://reviews.webmd.com/drugs/drugreview-16109-etrafon-tablet',\n",
       "       'https://reviews.webmd.com/drugs/drugreview-162178-forfivo-xl',\n",
       "       'https://reviews.webmd.com/drugs/drugreview-162761-saphris-black-cherry-tablet',\n",
       "       'https://reviews.webmd.com/drugs/drugreview-163174-loxapine-breath-activated-powder-inhaler',\n",
       "       'https://reviews.webmd.com/drugs/drugreview-163617-abilify-maintena-suspension-er-vial',\n",
       "       'https://reviews.webmd.com/drugs/drugreview-1644-olanzapine',\n",
       "       'https://reviews.webmd.com/drugs/drugreview-1644-olanzapine-odt',\n",
       "       'https://reviews.webmd.com/drugs/drugreview-165650-adasuve-10-mg-breath-activated',\n",
       "       'https://reviews.webmd.com/drugs/drugreview-16685-midazolam-hcl',\n",
       "       'https://reviews.webmd.com/drugs/drugreview-16693-versed-syrup',\n",
       "       'https://reviews.webmd.com/drugs/drugreview-168817-paliperidone-palm-3-month-syringe',\n",
       "       'https://reviews.webmd.com/drugs/drugreview-168839-irenka-capsule-delayed-release-enteric-coated-capsule-delayed-e-c',\n",
       "       'https://reviews.webmd.com/drugs/drugreview-168884-invega-trinza-syringe',\n",
       "       'https://reviews.webmd.com/drugs/drugreview-169290-brexpiprazole-tablet',\n",
       "       'https://reviews.webmd.com/drugs/drugreview-169294-rexulti',\n",
       "       'https://reviews.webmd.com/drugs/drugreview-1699-zyprexa',\n",
       "       'https://reviews.webmd.com/drugs/drugreview-169917-cariprazine-capsule',\n",
       "       'https://reviews.webmd.com/drugs/drugreview-170027-vraylar',\n",
       "       'https://reviews.webmd.com/drugs/drugreview-170036-aripiprazole-lauroxil-suspension-er-syringe',\n",
       "       'https://reviews.webmd.com/drugs/drugreview-170041-aristada-suspension-er-syringe',\n",
       "       'https://reviews.webmd.com/drugs/drugreview-1701-citalopram-hbr',\n",
       "       'https://reviews.webmd.com/drugs/drugreview-171383-bupropion-hcl-sr',\n",
       "       'https://reviews.webmd.com/drugs/drugreview-175570-aripiprazole-lauroxil-submicr-suspension-er-syringe',\n",
       "       'https://reviews.webmd.com/drugs/drugreview-175572-aristada-initio-suspension-er-syringe',\n",
       "       'https://reviews.webmd.com/drugs/drugreview-175840-risperidone-suspension-er-syringe',\n",
       "       'https://reviews.webmd.com/drugs/drugreview-175842-perseris-suspension-er-syringe',\n",
       "       'https://reviews.webmd.com/drugs/drugreview-176467-abilify-mycite',\n",
       "       'https://reviews.webmd.com/drugs/drugreview-1774-fluoxetine-dr',\n",
       "       'https://reviews.webmd.com/drugs/drugreview-1774-fluoxetine-hcl',\n",
       "       'https://reviews.webmd.com/drugs/drugreview-1776-anafranil',\n",
       "       'https://reviews.webmd.com/drugs/drugreview-177632-drizalma-sprinkle',\n",
       "       'https://reviews.webmd.com/drugs/drugreview-178265-asenapine-patch-24-hours',\n",
       "       'https://reviews.webmd.com/drugs/drugreview-178490-secuado-patch-24-hours',\n",
       "       'https://reviews.webmd.com/drugs/drugreview-178552-lumateperone-capsule',\n",
       "       'https://reviews.webmd.com/drugs/drugreview-178621-caplyta',\n",
       "       'https://reviews.webmd.com/drugs/drugreview-1807-elavil-tablet',\n",
       "       'https://reviews.webmd.com/drugs/drugreview-181130-abilify-mycite',\n",
       "       'https://reviews.webmd.com/drugs/drugreview-181133-abilify-mycite',\n",
       "       'https://reviews.webmd.com/drugs/drugreview-181599-olanzapine-samidorphan-tablet',\n",
       "       'https://reviews.webmd.com/drugs/drugreview-181659-lybalvi',\n",
       "       'https://reviews.webmd.com/drugs/drugreview-1820-pamelor',\n",
       "       'https://reviews.webmd.com/drugs/drugreview-182212-loreev-xr',\n",
       "       'https://reviews.webmd.com/drugs/drugreview-182269-paliperidone-palm-6-month-syringe',\n",
       "       'https://reviews.webmd.com/drugs/drugreview-182300-invega-hafyera-syringe',\n",
       "       'https://reviews.webmd.com/drugs/drugreview-18354-tranxene-sd-tablet-er',\n",
       "       'https://reviews.webmd.com/drugs/drugreview-184446-venlafaxine-besylate-er',\n",
       "       'https://reviews.webmd.com/drugs/drugreview-186559-aripiprazole-2-month-suspension-er-syringe',\n",
       "       'https://reviews.webmd.com/drugs/drugreview-186560-abilify-asimtufii-suspension-er-syringe',\n",
       "       'https://reviews.webmd.com/drugs/drugreview-186581-risperidone-suspension-er-syringe',\n",
       "       'https://reviews.webmd.com/drugs/drugreview-186641-uzedy-suspension-er-syringe',\n",
       "       'https://reviews.webmd.com/drugs/drugreview-187422-rykindo-vial',\n",
       "       'https://reviews.webmd.com/drugs/drugreview-1919-chlordiazepoxide-amitriptyline',\n",
       "       'https://reviews.webmd.com/drugs/drugreview-19220-chlormezanone-tablet',\n",
       "       'https://reviews.webmd.com/drugs/drugreview-19227-trancopal-tablet',\n",
       "       'https://reviews.webmd.com/drugs/drugreview-19342-thsc-lorazepam-tablet',\n",
       "       'https://reviews.webmd.com/drugs/drugreview-19825-sarafem-capsule',\n",
       "       'https://reviews.webmd.com/drugs/drugreview-19876-zyprexa-zydis',\n",
       "       'https://reviews.webmd.com/drugs/drugreview-20568-ziprasidone-hcl',\n",
       "       'https://reviews.webmd.com/drugs/drugreview-20575-geodon',\n",
       "       'https://reviews.webmd.com/drugs/drugreview-209-adapin-capsule',\n",
       "       'https://reviews.webmd.com/drugs/drugreview-21670-fluoxetine-capsule',\n",
       "       'https://reviews.webmd.com/drugs/drugreview-21672-rapiflux-tablet',\n",
       "       'https://reviews.webmd.com/drugs/drugreview-2202-chlordiazepoxide-amitriptyline-tablet',\n",
       "       'https://reviews.webmd.com/drugs/drugreview-22834-paxil-cr-tablet-er-24-hr',\n",
       "       'https://reviews.webmd.com/drugs/drugreview-2846-perphenazine-amitriptyline',\n",
       "       'https://reviews.webmd.com/drugs/drugreview-32651-chlordiazepoxide-tablet',\n",
       "       'https://reviews.webmd.com/drugs/drugreview-32900-paxil-cr',\n",
       "       'https://reviews.webmd.com/drugs/drugreview-3335-sinequan-capsule',\n",
       "       'https://reviews.webmd.com/drugs/drugreview-3335-sinequan-concentrate',\n",
       "       'https://reviews.webmd.com/drugs/drugreview-35-zoloft',\n",
       "       'https://reviews.webmd.com/drugs/drugreview-3775-hydroxyzine-hcl-vial',\n",
       "       'https://reviews.webmd.com/drugs/drugreview-3791-eskalith-cr-tablet-er',\n",
       "       'https://reviews.webmd.com/drugs/drugreview-4365-acebutolol-hcl',\n",
       "       'https://reviews.webmd.com/drugs/drugreview-4689-quetiapine-fumarate',\n",
       "       'https://reviews.webmd.com/drugs/drugreview-4689-quetiapine-fumarate-er',\n",
       "       'https://reviews.webmd.com/drugs/drugreview-4718-seroquel',\n",
       "       'https://reviews.webmd.com/drugs/drugreview-48-prolixin-decanoate-solution',\n",
       "       'https://reviews.webmd.com/drugs/drugreview-4870-venlafaxine-hcl',\n",
       "       'https://reviews.webmd.com/drugs/drugreview-4870-venlafaxine-hcl-er',\n",
       "       'https://reviews.webmd.com/drugs/drugreview-4896-effexor-xr',\n",
       "       'https://reviews.webmd.com/drugs/drugreview-5044-fluphenazine-hcl',\n",
       "       'https://reviews.webmd.com/drugs/drugreview-5044-fluphenazine-hcl-concentrate',\n",
       "       'https://reviews.webmd.com/drugs/drugreview-5044-fluphenazine-hcl-elixir',\n",
       "       'https://reviews.webmd.com/drugs/drugreview-5263-librium-capsule',\n",
       "       'https://reviews.webmd.com/drugs/drugreview-53-vistaril-solution',\n",
       "       'https://reviews.webmd.com/drugs/drugreview-5419-haldol-tablet',\n",
       "       'https://reviews.webmd.com/drugs/drugreview-5480-fluphenazine-enanthate-solution',\n",
       "       'https://reviews.webmd.com/drugs/drugreview-5511-atarax-tablet',\n",
       "       'https://reviews.webmd.com/drugs/drugreview-5544-loxitane-capsule',\n",
       "       'https://reviews.webmd.com/drugs/drugreview-5554-loxitane-solution',\n",
       "       'https://reviews.webmd.com/drugs/drugreview-5555-loxapine-hcl-solution',\n",
       "       'https://reviews.webmd.com/drugs/drugreview-5556-loxitane-c-concentrate',\n",
       "       'https://reviews.webmd.com/drugs/drugreview-5557-loxapine-hcl-concentrate',\n",
       "       'https://reviews.webmd.com/drugs/drugreview-57007-sk-lygen-capsule',\n",
       "       'https://reviews.webmd.com/drugs/drugreview-57008-a-poxide-capsule',\n",
       "       'https://reviews.webmd.com/drugs/drugreview-57009-cdp-capsule',\n",
       "       'https://reviews.webmd.com/drugs/drugreview-57010-icn-azepox-capsule',\n",
       "       'https://reviews.webmd.com/drugs/drugreview-57011-sereen-capsule',\n",
       "       'https://reviews.webmd.com/drugs/drugreview-57012-lipoxide-capsule',\n",
       "       'https://reviews.webmd.com/drugs/drugreview-57013-kenrax-capsule',\n",
       "       'https://reviews.webmd.com/drugs/drugreview-57014-chlor-pox-capsule',\n",
       "       'https://reviews.webmd.com/drugs/drugreview-57015-libaca-capsule',\n",
       "       'https://reviews.webmd.com/drugs/drugreview-57016-calmium-capsule',\n",
       "       'https://reviews.webmd.com/drugs/drugreview-57017-murcil-capsule',\n",
       "       'https://reviews.webmd.com/drugs/drugreview-57018-mitran-capsule',\n",
       "       'https://reviews.webmd.com/drugs/drugreview-57019-d-tran-capsule',\n",
       "       'https://reviews.webmd.com/drugs/drugreview-57020-chlor-pox-capsule',\n",
       "       'https://reviews.webmd.com/drugs/drugreview-57021-m-tran-capsule',\n",
       "       'https://reviews.webmd.com/drugs/drugreview-57022-j-tran-capsule',\n",
       "       'https://reviews.webmd.com/drugs/drugreview-57023-spaz-capsule',\n",
       "       'https://reviews.webmd.com/drugs/drugreview-57024-ro-poxide-capsule',\n",
       "       'https://reviews.webmd.com/drugs/drugreview-57025-colspan-capsule',\n",
       "       'https://reviews.webmd.com/drugs/drugreview-57026-chlor-pox-capsule',\n",
       "       'https://reviews.webmd.com/drugs/drugreview-57027-tranxene-sd-tablet-er',\n",
       "       'https://reviews.webmd.com/drugs/drugreview-57028-q-pam-tablet',\n",
       "       'https://reviews.webmd.com/drugs/drugreview-57029-x-ospaz-tablet',\n",
       "       'https://reviews.webmd.com/drugs/drugreview-57030-ro-azepam-tablet',\n",
       "       'https://reviews.webmd.com/drugs/drugreview-57031-d-val-solution',\n",
       "       'https://reviews.webmd.com/drugs/drugreview-57032-zetran-solution',\n",
       "       'https://reviews.webmd.com/drugs/drugreview-57034-durrax-tablet',\n",
       "       'https://reviews.webmd.com/drugs/drugreview-57035-traxin-tablet',\n",
       "       'https://reviews.webmd.com/drugs/drugreview-57036-adroxazine-tablet',\n",
       "       'https://reviews.webmd.com/drugs/drugreview-57037-spenrax-tablet',\n",
       "       'https://reviews.webmd.com/drugs/drugreview-57038-atrazine-tablet',\n",
       "       'https://reviews.webmd.com/drugs/drugreview-57039-dermrax-tablet',\n",
       "       'https://reviews.webmd.com/drugs/drugreview-57040-adroxyzine-solution',\n",
       "       'https://reviews.webmd.com/drugs/drugreview-57041-atozine-solution',\n",
       "       'https://reviews.webmd.com/drugs/drugreview-57042-orgatrax-solution',\n",
       "       'https://reviews.webmd.com/drugs/drugreview-57043-vistaril-im-hcl-salt-solution',\n",
       "       'https://reviews.webmd.com/drugs/drugreview-57044-visrex-solution',\n",
       "       'https://reviews.webmd.com/drugs/drugreview-57045-vistaject-solution',\n",
       "       'https://reviews.webmd.com/drugs/drugreview-57046-vistaquel-solution',\n",
       "       'https://reviews.webmd.com/drugs/drugreview-57047-vistacon-solution',\n",
       "       'https://reviews.webmd.com/drugs/drugreview-57048-drozine-solution',\n",
       "       'https://reviews.webmd.com/drugs/drugreview-57049-hydroxacen-solution',\n",
       "       'https://reviews.webmd.com/drugs/drugreview-57050-viarex-solution',\n",
       "       'https://reviews.webmd.com/drugs/drugreview-57051-vist-ed-solution',\n",
       "       'https://reviews.webmd.com/drugs/drugreview-57052-e-vista-solution',\n",
       "       'https://reviews.webmd.com/drugs/drugreview-57053-adzine-solution',\n",
       "       'https://reviews.webmd.com/drugs/drugreview-57054-vistamed-solution',\n",
       "       'https://reviews.webmd.com/drugs/drugreview-57055-neucalm-solution',\n",
       "       'https://reviews.webmd.com/drugs/drugreview-57056-adaril-solution',\n",
       "       'https://reviews.webmd.com/drugs/drugreview-57057-vistrex-solution',\n",
       "       'https://reviews.webmd.com/drugs/drugreview-57058-vistalax-solution',\n",
       "       'https://reviews.webmd.com/drugs/drugreview-57059-hydrozine-solution',\n",
       "       'https://reviews.webmd.com/drugs/drugreview-57060-vista-plex-solution',\n",
       "       'https://reviews.webmd.com/drugs/drugreview-57061-vistapam-capsule',\n",
       "       'https://reviews.webmd.com/drugs/drugreview-57062-vamate-capsule',\n",
       "       'https://reviews.webmd.com/drugs/drugreview-57063-sk-bamate-tablet',\n",
       "       'https://reviews.webmd.com/drugs/drugreview-57064-mepromate-tablet',\n",
       "       'https://reviews.webmd.com/drugs/drugreview-57065-tranmep-tablet',\n",
       "       'https://reviews.webmd.com/drugs/drugreview-57066-sedabamate-tablet',\n",
       "       'https://reviews.webmd.com/drugs/drugreview-57067-probate-tablet',\n",
       "       'https://reviews.webmd.com/drugs/drugreview-57068-coprobate-tablet',\n",
       "       'https://reviews.webmd.com/drugs/drugreview-57069-q-bam-tablet',\n",
       "       'https://reviews.webmd.com/drugs/drugreview-57070-neurate-tablet',\n",
       "       'https://reviews.webmd.com/drugs/drugreview-57071-pax-tablet',\n",
       "       'https://reviews.webmd.com/drugs/drugreview-57072-spantran-tablet',\n",
       "       'https://reviews.webmd.com/drugs/drugreview-57073-acabamate-tablet',\n",
       "       'https://reviews.webmd.com/drugs/drugreview-57074-meproban-tablet',\n",
       "       'https://reviews.webmd.com/drugs/drugreview-57075-amitid-tablet',\n",
       "       'https://reviews.webmd.com/drugs/drugreview-57076-sk-amitriptyline-tablet',\n",
       "       'https://reviews.webmd.com/drugs/drugreview-57077-q-e-l-tablet',\n",
       "       'https://reviews.webmd.com/drugs/drugreview-57078-kenvil-tablet',\n",
       "       'https://reviews.webmd.com/drugs/drugreview-57079-e-vill-tablet',\n",
       "       'https://reviews.webmd.com/drugs/drugreview-57080-stabanil-tablet',\n",
       "       'https://reviews.webmd.com/drugs/drugreview-57081-e-vill-tablet',\n",
       "       'https://reviews.webmd.com/drugs/drugreview-57082-re-live-tablet',\n",
       "       'https://reviews.webmd.com/drugs/drugreview-57083-emitrip-tablet',\n",
       "       'https://reviews.webmd.com/drugs/drugreview-57084-e-vill-tablet',\n",
       "       'https://reviews.webmd.com/drugs/drugreview-57085-e-vill-tablet',\n",
       "       'https://reviews.webmd.com/drugs/drugreview-57086-e-vill-tablet',\n",
       "       'https://reviews.webmd.com/drugs/drugreview-57087-enovil-solution',\n",
       "       'https://reviews.webmd.com/drugs/drugreview-57088-sk-pramine-tablet',\n",
       "       'https://reviews.webmd.com/drugs/drugreview-57089-janimine-tablet',\n",
       "       'https://reviews.webmd.com/drugs/drugreview-57090-etnofril-tablet',\n",
       "       'https://reviews.webmd.com/drugs/drugreview-57091-imavate-tablet',\n",
       "       'https://reviews.webmd.com/drugs/drugreview-57092-norfranil-tablet',\n",
       "       'https://reviews.webmd.com/drugs/drugreview-57093-deconil-tablet',\n",
       "       'https://reviews.webmd.com/drugs/drugreview-57094-aventyl-hcl-do-not-use-capsule',\n",
       "       'https://reviews.webmd.com/drugs/drugreview-57095-halperon-tablet',\n",
       "       'https://reviews.webmd.com/drugs/drugreview-57096-myperidol-concentrate',\n",
       "       'https://reviews.webmd.com/drugs/drugreview-57097-haldol-decanoate-solution',\n",
       "       'https://reviews.webmd.com/drugs/drugreview-57098-haldol-decanoate-solution',\n",
       "       'https://reviews.webmd.com/drugs/drugreview-57099-foypromazine-tablet',\n",
       "       'https://reviews.webmd.com/drugs/drugreview-57100-chloramead-tablet',\n",
       "       'https://reviews.webmd.com/drugs/drugreview-57101-thoradol-tablet',\n",
       "       'https://reviews.webmd.com/drugs/drugreview-57102-kenazine-tablet',\n",
       "       'https://reviews.webmd.com/drugs/drugreview-57103-chlorpromazine-tablet',\n",
       "       'https://reviews.webmd.com/drugs/drugreview-57104-thorarex-solution',\n",
       "       'https://reviews.webmd.com/drugs/drugreview-57105-clorazine-solution',\n",
       "       'https://reviews.webmd.com/drugs/drugreview-57106-thoradol-solution',\n",
       "       'https://reviews.webmd.com/drugs/drugreview-57107-klorazine-solution',\n",
       "       'https://reviews.webmd.com/drugs/drugreview-57108-thoramed-solution',\n",
       "       'https://reviews.webmd.com/drugs/drugreview-57109-ormazine-solution',\n",
       "       'https://reviews.webmd.com/drugs/drugreview-57116-stelaprin-tablet',\n",
       "       'https://reviews.webmd.com/drugs/drugreview-57117-lithane-tablet',\n",
       "       'https://reviews.webmd.com/drugs/drugreview-57118-cibalith-s-solution',\n",
       "       'https://reviews.webmd.com/drugs/drugreview-57375-amitriptyline-chlordiazepoxide-tablet',\n",
       "       'https://reviews.webmd.com/drugs/drugreview-57376-amitriptyline-w-perphenazine-tablet',\n",
       "       'https://reviews.webmd.com/drugs/drugreview-57377-per-trip-tablet',\n",
       "       'https://reviews.webmd.com/drugs/drugreview-57378-triavil-tablet',\n",
       "       'https://reviews.webmd.com/drugs/drugreview-57379-etrafon-a-tablet',\n",
       "       'https://reviews.webmd.com/drugs/drugreview-57380-triavil-tablet',\n",
       "       'https://reviews.webmd.com/drugs/drugreview-58070-myproic-acid-solution',\n",
       "       'https://reviews.webmd.com/drugs/drugreview-58071-depa-syrup-solution',\n",
       "       'https://reviews.webmd.com/drugs/drugreview-58072-deproic-capsule',\n",
       "       'https://reviews.webmd.com/drugs/drugreview-58073-dalpro-capsule',\n",
       "       'https://reviews.webmd.com/drugs/drugreview-5887-lithium-carbonate',\n",
       "       'https://reviews.webmd.com/drugs/drugreview-5887-lithium-carbonate-er',\n",
       "       'https://reviews.webmd.com/drugs/drugreview-6000-divalproex-sodium',\n",
       "       'https://reviews.webmd.com/drugs/drugreview-6000-divalproex-sodium-capsule-delayed-release-sprinkle',\n",
       "       'https://reviews.webmd.com/drugs/drugreview-6000-divalproex-sodium-er',\n",
       "       'https://reviews.webmd.com/drugs/drugreview-6092-haloperidol-decanoate-ampul',\n",
       "       'https://reviews.webmd.com/drugs/drugreview-6124-diazepam-in-soybean-oil-emulsion',\n",
       "       'https://reviews.webmd.com/drugs/drugreview-6144-vistaril',\n",
       "       'https://reviews.webmd.com/drugs/drugreview-6171-asendin-tablet',\n",
       "       'https://reviews.webmd.com/drugs/drugreview-6172-aventyl-capsule',\n",
       "       'https://reviews.webmd.com/drugs/drugreview-6222-prolixin-concentrate',\n",
       "       'https://reviews.webmd.com/drugs/drugreview-6222-prolixin-elixir',\n",
       "       'https://reviews.webmd.com/drugs/drugreview-6222-prolixin-tablet',\n",
       "       'https://reviews.webmd.com/drugs/drugreview-6234-thiothixene',\n",
       "       'https://reviews.webmd.com/drugs/drugreview-6283-risperidone',\n",
       "       'https://reviews.webmd.com/drugs/drugreview-6283-risperidone-odt',\n",
       "       'https://reviews.webmd.com/drugs/drugreview-6306-diazepam',\n",
       "       'https://reviews.webmd.com/drugs/drugreview-6316-limbitrol-tablet',\n",
       "       'https://reviews.webmd.com/drugs/drugreview-63989-escitalopram-oxalate',\n",
       "       'https://reviews.webmd.com/drugs/drugreview-63990-lexapro',\n",
       "       'https://reviews.webmd.com/drugs/drugreview-64437-aripiprazole',\n",
       "       'https://reviews.webmd.com/drugs/drugreview-64437-aripiprazole-odt',\n",
       "       'https://reviews.webmd.com/drugs/drugreview-64437-aripiprazole-tablet-with-sensor-and-patch',\n",
       "       'https://reviews.webmd.com/drugs/drugreview-64439-abilify',\n",
       "       'https://reviews.webmd.com/drugs/drugreview-6463-anx-tablet',\n",
       "       'https://reviews.webmd.com/drugs/drugreview-64731-valproic-acid-liquid',\n",
       "       'https://reviews.webmd.com/drugs/drugreview-6511-rezine-tablet',\n",
       "       'https://reviews.webmd.com/drugs/drugreview-6572-stelazine-tablet',\n",
       "       'https://reviews.webmd.com/drugs/drugreview-6685-ativan',\n",
       "       'https://reviews.webmd.com/drugs/drugreview-6790-etrafon-tablet',\n",
       "       'https://reviews.webmd.com/drugs/drugreview-6817-haldol-decanoate-50-ampul',\n",
       "       'https://reviews.webmd.com/drugs/drugreview-6874-lithobid',\n",
       "       'https://reviews.webmd.com/drugs/drugreview-6886-ludiomil-tablet',\n",
       "       'https://reviews.webmd.com/drugs/drugreview-6923-navane-capsule',\n",
       "       'https://reviews.webmd.com/drugs/drugreview-6936-norpramin',\n",
       "       'https://reviews.webmd.com/drugs/drugreview-6968-paxil',\n",
       "       'https://reviews.webmd.com/drugs/drugreview-6968-paxil-tablet',\n",
       "       'https://reviews.webmd.com/drugs/drugreview-6969-paroxetine-er',\n",
       "       'https://reviews.webmd.com/drugs/drugreview-6969-paroxetine-hcl',\n",
       "       'https://reviews.webmd.com/drugs/drugreview-6969-paroxetine-hcl-suspension-final-dose-form',\n",
       "       'https://reviews.webmd.com/drugs/drugreview-6997-prozac',\n",
       "       'https://reviews.webmd.com/drugs/drugreview-6997-prozac-capsule',\n",
       "       'https://reviews.webmd.com/drugs/drugreview-7023-sectral-capsule',\n",
       "       'https://reviews.webmd.com/drugs/drugreview-7031-surmontil-capsule',\n",
       "       'https://reviews.webmd.com/drugs/drugreview-7032-trimipramine-maleate',\n",
       "       'https://reviews.webmd.com/drugs/drugreview-7044-thorazine-suppository',\n",
       "       'https://reviews.webmd.com/drugs/drugreview-7047-tofranil-tablet',\n",
       "       'https://reviews.webmd.com/drugs/drugreview-7048-tofranil-pm-capsule',\n",
       "       'https://reviews.webmd.com/drugs/drugreview-7049-imipramine-pamoate',\n",
       "       'https://reviews.webmd.com/drugs/drugreview-7064-triavil-tablet',\n",
       "       'https://reviews.webmd.com/drugs/drugreview-7065-triavil-tablet',\n",
       "       'https://reviews.webmd.com/drugs/drugreview-7066-triavil-tablet',\n",
       "       'https://reviews.webmd.com/drugs/drugreview-7068-trilafon-tablet',\n",
       "       'https://reviews.webmd.com/drugs/drugreview-7092-hydroxyzine-pamoate',\n",
       "       'https://reviews.webmd.com/drugs/drugreview-7452-valium-solution',\n",
       "       'https://reviews.webmd.com/drugs/drugreview-75142-risperdal-m-tab-tablet-disintegrating',\n",
       "       'https://reviews.webmd.com/drugs/drugreview-7681-hydroxyzine-hcl',\n",
       "       'https://reviews.webmd.com/drugs/drugreview-76851-wellbutrin-xl',\n",
       "       'https://reviews.webmd.com/drugs/drugreview-76899-tranxene-sd-tablet-er',\n",
       "       'https://reviews.webmd.com/drugs/drugreview-77659-risperidone-er-vial',\n",
       "       'https://reviews.webmd.com/drugs/drugreview-77667-risperdal-consta-vial',\n",
       "       'https://reviews.webmd.com/drugs/drugreview-78093-paroxetine-mesylate-tablet',\n",
       "       'https://reviews.webmd.com/drugs/drugreview-78102-pexeva',\n",
       "       'https://reviews.webmd.com/drugs/drugreview-78613-budeprion-sr-tablet-sustained-release-12-hr',\n",
       "       'https://reviews.webmd.com/drugs/drugreview-7895-moban-tablet',\n",
       "       'https://reviews.webmd.com/drugs/drugreview-7896-molindone-hcl',\n",
       "       'https://reviews.webmd.com/drugs/drugreview-8115-alprazolam-intensol',\n",
       "       'https://reviews.webmd.com/drugs/drugreview-8171-alprazolam',\n",
       "       'https://reviews.webmd.com/drugs/drugreview-8171-alprazolam-concentrate',\n",
       "       'https://reviews.webmd.com/drugs/drugreview-8171-alprazolam-er',\n",
       "       'https://reviews.webmd.com/drugs/drugreview-8171-alprazolam-odt',\n",
       "       'https://reviews.webmd.com/drugs/drugreview-8186-miltown-tablet',\n",
       "       'https://reviews.webmd.com/drugs/drugreview-8187-meprobamate',\n",
       "       'https://reviews.webmd.com/drugs/drugreview-8323-desipramine-hcl',\n",
       "       'https://reviews.webmd.com/drugs/drugreview-8347-oxazepam',\n",
       "       'https://reviews.webmd.com/drugs/drugreview-8495-gen-xene-tablet',\n",
       "       'https://reviews.webmd.com/drugs/drugreview-8603-celexa',\n",
       "       'https://reviews.webmd.com/drugs/drugreview-8611-amitriptyline-hcl',\n",
       "       'https://reviews.webmd.com/drugs/drugreview-8630-chlordiazepoxide-hcl',\n",
       "       'https://reviews.webmd.com/drugs/drugreview-8636-clorazepate-dipotassium',\n",
       "       'https://reviews.webmd.com/drugs/drugreview-8647-doxepin-hcl',\n",
       "       'https://reviews.webmd.com/drugs/drugreview-8647-doxepin-hcl-capsule',\n",
       "       'https://reviews.webmd.com/drugs/drugreview-8647-doxepin-hcl-concentrate',\n",
       "       'https://reviews.webmd.com/drugs/drugreview-8661-haloperidol',\n",
       "       'https://reviews.webmd.com/drugs/drugreview-8664-imipramine-hcl',\n",
       "       'https://reviews.webmd.com/drugs/drugreview-8672-maprotiline-tablet',\n",
       "       'https://reviews.webmd.com/drugs/drugreview-87706-libritabs-tablet',\n",
       "       'https://reviews.webmd.com/drugs/drugreview-8824-perphenazine-solution',\n",
       "       'https://reviews.webmd.com/drugs/drugreview-8825-perphenazine',\n",
       "       'https://reviews.webmd.com/drugs/drugreview-8827-phenelzine-sulfate',\n",
       "       'https://reviews.webmd.com/drugs/drugreview-8885-valproic-acid',\n",
       "       'https://reviews.webmd.com/drugs/drugreview-8885-valproic-acid-syrup',\n",
       "       'https://reviews.webmd.com/drugs/drugreview-8891-fluphenazine-hcl-vial',\n",
       "       'https://reviews.webmd.com/drugs/drugreview-8892-lorazepam',\n",
       "       'https://reviews.webmd.com/drugs/drugreview-8892-lorazepam-capsule-4-hr-capsule-er-hr',\n",
       "       'https://reviews.webmd.com/drugs/drugreview-8892-lorazepam-concentrate',\n",
       "       'https://reviews.webmd.com/drugs/drugreview-89444-buproban-tablet-er-12-hr',\n",
       "       'https://reviews.webmd.com/drugs/drugreview-9009-atazine-tablet',\n",
       "       'https://reviews.webmd.com/drugs/drugreview-9118-depakote-sprinkle',\n",
       "       'https://reviews.webmd.com/drugs/drugreview-9127-di-tran-tablet',\n",
       "       'https://reviews.webmd.com/drugs/drugreview-91411-chlorpromazine-suppository',\n",
       "       'https://reviews.webmd.com/drugs/drugreview-91490-duloxetine-capsule-delayed-release-sprinkle',\n",
       "       'https://reviews.webmd.com/drugs/drugreview-91490-duloxetine-hcl',\n",
       "       'https://reviews.webmd.com/drugs/drugreview-91491-cymbalta',\n",
       "       'https://reviews.webmd.com/drugs/drugreview-9159-endep-tablet',\n",
       "       'https://reviews.webmd.com/drugs/drugreview-9170-eskalith-capsule',\n",
       "       'https://reviews.webmd.com/drugs/drugreview-9227-h-tran-capsule',\n",
       "       'https://reviews.webmd.com/drugs/drugreview-92597-haloperidol-lactate-syringe',\n",
       "       'https://reviews.webmd.com/drugs/drugreview-92783-niravam-tablet-disintegrating',\n",
       "       'https://reviews.webmd.com/drugs/drugreview-9291-lithotabs-tablet',\n",
       "       'https://reviews.webmd.com/drugs/drugreview-9299-mb-tab-tablet',\n",
       "       'https://reviews.webmd.com/drugs/drugreview-9353-nardil',\n",
       "       'https://reviews.webmd.com/drugs/drugreview-9406-permitil-concentrate',\n",
       "       'https://reviews.webmd.com/drugs/drugreview-9406-permitil-tablet',\n",
       "       'https://reviews.webmd.com/drugs/drugreview-9445-prolixin-solution',\n",
       "       'https://reviews.webmd.com/drugs/drugreview-9495-serax-tablet',\n",
       "       'https://reviews.webmd.com/drugs/drugreview-9510-spaz-capsule',\n",
       "       'https://reviews.webmd.com/drugs/drugreview-9543-thorazine-tablet',\n",
       "       'https://reviews.webmd.com/drugs/drugreview-9567-trilafon-solution',\n",
       "       'https://reviews.webmd.com/drugs/drugreview-9630-equanil-tablet',\n",
       "       'https://reviews.webmd.com/drugs/drugreview-9702-depakene-capsule',\n",
       "       'https://reviews.webmd.com/drugs/drugreview-9702-depakene-solution',\n",
       "       'https://reviews.webmd.com/drugs/drugreview-9824-xanax',\n",
       "       'https://reviews.webmd.com/drugs/drugreview-9846-risperdal'],\n",
       "      dtype='<U115')"
      ]
     },
     "execution_count": 11,
     "metadata": {},
     "output_type": "execute_result"
    }
   ],
   "source": [
    "review_urls"
   ]
  },
  {
   "cell_type": "code",
   "execution_count": 12,
   "id": "2137930c",
   "metadata": {
    "execution": {
     "iopub.execute_input": "2024-03-11T18:05:03.398993Z",
     "iopub.status.busy": "2024-03-11T18:05:03.398533Z",
     "iopub.status.idle": "2024-03-11T19:20:39.034033Z",
     "shell.execute_reply": "2024-03-11T19:20:39.032017Z"
    },
    "papermill": {
     "duration": 4535.648669,
     "end_time": "2024-03-11T19:20:39.038086",
     "exception": false,
     "start_time": "2024-03-11T18:05:03.389417",
     "status": "completed"
    },
    "tags": []
   },
   "outputs": [
    {
     "name": "stderr",
     "output_type": "stream",
     "text": [
      "  0%|          | 0/413 [00:00<?, ?it/s]"
     ]
    },
    {
     "name": "stdout",
     "output_type": "stream",
     "text": [
      "https://reviews.webmd.com/drugs/drugreview-1-sertraline-hcl\n"
     ]
    },
    {
     "name": "stderr",
     "output_type": "stream",
     "text": [
      "\n",
      "  0%|          | 0/31 [00:00<?, ?it/s]\u001b[A\n",
      "  3%|▎         | 1/31 [00:00<00:26,  1.13it/s]\u001b[A\n",
      "  6%|▋         | 2/31 [00:01<00:25,  1.12it/s]\u001b[A\n",
      " 10%|▉         | 3/31 [00:02<00:25,  1.11it/s]\u001b[A\n",
      " 13%|█▎        | 4/31 [00:03<00:24,  1.12it/s]\u001b[A\n",
      " 16%|█▌        | 5/31 [00:04<00:23,  1.09it/s]\u001b[A\n",
      " 19%|█▉        | 6/31 [00:05<00:21,  1.14it/s]\u001b[A\n",
      " 23%|██▎       | 7/31 [00:06<00:20,  1.16it/s]\u001b[A\n",
      " 26%|██▌       | 8/31 [00:07<00:19,  1.15it/s]\u001b[A\n",
      " 29%|██▉       | 9/31 [00:07<00:19,  1.15it/s]\u001b[A\n",
      " 32%|███▏      | 10/31 [00:08<00:17,  1.17it/s]\u001b[A\n",
      " 35%|███▌      | 11/31 [00:10<00:21,  1.09s/it]\u001b[A\n",
      " 39%|███▊      | 12/31 [00:11<00:19,  1.01s/it]\u001b[A\n",
      " 42%|████▏     | 13/31 [00:12<00:17,  1.02it/s]\u001b[A\n",
      " 45%|████▌     | 14/31 [00:13<00:16,  1.05it/s]\u001b[A\n",
      " 48%|████▊     | 15/31 [00:13<00:14,  1.09it/s]\u001b[A\n",
      " 52%|█████▏    | 16/31 [00:14<00:14,  1.05it/s]\u001b[A\n",
      " 55%|█████▍    | 17/31 [00:15<00:13,  1.04it/s]\u001b[A\n",
      " 58%|█████▊    | 18/31 [00:16<00:11,  1.11it/s]\u001b[A\n",
      " 61%|██████▏   | 19/31 [00:17<00:10,  1.11it/s]\u001b[A\n",
      " 65%|██████▍   | 20/31 [00:18<00:09,  1.14it/s]\u001b[A\n",
      " 68%|██████▊   | 21/31 [00:19<00:08,  1.16it/s]\u001b[A\n",
      " 71%|███████   | 22/31 [00:20<00:08,  1.10it/s]\u001b[A\n",
      " 74%|███████▍  | 23/31 [00:20<00:07,  1.14it/s]\u001b[A\n",
      " 77%|███████▋  | 24/31 [00:21<00:05,  1.17it/s]\u001b[A\n",
      " 81%|████████  | 25/31 [00:22<00:05,  1.17it/s]\u001b[A\n",
      " 84%|████████▍ | 26/31 [00:23<00:04,  1.17it/s]\u001b[A\n",
      " 87%|████████▋ | 27/31 [00:24<00:03,  1.17it/s]\u001b[A\n",
      " 90%|█████████ | 28/31 [00:25<00:02,  1.10it/s]\u001b[A\n",
      " 94%|█████████▎| 29/31 [00:26<00:01,  1.12it/s]\u001b[A\n",
      " 97%|█████████▋| 30/31 [00:27<00:00,  1.17it/s]\u001b[A\n",
      "100%|██████████| 31/31 [00:27<00:00,  1.11it/s]\n",
      "  0%|          | 1/413 [00:30<3:28:38, 30.38s/it]"
     ]
    },
    {
     "name": "stdout",
     "output_type": "stream",
     "text": [
      "https://reviews.webmd.com/drugs/drugreview-10024-vanatrip-tablet\n"
     ]
    },
    {
     "name": "stderr",
     "output_type": "stream",
     "text": [
      "\n",
      "  0%|          | 0/1 [00:00<?, ?it/s]\u001b[A\n",
      "100%|██████████| 1/1 [00:00<00:00,  1.59it/s]\n",
      "  0%|          | 2/413 [00:32<1:35:49, 13.99s/it]"
     ]
    },
    {
     "name": "stdout",
     "output_type": "stream",
     "text": [
      "https://reviews.webmd.com/drugs/drugreview-10341-haloperidol-intensol-concentrate\n"
     ]
    },
    {
     "name": "stderr",
     "output_type": "stream",
     "text": [
      "\n",
      "  0%|          | 0/1 [00:00<?, ?it/s]\u001b[A\n",
      "100%|██████████| 1/1 [00:00<00:00,  1.46it/s]\n",
      "  1%|          | 4/413 [00:37<41:16,  6.06s/it]  "
     ]
    },
    {
     "name": "stdout",
     "output_type": "stream",
     "text": [
      "skipping https://reviews.webmd.com/drugs/drugreview-10405-thiothixene-hcl-capsule: page not found\n",
      "https://reviews.webmd.com/drugs/drugreview-1049-fluvoxamine-maleate\n"
     ]
    },
    {
     "name": "stderr",
     "output_type": "stream",
     "text": [
      "\n",
      "  0%|          | 0/4 [00:00<?, ?it/s]\u001b[A\n",
      " 25%|██▌       | 1/4 [00:00<00:02,  1.25it/s]\u001b[A\n",
      " 50%|█████     | 2/4 [00:01<00:01,  1.16it/s]\u001b[A\n",
      " 75%|███████▌  | 3/4 [00:02<00:00,  1.20it/s]\u001b[A\n",
      "100%|██████████| 4/4 [00:03<00:00,  1.18it/s]\n",
      "  1%|          | 5/413 [00:43<41:13,  6.06s/it]"
     ]
    },
    {
     "name": "stdout",
     "output_type": "stream",
     "text": [
      "https://reviews.webmd.com/drugs/drugreview-1049-fluvoxamine-maleate-er\n"
     ]
    },
    {
     "name": "stderr",
     "output_type": "stream",
     "text": [
      "\n",
      "  0%|          | 0/4 [00:00<?, ?it/s]\u001b[A\n",
      " 25%|██▌       | 1/4 [00:00<00:02,  1.23it/s]\u001b[A\n",
      " 50%|█████     | 2/4 [00:01<00:01,  1.23it/s]\u001b[A\n",
      " 75%|███████▌  | 3/4 [00:02<00:00,  1.24it/s]\u001b[A\n",
      "100%|██████████| 4/4 [00:03<00:00,  1.22it/s]\n",
      "  1%|▏         | 6/413 [00:48<37:47,  5.57s/it]"
     ]
    },
    {
     "name": "stdout",
     "output_type": "stream",
     "text": [
      "https://reviews.webmd.com/drugs/drugreview-10610-diazepam-syringe\n"
     ]
    },
    {
     "name": "stderr",
     "output_type": "stream",
     "text": [
      "\n",
      "  0%|          | 0/1 [00:00<?, ?it/s]\u001b[A\n",
      "100%|██████████| 1/1 [00:00<00:00,  1.32it/s]\n",
      "  2%|▏         | 7/413 [00:50<31:20,  4.63s/it]"
     ]
    },
    {
     "name": "stdout",
     "output_type": "stream",
     "text": [
      "https://reviews.webmd.com/drugs/drugreview-10710-nortriptyline-hcl\n"
     ]
    },
    {
     "name": "stderr",
     "output_type": "stream",
     "text": [
      "\n",
      "  0%|          | 0/24 [00:00<?, ?it/s]\u001b[A\n",
      "  4%|▍         | 1/24 [00:00<00:19,  1.16it/s]\u001b[A\n",
      "  8%|▊         | 2/24 [00:01<00:19,  1.13it/s]\u001b[A\n",
      " 12%|█▎        | 3/24 [00:02<00:20,  1.03it/s]\u001b[A\n",
      " 17%|█▋        | 4/24 [00:03<00:18,  1.07it/s]\u001b[A\n",
      " 21%|██        | 5/24 [00:04<00:17,  1.09it/s]\u001b[A\n",
      " 25%|██▌       | 6/24 [00:05<00:17,  1.03it/s]\u001b[A\n",
      " 29%|██▉       | 7/24 [00:06<00:15,  1.07it/s]\u001b[A\n",
      " 33%|███▎      | 8/24 [00:07<00:14,  1.13it/s]\u001b[A\n",
      " 38%|███▊      | 9/24 [00:08<00:13,  1.14it/s]\u001b[A\n",
      " 42%|████▏     | 10/24 [00:09<00:12,  1.16it/s]\u001b[A\n",
      " 46%|████▌     | 11/24 [00:09<00:11,  1.12it/s]\u001b[A\n",
      " 50%|█████     | 12/24 [00:10<00:10,  1.14it/s]\u001b[A\n",
      " 54%|█████▍    | 13/24 [00:11<00:09,  1.13it/s]\u001b[A\n",
      " 58%|█████▊    | 14/24 [00:12<00:08,  1.14it/s]\u001b[A\n",
      " 62%|██████▎   | 15/24 [00:13<00:07,  1.13it/s]\u001b[A\n",
      " 67%|██████▋   | 16/24 [00:14<00:06,  1.16it/s]\u001b[A\n",
      " 71%|███████   | 17/24 [00:15<00:06,  1.10it/s]\u001b[A\n",
      " 75%|███████▌  | 18/24 [00:16<00:05,  1.09it/s]\u001b[A\n",
      " 79%|███████▉  | 19/24 [00:17<00:04,  1.12it/s]\u001b[A\n",
      " 83%|████████▎ | 20/24 [00:17<00:03,  1.15it/s]\u001b[A\n",
      " 88%|████████▊ | 21/24 [00:18<00:02,  1.15it/s]\u001b[A\n",
      " 92%|█████████▏| 22/24 [00:19<00:01,  1.12it/s]\u001b[A\n",
      " 96%|█████████▌| 23/24 [00:20<00:00,  1.10it/s]\u001b[A\n",
      "100%|██████████| 24/24 [00:21<00:00,  1.12it/s]\n",
      "  2%|▏         | 8/413 [01:15<1:13:10, 10.84s/it]"
     ]
    },
    {
     "name": "stdout",
     "output_type": "stream",
     "text": [
      "https://reviews.webmd.com/drugs/drugreview-1089-luvox-tablet\n"
     ]
    },
    {
     "name": "stderr",
     "output_type": "stream",
     "text": [
      "\n",
      "  0%|          | 0/8 [00:00<?, ?it/s]\u001b[A\n",
      " 12%|█▎        | 1/8 [00:00<00:06,  1.16it/s]\u001b[A\n",
      " 25%|██▌       | 2/8 [00:01<00:05,  1.17it/s]\u001b[A\n",
      " 38%|███▊      | 3/8 [00:02<00:04,  1.04it/s]\u001b[A\n",
      " 50%|█████     | 4/8 [00:03<00:03,  1.10it/s]\u001b[A\n",
      " 62%|██████▎   | 5/8 [00:04<00:02,  1.13it/s]\u001b[A\n",
      " 75%|███████▌  | 6/8 [00:05<00:01,  1.12it/s]\u001b[A\n",
      " 88%|████████▊ | 7/8 [00:06<00:00,  1.12it/s]\u001b[A\n",
      "100%|██████████| 8/8 [00:07<00:00,  1.11it/s]\n",
      "  2%|▏         | 9/413 [01:24<1:09:49, 10.37s/it]"
     ]
    },
    {
     "name": "stdout",
     "output_type": "stream",
     "text": [
      "https://reviews.webmd.com/drugs/drugreview-10962-epitol\n"
     ]
    },
    {
     "name": "stderr",
     "output_type": "stream",
     "text": [
      "\n",
      "  0%|          | 0/2 [00:00<?, ?it/s]\u001b[A\n",
      " 50%|█████     | 1/2 [00:00<00:00,  1.23it/s]\u001b[A\n",
      "100%|██████████| 2/2 [00:01<00:00,  1.19it/s]\n",
      "  2%|▏         | 10/413 [01:28<57:23,  8.54s/it] "
     ]
    },
    {
     "name": "stdout",
     "output_type": "stream",
     "text": [
      "https://reviews.webmd.com/drugs/drugreview-10991-atretol-tablet\n"
     ]
    },
    {
     "name": "stderr",
     "output_type": "stream",
     "text": [
      "  3%|▎         | 11/413 [01:31<44:42,  6.67s/it]"
     ]
    },
    {
     "name": "stdout",
     "output_type": "stream",
     "text": [
      "https://reviews.webmd.com/drugs/drugreview-11034-amoxapine\n"
     ]
    },
    {
     "name": "stderr",
     "output_type": "stream",
     "text": [
      "\n",
      "  0%|          | 0/1 [00:00<?, ?it/s]\u001b[A\n",
      "100%|██████████| 1/1 [00:00<00:00,  1.52it/s]\n",
      "  3%|▎         | 13/413 [01:36<29:04,  4.36s/it]"
     ]
    },
    {
     "name": "stdout",
     "output_type": "stream",
     "text": [
      "skipping https://reviews.webmd.com/drugs/drugreview-11066-haloperidol-lactate-vial: page not found\n"
     ]
    },
    {
     "name": "stderr",
     "output_type": "stream",
     "text": [
      "  3%|▎         | 14/413 [01:37<23:12,  3.49s/it]"
     ]
    },
    {
     "name": "stdout",
     "output_type": "stream",
     "text": [
      "skipping https://reviews.webmd.com/drugs/drugreview-11108-elavil-solution: page not found\n",
      "https://reviews.webmd.com/drugs/drugreview-11116-valium\n"
     ]
    },
    {
     "name": "stderr",
     "output_type": "stream",
     "text": [
      "\n",
      "  0%|          | 0/17 [00:00<?, ?it/s]\u001b[A\n",
      "  6%|▌         | 1/17 [00:01<00:17,  1.07s/it]\u001b[A\n",
      " 12%|█▏        | 2/17 [00:01<00:13,  1.10it/s]\u001b[A\n",
      " 18%|█▊        | 3/17 [00:02<00:12,  1.13it/s]\u001b[A\n",
      " 24%|██▎       | 4/17 [00:03<00:11,  1.13it/s]\u001b[A\n",
      " 29%|██▉       | 5/17 [00:04<00:10,  1.15it/s]\u001b[A\n",
      " 35%|███▌      | 6/17 [00:05<00:09,  1.16it/s]\u001b[A\n",
      " 41%|████      | 7/17 [00:06<00:09,  1.11it/s]\u001b[A\n",
      " 47%|████▋     | 8/17 [00:07<00:07,  1.14it/s]\u001b[A\n",
      " 53%|█████▎    | 9/17 [00:07<00:06,  1.16it/s]\u001b[A\n",
      " 59%|█████▉    | 10/17 [00:08<00:06,  1.15it/s]\u001b[A\n",
      " 65%|██████▍   | 11/17 [00:10<00:06,  1.01s/it]\u001b[A\n",
      " 71%|███████   | 12/17 [00:11<00:05,  1.05s/it]\u001b[A\n",
      " 76%|███████▋  | 13/17 [00:12<00:04,  1.07s/it]\u001b[A\n",
      " 82%|████████▏ | 14/17 [00:13<00:03,  1.05s/it]\u001b[A\n",
      " 88%|████████▊ | 15/17 [00:14<00:01,  1.02it/s]\u001b[A\n",
      " 94%|█████████▍| 16/17 [00:15<00:00,  1.01it/s]\u001b[A\n",
      "100%|██████████| 17/17 [00:16<00:00,  1.04it/s]\n",
      "  4%|▎         | 15/413 [01:56<53:26,  8.06s/it]"
     ]
    },
    {
     "name": "stdout",
     "output_type": "stream",
     "text": [
      "https://reviews.webmd.com/drugs/drugreview-11515-thorazine-solution\n"
     ]
    },
    {
     "name": "stderr",
     "output_type": "stream",
     "text": [
      "\n",
      "  0%|          | 0/1 [00:00<?, ?it/s]\u001b[A\n",
      "100%|██████████| 1/1 [00:00<00:00,  1.20it/s]\n",
      "  4%|▍         | 17/413 [02:00<33:12,  5.03s/it]"
     ]
    },
    {
     "name": "stdout",
     "output_type": "stream",
     "text": [
      "skipping https://reviews.webmd.com/drugs/drugreview-11516-trifluoperazine-solution: page not found\n"
     ]
    },
    {
     "name": "stderr",
     "output_type": "stream",
     "text": [
      "  4%|▍         | 18/413 [02:02<26:05,  3.96s/it]"
     ]
    },
    {
     "name": "stdout",
     "output_type": "stream",
     "text": [
      "skipping https://reviews.webmd.com/drugs/drugreview-11519-stelazine-solution: page not found\n",
      "https://reviews.webmd.com/drugs/drugreview-11647-lithonate-capsule\n"
     ]
    },
    {
     "name": "stderr",
     "output_type": "stream",
     "text": [
      "  5%|▍         | 19/413 [02:04<23:20,  3.55s/it]"
     ]
    },
    {
     "name": "stdout",
     "output_type": "stream",
     "text": [
      "https://reviews.webmd.com/drugs/drugreview-11980-haloperidol-lactate\n"
     ]
    },
    {
     "name": "stderr",
     "output_type": "stream",
     "text": [
      "\n",
      "  0%|          | 0/1 [00:00<?, ?it/s]\u001b[A\n",
      "100%|██████████| 1/1 [00:00<00:00,  1.10it/s]\n",
      "  5%|▍         | 20/413 [02:08<22:42,  3.47s/it]"
     ]
    },
    {
     "name": "stdout",
     "output_type": "stream",
     "text": [
      "https://reviews.webmd.com/drugs/drugreview-11998-trifluoperazine-hcl\n"
     ]
    },
    {
     "name": "stderr",
     "output_type": "stream",
     "text": [
      "\n",
      "  0%|          | 0/1 [00:00<?, ?it/s]\u001b[A\n",
      "100%|██████████| 1/1 [00:00<00:00,  1.40it/s]\n",
      "  5%|▌         | 21/413 [02:10<21:29,  3.29s/it]"
     ]
    },
    {
     "name": "stdout",
     "output_type": "stream",
     "text": [
      "https://reviews.webmd.com/drugs/drugreview-12167-protriptyline-hcl\n"
     ]
    },
    {
     "name": "stderr",
     "output_type": "stream",
     "text": [
      "\n",
      "  0%|          | 0/1 [00:00<?, ?it/s]\u001b[A\n",
      "100%|██████████| 1/1 [00:01<00:00,  1.16s/it]\n",
      "  5%|▌         | 22/413 [02:14<21:21,  3.28s/it]"
     ]
    },
    {
     "name": "stdout",
     "output_type": "stream",
     "text": [
      "https://reviews.webmd.com/drugs/drugreview-12169-vivactil-tablet\n"
     ]
    },
    {
     "name": "stderr",
     "output_type": "stream",
     "text": [
      "\n",
      "  0%|          | 0/1 [00:00<?, ?it/s]\u001b[A\n",
      "100%|██████████| 1/1 [00:00<00:00,  1.33it/s]\n",
      "  6%|▌         | 23/413 [02:17<20:39,  3.18s/it]"
     ]
    },
    {
     "name": "stdout",
     "output_type": "stream",
     "text": [
      "https://reviews.webmd.com/drugs/drugreview-1305-clomipramine-hcl\n"
     ]
    },
    {
     "name": "stderr",
     "output_type": "stream",
     "text": [
      "\n",
      "  0%|          | 0/4 [00:00<?, ?it/s]\u001b[A\n",
      " 25%|██▌       | 1/4 [00:00<00:02,  1.07it/s]\u001b[A\n",
      " 50%|█████     | 2/4 [00:01<00:01,  1.11it/s]\u001b[A\n",
      " 75%|███████▌  | 3/4 [00:02<00:00,  1.06it/s]\u001b[A\n",
      "100%|██████████| 4/4 [00:03<00:00,  1.10it/s]\n",
      "  6%|▌         | 24/413 [02:23<26:21,  4.07s/it]"
     ]
    },
    {
     "name": "stdout",
     "output_type": "stream",
     "text": [
      "https://reviews.webmd.com/drugs/drugreview-132-poxi-capsule\n"
     ]
    },
    {
     "name": "stderr",
     "output_type": "stream",
     "text": [
      "\n",
      "  0%|          | 0/1 [00:00<?, ?it/s]\u001b[A\n",
      "100%|██████████| 1/1 [00:01<00:00,  1.06s/it]\n",
      "  6%|▌         | 25/413 [02:26<24:03,  3.72s/it]"
     ]
    },
    {
     "name": "stdout",
     "output_type": "stream",
     "text": [
      "https://reviews.webmd.com/drugs/drugreview-13507-bupropion-hcl\n"
     ]
    },
    {
     "name": "stderr",
     "output_type": "stream",
     "text": [
      "\n",
      "  0%|          | 0/22 [00:00<?, ?it/s]\u001b[A\n",
      "  5%|▍         | 1/22 [00:00<00:17,  1.22it/s]\u001b[A\n",
      "  9%|▉         | 2/22 [00:01<00:16,  1.19it/s]\u001b[A\n",
      " 14%|█▎        | 3/22 [00:02<00:15,  1.21it/s]\u001b[A\n",
      " 18%|█▊        | 4/22 [00:03<00:14,  1.22it/s]\u001b[A\n",
      " 23%|██▎       | 5/22 [00:04<00:14,  1.16it/s]\u001b[A\n",
      " 27%|██▋       | 6/22 [00:05<00:13,  1.17it/s]\u001b[A\n",
      " 32%|███▏      | 7/22 [00:05<00:12,  1.16it/s]\u001b[A\n",
      " 36%|███▋      | 8/22 [00:06<00:11,  1.17it/s]\u001b[A\n",
      " 41%|████      | 9/22 [00:07<00:11,  1.17it/s]\u001b[A\n",
      " 45%|████▌     | 10/22 [00:08<00:10,  1.17it/s]\u001b[A\n",
      " 50%|█████     | 11/22 [00:09<00:09,  1.11it/s]\u001b[A\n",
      " 55%|█████▍    | 12/22 [00:10<00:08,  1.15it/s]\u001b[A\n",
      " 59%|█████▉    | 13/22 [00:11<00:07,  1.18it/s]\u001b[A\n",
      " 64%|██████▎   | 14/22 [00:11<00:06,  1.19it/s]\u001b[A\n",
      " 68%|██████▊   | 15/22 [00:12<00:05,  1.17it/s]\u001b[A\n",
      " 73%|███████▎  | 16/22 [00:13<00:05,  1.12it/s]\u001b[A\n",
      " 77%|███████▋  | 17/22 [00:14<00:04,  1.09it/s]\u001b[A\n",
      " 82%|████████▏ | 18/22 [00:15<00:03,  1.10it/s]\u001b[A\n",
      " 86%|████████▋ | 19/22 [00:16<00:02,  1.12it/s]\u001b[A\n",
      " 91%|█████████ | 20/22 [00:17<00:01,  1.14it/s]\u001b[A\n",
      " 95%|█████████▌| 21/22 [00:18<00:00,  1.16it/s]\u001b[A\n",
      "100%|██████████| 22/22 [00:19<00:00,  1.14it/s]\n",
      "  6%|▋         | 26/413 [02:47<58:16,  9.04s/it]"
     ]
    },
    {
     "name": "stdout",
     "output_type": "stream",
     "text": [
      "https://reviews.webmd.com/drugs/drugreview-13507-bupropion-hcl-sr\n"
     ]
    },
    {
     "name": "stderr",
     "output_type": "stream",
     "text": [
      "\n",
      "  0%|          | 0/22 [00:00<?, ?it/s]\u001b[A\n",
      "  5%|▍         | 1/22 [00:00<00:18,  1.14it/s]\u001b[A\n",
      "  9%|▉         | 2/22 [00:01<00:16,  1.19it/s]\u001b[A\n",
      " 14%|█▎        | 3/22 [00:02<00:15,  1.19it/s]\u001b[A\n",
      " 18%|█▊        | 4/22 [00:03<00:16,  1.08it/s]\u001b[A\n",
      " 23%|██▎       | 5/22 [00:04<00:15,  1.12it/s]\u001b[A\n",
      " 27%|██▋       | 6/22 [00:05<00:13,  1.16it/s]\u001b[A\n",
      " 32%|███▏      | 7/22 [00:06<00:12,  1.16it/s]\u001b[A\n",
      " 36%|███▋      | 8/22 [00:06<00:12,  1.15it/s]\u001b[A\n",
      " 41%|████      | 9/22 [00:07<00:11,  1.17it/s]\u001b[A\n",
      " 45%|████▌     | 10/22 [00:08<00:11,  1.05it/s]\u001b[A\n",
      " 50%|█████     | 11/22 [00:09<00:10,  1.09it/s]\u001b[A\n",
      " 55%|█████▍    | 12/22 [00:10<00:08,  1.13it/s]\u001b[A\n",
      " 59%|█████▉    | 13/22 [00:11<00:07,  1.16it/s]\u001b[A\n",
      " 64%|██████▎   | 14/22 [00:12<00:06,  1.15it/s]\u001b[A\n",
      " 68%|██████▊   | 15/22 [00:13<00:06,  1.09it/s]\u001b[A\n",
      " 73%|███████▎  | 16/22 [00:14<00:05,  1.10it/s]\u001b[A\n",
      " 77%|███████▋  | 17/22 [00:15<00:04,  1.13it/s]\u001b[A\n",
      " 82%|████████▏ | 18/22 [00:15<00:03,  1.14it/s]\u001b[A\n",
      " 86%|████████▋ | 19/22 [00:16<00:02,  1.12it/s]\u001b[A\n",
      " 91%|█████████ | 20/22 [00:17<00:01,  1.07it/s]\u001b[A\n",
      " 95%|█████████▌| 21/22 [00:18<00:00,  1.03it/s]\u001b[A\n",
      "100%|██████████| 22/22 [00:19<00:00,  1.11it/s]\n",
      "  7%|▋         | 27/413 [03:08<1:20:56, 12.58s/it]"
     ]
    },
    {
     "name": "stdout",
     "output_type": "stream",
     "text": [
      "https://reviews.webmd.com/drugs/drugreview-13507-bupropion-xl\n"
     ]
    },
    {
     "name": "stderr",
     "output_type": "stream",
     "text": [
      "\n",
      "  0%|          | 0/22 [00:00<?, ?it/s]\u001b[A\n",
      "  5%|▍         | 1/22 [00:00<00:19,  1.05it/s]\u001b[A\n",
      "  9%|▉         | 2/22 [00:01<00:17,  1.12it/s]\u001b[A\n",
      " 14%|█▎        | 3/22 [00:02<00:16,  1.14it/s]\u001b[A\n",
      " 18%|█▊        | 4/22 [00:03<00:17,  1.05it/s]\u001b[A\n",
      " 23%|██▎       | 5/22 [00:04<00:15,  1.09it/s]\u001b[A\n",
      " 27%|██▋       | 6/22 [00:05<00:14,  1.09it/s]\u001b[A\n",
      " 32%|███▏      | 7/22 [00:06<00:13,  1.08it/s]\u001b[A\n",
      " 36%|███▋      | 8/22 [00:07<00:12,  1.11it/s]\u001b[A\n",
      " 41%|████      | 9/22 [00:08<00:12,  1.01it/s]\u001b[A\n",
      " 45%|████▌     | 10/22 [00:09<00:11,  1.05it/s]\u001b[A\n",
      " 50%|█████     | 11/22 [00:10<00:10,  1.09it/s]\u001b[A\n",
      " 55%|█████▍    | 12/22 [00:11<00:09,  1.10it/s]\u001b[A\n",
      " 59%|█████▉    | 13/22 [00:11<00:08,  1.12it/s]\u001b[A\n",
      " 64%|██████▎   | 14/22 [00:12<00:07,  1.14it/s]\u001b[A\n",
      " 68%|██████▊   | 15/22 [00:13<00:06,  1.05it/s]\u001b[A\n",
      " 73%|███████▎  | 16/22 [00:14<00:05,  1.10it/s]\u001b[A\n",
      " 77%|███████▋  | 17/22 [00:15<00:04,  1.14it/s]\u001b[A\n",
      " 82%|████████▏ | 18/22 [00:16<00:03,  1.15it/s]\u001b[A\n",
      " 86%|████████▋ | 19/22 [00:17<00:02,  1.17it/s]\u001b[A\n",
      " 91%|█████████ | 20/22 [00:18<00:01,  1.11it/s]\u001b[A\n",
      " 95%|█████████▌| 21/22 [00:19<00:00,  1.12it/s]\u001b[A\n",
      "100%|██████████| 22/22 [00:19<00:00,  1.10it/s]\n",
      "  7%|▋         | 28/413 [03:29<1:37:04, 15.13s/it]"
     ]
    },
    {
     "name": "stdout",
     "output_type": "stream",
     "text": [
      "https://reviews.webmd.com/drugs/drugreview-13509-wellbutrin-tablet\n"
     ]
    },
    {
     "name": "stderr",
     "output_type": "stream",
     "text": [
      "\n",
      "  0%|          | 0/42 [00:00<?, ?it/s]\u001b[A\n",
      "  2%|▏         | 1/42 [00:00<00:35,  1.15it/s]\u001b[A\n",
      "  5%|▍         | 2/42 [00:01<00:34,  1.16it/s]\u001b[A\n",
      "  7%|▋         | 3/42 [00:02<00:39,  1.02s/it]\u001b[A\n",
      " 10%|▉         | 4/42 [00:03<00:36,  1.05it/s]\u001b[A\n",
      " 12%|█▏        | 5/42 [00:04<00:33,  1.10it/s]\u001b[A\n",
      " 14%|█▍        | 6/42 [00:05<00:32,  1.12it/s]\u001b[A\n",
      " 17%|█▋        | 7/42 [00:06<00:30,  1.13it/s]\u001b[A\n",
      " 19%|█▉        | 8/42 [00:07<00:30,  1.11it/s]\u001b[A\n",
      " 21%|██▏       | 9/42 [00:08<00:29,  1.12it/s]\u001b[A\n",
      " 24%|██▍       | 10/42 [00:09<00:28,  1.12it/s]\u001b[A\n",
      " 26%|██▌       | 11/42 [00:09<00:27,  1.11it/s]\u001b[A\n",
      " 29%|██▊       | 12/42 [00:10<00:25,  1.16it/s]\u001b[A\n",
      " 31%|███       | 13/42 [00:11<00:24,  1.17it/s]\u001b[A\n",
      " 33%|███▎      | 14/42 [00:12<00:25,  1.11it/s]\u001b[A\n",
      " 36%|███▌      | 15/42 [00:13<00:23,  1.13it/s]\u001b[A\n",
      " 38%|███▊      | 16/42 [00:14<00:22,  1.14it/s]\u001b[A\n",
      " 40%|████      | 17/42 [00:15<00:22,  1.12it/s]\u001b[A\n",
      " 43%|████▎     | 18/42 [00:16<00:21,  1.11it/s]\u001b[A\n",
      " 45%|████▌     | 19/42 [00:17<00:20,  1.10it/s]\u001b[A\n",
      " 48%|████▊     | 20/42 [00:18<00:21,  1.02it/s]\u001b[A\n",
      " 50%|█████     | 21/42 [00:18<00:19,  1.08it/s]\u001b[A\n",
      " 52%|█████▏    | 22/42 [00:19<00:18,  1.08it/s]\u001b[A\n",
      " 55%|█████▍    | 23/42 [00:20<00:18,  1.04it/s]\u001b[A\n",
      " 57%|█████▋    | 24/42 [00:21<00:16,  1.08it/s]\u001b[A\n",
      " 60%|█████▉    | 25/42 [00:22<00:16,  1.03it/s]\u001b[A\n",
      " 62%|██████▏   | 26/42 [00:23<00:15,  1.05it/s]\u001b[A\n",
      " 64%|██████▍   | 27/42 [00:24<00:13,  1.10it/s]\u001b[A\n",
      " 67%|██████▋   | 28/42 [00:25<00:12,  1.11it/s]\u001b[A\n",
      " 69%|██████▉   | 29/42 [00:26<00:11,  1.11it/s]\u001b[A\n",
      " 71%|███████▏  | 30/42 [00:27<00:10,  1.12it/s]\u001b[A\n",
      " 74%|███████▍  | 31/42 [00:28<00:10,  1.04it/s]\u001b[A\n",
      " 76%|███████▌  | 32/42 [00:29<00:09,  1.06it/s]\u001b[A\n",
      " 79%|███████▊  | 33/42 [00:30<00:08,  1.09it/s]\u001b[A\n",
      " 81%|████████  | 34/42 [00:31<00:07,  1.08it/s]\u001b[A\n",
      " 83%|████████▎ | 35/42 [00:32<00:06,  1.07it/s]\u001b[A\n",
      " 86%|████████▌ | 36/42 [00:33<00:06,  1.00s/it]\u001b[A\n",
      " 88%|████████▊ | 37/42 [00:34<00:04,  1.04it/s]\u001b[A\n",
      " 90%|█████████ | 38/42 [00:34<00:03,  1.07it/s]\u001b[A\n",
      " 93%|█████████▎| 39/42 [00:36<00:02,  1.00it/s]\u001b[A\n",
      " 95%|█████████▌| 40/42 [00:36<00:01,  1.02it/s]\u001b[A\n",
      " 98%|█████████▊| 41/42 [00:37<00:00,  1.04it/s]\u001b[A\n",
      "100%|██████████| 42/42 [00:38<00:00,  1.08it/s]\n",
      "  7%|▋         | 29/413 [04:11<2:27:42, 23.08s/it]"
     ]
    },
    {
     "name": "stdout",
     "output_type": "stream",
     "text": [
      "https://reviews.webmd.com/drugs/drugreview-13539-vistacot-solution\n"
     ]
    },
    {
     "name": "stderr",
     "output_type": "stream",
     "text": [
      "  7%|▋         | 30/413 [04:12<1:45:59, 16.60s/it]"
     ]
    },
    {
     "name": "stdout",
     "output_type": "stream",
     "text": [
      "https://reviews.webmd.com/drugs/drugreview-13540-vistazine-solution\n"
     ]
    },
    {
     "name": "stderr",
     "output_type": "stream",
     "text": [
      "  8%|▊         | 31/413 [04:14<1:17:32, 12.18s/it]"
     ]
    },
    {
     "name": "stdout",
     "output_type": "stream",
     "text": [
      "https://reviews.webmd.com/drugs/drugreview-13541-hyzine-solution\n"
     ]
    },
    {
     "name": "stderr",
     "output_type": "stream",
     "text": [
      "  8%|▊         | 32/413 [04:16<57:30,  9.06s/it]  "
     ]
    },
    {
     "name": "stdout",
     "output_type": "stream",
     "text": [
      "https://reviews.webmd.com/drugs/drugreview-13720-hy-pam-capsule\n"
     ]
    },
    {
     "name": "stderr",
     "output_type": "stream",
     "text": [
      "  8%|▊         | 33/413 [04:18<43:26,  6.86s/it]"
     ]
    },
    {
     "name": "stdout",
     "output_type": "stream",
     "text": [
      "https://reviews.webmd.com/drugs/drugreview-13881-chlorpromazine-hcl-ampul\n"
     ]
    },
    {
     "name": "stderr",
     "output_type": "stream",
     "text": [
      "\n",
      "  0%|          | 0/1 [00:00<?, ?it/s]\u001b[A\n",
      "100%|██████████| 1/1 [00:00<00:00,  1.54it/s]\n",
      "  8%|▊         | 34/413 [04:21<36:46,  5.82s/it]"
     ]
    },
    {
     "name": "stdout",
     "output_type": "stream",
     "text": [
      "https://reviews.webmd.com/drugs/drugreview-14016-tranxene-t-tab\n"
     ]
    },
    {
     "name": "stderr",
     "output_type": "stream",
     "text": [
      "\n",
      "  0%|          | 0/3 [00:00<?, ?it/s]\u001b[A\n",
      " 33%|███▎      | 1/3 [00:00<00:01,  1.05it/s]\u001b[A\n",
      " 67%|██████▋   | 2/3 [00:01<00:00,  1.07it/s]\u001b[A\n",
      "100%|██████████| 3/3 [00:02<00:00,  1.01it/s]\n",
      "  8%|▊         | 35/413 [04:26<35:07,  5.57s/it]"
     ]
    },
    {
     "name": "stdout",
     "output_type": "stream",
     "text": [
      "https://reviews.webmd.com/drugs/drugreview-14211-wellbutrin-sr\n"
     ]
    },
    {
     "name": "stderr",
     "output_type": "stream",
     "text": [
      "\n",
      "  0%|          | 0/15 [00:00<?, ?it/s]\u001b[A\n",
      "  7%|▋         | 1/15 [00:00<00:12,  1.10it/s]\u001b[A\n",
      " 13%|█▎        | 2/15 [00:01<00:11,  1.15it/s]\u001b[A\n",
      " 20%|██        | 3/15 [00:02<00:10,  1.18it/s]\u001b[A\n",
      " 27%|██▋       | 4/15 [00:03<00:09,  1.16it/s]\u001b[A\n",
      " 33%|███▎      | 5/15 [00:04<00:09,  1.04it/s]\u001b[A\n",
      " 40%|████      | 6/15 [00:05<00:08,  1.07it/s]\u001b[A\n",
      " 47%|████▋     | 7/15 [00:06<00:07,  1.10it/s]\u001b[A\n",
      " 53%|█████▎    | 8/15 [00:07<00:06,  1.04it/s]\u001b[A\n",
      " 60%|██████    | 9/15 [00:08<00:05,  1.05it/s]\u001b[A\n",
      " 67%|██████▋   | 10/15 [00:09<00:05,  1.01s/it]\u001b[A\n",
      " 73%|███████▎  | 11/15 [00:10<00:03,  1.04it/s]\u001b[A\n",
      " 80%|████████  | 12/15 [00:11<00:02,  1.09it/s]\u001b[A\n",
      " 87%|████████▋ | 13/15 [00:11<00:01,  1.11it/s]\u001b[A\n",
      " 93%|█████████▎| 14/15 [00:12<00:00,  1.13it/s]\u001b[A\n",
      "100%|██████████| 15/15 [00:13<00:00,  1.09it/s]\n",
      "  9%|▊         | 36/413 [04:42<54:12,  8.63s/it]"
     ]
    },
    {
     "name": "stdout",
     "output_type": "stream",
     "text": [
      "https://reviews.webmd.com/drugs/drugreview-14218-thsc-desipramine-hcl-tablet\n"
     ]
    },
    {
     "name": "stderr",
     "output_type": "stream",
     "text": [
      "  9%|▉         | 37/413 [04:44<41:39,  6.65s/it]"
     ]
    },
    {
     "name": "stdout",
     "output_type": "stream",
     "text": [
      "https://reviews.webmd.com/drugs/drugreview-14227-thsc-hydroxyzine-hcl-tablet\n"
     ]
    },
    {
     "name": "stderr",
     "output_type": "stream",
     "text": [
      "  9%|▉         | 38/413 [04:46<32:47,  5.25s/it]"
     ]
    },
    {
     "name": "stdout",
     "output_type": "stream",
     "text": [
      "https://reviews.webmd.com/drugs/drugreview-14232-thsc-diazepam-tablet\n"
     ]
    },
    {
     "name": "stderr",
     "output_type": "stream",
     "text": [
      " 10%|▉         | 40/413 [04:49<21:14,  3.42s/it]"
     ]
    },
    {
     "name": "stdout",
     "output_type": "stream",
     "text": [
      "skipping https://reviews.webmd.com/drugs/drugreview-14349-amitriptyline-solution: page not found\n",
      "https://reviews.webmd.com/drugs/drugreview-14374-lithium-citrate\n"
     ]
    },
    {
     "name": "stderr",
     "output_type": "stream",
     "text": [
      "\n",
      "  0%|          | 0/2 [00:00<?, ?it/s]\u001b[A\n",
      " 50%|█████     | 1/2 [00:00<00:00,  1.15it/s]\u001b[A\n",
      "100%|██████████| 2/2 [00:01<00:00,  1.05it/s]\n",
      " 10%|▉         | 41/413 [04:54<22:59,  3.71s/it]"
     ]
    },
    {
     "name": "stdout",
     "output_type": "stream",
     "text": [
      "https://reviews.webmd.com/drugs/drugreview-14375-loxapine\n"
     ]
    },
    {
     "name": "stderr",
     "output_type": "stream",
     "text": [
      "\n",
      "  0%|          | 0/1 [00:00<?, ?it/s]\u001b[A\n",
      "100%|██████████| 1/1 [00:00<00:00,  1.40it/s]\n",
      " 10%|█         | 42/413 [04:56<21:04,  3.41s/it]"
     ]
    },
    {
     "name": "stdout",
     "output_type": "stream",
     "text": [
      "https://reviews.webmd.com/drugs/drugreview-14398-valproic-acid\n"
     ]
    },
    {
     "name": "stderr",
     "output_type": "stream",
     "text": [
      "\n",
      "  0%|          | 0/1 [00:00<?, ?it/s]\u001b[A\n",
      "100%|██████████| 1/1 [00:00<00:00,  1.21it/s]\n",
      " 10%|█         | 43/413 [04:59<20:28,  3.32s/it]"
     ]
    },
    {
     "name": "stdout",
     "output_type": "stream",
     "text": [
      "https://reviews.webmd.com/drugs/drugreview-1444-chlorpromazine-hcl\n"
     ]
    },
    {
     "name": "stderr",
     "output_type": "stream",
     "text": [
      "\n",
      "  0%|          | 0/2 [00:00<?, ?it/s]\u001b[A\n",
      " 50%|█████     | 1/2 [00:00<00:00,  1.06it/s]\u001b[A\n",
      "100%|██████████| 2/2 [00:01<00:00,  1.09it/s]\n",
      " 11%|█         | 44/413 [05:04<22:56,  3.73s/it]"
     ]
    },
    {
     "name": "stdout",
     "output_type": "stream",
     "text": [
      "https://reviews.webmd.com/drugs/drugreview-14460-fluphenazine-decanoate-vial\n"
     ]
    },
    {
     "name": "stderr",
     "output_type": "stream",
     "text": [
      "\n",
      "  0%|          | 0/1 [00:00<?, ?it/s]\u001b[A\n",
      "100%|██████████| 1/1 [00:00<00:00,  1.50it/s]\n",
      " 11%|█         | 45/413 [05:07<20:53,  3.41s/it]"
     ]
    },
    {
     "name": "stdout",
     "output_type": "stream",
     "text": [
      "https://reviews.webmd.com/drugs/drugreview-144686-abilify-discmelt-tablet-disintegrating\n"
     ]
    },
    {
     "name": "stderr",
     "output_type": "stream",
     "text": [
      "\n",
      "  0%|          | 0/1 [00:00<?, ?it/s]\u001b[A\n",
      "100%|██████████| 1/1 [00:00<00:00,  1.40it/s]\n",
      " 11%|█         | 46/413 [05:10<19:39,  3.21s/it]"
     ]
    },
    {
     "name": "stdout",
     "output_type": "stream",
     "text": [
      "https://reviews.webmd.com/drugs/drugreview-14541-diazepam\n"
     ]
    },
    {
     "name": "stderr",
     "output_type": "stream",
     "text": [
      "\n",
      "  0%|          | 0/1 [00:00<?, ?it/s]\u001b[A\n",
      "100%|██████████| 1/1 [00:00<00:00,  1.17it/s]\n",
      " 11%|█▏        | 47/413 [05:12<18:35,  3.05s/it]"
     ]
    },
    {
     "name": "stdout",
     "output_type": "stream",
     "text": [
      "https://reviews.webmd.com/drugs/drugreview-14588-lorazepam-intensol\n"
     ]
    },
    {
     "name": "stderr",
     "output_type": "stream",
     "text": [
      "\n",
      "  0%|          | 0/1 [00:00<?, ?it/s]\u001b[A\n",
      "100%|██████████| 1/1 [00:00<00:00,  1.37it/s]\n",
      " 12%|█▏        | 48/413 [05:15<18:11,  2.99s/it]"
     ]
    },
    {
     "name": "stdout",
     "output_type": "stream",
     "text": [
      "https://reviews.webmd.com/drugs/drugreview-146479-aripiprazole-solution\n"
     ]
    },
    {
     "name": "stderr",
     "output_type": "stream",
     "text": [
      "\n",
      "  0%|          | 0/1 [00:00<?, ?it/s]\u001b[A\n",
      "100%|██████████| 1/1 [00:00<00:00,  1.53it/s]\n",
      " 12%|█▏        | 49/413 [05:18<17:27,  2.88s/it]"
     ]
    },
    {
     "name": "stdout",
     "output_type": "stream",
     "text": [
      "https://reviews.webmd.com/drugs/drugreview-146479-aripiprazole-suspension-er-reconstituted-suspension-reconstituted\n"
     ]
    },
    {
     "name": "stderr",
     "output_type": "stream",
     "text": [
      "\n",
      "  0%|          | 0/1 [00:00<?, ?it/s]\u001b[A\n",
      "100%|██████████| 1/1 [00:00<00:00,  1.54it/s]\n",
      " 12%|█▏        | 50/413 [05:19<15:25,  2.55s/it]"
     ]
    },
    {
     "name": "stdout",
     "output_type": "stream",
     "text": [
      "https://reviews.webmd.com/drugs/drugreview-146637-budeprion-xl-tablet-er-24-hr\n"
     ]
    },
    {
     "name": "stderr",
     "output_type": "stream",
     "text": [
      "\n",
      "  0%|          | 0/5 [00:00<?, ?it/s]\u001b[A\n",
      " 20%|██        | 1/5 [00:00<00:03,  1.07it/s]\u001b[A\n",
      " 40%|████      | 2/5 [00:01<00:02,  1.12it/s]\u001b[A\n",
      " 60%|██████    | 3/5 [00:02<00:01,  1.02it/s]\u001b[A\n",
      " 80%|████████  | 4/5 [00:03<00:00,  1.06it/s]\u001b[A\n",
      "100%|██████████| 5/5 [00:04<00:00,  1.08it/s]\n",
      " 12%|█▏        | 51/413 [05:26<23:16,  3.86s/it]"
     ]
    },
    {
     "name": "stdout",
     "output_type": "stream",
     "text": [
      "https://reviews.webmd.com/drugs/drugreview-146718-paliperidone-er\n"
     ]
    },
    {
     "name": "stderr",
     "output_type": "stream",
     "text": [
      "\n",
      "  0%|          | 0/2 [00:00<?, ?it/s]\u001b[A\n",
      " 50%|█████     | 1/2 [00:01<00:01,  1.20s/it]\u001b[A\n",
      "100%|██████████| 2/2 [00:02<00:00,  1.20s/it]\n",
      " 13%|█▎        | 52/413 [05:32<25:42,  4.27s/it]"
     ]
    },
    {
     "name": "stdout",
     "output_type": "stream",
     "text": [
      "https://reviews.webmd.com/drugs/drugreview-146745-invega\n"
     ]
    },
    {
     "name": "stderr",
     "output_type": "stream",
     "text": [
      "\n",
      "  0%|          | 0/9 [00:00<?, ?it/s]\u001b[A\n",
      " 11%|█         | 1/9 [00:00<00:06,  1.22it/s]\u001b[A\n",
      " 22%|██▏       | 2/9 [00:01<00:05,  1.17it/s]\u001b[A\n",
      " 33%|███▎      | 3/9 [00:02<00:05,  1.14it/s]\u001b[A\n",
      " 44%|████▍     | 4/9 [00:03<00:04,  1.12it/s]\u001b[A\n",
      " 56%|█████▌    | 5/9 [00:04<00:03,  1.01it/s]\u001b[A\n",
      " 67%|██████▋   | 6/9 [00:05<00:02,  1.04it/s]\u001b[A\n",
      " 78%|███████▊  | 7/9 [00:06<00:01,  1.09it/s]\u001b[A\n",
      " 89%|████████▉ | 8/9 [00:07<00:00,  1.11it/s]\u001b[A\n",
      "100%|██████████| 9/9 [00:08<00:00,  1.10it/s]\n",
      " 13%|█▎        | 54/413 [05:44<28:57,  4.84s/it]"
     ]
    },
    {
     "name": "stdout",
     "output_type": "stream",
     "text": [
      "skipping https://reviews.webmd.com/drugs/drugreview-14677-haldol-ampul: page not found\n"
     ]
    },
    {
     "name": "stderr",
     "output_type": "stream",
     "text": [
      " 13%|█▎        | 55/413 [05:45<22:13,  3.72s/it]"
     ]
    },
    {
     "name": "stdout",
     "output_type": "stream",
     "text": [
      "skipping https://reviews.webmd.com/drugs/drugreview-14752-dizac-emulsion: page not found\n",
      "https://reviews.webmd.com/drugs/drugreview-14829-etrafon-forte-tablet\n"
     ]
    },
    {
     "name": "stderr",
     "output_type": "stream",
     "text": [
      " 14%|█▎        | 56/413 [05:47<19:20,  3.25s/it]"
     ]
    },
    {
     "name": "stdout",
     "output_type": "stream",
     "text": [
      "https://reviews.webmd.com/drugs/drugreview-148614-seroquel-xr\n"
     ]
    },
    {
     "name": "stderr",
     "output_type": "stream",
     "text": [
      "\n",
      "  0%|          | 0/17 [00:00<?, ?it/s]\u001b[A\n",
      "  6%|▌         | 1/17 [00:00<00:14,  1.14it/s]\u001b[A\n",
      " 12%|█▏        | 2/17 [00:01<00:13,  1.12it/s]\u001b[A\n",
      " 18%|█▊        | 3/17 [00:02<00:12,  1.11it/s]\u001b[A\n",
      " 24%|██▎       | 4/17 [00:03<00:11,  1.12it/s]\u001b[A\n",
      " 29%|██▉       | 5/17 [00:04<00:12,  1.03s/it]\u001b[A\n",
      " 35%|███▌      | 6/17 [00:06<00:12,  1.17s/it]\u001b[A\n",
      " 41%|████      | 7/17 [00:07<00:11,  1.14s/it]\u001b[A\n",
      " 47%|████▋     | 8/17 [00:08<00:09,  1.09s/it]\u001b[A\n",
      " 53%|█████▎    | 9/17 [00:09<00:08,  1.04s/it]\u001b[A\n",
      " 59%|█████▉    | 10/17 [00:10<00:07,  1.02s/it]\u001b[A\n",
      " 65%|██████▍   | 11/17 [00:11<00:05,  1.01it/s]\u001b[A\n",
      " 71%|███████   | 12/17 [00:12<00:05,  1.02s/it]\u001b[A\n",
      " 76%|███████▋  | 13/17 [00:13<00:03,  1.02it/s]\u001b[A\n",
      " 82%|████████▏ | 14/17 [00:14<00:03,  1.01s/it]\u001b[A\n",
      " 88%|████████▊ | 15/17 [00:15<00:01,  1.01it/s]\u001b[A\n",
      " 94%|█████████▍| 16/17 [00:16<00:00,  1.05it/s]\u001b[A\n",
      "100%|██████████| 17/17 [00:17<00:00,  1.01s/it]\n",
      " 14%|█▍        | 57/413 [06:07<48:24,  8.16s/it]"
     ]
    },
    {
     "name": "stdout",
     "output_type": "stream",
     "text": [
      "https://reviews.webmd.com/drugs/drugreview-1493-carbamazepine\n"
     ]
    },
    {
     "name": "stderr",
     "output_type": "stream",
     "text": [
      "\n",
      "  0%|          | 0/8 [00:00<?, ?it/s]\u001b[A\n",
      " 12%|█▎        | 1/8 [00:00<00:06,  1.08it/s]\u001b[A\n",
      " 25%|██▌       | 2/8 [00:01<00:05,  1.08it/s]\u001b[A\n",
      " 38%|███▊      | 3/8 [00:02<00:04,  1.10it/s]\u001b[A\n",
      " 50%|█████     | 4/8 [00:03<00:03,  1.02it/s]\u001b[A\n",
      " 62%|██████▎   | 5/8 [00:05<00:03,  1.05s/it]\u001b[A\n",
      " 75%|███████▌  | 6/8 [00:05<00:02,  1.02s/it]\u001b[A\n",
      " 88%|████████▊ | 7/8 [00:06<00:00,  1.03it/s]\u001b[A\n",
      "100%|██████████| 8/8 [00:07<00:00,  1.03it/s]\n",
      " 14%|█▍        | 58/413 [06:17<52:13,  8.83s/it]"
     ]
    },
    {
     "name": "stdout",
     "output_type": "stream",
     "text": [
      "https://reviews.webmd.com/drugs/drugreview-1493-carbamazepine-er\n"
     ]
    },
    {
     "name": "stderr",
     "output_type": "stream",
     "text": [
      "\n",
      "  0%|          | 0/8 [00:00<?, ?it/s]\u001b[A\n",
      " 12%|█▎        | 1/8 [00:01<00:08,  1.16s/it]\u001b[A\n",
      " 25%|██▌       | 2/8 [00:02<00:07,  1.24s/it]\u001b[A\n",
      " 38%|███▊      | 3/8 [00:03<00:05,  1.12s/it]\u001b[A\n",
      " 50%|█████     | 4/8 [00:04<00:04,  1.05s/it]\u001b[A\n",
      " 62%|██████▎   | 5/8 [00:05<00:02,  1.01it/s]\u001b[A\n",
      " 75%|███████▌  | 6/8 [00:06<00:01,  1.04it/s]\u001b[A\n",
      " 88%|████████▊ | 7/8 [00:07<00:01,  1.03s/it]\u001b[A\n",
      "100%|██████████| 8/8 [00:08<00:00,  1.03s/it]\n",
      " 14%|█▍        | 59/413 [06:27<53:02,  8.99s/it]"
     ]
    },
    {
     "name": "stdout",
     "output_type": "stream",
     "text": [
      "https://reviews.webmd.com/drugs/drugreview-150188-luvox-cr-capsule-24-hr-capsule-er-hr\n"
     ]
    },
    {
     "name": "stderr",
     "output_type": "stream",
     "text": [
      "\n",
      "  0%|          | 0/4 [00:00<?, ?it/s]\u001b[A\n",
      " 25%|██▌       | 1/4 [00:00<00:02,  1.09it/s]\u001b[A\n",
      " 50%|█████     | 2/4 [00:01<00:01,  1.05it/s]\u001b[A\n",
      " 75%|███████▌  | 3/4 [00:02<00:00,  1.07it/s]\u001b[A\n",
      "100%|██████████| 4/4 [00:03<00:00,  1.03it/s]\n",
      " 15%|█▍        | 60/413 [06:33<48:18,  8.21s/it]"
     ]
    },
    {
     "name": "stdout",
     "output_type": "stream",
     "text": [
      "https://reviews.webmd.com/drugs/drugreview-1502-tegretol\n"
     ]
    },
    {
     "name": "stderr",
     "output_type": "stream",
     "text": [
      "\n",
      "  0%|          | 0/15 [00:00<?, ?it/s]\u001b[A\n",
      "  7%|▋         | 1/15 [00:00<00:12,  1.08it/s]\u001b[A\n",
      " 13%|█▎        | 2/15 [00:01<00:11,  1.10it/s]\u001b[A\n",
      " 20%|██        | 3/15 [00:02<00:10,  1.11it/s]\u001b[A\n",
      " 27%|██▋       | 4/15 [00:03<00:10,  1.04it/s]\u001b[A\n",
      " 33%|███▎      | 5/15 [00:04<00:09,  1.05it/s]\u001b[A\n",
      " 40%|████      | 6/15 [00:05<00:08,  1.00it/s]\u001b[A\n",
      " 47%|████▋     | 7/15 [00:06<00:07,  1.02it/s]\u001b[A\n",
      " 53%|█████▎    | 8/15 [00:07<00:06,  1.04it/s]\u001b[A\n",
      " 60%|██████    | 9/15 [00:08<00:05,  1.07it/s]\u001b[A\n",
      " 67%|██████▋   | 10/15 [00:09<00:05,  1.02s/it]\u001b[A\n",
      " 73%|███████▎  | 11/15 [00:10<00:03,  1.01it/s]\u001b[A\n",
      " 80%|████████  | 12/15 [00:11<00:02,  1.02it/s]\u001b[A\n",
      " 87%|████████▋ | 13/15 [00:12<00:02,  1.00s/it]\u001b[A\n",
      " 93%|█████████▎| 14/15 [00:13<00:00,  1.01it/s]\u001b[A\n",
      "100%|██████████| 15/15 [00:14<00:00,  1.02it/s]\n",
      " 15%|█▍        | 61/413 [06:51<1:04:23, 10.98s/it]"
     ]
    },
    {
     "name": "stdout",
     "output_type": "stream",
     "text": [
      "https://reviews.webmd.com/drugs/drugreview-150519-selfemra-capsule\n"
     ]
    },
    {
     "name": "stderr",
     "output_type": "stream",
     "text": [
      "\n",
      "  0%|          | 0/1 [00:00<?, ?it/s]\u001b[A\n",
      "100%|██████████| 1/1 [00:00<00:00,  1.47it/s]\n",
      " 15%|█▌        | 62/413 [06:53<49:50,  8.52s/it]  "
     ]
    },
    {
     "name": "stdout",
     "output_type": "stream",
     "text": [
      "https://reviews.webmd.com/drugs/drugreview-151904-risperidone-odt-tablet-disintegrating\n"
     ]
    },
    {
     "name": "stderr",
     "output_type": "stream",
     "text": [
      " 15%|█▌        | 63/413 [06:55<38:07,  6.54s/it]"
     ]
    },
    {
     "name": "stdout",
     "output_type": "stream",
     "text": [
      "https://reviews.webmd.com/drugs/drugreview-151959-bupropion-hbr-tablet-er-24-hr\n"
     ]
    },
    {
     "name": "stderr",
     "output_type": "stream",
     "text": [
      "\n",
      "  0%|          | 0/2 [00:00<?, ?it/s]\u001b[A\n",
      " 50%|█████     | 1/2 [00:00<00:00,  1.09it/s]\u001b[A\n",
      "100%|██████████| 2/2 [00:01<00:00,  1.09it/s]\n",
      " 15%|█▌        | 64/413 [06:59<33:51,  5.82s/it]"
     ]
    },
    {
     "name": "stdout",
     "output_type": "stream",
     "text": [
      "https://reviews.webmd.com/drugs/drugreview-151973-aplenzin\n"
     ]
    },
    {
     "name": "stderr",
     "output_type": "stream",
     "text": [
      "\n",
      "  0%|          | 0/3 [00:00<?, ?it/s]\u001b[A\n",
      " 33%|███▎      | 1/3 [00:01<00:02,  1.31s/it]\u001b[A\n",
      " 67%|██████▋   | 2/3 [00:02<00:01,  1.05s/it]\u001b[A\n",
      "100%|██████████| 3/3 [00:03<00:00,  1.02s/it]\n",
      " 16%|█▌        | 65/413 [07:05<33:26,  5.77s/it]"
     ]
    },
    {
     "name": "stdout",
     "output_type": "stream",
     "text": [
      "https://reviews.webmd.com/drugs/drugreview-152294-risperidone-m-tab-tablet-disintegrating\n"
     ]
    },
    {
     "name": "stderr",
     "output_type": "stream",
     "text": [
      "\n",
      "  0%|          | 0/2 [00:00<?, ?it/s]\u001b[A\n",
      " 50%|█████     | 1/2 [00:00<00:00,  1.13it/s]\u001b[A\n",
      "100%|██████████| 2/2 [00:01<00:00,  1.12it/s]\n",
      " 16%|█▌        | 66/413 [07:09<30:32,  5.28s/it]"
     ]
    },
    {
     "name": "stdout",
     "output_type": "stream",
     "text": [
      "https://reviews.webmd.com/drugs/drugreview-152780-paliperidone-palmitate-syringe\n"
     ]
    },
    {
     "name": "stderr",
     "output_type": "stream",
     "text": [
      "\n",
      "  0%|          | 0/1 [00:00<?, ?it/s]\u001b[A\n",
      "100%|██████████| 1/1 [00:00<00:00,  1.47it/s]\n",
      " 16%|█▌        | 67/413 [07:14<29:16,  5.08s/it]"
     ]
    },
    {
     "name": "stdout",
     "output_type": "stream",
     "text": [
      "https://reviews.webmd.com/drugs/drugreview-152807-invega-sustenna-syringe\n"
     ]
    },
    {
     "name": "stderr",
     "output_type": "stream",
     "text": [
      "\n",
      "  0%|          | 0/7 [00:00<?, ?it/s]\u001b[A\n",
      " 14%|█▍        | 1/7 [00:00<00:05,  1.10it/s]\u001b[A\n",
      " 29%|██▊       | 2/7 [00:01<00:04,  1.07it/s]\u001b[A\n",
      " 43%|████▎     | 3/7 [00:02<00:03,  1.09it/s]\u001b[A\n",
      " 57%|█████▋    | 4/7 [00:03<00:02,  1.11it/s]\u001b[A\n",
      " 71%|███████▏  | 5/7 [00:04<00:01,  1.00it/s]\u001b[A\n",
      " 86%|████████▌ | 6/7 [00:05<00:00,  1.06it/s]\u001b[A\n",
      "100%|██████████| 7/7 [00:06<00:00,  1.06it/s]\n",
      " 16%|█▋        | 68/413 [07:23<36:17,  6.31s/it]"
     ]
    },
    {
     "name": "stdout",
     "output_type": "stream",
     "text": [
      "https://reviews.webmd.com/drugs/drugreview-152900-asenapine-maleate-tablet\n"
     ]
    },
    {
     "name": "stderr",
     "output_type": "stream",
     "text": [
      "\n",
      "  0%|          | 0/1 [00:00<?, ?it/s]\u001b[A\n",
      "100%|██████████| 1/1 [00:00<00:00,  1.35it/s]\n",
      " 17%|█▋        | 69/413 [07:26<30:03,  5.24s/it]"
     ]
    },
    {
     "name": "stdout",
     "output_type": "stream",
     "text": [
      "https://reviews.webmd.com/drugs/drugreview-152902-saphris-tablet\n"
     ]
    },
    {
     "name": "stderr",
     "output_type": "stream",
     "text": [
      "\n",
      "  0%|          | 0/13 [00:00<?, ?it/s]\u001b[A\n",
      "  8%|▊         | 1/13 [00:01<00:13,  1.10s/it]\u001b[A\n",
      " 15%|█▌        | 2/13 [00:02<00:11,  1.01s/it]\u001b[A\n",
      " 23%|██▎       | 3/13 [00:02<00:09,  1.06it/s]\u001b[A\n",
      " 31%|███       | 4/13 [00:03<00:08,  1.08it/s]\u001b[A\n",
      " 38%|███▊      | 5/13 [00:04<00:07,  1.09it/s]\u001b[A\n",
      " 46%|████▌     | 6/13 [00:05<00:06,  1.11it/s]\u001b[A\n",
      " 54%|█████▍    | 7/13 [00:06<00:05,  1.02it/s]\u001b[A\n",
      " 62%|██████▏   | 8/13 [00:07<00:04,  1.04it/s]\u001b[A\n",
      " 69%|██████▉   | 9/13 [00:08<00:03,  1.04it/s]\u001b[A\n",
      " 77%|███████▋  | 10/13 [00:09<00:02,  1.06it/s]\u001b[A\n",
      " 85%|████████▍ | 11/13 [00:10<00:01,  1.08it/s]\u001b[A\n",
      " 92%|█████████▏| 12/13 [00:11<00:00,  1.03it/s]\u001b[A\n",
      "100%|██████████| 13/13 [00:12<00:00,  1.05it/s]\n",
      " 17%|█▋        | 70/413 [07:41<46:29,  8.13s/it]"
     ]
    },
    {
     "name": "stdout",
     "output_type": "stream",
     "text": [
      "https://reviews.webmd.com/drugs/drugreview-153411-iloperidone-tablet\n"
     ]
    },
    {
     "name": "stderr",
     "output_type": "stream",
     "text": [
      "\n",
      "  0%|          | 0/1 [00:00<?, ?it/s]\u001b[A\n",
      "100%|██████████| 1/1 [00:00<00:00,  1.29it/s]\n",
      " 17%|█▋        | 71/413 [07:43<36:59,  6.49s/it]"
     ]
    },
    {
     "name": "stdout",
     "output_type": "stream",
     "text": [
      "https://reviews.webmd.com/drugs/drugreview-153413-fanapt\n"
     ]
    },
    {
     "name": "stderr",
     "output_type": "stream",
     "text": [
      "\n",
      "  0%|          | 0/4 [00:00<?, ?it/s]\u001b[A\n",
      " 25%|██▌       | 1/4 [00:01<00:03,  1.02s/it]\u001b[A\n",
      " 50%|█████     | 2/4 [00:01<00:01,  1.06it/s]\u001b[A\n",
      " 75%|███████▌  | 3/4 [00:03<00:01,  1.08s/it]\u001b[A\n",
      "100%|██████████| 4/4 [00:04<00:00,  1.03s/it]\n",
      " 17%|█▋        | 72/413 [07:50<36:42,  6.46s/it]"
     ]
    },
    {
     "name": "stdout",
     "output_type": "stream",
     "text": [
      "https://reviews.webmd.com/drugs/drugreview-153606-olanzapine-pamoate-suspension-for-reconstitution\n"
     ]
    },
    {
     "name": "stderr",
     "output_type": "stream",
     "text": [
      "\n",
      "  0%|          | 0/1 [00:00<?, ?it/s]\u001b[A\n",
      "100%|██████████| 1/1 [00:00<00:00,  1.62it/s]\n",
      " 18%|█▊        | 73/413 [07:52<30:05,  5.31s/it]"
     ]
    },
    {
     "name": "stdout",
     "output_type": "stream",
     "text": [
      "https://reviews.webmd.com/drugs/drugreview-153611-zyprexa-relprevv-vial\n"
     ]
    },
    {
     "name": "stderr",
     "output_type": "stream",
     "text": [
      "\n",
      "  0%|          | 0/1 [00:00<?, ?it/s]\u001b[A\n",
      "100%|██████████| 1/1 [00:00<00:00,  1.42it/s]\n",
      " 18%|█▊        | 74/413 [07:55<25:44,  4.56s/it]"
     ]
    },
    {
     "name": "stdout",
     "output_type": "stream",
     "text": [
      "https://reviews.webmd.com/drugs/drugreview-155126-lurasidone-hcl\n"
     ]
    },
    {
     "name": "stderr",
     "output_type": "stream",
     "text": [
      "\n",
      "  0%|          | 0/1 [00:00<?, ?it/s]\u001b[A\n",
      "100%|██████████| 1/1 [00:00<00:00,  1.18it/s]\n",
      " 18%|█▊        | 75/413 [07:58<23:50,  4.23s/it]"
     ]
    },
    {
     "name": "stdout",
     "output_type": "stream",
     "text": [
      "https://reviews.webmd.com/drugs/drugreview-155134-latuda\n"
     ]
    },
    {
     "name": "stderr",
     "output_type": "stream",
     "text": [
      "\n",
      "  0%|          | 0/20 [00:00<?, ?it/s]\u001b[A\n",
      "  5%|▌         | 1/20 [00:01<00:20,  1.05s/it]\u001b[A\n",
      " 10%|█         | 2/20 [00:02<00:21,  1.17s/it]\u001b[A\n",
      " 15%|█▌        | 3/20 [00:03<00:17,  1.02s/it]\u001b[A\n",
      " 20%|██        | 4/20 [00:04<00:16,  1.03s/it]\u001b[A\n",
      " 25%|██▌       | 5/20 [00:05<00:15,  1.04s/it]\u001b[A\n",
      " 30%|███       | 6/20 [00:06<00:13,  1.02it/s]\u001b[A\n",
      " 35%|███▌      | 7/20 [00:07<00:13,  1.03s/it]\u001b[A\n",
      " 40%|████      | 8/20 [00:08<00:11,  1.00it/s]\u001b[A\n",
      " 45%|████▌     | 9/20 [00:09<00:10,  1.03it/s]\u001b[A\n",
      " 50%|█████     | 10/20 [00:09<00:09,  1.06it/s]\u001b[A\n",
      " 55%|█████▌    | 11/20 [00:10<00:08,  1.08it/s]\u001b[A\n",
      " 60%|██████    | 12/20 [00:11<00:07,  1.11it/s]\u001b[A\n",
      " 65%|██████▌   | 13/20 [00:12<00:06,  1.05it/s]\u001b[A\n",
      " 70%|███████   | 14/20 [00:13<00:05,  1.08it/s]\u001b[A\n",
      " 75%|███████▌  | 15/20 [00:14<00:04,  1.09it/s]\u001b[A\n",
      " 80%|████████  | 16/20 [00:15<00:03,  1.06it/s]\u001b[A\n",
      " 85%|████████▌ | 17/20 [00:16<00:02,  1.09it/s]\u001b[A\n",
      " 90%|█████████ | 18/20 [00:17<00:01,  1.10it/s]\u001b[A\n",
      " 95%|█████████▌| 19/20 [00:18<00:00,  1.04it/s]\u001b[A\n",
      "100%|██████████| 20/20 [00:19<00:00,  1.03it/s]\n",
      " 18%|█▊        | 76/413 [08:21<53:59,  9.61s/it]"
     ]
    },
    {
     "name": "stdout",
     "output_type": "stream",
     "text": [
      "https://reviews.webmd.com/drugs/drugreview-15609-duo-vil-tablet\n"
     ]
    },
    {
     "name": "stderr",
     "output_type": "stream",
     "text": [
      "\n",
      "  0%|          | 0/1 [00:00<?, ?it/s]\u001b[A\n",
      "100%|██████████| 1/1 [00:00<00:00,  1.51it/s]\n",
      " 19%|█▊        | 77/413 [08:23<42:13,  7.54s/it]"
     ]
    },
    {
     "name": "stdout",
     "output_type": "stream",
     "text": [
      "https://reviews.webmd.com/drugs/drugreview-15610-duo-vil-tablet\n"
     ]
    },
    {
     "name": "stderr",
     "output_type": "stream",
     "text": [
      " 19%|█▉        | 78/413 [08:25<32:39,  5.85s/it]"
     ]
    },
    {
     "name": "stdout",
     "output_type": "stream",
     "text": [
      "https://reviews.webmd.com/drugs/drugreview-16020-limbitrol-ds-tablet\n"
     ]
    },
    {
     "name": "stderr",
     "output_type": "stream",
     "text": [
      "\n",
      "  0%|          | 0/1 [00:00<?, ?it/s]\u001b[A\n",
      "100%|██████████| 1/1 [00:00<00:00,  1.43it/s]\n",
      " 19%|█▉        | 79/413 [08:28<27:43,  4.98s/it]"
     ]
    },
    {
     "name": "stdout",
     "output_type": "stream",
     "text": [
      "https://reviews.webmd.com/drugs/drugreview-1609-zyban-tablet-er-12-hr\n"
     ]
    },
    {
     "name": "stderr",
     "output_type": "stream",
     "text": [
      "\n",
      "  0%|          | 0/3 [00:00<?, ?it/s]\u001b[A\n",
      " 33%|███▎      | 1/3 [00:00<00:01,  1.12it/s]\u001b[A\n",
      " 67%|██████▋   | 2/3 [00:02<00:01,  1.08s/it]\u001b[A\n",
      "100%|██████████| 3/3 [00:03<00:00,  1.02s/it]\n",
      " 19%|█▉        | 80/413 [08:34<28:42,  5.17s/it]"
     ]
    },
    {
     "name": "stdout",
     "output_type": "stream",
     "text": [
      "https://reviews.webmd.com/drugs/drugreview-1610-bupropion-smoking-deter-tablet-er\n"
     ]
    },
    {
     "name": "stderr",
     "output_type": "stream",
     "text": [
      " 20%|█▉        | 81/413 [08:36<22:52,  4.13s/it]"
     ]
    },
    {
     "name": "stdout",
     "output_type": "stream",
     "text": [
      "https://reviews.webmd.com/drugs/drugreview-16109-etrafon-tablet\n"
     ]
    },
    {
     "name": "stderr",
     "output_type": "stream",
     "text": [
      "\n",
      "  0%|          | 0/1 [00:00<?, ?it/s]\u001b[A\n",
      "100%|██████████| 1/1 [00:00<00:00,  1.58it/s]\n",
      " 20%|█▉        | 82/413 [08:38<20:04,  3.64s/it]"
     ]
    },
    {
     "name": "stdout",
     "output_type": "stream",
     "text": [
      "https://reviews.webmd.com/drugs/drugreview-162178-forfivo-xl\n"
     ]
    },
    {
     "name": "stderr",
     "output_type": "stream",
     "text": [
      "\n",
      "  0%|          | 0/1 [00:00<?, ?it/s]\u001b[A\n",
      "100%|██████████| 1/1 [00:00<00:00,  1.69it/s]\n",
      " 20%|██        | 83/413 [08:41<18:11,  3.31s/it]"
     ]
    },
    {
     "name": "stdout",
     "output_type": "stream",
     "text": [
      "https://reviews.webmd.com/drugs/drugreview-162761-saphris-black-cherry-tablet\n"
     ]
    },
    {
     "name": "stderr",
     "output_type": "stream",
     "text": [
      "\n",
      "  0%|          | 0/3 [00:00<?, ?it/s]\u001b[A\n",
      " 33%|███▎      | 1/3 [00:00<00:01,  1.18it/s]\u001b[A\n",
      " 67%|██████▋   | 2/3 [00:02<00:01,  1.33s/it]\u001b[A\n",
      "100%|██████████| 3/3 [00:03<00:00,  1.15s/it]\n",
      " 21%|██        | 85/413 [08:48<17:37,  3.22s/it]"
     ]
    },
    {
     "name": "stdout",
     "output_type": "stream",
     "text": [
      "skipping https://reviews.webmd.com/drugs/drugreview-163174-loxapine-breath-activated-powder-inhaler: page not found\n",
      "https://reviews.webmd.com/drugs/drugreview-163617-abilify-maintena-suspension-er-vial\n"
     ]
    },
    {
     "name": "stderr",
     "output_type": "stream",
     "text": [
      "\n",
      "  0%|          | 0/1 [00:00<?, ?it/s]\u001b[A\n",
      "100%|██████████| 1/1 [00:00<00:00,  1.36it/s]\n",
      " 21%|██        | 86/413 [08:50<16:36,  3.05s/it]"
     ]
    },
    {
     "name": "stdout",
     "output_type": "stream",
     "text": [
      "https://reviews.webmd.com/drugs/drugreview-1644-olanzapine\n"
     ]
    },
    {
     "name": "stderr",
     "output_type": "stream",
     "text": [
      "\n",
      "  0%|          | 0/6 [00:00<?, ?it/s]\u001b[A\n",
      " 17%|█▋        | 1/6 [00:00<00:04,  1.12it/s]\u001b[A\n",
      " 33%|███▎      | 2/6 [00:01<00:03,  1.12it/s]\u001b[A\n",
      " 50%|█████     | 3/6 [00:02<00:02,  1.01it/s]\u001b[A\n",
      " 67%|██████▋   | 4/6 [00:04<00:02,  1.07s/it]\u001b[A\n",
      " 83%|████████▎ | 5/6 [00:04<00:01,  1.02s/it]\u001b[A\n",
      "100%|██████████| 6/6 [00:05<00:00,  1.02it/s]\n",
      " 21%|██        | 87/413 [08:59<25:16,  4.65s/it]"
     ]
    },
    {
     "name": "stdout",
     "output_type": "stream",
     "text": [
      "https://reviews.webmd.com/drugs/drugreview-1644-olanzapine-odt\n"
     ]
    },
    {
     "name": "stderr",
     "output_type": "stream",
     "text": [
      "\n",
      "  0%|          | 0/6 [00:00<?, ?it/s]\u001b[A\n",
      " 17%|█▋        | 1/6 [00:01<00:05,  1.19s/it]\u001b[A\n",
      " 33%|███▎      | 2/6 [00:02<00:04,  1.06s/it]\u001b[A\n",
      " 50%|█████     | 3/6 [00:03<00:03,  1.03s/it]\u001b[A\n",
      " 67%|██████▋   | 4/6 [00:04<00:02,  1.01s/it]\u001b[A\n",
      " 83%|████████▎ | 5/6 [00:05<00:00,  1.03it/s]\u001b[A\n",
      "100%|██████████| 6/6 [00:05<00:00,  1.01it/s]\n",
      " 22%|██▏       | 89/413 [09:07<22:11,  4.11s/it]"
     ]
    },
    {
     "name": "stdout",
     "output_type": "stream",
     "text": [
      "skipping https://reviews.webmd.com/drugs/drugreview-165650-adasuve-10-mg-breath-activated: page not found\n",
      "https://reviews.webmd.com/drugs/drugreview-16685-midazolam-hcl\n"
     ]
    },
    {
     "name": "stderr",
     "output_type": "stream",
     "text": [
      "\n",
      "  0%|          | 0/1 [00:00<?, ?it/s]\u001b[A\n",
      "100%|██████████| 1/1 [00:00<00:00,  1.35it/s]\n",
      " 22%|██▏       | 90/413 [09:10<20:47,  3.86s/it]"
     ]
    },
    {
     "name": "stdout",
     "output_type": "stream",
     "text": [
      "https://reviews.webmd.com/drugs/drugreview-16693-versed-syrup\n"
     ]
    },
    {
     "name": "stderr",
     "output_type": "stream",
     "text": [
      "\n",
      "  0%|          | 0/2 [00:00<?, ?it/s]\u001b[A\n",
      " 50%|█████     | 1/2 [00:00<00:00,  1.03it/s]\u001b[A\n",
      "100%|██████████| 2/2 [00:01<00:00,  1.09it/s]\n",
      " 22%|██▏       | 91/413 [09:14<20:53,  3.89s/it]"
     ]
    },
    {
     "name": "stdout",
     "output_type": "stream",
     "text": [
      "https://reviews.webmd.com/drugs/drugreview-168817-paliperidone-palm-3-month-syringe\n"
     ]
    },
    {
     "name": "stderr",
     "output_type": "stream",
     "text": [
      " 22%|██▏       | 92/413 [09:16<18:03,  3.37s/it]"
     ]
    },
    {
     "name": "stdout",
     "output_type": "stream",
     "text": [
      "https://reviews.webmd.com/drugs/drugreview-168839-irenka-capsule-delayed-release-enteric-coated-capsule-delayed-e-c\n"
     ]
    },
    {
     "name": "stderr",
     "output_type": "stream",
     "text": [
      "\n",
      "  0%|          | 0/1 [00:00<?, ?it/s]\u001b[A\n",
      "100%|██████████| 1/1 [00:00<00:00,  1.74it/s]\n",
      " 23%|██▎       | 93/413 [09:19<16:23,  3.07s/it]"
     ]
    },
    {
     "name": "stdout",
     "output_type": "stream",
     "text": [
      "https://reviews.webmd.com/drugs/drugreview-168884-invega-trinza-syringe\n"
     ]
    },
    {
     "name": "stderr",
     "output_type": "stream",
     "text": [
      "\n",
      "  0%|          | 0/1 [00:00<?, ?it/s]\u001b[A\n",
      "100%|██████████| 1/1 [00:00<00:00,  1.05it/s]\n",
      " 23%|██▎       | 94/413 [09:22<16:58,  3.19s/it]"
     ]
    },
    {
     "name": "stdout",
     "output_type": "stream",
     "text": [
      "https://reviews.webmd.com/drugs/drugreview-169290-brexpiprazole-tablet\n"
     ]
    },
    {
     "name": "stderr",
     "output_type": "stream",
     "text": [
      "\n",
      "  0%|          | 0/1 [00:00<?, ?it/s]\u001b[A\n",
      "100%|██████████| 1/1 [00:00<00:00,  1.16it/s]\n",
      " 23%|██▎       | 95/413 [09:25<16:30,  3.12s/it]"
     ]
    },
    {
     "name": "stdout",
     "output_type": "stream",
     "text": [
      "https://reviews.webmd.com/drugs/drugreview-169294-rexulti\n"
     ]
    },
    {
     "name": "stderr",
     "output_type": "stream",
     "text": [
      "\n",
      "  0%|          | 0/5 [00:00<?, ?it/s]\u001b[A\n",
      " 20%|██        | 1/5 [00:01<00:04,  1.05s/it]\u001b[A\n",
      " 40%|████      | 2/5 [00:01<00:02,  1.02it/s]\u001b[A\n",
      " 60%|██████    | 3/5 [00:02<00:01,  1.06it/s]\u001b[A\n",
      " 80%|████████  | 4/5 [00:03<00:01,  1.00s/it]\u001b[A\n",
      "100%|██████████| 5/5 [00:04<00:00,  1.02it/s]\n",
      " 23%|██▎       | 96/413 [09:32<22:49,  4.32s/it]"
     ]
    },
    {
     "name": "stdout",
     "output_type": "stream",
     "text": [
      "https://reviews.webmd.com/drugs/drugreview-1699-zyprexa\n"
     ]
    },
    {
     "name": "stderr",
     "output_type": "stream",
     "text": [
      "\n",
      "  0%|          | 0/25 [00:00<?, ?it/s]\u001b[A\n",
      "  4%|▍         | 1/25 [00:00<00:22,  1.05it/s]\u001b[A\n",
      "  8%|▊         | 2/25 [00:01<00:22,  1.03it/s]\u001b[A\n",
      " 12%|█▏        | 3/25 [00:02<00:20,  1.07it/s]\u001b[A\n",
      " 16%|█▌        | 4/25 [00:04<00:22,  1.07s/it]\u001b[A\n",
      " 20%|██        | 5/25 [00:05<00:20,  1.04s/it]\u001b[A\n",
      " 24%|██▍       | 6/25 [00:05<00:18,  1.01it/s]\u001b[A\n",
      " 28%|██▊       | 7/25 [00:06<00:17,  1.02it/s]\u001b[A\n",
      " 32%|███▏      | 8/25 [00:07<00:16,  1.03it/s]\u001b[A\n",
      " 36%|███▌      | 9/25 [00:08<00:16,  1.01s/it]\u001b[A\n",
      " 40%|████      | 10/25 [00:10<00:15,  1.07s/it]\u001b[A\n",
      " 44%|████▍     | 11/25 [00:11<00:14,  1.01s/it]\u001b[A\n",
      " 48%|████▊     | 12/25 [00:12<00:13,  1.02s/it]\u001b[A\n",
      " 52%|█████▏    | 13/25 [00:13<00:12,  1.01s/it]\u001b[A\n",
      " 56%|█████▌    | 14/25 [00:14<00:10,  1.02it/s]\u001b[A\n",
      " 60%|██████    | 15/25 [00:15<00:10,  1.03s/it]\u001b[A\n",
      " 64%|██████▍   | 16/25 [00:16<00:09,  1.07s/it]\u001b[A\n",
      " 68%|██████▊   | 17/25 [00:17<00:08,  1.02s/it]\u001b[A\n",
      " 72%|███████▏  | 18/25 [00:18<00:06,  1.01it/s]\u001b[A\n",
      " 76%|███████▌  | 19/25 [00:19<00:05,  1.00it/s]\u001b[A\n",
      " 80%|████████  | 20/25 [00:20<00:04,  1.03it/s]\u001b[A\n",
      " 84%|████████▍ | 21/25 [00:21<00:04,  1.04s/it]\u001b[A\n",
      " 88%|████████▊ | 22/25 [00:22<00:02,  1.00it/s]\u001b[A\n",
      " 92%|█████████▏| 23/25 [00:23<00:02,  1.02s/it]\u001b[A\n",
      " 96%|█████████▌| 24/25 [00:24<00:00,  1.01it/s]\u001b[A\n",
      "100%|██████████| 25/25 [00:25<00:00,  1.00s/it]\n",
      " 23%|██▎       | 97/413 [10:00<59:26, 11.29s/it]"
     ]
    },
    {
     "name": "stdout",
     "output_type": "stream",
     "text": [
      "https://reviews.webmd.com/drugs/drugreview-169917-cariprazine-capsule\n"
     ]
    },
    {
     "name": "stderr",
     "output_type": "stream",
     "text": [
      "\n",
      "  0%|          | 0/1 [00:00<?, ?it/s]\u001b[A\n",
      "100%|██████████| 1/1 [00:00<00:00,  1.45it/s]\n",
      " 24%|██▎       | 98/413 [10:02<45:40,  8.70s/it]"
     ]
    },
    {
     "name": "stdout",
     "output_type": "stream",
     "text": [
      "https://reviews.webmd.com/drugs/drugreview-170027-vraylar\n"
     ]
    },
    {
     "name": "stderr",
     "output_type": "stream",
     "text": [
      "\n",
      "  0%|          | 0/4 [00:00<?, ?it/s]\u001b[A\n",
      " 25%|██▌       | 1/4 [00:00<00:02,  1.13it/s]\u001b[A\n",
      " 50%|█████     | 2/4 [00:01<00:01,  1.09it/s]\u001b[A\n",
      " 75%|███████▌  | 3/4 [00:02<00:00,  1.08it/s]\u001b[A\n",
      "100%|██████████| 4/4 [00:03<00:00,  1.09it/s]\n",
      " 24%|██▍       | 99/413 [10:09<41:33,  7.94s/it]"
     ]
    },
    {
     "name": "stdout",
     "output_type": "stream",
     "text": [
      "https://reviews.webmd.com/drugs/drugreview-170036-aripiprazole-lauroxil-suspension-er-syringe\n"
     ]
    },
    {
     "name": "stderr",
     "output_type": "stream",
     "text": [
      " 24%|██▍       | 100/413 [10:12<33:37,  6.44s/it]"
     ]
    },
    {
     "name": "stdout",
     "output_type": "stream",
     "text": [
      "https://reviews.webmd.com/drugs/drugreview-170041-aristada-suspension-er-syringe\n"
     ]
    },
    {
     "name": "stderr",
     "output_type": "stream",
     "text": [
      "\n",
      "  0%|          | 0/1 [00:00<?, ?it/s]\u001b[A\n",
      "100%|██████████| 1/1 [00:00<00:00,  1.20it/s]\n",
      " 24%|██▍       | 101/413 [10:14<27:47,  5.34s/it]"
     ]
    },
    {
     "name": "stdout",
     "output_type": "stream",
     "text": [
      "https://reviews.webmd.com/drugs/drugreview-1701-citalopram-hbr\n"
     ]
    },
    {
     "name": "stderr",
     "output_type": "stream",
     "text": [
      "\n",
      "  0%|          | 0/81 [00:00<?, ?it/s]\u001b[A\n",
      "  1%|          | 1/81 [00:01<01:23,  1.04s/it]\u001b[A\n",
      "  2%|▏         | 2/81 [00:01<01:14,  1.06it/s]\u001b[A\n",
      "  4%|▎         | 3/81 [00:02<01:13,  1.06it/s]\u001b[A\n",
      "  5%|▍         | 4/81 [00:03<01:12,  1.07it/s]\u001b[A\n",
      "  6%|▌         | 5/81 [00:04<01:17,  1.02s/it]\u001b[A\n",
      "  7%|▋         | 6/81 [00:06<01:21,  1.09s/it]\u001b[A\n",
      "  9%|▊         | 7/81 [00:07<01:15,  1.03s/it]\u001b[A\n",
      " 10%|▉         | 8/81 [00:07<01:12,  1.01it/s]\u001b[A\n",
      " 11%|█         | 9/81 [00:08<01:09,  1.04it/s]\u001b[A\n",
      " 12%|█▏        | 10/81 [00:10<01:12,  1.02s/it]\u001b[A\n",
      " 14%|█▎        | 11/81 [00:11<01:10,  1.00s/it]\u001b[A\n",
      " 15%|█▍        | 12/81 [00:12<01:10,  1.02s/it]\u001b[A\n",
      " 16%|█▌        | 13/81 [00:12<01:06,  1.02it/s]\u001b[A\n",
      " 17%|█▋        | 14/81 [00:13<01:06,  1.01it/s]\u001b[A\n",
      " 19%|█▊        | 15/81 [00:15<01:08,  1.03s/it]\u001b[A\n",
      " 20%|█▉        | 16/81 [00:16<01:10,  1.08s/it]\u001b[A\n",
      " 21%|██        | 17/81 [00:17<01:05,  1.02s/it]\u001b[A\n",
      " 22%|██▏       | 18/81 [00:18<01:04,  1.02s/it]\u001b[A\n",
      " 23%|██▎       | 19/81 [00:19<01:01,  1.01it/s]\u001b[A\n",
      " 25%|██▍       | 20/81 [00:20<01:00,  1.00it/s]\u001b[A\n",
      " 26%|██▌       | 21/81 [00:21<01:01,  1.02s/it]\u001b[A\n",
      " 27%|██▋       | 22/81 [00:22<01:10,  1.19s/it]\u001b[A\n",
      " 28%|██▊       | 23/81 [00:23<01:05,  1.13s/it]\u001b[A\n",
      " 30%|██▉       | 24/81 [00:24<01:03,  1.11s/it]\u001b[A\n",
      " 31%|███       | 25/81 [00:25<00:59,  1.05s/it]\u001b[A\n",
      " 32%|███▏      | 26/81 [00:26<00:56,  1.03s/it]\u001b[A\n",
      " 33%|███▎      | 27/81 [00:27<00:57,  1.06s/it]\u001b[A\n",
      " 35%|███▍      | 28/81 [00:28<00:54,  1.02s/it]\u001b[A\n",
      " 36%|███▌      | 29/81 [00:29<00:52,  1.01s/it]\u001b[A\n",
      " 37%|███▋      | 30/81 [00:30<00:50,  1.00it/s]\u001b[A\n",
      " 38%|███▊      | 31/81 [00:31<00:48,  1.04it/s]\u001b[A\n",
      " 40%|███▉      | 32/81 [00:32<00:50,  1.03s/it]\u001b[A\n",
      " 41%|████      | 33/81 [00:33<00:47,  1.01it/s]\u001b[A\n",
      " 42%|████▏     | 34/81 [00:34<00:45,  1.03it/s]\u001b[A\n",
      " 43%|████▎     | 35/81 [00:35<00:43,  1.05it/s]\u001b[A\n",
      " 44%|████▍     | 36/81 [00:36<00:42,  1.06it/s]\u001b[A\n",
      " 46%|████▌     | 37/81 [00:37<00:40,  1.07it/s]\u001b[A\n",
      " 47%|████▋     | 38/81 [00:38<00:43,  1.01s/it]\u001b[A\n",
      " 48%|████▊     | 39/81 [00:39<00:41,  1.00it/s]\u001b[A\n",
      " 49%|████▉     | 40/81 [00:40<00:40,  1.01it/s]\u001b[A\n",
      " 51%|█████     | 41/81 [00:41<00:39,  1.02it/s]\u001b[A\n",
      " 52%|█████▏    | 42/81 [00:42<00:37,  1.05it/s]\u001b[A\n",
      " 53%|█████▎    | 43/81 [00:43<00:35,  1.06it/s]\u001b[A\n",
      " 54%|█████▍    | 44/81 [00:44<00:37,  1.01s/it]\u001b[A\n",
      " 56%|█████▌    | 45/81 [00:45<00:35,  1.02it/s]\u001b[A\n",
      " 57%|█████▋    | 46/81 [00:46<00:33,  1.05it/s]\u001b[A\n",
      " 58%|█████▊    | 47/81 [00:47<00:32,  1.06it/s]\u001b[A\n",
      " 59%|█████▉    | 48/81 [00:48<00:31,  1.04it/s]\u001b[A\n",
      " 60%|██████    | 49/81 [00:49<00:33,  1.05s/it]\u001b[A\n",
      " 62%|██████▏   | 50/81 [00:50<00:31,  1.02s/it]\u001b[A\n",
      " 63%|██████▎   | 51/81 [00:51<00:30,  1.01s/it]\u001b[A\n",
      " 64%|██████▍   | 52/81 [00:52<00:28,  1.00it/s]\u001b[A\n",
      " 65%|██████▌   | 53/81 [00:53<00:27,  1.02it/s]\u001b[A\n",
      " 67%|██████▋   | 54/81 [00:54<00:26,  1.03it/s]\u001b[A\n",
      " 68%|██████▊   | 55/81 [00:55<00:26,  1.00s/it]\u001b[A\n",
      " 69%|██████▉   | 56/81 [00:56<00:24,  1.03it/s]\u001b[A\n",
      " 70%|███████   | 57/81 [00:57<00:22,  1.05it/s]\u001b[A\n",
      " 72%|███████▏  | 58/81 [00:58<00:21,  1.05it/s]\u001b[A\n",
      " 73%|███████▎  | 59/81 [00:59<00:21,  1.04it/s]\u001b[A\n",
      " 74%|███████▍  | 60/81 [01:00<00:21,  1.03s/it]\u001b[A\n",
      " 75%|███████▌  | 61/81 [01:01<00:20,  1.02s/it]\u001b[A\n",
      " 77%|███████▋  | 62/81 [01:02<00:18,  1.00it/s]\u001b[A\n",
      " 78%|███████▊  | 63/81 [01:03<00:17,  1.04it/s]\u001b[A\n",
      " 79%|███████▉  | 64/81 [01:04<00:16,  1.04it/s]\u001b[A\n",
      " 80%|████████  | 65/81 [01:04<00:14,  1.07it/s]\u001b[A\n",
      " 81%|████████▏ | 66/81 [01:06<00:15,  1.04s/it]\u001b[A\n",
      " 83%|████████▎ | 67/81 [01:07<00:14,  1.03s/it]\u001b[A\n",
      " 84%|████████▍ | 68/81 [01:08<00:12,  1.00it/s]\u001b[A\n",
      " 85%|████████▌ | 69/81 [01:09<00:11,  1.01it/s]\u001b[A\n",
      " 86%|████████▋ | 70/81 [01:09<00:10,  1.05it/s]\u001b[A\n",
      " 88%|████████▊ | 71/81 [01:11<00:10,  1.02s/it]\u001b[A\n",
      " 89%|████████▉ | 72/81 [01:12<00:08,  1.01it/s]\u001b[A\n",
      " 90%|█████████ | 73/81 [01:12<00:07,  1.04it/s]\u001b[A\n",
      " 91%|█████████▏| 74/81 [01:13<00:06,  1.06it/s]\u001b[A\n",
      " 93%|█████████▎| 75/81 [01:14<00:05,  1.01it/s]\u001b[A\n",
      " 94%|█████████▍| 76/81 [01:15<00:04,  1.01it/s]\u001b[A\n",
      " 95%|█████████▌| 77/81 [01:17<00:04,  1.02s/it]\u001b[A\n",
      " 96%|█████████▋| 78/81 [01:18<00:03,  1.01s/it]\u001b[A\n",
      " 98%|█████████▊| 79/81 [01:18<00:01,  1.01it/s]\u001b[A\n",
      " 99%|█████████▉| 80/81 [01:19<00:00,  1.04it/s]\u001b[A\n",
      "100%|██████████| 81/81 [01:20<00:00,  1.00it/s]\n",
      " 25%|██▍       | 102/413 [11:38<2:29:27, 28.84s/it]"
     ]
    },
    {
     "name": "stdout",
     "output_type": "stream",
     "text": [
      "https://reviews.webmd.com/drugs/drugreview-171383-bupropion-hcl-sr\n"
     ]
    },
    {
     "name": "stderr",
     "output_type": "stream",
     "text": [
      "\n",
      "  0%|          | 0/1 [00:00<?, ?it/s]\u001b[A\n",
      "100%|██████████| 1/1 [00:00<00:00,  1.04it/s]\n",
      " 25%|██▍       | 103/413 [11:41<1:48:44, 21.05s/it]"
     ]
    },
    {
     "name": "stdout",
     "output_type": "stream",
     "text": [
      "https://reviews.webmd.com/drugs/drugreview-175570-aripiprazole-lauroxil-submicr-suspension-er-syringe\n"
     ]
    },
    {
     "name": "stderr",
     "output_type": "stream",
     "text": [
      " 25%|██▌       | 104/413 [11:43<1:18:40, 15.28s/it]"
     ]
    },
    {
     "name": "stdout",
     "output_type": "stream",
     "text": [
      "https://reviews.webmd.com/drugs/drugreview-175572-aristada-initio-suspension-er-syringe\n"
     ]
    },
    {
     "name": "stderr",
     "output_type": "stream",
     "text": [
      " 25%|██▌       | 105/413 [11:45<57:49, 11.27s/it]  "
     ]
    },
    {
     "name": "stdout",
     "output_type": "stream",
     "text": [
      "https://reviews.webmd.com/drugs/drugreview-175840-risperidone-suspension-er-syringe\n"
     ]
    },
    {
     "name": "stderr",
     "output_type": "stream",
     "text": [
      " 26%|██▌       | 106/413 [11:47<43:36,  8.52s/it]"
     ]
    },
    {
     "name": "stdout",
     "output_type": "stream",
     "text": [
      "https://reviews.webmd.com/drugs/drugreview-175842-perseris-suspension-er-syringe\n"
     ]
    },
    {
     "name": "stderr",
     "output_type": "stream",
     "text": [
      " 26%|██▌       | 107/413 [11:48<33:09,  6.50s/it]"
     ]
    },
    {
     "name": "stdout",
     "output_type": "stream",
     "text": [
      "https://reviews.webmd.com/drugs/drugreview-176467-abilify-mycite\n"
     ]
    },
    {
     "name": "stderr",
     "output_type": "stream",
     "text": [
      " 26%|██▌       | 108/413 [11:50<25:44,  5.06s/it]"
     ]
    },
    {
     "name": "stdout",
     "output_type": "stream",
     "text": [
      "https://reviews.webmd.com/drugs/drugreview-1774-fluoxetine-dr\n"
     ]
    },
    {
     "name": "stderr",
     "output_type": "stream",
     "text": [
      "\n",
      "  0%|          | 0/22 [00:00<?, ?it/s]\u001b[A\n",
      "  5%|▍         | 1/22 [00:01<00:22,  1.07s/it]\u001b[A\n",
      "  9%|▉         | 2/22 [00:01<00:19,  1.03it/s]\u001b[A\n",
      " 14%|█▎        | 3/22 [00:02<00:17,  1.06it/s]\u001b[A\n",
      " 18%|█▊        | 4/22 [00:04<00:18,  1.05s/it]\u001b[A\n",
      " 23%|██▎       | 5/22 [00:05<00:17,  1.01s/it]\u001b[A\n",
      " 27%|██▋       | 6/22 [00:06<00:16,  1.01s/it]\u001b[A\n",
      " 32%|███▏      | 7/22 [00:06<00:14,  1.01it/s]\u001b[A\n",
      " 36%|███▋      | 8/22 [00:07<00:13,  1.03it/s]\u001b[A\n",
      " 41%|████      | 9/22 [00:08<00:12,  1.04it/s]\u001b[A\n",
      " 45%|████▌     | 10/22 [00:10<00:12,  1.04s/it]\u001b[A\n",
      " 50%|█████     | 11/22 [00:11<00:11,  1.01s/it]\u001b[A\n",
      " 55%|█████▍    | 12/22 [00:11<00:09,  1.02it/s]\u001b[A\n",
      " 59%|█████▉    | 13/22 [00:12<00:08,  1.06it/s]\u001b[A\n",
      " 64%|██████▎   | 14/22 [00:13<00:07,  1.05it/s]\u001b[A\n",
      " 68%|██████▊   | 15/22 [00:15<00:07,  1.04s/it]\u001b[A\n",
      " 73%|███████▎  | 16/22 [00:15<00:06,  1.00s/it]\u001b[A\n",
      " 77%|███████▋  | 17/22 [00:16<00:04,  1.01it/s]\u001b[A\n",
      " 82%|████████▏ | 18/22 [00:17<00:03,  1.01it/s]\u001b[A\n",
      " 86%|████████▋ | 19/22 [00:18<00:02,  1.04it/s]\u001b[A\n",
      " 91%|█████████ | 20/22 [00:19<00:01,  1.02it/s]\u001b[A\n",
      " 95%|█████████▌| 21/22 [00:20<00:01,  1.04s/it]\u001b[A\n",
      "100%|██████████| 22/22 [00:21<00:00,  1.00it/s]\n",
      " 26%|██▋       | 109/413 [12:15<55:58, 11.05s/it]"
     ]
    },
    {
     "name": "stdout",
     "output_type": "stream",
     "text": [
      "https://reviews.webmd.com/drugs/drugreview-1774-fluoxetine-hcl\n"
     ]
    },
    {
     "name": "stderr",
     "output_type": "stream",
     "text": [
      "\n",
      "  0%|          | 0/22 [00:00<?, ?it/s]\u001b[A\n",
      "  5%|▍         | 1/22 [00:00<00:18,  1.14it/s]\u001b[A\n",
      "  9%|▉         | 2/22 [00:01<00:18,  1.08it/s]\u001b[A\n",
      " 14%|█▎        | 3/22 [00:03<00:20,  1.10s/it]\u001b[A\n",
      " 18%|█▊        | 4/22 [00:04<00:18,  1.04s/it]\u001b[A\n",
      " 23%|██▎       | 5/22 [00:05<00:17,  1.01s/it]\u001b[A\n",
      " 27%|██▋       | 6/22 [00:05<00:15,  1.02it/s]\u001b[A\n",
      " 32%|███▏      | 7/22 [00:06<00:14,  1.04it/s]\u001b[A\n",
      " 36%|███▋      | 8/22 [00:07<00:13,  1.04it/s]\u001b[A\n",
      " 41%|████      | 9/22 [00:09<00:13,  1.02s/it]\u001b[A\n",
      " 45%|████▌     | 10/22 [00:10<00:12,  1.02s/it]\u001b[A\n",
      " 50%|█████     | 11/22 [00:11<00:11,  1.01s/it]\u001b[A\n",
      " 55%|█████▍    | 12/22 [00:11<00:09,  1.00it/s]\u001b[A\n",
      " 59%|█████▉    | 13/22 [00:12<00:08,  1.01it/s]\u001b[A\n",
      " 64%|██████▎   | 14/22 [00:14<00:08,  1.06s/it]\u001b[A\n",
      " 68%|██████▊   | 15/22 [00:15<00:07,  1.02s/it]\u001b[A\n",
      " 73%|███████▎  | 16/22 [00:16<00:06,  1.01s/it]\u001b[A\n",
      " 77%|███████▋  | 17/22 [00:17<00:04,  1.00it/s]\u001b[A\n",
      " 82%|████████▏ | 18/22 [00:18<00:04,  1.03s/it]\u001b[A\n",
      " 86%|████████▋ | 19/22 [00:19<00:03,  1.02s/it]\u001b[A\n",
      " 91%|█████████ | 20/22 [00:20<00:02,  1.07s/it]\u001b[A\n",
      " 95%|█████████▌| 21/22 [00:21<00:01,  1.06s/it]\u001b[A\n",
      "100%|██████████| 22/22 [00:22<00:00,  1.02s/it]\n",
      " 27%|██▋       | 110/413 [12:39<1:14:40, 14.79s/it]"
     ]
    },
    {
     "name": "stdout",
     "output_type": "stream",
     "text": [
      "https://reviews.webmd.com/drugs/drugreview-1776-anafranil\n"
     ]
    },
    {
     "name": "stderr",
     "output_type": "stream",
     "text": [
      "\n",
      "  0%|          | 0/4 [00:00<?, ?it/s]\u001b[A\n",
      " 25%|██▌       | 1/4 [00:01<00:04,  1.58s/it]\u001b[A\n",
      " 50%|█████     | 2/4 [00:02<00:02,  1.22s/it]\u001b[A\n",
      " 75%|███████▌  | 3/4 [00:03<00:01,  1.32s/it]\u001b[A\n",
      "100%|██████████| 4/4 [00:04<00:00,  1.25s/it]\n",
      " 27%|██▋       | 111/413 [12:46<1:03:01, 12.52s/it]"
     ]
    },
    {
     "name": "stdout",
     "output_type": "stream",
     "text": [
      "https://reviews.webmd.com/drugs/drugreview-177632-drizalma-sprinkle\n"
     ]
    },
    {
     "name": "stderr",
     "output_type": "stream",
     "text": [
      " 27%|██▋       | 112/413 [12:48<46:49,  9.33s/it]  "
     ]
    },
    {
     "name": "stdout",
     "output_type": "stream",
     "text": [
      "https://reviews.webmd.com/drugs/drugreview-178265-asenapine-patch-24-hours\n"
     ]
    },
    {
     "name": "stderr",
     "output_type": "stream",
     "text": [
      " 27%|██▋       | 113/413 [12:50<35:17,  7.06s/it]"
     ]
    },
    {
     "name": "stdout",
     "output_type": "stream",
     "text": [
      "https://reviews.webmd.com/drugs/drugreview-178490-secuado-patch-24-hours\n"
     ]
    },
    {
     "name": "stderr",
     "output_type": "stream",
     "text": [
      " 28%|██▊       | 114/413 [12:51<27:15,  5.47s/it]"
     ]
    },
    {
     "name": "stdout",
     "output_type": "stream",
     "text": [
      "https://reviews.webmd.com/drugs/drugreview-178552-lumateperone-capsule\n"
     ]
    },
    {
     "name": "stderr",
     "output_type": "stream",
     "text": [
      " 28%|██▊       | 115/413 [12:54<22:37,  4.55s/it]"
     ]
    },
    {
     "name": "stdout",
     "output_type": "stream",
     "text": [
      "https://reviews.webmd.com/drugs/drugreview-178621-caplyta\n"
     ]
    },
    {
     "name": "stderr",
     "output_type": "stream",
     "text": [
      "\n",
      "  0%|          | 0/5 [00:00<?, ?it/s]\u001b[A\n",
      " 20%|██        | 1/5 [00:00<00:03,  1.12it/s]\u001b[A\n",
      " 40%|████      | 2/5 [00:01<00:02,  1.10it/s]\u001b[A\n",
      " 60%|██████    | 3/5 [00:03<00:02,  1.06s/it]\u001b[A\n",
      " 80%|████████  | 4/5 [00:04<00:01,  1.02s/it]\u001b[A\n",
      "100%|██████████| 5/5 [00:05<00:00,  1.01s/it]\n",
      " 28%|██▊       | 116/413 [13:01<26:56,  5.44s/it]"
     ]
    },
    {
     "name": "stdout",
     "output_type": "stream",
     "text": [
      "https://reviews.webmd.com/drugs/drugreview-1807-elavil-tablet\n"
     ]
    },
    {
     "name": "stderr",
     "output_type": "stream",
     "text": [
      "\n",
      "  0%|          | 0/21 [00:00<?, ?it/s]\u001b[A\n",
      "  5%|▍         | 1/21 [00:00<00:17,  1.11it/s]\u001b[A\n",
      " 10%|▉         | 2/21 [00:02<00:19,  1.03s/it]\u001b[A\n",
      " 14%|█▍        | 3/21 [00:02<00:17,  1.00it/s]\u001b[A\n",
      " 19%|█▉        | 4/21 [00:03<00:16,  1.01it/s]\u001b[A\n",
      " 24%|██▍       | 5/21 [00:04<00:15,  1.02it/s]\u001b[A\n",
      " 29%|██▊       | 6/21 [00:05<00:14,  1.03it/s]\u001b[A\n",
      " 33%|███▎      | 7/21 [00:06<00:13,  1.02it/s]\u001b[A\n",
      " 38%|███▊      | 8/21 [00:08<00:13,  1.05s/it]\u001b[A\n",
      " 43%|████▎     | 9/21 [00:08<00:12,  1.01s/it]\u001b[A\n",
      " 48%|████▊     | 10/21 [00:09<00:10,  1.00it/s]\u001b[A\n",
      " 52%|█████▏    | 11/21 [00:10<00:09,  1.03it/s]\u001b[A\n",
      " 57%|█████▋    | 12/21 [00:11<00:08,  1.02it/s]\u001b[A\n",
      " 62%|██████▏   | 13/21 [00:12<00:07,  1.04it/s]\u001b[A\n",
      " 67%|██████▋   | 14/21 [00:13<00:07,  1.01s/it]\u001b[A\n",
      " 71%|███████▏  | 15/21 [00:14<00:05,  1.01it/s]\u001b[A\n",
      " 76%|███████▌  | 16/21 [00:15<00:04,  1.06it/s]\u001b[A\n",
      " 81%|████████  | 17/21 [00:16<00:03,  1.06it/s]\u001b[A\n",
      " 86%|████████▌ | 18/21 [00:17<00:02,  1.08it/s]\u001b[A\n",
      " 90%|█████████ | 19/21 [00:18<00:02,  1.03s/it]\u001b[A\n",
      " 95%|█████████▌| 20/21 [00:19<00:01,  1.01s/it]\u001b[A\n",
      "100%|██████████| 21/21 [00:20<00:00,  1.01it/s]\n",
      " 28%|██▊       | 117/413 [13:24<52:54, 10.72s/it]"
     ]
    },
    {
     "name": "stdout",
     "output_type": "stream",
     "text": [
      "https://reviews.webmd.com/drugs/drugreview-181130-abilify-mycite\n"
     ]
    },
    {
     "name": "stderr",
     "output_type": "stream",
     "text": [
      " 29%|██▊       | 118/413 [13:26<39:42,  8.08s/it]"
     ]
    },
    {
     "name": "stdout",
     "output_type": "stream",
     "text": [
      "https://reviews.webmd.com/drugs/drugreview-181133-abilify-mycite\n"
     ]
    },
    {
     "name": "stderr",
     "output_type": "stream",
     "text": [
      " 29%|██▉       | 119/413 [13:28<30:24,  6.20s/it]"
     ]
    },
    {
     "name": "stdout",
     "output_type": "stream",
     "text": [
      "https://reviews.webmd.com/drugs/drugreview-181599-olanzapine-samidorphan-tablet\n"
     ]
    },
    {
     "name": "stderr",
     "output_type": "stream",
     "text": [
      " 29%|██▉       | 120/413 [13:30<23:52,  4.89s/it]"
     ]
    },
    {
     "name": "stdout",
     "output_type": "stream",
     "text": [
      "https://reviews.webmd.com/drugs/drugreview-181659-lybalvi\n"
     ]
    },
    {
     "name": "stderr",
     "output_type": "stream",
     "text": [
      "\n",
      "  0%|          | 0/1 [00:00<?, ?it/s]\u001b[A\n",
      "100%|██████████| 1/1 [00:00<00:00,  1.41it/s]\n",
      " 29%|██▉       | 121/413 [13:33<20:40,  4.25s/it]"
     ]
    },
    {
     "name": "stdout",
     "output_type": "stream",
     "text": [
      "https://reviews.webmd.com/drugs/drugreview-1820-pamelor\n"
     ]
    },
    {
     "name": "stderr",
     "output_type": "stream",
     "text": [
      "\n",
      "  0%|          | 0/7 [00:00<?, ?it/s]\u001b[A\n",
      " 14%|█▍        | 1/7 [00:01<00:07,  1.19s/it]\u001b[A\n",
      " 29%|██▊       | 2/7 [00:02<00:05,  1.05s/it]\u001b[A\n",
      " 43%|████▎     | 3/7 [00:03<00:04,  1.02s/it]\u001b[A\n",
      " 57%|█████▋    | 4/7 [00:04<00:03,  1.02s/it]\u001b[A\n",
      " 71%|███████▏  | 5/7 [00:05<00:01,  1.01it/s]\u001b[A\n",
      " 86%|████████▌ | 6/7 [00:06<00:00,  1.02it/s]\u001b[A\n",
      "100%|██████████| 7/7 [00:07<00:00,  1.03s/it]\n",
      " 30%|██▉       | 122/413 [13:43<28:48,  5.94s/it]"
     ]
    },
    {
     "name": "stdout",
     "output_type": "stream",
     "text": [
      "https://reviews.webmd.com/drugs/drugreview-182212-loreev-xr\n"
     ]
    },
    {
     "name": "stderr",
     "output_type": "stream",
     "text": [
      "\n",
      "  0%|          | 0/1 [00:00<?, ?it/s]\u001b[A\n",
      "100%|██████████| 1/1 [00:00<00:00,  1.20it/s]\n",
      " 30%|██▉       | 123/413 [13:45<23:49,  4.93s/it]"
     ]
    },
    {
     "name": "stdout",
     "output_type": "stream",
     "text": [
      "https://reviews.webmd.com/drugs/drugreview-182269-paliperidone-palm-6-month-syringe\n"
     ]
    },
    {
     "name": "stderr",
     "output_type": "stream",
     "text": [
      " 30%|███       | 124/413 [13:47<19:03,  3.96s/it]"
     ]
    },
    {
     "name": "stdout",
     "output_type": "stream",
     "text": [
      "https://reviews.webmd.com/drugs/drugreview-182300-invega-hafyera-syringe\n"
     ]
    },
    {
     "name": "stderr",
     "output_type": "stream",
     "text": [
      "\n",
      "  0%|          | 0/1 [00:00<?, ?it/s]\u001b[A\n",
      "100%|██████████| 1/1 [00:00<00:00,  1.38it/s]\n",
      " 31%|███       | 126/413 [13:51<13:39,  2.85s/it]"
     ]
    },
    {
     "name": "stdout",
     "output_type": "stream",
     "text": [
      "skipping https://reviews.webmd.com/drugs/drugreview-18354-tranxene-sd-tablet-er: page not found\n",
      "https://reviews.webmd.com/drugs/drugreview-184446-venlafaxine-besylate-er\n"
     ]
    },
    {
     "name": "stderr",
     "output_type": "stream",
     "text": [
      " 31%|███       | 127/413 [13:52<11:54,  2.50s/it]"
     ]
    },
    {
     "name": "stdout",
     "output_type": "stream",
     "text": [
      "https://reviews.webmd.com/drugs/drugreview-186559-aripiprazole-2-month-suspension-er-syringe\n"
     ]
    },
    {
     "name": "stderr",
     "output_type": "stream",
     "text": [
      " 31%|███       | 128/413 [13:54<10:32,  2.22s/it]"
     ]
    },
    {
     "name": "stdout",
     "output_type": "stream",
     "text": [
      "https://reviews.webmd.com/drugs/drugreview-186560-abilify-asimtufii-suspension-er-syringe\n"
     ]
    },
    {
     "name": "stderr",
     "output_type": "stream",
     "text": [
      " 31%|███       | 129/413 [13:56<10:02,  2.12s/it]"
     ]
    },
    {
     "name": "stdout",
     "output_type": "stream",
     "text": [
      "https://reviews.webmd.com/drugs/drugreview-186581-risperidone-suspension-er-syringe\n"
     ]
    },
    {
     "name": "stderr",
     "output_type": "stream",
     "text": [
      " 31%|███▏      | 130/413 [13:57<09:08,  1.94s/it]"
     ]
    },
    {
     "name": "stdout",
     "output_type": "stream",
     "text": [
      "https://reviews.webmd.com/drugs/drugreview-186641-uzedy-suspension-er-syringe\n"
     ]
    },
    {
     "name": "stderr",
     "output_type": "stream",
     "text": [
      " 32%|███▏      | 131/413 [13:59<09:07,  1.94s/it]"
     ]
    },
    {
     "name": "stdout",
     "output_type": "stream",
     "text": [
      "https://reviews.webmd.com/drugs/drugreview-187422-rykindo-vial\n"
     ]
    },
    {
     "name": "stderr",
     "output_type": "stream",
     "text": [
      " 32%|███▏      | 132/413 [14:01<09:18,  1.99s/it]"
     ]
    },
    {
     "name": "stdout",
     "output_type": "stream",
     "text": [
      "https://reviews.webmd.com/drugs/drugreview-1919-chlordiazepoxide-amitriptyline\n"
     ]
    },
    {
     "name": "stderr",
     "output_type": "stream",
     "text": [
      "\n",
      "  0%|          | 0/1 [00:00<?, ?it/s]\u001b[A\n",
      "100%|██████████| 1/1 [00:01<00:00,  1.08s/it]\n",
      " 32%|███▏      | 134/413 [14:06<09:50,  2.12s/it]"
     ]
    },
    {
     "name": "stdout",
     "output_type": "stream",
     "text": [
      "skipping https://reviews.webmd.com/drugs/drugreview-19220-chlormezanone-tablet: page not found\n"
     ]
    },
    {
     "name": "stderr",
     "output_type": "stream",
     "text": [
      " 33%|███▎      | 135/413 [14:07<08:18,  1.79s/it]"
     ]
    },
    {
     "name": "stdout",
     "output_type": "stream",
     "text": [
      "skipping https://reviews.webmd.com/drugs/drugreview-19227-trancopal-tablet: page not found\n",
      "https://reviews.webmd.com/drugs/drugreview-19342-thsc-lorazepam-tablet\n"
     ]
    },
    {
     "name": "stderr",
     "output_type": "stream",
     "text": [
      " 33%|███▎      | 136/413 [14:09<08:20,  1.81s/it]"
     ]
    },
    {
     "name": "stdout",
     "output_type": "stream",
     "text": [
      "https://reviews.webmd.com/drugs/drugreview-19825-sarafem-capsule\n"
     ]
    },
    {
     "name": "stderr",
     "output_type": "stream",
     "text": [
      "\n",
      "  0%|          | 0/3 [00:00<?, ?it/s]\u001b[A\n",
      " 33%|███▎      | 1/3 [00:00<00:01,  1.03it/s]\u001b[A\n",
      " 67%|██████▋   | 2/3 [00:01<00:00,  1.05it/s]\u001b[A\n",
      "100%|██████████| 3/3 [00:02<00:00,  1.04it/s]\n",
      " 33%|███▎      | 137/413 [14:15<13:29,  2.93s/it]"
     ]
    },
    {
     "name": "stdout",
     "output_type": "stream",
     "text": [
      "https://reviews.webmd.com/drugs/drugreview-19876-zyprexa-zydis\n"
     ]
    },
    {
     "name": "stderr",
     "output_type": "stream",
     "text": [
      "\n",
      "  0%|          | 0/2 [00:00<?, ?it/s]\u001b[A\n",
      " 50%|█████     | 1/2 [00:00<00:00,  1.05it/s]\u001b[A\n",
      "100%|██████████| 2/2 [00:02<00:00,  1.05s/it]\n",
      " 33%|███▎      | 138/413 [14:19<15:44,  3.43s/it]"
     ]
    },
    {
     "name": "stdout",
     "output_type": "stream",
     "text": [
      "https://reviews.webmd.com/drugs/drugreview-20568-ziprasidone-hcl\n"
     ]
    },
    {
     "name": "stderr",
     "output_type": "stream",
     "text": [
      "\n",
      "  0%|          | 0/7 [00:00<?, ?it/s]\u001b[A\n",
      " 14%|█▍        | 1/7 [00:00<00:05,  1.07it/s]\u001b[A\n",
      " 29%|██▊       | 2/7 [00:01<00:04,  1.09it/s]\u001b[A\n",
      " 43%|████▎     | 3/7 [00:02<00:03,  1.07it/s]\u001b[A\n",
      " 57%|█████▋    | 4/7 [00:03<00:02,  1.01it/s]\u001b[A\n",
      " 71%|███████▏  | 5/7 [00:04<00:01,  1.02it/s]\u001b[A\n",
      " 86%|████████▌ | 6/7 [00:05<00:00,  1.03it/s]\u001b[A\n",
      "100%|██████████| 7/7 [00:06<00:00,  1.04it/s]\n",
      " 34%|███▎      | 139/413 [14:29<23:35,  5.16s/it]"
     ]
    },
    {
     "name": "stdout",
     "output_type": "stream",
     "text": [
      "https://reviews.webmd.com/drugs/drugreview-20575-geodon\n"
     ]
    },
    {
     "name": "stderr",
     "output_type": "stream",
     "text": [
      "\n",
      "  0%|          | 0/33 [00:00<?, ?it/s]\u001b[A\n",
      "  3%|▎         | 1/33 [00:00<00:28,  1.13it/s]\u001b[A\n",
      "  6%|▌         | 2/33 [00:02<00:31,  1.02s/it]\u001b[A\n",
      "  9%|▉         | 3/33 [00:02<00:30,  1.01s/it]\u001b[A\n",
      " 12%|█▏        | 4/33 [00:03<00:28,  1.01it/s]\u001b[A\n",
      " 15%|█▌        | 5/33 [00:04<00:27,  1.02it/s]\u001b[A\n",
      " 18%|█▊        | 6/33 [00:05<00:26,  1.03it/s]\u001b[A\n",
      " 21%|██        | 7/33 [00:06<00:24,  1.06it/s]\u001b[A\n",
      " 24%|██▍       | 8/33 [00:07<00:24,  1.00it/s]\u001b[A\n",
      " 27%|██▋       | 9/33 [00:08<00:23,  1.02it/s]\u001b[A\n",
      " 30%|███       | 10/33 [00:09<00:21,  1.05it/s]\u001b[A\n",
      " 33%|███▎      | 11/33 [00:10<00:20,  1.07it/s]\u001b[A\n",
      " 36%|███▋      | 12/33 [00:11<00:19,  1.07it/s]\u001b[A\n",
      " 39%|███▉      | 13/33 [00:12<00:19,  1.03it/s]\u001b[A\n",
      " 42%|████▏     | 14/33 [00:13<00:18,  1.04it/s]\u001b[A\n",
      " 45%|████▌     | 15/33 [00:14<00:17,  1.04it/s]\u001b[A\n",
      " 48%|████▊     | 16/33 [00:15<00:16,  1.05it/s]\u001b[A\n",
      " 52%|█████▏    | 17/33 [00:16<00:15,  1.04it/s]\u001b[A\n",
      " 55%|█████▍    | 18/33 [00:17<00:14,  1.05it/s]\u001b[A\n",
      " 58%|█████▊    | 19/33 [00:18<00:13,  1.00it/s]\u001b[A\n",
      " 61%|██████    | 20/33 [00:19<00:12,  1.02it/s]\u001b[A\n",
      " 64%|██████▎   | 21/33 [00:20<00:11,  1.03it/s]\u001b[A\n",
      " 67%|██████▋   | 22/33 [00:21<00:10,  1.02it/s]\u001b[A\n",
      " 70%|██████▉   | 23/33 [00:22<00:09,  1.04it/s]\u001b[A\n",
      " 73%|███████▎  | 24/33 [00:23<00:09,  1.01s/it]\u001b[A\n",
      " 76%|███████▌  | 25/33 [00:24<00:07,  1.00it/s]\u001b[A\n",
      " 79%|███████▉  | 26/33 [00:25<00:06,  1.03it/s]\u001b[A\n",
      " 82%|████████▏ | 27/33 [00:26<00:06,  1.00s/it]\u001b[A\n",
      " 85%|████████▍ | 28/33 [00:27<00:04,  1.01it/s]\u001b[A\n",
      " 88%|████████▊ | 29/33 [00:28<00:03,  1.02it/s]\u001b[A\n",
      " 91%|█████████ | 30/33 [00:29<00:03,  1.04s/it]\u001b[A\n",
      " 94%|█████████▍| 31/33 [00:30<00:02,  1.04s/it]\u001b[A\n",
      " 97%|█████████▋| 32/33 [00:31<00:01,  1.01s/it]\u001b[A\n",
      "100%|██████████| 33/33 [00:32<00:00,  1.02it/s]\n",
      " 34%|███▍      | 140/413 [15:03<1:03:36, 13.98s/it]"
     ]
    },
    {
     "name": "stdout",
     "output_type": "stream",
     "text": [
      "https://reviews.webmd.com/drugs/drugreview-209-adapin-capsule\n"
     ]
    },
    {
     "name": "stderr",
     "output_type": "stream",
     "text": [
      "\n",
      "  0%|          | 0/1 [00:00<?, ?it/s]\u001b[A\n",
      "100%|██████████| 1/1 [00:00<00:00,  1.44it/s]\n",
      " 34%|███▍      | 141/413 [15:06<47:59, 10.59s/it]  "
     ]
    },
    {
     "name": "stdout",
     "output_type": "stream",
     "text": [
      "https://reviews.webmd.com/drugs/drugreview-21670-fluoxetine-capsule\n"
     ]
    },
    {
     "name": "stderr",
     "output_type": "stream",
     "text": [
      "\n",
      "  0%|          | 0/1 [00:00<?, ?it/s]\u001b[A\n",
      "100%|██████████| 1/1 [00:00<00:00,  1.59it/s]\n",
      " 34%|███▍      | 142/413 [15:08<36:51,  8.16s/it]"
     ]
    },
    {
     "name": "stdout",
     "output_type": "stream",
     "text": [
      "https://reviews.webmd.com/drugs/drugreview-21672-rapiflux-tablet\n"
     ]
    },
    {
     "name": "stderr",
     "output_type": "stream",
     "text": [
      "\n",
      "  0%|          | 0/1 [00:00<?, ?it/s]\u001b[A\n",
      "100%|██████████| 1/1 [00:00<00:00,  1.23it/s]\n",
      " 35%|███▍      | 143/413 [15:11<29:32,  6.56s/it]"
     ]
    },
    {
     "name": "stdout",
     "output_type": "stream",
     "text": [
      "https://reviews.webmd.com/drugs/drugreview-2202-chlordiazepoxide-amitriptyline-tablet\n"
     ]
    },
    {
     "name": "stderr",
     "output_type": "stream",
     "text": [
      " 35%|███▍      | 144/413 [15:13<23:29,  5.24s/it]"
     ]
    },
    {
     "name": "stdout",
     "output_type": "stream",
     "text": [
      "https://reviews.webmd.com/drugs/drugreview-22834-paxil-cr-tablet-er-24-hr\n"
     ]
    },
    {
     "name": "stderr",
     "output_type": "stream",
     "text": [
      " 35%|███▌      | 145/413 [15:15<19:16,  4.31s/it]"
     ]
    },
    {
     "name": "stdout",
     "output_type": "stream",
     "text": [
      "https://reviews.webmd.com/drugs/drugreview-2846-perphenazine-amitriptyline\n"
     ]
    },
    {
     "name": "stderr",
     "output_type": "stream",
     "text": [
      "\n",
      "  0%|          | 0/1 [00:00<?, ?it/s]\u001b[A\n",
      "100%|██████████| 1/1 [00:00<00:00,  1.13it/s]\n",
      " 35%|███▌      | 146/413 [15:19<18:07,  4.07s/it]"
     ]
    },
    {
     "name": "stdout",
     "output_type": "stream",
     "text": [
      "https://reviews.webmd.com/drugs/drugreview-32651-chlordiazepoxide-tablet\n"
     ]
    },
    {
     "name": "stderr",
     "output_type": "stream",
     "text": [
      "\n",
      "  0%|          | 0/1 [00:00<?, ?it/s]\u001b[A\n",
      "100%|██████████| 1/1 [00:00<00:00,  1.23it/s]\n",
      " 36%|███▌      | 147/413 [15:22<16:22,  3.69s/it]"
     ]
    },
    {
     "name": "stdout",
     "output_type": "stream",
     "text": [
      "https://reviews.webmd.com/drugs/drugreview-32900-paxil-cr\n"
     ]
    },
    {
     "name": "stderr",
     "output_type": "stream",
     "text": [
      "\n",
      "  0%|          | 0/37 [00:00<?, ?it/s]\u001b[A\n",
      "  3%|▎         | 1/37 [00:01<00:40,  1.14s/it]\u001b[A\n",
      "  5%|▌         | 2/37 [00:02<00:34,  1.00it/s]\u001b[A\n",
      "  8%|▊         | 3/37 [00:02<00:32,  1.03it/s]\u001b[A\n",
      " 11%|█         | 4/37 [00:03<00:32,  1.03it/s]\u001b[A\n",
      " 14%|█▎        | 5/37 [00:04<00:31,  1.03it/s]\u001b[A\n",
      " 16%|█▌        | 6/37 [00:05<00:29,  1.05it/s]\u001b[A\n",
      " 19%|█▉        | 7/37 [00:06<00:29,  1.03it/s]\u001b[A\n",
      " 22%|██▏       | 8/37 [00:07<00:28,  1.02it/s]\u001b[A\n",
      " 24%|██▍       | 9/37 [00:08<00:27,  1.02it/s]\u001b[A\n",
      " 27%|██▋       | 10/37 [00:09<00:25,  1.04it/s]\u001b[A\n",
      " 30%|██▉       | 11/37 [00:10<00:25,  1.03it/s]\u001b[A\n",
      " 32%|███▏      | 12/37 [00:11<00:23,  1.05it/s]\u001b[A\n",
      " 35%|███▌      | 13/37 [00:12<00:25,  1.05s/it]\u001b[A\n",
      " 38%|███▊      | 14/37 [00:13<00:23,  1.02s/it]\u001b[A\n",
      " 41%|████      | 15/37 [00:14<00:22,  1.00s/it]\u001b[A\n",
      " 43%|████▎     | 16/37 [00:15<00:20,  1.02it/s]\u001b[A\n",
      " 46%|████▌     | 17/37 [00:16<00:19,  1.02it/s]\u001b[A\n",
      " 49%|████▊     | 18/37 [00:17<00:19,  1.05s/it]\u001b[A\n",
      " 51%|█████▏    | 19/37 [00:18<00:17,  1.01it/s]\u001b[A\n",
      " 54%|█████▍    | 20/37 [00:19<00:16,  1.02it/s]\u001b[A\n",
      " 57%|█████▋    | 21/37 [00:20<00:15,  1.04it/s]\u001b[A\n",
      " 59%|█████▉    | 22/37 [00:21<00:14,  1.05it/s]\u001b[A\n",
      " 62%|██████▏   | 23/37 [00:22<00:14,  1.01s/it]\u001b[A\n",
      " 65%|██████▍   | 24/37 [00:23<00:13,  1.04s/it]\u001b[A\n",
      " 68%|██████▊   | 25/37 [00:24<00:12,  1.04s/it]\u001b[A\n",
      " 70%|███████   | 26/37 [00:25<00:11,  1.00s/it]\u001b[A\n",
      " 73%|███████▎  | 27/37 [00:26<00:10,  1.01s/it]\u001b[A\n",
      " 76%|███████▌  | 28/37 [00:27<00:08,  1.02it/s]\u001b[A\n",
      " 78%|███████▊  | 29/37 [00:29<00:08,  1.07s/it]\u001b[A\n",
      " 81%|████████  | 30/37 [00:29<00:07,  1.04s/it]\u001b[A\n",
      " 84%|████████▍ | 31/37 [00:30<00:06,  1.01s/it]\u001b[A\n",
      " 86%|████████▋ | 32/37 [00:31<00:04,  1.02it/s]\u001b[A\n",
      " 89%|████████▉ | 33/37 [00:32<00:03,  1.03it/s]\u001b[A\n",
      " 92%|█████████▏| 34/37 [00:33<00:02,  1.02it/s]\u001b[A\n",
      " 95%|█████████▍| 35/37 [00:35<00:02,  1.05s/it]\u001b[A\n",
      " 97%|█████████▋| 36/37 [00:36<00:01,  1.04s/it]\u001b[A\n",
      "100%|██████████| 37/37 [00:37<00:00,  1.00s/it]\n",
      " 36%|███▌      | 148/413 [16:01<1:03:54, 14.47s/it]"
     ]
    },
    {
     "name": "stdout",
     "output_type": "stream",
     "text": [
      "https://reviews.webmd.com/drugs/drugreview-3335-sinequan-capsule\n"
     ]
    },
    {
     "name": "stderr",
     "output_type": "stream",
     "text": [
      "\n",
      "  0%|          | 0/2 [00:00<?, ?it/s]\u001b[A\n",
      " 50%|█████     | 1/2 [00:01<00:01,  1.03s/it]\u001b[A\n",
      "100%|██████████| 2/2 [00:02<00:00,  1.02s/it]\n",
      " 36%|███▌      | 149/413 [16:06<50:21, 11.44s/it]  "
     ]
    },
    {
     "name": "stdout",
     "output_type": "stream",
     "text": [
      "https://reviews.webmd.com/drugs/drugreview-3335-sinequan-concentrate\n"
     ]
    },
    {
     "name": "stderr",
     "output_type": "stream",
     "text": [
      "\n",
      "  0%|          | 0/2 [00:00<?, ?it/s]\u001b[A\n",
      " 50%|█████     | 1/2 [00:00<00:00,  1.02it/s]\u001b[A\n",
      "100%|██████████| 2/2 [00:02<00:00,  1.03s/it]\n",
      " 36%|███▋      | 150/413 [16:09<39:36,  9.04s/it]"
     ]
    },
    {
     "name": "stdout",
     "output_type": "stream",
     "text": [
      "https://reviews.webmd.com/drugs/drugreview-35-zoloft\n"
     ]
    },
    {
     "name": "stderr",
     "output_type": "stream",
     "text": [
      "\n",
      "  0%|          | 0/140 [00:00<?, ?it/s]\u001b[A\n",
      "  1%|          | 1/140 [00:01<02:26,  1.05s/it]\u001b[A\n",
      "  1%|▏         | 2/140 [00:02<02:33,  1.12s/it]\u001b[A\n",
      "  2%|▏         | 3/140 [00:03<02:40,  1.17s/it]\u001b[A\n",
      "  3%|▎         | 4/140 [00:04<02:25,  1.07s/it]\u001b[A\n",
      "  4%|▎         | 5/140 [00:05<02:23,  1.07s/it]\u001b[A\n",
      "  4%|▍         | 6/140 [00:06<02:19,  1.04s/it]\u001b[A\n",
      "  5%|▌         | 7/140 [00:07<02:15,  1.02s/it]\u001b[A\n",
      "  6%|▌         | 8/140 [00:08<02:24,  1.10s/it]\u001b[A\n",
      "  6%|▋         | 9/140 [00:09<02:17,  1.05s/it]\u001b[A\n",
      "  7%|▋         | 10/140 [00:10<02:12,  1.02s/it]\u001b[A\n",
      "  8%|▊         | 11/140 [00:11<02:08,  1.00it/s]\u001b[A\n",
      "  9%|▊         | 12/140 [00:12<02:14,  1.05s/it]\u001b[A\n",
      "  9%|▉         | 13/140 [00:13<02:23,  1.13s/it]\u001b[A\n",
      " 10%|█         | 14/140 [00:14<02:17,  1.09s/it]\u001b[A\n",
      " 11%|█         | 15/140 [00:15<02:09,  1.03s/it]\u001b[A\n",
      " 11%|█▏        | 16/140 [00:16<02:03,  1.01it/s]\u001b[A\n",
      " 12%|█▏        | 17/140 [00:17<01:59,  1.03it/s]\u001b[A\n",
      " 13%|█▎        | 18/140 [00:18<02:01,  1.00it/s]\u001b[A\n",
      " 14%|█▎        | 19/140 [00:19<02:07,  1.06s/it]\u001b[A\n",
      " 14%|█▍        | 20/140 [00:20<02:02,  1.02s/it]\u001b[A\n",
      " 15%|█▌        | 21/140 [00:21<01:57,  1.01it/s]\u001b[A\n",
      " 16%|█▌        | 22/140 [00:23<02:08,  1.09s/it]\u001b[A\n",
      " 16%|█▋        | 23/140 [00:24<02:09,  1.10s/it]\u001b[A\n",
      " 17%|█▋        | 24/140 [00:25<02:09,  1.12s/it]\u001b[A\n",
      " 18%|█▊        | 25/140 [00:26<02:03,  1.07s/it]\u001b[A\n",
      " 19%|█▊        | 26/140 [00:27<02:06,  1.11s/it]\u001b[A\n",
      " 19%|█▉        | 27/140 [00:28<02:00,  1.06s/it]\u001b[A\n",
      " 20%|██        | 28/140 [00:29<01:56,  1.04s/it]\u001b[A\n",
      " 21%|██        | 29/140 [00:30<01:53,  1.02s/it]\u001b[A\n",
      " 21%|██▏       | 30/140 [00:31<02:02,  1.12s/it]\u001b[A\n",
      " 22%|██▏       | 31/140 [00:32<01:54,  1.05s/it]\u001b[A\n",
      " 23%|██▎       | 32/140 [00:33<01:56,  1.08s/it]\u001b[A\n",
      " 24%|██▎       | 33/140 [00:34<01:54,  1.07s/it]\u001b[A\n",
      " 24%|██▍       | 34/140 [00:35<01:49,  1.04s/it]\u001b[A\n",
      " 25%|██▌       | 35/140 [00:36<01:47,  1.02s/it]\u001b[A\n",
      " 26%|██▌       | 36/140 [00:38<01:51,  1.07s/it]\u001b[A\n",
      " 26%|██▋       | 37/140 [00:39<01:47,  1.05s/it]\u001b[A\n",
      " 27%|██▋       | 38/140 [00:40<01:44,  1.03s/it]\u001b[A\n",
      " 28%|██▊       | 39/140 [00:40<01:39,  1.01it/s]\u001b[A\n",
      " 29%|██▊       | 40/140 [00:41<01:38,  1.01it/s]\u001b[A\n",
      " 29%|██▉       | 41/140 [00:43<01:42,  1.03s/it]\u001b[A\n",
      " 30%|███       | 42/140 [00:44<01:38,  1.01s/it]\u001b[A\n",
      " 31%|███       | 43/140 [00:44<01:36,  1.00it/s]\u001b[A\n",
      " 31%|███▏      | 44/140 [00:45<01:35,  1.01it/s]\u001b[A\n",
      " 32%|███▏      | 45/140 [00:47<01:37,  1.03s/it]\u001b[A\n",
      " 33%|███▎      | 46/140 [00:48<01:34,  1.00s/it]\u001b[A\n",
      " 34%|███▎      | 47/140 [00:49<01:40,  1.08s/it]\u001b[A\n",
      " 34%|███▍      | 48/140 [00:50<01:38,  1.07s/it]\u001b[A\n",
      " 35%|███▌      | 49/140 [00:51<01:36,  1.06s/it]\u001b[A\n",
      " 36%|███▌      | 50/140 [00:52<01:34,  1.05s/it]\u001b[A\n",
      " 36%|███▋      | 51/140 [00:53<01:31,  1.03s/it]\u001b[A\n",
      " 37%|███▋      | 52/140 [00:54<01:33,  1.06s/it]\u001b[A\n",
      " 38%|███▊      | 53/140 [00:55<01:30,  1.04s/it]\u001b[A\n",
      " 39%|███▊      | 54/140 [00:56<01:29,  1.05s/it]\u001b[A\n",
      " 39%|███▉      | 55/140 [00:57<01:29,  1.05s/it]\u001b[A\n",
      " 40%|████      | 56/140 [00:58<01:27,  1.05s/it]\u001b[A\n",
      " 41%|████      | 57/140 [00:59<01:26,  1.05s/it]\u001b[A\n",
      " 41%|████▏     | 58/140 [01:00<01:29,  1.09s/it]\u001b[A\n",
      " 42%|████▏     | 59/140 [01:01<01:24,  1.04s/it]\u001b[A\n",
      " 43%|████▎     | 60/140 [01:02<01:22,  1.03s/it]\u001b[A\n",
      " 44%|████▎     | 61/140 [01:03<01:18,  1.01it/s]\u001b[A\n",
      " 44%|████▍     | 62/140 [01:04<01:15,  1.03it/s]\u001b[A\n",
      " 45%|████▌     | 63/140 [01:05<01:18,  1.02s/it]\u001b[A\n",
      " 46%|████▌     | 64/140 [01:06<01:18,  1.03s/it]\u001b[A\n",
      " 46%|████▋     | 65/140 [01:07<01:15,  1.01s/it]\u001b[A\n",
      " 47%|████▋     | 66/140 [01:08<01:15,  1.01s/it]\u001b[A\n",
      " 48%|████▊     | 67/140 [01:09<01:13,  1.01s/it]\u001b[A\n",
      " 49%|████▊     | 68/140 [01:10<01:11,  1.01it/s]\u001b[A\n",
      " 49%|████▉     | 69/140 [01:12<01:15,  1.07s/it]\u001b[A\n",
      " 50%|█████     | 70/140 [01:13<01:13,  1.05s/it]\u001b[A\n",
      " 51%|█████     | 71/140 [01:13<01:10,  1.03s/it]\u001b[A\n",
      " 51%|█████▏    | 72/140 [01:15<01:10,  1.03s/it]\u001b[A\n",
      " 52%|█████▏    | 73/140 [01:15<01:07,  1.00s/it]\u001b[A\n",
      " 53%|█████▎    | 74/140 [01:17<01:11,  1.08s/it]\u001b[A\n",
      " 54%|█████▎    | 75/140 [01:18<01:07,  1.04s/it]\u001b[A\n",
      " 54%|█████▍    | 76/140 [01:19<01:05,  1.03s/it]\u001b[A\n",
      " 55%|█████▌    | 77/140 [01:20<01:03,  1.01s/it]\u001b[A\n",
      " 56%|█████▌    | 78/140 [01:21<01:03,  1.03s/it]\u001b[A\n",
      " 56%|█████▋    | 79/140 [01:22<01:02,  1.02s/it]\u001b[A\n",
      " 57%|█████▋    | 80/140 [01:23<01:02,  1.05s/it]\u001b[A\n",
      " 58%|█████▊    | 81/140 [01:24<00:59,  1.01s/it]\u001b[A\n",
      " 59%|█████▊    | 82/140 [01:25<00:58,  1.00s/it]\u001b[A\n",
      " 59%|█████▉    | 83/140 [01:26<00:56,  1.01it/s]\u001b[A\n",
      " 60%|██████    | 84/140 [01:27<00:54,  1.04it/s]\u001b[A\n",
      " 61%|██████    | 85/140 [01:28<00:55,  1.01s/it]\u001b[A\n",
      " 61%|██████▏   | 86/140 [01:29<00:54,  1.01s/it]\u001b[A\n",
      " 62%|██████▏   | 87/140 [01:30<00:53,  1.01s/it]\u001b[A\n",
      " 63%|██████▎   | 88/140 [01:31<00:51,  1.01it/s]\u001b[A\n",
      " 64%|██████▎   | 89/140 [01:32<00:49,  1.03it/s]\u001b[A\n",
      " 64%|██████▍   | 90/140 [01:33<00:48,  1.02it/s]\u001b[A\n",
      " 65%|██████▌   | 91/140 [01:34<00:52,  1.07s/it]\u001b[A\n",
      " 66%|██████▌   | 92/140 [01:35<00:49,  1.04s/it]\u001b[A\n",
      " 66%|██████▋   | 93/140 [01:36<00:47,  1.01s/it]\u001b[A\n",
      " 67%|██████▋   | 94/140 [01:37<00:45,  1.01it/s]\u001b[A\n",
      " 68%|██████▊   | 95/140 [01:38<00:43,  1.03it/s]\u001b[A\n",
      " 69%|██████▊   | 96/140 [01:39<00:46,  1.05s/it]\u001b[A\n",
      " 69%|██████▉   | 97/140 [01:40<00:45,  1.06s/it]\u001b[A\n",
      " 70%|███████   | 98/140 [01:41<00:42,  1.02s/it]\u001b[A\n",
      " 71%|███████   | 99/140 [01:42<00:40,  1.00it/s]\u001b[A\n",
      " 71%|███████▏  | 100/140 [01:43<00:39,  1.02it/s]\u001b[A\n",
      " 72%|███████▏  | 101/140 [01:44<00:37,  1.04it/s]\u001b[A\n",
      " 73%|███████▎  | 102/140 [01:45<00:38,  1.02s/it]\u001b[A\n",
      " 74%|███████▎  | 103/140 [01:46<00:36,  1.02it/s]\u001b[A\n",
      " 74%|███████▍  | 104/140 [01:47<00:35,  1.01it/s]\u001b[A\n",
      " 75%|███████▌  | 105/140 [01:48<00:34,  1.02it/s]\u001b[A\n",
      " 76%|███████▌  | 106/140 [01:49<00:32,  1.04it/s]\u001b[A\n",
      " 76%|███████▋  | 107/140 [01:50<00:31,  1.03it/s]\u001b[A\n",
      " 77%|███████▋  | 108/140 [01:51<00:32,  1.01s/it]\u001b[A\n",
      " 78%|███████▊  | 109/140 [01:52<00:31,  1.01s/it]\u001b[A\n",
      " 79%|███████▊  | 110/140 [01:53<00:29,  1.02it/s]\u001b[A\n",
      " 79%|███████▉  | 111/140 [01:54<00:28,  1.04it/s]\u001b[A\n",
      " 80%|████████  | 112/140 [01:55<00:26,  1.04it/s]\u001b[A\n",
      " 81%|████████  | 113/140 [01:56<00:27,  1.02s/it]\u001b[A\n",
      " 81%|████████▏ | 114/140 [01:57<00:26,  1.01s/it]\u001b[A\n",
      " 82%|████████▏ | 115/140 [01:58<00:24,  1.00it/s]\u001b[A\n",
      " 83%|████████▎ | 116/140 [01:59<00:23,  1.02it/s]\u001b[A\n",
      " 84%|████████▎ | 117/140 [02:00<00:27,  1.19s/it]\u001b[A\n",
      " 84%|████████▍ | 118/140 [02:01<00:24,  1.13s/it]\u001b[A\n",
      " 85%|████████▌ | 119/140 [02:02<00:23,  1.12s/it]\u001b[A\n",
      " 86%|████████▌ | 120/140 [02:03<00:21,  1.10s/it]\u001b[A\n",
      " 86%|████████▋ | 121/140 [02:04<00:20,  1.06s/it]\u001b[A\n",
      " 87%|████████▋ | 122/140 [02:05<00:18,  1.05s/it]\u001b[A\n",
      " 88%|████████▊ | 123/140 [02:06<00:17,  1.00s/it]\u001b[A\n",
      " 89%|████████▊ | 124/140 [02:08<00:17,  1.08s/it]\u001b[A\n",
      " 89%|████████▉ | 125/140 [02:09<00:15,  1.07s/it]\u001b[A\n",
      " 90%|█████████ | 126/140 [02:10<00:14,  1.03s/it]\u001b[A\n",
      " 91%|█████████ | 127/140 [02:11<00:13,  1.02s/it]\u001b[A\n",
      " 91%|█████████▏| 128/140 [02:11<00:11,  1.01it/s]\u001b[A\n",
      " 92%|█████████▏| 129/140 [02:12<00:10,  1.04it/s]\u001b[A\n",
      " 93%|█████████▎| 130/140 [02:14<00:10,  1.05s/it]\u001b[A\n",
      " 94%|█████████▎| 131/140 [02:15<00:09,  1.03s/it]\u001b[A\n",
      " 94%|█████████▍| 132/140 [02:16<00:07,  1.01it/s]\u001b[A\n",
      " 95%|█████████▌| 133/140 [02:17<00:06,  1.00it/s]\u001b[A\n",
      " 96%|█████████▌| 134/140 [02:18<00:05,  1.01it/s]\u001b[A\n",
      " 96%|█████████▋| 135/140 [02:19<00:05,  1.03s/it]\u001b[A\n",
      " 97%|█████████▋| 136/140 [02:20<00:04,  1.01s/it]\u001b[A\n",
      " 98%|█████████▊| 137/140 [02:21<00:03,  1.01s/it]\u001b[A\n",
      " 99%|█████████▊| 138/140 [02:22<00:01,  1.01it/s]\u001b[A\n",
      " 99%|█████████▉| 139/140 [02:23<00:00,  1.01it/s]\u001b[A\n",
      "100%|██████████| 140/140 [02:24<00:00,  1.03s/it]\n",
      " 37%|███▋      | 151/413 [18:36<3:39:57, 50.37s/it]"
     ]
    },
    {
     "name": "stdout",
     "output_type": "stream",
     "text": [
      "https://reviews.webmd.com/drugs/drugreview-3775-hydroxyzine-hcl-vial\n"
     ]
    },
    {
     "name": "stderr",
     "output_type": "stream",
     "text": [
      "\n",
      "  0%|          | 0/2 [00:00<?, ?it/s]\u001b[A\n",
      " 50%|█████     | 1/2 [00:00<00:00,  1.13it/s]\u001b[A\n",
      "100%|██████████| 2/2 [00:01<00:00,  1.04it/s]\n",
      " 37%|███▋      | 152/413 [18:40<2:39:09, 36.59s/it]"
     ]
    },
    {
     "name": "stdout",
     "output_type": "stream",
     "text": [
      "https://reviews.webmd.com/drugs/drugreview-3791-eskalith-cr-tablet-er\n"
     ]
    },
    {
     "name": "stderr",
     "output_type": "stream",
     "text": [
      "\n",
      "  0%|          | 0/1 [00:00<?, ?it/s]\u001b[A\n",
      "100%|██████████| 1/1 [00:00<00:00,  1.28it/s]\n",
      " 37%|███▋      | 153/413 [18:43<1:55:00, 26.54s/it]"
     ]
    },
    {
     "name": "stdout",
     "output_type": "stream",
     "text": [
      "https://reviews.webmd.com/drugs/drugreview-4365-acebutolol-hcl\n"
     ]
    },
    {
     "name": "stderr",
     "output_type": "stream",
     "text": [
      "\n",
      "  0%|          | 0/1 [00:00<?, ?it/s]\u001b[A\n",
      "100%|██████████| 1/1 [00:00<00:00,  1.13it/s]\n",
      " 37%|███▋      | 154/413 [18:47<1:24:10, 19.50s/it]"
     ]
    },
    {
     "name": "stdout",
     "output_type": "stream",
     "text": [
      "https://reviews.webmd.com/drugs/drugreview-4689-quetiapine-fumarate\n"
     ]
    },
    {
     "name": "stderr",
     "output_type": "stream",
     "text": [
      "\n",
      "  0%|          | 0/10 [00:00<?, ?it/s]\u001b[A\n",
      " 10%|█         | 1/10 [00:00<00:08,  1.02it/s]\u001b[A\n",
      " 20%|██        | 2/10 [00:02<00:09,  1.16s/it]\u001b[A\n",
      " 30%|███       | 3/10 [00:03<00:07,  1.08s/it]\u001b[A\n",
      " 40%|████      | 4/10 [00:04<00:06,  1.04s/it]\u001b[A\n",
      " 50%|█████     | 5/10 [00:05<00:05,  1.11s/it]\u001b[A\n",
      " 60%|██████    | 6/10 [00:06<00:04,  1.07s/it]\u001b[A\n",
      " 70%|███████   | 7/10 [00:07<00:03,  1.05s/it]\u001b[A\n",
      " 80%|████████  | 8/10 [00:08<00:02,  1.03s/it]\u001b[A\n",
      " 90%|█████████ | 9/10 [00:09<00:01,  1.01s/it]\u001b[A\n",
      "100%|██████████| 10/10 [00:10<00:00,  1.04s/it]\n",
      " 38%|███▊      | 155/413 [19:00<1:15:26, 17.55s/it]"
     ]
    },
    {
     "name": "stdout",
     "output_type": "stream",
     "text": [
      "https://reviews.webmd.com/drugs/drugreview-4689-quetiapine-fumarate-er\n"
     ]
    },
    {
     "name": "stderr",
     "output_type": "stream",
     "text": [
      "\n",
      "  0%|          | 0/10 [00:00<?, ?it/s]\u001b[A\n",
      " 10%|█         | 1/10 [00:00<00:08,  1.04it/s]\u001b[A\n",
      " 20%|██        | 2/10 [00:02<00:08,  1.02s/it]\u001b[A\n",
      " 30%|███       | 3/10 [00:03<00:07,  1.06s/it]\u001b[A\n",
      " 40%|████      | 4/10 [00:04<00:06,  1.01s/it]\u001b[A\n",
      " 50%|█████     | 5/10 [00:05<00:05,  1.04s/it]\u001b[A\n",
      " 60%|██████    | 6/10 [00:06<00:04,  1.07s/it]\u001b[A\n",
      " 70%|███████   | 7/10 [00:07<00:03,  1.06s/it]\u001b[A\n",
      " 80%|████████  | 8/10 [00:08<00:02,  1.04s/it]\u001b[A\n",
      " 90%|█████████ | 9/10 [00:09<00:01,  1.01s/it]\u001b[A\n",
      "100%|██████████| 10/10 [00:10<00:00,  1.02s/it]\n",
      " 38%|███▊      | 156/413 [19:11<1:07:36, 15.78s/it]"
     ]
    },
    {
     "name": "stdout",
     "output_type": "stream",
     "text": [
      "https://reviews.webmd.com/drugs/drugreview-4718-seroquel\n"
     ]
    },
    {
     "name": "stderr",
     "output_type": "stream",
     "text": [
      "\n",
      "  0%|          | 0/124 [00:00<?, ?it/s]\u001b[A\n",
      "  1%|          | 1/124 [00:01<02:07,  1.04s/it]\u001b[A\n",
      "  2%|▏         | 2/124 [00:02<02:07,  1.05s/it]\u001b[A\n",
      "  2%|▏         | 3/124 [00:03<02:04,  1.03s/it]\u001b[A\n",
      "  3%|▎         | 4/124 [00:04<02:02,  1.02s/it]\u001b[A\n",
      "  4%|▍         | 5/124 [00:05<01:59,  1.00s/it]\u001b[A\n",
      "  5%|▍         | 6/124 [00:06<02:06,  1.07s/it]\u001b[A\n",
      "  6%|▌         | 7/124 [00:07<02:02,  1.05s/it]\u001b[A\n",
      "  6%|▋         | 8/124 [00:08<01:59,  1.03s/it]\u001b[A\n",
      "  7%|▋         | 9/124 [00:09<02:04,  1.08s/it]\u001b[A\n",
      "  8%|▊         | 10/124 [00:10<01:58,  1.04s/it]\u001b[A\n",
      "  9%|▉         | 11/124 [00:11<01:56,  1.03s/it]\u001b[A\n",
      " 10%|▉         | 12/124 [00:12<02:03,  1.10s/it]\u001b[A\n",
      " 10%|█         | 13/124 [00:13<02:00,  1.09s/it]\u001b[A\n",
      " 11%|█▏        | 14/124 [00:14<02:02,  1.11s/it]\u001b[A\n",
      " 12%|█▏        | 15/124 [00:15<01:57,  1.07s/it]\u001b[A\n",
      " 13%|█▎        | 16/124 [00:16<01:52,  1.04s/it]\u001b[A\n",
      " 14%|█▎        | 17/124 [00:18<01:58,  1.11s/it]\u001b[A\n",
      " 15%|█▍        | 18/124 [00:19<01:53,  1.07s/it]\u001b[A\n",
      " 15%|█▌        | 19/124 [00:20<01:48,  1.03s/it]\u001b[A\n",
      " 16%|█▌        | 20/124 [00:21<01:45,  1.02s/it]\u001b[A\n",
      " 17%|█▋        | 21/124 [00:22<01:44,  1.02s/it]\u001b[A\n",
      " 18%|█▊        | 22/124 [00:23<01:44,  1.02s/it]\u001b[A\n",
      " 19%|█▊        | 23/124 [00:24<01:52,  1.11s/it]\u001b[A\n",
      " 19%|█▉        | 24/124 [00:25<01:47,  1.08s/it]\u001b[A\n",
      " 20%|██        | 25/124 [00:26<01:44,  1.05s/it]\u001b[A\n",
      " 21%|██        | 26/124 [00:27<01:40,  1.03s/it]\u001b[A\n",
      " 22%|██▏       | 27/124 [00:28<01:38,  1.02s/it]\u001b[A\n",
      " 23%|██▎       | 28/124 [00:29<01:41,  1.06s/it]\u001b[A\n",
      " 23%|██▎       | 29/124 [00:30<01:39,  1.05s/it]\u001b[A\n",
      " 24%|██▍       | 30/124 [00:31<01:36,  1.02s/it]\u001b[A\n",
      " 25%|██▌       | 31/124 [00:32<01:36,  1.04s/it]\u001b[A\n",
      " 26%|██▌       | 32/124 [00:33<01:33,  1.02s/it]\u001b[A\n",
      " 27%|██▋       | 33/124 [00:34<01:31,  1.01s/it]\u001b[A\n",
      " 27%|██▋       | 34/124 [00:35<01:39,  1.11s/it]\u001b[A\n",
      " 28%|██▊       | 35/124 [00:36<01:34,  1.06s/it]\u001b[A\n",
      " 29%|██▉       | 36/124 [00:37<01:30,  1.03s/it]\u001b[A\n",
      " 30%|██▉       | 37/124 [00:38<01:27,  1.01s/it]\u001b[A\n",
      " 31%|███       | 38/124 [00:39<01:27,  1.02s/it]\u001b[A\n",
      " 31%|███▏      | 39/124 [00:40<01:27,  1.03s/it]\u001b[A\n",
      " 32%|███▏      | 40/124 [00:42<01:33,  1.12s/it]\u001b[A\n",
      " 33%|███▎      | 41/124 [00:43<01:30,  1.10s/it]\u001b[A\n",
      " 34%|███▍      | 42/124 [00:44<01:28,  1.08s/it]\u001b[A\n",
      " 35%|███▍      | 43/124 [00:45<01:28,  1.09s/it]\u001b[A\n",
      " 35%|███▌      | 44/124 [00:46<01:23,  1.04s/it]\u001b[A\n",
      " 36%|███▋      | 45/124 [00:47<01:27,  1.11s/it]\u001b[A\n",
      " 37%|███▋      | 46/124 [00:48<01:22,  1.05s/it]\u001b[A\n",
      " 38%|███▊      | 47/124 [00:49<01:20,  1.04s/it]\u001b[A\n",
      " 39%|███▊      | 48/124 [00:50<01:18,  1.03s/it]\u001b[A\n",
      " 40%|███▉      | 49/124 [00:51<01:17,  1.03s/it]\u001b[A\n",
      " 40%|████      | 50/124 [00:52<01:14,  1.00s/it]\u001b[A\n",
      " 41%|████      | 51/124 [00:53<01:18,  1.07s/it]\u001b[A\n",
      " 42%|████▏     | 52/124 [00:54<01:14,  1.04s/it]\u001b[A\n",
      " 43%|████▎     | 53/124 [00:55<01:12,  1.02s/it]\u001b[A\n",
      " 44%|████▎     | 54/124 [00:56<01:10,  1.01s/it]\u001b[A\n",
      " 44%|████▍     | 55/124 [00:57<01:10,  1.02s/it]\u001b[A\n",
      " 45%|████▌     | 56/124 [00:58<01:08,  1.00s/it]\u001b[A\n",
      " 46%|████▌     | 57/124 [00:59<01:13,  1.10s/it]\u001b[A\n",
      " 47%|████▋     | 58/124 [01:01<01:12,  1.09s/it]\u001b[A\n",
      " 48%|████▊     | 59/124 [01:02<01:10,  1.08s/it]\u001b[A\n",
      " 48%|████▊     | 60/124 [01:03<01:07,  1.06s/it]\u001b[A\n",
      " 49%|████▉     | 61/124 [01:04<01:05,  1.05s/it]\u001b[A\n",
      " 50%|█████     | 62/124 [01:05<01:09,  1.13s/it]\u001b[A\n",
      " 51%|█████     | 63/124 [01:06<01:06,  1.09s/it]\u001b[A\n",
      " 52%|█████▏    | 64/124 [01:07<01:05,  1.10s/it]\u001b[A\n",
      " 52%|█████▏    | 65/124 [01:08<01:03,  1.08s/it]\u001b[A\n",
      " 53%|█████▎    | 66/124 [01:09<01:00,  1.04s/it]\u001b[A\n",
      " 54%|█████▍    | 67/124 [01:10<00:59,  1.04s/it]\u001b[A\n",
      " 55%|█████▍    | 68/124 [01:12<01:05,  1.16s/it]\u001b[A\n",
      " 56%|█████▌    | 69/124 [01:13<01:01,  1.11s/it]\u001b[A\n",
      " 56%|█████▋    | 70/124 [01:13<00:57,  1.07s/it]\u001b[A\n",
      " 57%|█████▋    | 71/124 [01:14<00:54,  1.03s/it]\u001b[A\n",
      " 58%|█████▊    | 72/124 [01:15<00:53,  1.02s/it]\u001b[A\n",
      " 59%|█████▉    | 73/124 [01:17<00:55,  1.09s/it]\u001b[A\n",
      " 60%|█████▉    | 74/124 [01:18<00:52,  1.06s/it]\u001b[A\n",
      " 60%|██████    | 75/124 [01:19<00:50,  1.04s/it]\u001b[A\n",
      " 61%|██████▏   | 76/124 [01:20<00:49,  1.02s/it]\u001b[A\n",
      " 62%|██████▏   | 77/124 [01:21<00:48,  1.02s/it]\u001b[A\n",
      " 63%|██████▎   | 78/124 [01:22<00:46,  1.01s/it]\u001b[A\n",
      " 64%|██████▎   | 79/124 [01:23<00:48,  1.07s/it]\u001b[A\n",
      " 65%|██████▍   | 80/124 [01:24<00:45,  1.04s/it]\u001b[A\n",
      " 65%|██████▌   | 81/124 [01:25<00:44,  1.02s/it]\u001b[A\n",
      " 66%|██████▌   | 82/124 [01:26<00:46,  1.11s/it]\u001b[A\n",
      " 67%|██████▋   | 83/124 [01:27<00:43,  1.07s/it]\u001b[A\n",
      " 68%|██████▊   | 84/124 [01:28<00:41,  1.05s/it]\u001b[A\n",
      " 69%|██████▊   | 85/124 [01:29<00:42,  1.10s/it]\u001b[A\n",
      " 69%|██████▉   | 86/124 [01:30<00:39,  1.04s/it]\u001b[A\n",
      " 70%|███████   | 87/124 [01:31<00:37,  1.02s/it]\u001b[A\n",
      " 71%|███████   | 88/124 [01:32<00:36,  1.02s/it]\u001b[A\n",
      " 72%|███████▏  | 89/124 [01:33<00:35,  1.02s/it]\u001b[A\n",
      " 73%|███████▎  | 90/124 [01:35<00:37,  1.10s/it]\u001b[A\n",
      " 73%|███████▎  | 91/124 [01:35<00:34,  1.06s/it]\u001b[A\n",
      " 74%|███████▍  | 92/124 [01:36<00:33,  1.04s/it]\u001b[A\n",
      " 75%|███████▌  | 93/124 [01:37<00:31,  1.03s/it]\u001b[A\n",
      " 76%|███████▌  | 94/124 [01:39<00:31,  1.05s/it]\u001b[A\n",
      " 77%|███████▋  | 95/124 [01:40<00:29,  1.02s/it]\u001b[A\n",
      " 77%|███████▋  | 96/124 [01:41<00:31,  1.11s/it]\u001b[A\n",
      " 78%|███████▊  | 97/124 [01:42<00:29,  1.08s/it]\u001b[A\n",
      " 79%|███████▉  | 98/124 [01:43<00:28,  1.08s/it]\u001b[A\n",
      " 80%|███████▉  | 99/124 [01:44<00:26,  1.06s/it]\u001b[A\n",
      " 81%|████████  | 100/124 [01:45<00:25,  1.05s/it]\u001b[A\n",
      " 81%|████████▏ | 101/124 [01:46<00:25,  1.12s/it]\u001b[A\n",
      " 82%|████████▏ | 102/124 [01:47<00:23,  1.06s/it]\u001b[A\n",
      " 83%|████████▎ | 103/124 [01:48<00:21,  1.02s/it]\u001b[A\n",
      " 84%|████████▍ | 104/124 [01:49<00:20,  1.00s/it]\u001b[A\n",
      " 85%|████████▍ | 105/124 [01:50<00:19,  1.01s/it]\u001b[A\n",
      " 85%|████████▌ | 106/124 [01:51<00:18,  1.02s/it]\u001b[A\n",
      " 86%|████████▋ | 107/124 [01:52<00:18,  1.06s/it]\u001b[A\n",
      " 87%|████████▋ | 108/124 [01:53<00:16,  1.03s/it]\u001b[A\n",
      " 88%|████████▊ | 109/124 [01:54<00:15,  1.03s/it]\u001b[A\n",
      " 89%|████████▊ | 110/124 [01:55<00:14,  1.02s/it]\u001b[A\n",
      " 90%|████████▉ | 111/124 [01:56<00:13,  1.01s/it]\u001b[A\n",
      " 90%|█████████ | 112/124 [01:57<00:12,  1.02s/it]\u001b[A\n",
      " 91%|█████████ | 113/124 [01:59<00:12,  1.10s/it]\u001b[A\n",
      " 92%|█████████▏| 114/124 [02:00<00:12,  1.28s/it]\u001b[A\n",
      " 93%|█████████▎| 115/124 [02:01<00:11,  1.23s/it]\u001b[A\n",
      " 94%|█████████▎| 116/124 [02:02<00:09,  1.16s/it]\u001b[A\n",
      " 94%|█████████▍| 117/124 [02:03<00:07,  1.12s/it]\u001b[A\n",
      " 95%|█████████▌| 118/124 [02:05<00:06,  1.12s/it]\u001b[A\n",
      " 96%|█████████▌| 119/124 [02:06<00:05,  1.10s/it]\u001b[A\n",
      " 97%|█████████▋| 120/124 [02:07<00:04,  1.06s/it]\u001b[A\n",
      " 98%|█████████▊| 121/124 [02:08<00:03,  1.06s/it]\u001b[A\n",
      " 98%|█████████▊| 122/124 [02:09<00:02,  1.05s/it]\u001b[A\n",
      " 99%|█████████▉| 123/124 [02:10<00:01,  1.08s/it]\u001b[A\n",
      "100%|██████████| 124/124 [02:11<00:00,  1.06s/it]\n",
      " 38%|███▊      | 157/413 [21:26<3:39:37, 51.47s/it]"
     ]
    },
    {
     "name": "stdout",
     "output_type": "stream",
     "text": [
      "https://reviews.webmd.com/drugs/drugreview-48-prolixin-decanoate-solution\n"
     ]
    },
    {
     "name": "stderr",
     "output_type": "stream",
     "text": [
      "\n",
      "  0%|          | 0/1 [00:00<?, ?it/s]\u001b[A\n",
      "100%|██████████| 1/1 [00:00<00:00,  1.22it/s]\n",
      " 38%|███▊      | 158/413 [21:29<2:36:48, 36.90s/it]"
     ]
    },
    {
     "name": "stdout",
     "output_type": "stream",
     "text": [
      "https://reviews.webmd.com/drugs/drugreview-4870-venlafaxine-hcl\n"
     ]
    },
    {
     "name": "stderr",
     "output_type": "stream",
     "text": [
      "\n",
      "  0%|          | 0/28 [00:00<?, ?it/s]\u001b[A\n",
      "  4%|▎         | 1/28 [00:01<00:28,  1.07s/it]\u001b[A\n",
      "  7%|▋         | 2/28 [00:02<00:26,  1.03s/it]\u001b[A\n",
      " 11%|█         | 3/28 [00:03<00:29,  1.18s/it]\u001b[A\n",
      " 14%|█▍        | 4/28 [00:04<00:26,  1.10s/it]\u001b[A\n",
      " 18%|█▊        | 5/28 [00:05<00:24,  1.06s/it]\u001b[A\n",
      " 21%|██▏       | 6/28 [00:06<00:23,  1.07s/it]\u001b[A\n",
      " 25%|██▌       | 7/28 [00:07<00:21,  1.05s/it]\u001b[A\n",
      " 29%|██▊       | 8/28 [00:08<00:21,  1.06s/it]\u001b[A\n",
      " 32%|███▏      | 9/28 [00:09<00:21,  1.15s/it]\u001b[A\n",
      " 36%|███▌      | 10/28 [00:10<00:19,  1.11s/it]\u001b[A\n",
      " 39%|███▉      | 11/28 [00:11<00:18,  1.09s/it]\u001b[A\n",
      " 43%|████▎     | 12/28 [00:12<00:16,  1.06s/it]\u001b[A\n",
      " 46%|████▋     | 13/28 [00:14<00:15,  1.06s/it]\u001b[A\n",
      " 50%|█████     | 14/28 [00:15<00:14,  1.05s/it]\u001b[A\n",
      " 54%|█████▎    | 15/28 [00:16<00:14,  1.11s/it]\u001b[A\n",
      " 57%|█████▋    | 16/28 [00:17<00:12,  1.08s/it]\u001b[A\n",
      " 61%|██████    | 17/28 [00:18<00:12,  1.10s/it]\u001b[A\n",
      " 64%|██████▍   | 18/28 [00:19<00:10,  1.08s/it]\u001b[A\n",
      " 68%|██████▊   | 19/28 [00:20<00:09,  1.08s/it]\u001b[A\n",
      " 71%|███████▏  | 20/28 [00:21<00:09,  1.14s/it]\u001b[A\n",
      " 75%|███████▌  | 21/28 [00:22<00:07,  1.08s/it]\u001b[A\n",
      " 79%|███████▊  | 22/28 [00:23<00:06,  1.09s/it]\u001b[A\n",
      " 82%|████████▏ | 23/28 [00:24<00:05,  1.08s/it]\u001b[A\n",
      " 86%|████████▌ | 24/28 [00:25<00:04,  1.06s/it]\u001b[A\n",
      " 89%|████████▉ | 25/28 [00:27<00:03,  1.04s/it]\u001b[A\n",
      " 93%|█████████▎| 26/28 [00:28<00:02,  1.08s/it]\u001b[A\n",
      " 96%|█████████▋| 27/28 [00:29<00:01,  1.06s/it]\u001b[A\n",
      "100%|██████████| 28/28 [00:30<00:00,  1.08s/it]\n",
      " 38%|███▊      | 159/413 [22:01<2:30:45, 35.61s/it]"
     ]
    },
    {
     "name": "stdout",
     "output_type": "stream",
     "text": [
      "https://reviews.webmd.com/drugs/drugreview-4870-venlafaxine-hcl-er\n"
     ]
    },
    {
     "name": "stderr",
     "output_type": "stream",
     "text": [
      "\n",
      "  0%|          | 0/28 [00:00<?, ?it/s]\u001b[A\n",
      "  4%|▎         | 1/28 [00:00<00:26,  1.04it/s]\u001b[A\n",
      "  7%|▋         | 2/28 [00:02<00:28,  1.11s/it]\u001b[A\n",
      " 11%|█         | 3/28 [00:03<00:26,  1.05s/it]\u001b[A\n",
      " 14%|█▍        | 4/28 [00:04<00:25,  1.05s/it]\u001b[A\n",
      " 18%|█▊        | 5/28 [00:05<00:23,  1.03s/it]\u001b[A\n",
      " 21%|██▏       | 6/28 [00:06<00:22,  1.01s/it]\u001b[A\n",
      " 25%|██▌       | 7/28 [00:07<00:21,  1.00s/it]\u001b[A\n",
      " 29%|██▊       | 8/28 [00:08<00:21,  1.07s/it]\u001b[A\n",
      " 32%|███▏      | 9/28 [00:09<00:19,  1.04s/it]\u001b[A\n",
      " 36%|███▌      | 10/28 [00:10<00:18,  1.02s/it]\u001b[A\n",
      " 39%|███▉      | 11/28 [00:11<00:17,  1.04s/it]\u001b[A\n",
      " 43%|████▎     | 12/28 [00:12<00:16,  1.04s/it]\u001b[A\n",
      " 46%|████▋     | 13/28 [00:13<00:16,  1.13s/it]\u001b[A\n",
      " 50%|█████     | 14/28 [00:14<00:15,  1.11s/it]\u001b[A\n",
      " 54%|█████▎    | 15/28 [00:15<00:14,  1.09s/it]\u001b[A\n",
      " 57%|█████▋    | 16/28 [00:16<00:12,  1.05s/it]\u001b[A\n",
      " 61%|██████    | 17/28 [00:17<00:11,  1.05s/it]\u001b[A\n",
      " 64%|██████▍   | 18/28 [00:18<00:10,  1.03s/it]\u001b[A\n",
      " 68%|██████▊   | 19/28 [00:20<00:09,  1.11s/it]\u001b[A\n",
      " 71%|███████▏  | 20/28 [00:21<00:08,  1.07s/it]\u001b[A\n",
      " 75%|███████▌  | 21/28 [00:22<00:07,  1.03s/it]\u001b[A\n",
      " 79%|███████▊  | 22/28 [00:23<00:06,  1.05s/it]\u001b[A\n",
      " 82%|████████▏ | 23/28 [00:24<00:05,  1.06s/it]\u001b[A\n",
      " 86%|████████▌ | 24/28 [00:25<00:04,  1.03s/it]\u001b[A\n",
      " 89%|████████▉ | 25/28 [00:26<00:03,  1.08s/it]\u001b[A\n",
      " 93%|█████████▎| 26/28 [00:27<00:02,  1.07s/it]\u001b[A\n",
      " 96%|█████████▋| 27/28 [00:28<00:01,  1.04s/it]\u001b[A\n",
      "100%|██████████| 28/28 [00:29<00:00,  1.05s/it]\n",
      " 39%|███▊      | 160/413 [22:32<2:23:58, 34.15s/it]"
     ]
    },
    {
     "name": "stdout",
     "output_type": "stream",
     "text": [
      "https://reviews.webmd.com/drugs/drugreview-4896-effexor-xr\n"
     ]
    },
    {
     "name": "stderr",
     "output_type": "stream",
     "text": [
      "\n",
      "  0%|          | 0/179 [00:00<?, ?it/s]\u001b[A\n",
      "  1%|          | 1/179 [00:01<03:56,  1.33s/it]\u001b[A\n",
      "  1%|          | 2/179 [00:02<03:14,  1.10s/it]\u001b[A\n",
      "  2%|▏         | 3/179 [00:03<03:08,  1.07s/it]\u001b[A\n",
      "  2%|▏         | 4/179 [00:04<02:58,  1.02s/it]\u001b[A\n",
      "  3%|▎         | 5/179 [00:05<02:53,  1.00it/s]\u001b[A\n",
      "  3%|▎         | 6/179 [00:06<02:52,  1.01it/s]\u001b[A\n",
      "  4%|▍         | 7/179 [00:07<03:14,  1.13s/it]\u001b[A\n",
      "  4%|▍         | 8/179 [00:08<03:10,  1.11s/it]\u001b[A\n",
      "  5%|▌         | 9/179 [00:09<03:07,  1.11s/it]\u001b[A\n",
      "  6%|▌         | 10/179 [00:10<03:01,  1.08s/it]\u001b[A\n",
      "  6%|▌         | 11/179 [00:11<02:59,  1.07s/it]\u001b[A\n",
      "  7%|▋         | 12/179 [00:13<03:05,  1.11s/it]\u001b[A\n",
      "  7%|▋         | 13/179 [00:14<03:00,  1.09s/it]\u001b[A\n",
      "  8%|▊         | 14/179 [00:15<02:56,  1.07s/it]\u001b[A\n",
      "  8%|▊         | 15/179 [00:16<02:53,  1.06s/it]\u001b[A\n",
      "  9%|▉         | 16/179 [00:17<02:52,  1.06s/it]\u001b[A\n",
      "  9%|▉         | 17/179 [00:18<02:46,  1.03s/it]\u001b[A\n",
      " 10%|█         | 18/179 [00:19<03:13,  1.20s/it]\u001b[A\n",
      " 11%|█         | 19/179 [00:20<03:08,  1.18s/it]\u001b[A\n",
      " 11%|█         | 20/179 [00:21<02:57,  1.12s/it]\u001b[A\n",
      " 12%|█▏        | 21/179 [00:22<02:54,  1.10s/it]\u001b[A\n",
      " 12%|█▏        | 22/179 [00:23<02:49,  1.08s/it]\u001b[A\n",
      " 13%|█▎        | 23/179 [00:25<02:47,  1.07s/it]\u001b[A\n",
      " 13%|█▎        | 24/179 [00:26<02:58,  1.15s/it]\u001b[A\n",
      " 14%|█▍        | 25/179 [00:27<02:56,  1.15s/it]\u001b[A\n",
      " 15%|█▍        | 26/179 [00:28<02:54,  1.14s/it]\u001b[A\n",
      " 15%|█▌        | 27/179 [00:29<02:46,  1.10s/it]\u001b[A\n",
      " 16%|█▌        | 28/179 [00:30<02:40,  1.07s/it]\u001b[A\n",
      " 16%|█▌        | 29/179 [00:31<02:52,  1.15s/it]\u001b[A\n",
      " 17%|█▋        | 30/179 [00:32<02:45,  1.11s/it]\u001b[A\n",
      " 17%|█▋        | 31/179 [00:33<02:38,  1.07s/it]\u001b[A\n",
      " 18%|█▊        | 32/179 [00:35<02:37,  1.07s/it]\u001b[A\n",
      " 18%|█▊        | 33/179 [00:36<02:34,  1.06s/it]\u001b[A\n",
      " 19%|█▉        | 34/179 [00:37<02:34,  1.07s/it]\u001b[A\n",
      " 20%|█▉        | 35/179 [00:38<02:44,  1.14s/it]\u001b[A\n",
      " 20%|██        | 36/179 [00:39<02:37,  1.10s/it]\u001b[A\n",
      " 21%|██        | 37/179 [00:40<02:33,  1.08s/it]\u001b[A\n",
      " 21%|██        | 38/179 [00:41<02:25,  1.04s/it]\u001b[A\n",
      " 22%|██▏       | 39/179 [00:42<02:23,  1.02s/it]\u001b[A\n",
      " 22%|██▏       | 40/179 [00:43<02:29,  1.07s/it]\u001b[A\n",
      " 23%|██▎       | 41/179 [00:44<02:26,  1.06s/it]\u001b[A\n",
      " 23%|██▎       | 42/179 [00:45<02:22,  1.04s/it]\u001b[A\n",
      " 24%|██▍       | 43/179 [00:46<02:21,  1.04s/it]\u001b[A\n",
      " 25%|██▍       | 44/179 [00:47<02:17,  1.02s/it]\u001b[A\n",
      " 25%|██▌       | 45/179 [00:48<02:17,  1.03s/it]\u001b[A\n",
      " 26%|██▌       | 46/179 [00:49<02:27,  1.11s/it]\u001b[A\n",
      " 26%|██▋       | 47/179 [00:51<02:24,  1.10s/it]\u001b[A\n",
      " 27%|██▋       | 48/179 [00:52<02:19,  1.07s/it]\u001b[A\n",
      " 27%|██▋       | 49/179 [00:53<02:17,  1.06s/it]\u001b[A\n",
      " 28%|██▊       | 50/179 [00:53<02:11,  1.02s/it]\u001b[A\n",
      " 28%|██▊       | 51/179 [00:55<02:22,  1.11s/it]\u001b[A\n",
      " 29%|██▉       | 52/179 [00:56<02:17,  1.08s/it]\u001b[A\n",
      " 30%|██▉       | 53/179 [00:57<02:14,  1.07s/it]\u001b[A\n",
      " 30%|███       | 54/179 [00:58<02:11,  1.05s/it]\u001b[A\n",
      " 31%|███       | 55/179 [00:59<02:11,  1.06s/it]\u001b[A\n",
      " 31%|███▏      | 56/179 [01:00<02:12,  1.08s/it]\u001b[A\n",
      " 32%|███▏      | 57/179 [01:02<02:23,  1.18s/it]\u001b[A\n",
      " 32%|███▏      | 58/179 [01:02<02:15,  1.12s/it]\u001b[A\n",
      " 33%|███▎      | 59/179 [01:04<02:13,  1.11s/it]\u001b[A\n",
      " 34%|███▎      | 60/179 [01:05<02:09,  1.09s/it]\u001b[A\n",
      " 34%|███▍      | 61/179 [01:06<02:08,  1.09s/it]\u001b[A\n",
      " 35%|███▍      | 62/179 [01:07<02:01,  1.04s/it]\u001b[A\n",
      " 35%|███▌      | 63/179 [01:08<02:08,  1.11s/it]\u001b[A\n",
      " 36%|███▌      | 64/179 [01:09<02:05,  1.09s/it]\u001b[A\n",
      " 36%|███▋      | 65/179 [01:10<02:06,  1.11s/it]\u001b[A\n",
      " 37%|███▋      | 66/179 [01:11<02:02,  1.08s/it]\u001b[A\n",
      " 37%|███▋      | 67/179 [01:12<01:59,  1.07s/it]\u001b[A\n",
      " 38%|███▊      | 68/179 [01:14<02:07,  1.15s/it]\u001b[A\n",
      " 39%|███▊      | 69/179 [01:14<02:00,  1.10s/it]\u001b[A\n",
      " 39%|███▉      | 70/179 [01:16<01:58,  1.09s/it]\u001b[A\n",
      " 40%|███▉      | 71/179 [01:17<01:57,  1.08s/it]\u001b[A\n",
      " 40%|████      | 72/179 [01:18<01:56,  1.09s/it]\u001b[A\n",
      " 41%|████      | 73/179 [01:19<01:52,  1.07s/it]\u001b[A\n",
      " 41%|████▏     | 74/179 [01:20<01:58,  1.12s/it]\u001b[A\n",
      " 42%|████▏     | 75/179 [01:21<01:55,  1.11s/it]\u001b[A\n",
      " 42%|████▏     | 76/179 [01:22<01:57,  1.14s/it]\u001b[A\n",
      " 43%|████▎     | 77/179 [01:23<01:53,  1.11s/it]\u001b[A\n",
      " 44%|████▎     | 78/179 [01:24<01:50,  1.10s/it]\u001b[A\n",
      " 44%|████▍     | 79/179 [01:26<02:00,  1.20s/it]\u001b[A\n",
      " 45%|████▍     | 80/179 [01:27<01:54,  1.15s/it]\u001b[A\n",
      " 45%|████▌     | 81/179 [01:28<01:51,  1.13s/it]\u001b[A\n",
      " 46%|████▌     | 82/179 [01:29<01:46,  1.10s/it]\u001b[A\n",
      " 46%|████▋     | 83/179 [01:30<01:47,  1.12s/it]\u001b[A\n",
      " 47%|████▋     | 84/179 [01:31<01:42,  1.08s/it]\u001b[A\n",
      " 47%|████▋     | 85/179 [01:32<01:44,  1.11s/it]\u001b[A\n",
      " 48%|████▊     | 86/179 [01:33<01:40,  1.08s/it]\u001b[A\n",
      " 49%|████▊     | 87/179 [01:34<01:39,  1.08s/it]\u001b[A\n",
      " 49%|████▉     | 88/179 [01:36<01:38,  1.09s/it]\u001b[A\n",
      " 50%|████▉     | 89/179 [01:37<01:36,  1.07s/it]\u001b[A\n",
      " 50%|█████     | 90/179 [01:38<01:35,  1.08s/it]\u001b[A\n",
      " 51%|█████     | 91/179 [01:39<01:41,  1.15s/it]\u001b[A\n",
      " 51%|█████▏    | 92/179 [01:40<01:36,  1.11s/it]\u001b[A\n",
      " 52%|█████▏    | 93/179 [01:41<01:32,  1.07s/it]\u001b[A\n",
      " 53%|█████▎    | 94/179 [01:42<01:31,  1.07s/it]\u001b[A\n",
      " 53%|█████▎    | 95/179 [01:43<01:31,  1.09s/it]\u001b[A\n",
      " 54%|█████▎    | 96/179 [01:44<01:36,  1.16s/it]\u001b[A\n",
      " 54%|█████▍    | 97/179 [01:46<01:34,  1.16s/it]\u001b[A\n",
      " 55%|█████▍    | 98/179 [01:47<01:31,  1.13s/it]\u001b[A\n",
      " 55%|█████▌    | 99/179 [01:48<01:30,  1.13s/it]\u001b[A\n",
      " 56%|█████▌    | 100/179 [01:49<01:28,  1.12s/it]\u001b[A\n",
      " 56%|█████▋    | 101/179 [01:50<01:25,  1.10s/it]\u001b[A\n",
      " 57%|█████▋    | 102/179 [01:51<01:29,  1.16s/it]\u001b[A\n",
      " 58%|█████▊    | 103/179 [01:52<01:26,  1.14s/it]\u001b[A\n",
      " 58%|█████▊    | 104/179 [01:53<01:23,  1.12s/it]\u001b[A\n",
      " 59%|█████▊    | 105/179 [01:54<01:21,  1.10s/it]\u001b[A\n",
      " 59%|█████▉    | 106/179 [01:55<01:18,  1.07s/it]\u001b[A\n",
      " 60%|█████▉    | 107/179 [01:57<01:25,  1.19s/it]\u001b[A\n",
      " 60%|██████    | 108/179 [01:58<01:22,  1.16s/it]\u001b[A\n",
      " 61%|██████    | 109/179 [01:59<01:18,  1.12s/it]\u001b[A\n",
      " 61%|██████▏   | 110/179 [02:01<01:33,  1.36s/it]\u001b[A\n",
      " 62%|██████▏   | 111/179 [02:02<01:25,  1.26s/it]\u001b[A\n",
      " 63%|██████▎   | 112/179 [02:03<01:21,  1.21s/it]\u001b[A\n",
      " 63%|██████▎   | 113/179 [02:04<01:22,  1.25s/it]\u001b[A\n",
      " 64%|██████▎   | 114/179 [02:05<01:17,  1.19s/it]\u001b[A\n",
      " 64%|██████▍   | 115/179 [02:07<01:12,  1.14s/it]\u001b[A\n",
      " 65%|██████▍   | 116/179 [02:08<01:10,  1.12s/it]\u001b[A\n",
      " 65%|██████▌   | 117/179 [02:09<01:07,  1.09s/it]\u001b[A\n",
      " 66%|██████▌   | 118/179 [02:10<01:05,  1.08s/it]\u001b[A\n",
      " 66%|██████▋   | 119/179 [02:11<01:07,  1.13s/it]\u001b[A\n",
      " 67%|██████▋   | 120/179 [02:12<01:06,  1.12s/it]\u001b[A\n",
      " 68%|██████▊   | 121/179 [02:13<01:02,  1.08s/it]\u001b[A\n",
      " 68%|██████▊   | 122/179 [02:14<01:01,  1.08s/it]\u001b[A\n",
      " 69%|██████▊   | 123/179 [02:15<00:58,  1.05s/it]\u001b[A\n",
      " 69%|██████▉   | 124/179 [02:17<01:05,  1.19s/it]\u001b[A\n",
      " 70%|██████▉   | 125/179 [02:18<01:02,  1.15s/it]\u001b[A\n",
      " 70%|███████   | 126/179 [02:19<00:59,  1.12s/it]\u001b[A\n",
      " 71%|███████   | 127/179 [02:20<00:57,  1.10s/it]\u001b[A\n",
      " 72%|███████▏  | 128/179 [02:21<00:57,  1.14s/it]\u001b[A\n",
      " 72%|███████▏  | 129/179 [02:22<00:57,  1.14s/it]\u001b[A\n",
      " 73%|███████▎  | 130/179 [02:23<00:59,  1.21s/it]\u001b[A\n",
      " 73%|███████▎  | 131/179 [02:25<00:56,  1.17s/it]\u001b[A\n",
      " 74%|███████▎  | 132/179 [02:26<00:53,  1.13s/it]\u001b[A\n",
      " 74%|███████▍  | 133/179 [02:27<00:50,  1.10s/it]\u001b[A\n",
      " 75%|███████▍  | 134/179 [02:28<00:49,  1.09s/it]\u001b[A\n",
      " 75%|███████▌  | 135/179 [02:29<00:54,  1.23s/it]\u001b[A\n",
      " 76%|███████▌  | 136/179 [02:30<00:52,  1.22s/it]\u001b[A\n",
      " 77%|███████▋  | 137/179 [02:31<00:48,  1.16s/it]\u001b[A\n",
      " 77%|███████▋  | 138/179 [02:33<00:46,  1.13s/it]\u001b[A\n",
      " 78%|███████▊  | 139/179 [02:34<00:43,  1.10s/it]\u001b[A\n",
      " 78%|███████▊  | 140/179 [02:35<00:40,  1.05s/it]\u001b[A\n",
      " 79%|███████▉  | 141/179 [02:36<00:42,  1.13s/it]\u001b[A\n",
      " 79%|███████▉  | 142/179 [02:37<00:42,  1.15s/it]\u001b[A\n",
      " 80%|███████▉  | 143/179 [02:38<00:40,  1.13s/it]\u001b[A\n",
      " 80%|████████  | 144/179 [02:39<00:39,  1.14s/it]\u001b[A\n",
      " 81%|████████  | 145/179 [02:40<00:38,  1.12s/it]\u001b[A\n",
      " 82%|████████▏ | 146/179 [02:41<00:36,  1.11s/it]\u001b[A\n",
      " 82%|████████▏ | 147/179 [02:43<00:37,  1.18s/it]\u001b[A\n",
      " 83%|████████▎ | 148/179 [02:44<00:35,  1.15s/it]\u001b[A\n",
      " 83%|████████▎ | 149/179 [02:45<00:32,  1.09s/it]\u001b[A\n",
      " 84%|████████▍ | 150/179 [02:46<00:31,  1.08s/it]\u001b[A\n",
      " 84%|████████▍ | 151/179 [02:47<00:30,  1.10s/it]\u001b[A\n",
      " 85%|████████▍ | 152/179 [02:49<00:33,  1.23s/it]\u001b[A\n",
      " 85%|████████▌ | 153/179 [02:50<00:30,  1.17s/it]\u001b[A\n",
      " 86%|████████▌ | 154/179 [02:51<00:28,  1.14s/it]\u001b[A\n",
      " 87%|████████▋ | 155/179 [02:52<00:26,  1.10s/it]\u001b[A\n",
      " 87%|████████▋ | 156/179 [02:53<00:25,  1.11s/it]\u001b[A\n",
      " 88%|████████▊ | 157/179 [02:54<00:24,  1.10s/it]\u001b[A\n",
      " 88%|████████▊ | 158/179 [02:55<00:24,  1.16s/it]\u001b[A\n",
      " 89%|████████▉ | 159/179 [02:56<00:22,  1.11s/it]\u001b[A\n",
      " 89%|████████▉ | 160/179 [02:57<00:20,  1.08s/it]\u001b[A\n",
      " 90%|████████▉ | 161/179 [02:58<00:18,  1.05s/it]\u001b[A\n",
      " 91%|█████████ | 162/179 [02:59<00:18,  1.07s/it]\u001b[A\n",
      " 91%|█████████ | 163/179 [03:01<00:18,  1.13s/it]\u001b[A\n",
      " 92%|█████████▏| 164/179 [03:02<00:16,  1.11s/it]\u001b[A\n",
      " 92%|█████████▏| 165/179 [03:03<00:15,  1.11s/it]\u001b[A\n",
      " 93%|█████████▎| 166/179 [03:04<00:13,  1.08s/it]\u001b[A\n",
      " 93%|█████████▎| 167/179 [03:05<00:12,  1.08s/it]\u001b[A\n",
      " 94%|█████████▍| 168/179 [03:06<00:11,  1.05s/it]\u001b[A\n",
      " 94%|█████████▍| 169/179 [03:07<00:11,  1.11s/it]\u001b[A\n",
      " 95%|█████████▍| 170/179 [03:08<00:09,  1.11s/it]\u001b[A\n",
      " 96%|█████████▌| 171/179 [03:09<00:08,  1.10s/it]\u001b[A\n",
      " 96%|█████████▌| 172/179 [03:10<00:07,  1.10s/it]\u001b[A\n",
      " 97%|█████████▋| 173/179 [03:11<00:06,  1.12s/it]\u001b[A\n",
      " 97%|█████████▋| 174/179 [03:13<00:05,  1.16s/it]\u001b[A\n",
      " 98%|█████████▊| 175/179 [03:14<00:04,  1.19s/it]\u001b[A\n",
      " 98%|█████████▊| 176/179 [03:15<00:03,  1.14s/it]\u001b[A\n",
      " 99%|█████████▉| 177/179 [03:16<00:02,  1.10s/it]\u001b[A\n",
      " 99%|█████████▉| 178/179 [03:17<00:01,  1.10s/it]\u001b[A\n",
      "100%|██████████| 179/179 [03:18<00:00,  1.11s/it]\n",
      " 39%|███▉      | 161/413 [25:54<5:54:10, 84.33s/it]"
     ]
    },
    {
     "name": "stdout",
     "output_type": "stream",
     "text": [
      "https://reviews.webmd.com/drugs/drugreview-5044-fluphenazine-hcl\n"
     ]
    },
    {
     "name": "stderr",
     "output_type": "stream",
     "text": [
      "\n",
      "  0%|          | 0/1 [00:00<?, ?it/s]\u001b[A\n",
      "100%|██████████| 1/1 [00:01<00:00,  1.21s/it]\n",
      " 39%|███▉      | 162/413 [25:57<4:11:34, 60.14s/it]"
     ]
    },
    {
     "name": "stdout",
     "output_type": "stream",
     "text": [
      "https://reviews.webmd.com/drugs/drugreview-5044-fluphenazine-hcl-concentrate\n"
     ]
    },
    {
     "name": "stderr",
     "output_type": "stream",
     "text": [
      "\n",
      "  0%|          | 0/1 [00:00<?, ?it/s]\u001b[A\n",
      "100%|██████████| 1/1 [00:00<00:00,  1.13it/s]\n",
      " 39%|███▉      | 163/413 [25:59<2:57:50, 42.68s/it]"
     ]
    },
    {
     "name": "stdout",
     "output_type": "stream",
     "text": [
      "https://reviews.webmd.com/drugs/drugreview-5044-fluphenazine-hcl-elixir\n"
     ]
    },
    {
     "name": "stderr",
     "output_type": "stream",
     "text": [
      "\n",
      "  0%|          | 0/1 [00:00<?, ?it/s]\u001b[A\n",
      "100%|██████████| 1/1 [00:00<00:00,  1.19it/s]\n",
      " 40%|███▉      | 164/413 [26:01<2:06:33, 30.50s/it]"
     ]
    },
    {
     "name": "stdout",
     "output_type": "stream",
     "text": [
      "https://reviews.webmd.com/drugs/drugreview-5263-librium-capsule\n"
     ]
    },
    {
     "name": "stderr",
     "output_type": "stream",
     "text": [
      "\n",
      "  0%|          | 0/4 [00:00<?, ?it/s]\u001b[A\n",
      " 25%|██▌       | 1/4 [00:00<00:02,  1.06it/s]\u001b[A\n",
      " 50%|█████     | 2/4 [00:02<00:02,  1.18s/it]\u001b[A\n",
      " 75%|███████▌  | 3/4 [00:03<00:01,  1.11s/it]\u001b[A\n",
      "100%|██████████| 4/4 [00:04<00:00,  1.10s/it]\n",
      " 40%|███▉      | 165/413 [26:08<1:36:39, 23.39s/it]"
     ]
    },
    {
     "name": "stdout",
     "output_type": "stream",
     "text": [
      "https://reviews.webmd.com/drugs/drugreview-53-vistaril-solution\n"
     ]
    },
    {
     "name": "stderr",
     "output_type": "stream",
     "text": [
      "\n",
      "  0%|          | 0/2 [00:00<?, ?it/s]\u001b[A\n",
      " 50%|█████     | 1/2 [00:00<00:00,  1.03it/s]\u001b[A\n",
      "100%|██████████| 2/2 [00:02<00:00,  1.19s/it]\n",
      " 40%|████      | 166/413 [26:13<1:13:05, 17.75s/it]"
     ]
    },
    {
     "name": "stdout",
     "output_type": "stream",
     "text": [
      "https://reviews.webmd.com/drugs/drugreview-5419-haldol-tablet\n"
     ]
    },
    {
     "name": "stderr",
     "output_type": "stream",
     "text": [
      "\n",
      "  0%|          | 0/6 [00:00<?, ?it/s]\u001b[A\n",
      " 17%|█▋        | 1/6 [00:01<00:05,  1.09s/it]\u001b[A\n",
      " 33%|███▎      | 2/6 [00:02<00:04,  1.10s/it]\u001b[A\n",
      " 50%|█████     | 3/6 [00:03<00:03,  1.10s/it]\u001b[A\n",
      " 67%|██████▋   | 4/6 [00:04<00:02,  1.21s/it]\u001b[A\n",
      " 83%|████████▎ | 5/6 [00:06<00:01,  1.28s/it]\u001b[A\n",
      "100%|██████████| 6/6 [00:07<00:00,  1.19s/it]\n",
      " 41%|████      | 168/413 [26:24<46:00, 11.27s/it]  "
     ]
    },
    {
     "name": "stdout",
     "output_type": "stream",
     "text": [
      "skipping https://reviews.webmd.com/drugs/drugreview-5480-fluphenazine-enanthate-solution: page not found\n",
      "https://reviews.webmd.com/drugs/drugreview-5511-atarax-tablet\n"
     ]
    },
    {
     "name": "stderr",
     "output_type": "stream",
     "text": [
      "\n",
      "  0%|          | 0/11 [00:00<?, ?it/s]\u001b[A\n",
      "  9%|▉         | 1/11 [00:00<00:09,  1.04it/s]\u001b[A\n",
      " 18%|█▊        | 2/11 [00:01<00:09,  1.00s/it]\u001b[A\n",
      " 27%|██▋       | 3/11 [00:03<00:08,  1.05s/it]\u001b[A\n",
      " 36%|███▋      | 4/11 [00:04<00:08,  1.15s/it]\u001b[A\n",
      " 45%|████▌     | 5/11 [00:05<00:06,  1.14s/it]\u001b[A\n",
      " 55%|█████▍    | 6/11 [00:06<00:05,  1.08s/it]\u001b[A\n",
      " 64%|██████▎   | 7/11 [00:07<00:04,  1.07s/it]\u001b[A\n",
      " 73%|███████▎  | 8/11 [00:08<00:03,  1.06s/it]\u001b[A\n",
      " 82%|████████▏ | 9/11 [00:10<00:02,  1.17s/it]\u001b[A\n",
      " 91%|█████████ | 10/11 [00:11<00:01,  1.19s/it]\u001b[A\n",
      "100%|██████████| 11/11 [00:12<00:00,  1.12s/it]\n",
      " 41%|████      | 169/413 [26:39<50:08, 12.33s/it]"
     ]
    },
    {
     "name": "stdout",
     "output_type": "stream",
     "text": [
      "https://reviews.webmd.com/drugs/drugreview-5544-loxitane-capsule\n"
     ]
    },
    {
     "name": "stderr",
     "output_type": "stream",
     "text": [
      "\n",
      "  0%|          | 0/1 [00:00<?, ?it/s]\u001b[A\n",
      "100%|██████████| 1/1 [00:00<00:00,  1.47it/s]\n",
      " 41%|████▏     | 171/413 [26:43<27:55,  6.92s/it]"
     ]
    },
    {
     "name": "stdout",
     "output_type": "stream",
     "text": [
      "skipping https://reviews.webmd.com/drugs/drugreview-5554-loxitane-solution: page not found\n"
     ]
    },
    {
     "name": "stderr",
     "output_type": "stream",
     "text": [
      " 42%|████▏     | 172/413 [26:44<21:00,  5.23s/it]"
     ]
    },
    {
     "name": "stdout",
     "output_type": "stream",
     "text": [
      "skipping https://reviews.webmd.com/drugs/drugreview-5555-loxapine-hcl-solution: page not found\n",
      "https://reviews.webmd.com/drugs/drugreview-5556-loxitane-c-concentrate\n"
     ]
    },
    {
     "name": "stderr",
     "output_type": "stream",
     "text": [
      " 42%|████▏     | 173/413 [26:46<16:52,  4.22s/it]"
     ]
    },
    {
     "name": "stdout",
     "output_type": "stream",
     "text": [
      "https://reviews.webmd.com/drugs/drugreview-5557-loxapine-hcl-concentrate\n"
     ]
    },
    {
     "name": "stderr",
     "output_type": "stream",
     "text": [
      "\n",
      "  0%|          | 0/1 [00:00<?, ?it/s]\u001b[A\n",
      "100%|██████████| 1/1 [00:00<00:00,  1.06it/s]\n",
      " 42%|████▏     | 174/413 [26:49<15:25,  3.87s/it]"
     ]
    },
    {
     "name": "stdout",
     "output_type": "stream",
     "text": [
      "https://reviews.webmd.com/drugs/drugreview-57007-sk-lygen-capsule\n"
     ]
    },
    {
     "name": "stderr",
     "output_type": "stream",
     "text": [
      " 42%|████▏     | 175/413 [26:51<12:46,  3.22s/it]"
     ]
    },
    {
     "name": "stdout",
     "output_type": "stream",
     "text": [
      "https://reviews.webmd.com/drugs/drugreview-57008-a-poxide-capsule\n"
     ]
    },
    {
     "name": "stderr",
     "output_type": "stream",
     "text": [
      "\n",
      "  0%|          | 0/1 [00:00<?, ?it/s]\u001b[A\n",
      "100%|██████████| 1/1 [00:00<00:00,  1.61it/s]\n",
      " 43%|████▎     | 176/413 [26:53<11:44,  2.97s/it]"
     ]
    },
    {
     "name": "stdout",
     "output_type": "stream",
     "text": [
      "https://reviews.webmd.com/drugs/drugreview-57009-cdp-capsule\n"
     ]
    },
    {
     "name": "stderr",
     "output_type": "stream",
     "text": [
      " 43%|████▎     | 177/413 [26:55<10:41,  2.72s/it]"
     ]
    },
    {
     "name": "stdout",
     "output_type": "stream",
     "text": [
      "https://reviews.webmd.com/drugs/drugreview-57010-icn-azepox-capsule\n"
     ]
    },
    {
     "name": "stderr",
     "output_type": "stream",
     "text": [
      " 43%|████▎     | 178/413 [26:57<09:48,  2.51s/it]"
     ]
    },
    {
     "name": "stdout",
     "output_type": "stream",
     "text": [
      "https://reviews.webmd.com/drugs/drugreview-57011-sereen-capsule\n"
     ]
    },
    {
     "name": "stderr",
     "output_type": "stream",
     "text": [
      " 43%|████▎     | 179/413 [26:59<09:03,  2.32s/it]"
     ]
    },
    {
     "name": "stdout",
     "output_type": "stream",
     "text": [
      "https://reviews.webmd.com/drugs/drugreview-57012-lipoxide-capsule\n"
     ]
    },
    {
     "name": "stderr",
     "output_type": "stream",
     "text": [
      " 44%|████▎     | 180/413 [27:01<08:23,  2.16s/it]"
     ]
    },
    {
     "name": "stdout",
     "output_type": "stream",
     "text": [
      "https://reviews.webmd.com/drugs/drugreview-57013-kenrax-capsule\n"
     ]
    },
    {
     "name": "stderr",
     "output_type": "stream",
     "text": [
      " 44%|████▍     | 181/413 [27:03<08:11,  2.12s/it]"
     ]
    },
    {
     "name": "stdout",
     "output_type": "stream",
     "text": [
      "https://reviews.webmd.com/drugs/drugreview-57014-chlor-pox-capsule\n"
     ]
    },
    {
     "name": "stderr",
     "output_type": "stream",
     "text": [
      " 44%|████▍     | 182/413 [27:05<07:49,  2.03s/it]"
     ]
    },
    {
     "name": "stdout",
     "output_type": "stream",
     "text": [
      "https://reviews.webmd.com/drugs/drugreview-57015-libaca-capsule\n"
     ]
    },
    {
     "name": "stderr",
     "output_type": "stream",
     "text": [
      " 44%|████▍     | 183/413 [27:07<07:34,  1.98s/it]"
     ]
    },
    {
     "name": "stdout",
     "output_type": "stream",
     "text": [
      "https://reviews.webmd.com/drugs/drugreview-57016-calmium-capsule\n"
     ]
    },
    {
     "name": "stderr",
     "output_type": "stream",
     "text": [
      " 45%|████▍     | 184/413 [27:09<07:51,  2.06s/it]"
     ]
    },
    {
     "name": "stdout",
     "output_type": "stream",
     "text": [
      "https://reviews.webmd.com/drugs/drugreview-57017-murcil-capsule\n"
     ]
    },
    {
     "name": "stderr",
     "output_type": "stream",
     "text": [
      " 45%|████▍     | 185/413 [27:11<07:32,  1.99s/it]"
     ]
    },
    {
     "name": "stdout",
     "output_type": "stream",
     "text": [
      "https://reviews.webmd.com/drugs/drugreview-57018-mitran-capsule\n"
     ]
    },
    {
     "name": "stderr",
     "output_type": "stream",
     "text": [
      " 45%|████▌     | 186/413 [27:13<07:26,  1.97s/it]"
     ]
    },
    {
     "name": "stdout",
     "output_type": "stream",
     "text": [
      "https://reviews.webmd.com/drugs/drugreview-57019-d-tran-capsule\n"
     ]
    },
    {
     "name": "stderr",
     "output_type": "stream",
     "text": [
      " 45%|████▌     | 187/413 [27:14<07:08,  1.90s/it]"
     ]
    },
    {
     "name": "stdout",
     "output_type": "stream",
     "text": [
      "https://reviews.webmd.com/drugs/drugreview-57020-chlor-pox-capsule\n"
     ]
    },
    {
     "name": "stderr",
     "output_type": "stream",
     "text": [
      " 46%|████▌     | 188/413 [27:16<06:44,  1.80s/it]"
     ]
    },
    {
     "name": "stdout",
     "output_type": "stream",
     "text": [
      "https://reviews.webmd.com/drugs/drugreview-57021-m-tran-capsule\n"
     ]
    },
    {
     "name": "stderr",
     "output_type": "stream",
     "text": [
      " 46%|████▌     | 189/413 [27:18<07:00,  1.88s/it]"
     ]
    },
    {
     "name": "stdout",
     "output_type": "stream",
     "text": [
      "https://reviews.webmd.com/drugs/drugreview-57022-j-tran-capsule\n"
     ]
    },
    {
     "name": "stderr",
     "output_type": "stream",
     "text": [
      " 46%|████▌     | 190/413 [27:20<06:43,  1.81s/it]"
     ]
    },
    {
     "name": "stdout",
     "output_type": "stream",
     "text": [
      "https://reviews.webmd.com/drugs/drugreview-57023-spaz-capsule\n"
     ]
    },
    {
     "name": "stderr",
     "output_type": "stream",
     "text": [
      " 46%|████▌     | 191/413 [27:22<06:42,  1.81s/it]"
     ]
    },
    {
     "name": "stdout",
     "output_type": "stream",
     "text": [
      "https://reviews.webmd.com/drugs/drugreview-57024-ro-poxide-capsule\n"
     ]
    },
    {
     "name": "stderr",
     "output_type": "stream",
     "text": [
      " 46%|████▋     | 192/413 [27:24<06:50,  1.86s/it]"
     ]
    },
    {
     "name": "stdout",
     "output_type": "stream",
     "text": [
      "https://reviews.webmd.com/drugs/drugreview-57025-colspan-capsule\n"
     ]
    },
    {
     "name": "stderr",
     "output_type": "stream",
     "text": [
      "\n",
      "  0%|          | 0/1 [00:00<?, ?it/s]\u001b[A\n",
      "100%|██████████| 1/1 [00:00<00:00,  1.56it/s]\n",
      " 47%|████▋     | 193/413 [27:26<07:32,  2.06s/it]"
     ]
    },
    {
     "name": "stdout",
     "output_type": "stream",
     "text": [
      "https://reviews.webmd.com/drugs/drugreview-57026-chlor-pox-capsule\n"
     ]
    },
    {
     "name": "stderr",
     "output_type": "stream",
     "text": [
      " 47%|████▋     | 195/413 [27:29<06:35,  1.81s/it]"
     ]
    },
    {
     "name": "stdout",
     "output_type": "stream",
     "text": [
      "skipping https://reviews.webmd.com/drugs/drugreview-57027-tranxene-sd-tablet-er: page not found\n",
      "https://reviews.webmd.com/drugs/drugreview-57028-q-pam-tablet\n"
     ]
    },
    {
     "name": "stderr",
     "output_type": "stream",
     "text": [
      " 47%|████▋     | 196/413 [27:31<06:28,  1.79s/it]"
     ]
    },
    {
     "name": "stdout",
     "output_type": "stream",
     "text": [
      "https://reviews.webmd.com/drugs/drugreview-57029-x-ospaz-tablet\n"
     ]
    },
    {
     "name": "stderr",
     "output_type": "stream",
     "text": [
      " 48%|████▊     | 197/413 [27:33<06:35,  1.83s/it]"
     ]
    },
    {
     "name": "stdout",
     "output_type": "stream",
     "text": [
      "https://reviews.webmd.com/drugs/drugreview-57030-ro-azepam-tablet\n"
     ]
    },
    {
     "name": "stderr",
     "output_type": "stream",
     "text": [
      " 48%|████▊     | 198/413 [27:35<06:40,  1.87s/it]"
     ]
    },
    {
     "name": "stdout",
     "output_type": "stream",
     "text": [
      "https://reviews.webmd.com/drugs/drugreview-57031-d-val-solution\n"
     ]
    },
    {
     "name": "stderr",
     "output_type": "stream",
     "text": [
      " 48%|████▊     | 199/413 [27:37<06:40,  1.87s/it]"
     ]
    },
    {
     "name": "stdout",
     "output_type": "stream",
     "text": [
      "https://reviews.webmd.com/drugs/drugreview-57032-zetran-solution\n"
     ]
    },
    {
     "name": "stderr",
     "output_type": "stream",
     "text": [
      " 48%|████▊     | 200/413 [27:39<06:37,  1.87s/it]"
     ]
    },
    {
     "name": "stdout",
     "output_type": "stream",
     "text": [
      "https://reviews.webmd.com/drugs/drugreview-57034-durrax-tablet\n"
     ]
    },
    {
     "name": "stderr",
     "output_type": "stream",
     "text": [
      " 49%|████▊     | 201/413 [27:40<06:33,  1.86s/it]"
     ]
    },
    {
     "name": "stdout",
     "output_type": "stream",
     "text": [
      "https://reviews.webmd.com/drugs/drugreview-57035-traxin-tablet\n"
     ]
    },
    {
     "name": "stderr",
     "output_type": "stream",
     "text": [
      " 49%|████▉     | 202/413 [27:42<06:29,  1.85s/it]"
     ]
    },
    {
     "name": "stdout",
     "output_type": "stream",
     "text": [
      "https://reviews.webmd.com/drugs/drugreview-57036-adroxazine-tablet\n"
     ]
    },
    {
     "name": "stderr",
     "output_type": "stream",
     "text": [
      " 49%|████▉     | 203/413 [27:44<06:43,  1.92s/it]"
     ]
    },
    {
     "name": "stdout",
     "output_type": "stream",
     "text": [
      "https://reviews.webmd.com/drugs/drugreview-57037-spenrax-tablet\n"
     ]
    },
    {
     "name": "stderr",
     "output_type": "stream",
     "text": [
      " 49%|████▉     | 204/413 [27:46<06:30,  1.87s/it]"
     ]
    },
    {
     "name": "stdout",
     "output_type": "stream",
     "text": [
      "https://reviews.webmd.com/drugs/drugreview-57038-atrazine-tablet\n"
     ]
    },
    {
     "name": "stderr",
     "output_type": "stream",
     "text": [
      "\n",
      "  0%|          | 0/1 [00:00<?, ?it/s]\u001b[A\n",
      "100%|██████████| 1/1 [00:00<00:00,  1.54it/s]\n",
      " 50%|████▉     | 205/413 [27:49<07:10,  2.07s/it]"
     ]
    },
    {
     "name": "stdout",
     "output_type": "stream",
     "text": [
      "https://reviews.webmd.com/drugs/drugreview-57039-dermrax-tablet\n"
     ]
    },
    {
     "name": "stderr",
     "output_type": "stream",
     "text": [
      " 50%|████▉     | 206/413 [27:50<06:46,  1.97s/it]"
     ]
    },
    {
     "name": "stdout",
     "output_type": "stream",
     "text": [
      "https://reviews.webmd.com/drugs/drugreview-57040-adroxyzine-solution\n"
     ]
    },
    {
     "name": "stderr",
     "output_type": "stream",
     "text": [
      " 50%|█████     | 207/413 [27:52<06:31,  1.90s/it]"
     ]
    },
    {
     "name": "stdout",
     "output_type": "stream",
     "text": [
      "https://reviews.webmd.com/drugs/drugreview-57041-atozine-solution\n"
     ]
    },
    {
     "name": "stderr",
     "output_type": "stream",
     "text": [
      " 50%|█████     | 208/413 [27:54<06:38,  1.94s/it]"
     ]
    },
    {
     "name": "stdout",
     "output_type": "stream",
     "text": [
      "https://reviews.webmd.com/drugs/drugreview-57042-orgatrax-solution\n"
     ]
    },
    {
     "name": "stderr",
     "output_type": "stream",
     "text": [
      " 51%|█████     | 209/413 [27:56<06:25,  1.89s/it]"
     ]
    },
    {
     "name": "stdout",
     "output_type": "stream",
     "text": [
      "https://reviews.webmd.com/drugs/drugreview-57043-vistaril-im-hcl-salt-solution\n"
     ]
    },
    {
     "name": "stderr",
     "output_type": "stream",
     "text": [
      "\n",
      "  0%|          | 0/1 [00:00<?, ?it/s]\u001b[A\n",
      "100%|██████████| 1/1 [00:00<00:00,  1.27it/s]\n",
      " 51%|█████     | 210/413 [27:59<07:30,  2.22s/it]"
     ]
    },
    {
     "name": "stdout",
     "output_type": "stream",
     "text": [
      "https://reviews.webmd.com/drugs/drugreview-57044-visrex-solution\n"
     ]
    },
    {
     "name": "stderr",
     "output_type": "stream",
     "text": [
      " 51%|█████     | 211/413 [28:01<07:04,  2.10s/it]"
     ]
    },
    {
     "name": "stdout",
     "output_type": "stream",
     "text": [
      "https://reviews.webmd.com/drugs/drugreview-57045-vistaject-solution\n"
     ]
    },
    {
     "name": "stderr",
     "output_type": "stream",
     "text": [
      " 51%|█████▏    | 212/413 [28:03<06:44,  2.01s/it]"
     ]
    },
    {
     "name": "stdout",
     "output_type": "stream",
     "text": [
      "https://reviews.webmd.com/drugs/drugreview-57046-vistaquel-solution\n"
     ]
    },
    {
     "name": "stderr",
     "output_type": "stream",
     "text": [
      " 52%|█████▏    | 213/413 [28:05<06:42,  2.01s/it]"
     ]
    },
    {
     "name": "stdout",
     "output_type": "stream",
     "text": [
      "https://reviews.webmd.com/drugs/drugreview-57047-vistacon-solution\n"
     ]
    },
    {
     "name": "stderr",
     "output_type": "stream",
     "text": [
      " 52%|█████▏    | 214/413 [28:06<06:31,  1.97s/it]"
     ]
    },
    {
     "name": "stdout",
     "output_type": "stream",
     "text": [
      "https://reviews.webmd.com/drugs/drugreview-57048-drozine-solution\n"
     ]
    },
    {
     "name": "stderr",
     "output_type": "stream",
     "text": [
      " 52%|█████▏    | 215/413 [28:08<06:23,  1.94s/it]"
     ]
    },
    {
     "name": "stdout",
     "output_type": "stream",
     "text": [
      "https://reviews.webmd.com/drugs/drugreview-57049-hydroxacen-solution\n"
     ]
    },
    {
     "name": "stderr",
     "output_type": "stream",
     "text": [
      "\n",
      "  0%|          | 0/1 [00:00<?, ?it/s]\u001b[A\n",
      "100%|██████████| 1/1 [00:00<00:00,  1.53it/s]\n",
      " 52%|█████▏    | 216/413 [28:13<09:16,  2.82s/it]"
     ]
    },
    {
     "name": "stdout",
     "output_type": "stream",
     "text": [
      "https://reviews.webmd.com/drugs/drugreview-57050-viarex-solution\n"
     ]
    },
    {
     "name": "stderr",
     "output_type": "stream",
     "text": [
      " 53%|█████▎    | 217/413 [28:15<08:19,  2.55s/it]"
     ]
    },
    {
     "name": "stdout",
     "output_type": "stream",
     "text": [
      "https://reviews.webmd.com/drugs/drugreview-57051-vist-ed-solution\n"
     ]
    },
    {
     "name": "stderr",
     "output_type": "stream",
     "text": [
      " 53%|█████▎    | 218/413 [28:17<07:41,  2.37s/it]"
     ]
    },
    {
     "name": "stdout",
     "output_type": "stream",
     "text": [
      "https://reviews.webmd.com/drugs/drugreview-57052-e-vista-solution\n"
     ]
    },
    {
     "name": "stderr",
     "output_type": "stream",
     "text": [
      " 53%|█████▎    | 219/413 [28:19<07:15,  2.24s/it]"
     ]
    },
    {
     "name": "stdout",
     "output_type": "stream",
     "text": [
      "https://reviews.webmd.com/drugs/drugreview-57053-adzine-solution\n"
     ]
    },
    {
     "name": "stderr",
     "output_type": "stream",
     "text": [
      " 53%|█████▎    | 220/413 [28:21<06:47,  2.11s/it]"
     ]
    },
    {
     "name": "stdout",
     "output_type": "stream",
     "text": [
      "https://reviews.webmd.com/drugs/drugreview-57054-vistamed-solution\n"
     ]
    },
    {
     "name": "stderr",
     "output_type": "stream",
     "text": [
      " 54%|█████▎    | 221/413 [28:23<06:34,  2.06s/it]"
     ]
    },
    {
     "name": "stdout",
     "output_type": "stream",
     "text": [
      "https://reviews.webmd.com/drugs/drugreview-57055-neucalm-solution\n"
     ]
    },
    {
     "name": "stderr",
     "output_type": "stream",
     "text": [
      " 54%|█████▍    | 222/413 [28:25<06:26,  2.02s/it]"
     ]
    },
    {
     "name": "stdout",
     "output_type": "stream",
     "text": [
      "https://reviews.webmd.com/drugs/drugreview-57056-adaril-solution\n"
     ]
    },
    {
     "name": "stderr",
     "output_type": "stream",
     "text": [
      "\n",
      "  0%|          | 0/1 [00:00<?, ?it/s]\u001b[A\n",
      "100%|██████████| 1/1 [00:00<00:00,  1.46it/s]\n",
      " 54%|█████▍    | 223/413 [28:28<07:13,  2.28s/it]"
     ]
    },
    {
     "name": "stdout",
     "output_type": "stream",
     "text": [
      "https://reviews.webmd.com/drugs/drugreview-57057-vistrex-solution\n"
     ]
    },
    {
     "name": "stderr",
     "output_type": "stream",
     "text": [
      " 54%|█████▍    | 224/413 [28:29<06:39,  2.11s/it]"
     ]
    },
    {
     "name": "stdout",
     "output_type": "stream",
     "text": [
      "https://reviews.webmd.com/drugs/drugreview-57058-vistalax-solution\n"
     ]
    },
    {
     "name": "stderr",
     "output_type": "stream",
     "text": [
      " 54%|█████▍    | 225/413 [28:31<06:30,  2.08s/it]"
     ]
    },
    {
     "name": "stdout",
     "output_type": "stream",
     "text": [
      "https://reviews.webmd.com/drugs/drugreview-57059-hydrozine-solution\n"
     ]
    },
    {
     "name": "stderr",
     "output_type": "stream",
     "text": [
      "\n",
      "  0%|          | 0/1 [00:00<?, ?it/s]\u001b[A\n",
      "100%|██████████| 1/1 [00:00<00:00,  1.51it/s]\n",
      " 55%|█████▍    | 226/413 [28:34<06:59,  2.24s/it]"
     ]
    },
    {
     "name": "stdout",
     "output_type": "stream",
     "text": [
      "https://reviews.webmd.com/drugs/drugreview-57060-vista-plex-solution\n"
     ]
    },
    {
     "name": "stderr",
     "output_type": "stream",
     "text": [
      " 55%|█████▍    | 227/413 [28:36<06:45,  2.18s/it]"
     ]
    },
    {
     "name": "stdout",
     "output_type": "stream",
     "text": [
      "https://reviews.webmd.com/drugs/drugreview-57061-vistapam-capsule\n"
     ]
    },
    {
     "name": "stderr",
     "output_type": "stream",
     "text": [
      " 55%|█████▌    | 228/413 [28:38<07:00,  2.27s/it]"
     ]
    },
    {
     "name": "stdout",
     "output_type": "stream",
     "text": [
      "https://reviews.webmd.com/drugs/drugreview-57062-vamate-capsule\n"
     ]
    },
    {
     "name": "stderr",
     "output_type": "stream",
     "text": [
      " 55%|█████▌    | 229/413 [28:40<06:38,  2.17s/it]"
     ]
    },
    {
     "name": "stdout",
     "output_type": "stream",
     "text": [
      "https://reviews.webmd.com/drugs/drugreview-57063-sk-bamate-tablet\n"
     ]
    },
    {
     "name": "stderr",
     "output_type": "stream",
     "text": [
      " 56%|█████▌    | 230/413 [28:42<06:17,  2.06s/it]"
     ]
    },
    {
     "name": "stdout",
     "output_type": "stream",
     "text": [
      "https://reviews.webmd.com/drugs/drugreview-57064-mepromate-tablet\n"
     ]
    },
    {
     "name": "stderr",
     "output_type": "stream",
     "text": [
      " 56%|█████▌    | 231/413 [28:44<05:54,  1.95s/it]"
     ]
    },
    {
     "name": "stdout",
     "output_type": "stream",
     "text": [
      "https://reviews.webmd.com/drugs/drugreview-57065-tranmep-tablet\n"
     ]
    },
    {
     "name": "stderr",
     "output_type": "stream",
     "text": [
      " 56%|█████▌    | 232/413 [28:46<05:59,  1.99s/it]"
     ]
    },
    {
     "name": "stdout",
     "output_type": "stream",
     "text": [
      "https://reviews.webmd.com/drugs/drugreview-57066-sedabamate-tablet\n"
     ]
    },
    {
     "name": "stderr",
     "output_type": "stream",
     "text": [
      " 56%|█████▋    | 233/413 [28:48<05:39,  1.89s/it]"
     ]
    },
    {
     "name": "stdout",
     "output_type": "stream",
     "text": [
      "https://reviews.webmd.com/drugs/drugreview-57067-probate-tablet\n"
     ]
    },
    {
     "name": "stderr",
     "output_type": "stream",
     "text": [
      " 57%|█████▋    | 234/413 [28:49<05:32,  1.86s/it]"
     ]
    },
    {
     "name": "stdout",
     "output_type": "stream",
     "text": [
      "https://reviews.webmd.com/drugs/drugreview-57068-coprobate-tablet\n"
     ]
    },
    {
     "name": "stderr",
     "output_type": "stream",
     "text": [
      " 57%|█████▋    | 235/413 [28:51<05:24,  1.82s/it]"
     ]
    },
    {
     "name": "stdout",
     "output_type": "stream",
     "text": [
      "https://reviews.webmd.com/drugs/drugreview-57069-q-bam-tablet\n"
     ]
    },
    {
     "name": "stderr",
     "output_type": "stream",
     "text": [
      " 57%|█████▋    | 236/413 [28:53<05:21,  1.82s/it]"
     ]
    },
    {
     "name": "stdout",
     "output_type": "stream",
     "text": [
      "https://reviews.webmd.com/drugs/drugreview-57070-neurate-tablet\n"
     ]
    },
    {
     "name": "stderr",
     "output_type": "stream",
     "text": [
      " 57%|█████▋    | 237/413 [28:55<05:21,  1.83s/it]"
     ]
    },
    {
     "name": "stdout",
     "output_type": "stream",
     "text": [
      "https://reviews.webmd.com/drugs/drugreview-57071-pax-tablet\n"
     ]
    },
    {
     "name": "stderr",
     "output_type": "stream",
     "text": [
      "\n",
      "  0%|          | 0/1 [00:00<?, ?it/s]\u001b[A\n",
      "100%|██████████| 1/1 [00:00<00:00,  1.62it/s]\n",
      " 58%|█████▊    | 238/413 [28:57<06:02,  2.07s/it]"
     ]
    },
    {
     "name": "stdout",
     "output_type": "stream",
     "text": [
      "https://reviews.webmd.com/drugs/drugreview-57072-spantran-tablet\n"
     ]
    },
    {
     "name": "stderr",
     "output_type": "stream",
     "text": [
      " 58%|█████▊    | 239/413 [28:59<05:40,  1.96s/it]"
     ]
    },
    {
     "name": "stdout",
     "output_type": "stream",
     "text": [
      "https://reviews.webmd.com/drugs/drugreview-57073-acabamate-tablet\n"
     ]
    },
    {
     "name": "stderr",
     "output_type": "stream",
     "text": [
      " 58%|█████▊    | 240/413 [29:01<05:23,  1.87s/it]"
     ]
    },
    {
     "name": "stdout",
     "output_type": "stream",
     "text": [
      "https://reviews.webmd.com/drugs/drugreview-57074-meproban-tablet\n"
     ]
    },
    {
     "name": "stderr",
     "output_type": "stream",
     "text": [
      " 58%|█████▊    | 241/413 [29:03<05:15,  1.83s/it]"
     ]
    },
    {
     "name": "stdout",
     "output_type": "stream",
     "text": [
      "https://reviews.webmd.com/drugs/drugreview-57075-amitid-tablet\n"
     ]
    },
    {
     "name": "stderr",
     "output_type": "stream",
     "text": [
      " 59%|█████▊    | 242/413 [29:04<05:15,  1.85s/it]"
     ]
    },
    {
     "name": "stdout",
     "output_type": "stream",
     "text": [
      "https://reviews.webmd.com/drugs/drugreview-57076-sk-amitriptyline-tablet\n"
     ]
    },
    {
     "name": "stderr",
     "output_type": "stream",
     "text": [
      " 59%|█████▉    | 243/413 [29:06<05:09,  1.82s/it]"
     ]
    },
    {
     "name": "stdout",
     "output_type": "stream",
     "text": [
      "https://reviews.webmd.com/drugs/drugreview-57077-q-e-l-tablet\n"
     ]
    },
    {
     "name": "stderr",
     "output_type": "stream",
     "text": [
      " 59%|█████▉    | 244/413 [29:08<05:07,  1.82s/it]"
     ]
    },
    {
     "name": "stdout",
     "output_type": "stream",
     "text": [
      "https://reviews.webmd.com/drugs/drugreview-57078-kenvil-tablet\n"
     ]
    },
    {
     "name": "stderr",
     "output_type": "stream",
     "text": [
      " 59%|█████▉    | 245/413 [29:10<05:08,  1.83s/it]"
     ]
    },
    {
     "name": "stdout",
     "output_type": "stream",
     "text": [
      "https://reviews.webmd.com/drugs/drugreview-57079-e-vill-tablet\n"
     ]
    },
    {
     "name": "stderr",
     "output_type": "stream",
     "text": [
      " 60%|█████▉    | 246/413 [29:12<05:01,  1.80s/it]"
     ]
    },
    {
     "name": "stdout",
     "output_type": "stream",
     "text": [
      "https://reviews.webmd.com/drugs/drugreview-57080-stabanil-tablet\n"
     ]
    },
    {
     "name": "stderr",
     "output_type": "stream",
     "text": [
      " 60%|█████▉    | 247/413 [29:13<05:02,  1.82s/it]"
     ]
    },
    {
     "name": "stdout",
     "output_type": "stream",
     "text": [
      "https://reviews.webmd.com/drugs/drugreview-57081-e-vill-tablet\n"
     ]
    },
    {
     "name": "stderr",
     "output_type": "stream",
     "text": [
      " 60%|██████    | 248/413 [29:15<05:09,  1.88s/it]"
     ]
    },
    {
     "name": "stdout",
     "output_type": "stream",
     "text": [
      "https://reviews.webmd.com/drugs/drugreview-57082-re-live-tablet\n"
     ]
    },
    {
     "name": "stderr",
     "output_type": "stream",
     "text": [
      " 60%|██████    | 249/413 [29:17<05:04,  1.85s/it]"
     ]
    },
    {
     "name": "stdout",
     "output_type": "stream",
     "text": [
      "https://reviews.webmd.com/drugs/drugreview-57083-emitrip-tablet\n"
     ]
    },
    {
     "name": "stderr",
     "output_type": "stream",
     "text": [
      " 61%|██████    | 250/413 [29:19<05:16,  1.94s/it]"
     ]
    },
    {
     "name": "stdout",
     "output_type": "stream",
     "text": [
      "https://reviews.webmd.com/drugs/drugreview-57084-e-vill-tablet\n"
     ]
    },
    {
     "name": "stderr",
     "output_type": "stream",
     "text": [
      " 61%|██████    | 251/413 [29:21<05:05,  1.89s/it]"
     ]
    },
    {
     "name": "stdout",
     "output_type": "stream",
     "text": [
      "https://reviews.webmd.com/drugs/drugreview-57085-e-vill-tablet\n"
     ]
    },
    {
     "name": "stderr",
     "output_type": "stream",
     "text": [
      " 61%|██████    | 252/413 [29:23<05:03,  1.88s/it]"
     ]
    },
    {
     "name": "stdout",
     "output_type": "stream",
     "text": [
      "https://reviews.webmd.com/drugs/drugreview-57086-e-vill-tablet\n"
     ]
    },
    {
     "name": "stderr",
     "output_type": "stream",
     "text": [
      " 62%|██████▏   | 254/413 [29:26<04:31,  1.71s/it]"
     ]
    },
    {
     "name": "stdout",
     "output_type": "stream",
     "text": [
      "skipping https://reviews.webmd.com/drugs/drugreview-57087-enovil-solution: page not found\n",
      "https://reviews.webmd.com/drugs/drugreview-57088-sk-pramine-tablet\n"
     ]
    },
    {
     "name": "stderr",
     "output_type": "stream",
     "text": [
      " 62%|██████▏   | 255/413 [29:28<04:41,  1.78s/it]"
     ]
    },
    {
     "name": "stdout",
     "output_type": "stream",
     "text": [
      "https://reviews.webmd.com/drugs/drugreview-57089-janimine-tablet\n"
     ]
    },
    {
     "name": "stderr",
     "output_type": "stream",
     "text": [
      " 62%|██████▏   | 256/413 [29:30<04:42,  1.80s/it]"
     ]
    },
    {
     "name": "stdout",
     "output_type": "stream",
     "text": [
      "https://reviews.webmd.com/drugs/drugreview-57090-etnofril-tablet\n"
     ]
    },
    {
     "name": "stderr",
     "output_type": "stream",
     "text": [
      " 62%|██████▏   | 257/413 [29:32<05:13,  2.01s/it]"
     ]
    },
    {
     "name": "stdout",
     "output_type": "stream",
     "text": [
      "https://reviews.webmd.com/drugs/drugreview-57091-imavate-tablet\n"
     ]
    },
    {
     "name": "stderr",
     "output_type": "stream",
     "text": [
      " 62%|██████▏   | 258/413 [29:34<04:56,  1.91s/it]"
     ]
    },
    {
     "name": "stdout",
     "output_type": "stream",
     "text": [
      "https://reviews.webmd.com/drugs/drugreview-57092-norfranil-tablet\n"
     ]
    },
    {
     "name": "stderr",
     "output_type": "stream",
     "text": [
      " 63%|██████▎   | 259/413 [29:36<05:08,  2.00s/it]"
     ]
    },
    {
     "name": "stdout",
     "output_type": "stream",
     "text": [
      "https://reviews.webmd.com/drugs/drugreview-57093-deconil-tablet\n"
     ]
    },
    {
     "name": "stderr",
     "output_type": "stream",
     "text": [
      " 63%|██████▎   | 260/413 [29:38<04:52,  1.91s/it]"
     ]
    },
    {
     "name": "stdout",
     "output_type": "stream",
     "text": [
      "https://reviews.webmd.com/drugs/drugreview-57094-aventyl-hcl-do-not-use-capsule\n"
     ]
    },
    {
     "name": "stderr",
     "output_type": "stream",
     "text": [
      " 63%|██████▎   | 261/413 [29:40<04:46,  1.88s/it]"
     ]
    },
    {
     "name": "stdout",
     "output_type": "stream",
     "text": [
      "https://reviews.webmd.com/drugs/drugreview-57095-halperon-tablet\n"
     ]
    },
    {
     "name": "stderr",
     "output_type": "stream",
     "text": [
      " 63%|██████▎   | 262/413 [29:43<05:38,  2.24s/it]"
     ]
    },
    {
     "name": "stdout",
     "output_type": "stream",
     "text": [
      "https://reviews.webmd.com/drugs/drugreview-57096-myperidol-concentrate\n"
     ]
    },
    {
     "name": "stderr",
     "output_type": "stream",
     "text": [
      " 64%|██████▎   | 263/413 [29:45<05:33,  2.22s/it]"
     ]
    },
    {
     "name": "stdout",
     "output_type": "stream",
     "text": [
      "https://reviews.webmd.com/drugs/drugreview-57097-haldol-decanoate-solution\n"
     ]
    },
    {
     "name": "stderr",
     "output_type": "stream",
     "text": [
      " 64%|██████▍   | 264/413 [29:47<05:18,  2.14s/it]"
     ]
    },
    {
     "name": "stdout",
     "output_type": "stream",
     "text": [
      "https://reviews.webmd.com/drugs/drugreview-57098-haldol-decanoate-solution\n"
     ]
    },
    {
     "name": "stderr",
     "output_type": "stream",
     "text": [
      " 64%|██████▍   | 265/413 [29:49<05:12,  2.11s/it]"
     ]
    },
    {
     "name": "stdout",
     "output_type": "stream",
     "text": [
      "https://reviews.webmd.com/drugs/drugreview-57099-foypromazine-tablet\n"
     ]
    },
    {
     "name": "stderr",
     "output_type": "stream",
     "text": [
      " 64%|██████▍   | 266/413 [29:51<05:04,  2.07s/it]"
     ]
    },
    {
     "name": "stdout",
     "output_type": "stream",
     "text": [
      "https://reviews.webmd.com/drugs/drugreview-57100-chloramead-tablet\n"
     ]
    },
    {
     "name": "stderr",
     "output_type": "stream",
     "text": [
      " 65%|██████▍   | 267/413 [29:53<04:55,  2.02s/it]"
     ]
    },
    {
     "name": "stdout",
     "output_type": "stream",
     "text": [
      "https://reviews.webmd.com/drugs/drugreview-57101-thoradol-tablet\n"
     ]
    },
    {
     "name": "stderr",
     "output_type": "stream",
     "text": [
      " 65%|██████▍   | 268/413 [29:55<05:05,  2.10s/it]"
     ]
    },
    {
     "name": "stdout",
     "output_type": "stream",
     "text": [
      "https://reviews.webmd.com/drugs/drugreview-57102-kenazine-tablet\n"
     ]
    },
    {
     "name": "stderr",
     "output_type": "stream",
     "text": [
      " 65%|██████▌   | 269/413 [29:57<05:05,  2.12s/it]"
     ]
    },
    {
     "name": "stdout",
     "output_type": "stream",
     "text": [
      "https://reviews.webmd.com/drugs/drugreview-57103-chlorpromazine-tablet\n"
     ]
    },
    {
     "name": "stderr",
     "output_type": "stream",
     "text": [
      " 66%|██████▌   | 271/413 [30:01<04:34,  1.94s/it]"
     ]
    },
    {
     "name": "stdout",
     "output_type": "stream",
     "text": [
      "skipping https://reviews.webmd.com/drugs/drugreview-57104-thorarex-solution: page not found\n"
     ]
    },
    {
     "name": "stderr",
     "output_type": "stream",
     "text": [
      " 66%|██████▌   | 272/413 [30:02<04:10,  1.77s/it]"
     ]
    },
    {
     "name": "stdout",
     "output_type": "stream",
     "text": [
      "skipping https://reviews.webmd.com/drugs/drugreview-57105-clorazine-solution: page not found\n"
     ]
    },
    {
     "name": "stderr",
     "output_type": "stream",
     "text": [
      " 66%|██████▌   | 273/413 [30:04<03:54,  1.67s/it]"
     ]
    },
    {
     "name": "stdout",
     "output_type": "stream",
     "text": [
      "skipping https://reviews.webmd.com/drugs/drugreview-57106-thoradol-solution: page not found\n"
     ]
    },
    {
     "name": "stderr",
     "output_type": "stream",
     "text": [
      " 66%|██████▋   | 274/413 [30:05<03:47,  1.64s/it]"
     ]
    },
    {
     "name": "stdout",
     "output_type": "stream",
     "text": [
      "skipping https://reviews.webmd.com/drugs/drugreview-57107-klorazine-solution: page not found\n"
     ]
    },
    {
     "name": "stderr",
     "output_type": "stream",
     "text": [
      " 67%|██████▋   | 275/413 [30:07<03:31,  1.53s/it]"
     ]
    },
    {
     "name": "stdout",
     "output_type": "stream",
     "text": [
      "skipping https://reviews.webmd.com/drugs/drugreview-57108-thoramed-solution: page not found\n"
     ]
    },
    {
     "name": "stderr",
     "output_type": "stream",
     "text": [
      " 67%|██████▋   | 276/413 [30:08<03:28,  1.52s/it]"
     ]
    },
    {
     "name": "stdout",
     "output_type": "stream",
     "text": [
      "skipping https://reviews.webmd.com/drugs/drugreview-57109-ormazine-solution: page not found\n",
      "https://reviews.webmd.com/drugs/drugreview-57116-stelaprin-tablet\n"
     ]
    },
    {
     "name": "stderr",
     "output_type": "stream",
     "text": [
      " 67%|██████▋   | 277/413 [30:10<03:34,  1.57s/it]"
     ]
    },
    {
     "name": "stdout",
     "output_type": "stream",
     "text": [
      "https://reviews.webmd.com/drugs/drugreview-57117-lithane-tablet\n"
     ]
    },
    {
     "name": "stderr",
     "output_type": "stream",
     "text": [
      "\n",
      "  0%|          | 0/1 [00:00<?, ?it/s]\u001b[A\n",
      "100%|██████████| 1/1 [00:00<00:00,  1.75it/s]\n",
      " 67%|██████▋   | 278/413 [30:13<04:11,  1.86s/it]"
     ]
    },
    {
     "name": "stdout",
     "output_type": "stream",
     "text": [
      "https://reviews.webmd.com/drugs/drugreview-57118-cibalith-s-solution\n"
     ]
    },
    {
     "name": "stderr",
     "output_type": "stream",
     "text": [
      "\n",
      "  0%|          | 0/1 [00:00<?, ?it/s]\u001b[A\n",
      "100%|██████████| 1/1 [00:00<00:00,  1.25it/s]\n",
      " 68%|██████▊   | 279/413 [30:15<04:51,  2.18s/it]"
     ]
    },
    {
     "name": "stdout",
     "output_type": "stream",
     "text": [
      "https://reviews.webmd.com/drugs/drugreview-57375-amitriptyline-chlordiazepoxide-tablet\n"
     ]
    },
    {
     "name": "stderr",
     "output_type": "stream",
     "text": [
      " 68%|██████▊   | 280/413 [30:17<04:40,  2.11s/it]"
     ]
    },
    {
     "name": "stdout",
     "output_type": "stream",
     "text": [
      "https://reviews.webmd.com/drugs/drugreview-57376-amitriptyline-w-perphenazine-tablet\n"
     ]
    },
    {
     "name": "stderr",
     "output_type": "stream",
     "text": [
      " 68%|██████▊   | 281/413 [30:19<04:27,  2.03s/it]"
     ]
    },
    {
     "name": "stdout",
     "output_type": "stream",
     "text": [
      "https://reviews.webmd.com/drugs/drugreview-57377-per-trip-tablet\n"
     ]
    },
    {
     "name": "stderr",
     "output_type": "stream",
     "text": [
      " 68%|██████▊   | 282/413 [30:21<04:23,  2.02s/it]"
     ]
    },
    {
     "name": "stdout",
     "output_type": "stream",
     "text": [
      "https://reviews.webmd.com/drugs/drugreview-57378-triavil-tablet\n"
     ]
    },
    {
     "name": "stderr",
     "output_type": "stream",
     "text": [
      "\n",
      "  0%|          | 0/1 [00:00<?, ?it/s]\u001b[A\n",
      "100%|██████████| 1/1 [00:00<00:00,  1.55it/s]\n",
      " 69%|██████▊   | 283/413 [30:24<04:41,  2.17s/it]"
     ]
    },
    {
     "name": "stdout",
     "output_type": "stream",
     "text": [
      "https://reviews.webmd.com/drugs/drugreview-57379-etrafon-a-tablet\n"
     ]
    },
    {
     "name": "stderr",
     "output_type": "stream",
     "text": [
      " 69%|██████▉   | 284/413 [30:26<04:28,  2.08s/it]"
     ]
    },
    {
     "name": "stdout",
     "output_type": "stream",
     "text": [
      "https://reviews.webmd.com/drugs/drugreview-57380-triavil-tablet\n"
     ]
    },
    {
     "name": "stderr",
     "output_type": "stream",
     "text": [
      "\n",
      "  0%|          | 0/1 [00:00<?, ?it/s]\u001b[A\n",
      "100%|██████████| 1/1 [00:00<00:00,  1.44it/s]\n",
      " 69%|██████▉   | 285/413 [30:28<04:52,  2.29s/it]"
     ]
    },
    {
     "name": "stdout",
     "output_type": "stream",
     "text": [
      "https://reviews.webmd.com/drugs/drugreview-58070-myproic-acid-solution\n"
     ]
    },
    {
     "name": "stderr",
     "output_type": "stream",
     "text": [
      " 69%|██████▉   | 286/413 [30:30<04:32,  2.15s/it]"
     ]
    },
    {
     "name": "stdout",
     "output_type": "stream",
     "text": [
      "https://reviews.webmd.com/drugs/drugreview-58071-depa-syrup-solution\n"
     ]
    },
    {
     "name": "stderr",
     "output_type": "stream",
     "text": [
      " 69%|██████▉   | 287/413 [30:32<04:15,  2.03s/it]"
     ]
    },
    {
     "name": "stdout",
     "output_type": "stream",
     "text": [
      "https://reviews.webmd.com/drugs/drugreview-58072-deproic-capsule\n"
     ]
    },
    {
     "name": "stderr",
     "output_type": "stream",
     "text": [
      " 70%|██████▉   | 288/413 [30:34<04:08,  1.99s/it]"
     ]
    },
    {
     "name": "stdout",
     "output_type": "stream",
     "text": [
      "https://reviews.webmd.com/drugs/drugreview-58073-dalpro-capsule\n"
     ]
    },
    {
     "name": "stderr",
     "output_type": "stream",
     "text": [
      " 70%|██████▉   | 289/413 [30:36<04:00,  1.94s/it]"
     ]
    },
    {
     "name": "stdout",
     "output_type": "stream",
     "text": [
      "https://reviews.webmd.com/drugs/drugreview-5887-lithium-carbonate\n"
     ]
    },
    {
     "name": "stderr",
     "output_type": "stream",
     "text": [
      "\n",
      "  0%|          | 0/23 [00:00<?, ?it/s]\u001b[A\n",
      "  4%|▍         | 1/23 [00:01<00:24,  1.10s/it]\u001b[A\n",
      "  9%|▊         | 2/23 [00:02<00:25,  1.24s/it]\u001b[A\n",
      " 13%|█▎        | 3/23 [00:03<00:23,  1.17s/it]\u001b[A\n",
      " 17%|█▋        | 4/23 [00:04<00:21,  1.16s/it]\u001b[A\n",
      " 22%|██▏       | 5/23 [00:05<00:20,  1.12s/it]\u001b[A\n",
      " 26%|██▌       | 6/23 [00:06<00:18,  1.08s/it]\u001b[A\n",
      " 30%|███       | 7/23 [00:07<00:17,  1.08s/it]\u001b[A\n",
      " 35%|███▍      | 8/23 [00:09<00:16,  1.12s/it]\u001b[A\n",
      " 39%|███▉      | 9/23 [00:10<00:15,  1.10s/it]\u001b[A\n",
      " 43%|████▎     | 10/23 [00:11<00:14,  1.09s/it]\u001b[A\n",
      " 48%|████▊     | 11/23 [00:12<00:13,  1.14s/it]\u001b[A\n",
      " 52%|█████▏    | 12/23 [00:13<00:12,  1.14s/it]\u001b[A\n",
      " 57%|█████▋    | 13/23 [00:14<00:11,  1.14s/it]\u001b[A\n",
      " 61%|██████    | 14/23 [00:15<00:10,  1.19s/it]\u001b[A\n",
      " 65%|██████▌   | 15/23 [00:17<00:09,  1.15s/it]\u001b[A\n",
      " 70%|██████▉   | 16/23 [00:18<00:07,  1.12s/it]\u001b[A\n",
      " 74%|███████▍  | 17/23 [00:19<00:06,  1.13s/it]\u001b[A\n",
      " 78%|███████▊  | 18/23 [00:20<00:05,  1.12s/it]\u001b[A\n",
      " 83%|████████▎ | 19/23 [00:21<00:04,  1.14s/it]\u001b[A\n",
      " 87%|████████▋ | 20/23 [00:22<00:03,  1.09s/it]\u001b[A\n",
      " 91%|█████████▏| 21/23 [00:23<00:02,  1.09s/it]\u001b[A\n",
      " 96%|█████████▌| 22/23 [00:24<00:01,  1.06s/it]\u001b[A\n",
      "100%|██████████| 23/23 [00:25<00:00,  1.11s/it]\n",
      " 70%|███████   | 290/413 [31:04<20:12,  9.86s/it]"
     ]
    },
    {
     "name": "stdout",
     "output_type": "stream",
     "text": [
      "https://reviews.webmd.com/drugs/drugreview-5887-lithium-carbonate-er\n"
     ]
    },
    {
     "name": "stderr",
     "output_type": "stream",
     "text": [
      "\n",
      "  0%|          | 0/23 [00:00<?, ?it/s]\u001b[A\n",
      "  4%|▍         | 1/23 [00:01<00:31,  1.44s/it]\u001b[A\n",
      "  9%|▊         | 2/23 [00:02<00:27,  1.29s/it]\u001b[A\n",
      " 13%|█▎        | 3/23 [00:03<00:22,  1.15s/it]\u001b[A\n",
      " 17%|█▋        | 4/23 [00:04<00:21,  1.16s/it]\u001b[A\n",
      " 22%|██▏       | 5/23 [00:06<00:21,  1.20s/it]\u001b[A\n",
      " 26%|██▌       | 6/23 [00:07<00:20,  1.21s/it]\u001b[A\n",
      " 30%|███       | 7/23 [00:08<00:19,  1.24s/it]\u001b[A\n",
      " 35%|███▍      | 8/23 [00:09<00:17,  1.17s/it]\u001b[A\n",
      " 39%|███▉      | 9/23 [00:10<00:15,  1.13s/it]\u001b[A\n",
      " 43%|████▎     | 10/23 [00:11<00:14,  1.09s/it]\u001b[A\n",
      " 48%|████▊     | 11/23 [00:12<00:13,  1.12s/it]\u001b[A\n",
      " 52%|█████▏    | 12/23 [00:14<00:13,  1.26s/it]\u001b[A\n",
      " 57%|█████▋    | 13/23 [00:15<00:11,  1.18s/it]\u001b[A\n",
      " 61%|██████    | 14/23 [00:16<00:10,  1.22s/it]\u001b[A\n",
      " 65%|██████▌   | 15/23 [00:17<00:09,  1.16s/it]\u001b[A\n",
      " 70%|██████▉   | 16/23 [00:18<00:07,  1.12s/it]\u001b[A\n",
      " 74%|███████▍  | 17/23 [00:20<00:07,  1.19s/it]\u001b[A\n",
      " 78%|███████▊  | 18/23 [00:21<00:06,  1.21s/it]\u001b[A\n",
      " 83%|████████▎ | 19/23 [00:22<00:04,  1.16s/it]\u001b[A\n",
      " 87%|████████▋ | 20/23 [00:23<00:03,  1.11s/it]\u001b[A\n",
      " 91%|█████████▏| 21/23 [00:24<00:02,  1.09s/it]\u001b[A\n",
      " 96%|█████████▌| 22/23 [00:25<00:01,  1.06s/it]\u001b[A\n",
      "100%|██████████| 23/23 [00:26<00:00,  1.16s/it]\n",
      " 70%|███████   | 291/413 [31:32<31:06, 15.30s/it]"
     ]
    },
    {
     "name": "stdout",
     "output_type": "stream",
     "text": [
      "https://reviews.webmd.com/drugs/drugreview-6000-divalproex-sodium\n"
     ]
    },
    {
     "name": "stderr",
     "output_type": "stream",
     "text": [
      "\n",
      "  0%|          | 0/7 [00:00<?, ?it/s]\u001b[A\n",
      " 14%|█▍        | 1/7 [00:01<00:07,  1.23s/it]\u001b[A\n",
      " 29%|██▊       | 2/7 [00:02<00:06,  1.21s/it]\u001b[A\n",
      " 43%|████▎     | 3/7 [00:03<00:04,  1.16s/it]\u001b[A\n",
      " 57%|█████▋    | 4/7 [00:04<00:03,  1.12s/it]\u001b[A\n",
      " 71%|███████▏  | 5/7 [00:05<00:02,  1.20s/it]\u001b[A\n",
      " 86%|████████▌ | 6/7 [00:06<00:01,  1.15s/it]\u001b[A\n",
      "100%|██████████| 7/7 [00:08<00:00,  1.17s/it]\n",
      " 71%|███████   | 292/413 [31:42<27:55, 13.85s/it]"
     ]
    },
    {
     "name": "stdout",
     "output_type": "stream",
     "text": [
      "https://reviews.webmd.com/drugs/drugreview-6000-divalproex-sodium-capsule-delayed-release-sprinkle\n"
     ]
    },
    {
     "name": "stderr",
     "output_type": "stream",
     "text": [
      "\n",
      "  0%|          | 0/7 [00:00<?, ?it/s]\u001b[A\n",
      " 14%|█▍        | 1/7 [00:00<00:05,  1.01it/s]\u001b[A\n",
      " 29%|██▊       | 2/7 [00:02<00:05,  1.03s/it]\u001b[A\n",
      " 43%|████▎     | 3/7 [00:03<00:04,  1.18s/it]\u001b[A\n",
      " 57%|█████▋    | 4/7 [00:04<00:03,  1.09s/it]\u001b[A\n",
      " 71%|███████▏  | 5/7 [00:05<00:02,  1.11s/it]\u001b[A\n",
      " 86%|████████▌ | 6/7 [00:06<00:01,  1.13s/it]\u001b[A\n",
      "100%|██████████| 7/7 [00:07<00:00,  1.11s/it]\n",
      " 71%|███████   | 293/413 [31:51<24:41, 12.34s/it]"
     ]
    },
    {
     "name": "stdout",
     "output_type": "stream",
     "text": [
      "https://reviews.webmd.com/drugs/drugreview-6000-divalproex-sodium-er\n"
     ]
    },
    {
     "name": "stderr",
     "output_type": "stream",
     "text": [
      "\n",
      "  0%|          | 0/7 [00:00<?, ?it/s]\u001b[A\n",
      " 14%|█▍        | 1/7 [00:01<00:06,  1.02s/it]\u001b[A\n",
      " 29%|██▊       | 2/7 [00:02<00:05,  1.01s/it]\u001b[A\n",
      " 43%|████▎     | 3/7 [00:03<00:04,  1.03s/it]\u001b[A\n",
      " 57%|█████▋    | 4/7 [00:04<00:03,  1.07s/it]\u001b[A\n",
      " 71%|███████▏  | 5/7 [00:05<00:02,  1.09s/it]\u001b[A\n",
      " 86%|████████▌ | 6/7 [00:06<00:01,  1.12s/it]\u001b[A\n",
      "100%|██████████| 7/7 [00:07<00:00,  1.07s/it]\n",
      " 71%|███████   | 294/413 [32:00<22:27, 11.33s/it]"
     ]
    },
    {
     "name": "stdout",
     "output_type": "stream",
     "text": [
      "https://reviews.webmd.com/drugs/drugreview-6092-haloperidol-decanoate-ampul\n"
     ]
    },
    {
     "name": "stderr",
     "output_type": "stream",
     "text": [
      "\n",
      "  0%|          | 0/1 [00:00<?, ?it/s]\u001b[A\n",
      "100%|██████████| 1/1 [00:00<00:00,  1.18it/s]\n",
      " 72%|███████▏  | 296/413 [32:04<12:45,  6.54s/it]"
     ]
    },
    {
     "name": "stdout",
     "output_type": "stream",
     "text": [
      "skipping https://reviews.webmd.com/drugs/drugreview-6124-diazepam-in-soybean-oil-emulsion: page not found\n",
      "https://reviews.webmd.com/drugs/drugreview-6144-vistaril\n"
     ]
    },
    {
     "name": "stderr",
     "output_type": "stream",
     "text": [
      "\n",
      "  0%|          | 0/19 [00:00<?, ?it/s]\u001b[A\n",
      "  5%|▌         | 1/19 [00:01<00:21,  1.19s/it]\u001b[A\n",
      " 11%|█         | 2/19 [00:02<00:18,  1.10s/it]\u001b[A\n",
      " 16%|█▌        | 3/19 [00:03<00:18,  1.18s/it]\u001b[A\n",
      " 21%|██        | 4/19 [00:04<00:16,  1.13s/it]\u001b[A\n",
      " 26%|██▋       | 5/19 [00:05<00:15,  1.09s/it]\u001b[A\n",
      " 32%|███▏      | 6/19 [00:06<00:13,  1.07s/it]\u001b[A\n",
      " 37%|███▋      | 7/19 [00:07<00:12,  1.07s/it]\u001b[A\n",
      " 42%|████▏     | 8/19 [00:08<00:11,  1.08s/it]\u001b[A\n",
      " 47%|████▋     | 9/19 [00:10<00:13,  1.30s/it]\u001b[A\n",
      " 53%|█████▎    | 10/19 [00:11<00:11,  1.24s/it]\u001b[A\n",
      " 58%|█████▊    | 11/19 [00:12<00:09,  1.18s/it]\u001b[A\n",
      " 63%|██████▎   | 12/19 [00:13<00:08,  1.15s/it]\u001b[A\n",
      " 68%|██████▊   | 13/19 [00:14<00:06,  1.11s/it]\u001b[A\n",
      " 74%|███████▎  | 14/19 [00:16<00:05,  1.14s/it]\u001b[A\n",
      " 79%|███████▉  | 15/19 [00:17<00:04,  1.11s/it]\u001b[A\n",
      " 84%|████████▍ | 16/19 [00:18<00:03,  1.09s/it]\u001b[A\n",
      " 89%|████████▉ | 17/19 [00:19<00:02,  1.07s/it]\u001b[A\n",
      " 95%|█████████▍| 18/19 [00:20<00:01,  1.07s/it]\u001b[A\n",
      "100%|██████████| 19/19 [00:21<00:00,  1.12s/it]\n",
      " 72%|███████▏  | 297/413 [32:28<22:34, 11.68s/it]"
     ]
    },
    {
     "name": "stdout",
     "output_type": "stream",
     "text": [
      "https://reviews.webmd.com/drugs/drugreview-6171-asendin-tablet\n"
     ]
    },
    {
     "name": "stderr",
     "output_type": "stream",
     "text": [
      "\n",
      "  0%|          | 0/1 [00:00<?, ?it/s]\u001b[A\n",
      "100%|██████████| 1/1 [00:00<00:00,  1.61it/s]\n",
      " 72%|███████▏  | 298/413 [32:31<17:18,  9.03s/it]"
     ]
    },
    {
     "name": "stdout",
     "output_type": "stream",
     "text": [
      "https://reviews.webmd.com/drugs/drugreview-6172-aventyl-capsule\n"
     ]
    },
    {
     "name": "stderr",
     "output_type": "stream",
     "text": [
      "\n",
      "  0%|          | 0/1 [00:00<?, ?it/s]\u001b[A\n",
      "100%|██████████| 1/1 [00:01<00:00,  1.03s/it]\n",
      " 72%|███████▏  | 299/413 [32:34<13:51,  7.29s/it]"
     ]
    },
    {
     "name": "stdout",
     "output_type": "stream",
     "text": [
      "https://reviews.webmd.com/drugs/drugreview-6222-prolixin-concentrate\n"
     ]
    },
    {
     "name": "stderr",
     "output_type": "stream",
     "text": [
      "\n",
      "  0%|          | 0/1 [00:00<?, ?it/s]\u001b[A\n",
      "100%|██████████| 1/1 [00:00<00:00,  1.09it/s]\n",
      " 73%|███████▎  | 300/413 [32:37<11:29,  6.10s/it]"
     ]
    },
    {
     "name": "stdout",
     "output_type": "stream",
     "text": [
      "https://reviews.webmd.com/drugs/drugreview-6222-prolixin-elixir\n"
     ]
    },
    {
     "name": "stderr",
     "output_type": "stream",
     "text": [
      "\n",
      "  0%|          | 0/1 [00:00<?, ?it/s]\u001b[A\n",
      "100%|██████████| 1/1 [00:00<00:00,  1.01it/s]\n",
      " 73%|███████▎  | 301/413 [32:40<09:11,  4.92s/it]"
     ]
    },
    {
     "name": "stdout",
     "output_type": "stream",
     "text": [
      "https://reviews.webmd.com/drugs/drugreview-6222-prolixin-tablet\n"
     ]
    },
    {
     "name": "stderr",
     "output_type": "stream",
     "text": [
      "\n",
      "  0%|          | 0/1 [00:00<?, ?it/s]\u001b[A\n",
      "100%|██████████| 1/1 [00:01<00:00,  1.00s/it]\n",
      " 73%|███████▎  | 302/413 [32:42<07:43,  4.18s/it]"
     ]
    },
    {
     "name": "stdout",
     "output_type": "stream",
     "text": [
      "https://reviews.webmd.com/drugs/drugreview-6234-thiothixene\n"
     ]
    },
    {
     "name": "stderr",
     "output_type": "stream",
     "text": [
      "\n",
      "  0%|          | 0/1 [00:00<?, ?it/s]\u001b[A\n",
      "100%|██████████| 1/1 [00:00<00:00,  1.04it/s]\n",
      " 73%|███████▎  | 303/413 [32:45<07:00,  3.82s/it]"
     ]
    },
    {
     "name": "stdout",
     "output_type": "stream",
     "text": [
      "https://reviews.webmd.com/drugs/drugreview-6283-risperidone\n"
     ]
    },
    {
     "name": "stderr",
     "output_type": "stream",
     "text": [
      "\n",
      "  0%|          | 0/11 [00:00<?, ?it/s]\u001b[A\n",
      "  9%|▉         | 1/11 [00:01<00:13,  1.36s/it]\u001b[A\n",
      " 18%|█▊        | 2/11 [00:02<00:11,  1.25s/it]\u001b[A\n",
      " 27%|██▋       | 3/11 [00:03<00:09,  1.13s/it]\u001b[A\n",
      " 36%|███▋      | 4/11 [00:04<00:07,  1.13s/it]\u001b[A\n",
      " 45%|████▌     | 5/11 [00:05<00:06,  1.09s/it]\u001b[A\n",
      " 55%|█████▍    | 6/11 [00:06<00:05,  1.06s/it]\u001b[A\n",
      " 64%|██████▎   | 7/11 [00:07<00:04,  1.05s/it]\u001b[A\n",
      " 73%|███████▎  | 8/11 [00:09<00:03,  1.14s/it]\u001b[A\n",
      " 82%|████████▏ | 9/11 [00:10<00:02,  1.09s/it]\u001b[A\n",
      " 91%|█████████ | 10/11 [00:11<00:01,  1.09s/it]\u001b[A\n",
      "100%|██████████| 11/11 [00:12<00:00,  1.11s/it]\n",
      " 74%|███████▎  | 304/413 [32:59<12:41,  6.99s/it]"
     ]
    },
    {
     "name": "stdout",
     "output_type": "stream",
     "text": [
      "https://reviews.webmd.com/drugs/drugreview-6283-risperidone-odt\n"
     ]
    },
    {
     "name": "stderr",
     "output_type": "stream",
     "text": [
      "\n",
      "  0%|          | 0/11 [00:00<?, ?it/s]\u001b[A\n",
      "  9%|▉         | 1/11 [00:00<00:09,  1.00it/s]\u001b[A\n",
      " 18%|█▊        | 2/11 [00:02<00:10,  1.14s/it]\u001b[A\n",
      " 27%|██▋       | 3/11 [00:03<00:08,  1.09s/it]\u001b[A\n",
      " 36%|███▋      | 4/11 [00:04<00:07,  1.09s/it]\u001b[A\n",
      " 45%|████▌     | 5/11 [00:05<00:06,  1.11s/it]\u001b[A\n",
      " 55%|█████▍    | 6/11 [00:07<00:06,  1.26s/it]\u001b[A\n",
      " 64%|██████▎   | 7/11 [00:08<00:05,  1.36s/it]\u001b[A\n",
      " 73%|███████▎  | 8/11 [00:09<00:03,  1.29s/it]\u001b[A\n",
      " 82%|████████▏ | 9/11 [00:10<00:02,  1.19s/it]\u001b[A\n",
      " 91%|█████████ | 10/11 [00:11<00:01,  1.16s/it]\u001b[A\n",
      "100%|██████████| 11/11 [00:12<00:00,  1.18s/it]\n",
      " 74%|███████▍  | 305/413 [33:14<16:26,  9.13s/it]"
     ]
    },
    {
     "name": "stdout",
     "output_type": "stream",
     "text": [
      "https://reviews.webmd.com/drugs/drugreview-6306-diazepam\n"
     ]
    },
    {
     "name": "stderr",
     "output_type": "stream",
     "text": [
      "\n",
      "  0%|          | 0/14 [00:00<?, ?it/s]\u001b[A\n",
      "  7%|▋         | 1/14 [00:01<00:17,  1.36s/it]\u001b[A\n",
      " 14%|█▍        | 2/14 [00:02<00:13,  1.15s/it]\u001b[A\n",
      " 21%|██▏       | 3/14 [00:03<00:12,  1.10s/it]\u001b[A\n",
      " 29%|██▊       | 4/14 [00:04<00:10,  1.09s/it]\u001b[A\n",
      " 36%|███▌      | 5/14 [00:05<00:09,  1.08s/it]\u001b[A\n",
      " 43%|████▎     | 6/14 [00:06<00:09,  1.17s/it]\u001b[A\n",
      " 50%|█████     | 7/14 [00:07<00:07,  1.13s/it]\u001b[A\n",
      " 57%|█████▋    | 8/14 [00:09<00:06,  1.13s/it]\u001b[A\n",
      " 64%|██████▍   | 9/14 [00:10<00:05,  1.12s/it]\u001b[A\n",
      " 71%|███████▏  | 10/14 [00:11<00:04,  1.21s/it]\u001b[A\n",
      " 79%|███████▊  | 11/14 [00:12<00:03,  1.17s/it]\u001b[A\n",
      " 86%|████████▌ | 12/14 [00:14<00:02,  1.26s/it]\u001b[A\n",
      " 93%|█████████▎| 13/14 [00:15<00:01,  1.20s/it]\u001b[A\n",
      "100%|██████████| 14/14 [00:16<00:00,  1.16s/it]\n",
      " 74%|███████▍  | 306/413 [33:32<21:29, 12.05s/it]"
     ]
    },
    {
     "name": "stdout",
     "output_type": "stream",
     "text": [
      "https://reviews.webmd.com/drugs/drugreview-6316-limbitrol-tablet\n"
     ]
    },
    {
     "name": "stderr",
     "output_type": "stream",
     "text": [
      "\n",
      "  0%|          | 0/1 [00:00<?, ?it/s]\u001b[A\n",
      "100%|██████████| 1/1 [00:01<00:00,  1.15s/it]\n",
      " 74%|███████▍  | 307/413 [33:36<16:53,  9.56s/it]"
     ]
    },
    {
     "name": "stdout",
     "output_type": "stream",
     "text": [
      "https://reviews.webmd.com/drugs/drugreview-63989-escitalopram-oxalate\n"
     ]
    },
    {
     "name": "stderr",
     "output_type": "stream",
     "text": [
      "\n",
      "  0%|          | 0/13 [00:00<?, ?it/s]\u001b[A\n",
      "  8%|▊         | 1/13 [00:01<00:15,  1.32s/it]\u001b[A\n",
      " 15%|█▌        | 2/13 [00:02<00:13,  1.23s/it]\u001b[A\n",
      " 23%|██▎       | 3/13 [00:03<00:11,  1.15s/it]\u001b[A\n",
      " 31%|███       | 4/13 [00:04<00:10,  1.13s/it]\u001b[A\n",
      " 38%|███▊      | 5/13 [00:05<00:08,  1.09s/it]\u001b[A\n",
      " 46%|████▌     | 6/13 [00:06<00:08,  1.15s/it]\u001b[A\n",
      " 54%|█████▍    | 7/13 [00:08<00:06,  1.13s/it]\u001b[A\n",
      " 62%|██████▏   | 8/13 [00:09<00:05,  1.10s/it]\u001b[A\n",
      " 69%|██████▉   | 9/13 [00:10<00:04,  1.06s/it]\u001b[A\n",
      " 77%|███████▋  | 10/13 [00:11<00:03,  1.07s/it]\u001b[A\n",
      " 85%|████████▍ | 11/13 [00:12<00:02,  1.05s/it]\u001b[A\n",
      " 92%|█████████▏| 12/13 [00:13<00:01,  1.11s/it]\u001b[A\n",
      "100%|██████████| 13/13 [00:14<00:00,  1.11s/it]\n",
      " 75%|███████▍  | 308/413 [33:54<20:51, 11.92s/it]"
     ]
    },
    {
     "name": "stdout",
     "output_type": "stream",
     "text": [
      "https://reviews.webmd.com/drugs/drugreview-63990-lexapro\n"
     ]
    },
    {
     "name": "stderr",
     "output_type": "stream",
     "text": [
      "\n",
      "  0%|          | 0/215 [00:00<?, ?it/s]\u001b[A\n",
      "  0%|          | 1/215 [00:01<03:52,  1.09s/it]\u001b[A\n",
      "  1%|          | 2/215 [00:02<03:50,  1.08s/it]\u001b[A\n",
      "  1%|▏         | 3/215 [00:03<03:43,  1.06s/it]\u001b[A\n",
      "  2%|▏         | 4/215 [00:04<03:54,  1.11s/it]\u001b[A\n",
      "  2%|▏         | 5/215 [00:05<03:45,  1.07s/it]\u001b[A\n",
      "  3%|▎         | 6/215 [00:06<03:39,  1.05s/it]\u001b[A\n",
      "  3%|▎         | 7/215 [00:07<03:39,  1.06s/it]\u001b[A\n",
      "  4%|▎         | 8/215 [00:08<03:36,  1.05s/it]\u001b[A\n",
      "  4%|▍         | 9/215 [00:09<03:48,  1.11s/it]\u001b[A\n",
      "  5%|▍         | 10/215 [00:10<03:50,  1.12s/it]\u001b[A\n",
      "  5%|▌         | 11/215 [00:11<03:43,  1.10s/it]\u001b[A\n",
      "  6%|▌         | 12/215 [00:13<03:42,  1.09s/it]\u001b[A\n",
      "  6%|▌         | 13/215 [00:14<03:41,  1.10s/it]\u001b[A\n",
      "  7%|▋         | 14/215 [00:15<03:39,  1.09s/it]\u001b[A\n",
      "  7%|▋         | 15/215 [00:16<03:46,  1.13s/it]\u001b[A\n",
      "  7%|▋         | 16/215 [00:17<03:47,  1.15s/it]\u001b[A\n",
      "  8%|▊         | 17/215 [00:18<03:36,  1.10s/it]\u001b[A\n",
      "  8%|▊         | 18/215 [00:19<03:34,  1.09s/it]\u001b[A\n",
      "  9%|▉         | 19/215 [00:20<03:38,  1.12s/it]\u001b[A\n",
      "  9%|▉         | 20/215 [00:22<03:53,  1.20s/it]\u001b[A\n",
      " 10%|▉         | 21/215 [00:23<03:43,  1.15s/it]\u001b[A\n",
      " 10%|█         | 22/215 [00:24<03:36,  1.12s/it]\u001b[A\n",
      " 11%|█         | 23/215 [00:25<03:29,  1.09s/it]\u001b[A\n",
      " 11%|█         | 24/215 [00:26<03:30,  1.10s/it]\u001b[A\n",
      " 12%|█▏        | 25/215 [00:27<03:23,  1.07s/it]\u001b[A\n",
      " 12%|█▏        | 26/215 [00:29<04:08,  1.32s/it]\u001b[A\n",
      " 13%|█▎        | 27/215 [00:30<03:56,  1.26s/it]\u001b[A\n",
      " 13%|█▎        | 28/215 [00:31<03:44,  1.20s/it]\u001b[A\n",
      " 13%|█▎        | 29/215 [00:32<03:40,  1.18s/it]\u001b[A\n",
      " 14%|█▍        | 30/215 [00:33<03:32,  1.15s/it]\u001b[A\n",
      " 14%|█▍        | 31/215 [00:35<03:41,  1.20s/it]\u001b[A\n",
      " 15%|█▍        | 32/215 [00:36<03:31,  1.16s/it]\u001b[A\n",
      " 15%|█▌        | 33/215 [00:37<03:24,  1.13s/it]\u001b[A\n",
      " 16%|█▌        | 34/215 [00:38<03:21,  1.12s/it]\u001b[A\n",
      " 16%|█▋        | 35/215 [00:39<03:21,  1.12s/it]\u001b[A\n",
      " 17%|█▋        | 36/215 [00:40<03:14,  1.08s/it]\u001b[A\n",
      " 17%|█▋        | 37/215 [00:41<03:30,  1.18s/it]\u001b[A\n",
      " 18%|█▊        | 38/215 [00:43<03:28,  1.18s/it]\u001b[A\n",
      " 18%|█▊        | 39/215 [00:44<03:23,  1.16s/it]\u001b[A\n",
      " 19%|█▊        | 40/215 [00:45<03:13,  1.11s/it]\u001b[A\n",
      " 19%|█▉        | 41/215 [00:46<03:12,  1.11s/it]\u001b[A\n",
      " 20%|█▉        | 42/215 [00:47<03:11,  1.10s/it]\u001b[A\n",
      " 20%|██        | 43/215 [00:48<03:23,  1.19s/it]\u001b[A\n",
      " 20%|██        | 44/215 [00:49<03:17,  1.16s/it]\u001b[A\n",
      " 21%|██        | 45/215 [00:50<03:13,  1.14s/it]\u001b[A\n",
      " 21%|██▏       | 46/215 [00:51<03:07,  1.11s/it]\u001b[A\n",
      " 22%|██▏       | 47/215 [00:53<03:06,  1.11s/it]\u001b[A\n",
      " 22%|██▏       | 48/215 [00:54<03:14,  1.16s/it]\u001b[A\n",
      " 23%|██▎       | 49/215 [00:55<03:03,  1.11s/it]\u001b[A\n",
      " 23%|██▎       | 50/215 [00:56<03:05,  1.12s/it]\u001b[A\n",
      " 24%|██▎       | 51/215 [00:57<02:56,  1.08s/it]\u001b[A\n",
      " 24%|██▍       | 52/215 [00:58<02:54,  1.07s/it]\u001b[A\n",
      " 25%|██▍       | 53/215 [00:59<02:50,  1.05s/it]\u001b[A\n",
      " 25%|██▌       | 54/215 [01:00<02:57,  1.10s/it]\u001b[A\n",
      " 26%|██▌       | 55/215 [01:01<02:56,  1.10s/it]\u001b[A\n",
      " 26%|██▌       | 56/215 [01:02<02:53,  1.09s/it]\u001b[A\n",
      " 27%|██▋       | 57/215 [01:04<02:58,  1.13s/it]\u001b[A\n",
      " 27%|██▋       | 58/215 [01:05<02:51,  1.09s/it]\u001b[A\n",
      " 27%|██▋       | 59/215 [01:06<02:59,  1.15s/it]\u001b[A\n",
      " 28%|██▊       | 60/215 [01:07<02:55,  1.13s/it]\u001b[A\n",
      " 28%|██▊       | 61/215 [01:08<02:47,  1.09s/it]\u001b[A\n",
      " 29%|██▉       | 62/215 [01:09<02:46,  1.09s/it]\u001b[A\n",
      " 29%|██▉       | 63/215 [01:10<02:47,  1.10s/it]\u001b[A\n",
      " 30%|██▉       | 64/215 [01:11<02:43,  1.08s/it]\u001b[A\n",
      " 30%|███       | 65/215 [01:13<03:02,  1.22s/it]\u001b[A\n",
      " 31%|███       | 66/215 [01:14<02:57,  1.19s/it]\u001b[A\n",
      " 31%|███       | 67/215 [01:15<02:49,  1.14s/it]\u001b[A\n",
      " 32%|███▏      | 68/215 [01:16<02:45,  1.13s/it]\u001b[A\n",
      " 32%|███▏      | 69/215 [01:17<02:41,  1.11s/it]\u001b[A\n",
      " 33%|███▎      | 70/215 [01:18<02:50,  1.17s/it]\u001b[A\n",
      " 33%|███▎      | 71/215 [01:20<02:47,  1.16s/it]\u001b[A\n",
      " 33%|███▎      | 72/215 [01:21<02:42,  1.14s/it]\u001b[A\n",
      " 34%|███▍      | 73/215 [01:22<02:38,  1.12s/it]\u001b[A\n",
      " 34%|███▍      | 74/215 [01:23<02:38,  1.13s/it]\u001b[A\n",
      " 35%|███▍      | 75/215 [01:24<02:36,  1.12s/it]\u001b[A\n",
      " 35%|███▌      | 76/215 [01:25<02:41,  1.16s/it]\u001b[A\n",
      " 36%|███▌      | 77/215 [01:26<02:37,  1.14s/it]\u001b[A\n",
      " 36%|███▋      | 78/215 [01:27<02:33,  1.12s/it]\u001b[A\n",
      " 37%|███▋      | 79/215 [01:28<02:32,  1.12s/it]\u001b[A\n",
      " 37%|███▋      | 80/215 [01:30<02:32,  1.13s/it]\u001b[A\n",
      " 38%|███▊      | 81/215 [01:31<02:43,  1.22s/it]\u001b[A\n",
      " 38%|███▊      | 82/215 [01:32<02:39,  1.20s/it]\u001b[A\n",
      " 39%|███▊      | 83/215 [01:33<02:34,  1.17s/it]\u001b[A\n",
      " 39%|███▉      | 84/215 [01:34<02:28,  1.13s/it]\u001b[A\n",
      " 40%|███▉      | 85/215 [01:35<02:25,  1.12s/it]\u001b[A\n",
      " 40%|████      | 86/215 [01:36<02:21,  1.10s/it]\u001b[A\n",
      " 40%|████      | 87/215 [01:38<02:31,  1.18s/it]\u001b[A\n",
      " 41%|████      | 88/215 [01:39<02:24,  1.14s/it]\u001b[A\n",
      " 41%|████▏     | 89/215 [01:40<02:19,  1.11s/it]\u001b[A\n",
      " 42%|████▏     | 90/215 [01:41<02:15,  1.09s/it]\u001b[A\n",
      " 42%|████▏     | 91/215 [01:42<02:14,  1.08s/it]\u001b[A\n",
      " 43%|████▎     | 92/215 [01:43<02:13,  1.08s/it]\u001b[A\n",
      " 43%|████▎     | 93/215 [01:44<02:18,  1.14s/it]\u001b[A\n",
      " 44%|████▎     | 94/215 [01:46<02:17,  1.14s/it]\u001b[A\n",
      " 44%|████▍     | 95/215 [01:46<02:09,  1.08s/it]\u001b[A\n",
      " 45%|████▍     | 96/215 [01:47<02:05,  1.06s/it]\u001b[A\n",
      " 45%|████▌     | 97/215 [01:49<02:03,  1.05s/it]\u001b[A\n",
      " 46%|████▌     | 98/215 [01:50<02:13,  1.14s/it]\u001b[A\n",
      " 46%|████▌     | 99/215 [01:51<02:10,  1.13s/it]\u001b[A\n",
      " 47%|████▋     | 100/215 [01:52<02:08,  1.12s/it]\u001b[A\n",
      " 47%|████▋     | 101/215 [01:53<02:09,  1.13s/it]\u001b[A\n",
      " 47%|████▋     | 102/215 [01:54<02:12,  1.17s/it]\u001b[A\n",
      " 48%|████▊     | 103/215 [01:55<02:06,  1.13s/it]\u001b[A\n",
      " 48%|████▊     | 104/215 [01:57<02:13,  1.21s/it]\u001b[A\n",
      " 49%|████▉     | 105/215 [01:58<02:08,  1.16s/it]\u001b[A\n",
      " 49%|████▉     | 106/215 [01:59<02:04,  1.14s/it]\u001b[A\n",
      " 50%|████▉     | 107/215 [02:01<02:43,  1.51s/it]\u001b[A\n",
      " 50%|█████     | 108/215 [02:02<02:25,  1.36s/it]\u001b[A\n",
      " 51%|█████     | 109/215 [02:04<02:20,  1.33s/it]\u001b[A\n",
      " 51%|█████     | 110/215 [02:05<02:12,  1.27s/it]\u001b[A\n",
      " 52%|█████▏    | 111/215 [02:06<02:08,  1.24s/it]\u001b[A\n",
      " 52%|█████▏    | 112/215 [02:07<02:03,  1.20s/it]\u001b[A\n",
      " 53%|█████▎    | 113/215 [02:08<01:56,  1.15s/it]\u001b[A\n",
      " 53%|█████▎    | 114/215 [02:09<01:54,  1.13s/it]\u001b[A\n",
      " 53%|█████▎    | 115/215 [02:10<01:57,  1.18s/it]\u001b[A\n",
      " 54%|█████▍    | 116/215 [02:11<01:49,  1.11s/it]\u001b[A\n",
      " 54%|█████▍    | 117/215 [02:13<01:53,  1.16s/it]\u001b[A\n",
      " 55%|█████▍    | 118/215 [02:14<01:51,  1.15s/it]\u001b[A\n",
      " 55%|█████▌    | 119/215 [02:15<01:46,  1.11s/it]\u001b[A\n",
      " 56%|█████▌    | 120/215 [02:16<01:47,  1.13s/it]\u001b[A\n",
      " 56%|█████▋    | 121/215 [02:17<01:45,  1.13s/it]\u001b[A\n",
      " 57%|█████▋    | 122/215 [02:18<01:45,  1.13s/it]\u001b[A\n",
      " 57%|█████▋    | 123/215 [02:19<01:43,  1.13s/it]\u001b[A\n",
      " 58%|█████▊    | 124/215 [02:20<01:40,  1.11s/it]\u001b[A\n",
      " 58%|█████▊    | 125/215 [02:22<01:38,  1.09s/it]\u001b[A\n",
      " 59%|█████▊    | 126/215 [02:23<01:47,  1.21s/it]\u001b[A\n",
      " 59%|█████▉    | 127/215 [02:24<01:45,  1.20s/it]\u001b[A\n",
      " 60%|█████▉    | 128/215 [02:25<01:41,  1.17s/it]\u001b[A\n",
      " 60%|██████    | 129/215 [02:26<01:36,  1.12s/it]\u001b[A\n",
      " 60%|██████    | 130/215 [02:27<01:35,  1.13s/it]\u001b[A\n",
      " 61%|██████    | 131/215 [02:28<01:31,  1.09s/it]\u001b[A\n",
      " 61%|██████▏   | 132/215 [02:30<01:36,  1.16s/it]\u001b[A\n",
      " 62%|██████▏   | 133/215 [02:31<01:33,  1.14s/it]\u001b[A\n",
      " 62%|██████▏   | 134/215 [02:32<01:32,  1.14s/it]\u001b[A\n",
      " 63%|██████▎   | 135/215 [02:33<01:30,  1.13s/it]\u001b[A\n",
      " 63%|██████▎   | 136/215 [02:34<01:30,  1.14s/it]\u001b[A\n",
      " 64%|██████▎   | 137/215 [02:36<01:31,  1.18s/it]\u001b[A\n",
      " 64%|██████▍   | 138/215 [02:37<01:26,  1.13s/it]\u001b[A\n",
      " 65%|██████▍   | 139/215 [02:38<01:24,  1.12s/it]\u001b[A\n",
      " 65%|██████▌   | 140/215 [02:39<01:21,  1.08s/it]\u001b[A\n",
      " 66%|██████▌   | 141/215 [02:40<01:27,  1.18s/it]\u001b[A\n",
      " 66%|██████▌   | 142/215 [02:41<01:25,  1.17s/it]\u001b[A\n",
      " 67%|██████▋   | 143/215 [02:42<01:25,  1.18s/it]\u001b[A\n",
      " 67%|██████▋   | 144/215 [02:44<01:22,  1.16s/it]\u001b[A\n",
      " 67%|██████▋   | 145/215 [02:45<01:21,  1.17s/it]\u001b[A\n",
      " 68%|██████▊   | 146/215 [02:46<01:19,  1.15s/it]\u001b[A\n",
      " 68%|██████▊   | 147/215 [02:47<01:17,  1.14s/it]\u001b[A\n",
      " 69%|██████▉   | 148/215 [02:48<01:17,  1.16s/it]\u001b[A\n",
      " 69%|██████▉   | 149/215 [02:49<01:15,  1.15s/it]\u001b[A\n",
      " 70%|██████▉   | 150/215 [02:50<01:15,  1.16s/it]\u001b[A\n",
      " 70%|███████   | 151/215 [02:52<01:13,  1.14s/it]\u001b[A\n",
      " 71%|███████   | 152/215 [02:53<01:11,  1.13s/it]\u001b[A\n",
      " 71%|███████   | 153/215 [02:54<01:10,  1.14s/it]\u001b[A\n",
      " 72%|███████▏  | 154/215 [02:55<01:15,  1.23s/it]\u001b[A\n",
      " 72%|███████▏  | 155/215 [02:56<01:10,  1.17s/it]\u001b[A\n",
      " 73%|███████▎  | 156/215 [02:57<01:08,  1.17s/it]\u001b[A\n",
      " 73%|███████▎  | 157/215 [02:59<01:09,  1.19s/it]\u001b[A\n",
      " 73%|███████▎  | 158/215 [03:00<01:06,  1.17s/it]\u001b[A\n",
      " 74%|███████▍  | 159/215 [03:01<01:07,  1.20s/it]\u001b[A\n",
      " 74%|███████▍  | 160/215 [03:02<01:04,  1.18s/it]\u001b[A\n",
      " 75%|███████▍  | 161/215 [03:03<01:00,  1.13s/it]\u001b[A\n",
      " 75%|███████▌  | 162/215 [03:04<00:59,  1.13s/it]\u001b[A\n",
      " 76%|███████▌  | 163/215 [03:05<00:56,  1.08s/it]\u001b[A\n",
      " 76%|███████▋  | 164/215 [03:06<00:56,  1.10s/it]\u001b[A\n",
      " 77%|███████▋  | 165/215 [03:08<00:59,  1.19s/it]\u001b[A\n",
      " 77%|███████▋  | 166/215 [03:09<00:56,  1.15s/it]\u001b[A\n",
      " 78%|███████▊  | 167/215 [03:10<00:55,  1.16s/it]\u001b[A\n",
      " 78%|███████▊  | 168/215 [03:11<00:52,  1.13s/it]\u001b[A\n",
      " 79%|███████▊  | 169/215 [03:12<00:51,  1.12s/it]\u001b[A\n",
      " 79%|███████▉  | 170/215 [03:13<00:49,  1.10s/it]\u001b[A\n",
      " 80%|███████▉  | 171/215 [03:15<00:52,  1.20s/it]\u001b[A\n",
      " 80%|████████  | 172/215 [03:16<00:50,  1.17s/it]\u001b[A\n",
      " 80%|████████  | 173/215 [03:17<00:48,  1.15s/it]\u001b[A\n",
      " 81%|████████  | 174/215 [03:18<00:45,  1.11s/it]\u001b[A\n",
      " 81%|████████▏ | 175/215 [03:19<00:44,  1.11s/it]\u001b[A\n",
      " 82%|████████▏ | 176/215 [03:20<00:46,  1.20s/it]\u001b[A\n",
      " 82%|████████▏ | 177/215 [03:22<00:43,  1.15s/it]\u001b[A\n",
      " 83%|████████▎ | 178/215 [03:23<00:42,  1.14s/it]\u001b[A\n",
      " 83%|████████▎ | 179/215 [03:24<00:40,  1.14s/it]\u001b[A\n",
      " 84%|████████▎ | 180/215 [03:25<00:43,  1.23s/it]\u001b[A\n",
      " 84%|████████▍ | 181/215 [03:26<00:40,  1.19s/it]\u001b[A\n",
      " 85%|████████▍ | 182/215 [03:28<00:41,  1.26s/it]\u001b[A\n",
      " 85%|████████▌ | 183/215 [03:29<00:38,  1.22s/it]\u001b[A\n",
      " 86%|████████▌ | 184/215 [03:30<00:35,  1.16s/it]\u001b[A\n",
      " 86%|████████▌ | 185/215 [03:31<00:35,  1.18s/it]\u001b[A\n",
      " 87%|████████▋ | 186/215 [03:32<00:33,  1.17s/it]\u001b[A\n",
      " 87%|████████▋ | 187/215 [03:34<00:35,  1.26s/it]\u001b[A\n",
      " 87%|████████▋ | 188/215 [03:35<00:32,  1.22s/it]\u001b[A\n",
      " 88%|████████▊ | 189/215 [03:36<00:31,  1.20s/it]\u001b[A\n",
      " 88%|████████▊ | 190/215 [03:37<00:31,  1.25s/it]\u001b[A\n",
      " 89%|████████▉ | 191/215 [03:38<00:28,  1.21s/it]\u001b[A\n",
      " 89%|████████▉ | 192/215 [03:40<00:27,  1.19s/it]\u001b[A\n",
      " 90%|████████▉ | 193/215 [03:41<00:27,  1.25s/it]\u001b[A\n",
      " 90%|█████████ | 194/215 [03:42<00:25,  1.19s/it]\u001b[A\n",
      " 91%|█████████ | 195/215 [03:43<00:23,  1.18s/it]\u001b[A\n",
      " 91%|█████████ | 196/215 [03:44<00:22,  1.18s/it]\u001b[A\n",
      " 92%|█████████▏| 197/215 [03:46<00:21,  1.17s/it]\u001b[A\n",
      " 92%|█████████▏| 198/215 [03:47<00:21,  1.24s/it]\u001b[A\n",
      " 93%|█████████▎| 199/215 [03:48<00:19,  1.21s/it]\u001b[A\n",
      " 93%|█████████▎| 200/215 [03:49<00:17,  1.19s/it]\u001b[A\n",
      " 93%|█████████▎| 201/215 [03:50<00:15,  1.13s/it]\u001b[A\n",
      " 94%|█████████▍| 202/215 [03:51<00:14,  1.09s/it]\u001b[A\n",
      " 94%|█████████▍| 203/215 [03:52<00:13,  1.09s/it]\u001b[A\n",
      " 95%|█████████▍| 204/215 [03:54<00:12,  1.13s/it]\u001b[A\n",
      " 95%|█████████▌| 205/215 [03:55<00:11,  1.13s/it]\u001b[A\n",
      " 96%|█████████▌| 206/215 [03:56<00:09,  1.11s/it]\u001b[A\n",
      " 96%|█████████▋| 207/215 [03:57<00:08,  1.08s/it]\u001b[A\n",
      " 97%|█████████▋| 208/215 [03:58<00:07,  1.08s/it]\u001b[A\n",
      " 97%|█████████▋| 209/215 [03:59<00:06,  1.15s/it]\u001b[A\n",
      " 98%|█████████▊| 210/215 [04:00<00:05,  1.15s/it]\u001b[A\n",
      " 98%|█████████▊| 211/215 [04:02<00:05,  1.37s/it]\u001b[A\n",
      " 99%|█████████▊| 212/215 [04:03<00:03,  1.27s/it]\u001b[A\n",
      " 99%|█████████▉| 213/215 [04:04<00:02,  1.20s/it]\u001b[A\n",
      "100%|█████████▉| 214/215 [04:05<00:01,  1.19s/it]\u001b[A\n",
      "100%|██████████| 215/215 [04:07<00:00,  1.15s/it]\n",
      " 75%|███████▍  | 309/413 [38:04<2:24:41, 83.47s/it]"
     ]
    },
    {
     "name": "stdout",
     "output_type": "stream",
     "text": [
      "https://reviews.webmd.com/drugs/drugreview-64437-aripiprazole\n"
     ]
    },
    {
     "name": "stderr",
     "output_type": "stream",
     "text": [
      "\n",
      "  0%|          | 0/4 [00:00<?, ?it/s]\u001b[A\n",
      " 25%|██▌       | 1/4 [00:01<00:03,  1.16s/it]\u001b[A\n",
      " 50%|█████     | 2/4 [00:02<00:02,  1.14s/it]\u001b[A\n",
      " 75%|███████▌  | 3/4 [00:03<00:01,  1.14s/it]\u001b[A\n",
      "100%|██████████| 4/4 [00:04<00:00,  1.15s/it]\n",
      " 75%|███████▌  | 310/413 [38:11<1:44:03, 60.62s/it]"
     ]
    },
    {
     "name": "stdout",
     "output_type": "stream",
     "text": [
      "https://reviews.webmd.com/drugs/drugreview-64437-aripiprazole-odt\n"
     ]
    },
    {
     "name": "stderr",
     "output_type": "stream",
     "text": [
      "\n",
      "  0%|          | 0/4 [00:00<?, ?it/s]\u001b[A\n",
      " 25%|██▌       | 1/4 [00:01<00:03,  1.04s/it]\u001b[A\n",
      " 50%|█████     | 2/4 [00:02<00:02,  1.10s/it]\u001b[A\n",
      " 75%|███████▌  | 3/4 [00:03<00:01,  1.08s/it]\u001b[A\n",
      "100%|██████████| 4/4 [00:04<00:00,  1.06s/it]\n",
      " 75%|███████▌  | 311/413 [38:17<1:15:01, 44.13s/it]"
     ]
    },
    {
     "name": "stdout",
     "output_type": "stream",
     "text": [
      "https://reviews.webmd.com/drugs/drugreview-64437-aripiprazole-tablet-with-sensor-and-patch\n"
     ]
    },
    {
     "name": "stderr",
     "output_type": "stream",
     "text": [
      "\n",
      "  0%|          | 0/4 [00:00<?, ?it/s]\u001b[A\n",
      " 25%|██▌       | 1/4 [00:01<00:03,  1.08s/it]\u001b[A\n",
      " 50%|█████     | 2/4 [00:02<00:02,  1.11s/it]\u001b[A\n",
      " 75%|███████▌  | 3/4 [00:03<00:01,  1.10s/it]\u001b[A\n",
      "100%|██████████| 4/4 [00:04<00:00,  1.09s/it]\n",
      " 76%|███████▌  | 312/413 [38:23<55:01, 32.68s/it]  "
     ]
    },
    {
     "name": "stdout",
     "output_type": "stream",
     "text": [
      "https://reviews.webmd.com/drugs/drugreview-64439-abilify\n"
     ]
    },
    {
     "name": "stderr",
     "output_type": "stream",
     "text": [
      "\n",
      "  0%|          | 0/95 [00:00<?, ?it/s]\u001b[A\n",
      "  1%|          | 1/95 [00:01<02:11,  1.40s/it]\u001b[A\n",
      "  2%|▏         | 2/95 [00:02<01:51,  1.20s/it]\u001b[A\n",
      "  3%|▎         | 3/95 [00:03<01:46,  1.15s/it]\u001b[A\n",
      "  4%|▍         | 4/95 [00:04<01:42,  1.12s/it]\u001b[A\n",
      "  5%|▌         | 5/95 [00:05<01:41,  1.13s/it]\u001b[A\n",
      "  6%|▋         | 6/95 [00:06<01:37,  1.10s/it]\u001b[A\n",
      "  7%|▋         | 7/95 [00:08<01:44,  1.18s/it]\u001b[A\n",
      "  8%|▊         | 8/95 [00:09<01:40,  1.16s/it]\u001b[A\n",
      "  9%|▉         | 9/95 [00:10<01:37,  1.13s/it]\u001b[A\n",
      " 11%|█         | 10/95 [00:11<01:36,  1.13s/it]\u001b[A\n",
      " 12%|█▏        | 11/95 [00:12<01:34,  1.12s/it]\u001b[A\n",
      " 13%|█▎        | 12/95 [00:13<01:39,  1.20s/it]\u001b[A\n",
      " 14%|█▎        | 13/95 [00:14<01:34,  1.15s/it]\u001b[A\n",
      " 15%|█▍        | 14/95 [00:16<01:30,  1.12s/it]\u001b[A\n",
      " 16%|█▌        | 15/95 [00:17<01:27,  1.10s/it]\u001b[A\n",
      " 17%|█▋        | 16/95 [00:18<01:24,  1.07s/it]\u001b[A\n",
      " 18%|█▊        | 17/95 [00:19<01:23,  1.07s/it]\u001b[A\n",
      " 19%|█▉        | 18/95 [00:20<01:31,  1.19s/it]\u001b[A\n",
      " 20%|██        | 19/95 [00:21<01:28,  1.16s/it]\u001b[A\n",
      " 21%|██        | 20/95 [00:22<01:24,  1.13s/it]\u001b[A\n",
      " 22%|██▏       | 21/95 [00:23<01:23,  1.12s/it]\u001b[A\n",
      " 23%|██▎       | 22/95 [00:25<01:22,  1.13s/it]\u001b[A\n",
      " 24%|██▍       | 23/95 [00:26<01:18,  1.09s/it]\u001b[A\n",
      " 25%|██▌       | 24/95 [00:27<01:23,  1.18s/it]\u001b[A\n",
      " 26%|██▋       | 25/95 [00:28<01:19,  1.13s/it]\u001b[A\n",
      " 27%|██▋       | 26/95 [00:29<01:17,  1.12s/it]\u001b[A\n",
      " 28%|██▊       | 27/95 [00:30<01:16,  1.13s/it]\u001b[A\n",
      " 29%|██▉       | 28/95 [00:31<01:14,  1.11s/it]\u001b[A\n",
      " 31%|███       | 29/95 [00:33<01:17,  1.17s/it]\u001b[A\n",
      " 32%|███▏      | 30/95 [00:34<01:13,  1.13s/it]\u001b[A\n",
      " 33%|███▎      | 31/95 [00:35<01:13,  1.15s/it]\u001b[A\n",
      " 34%|███▎      | 32/95 [00:36<01:11,  1.13s/it]\u001b[A\n",
      " 35%|███▍      | 33/95 [00:37<01:10,  1.13s/it]\u001b[A\n",
      " 36%|███▌      | 34/95 [00:38<01:07,  1.11s/it]\u001b[A\n",
      " 37%|███▋      | 35/95 [00:40<01:13,  1.22s/it]\u001b[A\n",
      " 38%|███▊      | 36/95 [00:41<01:09,  1.18s/it]\u001b[A\n",
      " 39%|███▉      | 37/95 [00:42<01:08,  1.17s/it]\u001b[A\n",
      " 40%|████      | 38/95 [00:43<01:05,  1.15s/it]\u001b[A\n",
      " 41%|████      | 39/95 [00:44<01:04,  1.15s/it]\u001b[A\n",
      " 42%|████▏     | 40/95 [00:45<01:08,  1.24s/it]\u001b[A\n",
      " 43%|████▎     | 41/95 [00:47<01:04,  1.20s/it]\u001b[A\n",
      " 44%|████▍     | 42/95 [00:48<01:01,  1.16s/it]\u001b[A\n",
      " 45%|████▌     | 43/95 [00:49<00:58,  1.13s/it]\u001b[A\n",
      " 46%|████▋     | 44/95 [00:50<00:57,  1.12s/it]\u001b[A\n",
      " 47%|████▋     | 45/95 [00:51<00:55,  1.12s/it]\u001b[A\n",
      " 48%|████▊     | 46/95 [00:52<00:58,  1.19s/it]\u001b[A\n",
      " 49%|████▉     | 47/95 [00:53<00:56,  1.18s/it]\u001b[A\n",
      " 51%|█████     | 48/95 [00:55<00:57,  1.22s/it]\u001b[A\n",
      " 52%|█████▏    | 49/95 [00:56<00:54,  1.18s/it]\u001b[A\n",
      " 53%|█████▎    | 50/95 [00:57<00:51,  1.13s/it]\u001b[A\n",
      " 54%|█████▎    | 51/95 [00:58<00:48,  1.11s/it]\u001b[A\n",
      " 55%|█████▍    | 52/95 [00:59<00:51,  1.19s/it]\u001b[A\n",
      " 56%|█████▌    | 53/95 [01:01<00:50,  1.19s/it]\u001b[A\n",
      " 57%|█████▋    | 54/95 [01:02<00:48,  1.18s/it]\u001b[A\n",
      " 58%|█████▊    | 55/95 [01:03<00:46,  1.16s/it]\u001b[A\n",
      " 59%|█████▉    | 56/95 [01:04<00:44,  1.15s/it]\u001b[A\n",
      " 60%|██████    | 57/95 [01:05<00:44,  1.18s/it]\u001b[A\n",
      " 61%|██████    | 58/95 [01:06<00:42,  1.14s/it]\u001b[A\n",
      " 62%|██████▏   | 59/95 [01:07<00:40,  1.11s/it]\u001b[A\n",
      " 63%|██████▎   | 60/95 [01:08<00:39,  1.13s/it]\u001b[A\n",
      " 64%|██████▍   | 61/95 [01:09<00:37,  1.09s/it]\u001b[A\n",
      " 65%|██████▌   | 62/95 [01:10<00:35,  1.08s/it]\u001b[A\n",
      " 66%|██████▋   | 63/95 [01:12<00:36,  1.13s/it]\u001b[A\n",
      " 67%|██████▋   | 64/95 [01:13<00:35,  1.14s/it]\u001b[A\n",
      " 68%|██████▊   | 65/95 [01:14<00:33,  1.11s/it]\u001b[A\n",
      " 69%|██████▉   | 66/95 [01:15<00:32,  1.11s/it]\u001b[A\n",
      " 71%|███████   | 67/95 [01:16<00:31,  1.12s/it]\u001b[A\n",
      " 72%|███████▏  | 68/95 [01:18<00:32,  1.20s/it]\u001b[A\n",
      " 73%|███████▎  | 69/95 [01:19<00:30,  1.17s/it]\u001b[A\n",
      " 74%|███████▎  | 70/95 [01:20<00:29,  1.17s/it]\u001b[A\n",
      " 75%|███████▍  | 71/95 [01:21<00:28,  1.17s/it]\u001b[A\n",
      " 76%|███████▌  | 72/95 [01:22<00:26,  1.16s/it]\u001b[A\n",
      " 77%|███████▋  | 73/95 [01:23<00:24,  1.12s/it]\u001b[A\n",
      " 78%|███████▊  | 74/95 [01:25<00:26,  1.25s/it]\u001b[A\n",
      " 79%|███████▉  | 75/95 [01:26<00:24,  1.21s/it]\u001b[A\n",
      " 80%|████████  | 76/95 [01:27<00:24,  1.28s/it]\u001b[A\n",
      " 81%|████████  | 77/95 [01:28<00:22,  1.24s/it]\u001b[A\n",
      " 82%|████████▏ | 78/95 [01:30<00:20,  1.23s/it]\u001b[A\n",
      " 83%|████████▎ | 79/95 [01:31<00:19,  1.20s/it]\u001b[A\n",
      " 84%|████████▍ | 80/95 [01:32<00:19,  1.28s/it]\u001b[A\n",
      " 85%|████████▌ | 81/95 [01:33<00:17,  1.24s/it]\u001b[A\n",
      " 86%|████████▋ | 82/95 [01:34<00:15,  1.20s/it]\u001b[A\n",
      " 87%|████████▋ | 83/95 [01:36<00:14,  1.18s/it]\u001b[A\n",
      " 88%|████████▊ | 84/95 [01:37<00:13,  1.21s/it]\u001b[A\n",
      " 89%|████████▉ | 85/95 [01:38<00:12,  1.24s/it]\u001b[A\n",
      " 91%|█████████ | 86/95 [01:39<00:10,  1.21s/it]\u001b[A\n",
      " 92%|█████████▏| 87/95 [01:40<00:09,  1.17s/it]\u001b[A\n",
      " 93%|█████████▎| 88/95 [01:42<00:08,  1.16s/it]\u001b[A\n",
      " 94%|█████████▎| 89/95 [01:43<00:06,  1.11s/it]\u001b[A\n",
      " 95%|█████████▍| 90/95 [01:44<00:05,  1.11s/it]\u001b[A\n",
      " 96%|█████████▌| 91/95 [01:45<00:04,  1.16s/it]\u001b[A\n",
      " 97%|█████████▋| 92/95 [01:46<00:03,  1.16s/it]\u001b[A\n",
      " 98%|█████████▊| 93/95 [01:47<00:02,  1.14s/it]\u001b[A\n",
      " 99%|█████████▉| 94/95 [01:48<00:01,  1.13s/it]\u001b[A\n",
      "100%|██████████| 95/95 [01:49<00:00,  1.16s/it]\n",
      " 76%|███████▌  | 313/413 [40:15<1:34:22, 56.62s/it]"
     ]
    },
    {
     "name": "stdout",
     "output_type": "stream",
     "text": [
      "https://reviews.webmd.com/drugs/drugreview-6463-anx-tablet\n"
     ]
    },
    {
     "name": "stderr",
     "output_type": "stream",
     "text": [
      " 76%|███████▋  | 315/413 [40:18<46:30, 28.48s/it]  "
     ]
    },
    {
     "name": "stdout",
     "output_type": "stream",
     "text": [
      "skipping https://reviews.webmd.com/drugs/drugreview-64731-valproic-acid-liquid: page not found\n",
      "https://reviews.webmd.com/drugs/drugreview-6511-rezine-tablet\n"
     ]
    },
    {
     "name": "stderr",
     "output_type": "stream",
     "text": [
      "\n",
      "  0%|          | 0/1 [00:00<?, ?it/s]\u001b[A\n",
      "100%|██████████| 1/1 [00:00<00:00,  1.40it/s]\n",
      " 77%|███████▋  | 316/413 [40:21<33:29, 20.72s/it]"
     ]
    },
    {
     "name": "stdout",
     "output_type": "stream",
     "text": [
      "https://reviews.webmd.com/drugs/drugreview-6572-stelazine-tablet\n"
     ]
    },
    {
     "name": "stderr",
     "output_type": "stream",
     "text": [
      "\n",
      "  0%|          | 0/1 [00:00<?, ?it/s]\u001b[A\n",
      "100%|██████████| 1/1 [00:00<00:00,  1.16it/s]\n",
      " 77%|███████▋  | 317/413 [40:24<24:45, 15.47s/it]"
     ]
    },
    {
     "name": "stdout",
     "output_type": "stream",
     "text": [
      "https://reviews.webmd.com/drugs/drugreview-6685-ativan\n"
     ]
    },
    {
     "name": "stderr",
     "output_type": "stream",
     "text": [
      "\n",
      "  0%|          | 0/53 [00:00<?, ?it/s]\u001b[A\n",
      "  2%|▏         | 1/53 [00:01<01:08,  1.31s/it]\u001b[A\n",
      "  4%|▍         | 2/53 [00:02<01:07,  1.33s/it]\u001b[A\n",
      "  6%|▌         | 3/53 [00:03<01:05,  1.31s/it]\u001b[A\n",
      "  8%|▊         | 4/53 [00:05<01:07,  1.38s/it]\u001b[A\n",
      "  9%|▉         | 5/53 [00:06<00:59,  1.25s/it]\u001b[A\n",
      " 11%|█▏        | 6/53 [00:07<00:55,  1.18s/it]\u001b[A\n",
      " 13%|█▎        | 7/53 [00:08<00:53,  1.17s/it]\u001b[A\n",
      " 15%|█▌        | 8/53 [00:09<00:52,  1.16s/it]\u001b[A\n",
      " 17%|█▋        | 9/53 [00:10<00:50,  1.16s/it]\u001b[A\n",
      " 19%|█▉        | 10/53 [00:12<00:52,  1.23s/it]\u001b[A\n",
      " 21%|██        | 11/53 [00:13<00:50,  1.20s/it]\u001b[A\n",
      " 23%|██▎       | 12/53 [00:14<00:47,  1.16s/it]\u001b[A\n",
      " 25%|██▍       | 13/53 [00:15<00:46,  1.16s/it]\u001b[A\n",
      " 26%|██▋       | 14/53 [00:16<00:45,  1.16s/it]\u001b[A\n",
      " 28%|██▊       | 15/53 [00:18<00:44,  1.17s/it]\u001b[A\n",
      " 30%|███       | 16/53 [00:19<00:41,  1.12s/it]\u001b[A\n",
      " 32%|███▏      | 17/53 [00:20<00:40,  1.12s/it]\u001b[A\n",
      " 34%|███▍      | 18/53 [00:21<00:39,  1.13s/it]\u001b[A\n",
      " 36%|███▌      | 19/53 [00:22<00:38,  1.14s/it]\u001b[A\n",
      " 38%|███▊      | 20/53 [00:23<00:37,  1.13s/it]\u001b[A\n",
      " 40%|███▉      | 21/53 [00:25<00:39,  1.23s/it]\u001b[A\n",
      " 42%|████▏     | 22/53 [00:26<00:36,  1.17s/it]\u001b[A\n",
      " 43%|████▎     | 23/53 [00:27<00:34,  1.16s/it]\u001b[A\n",
      " 45%|████▌     | 24/53 [00:28<00:32,  1.11s/it]\u001b[A\n",
      " 47%|████▋     | 25/53 [00:29<00:30,  1.10s/it]\u001b[A\n",
      " 49%|████▉     | 26/53 [00:30<00:29,  1.11s/it]\u001b[A\n",
      " 51%|█████     | 27/53 [00:31<00:30,  1.17s/it]\u001b[A\n",
      " 53%|█████▎    | 28/53 [00:32<00:29,  1.19s/it]\u001b[A\n",
      " 55%|█████▍    | 29/53 [00:33<00:27,  1.13s/it]\u001b[A\n",
      " 57%|█████▋    | 30/53 [00:34<00:25,  1.11s/it]\u001b[A\n",
      " 58%|█████▊    | 31/53 [00:36<00:24,  1.10s/it]\u001b[A\n",
      " 60%|██████    | 32/53 [00:37<00:26,  1.25s/it]\u001b[A\n",
      " 62%|██████▏   | 33/53 [00:38<00:23,  1.20s/it]\u001b[A\n",
      " 64%|██████▍   | 34/53 [00:39<00:22,  1.19s/it]\u001b[A\n",
      " 66%|██████▌   | 35/53 [00:41<00:21,  1.18s/it]\u001b[A\n",
      " 68%|██████▊   | 36/53 [00:42<00:19,  1.16s/it]\u001b[A\n",
      " 70%|██████▉   | 37/53 [00:43<00:18,  1.13s/it]\u001b[A\n",
      " 72%|███████▏  | 38/53 [00:44<00:18,  1.24s/it]\u001b[A\n",
      " 74%|███████▎  | 39/53 [00:46<00:17,  1.25s/it]\u001b[A\n",
      " 75%|███████▌  | 40/53 [00:47<00:15,  1.21s/it]\u001b[A\n",
      " 77%|███████▋  | 41/53 [00:48<00:13,  1.16s/it]\u001b[A\n",
      " 79%|███████▉  | 42/53 [00:49<00:12,  1.15s/it]\u001b[A\n",
      " 81%|████████  | 43/53 [00:50<00:11,  1.16s/it]\u001b[A\n",
      " 83%|████████▎ | 44/53 [00:51<00:11,  1.25s/it]\u001b[A\n",
      " 85%|████████▍ | 45/53 [00:53<00:09,  1.21s/it]\u001b[A\n",
      " 87%|████████▋ | 46/53 [00:54<00:08,  1.17s/it]\u001b[A\n",
      " 89%|████████▊ | 47/53 [00:55<00:07,  1.21s/it]\u001b[A\n",
      " 91%|█████████ | 48/53 [00:56<00:06,  1.21s/it]\u001b[A\n",
      " 92%|█████████▏| 49/53 [00:58<00:05,  1.29s/it]\u001b[A\n",
      " 94%|█████████▍| 50/53 [00:59<00:03,  1.20s/it]\u001b[A\n",
      " 96%|█████████▌| 51/53 [01:00<00:02,  1.21s/it]\u001b[A\n",
      " 98%|█████████▊| 52/53 [01:01<00:01,  1.21s/it]\u001b[A\n",
      "100%|██████████| 53/53 [01:02<00:00,  1.18s/it]\n",
      " 77%|███████▋  | 318/413 [41:29<48:05, 30.38s/it]"
     ]
    },
    {
     "name": "stdout",
     "output_type": "stream",
     "text": [
      "https://reviews.webmd.com/drugs/drugreview-6790-etrafon-tablet\n"
     ]
    },
    {
     "name": "stderr",
     "output_type": "stream",
     "text": [
      "\n",
      "  0%|          | 0/1 [00:00<?, ?it/s]\u001b[A\n",
      "100%|██████████| 1/1 [00:00<00:00,  1.18it/s]\n",
      " 77%|███████▋  | 319/413 [41:32<34:41, 22.15s/it]"
     ]
    },
    {
     "name": "stdout",
     "output_type": "stream",
     "text": [
      "https://reviews.webmd.com/drugs/drugreview-6817-haldol-decanoate-50-ampul\n"
     ]
    },
    {
     "name": "stderr",
     "output_type": "stream",
     "text": [
      "\n",
      "  0%|          | 0/1 [00:00<?, ?it/s]\u001b[A\n",
      "100%|██████████| 1/1 [00:01<00:00,  1.09s/it]\n",
      " 77%|███████▋  | 320/413 [41:36<25:43, 16.60s/it]"
     ]
    },
    {
     "name": "stdout",
     "output_type": "stream",
     "text": [
      "https://reviews.webmd.com/drugs/drugreview-6874-lithobid\n"
     ]
    },
    {
     "name": "stderr",
     "output_type": "stream",
     "text": [
      "\n",
      "  0%|          | 0/2 [00:00<?, ?it/s]\u001b[A\n",
      " 50%|█████     | 1/2 [00:01<00:01,  1.21s/it]\u001b[A\n",
      "100%|██████████| 2/2 [00:02<00:00,  1.28s/it]\n",
      " 78%|███████▊  | 322/413 [41:43<14:37,  9.65s/it]"
     ]
    },
    {
     "name": "stdout",
     "output_type": "stream",
     "text": [
      "skipping https://reviews.webmd.com/drugs/drugreview-6886-ludiomil-tablet: page not found\n",
      "https://reviews.webmd.com/drugs/drugreview-6923-navane-capsule\n"
     ]
    },
    {
     "name": "stderr",
     "output_type": "stream",
     "text": [
      "\n",
      "  0%|          | 0/1 [00:00<?, ?it/s]\u001b[A\n",
      "100%|██████████| 1/1 [00:01<00:00,  1.11s/it]\n",
      " 78%|███████▊  | 323/413 [41:46<11:32,  7.69s/it]"
     ]
    },
    {
     "name": "stdout",
     "output_type": "stream",
     "text": [
      "https://reviews.webmd.com/drugs/drugreview-6936-norpramin\n"
     ]
    },
    {
     "name": "stderr",
     "output_type": "stream",
     "text": [
      "\n",
      "  0%|          | 0/2 [00:00<?, ?it/s]\u001b[A\n",
      " 50%|█████     | 1/2 [00:01<00:01,  1.05s/it]\u001b[A\n",
      "100%|██████████| 2/2 [00:02<00:00,  1.11s/it]\n",
      " 78%|███████▊  | 324/413 [41:51<10:15,  6.92s/it]"
     ]
    },
    {
     "name": "stdout",
     "output_type": "stream",
     "text": [
      "https://reviews.webmd.com/drugs/drugreview-6968-paxil\n"
     ]
    },
    {
     "name": "stderr",
     "output_type": "stream",
     "text": [
      "\n",
      "  0%|          | 0/38 [00:00<?, ?it/s]\u001b[A\n",
      "  3%|▎         | 1/38 [00:01<00:42,  1.15s/it]\u001b[A\n",
      "  5%|▌         | 2/38 [00:02<00:43,  1.20s/it]\u001b[A\n",
      "  8%|▊         | 3/38 [00:03<00:40,  1.14s/it]\u001b[A\n",
      " 11%|█         | 4/38 [00:04<00:38,  1.12s/it]\u001b[A\n",
      " 13%|█▎        | 5/38 [00:05<00:37,  1.14s/it]\u001b[A\n",
      " 16%|█▌        | 6/38 [00:06<00:36,  1.15s/it]\u001b[A\n",
      " 18%|█▊        | 7/38 [00:08<00:36,  1.19s/it]\u001b[A\n",
      " 21%|██        | 8/38 [00:09<00:36,  1.23s/it]\u001b[A\n",
      " 24%|██▎       | 9/38 [00:10<00:34,  1.19s/it]\u001b[A\n",
      " 26%|██▋       | 10/38 [00:11<00:32,  1.16s/it]\u001b[A\n",
      " 29%|██▉       | 11/38 [00:12<00:31,  1.16s/it]\u001b[A\n",
      " 32%|███▏      | 12/38 [00:13<00:30,  1.16s/it]\u001b[A\n",
      " 34%|███▍      | 13/38 [00:15<00:29,  1.18s/it]\u001b[A\n",
      " 37%|███▋      | 14/38 [00:16<00:27,  1.16s/it]\u001b[A\n",
      " 39%|███▉      | 15/38 [00:17<00:26,  1.13s/it]\u001b[A\n",
      " 42%|████▏     | 16/38 [00:18<00:25,  1.14s/it]\u001b[A\n",
      " 45%|████▍     | 17/38 [00:19<00:23,  1.12s/it]\u001b[A\n",
      " 47%|████▋     | 18/38 [00:20<00:22,  1.13s/it]\u001b[A\n",
      " 50%|█████     | 19/38 [00:22<00:23,  1.23s/it]\u001b[A\n",
      " 53%|█████▎    | 20/38 [00:23<00:22,  1.22s/it]\u001b[A\n",
      " 55%|█████▌    | 21/38 [00:24<00:20,  1.18s/it]\u001b[A\n",
      " 58%|█████▊    | 22/38 [00:25<00:18,  1.16s/it]\u001b[A\n",
      " 61%|██████    | 23/38 [00:26<00:16,  1.13s/it]\u001b[A\n",
      " 63%|██████▎   | 24/38 [00:28<00:17,  1.25s/it]\u001b[A\n",
      " 66%|██████▌   | 25/38 [00:29<00:16,  1.24s/it]\u001b[A\n",
      " 68%|██████▊   | 26/38 [00:30<00:14,  1.24s/it]\u001b[A\n",
      " 71%|███████   | 27/38 [00:31<00:13,  1.22s/it]\u001b[A\n",
      " 74%|███████▎  | 28/38 [00:32<00:11,  1.17s/it]\u001b[A\n",
      " 76%|███████▋  | 29/38 [00:34<00:10,  1.18s/it]\u001b[A\n",
      " 79%|███████▉  | 30/38 [00:35<00:10,  1.27s/it]\u001b[A\n",
      " 82%|████████▏ | 31/38 [00:36<00:08,  1.21s/it]\u001b[A\n",
      " 84%|████████▍ | 32/38 [00:37<00:07,  1.17s/it]\u001b[A\n",
      " 87%|████████▋ | 33/38 [00:39<00:05,  1.19s/it]\u001b[A\n",
      " 89%|████████▉ | 34/38 [00:40<00:04,  1.20s/it]\u001b[A\n",
      " 92%|█████████▏| 35/38 [00:41<00:03,  1.19s/it]\u001b[A\n",
      " 95%|█████████▍| 36/38 [00:42<00:02,  1.26s/it]\u001b[A\n",
      " 97%|█████████▋| 37/38 [00:44<00:01,  1.25s/it]\u001b[A\n",
      "100%|██████████| 38/38 [00:45<00:00,  1.19s/it]\n",
      " 79%|███████▊  | 325/413 [42:39<28:04, 19.14s/it]"
     ]
    },
    {
     "name": "stdout",
     "output_type": "stream",
     "text": [
      "https://reviews.webmd.com/drugs/drugreview-6968-paxil-tablet\n"
     ]
    },
    {
     "name": "stderr",
     "output_type": "stream",
     "text": [
      "\n",
      "  0%|          | 0/38 [00:00<?, ?it/s]\u001b[A\n",
      "  3%|▎         | 1/38 [00:01<00:38,  1.05s/it]\u001b[A\n",
      "  5%|▌         | 2/38 [00:02<00:45,  1.27s/it]\u001b[A\n",
      "  8%|▊         | 3/38 [00:03<00:41,  1.17s/it]\u001b[A\n",
      " 11%|█         | 4/38 [00:04<00:38,  1.14s/it]\u001b[A\n",
      " 13%|█▎        | 5/38 [00:05<00:36,  1.11s/it]\u001b[A\n",
      " 16%|█▌        | 6/38 [00:06<00:34,  1.08s/it]\u001b[A\n",
      " 18%|█▊        | 7/38 [00:07<00:34,  1.11s/it]\u001b[A\n",
      " 21%|██        | 8/38 [00:09<00:36,  1.21s/it]\u001b[A\n",
      " 24%|██▎       | 9/38 [00:10<00:34,  1.18s/it]\u001b[A\n",
      " 26%|██▋       | 10/38 [00:11<00:32,  1.16s/it]\u001b[A\n",
      " 29%|██▉       | 11/38 [00:12<00:31,  1.15s/it]\u001b[A\n",
      " 32%|███▏      | 12/38 [00:13<00:30,  1.17s/it]\u001b[A\n",
      " 34%|███▍      | 13/38 [00:15<00:31,  1.25s/it]\u001b[A\n",
      " 37%|███▋      | 14/38 [00:16<00:29,  1.25s/it]\u001b[A\n",
      " 39%|███▉      | 15/38 [00:17<00:28,  1.23s/it]\u001b[A\n",
      " 42%|████▏     | 16/38 [00:18<00:26,  1.20s/it]\u001b[A\n",
      " 45%|████▍     | 17/38 [00:20<00:24,  1.18s/it]\u001b[A\n",
      " 47%|████▋     | 18/38 [00:21<00:22,  1.14s/it]\u001b[A\n",
      " 50%|█████     | 19/38 [00:22<00:23,  1.21s/it]\u001b[A\n",
      " 53%|█████▎    | 20/38 [00:23<00:21,  1.22s/it]\u001b[A\n",
      " 55%|█████▌    | 21/38 [00:24<00:19,  1.17s/it]\u001b[A\n",
      " 58%|█████▊    | 22/38 [00:25<00:18,  1.16s/it]\u001b[A\n",
      " 61%|██████    | 23/38 [00:27<00:17,  1.18s/it]\u001b[A\n",
      " 63%|██████▎   | 24/38 [00:28<00:17,  1.22s/it]\u001b[A\n",
      " 66%|██████▌   | 25/38 [00:29<00:15,  1.19s/it]\u001b[A\n",
      " 68%|██████▊   | 26/38 [00:30<00:13,  1.16s/it]\u001b[A\n",
      " 71%|███████   | 27/38 [00:31<00:12,  1.15s/it]\u001b[A\n",
      " 74%|███████▎  | 28/38 [00:32<00:11,  1.16s/it]\u001b[A\n",
      " 76%|███████▋  | 29/38 [00:34<00:10,  1.17s/it]\u001b[A\n",
      " 79%|███████▉  | 30/38 [00:35<00:10,  1.28s/it]\u001b[A\n",
      " 82%|████████▏ | 31/38 [00:36<00:08,  1.22s/it]\u001b[A\n",
      " 84%|████████▍ | 32/38 [00:37<00:07,  1.20s/it]\u001b[A\n",
      " 87%|████████▋ | 33/38 [00:38<00:05,  1.16s/it]\u001b[A\n",
      " 89%|████████▉ | 34/38 [00:40<00:04,  1.15s/it]\u001b[A\n",
      " 92%|█████████▏| 35/38 [00:41<00:03,  1.25s/it]\u001b[A\n",
      " 95%|█████████▍| 36/38 [00:42<00:02,  1.18s/it]\u001b[A\n",
      " 97%|█████████▋| 37/38 [00:43<00:01,  1.19s/it]\u001b[A\n",
      "100%|██████████| 38/38 [00:44<00:00,  1.18s/it]\n",
      " 79%|███████▉  | 326/413 [43:25<39:30, 27.25s/it]"
     ]
    },
    {
     "name": "stdout",
     "output_type": "stream",
     "text": [
      "https://reviews.webmd.com/drugs/drugreview-6969-paroxetine-er\n"
     ]
    },
    {
     "name": "stderr",
     "output_type": "stream",
     "text": [
      "\n",
      "  0%|          | 0/16 [00:00<?, ?it/s]\u001b[A\n",
      "  6%|▋         | 1/16 [00:01<00:15,  1.05s/it]\u001b[A\n",
      " 12%|█▎        | 2/16 [00:02<00:17,  1.22s/it]\u001b[A\n",
      " 19%|█▉        | 3/16 [00:03<00:15,  1.22s/it]\u001b[A\n",
      " 25%|██▌       | 4/16 [00:04<00:13,  1.15s/it]\u001b[A\n",
      " 31%|███▏      | 5/16 [00:05<00:12,  1.16s/it]\u001b[A\n",
      " 38%|███▊      | 6/16 [00:07<00:12,  1.21s/it]\u001b[A\n",
      " 44%|████▍     | 7/16 [00:08<00:10,  1.19s/it]\u001b[A\n",
      " 50%|█████     | 8/16 [00:09<00:09,  1.23s/it]\u001b[A\n",
      " 56%|█████▋    | 9/16 [00:10<00:08,  1.20s/it]\u001b[A\n",
      " 62%|██████▎   | 10/16 [00:11<00:07,  1.17s/it]\u001b[A\n",
      " 69%|██████▉   | 11/16 [00:13<00:05,  1.17s/it]\u001b[A\n",
      " 75%|███████▌  | 12/16 [00:14<00:04,  1.16s/it]\u001b[A\n",
      " 81%|████████▏ | 13/16 [00:15<00:03,  1.26s/it]\u001b[A\n",
      " 88%|████████▊ | 14/16 [00:16<00:02,  1.24s/it]\u001b[A\n",
      " 94%|█████████▍| 15/16 [00:18<00:01,  1.22s/it]\u001b[A\n",
      "100%|██████████| 16/16 [00:19<00:00,  1.20s/it]\n",
      " 79%|███████▉  | 327/413 [43:46<36:36, 25.54s/it]"
     ]
    },
    {
     "name": "stdout",
     "output_type": "stream",
     "text": [
      "https://reviews.webmd.com/drugs/drugreview-6969-paroxetine-hcl\n"
     ]
    },
    {
     "name": "stderr",
     "output_type": "stream",
     "text": [
      "\n",
      "  0%|          | 0/16 [00:00<?, ?it/s]\u001b[A\n",
      "  6%|▋         | 1/16 [00:01<00:17,  1.18s/it]\u001b[A\n",
      " 12%|█▎        | 2/16 [00:02<00:17,  1.25s/it]\u001b[A\n",
      " 19%|█▉        | 3/16 [00:03<00:15,  1.17s/it]\u001b[A\n",
      " 25%|██▌       | 4/16 [00:04<00:13,  1.13s/it]\u001b[A\n",
      " 31%|███▏      | 5/16 [00:05<00:12,  1.16s/it]\u001b[A\n",
      " 38%|███▊      | 6/16 [00:06<00:11,  1.12s/it]\u001b[A\n",
      " 44%|████▍     | 7/16 [00:08<00:10,  1.12s/it]\u001b[A\n",
      " 50%|█████     | 8/16 [00:09<00:10,  1.26s/it]\u001b[A\n",
      " 56%|█████▋    | 9/16 [00:10<00:08,  1.23s/it]\u001b[A\n",
      " 62%|██████▎   | 10/16 [00:11<00:07,  1.20s/it]\u001b[A\n",
      " 69%|██████▉   | 11/16 [00:13<00:05,  1.19s/it]\u001b[A\n",
      " 75%|███████▌  | 12/16 [00:14<00:04,  1.15s/it]\u001b[A\n",
      " 81%|████████▏ | 13/16 [00:15<00:03,  1.22s/it]\u001b[A\n",
      " 88%|████████▊ | 14/16 [00:16<00:02,  1.21s/it]\u001b[A\n",
      " 94%|█████████▍| 15/16 [00:17<00:01,  1.17s/it]\u001b[A\n",
      "100%|██████████| 16/16 [00:18<00:00,  1.18s/it]\n",
      " 79%|███████▉  | 328/413 [44:06<33:48, 23.86s/it]"
     ]
    },
    {
     "name": "stdout",
     "output_type": "stream",
     "text": [
      "https://reviews.webmd.com/drugs/drugreview-6969-paroxetine-hcl-suspension-final-dose-form\n"
     ]
    },
    {
     "name": "stderr",
     "output_type": "stream",
     "text": [
      "\n",
      "  0%|          | 0/16 [00:00<?, ?it/s]\u001b[A\n",
      "  6%|▋         | 1/16 [00:01<00:18,  1.20s/it]\u001b[A\n",
      " 12%|█▎        | 2/16 [00:02<00:17,  1.26s/it]\u001b[A\n",
      " 19%|█▉        | 3/16 [00:03<00:16,  1.29s/it]\u001b[A\n",
      " 25%|██▌       | 4/16 [00:05<00:15,  1.29s/it]\u001b[A\n",
      " 31%|███▏      | 5/16 [00:06<00:13,  1.22s/it]\u001b[A\n",
      " 38%|███▊      | 6/16 [00:07<00:11,  1.17s/it]\u001b[A\n",
      " 44%|████▍     | 7/16 [00:08<00:10,  1.20s/it]\u001b[A\n",
      " 50%|█████     | 8/16 [00:10<00:10,  1.30s/it]\u001b[A\n",
      " 56%|█████▋    | 9/16 [00:11<00:08,  1.23s/it]\u001b[A\n",
      " 62%|██████▎   | 10/16 [00:12<00:07,  1.17s/it]\u001b[A\n",
      " 69%|██████▉   | 11/16 [00:13<00:05,  1.19s/it]\u001b[A\n",
      " 75%|███████▌  | 12/16 [00:15<00:06,  1.52s/it]\u001b[A\n",
      " 81%|████████▏ | 13/16 [00:17<00:04,  1.51s/it]\u001b[A\n",
      " 88%|████████▊ | 14/16 [00:18<00:02,  1.38s/it]\u001b[A\n",
      " 94%|█████████▍| 15/16 [00:19<00:01,  1.32s/it]\u001b[A\n",
      "100%|██████████| 16/16 [00:20<00:00,  1.29s/it]\n",
      " 80%|███████▉  | 329/413 [44:28<32:31, 23.23s/it]"
     ]
    },
    {
     "name": "stdout",
     "output_type": "stream",
     "text": [
      "https://reviews.webmd.com/drugs/drugreview-6997-prozac\n"
     ]
    },
    {
     "name": "stderr",
     "output_type": "stream",
     "text": [
      "\n",
      "  0%|          | 0/88 [00:00<?, ?it/s]\u001b[A\n",
      "  1%|          | 1/88 [00:01<01:45,  1.22s/it]\u001b[A\n",
      "  2%|▏         | 2/88 [00:02<01:56,  1.36s/it]\u001b[A\n",
      "  3%|▎         | 3/88 [00:03<01:49,  1.29s/it]\u001b[A\n",
      "  5%|▍         | 4/88 [00:05<01:44,  1.25s/it]\u001b[A\n",
      "  6%|▌         | 5/88 [00:06<01:42,  1.23s/it]\u001b[A\n",
      "  7%|▋         | 6/88 [00:07<01:36,  1.18s/it]\u001b[A\n",
      "  8%|▊         | 7/88 [00:08<01:40,  1.24s/it]\u001b[A\n",
      "  9%|▉         | 8/88 [00:09<01:37,  1.22s/it]\u001b[A\n",
      " 10%|█         | 9/88 [00:11<01:34,  1.19s/it]\u001b[A\n",
      " 11%|█▏        | 10/88 [00:12<01:33,  1.20s/it]\u001b[A\n",
      " 12%|█▎        | 11/88 [00:13<01:33,  1.21s/it]\u001b[A\n",
      " 14%|█▎        | 12/88 [00:14<01:32,  1.22s/it]\u001b[A\n",
      " 15%|█▍        | 13/88 [00:16<01:40,  1.34s/it]\u001b[A\n",
      " 16%|█▌        | 14/88 [00:17<01:35,  1.29s/it]\u001b[A\n",
      " 17%|█▋        | 15/88 [00:18<01:31,  1.26s/it]\u001b[A\n",
      " 18%|█▊        | 16/88 [00:19<01:29,  1.25s/it]\u001b[A\n",
      " 19%|█▉        | 17/88 [00:21<01:25,  1.20s/it]\u001b[A\n",
      " 20%|██        | 18/88 [00:22<01:25,  1.23s/it]\u001b[A\n",
      " 22%|██▏       | 19/88 [00:23<01:23,  1.21s/it]\u001b[A\n",
      " 23%|██▎       | 20/88 [00:24<01:22,  1.22s/it]\u001b[A\n",
      " 24%|██▍       | 21/88 [00:25<01:21,  1.22s/it]\u001b[A\n",
      " 25%|██▌       | 22/88 [00:27<01:20,  1.22s/it]\u001b[A\n",
      " 26%|██▌       | 23/88 [00:28<01:19,  1.22s/it]\u001b[A\n",
      " 27%|██▋       | 24/88 [00:29<01:24,  1.32s/it]\u001b[A\n",
      " 28%|██▊       | 25/88 [00:31<01:20,  1.28s/it]\u001b[A\n",
      " 30%|██▉       | 26/88 [00:32<01:15,  1.22s/it]\u001b[A\n",
      " 31%|███       | 27/88 [00:33<01:11,  1.18s/it]\u001b[A\n",
      " 32%|███▏      | 28/88 [00:34<01:09,  1.15s/it]\u001b[A\n",
      " 33%|███▎      | 29/88 [00:35<01:09,  1.18s/it]\u001b[A\n",
      " 34%|███▍      | 30/88 [00:37<01:14,  1.29s/it]\u001b[A\n",
      " 35%|███▌      | 31/88 [00:38<01:10,  1.24s/it]\u001b[A\n",
      " 36%|███▋      | 32/88 [00:39<01:07,  1.21s/it]\u001b[A\n",
      " 38%|███▊      | 33/88 [00:40<01:06,  1.20s/it]\u001b[A\n",
      " 39%|███▊      | 34/88 [00:41<01:02,  1.16s/it]\u001b[A\n",
      " 40%|███▉      | 35/88 [00:43<01:06,  1.25s/it]\u001b[A\n",
      " 41%|████      | 36/88 [00:44<01:02,  1.20s/it]\u001b[A\n",
      " 42%|████▏     | 37/88 [00:45<01:02,  1.22s/it]\u001b[A\n",
      " 43%|████▎     | 38/88 [00:46<00:59,  1.20s/it]\u001b[A\n",
      " 44%|████▍     | 39/88 [00:47<00:57,  1.16s/it]\u001b[A\n",
      " 45%|████▌     | 40/88 [00:48<00:56,  1.19s/it]\u001b[A\n",
      " 47%|████▋     | 41/88 [00:50<00:57,  1.22s/it]\u001b[A\n",
      " 48%|████▊     | 42/88 [00:51<00:56,  1.22s/it]\u001b[A\n",
      " 49%|████▉     | 43/88 [00:52<00:54,  1.22s/it]\u001b[A\n",
      " 50%|█████     | 44/88 [00:53<00:52,  1.19s/it]\u001b[A\n",
      " 51%|█████     | 45/88 [00:55<00:51,  1.21s/it]\u001b[A\n",
      " 52%|█████▏    | 46/88 [00:56<00:52,  1.24s/it]\u001b[A\n",
      " 53%|█████▎    | 47/88 [00:57<00:49,  1.21s/it]\u001b[A\n",
      " 55%|█████▍    | 48/88 [00:58<00:48,  1.20s/it]\u001b[A\n",
      " 56%|█████▌    | 49/88 [00:59<00:46,  1.20s/it]\u001b[A\n",
      " 57%|█████▋    | 50/88 [01:01<00:45,  1.20s/it]\u001b[A\n",
      " 58%|█████▊    | 51/88 [01:02<00:43,  1.16s/it]\u001b[A\n",
      " 59%|█████▉    | 52/88 [01:03<00:42,  1.19s/it]\u001b[A\n",
      " 60%|██████    | 53/88 [01:04<00:40,  1.17s/it]\u001b[A\n",
      " 61%|██████▏   | 54/88 [01:05<00:40,  1.18s/it]\u001b[A\n",
      " 62%|██████▎   | 55/88 [01:06<00:39,  1.19s/it]\u001b[A\n",
      " 64%|██████▎   | 56/88 [01:08<00:37,  1.17s/it]\u001b[A\n",
      " 65%|██████▍   | 57/88 [01:09<00:39,  1.26s/it]\u001b[A\n",
      " 66%|██████▌   | 58/88 [01:10<00:36,  1.20s/it]\u001b[A\n",
      " 67%|██████▋   | 59/88 [01:11<00:33,  1.16s/it]\u001b[A\n",
      " 68%|██████▊   | 60/88 [01:12<00:32,  1.16s/it]\u001b[A\n",
      " 69%|██████▉   | 61/88 [01:14<00:31,  1.17s/it]\u001b[A\n",
      " 70%|███████   | 62/88 [01:15<00:30,  1.18s/it]\u001b[A\n",
      " 72%|███████▏  | 63/88 [01:16<00:31,  1.24s/it]\u001b[A\n",
      " 73%|███████▎  | 64/88 [01:17<00:29,  1.22s/it]\u001b[A\n",
      " 74%|███████▍  | 65/88 [01:18<00:27,  1.18s/it]\u001b[A\n",
      " 75%|███████▌  | 66/88 [01:20<00:25,  1.17s/it]\u001b[A\n",
      " 76%|███████▌  | 67/88 [01:21<00:24,  1.18s/it]\u001b[A\n",
      " 77%|███████▋  | 68/88 [01:22<00:26,  1.33s/it]\u001b[A\n",
      " 78%|███████▊  | 69/88 [01:24<00:23,  1.26s/it]\u001b[A\n",
      " 80%|███████▉  | 70/88 [01:25<00:21,  1.20s/it]\u001b[A\n",
      " 81%|████████  | 71/88 [01:26<00:19,  1.16s/it]\u001b[A\n",
      " 82%|████████▏ | 72/88 [01:27<00:18,  1.13s/it]\u001b[A\n",
      " 83%|████████▎ | 73/88 [01:28<00:16,  1.11s/it]\u001b[A\n",
      " 84%|████████▍ | 74/88 [01:29<00:16,  1.20s/it]\u001b[A\n",
      " 85%|████████▌ | 75/88 [01:30<00:15,  1.20s/it]\u001b[A\n",
      " 86%|████████▋ | 76/88 [01:31<00:14,  1.17s/it]\u001b[A\n",
      " 88%|████████▊ | 77/88 [01:33<00:12,  1.15s/it]\u001b[A\n",
      " 89%|████████▊ | 78/88 [01:34<00:11,  1.18s/it]\u001b[A\n",
      " 90%|████████▉ | 79/88 [01:35<00:11,  1.26s/it]\u001b[A\n",
      " 91%|█████████ | 80/88 [01:36<00:09,  1.23s/it]\u001b[A\n",
      " 92%|█████████▏| 81/88 [01:38<00:08,  1.23s/it]\u001b[A\n",
      " 93%|█████████▎| 82/88 [01:39<00:07,  1.20s/it]\u001b[A\n",
      " 94%|█████████▍| 83/88 [01:40<00:05,  1.20s/it]\u001b[A\n",
      " 95%|█████████▌| 84/88 [01:41<00:04,  1.16s/it]\u001b[A\n",
      " 97%|█████████▋| 85/88 [01:43<00:03,  1.26s/it]\u001b[A\n",
      " 98%|█████████▊| 86/88 [01:44<00:02,  1.23s/it]\u001b[A\n",
      " 99%|█████████▉| 87/88 [01:45<00:01,  1.20s/it]\u001b[A\n",
      "100%|██████████| 88/88 [01:46<00:00,  1.21s/it]\n",
      " 80%|███████▉  | 330/413 [46:17<1:07:52, 49.07s/it]"
     ]
    },
    {
     "name": "stdout",
     "output_type": "stream",
     "text": [
      "https://reviews.webmd.com/drugs/drugreview-6997-prozac-capsule\n"
     ]
    },
    {
     "name": "stderr",
     "output_type": "stream",
     "text": [
      "\n",
      "  0%|          | 0/88 [00:00<?, ?it/s]\u001b[A\n",
      "  1%|          | 1/88 [00:01<01:35,  1.10s/it]\u001b[A\n",
      "  2%|▏         | 2/88 [00:02<01:55,  1.34s/it]\u001b[A\n",
      "  3%|▎         | 3/88 [00:03<01:48,  1.27s/it]\u001b[A\n",
      "  5%|▍         | 4/88 [00:04<01:40,  1.20s/it]\u001b[A\n",
      "  6%|▌         | 5/88 [00:06<01:42,  1.24s/it]\u001b[A\n",
      "  7%|▋         | 6/88 [00:07<01:37,  1.19s/it]\u001b[A\n",
      "  8%|▊         | 7/88 [00:08<01:43,  1.27s/it]\u001b[A\n",
      "  9%|▉         | 8/88 [00:09<01:39,  1.25s/it]\u001b[A\n",
      " 10%|█         | 9/88 [00:11<01:35,  1.21s/it]\u001b[A\n",
      " 11%|█▏        | 10/88 [00:13<01:52,  1.44s/it]\u001b[A\n",
      " 12%|█▎        | 11/88 [00:14<01:45,  1.38s/it]\u001b[A\n",
      " 14%|█▎        | 12/88 [00:15<01:37,  1.28s/it]\u001b[A\n",
      " 15%|█▍        | 13/88 [00:16<01:41,  1.35s/it]\u001b[A\n",
      " 16%|█▌        | 14/88 [00:18<01:37,  1.31s/it]\u001b[A\n",
      " 17%|█▋        | 15/88 [00:19<01:32,  1.27s/it]\u001b[A\n",
      " 18%|█▊        | 16/88 [00:20<01:32,  1.29s/it]\u001b[A\n",
      " 19%|█▉        | 17/88 [00:21<01:30,  1.27s/it]\u001b[A\n",
      " 20%|██        | 18/88 [00:23<01:33,  1.33s/it]\u001b[A\n",
      " 22%|██▏       | 19/88 [00:24<01:28,  1.29s/it]\u001b[A\n",
      " 23%|██▎       | 20/88 [00:25<01:25,  1.25s/it]\u001b[A\n",
      " 24%|██▍       | 21/88 [00:26<01:22,  1.23s/it]\u001b[A\n",
      " 25%|██▌       | 22/88 [00:27<01:17,  1.18s/it]\u001b[A\n",
      " 26%|██▌       | 23/88 [00:29<01:16,  1.18s/it]\u001b[A\n",
      " 27%|██▋       | 24/88 [00:30<01:20,  1.26s/it]\u001b[A\n",
      " 28%|██▊       | 25/88 [00:31<01:18,  1.24s/it]\u001b[A\n",
      " 30%|██▉       | 26/88 [00:32<01:15,  1.21s/it]\u001b[A\n",
      " 31%|███       | 27/88 [00:34<01:13,  1.21s/it]\u001b[A\n",
      " 32%|███▏      | 28/88 [00:35<01:11,  1.19s/it]\u001b[A\n",
      " 33%|███▎      | 29/88 [00:36<01:10,  1.20s/it]\u001b[A\n",
      " 34%|███▍      | 30/88 [00:37<01:09,  1.20s/it]\u001b[A\n",
      " 35%|███▌      | 31/88 [00:38<01:08,  1.21s/it]\u001b[A\n",
      " 36%|███▋      | 32/88 [00:39<01:06,  1.19s/it]\u001b[A\n",
      " 38%|███▊      | 33/88 [00:41<01:03,  1.16s/it]\u001b[A\n",
      " 39%|███▊      | 34/88 [00:42<01:02,  1.16s/it]\u001b[A\n",
      " 40%|███▉      | 35/88 [00:43<01:05,  1.23s/it]\u001b[A\n",
      " 41%|████      | 36/88 [00:44<01:04,  1.23s/it]\u001b[A\n",
      " 42%|████▏     | 37/88 [00:45<01:01,  1.21s/it]\u001b[A\n",
      " 43%|████▎     | 38/88 [00:47<01:01,  1.22s/it]\u001b[A\n",
      " 44%|████▍     | 39/88 [00:48<00:59,  1.21s/it]\u001b[A\n",
      " 45%|████▌     | 40/88 [00:49<01:02,  1.30s/it]\u001b[A\n",
      " 47%|████▋     | 41/88 [00:51<00:59,  1.27s/it]\u001b[A\n",
      " 48%|████▊     | 42/88 [00:52<00:56,  1.22s/it]\u001b[A\n",
      " 49%|████▉     | 43/88 [00:53<00:52,  1.17s/it]\u001b[A\n",
      " 50%|█████     | 44/88 [00:54<00:52,  1.19s/it]\u001b[A\n",
      " 51%|█████     | 45/88 [00:55<00:51,  1.20s/it]\u001b[A\n",
      " 52%|█████▏    | 46/88 [00:57<00:53,  1.28s/it]\u001b[A\n",
      " 53%|█████▎    | 47/88 [00:58<00:51,  1.27s/it]\u001b[A\n",
      " 55%|█████▍    | 48/88 [00:59<00:49,  1.24s/it]\u001b[A\n",
      " 56%|█████▌    | 49/88 [01:00<00:48,  1.24s/it]\u001b[A\n",
      " 57%|█████▋    | 50/88 [01:02<00:47,  1.24s/it]\u001b[A\n",
      " 58%|█████▊    | 51/88 [01:03<00:48,  1.32s/it]\u001b[A\n",
      " 59%|█████▉    | 52/88 [01:04<00:46,  1.30s/it]\u001b[A\n",
      " 60%|██████    | 53/88 [01:05<00:43,  1.23s/it]\u001b[A\n",
      " 61%|██████▏   | 54/88 [01:07<00:41,  1.23s/it]\u001b[A\n",
      " 62%|██████▎   | 55/88 [01:08<00:40,  1.23s/it]\u001b[A\n",
      " 64%|██████▎   | 56/88 [01:09<00:38,  1.22s/it]\u001b[A\n",
      " 65%|██████▍   | 57/88 [01:10<00:38,  1.24s/it]\u001b[A\n",
      " 66%|██████▌   | 58/88 [01:11<00:35,  1.19s/it]\u001b[A\n",
      " 67%|██████▋   | 59/88 [01:13<00:34,  1.18s/it]\u001b[A\n",
      " 68%|██████▊   | 60/88 [01:14<00:32,  1.18s/it]\u001b[A\n",
      " 69%|██████▉   | 61/88 [01:15<00:32,  1.20s/it]\u001b[A\n",
      " 70%|███████   | 62/88 [01:16<00:31,  1.21s/it]\u001b[A\n",
      " 72%|███████▏  | 63/88 [01:18<00:31,  1.26s/it]\u001b[A\n",
      " 73%|███████▎  | 64/88 [01:19<00:29,  1.24s/it]\u001b[A\n",
      " 74%|███████▍  | 65/88 [01:20<00:27,  1.19s/it]\u001b[A\n",
      " 75%|███████▌  | 66/88 [01:21<00:26,  1.20s/it]\u001b[A\n",
      " 76%|███████▌  | 67/88 [01:22<00:24,  1.17s/it]\u001b[A\n",
      " 77%|███████▋  | 68/88 [01:24<00:25,  1.27s/it]\u001b[A\n",
      " 78%|███████▊  | 69/88 [01:25<00:23,  1.25s/it]\u001b[A\n",
      " 80%|███████▉  | 70/88 [01:26<00:22,  1.23s/it]\u001b[A\n",
      " 81%|████████  | 71/88 [01:27<00:21,  1.24s/it]\u001b[A\n",
      " 82%|████████▏ | 72/88 [01:29<00:19,  1.23s/it]\u001b[A\n",
      " 83%|████████▎ | 73/88 [01:30<00:18,  1.23s/it]\u001b[A\n",
      " 84%|████████▍ | 74/88 [01:31<00:18,  1.31s/it]\u001b[A\n",
      " 85%|████████▌ | 75/88 [01:33<00:16,  1.30s/it]\u001b[A\n",
      " 86%|████████▋ | 76/88 [01:34<00:14,  1.25s/it]\u001b[A\n",
      " 88%|████████▊ | 77/88 [01:35<00:13,  1.21s/it]\u001b[A\n",
      " 89%|████████▊ | 78/88 [01:36<00:11,  1.17s/it]\u001b[A\n",
      " 90%|████████▉ | 79/88 [01:37<00:11,  1.26s/it]\u001b[A\n",
      " 91%|█████████ | 80/88 [01:39<00:10,  1.27s/it]\u001b[A\n",
      " 92%|█████████▏| 81/88 [01:40<00:08,  1.25s/it]\u001b[A\n",
      " 93%|█████████▎| 82/88 [01:41<00:07,  1.25s/it]\u001b[A\n",
      " 94%|█████████▍| 83/88 [01:42<00:06,  1.28s/it]\u001b[A\n",
      " 95%|█████████▌| 84/88 [01:44<00:05,  1.25s/it]\u001b[A\n",
      " 97%|█████████▋| 85/88 [01:45<00:03,  1.29s/it]\u001b[A\n",
      " 98%|█████████▊| 86/88 [01:46<00:02,  1.29s/it]\u001b[A\n",
      " 99%|█████████▉| 87/88 [01:47<00:01,  1.24s/it]\u001b[A\n",
      "100%|██████████| 88/88 [01:49<00:00,  1.24s/it]\n",
      " 80%|████████  | 331/413 [48:08<1:32:09, 67.43s/it]"
     ]
    },
    {
     "name": "stdout",
     "output_type": "stream",
     "text": [
      "https://reviews.webmd.com/drugs/drugreview-7023-sectral-capsule\n"
     ]
    },
    {
     "name": "stderr",
     "output_type": "stream",
     "text": [
      "\n",
      "  0%|          | 0/1 [00:00<?, ?it/s]\u001b[A\n",
      "100%|██████████| 1/1 [00:01<00:00,  1.19s/it]\n",
      " 80%|████████  | 332/413 [48:11<1:05:04, 48.20s/it]"
     ]
    },
    {
     "name": "stdout",
     "output_type": "stream",
     "text": [
      "https://reviews.webmd.com/drugs/drugreview-7031-surmontil-capsule\n"
     ]
    },
    {
     "name": "stderr",
     "output_type": "stream",
     "text": [
      "\n",
      "  0%|          | 0/1 [00:00<?, ?it/s]\u001b[A\n",
      "100%|██████████| 1/1 [00:00<00:00,  1.18it/s]\n",
      " 81%|████████  | 333/413 [48:14<46:13, 34.67s/it]  "
     ]
    },
    {
     "name": "stdout",
     "output_type": "stream",
     "text": [
      "https://reviews.webmd.com/drugs/drugreview-7032-trimipramine-maleate\n"
     ]
    },
    {
     "name": "stderr",
     "output_type": "stream",
     "text": [
      "\n",
      "  0%|          | 0/1 [00:00<?, ?it/s]\u001b[A\n",
      "100%|██████████| 1/1 [00:00<00:00,  1.45it/s]\n",
      " 81%|████████  | 335/413 [48:18<23:25, 18.02s/it]"
     ]
    },
    {
     "name": "stdout",
     "output_type": "stream",
     "text": [
      "skipping https://reviews.webmd.com/drugs/drugreview-7044-thorazine-suppository: page not found\n",
      "https://reviews.webmd.com/drugs/drugreview-7047-tofranil-tablet\n"
     ]
    },
    {
     "name": "stderr",
     "output_type": "stream",
     "text": [
      "\n",
      "  0%|          | 0/3 [00:00<?, ?it/s]\u001b[A\n",
      " 33%|███▎      | 1/3 [00:01<00:02,  1.11s/it]\u001b[A\n",
      " 67%|██████▋   | 2/3 [00:02<00:01,  1.10s/it]\u001b[A\n",
      "100%|██████████| 3/3 [00:03<00:00,  1.16s/it]\n",
      " 81%|████████▏ | 336/413 [48:25<18:36, 14.50s/it]"
     ]
    },
    {
     "name": "stdout",
     "output_type": "stream",
     "text": [
      "https://reviews.webmd.com/drugs/drugreview-7048-tofranil-pm-capsule\n"
     ]
    },
    {
     "name": "stderr",
     "output_type": "stream",
     "text": [
      "\n",
      "  0%|          | 0/2 [00:00<?, ?it/s]\u001b[A\n",
      " 50%|█████     | 1/2 [00:01<00:01,  1.21s/it]\u001b[A\n",
      "100%|██████████| 2/2 [00:02<00:00,  1.18s/it]\n",
      " 82%|████████▏ | 337/413 [48:29<14:40, 11.58s/it]"
     ]
    },
    {
     "name": "stdout",
     "output_type": "stream",
     "text": [
      "https://reviews.webmd.com/drugs/drugreview-7049-imipramine-pamoate\n"
     ]
    },
    {
     "name": "stderr",
     "output_type": "stream",
     "text": [
      "\n",
      "  0%|          | 0/1 [00:00<?, ?it/s]\u001b[A\n",
      "100%|██████████| 1/1 [00:01<00:00,  1.08s/it]\n",
      " 82%|████████▏ | 338/413 [48:33<11:28,  9.18s/it]"
     ]
    },
    {
     "name": "stdout",
     "output_type": "stream",
     "text": [
      "https://reviews.webmd.com/drugs/drugreview-7064-triavil-tablet\n"
     ]
    },
    {
     "name": "stderr",
     "output_type": "stream",
     "text": [
      "\n",
      "  0%|          | 0/1 [00:00<?, ?it/s]\u001b[A\n",
      "100%|██████████| 1/1 [00:01<00:00,  1.11s/it]\n",
      " 82%|████████▏ | 339/413 [48:36<09:01,  7.32s/it]"
     ]
    },
    {
     "name": "stdout",
     "output_type": "stream",
     "text": [
      "https://reviews.webmd.com/drugs/drugreview-7065-triavil-tablet\n"
     ]
    },
    {
     "name": "stderr",
     "output_type": "stream",
     "text": [
      "\n",
      "  0%|          | 0/1 [00:00<?, ?it/s]\u001b[A\n",
      "100%|██████████| 1/1 [00:00<00:00,  1.18it/s]\n",
      " 82%|████████▏ | 340/413 [48:39<07:16,  5.98s/it]"
     ]
    },
    {
     "name": "stdout",
     "output_type": "stream",
     "text": [
      "https://reviews.webmd.com/drugs/drugreview-7066-triavil-tablet\n"
     ]
    },
    {
     "name": "stderr",
     "output_type": "stream",
     "text": [
      "\n",
      "  0%|          | 0/1 [00:00<?, ?it/s]\u001b[A\n",
      "100%|██████████| 1/1 [00:00<00:00,  1.42it/s]\n",
      " 83%|████████▎ | 341/413 [48:41<05:58,  4.98s/it]"
     ]
    },
    {
     "name": "stdout",
     "output_type": "stream",
     "text": [
      "https://reviews.webmd.com/drugs/drugreview-7068-trilafon-tablet\n"
     ]
    },
    {
     "name": "stderr",
     "output_type": "stream",
     "text": [
      "\n",
      "  0%|          | 0/2 [00:00<?, ?it/s]\u001b[A\n",
      " 50%|█████     | 1/2 [00:01<00:01,  1.18s/it]\u001b[A\n",
      "100%|██████████| 2/2 [00:02<00:00,  1.12s/it]\n",
      " 83%|████████▎ | 342/413 [48:46<05:42,  4.82s/it]"
     ]
    },
    {
     "name": "stdout",
     "output_type": "stream",
     "text": [
      "https://reviews.webmd.com/drugs/drugreview-7092-hydroxyzine-pamoate\n"
     ]
    },
    {
     "name": "stderr",
     "output_type": "stream",
     "text": [
      "\n",
      "  0%|          | 0/14 [00:00<?, ?it/s]\u001b[A\n",
      "  7%|▋         | 1/14 [00:01<00:15,  1.21s/it]\u001b[A\n",
      " 14%|█▍        | 2/14 [00:02<00:14,  1.17s/it]\u001b[A\n",
      " 21%|██▏       | 3/14 [00:03<00:13,  1.26s/it]\u001b[A\n",
      " 29%|██▊       | 4/14 [00:04<00:12,  1.25s/it]\u001b[A\n",
      " 36%|███▌      | 5/14 [00:06<00:10,  1.22s/it]\u001b[A\n",
      " 43%|████▎     | 6/14 [00:07<00:09,  1.24s/it]\u001b[A\n",
      " 50%|█████     | 7/14 [00:08<00:09,  1.31s/it]\u001b[A\n",
      " 57%|█████▋    | 8/14 [00:10<00:07,  1.33s/it]\u001b[A\n",
      " 64%|██████▍   | 9/14 [00:11<00:06,  1.25s/it]\u001b[A\n",
      " 71%|███████▏  | 10/14 [00:12<00:05,  1.25s/it]\u001b[A\n",
      " 79%|███████▊  | 11/14 [00:14<00:03,  1.32s/it]\u001b[A\n",
      " 86%|████████▌ | 12/14 [00:15<00:02,  1.29s/it]\u001b[A\n",
      " 93%|█████████▎| 13/14 [00:16<00:01,  1.24s/it]\u001b[A\n",
      "100%|██████████| 14/14 [00:17<00:00,  1.25s/it]\n",
      " 83%|████████▎ | 343/413 [49:06<10:55,  9.36s/it]"
     ]
    },
    {
     "name": "stdout",
     "output_type": "stream",
     "text": [
      "https://reviews.webmd.com/drugs/drugreview-7452-valium-solution\n"
     ]
    },
    {
     "name": "stderr",
     "output_type": "stream",
     "text": [
      "\n",
      "  0%|          | 0/1 [00:00<?, ?it/s]\u001b[A\n",
      "100%|██████████| 1/1 [00:00<00:00,  1.47it/s]\n",
      " 83%|████████▎ | 344/413 [49:08<08:24,  7.31s/it]"
     ]
    },
    {
     "name": "stdout",
     "output_type": "stream",
     "text": [
      "https://reviews.webmd.com/drugs/drugreview-75142-risperdal-m-tab-tablet-disintegrating\n"
     ]
    },
    {
     "name": "stderr",
     "output_type": "stream",
     "text": [
      "\n",
      "  0%|          | 0/1 [00:00<?, ?it/s]\u001b[A\n",
      "100%|██████████| 1/1 [00:01<00:00,  1.16s/it]\n",
      " 84%|████████▎ | 345/413 [49:12<06:58,  6.15s/it]"
     ]
    },
    {
     "name": "stdout",
     "output_type": "stream",
     "text": [
      "https://reviews.webmd.com/drugs/drugreview-7681-hydroxyzine-hcl\n"
     ]
    },
    {
     "name": "stderr",
     "output_type": "stream",
     "text": [
      "\n",
      "  0%|          | 0/35 [00:00<?, ?it/s]\u001b[A\n",
      "  3%|▎         | 1/35 [00:01<00:39,  1.17s/it]\u001b[A\n",
      "  6%|▌         | 2/35 [00:02<00:37,  1.14s/it]\u001b[A\n",
      "  9%|▊         | 3/35 [00:03<00:36,  1.13s/it]\u001b[A\n",
      " 11%|█▏        | 4/35 [00:04<00:36,  1.18s/it]\u001b[A\n",
      " 14%|█▍        | 5/35 [00:06<00:38,  1.27s/it]\u001b[A\n",
      " 17%|█▋        | 6/35 [00:07<00:36,  1.24s/it]\u001b[A\n",
      " 20%|██        | 7/35 [00:08<00:33,  1.19s/it]\u001b[A\n",
      " 23%|██▎       | 8/35 [00:09<00:31,  1.17s/it]\u001b[A\n",
      " 26%|██▌       | 9/35 [00:10<00:30,  1.17s/it]\u001b[A\n",
      " 29%|██▊       | 10/35 [00:11<00:29,  1.18s/it]\u001b[A\n",
      " 31%|███▏      | 11/35 [00:13<00:30,  1.26s/it]\u001b[A\n",
      " 34%|███▍      | 12/35 [00:14<00:27,  1.21s/it]\u001b[A\n",
      " 37%|███▋      | 13/35 [00:15<00:26,  1.18s/it]\u001b[A\n",
      " 40%|████      | 14/35 [00:16<00:24,  1.15s/it]\u001b[A\n",
      " 43%|████▎     | 15/35 [00:17<00:22,  1.13s/it]\u001b[A\n",
      " 46%|████▌     | 16/35 [00:18<00:21,  1.14s/it]\u001b[A\n",
      " 49%|████▊     | 17/35 [00:20<00:21,  1.20s/it]\u001b[A\n",
      " 51%|█████▏    | 18/35 [00:21<00:23,  1.37s/it]\u001b[A\n",
      " 54%|█████▍    | 19/35 [00:23<00:20,  1.30s/it]\u001b[A\n",
      " 57%|█████▋    | 20/35 [00:24<00:18,  1.24s/it]\u001b[A\n",
      " 60%|██████    | 21/35 [00:25<00:17,  1.23s/it]\u001b[A\n",
      " 63%|██████▎   | 22/35 [00:26<00:17,  1.32s/it]\u001b[A\n",
      " 66%|██████▌   | 23/35 [00:28<00:15,  1.30s/it]\u001b[A\n",
      " 69%|██████▊   | 24/35 [00:29<00:13,  1.24s/it]\u001b[A\n",
      " 71%|███████▏  | 25/35 [00:30<00:12,  1.23s/it]\u001b[A\n",
      " 74%|███████▍  | 26/35 [00:31<00:10,  1.22s/it]\u001b[A\n",
      " 77%|███████▋  | 27/35 [00:32<00:09,  1.22s/it]\u001b[A\n",
      " 80%|████████  | 28/35 [00:34<00:09,  1.30s/it]\u001b[A\n",
      " 83%|████████▎ | 29/35 [00:35<00:07,  1.27s/it]\u001b[A\n",
      " 86%|████████▌ | 30/35 [00:36<00:06,  1.26s/it]\u001b[A\n",
      " 89%|████████▊ | 31/35 [00:37<00:04,  1.22s/it]\u001b[A\n",
      " 91%|█████████▏| 32/35 [00:39<00:03,  1.20s/it]\u001b[A\n",
      " 94%|█████████▍| 33/35 [00:40<00:02,  1.18s/it]\u001b[A\n",
      " 97%|█████████▋| 34/35 [00:41<00:01,  1.27s/it]\u001b[A\n",
      "100%|██████████| 35/35 [00:42<00:00,  1.22s/it]\n",
      " 84%|████████▍ | 346/413 [49:57<20:00, 17.92s/it]"
     ]
    },
    {
     "name": "stdout",
     "output_type": "stream",
     "text": [
      "https://reviews.webmd.com/drugs/drugreview-76851-wellbutrin-xl\n"
     ]
    },
    {
     "name": "stderr",
     "output_type": "stream",
     "text": [
      "\n",
      "  0%|          | 0/86 [00:00<?, ?it/s]\u001b[A\n",
      "  1%|          | 1/86 [00:01<01:46,  1.25s/it]\u001b[A\n",
      "  2%|▏         | 2/86 [00:02<01:39,  1.18s/it]\u001b[A\n",
      "  3%|▎         | 3/86 [00:03<01:43,  1.25s/it]\u001b[A\n",
      "  5%|▍         | 4/86 [00:05<01:49,  1.33s/it]\u001b[A\n",
      "  6%|▌         | 5/86 [00:06<01:46,  1.31s/it]\u001b[A\n",
      "  7%|▋         | 6/86 [00:07<01:40,  1.26s/it]\u001b[A\n",
      "  8%|▊         | 7/86 [00:08<01:38,  1.24s/it]\u001b[A\n",
      "  9%|▉         | 8/86 [00:10<01:36,  1.24s/it]\u001b[A\n",
      " 10%|█         | 9/86 [00:11<01:42,  1.34s/it]\u001b[A\n",
      " 12%|█▏        | 10/86 [00:12<01:38,  1.29s/it]\u001b[A\n",
      " 13%|█▎        | 11/86 [00:14<01:37,  1.30s/it]\u001b[A\n",
      " 14%|█▍        | 12/86 [00:15<01:32,  1.25s/it]\u001b[A\n",
      " 15%|█▌        | 13/86 [00:16<01:30,  1.24s/it]\u001b[A\n",
      " 16%|█▋        | 14/86 [00:18<01:36,  1.34s/it]\u001b[A\n",
      " 17%|█▋        | 15/86 [00:19<01:33,  1.32s/it]\u001b[A\n",
      " 19%|█▊        | 16/86 [00:20<01:30,  1.29s/it]\u001b[A\n",
      " 20%|█▉        | 17/86 [00:21<01:28,  1.28s/it]\u001b[A\n",
      " 21%|██        | 18/86 [00:23<01:25,  1.26s/it]\u001b[A\n",
      " 22%|██▏       | 19/86 [00:24<01:22,  1.23s/it]\u001b[A\n",
      " 23%|██▎       | 20/86 [00:25<01:27,  1.33s/it]\u001b[A\n",
      " 24%|██▍       | 21/86 [00:26<01:23,  1.29s/it]\u001b[A\n",
      " 26%|██▌       | 22/86 [00:28<01:21,  1.27s/it]\u001b[A\n",
      " 27%|██▋       | 23/86 [00:29<01:16,  1.21s/it]\u001b[A\n",
      " 28%|██▊       | 24/86 [00:30<01:15,  1.21s/it]\u001b[A\n",
      " 29%|██▉       | 25/86 [00:31<01:15,  1.23s/it]\u001b[A\n",
      " 30%|███       | 26/86 [00:32<01:13,  1.23s/it]\u001b[A\n",
      " 31%|███▏      | 27/86 [00:34<01:12,  1.23s/it]\u001b[A\n",
      " 33%|███▎      | 28/86 [00:35<01:11,  1.23s/it]\u001b[A\n",
      " 34%|███▎      | 29/86 [00:36<01:09,  1.21s/it]\u001b[A\n",
      " 35%|███▍      | 30/86 [00:37<01:08,  1.22s/it]\u001b[A\n",
      " 36%|███▌      | 31/86 [00:39<01:12,  1.31s/it]\u001b[A\n",
      " 37%|███▋      | 32/86 [00:40<01:09,  1.29s/it]\u001b[A\n",
      " 38%|███▊      | 33/86 [00:41<01:08,  1.29s/it]\u001b[A\n",
      " 40%|███▉      | 34/86 [00:42<01:04,  1.23s/it]\u001b[A\n",
      " 41%|████      | 35/86 [00:44<01:01,  1.21s/it]\u001b[A\n",
      " 42%|████▏     | 36/86 [00:45<01:02,  1.25s/it]\u001b[A\n",
      " 43%|████▎     | 37/86 [00:46<01:01,  1.25s/it]\u001b[A\n",
      " 44%|████▍     | 38/86 [00:47<00:59,  1.24s/it]\u001b[A\n",
      " 45%|████▌     | 39/86 [00:49<00:58,  1.24s/it]\u001b[A\n",
      " 47%|████▋     | 40/86 [00:50<00:55,  1.21s/it]\u001b[A\n",
      " 48%|████▊     | 41/86 [00:51<00:54,  1.21s/it]\u001b[A\n",
      " 49%|████▉     | 42/86 [00:53<00:57,  1.30s/it]\u001b[A\n",
      " 50%|█████     | 43/86 [00:54<00:54,  1.26s/it]\u001b[A\n",
      " 51%|█████     | 44/86 [00:55<00:50,  1.20s/it]\u001b[A\n",
      " 52%|█████▏    | 45/86 [00:56<00:49,  1.21s/it]\u001b[A\n",
      " 53%|█████▎    | 46/86 [00:57<00:48,  1.22s/it]\u001b[A\n",
      " 55%|█████▍    | 47/86 [00:59<00:48,  1.25s/it]\u001b[A\n",
      " 56%|█████▌    | 48/86 [01:00<00:48,  1.27s/it]\u001b[A\n",
      " 57%|█████▋    | 49/86 [01:01<00:45,  1.22s/it]\u001b[A\n",
      " 58%|█████▊    | 50/86 [01:02<00:43,  1.21s/it]\u001b[A\n",
      " 59%|█████▉    | 51/86 [01:03<00:42,  1.22s/it]\u001b[A\n",
      " 60%|██████    | 52/86 [01:05<00:41,  1.22s/it]\u001b[A\n",
      " 62%|██████▏   | 53/86 [01:06<00:44,  1.35s/it]\u001b[A\n",
      " 63%|██████▎   | 54/86 [01:07<00:41,  1.30s/it]\u001b[A\n",
      " 64%|██████▍   | 55/86 [01:09<00:39,  1.27s/it]\u001b[A\n",
      " 65%|██████▌   | 56/86 [01:10<00:37,  1.24s/it]\u001b[A\n",
      " 66%|██████▋   | 57/86 [01:11<00:34,  1.20s/it]\u001b[A\n",
      " 67%|██████▋   | 58/86 [01:12<00:33,  1.20s/it]\u001b[A\n",
      " 69%|██████▊   | 59/86 [01:14<00:35,  1.30s/it]\u001b[A\n",
      " 70%|██████▉   | 60/86 [01:15<00:32,  1.25s/it]\u001b[A\n",
      " 71%|███████   | 61/86 [01:16<00:31,  1.28s/it]\u001b[A\n",
      " 72%|███████▏  | 62/86 [01:17<00:29,  1.24s/it]\u001b[A\n",
      " 73%|███████▎  | 63/86 [01:18<00:27,  1.20s/it]\u001b[A\n",
      " 74%|███████▍  | 64/86 [01:20<00:28,  1.31s/it]\u001b[A\n",
      " 76%|███████▌  | 65/86 [01:21<00:27,  1.29s/it]\u001b[A\n",
      " 77%|███████▋  | 66/86 [01:22<00:24,  1.25s/it]\u001b[A\n",
      " 78%|███████▊  | 67/86 [01:24<00:23,  1.23s/it]\u001b[A\n",
      " 79%|███████▉  | 68/86 [01:25<00:22,  1.25s/it]\u001b[A\n",
      " 80%|████████  | 69/86 [01:26<00:21,  1.24s/it]\u001b[A\n",
      " 81%|████████▏ | 70/86 [01:28<00:21,  1.32s/it]\u001b[A\n",
      " 83%|████████▎ | 71/86 [01:29<00:19,  1.29s/it]\u001b[A\n",
      " 84%|████████▎ | 72/86 [01:30<00:17,  1.26s/it]\u001b[A\n",
      " 85%|████████▍ | 73/86 [01:31<00:15,  1.21s/it]\u001b[A\n",
      " 86%|████████▌ | 74/86 [01:32<00:15,  1.25s/it]\u001b[A\n",
      " 87%|████████▋ | 75/86 [01:34<00:14,  1.32s/it]\u001b[A\n",
      " 88%|████████▊ | 76/86 [01:35<00:13,  1.31s/it]\u001b[A\n",
      " 90%|████████▉ | 77/86 [01:36<00:11,  1.27s/it]\u001b[A\n",
      " 91%|█████████ | 78/86 [01:38<00:09,  1.25s/it]\u001b[A\n",
      " 92%|█████████▏| 79/86 [01:39<00:08,  1.21s/it]\u001b[A\n",
      " 93%|█████████▎| 80/86 [01:40<00:07,  1.23s/it]\u001b[A\n",
      " 94%|█████████▍| 81/86 [01:41<00:06,  1.30s/it]\u001b[A\n",
      " 95%|█████████▌| 82/86 [01:43<00:05,  1.27s/it]\u001b[A\n",
      " 97%|█████████▋| 83/86 [01:44<00:03,  1.29s/it]\u001b[A\n",
      " 98%|█████████▊| 84/86 [01:45<00:02,  1.27s/it]\u001b[A\n",
      " 99%|█████████▉| 85/86 [01:47<00:01,  1.29s/it]\u001b[A\n",
      "100%|██████████| 86/86 [01:48<00:00,  1.26s/it]\n",
      " 84%|████████▍ | 348/413 [51:50<35:13, 32.51s/it]"
     ]
    },
    {
     "name": "stdout",
     "output_type": "stream",
     "text": [
      "skipping https://reviews.webmd.com/drugs/drugreview-76899-tranxene-sd-tablet-er: page not found\n",
      "https://reviews.webmd.com/drugs/drugreview-77659-risperidone-er-vial\n"
     ]
    },
    {
     "name": "stderr",
     "output_type": "stream",
     "text": [
      "\n",
      "  0%|          | 0/1 [00:00<?, ?it/s]\u001b[A\n",
      "100%|██████████| 1/1 [00:00<00:00,  1.29it/s]\n",
      " 85%|████████▍ | 349/413 [51:52<25:10, 23.60s/it]"
     ]
    },
    {
     "name": "stdout",
     "output_type": "stream",
     "text": [
      "https://reviews.webmd.com/drugs/drugreview-77667-risperdal-consta-vial\n"
     ]
    },
    {
     "name": "stderr",
     "output_type": "stream",
     "text": [
      "\n",
      "  0%|          | 0/3 [00:00<?, ?it/s]\u001b[A\n",
      " 33%|███▎      | 1/3 [00:01<00:02,  1.21s/it]\u001b[A\n",
      " 67%|██████▋   | 2/3 [00:02<00:01,  1.18s/it]\u001b[A\n",
      "100%|██████████| 3/3 [00:03<00:00,  1.20s/it]\n",
      " 85%|████████▍ | 350/413 [51:58<19:07, 18.22s/it]"
     ]
    },
    {
     "name": "stdout",
     "output_type": "stream",
     "text": [
      "https://reviews.webmd.com/drugs/drugreview-78093-paroxetine-mesylate-tablet\n"
     ]
    },
    {
     "name": "stderr",
     "output_type": "stream",
     "text": [
      "\n",
      "  0%|          | 0/1 [00:00<?, ?it/s]\u001b[A\n",
      "100%|██████████| 1/1 [00:01<00:00,  1.20s/it]\n",
      " 85%|████████▍ | 351/413 [52:01<14:13, 13.76s/it]"
     ]
    },
    {
     "name": "stdout",
     "output_type": "stream",
     "text": [
      "https://reviews.webmd.com/drugs/drugreview-78102-pexeva\n"
     ]
    },
    {
     "name": "stderr",
     "output_type": "stream",
     "text": [
      "\n",
      "  0%|          | 0/4 [00:00<?, ?it/s]\u001b[A\n",
      " 25%|██▌       | 1/4 [00:01<00:03,  1.19s/it]\u001b[A\n",
      " 50%|█████     | 2/4 [00:02<00:02,  1.30s/it]\u001b[A\n",
      " 75%|███████▌  | 3/4 [00:03<00:01,  1.28s/it]\u001b[A\n",
      "100%|██████████| 4/4 [00:04<00:00,  1.22s/it]\n",
      " 85%|████████▌ | 352/413 [52:09<12:02, 11.84s/it]"
     ]
    },
    {
     "name": "stdout",
     "output_type": "stream",
     "text": [
      "https://reviews.webmd.com/drugs/drugreview-78613-budeprion-sr-tablet-sustained-release-12-hr\n"
     ]
    },
    {
     "name": "stderr",
     "output_type": "stream",
     "text": [
      "\n",
      "  0%|          | 0/6 [00:00<?, ?it/s]\u001b[A\n",
      " 17%|█▋        | 1/6 [00:01<00:06,  1.30s/it]\u001b[A\n",
      " 33%|███▎      | 2/6 [00:02<00:04,  1.23s/it]\u001b[A\n",
      " 50%|█████     | 3/6 [00:03<00:03,  1.23s/it]\u001b[A\n",
      " 67%|██████▋   | 4/6 [00:05<00:02,  1.33s/it]\u001b[A\n",
      " 83%|████████▎ | 5/6 [00:06<00:01,  1.43s/it]\u001b[A\n",
      "100%|██████████| 6/6 [00:07<00:00,  1.33s/it]\n",
      " 85%|████████▌ | 353/413 [52:20<11:30, 11.51s/it]"
     ]
    },
    {
     "name": "stdout",
     "output_type": "stream",
     "text": [
      "https://reviews.webmd.com/drugs/drugreview-7895-moban-tablet\n"
     ]
    },
    {
     "name": "stderr",
     "output_type": "stream",
     "text": [
      "\n",
      "  0%|          | 0/1 [00:00<?, ?it/s]\u001b[A\n",
      "100%|██████████| 1/1 [00:00<00:00,  1.18it/s]\n",
      " 86%|████████▌ | 354/413 [52:23<08:50,  9.00s/it]"
     ]
    },
    {
     "name": "stdout",
     "output_type": "stream",
     "text": [
      "https://reviews.webmd.com/drugs/drugreview-7896-molindone-hcl\n"
     ]
    },
    {
     "name": "stderr",
     "output_type": "stream",
     "text": [
      " 86%|████████▌ | 355/413 [52:24<06:35,  6.83s/it]"
     ]
    },
    {
     "name": "stdout",
     "output_type": "stream",
     "text": [
      "https://reviews.webmd.com/drugs/drugreview-8115-alprazolam-intensol\n"
     ]
    },
    {
     "name": "stderr",
     "output_type": "stream",
     "text": [
      "\n",
      "  0%|          | 0/1 [00:00<?, ?it/s]\u001b[A\n",
      "100%|██████████| 1/1 [00:01<00:00,  1.17s/it]\n",
      " 86%|████████▌ | 356/413 [52:28<05:35,  5.88s/it]"
     ]
    },
    {
     "name": "stdout",
     "output_type": "stream",
     "text": [
      "https://reviews.webmd.com/drugs/drugreview-8171-alprazolam\n"
     ]
    },
    {
     "name": "stderr",
     "output_type": "stream",
     "text": [
      "\n",
      "  0%|          | 0/37 [00:00<?, ?it/s]\u001b[A\n",
      "  3%|▎         | 1/37 [00:01<00:50,  1.41s/it]\u001b[A\n",
      "  5%|▌         | 2/37 [00:02<00:45,  1.30s/it]\u001b[A\n",
      "  8%|▊         | 3/37 [00:03<00:41,  1.22s/it]\u001b[A\n",
      " 11%|█         | 4/37 [00:04<00:39,  1.20s/it]\u001b[A\n",
      " 14%|█▎        | 5/37 [00:06<00:37,  1.16s/it]\u001b[A\n",
      " 16%|█▌        | 6/37 [00:07<00:37,  1.20s/it]\u001b[A\n",
      " 19%|█▉        | 7/37 [00:08<00:38,  1.27s/it]\u001b[A\n",
      " 22%|██▏       | 8/37 [00:09<00:35,  1.24s/it]\u001b[A\n",
      " 24%|██▍       | 9/37 [00:10<00:33,  1.19s/it]\u001b[A\n",
      " 27%|██▋       | 10/37 [00:12<00:32,  1.21s/it]\u001b[A\n",
      " 30%|██▉       | 11/37 [00:13<00:30,  1.16s/it]\u001b[A\n",
      " 32%|███▏      | 12/37 [00:14<00:30,  1.21s/it]\u001b[A\n",
      " 35%|███▌      | 13/37 [00:15<00:28,  1.19s/it]\u001b[A\n",
      " 38%|███▊      | 14/37 [00:17<00:27,  1.21s/it]\u001b[A\n",
      " 41%|████      | 15/37 [00:18<00:27,  1.23s/it]\u001b[A\n",
      " 43%|████▎     | 16/37 [00:19<00:25,  1.24s/it]\u001b[A\n",
      " 46%|████▌     | 17/37 [00:20<00:24,  1.22s/it]\u001b[A\n",
      " 49%|████▊     | 18/37 [00:22<00:23,  1.26s/it]\u001b[A\n",
      " 51%|█████▏    | 19/37 [00:23<00:22,  1.27s/it]\u001b[A\n",
      " 54%|█████▍    | 20/37 [00:24<00:21,  1.27s/it]\u001b[A\n",
      " 57%|█████▋    | 21/37 [00:25<00:20,  1.26s/it]\u001b[A\n",
      " 59%|█████▉    | 22/37 [00:27<00:19,  1.28s/it]\u001b[A\n",
      " 62%|██████▏   | 23/37 [00:28<00:17,  1.25s/it]\u001b[A\n",
      " 65%|██████▍   | 24/37 [00:29<00:17,  1.36s/it]\u001b[A\n",
      " 68%|██████▊   | 25/37 [00:31<00:15,  1.32s/it]\u001b[A\n",
      " 70%|███████   | 26/37 [00:32<00:14,  1.28s/it]\u001b[A\n",
      " 73%|███████▎  | 27/37 [00:33<00:12,  1.29s/it]\u001b[A\n",
      " 76%|███████▌  | 28/37 [00:34<00:11,  1.24s/it]\u001b[A\n",
      " 78%|███████▊  | 29/37 [00:36<00:10,  1.35s/it]\u001b[A\n",
      " 81%|████████  | 30/37 [00:37<00:09,  1.31s/it]\u001b[A\n",
      " 84%|████████▍ | 31/37 [00:38<00:07,  1.31s/it]\u001b[A\n",
      " 86%|████████▋ | 32/37 [00:40<00:06,  1.24s/it]\u001b[A\n",
      " 89%|████████▉ | 33/37 [00:41<00:04,  1.24s/it]\u001b[A\n",
      " 92%|█████████▏| 34/37 [00:42<00:03,  1.22s/it]\u001b[A\n",
      " 95%|█████████▍| 35/37 [00:43<00:02,  1.31s/it]\u001b[A\n",
      " 97%|█████████▋| 36/37 [00:45<00:01,  1.27s/it]\u001b[A\n",
      "100%|██████████| 37/37 [00:46<00:00,  1.25s/it]\n",
      " 86%|████████▋ | 357/413 [53:17<17:25, 18.67s/it]"
     ]
    },
    {
     "name": "stdout",
     "output_type": "stream",
     "text": [
      "https://reviews.webmd.com/drugs/drugreview-8171-alprazolam-concentrate\n"
     ]
    },
    {
     "name": "stderr",
     "output_type": "stream",
     "text": [
      "\n",
      "  0%|          | 0/37 [00:00<?, ?it/s]\u001b[A\n",
      "  3%|▎         | 1/37 [00:01<00:43,  1.22s/it]\u001b[A\n",
      "  5%|▌         | 2/37 [00:02<00:45,  1.29s/it]\u001b[A\n",
      "  8%|▊         | 3/37 [00:04<00:49,  1.46s/it]\u001b[A\n",
      " 11%|█         | 4/37 [00:05<00:50,  1.53s/it]\u001b[A\n",
      " 14%|█▎        | 5/37 [00:06<00:44,  1.38s/it]\u001b[A\n",
      " 16%|█▌        | 6/37 [00:08<00:41,  1.33s/it]\u001b[A\n",
      " 19%|█▉        | 7/37 [00:09<00:39,  1.32s/it]\u001b[A\n",
      " 22%|██▏       | 8/37 [00:10<00:38,  1.32s/it]\u001b[A\n",
      " 24%|██▍       | 9/37 [00:12<00:37,  1.33s/it]\u001b[A\n",
      " 27%|██▋       | 10/37 [00:13<00:34,  1.28s/it]\u001b[A\n",
      " 30%|██▉       | 11/37 [00:14<00:32,  1.25s/it]\u001b[A\n",
      " 32%|███▏      | 12/37 [00:15<00:30,  1.21s/it]\u001b[A\n",
      " 35%|███▌      | 13/37 [00:16<00:29,  1.22s/it]\u001b[A\n",
      " 38%|███▊      | 14/37 [00:18<00:31,  1.36s/it]\u001b[A\n",
      " 41%|████      | 15/37 [00:19<00:28,  1.29s/it]\u001b[A\n",
      " 43%|████▎     | 16/37 [00:20<00:26,  1.27s/it]\u001b[A\n",
      " 46%|████▌     | 17/37 [00:22<00:24,  1.25s/it]\u001b[A\n",
      " 49%|████▊     | 18/37 [00:23<00:23,  1.26s/it]\u001b[A\n",
      " 51%|█████▏    | 19/37 [00:24<00:24,  1.35s/it]\u001b[A\n",
      " 54%|█████▍    | 20/37 [00:26<00:22,  1.31s/it]\u001b[A\n",
      " 57%|█████▋    | 21/37 [00:27<00:20,  1.26s/it]\u001b[A\n",
      " 59%|█████▉    | 22/37 [00:28<00:18,  1.26s/it]\u001b[A\n",
      " 62%|██████▏   | 23/37 [00:29<00:17,  1.26s/it]\u001b[A\n",
      " 65%|██████▍   | 24/37 [00:30<00:15,  1.23s/it]\u001b[A\n",
      " 68%|██████▊   | 25/37 [00:32<00:15,  1.25s/it]\u001b[A\n",
      " 70%|███████   | 26/37 [00:33<00:13,  1.25s/it]\u001b[A\n",
      " 73%|███████▎  | 27/37 [00:34<00:12,  1.21s/it]\u001b[A\n",
      " 76%|███████▌  | 28/37 [00:35<00:10,  1.22s/it]\u001b[A\n",
      " 78%|███████▊  | 29/37 [00:37<00:09,  1.20s/it]\u001b[A\n",
      " 81%|████████  | 30/37 [00:38<00:08,  1.25s/it]\u001b[A\n",
      " 84%|████████▍ | 31/37 [00:39<00:07,  1.27s/it]\u001b[A\n",
      " 86%|████████▋ | 32/37 [00:41<00:06,  1.29s/it]\u001b[A\n",
      " 89%|████████▉ | 33/37 [00:42<00:05,  1.29s/it]\u001b[A\n",
      " 92%|█████████▏| 34/37 [00:43<00:03,  1.27s/it]\u001b[A\n",
      " 95%|█████████▍| 35/37 [00:44<00:02,  1.29s/it]\u001b[A\n",
      " 97%|█████████▋| 36/37 [00:46<00:01,  1.36s/it]\u001b[A\n",
      "100%|██████████| 37/37 [00:47<00:00,  1.29s/it]\n",
      " 87%|████████▋ | 358/413 [54:05<25:23, 27.70s/it]"
     ]
    },
    {
     "name": "stdout",
     "output_type": "stream",
     "text": [
      "https://reviews.webmd.com/drugs/drugreview-8171-alprazolam-er\n"
     ]
    },
    {
     "name": "stderr",
     "output_type": "stream",
     "text": [
      "\n",
      "  0%|          | 0/37 [00:00<?, ?it/s]\u001b[A\n",
      "  3%|▎         | 1/37 [00:01<00:45,  1.27s/it]\u001b[A\n",
      "  5%|▌         | 2/37 [00:02<00:41,  1.20s/it]\u001b[A\n",
      "  8%|▊         | 3/37 [00:03<00:40,  1.20s/it]\u001b[A\n",
      " 11%|█         | 4/37 [00:05<00:44,  1.35s/it]\u001b[A\n",
      " 14%|█▎        | 5/37 [00:06<00:41,  1.29s/it]\u001b[A\n",
      " 16%|█▌        | 6/37 [00:07<00:38,  1.25s/it]\u001b[A\n",
      " 19%|█▉        | 7/37 [00:08<00:38,  1.30s/it]\u001b[A\n",
      " 22%|██▏       | 8/37 [00:10<00:36,  1.26s/it]\u001b[A\n",
      " 24%|██▍       | 9/37 [00:11<00:35,  1.26s/it]\u001b[A\n",
      " 27%|██▋       | 10/37 [00:12<00:36,  1.33s/it]\u001b[A\n",
      " 30%|██▉       | 11/37 [00:14<00:32,  1.27s/it]\u001b[A\n",
      " 32%|███▏      | 12/37 [00:15<00:31,  1.27s/it]\u001b[A\n",
      " 35%|███▌      | 13/37 [00:16<00:29,  1.24s/it]\u001b[A\n",
      " 38%|███▊      | 14/37 [00:17<00:28,  1.24s/it]\u001b[A\n",
      " 41%|████      | 15/37 [00:19<00:28,  1.28s/it]\u001b[A\n",
      " 43%|████▎     | 16/37 [00:20<00:27,  1.29s/it]\u001b[A\n",
      " 46%|████▌     | 17/37 [00:21<00:25,  1.28s/it]\u001b[A\n",
      " 49%|████▊     | 18/37 [00:22<00:24,  1.28s/it]\u001b[A\n",
      " 51%|█████▏    | 19/37 [00:25<00:27,  1.53s/it]\u001b[A\n",
      " 54%|█████▍    | 20/37 [00:26<00:24,  1.44s/it]\u001b[A\n",
      " 57%|█████▋    | 21/37 [00:27<00:23,  1.48s/it]\u001b[A\n",
      " 59%|█████▉    | 22/37 [00:28<00:20,  1.37s/it]\u001b[A\n",
      " 62%|██████▏   | 23/37 [00:30<00:18,  1.33s/it]\u001b[A\n",
      " 65%|██████▍   | 24/37 [00:31<00:17,  1.31s/it]\u001b[A\n",
      " 68%|██████▊   | 25/37 [00:32<00:14,  1.25s/it]\u001b[A\n",
      " 70%|███████   | 26/37 [00:33<00:13,  1.26s/it]\u001b[A\n",
      " 73%|███████▎  | 27/37 [00:35<00:13,  1.33s/it]\u001b[A\n",
      " 76%|███████▌  | 28/37 [00:36<00:11,  1.26s/it]\u001b[A\n",
      " 78%|███████▊  | 29/37 [00:37<00:10,  1.27s/it]\u001b[A\n",
      " 81%|████████  | 30/37 [00:38<00:08,  1.26s/it]\u001b[A\n",
      " 84%|████████▍ | 31/37 [00:40<00:07,  1.26s/it]\u001b[A\n",
      " 86%|████████▋ | 32/37 [00:41<00:06,  1.36s/it]\u001b[A\n",
      " 89%|████████▉ | 33/37 [00:43<00:05,  1.33s/it]\u001b[A\n",
      " 92%|█████████▏| 34/37 [00:44<00:03,  1.31s/it]\u001b[A\n",
      " 95%|█████████▍| 35/37 [00:45<00:02,  1.26s/it]\u001b[A\n",
      " 97%|█████████▋| 36/37 [00:46<00:01,  1.24s/it]\u001b[A\n",
      "100%|██████████| 37/37 [00:47<00:00,  1.29s/it]\n",
      " 87%|████████▋ | 359/413 [54:55<30:42, 34.12s/it]"
     ]
    },
    {
     "name": "stdout",
     "output_type": "stream",
     "text": [
      "https://reviews.webmd.com/drugs/drugreview-8171-alprazolam-odt\n"
     ]
    },
    {
     "name": "stderr",
     "output_type": "stream",
     "text": [
      "\n",
      "  0%|          | 0/37 [00:00<?, ?it/s]\u001b[A\n",
      "  3%|▎         | 1/37 [00:01<00:44,  1.25s/it]\u001b[A\n",
      "  5%|▌         | 2/37 [00:02<00:44,  1.28s/it]\u001b[A\n",
      "  8%|▊         | 3/37 [00:03<00:42,  1.25s/it]\u001b[A\n",
      " 11%|█         | 4/37 [00:05<00:43,  1.31s/it]\u001b[A\n",
      " 14%|█▎        | 5/37 [00:06<00:39,  1.25s/it]\u001b[A\n",
      " 16%|█▌        | 6/37 [00:07<00:39,  1.29s/it]\u001b[A\n",
      " 19%|█▉        | 7/37 [00:08<00:38,  1.29s/it]\u001b[A\n",
      " 22%|██▏       | 8/37 [00:10<00:38,  1.31s/it]\u001b[A\n",
      " 24%|██▍       | 9/37 [00:11<00:36,  1.31s/it]\u001b[A\n",
      " 27%|██▋       | 10/37 [00:12<00:33,  1.25s/it]\u001b[A\n",
      " 30%|██▉       | 11/37 [00:14<00:34,  1.34s/it]\u001b[A\n",
      " 32%|███▏      | 12/37 [00:15<00:32,  1.31s/it]\u001b[A\n",
      " 35%|███▌      | 13/37 [00:16<00:31,  1.30s/it]\u001b[A\n",
      " 38%|███▊      | 14/37 [00:17<00:28,  1.25s/it]\u001b[A\n",
      " 41%|████      | 15/37 [00:19<00:29,  1.34s/it]\u001b[A\n",
      " 43%|████▎     | 16/37 [00:20<00:27,  1.31s/it]\u001b[A\n",
      " 46%|████▌     | 17/37 [00:22<00:27,  1.37s/it]\u001b[A\n",
      " 49%|████▊     | 18/37 [00:23<00:25,  1.32s/it]\u001b[A\n",
      " 51%|█████▏    | 19/37 [00:24<00:23,  1.28s/it]\u001b[A\n",
      " 54%|█████▍    | 20/37 [00:25<00:21,  1.29s/it]\u001b[A\n",
      " 57%|█████▋    | 21/37 [00:27<00:19,  1.24s/it]\u001b[A\n",
      " 59%|█████▉    | 22/37 [00:28<00:18,  1.25s/it]\u001b[A\n",
      " 62%|██████▏   | 23/37 [00:29<00:19,  1.36s/it]\u001b[A\n",
      " 65%|██████▍   | 24/37 [00:31<00:16,  1.30s/it]\u001b[A\n",
      " 68%|██████▊   | 25/37 [00:32<00:15,  1.30s/it]\u001b[A\n",
      " 70%|███████   | 26/37 [00:33<00:13,  1.25s/it]\u001b[A\n",
      " 73%|███████▎  | 27/37 [00:34<00:12,  1.27s/it]\u001b[A\n",
      " 76%|███████▌  | 28/37 [00:36<00:12,  1.39s/it]\u001b[A\n",
      " 78%|███████▊  | 29/37 [00:37<00:10,  1.34s/it]\u001b[A\n",
      " 81%|████████  | 30/37 [00:39<00:09,  1.34s/it]\u001b[A\n",
      " 84%|████████▍ | 31/37 [00:40<00:07,  1.32s/it]\u001b[A\n",
      " 86%|████████▋ | 32/37 [00:41<00:06,  1.30s/it]\u001b[A\n",
      " 89%|████████▉ | 33/37 [00:42<00:05,  1.29s/it]\u001b[A\n",
      " 92%|█████████▏| 34/37 [00:44<00:04,  1.38s/it]\u001b[A\n",
      " 95%|█████████▍| 35/37 [00:45<00:02,  1.35s/it]\u001b[A\n",
      " 97%|█████████▋| 36/37 [00:46<00:01,  1.29s/it]\u001b[A\n",
      "100%|██████████| 37/37 [00:48<00:00,  1.30s/it]\n",
      " 87%|████████▋ | 360/413 [55:45<34:27, 39.02s/it]"
     ]
    },
    {
     "name": "stdout",
     "output_type": "stream",
     "text": [
      "https://reviews.webmd.com/drugs/drugreview-8186-miltown-tablet\n"
     ]
    },
    {
     "name": "stderr",
     "output_type": "stream",
     "text": [
      "\n",
      "  0%|          | 0/1 [00:00<?, ?it/s]\u001b[A\n",
      "100%|██████████| 1/1 [00:00<00:00,  1.51it/s]\n",
      " 87%|████████▋ | 361/413 [55:48<24:20, 28.09s/it]"
     ]
    },
    {
     "name": "stdout",
     "output_type": "stream",
     "text": [
      "https://reviews.webmd.com/drugs/drugreview-8187-meprobamate\n"
     ]
    },
    {
     "name": "stderr",
     "output_type": "stream",
     "text": [
      "\n",
      "  0%|          | 0/2 [00:00<?, ?it/s]\u001b[A\n",
      " 50%|█████     | 1/2 [00:01<00:01,  1.60s/it]\u001b[A\n",
      "100%|██████████| 2/2 [00:02<00:00,  1.42s/it]\n",
      " 88%|████████▊ | 362/413 [55:53<17:59, 21.16s/it]"
     ]
    },
    {
     "name": "stdout",
     "output_type": "stream",
     "text": [
      "https://reviews.webmd.com/drugs/drugreview-8323-desipramine-hcl\n"
     ]
    },
    {
     "name": "stderr",
     "output_type": "stream",
     "text": [
      "\n",
      "  0%|          | 0/3 [00:00<?, ?it/s]\u001b[A\n",
      " 33%|███▎      | 1/3 [00:01<00:03,  1.59s/it]\u001b[A\n",
      " 67%|██████▋   | 2/3 [00:02<00:01,  1.42s/it]\u001b[A\n",
      "100%|██████████| 3/3 [00:04<00:00,  1.39s/it]\n",
      " 88%|████████▊ | 363/413 [55:59<14:00, 16.81s/it]"
     ]
    },
    {
     "name": "stdout",
     "output_type": "stream",
     "text": [
      "https://reviews.webmd.com/drugs/drugreview-8347-oxazepam\n"
     ]
    },
    {
     "name": "stderr",
     "output_type": "stream",
     "text": [
      "\n",
      "  0%|          | 0/3 [00:00<?, ?it/s]\u001b[A\n",
      " 33%|███▎      | 1/3 [00:01<00:02,  1.39s/it]\u001b[A\n",
      " 67%|██████▋   | 2/3 [00:02<00:01,  1.26s/it]\u001b[A\n",
      "100%|██████████| 3/3 [00:03<00:00,  1.27s/it]\n",
      " 88%|████████▊ | 364/413 [56:06<11:09, 13.66s/it]"
     ]
    },
    {
     "name": "stdout",
     "output_type": "stream",
     "text": [
      "https://reviews.webmd.com/drugs/drugreview-8495-gen-xene-tablet\n"
     ]
    },
    {
     "name": "stderr",
     "output_type": "stream",
     "text": [
      " 88%|████████▊ | 365/413 [56:07<08:05, 10.11s/it]"
     ]
    },
    {
     "name": "stdout",
     "output_type": "stream",
     "text": [
      "https://reviews.webmd.com/drugs/drugreview-8603-celexa\n"
     ]
    },
    {
     "name": "stderr",
     "output_type": "stream",
     "text": [
      "\n",
      "  0%|          | 0/112 [00:00<?, ?it/s]\u001b[A\n",
      "  1%|          | 1/112 [00:01<02:30,  1.36s/it]\u001b[A\n",
      "  2%|▏         | 2/112 [00:02<02:22,  1.30s/it]\u001b[A\n",
      "  3%|▎         | 3/112 [00:03<02:19,  1.28s/it]\u001b[A\n",
      "  4%|▎         | 4/112 [00:05<02:14,  1.25s/it]\u001b[A\n",
      "  4%|▍         | 5/112 [00:06<02:14,  1.26s/it]\u001b[A\n",
      "  5%|▌         | 6/112 [00:07<02:10,  1.23s/it]\u001b[A\n",
      "  6%|▋         | 7/112 [00:09<02:23,  1.37s/it]\u001b[A\n",
      "  7%|▋         | 8/112 [00:10<02:17,  1.32s/it]\u001b[A\n",
      "  8%|▊         | 9/112 [00:11<02:15,  1.32s/it]\u001b[A\n",
      "  9%|▉         | 10/112 [00:12<02:08,  1.26s/it]\u001b[A\n",
      " 10%|▉         | 11/112 [00:14<02:04,  1.23s/it]\u001b[A\n",
      " 11%|█         | 12/112 [00:15<02:04,  1.25s/it]\u001b[A\n",
      " 12%|█▏        | 13/112 [00:16<02:15,  1.37s/it]\u001b[A\n",
      " 12%|█▎        | 14/112 [00:18<02:10,  1.33s/it]\u001b[A\n",
      " 13%|█▎        | 15/112 [00:19<02:08,  1.32s/it]\u001b[A\n",
      " 14%|█▍        | 16/112 [00:20<02:05,  1.31s/it]\u001b[A\n",
      " 15%|█▌        | 17/112 [00:22<02:04,  1.31s/it]\u001b[A\n",
      " 16%|█▌        | 18/112 [00:23<02:10,  1.39s/it]\u001b[A\n",
      " 17%|█▋        | 19/112 [00:24<02:05,  1.34s/it]\u001b[A\n",
      " 18%|█▊        | 20/112 [00:26<02:01,  1.32s/it]\u001b[A\n",
      " 19%|█▉        | 21/112 [00:27<01:57,  1.29s/it]\u001b[A\n",
      " 20%|█▉        | 22/112 [00:28<01:54,  1.28s/it]\u001b[A\n",
      " 21%|██        | 23/112 [00:29<01:53,  1.27s/it]\u001b[A\n",
      " 21%|██▏       | 24/112 [00:31<02:00,  1.36s/it]\u001b[A\n",
      " 22%|██▏       | 25/112 [00:32<01:56,  1.34s/it]\u001b[A\n",
      " 23%|██▎       | 26/112 [00:34<01:53,  1.32s/it]\u001b[A\n",
      " 24%|██▍       | 27/112 [00:35<01:50,  1.30s/it]\u001b[A\n",
      " 25%|██▌       | 28/112 [00:36<01:48,  1.29s/it]\u001b[A\n",
      " 26%|██▌       | 29/112 [00:38<01:52,  1.36s/it]\u001b[A\n",
      " 27%|██▋       | 30/112 [00:39<01:51,  1.36s/it]\u001b[A\n",
      " 28%|██▊       | 31/112 [00:40<01:45,  1.31s/it]\u001b[A\n",
      " 29%|██▊       | 32/112 [00:41<01:45,  1.32s/it]\u001b[A\n",
      " 29%|██▉       | 33/112 [00:43<01:45,  1.33s/it]\u001b[A\n",
      " 30%|███       | 34/112 [00:44<01:41,  1.31s/it]\u001b[A\n",
      " 31%|███▏      | 35/112 [00:46<01:49,  1.42s/it]\u001b[A\n",
      " 32%|███▏      | 36/112 [00:47<01:41,  1.33s/it]\u001b[A\n",
      " 33%|███▎      | 37/112 [00:48<01:35,  1.28s/it]\u001b[A\n",
      " 34%|███▍      | 38/112 [00:49<01:36,  1.30s/it]\u001b[A\n",
      " 35%|███▍      | 39/112 [00:51<01:34,  1.29s/it]\u001b[A\n",
      " 36%|███▌      | 40/112 [00:52<01:35,  1.33s/it]\u001b[A\n",
      " 37%|███▋      | 41/112 [00:53<01:34,  1.33s/it]\u001b[A\n",
      " 38%|███▊      | 42/112 [00:55<01:32,  1.33s/it]\u001b[A\n",
      " 38%|███▊      | 43/112 [00:56<01:30,  1.32s/it]\u001b[A\n",
      " 39%|███▉      | 44/112 [00:57<01:27,  1.28s/it]\u001b[A\n",
      " 40%|████      | 45/112 [00:58<01:23,  1.24s/it]\u001b[A\n",
      " 41%|████      | 46/112 [01:00<01:28,  1.34s/it]\u001b[A\n",
      " 42%|████▏     | 47/112 [01:01<01:27,  1.34s/it]\u001b[A\n",
      " 43%|████▎     | 48/112 [01:03<01:24,  1.32s/it]\u001b[A\n",
      " 44%|████▍     | 49/112 [01:04<01:19,  1.26s/it]\u001b[A\n",
      " 45%|████▍     | 50/112 [01:05<01:17,  1.26s/it]\u001b[A\n",
      " 46%|████▌     | 51/112 [01:07<01:26,  1.42s/it]\u001b[A\n",
      " 46%|████▋     | 52/112 [01:08<01:20,  1.33s/it]\u001b[A\n",
      " 47%|████▋     | 53/112 [01:09<01:18,  1.32s/it]\u001b[A\n",
      " 48%|████▊     | 54/112 [01:10<01:17,  1.34s/it]\u001b[A\n",
      " 49%|████▉     | 55/112 [01:12<01:13,  1.29s/it]\u001b[A\n",
      " 50%|█████     | 56/112 [01:13<01:11,  1.27s/it]\u001b[A\n",
      " 51%|█████     | 57/112 [01:14<01:14,  1.36s/it]\u001b[A\n",
      " 52%|█████▏    | 58/112 [01:16<01:10,  1.30s/it]\u001b[A\n",
      " 53%|█████▎    | 59/112 [01:17<01:09,  1.32s/it]\u001b[A\n",
      " 54%|█████▎    | 60/112 [01:18<01:07,  1.30s/it]\u001b[A\n",
      " 54%|█████▍    | 61/112 [01:19<01:04,  1.27s/it]\u001b[A\n",
      " 55%|█████▌    | 62/112 [01:21<01:03,  1.28s/it]\u001b[A\n",
      " 56%|█████▋    | 63/112 [01:22<01:08,  1.39s/it]\u001b[A\n",
      " 57%|█████▋    | 64/112 [01:24<01:05,  1.37s/it]\u001b[A\n",
      " 58%|█████▊    | 65/112 [01:25<01:02,  1.34s/it]\u001b[A\n",
      " 59%|█████▉    | 66/112 [01:26<01:01,  1.34s/it]\u001b[A\n",
      " 60%|█████▉    | 67/112 [01:28<01:00,  1.34s/it]\u001b[A\n",
      " 61%|██████    | 68/112 [01:29<01:02,  1.41s/it]\u001b[A\n",
      " 62%|██████▏   | 69/112 [01:30<00:58,  1.35s/it]\u001b[A\n",
      " 62%|██████▎   | 70/112 [01:32<00:55,  1.33s/it]\u001b[A\n",
      " 63%|██████▎   | 71/112 [01:33<00:54,  1.34s/it]\u001b[A\n",
      " 64%|██████▍   | 72/112 [01:34<00:52,  1.32s/it]\u001b[A\n",
      " 65%|██████▌   | 73/112 [01:36<00:50,  1.30s/it]\u001b[A\n",
      " 66%|██████▌   | 74/112 [01:37<00:54,  1.42s/it]\u001b[A\n",
      " 67%|██████▋   | 75/112 [01:39<00:50,  1.36s/it]\u001b[A\n",
      " 68%|██████▊   | 76/112 [01:40<00:48,  1.36s/it]\u001b[A\n",
      " 69%|██████▉   | 77/112 [01:41<00:47,  1.34s/it]\u001b[A\n",
      " 70%|██████▉   | 78/112 [01:43<00:46,  1.35s/it]\u001b[A\n",
      " 71%|███████   | 79/112 [01:44<00:47,  1.45s/it]\u001b[A\n",
      " 71%|███████▏  | 80/112 [01:46<00:44,  1.39s/it]\u001b[A\n",
      " 72%|███████▏  | 81/112 [01:47<00:43,  1.39s/it]\u001b[A\n",
      " 73%|███████▎  | 82/112 [01:48<00:40,  1.37s/it]\u001b[A\n",
      " 74%|███████▍  | 83/112 [01:49<00:38,  1.34s/it]\u001b[A\n",
      " 75%|███████▌  | 84/112 [01:51<00:36,  1.32s/it]\u001b[A\n",
      " 76%|███████▌  | 85/112 [01:52<00:37,  1.39s/it]\u001b[A\n",
      " 77%|███████▋  | 86/112 [01:53<00:34,  1.32s/it]\u001b[A\n",
      " 78%|███████▊  | 87/112 [01:55<00:31,  1.27s/it]\u001b[A\n",
      " 79%|███████▊  | 88/112 [01:56<00:30,  1.26s/it]\u001b[A\n",
      " 79%|███████▉  | 89/112 [01:57<00:28,  1.24s/it]\u001b[A\n",
      " 80%|████████  | 90/112 [01:59<00:30,  1.38s/it]\u001b[A\n",
      " 81%|████████▏ | 91/112 [02:01<00:31,  1.52s/it]\u001b[A\n",
      " 82%|████████▏ | 92/112 [02:02<00:28,  1.44s/it]\u001b[A\n",
      " 83%|████████▎ | 93/112 [02:03<00:26,  1.37s/it]\u001b[A\n",
      " 84%|████████▍ | 94/112 [02:04<00:23,  1.32s/it]\u001b[A\n",
      " 85%|████████▍ | 95/112 [02:06<00:22,  1.29s/it]\u001b[A\n",
      " 86%|████████▌ | 96/112 [02:07<00:22,  1.41s/it]\u001b[A\n",
      " 87%|████████▋ | 97/112 [02:09<00:20,  1.39s/it]\u001b[A\n",
      " 88%|████████▊ | 98/112 [02:10<00:19,  1.36s/it]\u001b[A\n",
      " 88%|████████▊ | 99/112 [02:11<00:16,  1.29s/it]\u001b[A\n",
      " 89%|████████▉ | 100/112 [02:12<00:15,  1.29s/it]\u001b[A\n",
      " 90%|█████████ | 101/112 [02:13<00:13,  1.27s/it]\u001b[A\n",
      " 91%|█████████ | 102/112 [02:15<00:13,  1.35s/it]\u001b[A\n",
      " 92%|█████████▏| 103/112 [02:16<00:11,  1.30s/it]\u001b[A\n",
      " 93%|█████████▎| 104/112 [02:17<00:10,  1.28s/it]\u001b[A\n",
      " 94%|█████████▍| 105/112 [02:19<00:08,  1.28s/it]\u001b[A\n",
      " 95%|█████████▍| 106/112 [02:20<00:07,  1.29s/it]\u001b[A\n",
      " 96%|█████████▌| 107/112 [02:22<00:06,  1.36s/it]\u001b[A\n",
      " 96%|█████████▋| 108/112 [02:23<00:05,  1.34s/it]\u001b[A\n",
      " 97%|█████████▋| 109/112 [02:24<00:03,  1.32s/it]\u001b[A\n",
      " 98%|█████████▊| 110/112 [02:25<00:02,  1.33s/it]\u001b[A\n",
      " 99%|█████████▉| 111/112 [02:27<00:01,  1.31s/it]\u001b[A\n",
      "100%|██████████| 112/112 [02:28<00:00,  1.33s/it]\n",
      " 89%|████████▊ | 366/413 [58:39<41:04, 52.44s/it]"
     ]
    },
    {
     "name": "stdout",
     "output_type": "stream",
     "text": [
      "https://reviews.webmd.com/drugs/drugreview-8611-amitriptyline-hcl\n"
     ]
    },
    {
     "name": "stderr",
     "output_type": "stream",
     "text": [
      "\n",
      "  0%|          | 0/60 [00:00<?, ?it/s]\u001b[A\n",
      "  2%|▏         | 1/60 [00:01<01:12,  1.23s/it]\u001b[A\n",
      "  3%|▎         | 2/60 [00:02<01:11,  1.23s/it]\u001b[A\n",
      "  5%|▌         | 3/60 [00:04<01:19,  1.39s/it]\u001b[A\n",
      "  7%|▋         | 4/60 [00:05<01:15,  1.35s/it]\u001b[A\n",
      "  8%|▊         | 5/60 [00:07<01:21,  1.48s/it]\u001b[A\n",
      " 10%|█         | 6/60 [00:08<01:16,  1.41s/it]\u001b[A\n",
      " 12%|█▏        | 7/60 [00:09<01:12,  1.37s/it]\u001b[A\n",
      " 13%|█▎        | 8/60 [00:10<01:07,  1.30s/it]\u001b[A\n",
      " 15%|█▌        | 9/60 [00:11<01:03,  1.25s/it]\u001b[A\n",
      " 17%|█▋        | 10/60 [00:13<01:02,  1.26s/it]\u001b[A\n",
      " 18%|█▊        | 11/60 [00:14<01:05,  1.34s/it]\u001b[A\n",
      " 20%|██        | 12/60 [00:15<01:01,  1.29s/it]\u001b[A\n",
      " 22%|██▏       | 13/60 [00:17<01:01,  1.31s/it]\u001b[A\n",
      " 23%|██▎       | 14/60 [00:18<00:59,  1.28s/it]\u001b[A\n",
      " 25%|██▌       | 15/60 [00:19<00:57,  1.29s/it]\u001b[A\n",
      " 27%|██▋       | 16/60 [00:21<01:02,  1.41s/it]\u001b[A\n",
      " 28%|██▊       | 17/60 [00:22<00:58,  1.36s/it]\u001b[A\n",
      " 30%|███       | 18/60 [00:24<00:57,  1.36s/it]\u001b[A\n",
      " 32%|███▏      | 19/60 [00:25<00:55,  1.35s/it]\u001b[A\n",
      " 33%|███▎      | 20/60 [00:26<00:53,  1.33s/it]\u001b[A\n",
      " 35%|███▌      | 21/60 [00:27<00:50,  1.30s/it]\u001b[A\n",
      " 37%|███▋      | 22/60 [00:29<00:52,  1.39s/it]\u001b[A\n",
      " 38%|███▊      | 23/60 [00:30<00:50,  1.36s/it]\u001b[A\n",
      " 40%|████      | 24/60 [00:31<00:46,  1.30s/it]\u001b[A\n",
      " 42%|████▏     | 25/60 [00:33<00:45,  1.31s/it]\u001b[A\n",
      " 43%|████▎     | 26/60 [00:34<00:43,  1.28s/it]\u001b[A\n",
      " 45%|████▌     | 27/60 [00:35<00:41,  1.27s/it]\u001b[A\n",
      " 47%|████▋     | 28/60 [00:37<00:45,  1.42s/it]\u001b[A\n",
      " 48%|████▊     | 29/60 [00:38<00:42,  1.37s/it]\u001b[A\n",
      " 50%|█████     | 30/60 [00:39<00:39,  1.33s/it]\u001b[A\n",
      " 52%|█████▏    | 31/60 [00:41<00:37,  1.28s/it]\u001b[A\n",
      " 53%|█████▎    | 32/60 [00:42<00:35,  1.27s/it]\u001b[A\n",
      " 55%|█████▌    | 33/60 [00:43<00:35,  1.31s/it]\u001b[A\n",
      " 57%|█████▋    | 34/60 [00:45<00:33,  1.31s/it]\u001b[A\n",
      " 58%|█████▊    | 35/60 [00:46<00:35,  1.42s/it]\u001b[A\n",
      " 60%|██████    | 36/60 [00:48<00:33,  1.39s/it]\u001b[A\n",
      " 62%|██████▏   | 37/60 [00:49<00:31,  1.36s/it]\u001b[A\n",
      " 63%|██████▎   | 38/60 [00:50<00:28,  1.30s/it]\u001b[A\n",
      " 65%|██████▌   | 39/60 [00:52<00:29,  1.39s/it]\u001b[A\n",
      " 67%|██████▋   | 40/60 [00:53<00:27,  1.36s/it]\u001b[A\n",
      " 68%|██████▊   | 41/60 [00:54<00:25,  1.35s/it]\u001b[A\n",
      " 70%|███████   | 42/60 [00:56<00:25,  1.40s/it]\u001b[A\n",
      " 72%|███████▏  | 43/60 [00:57<00:22,  1.33s/it]\u001b[A\n",
      " 73%|███████▎  | 44/60 [00:59<00:22,  1.41s/it]\u001b[A\n",
      " 75%|███████▌  | 45/60 [01:00<00:20,  1.34s/it]\u001b[A\n",
      " 77%|███████▋  | 46/60 [01:01<00:17,  1.28s/it]\u001b[A\n",
      " 78%|███████▊  | 47/60 [01:02<00:16,  1.30s/it]\u001b[A\n",
      " 80%|████████  | 48/60 [01:03<00:15,  1.29s/it]\u001b[A\n",
      " 82%|████████▏ | 49/60 [01:05<00:14,  1.29s/it]\u001b[A\n",
      " 83%|████████▎ | 50/60 [01:06<00:13,  1.40s/it]\u001b[A\n",
      " 85%|████████▌ | 51/60 [01:08<00:12,  1.35s/it]\u001b[A\n",
      " 87%|████████▋ | 52/60 [01:09<00:10,  1.34s/it]\u001b[A\n",
      " 88%|████████▊ | 53/60 [01:10<00:09,  1.35s/it]\u001b[A\n",
      " 90%|█████████ | 54/60 [01:12<00:08,  1.34s/it]\u001b[A\n",
      " 92%|█████████▏| 55/60 [01:13<00:06,  1.34s/it]\u001b[A\n",
      " 93%|█████████▎| 56/60 [01:14<00:05,  1.33s/it]\u001b[A\n",
      " 95%|█████████▌| 57/60 [01:15<00:03,  1.29s/it]\u001b[A\n",
      " 97%|█████████▋| 58/60 [01:17<00:02,  1.36s/it]\u001b[A\n",
      " 98%|█████████▊| 59/60 [01:18<00:01,  1.29s/it]\u001b[A\n",
      "100%|██████████| 60/60 [01:20<00:00,  1.33s/it]\n",
      " 89%|████████▉ | 367/413 [1:00:01<47:12, 61.57s/it]"
     ]
    },
    {
     "name": "stdout",
     "output_type": "stream",
     "text": [
      "https://reviews.webmd.com/drugs/drugreview-8630-chlordiazepoxide-hcl\n"
     ]
    },
    {
     "name": "stderr",
     "output_type": "stream",
     "text": [
      "\n",
      "  0%|          | 0/1 [00:00<?, ?it/s]\u001b[A\n",
      "100%|██████████| 1/1 [00:00<00:00,  1.09it/s]\n",
      " 89%|████████▉ | 368/413 [1:00:05<33:03, 44.09s/it]"
     ]
    },
    {
     "name": "stdout",
     "output_type": "stream",
     "text": [
      "https://reviews.webmd.com/drugs/drugreview-8636-clorazepate-dipotassium\n"
     ]
    },
    {
     "name": "stderr",
     "output_type": "stream",
     "text": [
      "\n",
      "  0%|          | 0/2 [00:00<?, ?it/s]\u001b[A\n",
      " 50%|█████     | 1/2 [00:01<00:01,  1.28s/it]\u001b[A\n",
      "100%|██████████| 2/2 [00:02<00:00,  1.30s/it]\n",
      " 89%|████████▉ | 369/413 [1:00:10<23:49, 32.50s/it]"
     ]
    },
    {
     "name": "stdout",
     "output_type": "stream",
     "text": [
      "https://reviews.webmd.com/drugs/drugreview-8647-doxepin-hcl\n"
     ]
    },
    {
     "name": "stderr",
     "output_type": "stream",
     "text": [
      "\n",
      "  0%|          | 0/13 [00:00<?, ?it/s]\u001b[A\n",
      "  8%|▊         | 1/13 [00:01<00:16,  1.33s/it]\u001b[A\n",
      " 15%|█▌        | 2/13 [00:02<00:14,  1.32s/it]\u001b[A\n",
      " 23%|██▎       | 3/13 [00:03<00:12,  1.27s/it]\u001b[A\n",
      " 31%|███       | 4/13 [00:05<00:11,  1.28s/it]\u001b[A\n",
      " 38%|███▊      | 5/13 [00:06<00:10,  1.28s/it]\u001b[A\n",
      " 46%|████▌     | 6/13 [00:07<00:08,  1.28s/it]\u001b[A\n",
      " 54%|█████▍    | 7/13 [00:09<00:08,  1.39s/it]\u001b[A\n",
      " 62%|██████▏   | 8/13 [00:10<00:06,  1.37s/it]\u001b[A\n",
      " 69%|██████▉   | 9/13 [00:11<00:05,  1.34s/it]\u001b[A\n",
      " 77%|███████▋  | 10/13 [00:13<00:03,  1.31s/it]\u001b[A\n",
      " 85%|████████▍ | 11/13 [00:14<00:02,  1.30s/it]\u001b[A\n",
      " 92%|█████████▏| 12/13 [00:15<00:01,  1.30s/it]\u001b[A\n",
      "100%|██████████| 13/13 [00:17<00:00,  1.35s/it]\n",
      " 90%|████████▉ | 370/413 [1:00:30<20:36, 28.75s/it]"
     ]
    },
    {
     "name": "stdout",
     "output_type": "stream",
     "text": [
      "https://reviews.webmd.com/drugs/drugreview-8647-doxepin-hcl-capsule\n"
     ]
    },
    {
     "name": "stderr",
     "output_type": "stream",
     "text": [
      "\n",
      "  0%|          | 0/13 [00:00<?, ?it/s]\u001b[A\n",
      "  8%|▊         | 1/13 [00:01<00:15,  1.32s/it]\u001b[A\n",
      " 15%|█▌        | 2/13 [00:02<00:14,  1.31s/it]\u001b[A\n",
      " 23%|██▎       | 3/13 [00:03<00:12,  1.30s/it]\u001b[A\n",
      " 31%|███       | 4/13 [00:05<00:12,  1.44s/it]\u001b[A\n",
      " 38%|███▊      | 5/13 [00:06<00:11,  1.40s/it]\u001b[A\n",
      " 46%|████▌     | 6/13 [00:08<00:09,  1.35s/it]\u001b[A\n",
      " 54%|█████▍    | 7/13 [00:09<00:08,  1.34s/it]\u001b[A\n",
      " 62%|██████▏   | 8/13 [00:10<00:06,  1.29s/it]\u001b[A\n",
      " 69%|██████▉   | 9/13 [00:11<00:05,  1.26s/it]\u001b[A\n",
      " 77%|███████▋  | 10/13 [00:13<00:03,  1.33s/it]\u001b[A\n",
      " 85%|████████▍ | 11/13 [00:14<00:02,  1.28s/it]\u001b[A\n",
      " 92%|█████████▏| 12/13 [00:15<00:01,  1.30s/it]\u001b[A\n",
      "100%|██████████| 13/13 [00:17<00:00,  1.32s/it]\n",
      " 90%|████████▉ | 371/413 [1:00:49<17:56, 25.62s/it]"
     ]
    },
    {
     "name": "stdout",
     "output_type": "stream",
     "text": [
      "https://reviews.webmd.com/drugs/drugreview-8647-doxepin-hcl-concentrate\n"
     ]
    },
    {
     "name": "stderr",
     "output_type": "stream",
     "text": [
      "\n",
      "  0%|          | 0/13 [00:00<?, ?it/s]\u001b[A\n",
      "  8%|▊         | 1/13 [00:01<00:15,  1.30s/it]\u001b[A\n",
      " 15%|█▌        | 2/13 [00:02<00:16,  1.47s/it]\u001b[A\n",
      " 23%|██▎       | 3/13 [00:04<00:13,  1.33s/it]\u001b[A\n",
      " 31%|███       | 4/13 [00:05<00:11,  1.32s/it]\u001b[A\n",
      " 38%|███▊      | 5/13 [00:06<00:10,  1.30s/it]\u001b[A\n",
      " 46%|████▌     | 6/13 [00:08<00:09,  1.33s/it]\u001b[A\n",
      " 54%|█████▍    | 7/13 [00:09<00:08,  1.44s/it]\u001b[A\n",
      " 62%|██████▏   | 8/13 [00:10<00:06,  1.35s/it]\u001b[A\n",
      " 69%|██████▉   | 9/13 [00:12<00:05,  1.31s/it]\u001b[A\n",
      " 77%|███████▋  | 10/13 [00:13<00:03,  1.32s/it]\u001b[A\n",
      " 85%|████████▍ | 11/13 [00:14<00:02,  1.28s/it]\u001b[A\n",
      " 92%|█████████▏| 12/13 [00:15<00:01,  1.25s/it]\u001b[A\n",
      "100%|██████████| 13/13 [00:17<00:00,  1.32s/it]\n",
      " 90%|█████████ | 372/413 [1:01:07<16:00, 23.43s/it]"
     ]
    },
    {
     "name": "stdout",
     "output_type": "stream",
     "text": [
      "https://reviews.webmd.com/drugs/drugreview-8661-haloperidol\n"
     ]
    },
    {
     "name": "stderr",
     "output_type": "stream",
     "text": [
      "\n",
      "  0%|          | 0/3 [00:00<?, ?it/s]\u001b[A\n",
      " 33%|███▎      | 1/3 [00:01<00:02,  1.21s/it]\u001b[A\n",
      " 67%|██████▋   | 2/3 [00:02<00:01,  1.21s/it]\u001b[A\n",
      "100%|██████████| 3/3 [00:03<00:00,  1.25s/it]\n",
      " 90%|█████████ | 373/413 [1:01:13<12:11, 18.28s/it]"
     ]
    },
    {
     "name": "stdout",
     "output_type": "stream",
     "text": [
      "https://reviews.webmd.com/drugs/drugreview-8664-imipramine-hcl\n"
     ]
    },
    {
     "name": "stderr",
     "output_type": "stream",
     "text": [
      "\n",
      "  0%|          | 0/6 [00:00<?, ?it/s]\u001b[A\n",
      " 17%|█▋        | 1/6 [00:01<00:08,  1.68s/it]\u001b[A\n",
      " 33%|███▎      | 2/6 [00:02<00:05,  1.46s/it]\u001b[A\n",
      " 50%|█████     | 3/6 [00:04<00:04,  1.46s/it]\u001b[A\n",
      " 67%|██████▋   | 4/6 [00:05<00:02,  1.46s/it]\u001b[A\n",
      " 83%|████████▎ | 5/6 [00:07<00:01,  1.42s/it]\u001b[A\n",
      "100%|██████████| 6/6 [00:08<00:00,  1.48s/it]\n",
      " 91%|█████████ | 375/413 [1:01:26<07:24, 11.69s/it]"
     ]
    },
    {
     "name": "stdout",
     "output_type": "stream",
     "text": [
      "skipping https://reviews.webmd.com/drugs/drugreview-8672-maprotiline-tablet: page not found\n",
      "https://reviews.webmd.com/drugs/drugreview-87706-libritabs-tablet\n"
     ]
    },
    {
     "name": "stderr",
     "output_type": "stream",
     "text": [
      " 91%|█████████▏| 377/413 [1:01:28<03:51,  6.43s/it]"
     ]
    },
    {
     "name": "stdout",
     "output_type": "stream",
     "text": [
      "skipping https://reviews.webmd.com/drugs/drugreview-8824-perphenazine-solution: page not found\n",
      "https://reviews.webmd.com/drugs/drugreview-8825-perphenazine\n"
     ]
    },
    {
     "name": "stderr",
     "output_type": "stream",
     "text": [
      "\n",
      "  0%|          | 0/2 [00:00<?, ?it/s]\u001b[A\n",
      " 50%|█████     | 1/2 [00:01<00:01,  1.27s/it]\u001b[A\n",
      "100%|██████████| 2/2 [00:02<00:00,  1.27s/it]\n",
      " 92%|█████████▏| 378/413 [1:01:34<03:31,  6.03s/it]"
     ]
    },
    {
     "name": "stdout",
     "output_type": "stream",
     "text": [
      "https://reviews.webmd.com/drugs/drugreview-8827-phenelzine-sulfate\n"
     ]
    },
    {
     "name": "stderr",
     "output_type": "stream",
     "text": [
      "\n",
      "  0%|          | 0/1 [00:00<?, ?it/s]\u001b[A\n",
      "100%|██████████| 1/1 [00:00<00:00,  1.14it/s]\n",
      " 92%|█████████▏| 379/413 [1:01:36<02:52,  5.07s/it]"
     ]
    },
    {
     "name": "stdout",
     "output_type": "stream",
     "text": [
      "https://reviews.webmd.com/drugs/drugreview-8885-valproic-acid\n"
     ]
    },
    {
     "name": "stderr",
     "output_type": "stream",
     "text": [
      "\n",
      "  0%|          | 0/4 [00:00<?, ?it/s]\u001b[A\n",
      " 25%|██▌       | 1/4 [00:01<00:05,  1.72s/it]\u001b[A\n",
      " 50%|█████     | 2/4 [00:02<00:02,  1.42s/it]\u001b[A\n",
      " 75%|███████▌  | 3/4 [00:04<00:01,  1.36s/it]\u001b[A\n",
      "100%|██████████| 4/4 [00:05<00:00,  1.38s/it]\n",
      " 92%|█████████▏| 380/413 [1:01:44<03:14,  5.88s/it]"
     ]
    },
    {
     "name": "stdout",
     "output_type": "stream",
     "text": [
      "https://reviews.webmd.com/drugs/drugreview-8885-valproic-acid-syrup\n"
     ]
    },
    {
     "name": "stderr",
     "output_type": "stream",
     "text": [
      "\n",
      "  0%|          | 0/4 [00:00<?, ?it/s]\u001b[A\n",
      " 25%|██▌       | 1/4 [00:01<00:03,  1.31s/it]\u001b[A\n",
      " 50%|█████     | 2/4 [00:02<00:02,  1.48s/it]\u001b[A\n",
      " 75%|███████▌  | 3/4 [00:04<00:01,  1.32s/it]\u001b[A\n",
      "100%|██████████| 4/4 [00:05<00:00,  1.34s/it]\n",
      " 92%|█████████▏| 382/413 [1:01:52<02:22,  4.60s/it]"
     ]
    },
    {
     "name": "stdout",
     "output_type": "stream",
     "text": [
      "skipping https://reviews.webmd.com/drugs/drugreview-8891-fluphenazine-hcl-vial: page not found\n",
      "https://reviews.webmd.com/drugs/drugreview-8892-lorazepam\n"
     ]
    },
    {
     "name": "stderr",
     "output_type": "stream",
     "text": [
      "\n",
      "  0%|          | 0/31 [00:00<?, ?it/s]\u001b[A\n",
      "  3%|▎         | 1/31 [00:01<00:37,  1.26s/it]\u001b[A\n",
      "  6%|▋         | 2/31 [00:02<00:41,  1.43s/it]\u001b[A\n",
      " 10%|▉         | 3/31 [00:04<00:38,  1.38s/it]\u001b[A\n",
      " 13%|█▎        | 4/31 [00:05<00:35,  1.31s/it]\u001b[A\n",
      " 16%|█▌        | 5/31 [00:06<00:32,  1.26s/it]\u001b[A\n",
      " 19%|█▉        | 6/31 [00:07<00:31,  1.27s/it]\u001b[A\n",
      " 23%|██▎       | 7/31 [00:09<00:30,  1.29s/it]\u001b[A\n",
      " 26%|██▌       | 8/31 [00:10<00:31,  1.39s/it]\u001b[A\n",
      " 29%|██▉       | 9/31 [00:11<00:29,  1.33s/it]\u001b[A\n",
      " 32%|███▏      | 10/31 [00:13<00:27,  1.32s/it]\u001b[A\n",
      " 35%|███▌      | 11/31 [00:14<00:26,  1.32s/it]\u001b[A\n",
      " 39%|███▊      | 12/31 [00:15<00:25,  1.32s/it]\u001b[A\n",
      " 42%|████▏     | 13/31 [00:17<00:24,  1.37s/it]\u001b[A\n",
      " 45%|████▌     | 14/31 [00:18<00:22,  1.34s/it]\u001b[A\n",
      " 48%|████▊     | 15/31 [00:19<00:21,  1.33s/it]\u001b[A\n",
      " 52%|█████▏    | 16/31 [00:21<00:19,  1.32s/it]\u001b[A\n",
      " 55%|█████▍    | 17/31 [00:22<00:18,  1.36s/it]\u001b[A\n",
      " 58%|█████▊    | 18/31 [00:23<00:17,  1.34s/it]\u001b[A\n",
      " 61%|██████▏   | 19/31 [00:25<00:16,  1.39s/it]\u001b[A\n",
      " 65%|██████▍   | 20/31 [00:26<00:14,  1.34s/it]\u001b[A\n",
      " 68%|██████▊   | 21/31 [00:27<00:12,  1.29s/it]\u001b[A\n",
      " 71%|███████   | 22/31 [00:29<00:11,  1.30s/it]\u001b[A\n",
      " 74%|███████▍  | 23/31 [00:30<00:10,  1.27s/it]\u001b[A\n",
      " 77%|███████▋  | 24/31 [00:32<00:09,  1.39s/it]\u001b[A\n",
      " 81%|████████  | 25/31 [00:33<00:08,  1.41s/it]\u001b[A\n",
      " 84%|████████▍ | 26/31 [00:34<00:06,  1.39s/it]\u001b[A\n",
      " 87%|████████▋ | 27/31 [00:36<00:05,  1.32s/it]\u001b[A\n",
      " 90%|█████████ | 28/31 [00:37<00:04,  1.34s/it]\u001b[A\n",
      " 94%|█████████▎| 29/31 [00:38<00:02,  1.30s/it]\u001b[A\n",
      " 97%|█████████▋| 30/31 [00:40<00:01,  1.36s/it]\u001b[A\n",
      "100%|██████████| 31/31 [00:41<00:00,  1.34s/it]\n",
      " 93%|█████████▎| 383/413 [1:02:36<08:11, 16.38s/it]"
     ]
    },
    {
     "name": "stdout",
     "output_type": "stream",
     "text": [
      "https://reviews.webmd.com/drugs/drugreview-8892-lorazepam-capsule-4-hr-capsule-er-hr\n"
     ]
    },
    {
     "name": "stderr",
     "output_type": "stream",
     "text": [
      "\n",
      "  0%|          | 0/31 [00:00<?, ?it/s]\u001b[A\n",
      "  3%|▎         | 1/31 [00:01<00:38,  1.27s/it]\u001b[A\n",
      "  6%|▋         | 2/31 [00:02<00:37,  1.28s/it]\u001b[A\n",
      " 10%|▉         | 3/31 [00:04<00:38,  1.36s/it]\u001b[A\n",
      " 13%|█▎        | 4/31 [00:05<00:38,  1.43s/it]\u001b[A\n",
      " 16%|█▌        | 5/31 [00:06<00:34,  1.34s/it]\u001b[A\n",
      " 19%|█▉        | 6/31 [00:07<00:32,  1.30s/it]\u001b[A\n",
      " 23%|██▎       | 7/31 [00:09<00:30,  1.26s/it]\u001b[A\n",
      " 26%|██▌       | 8/31 [00:10<00:28,  1.24s/it]\u001b[A\n",
      " 29%|██▉       | 9/31 [00:11<00:29,  1.33s/it]\u001b[A\n",
      " 32%|███▏      | 10/31 [00:13<00:28,  1.36s/it]\u001b[A\n",
      " 35%|███▌      | 11/31 [00:14<00:26,  1.34s/it]\u001b[A\n",
      " 39%|███▊      | 12/31 [00:15<00:25,  1.35s/it]\u001b[A\n",
      " 42%|████▏     | 13/31 [00:17<00:23,  1.32s/it]\u001b[A\n",
      " 45%|████▌     | 14/31 [00:18<00:21,  1.28s/it]\u001b[A\n",
      " 48%|████▊     | 15/31 [00:19<00:21,  1.36s/it]\u001b[A\n",
      " 52%|█████▏    | 16/31 [00:21<00:19,  1.31s/it]\u001b[A\n",
      " 55%|█████▍    | 17/31 [00:22<00:18,  1.32s/it]\u001b[A\n",
      " 58%|█████▊    | 18/31 [00:23<00:17,  1.35s/it]\u001b[A\n",
      " 61%|██████▏   | 19/31 [00:25<00:16,  1.35s/it]\u001b[A\n",
      " 65%|██████▍   | 20/31 [00:26<00:15,  1.37s/it]\u001b[A\n",
      " 68%|██████▊   | 21/31 [00:27<00:13,  1.30s/it]\u001b[A\n",
      " 71%|███████   | 22/31 [00:29<00:11,  1.31s/it]\u001b[A\n",
      " 74%|███████▍  | 23/31 [00:30<00:10,  1.32s/it]\u001b[A\n",
      " 77%|███████▋  | 24/31 [00:31<00:08,  1.28s/it]\u001b[A\n",
      " 81%|████████  | 25/31 [00:32<00:07,  1.25s/it]\u001b[A\n",
      " 84%|████████▍ | 26/31 [00:34<00:06,  1.38s/it]\u001b[A\n",
      " 87%|████████▋ | 27/31 [00:35<00:05,  1.37s/it]\u001b[A\n",
      " 90%|█████████ | 28/31 [00:37<00:03,  1.32s/it]\u001b[A\n",
      " 94%|█████████▎| 29/31 [00:38<00:02,  1.36s/it]\u001b[A\n",
      " 97%|█████████▋| 30/31 [00:39<00:01,  1.35s/it]\u001b[A\n",
      "100%|██████████| 31/31 [00:41<00:00,  1.34s/it]\n",
      " 93%|█████████▎| 384/413 [1:03:18<11:42, 24.23s/it]"
     ]
    },
    {
     "name": "stdout",
     "output_type": "stream",
     "text": [
      "https://reviews.webmd.com/drugs/drugreview-8892-lorazepam-concentrate\n"
     ]
    },
    {
     "name": "stderr",
     "output_type": "stream",
     "text": [
      "\n",
      "  0%|          | 0/31 [00:00<?, ?it/s]\u001b[A\n",
      "  3%|▎         | 1/31 [00:01<00:39,  1.32s/it]\u001b[A\n",
      "  6%|▋         | 2/31 [00:02<00:38,  1.32s/it]\u001b[A\n",
      " 10%|▉         | 3/31 [00:03<00:35,  1.25s/it]\u001b[A\n",
      " 13%|█▎        | 4/31 [00:04<00:33,  1.22s/it]\u001b[A\n",
      " 16%|█▌        | 5/31 [00:06<00:33,  1.31s/it]\u001b[A\n",
      " 19%|█▉        | 6/31 [00:07<00:32,  1.30s/it]\u001b[A\n",
      " 23%|██▎       | 7/31 [00:09<00:32,  1.35s/it]\u001b[A\n",
      " 26%|██▌       | 8/31 [00:10<00:29,  1.30s/it]\u001b[A\n",
      " 29%|██▉       | 9/31 [00:11<00:29,  1.35s/it]\u001b[A\n",
      " 32%|███▏      | 10/31 [00:13<00:27,  1.33s/it]\u001b[A\n",
      " 35%|███▌      | 11/31 [00:14<00:29,  1.45s/it]\u001b[A\n",
      " 39%|███▊      | 12/31 [00:16<00:27,  1.44s/it]\u001b[A\n",
      " 42%|████▏     | 13/31 [00:17<00:24,  1.36s/it]\u001b[A\n",
      " 45%|████▌     | 14/31 [00:18<00:22,  1.33s/it]\u001b[A\n",
      " 48%|████▊     | 15/31 [00:20<00:21,  1.32s/it]\u001b[A\n",
      " 52%|█████▏    | 16/31 [00:21<00:21,  1.41s/it]\u001b[A\n",
      " 55%|█████▍    | 17/31 [00:22<00:18,  1.33s/it]\u001b[A\n",
      " 58%|█████▊    | 18/31 [00:24<00:18,  1.39s/it]\u001b[A\n",
      " 61%|██████▏   | 19/31 [00:25<00:15,  1.32s/it]\u001b[A\n",
      " 65%|██████▍   | 20/31 [00:26<00:14,  1.32s/it]\u001b[A\n",
      " 68%|██████▊   | 21/31 [00:28<00:13,  1.36s/it]\u001b[A\n",
      " 71%|███████   | 22/31 [00:29<00:12,  1.43s/it]\u001b[A\n",
      " 74%|███████▍  | 23/31 [00:31<00:11,  1.45s/it]\u001b[A\n",
      " 77%|███████▋  | 24/31 [00:32<00:09,  1.41s/it]\u001b[A\n",
      " 81%|████████  | 25/31 [00:33<00:08,  1.39s/it]\u001b[A\n",
      " 84%|████████▍ | 26/31 [00:35<00:07,  1.52s/it]\u001b[A\n",
      " 87%|████████▋ | 27/31 [00:37<00:05,  1.47s/it]\u001b[A\n",
      " 90%|█████████ | 28/31 [00:38<00:04,  1.41s/it]\u001b[A\n",
      " 94%|█████████▎| 29/31 [00:39<00:02,  1.38s/it]\u001b[A\n",
      " 97%|█████████▋| 30/31 [00:40<00:01,  1.34s/it]\u001b[A\n",
      "100%|██████████| 31/31 [00:42<00:00,  1.36s/it]\n",
      " 93%|█████████▎| 385/413 [1:04:02<13:59, 29.99s/it]"
     ]
    },
    {
     "name": "stdout",
     "output_type": "stream",
     "text": [
      "https://reviews.webmd.com/drugs/drugreview-89444-buproban-tablet-er-12-hr\n"
     ]
    },
    {
     "name": "stderr",
     "output_type": "stream",
     "text": [
      "\n",
      "  0%|          | 0/1 [00:00<?, ?it/s]\u001b[A\n",
      "100%|██████████| 1/1 [00:01<00:00,  1.43s/it]\n",
      " 93%|█████████▎| 386/413 [1:04:05<09:54, 22.02s/it]"
     ]
    },
    {
     "name": "stdout",
     "output_type": "stream",
     "text": [
      "https://reviews.webmd.com/drugs/drugreview-9009-atazine-tablet\n"
     ]
    },
    {
     "name": "stderr",
     "output_type": "stream",
     "text": [
      " 94%|█████████▎| 387/413 [1:04:07<06:55, 15.96s/it]"
     ]
    },
    {
     "name": "stdout",
     "output_type": "stream",
     "text": [
      "https://reviews.webmd.com/drugs/drugreview-9118-depakote-sprinkle\n"
     ]
    },
    {
     "name": "stderr",
     "output_type": "stream",
     "text": [
      "\n",
      "  0%|          | 0/2 [00:00<?, ?it/s]\u001b[A\n",
      " 50%|█████     | 1/2 [00:01<00:01,  1.25s/it]\u001b[A\n",
      "100%|██████████| 2/2 [00:02<00:00,  1.31s/it]\n",
      " 94%|█████████▍| 388/413 [1:04:12<05:14, 12.57s/it]"
     ]
    },
    {
     "name": "stdout",
     "output_type": "stream",
     "text": [
      "https://reviews.webmd.com/drugs/drugreview-9127-di-tran-tablet\n"
     ]
    },
    {
     "name": "stderr",
     "output_type": "stream",
     "text": [
      " 94%|█████████▍| 390/413 [1:04:15<02:40,  6.99s/it]"
     ]
    },
    {
     "name": "stdout",
     "output_type": "stream",
     "text": [
      "skipping https://reviews.webmd.com/drugs/drugreview-91411-chlorpromazine-suppository: page not found\n",
      "https://reviews.webmd.com/drugs/drugreview-91490-duloxetine-capsule-delayed-release-sprinkle\n"
     ]
    },
    {
     "name": "stderr",
     "output_type": "stream",
     "text": [
      "\n",
      "  0%|          | 0/11 [00:00<?, ?it/s]\u001b[A\n",
      "  9%|▉         | 1/11 [00:01<00:16,  1.64s/it]\u001b[A\n",
      " 18%|█▊        | 2/11 [00:02<00:12,  1.43s/it]\u001b[A\n",
      " 27%|██▋       | 3/11 [00:04<00:11,  1.40s/it]\u001b[A\n",
      " 36%|███▋      | 4/11 [00:05<00:09,  1.37s/it]\u001b[A\n",
      " 45%|████▌     | 5/11 [00:06<00:08,  1.37s/it]\u001b[A\n",
      " 55%|█████▍    | 6/11 [00:08<00:06,  1.39s/it]\u001b[A\n",
      " 64%|██████▎   | 7/11 [00:09<00:05,  1.40s/it]\u001b[A\n",
      " 73%|███████▎  | 8/11 [00:11<00:04,  1.39s/it]\u001b[A\n",
      " 82%|████████▏ | 9/11 [00:12<00:02,  1.37s/it]\u001b[A\n",
      " 91%|█████████ | 10/11 [00:13<00:01,  1.34s/it]\u001b[A\n",
      "100%|██████████| 11/11 [00:14<00:00,  1.36s/it]\n",
      " 95%|█████████▍| 391/413 [1:04:32<03:41, 10.08s/it]"
     ]
    },
    {
     "name": "stdout",
     "output_type": "stream",
     "text": [
      "https://reviews.webmd.com/drugs/drugreview-91490-duloxetine-hcl\n"
     ]
    },
    {
     "name": "stderr",
     "output_type": "stream",
     "text": [
      "\n",
      "  0%|          | 0/11 [00:00<?, ?it/s]\u001b[A\n",
      "  9%|▉         | 1/11 [00:01<00:15,  1.55s/it]\u001b[A\n",
      " 18%|█▊        | 2/11 [00:02<00:13,  1.45s/it]\u001b[A\n",
      " 27%|██▋       | 3/11 [00:04<00:11,  1.39s/it]\u001b[A\n",
      " 36%|███▋      | 4/11 [00:05<00:09,  1.32s/it]\u001b[A\n",
      " 45%|████▌     | 5/11 [00:06<00:07,  1.32s/it]\u001b[A\n",
      " 55%|█████▍    | 6/11 [00:08<00:07,  1.44s/it]\u001b[A\n",
      " 64%|██████▎   | 7/11 [00:09<00:05,  1.36s/it]\u001b[A\n",
      " 73%|███████▎  | 8/11 [00:10<00:03,  1.32s/it]\u001b[A\n",
      " 82%|████████▏ | 9/11 [00:12<00:02,  1.30s/it]\u001b[A\n",
      " 91%|█████████ | 10/11 [00:13<00:01,  1.26s/it]\u001b[A\n",
      "100%|██████████| 11/11 [00:14<00:00,  1.36s/it]\n",
      " 95%|█████████▍| 392/413 [1:04:48<04:08, 11.85s/it]"
     ]
    },
    {
     "name": "stdout",
     "output_type": "stream",
     "text": [
      "https://reviews.webmd.com/drugs/drugreview-91491-cymbalta\n"
     ]
    },
    {
     "name": "stderr",
     "output_type": "stream",
     "text": [
      "\n",
      "  0%|          | 0/235 [00:00<?, ?it/s]\u001b[A\n",
      "  0%|          | 1/235 [00:01<05:18,  1.36s/it]\u001b[A\n",
      "  1%|          | 2/235 [00:02<05:18,  1.37s/it]\u001b[A\n",
      "  1%|▏         | 3/235 [00:04<05:21,  1.39s/it]\u001b[A\n",
      "  2%|▏         | 4/235 [00:05<05:24,  1.40s/it]\u001b[A\n",
      "  2%|▏         | 5/235 [00:06<05:18,  1.38s/it]\u001b[A\n",
      "  3%|▎         | 6/235 [00:08<05:14,  1.37s/it]\u001b[A\n",
      "  3%|▎         | 7/235 [00:09<05:14,  1.38s/it]\u001b[A\n",
      "  3%|▎         | 8/235 [00:11<05:12,  1.38s/it]\u001b[A\n",
      "  4%|▍         | 9/235 [00:12<04:58,  1.32s/it]\u001b[A\n",
      "  4%|▍         | 10/235 [00:13<04:47,  1.28s/it]\u001b[A\n",
      "  5%|▍         | 11/235 [00:15<05:17,  1.42s/it]\u001b[A\n",
      "  5%|▌         | 12/235 [00:16<05:12,  1.40s/it]\u001b[A\n",
      "  6%|▌         | 13/235 [00:17<05:13,  1.41s/it]\u001b[A\n",
      "  6%|▌         | 14/235 [00:19<05:10,  1.40s/it]\u001b[A\n",
      "  6%|▋         | 15/235 [00:20<04:54,  1.34s/it]\u001b[A\n",
      "  7%|▋         | 16/235 [00:21<04:48,  1.32s/it]\u001b[A\n",
      "  7%|▋         | 17/235 [00:23<05:10,  1.42s/it]\u001b[A\n",
      "  8%|▊         | 18/235 [00:24<05:03,  1.40s/it]\u001b[A\n",
      "  8%|▊         | 19/235 [00:26<04:57,  1.38s/it]\u001b[A\n",
      "  9%|▊         | 20/235 [00:27<04:55,  1.37s/it]\u001b[A\n",
      "  9%|▉         | 21/235 [00:28<04:44,  1.33s/it]\u001b[A\n",
      "  9%|▉         | 22/235 [00:30<05:07,  1.44s/it]\u001b[A\n",
      " 10%|▉         | 23/235 [00:31<04:53,  1.39s/it]\u001b[A\n",
      " 10%|█         | 24/235 [00:32<04:40,  1.33s/it]\u001b[A\n",
      " 11%|█         | 25/235 [00:34<04:32,  1.30s/it]\u001b[A\n",
      " 11%|█         | 26/235 [00:35<04:35,  1.32s/it]\u001b[A\n",
      " 11%|█▏        | 27/235 [00:36<04:37,  1.33s/it]\u001b[A\n",
      " 12%|█▏        | 28/235 [00:38<04:59,  1.45s/it]\u001b[A\n",
      " 12%|█▏        | 29/235 [00:39<04:52,  1.42s/it]\u001b[A\n",
      " 13%|█▎        | 30/235 [00:41<04:46,  1.40s/it]\u001b[A\n",
      " 13%|█▎        | 31/235 [00:42<04:41,  1.38s/it]\u001b[A\n",
      " 14%|█▎        | 32/235 [00:43<04:30,  1.33s/it]\u001b[A\n",
      " 14%|█▍        | 33/235 [00:45<04:23,  1.30s/it]\u001b[A\n",
      " 14%|█▍        | 34/235 [00:46<04:45,  1.42s/it]\u001b[A\n",
      " 15%|█▍        | 35/235 [00:48<04:38,  1.39s/it]\u001b[A\n",
      " 15%|█▌        | 36/235 [00:49<04:27,  1.35s/it]\u001b[A\n",
      " 16%|█▌        | 37/235 [00:50<04:21,  1.32s/it]\u001b[A\n",
      " 16%|█▌        | 38/235 [00:51<04:24,  1.34s/it]\u001b[A\n",
      " 17%|█▋        | 39/235 [00:53<04:26,  1.36s/it]\u001b[A\n",
      " 17%|█▋        | 40/235 [00:54<04:17,  1.32s/it]\u001b[A\n",
      " 17%|█▋        | 41/235 [00:56<04:22,  1.35s/it]\u001b[A\n",
      " 18%|█▊        | 42/235 [00:57<04:30,  1.40s/it]\u001b[A\n",
      " 18%|█▊        | 43/235 [00:58<04:21,  1.36s/it]\u001b[A\n",
      " 19%|█▊        | 44/235 [01:00<04:25,  1.39s/it]\u001b[A\n",
      " 19%|█▉        | 45/235 [01:01<04:27,  1.41s/it]\u001b[A\n",
      " 20%|█▉        | 46/235 [01:03<04:24,  1.40s/it]\u001b[A\n",
      " 20%|██        | 47/235 [01:04<04:16,  1.36s/it]\u001b[A\n",
      " 20%|██        | 48/235 [01:05<04:14,  1.36s/it]\u001b[A\n",
      " 21%|██        | 49/235 [01:07<04:14,  1.37s/it]\u001b[A\n",
      " 21%|██▏       | 50/235 [01:08<04:16,  1.38s/it]\u001b[A\n",
      " 22%|██▏       | 51/235 [01:10<04:20,  1.42s/it]\u001b[A\n",
      " 22%|██▏       | 52/235 [01:11<04:17,  1.41s/it]\u001b[A\n",
      " 23%|██▎       | 53/235 [01:12<04:16,  1.41s/it]\u001b[A\n",
      " 23%|██▎       | 54/235 [01:14<04:08,  1.37s/it]\u001b[A\n",
      " 23%|██▎       | 55/235 [01:15<04:07,  1.38s/it]\u001b[A\n",
      " 24%|██▍       | 56/235 [01:17<04:26,  1.49s/it]\u001b[A\n",
      " 24%|██▍       | 57/235 [01:18<04:18,  1.45s/it]\u001b[A\n",
      " 25%|██▍       | 58/235 [01:19<04:09,  1.41s/it]\u001b[A\n",
      " 25%|██▌       | 59/235 [01:21<03:54,  1.33s/it]\u001b[A\n",
      " 26%|██▌       | 60/235 [01:22<03:50,  1.31s/it]\u001b[A\n",
      " 26%|██▌       | 61/235 [01:23<03:46,  1.30s/it]\u001b[A\n",
      " 26%|██▋       | 62/235 [01:25<04:05,  1.42s/it]\u001b[A\n",
      " 27%|██▋       | 63/235 [01:26<04:00,  1.40s/it]\u001b[A\n",
      " 27%|██▋       | 64/235 [01:27<03:50,  1.35s/it]\u001b[A\n",
      " 28%|██▊       | 65/235 [01:29<03:41,  1.30s/it]\u001b[A\n",
      " 28%|██▊       | 66/235 [01:30<03:45,  1.33s/it]\u001b[A\n",
      " 29%|██▊       | 67/235 [01:32<04:02,  1.44s/it]\u001b[A\n",
      " 29%|██▉       | 68/235 [01:33<03:55,  1.41s/it]\u001b[A\n",
      " 29%|██▉       | 69/235 [01:34<03:49,  1.38s/it]\u001b[A\n",
      " 30%|██▉       | 70/235 [01:36<03:43,  1.36s/it]\u001b[A\n",
      " 30%|███       | 71/235 [01:37<03:32,  1.29s/it]\u001b[A\n",
      " 31%|███       | 72/235 [01:38<03:32,  1.30s/it]\u001b[A\n",
      " 31%|███       | 73/235 [01:40<03:48,  1.41s/it]\u001b[A\n",
      " 31%|███▏      | 74/235 [01:41<03:45,  1.40s/it]\u001b[A\n",
      " 32%|███▏      | 75/235 [01:42<03:40,  1.38s/it]\u001b[A\n",
      " 32%|███▏      | 76/235 [01:44<03:43,  1.41s/it]\u001b[A\n",
      " 33%|███▎      | 77/235 [01:45<03:35,  1.36s/it]\u001b[A\n",
      " 33%|███▎      | 78/235 [01:47<03:31,  1.35s/it]\u001b[A\n",
      " 34%|███▎      | 79/235 [01:48<03:43,  1.43s/it]\u001b[A\n",
      " 34%|███▍      | 80/235 [01:49<03:32,  1.37s/it]\u001b[A\n",
      " 34%|███▍      | 81/235 [01:51<03:24,  1.33s/it]\u001b[A\n",
      " 35%|███▍      | 82/235 [01:52<03:24,  1.34s/it]\u001b[A\n",
      " 35%|███▌      | 83/235 [01:53<03:18,  1.30s/it]\u001b[A\n",
      " 36%|███▌      | 84/235 [01:55<03:24,  1.36s/it]\u001b[A\n",
      " 36%|███▌      | 85/235 [01:56<03:23,  1.36s/it]\u001b[A\n",
      " 37%|███▋      | 86/235 [01:57<03:12,  1.29s/it]\u001b[A\n",
      " 37%|███▋      | 87/235 [01:59<03:13,  1.30s/it]\u001b[A\n",
      " 37%|███▋      | 88/235 [02:00<03:41,  1.51s/it]\u001b[A\n",
      " 38%|███▊      | 89/235 [02:02<03:31,  1.45s/it]\u001b[A\n",
      " 38%|███▊      | 90/235 [02:03<03:31,  1.46s/it]\u001b[A\n",
      " 39%|███▊      | 91/235 [02:05<03:26,  1.43s/it]\u001b[A\n",
      " 39%|███▉      | 92/235 [02:06<03:18,  1.39s/it]\u001b[A\n",
      " 40%|███▉      | 93/235 [02:07<03:18,  1.40s/it]\u001b[A\n",
      " 40%|████      | 94/235 [02:09<03:15,  1.39s/it]\u001b[A\n",
      " 40%|████      | 95/235 [02:10<03:26,  1.48s/it]\u001b[A\n",
      " 41%|████      | 96/235 [02:12<03:19,  1.44s/it]\u001b[A\n",
      " 41%|████▏     | 97/235 [02:13<03:15,  1.42s/it]\u001b[A\n",
      " 42%|████▏     | 98/235 [02:15<03:16,  1.43s/it]\u001b[A\n",
      " 42%|████▏     | 99/235 [02:16<03:11,  1.41s/it]\u001b[A\n",
      " 43%|████▎     | 100/235 [02:17<03:05,  1.38s/it]\u001b[A\n",
      " 43%|████▎     | 101/235 [02:19<03:14,  1.45s/it]\u001b[A\n",
      " 43%|████▎     | 102/235 [02:20<03:11,  1.44s/it]\u001b[A\n",
      " 44%|████▍     | 103/235 [02:22<03:06,  1.41s/it]\u001b[A\n",
      " 44%|████▍     | 104/235 [02:23<03:02,  1.39s/it]\u001b[A\n",
      " 45%|████▍     | 105/235 [02:24<03:01,  1.40s/it]\u001b[A\n",
      " 45%|████▌     | 106/235 [02:26<02:52,  1.34s/it]\u001b[A\n",
      " 46%|████▌     | 107/235 [02:27<03:03,  1.43s/it]\u001b[A\n",
      " 46%|████▌     | 108/235 [02:29<02:57,  1.40s/it]\u001b[A\n",
      " 46%|████▋     | 109/235 [02:30<02:53,  1.38s/it]\u001b[A\n",
      " 47%|████▋     | 110/235 [02:31<02:53,  1.39s/it]\u001b[A\n",
      " 47%|████▋     | 111/235 [02:33<02:52,  1.39s/it]\u001b[A\n",
      " 48%|████▊     | 112/235 [02:34<02:55,  1.42s/it]\u001b[A\n",
      " 48%|████▊     | 113/235 [02:35<02:45,  1.36s/it]\u001b[A\n",
      " 49%|████▊     | 114/235 [02:37<02:45,  1.36s/it]\u001b[A\n",
      " 49%|████▉     | 115/235 [02:38<02:37,  1.31s/it]\u001b[A\n",
      " 49%|████▉     | 116/235 [02:39<02:38,  1.33s/it]\u001b[A\n",
      " 50%|████▉     | 117/235 [02:41<02:36,  1.32s/it]\u001b[A\n",
      " 50%|█████     | 118/235 [02:42<02:42,  1.39s/it]\u001b[A\n",
      " 51%|█████     | 119/235 [02:44<02:40,  1.38s/it]\u001b[A\n",
      " 51%|█████     | 120/235 [02:45<02:39,  1.39s/it]\u001b[A\n",
      " 51%|█████▏    | 121/235 [02:46<02:35,  1.37s/it]\u001b[A\n",
      " 52%|█████▏    | 122/235 [02:48<02:30,  1.33s/it]\u001b[A\n",
      " 52%|█████▏    | 123/235 [02:49<02:27,  1.32s/it]\u001b[A\n",
      " 53%|█████▎    | 124/235 [02:50<02:34,  1.39s/it]\u001b[A\n",
      " 53%|█████▎    | 125/235 [02:52<02:30,  1.37s/it]\u001b[A\n",
      " 54%|█████▎    | 126/235 [02:53<02:36,  1.44s/it]\u001b[A\n",
      " 54%|█████▍    | 127/235 [02:55<02:31,  1.41s/it]\u001b[A\n",
      " 54%|█████▍    | 128/235 [02:56<02:28,  1.39s/it]\u001b[A\n",
      " 55%|█████▍    | 129/235 [02:57<02:27,  1.39s/it]\u001b[A\n",
      " 55%|█████▌    | 130/235 [02:59<02:26,  1.40s/it]\u001b[A\n",
      " 56%|█████▌    | 131/235 [03:00<02:24,  1.39s/it]\u001b[A\n",
      " 56%|█████▌    | 132/235 [03:01<02:16,  1.33s/it]\u001b[A\n",
      " 57%|█████▋    | 133/235 [03:03<02:10,  1.28s/it]\u001b[A\n",
      " 57%|█████▋    | 134/235 [03:04<02:12,  1.31s/it]\u001b[A\n",
      " 57%|█████▋    | 135/235 [03:06<02:24,  1.45s/it]\u001b[A\n",
      " 58%|█████▊    | 136/235 [03:07<02:16,  1.38s/it]\u001b[A\n",
      " 58%|█████▊    | 137/235 [03:08<02:11,  1.34s/it]\u001b[A\n",
      " 59%|█████▊    | 138/235 [03:09<02:09,  1.34s/it]\u001b[A\n",
      " 59%|█████▉    | 139/235 [03:11<02:04,  1.30s/it]\u001b[A\n",
      " 60%|█████▉    | 140/235 [03:12<02:13,  1.41s/it]\u001b[A\n",
      " 60%|██████    | 141/235 [03:14<02:09,  1.37s/it]\u001b[A\n",
      " 60%|██████    | 142/235 [03:15<02:07,  1.37s/it]\u001b[A\n",
      " 61%|██████    | 143/235 [03:16<02:07,  1.38s/it]\u001b[A\n",
      " 61%|██████▏   | 144/235 [03:18<02:02,  1.35s/it]\u001b[A\n",
      " 62%|██████▏   | 145/235 [03:19<02:02,  1.36s/it]\u001b[A\n",
      " 62%|██████▏   | 146/235 [03:21<02:11,  1.48s/it]\u001b[A\n",
      " 63%|██████▎   | 147/235 [03:22<02:05,  1.43s/it]\u001b[A\n",
      " 63%|██████▎   | 148/235 [03:23<01:58,  1.36s/it]\u001b[A\n",
      " 63%|██████▎   | 149/235 [03:25<01:57,  1.36s/it]\u001b[A\n",
      " 64%|██████▍   | 150/235 [03:26<01:55,  1.36s/it]\u001b[A\n",
      " 64%|██████▍   | 151/235 [03:27<01:52,  1.34s/it]\u001b[A\n",
      " 65%|██████▍   | 152/235 [03:29<01:55,  1.40s/it]\u001b[A\n",
      " 65%|██████▌   | 153/235 [03:30<01:54,  1.39s/it]\u001b[A\n",
      " 66%|██████▌   | 154/235 [03:31<01:48,  1.34s/it]\u001b[A\n",
      " 66%|██████▌   | 155/235 [03:33<01:43,  1.29s/it]\u001b[A\n",
      " 66%|██████▋   | 156/235 [03:34<01:44,  1.32s/it]\u001b[A\n",
      " 67%|██████▋   | 157/235 [03:35<01:44,  1.35s/it]\u001b[A\n",
      " 67%|██████▋   | 158/235 [03:37<01:43,  1.35s/it]\u001b[A\n",
      " 68%|██████▊   | 159/235 [03:38<01:39,  1.30s/it]\u001b[A\n",
      " 68%|██████▊   | 160/235 [03:39<01:38,  1.32s/it]\u001b[A\n",
      " 69%|██████▊   | 161/235 [03:41<01:34,  1.28s/it]\u001b[A\n",
      " 69%|██████▉   | 162/235 [03:42<01:30,  1.23s/it]\u001b[A\n",
      " 69%|██████▉   | 163/235 [03:43<01:32,  1.29s/it]\u001b[A\n",
      " 70%|██████▉   | 164/235 [03:44<01:33,  1.32s/it]\u001b[A\n",
      " 70%|███████   | 165/235 [03:46<01:29,  1.29s/it]\u001b[A\n",
      " 71%|███████   | 166/235 [03:47<01:26,  1.25s/it]\u001b[A\n",
      " 71%|███████   | 167/235 [03:48<01:26,  1.27s/it]\u001b[A\n",
      " 71%|███████▏  | 168/235 [03:50<01:30,  1.35s/it]\u001b[A\n",
      " 72%|███████▏  | 169/235 [03:51<01:25,  1.30s/it]\u001b[A\n",
      " 72%|███████▏  | 170/235 [03:52<01:22,  1.26s/it]\u001b[A\n",
      " 73%|███████▎  | 171/235 [03:53<01:22,  1.29s/it]\u001b[A\n",
      " 73%|███████▎  | 172/235 [03:55<01:22,  1.31s/it]\u001b[A\n",
      " 74%|███████▎  | 173/235 [03:56<01:19,  1.28s/it]\u001b[A\n",
      " 74%|███████▍  | 174/235 [03:58<01:24,  1.39s/it]\u001b[A\n",
      " 74%|███████▍  | 175/235 [03:59<01:19,  1.32s/it]\u001b[A\n",
      " 75%|███████▍  | 176/235 [04:01<01:35,  1.62s/it]\u001b[A\n",
      " 75%|███████▌  | 177/235 [04:02<01:29,  1.54s/it]\u001b[A\n",
      " 76%|███████▌  | 178/235 [04:04<01:21,  1.43s/it]\u001b[A\n",
      " 76%|███████▌  | 179/235 [04:05<01:16,  1.36s/it]\u001b[A\n",
      " 77%|███████▋  | 180/235 [04:06<01:16,  1.39s/it]\u001b[A\n",
      " 77%|███████▋  | 181/235 [04:08<01:14,  1.38s/it]\u001b[A\n",
      " 77%|███████▋  | 182/235 [04:09<01:13,  1.39s/it]\u001b[A\n",
      " 78%|███████▊  | 183/235 [04:10<01:12,  1.39s/it]\u001b[A\n",
      " 78%|███████▊  | 184/235 [04:12<01:09,  1.37s/it]\u001b[A\n",
      " 79%|███████▊  | 185/235 [04:13<01:13,  1.46s/it]\u001b[A\n",
      " 79%|███████▉  | 186/235 [04:15<01:08,  1.39s/it]\u001b[A\n",
      " 80%|███████▉  | 187/235 [04:16<01:06,  1.38s/it]\u001b[A\n",
      " 80%|████████  | 188/235 [04:17<01:02,  1.33s/it]\u001b[A\n",
      " 80%|████████  | 189/235 [04:19<01:01,  1.34s/it]\u001b[A\n",
      " 81%|████████  | 190/235 [04:20<00:57,  1.29s/it]\u001b[A\n",
      " 81%|████████▏ | 191/235 [04:22<01:02,  1.43s/it]\u001b[A\n",
      " 82%|████████▏ | 192/235 [04:23<01:01,  1.43s/it]\u001b[A\n",
      " 82%|████████▏ | 193/235 [04:24<00:59,  1.43s/it]\u001b[A\n",
      " 83%|████████▎ | 194/235 [04:26<00:55,  1.36s/it]\u001b[A\n",
      " 83%|████████▎ | 195/235 [04:27<00:52,  1.31s/it]\u001b[A\n",
      " 83%|████████▎ | 196/235 [04:28<00:51,  1.32s/it]\u001b[A\n",
      " 84%|████████▍ | 197/235 [04:30<00:53,  1.41s/it]\u001b[A\n",
      " 84%|████████▍ | 198/235 [04:31<00:49,  1.35s/it]\u001b[A\n",
      " 85%|████████▍ | 199/235 [04:32<00:46,  1.31s/it]\u001b[A\n",
      " 85%|████████▌ | 200/235 [04:33<00:45,  1.31s/it]\u001b[A\n",
      " 86%|████████▌ | 201/235 [04:35<00:43,  1.29s/it]\u001b[A\n",
      " 86%|████████▌ | 202/235 [04:36<00:46,  1.42s/it]\u001b[A\n",
      " 86%|████████▋ | 203/235 [04:38<00:45,  1.42s/it]\u001b[A\n",
      " 87%|████████▋ | 204/235 [04:39<00:43,  1.40s/it]\u001b[A\n",
      " 87%|████████▋ | 205/235 [04:41<00:41,  1.38s/it]\u001b[A\n",
      " 88%|████████▊ | 206/235 [04:42<00:39,  1.37s/it]\u001b[A\n",
      " 88%|████████▊ | 207/235 [04:43<00:39,  1.41s/it]\u001b[A\n",
      " 89%|████████▊ | 208/235 [04:45<00:39,  1.47s/it]\u001b[A\n",
      " 89%|████████▉ | 209/235 [04:46<00:36,  1.39s/it]\u001b[A\n",
      " 89%|████████▉ | 210/235 [04:48<00:34,  1.38s/it]\u001b[A\n",
      " 90%|████████▉ | 211/235 [04:49<00:32,  1.37s/it]\u001b[A\n",
      " 90%|█████████ | 212/235 [04:50<00:31,  1.37s/it]\u001b[A\n",
      " 91%|█████████ | 213/235 [04:52<00:31,  1.42s/it]\u001b[A\n",
      " 91%|█████████ | 214/235 [04:53<00:28,  1.36s/it]\u001b[A\n",
      " 91%|█████████▏| 215/235 [04:54<00:27,  1.39s/it]\u001b[A\n",
      " 92%|█████████▏| 216/235 [04:56<00:25,  1.34s/it]\u001b[A\n",
      " 92%|█████████▏| 217/235 [04:57<00:23,  1.29s/it]\u001b[A\n",
      " 93%|█████████▎| 218/235 [04:58<00:22,  1.32s/it]\u001b[A\n",
      " 93%|█████████▎| 219/235 [05:00<00:22,  1.41s/it]\u001b[A\n",
      " 94%|█████████▎| 220/235 [05:01<00:20,  1.38s/it]\u001b[A\n",
      " 94%|█████████▍| 221/235 [05:02<00:18,  1.34s/it]\u001b[A\n",
      " 94%|█████████▍| 222/235 [05:04<00:17,  1.36s/it]\u001b[A\n",
      " 95%|█████████▍| 223/235 [05:05<00:16,  1.37s/it]\u001b[A\n",
      " 95%|█████████▌| 224/235 [05:07<00:15,  1.39s/it]\u001b[A\n",
      " 96%|█████████▌| 225/235 [05:08<00:14,  1.43s/it]\u001b[A\n",
      " 96%|█████████▌| 226/235 [05:10<00:12,  1.40s/it]\u001b[A\n",
      " 97%|█████████▋| 227/235 [05:11<00:10,  1.35s/it]\u001b[A\n",
      " 97%|█████████▋| 228/235 [05:12<00:09,  1.35s/it]\u001b[A\n",
      " 97%|█████████▋| 229/235 [05:13<00:08,  1.35s/it]\u001b[A\n",
      " 98%|█████████▊| 230/235 [05:15<00:06,  1.38s/it]\u001b[A\n",
      " 98%|█████████▊| 231/235 [05:16<00:05,  1.32s/it]\u001b[A\n",
      " 99%|█████████▊| 232/235 [05:18<00:04,  1.36s/it]\u001b[A\n",
      " 99%|█████████▉| 233/235 [05:19<00:02,  1.36s/it]\u001b[A\n",
      "100%|█████████▉| 234/235 [05:20<00:01,  1.33s/it]\u001b[A\n",
      "100%|██████████| 235/235 [05:22<00:00,  1.37s/it]\n",
      " 95%|█████████▌| 393/413 [1:10:14<35:19, 105.98s/it]"
     ]
    },
    {
     "name": "stdout",
     "output_type": "stream",
     "text": [
      "https://reviews.webmd.com/drugs/drugreview-9159-endep-tablet\n"
     ]
    },
    {
     "name": "stderr",
     "output_type": "stream",
     "text": [
      "\n",
      "  0%|          | 0/2 [00:00<?, ?it/s]\u001b[A\n",
      " 50%|█████     | 1/2 [00:01<00:01,  1.39s/it]\u001b[A\n",
      "100%|██████████| 2/2 [00:02<00:00,  1.38s/it]\n",
      " 95%|█████████▌| 394/413 [1:10:20<24:02, 75.93s/it] "
     ]
    },
    {
     "name": "stdout",
     "output_type": "stream",
     "text": [
      "https://reviews.webmd.com/drugs/drugreview-9170-eskalith-capsule\n"
     ]
    },
    {
     "name": "stderr",
     "output_type": "stream",
     "text": [
      "\n",
      "  0%|          | 0/5 [00:00<?, ?it/s]\u001b[A\n",
      " 20%|██        | 1/5 [00:01<00:04,  1.18s/it]\u001b[A\n",
      " 40%|████      | 2/5 [00:02<00:03,  1.21s/it]\u001b[A\n",
      " 60%|██████    | 3/5 [00:03<00:02,  1.33s/it]\u001b[A\n",
      " 80%|████████  | 4/5 [00:05<00:01,  1.29s/it]\u001b[A\n",
      "100%|██████████| 5/5 [00:06<00:00,  1.31s/it]\n",
      " 96%|█████████▌| 395/413 [1:10:29<16:46, 55.92s/it]"
     ]
    },
    {
     "name": "stdout",
     "output_type": "stream",
     "text": [
      "https://reviews.webmd.com/drugs/drugreview-9227-h-tran-capsule\n"
     ]
    },
    {
     "name": "stderr",
     "output_type": "stream",
     "text": [
      " 96%|█████████▌| 397/413 [1:10:32<07:31, 28.22s/it]"
     ]
    },
    {
     "name": "stdout",
     "output_type": "stream",
     "text": [
      "skipping https://reviews.webmd.com/drugs/drugreview-92597-haloperidol-lactate-syringe: page not found\n",
      "https://reviews.webmd.com/drugs/drugreview-92783-niravam-tablet-disintegrating\n"
     ]
    },
    {
     "name": "stderr",
     "output_type": "stream",
     "text": [
      "\n",
      "  0%|          | 0/2 [00:00<?, ?it/s]\u001b[A\n",
      " 50%|█████     | 1/2 [00:01<00:01,  1.38s/it]\u001b[A\n",
      "100%|██████████| 2/2 [00:02<00:00,  1.44s/it]\n",
      " 96%|█████████▋| 398/413 [1:10:37<05:20, 21.38s/it]"
     ]
    },
    {
     "name": "stdout",
     "output_type": "stream",
     "text": [
      "https://reviews.webmd.com/drugs/drugreview-9291-lithotabs-tablet\n"
     ]
    },
    {
     "name": "stderr",
     "output_type": "stream",
     "text": [
      "\n",
      "  0%|          | 0/1 [00:00<?, ?it/s]\u001b[A\n",
      "100%|██████████| 1/1 [00:00<00:00,  1.46it/s]\n",
      " 97%|█████████▋| 399/413 [1:10:40<03:41, 15.80s/it]"
     ]
    },
    {
     "name": "stdout",
     "output_type": "stream",
     "text": [
      "https://reviews.webmd.com/drugs/drugreview-9299-mb-tab-tablet\n"
     ]
    },
    {
     "name": "stderr",
     "output_type": "stream",
     "text": [
      " 97%|█████████▋| 400/413 [1:10:42<02:30, 11.60s/it]"
     ]
    },
    {
     "name": "stdout",
     "output_type": "stream",
     "text": [
      "https://reviews.webmd.com/drugs/drugreview-9353-nardil\n"
     ]
    },
    {
     "name": "stderr",
     "output_type": "stream",
     "text": [
      "\n",
      "  0%|          | 0/6 [00:00<?, ?it/s]\u001b[A\n",
      " 17%|█▋        | 1/6 [00:01<00:06,  1.34s/it]\u001b[A\n",
      " 33%|███▎      | 2/6 [00:02<00:05,  1.31s/it]\u001b[A\n",
      " 50%|█████     | 3/6 [00:03<00:03,  1.30s/it]\u001b[A\n",
      " 67%|██████▋   | 4/6 [00:05<00:02,  1.44s/it]\u001b[A\n",
      " 83%|████████▎ | 5/6 [00:06<00:01,  1.38s/it]\u001b[A\n",
      "100%|██████████| 6/6 [00:08<00:00,  1.35s/it]\n",
      " 97%|█████████▋| 401/413 [1:10:53<02:15, 11.31s/it]"
     ]
    },
    {
     "name": "stdout",
     "output_type": "stream",
     "text": [
      "https://reviews.webmd.com/drugs/drugreview-9406-permitil-concentrate\n"
     ]
    },
    {
     "name": "stderr",
     "output_type": "stream",
     "text": [
      "\n",
      "  0%|          | 0/1 [00:00<?, ?it/s]\u001b[A\n",
      "100%|██████████| 1/1 [00:00<00:00,  1.63it/s]\n",
      " 97%|█████████▋| 402/413 [1:10:55<01:35,  8.67s/it]"
     ]
    },
    {
     "name": "stdout",
     "output_type": "stream",
     "text": [
      "https://reviews.webmd.com/drugs/drugreview-9406-permitil-tablet\n"
     ]
    },
    {
     "name": "stderr",
     "output_type": "stream",
     "text": [
      "\n",
      "  0%|          | 0/1 [00:00<?, ?it/s]\u001b[A\n",
      "100%|██████████| 1/1 [00:00<00:00,  1.56it/s]\n",
      " 98%|█████████▊| 404/413 [1:10:58<00:45,  5.03s/it]"
     ]
    },
    {
     "name": "stdout",
     "output_type": "stream",
     "text": [
      "skipping https://reviews.webmd.com/drugs/drugreview-9445-prolixin-solution: page not found\n",
      "https://reviews.webmd.com/drugs/drugreview-9495-serax-tablet\n"
     ]
    },
    {
     "name": "stderr",
     "output_type": "stream",
     "text": [
      "\n",
      "  0%|          | 0/2 [00:00<?, ?it/s]\u001b[A\n",
      " 50%|█████     | 1/2 [00:01<00:01,  1.37s/it]\u001b[A\n",
      "100%|██████████| 2/2 [00:02<00:00,  1.42s/it]\n",
      " 98%|█████████▊| 405/413 [1:11:03<00:40,  5.06s/it]"
     ]
    },
    {
     "name": "stdout",
     "output_type": "stream",
     "text": [
      "https://reviews.webmd.com/drugs/drugreview-9510-spaz-capsule\n"
     ]
    },
    {
     "name": "stderr",
     "output_type": "stream",
     "text": [
      " 98%|█████████▊| 406/413 [1:11:05<00:28,  4.06s/it]"
     ]
    },
    {
     "name": "stdout",
     "output_type": "stream",
     "text": [
      "https://reviews.webmd.com/drugs/drugreview-9543-thorazine-tablet\n"
     ]
    },
    {
     "name": "stderr",
     "output_type": "stream",
     "text": [
      "\n",
      "  0%|          | 0/4 [00:00<?, ?it/s]\u001b[A\n",
      " 25%|██▌       | 1/4 [00:01<00:03,  1.21s/it]\u001b[A\n",
      " 50%|█████     | 2/4 [00:02<00:02,  1.30s/it]\u001b[A\n",
      " 75%|███████▌  | 3/4 [00:03<00:01,  1.35s/it]\u001b[A\n",
      "100%|██████████| 4/4 [00:05<00:00,  1.44s/it]\n",
      " 99%|█████████▉| 408/413 [1:11:15<00:20,  4.14s/it]"
     ]
    },
    {
     "name": "stdout",
     "output_type": "stream",
     "text": [
      "skipping https://reviews.webmd.com/drugs/drugreview-9567-trilafon-solution: page not found\n",
      "https://reviews.webmd.com/drugs/drugreview-9630-equanil-tablet\n"
     ]
    },
    {
     "name": "stderr",
     "output_type": "stream",
     "text": [
      "\n",
      "  0%|          | 0/1 [00:00<?, ?it/s]\u001b[A\n",
      "100%|██████████| 1/1 [00:00<00:00,  1.48it/s]\n",
      " 99%|█████████▉| 409/413 [1:11:17<00:14,  3.70s/it]"
     ]
    },
    {
     "name": "stdout",
     "output_type": "stream",
     "text": [
      "https://reviews.webmd.com/drugs/drugreview-9702-depakene-capsule\n"
     ]
    },
    {
     "name": "stderr",
     "output_type": "stream",
     "text": [
      "\n",
      "  0%|          | 0/1 [00:00<?, ?it/s]\u001b[A\n",
      "100%|██████████| 1/1 [00:01<00:00,  1.07s/it]\n",
      " 99%|█████████▉| 410/413 [1:11:21<00:10,  3.62s/it]"
     ]
    },
    {
     "name": "stdout",
     "output_type": "stream",
     "text": [
      "https://reviews.webmd.com/drugs/drugreview-9702-depakene-solution\n"
     ]
    },
    {
     "name": "stderr",
     "output_type": "stream",
     "text": [
      "\n",
      "  0%|          | 0/1 [00:00<?, ?it/s]\u001b[A\n",
      "100%|██████████| 1/1 [00:01<00:00,  1.18s/it]\n",
      "100%|█████████▉| 411/413 [1:11:23<00:06,  3.23s/it]"
     ]
    },
    {
     "name": "stdout",
     "output_type": "stream",
     "text": [
      "https://reviews.webmd.com/drugs/drugreview-9824-xanax\n"
     ]
    },
    {
     "name": "stderr",
     "output_type": "stream",
     "text": [
      "\n",
      "  0%|          | 0/148 [00:00<?, ?it/s]\u001b[A\n",
      "  1%|          | 1/148 [00:01<04:07,  1.68s/it]\u001b[A\n",
      "  1%|▏         | 2/148 [00:02<03:27,  1.42s/it]\u001b[A\n",
      "  2%|▏         | 3/148 [00:04<03:23,  1.40s/it]\u001b[A\n",
      "  3%|▎         | 4/148 [00:05<03:20,  1.39s/it]\u001b[A\n",
      "  3%|▎         | 5/148 [00:06<03:14,  1.36s/it]\u001b[A\n",
      "  4%|▍         | 6/148 [00:08<03:05,  1.31s/it]\u001b[A\n",
      "  5%|▍         | 7/148 [00:09<03:14,  1.38s/it]\u001b[A\n",
      "  5%|▌         | 8/148 [00:11<03:16,  1.40s/it]\u001b[A\n",
      "  6%|▌         | 9/148 [00:12<03:15,  1.40s/it]\u001b[A\n",
      "  7%|▋         | 10/148 [00:13<03:09,  1.37s/it]\u001b[A\n",
      "  7%|▋         | 11/148 [00:15<03:13,  1.42s/it]\u001b[A\n",
      "  8%|▊         | 12/148 [00:16<03:14,  1.43s/it]\u001b[A\n",
      "  9%|▉         | 13/148 [00:18<03:21,  1.50s/it]\u001b[A\n",
      "  9%|▉         | 14/148 [00:19<03:14,  1.45s/it]\u001b[A\n",
      " 10%|█         | 15/148 [00:21<03:13,  1.46s/it]\u001b[A\n",
      " 11%|█         | 16/148 [00:22<03:17,  1.50s/it]\u001b[A\n",
      " 11%|█▏        | 17/148 [00:24<03:11,  1.46s/it]\u001b[A\n",
      " 12%|█▏        | 18/148 [00:25<03:11,  1.47s/it]\u001b[A\n",
      " 13%|█▎        | 19/148 [00:27<03:06,  1.44s/it]\u001b[A\n",
      " 14%|█▎        | 20/148 [00:28<02:57,  1.39s/it]\u001b[A\n",
      " 14%|█▍        | 21/148 [00:29<02:49,  1.33s/it]\u001b[A\n",
      " 15%|█▍        | 22/148 [00:30<02:48,  1.34s/it]\u001b[A\n",
      " 16%|█▌        | 23/148 [00:32<02:43,  1.31s/it]\u001b[A\n",
      " 16%|█▌        | 24/148 [00:33<02:51,  1.38s/it]\u001b[A\n",
      " 17%|█▋        | 25/148 [00:35<02:50,  1.39s/it]\u001b[A\n",
      " 18%|█▊        | 26/148 [00:36<02:53,  1.42s/it]\u001b[A\n",
      " 18%|█▊        | 27/148 [00:38<02:50,  1.41s/it]\u001b[A\n",
      " 19%|█▉        | 28/148 [00:39<02:46,  1.39s/it]\u001b[A\n",
      " 20%|█▉        | 29/148 [00:41<02:58,  1.50s/it]\u001b[A\n",
      " 20%|██        | 30/148 [00:42<02:52,  1.46s/it]\u001b[A\n",
      " 21%|██        | 31/148 [00:43<02:43,  1.39s/it]\u001b[A\n",
      " 22%|██▏       | 32/148 [00:44<02:36,  1.35s/it]\u001b[A\n",
      " 22%|██▏       | 33/148 [00:46<02:34,  1.34s/it]\u001b[A\n",
      " 23%|██▎       | 34/148 [00:47<02:33,  1.35s/it]\u001b[A\n",
      " 24%|██▎       | 35/148 [00:49<02:48,  1.49s/it]\u001b[A\n",
      " 24%|██▍       | 36/148 [00:50<02:41,  1.44s/it]\u001b[A\n",
      " 25%|██▌       | 37/148 [00:52<02:39,  1.44s/it]\u001b[A\n",
      " 26%|██▌       | 38/148 [00:53<02:41,  1.47s/it]\u001b[A\n",
      " 26%|██▋       | 39/148 [00:55<02:38,  1.45s/it]\u001b[A\n",
      " 27%|██▋       | 40/148 [00:56<02:30,  1.39s/it]\u001b[A\n",
      " 28%|██▊       | 41/148 [00:58<02:34,  1.45s/it]\u001b[A\n",
      " 28%|██▊       | 42/148 [00:59<02:34,  1.45s/it]\u001b[A\n",
      " 29%|██▉       | 43/148 [01:00<02:27,  1.41s/it]\u001b[A\n",
      " 30%|██▉       | 44/148 [01:02<02:25,  1.40s/it]\u001b[A\n",
      " 30%|███       | 45/148 [01:03<02:23,  1.40s/it]\u001b[A\n",
      " 31%|███       | 46/148 [01:05<02:33,  1.50s/it]\u001b[A\n",
      " 32%|███▏      | 47/148 [01:06<02:23,  1.42s/it]\u001b[A\n",
      " 32%|███▏      | 48/148 [01:07<02:20,  1.41s/it]\u001b[A\n",
      " 33%|███▎      | 49/148 [01:09<02:13,  1.35s/it]\u001b[A\n",
      " 34%|███▍      | 50/148 [01:10<02:09,  1.32s/it]\u001b[A\n",
      " 34%|███▍      | 51/148 [01:11<02:10,  1.35s/it]\u001b[A\n",
      " 35%|███▌      | 52/148 [01:13<02:19,  1.46s/it]\u001b[A\n",
      " 36%|███▌      | 53/148 [01:14<02:18,  1.46s/it]\u001b[A\n",
      " 36%|███▋      | 54/148 [01:16<02:10,  1.39s/it]\u001b[A\n",
      " 37%|███▋      | 55/148 [01:17<02:04,  1.34s/it]\u001b[A\n",
      " 38%|███▊      | 56/148 [01:18<02:00,  1.31s/it]\u001b[A\n",
      " 39%|███▊      | 57/148 [01:20<02:11,  1.45s/it]\u001b[A\n",
      " 39%|███▉      | 58/148 [01:21<02:08,  1.43s/it]\u001b[A\n",
      " 40%|███▉      | 59/148 [01:23<02:08,  1.45s/it]\u001b[A\n",
      " 41%|████      | 60/148 [01:24<02:04,  1.41s/it]\u001b[A\n",
      " 41%|████      | 61/148 [01:26<02:02,  1.41s/it]\u001b[A\n",
      " 42%|████▏     | 62/148 [01:27<02:02,  1.42s/it]\u001b[A\n",
      " 43%|████▎     | 63/148 [01:28<02:02,  1.44s/it]\u001b[A\n",
      " 43%|████▎     | 64/148 [01:30<01:55,  1.38s/it]\u001b[A\n",
      " 44%|████▍     | 65/148 [01:31<01:54,  1.37s/it]\u001b[A\n",
      " 45%|████▍     | 66/148 [01:32<01:49,  1.33s/it]\u001b[A\n",
      " 45%|████▌     | 67/148 [01:34<01:49,  1.35s/it]\u001b[A\n",
      " 46%|████▌     | 68/148 [01:35<01:48,  1.35s/it]\u001b[A\n",
      " 47%|████▋     | 69/148 [01:37<01:53,  1.43s/it]\u001b[A\n",
      " 47%|████▋     | 70/148 [01:38<01:50,  1.42s/it]\u001b[A\n",
      " 48%|████▊     | 71/148 [01:39<01:45,  1.37s/it]\u001b[A\n",
      " 49%|████▊     | 72/148 [01:41<01:43,  1.36s/it]\u001b[A\n",
      " 49%|████▉     | 73/148 [01:42<01:43,  1.37s/it]\u001b[A\n",
      " 50%|█████     | 74/148 [01:44<01:45,  1.42s/it]\u001b[A\n",
      " 51%|█████     | 75/148 [01:45<01:39,  1.37s/it]\u001b[A\n",
      " 51%|█████▏    | 76/148 [01:46<01:36,  1.35s/it]\u001b[A\n",
      " 52%|█████▏    | 77/148 [01:48<01:37,  1.37s/it]\u001b[A\n",
      " 53%|█████▎    | 78/148 [01:49<01:32,  1.32s/it]\u001b[A\n",
      " 53%|█████▎    | 79/148 [01:50<01:33,  1.35s/it]\u001b[A\n",
      " 54%|█████▍    | 80/148 [01:52<01:35,  1.41s/it]\u001b[A\n",
      " 55%|█████▍    | 81/148 [01:53<01:33,  1.39s/it]\u001b[A\n",
      " 55%|█████▌    | 82/148 [01:54<01:31,  1.38s/it]\u001b[A\n",
      " 56%|█████▌    | 83/148 [01:56<01:28,  1.36s/it]\u001b[A\n",
      " 57%|█████▋    | 84/148 [01:57<01:27,  1.37s/it]\u001b[A\n",
      " 57%|█████▋    | 85/148 [01:59<01:33,  1.48s/it]\u001b[A\n",
      " 58%|█████▊    | 86/148 [02:01<01:44,  1.69s/it]\u001b[A\n",
      " 59%|█████▉    | 87/148 [02:02<01:34,  1.54s/it]\u001b[A\n",
      " 59%|█████▉    | 88/148 [02:04<01:28,  1.47s/it]\u001b[A\n",
      " 60%|██████    | 89/148 [02:05<01:22,  1.40s/it]\u001b[A\n",
      " 61%|██████    | 90/148 [02:06<01:17,  1.33s/it]\u001b[A\n",
      " 61%|██████▏   | 91/148 [02:08<01:21,  1.44s/it]\u001b[A\n",
      " 62%|██████▏   | 92/148 [02:09<01:19,  1.43s/it]\u001b[A\n",
      " 63%|██████▎   | 93/148 [02:10<01:17,  1.42s/it]\u001b[A\n",
      " 64%|██████▎   | 94/148 [02:12<01:14,  1.38s/it]\u001b[A\n",
      " 64%|██████▍   | 95/148 [02:14<01:19,  1.50s/it]\u001b[A\n",
      " 65%|██████▍   | 96/148 [02:15<01:16,  1.47s/it]\u001b[A\n",
      " 66%|██████▌   | 97/148 [02:17<01:19,  1.56s/it]\u001b[A\n",
      " 66%|██████▌   | 98/148 [02:18<01:15,  1.50s/it]\u001b[A\n",
      " 67%|██████▋   | 99/148 [02:19<01:11,  1.45s/it]\u001b[A\n",
      " 68%|██████▊   | 100/148 [02:21<01:09,  1.44s/it]\u001b[A\n",
      " 68%|██████▊   | 101/148 [02:22<01:07,  1.44s/it]\u001b[A\n",
      " 69%|██████▉   | 102/148 [02:24<01:10,  1.54s/it]\u001b[A\n",
      " 70%|██████▉   | 103/148 [02:25<01:07,  1.49s/it]\u001b[A\n",
      " 70%|███████   | 104/148 [02:27<01:03,  1.45s/it]\u001b[A\n",
      " 71%|███████   | 105/148 [02:28<00:59,  1.38s/it]\u001b[A\n",
      " 72%|███████▏  | 106/148 [02:29<00:57,  1.38s/it]\u001b[A\n",
      " 72%|███████▏  | 107/148 [02:31<00:56,  1.38s/it]\u001b[A\n",
      " 73%|███████▎  | 108/148 [02:33<01:00,  1.52s/it]\u001b[A\n",
      " 74%|███████▎  | 109/148 [02:34<00:56,  1.44s/it]\u001b[A\n",
      " 74%|███████▍  | 110/148 [02:35<00:52,  1.38s/it]\u001b[A\n",
      " 75%|███████▌  | 111/148 [02:36<00:49,  1.33s/it]\u001b[A\n",
      " 76%|███████▌  | 112/148 [02:38<00:46,  1.30s/it]\u001b[A\n",
      " 76%|███████▋  | 113/148 [02:39<00:47,  1.35s/it]\u001b[A\n",
      " 77%|███████▋  | 114/148 [02:40<00:47,  1.39s/it]\u001b[A\n",
      " 78%|███████▊  | 115/148 [02:42<00:45,  1.38s/it]\u001b[A\n",
      " 78%|███████▊  | 116/148 [02:43<00:42,  1.33s/it]\u001b[A\n",
      " 79%|███████▉  | 117/148 [02:44<00:41,  1.34s/it]\u001b[A\n",
      " 80%|███████▉  | 118/148 [02:46<00:39,  1.31s/it]\u001b[A\n",
      " 80%|████████  | 119/148 [02:47<00:41,  1.43s/it]\u001b[A\n",
      " 81%|████████  | 120/148 [02:49<00:40,  1.44s/it]\u001b[A\n",
      " 82%|████████▏ | 121/148 [02:50<00:39,  1.45s/it]\u001b[A\n",
      " 82%|████████▏ | 122/148 [02:52<00:35,  1.38s/it]\u001b[A\n",
      " 83%|████████▎ | 123/148 [02:53<00:33,  1.35s/it]\u001b[A\n",
      " 84%|████████▍ | 124/148 [02:54<00:31,  1.33s/it]\u001b[A\n",
      " 84%|████████▍ | 125/148 [02:56<00:33,  1.47s/it]\u001b[A\n",
      " 85%|████████▌ | 126/148 [02:57<00:31,  1.44s/it]\u001b[A\n",
      " 86%|████████▌ | 127/148 [02:59<00:30,  1.44s/it]\u001b[A\n",
      " 86%|████████▋ | 128/148 [03:00<00:28,  1.42s/it]\u001b[A\n",
      " 87%|████████▋ | 129/148 [03:01<00:26,  1.41s/it]\u001b[A\n",
      " 88%|████████▊ | 130/148 [03:03<00:27,  1.53s/it]\u001b[A\n",
      " 89%|████████▊ | 131/148 [03:05<00:24,  1.46s/it]\u001b[A\n",
      " 89%|████████▉ | 132/148 [03:06<00:23,  1.44s/it]\u001b[A\n",
      " 90%|████████▉ | 133/148 [03:07<00:20,  1.37s/it]\u001b[A\n",
      " 91%|█████████ | 134/148 [03:09<00:19,  1.37s/it]\u001b[A\n",
      " 91%|█████████ | 135/148 [03:10<00:17,  1.34s/it]\u001b[A\n",
      " 92%|█████████▏| 136/148 [03:11<00:17,  1.44s/it]\u001b[A\n",
      " 93%|█████████▎| 137/148 [03:13<00:15,  1.44s/it]\u001b[A\n",
      " 93%|█████████▎| 138/148 [03:14<00:14,  1.45s/it]\u001b[A\n",
      " 94%|█████████▍| 139/148 [03:16<00:12,  1.42s/it]\u001b[A\n",
      " 95%|█████████▍| 140/148 [03:17<00:11,  1.41s/it]\u001b[A\n",
      " 95%|█████████▌| 141/148 [03:18<00:09,  1.39s/it]\u001b[A\n",
      " 96%|█████████▌| 142/148 [03:20<00:08,  1.44s/it]\u001b[A\n",
      " 97%|█████████▋| 143/148 [03:21<00:07,  1.40s/it]\u001b[A\n",
      " 97%|█████████▋| 144/148 [03:23<00:05,  1.35s/it]\u001b[A\n",
      " 98%|█████████▊| 145/148 [03:24<00:04,  1.38s/it]\u001b[A\n",
      " 99%|█████████▊| 146/148 [03:25<00:02,  1.33s/it]\u001b[A\n",
      " 99%|█████████▉| 147/148 [03:27<00:01,  1.42s/it]\u001b[A\n",
      "100%|██████████| 148/148 [03:28<00:00,  1.41s/it]\n",
      "100%|█████████▉| 412/413 [1:14:55<01:05, 65.70s/it]"
     ]
    },
    {
     "name": "stdout",
     "output_type": "stream",
     "text": [
      "https://reviews.webmd.com/drugs/drugreview-9846-risperdal\n"
     ]
    },
    {
     "name": "stderr",
     "output_type": "stream",
     "text": [
      "\n",
      "  0%|          | 0/24 [00:00<?, ?it/s]\u001b[A\n",
      "  4%|▍         | 1/24 [00:01<00:33,  1.46s/it]\u001b[A\n",
      "  8%|▊         | 2/24 [00:02<00:31,  1.44s/it]\u001b[A\n",
      " 12%|█▎        | 3/24 [00:04<00:30,  1.46s/it]\u001b[A\n",
      " 17%|█▋        | 4/24 [00:06<00:31,  1.59s/it]\u001b[A\n",
      " 21%|██        | 5/24 [00:07<00:27,  1.47s/it]\u001b[A\n",
      " 25%|██▌       | 6/24 [00:08<00:26,  1.47s/it]\u001b[A\n",
      " 29%|██▉       | 7/24 [00:10<00:24,  1.45s/it]\u001b[A\n",
      " 33%|███▎      | 8/24 [00:11<00:22,  1.42s/it]\u001b[A\n",
      " 38%|███▊      | 9/24 [00:13<00:22,  1.52s/it]\u001b[A\n",
      " 42%|████▏     | 10/24 [00:14<00:20,  1.49s/it]\u001b[A\n",
      " 46%|████▌     | 11/24 [00:16<00:19,  1.47s/it]\u001b[A\n",
      " 50%|█████     | 12/24 [00:17<00:16,  1.41s/it]\u001b[A\n",
      " 54%|█████▍    | 13/24 [00:18<00:15,  1.40s/it]\u001b[A\n",
      " 58%|█████▊    | 14/24 [00:20<00:14,  1.42s/it]\u001b[A\n",
      " 62%|██████▎   | 15/24 [00:22<00:13,  1.55s/it]\u001b[A\n",
      " 67%|██████▋   | 16/24 [00:23<00:11,  1.47s/it]\u001b[A\n",
      " 71%|███████   | 17/24 [00:24<00:10,  1.45s/it]\u001b[A\n",
      " 75%|███████▌  | 18/24 [00:26<00:08,  1.46s/it]\u001b[A\n",
      " 79%|███████▉  | 19/24 [00:27<00:07,  1.46s/it]\u001b[A\n",
      " 83%|████████▎ | 20/24 [00:29<00:05,  1.40s/it]\u001b[A\n",
      " 88%|████████▊ | 21/24 [00:30<00:04,  1.51s/it]\u001b[A\n",
      " 92%|█████████▏| 22/24 [00:32<00:03,  1.63s/it]\u001b[A\n",
      " 96%|█████████▌| 23/24 [00:34<00:01,  1.55s/it]\u001b[A\n",
      "100%|██████████| 24/24 [00:35<00:00,  1.48s/it]\n",
      "100%|██████████| 413/413 [1:15:33<00:00, 10.98s/it]\n"
     ]
    }
   ],
   "source": [
    "for review_url in tqdm(review_urls):\n",
    "    response = requests.get(review_url, headers=headers)\n",
    "    if response.url == 'https://www.webmd.com/404':\n",
    "        print(f'skipping {review_url}: page not found')\n",
    "    else:\n",
    "        print(review_url)\n",
    "        reviews_df = crawl_reviews_pages(review_url, reviews_df)\n",
    "reviews_df.to_csv('psychiatric_drug_webmd_reviews.csv')"
   ]
  },
  {
   "cell_type": "code",
   "execution_count": 13,
   "id": "50be9050",
   "metadata": {
    "execution": {
     "iopub.execute_input": "2024-03-11T19:20:41.361619Z",
     "iopub.status.busy": "2024-03-11T19:20:41.360827Z",
     "iopub.status.idle": "2024-03-11T19:20:41.366812Z",
     "shell.execute_reply": "2024-03-11T19:20:41.365985Z"
    },
    "papermill": {
     "duration": 1.244823,
     "end_time": "2024-03-11T19:20:41.369455",
     "exception": false,
     "start_time": "2024-03-11T19:20:40.124632",
     "status": "completed"
    },
    "tags": []
   },
   "outputs": [],
   "source": [
    "# # TODO: change parsing so that it looks for reviews.webmd.com in case ordering of tabs changes\n",
    "# for drug in drugs_section.find_all('p'):\n",
    "#     link = drug.a.get('href')\n",
    "#     response = requests.get(link, headers=headers, allow_redirects=True)\n",
    "    \n",
    "#     # if the link on the depression medications page redirects to a generic page (no dedicated page for the drug exists), skip it\n",
    "#     new_link = response.url\n",
    "#     redirected_links = ['https://www.webmd.com/depression/optimizing-depression-medicines',\n",
    "#                        'https://www.webmd.com/drugs/2/index']\n",
    "#     if new_link in redirected_links:\n",
    "#         print(f'skipping 1 drug with link {new_link}')\n",
    "#         continue\n",
    "        \n",
    "#     # the link for Vraylar leads to search results, but with only 1 result - load that result page\n",
    "#     if new_link == 'https://www.webmd.com/drugs/2/search?type=drugs&query=vraylar':\n",
    "#         vraylar_link = 'https://www.webmd.com/drugs/2/drug-170027/vraylar-oral/details'\n",
    "#         response = requests.get(vraylar_link, headers=headers, allow_redirects=True)\n",
    "    \n",
    "#     drug_page = BeautifulSoup(response.content, 'lxml')\n",
    "    \n",
    "#     drug_review_element = drug_page.find('ul', class_='auto-tabs').find_all('li')[-1] # get the data for the last tab, Reviews\n",
    "#     print(drug_review_element)\n",
    "#     review_url = drug_review_element.a.get('href')\n",
    "        \n",
    "#     print(review_url)\n",
    "#     reviews_df = crawl_reviews_pages(review_url, reviews_df)\n",
    "    \n",
    "# reviews_df.to_csv('psychiatric_drug_webmd_reviews.csv')"
   ]
  },
  {
   "cell_type": "markdown",
   "id": "53ad1cc3",
   "metadata": {
    "papermill": {
     "duration": 1.162633,
     "end_time": "2024-03-11T19:20:43.629931",
     "exception": false,
     "start_time": "2024-03-11T19:20:42.467298",
     "status": "completed"
    },
    "tags": []
   },
   "source": [
    "\n"
   ]
  }
 ],
 "metadata": {
  "kaggle": {
   "accelerator": "none",
   "dataSources": [],
   "dockerImageVersionId": 30587,
   "isGpuEnabled": false,
   "isInternetEnabled": true,
   "language": "python",
   "sourceType": "notebook"
  },
  "kernelspec": {
   "display_name": "Python 3",
   "language": "python",
   "name": "python3"
  },
  "language_info": {
   "codemirror_mode": {
    "name": "ipython",
    "version": 3
   },
   "file_extension": ".py",
   "mimetype": "text/x-python",
   "name": "python",
   "nbconvert_exporter": "python",
   "pygments_lexer": "ipython3",
   "version": "3.10.12"
  },
  "papermill": {
   "default_parameters": {},
   "duration": 4550.660177,
   "end_time": "2024-03-11T19:20:45.524611",
   "environment_variables": {},
   "exception": null,
   "input_path": "__notebook__.ipynb",
   "output_path": "__notebook__.ipynb",
   "parameters": {},
   "start_time": "2024-03-11T18:04:54.864434",
   "version": "2.4.0"
  }
 },
 "nbformat": 4,
 "nbformat_minor": 5
}
