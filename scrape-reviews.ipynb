{
 "cells": [
  {
   "cell_type": "markdown",
   "id": "ee251bb8",
   "metadata": {
    "papermill": {
     "duration": 0.005375,
     "end_time": "2024-05-18T23:20:24.890368",
     "exception": false,
     "start_time": "2024-05-18T23:20:24.884993",
     "status": "completed"
    },
    "tags": []
   },
   "source": [
    "# Scraping WebMD Drug Reviews\n",
    "## Introduction\n",
    "While documents from medical encounters are safeguarded by laws such as HIPAA in the United States, there are a number of public websites where patients are nonetheless sharing health information that may prove valuable as a data source. One such site is WebMD, which provides a database of prescription drugs and solicits reviews from patients about their experience with the medications.\n",
    "\n",
    "Python's `requests` and `BeautifulSoup` libraries make it relatively simple to scrape data from any webpage, and this notebook can be used with only a few modifications to collect user reviews for any medication in WebMD's database for use in downstream analysis. Each review consists of demographic information about the patient, a set of ratings on a scale of 1 to 5 stars, and unstructured text.\n",
    "\n",
    "This notebook generates three review datasets. The first dataset is reviews of psychiatric medication. Because psychoactive medication works to alter people's thoughts, feelings, and behavior, firsthand narratives written by patients taking these medications are especially valuable as a source of insight into how well a treatment worked and possible explanations as to why. The second dataset contains reviews for medications used to treat hypertension, a condition affecting an increasing number of adults in the United States and around the world as metabolic disorders become alarmingly common. The third dataset has reviews of medications used to treat type 2 diabetes, another condition under the umbrella of endemic metabolic disorders."
   ]
  },
  {
   "cell_type": "markdown",
   "id": "72d8cd6b",
   "metadata": {
    "papermill": {
     "duration": 0.004722,
     "end_time": "2024-05-18T23:20:24.902887",
     "exception": false,
     "start_time": "2024-05-18T23:20:24.898165",
     "status": "completed"
    },
    "tags": []
   },
   "source": [
    "## Setup"
   ]
  },
  {
   "cell_type": "code",
   "execution_count": 1,
   "id": "51879106",
   "metadata": {
    "execution": {
     "iopub.execute_input": "2024-05-18T23:20:24.915780Z",
     "iopub.status.busy": "2024-05-18T23:20:24.915114Z",
     "iopub.status.idle": "2024-05-18T23:20:25.928060Z",
     "shell.execute_reply": "2024-05-18T23:20:25.926603Z"
    },
    "papermill": {
     "duration": 1.023432,
     "end_time": "2024-05-18T23:20:25.931302",
     "exception": false,
     "start_time": "2024-05-18T23:20:24.907870",
     "status": "completed"
    },
    "tags": []
   },
   "outputs": [],
   "source": [
    "# imports\n",
    "import requests\n",
    "import numpy as np\n",
    "import pandas as pd\n",
    "import regex as re\n",
    "from tqdm import tqdm # progress bar"
   ]
  },
  {
   "cell_type": "code",
   "execution_count": 2,
   "id": "df5da4f2",
   "metadata": {
    "execution": {
     "iopub.execute_input": "2024-05-18T23:20:25.944549Z",
     "iopub.status.busy": "2024-05-18T23:20:25.943848Z",
     "iopub.status.idle": "2024-05-18T23:20:25.949602Z",
     "shell.execute_reply": "2024-05-18T23:20:25.948411Z"
    },
    "papermill": {
     "duration": 0.014713,
     "end_time": "2024-05-18T23:20:25.952048",
     "exception": false,
     "start_time": "2024-05-18T23:20:25.937335",
     "status": "completed"
    },
    "tags": []
   },
   "outputs": [],
   "source": [
    "# indicate which datasets need to be scraped on this run\n",
    "scrape_psychiatric = True\n",
    "scrape_hypertension = True\n",
    "scrape_diabetes = True"
   ]
  },
  {
   "cell_type": "markdown",
   "id": "39b04492",
   "metadata": {
    "papermill": {
     "duration": 0.004753,
     "end_time": "2024-05-18T23:20:25.962017",
     "exception": false,
     "start_time": "2024-05-18T23:20:25.957264",
     "status": "completed"
    },
    "tags": []
   },
   "source": [
    "## Functions"
   ]
  },
  {
   "cell_type": "code",
   "execution_count": 3,
   "id": "c19aefd0",
   "metadata": {
    "execution": {
     "iopub.execute_input": "2024-05-18T23:20:25.974880Z",
     "iopub.status.busy": "2024-05-18T23:20:25.974029Z",
     "iopub.status.idle": "2024-05-18T23:20:25.985148Z",
     "shell.execute_reply": "2024-05-18T23:20:25.983891Z"
    },
    "papermill": {
     "duration": 0.02129,
     "end_time": "2024-05-18T23:20:25.988441",
     "exception": false,
     "start_time": "2024-05-18T23:20:25.967151",
     "status": "completed"
    },
    "tags": []
   },
   "outputs": [],
   "source": [
    "# regular expressions for parsing data from a single review\n",
    "# elements found in review-details div\n",
    "def regex_date(review):\n",
    "    '''Parses the date of the review in format dd/mm/yyyy'''\n",
    "    return re.findall(r'\\d+/\\d+/\\d+', review.find('div', class_='date').text)[0]\n",
    "\n",
    "def regex_condition(review):\n",
    "    '''Parses the condition for which the medication is used'''\n",
    "    condition_element = review.find('strong', class_='condition')\n",
    "    condition_listed = condition_element is not None\n",
    "    if condition_listed:\n",
    "        # TODO: be able to match ''\"Change of Life\" Signs' condition\n",
    "        condition_match = re.findall(r'(?<=Condition:\\s)\\w+(?:\\s\\w+)*', condition_element.text)\n",
    "    return condition_match[0] if (condition_listed and len(condition_match) > 0) else np.nan\n",
    "\n",
    "def regex_rating_overall(review):\n",
    "    '''Parses the overall rating, the average of 3 categories'''\n",
    "    rating_overall_line = review.find('div', class_='overall-rating').strong.text\n",
    "    return re.findall(r'\\d+.\\d+', rating_overall_line)\n",
    "\n",
    "def regex_rating_category(review, ind_cat):\n",
    "    '''Parses the rating for the category at index ind_cat in ['effectiveness', 'ease_of_use', 'satisfaction']'''\n",
    "    rating_categories = review.find('div', class_='categories').find_all('section')\n",
    "    div = rating_categories[ind_cat].find('div', class_='webmd-rate on-mobile')\n",
    "    return int(div.get('aria-valuenow'))\n",
    "\n",
    "def regex_text(review):\n",
    "    '''Parses the free response text review for the drug'''\n",
    "    text_line = review.find('p', class_='description-text')\n",
    "    return text_line.text if text_line is not None else np.nan"
   ]
  },
  {
   "cell_type": "code",
   "execution_count": 4,
   "id": "a08eb31a",
   "metadata": {
    "execution": {
     "iopub.execute_input": "2024-05-18T23:20:26.001790Z",
     "iopub.status.busy": "2024-05-18T23:20:26.000895Z",
     "iopub.status.idle": "2024-05-18T23:20:26.009030Z",
     "shell.execute_reply": "2024-05-18T23:20:26.007785Z"
    },
    "papermill": {
     "duration": 0.018275,
     "end_time": "2024-05-18T23:20:26.012196",
     "exception": false,
     "start_time": "2024-05-18T23:20:25.993921",
     "status": "completed"
    },
    "tags": []
   },
   "outputs": [],
   "source": [
    "# regular expressions for parsing data from a single review\n",
    "# elements found in details div\n",
    "def regex_age(details):\n",
    "    '''Parses the age of the medication user'''\n",
    "    age_match = re.findall(r'(?<=\\|\\s+)\\d+-\\d+', details)\n",
    "    return age_match[0] if len(age_match) > 0 else np.nan\n",
    "\n",
    "def regex_gender(details):\n",
    "    '''Parses the gender of the medication user'''\n",
    "    gender_match = re.findall(r'(?<=\\|\\s+)Male|Female', details)\n",
    "    return gender_match[0] if len(gender_match) > 0 else np.nan\n",
    "\n",
    "def regex_time(details):\n",
    "    '''Parses the duration of time on drug'''\n",
    "    time_match = re.findall(r'(?<=On\\smedication\\sfor\\s)\\w+(?:\\s\\w+)*', details)\n",
    "    return time_match[0] if len(time_match) > 0 else np.nan\n",
    "\n",
    "def regex_reviewer(details):\n",
    "    '''Parses the type of reviewer'''\n",
    "    reviewer_match = re.findall(r'(?<=\\|\\s+)\\w+(?:\\s\\w+)*(?=\\s*$)', details)\n",
    "    return reviewer_match[0] if len(reviewer_match) > 0 else np.nan"
   ]
  },
  {
   "cell_type": "code",
   "execution_count": 5,
   "id": "71a95c1a",
   "metadata": {
    "execution": {
     "iopub.execute_input": "2024-05-18T23:20:26.025641Z",
     "iopub.status.busy": "2024-05-18T23:20:26.024364Z",
     "iopub.status.idle": "2024-05-18T23:20:26.035421Z",
     "shell.execute_reply": "2024-05-18T23:20:26.033750Z"
    },
    "papermill": {
     "duration": 0.020881,
     "end_time": "2024-05-18T23:20:26.038412",
     "exception": false,
     "start_time": "2024-05-18T23:20:26.017531",
     "status": "completed"
    },
    "tags": []
   },
   "outputs": [],
   "source": [
    "# parse the reviews on a single webpage\n",
    "def parse_reviews_page(soup, reviews_df):\n",
    "    '''Populates reviews_df data frame with records from 1 page's reviews\n",
    "    \n",
    "    Parameters:\n",
    "    reviews_html (str): HTML for the webpage extracted using BeautifulSoup\n",
    "    drug_name (str): the name of the drug being reviewed\n",
    "    reviews_df (pd.DataFrame): dataframe with one row per review\n",
    "    \n",
    "    Returns:\n",
    "    pd.DataFrame: reviews_df dataframe with new records appended\n",
    "    \n",
    "    '''\n",
    "    reviews_html = soup.find_all('div', class_='review-details') # get elements that hold each review\n",
    "    drug_name = re.findall(r'(.*)(?=\\sReviews)', soup.title.text)[0] # page title is drug name\n",
    "    \n",
    "    # loop over reviews from a single page\n",
    "    for i, review in enumerate(reviews_html):\n",
    "        to_append = pd.DataFrame([pd.Series([None]*len(cols), index=cols)])\n",
    "        \n",
    "        details = review.find('div', class_='details').text\n",
    "\n",
    "        to_append['drug_name'] = drug_name\n",
    "        to_append['date'] = regex_date(review)\n",
    "        to_append['age'] = regex_age(details)\n",
    "        to_append['gender'] = regex_gender(details)\n",
    "        to_append['time_on_drug'] = regex_time(details)\n",
    "        to_append['reviewer_type'] = regex_reviewer(details)\n",
    "        to_append['condition'] = regex_condition(review)\n",
    "        to_append['rating_overall'] = regex_rating_overall(review)\n",
    "        \n",
    "        for ind_cat, cat in enumerate(['effectiveness', 'ease_of_use', 'satisfaction']):\n",
    "            to_append[f'rating_{cat}'] = regex_rating_category(review, ind_cat)\n",
    "    \n",
    "        to_append['text'] = regex_text(review)\n",
    "        reviews_df = pd.concat([reviews_df, to_append], ignore_index=True)\n",
    "        \n",
    "    return reviews_df"
   ]
  },
  {
   "cell_type": "code",
   "execution_count": 6,
   "id": "1fecda43",
   "metadata": {
    "execution": {
     "iopub.execute_input": "2024-05-18T23:20:26.050519Z",
     "iopub.status.busy": "2024-05-18T23:20:26.050025Z",
     "iopub.status.idle": "2024-05-18T23:20:26.056235Z",
     "shell.execute_reply": "2024-05-18T23:20:26.054832Z"
    },
    "papermill": {
     "duration": 0.015101,
     "end_time": "2024-05-18T23:20:26.058734",
     "exception": false,
     "start_time": "2024-05-18T23:20:26.043633",
     "status": "completed"
    },
    "tags": []
   },
   "outputs": [],
   "source": [
    "def get_soup(review_url, page):\n",
    "    curr_url = review_url + f'&page={page}'\n",
    "    response = requests.get(curr_url, headers=headers).content\n",
    "    return BeautifulSoup(response, 'lxml')"
   ]
  },
  {
   "cell_type": "code",
   "execution_count": 7,
   "id": "2b9805e9",
   "metadata": {
    "execution": {
     "iopub.execute_input": "2024-05-18T23:20:26.071033Z",
     "iopub.status.busy": "2024-05-18T23:20:26.070590Z",
     "iopub.status.idle": "2024-05-18T23:20:26.078713Z",
     "shell.execute_reply": "2024-05-18T23:20:26.076951Z"
    },
    "papermill": {
     "duration": 0.017777,
     "end_time": "2024-05-18T23:20:26.081730",
     "exception": false,
     "start_time": "2024-05-18T23:20:26.063953",
     "status": "completed"
    },
    "tags": []
   },
   "outputs": [],
   "source": [
    "# crawl over the review pages for one drug\n",
    "def crawl_reviews_pages(review_url, reviews_df):\n",
    "    '''Crawls a drug's reviews page-by-page, saving each page's reviews into reviews_df\n",
    "    \n",
    "    Parameters:\n",
    "    reviews_df (pd.DataFrame): dataframe with one row per review\n",
    "    \n",
    "    Returns:\n",
    "    pd.DataFrame: reviews_df dataframe with new records appended\n",
    "    \n",
    "    '''\n",
    "    # find how many review pages there are total for the drug by parsing it from the first page\n",
    "    soup = get_soup(review_url, 1)\n",
    "    pages = soup.find('ul', class_='pagination')\n",
    "    \n",
    "    # proceed only if there is at least 1 review\n",
    "    if pages is not None:\n",
    "        last_page = int(pages.find_all('li', class_='page-item')[-1].text.strip())\n",
    "\n",
    "        for i in tqdm(range(1, last_page+1)):\n",
    "            soup = get_soup(review_url, i)\n",
    "            reviews_df = parse_reviews_page(soup, reviews_df)\n",
    "\n",
    "    return reviews_df"
   ]
  },
  {
   "cell_type": "markdown",
   "id": "bc1d9aec",
   "metadata": {
    "papermill": {
     "duration": 0.004647,
     "end_time": "2024-05-18T23:20:26.091467",
     "exception": false,
     "start_time": "2024-05-18T23:20:26.086820",
     "status": "completed"
    },
    "tags": []
   },
   "source": [
    "## Scrape Drugs by Condition from WebMD Search"
   ]
  },
  {
   "cell_type": "code",
   "execution_count": 8,
   "id": "07ad4100",
   "metadata": {
    "execution": {
     "iopub.execute_input": "2024-05-18T23:20:26.103553Z",
     "iopub.status.busy": "2024-05-18T23:20:26.103093Z",
     "iopub.status.idle": "2024-05-18T23:20:26.302480Z",
     "shell.execute_reply": "2024-05-18T23:20:26.301043Z"
    },
    "papermill": {
     "duration": 0.209272,
     "end_time": "2024-05-18T23:20:26.305837",
     "exception": false,
     "start_time": "2024-05-18T23:20:26.096565",
     "status": "completed"
    },
    "tags": []
   },
   "outputs": [],
   "source": [
    "# need to spoof a browser in order to not get blocked when making request\n",
    "# https://bar.rady.ucsd.edu/Web_Scraping.html\n",
    "from bs4 import BeautifulSoup\n",
    "\n",
    "headers = requests.utils.default_headers()\n",
    "agent = 'Mozilla/5.0 (X11; Ubuntu; Linux x86_64; rv:52.0) Gecko/20100101 Firefox/52.0'\n",
    "headers.update({\n",
    "    'User-Agent': agent,\n",
    "})"
   ]
  },
  {
   "cell_type": "code",
   "execution_count": 9,
   "id": "7aa03cef",
   "metadata": {
    "execution": {
     "iopub.execute_input": "2024-05-18T23:20:26.318364Z",
     "iopub.status.busy": "2024-05-18T23:20:26.317704Z",
     "iopub.status.idle": "2024-05-18T23:20:26.329002Z",
     "shell.execute_reply": "2024-05-18T23:20:26.327843Z"
    },
    "papermill": {
     "duration": 0.020629,
     "end_time": "2024-05-18T23:20:26.331592",
     "exception": false,
     "start_time": "2024-05-18T23:20:26.310963",
     "status": "completed"
    },
    "tags": []
   },
   "outputs": [],
   "source": [
    "# make empty data frame to contain values and full text from each review\n",
    "cols = ['drug_name',\n",
    "       'date',\n",
    "       'age',\n",
    "       'gender',\n",
    "       'time_on_drug',\n",
    "       'reviewer_type',\n",
    "       'condition',\n",
    "       'rating_overall',\n",
    "       'rating_effectiveness',\n",
    "       'rating_ease_of_use',\n",
    "       'rating_satisfaction',\n",
    "       'text']\n",
    "\n",
    "reviews_df = pd.DataFrame(columns=cols, index=[])"
   ]
  },
  {
   "cell_type": "code",
   "execution_count": 10,
   "id": "8d27ae1b",
   "metadata": {
    "execution": {
     "iopub.execute_input": "2024-05-18T23:20:26.343988Z",
     "iopub.status.busy": "2024-05-18T23:20:26.343559Z",
     "iopub.status.idle": "2024-05-18T23:20:26.351568Z",
     "shell.execute_reply": "2024-05-18T23:20:26.350162Z"
    },
    "papermill": {
     "duration": 0.017382,
     "end_time": "2024-05-18T23:20:26.354130",
     "exception": false,
     "start_time": "2024-05-18T23:20:26.336748",
     "status": "completed"
    },
    "tags": []
   },
   "outputs": [],
   "source": [
    "def get_review_urls(conditions):\n",
    "    review_urls = []\n",
    "    for url in conditions.values():\n",
    "        response = requests.get(url, headers=headers).content\n",
    "        soup = BeautifulSoup(response, 'lxml')\n",
    "        drugs_section = soup.find('div', class_='medication-results-list')\n",
    "\n",
    "        for drug_review_element in drugs_section.find_all('span', class_='reviews-url'):\n",
    "            review_urls.append(drug_review_element.a.get('href'))\n",
    "\n",
    "    # because there is a lot of overlap in medications between conditions, get unique values\n",
    "    return np.unique(review_urls)"
   ]
  },
  {
   "cell_type": "code",
   "execution_count": 11,
   "id": "666da8f0",
   "metadata": {
    "execution": {
     "iopub.execute_input": "2024-05-18T23:20:26.366681Z",
     "iopub.status.busy": "2024-05-18T23:20:26.366221Z",
     "iopub.status.idle": "2024-05-18T23:20:26.372931Z",
     "shell.execute_reply": "2024-05-18T23:20:26.371698Z"
    },
    "papermill": {
     "duration": 0.016308,
     "end_time": "2024-05-18T23:20:26.375526",
     "exception": false,
     "start_time": "2024-05-18T23:20:26.359218",
     "status": "completed"
    },
    "tags": []
   },
   "outputs": [],
   "source": [
    "def compile_reviews(reviews_df, review_urls, condition):\n",
    "    for review_url in tqdm(review_urls):\n",
    "        response = requests.get(review_url, headers=headers)\n",
    "        if response.url == 'https://www.webmd.com/404':\n",
    "            print(f'skipping {review_url}: page not found')\n",
    "        else:\n",
    "            print(review_url)\n",
    "            reviews_df = crawl_reviews_pages(review_url, reviews_df)\n",
    "    reviews_df.to_csv(f'{condition}_drug_webmd_reviews.csv')"
   ]
  },
  {
   "cell_type": "code",
   "execution_count": 12,
   "id": "8cec9aaf",
   "metadata": {
    "execution": {
     "iopub.execute_input": "2024-05-18T23:20:26.387434Z",
     "iopub.status.busy": "2024-05-18T23:20:26.386953Z",
     "iopub.status.idle": "2024-05-19T00:53:39.936788Z",
     "shell.execute_reply": "2024-05-19T00:53:39.934690Z"
    },
    "papermill": {
     "duration": 5593.559275,
     "end_time": "2024-05-19T00:53:39.939907",
     "exception": false,
     "start_time": "2024-05-18T23:20:26.380632",
     "status": "completed"
    },
    "tags": []
   },
   "outputs": [
    {
     "name": "stderr",
     "output_type": "stream",
     "text": [
      "  0%|          | 0/412 [00:00<?, ?it/s]"
     ]
    },
    {
     "name": "stdout",
     "output_type": "stream",
     "text": [
      "https://reviews.webmd.com/drugs/drugreview-1-sertraline-hcl\n"
     ]
    },
    {
     "name": "stderr",
     "output_type": "stream",
     "text": [
      "\n",
      "  0%|          | 0/31 [00:00<?, ?it/s]\u001b[A\n",
      "  3%|▎         | 1/31 [00:00<00:22,  1.33it/s]\u001b[A\n",
      "  6%|▋         | 2/31 [00:01<00:29,  1.01s/it]\u001b[A\n",
      " 10%|▉         | 3/31 [00:03<00:31,  1.11s/it]\u001b[A\n",
      " 13%|█▎        | 4/31 [00:04<00:31,  1.16s/it]\u001b[A\n",
      " 16%|█▌        | 5/31 [00:05<00:32,  1.25s/it]\u001b[A\n",
      " 19%|█▉        | 6/31 [00:07<00:32,  1.31s/it]\u001b[A\n",
      " 23%|██▎       | 7/31 [00:08<00:31,  1.31s/it]\u001b[A\n",
      " 26%|██▌       | 8/31 [00:09<00:30,  1.31s/it]\u001b[A\n",
      " 29%|██▉       | 9/31 [00:11<00:28,  1.27s/it]\u001b[A\n",
      " 32%|███▏      | 10/31 [00:12<00:26,  1.27s/it]\u001b[A\n",
      " 35%|███▌      | 11/31 [00:13<00:25,  1.30s/it]\u001b[A\n",
      " 39%|███▊      | 12/31 [00:14<00:24,  1.28s/it]\u001b[A\n",
      " 42%|████▏     | 13/31 [00:16<00:22,  1.27s/it]\u001b[A\n",
      " 45%|████▌     | 14/31 [00:17<00:21,  1.25s/it]\u001b[A\n",
      " 48%|████▊     | 15/31 [00:18<00:20,  1.26s/it]\u001b[A\n",
      " 52%|█████▏    | 16/31 [00:19<00:18,  1.23s/it]\u001b[A\n",
      " 55%|█████▍    | 17/31 [00:21<00:17,  1.23s/it]\u001b[A\n",
      " 58%|█████▊    | 18/31 [00:22<00:15,  1.21s/it]\u001b[A\n",
      " 61%|██████▏   | 19/31 [00:23<00:14,  1.21s/it]\u001b[A\n",
      " 65%|██████▍   | 20/31 [00:24<00:13,  1.19s/it]\u001b[A\n",
      " 68%|██████▊   | 21/31 [00:25<00:12,  1.20s/it]\u001b[A\n",
      " 71%|███████   | 22/31 [00:27<00:11,  1.30s/it]\u001b[A\n",
      " 74%|███████▍  | 23/31 [00:28<00:10,  1.26s/it]\u001b[A\n",
      " 77%|███████▋  | 24/31 [00:29<00:08,  1.25s/it]\u001b[A\n",
      " 81%|████████  | 25/31 [00:31<00:07,  1.27s/it]\u001b[A\n",
      " 84%|████████▍ | 26/31 [00:32<00:06,  1.28s/it]\u001b[A\n",
      " 87%|████████▋ | 27/31 [00:33<00:05,  1.29s/it]\u001b[A\n",
      " 90%|█████████ | 28/31 [00:35<00:04,  1.39s/it]\u001b[A\n",
      " 94%|█████████▎| 29/31 [00:36<00:02,  1.32s/it]\u001b[A\n",
      " 97%|█████████▋| 30/31 [00:37<00:01,  1.37s/it]\u001b[A\n",
      "100%|██████████| 31/31 [00:39<00:00,  1.26s/it]\n",
      "  0%|          | 1/412 [00:41<4:42:27, 41.23s/it]"
     ]
    },
    {
     "name": "stdout",
     "output_type": "stream",
     "text": [
      "https://reviews.webmd.com/drugs/drugreview-10024-vanatrip-tablet\n"
     ]
    },
    {
     "name": "stderr",
     "output_type": "stream",
     "text": [
      "\n",
      "  0%|          | 0/1 [00:00<?, ?it/s]\u001b[A\n",
      "100%|██████████| 1/1 [00:00<00:00,  2.12it/s]\n",
      "  0%|          | 2/412 [00:43<2:04:44, 18.26s/it]"
     ]
    },
    {
     "name": "stdout",
     "output_type": "stream",
     "text": [
      "https://reviews.webmd.com/drugs/drugreview-10341-haloperidol-intensol-concentrate\n"
     ]
    },
    {
     "name": "stderr",
     "output_type": "stream",
     "text": [
      "\n",
      "  0%|          | 0/1 [00:00<?, ?it/s]\u001b[A\n",
      "100%|██████████| 1/1 [00:00<00:00,  1.36it/s]\n",
      "  1%|          | 4/412 [00:47<49:03,  7.22s/it]  "
     ]
    },
    {
     "name": "stdout",
     "output_type": "stream",
     "text": [
      "skipping https://reviews.webmd.com/drugs/drugreview-10405-thiothixene-hcl-capsule: page not found\n",
      "https://reviews.webmd.com/drugs/drugreview-1049-fluvoxamine-maleate\n"
     ]
    },
    {
     "name": "stderr",
     "output_type": "stream",
     "text": [
      "\n",
      "  0%|          | 0/4 [00:00<?, ?it/s]\u001b[A\n",
      " 25%|██▌       | 1/4 [00:00<00:02,  1.38it/s]\u001b[A\n",
      " 50%|█████     | 2/4 [00:02<00:02,  1.08s/it]\u001b[A\n",
      " 75%|███████▌  | 3/4 [00:03<00:01,  1.12s/it]\u001b[A\n",
      "100%|██████████| 4/4 [00:04<00:00,  1.08s/it]\n",
      "  1%|          | 5/412 [00:54<47:41,  7.03s/it]"
     ]
    },
    {
     "name": "stdout",
     "output_type": "stream",
     "text": [
      "https://reviews.webmd.com/drugs/drugreview-1049-fluvoxamine-maleate-er\n"
     ]
    },
    {
     "name": "stderr",
     "output_type": "stream",
     "text": [
      "\n",
      "  0%|          | 0/4 [00:00<?, ?it/s]\u001b[A\n",
      " 25%|██▌       | 1/4 [00:00<00:02,  1.47it/s]\u001b[A\n",
      " 50%|█████     | 2/4 [00:01<00:01,  1.19it/s]\u001b[A\n",
      " 75%|███████▌  | 3/4 [00:02<00:00,  1.27it/s]\u001b[A\n",
      "100%|██████████| 4/4 [00:02<00:00,  1.35it/s]\n",
      "  1%|▏         | 6/412 [00:58<40:27,  5.98s/it]"
     ]
    },
    {
     "name": "stdout",
     "output_type": "stream",
     "text": [
      "https://reviews.webmd.com/drugs/drugreview-10610-diazepam-syringe\n"
     ]
    },
    {
     "name": "stderr",
     "output_type": "stream",
     "text": [
      "\n",
      "  0%|          | 0/1 [00:00<?, ?it/s]\u001b[A\n",
      "100%|██████████| 1/1 [00:00<00:00,  1.44it/s]\n",
      "  2%|▏         | 7/412 [01:00<33:02,  4.89s/it]"
     ]
    },
    {
     "name": "stdout",
     "output_type": "stream",
     "text": [
      "https://reviews.webmd.com/drugs/drugreview-10710-nortriptyline-hcl\n"
     ]
    },
    {
     "name": "stderr",
     "output_type": "stream",
     "text": [
      "\n",
      "  0%|          | 0/24 [00:00<?, ?it/s]\u001b[A\n",
      "  4%|▍         | 1/24 [00:00<00:16,  1.44it/s]\u001b[A\n",
      "  8%|▊         | 2/24 [00:02<00:24,  1.13s/it]\u001b[A\n",
      " 12%|█▎        | 3/24 [00:03<00:24,  1.15s/it]\u001b[A\n",
      " 17%|█▋        | 4/24 [00:04<00:24,  1.23s/it]\u001b[A\n",
      " 21%|██        | 5/24 [00:05<00:24,  1.27s/it]\u001b[A\n",
      " 25%|██▌       | 6/24 [00:07<00:22,  1.27s/it]\u001b[A\n",
      " 29%|██▉       | 7/24 [00:08<00:22,  1.30s/it]\u001b[A\n",
      " 33%|███▎      | 8/24 [00:09<00:20,  1.30s/it]\u001b[A\n",
      " 38%|███▊      | 9/24 [00:11<00:20,  1.34s/it]\u001b[A\n",
      " 42%|████▏     | 10/24 [00:12<00:18,  1.31s/it]\u001b[A\n",
      " 46%|████▌     | 11/24 [00:13<00:17,  1.34s/it]\u001b[A\n",
      " 50%|█████     | 12/24 [00:15<00:15,  1.29s/it]\u001b[A\n",
      " 54%|█████▍    | 13/24 [00:16<00:15,  1.41s/it]\u001b[A\n",
      " 58%|█████▊    | 14/24 [00:18<00:13,  1.37s/it]\u001b[A\n",
      " 62%|██████▎   | 15/24 [00:19<00:11,  1.32s/it]\u001b[A\n",
      " 67%|██████▋   | 16/24 [00:20<00:10,  1.27s/it]\u001b[A\n",
      " 71%|███████   | 17/24 [00:21<00:08,  1.26s/it]\u001b[A\n",
      " 75%|███████▌  | 18/24 [00:22<00:07,  1.23s/it]\u001b[A\n",
      " 79%|███████▉  | 19/24 [00:24<00:06,  1.31s/it]\u001b[A\n",
      " 83%|████████▎ | 20/24 [00:25<00:05,  1.30s/it]\u001b[A\n",
      " 88%|████████▊ | 21/24 [00:27<00:04,  1.39s/it]\u001b[A\n",
      " 92%|█████████▏| 22/24 [00:28<00:02,  1.33s/it]\u001b[A\n",
      " 96%|█████████▌| 23/24 [00:29<00:01,  1.31s/it]\u001b[A\n",
      "100%|██████████| 24/24 [00:33<00:00,  1.41s/it]\n",
      "  2%|▏         | 8/412 [01:36<1:39:16, 14.74s/it]"
     ]
    },
    {
     "name": "stdout",
     "output_type": "stream",
     "text": [
      "https://reviews.webmd.com/drugs/drugreview-1089-luvox-tablet\n"
     ]
    },
    {
     "name": "stderr",
     "output_type": "stream",
     "text": [
      "\n",
      "  0%|          | 0/8 [00:00<?, ?it/s]\u001b[A\n",
      " 12%|█▎        | 1/8 [00:00<00:04,  1.46it/s]\u001b[A\n",
      " 25%|██▌       | 2/8 [00:02<00:06,  1.10s/it]\u001b[A\n",
      " 38%|███▊      | 3/8 [00:03<00:06,  1.20s/it]\u001b[A\n",
      " 50%|█████     | 4/8 [00:04<00:04,  1.20s/it]\u001b[A\n",
      " 62%|██████▎   | 5/8 [00:06<00:03,  1.31s/it]\u001b[A\n",
      " 75%|███████▌  | 6/8 [00:07<00:02,  1.38s/it]\u001b[A\n",
      " 88%|████████▊ | 7/8 [00:08<00:01,  1.32s/it]\u001b[A\n",
      "100%|██████████| 8/8 [00:09<00:00,  1.24s/it]\n",
      "  2%|▏         | 9/412 [01:48<1:33:19, 13.90s/it]"
     ]
    },
    {
     "name": "stdout",
     "output_type": "stream",
     "text": [
      "https://reviews.webmd.com/drugs/drugreview-10962-epitol\n"
     ]
    },
    {
     "name": "stderr",
     "output_type": "stream",
     "text": [
      "\n",
      "  0%|          | 0/2 [00:00<?, ?it/s]\u001b[A\n",
      " 50%|█████     | 1/2 [00:00<00:00,  1.35it/s]\u001b[A\n",
      "100%|██████████| 2/2 [00:01<00:00,  1.04it/s]\n",
      "  2%|▏         | 10/412 [01:52<1:13:00, 10.90s/it]"
     ]
    },
    {
     "name": "stdout",
     "output_type": "stream",
     "text": [
      "https://reviews.webmd.com/drugs/drugreview-10991-atretol-tablet\n"
     ]
    },
    {
     "name": "stderr",
     "output_type": "stream",
     "text": [
      "  3%|▎         | 11/412 [01:55<56:07,  8.40s/it]  "
     ]
    },
    {
     "name": "stdout",
     "output_type": "stream",
     "text": [
      "https://reviews.webmd.com/drugs/drugreview-11034-amoxapine\n"
     ]
    },
    {
     "name": "stderr",
     "output_type": "stream",
     "text": [
      "\n",
      "  0%|          | 0/1 [00:00<?, ?it/s]\u001b[A\n",
      "100%|██████████| 1/1 [00:00<00:00,  1.72it/s]\n",
      "  3%|▎         | 13/412 [01:59<33:31,  5.04s/it]"
     ]
    },
    {
     "name": "stdout",
     "output_type": "stream",
     "text": [
      "skipping https://reviews.webmd.com/drugs/drugreview-11066-haloperidol-lactate-vial: page not found\n"
     ]
    },
    {
     "name": "stderr",
     "output_type": "stream",
     "text": [
      "  3%|▎         | 14/412 [02:00<25:28,  3.84s/it]"
     ]
    },
    {
     "name": "stdout",
     "output_type": "stream",
     "text": [
      "skipping https://reviews.webmd.com/drugs/drugreview-11108-elavil-solution: page not found\n",
      "https://reviews.webmd.com/drugs/drugreview-11116-valium\n"
     ]
    },
    {
     "name": "stderr",
     "output_type": "stream",
     "text": [
      "\n",
      "  0%|          | 0/17 [00:00<?, ?it/s]\u001b[A\n",
      "  6%|▌         | 1/17 [00:00<00:10,  1.46it/s]\u001b[A\n",
      " 12%|█▏        | 2/17 [00:01<00:15,  1.02s/it]\u001b[A\n",
      " 18%|█▊        | 3/17 [00:03<00:15,  1.08s/it]\u001b[A\n",
      " 24%|██▎       | 4/17 [00:04<00:15,  1.21s/it]\u001b[A\n",
      " 29%|██▉       | 5/17 [00:05<00:14,  1.22s/it]\u001b[A\n",
      " 35%|███▌      | 6/17 [00:06<00:13,  1.20s/it]\u001b[A\n",
      " 41%|████      | 7/17 [00:08<00:12,  1.28s/it]\u001b[A\n",
      " 47%|████▋     | 8/17 [00:09<00:11,  1.24s/it]\u001b[A\n",
      " 53%|█████▎    | 9/17 [00:10<00:09,  1.24s/it]\u001b[A\n",
      " 59%|█████▉    | 10/17 [00:12<00:09,  1.31s/it]\u001b[A\n",
      " 65%|██████▍   | 11/17 [00:13<00:07,  1.33s/it]\u001b[A\n",
      " 71%|███████   | 12/17 [00:14<00:06,  1.33s/it]\u001b[A\n",
      " 76%|███████▋  | 13/17 [00:16<00:05,  1.28s/it]\u001b[A\n",
      " 82%|████████▏ | 14/17 [00:17<00:03,  1.32s/it]\u001b[A\n",
      " 88%|████████▊ | 15/17 [00:18<00:02,  1.29s/it]\u001b[A\n",
      " 94%|█████████▍| 16/17 [00:20<00:01,  1.33s/it]\u001b[A\n",
      "100%|██████████| 17/17 [00:21<00:00,  1.25s/it]\n",
      "  4%|▎         | 15/412 [02:23<1:04:04,  9.68s/it]"
     ]
    },
    {
     "name": "stdout",
     "output_type": "stream",
     "text": [
      "https://reviews.webmd.com/drugs/drugreview-11515-thorazine-solution\n"
     ]
    },
    {
     "name": "stderr",
     "output_type": "stream",
     "text": [
      "\n",
      "  0%|          | 0/1 [00:00<?, ?it/s]\u001b[A\n",
      "100%|██████████| 1/1 [00:00<00:00,  1.68it/s]\n",
      "  4%|▍         | 17/412 [02:27<37:29,  5.69s/it]"
     ]
    },
    {
     "name": "stdout",
     "output_type": "stream",
     "text": [
      "skipping https://reviews.webmd.com/drugs/drugreview-11516-trifluoperazine-solution: page not found\n"
     ]
    },
    {
     "name": "stderr",
     "output_type": "stream",
     "text": [
      "  4%|▍         | 18/412 [02:28<28:18,  4.31s/it]"
     ]
    },
    {
     "name": "stdout",
     "output_type": "stream",
     "text": [
      "skipping https://reviews.webmd.com/drugs/drugreview-11519-stelazine-solution: page not found\n",
      "https://reviews.webmd.com/drugs/drugreview-11647-lithonate-capsule\n"
     ]
    },
    {
     "name": "stderr",
     "output_type": "stream",
     "text": [
      "  5%|▍         | 19/412 [02:30<23:20,  3.56s/it]"
     ]
    },
    {
     "name": "stdout",
     "output_type": "stream",
     "text": [
      "https://reviews.webmd.com/drugs/drugreview-11980-haloperidol-lactate\n"
     ]
    },
    {
     "name": "stderr",
     "output_type": "stream",
     "text": [
      "\n",
      "  0%|          | 0/1 [00:00<?, ?it/s]\u001b[A\n",
      "100%|██████████| 1/1 [00:00<00:00,  1.61it/s]\n",
      "  5%|▍         | 20/412 [02:33<22:05,  3.38s/it]"
     ]
    },
    {
     "name": "stdout",
     "output_type": "stream",
     "text": [
      "https://reviews.webmd.com/drugs/drugreview-11998-trifluoperazine-hcl\n"
     ]
    },
    {
     "name": "stderr",
     "output_type": "stream",
     "text": [
      "\n",
      "  0%|          | 0/1 [00:00<?, ?it/s]\u001b[A\n",
      "100%|██████████| 1/1 [00:00<00:00,  1.71it/s]\n",
      "  5%|▌         | 21/412 [02:36<20:19,  3.12s/it]"
     ]
    },
    {
     "name": "stdout",
     "output_type": "stream",
     "text": [
      "https://reviews.webmd.com/drugs/drugreview-12167-protriptyline-hcl\n"
     ]
    },
    {
     "name": "stderr",
     "output_type": "stream",
     "text": [
      "\n",
      "  0%|          | 0/1 [00:00<?, ?it/s]\u001b[A\n",
      "100%|██████████| 1/1 [00:00<00:00,  1.76it/s]\n",
      "  5%|▌         | 22/412 [02:38<19:43,  3.03s/it]"
     ]
    },
    {
     "name": "stdout",
     "output_type": "stream",
     "text": [
      "https://reviews.webmd.com/drugs/drugreview-12169-vivactil-tablet\n"
     ]
    },
    {
     "name": "stderr",
     "output_type": "stream",
     "text": [
      "\n",
      "  0%|          | 0/1 [00:00<?, ?it/s]\u001b[A\n",
      "100%|██████████| 1/1 [00:00<00:00,  1.30it/s]\n",
      "  6%|▌         | 23/412 [02:41<18:55,  2.92s/it]"
     ]
    },
    {
     "name": "stdout",
     "output_type": "stream",
     "text": [
      "https://reviews.webmd.com/drugs/drugreview-1305-clomipramine-hcl\n"
     ]
    },
    {
     "name": "stderr",
     "output_type": "stream",
     "text": [
      "\n",
      "  0%|          | 0/4 [00:00<?, ?it/s]\u001b[A\n",
      " 25%|██▌       | 1/4 [00:00<00:02,  1.50it/s]\u001b[A\n",
      " 50%|█████     | 2/4 [00:01<00:01,  1.02it/s]\u001b[A\n",
      " 75%|███████▌  | 3/4 [00:03<00:01,  1.18s/it]\u001b[A\n",
      "100%|██████████| 4/4 [00:04<00:00,  1.06s/it]\n",
      "  6%|▌         | 24/412 [02:47<25:11,  3.90s/it]"
     ]
    },
    {
     "name": "stdout",
     "output_type": "stream",
     "text": [
      "https://reviews.webmd.com/drugs/drugreview-132-poxi-capsule\n"
     ]
    },
    {
     "name": "stderr",
     "output_type": "stream",
     "text": [
      "\n",
      "  0%|          | 0/1 [00:00<?, ?it/s]\u001b[A\n",
      "100%|██████████| 1/1 [00:00<00:00,  1.82it/s]\n",
      "  6%|▌         | 25/412 [02:50<21:56,  3.40s/it]"
     ]
    },
    {
     "name": "stdout",
     "output_type": "stream",
     "text": [
      "https://reviews.webmd.com/drugs/drugreview-13507-bupropion-hcl\n"
     ]
    },
    {
     "name": "stderr",
     "output_type": "stream",
     "text": [
      "\n",
      "  0%|          | 0/23 [00:00<?, ?it/s]\u001b[A\n",
      "  4%|▍         | 1/23 [00:00<00:15,  1.40it/s]\u001b[A\n",
      "  9%|▊         | 2/23 [00:02<00:22,  1.06s/it]\u001b[A\n",
      " 13%|█▎        | 3/23 [00:03<00:23,  1.15s/it]\u001b[A\n",
      " 17%|█▋        | 4/23 [00:04<00:23,  1.22s/it]\u001b[A\n",
      " 22%|██▏       | 5/23 [00:05<00:21,  1.18s/it]\u001b[A\n",
      " 26%|██▌       | 6/23 [00:06<00:20,  1.20s/it]\u001b[A\n",
      " 30%|███       | 7/23 [00:08<00:19,  1.21s/it]\u001b[A\n",
      " 35%|███▍      | 8/23 [00:09<00:17,  1.20s/it]\u001b[A\n",
      " 39%|███▉      | 9/23 [00:10<00:17,  1.27s/it]\u001b[A\n",
      " 43%|████▎     | 10/23 [00:12<00:16,  1.26s/it]\u001b[A\n",
      " 48%|████▊     | 11/23 [00:13<00:15,  1.28s/it]\u001b[A\n",
      " 52%|█████▏    | 12/23 [00:14<00:14,  1.32s/it]\u001b[A\n",
      " 57%|█████▋    | 13/23 [00:15<00:12,  1.26s/it]\u001b[A\n",
      " 61%|██████    | 14/23 [00:17<00:11,  1.23s/it]\u001b[A\n",
      " 65%|██████▌   | 15/23 [00:18<00:10,  1.27s/it]\u001b[A\n",
      " 70%|██████▉   | 16/23 [00:19<00:09,  1.29s/it]\u001b[A\n",
      " 74%|███████▍  | 17/23 [00:21<00:07,  1.29s/it]\u001b[A\n",
      " 78%|███████▊  | 18/23 [00:22<00:06,  1.25s/it]\u001b[A\n",
      " 83%|████████▎ | 19/23 [00:23<00:04,  1.24s/it]\u001b[A\n",
      " 87%|████████▋ | 20/23 [00:24<00:03,  1.29s/it]\u001b[A\n",
      " 91%|█████████▏| 21/23 [00:26<00:02,  1.35s/it]\u001b[A\n",
      " 96%|█████████▌| 22/23 [00:27<00:01,  1.31s/it]\u001b[A\n",
      "100%|██████████| 23/23 [00:28<00:00,  1.25s/it]\n",
      "  6%|▋         | 26/412 [03:20<1:14:45, 11.62s/it]"
     ]
    },
    {
     "name": "stdout",
     "output_type": "stream",
     "text": [
      "https://reviews.webmd.com/drugs/drugreview-13507-bupropion-hcl-sr\n"
     ]
    },
    {
     "name": "stderr",
     "output_type": "stream",
     "text": [
      "\n",
      "  0%|          | 0/23 [00:00<?, ?it/s]\u001b[A\n",
      "  4%|▍         | 1/23 [00:00<00:16,  1.37it/s]\u001b[A\n",
      "  9%|▊         | 2/23 [00:01<00:14,  1.40it/s]\u001b[A\n",
      " 13%|█▎        | 3/23 [00:02<00:15,  1.29it/s]\u001b[A\n",
      " 17%|█▋        | 4/23 [00:02<00:14,  1.33it/s]\u001b[A\n",
      " 22%|██▏       | 5/23 [00:03<00:13,  1.34it/s]\u001b[A\n",
      " 26%|██▌       | 6/23 [00:04<00:12,  1.35it/s]\u001b[A\n",
      " 30%|███       | 7/23 [00:05<00:11,  1.37it/s]\u001b[A\n",
      " 35%|███▍      | 8/23 [00:06<00:11,  1.30it/s]\u001b[A\n",
      " 39%|███▉      | 9/23 [00:06<00:10,  1.35it/s]\u001b[A\n",
      " 43%|████▎     | 10/23 [00:07<00:09,  1.37it/s]\u001b[A\n",
      " 48%|████▊     | 11/23 [00:08<00:08,  1.37it/s]\u001b[A\n",
      " 52%|█████▏    | 12/23 [00:08<00:08,  1.34it/s]\u001b[A\n",
      " 57%|█████▋    | 13/23 [00:09<00:07,  1.34it/s]\u001b[A\n",
      " 61%|██████    | 14/23 [00:10<00:06,  1.30it/s]\u001b[A\n",
      " 65%|██████▌   | 15/23 [00:11<00:05,  1.34it/s]\u001b[A\n",
      " 70%|██████▉   | 16/23 [00:11<00:05,  1.33it/s]\u001b[A\n",
      " 74%|███████▍  | 17/23 [00:12<00:04,  1.33it/s]\u001b[A\n",
      " 78%|███████▊  | 18/23 [00:13<00:03,  1.36it/s]\u001b[A\n",
      " 83%|████████▎ | 19/23 [00:14<00:02,  1.37it/s]\u001b[A\n",
      " 87%|████████▋ | 20/23 [00:15<00:02,  1.25it/s]\u001b[A\n",
      " 91%|█████████▏| 21/23 [00:15<00:01,  1.26it/s]\u001b[A\n",
      " 96%|█████████▌| 22/23 [00:16<00:00,  1.29it/s]\u001b[A\n",
      "100%|██████████| 23/23 [00:17<00:00,  1.34it/s]\n",
      "  7%|▋         | 27/412 [03:38<1:27:04, 13.57s/it]"
     ]
    },
    {
     "name": "stdout",
     "output_type": "stream",
     "text": [
      "https://reviews.webmd.com/drugs/drugreview-13507-bupropion-xl\n"
     ]
    },
    {
     "name": "stderr",
     "output_type": "stream",
     "text": [
      "\n",
      "  0%|          | 0/23 [00:00<?, ?it/s]\u001b[A\n",
      "  4%|▍         | 1/23 [00:00<00:16,  1.34it/s]\u001b[A\n",
      "  9%|▊         | 2/23 [00:01<00:16,  1.24it/s]\u001b[A\n",
      " 13%|█▎        | 3/23 [00:02<00:15,  1.32it/s]\u001b[A\n",
      " 17%|█▋        | 4/23 [00:03<00:14,  1.33it/s]\u001b[A\n",
      " 22%|██▏       | 5/23 [00:03<00:13,  1.35it/s]\u001b[A\n",
      " 26%|██▌       | 6/23 [00:04<00:12,  1.37it/s]\u001b[A\n",
      " 30%|███       | 7/23 [00:05<00:13,  1.22it/s]\u001b[A\n",
      " 35%|███▍      | 8/23 [00:06<00:11,  1.26it/s]\u001b[A\n",
      " 39%|███▉      | 9/23 [00:06<00:10,  1.30it/s]\u001b[A\n",
      " 43%|████▎     | 10/23 [00:07<00:10,  1.24it/s]\u001b[A\n",
      " 48%|████▊     | 11/23 [00:08<00:09,  1.27it/s]\u001b[A\n",
      " 52%|█████▏    | 12/23 [00:09<00:08,  1.26it/s]\u001b[A\n",
      " 57%|█████▋    | 13/23 [00:10<00:08,  1.20it/s]\u001b[A\n",
      " 61%|██████    | 14/23 [00:11<00:07,  1.25it/s]\u001b[A\n",
      " 65%|██████▌   | 15/23 [00:11<00:06,  1.28it/s]\u001b[A\n",
      " 70%|██████▉   | 16/23 [00:12<00:06,  1.11it/s]\u001b[A\n",
      " 74%|███████▍  | 17/23 [00:13<00:05,  1.19it/s]\u001b[A\n",
      " 78%|███████▊  | 18/23 [00:14<00:03,  1.26it/s]\u001b[A\n",
      " 83%|████████▎ | 19/23 [00:15<00:03,  1.28it/s]\u001b[A\n",
      " 87%|████████▋ | 20/23 [00:15<00:02,  1.29it/s]\u001b[A\n",
      " 91%|█████████▏| 21/23 [00:16<00:01,  1.26it/s]\u001b[A\n",
      " 96%|█████████▌| 22/23 [00:17<00:00,  1.26it/s]\u001b[A\n",
      "100%|██████████| 23/23 [00:17<00:00,  1.28it/s]\n",
      "  7%|▋         | 28/412 [03:57<1:37:09, 15.18s/it]"
     ]
    },
    {
     "name": "stdout",
     "output_type": "stream",
     "text": [
      "https://reviews.webmd.com/drugs/drugreview-13509-wellbutrin-tablet\n"
     ]
    },
    {
     "name": "stderr",
     "output_type": "stream",
     "text": [
      "\n",
      "  0%|          | 0/43 [00:00<?, ?it/s]\u001b[A\n",
      "  2%|▏         | 1/43 [00:00<00:35,  1.17it/s]\u001b[A\n",
      "  5%|▍         | 2/43 [00:02<00:43,  1.07s/it]\u001b[A\n",
      "  7%|▋         | 3/43 [00:03<00:44,  1.10s/it]\u001b[A\n",
      "  9%|▉         | 4/43 [00:04<00:44,  1.15s/it]\u001b[A\n",
      " 12%|█▏        | 5/43 [00:05<00:44,  1.17s/it]\u001b[A\n",
      " 14%|█▍        | 6/43 [00:07<00:45,  1.24s/it]\u001b[A\n",
      " 16%|█▋        | 7/43 [00:08<00:46,  1.30s/it]\u001b[A\n",
      " 19%|█▊        | 8/43 [00:09<00:45,  1.29s/it]\u001b[A\n",
      " 21%|██        | 9/43 [00:10<00:43,  1.27s/it]\u001b[A\n",
      " 23%|██▎       | 10/43 [00:12<00:44,  1.35s/it]\u001b[A\n",
      " 26%|██▌       | 11/43 [00:13<00:43,  1.34s/it]\u001b[A\n",
      " 28%|██▊       | 12/43 [00:15<00:42,  1.38s/it]\u001b[A\n",
      " 30%|███       | 13/43 [00:16<00:39,  1.33s/it]\u001b[A\n",
      " 33%|███▎      | 14/43 [00:17<00:37,  1.30s/it]\u001b[A\n",
      " 35%|███▍      | 15/43 [00:19<00:37,  1.33s/it]\u001b[A\n",
      " 37%|███▋      | 16/43 [00:20<00:35,  1.32s/it]\u001b[A\n",
      " 40%|███▉      | 17/43 [00:21<00:35,  1.35s/it]\u001b[A\n",
      " 42%|████▏     | 18/43 [00:23<00:35,  1.41s/it]\u001b[A\n",
      " 44%|████▍     | 19/43 [00:24<00:33,  1.39s/it]\u001b[A\n",
      " 47%|████▋     | 20/43 [00:26<00:31,  1.38s/it]\u001b[A\n",
      " 49%|████▉     | 21/43 [00:27<00:29,  1.34s/it]\u001b[A\n",
      " 51%|█████     | 22/43 [00:28<00:27,  1.32s/it]\u001b[A\n",
      " 53%|█████▎    | 23/43 [00:30<00:27,  1.36s/it]\u001b[A\n",
      " 56%|█████▌    | 24/43 [00:31<00:25,  1.34s/it]\u001b[A\n",
      " 58%|█████▊    | 25/43 [00:32<00:23,  1.31s/it]\u001b[A\n",
      " 60%|██████    | 26/43 [00:33<00:22,  1.31s/it]\u001b[A\n",
      " 63%|██████▎   | 27/43 [00:35<00:21,  1.33s/it]\u001b[A\n",
      " 65%|██████▌   | 28/43 [00:36<00:20,  1.34s/it]\u001b[A\n",
      " 67%|██████▋   | 29/43 [00:38<00:19,  1.39s/it]\u001b[A\n",
      " 70%|██████▉   | 30/43 [00:39<00:17,  1.38s/it]\u001b[A\n",
      " 72%|███████▏  | 31/43 [00:40<00:16,  1.34s/it]\u001b[A\n",
      " 74%|███████▍  | 32/43 [00:42<00:14,  1.33s/it]\u001b[A\n",
      " 77%|███████▋  | 33/43 [00:43<00:13,  1.30s/it]\u001b[A\n",
      " 79%|███████▉  | 34/43 [00:44<00:11,  1.31s/it]\u001b[A\n",
      " 81%|████████▏ | 35/43 [00:46<00:10,  1.36s/it]\u001b[A\n",
      " 84%|████████▎ | 36/43 [00:47<00:09,  1.42s/it]\u001b[A\n",
      " 86%|████████▌ | 37/43 [00:49<00:08,  1.41s/it]\u001b[A\n",
      " 88%|████████▊ | 38/43 [00:50<00:06,  1.38s/it]\u001b[A\n",
      " 91%|█████████ | 39/43 [00:51<00:05,  1.36s/it]\u001b[A\n",
      " 93%|█████████▎| 40/43 [00:53<00:04,  1.39s/it]\u001b[A\n",
      " 95%|█████████▌| 41/43 [00:54<00:02,  1.33s/it]\u001b[A\n",
      " 98%|█████████▊| 42/43 [00:55<00:01,  1.36s/it]\u001b[A\n",
      "100%|██████████| 43/43 [00:56<00:00,  1.32s/it]\n",
      "  7%|▋         | 29/412 [04:56<3:00:40, 28.30s/it]"
     ]
    },
    {
     "name": "stdout",
     "output_type": "stream",
     "text": [
      "https://reviews.webmd.com/drugs/drugreview-13539-vistacot-solution\n"
     ]
    },
    {
     "name": "stderr",
     "output_type": "stream",
     "text": [
      "  7%|▋         | 30/412 [04:58<2:09:24, 20.33s/it]"
     ]
    },
    {
     "name": "stdout",
     "output_type": "stream",
     "text": [
      "https://reviews.webmd.com/drugs/drugreview-13540-vistazine-solution\n"
     ]
    },
    {
     "name": "stderr",
     "output_type": "stream",
     "text": [
      "  8%|▊         | 31/412 [05:00<1:34:16, 14.85s/it]"
     ]
    },
    {
     "name": "stdout",
     "output_type": "stream",
     "text": [
      "https://reviews.webmd.com/drugs/drugreview-13541-hyzine-solution\n"
     ]
    },
    {
     "name": "stderr",
     "output_type": "stream",
     "text": [
      "  8%|▊         | 32/412 [05:02<1:08:57, 10.89s/it]"
     ]
    },
    {
     "name": "stdout",
     "output_type": "stream",
     "text": [
      "https://reviews.webmd.com/drugs/drugreview-13720-hy-pam-capsule\n"
     ]
    },
    {
     "name": "stderr",
     "output_type": "stream",
     "text": [
      "  8%|▊         | 33/412 [05:03<51:27,  8.15s/it]  "
     ]
    },
    {
     "name": "stdout",
     "output_type": "stream",
     "text": [
      "https://reviews.webmd.com/drugs/drugreview-13881-chlorpromazine-hcl-ampul\n"
     ]
    },
    {
     "name": "stderr",
     "output_type": "stream",
     "text": [
      "\n",
      "  0%|          | 0/1 [00:00<?, ?it/s]\u001b[A\n",
      "100%|██████████| 1/1 [00:00<00:00,  1.72it/s]\n",
      "  8%|▊         | 34/412 [05:06<41:09,  6.53s/it]"
     ]
    },
    {
     "name": "stdout",
     "output_type": "stream",
     "text": [
      "https://reviews.webmd.com/drugs/drugreview-14016-tranxene-t-tab\n"
     ]
    },
    {
     "name": "stderr",
     "output_type": "stream",
     "text": [
      "\n",
      "  0%|          | 0/3 [00:00<?, ?it/s]\u001b[A\n",
      " 33%|███▎      | 1/3 [00:00<00:01,  1.25it/s]\u001b[A\n",
      " 67%|██████▋   | 2/3 [00:02<00:01,  1.07s/it]\u001b[A\n",
      "100%|██████████| 3/3 [00:03<00:00,  1.07s/it]\n",
      "  8%|▊         | 35/412 [05:12<38:54,  6.19s/it]"
     ]
    },
    {
     "name": "stdout",
     "output_type": "stream",
     "text": [
      "https://reviews.webmd.com/drugs/drugreview-14211-wellbutrin-sr\n"
     ]
    },
    {
     "name": "stderr",
     "output_type": "stream",
     "text": [
      "\n",
      "  0%|          | 0/15 [00:00<?, ?it/s]\u001b[A\n",
      "  7%|▋         | 1/15 [00:00<00:10,  1.30it/s]\u001b[A\n",
      " 13%|█▎        | 2/15 [00:02<00:14,  1.08s/it]\u001b[A\n",
      " 20%|██        | 3/15 [00:03<00:16,  1.37s/it]\u001b[A\n",
      " 27%|██▋       | 4/15 [00:05<00:14,  1.34s/it]\u001b[A\n",
      " 33%|███▎      | 5/15 [00:06<00:13,  1.33s/it]\u001b[A\n",
      " 40%|████      | 6/15 [00:07<00:11,  1.33s/it]\u001b[A\n",
      " 47%|████▋     | 7/15 [00:09<00:10,  1.36s/it]\u001b[A\n",
      " 53%|█████▎    | 8/15 [00:10<00:08,  1.28s/it]\u001b[A\n",
      " 60%|██████    | 9/15 [00:11<00:07,  1.30s/it]\u001b[A\n",
      " 67%|██████▋   | 10/15 [00:12<00:06,  1.29s/it]\u001b[A\n",
      " 73%|███████▎  | 11/15 [00:14<00:05,  1.30s/it]\u001b[A\n",
      " 80%|████████  | 12/15 [00:15<00:03,  1.28s/it]\u001b[A\n",
      " 87%|████████▋ | 13/15 [00:16<00:02,  1.24s/it]\u001b[A\n",
      " 93%|█████████▎| 14/15 [00:17<00:01,  1.28s/it]\u001b[A\n",
      "100%|██████████| 15/15 [00:19<00:00,  1.28s/it]\n",
      "  9%|▊         | 36/412 [05:33<1:07:16, 10.74s/it]"
     ]
    },
    {
     "name": "stdout",
     "output_type": "stream",
     "text": [
      "https://reviews.webmd.com/drugs/drugreview-14218-thsc-desipramine-hcl-tablet\n"
     ]
    },
    {
     "name": "stderr",
     "output_type": "stream",
     "text": [
      "  9%|▉         | 37/412 [05:35<50:49,  8.13s/it]  "
     ]
    },
    {
     "name": "stdout",
     "output_type": "stream",
     "text": [
      "https://reviews.webmd.com/drugs/drugreview-14227-thsc-hydroxyzine-hcl-tablet\n"
     ]
    },
    {
     "name": "stderr",
     "output_type": "stream",
     "text": [
      "  9%|▉         | 38/412 [05:37<38:33,  6.19s/it]"
     ]
    },
    {
     "name": "stdout",
     "output_type": "stream",
     "text": [
      "https://reviews.webmd.com/drugs/drugreview-14232-thsc-diazepam-tablet\n"
     ]
    },
    {
     "name": "stderr",
     "output_type": "stream",
     "text": [
      " 10%|▉         | 40/412 [05:40<23:07,  3.73s/it]"
     ]
    },
    {
     "name": "stdout",
     "output_type": "stream",
     "text": [
      "skipping https://reviews.webmd.com/drugs/drugreview-14349-amitriptyline-solution: page not found\n",
      "https://reviews.webmd.com/drugs/drugreview-14374-lithium-citrate\n"
     ]
    },
    {
     "name": "stderr",
     "output_type": "stream",
     "text": [
      "\n",
      "  0%|          | 0/2 [00:00<?, ?it/s]\u001b[A\n",
      " 50%|█████     | 1/2 [00:00<00:00,  1.40it/s]\u001b[A\n",
      "100%|██████████| 2/2 [00:01<00:00,  1.16it/s]\n",
      " 10%|▉         | 41/412 [05:43<22:50,  3.69s/it]"
     ]
    },
    {
     "name": "stdout",
     "output_type": "stream",
     "text": [
      "https://reviews.webmd.com/drugs/drugreview-14375-loxapine\n"
     ]
    },
    {
     "name": "stderr",
     "output_type": "stream",
     "text": [
      "\n",
      "  0%|          | 0/1 [00:00<?, ?it/s]\u001b[A\n",
      "100%|██████████| 1/1 [00:00<00:00,  1.64it/s]\n",
      " 10%|█         | 42/412 [05:46<20:23,  3.31s/it]"
     ]
    },
    {
     "name": "stdout",
     "output_type": "stream",
     "text": [
      "https://reviews.webmd.com/drugs/drugreview-14398-valproic-acid\n"
     ]
    },
    {
     "name": "stderr",
     "output_type": "stream",
     "text": [
      "\n",
      "  0%|          | 0/1 [00:00<?, ?it/s]\u001b[A\n",
      "100%|██████████| 1/1 [00:00<00:00,  1.63it/s]\n",
      " 10%|█         | 43/412 [05:48<19:14,  3.13s/it]"
     ]
    },
    {
     "name": "stdout",
     "output_type": "stream",
     "text": [
      "https://reviews.webmd.com/drugs/drugreview-1444-chlorpromazine-hcl\n"
     ]
    },
    {
     "name": "stderr",
     "output_type": "stream",
     "text": [
      "\n",
      "  0%|          | 0/2 [00:00<?, ?it/s]\u001b[A\n",
      " 50%|█████     | 1/2 [00:00<00:00,  1.29it/s]\u001b[A\n",
      "100%|██████████| 2/2 [00:01<00:00,  1.00it/s]\n",
      " 11%|█         | 44/412 [05:53<21:37,  3.53s/it]"
     ]
    },
    {
     "name": "stdout",
     "output_type": "stream",
     "text": [
      "https://reviews.webmd.com/drugs/drugreview-14460-fluphenazine-decanoate-vial\n"
     ]
    },
    {
     "name": "stderr",
     "output_type": "stream",
     "text": [
      "\n",
      "  0%|          | 0/1 [00:00<?, ?it/s]\u001b[A\n",
      "100%|██████████| 1/1 [00:00<00:00,  1.72it/s]\n",
      " 11%|█         | 45/412 [05:55<19:43,  3.23s/it]"
     ]
    },
    {
     "name": "stdout",
     "output_type": "stream",
     "text": [
      "https://reviews.webmd.com/drugs/drugreview-144686-abilify-discmelt-tablet-disintegrating\n"
     ]
    },
    {
     "name": "stderr",
     "output_type": "stream",
     "text": [
      "\n",
      "  0%|          | 0/1 [00:00<?, ?it/s]\u001b[A\n",
      "100%|██████████| 1/1 [00:00<00:00,  1.16it/s]\n",
      " 11%|█         | 46/412 [05:58<18:51,  3.09s/it]"
     ]
    },
    {
     "name": "stdout",
     "output_type": "stream",
     "text": [
      "https://reviews.webmd.com/drugs/drugreview-14541-diazepam\n"
     ]
    },
    {
     "name": "stderr",
     "output_type": "stream",
     "text": [
      "\n",
      "  0%|          | 0/1 [00:00<?, ?it/s]\u001b[A\n",
      "100%|██████████| 1/1 [00:00<00:00,  1.99it/s]\n",
      " 11%|█▏        | 47/412 [06:00<17:10,  2.82s/it]"
     ]
    },
    {
     "name": "stdout",
     "output_type": "stream",
     "text": [
      "https://reviews.webmd.com/drugs/drugreview-14588-lorazepam-intensol\n"
     ]
    },
    {
     "name": "stderr",
     "output_type": "stream",
     "text": [
      "\n",
      "  0%|          | 0/1 [00:00<?, ?it/s]\u001b[A\n",
      "100%|██████████| 1/1 [00:00<00:00,  1.78it/s]\n",
      " 12%|█▏        | 48/412 [06:03<16:29,  2.72s/it]"
     ]
    },
    {
     "name": "stdout",
     "output_type": "stream",
     "text": [
      "https://reviews.webmd.com/drugs/drugreview-146479-aripiprazole-solution\n"
     ]
    },
    {
     "name": "stderr",
     "output_type": "stream",
     "text": [
      "\n",
      "  0%|          | 0/1 [00:00<?, ?it/s]\u001b[A\n",
      "100%|██████████| 1/1 [00:00<00:00,  1.99it/s]\n",
      " 12%|█▏        | 49/412 [06:05<15:44,  2.60s/it]"
     ]
    },
    {
     "name": "stdout",
     "output_type": "stream",
     "text": [
      "https://reviews.webmd.com/drugs/drugreview-146479-aripiprazole-suspension-er-reconstituted-suspension-reconstituted\n"
     ]
    },
    {
     "name": "stderr",
     "output_type": "stream",
     "text": [
      "\n",
      "  0%|          | 0/1 [00:00<?, ?it/s]\u001b[A\n",
      "100%|██████████| 1/1 [00:00<00:00,  2.03it/s]\n",
      " 12%|█▏        | 50/412 [06:06<13:32,  2.25s/it]"
     ]
    },
    {
     "name": "stdout",
     "output_type": "stream",
     "text": [
      "https://reviews.webmd.com/drugs/drugreview-146637-budeprion-xl-tablet-er-24-hr\n"
     ]
    },
    {
     "name": "stderr",
     "output_type": "stream",
     "text": [
      "\n",
      "  0%|          | 0/5 [00:00<?, ?it/s]\u001b[A\n",
      " 20%|██        | 1/5 [00:00<00:02,  1.40it/s]\u001b[A\n",
      " 40%|████      | 2/5 [00:02<00:03,  1.13s/it]\u001b[A\n",
      " 60%|██████    | 3/5 [00:03<00:02,  1.14s/it]\u001b[A\n",
      " 80%|████████  | 4/5 [00:04<00:01,  1.21s/it]\u001b[A\n",
      "100%|██████████| 5/5 [00:05<00:00,  1.17s/it]\n",
      " 12%|█▏        | 51/412 [06:14<23:36,  3.92s/it]"
     ]
    },
    {
     "name": "stdout",
     "output_type": "stream",
     "text": [
      "https://reviews.webmd.com/drugs/drugreview-146718-paliperidone-er\n"
     ]
    },
    {
     "name": "stderr",
     "output_type": "stream",
     "text": [
      "\n",
      "  0%|          | 0/2 [00:00<?, ?it/s]\u001b[A\n",
      " 50%|█████     | 1/2 [00:00<00:00,  1.36it/s]\u001b[A\n",
      "100%|██████████| 2/2 [00:01<00:00,  1.06it/s]\n",
      " 13%|█▎        | 52/412 [06:18<23:40,  3.95s/it]"
     ]
    },
    {
     "name": "stdout",
     "output_type": "stream",
     "text": [
      "https://reviews.webmd.com/drugs/drugreview-146745-invega\n"
     ]
    },
    {
     "name": "stderr",
     "output_type": "stream",
     "text": [
      "\n",
      "  0%|          | 0/10 [00:00<?, ?it/s]\u001b[A\n",
      " 10%|█         | 1/10 [00:00<00:06,  1.33it/s]\u001b[A\n",
      " 20%|██        | 2/10 [00:01<00:07,  1.01it/s]\u001b[A\n",
      " 30%|███       | 3/10 [00:03<00:07,  1.08s/it]\u001b[A\n",
      " 40%|████      | 4/10 [00:04<00:06,  1.16s/it]\u001b[A\n",
      " 50%|█████     | 5/10 [00:05<00:06,  1.27s/it]\u001b[A\n",
      " 60%|██████    | 6/10 [00:06<00:04,  1.20s/it]\u001b[A\n",
      " 70%|███████   | 7/10 [00:08<00:03,  1.24s/it]\u001b[A\n",
      " 80%|████████  | 8/10 [00:09<00:02,  1.27s/it]\u001b[A\n",
      " 90%|█████████ | 9/10 [00:10<00:01,  1.24s/it]\u001b[A\n",
      "100%|██████████| 10/10 [00:11<00:00,  1.17s/it]\n",
      " 13%|█▎        | 54/412 [06:33<31:09,  5.22s/it]"
     ]
    },
    {
     "name": "stdout",
     "output_type": "stream",
     "text": [
      "skipping https://reviews.webmd.com/drugs/drugreview-14677-haldol-ampul: page not found\n"
     ]
    },
    {
     "name": "stderr",
     "output_type": "stream",
     "text": [
      " 13%|█▎        | 55/412 [06:34<23:43,  3.99s/it]"
     ]
    },
    {
     "name": "stdout",
     "output_type": "stream",
     "text": [
      "skipping https://reviews.webmd.com/drugs/drugreview-14752-dizac-emulsion: page not found\n",
      "https://reviews.webmd.com/drugs/drugreview-14829-etrafon-forte-tablet\n"
     ]
    },
    {
     "name": "stderr",
     "output_type": "stream",
     "text": [
      " 14%|█▎        | 56/412 [06:36<19:58,  3.37s/it]"
     ]
    },
    {
     "name": "stdout",
     "output_type": "stream",
     "text": [
      "https://reviews.webmd.com/drugs/drugreview-148614-seroquel-xr\n"
     ]
    },
    {
     "name": "stderr",
     "output_type": "stream",
     "text": [
      "\n",
      "  0%|          | 0/17 [00:00<?, ?it/s]\u001b[A\n",
      "  6%|▌         | 1/17 [00:00<00:11,  1.41it/s]\u001b[A\n",
      " 12%|█▏        | 2/17 [00:01<00:14,  1.06it/s]\u001b[A\n",
      " 18%|█▊        | 3/17 [00:02<00:14,  1.04s/it]\u001b[A\n",
      " 24%|██▎       | 4/17 [00:04<00:15,  1.17s/it]\u001b[A\n",
      " 29%|██▉       | 5/17 [00:05<00:14,  1.22s/it]\u001b[A\n",
      " 35%|███▌      | 6/17 [00:06<00:13,  1.25s/it]\u001b[A\n",
      " 41%|████      | 7/17 [00:08<00:12,  1.25s/it]\u001b[A\n",
      " 47%|████▋     | 8/17 [00:09<00:11,  1.25s/it]\u001b[A\n",
      " 53%|█████▎    | 9/17 [00:10<00:10,  1.25s/it]\u001b[A\n",
      " 59%|█████▉    | 10/17 [00:11<00:08,  1.23s/it]\u001b[A\n",
      " 65%|██████▍   | 11/17 [00:13<00:08,  1.35s/it]\u001b[A\n",
      " 71%|███████   | 12/17 [00:15<00:06,  1.39s/it]\u001b[A\n",
      " 76%|███████▋  | 13/17 [00:16<00:05,  1.34s/it]\u001b[A\n",
      " 82%|████████▏ | 14/17 [00:17<00:03,  1.30s/it]\u001b[A\n",
      " 88%|████████▊ | 15/17 [00:18<00:02,  1.27s/it]\u001b[A\n",
      " 94%|█████████▍| 16/17 [00:19<00:01,  1.26s/it]\u001b[A\n",
      "100%|██████████| 17/17 [00:20<00:00,  1.23s/it]\n",
      " 14%|█▍        | 57/412 [07:00<55:22,  9.36s/it]"
     ]
    },
    {
     "name": "stdout",
     "output_type": "stream",
     "text": [
      "https://reviews.webmd.com/drugs/drugreview-1493-carbamazepine\n"
     ]
    },
    {
     "name": "stderr",
     "output_type": "stream",
     "text": [
      "\n",
      "  0%|          | 0/8 [00:00<?, ?it/s]\u001b[A\n",
      " 12%|█▎        | 1/8 [00:00<00:05,  1.35it/s]\u001b[A\n",
      " 25%|██▌       | 2/8 [00:01<00:06,  1.00s/it]\u001b[A\n",
      " 38%|███▊      | 3/8 [00:03<00:05,  1.16s/it]\u001b[A\n",
      " 50%|█████     | 4/8 [00:04<00:05,  1.27s/it]\u001b[A\n",
      " 62%|██████▎   | 5/8 [00:06<00:04,  1.38s/it]\u001b[A\n",
      " 75%|███████▌  | 6/8 [00:07<00:02,  1.44s/it]\u001b[A\n",
      " 88%|████████▊ | 7/8 [00:09<00:01,  1.48s/it]\u001b[A\n",
      "100%|██████████| 8/8 [00:10<00:00,  1.34s/it]\n",
      " 14%|█▍        | 58/412 [07:13<1:01:34, 10.44s/it]"
     ]
    },
    {
     "name": "stdout",
     "output_type": "stream",
     "text": [
      "https://reviews.webmd.com/drugs/drugreview-1493-carbamazepine-er\n"
     ]
    },
    {
     "name": "stderr",
     "output_type": "stream",
     "text": [
      "\n",
      "  0%|          | 0/8 [00:00<?, ?it/s]\u001b[A\n",
      " 12%|█▎        | 1/8 [00:00<00:05,  1.39it/s]\u001b[A\n",
      " 25%|██▌       | 2/8 [00:01<00:04,  1.26it/s]\u001b[A\n",
      " 38%|███▊      | 3/8 [00:02<00:03,  1.30it/s]\u001b[A\n",
      " 50%|█████     | 4/8 [00:03<00:03,  1.30it/s]\u001b[A\n",
      " 62%|██████▎   | 5/8 [00:03<00:02,  1.30it/s]\u001b[A\n",
      " 75%|███████▌  | 6/8 [00:04<00:01,  1.33it/s]\u001b[A\n",
      " 88%|████████▊ | 7/8 [00:05<00:00,  1.35it/s]\u001b[A\n",
      "100%|██████████| 8/8 [00:06<00:00,  1.31it/s]\n",
      " 14%|█▍        | 59/412 [07:20<55:22,  9.41s/it]  "
     ]
    },
    {
     "name": "stdout",
     "output_type": "stream",
     "text": [
      "https://reviews.webmd.com/drugs/drugreview-150188-luvox-cr-capsule-24-hr-capsule-er-hr\n"
     ]
    },
    {
     "name": "stderr",
     "output_type": "stream",
     "text": [
      "\n",
      "  0%|          | 0/4 [00:00<?, ?it/s]\u001b[A\n",
      " 25%|██▌       | 1/4 [00:00<00:02,  1.35it/s]\u001b[A\n",
      " 50%|█████     | 2/4 [00:02<00:02,  1.23s/it]\u001b[A\n",
      " 75%|███████▌  | 3/4 [00:03<00:01,  1.26s/it]\u001b[A\n",
      "100%|██████████| 4/4 [00:04<00:00,  1.13s/it]\n",
      " 15%|█▍        | 60/412 [07:26<50:21,  8.58s/it]"
     ]
    },
    {
     "name": "stdout",
     "output_type": "stream",
     "text": [
      "https://reviews.webmd.com/drugs/drugreview-1502-tegretol\n"
     ]
    },
    {
     "name": "stderr",
     "output_type": "stream",
     "text": [
      "\n",
      "  0%|          | 0/15 [00:00<?, ?it/s]\u001b[A\n",
      "  7%|▋         | 1/15 [00:01<00:14,  1.04s/it]\u001b[A\n",
      " 13%|█▎        | 2/15 [00:02<00:15,  1.18s/it]\u001b[A\n",
      " 20%|██        | 3/15 [00:03<00:14,  1.23s/it]\u001b[A\n",
      " 27%|██▋       | 4/15 [00:05<00:14,  1.31s/it]\u001b[A\n",
      " 33%|███▎      | 5/15 [00:06<00:13,  1.30s/it]\u001b[A\n",
      " 40%|████      | 6/15 [00:07<00:12,  1.38s/it]\u001b[A\n",
      " 47%|████▋     | 7/15 [00:09<00:11,  1.38s/it]\u001b[A\n",
      " 53%|█████▎    | 8/15 [00:10<00:09,  1.35s/it]\u001b[A\n",
      " 60%|██████    | 9/15 [00:11<00:08,  1.35s/it]\u001b[A\n",
      " 67%|██████▋   | 10/15 [00:13<00:06,  1.34s/it]\u001b[A\n",
      " 73%|███████▎  | 11/15 [00:14<00:05,  1.36s/it]\u001b[A\n",
      " 80%|████████  | 12/15 [00:16<00:04,  1.49s/it]\u001b[A\n",
      " 87%|████████▋ | 13/15 [00:17<00:02,  1.43s/it]\u001b[A\n",
      " 93%|█████████▎| 14/15 [00:19<00:01,  1.41s/it]\u001b[A\n",
      "100%|██████████| 15/15 [00:20<00:00,  1.35s/it]\n",
      " 15%|█▍        | 61/412 [07:49<1:14:17, 12.70s/it]"
     ]
    },
    {
     "name": "stdout",
     "output_type": "stream",
     "text": [
      "https://reviews.webmd.com/drugs/drugreview-150519-selfemra-capsule\n"
     ]
    },
    {
     "name": "stderr",
     "output_type": "stream",
     "text": [
      "\n",
      "  0%|          | 0/1 [00:00<?, ?it/s]\u001b[A\n",
      "100%|██████████| 1/1 [00:00<00:00,  1.66it/s]\n",
      " 15%|█▌        | 62/412 [07:51<56:14,  9.64s/it]  "
     ]
    },
    {
     "name": "stdout",
     "output_type": "stream",
     "text": [
      "https://reviews.webmd.com/drugs/drugreview-151904-risperidone-odt-tablet-disintegrating\n"
     ]
    },
    {
     "name": "stderr",
     "output_type": "stream",
     "text": [
      " 15%|█▌        | 63/412 [07:53<42:38,  7.33s/it]"
     ]
    },
    {
     "name": "stdout",
     "output_type": "stream",
     "text": [
      "https://reviews.webmd.com/drugs/drugreview-151959-bupropion-hbr-tablet-er-24-hr\n"
     ]
    },
    {
     "name": "stderr",
     "output_type": "stream",
     "text": [
      "\n",
      "  0%|          | 0/2 [00:00<?, ?it/s]\u001b[A\n",
      " 50%|█████     | 1/2 [00:00<00:00,  1.03it/s]\u001b[A\n",
      "100%|██████████| 2/2 [00:02<00:00,  1.13s/it]\n",
      " 16%|█▌        | 64/412 [07:58<37:49,  6.52s/it]"
     ]
    },
    {
     "name": "stdout",
     "output_type": "stream",
     "text": [
      "https://reviews.webmd.com/drugs/drugreview-151973-aplenzin\n"
     ]
    },
    {
     "name": "stderr",
     "output_type": "stream",
     "text": [
      "\n",
      "  0%|          | 0/3 [00:00<?, ?it/s]\u001b[A\n",
      " 33%|███▎      | 1/3 [00:00<00:01,  1.32it/s]\u001b[A\n",
      " 67%|██████▋   | 2/3 [00:01<00:01,  1.03s/it]\u001b[A\n",
      "100%|██████████| 3/3 [00:03<00:00,  1.05s/it]\n",
      " 16%|█▌        | 65/412 [08:03<35:41,  6.17s/it]"
     ]
    },
    {
     "name": "stdout",
     "output_type": "stream",
     "text": [
      "https://reviews.webmd.com/drugs/drugreview-152294-risperidone-m-tab-tablet-disintegrating\n"
     ]
    },
    {
     "name": "stderr",
     "output_type": "stream",
     "text": [
      "\n",
      "  0%|          | 0/2 [00:00<?, ?it/s]\u001b[A\n",
      " 50%|█████     | 1/2 [00:00<00:00,  1.37it/s]\u001b[A\n",
      "100%|██████████| 2/2 [00:01<00:00,  1.08it/s]\n",
      " 16%|█▌        | 66/412 [08:08<32:38,  5.66s/it]"
     ]
    },
    {
     "name": "stdout",
     "output_type": "stream",
     "text": [
      "https://reviews.webmd.com/drugs/drugreview-152780-paliperidone-palmitate-syringe\n"
     ]
    },
    {
     "name": "stderr",
     "output_type": "stream",
     "text": [
      "\n",
      "  0%|          | 0/1 [00:00<?, ?it/s]\u001b[A\n",
      "100%|██████████| 1/1 [00:00<00:00,  1.55it/s]\n",
      " 16%|█▋        | 67/412 [08:11<28:24,  4.94s/it]"
     ]
    },
    {
     "name": "stdout",
     "output_type": "stream",
     "text": [
      "https://reviews.webmd.com/drugs/drugreview-152807-invega-sustenna-syringe\n"
     ]
    },
    {
     "name": "stderr",
     "output_type": "stream",
     "text": [
      "\n",
      "  0%|          | 0/7 [00:00<?, ?it/s]\u001b[A\n",
      " 14%|█▍        | 1/7 [00:00<00:04,  1.24it/s]\u001b[A\n",
      " 29%|██▊       | 2/7 [00:02<00:05,  1.05s/it]\u001b[A\n",
      " 43%|████▎     | 3/7 [00:03<00:04,  1.22s/it]\u001b[A\n",
      " 57%|█████▋    | 4/7 [00:04<00:03,  1.19s/it]\u001b[A\n",
      " 71%|███████▏  | 5/7 [00:05<00:02,  1.23s/it]\u001b[A\n",
      " 86%|████████▌ | 6/7 [00:07<00:01,  1.26s/it]\u001b[A\n",
      "100%|██████████| 7/7 [00:08<00:00,  1.16s/it]\n",
      " 17%|█▋        | 68/412 [08:21<37:09,  6.48s/it]"
     ]
    },
    {
     "name": "stdout",
     "output_type": "stream",
     "text": [
      "https://reviews.webmd.com/drugs/drugreview-152900-asenapine-maleate-tablet\n"
     ]
    },
    {
     "name": "stderr",
     "output_type": "stream",
     "text": [
      "\n",
      "  0%|          | 0/1 [00:00<?, ?it/s]\u001b[A\n",
      "100%|██████████| 1/1 [00:00<00:00,  1.72it/s]\n",
      " 17%|█▋        | 69/412 [08:23<30:11,  5.28s/it]"
     ]
    },
    {
     "name": "stdout",
     "output_type": "stream",
     "text": [
      "https://reviews.webmd.com/drugs/drugreview-152902-saphris-tablet\n"
     ]
    },
    {
     "name": "stderr",
     "output_type": "stream",
     "text": [
      "\n",
      "  0%|          | 0/13 [00:00<?, ?it/s]\u001b[A\n",
      "  8%|▊         | 1/13 [00:00<00:08,  1.48it/s]\u001b[A\n",
      " 15%|█▌        | 2/13 [00:01<00:10,  1.02it/s]\u001b[A\n",
      " 23%|██▎       | 3/13 [00:03<00:11,  1.15s/it]\u001b[A\n",
      " 31%|███       | 4/13 [00:04<00:10,  1.20s/it]\u001b[A\n",
      " 38%|███▊      | 5/13 [00:06<00:10,  1.33s/it]\u001b[A\n",
      " 46%|████▌     | 6/13 [00:07<00:09,  1.37s/it]\u001b[A\n",
      " 54%|█████▍    | 7/13 [00:08<00:07,  1.31s/it]\u001b[A\n",
      " 62%|██████▏   | 8/13 [00:09<00:06,  1.28s/it]\u001b[A\n",
      " 69%|██████▉   | 9/13 [00:11<00:04,  1.25s/it]\u001b[A\n",
      " 77%|███████▋  | 10/13 [00:12<00:03,  1.22s/it]\u001b[A\n",
      " 85%|████████▍ | 11/13 [00:13<00:02,  1.24s/it]\u001b[A\n",
      " 92%|█████████▏| 12/13 [00:14<00:01,  1.24s/it]\u001b[A\n",
      "100%|██████████| 13/13 [00:16<00:00,  1.26s/it]\n",
      " 17%|█▋        | 70/412 [08:42<52:41,  9.24s/it]"
     ]
    },
    {
     "name": "stdout",
     "output_type": "stream",
     "text": [
      "https://reviews.webmd.com/drugs/drugreview-153411-iloperidone-tablet\n"
     ]
    },
    {
     "name": "stderr",
     "output_type": "stream",
     "text": [
      "\n",
      "  0%|          | 0/1 [00:00<?, ?it/s]\u001b[A\n",
      "100%|██████████| 1/1 [00:00<00:00,  1.69it/s]\n",
      " 17%|█▋        | 71/412 [08:45<41:27,  7.30s/it]"
     ]
    },
    {
     "name": "stdout",
     "output_type": "stream",
     "text": [
      "https://reviews.webmd.com/drugs/drugreview-153413-fanapt\n"
     ]
    },
    {
     "name": "stderr",
     "output_type": "stream",
     "text": [
      "\n",
      "  0%|          | 0/4 [00:00<?, ?it/s]\u001b[A\n",
      " 25%|██▌       | 1/4 [00:00<00:02,  1.18it/s]\u001b[A\n",
      " 50%|█████     | 2/4 [00:02<00:02,  1.24s/it]\u001b[A\n",
      " 75%|███████▌  | 3/4 [00:03<00:01,  1.28s/it]\u001b[A\n",
      "100%|██████████| 4/4 [00:04<00:00,  1.16s/it]\n",
      " 17%|█▋        | 72/412 [08:51<40:31,  7.15s/it]"
     ]
    },
    {
     "name": "stdout",
     "output_type": "stream",
     "text": [
      "https://reviews.webmd.com/drugs/drugreview-153606-olanzapine-pamoate-suspension-for-reconstitution\n"
     ]
    },
    {
     "name": "stderr",
     "output_type": "stream",
     "text": [
      "\n",
      "  0%|          | 0/1 [00:00<?, ?it/s]\u001b[A\n",
      "100%|██████████| 1/1 [00:00<00:00,  2.08it/s]\n",
      " 18%|█▊        | 73/412 [08:54<32:04,  5.68s/it]"
     ]
    },
    {
     "name": "stdout",
     "output_type": "stream",
     "text": [
      "https://reviews.webmd.com/drugs/drugreview-153611-zyprexa-relprevv-vial\n"
     ]
    },
    {
     "name": "stderr",
     "output_type": "stream",
     "text": [
      "\n",
      "  0%|          | 0/1 [00:00<?, ?it/s]\u001b[A\n",
      "100%|██████████| 1/1 [00:00<00:00,  1.73it/s]\n",
      " 18%|█▊        | 74/412 [08:56<26:22,  4.68s/it]"
     ]
    },
    {
     "name": "stdout",
     "output_type": "stream",
     "text": [
      "https://reviews.webmd.com/drugs/drugreview-155126-lurasidone-hcl\n"
     ]
    },
    {
     "name": "stderr",
     "output_type": "stream",
     "text": [
      "\n",
      "  0%|          | 0/1 [00:00<?, ?it/s]\u001b[A\n",
      "100%|██████████| 1/1 [00:00<00:00,  1.68it/s]\n",
      " 18%|█▊        | 75/412 [08:59<23:39,  4.21s/it]"
     ]
    },
    {
     "name": "stdout",
     "output_type": "stream",
     "text": [
      "https://reviews.webmd.com/drugs/drugreview-155134-latuda\n"
     ]
    },
    {
     "name": "stderr",
     "output_type": "stream",
     "text": [
      "\n",
      "  0%|          | 0/20 [00:00<?, ?it/s]\u001b[A\n",
      "  5%|▌         | 1/20 [00:00<00:18,  1.01it/s]\u001b[A\n",
      " 10%|█         | 2/20 [00:02<00:20,  1.15s/it]\u001b[A\n",
      " 15%|█▌        | 3/20 [00:03<00:20,  1.21s/it]\u001b[A\n",
      " 20%|██        | 4/20 [00:04<00:19,  1.19s/it]\u001b[A\n",
      " 25%|██▌       | 5/20 [00:06<00:20,  1.35s/it]\u001b[A\n",
      " 30%|███       | 6/20 [00:07<00:19,  1.41s/it]\u001b[A\n",
      " 35%|███▌      | 7/20 [00:09<00:18,  1.39s/it]\u001b[A\n",
      " 40%|████      | 8/20 [00:10<00:16,  1.35s/it]\u001b[A\n",
      " 45%|████▌     | 9/20 [00:11<00:14,  1.35s/it]\u001b[A\n",
      " 50%|█████     | 10/20 [00:13<00:13,  1.32s/it]\u001b[A\n",
      " 55%|█████▌    | 11/20 [00:14<00:12,  1.34s/it]\u001b[A\n",
      " 60%|██████    | 12/20 [00:15<00:10,  1.29s/it]\u001b[A\n",
      " 65%|██████▌   | 13/20 [00:17<00:09,  1.36s/it]\u001b[A\n",
      " 70%|███████   | 14/20 [00:18<00:07,  1.30s/it]\u001b[A\n",
      " 75%|███████▌  | 15/20 [00:19<00:06,  1.30s/it]\u001b[A\n",
      " 80%|████████  | 16/20 [00:20<00:05,  1.29s/it]\u001b[A\n",
      " 85%|████████▌ | 17/20 [00:22<00:03,  1.28s/it]\u001b[A\n",
      " 90%|█████████ | 18/20 [00:23<00:02,  1.27s/it]\u001b[A\n",
      " 95%|█████████▌| 19/20 [00:24<00:01,  1.30s/it]\u001b[A\n",
      "100%|██████████| 20/20 [00:26<00:00,  1.30s/it]\n",
      " 18%|█▊        | 76/412 [09:27<1:03:35, 11.36s/it]"
     ]
    },
    {
     "name": "stdout",
     "output_type": "stream",
     "text": [
      "https://reviews.webmd.com/drugs/drugreview-15609-duo-vil-tablet\n"
     ]
    },
    {
     "name": "stderr",
     "output_type": "stream",
     "text": [
      "\n",
      "  0%|          | 0/1 [00:00<?, ?it/s]\u001b[A\n",
      "100%|██████████| 1/1 [00:00<00:00,  2.06it/s]\n",
      " 19%|█▊        | 77/412 [09:29<48:15,  8.64s/it]  "
     ]
    },
    {
     "name": "stdout",
     "output_type": "stream",
     "text": [
      "https://reviews.webmd.com/drugs/drugreview-15610-duo-vil-tablet\n"
     ]
    },
    {
     "name": "stderr",
     "output_type": "stream",
     "text": [
      " 19%|█▉        | 78/412 [09:31<36:43,  6.60s/it]"
     ]
    },
    {
     "name": "stdout",
     "output_type": "stream",
     "text": [
      "https://reviews.webmd.com/drugs/drugreview-16020-limbitrol-ds-tablet\n"
     ]
    },
    {
     "name": "stderr",
     "output_type": "stream",
     "text": [
      "\n",
      "  0%|          | 0/1 [00:00<?, ?it/s]\u001b[A\n",
      "100%|██████████| 1/1 [00:00<00:00,  1.56it/s]\n",
      " 19%|█▉        | 79/412 [09:34<30:00,  5.41s/it]"
     ]
    },
    {
     "name": "stdout",
     "output_type": "stream",
     "text": [
      "https://reviews.webmd.com/drugs/drugreview-1609-zyban-tablet-er-12-hr\n"
     ]
    },
    {
     "name": "stderr",
     "output_type": "stream",
     "text": [
      "\n",
      "  0%|          | 0/3 [00:00<?, ?it/s]\u001b[A\n",
      " 33%|███▎      | 1/3 [00:01<00:02,  1.04s/it]\u001b[A\n",
      " 67%|██████▋   | 2/3 [00:02<00:01,  1.14s/it]\u001b[A\n",
      "100%|██████████| 3/3 [00:03<00:00,  1.15s/it]\n",
      " 19%|█▉        | 80/412 [09:40<30:21,  5.49s/it]"
     ]
    },
    {
     "name": "stdout",
     "output_type": "stream",
     "text": [
      "https://reviews.webmd.com/drugs/drugreview-1610-bupropion-smoking-deter-tablet-er\n"
     ]
    },
    {
     "name": "stderr",
     "output_type": "stream",
     "text": [
      " 20%|█▉        | 81/412 [09:42<24:40,  4.47s/it]"
     ]
    },
    {
     "name": "stdout",
     "output_type": "stream",
     "text": [
      "https://reviews.webmd.com/drugs/drugreview-16109-etrafon-tablet\n"
     ]
    },
    {
     "name": "stderr",
     "output_type": "stream",
     "text": [
      "\n",
      "  0%|          | 0/1 [00:00<?, ?it/s]\u001b[A\n",
      "100%|██████████| 1/1 [00:00<00:00,  1.58it/s]\n",
      " 20%|█▉        | 82/412 [09:44<21:34,  3.92s/it]"
     ]
    },
    {
     "name": "stdout",
     "output_type": "stream",
     "text": [
      "https://reviews.webmd.com/drugs/drugreview-162178-forfivo-xl\n"
     ]
    },
    {
     "name": "stderr",
     "output_type": "stream",
     "text": [
      "\n",
      "  0%|          | 0/1 [00:00<?, ?it/s]\u001b[A\n",
      "100%|██████████| 1/1 [00:00<00:00,  1.92it/s]\n",
      " 20%|██        | 83/412 [09:47<18:38,  3.40s/it]"
     ]
    },
    {
     "name": "stdout",
     "output_type": "stream",
     "text": [
      "https://reviews.webmd.com/drugs/drugreview-162761-saphris-black-cherry-tablet\n"
     ]
    },
    {
     "name": "stderr",
     "output_type": "stream",
     "text": [
      "\n",
      "  0%|          | 0/3 [00:00<?, ?it/s]\u001b[A\n",
      " 33%|███▎      | 1/3 [00:00<00:01,  1.23it/s]\u001b[A\n",
      " 67%|██████▋   | 2/3 [00:02<00:01,  1.15s/it]\u001b[A\n",
      "100%|██████████| 3/3 [00:03<00:00,  1.07s/it]\n",
      " 21%|██        | 85/412 [09:53<16:59,  3.12s/it]"
     ]
    },
    {
     "name": "stdout",
     "output_type": "stream",
     "text": [
      "skipping https://reviews.webmd.com/drugs/drugreview-163174-loxapine-breath-activated-powder-inhaler: page not found\n",
      "https://reviews.webmd.com/drugs/drugreview-163617-abilify-maintena-suspension-er-vial\n"
     ]
    },
    {
     "name": "stderr",
     "output_type": "stream",
     "text": [
      "\n",
      "  0%|          | 0/1 [00:00<?, ?it/s]\u001b[A\n",
      "100%|██████████| 1/1 [00:00<00:00,  1.74it/s]\n",
      " 21%|██        | 86/412 [09:55<15:44,  2.90s/it]"
     ]
    },
    {
     "name": "stdout",
     "output_type": "stream",
     "text": [
      "https://reviews.webmd.com/drugs/drugreview-1644-olanzapine\n"
     ]
    },
    {
     "name": "stderr",
     "output_type": "stream",
     "text": [
      "\n",
      "  0%|          | 0/6 [00:00<?, ?it/s]\u001b[A\n",
      " 17%|█▋        | 1/6 [00:00<00:03,  1.34it/s]\u001b[A\n",
      " 33%|███▎      | 2/6 [00:02<00:04,  1.06s/it]\u001b[A\n",
      " 50%|█████     | 3/6 [00:03<00:03,  1.25s/it]\u001b[A\n",
      " 67%|██████▋   | 4/6 [00:04<00:02,  1.19s/it]\u001b[A\n",
      " 83%|████████▎ | 5/6 [00:05<00:01,  1.21s/it]\u001b[A\n",
      "100%|██████████| 6/6 [00:06<00:00,  1.16s/it]\n",
      " 21%|██        | 87/412 [10:04<25:34,  4.72s/it]"
     ]
    },
    {
     "name": "stdout",
     "output_type": "stream",
     "text": [
      "https://reviews.webmd.com/drugs/drugreview-1644-olanzapine-odt\n"
     ]
    },
    {
     "name": "stderr",
     "output_type": "stream",
     "text": [
      "\n",
      "  0%|          | 0/6 [00:00<?, ?it/s]\u001b[A\n",
      " 17%|█▋        | 1/6 [00:00<00:03,  1.38it/s]\u001b[A\n",
      " 33%|███▎      | 2/6 [00:01<00:03,  1.23it/s]\u001b[A\n",
      " 50%|█████     | 3/6 [00:02<00:02,  1.24it/s]\u001b[A\n",
      " 67%|██████▋   | 4/6 [00:03<00:01,  1.22it/s]\u001b[A\n",
      " 83%|████████▎ | 5/6 [00:04<00:00,  1.23it/s]\u001b[A\n",
      "100%|██████████| 6/6 [00:04<00:00,  1.28it/s]\n",
      " 22%|██▏       | 89/412 [10:11<20:40,  3.84s/it]"
     ]
    },
    {
     "name": "stdout",
     "output_type": "stream",
     "text": [
      "skipping https://reviews.webmd.com/drugs/drugreview-165650-adasuve-10-mg-breath-activated: page not found\n",
      "https://reviews.webmd.com/drugs/drugreview-16685-midazolam-hcl\n"
     ]
    },
    {
     "name": "stderr",
     "output_type": "stream",
     "text": [
      "\n",
      "  0%|          | 0/1 [00:00<?, ?it/s]\u001b[A\n",
      "100%|██████████| 1/1 [00:00<00:00,  1.80it/s]\n",
      " 22%|██▏       | 90/412 [10:14<18:39,  3.48s/it]"
     ]
    },
    {
     "name": "stdout",
     "output_type": "stream",
     "text": [
      "https://reviews.webmd.com/drugs/drugreview-16693-versed-syrup\n"
     ]
    },
    {
     "name": "stderr",
     "output_type": "stream",
     "text": [
      "\n",
      "  0%|          | 0/2 [00:00<?, ?it/s]\u001b[A\n",
      " 50%|█████     | 1/2 [00:00<00:00,  1.36it/s]\u001b[A\n",
      "100%|██████████| 2/2 [00:01<00:00,  1.00it/s]\n",
      " 22%|██▏       | 91/412 [10:18<19:41,  3.68s/it]"
     ]
    },
    {
     "name": "stdout",
     "output_type": "stream",
     "text": [
      "https://reviews.webmd.com/drugs/drugreview-168817-paliperidone-palm-3-month-syringe\n"
     ]
    },
    {
     "name": "stderr",
     "output_type": "stream",
     "text": [
      " 22%|██▏       | 92/412 [10:20<16:55,  3.17s/it]"
     ]
    },
    {
     "name": "stdout",
     "output_type": "stream",
     "text": [
      "https://reviews.webmd.com/drugs/drugreview-168839-irenka-capsule-delayed-release-enteric-coated-capsule-delayed-e-c\n"
     ]
    },
    {
     "name": "stderr",
     "output_type": "stream",
     "text": [
      "\n",
      "  0%|          | 0/1 [00:00<?, ?it/s]\u001b[A\n",
      "100%|██████████| 1/1 [00:00<00:00,  1.96it/s]\n",
      " 23%|██▎       | 93/412 [10:22<15:53,  2.99s/it]"
     ]
    },
    {
     "name": "stdout",
     "output_type": "stream",
     "text": [
      "https://reviews.webmd.com/drugs/drugreview-168884-invega-trinza-syringe\n"
     ]
    },
    {
     "name": "stderr",
     "output_type": "stream",
     "text": [
      "\n",
      "  0%|          | 0/1 [00:00<?, ?it/s]\u001b[A\n",
      "100%|██████████| 1/1 [00:00<00:00,  1.11it/s]\n",
      " 23%|██▎       | 94/412 [10:25<15:58,  3.01s/it]"
     ]
    },
    {
     "name": "stdout",
     "output_type": "stream",
     "text": [
      "https://reviews.webmd.com/drugs/drugreview-169290-brexpiprazole-tablet\n"
     ]
    },
    {
     "name": "stderr",
     "output_type": "stream",
     "text": [
      "\n",
      "  0%|          | 0/1 [00:00<?, ?it/s]\u001b[A\n",
      "100%|██████████| 1/1 [00:00<00:00,  1.71it/s]\n",
      " 23%|██▎       | 95/412 [10:28<14:48,  2.80s/it]"
     ]
    },
    {
     "name": "stdout",
     "output_type": "stream",
     "text": [
      "https://reviews.webmd.com/drugs/drugreview-169294-rexulti\n"
     ]
    },
    {
     "name": "stderr",
     "output_type": "stream",
     "text": [
      "\n",
      "  0%|          | 0/6 [00:00<?, ?it/s]\u001b[A\n",
      " 17%|█▋        | 1/6 [00:00<00:03,  1.40it/s]\u001b[A\n",
      " 33%|███▎      | 2/6 [00:01<00:04,  1.01s/it]\u001b[A\n",
      " 50%|█████     | 3/6 [00:03<00:03,  1.25s/it]\u001b[A\n",
      " 67%|██████▋   | 4/6 [00:04<00:02,  1.27s/it]\u001b[A\n",
      " 83%|████████▎ | 5/6 [00:06<00:01,  1.27s/it]\u001b[A\n",
      "100%|██████████| 6/6 [00:07<00:00,  1.19s/it]\n",
      " 23%|██▎       | 96/412 [10:37<24:59,  4.75s/it]"
     ]
    },
    {
     "name": "stdout",
     "output_type": "stream",
     "text": [
      "https://reviews.webmd.com/drugs/drugreview-1699-zyprexa\n"
     ]
    },
    {
     "name": "stderr",
     "output_type": "stream",
     "text": [
      "\n",
      "  0%|          | 0/25 [00:00<?, ?it/s]\u001b[A\n",
      "  4%|▍         | 1/25 [00:00<00:19,  1.20it/s]\u001b[A\n",
      "  8%|▊         | 2/25 [00:02<00:24,  1.09s/it]\u001b[A\n",
      " 12%|█▏        | 3/25 [00:03<00:27,  1.23s/it]\u001b[A\n",
      " 16%|█▌        | 4/25 [00:04<00:26,  1.25s/it]\u001b[A\n",
      " 20%|██        | 5/25 [00:06<00:27,  1.37s/it]\u001b[A\n",
      " 24%|██▍       | 6/25 [00:07<00:25,  1.32s/it]\u001b[A\n",
      " 28%|██▊       | 7/25 [00:09<00:25,  1.40s/it]\u001b[A\n",
      " 32%|███▏      | 8/25 [00:10<00:22,  1.34s/it]\u001b[A\n",
      " 36%|███▌      | 9/25 [00:11<00:20,  1.30s/it]\u001b[A\n",
      " 40%|████      | 10/25 [00:12<00:19,  1.30s/it]\u001b[A\n",
      " 44%|████▍     | 11/25 [00:14<00:19,  1.36s/it]\u001b[A\n",
      " 48%|████▊     | 12/25 [00:15<00:17,  1.33s/it]\u001b[A\n",
      " 52%|█████▏    | 13/25 [00:17<00:16,  1.35s/it]\u001b[A\n",
      " 56%|█████▌    | 14/25 [00:18<00:14,  1.36s/it]\u001b[A\n",
      " 60%|██████    | 15/25 [00:19<00:13,  1.32s/it]\u001b[A\n",
      " 64%|██████▍   | 16/25 [00:21<00:12,  1.37s/it]\u001b[A\n",
      " 68%|██████▊   | 17/25 [00:22<00:10,  1.35s/it]\u001b[A\n",
      " 72%|███████▏  | 18/25 [00:23<00:09,  1.30s/it]\u001b[A\n",
      " 76%|███████▌  | 19/25 [00:24<00:07,  1.29s/it]\u001b[A\n",
      " 80%|████████  | 20/25 [00:26<00:06,  1.32s/it]\u001b[A\n",
      " 84%|████████▍ | 21/25 [00:27<00:05,  1.36s/it]\u001b[A\n",
      " 88%|████████▊ | 22/25 [00:29<00:04,  1.43s/it]\u001b[A\n",
      " 92%|█████████▏| 23/25 [00:30<00:02,  1.39s/it]\u001b[A\n",
      " 96%|█████████▌| 24/25 [00:32<00:01,  1.39s/it]\u001b[A\n",
      "100%|██████████| 25/25 [00:33<00:00,  1.32s/it]\n",
      " 24%|██▎       | 97/412 [11:12<1:13:05, 13.92s/it]"
     ]
    },
    {
     "name": "stdout",
     "output_type": "stream",
     "text": [
      "https://reviews.webmd.com/drugs/drugreview-169917-cariprazine-capsule\n"
     ]
    },
    {
     "name": "stderr",
     "output_type": "stream",
     "text": [
      "\n",
      "  0%|          | 0/1 [00:00<?, ?it/s]\u001b[A\n",
      "100%|██████████| 1/1 [00:00<00:00,  1.74it/s]\n",
      " 24%|██▍       | 98/412 [11:15<54:52, 10.49s/it]  "
     ]
    },
    {
     "name": "stdout",
     "output_type": "stream",
     "text": [
      "https://reviews.webmd.com/drugs/drugreview-170027-vraylar\n"
     ]
    },
    {
     "name": "stderr",
     "output_type": "stream",
     "text": [
      "\n",
      "  0%|          | 0/5 [00:00<?, ?it/s]\u001b[A\n",
      " 20%|██        | 1/5 [00:00<00:03,  1.22it/s]\u001b[A\n",
      " 40%|████      | 2/5 [00:01<00:03,  1.01s/it]\u001b[A\n",
      " 60%|██████    | 3/5 [00:03<00:02,  1.13s/it]\u001b[A\n",
      " 80%|████████  | 4/5 [00:04<00:01,  1.16s/it]\u001b[A\n",
      "100%|██████████| 5/5 [00:05<00:00,  1.09s/it]\n",
      " 24%|██▍       | 99/412 [11:22<49:59,  9.58s/it]"
     ]
    },
    {
     "name": "stdout",
     "output_type": "stream",
     "text": [
      "https://reviews.webmd.com/drugs/drugreview-170036-aripiprazole-lauroxil-suspension-er-syringe\n"
     ]
    },
    {
     "name": "stderr",
     "output_type": "stream",
     "text": [
      " 24%|██▍       | 100/412 [11:24<37:18,  7.17s/it]"
     ]
    },
    {
     "name": "stdout",
     "output_type": "stream",
     "text": [
      "https://reviews.webmd.com/drugs/drugreview-170041-aristada-suspension-er-syringe\n"
     ]
    },
    {
     "name": "stderr",
     "output_type": "stream",
     "text": [
      "\n",
      "  0%|          | 0/1 [00:00<?, ?it/s]\u001b[A\n",
      "100%|██████████| 1/1 [00:00<00:00,  1.87it/s]\n",
      " 25%|██▍       | 101/412 [11:26<29:39,  5.72s/it]"
     ]
    },
    {
     "name": "stdout",
     "output_type": "stream",
     "text": [
      "https://reviews.webmd.com/drugs/drugreview-1701-citalopram-hbr\n"
     ]
    },
    {
     "name": "stderr",
     "output_type": "stream",
     "text": [
      "\n",
      "  0%|          | 0/81 [00:00<?, ?it/s]\u001b[A\n",
      "  1%|          | 1/81 [00:00<01:01,  1.31it/s]\u001b[A\n",
      "  2%|▏         | 2/81 [00:02<01:26,  1.09s/it]\u001b[A\n",
      "  4%|▎         | 3/81 [00:03<01:37,  1.25s/it]\u001b[A\n",
      "  5%|▍         | 4/81 [00:05<01:43,  1.34s/it]\u001b[A\n",
      "  6%|▌         | 5/81 [00:06<01:44,  1.38s/it]\u001b[A\n",
      "  7%|▋         | 6/81 [00:07<01:46,  1.43s/it]\u001b[A\n",
      "  9%|▊         | 7/81 [00:09<01:42,  1.38s/it]\u001b[A\n",
      " 10%|▉         | 8/81 [00:10<01:39,  1.37s/it]\u001b[A\n",
      " 11%|█         | 9/81 [00:11<01:37,  1.35s/it]\u001b[A\n",
      " 12%|█▏        | 10/81 [00:13<01:34,  1.33s/it]\u001b[A\n",
      " 14%|█▎        | 11/81 [00:14<01:41,  1.45s/it]\u001b[A\n",
      " 15%|█▍        | 12/81 [00:16<01:38,  1.43s/it]\u001b[A\n",
      " 16%|█▌        | 13/81 [00:17<01:39,  1.46s/it]\u001b[A\n",
      " 17%|█▋        | 14/81 [00:19<01:34,  1.41s/it]\u001b[A\n",
      " 19%|█▊        | 15/81 [00:20<01:32,  1.40s/it]\u001b[A\n",
      " 20%|█▉        | 16/81 [00:21<01:28,  1.36s/it]\u001b[A\n",
      " 21%|██        | 17/81 [00:23<01:30,  1.41s/it]\u001b[A\n",
      " 22%|██▏       | 18/81 [00:24<01:25,  1.36s/it]\u001b[A\n",
      " 23%|██▎       | 19/81 [00:25<01:21,  1.32s/it]\u001b[A\n",
      " 25%|██▍       | 20/81 [00:27<01:20,  1.32s/it]\u001b[A\n",
      " 26%|██▌       | 21/81 [00:28<01:20,  1.34s/it]\u001b[A\n",
      " 27%|██▋       | 22/81 [00:30<01:26,  1.47s/it]\u001b[A\n",
      " 28%|██▊       | 23/81 [00:32<01:31,  1.58s/it]\u001b[A\n",
      " 30%|██▉       | 24/81 [00:33<01:25,  1.50s/it]\u001b[A\n",
      " 31%|███       | 25/81 [00:34<01:19,  1.42s/it]\u001b[A\n",
      " 32%|███▏      | 26/81 [00:36<01:20,  1.46s/it]\u001b[A\n",
      " 33%|███▎      | 27/81 [00:37<01:16,  1.43s/it]\u001b[A\n",
      " 35%|███▍      | 28/81 [00:38<01:14,  1.41s/it]\u001b[A\n",
      " 36%|███▌      | 29/81 [00:40<01:11,  1.38s/it]\u001b[A\n",
      " 37%|███▋      | 30/81 [00:41<01:12,  1.42s/it]\u001b[A\n",
      " 38%|███▊      | 31/81 [00:43<01:08,  1.38s/it]\u001b[A\n",
      " 40%|███▉      | 32/81 [00:44<01:07,  1.38s/it]\u001b[A\n",
      " 41%|████      | 33/81 [00:45<01:05,  1.36s/it]\u001b[A\n",
      " 42%|████▏     | 34/81 [00:47<01:08,  1.45s/it]\u001b[A\n",
      " 43%|████▎     | 35/81 [00:48<01:06,  1.45s/it]\u001b[A\n",
      " 44%|████▍     | 36/81 [00:50<01:05,  1.45s/it]\u001b[A\n",
      " 46%|████▌     | 37/81 [00:51<01:03,  1.44s/it]\u001b[A\n",
      " 47%|████▋     | 38/81 [00:53<01:06,  1.54s/it]\u001b[A\n",
      " 48%|████▊     | 39/81 [00:54<01:02,  1.49s/it]\u001b[A\n",
      " 49%|████▉     | 40/81 [00:56<01:05,  1.59s/it]\u001b[A\n",
      " 51%|█████     | 41/81 [00:58<01:01,  1.53s/it]\u001b[A\n",
      " 52%|█████▏    | 42/81 [00:59<00:58,  1.51s/it]\u001b[A\n",
      " 53%|█████▎    | 43/81 [01:00<00:55,  1.47s/it]\u001b[A\n",
      " 54%|█████▍    | 44/81 [01:02<00:52,  1.42s/it]\u001b[A\n",
      " 56%|█████▌    | 45/81 [01:03<00:54,  1.53s/it]\u001b[A\n",
      " 57%|█████▋    | 46/81 [01:05<00:52,  1.49s/it]\u001b[A\n",
      " 58%|█████▊    | 47/81 [01:06<00:49,  1.45s/it]\u001b[A\n",
      " 59%|█████▉    | 48/81 [01:08<00:47,  1.43s/it]\u001b[A\n",
      " 60%|██████    | 49/81 [01:09<00:45,  1.42s/it]\u001b[A\n",
      " 62%|██████▏   | 50/81 [01:10<00:43,  1.40s/it]\u001b[A\n",
      " 63%|██████▎   | 51/81 [01:12<00:43,  1.45s/it]\u001b[A\n",
      " 64%|██████▍   | 52/81 [01:13<00:40,  1.41s/it]\u001b[A\n",
      " 65%|██████▌   | 53/81 [01:15<00:38,  1.37s/it]\u001b[A\n",
      " 67%|██████▋   | 54/81 [01:16<00:37,  1.39s/it]\u001b[A\n",
      " 68%|██████▊   | 55/81 [01:17<00:36,  1.41s/it]\u001b[A\n",
      " 69%|██████▉   | 56/81 [01:19<00:35,  1.41s/it]\u001b[A\n",
      " 70%|███████   | 57/81 [01:20<00:35,  1.48s/it]\u001b[A\n",
      " 72%|███████▏  | 58/81 [01:22<00:33,  1.46s/it]\u001b[A\n",
      " 73%|███████▎  | 59/81 [01:23<00:31,  1.45s/it]\u001b[A\n",
      " 74%|███████▍  | 60/81 [01:25<00:30,  1.45s/it]\u001b[A\n",
      " 75%|███████▌  | 61/81 [01:26<00:28,  1.42s/it]\u001b[A\n",
      " 77%|███████▋  | 62/81 [01:28<00:27,  1.44s/it]\u001b[A\n",
      " 78%|███████▊  | 63/81 [01:29<00:26,  1.45s/it]\u001b[A\n",
      " 79%|███████▉  | 64/81 [01:31<00:25,  1.48s/it]\u001b[A\n",
      " 80%|████████  | 65/81 [01:32<00:23,  1.47s/it]\u001b[A\n",
      " 81%|████████▏ | 66/81 [01:33<00:20,  1.39s/it]\u001b[A\n",
      " 83%|████████▎ | 67/81 [01:35<00:19,  1.40s/it]\u001b[A\n",
      " 84%|████████▍ | 68/81 [01:36<00:19,  1.49s/it]\u001b[A\n",
      " 85%|████████▌ | 69/81 [01:38<00:17,  1.46s/it]\u001b[A\n",
      " 86%|████████▋ | 70/81 [01:39<00:16,  1.48s/it]\u001b[A\n",
      " 88%|████████▊ | 71/81 [01:41<00:14,  1.43s/it]\u001b[A\n",
      " 89%|████████▉ | 72/81 [01:42<00:13,  1.49s/it]\u001b[A\n",
      " 90%|█████████ | 73/81 [01:44<00:11,  1.43s/it]\u001b[A\n",
      " 91%|█████████▏| 74/81 [01:45<00:10,  1.44s/it]\u001b[A\n",
      " 93%|█████████▎| 75/81 [01:46<00:08,  1.40s/it]\u001b[A\n",
      " 94%|█████████▍| 76/81 [01:48<00:06,  1.39s/it]\u001b[A\n",
      " 95%|█████████▌| 77/81 [01:49<00:05,  1.48s/it]\u001b[A\n",
      " 96%|█████████▋| 78/81 [01:51<00:04,  1.42s/it]\u001b[A\n",
      " 98%|█████████▊| 79/81 [01:52<00:02,  1.44s/it]\u001b[A\n",
      " 99%|█████████▉| 80/81 [01:53<00:01,  1.40s/it]\u001b[A\n",
      "100%|██████████| 81/81 [01:55<00:00,  1.42s/it]\n",
      " 25%|██▍       | 102/412 [13:24<3:22:57, 39.28s/it]"
     ]
    },
    {
     "name": "stdout",
     "output_type": "stream",
     "text": [
      "https://reviews.webmd.com/drugs/drugreview-171383-bupropion-hcl-sr\n"
     ]
    },
    {
     "name": "stderr",
     "output_type": "stream",
     "text": [
      "\n",
      "  0%|          | 0/1 [00:00<?, ?it/s]\u001b[A\n",
      "100%|██████████| 1/1 [00:00<00:00,  1.84it/s]\n",
      " 25%|██▌       | 103/412 [13:26<2:25:31, 28.26s/it]"
     ]
    },
    {
     "name": "stdout",
     "output_type": "stream",
     "text": [
      "https://reviews.webmd.com/drugs/drugreview-175570-aripiprazole-lauroxil-submicr-suspension-er-syringe\n"
     ]
    },
    {
     "name": "stderr",
     "output_type": "stream",
     "text": [
      " 25%|██▌       | 104/412 [13:28<1:44:12, 20.30s/it]"
     ]
    },
    {
     "name": "stdout",
     "output_type": "stream",
     "text": [
      "https://reviews.webmd.com/drugs/drugreview-175572-aristada-initio-suspension-er-syringe\n"
     ]
    },
    {
     "name": "stderr",
     "output_type": "stream",
     "text": [
      " 25%|██▌       | 105/412 [13:30<1:15:19, 14.72s/it]"
     ]
    },
    {
     "name": "stdout",
     "output_type": "stream",
     "text": [
      "https://reviews.webmd.com/drugs/drugreview-175842-perseris-suspension-er-syringe\n"
     ]
    },
    {
     "name": "stderr",
     "output_type": "stream",
     "text": [
      " 26%|██▌       | 106/412 [13:32<55:15, 10.83s/it]  "
     ]
    },
    {
     "name": "stdout",
     "output_type": "stream",
     "text": [
      "https://reviews.webmd.com/drugs/drugreview-176467-abilify-mycite\n"
     ]
    },
    {
     "name": "stderr",
     "output_type": "stream",
     "text": [
      " 26%|██▌       | 107/412 [13:33<41:23,  8.14s/it]"
     ]
    },
    {
     "name": "stdout",
     "output_type": "stream",
     "text": [
      "https://reviews.webmd.com/drugs/drugreview-1774-fluoxetine-dr\n"
     ]
    },
    {
     "name": "stderr",
     "output_type": "stream",
     "text": [
      "\n",
      "  0%|          | 0/22 [00:00<?, ?it/s]\u001b[A\n",
      "  5%|▍         | 1/22 [00:01<00:21,  1.01s/it]\u001b[A\n",
      "  9%|▉         | 2/22 [00:02<00:22,  1.14s/it]\u001b[A\n",
      " 14%|█▎        | 3/22 [00:03<00:22,  1.18s/it]\u001b[A\n",
      " 18%|█▊        | 4/22 [00:04<00:22,  1.25s/it]\u001b[A\n",
      " 23%|██▎       | 5/22 [00:06<00:23,  1.38s/it]\u001b[A\n",
      " 27%|██▋       | 6/22 [00:07<00:21,  1.37s/it]\u001b[A\n",
      " 32%|███▏      | 7/22 [00:09<00:21,  1.41s/it]\u001b[A\n",
      " 36%|███▋      | 8/22 [00:10<00:18,  1.32s/it]\u001b[A\n",
      " 41%|████      | 9/22 [00:11<00:17,  1.32s/it]\u001b[A\n",
      " 45%|████▌     | 10/22 [00:13<00:15,  1.32s/it]\u001b[A\n",
      " 50%|█████     | 11/22 [00:14<00:14,  1.31s/it]\u001b[A\n",
      " 55%|█████▍    | 12/22 [00:15<00:13,  1.35s/it]\u001b[A\n",
      " 59%|█████▉    | 13/22 [00:17<00:12,  1.39s/it]\u001b[A\n",
      " 64%|██████▎   | 14/22 [00:18<00:11,  1.45s/it]\u001b[A\n",
      " 68%|██████▊   | 15/22 [00:20<00:09,  1.40s/it]\u001b[A\n",
      " 73%|███████▎  | 16/22 [00:21<00:07,  1.32s/it]\u001b[A\n",
      " 77%|███████▋  | 17/22 [00:22<00:06,  1.31s/it]\u001b[A\n",
      " 82%|████████▏ | 18/22 [00:24<00:05,  1.39s/it]\u001b[A\n",
      " 86%|████████▋ | 19/22 [00:25<00:03,  1.33s/it]\u001b[A\n",
      " 91%|█████████ | 20/22 [00:26<00:02,  1.37s/it]\u001b[A\n",
      " 95%|█████████▌| 21/22 [00:28<00:01,  1.34s/it]\u001b[A\n",
      "100%|██████████| 22/22 [00:29<00:00,  1.33s/it]\n",
      " 26%|██▌       | 108/412 [14:05<1:16:34, 15.11s/it]"
     ]
    },
    {
     "name": "stdout",
     "output_type": "stream",
     "text": [
      "https://reviews.webmd.com/drugs/drugreview-1774-fluoxetine-hcl\n"
     ]
    },
    {
     "name": "stderr",
     "output_type": "stream",
     "text": [
      "\n",
      "  0%|          | 0/22 [00:00<?, ?it/s]\u001b[A\n",
      "  5%|▍         | 1/22 [00:00<00:17,  1.19it/s]\u001b[A\n",
      "  9%|▉         | 2/22 [00:01<00:16,  1.20it/s]\u001b[A\n",
      " 14%|█▎        | 3/22 [00:02<00:15,  1.21it/s]\u001b[A\n",
      " 18%|█▊        | 4/22 [00:03<00:14,  1.25it/s]\u001b[A\n",
      " 23%|██▎       | 5/22 [00:03<00:13,  1.29it/s]\u001b[A\n",
      " 27%|██▋       | 6/22 [00:04<00:12,  1.26it/s]\u001b[A\n",
      " 32%|███▏      | 7/22 [00:05<00:13,  1.13it/s]\u001b[A\n",
      " 36%|███▋      | 8/22 [00:06<00:12,  1.16it/s]\u001b[A\n",
      " 41%|████      | 9/22 [00:07<00:10,  1.19it/s]\u001b[A\n",
      " 45%|████▌     | 10/22 [00:08<00:09,  1.22it/s]\u001b[A\n",
      " 50%|█████     | 11/22 [00:09<00:08,  1.26it/s]\u001b[A\n",
      " 55%|█████▍    | 12/22 [00:09<00:08,  1.22it/s]\u001b[A\n",
      " 59%|█████▉    | 13/22 [00:10<00:07,  1.14it/s]\u001b[A\n",
      " 64%|██████▎   | 14/22 [00:11<00:06,  1.19it/s]\u001b[A\n",
      " 68%|██████▊   | 15/22 [00:12<00:05,  1.20it/s]\u001b[A\n",
      " 73%|███████▎  | 16/22 [00:13<00:05,  1.18it/s]\u001b[A\n",
      " 77%|███████▋  | 17/22 [00:14<00:04,  1.25it/s]\u001b[A\n",
      " 82%|████████▏ | 18/22 [00:15<00:03,  1.12it/s]\u001b[A\n",
      " 86%|████████▋ | 19/22 [00:15<00:02,  1.15it/s]\u001b[A\n",
      " 91%|█████████ | 20/22 [00:16<00:01,  1.14it/s]\u001b[A\n",
      " 95%|█████████▌| 21/22 [00:17<00:00,  1.12it/s]\u001b[A\n",
      "100%|██████████| 22/22 [00:18<00:00,  1.20it/s]\n",
      " 26%|██▋       | 109/412 [14:24<1:22:49, 16.40s/it]"
     ]
    },
    {
     "name": "stdout",
     "output_type": "stream",
     "text": [
      "https://reviews.webmd.com/drugs/drugreview-1776-anafranil\n"
     ]
    },
    {
     "name": "stderr",
     "output_type": "stream",
     "text": [
      "\n",
      "  0%|          | 0/4 [00:00<?, ?it/s]\u001b[A\n",
      " 25%|██▌       | 1/4 [00:00<00:02,  1.22it/s]\u001b[A\n",
      " 50%|█████     | 2/4 [00:02<00:02,  1.07s/it]\u001b[A\n",
      " 75%|███████▌  | 3/4 [00:03<00:01,  1.17s/it]\u001b[A\n",
      "100%|██████████| 4/4 [00:04<00:00,  1.07s/it]\n",
      " 27%|██▋       | 110/412 [14:31<1:07:34, 13.42s/it]"
     ]
    },
    {
     "name": "stdout",
     "output_type": "stream",
     "text": [
      "https://reviews.webmd.com/drugs/drugreview-177632-drizalma-sprinkle\n"
     ]
    },
    {
     "name": "stderr",
     "output_type": "stream",
     "text": [
      " 27%|██▋       | 111/412 [14:33<50:08, 10.00s/it]  "
     ]
    },
    {
     "name": "stdout",
     "output_type": "stream",
     "text": [
      "https://reviews.webmd.com/drugs/drugreview-178265-asenapine-patch-24-hours\n"
     ]
    },
    {
     "name": "stderr",
     "output_type": "stream",
     "text": [
      " 27%|██▋       | 112/412 [14:35<37:53,  7.58s/it]"
     ]
    },
    {
     "name": "stdout",
     "output_type": "stream",
     "text": [
      "https://reviews.webmd.com/drugs/drugreview-178490-secuado-patch-24-hours\n"
     ]
    },
    {
     "name": "stderr",
     "output_type": "stream",
     "text": [
      " 27%|██▋       | 113/412 [14:37<29:26,  5.91s/it]"
     ]
    },
    {
     "name": "stdout",
     "output_type": "stream",
     "text": [
      "https://reviews.webmd.com/drugs/drugreview-178552-lumateperone-capsule\n"
     ]
    },
    {
     "name": "stderr",
     "output_type": "stream",
     "text": [
      " 28%|██▊       | 114/412 [14:38<22:59,  4.63s/it]"
     ]
    },
    {
     "name": "stdout",
     "output_type": "stream",
     "text": [
      "https://reviews.webmd.com/drugs/drugreview-178621-caplyta\n"
     ]
    },
    {
     "name": "stderr",
     "output_type": "stream",
     "text": [
      "\n",
      "  0%|          | 0/6 [00:00<?, ?it/s]\u001b[A\n",
      " 17%|█▋        | 1/6 [00:00<00:03,  1.50it/s]\u001b[A\n",
      " 33%|███▎      | 2/6 [00:02<00:04,  1.18s/it]\u001b[A\n",
      " 50%|█████     | 3/6 [00:03<00:03,  1.23s/it]\u001b[A\n",
      " 67%|██████▋   | 4/6 [00:04<00:02,  1.19s/it]\u001b[A\n",
      " 83%|████████▎ | 5/6 [00:05<00:01,  1.22s/it]\u001b[A\n",
      "100%|██████████| 6/6 [00:06<00:00,  1.14s/it]\n",
      " 28%|██▊       | 115/412 [14:47<29:10,  5.89s/it]"
     ]
    },
    {
     "name": "stdout",
     "output_type": "stream",
     "text": [
      "https://reviews.webmd.com/drugs/drugreview-1807-elavil-tablet\n"
     ]
    },
    {
     "name": "stderr",
     "output_type": "stream",
     "text": [
      "\n",
      "  0%|          | 0/21 [00:00<?, ?it/s]\u001b[A\n",
      "  5%|▍         | 1/21 [00:01<00:21,  1.07s/it]\u001b[A\n",
      " 10%|▉         | 2/21 [00:02<00:22,  1.21s/it]\u001b[A\n",
      " 14%|█▍        | 3/21 [00:03<00:22,  1.26s/it]\u001b[A\n",
      " 19%|█▉        | 4/21 [00:04<00:21,  1.27s/it]\u001b[A\n",
      " 24%|██▍       | 5/21 [00:06<00:19,  1.24s/it]\u001b[A\n",
      " 29%|██▊       | 6/21 [00:07<00:19,  1.27s/it]\u001b[A\n",
      " 33%|███▎      | 7/21 [00:09<00:19,  1.40s/it]\u001b[A\n",
      " 38%|███▊      | 8/21 [00:10<00:17,  1.33s/it]\u001b[A\n",
      " 43%|████▎     | 9/21 [00:11<00:15,  1.31s/it]\u001b[A\n",
      " 48%|████▊     | 10/21 [00:12<00:14,  1.31s/it]\u001b[A\n",
      " 52%|█████▏    | 11/21 [00:14<00:13,  1.31s/it]\u001b[A\n",
      " 57%|█████▋    | 12/21 [00:15<00:11,  1.29s/it]\u001b[A\n",
      " 62%|██████▏   | 13/21 [00:17<00:11,  1.38s/it]\u001b[A\n",
      " 67%|██████▋   | 14/21 [00:18<00:09,  1.30s/it]\u001b[A\n",
      " 71%|███████▏  | 15/21 [00:19<00:07,  1.26s/it]\u001b[A\n",
      " 76%|███████▌  | 16/21 [00:20<00:06,  1.23s/it]\u001b[A\n",
      " 81%|████████  | 17/21 [00:21<00:05,  1.30s/it]\u001b[A\n",
      " 86%|████████▌ | 18/21 [00:23<00:04,  1.36s/it]\u001b[A\n",
      " 90%|█████████ | 19/21 [00:24<00:02,  1.34s/it]\u001b[A\n",
      " 95%|█████████▌| 20/21 [00:26<00:01,  1.33s/it]\u001b[A\n",
      "100%|██████████| 21/21 [00:27<00:00,  1.29s/it]\n",
      " 28%|██▊       | 116/412 [15:16<1:03:36, 12.89s/it]"
     ]
    },
    {
     "name": "stdout",
     "output_type": "stream",
     "text": [
      "https://reviews.webmd.com/drugs/drugreview-181130-abilify-mycite\n"
     ]
    },
    {
     "name": "stderr",
     "output_type": "stream",
     "text": [
      " 28%|██▊       | 117/412 [15:18<46:37,  9.48s/it]  "
     ]
    },
    {
     "name": "stdout",
     "output_type": "stream",
     "text": [
      "https://reviews.webmd.com/drugs/drugreview-181133-abilify-mycite\n"
     ]
    },
    {
     "name": "stderr",
     "output_type": "stream",
     "text": [
      " 29%|██▊       | 118/412 [15:19<34:53,  7.12s/it]"
     ]
    },
    {
     "name": "stdout",
     "output_type": "stream",
     "text": [
      "https://reviews.webmd.com/drugs/drugreview-181599-olanzapine-samidorphan-tablet\n"
     ]
    },
    {
     "name": "stderr",
     "output_type": "stream",
     "text": [
      " 29%|██▉       | 119/412 [15:21<26:45,  5.48s/it]"
     ]
    },
    {
     "name": "stdout",
     "output_type": "stream",
     "text": [
      "https://reviews.webmd.com/drugs/drugreview-181659-lybalvi\n"
     ]
    },
    {
     "name": "stderr",
     "output_type": "stream",
     "text": [
      "\n",
      "  0%|          | 0/1 [00:00<?, ?it/s]\u001b[A\n",
      "100%|██████████| 1/1 [00:00<00:00,  1.54it/s]\n",
      " 29%|██▉       | 120/412 [15:24<22:29,  4.62s/it]"
     ]
    },
    {
     "name": "stdout",
     "output_type": "stream",
     "text": [
      "https://reviews.webmd.com/drugs/drugreview-1820-pamelor\n"
     ]
    },
    {
     "name": "stderr",
     "output_type": "stream",
     "text": [
      "\n",
      "  0%|          | 0/7 [00:00<?, ?it/s]\u001b[A\n",
      " 14%|█▍        | 1/7 [00:01<00:06,  1.08s/it]\u001b[A\n",
      " 29%|██▊       | 2/7 [00:02<00:05,  1.15s/it]\u001b[A\n",
      " 43%|████▎     | 3/7 [00:03<00:04,  1.23s/it]\u001b[A\n",
      " 57%|█████▋    | 4/7 [00:04<00:03,  1.25s/it]\u001b[A\n",
      " 71%|███████▏  | 5/7 [00:06<00:02,  1.25s/it]\u001b[A\n",
      " 86%|████████▌ | 6/7 [00:07<00:01,  1.30s/it]\u001b[A\n",
      "100%|██████████| 7/7 [00:08<00:00,  1.26s/it]\n",
      " 29%|██▉       | 121/412 [15:34<31:15,  6.44s/it]"
     ]
    },
    {
     "name": "stdout",
     "output_type": "stream",
     "text": [
      "https://reviews.webmd.com/drugs/drugreview-182212-loreev-xr\n"
     ]
    },
    {
     "name": "stderr",
     "output_type": "stream",
     "text": [
      "\n",
      "  0%|          | 0/1 [00:00<?, ?it/s]\u001b[A\n",
      "100%|██████████| 1/1 [00:00<00:00,  1.77it/s]\n",
      " 30%|██▉       | 122/412 [15:37<25:18,  5.24s/it]"
     ]
    },
    {
     "name": "stdout",
     "output_type": "stream",
     "text": [
      "https://reviews.webmd.com/drugs/drugreview-182269-paliperidone-palm-6-month-syringe\n"
     ]
    },
    {
     "name": "stderr",
     "output_type": "stream",
     "text": [
      " 30%|██▉       | 123/412 [15:39<20:10,  4.19s/it]"
     ]
    },
    {
     "name": "stdout",
     "output_type": "stream",
     "text": [
      "https://reviews.webmd.com/drugs/drugreview-182300-invega-hafyera-syringe\n"
     ]
    },
    {
     "name": "stderr",
     "output_type": "stream",
     "text": [
      "\n",
      "  0%|          | 0/1 [00:00<?, ?it/s]\u001b[A\n",
      "100%|██████████| 1/1 [00:00<00:00,  2.00it/s]\n",
      " 30%|███       | 125/412 [15:42<13:35,  2.84s/it]"
     ]
    },
    {
     "name": "stdout",
     "output_type": "stream",
     "text": [
      "skipping https://reviews.webmd.com/drugs/drugreview-18354-tranxene-sd-tablet-er: page not found\n",
      "https://reviews.webmd.com/drugs/drugreview-184446-venlafaxine-besylate-er\n"
     ]
    },
    {
     "name": "stderr",
     "output_type": "stream",
     "text": [
      "\n",
      "  0%|          | 0/1 [00:00<?, ?it/s]\u001b[A\n",
      "100%|██████████| 1/1 [00:00<00:00,  1.81it/s]\n",
      " 31%|███       | 126/412 [15:44<12:55,  2.71s/it]"
     ]
    },
    {
     "name": "stdout",
     "output_type": "stream",
     "text": [
      "https://reviews.webmd.com/drugs/drugreview-186559-aripiprazole-2-month-suspension-er-syringe\n"
     ]
    },
    {
     "name": "stderr",
     "output_type": "stream",
     "text": [
      " 31%|███       | 127/412 [15:46<11:09,  2.35s/it]"
     ]
    },
    {
     "name": "stdout",
     "output_type": "stream",
     "text": [
      "https://reviews.webmd.com/drugs/drugreview-186560-abilify-asimtufii-suspension-er-syringe\n"
     ]
    },
    {
     "name": "stderr",
     "output_type": "stream",
     "text": [
      " 31%|███       | 128/412 [15:47<09:58,  2.11s/it]"
     ]
    },
    {
     "name": "stdout",
     "output_type": "stream",
     "text": [
      "https://reviews.webmd.com/drugs/drugreview-186581-risperidone-suspension-er-syringe\n"
     ]
    },
    {
     "name": "stderr",
     "output_type": "stream",
     "text": [
      " 31%|███▏      | 129/412 [15:49<09:13,  1.96s/it]"
     ]
    },
    {
     "name": "stdout",
     "output_type": "stream",
     "text": [
      "https://reviews.webmd.com/drugs/drugreview-186641-uzedy-suspension-er-syringe\n"
     ]
    },
    {
     "name": "stderr",
     "output_type": "stream",
     "text": [
      " 32%|███▏      | 130/412 [15:51<08:45,  1.86s/it]"
     ]
    },
    {
     "name": "stdout",
     "output_type": "stream",
     "text": [
      "https://reviews.webmd.com/drugs/drugreview-187422-rykindo-vial\n"
     ]
    },
    {
     "name": "stderr",
     "output_type": "stream",
     "text": [
      " 32%|███▏      | 131/412 [15:52<08:32,  1.82s/it]"
     ]
    },
    {
     "name": "stdout",
     "output_type": "stream",
     "text": [
      "https://reviews.webmd.com/drugs/drugreview-1919-chlordiazepoxide-amitriptyline\n"
     ]
    },
    {
     "name": "stderr",
     "output_type": "stream",
     "text": [
      "\n",
      "  0%|          | 0/1 [00:00<?, ?it/s]\u001b[A\n",
      "100%|██████████| 1/1 [00:00<00:00,  1.45it/s]\n",
      " 32%|███▏      | 133/412 [15:56<08:21,  1.80s/it]"
     ]
    },
    {
     "name": "stdout",
     "output_type": "stream",
     "text": [
      "skipping https://reviews.webmd.com/drugs/drugreview-19220-chlormezanone-tablet: page not found\n"
     ]
    },
    {
     "name": "stderr",
     "output_type": "stream",
     "text": [
      " 33%|███▎      | 134/412 [15:57<07:07,  1.54s/it]"
     ]
    },
    {
     "name": "stdout",
     "output_type": "stream",
     "text": [
      "skipping https://reviews.webmd.com/drugs/drugreview-19227-trancopal-tablet: page not found\n",
      "https://reviews.webmd.com/drugs/drugreview-19342-thsc-lorazepam-tablet\n"
     ]
    },
    {
     "name": "stderr",
     "output_type": "stream",
     "text": [
      " 33%|███▎      | 135/412 [15:59<07:23,  1.60s/it]"
     ]
    },
    {
     "name": "stdout",
     "output_type": "stream",
     "text": [
      "https://reviews.webmd.com/drugs/drugreview-19825-sarafem-capsule\n"
     ]
    },
    {
     "name": "stderr",
     "output_type": "stream",
     "text": [
      "\n",
      "  0%|          | 0/3 [00:00<?, ?it/s]\u001b[A\n",
      " 33%|███▎      | 1/3 [00:00<00:01,  1.23it/s]\u001b[A\n",
      " 67%|██████▋   | 2/3 [00:02<00:01,  1.13s/it]\u001b[A\n",
      "100%|██████████| 3/3 [00:03<00:00,  1.02s/it]\n",
      " 33%|███▎      | 136/412 [16:04<12:44,  2.77s/it]"
     ]
    },
    {
     "name": "stdout",
     "output_type": "stream",
     "text": [
      "https://reviews.webmd.com/drugs/drugreview-19876-zyprexa-zydis\n"
     ]
    },
    {
     "name": "stderr",
     "output_type": "stream",
     "text": [
      "\n",
      "  0%|          | 0/2 [00:00<?, ?it/s]\u001b[A\n",
      " 50%|█████     | 1/2 [00:00<00:00,  1.39it/s]\u001b[A\n",
      "100%|██████████| 2/2 [00:01<00:00,  1.23it/s]\n",
      " 33%|███▎      | 137/412 [16:08<13:58,  3.05s/it]"
     ]
    },
    {
     "name": "stdout",
     "output_type": "stream",
     "text": [
      "https://reviews.webmd.com/drugs/drugreview-20568-ziprasidone-hcl\n"
     ]
    },
    {
     "name": "stderr",
     "output_type": "stream",
     "text": [
      "\n",
      "  0%|          | 0/7 [00:00<?, ?it/s]\u001b[A\n",
      " 14%|█▍        | 1/7 [00:00<00:04,  1.20it/s]\u001b[A\n",
      " 29%|██▊       | 2/7 [00:02<00:06,  1.22s/it]\u001b[A\n",
      " 43%|████▎     | 3/7 [00:03<00:05,  1.28s/it]\u001b[A\n",
      " 57%|█████▋    | 4/7 [00:05<00:03,  1.33s/it]\u001b[A\n",
      " 71%|███████▏  | 5/7 [00:06<00:02,  1.29s/it]\u001b[A\n",
      " 86%|████████▌ | 6/7 [00:07<00:01,  1.36s/it]\u001b[A\n",
      "100%|██████████| 7/7 [00:08<00:00,  1.27s/it]\n",
      " 33%|███▎      | 138/412 [16:19<25:00,  5.48s/it]"
     ]
    },
    {
     "name": "stdout",
     "output_type": "stream",
     "text": [
      "https://reviews.webmd.com/drugs/drugreview-20575-geodon\n"
     ]
    },
    {
     "name": "stderr",
     "output_type": "stream",
     "text": [
      "\n",
      "  0%|          | 0/33 [00:00<?, ?it/s]\u001b[A\n",
      "  3%|▎         | 1/33 [00:00<00:23,  1.34it/s]\u001b[A\n",
      "  6%|▌         | 2/33 [00:02<00:36,  1.18s/it]\u001b[A\n",
      "  9%|▉         | 3/33 [00:03<00:36,  1.22s/it]\u001b[A\n",
      " 12%|█▏        | 4/33 [00:04<00:38,  1.32s/it]\u001b[A\n",
      " 15%|█▌        | 5/33 [00:06<00:37,  1.33s/it]\u001b[A\n",
      " 18%|█▊        | 6/33 [00:07<00:37,  1.39s/it]\u001b[A\n",
      " 21%|██        | 7/33 [00:09<00:35,  1.37s/it]\u001b[A\n",
      " 24%|██▍       | 8/33 [00:10<00:33,  1.32s/it]\u001b[A\n",
      " 27%|██▋       | 9/33 [00:11<00:32,  1.36s/it]\u001b[A\n",
      " 30%|███       | 10/33 [00:13<00:31,  1.39s/it]\u001b[A\n",
      " 33%|███▎      | 11/33 [00:14<00:30,  1.38s/it]\u001b[A\n",
      " 36%|███▋      | 12/33 [00:15<00:28,  1.38s/it]\u001b[A\n",
      " 39%|███▉      | 13/33 [00:17<00:27,  1.36s/it]\u001b[A\n",
      " 42%|████▏     | 14/33 [00:18<00:25,  1.32s/it]\u001b[A\n",
      " 45%|████▌     | 15/33 [00:20<00:24,  1.38s/it]\u001b[A\n",
      " 48%|████▊     | 16/33 [00:21<00:23,  1.39s/it]\u001b[A\n",
      " 52%|█████▏    | 17/33 [00:22<00:22,  1.39s/it]\u001b[A\n",
      " 55%|█████▍    | 18/33 [00:24<00:20,  1.34s/it]\u001b[A\n",
      " 58%|█████▊    | 19/33 [00:25<00:18,  1.35s/it]\u001b[A\n",
      " 61%|██████    | 20/33 [00:27<00:18,  1.44s/it]\u001b[A\n",
      " 64%|██████▎   | 21/33 [00:28<00:16,  1.38s/it]\u001b[A\n",
      " 67%|██████▋   | 22/33 [00:29<00:15,  1.37s/it]\u001b[A\n",
      " 70%|██████▉   | 23/33 [00:31<00:13,  1.37s/it]\u001b[A\n",
      " 73%|███████▎  | 24/33 [00:32<00:12,  1.36s/it]\u001b[A\n",
      " 76%|███████▌  | 25/33 [00:33<00:10,  1.30s/it]\u001b[A\n",
      " 79%|███████▉  | 26/33 [00:35<00:09,  1.36s/it]\u001b[A\n",
      " 82%|████████▏ | 27/33 [00:36<00:07,  1.32s/it]\u001b[A\n",
      " 85%|████████▍ | 28/33 [00:37<00:06,  1.35s/it]\u001b[A\n",
      " 88%|████████▊ | 29/33 [00:39<00:05,  1.38s/it]\u001b[A\n",
      " 91%|█████████ | 30/33 [00:40<00:04,  1.36s/it]\u001b[A\n",
      " 94%|█████████▍| 31/33 [00:41<00:02,  1.35s/it]\u001b[A\n",
      " 97%|█████████▋| 32/33 [00:43<00:01,  1.38s/it]\u001b[A\n",
      "100%|██████████| 33/33 [00:44<00:00,  1.35s/it]\n",
      " 34%|███▎      | 139/412 [17:06<1:21:05, 17.82s/it]"
     ]
    },
    {
     "name": "stdout",
     "output_type": "stream",
     "text": [
      "https://reviews.webmd.com/drugs/drugreview-209-adapin-capsule\n"
     ]
    },
    {
     "name": "stderr",
     "output_type": "stream",
     "text": [
      "\n",
      "  0%|          | 0/1 [00:00<?, ?it/s]\u001b[A\n",
      "100%|██████████| 1/1 [00:00<00:00,  1.78it/s]\n",
      " 34%|███▍      | 140/412 [17:09<1:00:13, 13.28s/it]"
     ]
    },
    {
     "name": "stdout",
     "output_type": "stream",
     "text": [
      "https://reviews.webmd.com/drugs/drugreview-21670-fluoxetine-capsule\n"
     ]
    },
    {
     "name": "stderr",
     "output_type": "stream",
     "text": [
      "\n",
      "  0%|          | 0/1 [00:00<?, ?it/s]\u001b[A\n",
      "100%|██████████| 1/1 [00:00<00:00,  1.88it/s]\n",
      " 34%|███▍      | 141/412 [17:11<45:24, 10.05s/it]  "
     ]
    },
    {
     "name": "stdout",
     "output_type": "stream",
     "text": [
      "https://reviews.webmd.com/drugs/drugreview-21672-rapiflux-tablet\n"
     ]
    },
    {
     "name": "stderr",
     "output_type": "stream",
     "text": [
      "\n",
      "  0%|          | 0/1 [00:00<?, ?it/s]\u001b[A\n",
      "100%|██████████| 1/1 [00:00<00:00,  1.27it/s]\n",
      " 34%|███▍      | 142/412 [17:14<36:08,  8.03s/it]"
     ]
    },
    {
     "name": "stdout",
     "output_type": "stream",
     "text": [
      "https://reviews.webmd.com/drugs/drugreview-2202-chlordiazepoxide-amitriptyline-tablet\n"
     ]
    },
    {
     "name": "stderr",
     "output_type": "stream",
     "text": [
      " 35%|███▍      | 143/412 [17:16<27:54,  6.23s/it]"
     ]
    },
    {
     "name": "stdout",
     "output_type": "stream",
     "text": [
      "https://reviews.webmd.com/drugs/drugreview-22834-paxil-cr-tablet-er-24-hr\n"
     ]
    },
    {
     "name": "stderr",
     "output_type": "stream",
     "text": [
      " 35%|███▍      | 144/412 [17:19<22:23,  5.01s/it]"
     ]
    },
    {
     "name": "stdout",
     "output_type": "stream",
     "text": [
      "https://reviews.webmd.com/drugs/drugreview-2846-perphenazine-amitriptyline\n"
     ]
    },
    {
     "name": "stderr",
     "output_type": "stream",
     "text": [
      "\n",
      "  0%|          | 0/1 [00:00<?, ?it/s]\u001b[A\n",
      "100%|██████████| 1/1 [00:00<00:00,  1.02it/s]\n",
      " 35%|███▌      | 145/412 [17:22<20:19,  4.57s/it]"
     ]
    },
    {
     "name": "stdout",
     "output_type": "stream",
     "text": [
      "https://reviews.webmd.com/drugs/drugreview-32651-chlordiazepoxide-tablet\n"
     ]
    },
    {
     "name": "stderr",
     "output_type": "stream",
     "text": [
      "\n",
      "  0%|          | 0/1 [00:00<?, ?it/s]\u001b[A\n",
      "100%|██████████| 1/1 [00:00<00:00,  1.46it/s]\n",
      " 35%|███▌      | 146/412 [17:25<18:05,  4.08s/it]"
     ]
    },
    {
     "name": "stdout",
     "output_type": "stream",
     "text": [
      "https://reviews.webmd.com/drugs/drugreview-32900-paxil-cr\n"
     ]
    },
    {
     "name": "stderr",
     "output_type": "stream",
     "text": [
      "\n",
      "  0%|          | 0/37 [00:00<?, ?it/s]\u001b[A\n",
      "  3%|▎         | 1/37 [00:00<00:24,  1.44it/s]\u001b[A\n",
      "  5%|▌         | 2/37 [00:02<00:38,  1.09s/it]\u001b[A\n",
      "  8%|▊         | 3/37 [00:03<00:46,  1.36s/it]\u001b[A\n",
      " 11%|█         | 4/37 [00:05<00:45,  1.37s/it]\u001b[A\n",
      " 14%|█▎        | 5/37 [00:06<00:43,  1.37s/it]\u001b[A\n",
      " 16%|█▌        | 6/37 [00:07<00:41,  1.35s/it]\u001b[A\n",
      " 19%|█▉        | 7/37 [00:09<00:41,  1.38s/it]\u001b[A\n",
      " 22%|██▏       | 8/37 [00:10<00:41,  1.41s/it]\u001b[A\n",
      " 24%|██▍       | 9/37 [00:12<00:40,  1.44s/it]\u001b[A\n",
      " 27%|██▋       | 10/37 [00:13<00:37,  1.41s/it]\u001b[A\n",
      " 30%|██▉       | 11/37 [00:15<00:36,  1.42s/it]\u001b[A\n",
      " 32%|███▏      | 12/37 [00:16<00:34,  1.38s/it]\u001b[A\n",
      " 35%|███▌      | 13/37 [00:17<00:33,  1.39s/it]\u001b[A\n",
      " 38%|███▊      | 14/37 [00:18<00:30,  1.34s/it]\u001b[A\n",
      " 41%|████      | 15/37 [00:20<00:32,  1.46s/it]\u001b[A\n",
      " 43%|████▎     | 16/37 [00:21<00:29,  1.41s/it]\u001b[A\n",
      " 46%|████▌     | 17/37 [00:23<00:28,  1.41s/it]\u001b[A\n",
      " 49%|████▊     | 18/37 [00:24<00:27,  1.44s/it]\u001b[A\n",
      " 51%|█████▏    | 19/37 [00:26<00:25,  1.41s/it]\u001b[A\n",
      " 54%|█████▍    | 20/37 [00:27<00:25,  1.47s/it]\u001b[A\n",
      " 57%|█████▋    | 21/37 [00:29<00:22,  1.41s/it]\u001b[A\n",
      " 59%|█████▉    | 22/37 [00:30<00:22,  1.49s/it]\u001b[A\n",
      " 62%|██████▏   | 23/37 [00:32<00:20,  1.48s/it]\u001b[A\n",
      " 65%|██████▍   | 24/37 [00:33<00:18,  1.41s/it]\u001b[A\n",
      " 68%|██████▊   | 25/37 [00:34<00:16,  1.40s/it]\u001b[A\n",
      " 70%|███████   | 26/37 [00:36<00:16,  1.46s/it]\u001b[A\n",
      " 73%|███████▎  | 27/37 [00:37<00:14,  1.45s/it]\u001b[A\n",
      " 76%|███████▌  | 28/37 [00:39<00:12,  1.42s/it]\u001b[A\n",
      " 78%|███████▊  | 29/37 [00:40<00:11,  1.42s/it]\u001b[A\n",
      " 81%|████████  | 30/37 [00:42<00:09,  1.40s/it]\u001b[A\n",
      " 84%|████████▍ | 31/37 [00:43<00:08,  1.46s/it]\u001b[A\n",
      " 86%|████████▋ | 32/37 [00:45<00:07,  1.52s/it]\u001b[A\n",
      " 89%|████████▉ | 33/37 [00:46<00:05,  1.49s/it]\u001b[A\n",
      " 92%|█████████▏| 34/37 [00:48<00:04,  1.46s/it]\u001b[A\n",
      " 95%|█████████▍| 35/37 [00:49<00:02,  1.40s/it]\u001b[A\n",
      " 97%|█████████▋| 36/37 [00:50<00:01,  1.42s/it]\u001b[A\n",
      "100%|██████████| 37/37 [00:51<00:00,  1.40s/it]\n",
      " 36%|███▌      | 147/412 [18:19<1:24:08, 19.05s/it]"
     ]
    },
    {
     "name": "stdout",
     "output_type": "stream",
     "text": [
      "https://reviews.webmd.com/drugs/drugreview-3335-sinequan-capsule\n"
     ]
    },
    {
     "name": "stderr",
     "output_type": "stream",
     "text": [
      "\n",
      "  0%|          | 0/2 [00:00<?, ?it/s]\u001b[A\n",
      " 50%|█████     | 1/2 [00:00<00:00,  1.29it/s]\u001b[A\n",
      "100%|██████████| 2/2 [00:02<00:00,  1.01s/it]\n",
      " 36%|███▌      | 148/412 [18:23<1:04:26, 14.65s/it]"
     ]
    },
    {
     "name": "stdout",
     "output_type": "stream",
     "text": [
      "https://reviews.webmd.com/drugs/drugreview-3335-sinequan-concentrate\n"
     ]
    },
    {
     "name": "stderr",
     "output_type": "stream",
     "text": [
      "\n",
      "  0%|          | 0/2 [00:00<?, ?it/s]\u001b[A\n",
      " 50%|█████     | 1/2 [00:00<00:00,  1.23it/s]\u001b[A\n",
      "100%|██████████| 2/2 [00:01<00:00,  1.37it/s]\n",
      " 36%|███▌      | 149/412 [18:26<48:05, 10.97s/it]  "
     ]
    },
    {
     "name": "stdout",
     "output_type": "stream",
     "text": [
      "https://reviews.webmd.com/drugs/drugreview-35-zoloft\n"
     ]
    },
    {
     "name": "stderr",
     "output_type": "stream",
     "text": [
      "\n",
      "  0%|          | 0/140 [00:00<?, ?it/s]\u001b[A\n",
      "  1%|          | 1/140 [00:00<01:46,  1.31it/s]\u001b[A\n",
      "  1%|▏         | 2/140 [00:02<02:38,  1.15s/it]\u001b[A\n",
      "  2%|▏         | 3/140 [00:03<02:52,  1.26s/it]\u001b[A\n",
      "  3%|▎         | 4/140 [00:05<03:05,  1.37s/it]\u001b[A\n",
      "  4%|▎         | 5/140 [00:06<03:07,  1.39s/it]\u001b[A\n",
      "  4%|▍         | 6/140 [00:08<03:22,  1.51s/it]\u001b[A\n",
      "  5%|▌         | 7/140 [00:09<03:16,  1.47s/it]\u001b[A\n",
      "  6%|▌         | 8/140 [00:11<03:18,  1.51s/it]\u001b[A\n",
      "  6%|▋         | 9/140 [00:12<03:14,  1.48s/it]\u001b[A\n",
      "  7%|▋         | 10/140 [00:14<03:12,  1.48s/it]\u001b[A\n",
      "  8%|▊         | 11/140 [00:15<03:15,  1.52s/it]\u001b[A\n",
      "  9%|▊         | 12/140 [00:17<03:12,  1.50s/it]\u001b[A\n",
      "  9%|▉         | 13/140 [00:18<03:10,  1.50s/it]\u001b[A\n",
      " 10%|█         | 14/140 [00:20<03:13,  1.54s/it]\u001b[A\n",
      " 11%|█         | 15/140 [00:21<03:05,  1.48s/it]\u001b[A\n",
      " 11%|█▏        | 16/140 [00:23<03:05,  1.49s/it]\u001b[A\n",
      " 12%|█▏        | 17/140 [00:24<03:03,  1.49s/it]\u001b[A\n",
      " 13%|█▎        | 18/140 [00:26<02:56,  1.44s/it]\u001b[A\n",
      " 14%|█▎        | 19/140 [00:27<03:00,  1.49s/it]\u001b[A\n",
      " 14%|█▍        | 20/140 [00:29<02:56,  1.47s/it]\u001b[A\n",
      " 15%|█▌        | 21/140 [00:30<02:54,  1.47s/it]\u001b[A\n",
      " 16%|█▌        | 22/140 [00:32<02:55,  1.49s/it]\u001b[A\n",
      " 16%|█▋        | 23/140 [00:33<03:04,  1.57s/it]\u001b[A\n",
      " 17%|█▋        | 24/140 [00:35<03:01,  1.57s/it]\u001b[A\n",
      " 18%|█▊        | 25/140 [00:36<02:59,  1.56s/it]\u001b[A\n",
      " 19%|█▊        | 26/140 [00:38<02:52,  1.52s/it]\u001b[A\n",
      " 19%|█▉        | 27/140 [00:39<02:50,  1.51s/it]\u001b[A\n",
      " 20%|██        | 28/140 [00:41<02:59,  1.61s/it]\u001b[A\n",
      " 21%|██        | 29/140 [00:43<02:57,  1.60s/it]\u001b[A\n",
      " 21%|██▏       | 30/140 [00:44<02:50,  1.55s/it]\u001b[A\n",
      " 22%|██▏       | 31/140 [00:46<02:45,  1.52s/it]\u001b[A\n",
      " 23%|██▎       | 32/140 [00:47<02:45,  1.54s/it]\u001b[A\n",
      " 24%|██▎       | 33/140 [00:49<02:40,  1.50s/it]\u001b[A\n",
      " 24%|██▍       | 34/140 [00:50<02:41,  1.52s/it]\u001b[A\n",
      " 25%|██▌       | 35/140 [00:52<02:39,  1.52s/it]\u001b[A\n",
      " 26%|██▌       | 36/140 [00:53<02:38,  1.52s/it]\u001b[A\n",
      " 26%|██▋       | 37/140 [00:55<02:37,  1.53s/it]\u001b[A\n",
      " 27%|██▋       | 38/140 [00:56<02:33,  1.51s/it]\u001b[A\n",
      " 28%|██▊       | 39/140 [00:58<02:36,  1.55s/it]\u001b[A\n",
      " 29%|██▊       | 40/140 [01:00<02:46,  1.67s/it]\u001b[A\n",
      " 29%|██▉       | 41/140 [01:01<02:39,  1.61s/it]\u001b[A\n",
      " 30%|███       | 42/140 [01:03<02:39,  1.63s/it]\u001b[A\n",
      " 31%|███       | 43/140 [01:04<02:34,  1.60s/it]\u001b[A\n",
      " 31%|███▏      | 44/140 [01:06<02:35,  1.62s/it]\u001b[A\n",
      " 32%|███▏      | 45/140 [01:08<02:31,  1.60s/it]\u001b[A\n",
      " 33%|███▎      | 46/140 [01:09<02:28,  1.58s/it]\u001b[A\n",
      " 34%|███▎      | 47/140 [01:11<02:19,  1.50s/it]\u001b[A\n",
      " 34%|███▍      | 48/140 [01:12<02:16,  1.49s/it]\u001b[A\n",
      " 35%|███▌      | 49/140 [01:14<02:15,  1.49s/it]\u001b[A\n",
      " 36%|███▌      | 50/140 [01:15<02:21,  1.58s/it]\u001b[A\n",
      " 36%|███▋      | 51/140 [01:17<02:23,  1.61s/it]\u001b[A\n",
      " 37%|███▋      | 52/140 [01:19<02:20,  1.60s/it]\u001b[A\n",
      " 38%|███▊      | 53/140 [01:20<02:18,  1.59s/it]\u001b[A\n",
      " 39%|███▊      | 54/140 [01:22<02:13,  1.56s/it]\u001b[A\n",
      " 39%|███▉      | 55/140 [01:23<02:09,  1.52s/it]\u001b[A\n",
      " 40%|████      | 56/140 [01:25<02:09,  1.54s/it]\u001b[A\n",
      " 41%|████      | 57/140 [01:26<02:06,  1.53s/it]\u001b[A\n",
      " 41%|████▏     | 58/140 [01:28<02:06,  1.55s/it]\u001b[A\n",
      " 42%|████▏     | 59/140 [01:29<02:07,  1.57s/it]\u001b[A\n",
      " 43%|████▎     | 60/140 [01:31<02:02,  1.53s/it]\u001b[A\n",
      " 44%|████▎     | 61/140 [01:33<02:07,  1.62s/it]\u001b[A\n",
      " 44%|████▍     | 62/140 [01:35<02:14,  1.72s/it]\u001b[A\n",
      " 45%|████▌     | 63/140 [01:36<02:07,  1.65s/it]\u001b[A\n",
      " 46%|████▌     | 64/140 [01:38<02:02,  1.61s/it]\u001b[A\n",
      " 46%|████▋     | 65/140 [01:39<01:58,  1.58s/it]\u001b[A\n",
      " 47%|████▋     | 66/140 [01:41<01:57,  1.59s/it]\u001b[A\n",
      " 48%|████▊     | 67/140 [01:42<01:58,  1.62s/it]\u001b[A\n",
      " 49%|████▊     | 68/140 [01:44<01:58,  1.65s/it]\u001b[A\n",
      " 49%|████▉     | 69/140 [01:46<01:54,  1.61s/it]\u001b[A\n",
      " 50%|█████     | 70/140 [01:47<01:52,  1.61s/it]\u001b[A\n",
      " 51%|█████     | 71/140 [01:49<02:01,  1.76s/it]\u001b[A\n",
      " 51%|█████▏    | 72/140 [01:51<01:50,  1.63s/it]\u001b[A\n",
      " 52%|█████▏    | 73/140 [01:53<01:53,  1.70s/it]\u001b[A\n",
      " 53%|█████▎    | 74/140 [01:54<01:50,  1.67s/it]\u001b[A\n",
      " 54%|█████▎    | 75/140 [01:56<01:44,  1.60s/it]\u001b[A\n",
      " 54%|█████▍    | 76/140 [01:57<01:40,  1.57s/it]\u001b[A\n",
      " 55%|█████▌    | 77/140 [01:59<01:46,  1.69s/it]\u001b[A\n",
      " 56%|█████▌    | 78/140 [02:01<01:40,  1.63s/it]\u001b[A\n",
      " 56%|█████▋    | 79/140 [02:02<01:37,  1.60s/it]\u001b[A\n",
      " 57%|█████▋    | 80/140 [02:04<01:35,  1.60s/it]\u001b[A\n",
      " 58%|█████▊    | 81/140 [02:05<01:31,  1.54s/it]\u001b[A\n",
      " 59%|█████▊    | 82/140 [02:07<01:34,  1.62s/it]\u001b[A\n",
      " 59%|█████▉    | 83/140 [02:09<01:34,  1.65s/it]\u001b[A\n",
      " 60%|██████    | 84/140 [02:10<01:31,  1.63s/it]\u001b[A\n",
      " 61%|██████    | 85/140 [02:12<01:31,  1.66s/it]\u001b[A\n",
      " 61%|██████▏   | 86/140 [02:14<01:29,  1.65s/it]\u001b[A\n",
      " 62%|██████▏   | 87/140 [02:15<01:25,  1.61s/it]\u001b[A\n",
      " 63%|██████▎   | 88/140 [02:17<01:21,  1.57s/it]\u001b[A\n",
      " 64%|██████▎   | 89/140 [02:18<01:19,  1.55s/it]\u001b[A\n",
      " 64%|██████▍   | 90/140 [02:20<01:22,  1.64s/it]\u001b[A\n",
      " 65%|██████▌   | 91/140 [02:21<01:19,  1.63s/it]\u001b[A\n",
      " 66%|██████▌   | 92/140 [02:23<01:19,  1.65s/it]\u001b[A\n",
      " 66%|██████▋   | 93/140 [02:25<01:16,  1.62s/it]\u001b[A\n",
      " 67%|██████▋   | 94/140 [02:27<01:16,  1.67s/it]\u001b[A\n",
      " 68%|██████▊   | 95/140 [02:28<01:13,  1.63s/it]\u001b[A\n",
      " 69%|██████▊   | 96/140 [02:30<01:14,  1.70s/it]\u001b[A\n",
      " 69%|██████▉   | 97/140 [02:31<01:10,  1.65s/it]\u001b[A\n",
      " 70%|███████   | 98/140 [02:33<01:06,  1.59s/it]\u001b[A\n",
      " 71%|███████   | 99/140 [02:34<01:04,  1.57s/it]\u001b[A\n",
      " 71%|███████▏  | 100/140 [02:36<01:01,  1.55s/it]\u001b[A\n",
      " 72%|███████▏  | 101/140 [02:38<01:01,  1.57s/it]\u001b[A\n",
      " 73%|███████▎  | 102/140 [02:39<01:00,  1.59s/it]\u001b[A\n",
      " 74%|███████▎  | 103/140 [02:41<00:57,  1.55s/it]\u001b[A\n",
      " 74%|███████▍  | 104/140 [02:42<00:54,  1.52s/it]\u001b[A\n",
      " 75%|███████▌  | 105/140 [02:44<00:53,  1.52s/it]\u001b[A\n",
      " 76%|███████▌  | 106/140 [02:45<00:50,  1.47s/it]\u001b[A\n",
      " 76%|███████▋  | 107/140 [02:47<00:50,  1.54s/it]\u001b[A\n",
      " 77%|███████▋  | 108/140 [02:48<00:49,  1.56s/it]\u001b[A\n",
      " 78%|███████▊  | 109/140 [02:50<00:47,  1.52s/it]\u001b[A\n",
      " 79%|███████▊  | 110/140 [02:51<00:44,  1.50s/it]\u001b[A\n",
      " 79%|███████▉  | 111/140 [02:53<00:42,  1.48s/it]\u001b[A\n",
      " 80%|████████  | 112/140 [02:54<00:43,  1.54s/it]\u001b[A\n",
      " 81%|████████  | 113/140 [02:56<00:43,  1.60s/it]\u001b[A\n",
      " 81%|████████▏ | 114/140 [02:58<00:41,  1.60s/it]\u001b[A\n",
      " 82%|████████▏ | 115/140 [02:59<00:39,  1.58s/it]\u001b[A\n",
      " 83%|████████▎ | 116/140 [03:01<00:38,  1.59s/it]\u001b[A\n",
      " 84%|████████▎ | 117/140 [03:02<00:37,  1.63s/it]\u001b[A\n",
      " 84%|████████▍ | 118/140 [03:04<00:37,  1.72s/it]\u001b[A\n",
      " 85%|████████▌ | 119/140 [03:06<00:34,  1.64s/it]\u001b[A\n",
      " 86%|████████▌ | 120/140 [03:07<00:31,  1.58s/it]\u001b[A\n",
      " 86%|████████▋ | 121/140 [03:09<00:28,  1.52s/it]\u001b[A\n",
      " 87%|████████▋ | 122/140 [03:10<00:27,  1.55s/it]\u001b[A\n",
      " 88%|████████▊ | 123/140 [03:12<00:26,  1.59s/it]\u001b[A\n",
      " 89%|████████▊ | 124/140 [03:14<00:26,  1.68s/it]\u001b[A\n",
      " 89%|████████▉ | 125/140 [03:16<00:25,  1.67s/it]\u001b[A\n",
      " 90%|█████████ | 126/140 [03:17<00:22,  1.62s/it]\u001b[A\n",
      " 91%|█████████ | 127/140 [03:19<00:21,  1.66s/it]\u001b[A\n",
      " 91%|█████████▏| 128/140 [03:20<00:19,  1.60s/it]\u001b[A\n",
      " 92%|█████████▏| 129/140 [03:22<00:17,  1.63s/it]\u001b[A\n",
      " 93%|█████████▎| 130/140 [03:24<00:17,  1.73s/it]\u001b[A\n",
      " 94%|█████████▎| 131/140 [03:26<00:15,  1.72s/it]\u001b[A\n",
      " 94%|█████████▍| 132/140 [03:27<00:13,  1.63s/it]\u001b[A\n",
      " 95%|█████████▌| 133/140 [03:29<00:12,  1.75s/it]\u001b[A\n",
      " 96%|█████████▌| 134/140 [03:31<00:10,  1.76s/it]\u001b[A\n",
      " 96%|█████████▋| 135/140 [03:32<00:08,  1.73s/it]\u001b[A\n",
      " 97%|█████████▋| 136/140 [03:34<00:06,  1.64s/it]\u001b[A\n",
      " 98%|█████████▊| 137/140 [03:36<00:04,  1.65s/it]\u001b[A\n",
      " 99%|█████████▊| 138/140 [03:37<00:03,  1.59s/it]\u001b[A\n",
      " 99%|█████████▉| 139/140 [03:39<00:01,  1.57s/it]\u001b[A\n",
      "100%|██████████| 140/140 [03:40<00:00,  1.57s/it]\n",
      " 36%|███▋      | 150/412 [22:09<5:26:00, 74.66s/it]"
     ]
    },
    {
     "name": "stdout",
     "output_type": "stream",
     "text": [
      "https://reviews.webmd.com/drugs/drugreview-3775-hydroxyzine-hcl-vial\n"
     ]
    },
    {
     "name": "stderr",
     "output_type": "stream",
     "text": [
      "\n",
      "  0%|          | 0/2 [00:00<?, ?it/s]\u001b[A\n",
      " 50%|█████     | 1/2 [00:00<00:00,  1.45it/s]\u001b[A\n",
      "100%|██████████| 2/2 [00:01<00:00,  1.15it/s]\n",
      " 37%|███▋      | 151/412 [22:13<3:52:21, 53.41s/it]"
     ]
    },
    {
     "name": "stdout",
     "output_type": "stream",
     "text": [
      "https://reviews.webmd.com/drugs/drugreview-3791-eskalith-cr-tablet-er\n"
     ]
    },
    {
     "name": "stderr",
     "output_type": "stream",
     "text": [
      "\n",
      "  0%|          | 0/1 [00:00<?, ?it/s]\u001b[A\n",
      "100%|██████████| 1/1 [00:00<00:00,  1.60it/s]\n",
      " 37%|███▋      | 152/412 [22:15<2:45:17, 38.14s/it]"
     ]
    },
    {
     "name": "stdout",
     "output_type": "stream",
     "text": [
      "https://reviews.webmd.com/drugs/drugreview-4365-acebutolol-hcl\n"
     ]
    },
    {
     "name": "stderr",
     "output_type": "stream",
     "text": [
      "\n",
      "  0%|          | 0/1 [00:00<?, ?it/s]\u001b[A\n",
      "100%|██████████| 1/1 [00:00<00:00,  1.37it/s]\n",
      " 37%|███▋      | 153/412 [22:18<1:58:48, 27.53s/it]"
     ]
    },
    {
     "name": "stdout",
     "output_type": "stream",
     "text": [
      "https://reviews.webmd.com/drugs/drugreview-4689-quetiapine-fumarate\n"
     ]
    },
    {
     "name": "stderr",
     "output_type": "stream",
     "text": [
      "\n",
      "  0%|          | 0/10 [00:00<?, ?it/s]\u001b[A\n",
      " 10%|█         | 1/10 [00:01<00:09,  1.11s/it]\u001b[A\n",
      " 20%|██        | 2/10 [00:02<00:09,  1.17s/it]\u001b[A\n",
      " 30%|███       | 3/10 [00:03<00:08,  1.22s/it]\u001b[A\n",
      " 40%|████      | 4/10 [00:04<00:07,  1.26s/it]\u001b[A\n",
      " 50%|█████     | 5/10 [00:06<00:06,  1.24s/it]\u001b[A\n",
      " 60%|██████    | 6/10 [00:07<00:05,  1.33s/it]\u001b[A\n",
      " 70%|███████   | 7/10 [00:08<00:03,  1.32s/it]\u001b[A\n",
      " 80%|████████  | 8/10 [00:10<00:02,  1.28s/it]\u001b[A\n",
      " 90%|█████████ | 9/10 [00:11<00:01,  1.26s/it]\u001b[A\n",
      "100%|██████████| 10/10 [00:12<00:00,  1.27s/it]\n",
      " 37%|███▋      | 154/412 [22:33<1:41:56, 23.71s/it]"
     ]
    },
    {
     "name": "stdout",
     "output_type": "stream",
     "text": [
      "https://reviews.webmd.com/drugs/drugreview-4689-quetiapine-fumarate-er\n"
     ]
    },
    {
     "name": "stderr",
     "output_type": "stream",
     "text": [
      "\n",
      "  0%|          | 0/10 [00:00<?, ?it/s]\u001b[A\n",
      " 10%|█         | 1/10 [00:01<00:09,  1.10s/it]\u001b[A\n",
      " 20%|██        | 2/10 [00:01<00:07,  1.05it/s]\u001b[A\n",
      " 30%|███       | 3/10 [00:02<00:06,  1.15it/s]\u001b[A\n",
      " 40%|████      | 4/10 [00:03<00:05,  1.19it/s]\u001b[A\n",
      " 50%|█████     | 5/10 [00:04<00:04,  1.19it/s]\u001b[A\n",
      " 60%|██████    | 6/10 [00:05<00:03,  1.15it/s]\u001b[A\n",
      " 70%|███████   | 7/10 [00:06<00:02,  1.05it/s]\u001b[A\n",
      " 80%|████████  | 8/10 [00:07<00:01,  1.05it/s]\u001b[A\n",
      " 90%|█████████ | 9/10 [00:08<00:00,  1.09it/s]\u001b[A\n",
      "100%|██████████| 10/10 [00:08<00:00,  1.12it/s]\n",
      " 38%|███▊      | 155/412 [22:43<1:23:50, 19.57s/it]"
     ]
    },
    {
     "name": "stdout",
     "output_type": "stream",
     "text": [
      "https://reviews.webmd.com/drugs/drugreview-4718-seroquel\n"
     ]
    },
    {
     "name": "stderr",
     "output_type": "stream",
     "text": [
      "\n",
      "  0%|          | 0/124 [00:00<?, ?it/s]\u001b[A\n",
      "  1%|          | 1/124 [00:00<01:44,  1.17it/s]\u001b[A\n",
      "  2%|▏         | 2/124 [00:02<02:40,  1.32s/it]\u001b[A\n",
      "  2%|▏         | 3/124 [00:04<03:02,  1.51s/it]\u001b[A\n",
      "  3%|▎         | 4/124 [00:05<03:04,  1.54s/it]\u001b[A\n",
      "  4%|▍         | 5/124 [00:07<02:55,  1.47s/it]\u001b[A\n",
      "  5%|▍         | 6/124 [00:08<02:52,  1.46s/it]\u001b[A\n",
      "  6%|▌         | 7/124 [00:10<03:04,  1.58s/it]\u001b[A\n",
      "  6%|▋         | 8/124 [00:11<03:01,  1.57s/it]\u001b[A\n",
      "  7%|▋         | 9/124 [00:13<02:58,  1.55s/it]\u001b[A\n",
      "  8%|▊         | 10/124 [00:14<02:53,  1.53s/it]\u001b[A\n",
      "  9%|▉         | 11/124 [00:16<02:54,  1.55s/it]\u001b[A\n",
      " 10%|▉         | 12/124 [00:18<02:51,  1.53s/it]\u001b[A\n",
      " 10%|█         | 13/124 [00:19<02:57,  1.60s/it]\u001b[A\n",
      " 11%|█▏        | 14/124 [00:21<02:53,  1.58s/it]\u001b[A\n",
      " 12%|█▏        | 15/124 [00:22<02:51,  1.57s/it]\u001b[A\n",
      " 13%|█▎        | 16/124 [00:24<02:53,  1.60s/it]\u001b[A\n",
      " 14%|█▎        | 17/124 [00:26<02:47,  1.57s/it]\u001b[A\n",
      " 15%|█▍        | 18/124 [00:27<02:44,  1.56s/it]\u001b[A\n",
      " 15%|█▌        | 19/124 [00:29<02:52,  1.64s/it]\u001b[A\n",
      " 16%|█▌        | 20/124 [00:30<02:44,  1.58s/it]\u001b[A\n",
      " 17%|█▋        | 21/124 [00:32<02:41,  1.57s/it]\u001b[A\n",
      " 18%|█▊        | 22/124 [00:33<02:41,  1.58s/it]\u001b[A\n",
      " 19%|█▊        | 23/124 [00:35<02:37,  1.56s/it]\u001b[A\n",
      " 19%|█▉        | 24/124 [00:37<02:37,  1.57s/it]\u001b[A\n",
      " 20%|██        | 25/124 [00:38<02:34,  1.56s/it]\u001b[A\n",
      " 21%|██        | 26/124 [00:40<02:31,  1.54s/it]\u001b[A\n",
      " 22%|██▏       | 27/124 [00:41<02:28,  1.53s/it]\u001b[A\n",
      " 23%|██▎       | 28/124 [00:43<02:24,  1.51s/it]\u001b[A\n",
      " 23%|██▎       | 29/124 [00:44<02:21,  1.49s/it]\u001b[A\n",
      " 24%|██▍       | 30/124 [00:46<02:24,  1.54s/it]\u001b[A\n",
      " 25%|██▌       | 31/124 [00:47<02:19,  1.50s/it]\u001b[A\n",
      " 26%|██▌       | 32/124 [00:49<02:20,  1.53s/it]\u001b[A\n",
      " 27%|██▋       | 33/124 [00:50<02:18,  1.52s/it]\u001b[A\n",
      " 27%|██▋       | 34/124 [00:52<02:12,  1.47s/it]\u001b[A\n",
      " 28%|██▊       | 35/124 [00:53<02:09,  1.45s/it]\u001b[A\n",
      " 29%|██▉       | 36/124 [00:55<02:15,  1.54s/it]\u001b[A\n",
      " 30%|██▉       | 37/124 [00:56<02:08,  1.48s/it]\u001b[A\n",
      " 31%|███       | 38/124 [00:58<02:06,  1.48s/it]\u001b[A\n",
      " 31%|███▏      | 39/124 [00:59<02:04,  1.46s/it]\u001b[A\n",
      " 32%|███▏      | 40/124 [01:00<02:02,  1.45s/it]\u001b[A\n",
      " 33%|███▎      | 41/124 [01:02<02:09,  1.56s/it]\u001b[A\n",
      " 34%|███▍      | 42/124 [01:04<02:07,  1.56s/it]\u001b[A\n",
      " 35%|███▍      | 43/124 [01:05<02:06,  1.56s/it]\u001b[A\n",
      " 35%|███▌      | 44/124 [01:07<01:58,  1.49s/it]\u001b[A\n",
      " 36%|███▋      | 45/124 [01:08<01:56,  1.48s/it]\u001b[A\n",
      " 37%|███▋      | 46/124 [01:10<01:57,  1.51s/it]\u001b[A\n",
      " 38%|███▊      | 47/124 [01:12<02:06,  1.64s/it]\u001b[A\n",
      " 39%|███▊      | 48/124 [01:13<02:04,  1.64s/it]\u001b[A\n",
      " 40%|███▉      | 49/124 [01:15<01:57,  1.57s/it]\u001b[A\n",
      " 40%|████      | 50/124 [01:16<01:53,  1.53s/it]\u001b[A\n",
      " 41%|████      | 51/124 [01:18<01:49,  1.50s/it]\u001b[A\n",
      " 42%|████▏     | 52/124 [01:19<01:51,  1.54s/it]\u001b[A\n",
      " 43%|████▎     | 53/124 [01:21<01:54,  1.61s/it]\u001b[A\n",
      " 44%|████▎     | 54/124 [01:22<01:50,  1.57s/it]\u001b[A\n",
      " 44%|████▍     | 55/124 [01:24<01:45,  1.52s/it]\u001b[A\n",
      " 45%|████▌     | 56/124 [01:25<01:42,  1.50s/it]\u001b[A\n",
      " 46%|████▌     | 57/124 [01:27<01:41,  1.51s/it]\u001b[A\n",
      " 47%|████▋     | 58/124 [01:29<01:42,  1.56s/it]\u001b[A\n",
      " 48%|████▊     | 59/124 [01:30<01:40,  1.55s/it]\u001b[A\n",
      " 48%|████▊     | 60/124 [01:31<01:37,  1.52s/it]\u001b[A\n",
      " 49%|████▉     | 61/124 [01:33<01:37,  1.55s/it]\u001b[A\n",
      " 50%|█████     | 62/124 [01:35<01:35,  1.54s/it]\u001b[A\n",
      " 51%|█████     | 63/124 [01:36<01:32,  1.51s/it]\u001b[A\n",
      " 52%|█████▏    | 64/124 [01:38<01:34,  1.58s/it]\u001b[A\n",
      " 52%|█████▏    | 65/124 [01:39<01:33,  1.59s/it]\u001b[A\n",
      " 53%|█████▎    | 66/124 [01:41<01:30,  1.56s/it]\u001b[A\n",
      " 54%|█████▍    | 67/124 [01:43<01:30,  1.59s/it]\u001b[A\n",
      " 55%|█████▍    | 68/124 [01:44<01:29,  1.59s/it]\u001b[A\n",
      " 56%|█████▌    | 69/124 [01:46<01:24,  1.54s/it]\u001b[A\n",
      " 56%|█████▋    | 70/124 [01:48<01:29,  1.65s/it]\u001b[A\n",
      " 57%|█████▋    | 71/124 [01:49<01:29,  1.69s/it]\u001b[A\n",
      " 58%|█████▊    | 72/124 [01:51<01:22,  1.60s/it]\u001b[A\n",
      " 59%|█████▉    | 73/124 [01:52<01:21,  1.60s/it]\u001b[A\n",
      " 60%|█████▉    | 74/124 [01:54<01:20,  1.60s/it]\u001b[A\n",
      " 60%|██████    | 75/124 [01:56<01:20,  1.65s/it]\u001b[A\n",
      " 61%|██████▏   | 76/124 [01:57<01:18,  1.64s/it]\u001b[A\n",
      " 62%|██████▏   | 77/124 [01:59<01:14,  1.58s/it]\u001b[A\n",
      " 63%|██████▎   | 78/124 [02:00<01:10,  1.53s/it]\u001b[A\n",
      " 64%|██████▎   | 79/124 [02:02<01:08,  1.52s/it]\u001b[A\n",
      " 65%|██████▍   | 80/124 [02:03<01:09,  1.58s/it]\u001b[A\n",
      " 65%|██████▌   | 81/124 [02:05<01:10,  1.65s/it]\u001b[A\n",
      " 66%|██████▌   | 82/124 [02:06<01:05,  1.56s/it]\u001b[A\n",
      " 67%|██████▋   | 83/124 [02:08<01:02,  1.52s/it]\u001b[A\n",
      " 68%|██████▊   | 84/124 [02:09<01:01,  1.53s/it]\u001b[A\n",
      " 69%|██████▊   | 85/124 [02:11<00:59,  1.54s/it]\u001b[A\n",
      " 69%|██████▉   | 86/124 [02:13<01:00,  1.59s/it]\u001b[A\n",
      " 70%|███████   | 87/124 [02:15<01:02,  1.69s/it]\u001b[A\n",
      " 71%|███████   | 88/124 [02:16<00:57,  1.60s/it]\u001b[A\n",
      " 72%|███████▏  | 89/124 [02:18<00:55,  1.59s/it]\u001b[A\n",
      " 73%|███████▎  | 90/124 [02:19<00:52,  1.54s/it]\u001b[A\n",
      " 73%|███████▎  | 91/124 [02:20<00:49,  1.49s/it]\u001b[A\n",
      " 74%|███████▍  | 92/124 [02:22<00:50,  1.57s/it]\u001b[A\n",
      " 75%|███████▌  | 93/124 [02:24<00:48,  1.57s/it]\u001b[A\n",
      " 76%|███████▌  | 94/124 [02:25<00:47,  1.58s/it]\u001b[A\n",
      " 77%|███████▋  | 95/124 [02:27<00:43,  1.50s/it]\u001b[A\n",
      " 77%|███████▋  | 96/124 [02:28<00:42,  1.53s/it]\u001b[A\n",
      " 78%|███████▊  | 97/124 [02:30<00:41,  1.53s/it]\u001b[A\n",
      " 79%|███████▉  | 98/124 [02:31<00:40,  1.57s/it]\u001b[A\n",
      " 80%|███████▉  | 99/124 [02:33<00:38,  1.55s/it]\u001b[A\n",
      " 81%|████████  | 100/124 [02:34<00:36,  1.52s/it]\u001b[A\n",
      " 81%|████████▏ | 101/124 [02:36<00:35,  1.53s/it]\u001b[A\n",
      " 82%|████████▏ | 102/124 [02:37<00:33,  1.53s/it]\u001b[A\n",
      " 83%|████████▎ | 103/124 [02:39<00:34,  1.63s/it]\u001b[A\n",
      " 84%|████████▍ | 104/124 [02:41<00:32,  1.64s/it]\u001b[A\n",
      " 85%|████████▍ | 105/124 [02:43<00:30,  1.60s/it]\u001b[A\n",
      " 85%|████████▌ | 106/124 [02:44<00:28,  1.61s/it]\u001b[A\n",
      " 86%|████████▋ | 107/124 [02:46<00:26,  1.58s/it]\u001b[A\n",
      " 87%|████████▋ | 108/124 [02:47<00:24,  1.52s/it]\u001b[A\n",
      " 88%|████████▊ | 109/124 [02:49<00:23,  1.55s/it]\u001b[A\n",
      " 89%|████████▊ | 110/124 [02:50<00:22,  1.58s/it]\u001b[A\n",
      " 90%|████████▉ | 111/124 [02:52<00:20,  1.56s/it]\u001b[A\n",
      " 90%|█████████ | 112/124 [02:53<00:18,  1.58s/it]\u001b[A\n",
      " 91%|█████████ | 113/124 [02:55<00:16,  1.53s/it]\u001b[A\n",
      " 92%|█████████▏| 114/124 [02:57<00:15,  1.57s/it]\u001b[A\n",
      " 93%|█████████▎| 115/124 [02:58<00:14,  1.64s/it]\u001b[A\n",
      " 94%|█████████▎| 116/124 [03:00<00:12,  1.55s/it]\u001b[A\n",
      " 94%|█████████▍| 117/124 [03:01<00:10,  1.51s/it]\u001b[A\n",
      " 95%|█████████▌| 118/124 [03:02<00:08,  1.48s/it]\u001b[A\n",
      " 96%|█████████▌| 119/124 [03:04<00:07,  1.47s/it]\u001b[A\n",
      " 97%|█████████▋| 120/124 [03:06<00:06,  1.51s/it]\u001b[A\n",
      " 98%|█████████▊| 121/124 [03:07<00:04,  1.55s/it]\u001b[A\n",
      " 98%|█████████▊| 122/124 [03:09<00:03,  1.52s/it]\u001b[A\n",
      " 99%|█████████▉| 123/124 [03:10<00:01,  1.46s/it]\u001b[A\n",
      "100%|██████████| 124/124 [03:11<00:00,  1.55s/it]\n",
      " 38%|███▊      | 156/412 [25:57<5:07:24, 72.05s/it]"
     ]
    },
    {
     "name": "stdout",
     "output_type": "stream",
     "text": [
      "https://reviews.webmd.com/drugs/drugreview-48-prolixin-decanoate-solution\n"
     ]
    },
    {
     "name": "stderr",
     "output_type": "stream",
     "text": [
      "\n",
      "  0%|          | 0/1 [00:00<?, ?it/s]\u001b[A\n",
      "100%|██████████| 1/1 [00:00<00:00,  1.61it/s]\n",
      " 38%|███▊      | 157/412 [26:00<3:37:24, 51.15s/it]"
     ]
    },
    {
     "name": "stdout",
     "output_type": "stream",
     "text": [
      "https://reviews.webmd.com/drugs/drugreview-4870-venlafaxine-hcl\n"
     ]
    },
    {
     "name": "stderr",
     "output_type": "stream",
     "text": [
      "\n",
      "  0%|          | 0/28 [00:00<?, ?it/s]\u001b[A\n",
      "  4%|▎         | 1/28 [00:00<00:23,  1.14it/s]\u001b[A\n",
      "  7%|▋         | 2/28 [00:02<00:32,  1.24s/it]\u001b[A\n",
      " 11%|█         | 3/28 [00:03<00:31,  1.25s/it]\u001b[A\n",
      " 14%|█▍        | 4/28 [00:05<00:32,  1.33s/it]\u001b[A\n",
      " 18%|█▊        | 5/28 [00:06<00:31,  1.36s/it]\u001b[A\n",
      " 21%|██▏       | 6/28 [00:07<00:30,  1.38s/it]\u001b[A\n",
      " 25%|██▌       | 7/28 [00:09<00:28,  1.35s/it]\u001b[A\n",
      " 29%|██▊       | 8/28 [00:10<00:26,  1.34s/it]\u001b[A\n",
      " 32%|███▏      | 9/28 [00:11<00:25,  1.36s/it]\u001b[A\n",
      " 36%|███▌      | 10/28 [00:13<00:23,  1.31s/it]\u001b[A\n",
      " 39%|███▉      | 11/28 [00:15<00:25,  1.49s/it]\u001b[A\n",
      " 43%|████▎     | 12/28 [00:16<00:23,  1.45s/it]\u001b[A\n",
      " 46%|████▋     | 13/28 [00:17<00:20,  1.40s/it]\u001b[A\n",
      " 50%|█████     | 14/28 [00:19<00:19,  1.39s/it]\u001b[A\n",
      " 54%|█████▎    | 15/28 [00:20<00:17,  1.36s/it]\u001b[A\n",
      " 57%|█████▋    | 16/28 [00:21<00:16,  1.37s/it]\u001b[A\n",
      " 61%|██████    | 17/28 [00:23<00:16,  1.48s/it]\u001b[A\n",
      " 64%|██████▍   | 18/28 [00:24<00:14,  1.44s/it]\u001b[A\n",
      " 68%|██████▊   | 19/28 [00:26<00:13,  1.45s/it]\u001b[A\n",
      " 71%|███████▏  | 20/28 [00:27<00:11,  1.47s/it]\u001b[A\n",
      " 75%|███████▌  | 21/28 [00:29<00:10,  1.45s/it]\u001b[A\n",
      " 79%|███████▊  | 22/28 [00:30<00:08,  1.48s/it]\u001b[A\n",
      " 82%|████████▏ | 23/28 [00:32<00:07,  1.43s/it]\u001b[A\n",
      " 86%|████████▌ | 24/28 [00:33<00:05,  1.46s/it]\u001b[A\n",
      " 89%|████████▉ | 25/28 [00:34<00:04,  1.42s/it]\u001b[A\n",
      " 93%|█████████▎| 26/28 [00:36<00:02,  1.44s/it]\u001b[A\n",
      " 96%|█████████▋| 27/28 [00:37<00:01,  1.45s/it]\u001b[A\n",
      "100%|██████████| 28/28 [00:39<00:00,  1.41s/it]\n",
      " 38%|███▊      | 158/412 [26:42<3:24:41, 48.35s/it]"
     ]
    },
    {
     "name": "stdout",
     "output_type": "stream",
     "text": [
      "https://reviews.webmd.com/drugs/drugreview-4870-venlafaxine-hcl-er\n"
     ]
    },
    {
     "name": "stderr",
     "output_type": "stream",
     "text": [
      "\n",
      "  0%|          | 0/28 [00:00<?, ?it/s]\u001b[A\n",
      "  4%|▎         | 1/28 [00:00<00:21,  1.27it/s]\u001b[A\n",
      "  7%|▋         | 2/28 [00:01<00:21,  1.20it/s]\u001b[A\n",
      " 11%|█         | 3/28 [00:02<00:21,  1.17it/s]\u001b[A\n",
      " 14%|█▍        | 4/28 [00:03<00:21,  1.13it/s]\u001b[A\n",
      " 18%|█▊        | 5/28 [00:04<00:23,  1.00s/it]\u001b[A\n",
      " 21%|██▏       | 6/28 [00:05<00:21,  1.02it/s]\u001b[A\n",
      " 25%|██▌       | 7/28 [00:06<00:19,  1.06it/s]\u001b[A\n",
      " 29%|██▊       | 8/28 [00:07<00:18,  1.08it/s]\u001b[A\n",
      " 32%|███▏      | 9/28 [00:08<00:17,  1.10it/s]\u001b[A\n",
      " 36%|███▌      | 10/28 [00:09<00:15,  1.15it/s]\u001b[A\n",
      " 39%|███▉      | 11/28 [00:10<00:16,  1.05it/s]\u001b[A\n",
      " 43%|████▎     | 12/28 [00:10<00:14,  1.10it/s]\u001b[A\n",
      " 46%|████▋     | 13/28 [00:11<00:13,  1.10it/s]\u001b[A\n",
      " 50%|█████     | 14/28 [00:12<00:12,  1.08it/s]\u001b[A\n",
      " 54%|█████▎    | 15/28 [00:13<00:11,  1.10it/s]\u001b[A\n",
      " 57%|█████▋    | 16/28 [00:14<00:11,  1.03it/s]\u001b[A\n",
      " 61%|██████    | 17/28 [00:15<00:10,  1.05it/s]\u001b[A\n",
      " 64%|██████▍   | 18/28 [00:16<00:09,  1.07it/s]\u001b[A\n",
      " 68%|██████▊   | 19/28 [00:17<00:08,  1.09it/s]\u001b[A\n",
      " 71%|███████▏  | 20/28 [00:18<00:07,  1.08it/s]\u001b[A\n",
      " 75%|███████▌  | 21/28 [00:19<00:06,  1.14it/s]\u001b[A\n",
      " 79%|███████▊  | 22/28 [00:20<00:05,  1.05it/s]\u001b[A\n",
      " 82%|████████▏ | 23/28 [00:21<00:04,  1.11it/s]\u001b[A\n",
      " 86%|████████▌ | 24/28 [00:22<00:03,  1.09it/s]\u001b[A\n",
      " 89%|████████▉ | 25/28 [00:22<00:02,  1.11it/s]\u001b[A\n",
      " 93%|█████████▎| 26/28 [00:23<00:01,  1.12it/s]\u001b[A\n",
      " 96%|█████████▋| 27/28 [00:24<00:00,  1.12it/s]\u001b[A\n",
      "100%|██████████| 28/28 [00:25<00:00,  1.10it/s]\n",
      " 39%|███▊      | 159/412 [27:08<2:56:20, 41.82s/it]"
     ]
    },
    {
     "name": "stdout",
     "output_type": "stream",
     "text": [
      "https://reviews.webmd.com/drugs/drugreview-4896-effexor-xr\n"
     ]
    },
    {
     "name": "stderr",
     "output_type": "stream",
     "text": [
      "\n",
      "  0%|          | 0/179 [00:00<?, ?it/s]\u001b[A\n",
      "  1%|          | 1/179 [00:00<02:14,  1.32it/s]\u001b[A\n",
      "  1%|          | 2/179 [00:02<04:00,  1.36s/it]\u001b[A\n",
      "  2%|▏         | 3/179 [00:04<04:30,  1.54s/it]\u001b[A\n",
      "  2%|▏         | 4/179 [00:06<05:00,  1.72s/it]\u001b[A\n",
      "  3%|▎         | 5/179 [00:08<05:01,  1.73s/it]\u001b[A\n",
      "  3%|▎         | 6/179 [00:09<04:49,  1.67s/it]\u001b[A\n",
      "  4%|▍         | 7/179 [00:11<04:58,  1.73s/it]\u001b[A\n",
      "  4%|▍         | 8/179 [00:13<04:47,  1.68s/it]\u001b[A\n",
      "  5%|▌         | 9/179 [00:14<04:37,  1.63s/it]\u001b[A\n",
      "  6%|▌         | 10/179 [00:16<04:33,  1.62s/it]\u001b[A\n",
      "  6%|▌         | 11/179 [00:18<04:44,  1.69s/it]\u001b[A\n",
      "  7%|▋         | 12/179 [00:19<04:43,  1.70s/it]\u001b[A\n",
      "  7%|▋         | 13/179 [00:21<04:36,  1.66s/it]\u001b[A\n",
      "  8%|▊         | 14/179 [00:23<04:37,  1.68s/it]\u001b[A\n",
      "  8%|▊         | 15/179 [00:24<04:39,  1.70s/it]\u001b[A\n",
      "  9%|▉         | 16/179 [00:26<04:41,  1.73s/it]\u001b[A\n",
      "  9%|▉         | 17/179 [00:28<04:33,  1.69s/it]\u001b[A\n",
      " 10%|█         | 18/179 [00:29<04:37,  1.72s/it]\u001b[A\n",
      " 11%|█         | 19/179 [00:31<04:32,  1.70s/it]\u001b[A\n",
      " 11%|█         | 20/179 [00:33<04:25,  1.67s/it]\u001b[A\n",
      " 12%|█▏        | 21/179 [00:35<04:32,  1.73s/it]\u001b[A\n",
      " 12%|█▏        | 22/179 [00:36<04:32,  1.74s/it]\u001b[A\n",
      " 13%|█▎        | 23/179 [00:38<04:29,  1.73s/it]\u001b[A\n",
      " 13%|█▎        | 24/179 [00:40<04:21,  1.69s/it]\u001b[A\n",
      " 14%|█▍        | 25/179 [00:41<04:17,  1.67s/it]\u001b[A\n",
      " 15%|█▍        | 26/179 [00:43<04:14,  1.66s/it]\u001b[A\n",
      " 15%|█▌        | 27/179 [00:45<04:23,  1.74s/it]\u001b[A\n",
      " 16%|█▌        | 28/179 [00:46<04:10,  1.66s/it]\u001b[A\n",
      " 16%|█▌        | 29/179 [00:48<04:08,  1.66s/it]\u001b[A\n",
      " 17%|█▋        | 30/179 [00:50<04:10,  1.68s/it]\u001b[A\n",
      " 17%|█▋        | 31/179 [00:51<04:01,  1.63s/it]\u001b[A\n",
      " 18%|█▊        | 32/179 [00:53<04:11,  1.71s/it]\u001b[A\n",
      " 18%|█▊        | 33/179 [00:55<04:05,  1.68s/it]\u001b[A\n",
      " 19%|█▉        | 34/179 [00:56<03:51,  1.59s/it]\u001b[A\n",
      " 20%|█▉        | 35/179 [00:58<03:41,  1.54s/it]\u001b[A\n",
      " 20%|██        | 36/179 [00:59<03:49,  1.61s/it]\u001b[A\n",
      " 21%|██        | 37/179 [01:01<03:48,  1.61s/it]\u001b[A\n",
      " 21%|██        | 38/179 [01:03<03:51,  1.64s/it]\u001b[A\n",
      " 22%|██▏       | 39/179 [01:04<03:41,  1.58s/it]\u001b[A\n",
      " 22%|██▏       | 40/179 [01:06<03:41,  1.59s/it]\u001b[A\n",
      " 23%|██▎       | 41/179 [01:07<03:36,  1.57s/it]\u001b[A\n",
      " 23%|██▎       | 42/179 [01:09<03:36,  1.58s/it]\u001b[A\n",
      " 24%|██▍       | 43/179 [01:10<03:31,  1.56s/it]\u001b[A\n",
      " 25%|██▍       | 44/179 [01:12<03:36,  1.61s/it]\u001b[A\n",
      " 25%|██▌       | 45/179 [01:14<03:36,  1.62s/it]\u001b[A\n",
      " 26%|██▌       | 46/179 [01:15<03:39,  1.65s/it]\u001b[A\n",
      " 26%|██▋       | 47/179 [01:17<03:36,  1.64s/it]\u001b[A\n",
      " 27%|██▋       | 48/179 [01:19<03:38,  1.67s/it]\u001b[A\n",
      " 27%|██▋       | 49/179 [01:21<03:46,  1.74s/it]\u001b[A\n",
      " 28%|██▊       | 50/179 [01:22<03:39,  1.70s/it]\u001b[A\n",
      " 28%|██▊       | 51/179 [01:24<03:33,  1.67s/it]\u001b[A\n",
      " 29%|██▉       | 52/179 [01:26<03:35,  1.70s/it]\u001b[A\n",
      " 30%|██▉       | 53/179 [01:27<03:34,  1.70s/it]\u001b[A\n",
      " 30%|███       | 54/179 [01:29<03:26,  1.65s/it]\u001b[A\n",
      " 31%|███       | 55/179 [01:31<03:27,  1.68s/it]\u001b[A\n",
      " 31%|███▏      | 56/179 [01:32<03:24,  1.67s/it]\u001b[A\n",
      " 32%|███▏      | 57/179 [01:34<03:21,  1.65s/it]\u001b[A\n",
      " 32%|███▏      | 58/179 [01:35<03:17,  1.63s/it]\u001b[A\n",
      " 33%|███▎      | 59/179 [01:37<03:16,  1.64s/it]\u001b[A\n",
      " 34%|███▎      | 60/179 [01:39<03:11,  1.61s/it]\u001b[A\n",
      " 34%|███▍      | 61/179 [01:40<03:17,  1.67s/it]\u001b[A\n",
      " 35%|███▍      | 62/179 [01:42<03:14,  1.66s/it]\u001b[A\n",
      " 35%|███▌      | 63/179 [01:44<03:11,  1.65s/it]\u001b[A\n",
      " 36%|███▌      | 64/179 [01:45<03:04,  1.61s/it]\u001b[A\n",
      " 36%|███▋      | 65/179 [01:47<03:07,  1.64s/it]\u001b[A\n",
      " 37%|███▋      | 66/179 [01:49<03:03,  1.62s/it]\u001b[A\n",
      " 37%|███▋      | 67/179 [01:50<03:07,  1.68s/it]\u001b[A\n",
      " 38%|███▊      | 68/179 [01:52<03:02,  1.64s/it]\u001b[A\n",
      " 39%|███▊      | 69/179 [01:54<03:03,  1.66s/it]\u001b[A\n",
      " 39%|███▉      | 70/179 [01:55<02:56,  1.62s/it]\u001b[A\n",
      " 40%|███▉      | 71/179 [01:57<02:54,  1.62s/it]\u001b[A\n",
      " 40%|████      | 72/179 [01:59<03:01,  1.69s/it]\u001b[A\n",
      " 41%|████      | 73/179 [02:00<03:00,  1.71s/it]\u001b[A\n",
      " 41%|████▏     | 74/179 [02:02<02:51,  1.63s/it]\u001b[A\n",
      " 42%|████▏     | 75/179 [02:03<02:52,  1.66s/it]\u001b[A\n",
      " 42%|████▏     | 76/179 [02:05<02:47,  1.62s/it]\u001b[A\n",
      " 43%|████▎     | 77/179 [02:07<02:46,  1.64s/it]\u001b[A\n",
      " 44%|████▎     | 78/179 [02:08<02:44,  1.63s/it]\u001b[A\n",
      " 44%|████▍     | 79/179 [02:10<02:41,  1.62s/it]\u001b[A\n",
      " 45%|████▍     | 80/179 [02:12<02:39,  1.61s/it]\u001b[A\n",
      " 45%|████▌     | 81/179 [02:13<02:32,  1.56s/it]\u001b[A\n",
      " 46%|████▌     | 82/179 [02:15<02:35,  1.60s/it]\u001b[A\n",
      " 46%|████▋     | 83/179 [02:16<02:37,  1.64s/it]\u001b[A\n",
      " 47%|████▋     | 84/179 [02:18<02:33,  1.61s/it]\u001b[A\n",
      " 47%|████▋     | 85/179 [02:19<02:27,  1.56s/it]\u001b[A\n",
      " 48%|████▊     | 86/179 [02:21<02:33,  1.65s/it]\u001b[A\n",
      " 49%|████▊     | 87/179 [02:23<02:33,  1.67s/it]\u001b[A\n",
      " 49%|████▉     | 88/179 [02:25<02:29,  1.64s/it]\u001b[A\n",
      " 50%|████▉     | 89/179 [02:27<02:37,  1.75s/it]\u001b[A\n",
      " 50%|█████     | 90/179 [02:28<02:32,  1.72s/it]\u001b[A\n",
      " 51%|█████     | 91/179 [02:30<02:25,  1.66s/it]\u001b[A\n",
      " 51%|█████▏    | 92/179 [02:31<02:19,  1.61s/it]\u001b[A\n",
      " 52%|█████▏    | 93/179 [02:33<02:14,  1.57s/it]\u001b[A\n",
      " 53%|█████▎    | 94/179 [02:35<02:21,  1.66s/it]\u001b[A\n",
      " 53%|█████▎    | 95/179 [02:36<02:17,  1.64s/it]\u001b[A\n",
      " 54%|█████▎    | 96/179 [02:38<02:14,  1.63s/it]\u001b[A\n",
      " 54%|█████▍    | 97/179 [02:39<02:16,  1.67s/it]\u001b[A\n",
      " 55%|█████▍    | 98/179 [02:41<02:16,  1.68s/it]\u001b[A\n",
      " 55%|█████▌    | 99/179 [02:43<02:08,  1.60s/it]\u001b[A\n",
      " 56%|█████▌    | 100/179 [02:44<02:12,  1.68s/it]\u001b[A\n",
      " 56%|█████▋    | 101/179 [02:46<02:05,  1.61s/it]\u001b[A\n",
      " 57%|█████▋    | 102/179 [02:47<02:00,  1.57s/it]\u001b[A\n",
      " 58%|█████▊    | 103/179 [02:49<02:00,  1.59s/it]\u001b[A\n",
      " 58%|█████▊    | 104/179 [02:51<02:00,  1.61s/it]\u001b[A\n",
      " 59%|█████▊    | 105/179 [02:52<01:55,  1.57s/it]\u001b[A\n",
      " 59%|█████▉    | 106/179 [02:54<01:57,  1.60s/it]\u001b[A\n",
      " 60%|█████▉    | 107/179 [02:55<01:54,  1.59s/it]\u001b[A\n",
      " 60%|██████    | 108/179 [02:57<01:50,  1.56s/it]\u001b[A\n",
      " 61%|██████    | 109/179 [02:59<01:51,  1.59s/it]\u001b[A\n",
      " 61%|██████▏   | 110/179 [03:00<01:46,  1.54s/it]\u001b[A\n",
      " 62%|██████▏   | 111/179 [03:02<01:52,  1.65s/it]\u001b[A\n",
      " 63%|██████▎   | 112/179 [03:04<01:53,  1.69s/it]\u001b[A\n",
      " 63%|██████▎   | 113/179 [03:05<01:50,  1.68s/it]\u001b[A\n",
      " 64%|██████▎   | 114/179 [03:07<01:49,  1.69s/it]\u001b[A\n",
      " 64%|██████▍   | 115/179 [03:09<01:48,  1.69s/it]\u001b[A\n",
      " 65%|██████▍   | 116/179 [03:10<01:46,  1.69s/it]\u001b[A\n",
      " 65%|██████▌   | 117/179 [03:12<01:50,  1.78s/it]\u001b[A\n",
      " 66%|██████▌   | 118/179 [03:14<01:45,  1.73s/it]\u001b[A\n",
      " 66%|██████▋   | 119/179 [03:16<01:40,  1.67s/it]\u001b[A\n",
      " 67%|██████▋   | 120/179 [03:17<01:40,  1.70s/it]\u001b[A\n",
      " 68%|██████▊   | 121/179 [03:19<01:44,  1.80s/it]\u001b[A\n",
      " 68%|██████▊   | 122/179 [03:21<01:42,  1.80s/it]\u001b[A\n",
      " 69%|██████▊   | 123/179 [03:23<01:40,  1.79s/it]\u001b[A\n",
      " 69%|██████▉   | 124/179 [03:25<01:37,  1.77s/it]\u001b[A\n",
      " 70%|██████▉   | 125/179 [03:26<01:34,  1.76s/it]\u001b[A\n",
      " 70%|███████   | 126/179 [03:28<01:30,  1.71s/it]\u001b[A\n",
      " 71%|███████   | 127/179 [03:30<01:26,  1.67s/it]\u001b[A\n",
      " 72%|███████▏  | 128/179 [03:32<01:33,  1.83s/it]\u001b[A\n",
      " 72%|███████▏  | 129/179 [03:33<01:28,  1.76s/it]\u001b[A\n",
      " 73%|███████▎  | 130/179 [03:35<01:25,  1.74s/it]\u001b[A\n",
      " 73%|███████▎  | 131/179 [03:37<01:23,  1.74s/it]\u001b[A\n",
      " 74%|███████▎  | 132/179 [03:38<01:21,  1.73s/it]\u001b[A\n",
      " 74%|███████▍  | 133/179 [03:40<01:21,  1.78s/it]\u001b[A\n",
      " 75%|███████▍  | 134/179 [03:42<01:22,  1.84s/it]\u001b[A\n",
      " 75%|███████▌  | 135/179 [03:44<01:17,  1.76s/it]\u001b[A\n",
      " 76%|███████▌  | 136/179 [03:45<01:11,  1.67s/it]\u001b[A\n",
      " 77%|███████▋  | 137/179 [03:47<01:09,  1.66s/it]\u001b[A\n",
      " 77%|███████▋  | 138/179 [03:49<01:08,  1.68s/it]\u001b[A\n",
      " 78%|███████▊  | 139/179 [03:51<01:09,  1.74s/it]\u001b[A\n",
      " 78%|███████▊  | 140/179 [03:52<01:05,  1.69s/it]\u001b[A\n",
      " 79%|███████▉  | 141/179 [03:54<01:02,  1.66s/it]\u001b[A\n",
      " 79%|███████▉  | 142/179 [03:55<01:00,  1.63s/it]\u001b[A\n",
      " 80%|███████▉  | 143/179 [03:57<00:58,  1.62s/it]\u001b[A\n",
      " 80%|████████  | 144/179 [03:58<00:54,  1.57s/it]\u001b[A\n",
      " 81%|████████  | 145/179 [04:00<00:57,  1.70s/it]\u001b[A\n",
      " 82%|████████▏ | 146/179 [04:02<00:53,  1.63s/it]\u001b[A\n",
      " 82%|████████▏ | 147/179 [04:03<00:51,  1.60s/it]\u001b[A\n",
      " 83%|████████▎ | 148/179 [04:05<00:50,  1.61s/it]\u001b[A\n",
      " 83%|████████▎ | 149/179 [04:07<00:47,  1.59s/it]\u001b[A\n",
      " 84%|████████▍ | 150/179 [04:08<00:47,  1.65s/it]\u001b[A\n",
      " 84%|████████▍ | 151/179 [04:11<00:51,  1.83s/it]\u001b[A\n",
      " 85%|████████▍ | 152/179 [04:12<00:46,  1.72s/it]\u001b[A\n",
      " 85%|████████▌ | 153/179 [04:14<00:44,  1.70s/it]\u001b[A\n",
      " 86%|████████▌ | 154/179 [04:15<00:41,  1.66s/it]\u001b[A\n",
      " 87%|████████▋ | 155/179 [04:17<00:40,  1.70s/it]\u001b[A\n",
      " 87%|████████▋ | 156/179 [04:19<00:38,  1.68s/it]\u001b[A\n",
      " 88%|████████▊ | 157/179 [04:20<00:37,  1.69s/it]\u001b[A\n",
      " 88%|████████▊ | 158/179 [04:22<00:35,  1.69s/it]\u001b[A\n",
      " 89%|████████▉ | 159/179 [04:24<00:33,  1.69s/it]\u001b[A\n",
      " 89%|████████▉ | 160/179 [04:25<00:32,  1.69s/it]\u001b[A\n",
      " 90%|████████▉ | 161/179 [04:27<00:30,  1.71s/it]\u001b[A\n",
      " 91%|█████████ | 162/179 [04:29<00:28,  1.70s/it]\u001b[A\n",
      " 91%|█████████ | 163/179 [04:30<00:26,  1.66s/it]\u001b[A\n",
      " 92%|█████████▏| 164/179 [04:32<00:25,  1.67s/it]\u001b[A\n",
      " 92%|█████████▏| 165/179 [04:34<00:22,  1.63s/it]\u001b[A\n",
      " 93%|█████████▎| 166/179 [04:35<00:21,  1.64s/it]\u001b[A\n",
      " 93%|█████████▎| 167/179 [04:37<00:21,  1.75s/it]\u001b[A\n",
      " 94%|█████████▍| 168/179 [04:39<00:19,  1.75s/it]\u001b[A\n",
      " 94%|█████████▍| 169/179 [04:41<00:17,  1.72s/it]\u001b[A\n",
      " 95%|█████████▍| 170/179 [04:42<00:14,  1.64s/it]\u001b[A\n",
      " 96%|█████████▌| 171/179 [04:44<00:12,  1.60s/it]\u001b[A\n",
      " 96%|█████████▌| 172/179 [04:45<00:11,  1.63s/it]\u001b[A\n",
      " 97%|█████████▋| 173/179 [04:47<00:10,  1.70s/it]\u001b[A\n",
      " 97%|█████████▋| 174/179 [04:49<00:08,  1.68s/it]\u001b[A\n",
      " 98%|█████████▊| 175/179 [04:50<00:06,  1.63s/it]\u001b[A\n",
      " 98%|█████████▊| 176/179 [04:52<00:04,  1.56s/it]\u001b[A\n",
      " 99%|█████████▉| 177/179 [04:53<00:03,  1.55s/it]\u001b[A\n",
      " 99%|█████████▉| 178/179 [04:55<00:01,  1.59s/it]\u001b[A\n",
      "100%|██████████| 179/179 [04:57<00:00,  1.66s/it]\n",
      " 39%|███▉      | 160/412 [32:08<8:21:06, 119.31s/it]"
     ]
    },
    {
     "name": "stdout",
     "output_type": "stream",
     "text": [
      "https://reviews.webmd.com/drugs/drugreview-5044-fluphenazine-hcl\n"
     ]
    },
    {
     "name": "stderr",
     "output_type": "stream",
     "text": [
      "\n",
      "  0%|          | 0/1 [00:00<?, ?it/s]\u001b[A\n",
      "100%|██████████| 1/1 [00:00<00:00,  1.58it/s]\n",
      " 39%|███▉      | 161/412 [32:11<5:52:53, 84.36s/it] "
     ]
    },
    {
     "name": "stdout",
     "output_type": "stream",
     "text": [
      "https://reviews.webmd.com/drugs/drugreview-5044-fluphenazine-hcl-concentrate\n"
     ]
    },
    {
     "name": "stderr",
     "output_type": "stream",
     "text": [
      "\n",
      "  0%|          | 0/1 [00:00<?, ?it/s]\u001b[A\n",
      "100%|██████████| 1/1 [00:00<00:00,  1.41it/s]\n",
      " 39%|███▉      | 162/412 [32:13<4:08:14, 59.58s/it]"
     ]
    },
    {
     "name": "stdout",
     "output_type": "stream",
     "text": [
      "https://reviews.webmd.com/drugs/drugreview-5044-fluphenazine-hcl-elixir\n"
     ]
    },
    {
     "name": "stderr",
     "output_type": "stream",
     "text": [
      "\n",
      "  0%|          | 0/1 [00:00<?, ?it/s]\u001b[A\n",
      "100%|██████████| 1/1 [00:00<00:00,  1.55it/s]\n",
      " 40%|███▉      | 163/412 [32:14<2:55:00, 42.17s/it]"
     ]
    },
    {
     "name": "stdout",
     "output_type": "stream",
     "text": [
      "https://reviews.webmd.com/drugs/drugreview-5263-librium-capsule\n"
     ]
    },
    {
     "name": "stderr",
     "output_type": "stream",
     "text": [
      "\n",
      "  0%|          | 0/4 [00:00<?, ?it/s]\u001b[A\n",
      " 25%|██▌       | 1/4 [00:01<00:03,  1.11s/it]\u001b[A\n",
      " 50%|█████     | 2/4 [00:02<00:02,  1.32s/it]\u001b[A\n",
      " 75%|███████▌  | 3/4 [00:03<00:01,  1.36s/it]\u001b[A\n",
      "100%|██████████| 4/4 [00:05<00:00,  1.28s/it]\n",
      " 40%|███▉      | 164/412 [32:22<2:10:52, 31.66s/it]"
     ]
    },
    {
     "name": "stdout",
     "output_type": "stream",
     "text": [
      "https://reviews.webmd.com/drugs/drugreview-53-vistaril-solution\n"
     ]
    },
    {
     "name": "stderr",
     "output_type": "stream",
     "text": [
      "\n",
      "  0%|          | 0/2 [00:00<?, ?it/s]\u001b[A\n",
      " 50%|█████     | 1/2 [00:00<00:00,  1.18it/s]\u001b[A\n",
      "100%|██████████| 2/2 [00:01<00:00,  1.02it/s]\n",
      " 40%|████      | 165/412 [32:26<1:36:07, 23.35s/it]"
     ]
    },
    {
     "name": "stdout",
     "output_type": "stream",
     "text": [
      "https://reviews.webmd.com/drugs/drugreview-5419-haldol-tablet\n"
     ]
    },
    {
     "name": "stderr",
     "output_type": "stream",
     "text": [
      "\n",
      "  0%|          | 0/6 [00:00<?, ?it/s]\u001b[A\n",
      " 17%|█▋        | 1/6 [00:00<00:04,  1.13it/s]\u001b[A\n",
      " 33%|███▎      | 2/6 [00:02<00:04,  1.11s/it]\u001b[A\n",
      " 50%|█████     | 3/6 [00:03<00:03,  1.26s/it]\u001b[A\n",
      " 67%|██████▋   | 4/6 [00:04<00:02,  1.25s/it]\u001b[A\n",
      " 83%|████████▎ | 5/6 [00:06<00:01,  1.37s/it]\u001b[A\n",
      "100%|██████████| 6/6 [00:07<00:00,  1.26s/it]\n",
      " 41%|████      | 167/412 [32:36<56:22, 13.81s/it]  "
     ]
    },
    {
     "name": "stdout",
     "output_type": "stream",
     "text": [
      "skipping https://reviews.webmd.com/drugs/drugreview-5480-fluphenazine-enanthate-solution: page not found\n",
      "https://reviews.webmd.com/drugs/drugreview-5511-atarax-tablet\n"
     ]
    },
    {
     "name": "stderr",
     "output_type": "stream",
     "text": [
      "\n",
      "  0%|          | 0/11 [00:00<?, ?it/s]\u001b[A\n",
      "  9%|▉         | 1/11 [00:00<00:07,  1.27it/s]\u001b[A\n",
      " 18%|█▊        | 2/11 [00:02<00:10,  1.16s/it]\u001b[A\n",
      " 27%|██▋       | 3/11 [00:03<00:10,  1.31s/it]\u001b[A\n",
      " 36%|███▋      | 4/11 [00:05<00:10,  1.50s/it]\u001b[A\n",
      " 45%|████▌     | 5/11 [00:06<00:08,  1.42s/it]\u001b[A\n",
      " 55%|█████▍    | 6/11 [00:08<00:07,  1.43s/it]\u001b[A\n",
      " 64%|██████▎   | 7/11 [00:09<00:05,  1.38s/it]\u001b[A\n",
      " 73%|███████▎  | 8/11 [00:10<00:04,  1.39s/it]\u001b[A\n",
      " 82%|████████▏ | 9/11 [00:12<00:03,  1.51s/it]\u001b[A\n",
      " 91%|█████████ | 10/11 [00:14<00:01,  1.56s/it]\u001b[A\n",
      "100%|██████████| 11/11 [00:15<00:00,  1.43s/it]\n",
      " 41%|████      | 168/412 [32:54<1:00:57, 14.99s/it]"
     ]
    },
    {
     "name": "stdout",
     "output_type": "stream",
     "text": [
      "https://reviews.webmd.com/drugs/drugreview-5544-loxitane-capsule\n"
     ]
    },
    {
     "name": "stderr",
     "output_type": "stream",
     "text": [
      "\n",
      "  0%|          | 0/1 [00:00<?, ?it/s]\u001b[A\n",
      "100%|██████████| 1/1 [00:00<00:00,  1.93it/s]\n",
      " 41%|████▏     | 170/412 [32:58<32:58,  8.18s/it]"
     ]
    },
    {
     "name": "stdout",
     "output_type": "stream",
     "text": [
      "skipping https://reviews.webmd.com/drugs/drugreview-5554-loxitane-solution: page not found\n"
     ]
    },
    {
     "name": "stderr",
     "output_type": "stream",
     "text": [
      " 42%|████▏     | 171/412 [32:59<24:17,  6.05s/it]"
     ]
    },
    {
     "name": "stdout",
     "output_type": "stream",
     "text": [
      "skipping https://reviews.webmd.com/drugs/drugreview-5555-loxapine-hcl-solution: page not found\n",
      "https://reviews.webmd.com/drugs/drugreview-5556-loxitane-c-concentrate\n"
     ]
    },
    {
     "name": "stderr",
     "output_type": "stream",
     "text": [
      " 42%|████▏     | 172/412 [33:00<18:45,  4.69s/it]"
     ]
    },
    {
     "name": "stdout",
     "output_type": "stream",
     "text": [
      "https://reviews.webmd.com/drugs/drugreview-5557-loxapine-hcl-concentrate\n"
     ]
    },
    {
     "name": "stderr",
     "output_type": "stream",
     "text": [
      "\n",
      "  0%|          | 0/1 [00:00<?, ?it/s]\u001b[A\n",
      "100%|██████████| 1/1 [00:00<00:00,  1.36it/s]\n",
      " 42%|████▏     | 173/412 [33:03<16:07,  4.05s/it]"
     ]
    },
    {
     "name": "stdout",
     "output_type": "stream",
     "text": [
      "https://reviews.webmd.com/drugs/drugreview-57007-sk-lygen-capsule\n"
     ]
    },
    {
     "name": "stderr",
     "output_type": "stream",
     "text": [
      " 42%|████▏     | 174/412 [33:05<13:22,  3.37s/it]"
     ]
    },
    {
     "name": "stdout",
     "output_type": "stream",
     "text": [
      "https://reviews.webmd.com/drugs/drugreview-57008-a-poxide-capsule\n"
     ]
    },
    {
     "name": "stderr",
     "output_type": "stream",
     "text": [
      "\n",
      "  0%|          | 0/1 [00:00<?, ?it/s]\u001b[A\n",
      "100%|██████████| 1/1 [00:00<00:00,  1.91it/s]\n",
      " 42%|████▏     | 175/412 [33:07<11:47,  2.99s/it]"
     ]
    },
    {
     "name": "stdout",
     "output_type": "stream",
     "text": [
      "https://reviews.webmd.com/drugs/drugreview-57009-cdp-capsule\n"
     ]
    },
    {
     "name": "stderr",
     "output_type": "stream",
     "text": [
      " 43%|████▎     | 176/412 [33:08<10:07,  2.58s/it]"
     ]
    },
    {
     "name": "stdout",
     "output_type": "stream",
     "text": [
      "https://reviews.webmd.com/drugs/drugreview-57010-icn-azepox-capsule\n"
     ]
    },
    {
     "name": "stderr",
     "output_type": "stream",
     "text": [
      " 43%|████▎     | 177/412 [33:10<09:03,  2.31s/it]"
     ]
    },
    {
     "name": "stdout",
     "output_type": "stream",
     "text": [
      "https://reviews.webmd.com/drugs/drugreview-57011-sereen-capsule\n"
     ]
    },
    {
     "name": "stderr",
     "output_type": "stream",
     "text": [
      " 43%|████▎     | 178/412 [33:12<08:19,  2.13s/it]"
     ]
    },
    {
     "name": "stdout",
     "output_type": "stream",
     "text": [
      "https://reviews.webmd.com/drugs/drugreview-57012-lipoxide-capsule\n"
     ]
    },
    {
     "name": "stderr",
     "output_type": "stream",
     "text": [
      " 43%|████▎     | 179/412 [33:13<07:42,  1.99s/it]"
     ]
    },
    {
     "name": "stdout",
     "output_type": "stream",
     "text": [
      "https://reviews.webmd.com/drugs/drugreview-57013-kenrax-capsule\n"
     ]
    },
    {
     "name": "stderr",
     "output_type": "stream",
     "text": [
      " 44%|████▎     | 180/412 [33:15<07:41,  1.99s/it]"
     ]
    },
    {
     "name": "stdout",
     "output_type": "stream",
     "text": [
      "https://reviews.webmd.com/drugs/drugreview-57014-chlor-pox-capsule\n"
     ]
    },
    {
     "name": "stderr",
     "output_type": "stream",
     "text": [
      " 44%|████▍     | 181/412 [33:17<07:41,  2.00s/it]"
     ]
    },
    {
     "name": "stdout",
     "output_type": "stream",
     "text": [
      "https://reviews.webmd.com/drugs/drugreview-57015-libaca-capsule\n"
     ]
    },
    {
     "name": "stderr",
     "output_type": "stream",
     "text": [
      " 44%|████▍     | 182/412 [33:19<07:40,  2.00s/it]"
     ]
    },
    {
     "name": "stdout",
     "output_type": "stream",
     "text": [
      "https://reviews.webmd.com/drugs/drugreview-57016-calmium-capsule\n"
     ]
    },
    {
     "name": "stderr",
     "output_type": "stream",
     "text": [
      " 44%|████▍     | 183/412 [33:21<07:16,  1.91s/it]"
     ]
    },
    {
     "name": "stdout",
     "output_type": "stream",
     "text": [
      "https://reviews.webmd.com/drugs/drugreview-57017-murcil-capsule\n"
     ]
    },
    {
     "name": "stderr",
     "output_type": "stream",
     "text": [
      " 45%|████▍     | 184/412 [33:23<06:54,  1.82s/it]"
     ]
    },
    {
     "name": "stdout",
     "output_type": "stream",
     "text": [
      "https://reviews.webmd.com/drugs/drugreview-57018-mitran-capsule\n"
     ]
    },
    {
     "name": "stderr",
     "output_type": "stream",
     "text": [
      " 45%|████▍     | 185/412 [33:24<06:43,  1.78s/it]"
     ]
    },
    {
     "name": "stdout",
     "output_type": "stream",
     "text": [
      "https://reviews.webmd.com/drugs/drugreview-57019-d-tran-capsule\n"
     ]
    },
    {
     "name": "stderr",
     "output_type": "stream",
     "text": [
      " 45%|████▌     | 186/412 [33:26<06:48,  1.81s/it]"
     ]
    },
    {
     "name": "stdout",
     "output_type": "stream",
     "text": [
      "https://reviews.webmd.com/drugs/drugreview-57020-chlor-pox-capsule\n"
     ]
    },
    {
     "name": "stderr",
     "output_type": "stream",
     "text": [
      " 45%|████▌     | 187/412 [33:28<06:32,  1.74s/it]"
     ]
    },
    {
     "name": "stdout",
     "output_type": "stream",
     "text": [
      "https://reviews.webmd.com/drugs/drugreview-57021-m-tran-capsule\n"
     ]
    },
    {
     "name": "stderr",
     "output_type": "stream",
     "text": [
      " 46%|████▌     | 188/412 [33:29<06:22,  1.71s/it]"
     ]
    },
    {
     "name": "stdout",
     "output_type": "stream",
     "text": [
      "https://reviews.webmd.com/drugs/drugreview-57022-j-tran-capsule\n"
     ]
    },
    {
     "name": "stderr",
     "output_type": "stream",
     "text": [
      " 46%|████▌     | 189/412 [33:31<06:36,  1.78s/it]"
     ]
    },
    {
     "name": "stdout",
     "output_type": "stream",
     "text": [
      "https://reviews.webmd.com/drugs/drugreview-57023-spaz-capsule\n"
     ]
    },
    {
     "name": "stderr",
     "output_type": "stream",
     "text": [
      " 46%|████▌     | 190/412 [33:33<06:33,  1.77s/it]"
     ]
    },
    {
     "name": "stdout",
     "output_type": "stream",
     "text": [
      "https://reviews.webmd.com/drugs/drugreview-57024-ro-poxide-capsule\n"
     ]
    },
    {
     "name": "stderr",
     "output_type": "stream",
     "text": [
      " 46%|████▋     | 191/412 [33:35<06:20,  1.72s/it]"
     ]
    },
    {
     "name": "stdout",
     "output_type": "stream",
     "text": [
      "https://reviews.webmd.com/drugs/drugreview-57025-colspan-capsule\n"
     ]
    },
    {
     "name": "stderr",
     "output_type": "stream",
     "text": [
      "\n",
      "  0%|          | 0/1 [00:00<?, ?it/s]\u001b[A\n",
      "100%|██████████| 1/1 [00:00<00:00,  1.79it/s]\n",
      " 47%|████▋     | 192/412 [33:37<06:58,  1.90s/it]"
     ]
    },
    {
     "name": "stdout",
     "output_type": "stream",
     "text": [
      "https://reviews.webmd.com/drugs/drugreview-57026-chlor-pox-capsule\n"
     ]
    },
    {
     "name": "stderr",
     "output_type": "stream",
     "text": [
      " 47%|████▋     | 194/412 [33:40<05:46,  1.59s/it]"
     ]
    },
    {
     "name": "stdout",
     "output_type": "stream",
     "text": [
      "skipping https://reviews.webmd.com/drugs/drugreview-57027-tranxene-sd-tablet-er: page not found\n",
      "https://reviews.webmd.com/drugs/drugreview-57028-q-pam-tablet\n"
     ]
    },
    {
     "name": "stderr",
     "output_type": "stream",
     "text": [
      " 47%|████▋     | 195/412 [33:41<05:56,  1.64s/it]"
     ]
    },
    {
     "name": "stdout",
     "output_type": "stream",
     "text": [
      "https://reviews.webmd.com/drugs/drugreview-57029-x-ospaz-tablet\n"
     ]
    },
    {
     "name": "stderr",
     "output_type": "stream",
     "text": [
      " 48%|████▊     | 196/412 [33:43<05:55,  1.65s/it]"
     ]
    },
    {
     "name": "stdout",
     "output_type": "stream",
     "text": [
      "https://reviews.webmd.com/drugs/drugreview-57030-ro-azepam-tablet\n"
     ]
    },
    {
     "name": "stderr",
     "output_type": "stream",
     "text": [
      " 48%|████▊     | 197/412 [33:45<05:54,  1.65s/it]"
     ]
    },
    {
     "name": "stdout",
     "output_type": "stream",
     "text": [
      "https://reviews.webmd.com/drugs/drugreview-57031-d-val-solution\n"
     ]
    },
    {
     "name": "stderr",
     "output_type": "stream",
     "text": [
      " 48%|████▊     | 198/412 [33:46<05:55,  1.66s/it]"
     ]
    },
    {
     "name": "stdout",
     "output_type": "stream",
     "text": [
      "https://reviews.webmd.com/drugs/drugreview-57032-zetran-solution\n"
     ]
    },
    {
     "name": "stderr",
     "output_type": "stream",
     "text": [
      " 48%|████▊     | 199/412 [33:48<06:01,  1.70s/it]"
     ]
    },
    {
     "name": "stdout",
     "output_type": "stream",
     "text": [
      "https://reviews.webmd.com/drugs/drugreview-57034-durrax-tablet\n"
     ]
    },
    {
     "name": "stderr",
     "output_type": "stream",
     "text": [
      " 49%|████▊     | 200/412 [33:50<05:57,  1.69s/it]"
     ]
    },
    {
     "name": "stdout",
     "output_type": "stream",
     "text": [
      "https://reviews.webmd.com/drugs/drugreview-57035-traxin-tablet\n"
     ]
    },
    {
     "name": "stderr",
     "output_type": "stream",
     "text": [
      " 49%|████▉     | 201/412 [33:52<05:57,  1.69s/it]"
     ]
    },
    {
     "name": "stdout",
     "output_type": "stream",
     "text": [
      "https://reviews.webmd.com/drugs/drugreview-57036-adroxazine-tablet\n"
     ]
    },
    {
     "name": "stderr",
     "output_type": "stream",
     "text": [
      " 49%|████▉     | 202/412 [33:53<05:58,  1.71s/it]"
     ]
    },
    {
     "name": "stdout",
     "output_type": "stream",
     "text": [
      "https://reviews.webmd.com/drugs/drugreview-57037-spenrax-tablet\n"
     ]
    },
    {
     "name": "stderr",
     "output_type": "stream",
     "text": [
      " 49%|████▉     | 203/412 [33:55<05:53,  1.69s/it]"
     ]
    },
    {
     "name": "stdout",
     "output_type": "stream",
     "text": [
      "https://reviews.webmd.com/drugs/drugreview-57038-atrazine-tablet\n"
     ]
    },
    {
     "name": "stderr",
     "output_type": "stream",
     "text": [
      "\n",
      "  0%|          | 0/1 [00:00<?, ?it/s]\u001b[A\n",
      "100%|██████████| 1/1 [00:00<00:00,  1.58it/s]\n",
      " 50%|████▉     | 204/412 [33:57<06:33,  1.89s/it]"
     ]
    },
    {
     "name": "stdout",
     "output_type": "stream",
     "text": [
      "https://reviews.webmd.com/drugs/drugreview-57039-dermrax-tablet\n"
     ]
    },
    {
     "name": "stderr",
     "output_type": "stream",
     "text": [
      " 50%|████▉     | 205/412 [33:59<06:21,  1.84s/it]"
     ]
    },
    {
     "name": "stdout",
     "output_type": "stream",
     "text": [
      "https://reviews.webmd.com/drugs/drugreview-57040-adroxyzine-solution\n"
     ]
    },
    {
     "name": "stderr",
     "output_type": "stream",
     "text": [
      " 50%|█████     | 206/412 [34:01<06:11,  1.80s/it]"
     ]
    },
    {
     "name": "stdout",
     "output_type": "stream",
     "text": [
      "https://reviews.webmd.com/drugs/drugreview-57041-atozine-solution\n"
     ]
    },
    {
     "name": "stderr",
     "output_type": "stream",
     "text": [
      " 50%|█████     | 207/412 [34:03<06:01,  1.76s/it]"
     ]
    },
    {
     "name": "stdout",
     "output_type": "stream",
     "text": [
      "https://reviews.webmd.com/drugs/drugreview-57042-orgatrax-solution\n"
     ]
    },
    {
     "name": "stderr",
     "output_type": "stream",
     "text": [
      " 50%|█████     | 208/412 [34:04<05:53,  1.73s/it]"
     ]
    },
    {
     "name": "stdout",
     "output_type": "stream",
     "text": [
      "https://reviews.webmd.com/drugs/drugreview-57043-vistaril-im-hcl-salt-solution\n"
     ]
    },
    {
     "name": "stderr",
     "output_type": "stream",
     "text": [
      "\n",
      "  0%|          | 0/1 [00:00<?, ?it/s]\u001b[A\n",
      "100%|██████████| 1/1 [00:00<00:00,  1.14it/s]\n",
      " 51%|█████     | 209/412 [34:07<07:01,  2.08s/it]"
     ]
    },
    {
     "name": "stdout",
     "output_type": "stream",
     "text": [
      "https://reviews.webmd.com/drugs/drugreview-57044-visrex-solution\n"
     ]
    },
    {
     "name": "stderr",
     "output_type": "stream",
     "text": [
      " 51%|█████     | 210/412 [34:09<06:40,  1.98s/it]"
     ]
    },
    {
     "name": "stdout",
     "output_type": "stream",
     "text": [
      "https://reviews.webmd.com/drugs/drugreview-57045-vistaject-solution\n"
     ]
    },
    {
     "name": "stderr",
     "output_type": "stream",
     "text": [
      " 51%|█████     | 211/412 [34:10<06:18,  1.88s/it]"
     ]
    },
    {
     "name": "stdout",
     "output_type": "stream",
     "text": [
      "https://reviews.webmd.com/drugs/drugreview-57046-vistaquel-solution\n"
     ]
    },
    {
     "name": "stderr",
     "output_type": "stream",
     "text": [
      " 51%|█████▏    | 212/412 [34:12<05:59,  1.80s/it]"
     ]
    },
    {
     "name": "stdout",
     "output_type": "stream",
     "text": [
      "https://reviews.webmd.com/drugs/drugreview-57047-vistacon-solution\n"
     ]
    },
    {
     "name": "stderr",
     "output_type": "stream",
     "text": [
      " 52%|█████▏    | 213/412 [34:14<05:50,  1.76s/it]"
     ]
    },
    {
     "name": "stdout",
     "output_type": "stream",
     "text": [
      "https://reviews.webmd.com/drugs/drugreview-57048-drozine-solution\n"
     ]
    },
    {
     "name": "stderr",
     "output_type": "stream",
     "text": [
      " 52%|█████▏    | 214/412 [34:15<05:47,  1.75s/it]"
     ]
    },
    {
     "name": "stdout",
     "output_type": "stream",
     "text": [
      "https://reviews.webmd.com/drugs/drugreview-57049-hydroxacen-solution\n"
     ]
    },
    {
     "name": "stderr",
     "output_type": "stream",
     "text": [
      "\n",
      "  0%|          | 0/1 [00:00<?, ?it/s]\u001b[A\n",
      "100%|██████████| 1/1 [00:00<00:00,  1.98it/s]\n",
      " 52%|█████▏    | 215/412 [34:18<06:37,  2.02s/it]"
     ]
    },
    {
     "name": "stdout",
     "output_type": "stream",
     "text": [
      "https://reviews.webmd.com/drugs/drugreview-57050-viarex-solution\n"
     ]
    },
    {
     "name": "stderr",
     "output_type": "stream",
     "text": [
      " 52%|█████▏    | 216/412 [34:20<06:09,  1.88s/it]"
     ]
    },
    {
     "name": "stdout",
     "output_type": "stream",
     "text": [
      "https://reviews.webmd.com/drugs/drugreview-57051-vist-ed-solution\n"
     ]
    },
    {
     "name": "stderr",
     "output_type": "stream",
     "text": [
      " 53%|█████▎    | 217/412 [34:21<05:45,  1.77s/it]"
     ]
    },
    {
     "name": "stdout",
     "output_type": "stream",
     "text": [
      "https://reviews.webmd.com/drugs/drugreview-57052-e-vista-solution\n"
     ]
    },
    {
     "name": "stderr",
     "output_type": "stream",
     "text": [
      " 53%|█████▎    | 218/412 [34:23<05:31,  1.71s/it]"
     ]
    },
    {
     "name": "stdout",
     "output_type": "stream",
     "text": [
      "https://reviews.webmd.com/drugs/drugreview-57053-adzine-solution\n"
     ]
    },
    {
     "name": "stderr",
     "output_type": "stream",
     "text": [
      " 53%|█████▎    | 219/412 [34:25<05:32,  1.72s/it]"
     ]
    },
    {
     "name": "stdout",
     "output_type": "stream",
     "text": [
      "https://reviews.webmd.com/drugs/drugreview-57054-vistamed-solution\n"
     ]
    },
    {
     "name": "stderr",
     "output_type": "stream",
     "text": [
      " 53%|█████▎    | 220/412 [34:26<05:23,  1.68s/it]"
     ]
    },
    {
     "name": "stdout",
     "output_type": "stream",
     "text": [
      "https://reviews.webmd.com/drugs/drugreview-57055-neucalm-solution\n"
     ]
    },
    {
     "name": "stderr",
     "output_type": "stream",
     "text": [
      " 54%|█████▎    | 221/412 [34:28<05:22,  1.69s/it]"
     ]
    },
    {
     "name": "stdout",
     "output_type": "stream",
     "text": [
      "https://reviews.webmd.com/drugs/drugreview-57056-adaril-solution\n"
     ]
    },
    {
     "name": "stderr",
     "output_type": "stream",
     "text": [
      "\n",
      "  0%|          | 0/1 [00:00<?, ?it/s]\u001b[A\n",
      "100%|██████████| 1/1 [00:00<00:00,  1.29it/s]\n",
      " 54%|█████▍    | 222/412 [34:30<06:06,  1.93s/it]"
     ]
    },
    {
     "name": "stdout",
     "output_type": "stream",
     "text": [
      "https://reviews.webmd.com/drugs/drugreview-57057-vistrex-solution\n"
     ]
    },
    {
     "name": "stderr",
     "output_type": "stream",
     "text": [
      " 54%|█████▍    | 223/412 [34:32<05:52,  1.87s/it]"
     ]
    },
    {
     "name": "stdout",
     "output_type": "stream",
     "text": [
      "https://reviews.webmd.com/drugs/drugreview-57058-vistalax-solution\n"
     ]
    },
    {
     "name": "stderr",
     "output_type": "stream",
     "text": [
      " 54%|█████▍    | 224/412 [34:34<05:40,  1.81s/it]"
     ]
    },
    {
     "name": "stdout",
     "output_type": "stream",
     "text": [
      "https://reviews.webmd.com/drugs/drugreview-57059-hydrozine-solution\n"
     ]
    },
    {
     "name": "stderr",
     "output_type": "stream",
     "text": [
      "\n",
      "  0%|          | 0/1 [00:00<?, ?it/s]\u001b[A\n",
      "100%|██████████| 1/1 [00:00<00:00,  1.87it/s]\n",
      " 55%|█████▍    | 225/412 [34:36<06:21,  2.04s/it]"
     ]
    },
    {
     "name": "stdout",
     "output_type": "stream",
     "text": [
      "https://reviews.webmd.com/drugs/drugreview-57060-vista-plex-solution\n"
     ]
    },
    {
     "name": "stderr",
     "output_type": "stream",
     "text": [
      " 55%|█████▍    | 226/412 [34:38<06:02,  1.95s/it]"
     ]
    },
    {
     "name": "stdout",
     "output_type": "stream",
     "text": [
      "https://reviews.webmd.com/drugs/drugreview-57061-vistapam-capsule\n"
     ]
    },
    {
     "name": "stderr",
     "output_type": "stream",
     "text": [
      " 55%|█████▌    | 227/412 [34:40<05:40,  1.84s/it]"
     ]
    },
    {
     "name": "stdout",
     "output_type": "stream",
     "text": [
      "https://reviews.webmd.com/drugs/drugreview-57062-vamate-capsule\n"
     ]
    },
    {
     "name": "stderr",
     "output_type": "stream",
     "text": [
      " 55%|█████▌    | 228/412 [34:41<05:18,  1.73s/it]"
     ]
    },
    {
     "name": "stdout",
     "output_type": "stream",
     "text": [
      "https://reviews.webmd.com/drugs/drugreview-57063-sk-bamate-tablet\n"
     ]
    },
    {
     "name": "stderr",
     "output_type": "stream",
     "text": [
      " 56%|█████▌    | 229/412 [34:43<05:14,  1.72s/it]"
     ]
    },
    {
     "name": "stdout",
     "output_type": "stream",
     "text": [
      "https://reviews.webmd.com/drugs/drugreview-57064-mepromate-tablet\n"
     ]
    },
    {
     "name": "stderr",
     "output_type": "stream",
     "text": [
      " 56%|█████▌    | 230/412 [34:44<05:00,  1.65s/it]"
     ]
    },
    {
     "name": "stdout",
     "output_type": "stream",
     "text": [
      "https://reviews.webmd.com/drugs/drugreview-57065-tranmep-tablet\n"
     ]
    },
    {
     "name": "stderr",
     "output_type": "stream",
     "text": [
      " 56%|█████▌    | 231/412 [34:46<05:00,  1.66s/it]"
     ]
    },
    {
     "name": "stdout",
     "output_type": "stream",
     "text": [
      "https://reviews.webmd.com/drugs/drugreview-57066-sedabamate-tablet\n"
     ]
    },
    {
     "name": "stderr",
     "output_type": "stream",
     "text": [
      " 56%|█████▋    | 232/412 [34:48<05:01,  1.67s/it]"
     ]
    },
    {
     "name": "stdout",
     "output_type": "stream",
     "text": [
      "https://reviews.webmd.com/drugs/drugreview-57067-probate-tablet\n"
     ]
    },
    {
     "name": "stderr",
     "output_type": "stream",
     "text": [
      " 57%|█████▋    | 233/412 [34:49<04:51,  1.63s/it]"
     ]
    },
    {
     "name": "stdout",
     "output_type": "stream",
     "text": [
      "https://reviews.webmd.com/drugs/drugreview-57068-coprobate-tablet\n"
     ]
    },
    {
     "name": "stderr",
     "output_type": "stream",
     "text": [
      " 57%|█████▋    | 234/412 [34:51<04:46,  1.61s/it]"
     ]
    },
    {
     "name": "stdout",
     "output_type": "stream",
     "text": [
      "https://reviews.webmd.com/drugs/drugreview-57069-q-bam-tablet\n"
     ]
    },
    {
     "name": "stderr",
     "output_type": "stream",
     "text": [
      " 57%|█████▋    | 235/412 [34:52<04:40,  1.58s/it]"
     ]
    },
    {
     "name": "stdout",
     "output_type": "stream",
     "text": [
      "https://reviews.webmd.com/drugs/drugreview-57070-neurate-tablet\n"
     ]
    },
    {
     "name": "stderr",
     "output_type": "stream",
     "text": [
      " 57%|█████▋    | 236/412 [34:54<04:46,  1.63s/it]"
     ]
    },
    {
     "name": "stdout",
     "output_type": "stream",
     "text": [
      "https://reviews.webmd.com/drugs/drugreview-57071-pax-tablet\n"
     ]
    },
    {
     "name": "stderr",
     "output_type": "stream",
     "text": [
      "\n",
      "  0%|          | 0/1 [00:00<?, ?it/s]\u001b[A\n",
      "100%|██████████| 1/1 [00:00<00:00,  1.58it/s]\n",
      " 58%|█████▊    | 237/412 [34:56<05:30,  1.89s/it]"
     ]
    },
    {
     "name": "stdout",
     "output_type": "stream",
     "text": [
      "https://reviews.webmd.com/drugs/drugreview-57072-spantran-tablet\n"
     ]
    },
    {
     "name": "stderr",
     "output_type": "stream",
     "text": [
      " 58%|█████▊    | 238/412 [34:58<05:13,  1.80s/it]"
     ]
    },
    {
     "name": "stdout",
     "output_type": "stream",
     "text": [
      "https://reviews.webmd.com/drugs/drugreview-57073-acabamate-tablet\n"
     ]
    },
    {
     "name": "stderr",
     "output_type": "stream",
     "text": [
      " 58%|█████▊    | 239/412 [35:00<05:08,  1.78s/it]"
     ]
    },
    {
     "name": "stdout",
     "output_type": "stream",
     "text": [
      "https://reviews.webmd.com/drugs/drugreview-57074-meproban-tablet\n"
     ]
    },
    {
     "name": "stderr",
     "output_type": "stream",
     "text": [
      " 58%|█████▊    | 240/412 [35:01<04:54,  1.71s/it]"
     ]
    },
    {
     "name": "stdout",
     "output_type": "stream",
     "text": [
      "https://reviews.webmd.com/drugs/drugreview-57075-amitid-tablet\n"
     ]
    },
    {
     "name": "stderr",
     "output_type": "stream",
     "text": [
      " 58%|█████▊    | 241/412 [35:03<04:46,  1.68s/it]"
     ]
    },
    {
     "name": "stdout",
     "output_type": "stream",
     "text": [
      "https://reviews.webmd.com/drugs/drugreview-57076-sk-amitriptyline-tablet\n"
     ]
    },
    {
     "name": "stderr",
     "output_type": "stream",
     "text": [
      " 59%|█████▊    | 242/412 [35:05<04:39,  1.64s/it]"
     ]
    },
    {
     "name": "stdout",
     "output_type": "stream",
     "text": [
      "https://reviews.webmd.com/drugs/drugreview-57077-q-e-l-tablet\n"
     ]
    },
    {
     "name": "stderr",
     "output_type": "stream",
     "text": [
      " 59%|█████▉    | 243/412 [35:06<04:41,  1.67s/it]"
     ]
    },
    {
     "name": "stdout",
     "output_type": "stream",
     "text": [
      "https://reviews.webmd.com/drugs/drugreview-57078-kenvil-tablet\n"
     ]
    },
    {
     "name": "stderr",
     "output_type": "stream",
     "text": [
      " 59%|█████▉    | 244/412 [35:08<04:49,  1.72s/it]"
     ]
    },
    {
     "name": "stdout",
     "output_type": "stream",
     "text": [
      "https://reviews.webmd.com/drugs/drugreview-57079-e-vill-tablet\n"
     ]
    },
    {
     "name": "stderr",
     "output_type": "stream",
     "text": [
      " 59%|█████▉    | 245/412 [35:10<04:40,  1.68s/it]"
     ]
    },
    {
     "name": "stdout",
     "output_type": "stream",
     "text": [
      "https://reviews.webmd.com/drugs/drugreview-57080-stabanil-tablet\n"
     ]
    },
    {
     "name": "stderr",
     "output_type": "stream",
     "text": [
      " 60%|█████▉    | 246/412 [35:11<04:41,  1.69s/it]"
     ]
    },
    {
     "name": "stdout",
     "output_type": "stream",
     "text": [
      "https://reviews.webmd.com/drugs/drugreview-57081-e-vill-tablet\n"
     ]
    },
    {
     "name": "stderr",
     "output_type": "stream",
     "text": [
      " 60%|█████▉    | 247/412 [35:13<04:37,  1.68s/it]"
     ]
    },
    {
     "name": "stdout",
     "output_type": "stream",
     "text": [
      "https://reviews.webmd.com/drugs/drugreview-57082-re-live-tablet\n"
     ]
    },
    {
     "name": "stderr",
     "output_type": "stream",
     "text": [
      " 60%|██████    | 248/412 [35:15<04:33,  1.67s/it]"
     ]
    },
    {
     "name": "stdout",
     "output_type": "stream",
     "text": [
      "https://reviews.webmd.com/drugs/drugreview-57083-emitrip-tablet\n"
     ]
    },
    {
     "name": "stderr",
     "output_type": "stream",
     "text": [
      " 60%|██████    | 249/412 [35:16<04:34,  1.68s/it]"
     ]
    },
    {
     "name": "stdout",
     "output_type": "stream",
     "text": [
      "https://reviews.webmd.com/drugs/drugreview-57084-e-vill-tablet\n"
     ]
    },
    {
     "name": "stderr",
     "output_type": "stream",
     "text": [
      " 61%|██████    | 250/412 [35:18<04:26,  1.65s/it]"
     ]
    },
    {
     "name": "stdout",
     "output_type": "stream",
     "text": [
      "https://reviews.webmd.com/drugs/drugreview-57085-e-vill-tablet\n"
     ]
    },
    {
     "name": "stderr",
     "output_type": "stream",
     "text": [
      " 61%|██████    | 251/412 [35:20<04:23,  1.64s/it]"
     ]
    },
    {
     "name": "stdout",
     "output_type": "stream",
     "text": [
      "https://reviews.webmd.com/drugs/drugreview-57086-e-vill-tablet\n"
     ]
    },
    {
     "name": "stderr",
     "output_type": "stream",
     "text": [
      " 61%|██████▏   | 253/412 [35:22<03:55,  1.48s/it]"
     ]
    },
    {
     "name": "stdout",
     "output_type": "stream",
     "text": [
      "skipping https://reviews.webmd.com/drugs/drugreview-57087-enovil-solution: page not found\n",
      "https://reviews.webmd.com/drugs/drugreview-57088-sk-pramine-tablet\n"
     ]
    },
    {
     "name": "stderr",
     "output_type": "stream",
     "text": [
      " 62%|██████▏   | 254/412 [35:24<04:09,  1.58s/it]"
     ]
    },
    {
     "name": "stdout",
     "output_type": "stream",
     "text": [
      "https://reviews.webmd.com/drugs/drugreview-57089-janimine-tablet\n"
     ]
    },
    {
     "name": "stderr",
     "output_type": "stream",
     "text": [
      " 62%|██████▏   | 255/412 [35:26<04:14,  1.62s/it]"
     ]
    },
    {
     "name": "stdout",
     "output_type": "stream",
     "text": [
      "https://reviews.webmd.com/drugs/drugreview-57090-etnofril-tablet\n"
     ]
    },
    {
     "name": "stderr",
     "output_type": "stream",
     "text": [
      " 62%|██████▏   | 256/412 [35:27<04:12,  1.62s/it]"
     ]
    },
    {
     "name": "stdout",
     "output_type": "stream",
     "text": [
      "https://reviews.webmd.com/drugs/drugreview-57091-imavate-tablet\n"
     ]
    },
    {
     "name": "stderr",
     "output_type": "stream",
     "text": [
      " 62%|██████▏   | 257/412 [35:29<04:06,  1.59s/it]"
     ]
    },
    {
     "name": "stdout",
     "output_type": "stream",
     "text": [
      "https://reviews.webmd.com/drugs/drugreview-57092-norfranil-tablet\n"
     ]
    },
    {
     "name": "stderr",
     "output_type": "stream",
     "text": [
      " 63%|██████▎   | 258/412 [35:31<04:14,  1.65s/it]"
     ]
    },
    {
     "name": "stdout",
     "output_type": "stream",
     "text": [
      "https://reviews.webmd.com/drugs/drugreview-57093-deconil-tablet\n"
     ]
    },
    {
     "name": "stderr",
     "output_type": "stream",
     "text": [
      " 63%|██████▎   | 259/412 [35:32<04:08,  1.62s/it]"
     ]
    },
    {
     "name": "stdout",
     "output_type": "stream",
     "text": [
      "https://reviews.webmd.com/drugs/drugreview-57094-aventyl-hcl-do-not-use-capsule\n"
     ]
    },
    {
     "name": "stderr",
     "output_type": "stream",
     "text": [
      " 63%|██████▎   | 260/412 [35:34<04:17,  1.69s/it]"
     ]
    },
    {
     "name": "stdout",
     "output_type": "stream",
     "text": [
      "https://reviews.webmd.com/drugs/drugreview-57095-halperon-tablet\n"
     ]
    },
    {
     "name": "stderr",
     "output_type": "stream",
     "text": [
      " 63%|██████▎   | 261/412 [35:36<04:37,  1.84s/it]"
     ]
    },
    {
     "name": "stdout",
     "output_type": "stream",
     "text": [
      "https://reviews.webmd.com/drugs/drugreview-57096-myperidol-concentrate\n"
     ]
    },
    {
     "name": "stderr",
     "output_type": "stream",
     "text": [
      " 64%|██████▎   | 262/412 [35:39<04:49,  1.93s/it]"
     ]
    },
    {
     "name": "stdout",
     "output_type": "stream",
     "text": [
      "https://reviews.webmd.com/drugs/drugreview-57097-haldol-decanoate-solution\n"
     ]
    },
    {
     "name": "stderr",
     "output_type": "stream",
     "text": [
      " 64%|██████▍   | 263/412 [35:41<04:57,  2.00s/it]"
     ]
    },
    {
     "name": "stdout",
     "output_type": "stream",
     "text": [
      "https://reviews.webmd.com/drugs/drugreview-57098-haldol-decanoate-solution\n"
     ]
    },
    {
     "name": "stderr",
     "output_type": "stream",
     "text": [
      " 64%|██████▍   | 264/412 [35:43<05:03,  2.05s/it]"
     ]
    },
    {
     "name": "stdout",
     "output_type": "stream",
     "text": [
      "https://reviews.webmd.com/drugs/drugreview-57099-foypromazine-tablet\n"
     ]
    },
    {
     "name": "stderr",
     "output_type": "stream",
     "text": [
      " 64%|██████▍   | 265/412 [35:45<05:00,  2.05s/it]"
     ]
    },
    {
     "name": "stdout",
     "output_type": "stream",
     "text": [
      "https://reviews.webmd.com/drugs/drugreview-57100-chloramead-tablet\n"
     ]
    },
    {
     "name": "stderr",
     "output_type": "stream",
     "text": [
      " 65%|██████▍   | 266/412 [35:47<04:46,  1.97s/it]"
     ]
    },
    {
     "name": "stdout",
     "output_type": "stream",
     "text": [
      "https://reviews.webmd.com/drugs/drugreview-57101-thoradol-tablet\n"
     ]
    },
    {
     "name": "stderr",
     "output_type": "stream",
     "text": [
      " 65%|██████▍   | 267/412 [35:49<04:42,  1.95s/it]"
     ]
    },
    {
     "name": "stdout",
     "output_type": "stream",
     "text": [
      "https://reviews.webmd.com/drugs/drugreview-57102-kenazine-tablet\n"
     ]
    },
    {
     "name": "stderr",
     "output_type": "stream",
     "text": [
      " 65%|██████▌   | 268/412 [35:51<04:41,  1.95s/it]"
     ]
    },
    {
     "name": "stdout",
     "output_type": "stream",
     "text": [
      "https://reviews.webmd.com/drugs/drugreview-57103-chlorpromazine-tablet\n"
     ]
    },
    {
     "name": "stderr",
     "output_type": "stream",
     "text": [
      " 65%|██████▌   | 269/412 [35:53<04:40,  1.96s/it]"
     ]
    },
    {
     "name": "stdout",
     "output_type": "stream",
     "text": [
      "https://reviews.webmd.com/drugs/drugreview-57104-thorarex-solution\n"
     ]
    },
    {
     "name": "stderr",
     "output_type": "stream",
     "text": [
      " 66%|██████▌   | 270/412 [35:55<04:41,  1.98s/it]"
     ]
    },
    {
     "name": "stdout",
     "output_type": "stream",
     "text": [
      "https://reviews.webmd.com/drugs/drugreview-57105-clorazine-solution\n"
     ]
    },
    {
     "name": "stderr",
     "output_type": "stream",
     "text": [
      " 66%|██████▌   | 271/412 [35:57<04:56,  2.10s/it]"
     ]
    },
    {
     "name": "stdout",
     "output_type": "stream",
     "text": [
      "https://reviews.webmd.com/drugs/drugreview-57106-thoradol-solution\n"
     ]
    },
    {
     "name": "stderr",
     "output_type": "stream",
     "text": [
      "\n",
      "  0%|          | 0/1 [00:00<?, ?it/s]\u001b[A\n",
      "100%|██████████| 1/1 [00:00<00:00,  1.94it/s]\n",
      " 66%|██████▌   | 272/412 [36:00<05:21,  2.30s/it]"
     ]
    },
    {
     "name": "stdout",
     "output_type": "stream",
     "text": [
      "https://reviews.webmd.com/drugs/drugreview-57107-klorazine-solution\n"
     ]
    },
    {
     "name": "stderr",
     "output_type": "stream",
     "text": [
      " 66%|██████▋   | 273/412 [36:02<05:07,  2.21s/it]"
     ]
    },
    {
     "name": "stdout",
     "output_type": "stream",
     "text": [
      "https://reviews.webmd.com/drugs/drugreview-57108-thoramed-solution\n"
     ]
    },
    {
     "name": "stderr",
     "output_type": "stream",
     "text": [
      " 67%|██████▋   | 274/412 [36:04<04:50,  2.11s/it]"
     ]
    },
    {
     "name": "stdout",
     "output_type": "stream",
     "text": [
      "https://reviews.webmd.com/drugs/drugreview-57109-ormazine-solution\n"
     ]
    },
    {
     "name": "stderr",
     "output_type": "stream",
     "text": [
      " 67%|██████▋   | 275/412 [36:06<04:55,  2.16s/it]"
     ]
    },
    {
     "name": "stdout",
     "output_type": "stream",
     "text": [
      "https://reviews.webmd.com/drugs/drugreview-57116-stelaprin-tablet\n"
     ]
    },
    {
     "name": "stderr",
     "output_type": "stream",
     "text": [
      " 67%|██████▋   | 276/412 [36:07<04:29,  1.98s/it]"
     ]
    },
    {
     "name": "stdout",
     "output_type": "stream",
     "text": [
      "https://reviews.webmd.com/drugs/drugreview-57117-lithane-tablet\n"
     ]
    },
    {
     "name": "stderr",
     "output_type": "stream",
     "text": [
      "\n",
      "  0%|          | 0/1 [00:00<?, ?it/s]\u001b[A\n",
      "100%|██████████| 1/1 [00:00<00:00,  1.89it/s]\n",
      " 67%|██████▋   | 277/412 [36:10<04:31,  2.01s/it]"
     ]
    },
    {
     "name": "stdout",
     "output_type": "stream",
     "text": [
      "https://reviews.webmd.com/drugs/drugreview-57118-cibalith-s-solution\n"
     ]
    },
    {
     "name": "stderr",
     "output_type": "stream",
     "text": [
      "\n",
      "  0%|          | 0/1 [00:00<?, ?it/s]\u001b[A\n",
      "100%|██████████| 1/1 [00:00<00:00,  1.93it/s]\n",
      " 67%|██████▋   | 278/412 [36:12<04:56,  2.21s/it]"
     ]
    },
    {
     "name": "stdout",
     "output_type": "stream",
     "text": [
      "https://reviews.webmd.com/drugs/drugreview-57375-amitriptyline-chlordiazepoxide-tablet\n"
     ]
    },
    {
     "name": "stderr",
     "output_type": "stream",
     "text": [
      " 68%|██████▊   | 279/412 [36:14<04:43,  2.14s/it]"
     ]
    },
    {
     "name": "stdout",
     "output_type": "stream",
     "text": [
      "https://reviews.webmd.com/drugs/drugreview-57376-amitriptyline-w-perphenazine-tablet\n"
     ]
    },
    {
     "name": "stderr",
     "output_type": "stream",
     "text": [
      " 68%|██████▊   | 280/412 [36:16<04:27,  2.03s/it]"
     ]
    },
    {
     "name": "stdout",
     "output_type": "stream",
     "text": [
      "https://reviews.webmd.com/drugs/drugreview-57377-per-trip-tablet\n"
     ]
    },
    {
     "name": "stderr",
     "output_type": "stream",
     "text": [
      " 68%|██████▊   | 281/412 [36:18<04:13,  1.93s/it]"
     ]
    },
    {
     "name": "stdout",
     "output_type": "stream",
     "text": [
      "https://reviews.webmd.com/drugs/drugreview-57378-triavil-tablet\n"
     ]
    },
    {
     "name": "stderr",
     "output_type": "stream",
     "text": [
      "\n",
      "  0%|          | 0/1 [00:00<?, ?it/s]\u001b[A\n",
      "100%|██████████| 1/1 [00:00<00:00,  1.91it/s]\n",
      " 68%|██████▊   | 282/412 [36:20<04:28,  2.07s/it]"
     ]
    },
    {
     "name": "stdout",
     "output_type": "stream",
     "text": [
      "https://reviews.webmd.com/drugs/drugreview-57379-etrafon-a-tablet\n"
     ]
    },
    {
     "name": "stderr",
     "output_type": "stream",
     "text": [
      " 69%|██████▊   | 283/412 [36:22<04:09,  1.93s/it]"
     ]
    },
    {
     "name": "stdout",
     "output_type": "stream",
     "text": [
      "https://reviews.webmd.com/drugs/drugreview-57380-triavil-tablet\n"
     ]
    },
    {
     "name": "stderr",
     "output_type": "stream",
     "text": [
      "\n",
      "  0%|          | 0/1 [00:00<?, ?it/s]\u001b[A\n",
      "100%|██████████| 1/1 [00:00<00:00,  2.01it/s]\n",
      " 69%|██████▉   | 284/412 [36:24<04:36,  2.16s/it]"
     ]
    },
    {
     "name": "stdout",
     "output_type": "stream",
     "text": [
      "https://reviews.webmd.com/drugs/drugreview-58070-myproic-acid-solution\n"
     ]
    },
    {
     "name": "stderr",
     "output_type": "stream",
     "text": [
      " 69%|██████▉   | 285/412 [36:26<04:21,  2.06s/it]"
     ]
    },
    {
     "name": "stdout",
     "output_type": "stream",
     "text": [
      "https://reviews.webmd.com/drugs/drugreview-58071-depa-syrup-solution\n"
     ]
    },
    {
     "name": "stderr",
     "output_type": "stream",
     "text": [
      " 69%|██████▉   | 286/412 [36:28<04:01,  1.92s/it]"
     ]
    },
    {
     "name": "stdout",
     "output_type": "stream",
     "text": [
      "https://reviews.webmd.com/drugs/drugreview-58072-deproic-capsule\n"
     ]
    },
    {
     "name": "stderr",
     "output_type": "stream",
     "text": [
      " 70%|██████▉   | 287/412 [36:29<03:46,  1.82s/it]"
     ]
    },
    {
     "name": "stdout",
     "output_type": "stream",
     "text": [
      "https://reviews.webmd.com/drugs/drugreview-58073-dalpro-capsule\n"
     ]
    },
    {
     "name": "stderr",
     "output_type": "stream",
     "text": [
      " 70%|██████▉   | 288/412 [36:31<03:37,  1.75s/it]"
     ]
    },
    {
     "name": "stdout",
     "output_type": "stream",
     "text": [
      "https://reviews.webmd.com/drugs/drugreview-5887-lithium-carbonate\n"
     ]
    },
    {
     "name": "stderr",
     "output_type": "stream",
     "text": [
      "\n",
      "  0%|          | 0/23 [00:00<?, ?it/s]\u001b[A\n",
      "  4%|▍         | 1/23 [00:00<00:20,  1.07it/s]\u001b[A\n",
      "  9%|▊         | 2/23 [00:02<00:24,  1.17s/it]\u001b[A\n",
      " 13%|█▎        | 3/23 [00:03<00:26,  1.35s/it]\u001b[A\n",
      " 17%|█▋        | 4/23 [00:05<00:25,  1.36s/it]\u001b[A\n",
      " 22%|██▏       | 5/23 [00:07<00:27,  1.54s/it]\u001b[A\n",
      " 26%|██▌       | 6/23 [00:08<00:24,  1.46s/it]\u001b[A\n",
      " 30%|███       | 7/23 [00:09<00:22,  1.42s/it]\u001b[A\n",
      " 35%|███▍      | 8/23 [00:11<00:23,  1.59s/it]\u001b[A\n",
      " 39%|███▉      | 9/23 [00:13<00:21,  1.53s/it]\u001b[A\n",
      " 43%|████▎     | 10/23 [00:14<00:19,  1.51s/it]\u001b[A\n",
      " 48%|████▊     | 11/23 [00:16<00:18,  1.55s/it]\u001b[A\n",
      " 52%|█████▏    | 12/23 [00:17<00:16,  1.51s/it]\u001b[A\n",
      " 57%|█████▋    | 13/23 [00:19<00:15,  1.58s/it]\u001b[A\n",
      " 61%|██████    | 14/23 [00:20<00:14,  1.57s/it]\u001b[A\n",
      " 65%|██████▌   | 15/23 [00:22<00:12,  1.51s/it]\u001b[A\n",
      " 70%|██████▉   | 16/23 [00:23<00:10,  1.44s/it]\u001b[A\n",
      " 74%|███████▍  | 17/23 [00:25<00:08,  1.46s/it]\u001b[A\n",
      " 78%|███████▊  | 18/23 [00:26<00:07,  1.47s/it]\u001b[A\n",
      " 83%|████████▎ | 19/23 [00:27<00:05,  1.47s/it]\u001b[A\n",
      " 87%|████████▋ | 20/23 [00:29<00:04,  1.47s/it]\u001b[A\n",
      " 91%|█████████▏| 21/23 [00:30<00:02,  1.40s/it]\u001b[A\n",
      " 96%|█████████▌| 22/23 [00:32<00:01,  1.37s/it]\u001b[A\n",
      "100%|██████████| 23/23 [00:33<00:00,  1.43s/it]\n",
      " 70%|███████   | 289/412 [37:06<24:15, 11.83s/it]"
     ]
    },
    {
     "name": "stdout",
     "output_type": "stream",
     "text": [
      "https://reviews.webmd.com/drugs/drugreview-5887-lithium-carbonate-er\n"
     ]
    },
    {
     "name": "stderr",
     "output_type": "stream",
     "text": [
      "\n",
      "  0%|          | 0/23 [00:00<?, ?it/s]\u001b[A\n",
      "  4%|▍         | 1/23 [00:01<00:33,  1.52s/it]\u001b[A\n",
      "  9%|▊         | 2/23 [00:02<00:24,  1.17s/it]\u001b[A\n",
      " 13%|█▎        | 3/23 [00:03<00:21,  1.06s/it]\u001b[A\n",
      " 17%|█▋        | 4/23 [00:04<00:19,  1.00s/it]\u001b[A\n",
      " 22%|██▏       | 5/23 [00:05<00:17,  1.02it/s]\u001b[A\n",
      " 26%|██▌       | 6/23 [00:06<00:16,  1.04it/s]\u001b[A\n",
      " 30%|███       | 7/23 [00:07<00:16,  1.03s/it]\u001b[A\n",
      " 35%|███▍      | 8/23 [00:08<00:14,  1.04it/s]\u001b[A\n",
      " 39%|███▉      | 9/23 [00:09<00:13,  1.05it/s]\u001b[A\n",
      " 43%|████▎     | 10/23 [00:09<00:11,  1.12it/s]\u001b[A\n",
      " 48%|████▊     | 11/23 [00:10<00:10,  1.10it/s]\u001b[A\n",
      " 52%|█████▏    | 12/23 [00:11<00:10,  1.07it/s]\u001b[A\n",
      " 57%|█████▋    | 13/23 [00:13<00:10,  1.03s/it]\u001b[A\n",
      " 61%|██████    | 14/23 [00:13<00:08,  1.01it/s]\u001b[A\n",
      " 65%|██████▌   | 15/23 [00:14<00:07,  1.03it/s]\u001b[A\n",
      " 70%|██████▉   | 16/23 [00:15<00:06,  1.05it/s]\u001b[A\n",
      " 74%|███████▍  | 17/23 [00:16<00:05,  1.06it/s]\u001b[A\n",
      " 78%|███████▊  | 18/23 [00:17<00:05,  1.02s/it]\u001b[A\n",
      " 83%|████████▎ | 19/23 [00:18<00:03,  1.02it/s]\u001b[A\n",
      " 87%|████████▋ | 20/23 [00:19<00:02,  1.03it/s]\u001b[A\n",
      " 91%|█████████▏| 21/23 [00:20<00:01,  1.06it/s]\u001b[A\n",
      " 96%|█████████▌| 22/23 [00:21<00:00,  1.06it/s]\u001b[A\n",
      "100%|██████████| 23/23 [00:22<00:00,  1.04it/s]\n",
      " 70%|███████   | 290/412 [37:29<30:55, 15.21s/it]"
     ]
    },
    {
     "name": "stdout",
     "output_type": "stream",
     "text": [
      "https://reviews.webmd.com/drugs/drugreview-6000-divalproex-sodium\n"
     ]
    },
    {
     "name": "stderr",
     "output_type": "stream",
     "text": [
      "\n",
      "  0%|          | 0/7 [00:00<?, ?it/s]\u001b[A\n",
      " 14%|█▍        | 1/7 [00:01<00:07,  1.20s/it]\u001b[A\n",
      " 29%|██▊       | 2/7 [00:02<00:06,  1.32s/it]\u001b[A\n",
      " 43%|████▎     | 3/7 [00:03<00:05,  1.32s/it]\u001b[A\n",
      " 57%|█████▋    | 4/7 [00:05<00:04,  1.34s/it]\u001b[A\n",
      " 71%|███████▏  | 5/7 [00:06<00:02,  1.44s/it]\u001b[A\n",
      " 86%|████████▌ | 6/7 [00:08<00:01,  1.52s/it]\u001b[A\n",
      "100%|██████████| 7/7 [00:09<00:00,  1.43s/it]\n",
      " 71%|███████   | 291/412 [37:42<28:55, 14.35s/it]"
     ]
    },
    {
     "name": "stdout",
     "output_type": "stream",
     "text": [
      "https://reviews.webmd.com/drugs/drugreview-6000-divalproex-sodium-capsule-delayed-release-sprinkle\n"
     ]
    },
    {
     "name": "stderr",
     "output_type": "stream",
     "text": [
      "\n",
      "  0%|          | 0/7 [00:00<?, ?it/s]\u001b[A\n",
      " 14%|█▍        | 1/7 [00:00<00:05,  1.04it/s]\u001b[A\n",
      " 29%|██▊       | 2/7 [00:01<00:04,  1.02it/s]\u001b[A\n",
      " 43%|████▎     | 3/7 [00:02<00:03,  1.04it/s]\u001b[A\n",
      " 57%|█████▋    | 4/7 [00:04<00:03,  1.07s/it]\u001b[A\n",
      " 71%|███████▏  | 5/7 [00:05<00:02,  1.03s/it]\u001b[A\n",
      " 86%|████████▌ | 6/7 [00:06<00:01,  1.01s/it]\u001b[A\n",
      "100%|██████████| 7/7 [00:07<00:00,  1.00s/it]\n",
      " 71%|███████   | 292/412 [37:50<24:54, 12.45s/it]"
     ]
    },
    {
     "name": "stdout",
     "output_type": "stream",
     "text": [
      "https://reviews.webmd.com/drugs/drugreview-6000-divalproex-sodium-er\n"
     ]
    },
    {
     "name": "stderr",
     "output_type": "stream",
     "text": [
      "\n",
      "  0%|          | 0/7 [00:00<?, ?it/s]\u001b[A\n",
      " 14%|█▍        | 1/7 [00:00<00:05,  1.12it/s]\u001b[A\n",
      " 29%|██▊       | 2/7 [00:02<00:05,  1.07s/it]\u001b[A\n",
      " 43%|████▎     | 3/7 [00:03<00:03,  1.00it/s]\u001b[A\n",
      " 57%|█████▋    | 4/7 [00:03<00:02,  1.02it/s]\u001b[A\n",
      " 71%|███████▏  | 5/7 [00:04<00:01,  1.02it/s]\u001b[A\n",
      " 86%|████████▌ | 6/7 [00:05<00:00,  1.02it/s]\u001b[A\n",
      "100%|██████████| 7/7 [00:06<00:00,  1.01it/s]\n",
      " 71%|███████   | 293/412 [37:58<21:57, 11.07s/it]"
     ]
    },
    {
     "name": "stdout",
     "output_type": "stream",
     "text": [
      "https://reviews.webmd.com/drugs/drugreview-6092-haloperidol-decanoate-ampul\n"
     ]
    },
    {
     "name": "stderr",
     "output_type": "stream",
     "text": [
      "\n",
      "  0%|          | 0/1 [00:00<?, ?it/s]\u001b[A\n",
      "100%|██████████| 1/1 [00:00<00:00,  1.82it/s]\n",
      " 72%|███████▏  | 295/412 [38:02<12:24,  6.36s/it]"
     ]
    },
    {
     "name": "stdout",
     "output_type": "stream",
     "text": [
      "skipping https://reviews.webmd.com/drugs/drugreview-6124-diazepam-in-soybean-oil-emulsion: page not found\n",
      "https://reviews.webmd.com/drugs/drugreview-6144-vistaril\n"
     ]
    },
    {
     "name": "stderr",
     "output_type": "stream",
     "text": [
      "\n",
      "  0%|          | 0/19 [00:00<?, ?it/s]\u001b[A\n",
      "  5%|▌         | 1/19 [00:00<00:15,  1.18it/s]\u001b[A\n",
      " 11%|█         | 2/19 [00:02<00:21,  1.25s/it]\u001b[A\n",
      " 16%|█▌        | 3/19 [00:03<00:21,  1.33s/it]\u001b[A\n",
      " 21%|██        | 4/19 [00:05<00:22,  1.47s/it]\u001b[A\n",
      " 26%|██▋       | 5/19 [00:06<00:19,  1.41s/it]\u001b[A\n",
      " 32%|███▏      | 6/19 [00:08<00:18,  1.44s/it]\u001b[A\n",
      " 37%|███▋      | 7/19 [00:09<00:16,  1.41s/it]\u001b[A\n",
      " 42%|████▏     | 8/19 [00:10<00:15,  1.37s/it]\u001b[A\n",
      " 47%|████▋     | 9/19 [00:12<00:13,  1.37s/it]\u001b[A\n",
      " 53%|█████▎    | 10/19 [00:13<00:12,  1.42s/it]\u001b[A\n",
      " 58%|█████▊    | 11/19 [00:15<00:11,  1.45s/it]\u001b[A\n",
      " 63%|██████▎   | 12/19 [00:16<00:10,  1.44s/it]\u001b[A\n",
      " 68%|██████▊   | 13/19 [00:18<00:08,  1.45s/it]\u001b[A\n",
      " 74%|███████▎  | 14/19 [00:19<00:07,  1.50s/it]\u001b[A\n",
      " 79%|███████▉  | 15/19 [00:21<00:05,  1.47s/it]\u001b[A\n",
      " 84%|████████▍ | 16/19 [00:22<00:04,  1.49s/it]\u001b[A\n",
      " 89%|████████▉ | 17/19 [00:24<00:02,  1.46s/it]\u001b[A\n",
      " 95%|█████████▍| 18/19 [00:25<00:01,  1.47s/it]\u001b[A\n",
      "100%|██████████| 19/19 [00:27<00:00,  1.42s/it]\n",
      " 72%|███████▏  | 296/412 [38:31<25:24, 13.14s/it]"
     ]
    },
    {
     "name": "stdout",
     "output_type": "stream",
     "text": [
      "https://reviews.webmd.com/drugs/drugreview-6171-asendin-tablet\n"
     ]
    },
    {
     "name": "stderr",
     "output_type": "stream",
     "text": [
      "\n",
      "  0%|          | 0/1 [00:00<?, ?it/s]\u001b[A\n",
      "100%|██████████| 1/1 [00:00<00:00,  1.85it/s]\n",
      " 72%|███████▏  | 297/412 [38:33<19:08,  9.99s/it]"
     ]
    },
    {
     "name": "stdout",
     "output_type": "stream",
     "text": [
      "https://reviews.webmd.com/drugs/drugreview-6172-aventyl-capsule\n"
     ]
    },
    {
     "name": "stderr",
     "output_type": "stream",
     "text": [
      "\n",
      "  0%|          | 0/1 [00:00<?, ?it/s]\u001b[A\n",
      "100%|██████████| 1/1 [00:01<00:00,  1.18s/it]\n",
      " 72%|███████▏  | 298/412 [38:36<15:03,  7.93s/it]"
     ]
    },
    {
     "name": "stdout",
     "output_type": "stream",
     "text": [
      "https://reviews.webmd.com/drugs/drugreview-6222-prolixin-concentrate\n"
     ]
    },
    {
     "name": "stderr",
     "output_type": "stream",
     "text": [
      "\n",
      "  0%|          | 0/1 [00:00<?, ?it/s]\u001b[A\n",
      "100%|██████████| 1/1 [00:00<00:00,  1.26it/s]\n",
      " 73%|███████▎  | 299/412 [38:39<12:04,  6.41s/it]"
     ]
    },
    {
     "name": "stdout",
     "output_type": "stream",
     "text": [
      "https://reviews.webmd.com/drugs/drugreview-6222-prolixin-elixir\n"
     ]
    },
    {
     "name": "stderr",
     "output_type": "stream",
     "text": [
      "\n",
      "  0%|          | 0/1 [00:00<?, ?it/s]\u001b[A\n",
      "100%|██████████| 1/1 [00:00<00:00,  1.13it/s]\n",
      " 73%|███████▎  | 300/412 [38:41<09:22,  5.02s/it]"
     ]
    },
    {
     "name": "stdout",
     "output_type": "stream",
     "text": [
      "https://reviews.webmd.com/drugs/drugreview-6222-prolixin-tablet\n"
     ]
    },
    {
     "name": "stderr",
     "output_type": "stream",
     "text": [
      "\n",
      "  0%|          | 0/1 [00:00<?, ?it/s]\u001b[A\n",
      "100%|██████████| 1/1 [00:01<00:00,  1.09s/it]\n",
      " 73%|███████▎  | 301/412 [38:43<07:36,  4.11s/it]"
     ]
    },
    {
     "name": "stdout",
     "output_type": "stream",
     "text": [
      "https://reviews.webmd.com/drugs/drugreview-6234-thiothixene\n"
     ]
    },
    {
     "name": "stderr",
     "output_type": "stream",
     "text": [
      "\n",
      "  0%|          | 0/1 [00:00<?, ?it/s]\u001b[A\n",
      "100%|██████████| 1/1 [00:00<00:00,  1.56it/s]\n",
      " 73%|███████▎  | 302/412 [38:46<06:45,  3.68s/it]"
     ]
    },
    {
     "name": "stdout",
     "output_type": "stream",
     "text": [
      "https://reviews.webmd.com/drugs/drugreview-6283-risperidone\n"
     ]
    },
    {
     "name": "stderr",
     "output_type": "stream",
     "text": [
      "\n",
      "  0%|          | 0/11 [00:00<?, ?it/s]\u001b[A\n",
      "  9%|▉         | 1/11 [00:00<00:07,  1.29it/s]\u001b[A\n",
      " 18%|█▊        | 2/11 [00:02<00:10,  1.21s/it]\u001b[A\n",
      " 27%|██▋       | 3/11 [00:03<00:10,  1.28s/it]\u001b[A\n",
      " 36%|███▋      | 4/11 [00:05<00:10,  1.45s/it]\u001b[A\n",
      " 45%|████▌     | 5/11 [00:06<00:08,  1.42s/it]\u001b[A\n",
      " 55%|█████▍    | 6/11 [00:08<00:06,  1.38s/it]\u001b[A\n",
      " 64%|██████▎   | 7/11 [00:09<00:05,  1.34s/it]\u001b[A\n",
      " 73%|███████▎  | 8/11 [00:10<00:04,  1.41s/it]\u001b[A\n",
      " 82%|████████▏ | 9/11 [00:12<00:02,  1.48s/it]\u001b[A\n",
      " 91%|█████████ | 10/11 [00:13<00:01,  1.47s/it]\u001b[A\n",
      "100%|██████████| 11/11 [00:15<00:00,  1.38s/it]\n",
      " 74%|███████▎  | 303/412 [39:03<14:04,  7.75s/it]"
     ]
    },
    {
     "name": "stdout",
     "output_type": "stream",
     "text": [
      "https://reviews.webmd.com/drugs/drugreview-6283-risperidone-odt\n"
     ]
    },
    {
     "name": "stderr",
     "output_type": "stream",
     "text": [
      "\n",
      "  0%|          | 0/11 [00:00<?, ?it/s]\u001b[A\n",
      "  9%|▉         | 1/11 [00:00<00:09,  1.10it/s]\u001b[A\n",
      " 18%|█▊        | 2/11 [00:01<00:08,  1.08it/s]\u001b[A\n",
      " 27%|██▋       | 3/11 [00:03<00:08,  1.07s/it]\u001b[A\n",
      " 36%|███▋      | 4/11 [00:04<00:07,  1.02s/it]\u001b[A\n",
      " 45%|████▌     | 5/11 [00:05<00:06,  1.02s/it]\u001b[A\n",
      " 55%|█████▍    | 6/11 [00:06<00:05,  1.01s/it]\u001b[A\n",
      " 64%|██████▎   | 7/11 [00:07<00:03,  1.01it/s]\u001b[A\n",
      " 73%|███████▎  | 8/11 [00:07<00:02,  1.03it/s]\u001b[A\n",
      " 82%|████████▏ | 9/11 [00:09<00:02,  1.05s/it]\u001b[A\n",
      " 91%|█████████ | 10/11 [00:10<00:01,  1.02s/it]\u001b[A\n",
      "100%|██████████| 11/11 [00:11<00:00,  1.00s/it]\n",
      " 74%|███████▍  | 304/412 [39:15<16:12,  9.01s/it]"
     ]
    },
    {
     "name": "stdout",
     "output_type": "stream",
     "text": [
      "https://reviews.webmd.com/drugs/drugreview-6306-diazepam\n"
     ]
    },
    {
     "name": "stderr",
     "output_type": "stream",
     "text": [
      "\n",
      "  0%|          | 0/14 [00:00<?, ?it/s]\u001b[A\n",
      "  7%|▋         | 1/14 [00:00<00:11,  1.09it/s]\u001b[A\n",
      " 14%|█▍        | 2/14 [00:02<00:16,  1.40s/it]\u001b[A\n",
      " 21%|██▏       | 3/14 [00:04<00:15,  1.41s/it]\u001b[A\n",
      " 29%|██▊       | 4/14 [00:05<00:14,  1.50s/it]\u001b[A\n",
      " 36%|███▌      | 5/14 [00:07<00:12,  1.44s/it]\u001b[A\n",
      " 43%|████▎     | 6/14 [00:08<00:11,  1.42s/it]\u001b[A\n",
      " 50%|█████     | 7/14 [00:09<00:09,  1.41s/it]\u001b[A\n",
      " 57%|█████▋    | 8/14 [00:11<00:09,  1.55s/it]\u001b[A\n",
      " 64%|██████▍   | 9/14 [00:13<00:07,  1.50s/it]\u001b[A\n",
      " 71%|███████▏  | 10/14 [00:14<00:05,  1.46s/it]\u001b[A\n",
      " 79%|███████▊  | 11/14 [00:16<00:04,  1.52s/it]\u001b[A\n",
      " 86%|████████▌ | 12/14 [00:17<00:03,  1.56s/it]\u001b[A\n",
      " 93%|█████████▎| 13/14 [00:19<00:01,  1.59s/it]\u001b[A\n",
      "100%|██████████| 14/14 [00:21<00:00,  1.52s/it]\n",
      " 74%|███████▍  | 305/412 [39:38<23:41, 13.28s/it]"
     ]
    },
    {
     "name": "stdout",
     "output_type": "stream",
     "text": [
      "https://reviews.webmd.com/drugs/drugreview-6316-limbitrol-tablet\n"
     ]
    },
    {
     "name": "stderr",
     "output_type": "stream",
     "text": [
      "\n",
      "  0%|          | 0/1 [00:00<?, ?it/s]\u001b[A\n",
      "100%|██████████| 1/1 [00:01<00:00,  1.17s/it]\n",
      " 74%|███████▍  | 306/412 [39:42<18:14, 10.33s/it]"
     ]
    },
    {
     "name": "stdout",
     "output_type": "stream",
     "text": [
      "https://reviews.webmd.com/drugs/drugreview-63989-escitalopram-oxalate\n"
     ]
    },
    {
     "name": "stderr",
     "output_type": "stream",
     "text": [
      "\n",
      "  0%|          | 0/13 [00:00<?, ?it/s]\u001b[A\n",
      "  8%|▊         | 1/13 [00:00<00:10,  1.11it/s]\u001b[A\n",
      " 15%|█▌        | 2/13 [00:02<00:13,  1.25s/it]\u001b[A\n",
      " 23%|██▎       | 3/13 [00:04<00:15,  1.51s/it]\u001b[A\n",
      " 31%|███       | 4/13 [00:05<00:12,  1.42s/it]\u001b[A\n",
      " 38%|███▊      | 5/13 [00:06<00:11,  1.44s/it]\u001b[A\n",
      " 46%|████▌     | 6/13 [00:08<00:10,  1.49s/it]\u001b[A\n",
      " 54%|█████▍    | 7/13 [00:10<00:09,  1.54s/it]\u001b[A\n",
      " 62%|██████▏   | 8/13 [00:11<00:08,  1.60s/it]\u001b[A\n",
      " 69%|██████▉   | 9/13 [00:13<00:06,  1.58s/it]\u001b[A\n",
      " 77%|███████▋  | 10/13 [00:14<00:04,  1.56s/it]\u001b[A\n",
      " 85%|████████▍ | 11/13 [00:16<00:03,  1.58s/it]\u001b[A\n",
      " 92%|█████████▏| 12/13 [00:18<00:01,  1.59s/it]\u001b[A\n",
      "100%|██████████| 13/13 [00:19<00:00,  1.49s/it]\n",
      " 75%|███████▍  | 307/412 [40:03<23:54, 13.66s/it]"
     ]
    },
    {
     "name": "stdout",
     "output_type": "stream",
     "text": [
      "https://reviews.webmd.com/drugs/drugreview-63990-lexapro\n"
     ]
    },
    {
     "name": "stderr",
     "output_type": "stream",
     "text": [
      "\n",
      "  0%|          | 0/215 [00:00<?, ?it/s]\u001b[A\n",
      "  0%|          | 1/215 [00:01<04:06,  1.15s/it]\u001b[A\n",
      "  1%|          | 2/215 [00:03<05:41,  1.61s/it]\u001b[A\n",
      "  1%|▏         | 3/215 [00:05<06:17,  1.78s/it]\u001b[A\n",
      "  2%|▏         | 4/215 [00:07<06:52,  1.95s/it]\u001b[A\n",
      "  2%|▏         | 5/215 [00:09<06:55,  1.98s/it]\u001b[A\n",
      "  3%|▎         | 6/215 [00:11<06:46,  1.95s/it]\u001b[A\n",
      "  3%|▎         | 7/215 [00:13<06:38,  1.91s/it]\u001b[A\n",
      "  4%|▎         | 8/215 [00:14<06:27,  1.87s/it]\u001b[A\n",
      "  4%|▍         | 9/215 [00:16<06:34,  1.91s/it]\u001b[A\n",
      "  5%|▍         | 10/215 [00:18<06:23,  1.87s/it]\u001b[A\n",
      "  5%|▌         | 11/215 [00:20<06:13,  1.83s/it]\u001b[A\n",
      "  6%|▌         | 12/215 [00:22<06:34,  1.94s/it]\u001b[A\n",
      "  6%|▌         | 13/215 [00:24<06:31,  1.94s/it]\u001b[A\n",
      "  7%|▋         | 14/215 [00:26<06:14,  1.86s/it]\u001b[A\n",
      "  7%|▋         | 15/215 [00:28<06:12,  1.86s/it]\u001b[A\n",
      "  7%|▋         | 16/215 [00:29<06:12,  1.87s/it]\u001b[A\n",
      "  8%|▊         | 17/215 [00:32<06:41,  2.03s/it]\u001b[A\n",
      "  8%|▊         | 18/215 [00:34<06:28,  1.97s/it]\u001b[A\n",
      "  9%|▉         | 19/215 [00:36<06:22,  1.95s/it]\u001b[A\n",
      "  9%|▉         | 20/215 [00:37<06:14,  1.92s/it]\u001b[A\n",
      " 10%|▉         | 21/215 [00:39<06:09,  1.91s/it]\u001b[A\n",
      " 10%|█         | 22/215 [00:41<05:51,  1.82s/it]\u001b[A\n",
      " 11%|█         | 23/215 [00:43<05:57,  1.86s/it]\u001b[A\n",
      " 11%|█         | 24/215 [00:45<05:57,  1.87s/it]\u001b[A\n",
      " 12%|█▏        | 25/215 [00:47<05:56,  1.88s/it]\u001b[A\n",
      " 12%|█▏        | 26/215 [00:48<05:52,  1.86s/it]\u001b[A\n",
      " 13%|█▎        | 27/215 [00:50<05:44,  1.83s/it]\u001b[A\n",
      " 13%|█▎        | 28/215 [00:52<05:44,  1.84s/it]\u001b[A\n",
      " 13%|█▎        | 29/215 [00:54<05:38,  1.82s/it]\u001b[A\n",
      " 14%|█▍        | 30/215 [00:56<05:34,  1.81s/it]\u001b[A\n",
      " 14%|█▍        | 31/215 [00:57<05:23,  1.76s/it]\u001b[A\n",
      " 15%|█▍        | 32/215 [00:59<05:15,  1.72s/it]\u001b[A\n",
      " 15%|█▌        | 33/215 [01:01<05:17,  1.74s/it]\u001b[A\n",
      " 16%|█▌        | 34/215 [01:03<05:38,  1.87s/it]\u001b[A\n",
      " 16%|█▋        | 35/215 [01:05<05:41,  1.90s/it]\u001b[A\n",
      " 17%|█▋        | 36/215 [01:07<05:46,  1.94s/it]\u001b[A\n",
      " 17%|█▋        | 37/215 [01:09<05:31,  1.86s/it]\u001b[A\n",
      " 18%|█▊        | 38/215 [01:10<05:30,  1.87s/it]\u001b[A\n",
      " 18%|█▊        | 39/215 [01:12<05:30,  1.88s/it]\u001b[A\n",
      " 19%|█▊        | 40/215 [01:14<05:38,  1.93s/it]\u001b[A\n",
      " 19%|█▉        | 41/215 [01:16<05:24,  1.86s/it]\u001b[A\n",
      " 20%|█▉        | 42/215 [01:18<05:28,  1.90s/it]\u001b[A\n",
      " 20%|██        | 43/215 [01:20<05:23,  1.88s/it]\u001b[A\n",
      " 20%|██        | 44/215 [01:22<05:21,  1.88s/it]\u001b[A\n",
      " 21%|██        | 45/215 [01:24<05:37,  1.98s/it]\u001b[A\n",
      " 21%|██▏       | 46/215 [01:26<05:49,  2.07s/it]\u001b[A\n",
      " 22%|██▏       | 47/215 [01:28<05:41,  2.03s/it]\u001b[A\n",
      " 22%|██▏       | 48/215 [01:30<05:35,  2.01s/it]\u001b[A\n",
      " 23%|██▎       | 49/215 [01:32<05:28,  1.98s/it]\u001b[A\n",
      " 23%|██▎       | 50/215 [01:34<05:14,  1.90s/it]\u001b[A\n",
      " 24%|██▎       | 51/215 [01:36<05:16,  1.93s/it]\u001b[A\n",
      " 24%|██▍       | 52/215 [01:38<05:04,  1.87s/it]\u001b[A\n",
      " 25%|██▍       | 53/215 [01:39<05:01,  1.86s/it]\u001b[A\n",
      " 25%|██▌       | 54/215 [01:41<05:07,  1.91s/it]\u001b[A\n",
      " 26%|██▌       | 55/215 [01:43<04:55,  1.85s/it]\u001b[A\n",
      " 26%|██▌       | 56/215 [01:45<05:12,  1.96s/it]\u001b[A\n",
      " 27%|██▋       | 57/215 [01:48<05:18,  2.02s/it]\u001b[A\n",
      " 27%|██▋       | 58/215 [01:49<05:14,  2.00s/it]\u001b[A\n",
      " 27%|██▋       | 59/215 [01:51<05:04,  1.95s/it]\u001b[A\n",
      " 28%|██▊       | 60/215 [01:53<04:49,  1.87s/it]\u001b[A\n",
      " 28%|██▊       | 61/215 [01:55<04:48,  1.87s/it]\u001b[A\n",
      " 29%|██▉       | 62/215 [01:57<04:40,  1.84s/it]\u001b[A\n",
      " 29%|██▉       | 63/215 [01:59<04:45,  1.88s/it]\u001b[A\n",
      " 30%|██▉       | 64/215 [02:00<04:41,  1.87s/it]\u001b[A\n",
      " 30%|███       | 65/215 [02:02<04:36,  1.84s/it]\u001b[A\n",
      " 31%|███       | 66/215 [02:04<04:34,  1.84s/it]\u001b[A\n",
      " 31%|███       | 67/215 [02:06<04:30,  1.83s/it]\u001b[A\n",
      " 32%|███▏      | 68/215 [02:08<04:38,  1.89s/it]\u001b[A\n",
      " 32%|███▏      | 69/215 [02:10<04:36,  1.89s/it]\u001b[A\n",
      " 33%|███▎      | 70/215 [02:11<04:26,  1.84s/it]\u001b[A\n",
      " 33%|███▎      | 71/215 [02:13<04:24,  1.83s/it]\u001b[A\n",
      " 33%|███▎      | 72/215 [02:15<04:18,  1.80s/it]\u001b[A\n",
      " 34%|███▍      | 73/215 [02:17<04:16,  1.81s/it]\u001b[A\n",
      " 34%|███▍      | 74/215 [02:19<04:27,  1.90s/it]\u001b[A\n",
      " 35%|███▍      | 75/215 [02:21<04:23,  1.88s/it]\u001b[A\n",
      " 35%|███▌      | 76/215 [02:23<04:14,  1.83s/it]\u001b[A\n",
      " 36%|███▌      | 77/215 [02:24<04:11,  1.82s/it]\u001b[A\n",
      " 36%|███▋      | 78/215 [02:26<04:07,  1.81s/it]\u001b[A\n",
      " 37%|███▋      | 79/215 [02:28<04:04,  1.79s/it]\u001b[A\n",
      " 37%|███▋      | 80/215 [02:30<04:15,  1.89s/it]\u001b[A\n",
      " 38%|███▊      | 81/215 [02:32<04:12,  1.88s/it]\u001b[A\n",
      " 38%|███▊      | 82/215 [02:34<04:10,  1.88s/it]\u001b[A\n",
      " 39%|███▊      | 83/215 [02:36<04:05,  1.86s/it]\u001b[A\n",
      " 39%|███▉      | 84/215 [02:37<03:58,  1.82s/it]\u001b[A\n",
      " 40%|███▉      | 85/215 [02:39<04:03,  1.88s/it]\u001b[A\n",
      " 40%|████      | 86/215 [02:41<04:05,  1.91s/it]\u001b[A\n",
      " 40%|████      | 87/215 [02:43<03:57,  1.85s/it]\u001b[A\n",
      " 41%|████      | 88/215 [02:45<03:54,  1.84s/it]\u001b[A\n",
      " 41%|████▏     | 89/215 [02:47<03:51,  1.84s/it]\u001b[A\n",
      " 42%|████▏     | 90/215 [02:48<03:44,  1.79s/it]\u001b[A\n",
      " 42%|████▏     | 91/215 [02:50<03:42,  1.79s/it]\u001b[A\n",
      " 43%|████▎     | 92/215 [02:52<03:44,  1.83s/it]\u001b[A\n",
      " 43%|████▎     | 93/215 [02:54<03:39,  1.80s/it]\u001b[A\n",
      " 44%|████▎     | 94/215 [02:56<03:42,  1.84s/it]\u001b[A\n",
      " 44%|████▍     | 95/215 [02:58<03:47,  1.89s/it]\u001b[A\n",
      " 45%|████▍     | 96/215 [03:00<03:43,  1.88s/it]\u001b[A\n",
      " 45%|████▌     | 97/215 [03:02<03:51,  1.96s/it]\u001b[A\n",
      " 46%|████▌     | 98/215 [03:03<03:41,  1.89s/it]\u001b[A\n",
      " 46%|████▌     | 99/215 [03:05<03:28,  1.80s/it]\u001b[A\n",
      " 47%|████▋     | 100/215 [03:07<03:27,  1.81s/it]\u001b[A\n",
      " 47%|████▋     | 101/215 [03:09<03:22,  1.77s/it]\u001b[A\n",
      " 47%|████▋     | 102/215 [03:10<03:25,  1.82s/it]\u001b[A\n",
      " 48%|████▊     | 103/215 [03:12<03:18,  1.77s/it]\u001b[A\n",
      " 48%|████▊     | 104/215 [03:14<03:12,  1.73s/it]\u001b[A\n",
      " 49%|████▉     | 105/215 [03:16<03:11,  1.74s/it]\u001b[A\n",
      " 49%|████▉     | 106/215 [03:18<03:18,  1.82s/it]\u001b[A\n",
      " 50%|████▉     | 107/215 [03:19<03:15,  1.81s/it]\u001b[A\n",
      " 50%|█████     | 108/215 [03:21<03:18,  1.86s/it]\u001b[A\n",
      " 51%|█████     | 109/215 [03:23<03:11,  1.80s/it]\u001b[A\n",
      " 51%|█████     | 110/215 [03:25<03:10,  1.82s/it]\u001b[A\n",
      " 52%|█████▏    | 111/215 [03:27<03:06,  1.79s/it]\u001b[A\n",
      " 52%|█████▏    | 112/215 [03:28<03:00,  1.76s/it]\u001b[A\n",
      " 53%|█████▎    | 113/215 [03:30<03:02,  1.79s/it]\u001b[A\n",
      " 53%|█████▎    | 114/215 [03:32<03:16,  1.95s/it]\u001b[A\n",
      " 53%|█████▎    | 115/215 [03:34<03:18,  1.98s/it]\u001b[A\n",
      " 54%|█████▍    | 116/215 [03:36<03:13,  1.95s/it]\u001b[A\n",
      " 54%|█████▍    | 117/215 [03:38<03:08,  1.92s/it]\u001b[A\n",
      " 55%|█████▍    | 118/215 [03:40<03:05,  1.92s/it]\u001b[A\n",
      " 55%|█████▌    | 119/215 [03:42<03:11,  1.99s/it]\u001b[A\n",
      " 56%|█████▌    | 120/215 [03:44<03:02,  1.92s/it]\u001b[A\n",
      " 56%|█████▋    | 121/215 [03:46<02:57,  1.89s/it]\u001b[A\n",
      " 57%|█████▋    | 122/215 [03:48<02:55,  1.89s/it]\u001b[A\n",
      " 57%|█████▋    | 123/215 [03:50<02:51,  1.86s/it]\u001b[A\n",
      " 58%|█████▊    | 124/215 [03:51<02:47,  1.84s/it]\u001b[A\n",
      " 58%|█████▊    | 125/215 [03:54<02:58,  1.98s/it]\u001b[A\n",
      " 59%|█████▊    | 126/215 [03:55<02:46,  1.87s/it]\u001b[A\n",
      " 59%|█████▉    | 127/215 [03:57<02:39,  1.82s/it]\u001b[A\n",
      " 60%|█████▉    | 128/215 [03:59<02:37,  1.81s/it]\u001b[A\n",
      " 60%|██████    | 129/215 [04:00<02:32,  1.78s/it]\u001b[A\n",
      " 60%|██████    | 130/215 [04:02<02:35,  1.83s/it]\u001b[A\n",
      " 61%|██████    | 131/215 [04:04<02:32,  1.82s/it]\u001b[A\n",
      " 61%|██████▏   | 132/215 [04:06<02:32,  1.84s/it]\u001b[A\n",
      " 62%|██████▏   | 133/215 [04:08<02:25,  1.78s/it]\u001b[A\n",
      " 62%|██████▏   | 134/215 [04:10<02:25,  1.80s/it]\u001b[A\n",
      " 63%|██████▎   | 135/215 [04:12<02:28,  1.85s/it]\u001b[A\n",
      " 63%|██████▎   | 136/215 [04:14<02:34,  1.95s/it]\u001b[A\n",
      " 64%|██████▎   | 137/215 [04:16<02:29,  1.91s/it]\u001b[A\n",
      " 64%|██████▍   | 138/215 [04:17<02:25,  1.89s/it]\u001b[A\n",
      " 65%|██████▍   | 139/215 [04:19<02:16,  1.79s/it]\u001b[A\n",
      " 65%|██████▌   | 140/215 [04:21<02:16,  1.82s/it]\u001b[A\n",
      " 66%|██████▌   | 141/215 [04:23<02:16,  1.84s/it]\u001b[A\n",
      " 66%|██████▌   | 142/215 [04:25<02:19,  1.91s/it]\u001b[A\n",
      " 67%|██████▋   | 143/215 [04:27<02:16,  1.89s/it]\u001b[A\n",
      " 67%|██████▋   | 144/215 [04:29<02:14,  1.90s/it]\u001b[A\n",
      " 67%|██████▋   | 145/215 [04:30<02:12,  1.89s/it]\u001b[A\n",
      " 68%|██████▊   | 146/215 [04:32<02:06,  1.84s/it]\u001b[A\n",
      " 68%|██████▊   | 147/215 [04:34<02:07,  1.87s/it]\u001b[A\n",
      " 69%|██████▉   | 148/215 [04:36<02:01,  1.81s/it]\u001b[A\n",
      " 69%|██████▉   | 149/215 [04:38<02:00,  1.83s/it]\u001b[A\n",
      " 70%|██████▉   | 150/215 [04:39<01:54,  1.75s/it]\u001b[A\n",
      " 70%|███████   | 151/215 [04:41<01:52,  1.76s/it]\u001b[A\n",
      " 71%|███████   | 152/215 [04:43<01:50,  1.76s/it]\u001b[A\n",
      " 71%|███████   | 153/215 [04:45<01:52,  1.82s/it]\u001b[A\n",
      " 72%|███████▏  | 154/215 [04:46<01:46,  1.74s/it]\u001b[A\n",
      " 72%|███████▏  | 155/215 [04:48<01:44,  1.74s/it]\u001b[A\n",
      " 73%|███████▎  | 156/215 [04:50<01:42,  1.74s/it]\u001b[A\n",
      " 73%|███████▎  | 157/215 [04:51<01:39,  1.72s/it]\u001b[A\n",
      " 73%|███████▎  | 158/215 [04:53<01:40,  1.77s/it]\u001b[A\n",
      " 74%|███████▍  | 159/215 [04:56<01:48,  1.94s/it]\u001b[A\n",
      " 74%|███████▍  | 160/215 [04:57<01:43,  1.87s/it]\u001b[A\n",
      " 75%|███████▍  | 161/215 [04:59<01:39,  1.84s/it]\u001b[A\n",
      " 75%|███████▌  | 162/215 [05:01<01:35,  1.79s/it]\u001b[A\n",
      " 76%|███████▌  | 163/215 [05:03<01:33,  1.80s/it]\u001b[A\n",
      " 76%|███████▋  | 164/215 [05:05<01:35,  1.87s/it]\u001b[A\n",
      " 77%|███████▋  | 165/215 [05:06<01:28,  1.77s/it]\u001b[A\n",
      " 77%|███████▋  | 166/215 [05:08<01:26,  1.77s/it]\u001b[A\n",
      " 78%|███████▊  | 167/215 [05:10<01:22,  1.72s/it]\u001b[A\n",
      " 78%|███████▊  | 168/215 [05:11<01:20,  1.71s/it]\u001b[A\n",
      " 79%|███████▊  | 169/215 [05:13<01:21,  1.78s/it]\u001b[A\n",
      " 79%|███████▉  | 170/215 [05:15<01:24,  1.87s/it]\u001b[A\n",
      " 80%|███████▉  | 171/215 [05:17<01:22,  1.87s/it]\u001b[A\n",
      " 80%|████████  | 172/215 [05:19<01:18,  1.84s/it]\u001b[A\n",
      " 80%|████████  | 173/215 [05:21<01:16,  1.82s/it]\u001b[A\n",
      " 81%|████████  | 174/215 [05:23<01:15,  1.84s/it]\u001b[A\n",
      " 81%|████████▏ | 175/215 [05:24<01:12,  1.80s/it]\u001b[A\n",
      " 82%|████████▏ | 176/215 [05:27<01:16,  1.96s/it]\u001b[A\n",
      " 82%|████████▏ | 177/215 [05:28<01:13,  1.92s/it]\u001b[A\n",
      " 83%|████████▎ | 178/215 [05:30<01:08,  1.86s/it]\u001b[A\n",
      " 83%|████████▎ | 179/215 [05:32<01:08,  1.90s/it]\u001b[A\n",
      " 84%|████████▎ | 180/215 [05:34<01:03,  1.81s/it]\u001b[A\n",
      " 84%|████████▍ | 181/215 [05:36<01:03,  1.87s/it]\u001b[A\n",
      " 85%|████████▍ | 182/215 [05:38<01:00,  1.84s/it]\u001b[A\n",
      " 85%|████████▌ | 183/215 [05:39<00:56,  1.78s/it]\u001b[A\n",
      " 86%|████████▌ | 184/215 [05:41<00:54,  1.75s/it]\u001b[A\n",
      " 86%|████████▌ | 185/215 [05:42<00:51,  1.72s/it]\u001b[A\n",
      " 87%|████████▋ | 186/215 [05:44<00:50,  1.73s/it]\u001b[A\n",
      " 87%|████████▋ | 187/215 [05:46<00:51,  1.84s/it]\u001b[A\n",
      " 87%|████████▋ | 188/215 [05:48<00:49,  1.83s/it]\u001b[A\n",
      " 88%|████████▊ | 189/215 [05:50<00:47,  1.83s/it]\u001b[A\n",
      " 88%|████████▊ | 190/215 [05:52<00:44,  1.78s/it]\u001b[A\n",
      " 89%|████████▉ | 191/215 [05:53<00:42,  1.77s/it]\u001b[A\n",
      " 89%|████████▉ | 192/215 [05:56<00:44,  1.91s/it]\u001b[A\n",
      " 90%|████████▉ | 193/215 [05:57<00:40,  1.86s/it]\u001b[A\n",
      " 90%|█████████ | 194/215 [05:59<00:39,  1.90s/it]\u001b[A\n",
      " 91%|█████████ | 195/215 [06:01<00:37,  1.85s/it]\u001b[A\n",
      " 91%|█████████ | 196/215 [06:03<00:34,  1.82s/it]\u001b[A\n",
      " 92%|█████████▏| 197/215 [06:05<00:32,  1.78s/it]\u001b[A\n",
      " 92%|█████████▏| 198/215 [06:07<00:31,  1.84s/it]\u001b[A\n",
      " 93%|█████████▎| 199/215 [06:08<00:28,  1.77s/it]\u001b[A\n",
      " 93%|█████████▎| 200/215 [06:10<00:26,  1.79s/it]\u001b[A\n",
      " 93%|█████████▎| 201/215 [06:12<00:24,  1.78s/it]\u001b[A\n",
      " 94%|█████████▍| 202/215 [06:13<00:22,  1.75s/it]\u001b[A\n",
      " 94%|█████████▍| 203/215 [06:15<00:21,  1.78s/it]\u001b[A\n",
      " 95%|█████████▍| 204/215 [06:17<00:19,  1.80s/it]\u001b[A\n",
      " 95%|█████████▌| 205/215 [06:19<00:17,  1.78s/it]\u001b[A\n",
      " 96%|█████████▌| 206/215 [06:20<00:15,  1.73s/it]\u001b[A\n",
      " 96%|█████████▋| 207/215 [06:22<00:13,  1.72s/it]\u001b[A\n",
      " 97%|█████████▋| 208/215 [06:24<00:11,  1.69s/it]\u001b[A\n",
      " 97%|█████████▋| 209/215 [06:26<00:10,  1.78s/it]\u001b[A\n",
      " 98%|█████████▊| 210/215 [06:28<00:09,  1.81s/it]\u001b[A\n",
      " 98%|█████████▊| 211/215 [06:30<00:07,  1.84s/it]\u001b[A\n",
      " 99%|█████████▊| 212/215 [06:31<00:05,  1.84s/it]\u001b[A\n",
      " 99%|█████████▉| 213/215 [06:33<00:03,  1.85s/it]\u001b[A\n",
      "100%|█████████▉| 214/215 [06:35<00:01,  1.81s/it]\u001b[A\n",
      "100%|██████████| 215/215 [06:37<00:00,  1.85s/it]\n",
      " 75%|███████▍  | 308/412 [46:43<3:44:40, 129.62s/it]"
     ]
    },
    {
     "name": "stdout",
     "output_type": "stream",
     "text": [
      "https://reviews.webmd.com/drugs/drugreview-64437-aripiprazole\n"
     ]
    },
    {
     "name": "stderr",
     "output_type": "stream",
     "text": [
      "\n",
      "  0%|          | 0/4 [00:00<?, ?it/s]\u001b[A\n",
      " 25%|██▌       | 1/4 [00:00<00:02,  1.11it/s]\u001b[A\n",
      " 50%|█████     | 2/4 [00:02<00:02,  1.20s/it]\u001b[A\n",
      " 75%|███████▌  | 3/4 [00:03<00:01,  1.29s/it]\u001b[A\n",
      "100%|██████████| 4/4 [00:04<00:00,  1.22s/it]\n",
      " 75%|███████▌  | 309/412 [46:50<2:39:19, 92.81s/it] "
     ]
    },
    {
     "name": "stdout",
     "output_type": "stream",
     "text": [
      "https://reviews.webmd.com/drugs/drugreview-64437-aripiprazole-odt\n"
     ]
    },
    {
     "name": "stderr",
     "output_type": "stream",
     "text": [
      "\n",
      "  0%|          | 0/4 [00:00<?, ?it/s]\u001b[A\n",
      " 25%|██▌       | 1/4 [00:00<00:02,  1.18it/s]\u001b[A\n",
      " 50%|█████     | 2/4 [00:01<00:01,  1.07it/s]\u001b[A\n",
      " 75%|███████▌  | 3/4 [00:02<00:00,  1.10it/s]\u001b[A\n",
      "100%|██████████| 4/4 [00:03<00:00,  1.16it/s]\n",
      " 75%|███████▌  | 310/412 [46:55<1:52:50, 66.37s/it]"
     ]
    },
    {
     "name": "stdout",
     "output_type": "stream",
     "text": [
      "https://reviews.webmd.com/drugs/drugreview-64437-aripiprazole-tablet-with-sensor-and-patch\n"
     ]
    },
    {
     "name": "stderr",
     "output_type": "stream",
     "text": [
      "\n",
      "  0%|          | 0/4 [00:00<?, ?it/s]\u001b[A\n",
      " 25%|██▌       | 1/4 [00:00<00:02,  1.04it/s]\u001b[A\n",
      " 50%|█████     | 2/4 [00:02<00:02,  1.05s/it]\u001b[A\n",
      " 75%|███████▌  | 3/4 [00:02<00:00,  1.02it/s]\u001b[A\n",
      "100%|██████████| 4/4 [00:03<00:00,  1.10it/s]\n",
      " 75%|███████▌  | 311/412 [46:59<1:20:33, 47.85s/it]"
     ]
    },
    {
     "name": "stdout",
     "output_type": "stream",
     "text": [
      "https://reviews.webmd.com/drugs/drugreview-64439-abilify\n"
     ]
    },
    {
     "name": "stderr",
     "output_type": "stream",
     "text": [
      "\n",
      "  0%|          | 0/95 [00:00<?, ?it/s]\u001b[A\n",
      "  1%|          | 1/95 [00:00<01:27,  1.07it/s]\u001b[A\n",
      "  2%|▏         | 2/95 [00:02<02:08,  1.38s/it]\u001b[A\n",
      "  3%|▎         | 3/95 [00:04<02:30,  1.63s/it]\u001b[A\n",
      "  4%|▍         | 4/95 [00:06<02:30,  1.65s/it]\u001b[A\n",
      "  5%|▌         | 5/95 [00:07<02:20,  1.56s/it]\u001b[A\n",
      "  6%|▋         | 6/95 [00:09<02:16,  1.53s/it]\u001b[A\n",
      "  7%|▋         | 7/95 [00:10<02:18,  1.58s/it]\u001b[A\n",
      "  8%|▊         | 8/95 [00:12<02:21,  1.62s/it]\u001b[A\n",
      "  9%|▉         | 9/95 [00:13<02:15,  1.58s/it]\u001b[A\n",
      " 11%|█         | 10/95 [00:15<02:15,  1.60s/it]\u001b[A\n",
      " 12%|█▏        | 11/95 [00:17<02:12,  1.57s/it]\u001b[A\n",
      " 13%|█▎        | 12/95 [00:18<02:09,  1.56s/it]\u001b[A\n",
      " 14%|█▎        | 13/95 [00:20<02:07,  1.55s/it]\u001b[A\n",
      " 15%|█▍        | 14/95 [00:22<02:23,  1.77s/it]\u001b[A\n",
      " 16%|█▌        | 15/95 [00:24<02:18,  1.74s/it]\u001b[A\n",
      " 17%|█▋        | 16/95 [00:25<02:17,  1.73s/it]\u001b[A\n",
      " 18%|█▊        | 17/95 [00:27<02:15,  1.74s/it]\u001b[A\n",
      " 19%|█▉        | 18/95 [00:29<02:09,  1.68s/it]\u001b[A\n",
      " 20%|██        | 19/95 [00:30<02:04,  1.64s/it]\u001b[A\n",
      " 21%|██        | 20/95 [00:32<02:07,  1.70s/it]\u001b[A\n",
      " 22%|██▏       | 21/95 [00:34<02:06,  1.71s/it]\u001b[A\n",
      " 23%|██▎       | 22/95 [00:36<02:06,  1.74s/it]\u001b[A\n",
      " 24%|██▍       | 23/95 [00:37<02:03,  1.71s/it]\u001b[A\n",
      " 25%|██▌       | 24/95 [00:39<01:57,  1.66s/it]\u001b[A\n",
      " 26%|██▋       | 25/95 [00:40<01:54,  1.64s/it]\u001b[A\n",
      " 27%|██▋       | 26/95 [00:43<02:14,  1.96s/it]\u001b[A\n",
      " 28%|██▊       | 27/95 [00:45<02:04,  1.84s/it]\u001b[A\n",
      " 29%|██▉       | 28/95 [00:46<01:58,  1.77s/it]\u001b[A\n",
      " 31%|███       | 29/95 [00:48<01:57,  1.78s/it]\u001b[A\n",
      " 32%|███▏      | 30/95 [00:50<01:49,  1.69s/it]\u001b[A\n",
      " 33%|███▎      | 31/95 [00:52<01:54,  1.79s/it]\u001b[A\n",
      " 34%|███▎      | 32/95 [00:53<01:50,  1.75s/it]\u001b[A\n",
      " 35%|███▍      | 33/95 [00:55<01:50,  1.78s/it]\u001b[A\n",
      " 36%|███▌      | 34/95 [00:57<01:43,  1.70s/it]\u001b[A\n",
      " 37%|███▋      | 35/95 [00:58<01:40,  1.67s/it]\u001b[A\n",
      " 38%|███▊      | 36/95 [01:00<01:41,  1.72s/it]\u001b[A\n",
      " 39%|███▉      | 37/95 [01:02<01:45,  1.81s/it]\u001b[A\n",
      " 40%|████      | 38/95 [01:04<01:39,  1.75s/it]\u001b[A\n",
      " 41%|████      | 39/95 [01:06<01:43,  1.85s/it]\u001b[A\n",
      " 42%|████▏     | 40/95 [01:07<01:36,  1.75s/it]\u001b[A\n",
      " 43%|████▎     | 41/95 [01:09<01:35,  1.76s/it]\u001b[A\n",
      " 44%|████▍     | 42/95 [01:11<01:33,  1.76s/it]\u001b[A\n",
      " 45%|████▌     | 43/95 [01:12<01:29,  1.72s/it]\u001b[A\n",
      " 46%|████▋     | 44/95 [01:14<01:25,  1.68s/it]\u001b[A\n",
      " 47%|████▋     | 45/95 [01:16<01:22,  1.65s/it]\u001b[A\n",
      " 48%|████▊     | 46/95 [01:17<01:19,  1.62s/it]\u001b[A\n",
      " 49%|████▉     | 47/95 [01:19<01:15,  1.58s/it]\u001b[A\n",
      " 51%|█████     | 48/95 [01:20<01:16,  1.63s/it]\u001b[A\n",
      " 52%|█████▏    | 49/95 [01:22<01:13,  1.59s/it]\u001b[A\n",
      " 53%|█████▎    | 50/95 [01:24<01:12,  1.62s/it]\u001b[A\n",
      " 54%|█████▎    | 51/95 [01:25<01:11,  1.62s/it]\u001b[A\n",
      " 55%|█████▍    | 52/95 [01:27<01:10,  1.65s/it]\u001b[A\n",
      " 56%|█████▌    | 53/95 [01:29<01:13,  1.74s/it]\u001b[A\n",
      " 57%|█████▋    | 54/95 [01:30<01:10,  1.71s/it]\u001b[A\n",
      " 58%|█████▊    | 55/95 [01:32<01:07,  1.68s/it]\u001b[A\n",
      " 59%|█████▉    | 56/95 [01:34<01:07,  1.73s/it]\u001b[A\n",
      " 60%|██████    | 57/95 [01:35<01:03,  1.66s/it]\u001b[A\n",
      " 61%|██████    | 58/95 [01:37<01:00,  1.63s/it]\u001b[A\n",
      " 62%|██████▏   | 59/95 [01:39<01:02,  1.72s/it]\u001b[A\n",
      " 63%|██████▎   | 60/95 [01:41<00:59,  1.71s/it]\u001b[A\n",
      " 64%|██████▍   | 61/95 [01:42<00:56,  1.66s/it]\u001b[A\n",
      " 65%|██████▌   | 62/95 [01:44<00:56,  1.72s/it]\u001b[A\n",
      " 66%|██████▋   | 63/95 [01:45<00:52,  1.64s/it]\u001b[A\n",
      " 67%|██████▋   | 64/95 [01:47<00:52,  1.68s/it]\u001b[A\n",
      " 68%|██████▊   | 65/95 [01:49<00:53,  1.78s/it]\u001b[A\n",
      " 69%|██████▉   | 66/95 [01:51<00:49,  1.71s/it]\u001b[A\n",
      " 71%|███████   | 67/95 [01:52<00:46,  1.67s/it]\u001b[A\n",
      " 72%|███████▏  | 68/95 [01:54<00:43,  1.63s/it]\u001b[A\n",
      " 73%|███████▎  | 69/95 [01:57<00:53,  2.07s/it]\u001b[A\n",
      " 74%|███████▎  | 70/95 [01:59<00:49,  1.97s/it]\u001b[A\n",
      " 75%|███████▍  | 71/95 [02:01<00:46,  1.94s/it]\u001b[A\n",
      " 76%|███████▌  | 72/95 [02:02<00:43,  1.91s/it]\u001b[A\n",
      " 77%|███████▋  | 73/95 [02:04<00:41,  1.89s/it]\u001b[A\n",
      " 78%|███████▊  | 74/95 [02:06<00:37,  1.80s/it]\u001b[A\n",
      " 79%|███████▉  | 75/95 [02:08<00:35,  1.77s/it]\u001b[A\n",
      " 80%|████████  | 76/95 [02:09<00:33,  1.75s/it]\u001b[A\n",
      " 81%|████████  | 77/95 [02:11<00:31,  1.73s/it]\u001b[A\n",
      " 82%|████████▏ | 78/95 [02:13<00:29,  1.73s/it]\u001b[A\n",
      " 83%|████████▎ | 79/95 [02:15<00:30,  1.89s/it]\u001b[A\n",
      " 84%|████████▍ | 80/95 [02:17<00:27,  1.83s/it]\u001b[A\n",
      " 85%|████████▌ | 81/95 [02:18<00:24,  1.78s/it]\u001b[A\n",
      " 86%|████████▋ | 82/95 [02:20<00:22,  1.77s/it]\u001b[A\n",
      " 87%|████████▋ | 83/95 [02:22<00:20,  1.70s/it]\u001b[A\n",
      " 88%|████████▊ | 84/95 [02:23<00:18,  1.71s/it]\u001b[A\n",
      " 89%|████████▉ | 85/95 [02:25<00:17,  1.74s/it]\u001b[A\n",
      " 91%|█████████ | 86/95 [02:27<00:15,  1.71s/it]\u001b[A\n",
      " 92%|█████████▏| 87/95 [02:29<00:14,  1.81s/it]\u001b[A\n",
      " 93%|█████████▎| 88/95 [02:31<00:12,  1.78s/it]\u001b[A\n",
      " 94%|█████████▎| 89/95 [02:32<00:10,  1.76s/it]\u001b[A\n",
      " 95%|█████████▍| 90/95 [02:34<00:08,  1.70s/it]\u001b[A\n",
      " 96%|█████████▌| 91/95 [02:36<00:06,  1.72s/it]\u001b[A\n",
      " 97%|█████████▋| 92/95 [02:37<00:05,  1.74s/it]\u001b[A\n",
      " 98%|█████████▊| 93/95 [02:39<00:03,  1.73s/it]\u001b[A\n",
      " 99%|█████████▉| 94/95 [02:41<00:01,  1.66s/it]\u001b[A\n",
      "100%|██████████| 95/95 [02:42<00:00,  1.71s/it]\n",
      " 76%|███████▌  | 312/412 [49:44<2:18:04, 82.84s/it]"
     ]
    },
    {
     "name": "stdout",
     "output_type": "stream",
     "text": [
      "https://reviews.webmd.com/drugs/drugreview-6463-anx-tablet\n"
     ]
    },
    {
     "name": "stderr",
     "output_type": "stream",
     "text": [
      " 76%|███████▌  | 314/412 [49:47<1:07:21, 41.24s/it]"
     ]
    },
    {
     "name": "stdout",
     "output_type": "stream",
     "text": [
      "skipping https://reviews.webmd.com/drugs/drugreview-64731-valproic-acid-liquid: page not found\n",
      "https://reviews.webmd.com/drugs/drugreview-6511-rezine-tablet\n"
     ]
    },
    {
     "name": "stderr",
     "output_type": "stream",
     "text": [
      "\n",
      "  0%|          | 0/1 [00:00<?, ?it/s]\u001b[A\n",
      "100%|██████████| 1/1 [00:00<00:00,  1.88it/s]\n",
      " 76%|███████▋  | 315/412 [49:49<47:46, 29.55s/it]  "
     ]
    },
    {
     "name": "stdout",
     "output_type": "stream",
     "text": [
      "https://reviews.webmd.com/drugs/drugreview-6572-stelazine-tablet\n"
     ]
    },
    {
     "name": "stderr",
     "output_type": "stream",
     "text": [
      "\n",
      "  0%|          | 0/1 [00:00<?, ?it/s]\u001b[A\n",
      "100%|██████████| 1/1 [00:00<00:00,  1.28it/s]\n",
      " 77%|███████▋  | 316/412 [49:52<34:25, 21.51s/it]"
     ]
    },
    {
     "name": "stdout",
     "output_type": "stream",
     "text": [
      "https://reviews.webmd.com/drugs/drugreview-6685-ativan\n"
     ]
    },
    {
     "name": "stderr",
     "output_type": "stream",
     "text": [
      "\n",
      "  0%|          | 0/53 [00:00<?, ?it/s]\u001b[A\n",
      "  2%|▏         | 1/53 [00:01<00:53,  1.03s/it]\u001b[A\n",
      "  4%|▍         | 2/53 [00:02<01:18,  1.54s/it]\u001b[A\n",
      "  6%|▌         | 3/53 [00:04<01:21,  1.63s/it]\u001b[A\n",
      "  8%|▊         | 4/53 [00:06<01:20,  1.64s/it]\u001b[A\n",
      "  9%|▉         | 5/53 [00:07<01:14,  1.55s/it]\u001b[A\n",
      " 11%|█▏        | 6/53 [00:09<01:10,  1.50s/it]\u001b[A\n",
      " 13%|█▎        | 7/53 [00:11<01:16,  1.67s/it]\u001b[A\n",
      " 15%|█▌        | 8/53 [00:12<01:11,  1.59s/it]\u001b[A\n",
      " 17%|█▋        | 9/53 [00:14<01:09,  1.57s/it]\u001b[A\n",
      " 19%|█▉        | 10/53 [00:15<01:04,  1.50s/it]\u001b[A\n",
      " 21%|██        | 11/53 [00:16<01:02,  1.50s/it]\u001b[A\n",
      " 23%|██▎       | 12/53 [00:18<01:06,  1.62s/it]\u001b[A\n",
      " 25%|██▍       | 13/53 [00:20<01:02,  1.56s/it]\u001b[A\n",
      " 26%|██▋       | 14/53 [00:21<01:00,  1.55s/it]\u001b[A\n",
      " 28%|██▊       | 15/53 [00:23<00:58,  1.55s/it]\u001b[A\n",
      " 30%|███       | 16/53 [00:25<00:58,  1.59s/it]\u001b[A\n",
      " 32%|███▏      | 17/53 [00:26<00:57,  1.61s/it]\u001b[A\n",
      " 34%|███▍      | 18/53 [00:28<00:56,  1.62s/it]\u001b[A\n",
      " 36%|███▌      | 19/53 [00:29<00:53,  1.58s/it]\u001b[A\n",
      " 38%|███▊      | 20/53 [00:31<00:53,  1.61s/it]\u001b[A\n",
      " 40%|███▉      | 21/53 [00:32<00:49,  1.56s/it]\u001b[A\n",
      " 42%|████▏     | 22/53 [00:34<00:49,  1.61s/it]\u001b[A\n",
      " 43%|████▎     | 23/53 [00:36<00:49,  1.63s/it]\u001b[A\n",
      " 45%|████▌     | 24/53 [00:37<00:45,  1.56s/it]\u001b[A\n",
      " 47%|████▋     | 25/53 [00:39<00:44,  1.57s/it]\u001b[A\n",
      " 49%|████▉     | 26/53 [00:40<00:42,  1.58s/it]\u001b[A\n",
      " 51%|█████     | 27/53 [00:42<00:44,  1.70s/it]\u001b[A\n",
      " 53%|█████▎    | 28/53 [00:44<00:40,  1.63s/it]\u001b[A\n",
      " 55%|█████▍    | 29/53 [00:46<00:40,  1.69s/it]\u001b[A\n",
      " 57%|█████▋    | 30/53 [00:47<00:39,  1.70s/it]\u001b[A\n",
      " 58%|█████▊    | 31/53 [00:49<00:35,  1.61s/it]\u001b[A\n",
      " 60%|██████    | 32/53 [00:50<00:33,  1.60s/it]\u001b[A\n",
      " 62%|██████▏   | 33/53 [00:52<00:30,  1.55s/it]\u001b[A\n",
      " 64%|██████▍   | 34/53 [00:53<00:28,  1.48s/it]\u001b[A\n",
      " 66%|██████▌   | 35/53 [00:55<00:28,  1.59s/it]\u001b[A\n",
      " 68%|██████▊   | 36/53 [00:57<00:26,  1.58s/it]\u001b[A\n",
      " 70%|██████▉   | 37/53 [00:58<00:24,  1.54s/it]\u001b[A\n",
      " 72%|███████▏  | 38/53 [00:59<00:22,  1.53s/it]\u001b[A\n",
      " 74%|███████▎  | 39/53 [01:01<00:21,  1.53s/it]\u001b[A\n",
      " 75%|███████▌  | 40/53 [01:03<00:21,  1.66s/it]\u001b[A\n",
      " 77%|███████▋  | 41/53 [01:05<00:20,  1.72s/it]\u001b[A\n",
      " 79%|███████▉  | 42/53 [01:06<00:18,  1.65s/it]\u001b[A\n",
      " 81%|████████  | 43/53 [01:08<00:16,  1.65s/it]\u001b[A\n",
      " 83%|████████▎ | 44/53 [01:10<00:15,  1.67s/it]\u001b[A\n",
      " 85%|████████▍ | 45/53 [01:11<00:12,  1.59s/it]\u001b[A\n",
      " 87%|████████▋ | 46/53 [01:13<00:12,  1.72s/it]\u001b[A\n",
      " 89%|████████▊ | 47/53 [01:15<00:09,  1.66s/it]\u001b[A\n",
      " 91%|█████████ | 48/53 [01:16<00:08,  1.62s/it]\u001b[A\n",
      " 92%|█████████▏| 49/53 [01:18<00:06,  1.61s/it]\u001b[A\n",
      " 94%|█████████▍| 50/53 [01:19<00:04,  1.62s/it]\u001b[A\n",
      " 96%|█████████▌| 51/53 [01:21<00:03,  1.57s/it]\u001b[A\n",
      " 98%|█████████▊| 52/53 [01:23<00:01,  1.65s/it]\u001b[A\n",
      "100%|██████████| 53/53 [01:24<00:00,  1.60s/it]\n",
      " 77%|███████▋  | 317/412 [51:18<1:05:04, 41.09s/it]"
     ]
    },
    {
     "name": "stdout",
     "output_type": "stream",
     "text": [
      "https://reviews.webmd.com/drugs/drugreview-6790-etrafon-tablet\n"
     ]
    },
    {
     "name": "stderr",
     "output_type": "stream",
     "text": [
      "\n",
      "  0%|          | 0/1 [00:00<?, ?it/s]\u001b[A\n",
      "100%|██████████| 1/1 [00:00<00:00,  1.85it/s]\n",
      " 77%|███████▋  | 318/412 [51:21<46:09, 29.46s/it]  "
     ]
    },
    {
     "name": "stdout",
     "output_type": "stream",
     "text": [
      "https://reviews.webmd.com/drugs/drugreview-6817-haldol-decanoate-50-ampul\n"
     ]
    },
    {
     "name": "stderr",
     "output_type": "stream",
     "text": [
      "\n",
      "  0%|          | 0/1 [00:00<?, ?it/s]\u001b[A\n",
      "100%|██████████| 1/1 [00:00<00:00,  1.24it/s]\n",
      " 77%|███████▋  | 319/412 [51:24<33:29, 21.60s/it]"
     ]
    },
    {
     "name": "stdout",
     "output_type": "stream",
     "text": [
      "https://reviews.webmd.com/drugs/drugreview-6874-lithobid\n"
     ]
    },
    {
     "name": "stderr",
     "output_type": "stream",
     "text": [
      "\n",
      "  0%|          | 0/2 [00:00<?, ?it/s]\u001b[A\n",
      " 50%|█████     | 1/2 [00:00<00:00,  1.14it/s]\u001b[A\n",
      "100%|██████████| 2/2 [00:02<00:00,  1.03s/it]\n",
      " 78%|███████▊  | 321/412 [51:30<18:07, 11.95s/it]"
     ]
    },
    {
     "name": "stdout",
     "output_type": "stream",
     "text": [
      "skipping https://reviews.webmd.com/drugs/drugreview-6886-ludiomil-tablet: page not found\n",
      "https://reviews.webmd.com/drugs/drugreview-6923-navane-capsule\n"
     ]
    },
    {
     "name": "stderr",
     "output_type": "stream",
     "text": [
      "\n",
      "  0%|          | 0/1 [00:00<?, ?it/s]\u001b[A\n",
      "100%|██████████| 1/1 [00:01<00:00,  1.01s/it]\n",
      " 78%|███████▊  | 322/412 [51:33<13:52,  9.25s/it]"
     ]
    },
    {
     "name": "stdout",
     "output_type": "stream",
     "text": [
      "https://reviews.webmd.com/drugs/drugreview-6936-norpramin\n"
     ]
    },
    {
     "name": "stderr",
     "output_type": "stream",
     "text": [
      "\n",
      "  0%|          | 0/2 [00:00<?, ?it/s]\u001b[A\n",
      " 50%|█████     | 1/2 [00:01<00:01,  1.11s/it]\u001b[A\n",
      "100%|██████████| 2/2 [00:02<00:00,  1.07s/it]\n",
      " 78%|███████▊  | 323/412 [51:38<11:44,  7.91s/it]"
     ]
    },
    {
     "name": "stdout",
     "output_type": "stream",
     "text": [
      "https://reviews.webmd.com/drugs/drugreview-6968-paxil\n"
     ]
    },
    {
     "name": "stderr",
     "output_type": "stream",
     "text": [
      "\n",
      "  0%|          | 0/38 [00:00<?, ?it/s]\u001b[A\n",
      "  3%|▎         | 1/38 [00:01<00:40,  1.09s/it]\u001b[A\n",
      "  5%|▌         | 2/38 [00:02<00:49,  1.38s/it]\u001b[A\n",
      "  8%|▊         | 3/38 [00:04<00:54,  1.55s/it]\u001b[A\n",
      " 11%|█         | 4/38 [00:06<00:54,  1.59s/it]\u001b[A\n",
      " 13%|█▎        | 5/38 [00:07<00:51,  1.57s/it]\u001b[A\n",
      " 16%|█▌        | 6/38 [00:09<00:51,  1.61s/it]\u001b[A\n",
      " 18%|█▊        | 7/38 [00:10<00:48,  1.57s/it]\u001b[A\n",
      " 21%|██        | 8/38 [00:12<00:46,  1.57s/it]\u001b[A\n",
      " 24%|██▎       | 9/38 [00:13<00:43,  1.51s/it]\u001b[A\n",
      " 26%|██▋       | 10/38 [00:15<00:41,  1.48s/it]\u001b[A\n",
      " 29%|██▉       | 11/38 [00:16<00:39,  1.48s/it]\u001b[A\n",
      " 32%|███▏      | 12/38 [00:18<00:40,  1.54s/it]\u001b[A\n",
      " 34%|███▍      | 13/38 [00:19<00:38,  1.56s/it]\u001b[A\n",
      " 37%|███▋      | 14/38 [00:21<00:36,  1.52s/it]\u001b[A\n",
      " 39%|███▉      | 15/38 [00:22<00:35,  1.54s/it]\u001b[A\n",
      " 42%|████▏     | 16/38 [00:24<00:33,  1.52s/it]\u001b[A\n",
      " 45%|████▍     | 17/38 [00:26<00:32,  1.55s/it]\u001b[A\n",
      " 47%|████▋     | 18/38 [00:27<00:30,  1.54s/it]\u001b[A\n",
      " 50%|█████     | 19/38 [00:29<00:29,  1.54s/it]\u001b[A\n",
      " 53%|█████▎    | 20/38 [00:30<00:28,  1.56s/it]\u001b[A\n",
      " 55%|█████▌    | 21/38 [00:32<00:26,  1.54s/it]\u001b[A\n",
      " 58%|█████▊    | 22/38 [00:33<00:25,  1.58s/it]\u001b[A\n",
      " 61%|██████    | 23/38 [00:35<00:24,  1.61s/it]\u001b[A\n",
      " 63%|██████▎   | 24/38 [00:37<00:22,  1.61s/it]\u001b[A\n",
      " 66%|██████▌   | 25/38 [00:38<00:20,  1.60s/it]\u001b[A\n",
      " 68%|██████▊   | 26/38 [00:40<00:18,  1.57s/it]\u001b[A\n",
      " 71%|███████   | 27/38 [00:41<00:16,  1.52s/it]\u001b[A\n",
      " 74%|███████▎  | 28/38 [00:43<00:15,  1.50s/it]\u001b[A\n",
      " 76%|███████▋  | 29/38 [00:44<00:14,  1.59s/it]\u001b[A\n",
      " 79%|███████▉  | 30/38 [00:46<00:12,  1.55s/it]\u001b[A\n",
      " 82%|████████▏ | 31/38 [00:48<00:11,  1.61s/it]\u001b[A\n",
      " 84%|████████▍ | 32/38 [00:49<00:09,  1.66s/it]\u001b[A\n",
      " 87%|████████▋ | 33/38 [00:51<00:08,  1.61s/it]\u001b[A\n",
      " 89%|████████▉ | 34/38 [00:53<00:06,  1.66s/it]\u001b[A\n",
      " 92%|█████████▏| 35/38 [00:54<00:05,  1.67s/it]\u001b[A\n",
      " 95%|█████████▍| 36/38 [00:56<00:03,  1.75s/it]\u001b[A\n",
      " 97%|█████████▋| 37/38 [00:58<00:01,  1.72s/it]\u001b[A\n",
      "100%|██████████| 38/38 [00:59<00:00,  1.56s/it]\n",
      " 79%|███████▊  | 324/412 [52:39<35:16, 24.05s/it]"
     ]
    },
    {
     "name": "stdout",
     "output_type": "stream",
     "text": [
      "https://reviews.webmd.com/drugs/drugreview-6968-paxil-tablet\n"
     ]
    },
    {
     "name": "stderr",
     "output_type": "stream",
     "text": [
      "\n",
      "  0%|          | 0/38 [00:00<?, ?it/s]\u001b[A\n",
      "  3%|▎         | 1/38 [00:01<00:42,  1.15s/it]\u001b[A\n",
      "  5%|▌         | 2/38 [00:02<00:42,  1.18s/it]\u001b[A\n",
      "  8%|▊         | 3/38 [00:03<00:38,  1.11s/it]\u001b[A\n",
      " 11%|█         | 4/38 [00:04<00:35,  1.04s/it]\u001b[A\n",
      " 13%|█▎        | 5/38 [00:05<00:32,  1.01it/s]\u001b[A\n",
      " 16%|█▌        | 6/38 [00:06<00:31,  1.02it/s]\u001b[A\n",
      " 18%|█▊        | 7/38 [00:07<00:31,  1.02s/it]\u001b[A\n",
      " 21%|██        | 8/38 [00:08<00:31,  1.04s/it]\u001b[A\n",
      " 24%|██▎       | 9/38 [00:09<00:29,  1.02s/it]\u001b[A\n",
      " 26%|██▋       | 10/38 [00:10<00:29,  1.05s/it]\u001b[A\n",
      " 29%|██▉       | 11/38 [00:11<00:28,  1.05s/it]\u001b[A\n",
      " 32%|███▏      | 12/38 [00:12<00:27,  1.05s/it]\u001b[A\n",
      " 34%|███▍      | 13/38 [00:13<00:26,  1.07s/it]\u001b[A\n",
      " 37%|███▋      | 14/38 [00:14<00:24,  1.02s/it]\u001b[A\n",
      " 39%|███▉      | 15/38 [00:15<00:22,  1.01it/s]\u001b[A\n",
      " 42%|████▏     | 16/38 [00:16<00:21,  1.05it/s]\u001b[A\n",
      " 45%|████▍     | 17/38 [00:17<00:20,  1.03it/s]\u001b[A\n",
      " 47%|████▋     | 18/38 [00:18<00:20,  1.01s/it]\u001b[A\n",
      " 50%|█████     | 19/38 [00:19<00:18,  1.01it/s]\u001b[A\n",
      " 53%|█████▎    | 20/38 [00:20<00:18,  1.02s/it]\u001b[A\n",
      " 55%|█████▌    | 21/38 [00:21<00:16,  1.00it/s]\u001b[A\n",
      " 58%|█████▊    | 22/38 [00:22<00:15,  1.03it/s]\u001b[A\n",
      " 61%|██████    | 23/38 [00:23<00:15,  1.00s/it]\u001b[A\n",
      " 63%|██████▎   | 24/38 [00:24<00:14,  1.07s/it]\u001b[A\n",
      " 66%|██████▌   | 25/38 [00:25<00:13,  1.04s/it]\u001b[A\n",
      " 68%|██████▊   | 26/38 [00:26<00:12,  1.00s/it]\u001b[A\n",
      " 71%|███████   | 27/38 [00:27<00:10,  1.04it/s]\u001b[A\n",
      " 74%|███████▎  | 28/38 [00:28<00:09,  1.00it/s]\u001b[A\n",
      " 76%|███████▋  | 29/38 [00:29<00:09,  1.10s/it]\u001b[A\n",
      " 79%|███████▉  | 30/38 [00:30<00:08,  1.06s/it]\u001b[A\n",
      " 82%|████████▏ | 31/38 [00:31<00:07,  1.05s/it]\u001b[A\n",
      " 84%|████████▍ | 32/38 [00:32<00:06,  1.06s/it]\u001b[A\n",
      " 87%|████████▋ | 33/38 [00:33<00:05,  1.01s/it]\u001b[A\n",
      " 89%|████████▉ | 34/38 [00:34<00:04,  1.00s/it]\u001b[A\n",
      " 92%|█████████▏| 35/38 [00:35<00:03,  1.03s/it]\u001b[A\n",
      " 95%|█████████▍| 36/38 [00:36<00:02,  1.01s/it]\u001b[A\n",
      " 97%|█████████▋| 37/38 [00:37<00:00,  1.01it/s]\u001b[A\n",
      "100%|██████████| 38/38 [00:38<00:00,  1.01s/it]\n",
      " 79%|███████▉  | 325/412 [53:19<41:31, 28.64s/it]"
     ]
    },
    {
     "name": "stdout",
     "output_type": "stream",
     "text": [
      "https://reviews.webmd.com/drugs/drugreview-6969-paroxetine-er\n"
     ]
    },
    {
     "name": "stderr",
     "output_type": "stream",
     "text": [
      "\n",
      "  0%|          | 0/16 [00:00<?, ?it/s]\u001b[A\n",
      "  6%|▋         | 1/16 [00:00<00:14,  1.03it/s]\u001b[A\n",
      " 12%|█▎        | 2/16 [00:02<00:20,  1.46s/it]\u001b[A\n",
      " 19%|█▉        | 3/16 [00:04<00:19,  1.51s/it]\u001b[A\n",
      " 25%|██▌       | 4/16 [00:05<00:18,  1.50s/it]\u001b[A\n",
      " 31%|███▏      | 5/16 [00:07<00:16,  1.50s/it]\u001b[A\n",
      " 38%|███▊      | 6/16 [00:08<00:15,  1.52s/it]\u001b[A\n",
      " 44%|████▍     | 7/16 [00:10<00:13,  1.53s/it]\u001b[A\n",
      " 50%|█████     | 8/16 [00:12<00:12,  1.54s/it]\u001b[A\n",
      " 56%|█████▋    | 9/16 [00:13<00:10,  1.54s/it]\u001b[A\n",
      " 62%|██████▎   | 10/16 [00:15<00:09,  1.56s/it]\u001b[A\n",
      " 69%|██████▉   | 11/16 [00:16<00:07,  1.58s/it]\u001b[A\n",
      " 75%|███████▌  | 12/16 [00:18<00:06,  1.58s/it]\u001b[A\n",
      " 81%|████████▏ | 13/16 [00:19<00:04,  1.59s/it]\u001b[A\n",
      " 88%|████████▊ | 14/16 [00:21<00:03,  1.57s/it]\u001b[A\n",
      " 94%|█████████▍| 15/16 [00:22<00:01,  1.54s/it]\u001b[A\n",
      "100%|██████████| 16/16 [00:24<00:00,  1.52s/it]\n",
      " 79%|███████▉  | 326/412 [53:45<40:05, 27.97s/it]"
     ]
    },
    {
     "name": "stdout",
     "output_type": "stream",
     "text": [
      "https://reviews.webmd.com/drugs/drugreview-6969-paroxetine-hcl\n"
     ]
    },
    {
     "name": "stderr",
     "output_type": "stream",
     "text": [
      "\n",
      "  0%|          | 0/16 [00:00<?, ?it/s]\u001b[A\n",
      "  6%|▋         | 1/16 [00:01<00:15,  1.02s/it]\u001b[A\n",
      " 12%|█▎        | 2/16 [00:02<00:15,  1.12s/it]\u001b[A\n",
      " 19%|█▉        | 3/16 [00:03<00:14,  1.08s/it]\u001b[A\n",
      " 25%|██▌       | 4/16 [00:04<00:13,  1.09s/it]\u001b[A\n",
      " 31%|███▏      | 5/16 [00:05<00:11,  1.02s/it]\u001b[A\n",
      " 38%|███▊      | 6/16 [00:06<00:10,  1.02s/it]\u001b[A\n",
      " 44%|████▍     | 7/16 [00:07<00:09,  1.02s/it]\u001b[A\n",
      " 50%|█████     | 8/16 [00:08<00:08,  1.12s/it]\u001b[A\n",
      " 56%|█████▋    | 9/16 [00:09<00:07,  1.06s/it]\u001b[A\n",
      " 62%|██████▎   | 10/16 [00:10<00:06,  1.03s/it]\u001b[A\n",
      " 69%|██████▉   | 11/16 [00:11<00:05,  1.02s/it]\u001b[A\n",
      " 75%|███████▌  | 12/16 [00:12<00:04,  1.02s/it]\u001b[A\n",
      " 81%|████████▏ | 13/16 [00:13<00:03,  1.01s/it]\u001b[A\n",
      " 88%|████████▊ | 14/16 [00:14<00:02,  1.07s/it]\u001b[A\n",
      " 94%|█████████▍| 15/16 [00:15<00:01,  1.03s/it]\u001b[A\n",
      "100%|██████████| 16/16 [00:16<00:00,  1.04s/it]\n",
      " 79%|███████▉  | 327/412 [54:03<35:11, 24.84s/it]"
     ]
    },
    {
     "name": "stdout",
     "output_type": "stream",
     "text": [
      "https://reviews.webmd.com/drugs/drugreview-6969-paroxetine-hcl-suspension-final-dose-form\n"
     ]
    },
    {
     "name": "stderr",
     "output_type": "stream",
     "text": [
      "\n",
      "  0%|          | 0/16 [00:00<?, ?it/s]\u001b[A\n",
      "  6%|▋         | 1/16 [00:01<00:15,  1.02s/it]\u001b[A\n",
      " 12%|█▎        | 2/16 [00:02<00:15,  1.13s/it]\u001b[A\n",
      " 19%|█▉        | 3/16 [00:03<00:13,  1.07s/it]\u001b[A\n",
      " 25%|██▌       | 4/16 [00:04<00:12,  1.06s/it]\u001b[A\n",
      " 31%|███▏      | 5/16 [00:05<00:11,  1.05s/it]\u001b[A\n",
      " 38%|███▊      | 6/16 [00:06<00:10,  1.03s/it]\u001b[A\n",
      " 44%|████▍     | 7/16 [00:07<00:08,  1.00it/s]\u001b[A\n",
      " 50%|█████     | 8/16 [00:08<00:08,  1.08s/it]\u001b[A\n",
      " 56%|█████▋    | 9/16 [00:09<00:07,  1.05s/it]\u001b[A\n",
      " 62%|██████▎   | 10/16 [00:10<00:06,  1.08s/it]\u001b[A\n",
      " 69%|██████▉   | 11/16 [00:11<00:05,  1.09s/it]\u001b[A\n",
      " 75%|███████▌  | 12/16 [00:12<00:04,  1.04s/it]\u001b[A\n",
      " 81%|████████▏ | 13/16 [00:13<00:03,  1.02s/it]\u001b[A\n",
      " 88%|████████▊ | 14/16 [00:14<00:02,  1.06s/it]\u001b[A\n",
      " 94%|█████████▍| 15/16 [00:15<00:01,  1.01s/it]\u001b[A\n",
      "100%|██████████| 16/16 [00:16<00:00,  1.04s/it]\n",
      " 80%|███████▉  | 328/412 [54:20<31:44, 22.67s/it]"
     ]
    },
    {
     "name": "stdout",
     "output_type": "stream",
     "text": [
      "https://reviews.webmd.com/drugs/drugreview-6997-prozac\n"
     ]
    },
    {
     "name": "stderr",
     "output_type": "stream",
     "text": [
      "\n",
      "  0%|          | 0/88 [00:00<?, ?it/s]\u001b[A\n",
      "  1%|          | 1/88 [00:00<01:17,  1.13it/s]\u001b[A\n",
      "  2%|▏         | 2/88 [00:02<02:10,  1.52s/it]\u001b[A\n",
      "  3%|▎         | 3/88 [00:04<02:16,  1.61s/it]\u001b[A\n",
      "  5%|▍         | 4/88 [00:06<02:15,  1.62s/it]\u001b[A\n",
      "  6%|▌         | 5/88 [00:07<02:16,  1.64s/it]\u001b[A\n",
      "  7%|▋         | 6/88 [00:09<02:16,  1.67s/it]\u001b[A\n",
      "  8%|▊         | 7/88 [00:11<02:12,  1.63s/it]\u001b[A\n",
      "  9%|▉         | 8/88 [00:13<02:16,  1.70s/it]\u001b[A\n",
      " 10%|█         | 9/88 [00:14<02:13,  1.69s/it]\u001b[A\n",
      " 11%|█▏        | 10/88 [00:16<02:11,  1.68s/it]\u001b[A\n",
      " 12%|█▎        | 11/88 [00:17<02:05,  1.63s/it]\u001b[A\n",
      " 14%|█▎        | 12/88 [00:19<02:01,  1.60s/it]\u001b[A\n",
      " 15%|█▍        | 13/88 [00:20<01:58,  1.58s/it]\u001b[A\n",
      " 16%|█▌        | 14/88 [00:23<02:09,  1.76s/it]\u001b[A\n",
      " 17%|█▋        | 15/88 [00:24<02:03,  1.70s/it]\u001b[A\n",
      " 18%|█▊        | 16/88 [00:26<02:02,  1.70s/it]\u001b[A\n",
      " 19%|█▉        | 17/88 [00:28<02:02,  1.73s/it]\u001b[A\n",
      " 20%|██        | 18/88 [00:29<01:58,  1.69s/it]\u001b[A\n",
      " 22%|██▏       | 19/88 [00:31<01:59,  1.74s/it]\u001b[A\n",
      " 23%|██▎       | 20/88 [00:33<01:58,  1.75s/it]\u001b[A\n",
      " 24%|██▍       | 21/88 [00:35<01:56,  1.74s/it]\u001b[A\n",
      " 25%|██▌       | 22/88 [00:36<01:50,  1.68s/it]\u001b[A\n",
      " 26%|██▌       | 23/88 [00:38<01:47,  1.66s/it]\u001b[A\n",
      " 27%|██▋       | 24/88 [00:39<01:42,  1.61s/it]\u001b[A\n",
      " 28%|██▊       | 25/88 [00:41<01:44,  1.65s/it]\u001b[A\n",
      " 30%|██▉       | 26/88 [00:43<01:43,  1.68s/it]\u001b[A\n",
      " 31%|███       | 27/88 [00:44<01:43,  1.69s/it]\u001b[A\n",
      " 32%|███▏      | 28/88 [00:46<01:44,  1.74s/it]\u001b[A\n",
      " 33%|███▎      | 29/88 [00:48<01:43,  1.76s/it]\u001b[A\n",
      " 34%|███▍      | 30/88 [00:50<01:47,  1.85s/it]\u001b[A\n",
      " 35%|███▌      | 31/88 [00:52<01:38,  1.73s/it]\u001b[A\n",
      " 36%|███▋      | 32/88 [00:53<01:32,  1.65s/it]\u001b[A\n",
      " 38%|███▊      | 33/88 [00:55<01:30,  1.65s/it]\u001b[A\n",
      " 39%|███▊      | 34/88 [00:57<01:31,  1.70s/it]\u001b[A\n",
      " 40%|███▉      | 35/88 [00:58<01:28,  1.67s/it]\u001b[A\n",
      " 41%|████      | 36/88 [01:00<01:29,  1.71s/it]\u001b[A\n",
      " 42%|████▏     | 37/88 [01:01<01:24,  1.66s/it]\u001b[A\n",
      " 43%|████▎     | 38/88 [01:03<01:23,  1.67s/it]\u001b[A\n",
      " 44%|████▍     | 39/88 [01:05<01:21,  1.66s/it]\u001b[A\n",
      " 45%|████▌     | 40/88 [01:06<01:18,  1.64s/it]\u001b[A\n",
      " 47%|████▋     | 41/88 [01:08<01:20,  1.70s/it]\u001b[A\n",
      " 48%|████▊     | 42/88 [01:10<01:16,  1.67s/it]\u001b[A\n",
      " 49%|████▉     | 43/88 [01:12<01:17,  1.72s/it]\u001b[A\n",
      " 50%|█████     | 44/88 [01:14<01:17,  1.75s/it]\u001b[A\n",
      " 51%|█████     | 45/88 [01:15<01:11,  1.67s/it]\u001b[A\n",
      " 52%|█████▏    | 46/88 [01:17<01:08,  1.64s/it]\u001b[A\n",
      " 53%|█████▎    | 47/88 [01:18<01:07,  1.65s/it]\u001b[A\n",
      " 55%|█████▍    | 48/88 [01:20<01:05,  1.63s/it]\u001b[A\n",
      " 56%|█████▌    | 49/88 [01:21<01:02,  1.61s/it]\u001b[A\n",
      " 57%|█████▋    | 50/88 [01:23<00:59,  1.57s/it]\u001b[A\n",
      " 58%|█████▊    | 51/88 [01:24<00:57,  1.54s/it]\u001b[A\n",
      " 59%|█████▉    | 52/88 [01:26<01:00,  1.68s/it]\u001b[A\n",
      " 60%|██████    | 53/88 [01:28<01:01,  1.77s/it]\u001b[A\n",
      " 61%|██████▏   | 54/88 [01:30<00:59,  1.75s/it]\u001b[A\n",
      " 62%|██████▎   | 55/88 [01:32<00:54,  1.67s/it]\u001b[A\n",
      " 64%|██████▎   | 56/88 [01:33<00:53,  1.69s/it]\u001b[A\n",
      " 65%|██████▍   | 57/88 [01:35<00:53,  1.71s/it]\u001b[A\n",
      " 66%|██████▌   | 58/88 [01:37<00:51,  1.72s/it]\u001b[A\n",
      " 67%|██████▋   | 59/88 [01:38<00:49,  1.70s/it]\u001b[A\n",
      " 68%|██████▊   | 60/88 [01:40<00:49,  1.76s/it]\u001b[A\n",
      " 69%|██████▉   | 61/88 [01:42<00:45,  1.70s/it]\u001b[A\n",
      " 70%|███████   | 62/88 [01:44<00:44,  1.72s/it]\u001b[A\n",
      " 72%|███████▏  | 63/88 [01:45<00:43,  1.75s/it]\u001b[A\n",
      " 73%|███████▎  | 64/88 [01:47<00:42,  1.76s/it]\u001b[A\n",
      " 74%|███████▍  | 65/88 [01:49<00:40,  1.76s/it]\u001b[A\n",
      " 75%|███████▌  | 66/88 [01:51<00:37,  1.71s/it]\u001b[A\n",
      " 76%|███████▌  | 67/88 [01:52<00:36,  1.75s/it]\u001b[A\n",
      " 77%|███████▋  | 68/88 [01:54<00:35,  1.78s/it]\u001b[A\n",
      " 78%|███████▊  | 69/88 [01:56<00:35,  1.86s/it]\u001b[A\n",
      " 80%|███████▉  | 70/88 [01:58<00:32,  1.79s/it]\u001b[A\n",
      " 81%|████████  | 71/88 [02:00<00:29,  1.74s/it]\u001b[A\n",
      " 82%|████████▏ | 72/88 [02:01<00:27,  1.73s/it]\u001b[A\n",
      " 83%|████████▎ | 73/88 [02:03<00:25,  1.70s/it]\u001b[A\n",
      " 84%|████████▍ | 74/88 [02:05<00:23,  1.69s/it]\u001b[A\n",
      " 85%|████████▌ | 75/88 [02:06<00:22,  1.75s/it]\u001b[A\n",
      " 86%|████████▋ | 76/88 [02:08<00:21,  1.76s/it]\u001b[A\n",
      " 88%|████████▊ | 77/88 [02:10<00:19,  1.74s/it]\u001b[A\n",
      " 89%|████████▊ | 78/88 [02:12<00:17,  1.74s/it]\u001b[A\n",
      " 90%|████████▉ | 79/88 [02:14<00:16,  1.80s/it]\u001b[A\n",
      " 91%|█████████ | 80/88 [02:16<00:14,  1.87s/it]\u001b[A\n",
      " 92%|█████████▏| 81/88 [02:18<00:13,  1.91s/it]\u001b[A\n",
      " 93%|█████████▎| 82/88 [02:19<00:11,  1.85s/it]\u001b[A\n",
      " 94%|█████████▍| 83/88 [02:21<00:08,  1.76s/it]\u001b[A\n",
      " 95%|█████████▌| 84/88 [02:22<00:06,  1.67s/it]\u001b[A\n",
      " 97%|█████████▋| 85/88 [02:24<00:04,  1.62s/it]\u001b[A\n",
      " 98%|█████████▊| 86/88 [02:26<00:03,  1.70s/it]\u001b[A\n",
      " 99%|█████████▉| 87/88 [02:27<00:01,  1.68s/it]\u001b[A\n",
      "100%|██████████| 88/88 [02:29<00:00,  1.70s/it]\n",
      " 80%|███████▉  | 329/412 [56:52<1:24:59, 61.44s/it]"
     ]
    },
    {
     "name": "stdout",
     "output_type": "stream",
     "text": [
      "https://reviews.webmd.com/drugs/drugreview-6997-prozac-capsule\n"
     ]
    },
    {
     "name": "stderr",
     "output_type": "stream",
     "text": [
      "\n",
      "  0%|          | 0/88 [00:00<?, ?it/s]\u001b[A\n",
      "  1%|          | 1/88 [00:01<01:32,  1.06s/it]\u001b[A\n",
      "  2%|▏         | 2/88 [00:02<02:10,  1.52s/it]\u001b[A\n",
      "  3%|▎         | 3/88 [00:04<02:22,  1.68s/it]\u001b[A\n",
      "  5%|▍         | 4/88 [00:06<02:23,  1.70s/it]\u001b[A\n",
      "  6%|▌         | 5/88 [00:08<02:20,  1.69s/it]\u001b[A\n",
      "  7%|▋         | 6/88 [00:09<02:19,  1.70s/it]\u001b[A\n",
      "  8%|▊         | 7/88 [00:11<02:11,  1.63s/it]\u001b[A\n",
      "  9%|▉         | 8/88 [00:13<02:12,  1.65s/it]\u001b[A\n",
      " 10%|█         | 9/88 [00:14<02:10,  1.66s/it]\u001b[A\n",
      " 11%|█▏        | 10/88 [00:16<02:17,  1.76s/it]\u001b[A\n",
      " 12%|█▎        | 11/88 [00:18<02:11,  1.70s/it]\u001b[A\n",
      " 14%|█▎        | 12/88 [00:19<02:06,  1.67s/it]\u001b[A\n",
      " 15%|█▍        | 13/88 [00:21<02:11,  1.75s/it]\u001b[A\n",
      " 16%|█▌        | 14/88 [00:23<02:10,  1.76s/it]\u001b[A\n",
      " 17%|█▋        | 15/88 [00:25<02:03,  1.69s/it]\u001b[A\n",
      " 18%|█▊        | 16/88 [00:26<02:02,  1.70s/it]\u001b[A\n",
      " 19%|█▉        | 17/88 [00:28<02:00,  1.69s/it]\u001b[A\n",
      " 20%|██        | 18/88 [00:30<01:59,  1.71s/it]\u001b[A\n",
      " 22%|██▏       | 19/88 [00:32<02:00,  1.74s/it]\u001b[A\n",
      " 23%|██▎       | 20/88 [00:34<02:03,  1.82s/it]\u001b[A\n",
      " 24%|██▍       | 21/88 [00:35<01:56,  1.74s/it]\u001b[A\n",
      " 25%|██▌       | 22/88 [00:37<01:52,  1.70s/it]\u001b[A\n",
      " 26%|██▌       | 23/88 [00:39<01:52,  1.73s/it]\u001b[A\n",
      " 27%|██▋       | 24/88 [00:40<01:47,  1.68s/it]\u001b[A\n",
      " 28%|██▊       | 25/88 [00:42<01:55,  1.83s/it]\u001b[A\n",
      " 30%|██▉       | 26/88 [00:44<01:52,  1.81s/it]\u001b[A\n",
      " 31%|███       | 27/88 [00:46<01:52,  1.84s/it]\u001b[A\n",
      " 32%|███▏      | 28/88 [00:48<01:46,  1.77s/it]\u001b[A\n",
      " 33%|███▎      | 29/88 [00:49<01:39,  1.69s/it]\u001b[A\n",
      " 34%|███▍      | 30/88 [00:51<01:37,  1.69s/it]\u001b[A\n",
      " 35%|███▌      | 31/88 [00:53<01:40,  1.76s/it]\u001b[A\n",
      " 36%|███▋      | 32/88 [00:55<01:39,  1.78s/it]\u001b[A\n",
      " 38%|███▊      | 33/88 [00:56<01:35,  1.74s/it]\u001b[A\n",
      " 39%|███▊      | 34/88 [00:58<01:39,  1.84s/it]\u001b[A\n",
      " 40%|███▉      | 35/88 [01:00<01:36,  1.82s/it]\u001b[A\n",
      " 41%|████      | 36/88 [01:02<01:38,  1.89s/it]\u001b[A\n",
      " 42%|████▏     | 37/88 [01:04<01:32,  1.81s/it]\u001b[A\n",
      " 43%|████▎     | 38/88 [01:05<01:26,  1.73s/it]\u001b[A\n",
      " 44%|████▍     | 39/88 [01:07<01:23,  1.71s/it]\u001b[A\n",
      " 45%|████▌     | 40/88 [01:08<01:18,  1.63s/it]\u001b[A\n",
      " 47%|████▋     | 41/88 [01:10<01:16,  1.63s/it]\u001b[A\n",
      " 48%|████▊     | 42/88 [01:12<01:18,  1.70s/it]\u001b[A\n",
      " 49%|████▉     | 43/88 [01:13<01:14,  1.66s/it]\u001b[A\n",
      " 50%|█████     | 44/88 [01:15<01:12,  1.65s/it]\u001b[A\n",
      " 51%|█████     | 45/88 [01:17<01:09,  1.61s/it]\u001b[A\n",
      " 52%|█████▏    | 46/88 [01:18<01:07,  1.60s/it]\u001b[A\n",
      " 53%|█████▎    | 47/88 [01:20<01:06,  1.63s/it]\u001b[A\n",
      " 55%|█████▍    | 48/88 [01:22<01:06,  1.67s/it]\u001b[A\n",
      " 56%|█████▌    | 49/88 [01:23<01:06,  1.69s/it]\u001b[A\n",
      " 57%|█████▋    | 50/88 [01:25<01:03,  1.68s/it]\u001b[A\n",
      " 58%|█████▊    | 51/88 [01:27<01:01,  1.67s/it]\u001b[A\n",
      " 59%|█████▉    | 52/88 [01:28<00:59,  1.66s/it]\u001b[A\n",
      " 60%|██████    | 53/88 [01:30<01:01,  1.76s/it]\u001b[A\n",
      " 61%|██████▏   | 54/88 [01:32<01:00,  1.79s/it]\u001b[A\n",
      " 62%|██████▎   | 55/88 [01:34<00:56,  1.72s/it]\u001b[A\n",
      " 64%|██████▎   | 56/88 [01:35<00:55,  1.73s/it]\u001b[A\n",
      " 65%|██████▍   | 57/88 [01:37<00:54,  1.75s/it]\u001b[A\n",
      " 66%|██████▌   | 58/88 [01:39<00:51,  1.71s/it]\u001b[A\n",
      " 67%|██████▋   | 59/88 [01:41<00:50,  1.73s/it]\u001b[A\n",
      " 68%|██████▊   | 60/88 [01:42<00:47,  1.70s/it]\u001b[A\n",
      " 69%|██████▉   | 61/88 [01:44<00:46,  1.71s/it]\u001b[A\n",
      " 70%|███████   | 62/88 [01:46<00:44,  1.70s/it]\u001b[A\n",
      " 72%|███████▏  | 63/88 [01:47<00:41,  1.66s/it]\u001b[A\n",
      " 73%|███████▎  | 64/88 [01:49<00:42,  1.78s/it]\u001b[A\n",
      " 74%|███████▍  | 65/88 [01:51<00:39,  1.70s/it]\u001b[A\n",
      " 75%|███████▌  | 66/88 [01:53<00:38,  1.75s/it]\u001b[A\n",
      " 76%|███████▌  | 67/88 [01:54<00:36,  1.71s/it]\u001b[A\n",
      " 77%|███████▋  | 68/88 [01:56<00:34,  1.71s/it]\u001b[A\n",
      " 78%|███████▊  | 69/88 [01:58<00:31,  1.68s/it]\u001b[A\n",
      " 80%|███████▉  | 70/88 [02:00<00:32,  1.79s/it]\u001b[A\n",
      " 81%|████████  | 71/88 [02:01<00:29,  1.75s/it]\u001b[A\n",
      " 82%|████████▏ | 72/88 [02:03<00:28,  1.76s/it]\u001b[A\n",
      " 83%|████████▎ | 73/88 [02:05<00:26,  1.74s/it]\u001b[A\n",
      " 84%|████████▍ | 74/88 [02:06<00:24,  1.72s/it]\u001b[A\n",
      " 85%|████████▌ | 75/88 [02:08<00:22,  1.72s/it]\u001b[A\n",
      " 86%|████████▋ | 76/88 [02:10<00:20,  1.74s/it]\u001b[A\n",
      " 88%|████████▊ | 77/88 [02:12<00:18,  1.70s/it]\u001b[A\n",
      " 89%|████████▊ | 78/88 [02:13<00:16,  1.68s/it]\u001b[A\n",
      " 90%|████████▉ | 79/88 [02:15<00:15,  1.70s/it]\u001b[A\n",
      " 91%|█████████ | 80/88 [02:17<00:13,  1.69s/it]\u001b[A\n",
      " 92%|█████████▏| 81/88 [02:19<00:12,  1.77s/it]\u001b[A\n",
      " 93%|█████████▎| 82/88 [02:20<00:10,  1.77s/it]\u001b[A\n",
      " 94%|█████████▍| 83/88 [02:22<00:08,  1.72s/it]\u001b[A\n",
      " 95%|█████████▌| 84/88 [02:24<00:06,  1.72s/it]\u001b[A\n",
      " 97%|█████████▋| 85/88 [02:25<00:04,  1.65s/it]\u001b[A\n",
      " 98%|█████████▊| 86/88 [02:27<00:03,  1.60s/it]\u001b[A\n",
      " 99%|█████████▉| 87/88 [02:28<00:01,  1.65s/it]\u001b[A\n",
      "100%|██████████| 88/88 [02:30<00:00,  1.71s/it]\n",
      " 80%|████████  | 330/412 [59:25<2:01:24, 88.84s/it]"
     ]
    },
    {
     "name": "stdout",
     "output_type": "stream",
     "text": [
      "https://reviews.webmd.com/drugs/drugreview-7023-sectral-capsule\n"
     ]
    },
    {
     "name": "stderr",
     "output_type": "stream",
     "text": [
      "\n",
      "  0%|          | 0/1 [00:00<?, ?it/s]\u001b[A\n",
      "100%|██████████| 1/1 [00:00<00:00,  1.00it/s]\n",
      " 80%|████████  | 331/412 [59:28<1:25:09, 63.08s/it]"
     ]
    },
    {
     "name": "stdout",
     "output_type": "stream",
     "text": [
      "https://reviews.webmd.com/drugs/drugreview-7031-surmontil-capsule\n"
     ]
    },
    {
     "name": "stderr",
     "output_type": "stream",
     "text": [
      "\n",
      "  0%|          | 0/1 [00:00<?, ?it/s]\u001b[A\n",
      "100%|██████████| 1/1 [00:00<00:00,  1.48it/s]\n",
      " 81%|████████  | 332/412 [59:30<59:52, 44.90s/it]  "
     ]
    },
    {
     "name": "stdout",
     "output_type": "stream",
     "text": [
      "https://reviews.webmd.com/drugs/drugreview-7032-trimipramine-maleate\n"
     ]
    },
    {
     "name": "stderr",
     "output_type": "stream",
     "text": [
      "\n",
      "  0%|          | 0/1 [00:00<?, ?it/s]\u001b[A\n",
      "100%|██████████| 1/1 [00:00<00:00,  1.68it/s]\n",
      " 81%|████████  | 334/412 [59:34<29:52, 22.98s/it]"
     ]
    },
    {
     "name": "stdout",
     "output_type": "stream",
     "text": [
      "skipping https://reviews.webmd.com/drugs/drugreview-7044-thorazine-suppository: page not found\n",
      "https://reviews.webmd.com/drugs/drugreview-7047-tofranil-tablet\n"
     ]
    },
    {
     "name": "stderr",
     "output_type": "stream",
     "text": [
      "\n",
      "  0%|          | 0/3 [00:00<?, ?it/s]\u001b[A\n",
      " 33%|███▎      | 1/3 [00:01<00:02,  1.19s/it]\u001b[A\n",
      " 67%|██████▋   | 2/3 [00:02<00:01,  1.41s/it]\u001b[A\n",
      "100%|██████████| 3/3 [00:04<00:00,  1.38s/it]\n",
      " 81%|████████▏ | 335/412 [59:41<23:10, 18.06s/it]"
     ]
    },
    {
     "name": "stdout",
     "output_type": "stream",
     "text": [
      "https://reviews.webmd.com/drugs/drugreview-7048-tofranil-pm-capsule\n"
     ]
    },
    {
     "name": "stderr",
     "output_type": "stream",
     "text": [
      "\n",
      "  0%|          | 0/2 [00:00<?, ?it/s]\u001b[A\n",
      " 50%|█████     | 1/2 [00:01<00:01,  1.19s/it]\u001b[A\n",
      "100%|██████████| 2/2 [00:02<00:00,  1.22s/it]\n",
      " 82%|████████▏ | 336/412 [59:46<17:48, 14.06s/it]"
     ]
    },
    {
     "name": "stdout",
     "output_type": "stream",
     "text": [
      "https://reviews.webmd.com/drugs/drugreview-7049-imipramine-pamoate\n"
     ]
    },
    {
     "name": "stderr",
     "output_type": "stream",
     "text": [
      "\n",
      "  0%|          | 0/1 [00:00<?, ?it/s]\u001b[A\n",
      "100%|██████████| 1/1 [00:00<00:00,  1.08it/s]\n",
      " 82%|████████▏ | 337/412 [59:49<13:26, 10.75s/it]"
     ]
    },
    {
     "name": "stdout",
     "output_type": "stream",
     "text": [
      "https://reviews.webmd.com/drugs/drugreview-7064-triavil-tablet\n"
     ]
    },
    {
     "name": "stderr",
     "output_type": "stream",
     "text": [
      "\n",
      "  0%|          | 0/1 [00:00<?, ?it/s]\u001b[A\n",
      "100%|██████████| 1/1 [00:00<00:00,  1.70it/s]\n",
      " 82%|████████▏ | 338/412 [59:51<10:15,  8.32s/it]"
     ]
    },
    {
     "name": "stdout",
     "output_type": "stream",
     "text": [
      "https://reviews.webmd.com/drugs/drugreview-7065-triavil-tablet\n"
     ]
    },
    {
     "name": "stderr",
     "output_type": "stream",
     "text": [
      "\n",
      "  0%|          | 0/1 [00:00<?, ?it/s]\u001b[A\n",
      "100%|██████████| 1/1 [00:00<00:00,  1.52it/s]\n",
      " 82%|████████▏ | 339/412 [59:54<08:00,  6.58s/it]"
     ]
    },
    {
     "name": "stdout",
     "output_type": "stream",
     "text": [
      "https://reviews.webmd.com/drugs/drugreview-7066-triavil-tablet\n"
     ]
    },
    {
     "name": "stderr",
     "output_type": "stream",
     "text": [
      "\n",
      "  0%|          | 0/1 [00:00<?, ?it/s]\u001b[A\n",
      "100%|██████████| 1/1 [00:00<00:00,  1.94it/s]\n",
      " 83%|████████▎ | 340/412 [59:56<06:26,  5.37s/it]"
     ]
    },
    {
     "name": "stdout",
     "output_type": "stream",
     "text": [
      "https://reviews.webmd.com/drugs/drugreview-7068-trilafon-tablet\n"
     ]
    },
    {
     "name": "stderr",
     "output_type": "stream",
     "text": [
      "\n",
      "  0%|          | 0/2 [00:00<?, ?it/s]\u001b[A\n",
      " 50%|█████     | 1/2 [00:01<00:01,  1.39s/it]\u001b[A\n",
      "100%|██████████| 2/2 [00:02<00:00,  1.15s/it]\n",
      " 83%|████████▎ | 341/412 [1:00:01<06:00,  5.08s/it]"
     ]
    },
    {
     "name": "stdout",
     "output_type": "stream",
     "text": [
      "https://reviews.webmd.com/drugs/drugreview-7092-hydroxyzine-pamoate\n"
     ]
    },
    {
     "name": "stderr",
     "output_type": "stream",
     "text": [
      "\n",
      "  0%|          | 0/14 [00:00<?, ?it/s]\u001b[A\n",
      "  7%|▋         | 1/14 [00:01<00:13,  1.03s/it]\u001b[A\n",
      " 14%|█▍        | 2/14 [00:02<00:14,  1.20s/it]\u001b[A\n",
      " 21%|██▏       | 3/14 [00:03<00:15,  1.40s/it]\u001b[A\n",
      " 29%|██▊       | 4/14 [00:05<00:15,  1.56s/it]\u001b[A\n",
      " 36%|███▌      | 5/14 [00:07<00:14,  1.56s/it]\u001b[A\n",
      " 43%|████▎     | 6/14 [00:09<00:13,  1.63s/it]\u001b[A\n",
      " 50%|█████     | 7/14 [00:10<00:11,  1.65s/it]\u001b[A\n",
      " 57%|█████▋    | 8/14 [00:12<00:09,  1.59s/it]\u001b[A\n",
      " 64%|██████▍   | 9/14 [00:13<00:07,  1.57s/it]\u001b[A\n",
      " 71%|███████▏  | 10/14 [00:15<00:06,  1.65s/it]\u001b[A\n",
      " 79%|███████▊  | 11/14 [00:17<00:04,  1.59s/it]\u001b[A\n",
      " 86%|████████▌ | 12/14 [00:18<00:03,  1.55s/it]\u001b[A\n",
      " 93%|█████████▎| 13/14 [00:20<00:01,  1.55s/it]\u001b[A\n",
      "100%|██████████| 14/14 [00:21<00:00,  1.52s/it]\n",
      " 83%|████████▎ | 342/412 [1:00:24<12:18, 10.55s/it]"
     ]
    },
    {
     "name": "stdout",
     "output_type": "stream",
     "text": [
      "https://reviews.webmd.com/drugs/drugreview-7452-valium-solution\n"
     ]
    },
    {
     "name": "stderr",
     "output_type": "stream",
     "text": [
      "\n",
      "  0%|          | 0/1 [00:00<?, ?it/s]\u001b[A\n",
      "100%|██████████| 1/1 [00:00<00:00,  1.68it/s]\n",
      " 83%|████████▎ | 343/412 [1:00:27<09:19,  8.11s/it]"
     ]
    },
    {
     "name": "stdout",
     "output_type": "stream",
     "text": [
      "https://reviews.webmd.com/drugs/drugreview-75142-risperdal-m-tab-tablet-disintegrating\n"
     ]
    },
    {
     "name": "stderr",
     "output_type": "stream",
     "text": [
      "\n",
      "  0%|          | 0/1 [00:00<?, ?it/s]\u001b[A\n",
      "100%|██████████| 1/1 [00:00<00:00,  1.05it/s]\n",
      " 83%|████████▎ | 344/412 [1:00:30<07:28,  6.60s/it]"
     ]
    },
    {
     "name": "stdout",
     "output_type": "stream",
     "text": [
      "https://reviews.webmd.com/drugs/drugreview-7681-hydroxyzine-hcl\n"
     ]
    },
    {
     "name": "stderr",
     "output_type": "stream",
     "text": [
      "\n",
      "  0%|          | 0/35 [00:00<?, ?it/s]\u001b[A\n",
      "  3%|▎         | 1/35 [00:01<00:35,  1.03s/it]\u001b[A\n",
      "  6%|▌         | 2/35 [00:02<00:44,  1.34s/it]\u001b[A\n",
      "  9%|▊         | 3/35 [00:04<00:45,  1.43s/it]\u001b[A\n",
      " 11%|█▏        | 4/35 [00:06<00:49,  1.61s/it]\u001b[A\n",
      " 14%|█▍        | 5/35 [00:07<00:49,  1.63s/it]\u001b[A\n",
      " 17%|█▋        | 6/35 [00:09<00:47,  1.64s/it]\u001b[A\n",
      " 20%|██        | 7/35 [00:10<00:45,  1.61s/it]\u001b[A\n",
      " 23%|██▎       | 8/35 [00:12<00:43,  1.61s/it]\u001b[A\n",
      " 26%|██▌       | 9/35 [00:14<00:42,  1.63s/it]\u001b[A\n",
      " 29%|██▊       | 10/35 [00:15<00:39,  1.57s/it]\u001b[A\n",
      " 31%|███▏      | 11/35 [00:17<00:36,  1.52s/it]\u001b[A\n",
      " 34%|███▍      | 12/35 [00:19<00:40,  1.77s/it]\u001b[A\n",
      " 37%|███▋      | 13/35 [00:20<00:36,  1.66s/it]\u001b[A\n",
      " 40%|████      | 14/35 [00:22<00:34,  1.65s/it]\u001b[A\n",
      " 43%|████▎     | 15/35 [00:24<00:36,  1.83s/it]\u001b[A\n",
      " 46%|████▌     | 16/35 [00:26<00:33,  1.78s/it]\u001b[A\n",
      " 49%|████▊     | 17/35 [00:27<00:31,  1.75s/it]\u001b[A\n",
      " 51%|█████▏    | 18/35 [00:29<00:28,  1.70s/it]\u001b[A\n",
      " 54%|█████▍    | 19/35 [00:31<00:26,  1.64s/it]\u001b[A\n",
      " 57%|█████▋    | 20/35 [00:32<00:24,  1.65s/it]\u001b[A\n",
      " 60%|██████    | 21/35 [00:34<00:24,  1.74s/it]\u001b[A\n",
      " 63%|██████▎   | 22/35 [00:36<00:22,  1.73s/it]\u001b[A\n",
      " 66%|██████▌   | 23/35 [00:38<00:20,  1.72s/it]\u001b[A\n",
      " 69%|██████▊   | 24/35 [00:39<00:19,  1.73s/it]\u001b[A\n",
      " 71%|███████▏  | 25/35 [00:41<00:16,  1.64s/it]\u001b[A\n",
      " 74%|███████▍  | 26/35 [00:42<00:14,  1.63s/it]\u001b[A\n",
      " 77%|███████▋  | 27/35 [00:44<00:12,  1.59s/it]\u001b[A\n",
      " 80%|████████  | 28/35 [00:45<00:10,  1.57s/it]\u001b[A\n",
      " 83%|████████▎ | 29/35 [00:47<00:09,  1.62s/it]\u001b[A\n",
      " 86%|████████▌ | 30/35 [00:50<00:09,  1.90s/it]\u001b[A\n",
      " 89%|████████▊ | 31/35 [00:51<00:07,  1.80s/it]\u001b[A\n",
      " 91%|█████████▏| 32/35 [00:53<00:05,  1.72s/it]\u001b[A\n",
      " 94%|█████████▍| 33/35 [00:54<00:03,  1.65s/it]\u001b[A\n",
      " 97%|█████████▋| 34/35 [00:56<00:01,  1.59s/it]\u001b[A\n",
      "100%|██████████| 35/35 [00:57<00:00,  1.64s/it]\n",
      " 84%|████████▎ | 345/412 [1:01:29<25:00, 22.40s/it]"
     ]
    },
    {
     "name": "stdout",
     "output_type": "stream",
     "text": [
      "https://reviews.webmd.com/drugs/drugreview-76851-wellbutrin-xl\n"
     ]
    },
    {
     "name": "stderr",
     "output_type": "stream",
     "text": [
      "\n",
      "  0%|          | 0/86 [00:00<?, ?it/s]\u001b[A\n",
      "  1%|          | 1/86 [00:01<01:33,  1.11s/it]\u001b[A\n",
      "  2%|▏         | 2/86 [00:02<02:03,  1.47s/it]\u001b[A\n",
      "  3%|▎         | 3/86 [00:04<02:06,  1.52s/it]\u001b[A\n",
      "  5%|▍         | 4/86 [00:06<02:10,  1.60s/it]\u001b[A\n",
      "  6%|▌         | 5/86 [00:08<02:19,  1.72s/it]\u001b[A\n",
      "  7%|▋         | 6/86 [00:09<02:17,  1.71s/it]\u001b[A\n",
      "  8%|▊         | 7/86 [00:11<02:14,  1.71s/it]\u001b[A\n",
      "  9%|▉         | 8/86 [00:13<02:22,  1.83s/it]\u001b[A\n",
      " 10%|█         | 9/86 [00:15<02:21,  1.83s/it]\u001b[A\n",
      " 12%|█▏        | 10/86 [00:17<02:15,  1.78s/it]\u001b[A\n",
      " 13%|█▎        | 11/86 [00:19<02:18,  1.84s/it]\u001b[A\n",
      " 14%|█▍        | 12/86 [00:20<02:18,  1.88s/it]\u001b[A\n",
      " 15%|█▌        | 13/86 [00:22<02:14,  1.85s/it]\u001b[A\n",
      " 16%|█▋        | 14/86 [00:24<02:17,  1.91s/it]\u001b[A\n",
      " 17%|█▋        | 15/86 [00:26<02:09,  1.83s/it]\u001b[A\n",
      " 19%|█▊        | 16/86 [00:28<02:06,  1.80s/it]\u001b[A\n",
      " 20%|█▉        | 17/86 [00:29<02:00,  1.74s/it]\u001b[A\n",
      " 21%|██        | 18/86 [00:31<01:58,  1.74s/it]\u001b[A\n",
      " 22%|██▏       | 19/86 [00:33<02:06,  1.89s/it]\u001b[A\n",
      " 23%|██▎       | 20/86 [00:35<02:04,  1.89s/it]\u001b[A\n",
      " 24%|██▍       | 21/86 [00:37<01:57,  1.80s/it]\u001b[A\n",
      " 26%|██▌       | 22/86 [00:39<01:54,  1.80s/it]\u001b[A\n",
      " 27%|██▋       | 23/86 [00:40<01:54,  1.81s/it]\u001b[A\n",
      " 28%|██▊       | 24/86 [00:42<01:48,  1.75s/it]\u001b[A\n",
      " 29%|██▉       | 25/86 [00:44<01:46,  1.75s/it]\u001b[A\n",
      " 30%|███       | 26/86 [00:46<01:48,  1.81s/it]\u001b[A\n",
      " 31%|███▏      | 27/86 [00:47<01:44,  1.77s/it]\u001b[A\n",
      " 33%|███▎      | 28/86 [00:49<01:37,  1.68s/it]\u001b[A\n",
      " 34%|███▎      | 29/86 [00:51<01:39,  1.75s/it]\u001b[A\n",
      " 35%|███▍      | 30/86 [00:53<01:38,  1.76s/it]\u001b[A\n",
      " 36%|███▌      | 31/86 [00:54<01:37,  1.76s/it]\u001b[A\n",
      " 37%|███▋      | 32/86 [00:56<01:32,  1.71s/it]\u001b[A\n",
      " 38%|███▊      | 33/86 [00:58<01:30,  1.71s/it]\u001b[A\n",
      " 40%|███▉      | 34/86 [00:59<01:28,  1.70s/it]\u001b[A\n",
      " 41%|████      | 35/86 [01:01<01:25,  1.68s/it]\u001b[A\n",
      " 42%|████▏     | 36/86 [01:03<01:28,  1.77s/it]\u001b[A\n",
      " 43%|████▎     | 37/86 [01:05<01:26,  1.77s/it]\u001b[A\n",
      " 44%|████▍     | 38/86 [01:06<01:24,  1.76s/it]\u001b[A\n",
      " 45%|████▌     | 39/86 [01:08<01:22,  1.76s/it]\u001b[A\n",
      " 47%|████▋     | 40/86 [01:10<01:20,  1.74s/it]\u001b[A\n",
      " 48%|████▊     | 41/86 [01:12<01:18,  1.74s/it]\u001b[A\n",
      " 49%|████▉     | 42/86 [01:14<01:22,  1.87s/it]\u001b[A\n",
      " 50%|█████     | 43/86 [01:15<01:17,  1.81s/it]\u001b[A\n",
      " 51%|█████     | 44/86 [01:17<01:11,  1.71s/it]\u001b[A\n",
      " 52%|█████▏    | 45/86 [01:19<01:11,  1.73s/it]\u001b[A\n",
      " 53%|█████▎    | 46/86 [01:20<01:07,  1.70s/it]\u001b[A\n",
      " 55%|█████▍    | 47/86 [01:22<01:08,  1.75s/it]\u001b[A\n",
      " 56%|█████▌    | 48/86 [01:24<01:07,  1.77s/it]\u001b[A\n",
      " 57%|█████▋    | 49/86 [01:26<01:03,  1.72s/it]\u001b[A\n",
      " 58%|█████▊    | 50/86 [01:27<01:02,  1.74s/it]\u001b[A\n",
      " 59%|█████▉    | 51/86 [01:29<01:00,  1.72s/it]\u001b[A\n",
      " 60%|██████    | 52/86 [01:31<00:59,  1.74s/it]\u001b[A\n",
      " 62%|██████▏   | 53/86 [01:33<01:00,  1.84s/it]\u001b[A\n",
      " 63%|██████▎   | 54/86 [01:35<00:58,  1.83s/it]\u001b[A\n",
      " 64%|██████▍   | 55/86 [01:37<00:56,  1.83s/it]\u001b[A\n",
      " 65%|██████▌   | 56/86 [01:38<00:52,  1.77s/it]\u001b[A\n",
      " 66%|██████▋   | 57/86 [01:40<00:50,  1.74s/it]\u001b[A\n",
      " 67%|██████▋   | 58/86 [01:41<00:47,  1.68s/it]\u001b[A\n",
      " 69%|██████▊   | 59/86 [01:43<00:47,  1.77s/it]\u001b[A\n",
      " 70%|██████▉   | 60/86 [01:45<00:45,  1.73s/it]\u001b[A\n",
      " 71%|███████   | 61/86 [01:47<00:42,  1.72s/it]\u001b[A\n",
      " 72%|███████▏  | 62/86 [01:49<00:41,  1.74s/it]\u001b[A\n",
      " 73%|███████▎  | 63/86 [01:50<00:40,  1.75s/it]\u001b[A\n",
      " 74%|███████▍  | 64/86 [01:52<00:38,  1.76s/it]\u001b[A\n",
      " 76%|███████▌  | 65/86 [01:54<00:40,  1.93s/it]\u001b[A\n",
      " 77%|███████▋  | 66/86 [01:56<00:36,  1.81s/it]\u001b[A\n",
      " 78%|███████▊  | 67/86 [01:58<00:33,  1.78s/it]\u001b[A\n",
      " 79%|███████▉  | 68/86 [01:59<00:32,  1.78s/it]\u001b[A\n",
      " 80%|████████  | 69/86 [02:01<00:29,  1.73s/it]\u001b[A\n",
      " 81%|████████▏ | 70/86 [02:03<00:28,  1.77s/it]\u001b[A\n",
      " 83%|████████▎ | 71/86 [02:05<00:25,  1.71s/it]\u001b[A\n",
      " 84%|████████▎ | 72/86 [02:06<00:24,  1.78s/it]\u001b[A\n",
      " 85%|████████▍ | 73/86 [02:08<00:22,  1.74s/it]\u001b[A\n",
      " 86%|████████▌ | 74/86 [02:10<00:20,  1.71s/it]\u001b[A\n",
      " 87%|████████▋ | 75/86 [02:11<00:18,  1.65s/it]\u001b[A\n",
      " 88%|████████▊ | 76/86 [02:13<00:17,  1.71s/it]\u001b[A\n",
      " 90%|████████▉ | 77/86 [02:15<00:16,  1.78s/it]\u001b[A\n",
      " 91%|█████████ | 78/86 [02:17<00:13,  1.75s/it]\u001b[A\n",
      " 92%|█████████▏| 79/86 [02:18<00:12,  1.74s/it]\u001b[A\n",
      " 93%|█████████▎| 80/86 [02:20<00:10,  1.71s/it]\u001b[A\n",
      " 94%|█████████▍| 81/86 [02:22<00:08,  1.74s/it]\u001b[A\n",
      " 95%|█████████▌| 82/86 [02:24<00:07,  1.88s/it]\u001b[A\n",
      " 97%|█████████▋| 83/86 [02:26<00:05,  1.81s/it]\u001b[A\n",
      " 98%|█████████▊| 84/86 [02:27<00:03,  1.74s/it]\u001b[A\n",
      " 99%|█████████▉| 85/86 [02:29<00:01,  1.70s/it]\u001b[A\n",
      "100%|██████████| 86/86 [02:30<00:00,  1.75s/it]\n",
      " 84%|████████▍ | 347/412 [1:04:02<46:54, 43.30s/it]  "
     ]
    },
    {
     "name": "stdout",
     "output_type": "stream",
     "text": [
      "skipping https://reviews.webmd.com/drugs/drugreview-76899-tranxene-sd-tablet-er: page not found\n",
      "https://reviews.webmd.com/drugs/drugreview-77659-risperidone-er-vial\n"
     ]
    },
    {
     "name": "stderr",
     "output_type": "stream",
     "text": [
      "\n",
      "  0%|          | 0/1 [00:00<?, ?it/s]\u001b[A\n",
      "100%|██████████| 1/1 [00:00<00:00,  1.61it/s]\n",
      " 84%|████████▍ | 348/412 [1:04:05<33:07, 31.05s/it]"
     ]
    },
    {
     "name": "stdout",
     "output_type": "stream",
     "text": [
      "https://reviews.webmd.com/drugs/drugreview-77667-risperdal-consta-vial\n"
     ]
    },
    {
     "name": "stderr",
     "output_type": "stream",
     "text": [
      "\n",
      "  0%|          | 0/3 [00:00<?, ?it/s]\u001b[A\n",
      " 33%|███▎      | 1/3 [00:01<00:02,  1.12s/it]\u001b[A\n",
      " 67%|██████▋   | 2/3 [00:03<00:01,  1.59s/it]\u001b[A\n",
      "100%|██████████| 3/3 [00:04<00:00,  1.41s/it]\n",
      " 85%|████████▍ | 349/412 [1:04:11<24:54, 23.72s/it]"
     ]
    },
    {
     "name": "stdout",
     "output_type": "stream",
     "text": [
      "https://reviews.webmd.com/drugs/drugreview-78093-paroxetine-mesylate-tablet\n"
     ]
    },
    {
     "name": "stderr",
     "output_type": "stream",
     "text": [
      "\n",
      "  0%|          | 0/1 [00:00<?, ?it/s]\u001b[A\n",
      "100%|██████████| 1/1 [00:00<00:00,  1.36it/s]\n",
      " 85%|████████▍ | 350/412 [1:04:14<17:58, 17.39s/it]"
     ]
    },
    {
     "name": "stdout",
     "output_type": "stream",
     "text": [
      "https://reviews.webmd.com/drugs/drugreview-78102-pexeva\n"
     ]
    },
    {
     "name": "stderr",
     "output_type": "stream",
     "text": [
      "\n",
      "  0%|          | 0/4 [00:00<?, ?it/s]\u001b[A\n",
      " 25%|██▌       | 1/4 [00:01<00:03,  1.23s/it]\u001b[A\n",
      " 50%|█████     | 2/4 [00:02<00:02,  1.39s/it]\u001b[A\n",
      " 75%|███████▌  | 3/4 [00:04<00:01,  1.39s/it]\u001b[A\n",
      "100%|██████████| 4/4 [00:05<00:00,  1.31s/it]\n",
      " 85%|████████▌ | 351/412 [1:04:22<14:50, 14.60s/it]"
     ]
    },
    {
     "name": "stdout",
     "output_type": "stream",
     "text": [
      "https://reviews.webmd.com/drugs/drugreview-78613-budeprion-sr-tablet-sustained-release-12-hr\n"
     ]
    },
    {
     "name": "stderr",
     "output_type": "stream",
     "text": [
      "\n",
      "  0%|          | 0/6 [00:00<?, ?it/s]\u001b[A\n",
      " 17%|█▋        | 1/6 [00:01<00:05,  1.14s/it]\u001b[A\n",
      " 33%|███▎      | 2/6 [00:03<00:07,  1.78s/it]\u001b[A\n",
      " 50%|█████     | 3/6 [00:04<00:04,  1.65s/it]\u001b[A\n",
      " 67%|██████▋   | 4/6 [00:06<00:03,  1.68s/it]\u001b[A\n",
      " 83%|████████▎ | 5/6 [00:08<00:01,  1.58s/it]\u001b[A\n",
      "100%|██████████| 6/6 [00:09<00:00,  1.59s/it]\n",
      " 85%|████████▌ | 352/412 [1:04:34<13:38, 13.64s/it]"
     ]
    },
    {
     "name": "stdout",
     "output_type": "stream",
     "text": [
      "https://reviews.webmd.com/drugs/drugreview-7895-moban-tablet\n"
     ]
    },
    {
     "name": "stderr",
     "output_type": "stream",
     "text": [
      "\n",
      "  0%|          | 0/1 [00:00<?, ?it/s]\u001b[A\n",
      "100%|██████████| 1/1 [00:00<00:00,  1.28it/s]\n",
      " 86%|████████▌ | 353/412 [1:04:36<10:12, 10.37s/it]"
     ]
    },
    {
     "name": "stdout",
     "output_type": "stream",
     "text": [
      "https://reviews.webmd.com/drugs/drugreview-7896-molindone-hcl\n"
     ]
    },
    {
     "name": "stderr",
     "output_type": "stream",
     "text": [
      " 86%|████████▌ | 354/412 [1:04:38<07:28,  7.74s/it]"
     ]
    },
    {
     "name": "stdout",
     "output_type": "stream",
     "text": [
      "https://reviews.webmd.com/drugs/drugreview-8115-alprazolam-intensol\n"
     ]
    },
    {
     "name": "stderr",
     "output_type": "stream",
     "text": [
      "\n",
      "  0%|          | 0/1 [00:00<?, ?it/s]\u001b[A\n",
      "100%|██████████| 1/1 [00:00<00:00,  1.00it/s]\n",
      " 86%|████████▌ | 355/412 [1:04:41<06:05,  6.41s/it]"
     ]
    },
    {
     "name": "stdout",
     "output_type": "stream",
     "text": [
      "https://reviews.webmd.com/drugs/drugreview-8171-alprazolam\n"
     ]
    },
    {
     "name": "stderr",
     "output_type": "stream",
     "text": [
      "\n",
      "  0%|          | 0/37 [00:00<?, ?it/s]\u001b[A\n",
      "  3%|▎         | 1/37 [00:00<00:33,  1.08it/s]\u001b[A\n",
      "  5%|▌         | 2/37 [00:02<00:48,  1.40s/it]\u001b[A\n",
      "  8%|▊         | 3/37 [00:04<00:50,  1.49s/it]\u001b[A\n",
      " 11%|█         | 4/37 [00:05<00:52,  1.58s/it]\u001b[A\n",
      " 14%|█▎        | 5/37 [00:07<00:51,  1.60s/it]\u001b[A\n",
      " 16%|█▌        | 6/37 [00:09<00:48,  1.58s/it]\u001b[A\n",
      " 19%|█▉        | 7/37 [00:10<00:47,  1.58s/it]\u001b[A\n",
      " 22%|██▏       | 8/37 [00:12<00:49,  1.72s/it]\u001b[A\n",
      " 24%|██▍       | 9/37 [00:14<00:47,  1.69s/it]\u001b[A\n",
      " 27%|██▋       | 10/37 [00:15<00:44,  1.65s/it]\u001b[A\n",
      " 30%|██▉       | 11/37 [00:17<00:44,  1.70s/it]\u001b[A\n",
      " 32%|███▏      | 12/37 [00:19<00:44,  1.76s/it]\u001b[A\n",
      " 35%|███▌      | 13/37 [00:21<00:44,  1.84s/it]\u001b[A\n",
      " 38%|███▊      | 14/37 [00:23<00:40,  1.77s/it]\u001b[A\n",
      " 41%|████      | 15/37 [00:25<00:39,  1.81s/it]\u001b[A\n",
      " 43%|████▎     | 16/37 [00:26<00:37,  1.77s/it]\u001b[A\n",
      " 46%|████▌     | 17/37 [00:28<00:35,  1.76s/it]\u001b[A\n",
      " 49%|████▊     | 18/37 [00:30<00:32,  1.69s/it]\u001b[A\n",
      " 51%|█████▏    | 19/37 [00:31<00:30,  1.70s/it]\u001b[A\n",
      " 54%|█████▍    | 20/37 [00:33<00:29,  1.72s/it]\u001b[A\n",
      " 57%|█████▋    | 21/37 [00:35<00:28,  1.76s/it]\u001b[A\n",
      " 59%|█████▉    | 22/37 [00:37<00:26,  1.74s/it]\u001b[A\n",
      " 62%|██████▏   | 23/37 [00:38<00:23,  1.67s/it]\u001b[A\n",
      " 65%|██████▍   | 24/37 [00:40<00:22,  1.70s/it]\u001b[A\n",
      " 68%|██████▊   | 25/37 [00:41<00:19,  1.64s/it]\u001b[A\n",
      " 70%|███████   | 26/37 [00:43<00:18,  1.64s/it]\u001b[A\n",
      " 73%|███████▎  | 27/37 [00:45<00:16,  1.62s/it]\u001b[A\n",
      " 76%|███████▌  | 28/37 [00:46<00:14,  1.59s/it]\u001b[A\n",
      " 78%|███████▊  | 29/37 [00:48<00:12,  1.61s/it]\u001b[A\n",
      " 81%|████████  | 30/37 [00:50<00:11,  1.66s/it]\u001b[A\n",
      " 84%|████████▍ | 31/37 [00:51<00:09,  1.63s/it]\u001b[A\n",
      " 86%|████████▋ | 32/37 [00:53<00:08,  1.73s/it]\u001b[A\n",
      " 89%|████████▉ | 33/37 [00:55<00:07,  1.75s/it]\u001b[A\n",
      " 92%|█████████▏| 34/37 [00:57<00:05,  1.70s/it]\u001b[A\n",
      " 95%|█████████▍| 35/37 [00:58<00:03,  1.65s/it]\u001b[A\n",
      " 97%|█████████▋| 36/37 [01:00<00:01,  1.68s/it]\u001b[A\n",
      "100%|██████████| 37/37 [01:01<00:00,  1.66s/it]\n",
      " 86%|████████▋ | 356/412 [1:05:45<21:55, 23.49s/it]"
     ]
    },
    {
     "name": "stdout",
     "output_type": "stream",
     "text": [
      "https://reviews.webmd.com/drugs/drugreview-8171-alprazolam-concentrate\n"
     ]
    },
    {
     "name": "stderr",
     "output_type": "stream",
     "text": [
      "\n",
      "  0%|          | 0/37 [00:00<?, ?it/s]\u001b[A\n",
      "  3%|▎         | 1/37 [00:00<00:35,  1.01it/s]\u001b[A\n",
      "  5%|▌         | 2/37 [00:01<00:34,  1.03it/s]\u001b[A\n",
      "  8%|▊         | 3/37 [00:02<00:32,  1.03it/s]\u001b[A\n",
      " 11%|█         | 4/37 [00:03<00:33,  1.01s/it]\u001b[A\n",
      " 14%|█▎        | 5/37 [00:04<00:31,  1.02it/s]\u001b[A\n",
      " 16%|█▌        | 6/37 [00:06<00:32,  1.06s/it]\u001b[A\n",
      " 19%|█▉        | 7/37 [00:07<00:30,  1.03s/it]\u001b[A\n",
      " 22%|██▏       | 8/37 [00:08<00:29,  1.01s/it]\u001b[A\n",
      " 24%|██▍       | 9/37 [00:09<00:28,  1.00s/it]\u001b[A\n",
      " 27%|██▋       | 10/37 [00:10<00:26,  1.01it/s]\u001b[A\n",
      " 30%|██▉       | 11/37 [00:11<00:25,  1.00it/s]\u001b[A\n",
      " 32%|███▏      | 12/37 [00:12<00:28,  1.13s/it]\u001b[A\n",
      " 35%|███▌      | 13/37 [00:13<00:27,  1.13s/it]\u001b[A\n",
      " 38%|███▊      | 14/37 [00:14<00:25,  1.11s/it]\u001b[A\n",
      " 41%|████      | 15/37 [00:15<00:23,  1.07s/it]\u001b[A\n",
      " 43%|████▎     | 16/37 [00:16<00:22,  1.07s/it]\u001b[A\n",
      " 46%|████▌     | 17/37 [00:17<00:21,  1.06s/it]\u001b[A\n",
      " 49%|████▊     | 18/37 [00:19<00:21,  1.13s/it]\u001b[A\n",
      " 51%|█████▏    | 19/37 [00:20<00:19,  1.09s/it]\u001b[A\n",
      " 54%|█████▍    | 20/37 [00:21<00:18,  1.09s/it]\u001b[A\n",
      " 57%|█████▋    | 21/37 [00:22<00:16,  1.05s/it]\u001b[A\n",
      " 59%|█████▉    | 22/37 [00:23<00:15,  1.03s/it]\u001b[A\n",
      " 62%|██████▏   | 23/37 [00:24<00:15,  1.08s/it]\u001b[A\n",
      " 65%|██████▍   | 24/37 [00:25<00:14,  1.09s/it]\u001b[A\n",
      " 68%|██████▊   | 25/37 [00:26<00:12,  1.05s/it]\u001b[A\n",
      " 70%|███████   | 26/37 [00:27<00:11,  1.07s/it]\u001b[A\n",
      " 73%|███████▎  | 27/37 [00:28<00:11,  1.11s/it]\u001b[A\n",
      " 76%|███████▌  | 28/37 [00:29<00:09,  1.06s/it]\u001b[A\n",
      " 78%|███████▊  | 29/37 [00:31<00:09,  1.17s/it]\u001b[A\n",
      " 81%|████████  | 30/37 [00:32<00:07,  1.14s/it]\u001b[A\n",
      " 84%|████████▍ | 31/37 [00:33<00:06,  1.09s/it]\u001b[A\n",
      " 86%|████████▋ | 32/37 [00:34<00:05,  1.07s/it]\u001b[A\n",
      " 89%|████████▉ | 33/37 [00:35<00:04,  1.05s/it]\u001b[A\n",
      " 92%|█████████▏| 34/37 [00:36<00:03,  1.05s/it]\u001b[A\n",
      " 95%|█████████▍| 35/37 [00:37<00:02,  1.12s/it]\u001b[A\n",
      " 97%|█████████▋| 36/37 [00:38<00:01,  1.11s/it]\u001b[A\n",
      "100%|██████████| 37/37 [00:39<00:00,  1.06s/it]\n",
      " 87%|████████▋ | 357/412 [1:06:25<26:09, 28.54s/it]"
     ]
    },
    {
     "name": "stdout",
     "output_type": "stream",
     "text": [
      "https://reviews.webmd.com/drugs/drugreview-8171-alprazolam-er\n"
     ]
    },
    {
     "name": "stderr",
     "output_type": "stream",
     "text": [
      "\n",
      "  0%|          | 0/37 [00:00<?, ?it/s]\u001b[A\n",
      "  3%|▎         | 1/37 [00:01<00:37,  1.05s/it]\u001b[A\n",
      "  5%|▌         | 2/37 [00:02<00:38,  1.11s/it]\u001b[A\n",
      "  8%|▊         | 3/37 [00:03<00:42,  1.25s/it]\u001b[A\n",
      " 11%|█         | 4/37 [00:04<00:39,  1.18s/it]\u001b[A\n",
      " 14%|█▎        | 5/37 [00:05<00:35,  1.11s/it]\u001b[A\n",
      " 16%|█▌        | 6/37 [00:06<00:33,  1.07s/it]\u001b[A\n",
      " 19%|█▉        | 7/37 [00:07<00:31,  1.06s/it]\u001b[A\n",
      " 22%|██▏       | 8/37 [00:08<00:29,  1.03s/it]\u001b[A\n",
      " 24%|██▍       | 9/37 [00:09<00:30,  1.08s/it]\u001b[A\n",
      " 27%|██▋       | 10/37 [00:10<00:28,  1.06s/it]\u001b[A\n",
      " 30%|██▉       | 11/37 [00:11<00:26,  1.03s/it]\u001b[A\n",
      " 32%|███▏      | 12/37 [00:12<00:26,  1.05s/it]\u001b[A\n",
      " 35%|███▌      | 13/37 [00:13<00:24,  1.04s/it]\u001b[A\n",
      " 38%|███▊      | 14/37 [00:15<00:24,  1.06s/it]\u001b[A\n",
      " 41%|████      | 15/37 [00:16<00:23,  1.06s/it]\u001b[A\n",
      " 43%|████▎     | 16/37 [00:17<00:22,  1.08s/it]\u001b[A\n",
      " 46%|████▌     | 17/37 [00:18<00:22,  1.11s/it]\u001b[A\n",
      " 49%|████▊     | 18/37 [00:19<00:21,  1.14s/it]\u001b[A\n",
      " 51%|█████▏    | 19/37 [00:20<00:20,  1.16s/it]\u001b[A\n",
      " 54%|█████▍    | 20/37 [00:22<00:21,  1.25s/it]\u001b[A\n",
      " 57%|█████▋    | 21/37 [00:23<00:18,  1.15s/it]\u001b[A\n",
      " 59%|█████▉    | 22/37 [00:24<00:17,  1.15s/it]\u001b[A\n",
      " 62%|██████▏   | 23/37 [00:25<00:15,  1.13s/it]\u001b[A\n",
      " 65%|██████▍   | 24/37 [00:26<00:14,  1.12s/it]\u001b[A\n",
      " 68%|██████▊   | 25/37 [00:27<00:13,  1.13s/it]\u001b[A\n",
      " 70%|███████   | 26/37 [00:29<00:13,  1.23s/it]\u001b[A\n",
      " 73%|███████▎  | 27/37 [00:30<00:12,  1.22s/it]\u001b[A\n",
      " 76%|███████▌  | 28/37 [00:31<00:10,  1.17s/it]\u001b[A\n",
      " 78%|███████▊  | 29/37 [00:32<00:08,  1.12s/it]\u001b[A\n",
      " 81%|████████  | 30/37 [00:33<00:07,  1.11s/it]\u001b[A\n",
      " 84%|████████▍ | 31/37 [00:34<00:06,  1.13s/it]\u001b[A\n",
      " 86%|████████▋ | 32/37 [00:35<00:05,  1.13s/it]\u001b[A\n",
      " 89%|████████▉ | 33/37 [00:36<00:04,  1.12s/it]\u001b[A\n",
      " 92%|█████████▏| 34/37 [00:37<00:03,  1.10s/it]\u001b[A\n",
      " 95%|█████████▍| 35/37 [00:39<00:02,  1.09s/it]\u001b[A\n",
      " 97%|█████████▋| 36/37 [00:40<00:01,  1.07s/it]\u001b[A\n",
      "100%|██████████| 37/37 [00:40<00:00,  1.10s/it]\n",
      " 87%|████████▋ | 358/412 [1:07:07<29:14, 32.48s/it]"
     ]
    },
    {
     "name": "stdout",
     "output_type": "stream",
     "text": [
      "https://reviews.webmd.com/drugs/drugreview-8171-alprazolam-odt\n"
     ]
    },
    {
     "name": "stderr",
     "output_type": "stream",
     "text": [
      "\n",
      "  0%|          | 0/37 [00:00<?, ?it/s]\u001b[A\n",
      "  3%|▎         | 1/37 [00:01<00:42,  1.17s/it]\u001b[A\n",
      "  5%|▌         | 2/37 [00:02<00:50,  1.45s/it]\u001b[A\n",
      "  8%|▊         | 3/37 [00:04<00:51,  1.52s/it]\u001b[A\n",
      " 11%|█         | 4/37 [00:06<00:51,  1.57s/it]\u001b[A\n",
      " 14%|█▎        | 5/37 [00:08<00:59,  1.86s/it]\u001b[A\n",
      " 16%|█▌        | 6/37 [00:10<00:55,  1.78s/it]\u001b[A\n",
      " 19%|█▉        | 7/37 [00:11<00:52,  1.75s/it]\u001b[A\n",
      " 22%|██▏       | 8/37 [00:13<00:51,  1.78s/it]\u001b[A\n",
      " 24%|██▍       | 9/37 [00:15<00:48,  1.72s/it]\u001b[A\n",
      " 27%|██▋       | 10/37 [00:16<00:46,  1.72s/it]\u001b[A\n",
      " 30%|██▉       | 11/37 [00:18<00:45,  1.75s/it]\u001b[A\n",
      " 32%|███▏      | 12/37 [00:20<00:41,  1.68s/it]\u001b[A\n",
      " 35%|███▌      | 13/37 [00:21<00:39,  1.63s/it]\u001b[A\n",
      " 38%|███▊      | 14/37 [00:23<00:37,  1.64s/it]\u001b[A\n",
      " 41%|████      | 15/37 [00:25<00:38,  1.74s/it]\u001b[A\n",
      " 43%|████▎     | 16/37 [00:26<00:34,  1.67s/it]\u001b[A\n",
      " 46%|████▌     | 17/37 [00:28<00:34,  1.71s/it]\u001b[A\n",
      " 49%|████▊     | 18/37 [00:30<00:31,  1.66s/it]\u001b[A\n",
      " 51%|█████▏    | 19/37 [00:31<00:29,  1.64s/it]\u001b[A\n",
      " 54%|█████▍    | 20/37 [00:33<00:28,  1.65s/it]\u001b[A\n",
      " 57%|█████▋    | 21/37 [00:34<00:25,  1.60s/it]\u001b[A\n",
      " 59%|█████▉    | 22/37 [00:36<00:25,  1.71s/it]\u001b[A\n",
      " 62%|██████▏   | 23/37 [00:38<00:23,  1.68s/it]\u001b[A\n",
      " 65%|██████▍   | 24/37 [00:40<00:21,  1.63s/it]\u001b[A\n",
      " 68%|██████▊   | 25/37 [00:41<00:19,  1.62s/it]\u001b[A\n",
      " 70%|███████   | 26/37 [00:43<00:18,  1.66s/it]\u001b[A\n",
      " 73%|███████▎  | 27/37 [00:45<00:16,  1.66s/it]\u001b[A\n",
      " 76%|███████▌  | 28/37 [00:47<00:15,  1.74s/it]\u001b[A\n",
      " 78%|███████▊  | 29/37 [00:48<00:13,  1.75s/it]\u001b[A\n",
      " 81%|████████  | 30/37 [00:50<00:11,  1.66s/it]\u001b[A\n",
      " 84%|████████▍ | 31/37 [00:51<00:09,  1.58s/it]\u001b[A\n",
      " 86%|████████▋ | 32/37 [00:53<00:07,  1.56s/it]\u001b[A\n",
      " 89%|████████▉ | 33/37 [00:54<00:06,  1.60s/it]\u001b[A\n",
      " 92%|█████████▏| 34/37 [00:56<00:04,  1.64s/it]\u001b[A\n",
      " 95%|█████████▍| 35/37 [00:58<00:03,  1.63s/it]\u001b[A\n",
      " 97%|█████████▋| 36/37 [00:59<00:01,  1.67s/it]\u001b[A\n",
      "100%|██████████| 37/37 [01:01<00:00,  1.66s/it]\n",
      " 87%|████████▋ | 359/412 [1:08:11<37:02, 41.94s/it]"
     ]
    },
    {
     "name": "stdout",
     "output_type": "stream",
     "text": [
      "https://reviews.webmd.com/drugs/drugreview-8186-miltown-tablet\n"
     ]
    },
    {
     "name": "stderr",
     "output_type": "stream",
     "text": [
      "\n",
      "  0%|          | 0/1 [00:00<?, ?it/s]\u001b[A\n",
      "100%|██████████| 1/1 [00:00<00:00,  1.67it/s]\n",
      " 87%|████████▋ | 360/412 [1:08:13<26:04, 30.09s/it]"
     ]
    },
    {
     "name": "stdout",
     "output_type": "stream",
     "text": [
      "https://reviews.webmd.com/drugs/drugreview-8187-meprobamate\n"
     ]
    },
    {
     "name": "stderr",
     "output_type": "stream",
     "text": [
      "\n",
      "  0%|          | 0/2 [00:00<?, ?it/s]\u001b[A\n",
      " 50%|█████     | 1/2 [00:00<00:00,  1.09it/s]\u001b[A\n",
      "100%|██████████| 2/2 [00:02<00:00,  1.39s/it]\n",
      " 88%|████████▊ | 361/412 [1:08:18<19:09, 22.55s/it]"
     ]
    },
    {
     "name": "stdout",
     "output_type": "stream",
     "text": [
      "https://reviews.webmd.com/drugs/drugreview-8323-desipramine-hcl\n"
     ]
    },
    {
     "name": "stderr",
     "output_type": "stream",
     "text": [
      "\n",
      "  0%|          | 0/3 [00:00<?, ?it/s]\u001b[A\n",
      " 33%|███▎      | 1/3 [00:01<00:02,  1.08s/it]\u001b[A\n",
      " 67%|██████▋   | 2/3 [00:02<00:01,  1.39s/it]\u001b[A\n",
      "100%|██████████| 3/3 [00:03<00:00,  1.31s/it]\n",
      " 88%|████████▊ | 362/412 [1:08:25<14:50, 17.80s/it]"
     ]
    },
    {
     "name": "stdout",
     "output_type": "stream",
     "text": [
      "https://reviews.webmd.com/drugs/drugreview-8347-oxazepam\n"
     ]
    },
    {
     "name": "stderr",
     "output_type": "stream",
     "text": [
      "\n",
      "  0%|          | 0/3 [00:00<?, ?it/s]\u001b[A\n",
      " 33%|███▎      | 1/3 [00:01<00:02,  1.42s/it]\u001b[A\n",
      " 67%|██████▋   | 2/3 [00:02<00:01,  1.39s/it]\u001b[A\n",
      "100%|██████████| 3/3 [00:04<00:00,  1.36s/it]\n",
      " 88%|████████▊ | 363/412 [1:08:31<11:43, 14.35s/it]"
     ]
    },
    {
     "name": "stdout",
     "output_type": "stream",
     "text": [
      "https://reviews.webmd.com/drugs/drugreview-8495-gen-xene-tablet\n"
     ]
    },
    {
     "name": "stderr",
     "output_type": "stream",
     "text": [
      " 88%|████████▊ | 364/412 [1:08:33<08:25, 10.54s/it]"
     ]
    },
    {
     "name": "stdout",
     "output_type": "stream",
     "text": [
      "https://reviews.webmd.com/drugs/drugreview-8603-celexa\n"
     ]
    },
    {
     "name": "stderr",
     "output_type": "stream",
     "text": [
      "\n",
      "  0%|          | 0/112 [00:00<?, ?it/s]\u001b[A\n",
      "  1%|          | 1/112 [00:01<02:04,  1.12s/it]\u001b[A\n",
      "  2%|▏         | 2/112 [00:03<03:14,  1.77s/it]\u001b[A\n",
      "  3%|▎         | 3/112 [00:05<03:29,  1.92s/it]\u001b[A\n",
      "  4%|▎         | 4/112 [00:07<03:31,  1.96s/it]\u001b[A\n",
      "  4%|▍         | 5/112 [00:09<03:17,  1.84s/it]\u001b[A\n",
      "  5%|▌         | 6/112 [00:10<03:12,  1.82s/it]\u001b[A\n",
      "  6%|▋         | 7/112 [00:12<03:10,  1.82s/it]\u001b[A\n",
      "  7%|▋         | 8/112 [00:14<03:13,  1.86s/it]\u001b[A\n",
      "  8%|▊         | 9/112 [00:16<03:12,  1.87s/it]\u001b[A\n",
      "  9%|▉         | 10/112 [00:18<03:08,  1.84s/it]\u001b[A\n",
      " 10%|▉         | 11/112 [00:20<03:04,  1.82s/it]\u001b[A\n",
      " 11%|█         | 12/112 [00:21<02:58,  1.78s/it]\u001b[A\n",
      " 12%|█▏        | 13/112 [00:23<02:53,  1.76s/it]\u001b[A\n",
      " 12%|█▎        | 14/112 [00:25<02:52,  1.76s/it]\u001b[A\n",
      " 13%|█▎        | 15/112 [00:26<02:47,  1.73s/it]\u001b[A\n",
      " 14%|█▍        | 16/112 [00:28<02:46,  1.74s/it]\u001b[A\n",
      " 15%|█▌        | 17/112 [00:30<02:46,  1.75s/it]\u001b[A\n",
      " 16%|█▌        | 18/112 [00:32<02:46,  1.77s/it]\u001b[A\n",
      " 17%|█▋        | 19/112 [00:34<02:46,  1.79s/it]\u001b[A\n",
      " 18%|█▊        | 20/112 [00:36<02:58,  1.94s/it]\u001b[A\n",
      " 19%|█▉        | 21/112 [00:38<02:52,  1.89s/it]\u001b[A\n",
      " 20%|█▉        | 22/112 [00:39<02:41,  1.80s/it]\u001b[A\n",
      " 21%|██        | 23/112 [00:41<02:41,  1.81s/it]\u001b[A\n",
      " 21%|██▏       | 24/112 [00:43<02:40,  1.83s/it]\u001b[A\n",
      " 22%|██▏       | 25/112 [00:45<02:42,  1.87s/it]\u001b[A\n",
      " 23%|██▎       | 26/112 [00:47<02:38,  1.85s/it]\u001b[A\n",
      " 24%|██▍       | 27/112 [00:48<02:34,  1.82s/it]\u001b[A\n",
      " 25%|██▌       | 28/112 [00:50<02:33,  1.82s/it]\u001b[A\n",
      " 26%|██▌       | 29/112 [00:52<02:31,  1.83s/it]\u001b[A\n",
      " 27%|██▋       | 30/112 [00:54<02:31,  1.84s/it]\u001b[A\n",
      " 28%|██▊       | 31/112 [00:56<02:34,  1.91s/it]\u001b[A\n",
      " 29%|██▊       | 32/112 [00:58<02:30,  1.88s/it]\u001b[A\n",
      " 29%|██▉       | 33/112 [01:00<02:25,  1.84s/it]\u001b[A\n",
      " 30%|███       | 34/112 [01:01<02:23,  1.84s/it]\u001b[A\n",
      " 31%|███▏      | 35/112 [01:03<02:18,  1.80s/it]\u001b[A\n",
      " 32%|███▏      | 36/112 [01:05<02:17,  1.81s/it]\u001b[A\n",
      " 33%|███▎      | 37/112 [01:07<02:19,  1.86s/it]\u001b[A\n",
      " 34%|███▍      | 38/112 [01:09<02:17,  1.85s/it]\u001b[A\n",
      " 35%|███▍      | 39/112 [01:11<02:11,  1.80s/it]\u001b[A\n",
      " 36%|███▌      | 40/112 [01:12<02:11,  1.83s/it]\u001b[A\n",
      " 37%|███▋      | 41/112 [01:14<02:14,  1.89s/it]\u001b[A\n",
      " 38%|███▊      | 42/112 [01:16<02:13,  1.90s/it]\u001b[A\n",
      " 38%|███▊      | 43/112 [01:18<02:09,  1.88s/it]\u001b[A\n",
      " 39%|███▉      | 44/112 [01:20<02:07,  1.87s/it]\u001b[A\n",
      " 40%|████      | 45/112 [01:22<02:04,  1.85s/it]\u001b[A\n",
      " 41%|████      | 46/112 [01:23<01:57,  1.79s/it]\u001b[A\n",
      " 42%|████▏     | 47/112 [01:25<01:55,  1.78s/it]\u001b[A\n",
      " 43%|████▎     | 48/112 [01:27<02:01,  1.91s/it]\u001b[A\n",
      " 44%|████▍     | 49/112 [01:29<01:56,  1.84s/it]\u001b[A\n",
      " 45%|████▍     | 50/112 [01:31<01:57,  1.90s/it]\u001b[A\n",
      " 46%|████▌     | 51/112 [01:33<01:53,  1.86s/it]\u001b[A\n",
      " 46%|████▋     | 52/112 [01:35<01:54,  1.91s/it]\u001b[A\n",
      " 47%|████▋     | 53/112 [01:37<01:52,  1.90s/it]\u001b[A\n",
      " 48%|████▊     | 54/112 [01:39<01:54,  1.97s/it]\u001b[A\n",
      " 49%|████▉     | 55/112 [01:41<01:46,  1.87s/it]\u001b[A\n",
      " 50%|█████     | 56/112 [01:43<01:46,  1.90s/it]\u001b[A\n",
      " 51%|█████     | 57/112 [01:44<01:41,  1.85s/it]\u001b[A\n",
      " 52%|█████▏    | 58/112 [01:46<01:40,  1.86s/it]\u001b[A\n",
      " 53%|█████▎    | 59/112 [01:48<01:38,  1.87s/it]\u001b[A\n",
      " 54%|█████▎    | 60/112 [01:50<01:36,  1.85s/it]\u001b[A\n",
      " 54%|█████▍    | 61/112 [01:52<01:31,  1.80s/it]\u001b[A\n",
      " 55%|█████▌    | 62/112 [01:53<01:27,  1.76s/it]\u001b[A\n",
      " 56%|█████▋    | 63/112 [01:55<01:27,  1.79s/it]\u001b[A\n",
      " 57%|█████▋    | 64/112 [01:57<01:25,  1.78s/it]\u001b[A\n",
      " 58%|█████▊    | 65/112 [01:59<01:25,  1.82s/it]\u001b[A\n",
      " 59%|█████▉    | 66/112 [02:01<01:24,  1.84s/it]\u001b[A\n",
      " 60%|█████▉    | 67/112 [02:03<01:24,  1.88s/it]\u001b[A\n",
      " 61%|██████    | 68/112 [02:05<01:22,  1.88s/it]\u001b[A\n",
      " 62%|██████▏   | 69/112 [02:06<01:17,  1.81s/it]\u001b[A\n",
      " 62%|██████▎   | 70/112 [02:08<01:14,  1.77s/it]\u001b[A\n",
      " 63%|██████▎   | 71/112 [02:10<01:17,  1.89s/it]\u001b[A\n",
      " 64%|██████▍   | 72/112 [02:12<01:12,  1.82s/it]\u001b[A\n",
      " 65%|██████▌   | 73/112 [02:13<01:08,  1.75s/it]\u001b[A\n",
      " 66%|██████▌   | 74/112 [02:15<01:05,  1.73s/it]\u001b[A\n",
      " 67%|██████▋   | 75/112 [02:17<01:07,  1.82s/it]\u001b[A\n",
      " 68%|██████▊   | 76/112 [02:19<01:07,  1.88s/it]\u001b[A\n",
      " 69%|██████▉   | 77/112 [02:21<01:04,  1.84s/it]\u001b[A\n",
      " 70%|██████▉   | 78/112 [02:22<01:00,  1.77s/it]\u001b[A\n",
      " 71%|███████   | 79/112 [02:24<00:58,  1.78s/it]\u001b[A\n",
      " 71%|███████▏  | 80/112 [02:26<00:56,  1.77s/it]\u001b[A\n",
      " 72%|███████▏  | 81/112 [02:27<00:52,  1.69s/it]\u001b[A\n",
      " 73%|███████▎  | 82/112 [02:29<00:52,  1.76s/it]\u001b[A\n",
      " 74%|███████▍  | 83/112 [02:31<00:53,  1.84s/it]\u001b[A\n",
      " 75%|███████▌  | 84/112 [02:33<00:51,  1.82s/it]\u001b[A\n",
      " 76%|███████▌  | 85/112 [02:35<00:49,  1.82s/it]\u001b[A\n",
      " 77%|███████▋  | 86/112 [02:37<00:47,  1.82s/it]\u001b[A\n",
      " 78%|███████▊  | 87/112 [02:38<00:44,  1.77s/it]\u001b[A\n",
      " 79%|███████▊  | 88/112 [02:40<00:44,  1.85s/it]\u001b[A\n",
      " 79%|███████▉  | 89/112 [02:42<00:41,  1.80s/it]\u001b[A\n",
      " 80%|████████  | 90/112 [02:44<00:39,  1.79s/it]\u001b[A\n",
      " 81%|████████▏ | 91/112 [02:46<00:37,  1.76s/it]\u001b[A\n",
      " 82%|████████▏ | 92/112 [02:47<00:35,  1.76s/it]\u001b[A\n",
      " 83%|████████▎ | 93/112 [02:49<00:34,  1.83s/it]\u001b[A\n",
      " 84%|████████▍ | 94/112 [02:51<00:32,  1.80s/it]\u001b[A\n",
      " 85%|████████▍ | 95/112 [02:53<00:30,  1.77s/it]\u001b[A\n",
      " 86%|████████▌ | 96/112 [02:55<00:28,  1.79s/it]\u001b[A\n",
      " 87%|████████▋ | 97/112 [02:56<00:26,  1.75s/it]\u001b[A\n",
      " 88%|████████▊ | 98/112 [02:58<00:25,  1.81s/it]\u001b[A\n",
      " 88%|████████▊ | 99/112 [03:00<00:24,  1.87s/it]\u001b[A\n",
      " 89%|████████▉ | 100/112 [03:02<00:21,  1.82s/it]\u001b[A\n",
      " 90%|█████████ | 101/112 [03:04<00:19,  1.77s/it]\u001b[A\n",
      " 91%|█████████ | 102/112 [03:06<00:18,  1.85s/it]\u001b[A\n",
      " 92%|█████████▏| 103/112 [03:07<00:15,  1.77s/it]\u001b[A\n",
      " 93%|█████████▎| 104/112 [03:09<00:14,  1.86s/it]\u001b[A\n",
      " 94%|█████████▍| 105/112 [03:11<00:12,  1.85s/it]\u001b[A\n",
      " 95%|█████████▍| 106/112 [03:13<00:11,  1.85s/it]\u001b[A\n",
      " 96%|█████████▌| 107/112 [03:15<00:09,  1.87s/it]\u001b[A\n",
      " 96%|█████████▋| 108/112 [03:17<00:07,  1.89s/it]\u001b[A\n",
      " 97%|█████████▋| 109/112 [03:19<00:05,  1.91s/it]\u001b[A\n",
      " 98%|█████████▊| 110/112 [03:21<00:03,  1.87s/it]\u001b[A\n",
      " 99%|█████████▉| 111/112 [03:22<00:01,  1.87s/it]\u001b[A\n",
      "100%|██████████| 112/112 [03:24<00:00,  1.83s/it]\n",
      " 89%|████████▊ | 365/412 [1:12:00<54:25, 69.47s/it]"
     ]
    },
    {
     "name": "stdout",
     "output_type": "stream",
     "text": [
      "https://reviews.webmd.com/drugs/drugreview-8611-amitriptyline-hcl\n"
     ]
    },
    {
     "name": "stderr",
     "output_type": "stream",
     "text": [
      "\n",
      "  0%|          | 0/60 [00:00<?, ?it/s]\u001b[A\n",
      "  2%|▏         | 1/60 [00:01<01:04,  1.10s/it]\u001b[A\n",
      "  3%|▎         | 2/60 [00:02<01:27,  1.51s/it]\u001b[A\n",
      "  5%|▌         | 3/60 [00:04<01:31,  1.61s/it]\u001b[A\n",
      "  7%|▋         | 4/60 [00:06<01:32,  1.65s/it]\u001b[A\n",
      "  8%|▊         | 5/60 [00:07<01:30,  1.65s/it]\u001b[A\n",
      " 10%|█         | 6/60 [00:09<01:27,  1.61s/it]\u001b[A\n",
      " 12%|█▏        | 7/60 [00:11<01:28,  1.67s/it]\u001b[A\n",
      " 13%|█▎        | 8/60 [00:13<01:31,  1.76s/it]\u001b[A\n",
      " 15%|█▌        | 9/60 [00:14<01:26,  1.70s/it]\u001b[A\n",
      " 17%|█▋        | 10/60 [00:16<01:24,  1.69s/it]\u001b[A\n",
      " 18%|█▊        | 11/60 [00:18<01:22,  1.69s/it]\u001b[A\n",
      " 20%|██        | 12/60 [00:19<01:19,  1.66s/it]\u001b[A\n",
      " 22%|██▏       | 13/60 [00:21<01:22,  1.75s/it]\u001b[A\n",
      " 23%|██▎       | 14/60 [00:23<01:27,  1.89s/it]\u001b[A\n",
      " 25%|██▌       | 15/60 [00:25<01:22,  1.84s/it]\u001b[A\n",
      " 27%|██▋       | 16/60 [00:27<01:21,  1.86s/it]\u001b[A\n",
      " 28%|██▊       | 17/60 [00:29<01:17,  1.80s/it]\u001b[A\n",
      " 30%|███       | 18/60 [00:30<01:12,  1.74s/it]\u001b[A\n",
      " 32%|███▏      | 19/60 [00:32<01:09,  1.70s/it]\u001b[A\n",
      " 33%|███▎      | 20/60 [00:34<01:10,  1.77s/it]\u001b[A\n",
      " 35%|███▌      | 21/60 [00:36<01:08,  1.76s/it]\u001b[A\n",
      " 37%|███▋      | 22/60 [00:37<01:06,  1.74s/it]\u001b[A\n",
      " 38%|███▊      | 23/60 [00:39<01:01,  1.66s/it]\u001b[A\n",
      " 40%|████      | 24/60 [00:41<01:00,  1.69s/it]\u001b[A\n",
      " 42%|████▏     | 25/60 [00:42<00:59,  1.69s/it]\u001b[A\n",
      " 43%|████▎     | 26/60 [00:44<00:56,  1.68s/it]\u001b[A\n",
      " 45%|████▌     | 27/60 [00:46<00:55,  1.67s/it]\u001b[A\n",
      " 47%|████▋     | 28/60 [00:47<00:53,  1.68s/it]\u001b[A\n",
      " 48%|████▊     | 29/60 [00:49<00:52,  1.68s/it]\u001b[A\n",
      " 50%|█████     | 30/60 [00:51<00:49,  1.66s/it]\u001b[A\n",
      " 52%|█████▏    | 31/60 [00:52<00:50,  1.73s/it]\u001b[A\n",
      " 53%|█████▎    | 32/60 [00:54<00:47,  1.70s/it]\u001b[A\n",
      " 55%|█████▌    | 33/60 [00:56<00:45,  1.69s/it]\u001b[A\n",
      " 57%|█████▋    | 34/60 [00:57<00:42,  1.65s/it]\u001b[A\n",
      " 58%|█████▊    | 35/60 [00:59<00:40,  1.63s/it]\u001b[A\n",
      " 60%|██████    | 36/60 [01:01<00:39,  1.66s/it]\u001b[A\n",
      " 62%|██████▏   | 37/60 [01:02<00:38,  1.69s/it]\u001b[A\n",
      " 63%|██████▎   | 38/60 [01:04<00:37,  1.71s/it]\u001b[A\n",
      " 65%|██████▌   | 39/60 [01:06<00:34,  1.64s/it]\u001b[A\n",
      " 67%|██████▋   | 40/60 [01:07<00:32,  1.64s/it]\u001b[A\n",
      " 68%|██████▊   | 41/60 [01:09<00:32,  1.69s/it]\u001b[A\n",
      " 70%|███████   | 42/60 [01:11<00:31,  1.76s/it]\u001b[A\n",
      " 72%|███████▏  | 43/60 [01:13<00:30,  1.79s/it]\u001b[A\n",
      " 73%|███████▎  | 44/60 [01:14<00:27,  1.74s/it]\u001b[A\n",
      " 75%|███████▌  | 45/60 [01:16<00:26,  1.78s/it]\u001b[A\n",
      " 77%|███████▋  | 46/60 [01:18<00:25,  1.79s/it]\u001b[A\n",
      " 78%|███████▊  | 47/60 [01:20<00:22,  1.72s/it]\u001b[A\n",
      " 80%|████████  | 48/60 [01:22<00:21,  1.82s/it]\u001b[A\n",
      " 82%|████████▏ | 49/60 [01:24<00:19,  1.81s/it]\u001b[A\n",
      " 83%|████████▎ | 50/60 [01:25<00:17,  1.76s/it]\u001b[A\n",
      " 85%|████████▌ | 51/60 [01:27<00:15,  1.76s/it]\u001b[A\n",
      " 87%|████████▋ | 52/60 [01:28<00:13,  1.65s/it]\u001b[A\n",
      " 88%|████████▊ | 53/60 [01:30<00:11,  1.67s/it]\u001b[A\n",
      " 90%|█████████ | 54/60 [01:32<00:10,  1.78s/it]\u001b[A\n",
      " 92%|█████████▏| 55/60 [01:34<00:08,  1.77s/it]\u001b[A\n",
      " 93%|█████████▎| 56/60 [01:36<00:07,  1.77s/it]\u001b[A\n",
      " 95%|█████████▌| 57/60 [01:37<00:05,  1.70s/it]\u001b[A\n",
      " 97%|█████████▋| 58/60 [01:39<00:03,  1.73s/it]\u001b[A\n",
      " 98%|█████████▊| 59/60 [01:41<00:01,  1.81s/it]\u001b[A\n",
      "100%|██████████| 60/60 [01:42<00:00,  1.71s/it]\n",
      " 89%|████████▉ | 366/412 [1:13:44<1:01:24, 80.09s/it]"
     ]
    },
    {
     "name": "stdout",
     "output_type": "stream",
     "text": [
      "https://reviews.webmd.com/drugs/drugreview-8630-chlordiazepoxide-hcl\n"
     ]
    },
    {
     "name": "stderr",
     "output_type": "stream",
     "text": [
      "\n",
      "  0%|          | 0/1 [00:00<?, ?it/s]\u001b[A\n",
      "100%|██████████| 1/1 [00:00<00:00,  1.39it/s]\n",
      " 89%|████████▉ | 367/412 [1:13:47<42:38, 56.86s/it]  "
     ]
    },
    {
     "name": "stdout",
     "output_type": "stream",
     "text": [
      "https://reviews.webmd.com/drugs/drugreview-8636-clorazepate-dipotassium\n"
     ]
    },
    {
     "name": "stderr",
     "output_type": "stream",
     "text": [
      "\n",
      "  0%|          | 0/2 [00:00<?, ?it/s]\u001b[A\n",
      " 50%|█████     | 1/2 [00:01<00:01,  1.63s/it]\u001b[A\n",
      "100%|██████████| 2/2 [00:03<00:00,  1.53s/it]\n",
      " 89%|████████▉ | 368/412 [1:13:52<30:18, 41.33s/it]"
     ]
    },
    {
     "name": "stdout",
     "output_type": "stream",
     "text": [
      "https://reviews.webmd.com/drugs/drugreview-8647-doxepin-hcl\n"
     ]
    },
    {
     "name": "stderr",
     "output_type": "stream",
     "text": [
      "\n",
      "  0%|          | 0/13 [00:00<?, ?it/s]\u001b[A\n",
      "  8%|▊         | 1/13 [00:01<00:15,  1.26s/it]\u001b[A\n",
      " 15%|█▌        | 2/13 [00:02<00:16,  1.49s/it]\u001b[A\n",
      " 23%|██▎       | 3/13 [00:04<00:15,  1.53s/it]\u001b[A\n",
      " 31%|███       | 4/13 [00:05<00:13,  1.51s/it]\u001b[A\n",
      " 38%|███▊      | 5/13 [00:07<00:12,  1.57s/it]\u001b[A\n",
      " 46%|████▌     | 6/13 [00:09<00:11,  1.65s/it]\u001b[A\n",
      " 54%|█████▍    | 7/13 [00:11<00:09,  1.64s/it]\u001b[A\n",
      " 62%|██████▏   | 8/13 [00:12<00:08,  1.65s/it]\u001b[A\n",
      " 69%|██████▉   | 9/13 [00:14<00:06,  1.61s/it]\u001b[A\n",
      " 77%|███████▋  | 10/13 [00:15<00:04,  1.59s/it]\u001b[A\n",
      " 85%|████████▍ | 11/13 [00:17<00:03,  1.56s/it]\u001b[A\n",
      " 92%|█████████▏| 12/13 [00:19<00:01,  1.73s/it]\u001b[A\n",
      "100%|██████████| 13/13 [00:21<00:00,  1.63s/it]\n",
      " 90%|████████▉ | 369/412 [1:14:15<25:43, 35.88s/it]"
     ]
    },
    {
     "name": "stdout",
     "output_type": "stream",
     "text": [
      "https://reviews.webmd.com/drugs/drugreview-8647-doxepin-hcl-capsule\n"
     ]
    },
    {
     "name": "stderr",
     "output_type": "stream",
     "text": [
      "\n",
      "  0%|          | 0/13 [00:00<?, ?it/s]\u001b[A\n",
      "  8%|▊         | 1/13 [00:01<00:12,  1.01s/it]\u001b[A\n",
      " 15%|█▌        | 2/13 [00:01<00:10,  1.01it/s]\u001b[A\n",
      " 23%|██▎       | 3/13 [00:02<00:09,  1.01it/s]\u001b[A\n",
      " 31%|███       | 4/13 [00:04<00:09,  1.09s/it]\u001b[A\n",
      " 38%|███▊      | 5/13 [00:05<00:08,  1.07s/it]\u001b[A\n",
      " 46%|████▌     | 6/13 [00:06<00:07,  1.05s/it]\u001b[A\n",
      " 54%|█████▍    | 7/13 [00:07<00:06,  1.11s/it]\u001b[A\n",
      " 62%|██████▏   | 8/13 [00:08<00:05,  1.12s/it]\u001b[A\n",
      " 69%|██████▉   | 9/13 [00:10<00:04,  1.23s/it]\u001b[A\n",
      " 77%|███████▋  | 10/13 [00:11<00:03,  1.18s/it]\u001b[A\n",
      " 85%|████████▍ | 11/13 [00:12<00:02,  1.12s/it]\u001b[A\n",
      " 92%|█████████▏| 12/13 [00:13<00:01,  1.13s/it]\u001b[A\n",
      "100%|██████████| 13/13 [00:14<00:00,  1.10s/it]\n",
      " 90%|████████▉ | 370/412 [1:14:31<20:48, 29.73s/it]"
     ]
    },
    {
     "name": "stdout",
     "output_type": "stream",
     "text": [
      "https://reviews.webmd.com/drugs/drugreview-8647-doxepin-hcl-concentrate\n"
     ]
    },
    {
     "name": "stderr",
     "output_type": "stream",
     "text": [
      "\n",
      "  0%|          | 0/13 [00:00<?, ?it/s]\u001b[A\n",
      "  8%|▊         | 1/13 [00:01<00:15,  1.25s/it]\u001b[A\n",
      " 15%|█▌        | 2/13 [00:02<00:13,  1.22s/it]\u001b[A\n",
      " 23%|██▎       | 3/13 [00:03<00:12,  1.22s/it]\u001b[A\n",
      " 31%|███       | 4/13 [00:04<00:11,  1.22s/it]\u001b[A\n",
      " 38%|███▊      | 5/13 [00:06<00:09,  1.20s/it]\u001b[A\n",
      " 46%|████▌     | 6/13 [00:07<00:08,  1.21s/it]\u001b[A\n",
      " 54%|█████▍    | 7/13 [00:08<00:07,  1.22s/it]\u001b[A\n",
      " 62%|██████▏   | 8/13 [00:09<00:05,  1.15s/it]\u001b[A\n",
      " 69%|██████▉   | 9/13 [00:10<00:04,  1.11s/it]\u001b[A\n",
      " 77%|███████▋  | 10/13 [00:11<00:03,  1.16s/it]\u001b[A\n",
      " 85%|████████▍ | 11/13 [00:12<00:02,  1.15s/it]\u001b[A\n",
      " 92%|█████████▏| 12/13 [00:14<00:01,  1.25s/it]\u001b[A\n",
      "100%|██████████| 13/13 [00:15<00:00,  1.18s/it]\n",
      " 90%|█████████ | 371/412 [1:14:47<17:33, 25.70s/it]"
     ]
    },
    {
     "name": "stdout",
     "output_type": "stream",
     "text": [
      "https://reviews.webmd.com/drugs/drugreview-8661-haloperidol\n"
     ]
    },
    {
     "name": "stderr",
     "output_type": "stream",
     "text": [
      "\n",
      "  0%|          | 0/3 [00:00<?, ?it/s]\u001b[A\n",
      " 33%|███▎      | 1/3 [00:00<00:01,  1.01it/s]\u001b[A\n",
      " 67%|██████▋   | 2/3 [00:02<00:01,  1.45s/it]\u001b[A\n",
      "100%|██████████| 3/3 [00:04<00:00,  1.42s/it]\n",
      " 90%|█████████ | 372/412 [1:14:54<13:18, 19.95s/it]"
     ]
    },
    {
     "name": "stdout",
     "output_type": "stream",
     "text": [
      "https://reviews.webmd.com/drugs/drugreview-8664-imipramine-hcl\n"
     ]
    },
    {
     "name": "stderr",
     "output_type": "stream",
     "text": [
      "\n",
      "  0%|          | 0/6 [00:00<?, ?it/s]\u001b[A\n",
      " 17%|█▋        | 1/6 [00:01<00:07,  1.50s/it]\u001b[A\n",
      " 33%|███▎      | 2/6 [00:03<00:06,  1.66s/it]\u001b[A\n",
      " 50%|█████     | 3/6 [00:04<00:04,  1.58s/it]\u001b[A\n",
      " 67%|██████▋   | 4/6 [00:06<00:03,  1.62s/it]\u001b[A\n",
      " 83%|████████▎ | 5/6 [00:07<00:01,  1.56s/it]\u001b[A\n",
      "100%|██████████| 6/6 [00:08<00:00,  1.48s/it]\n",
      " 91%|█████████ | 374/412 [1:15:06<07:54, 12.48s/it]"
     ]
    },
    {
     "name": "stdout",
     "output_type": "stream",
     "text": [
      "skipping https://reviews.webmd.com/drugs/drugreview-8672-maprotiline-tablet: page not found\n",
      "https://reviews.webmd.com/drugs/drugreview-87706-libritabs-tablet\n"
     ]
    },
    {
     "name": "stderr",
     "output_type": "stream",
     "text": [
      " 91%|█████████▏| 376/412 [1:15:09<04:04,  6.80s/it]"
     ]
    },
    {
     "name": "stdout",
     "output_type": "stream",
     "text": [
      "skipping https://reviews.webmd.com/drugs/drugreview-8824-perphenazine-solution: page not found\n",
      "https://reviews.webmd.com/drugs/drugreview-8825-perphenazine\n"
     ]
    },
    {
     "name": "stderr",
     "output_type": "stream",
     "text": [
      "\n",
      "  0%|          | 0/2 [00:00<?, ?it/s]\u001b[A\n",
      " 50%|█████     | 1/2 [00:01<00:01,  1.22s/it]\u001b[A\n",
      "100%|██████████| 2/2 [00:02<00:00,  1.27s/it]\n",
      " 92%|█████████▏| 377/412 [1:15:13<03:36,  6.18s/it]"
     ]
    },
    {
     "name": "stdout",
     "output_type": "stream",
     "text": [
      "https://reviews.webmd.com/drugs/drugreview-8827-phenelzine-sulfate\n"
     ]
    },
    {
     "name": "stderr",
     "output_type": "stream",
     "text": [
      "\n",
      "  0%|          | 0/1 [00:00<?, ?it/s]\u001b[A\n",
      "100%|██████████| 1/1 [00:00<00:00,  1.23it/s]\n",
      " 92%|█████████▏| 378/412 [1:15:16<02:56,  5.19s/it]"
     ]
    },
    {
     "name": "stdout",
     "output_type": "stream",
     "text": [
      "https://reviews.webmd.com/drugs/drugreview-8885-valproic-acid\n"
     ]
    },
    {
     "name": "stderr",
     "output_type": "stream",
     "text": [
      "\n",
      "  0%|          | 0/4 [00:00<?, ?it/s]\u001b[A\n",
      " 25%|██▌       | 1/4 [00:01<00:03,  1.12s/it]\u001b[A\n",
      " 50%|█████     | 2/4 [00:03<00:03,  1.69s/it]\u001b[A\n",
      " 75%|███████▌  | 3/4 [00:04<00:01,  1.66s/it]\u001b[A\n",
      "100%|██████████| 4/4 [00:05<00:00,  1.48s/it]\n",
      " 92%|█████████▏| 379/412 [1:15:24<03:18,  6.00s/it]"
     ]
    },
    {
     "name": "stdout",
     "output_type": "stream",
     "text": [
      "https://reviews.webmd.com/drugs/drugreview-8885-valproic-acid-syrup\n"
     ]
    },
    {
     "name": "stderr",
     "output_type": "stream",
     "text": [
      "\n",
      "  0%|          | 0/4 [00:00<?, ?it/s]\u001b[A\n",
      " 25%|██▌       | 1/4 [00:00<00:02,  1.01it/s]\u001b[A\n",
      " 50%|█████     | 2/4 [00:01<00:01,  1.00it/s]\u001b[A\n",
      " 75%|███████▌  | 3/4 [00:03<00:01,  1.12s/it]\u001b[A\n",
      "100%|██████████| 4/4 [00:03<00:00,  1.04it/s]\n",
      " 92%|█████████▏| 381/412 [1:15:30<02:13,  4.29s/it]"
     ]
    },
    {
     "name": "stdout",
     "output_type": "stream",
     "text": [
      "skipping https://reviews.webmd.com/drugs/drugreview-8891-fluphenazine-hcl-vial: page not found\n",
      "https://reviews.webmd.com/drugs/drugreview-8892-lorazepam\n"
     ]
    },
    {
     "name": "stderr",
     "output_type": "stream",
     "text": [
      "\n",
      "  0%|          | 0/31 [00:00<?, ?it/s]\u001b[A\n",
      "  3%|▎         | 1/31 [00:00<00:28,  1.05it/s]\u001b[A\n",
      "  6%|▋         | 2/31 [00:02<00:39,  1.37s/it]\u001b[A\n",
      " 10%|▉         | 3/31 [00:04<00:42,  1.51s/it]\u001b[A\n",
      " 13%|█▎        | 4/31 [00:06<00:45,  1.69s/it]\u001b[A\n",
      " 16%|█▌        | 5/31 [00:07<00:43,  1.67s/it]\u001b[A\n",
      " 19%|█▉        | 6/31 [00:09<00:41,  1.67s/it]\u001b[A\n",
      " 23%|██▎       | 7/31 [00:11<00:39,  1.64s/it]\u001b[A\n",
      " 26%|██▌       | 8/31 [00:12<00:36,  1.58s/it]\u001b[A\n",
      " 29%|██▉       | 9/31 [00:14<00:34,  1.56s/it]\u001b[A\n",
      " 32%|███▏      | 10/31 [00:16<00:35,  1.70s/it]\u001b[A\n",
      " 35%|███▌      | 11/31 [00:17<00:33,  1.66s/it]\u001b[A\n",
      " 39%|███▊      | 12/31 [00:19<00:31,  1.63s/it]\u001b[A\n",
      " 42%|████▏     | 13/31 [00:20<00:29,  1.65s/it]\u001b[A\n",
      " 45%|████▌     | 14/31 [00:22<00:28,  1.65s/it]\u001b[A\n",
      " 48%|████▊     | 15/31 [00:24<00:26,  1.67s/it]\u001b[A\n",
      " 52%|█████▏    | 16/31 [00:26<00:26,  1.79s/it]\u001b[A\n",
      " 55%|█████▍    | 17/31 [00:28<00:24,  1.77s/it]\u001b[A\n",
      " 58%|█████▊    | 18/31 [00:29<00:21,  1.66s/it]\u001b[A\n",
      " 61%|██████▏   | 19/31 [00:31<00:19,  1.65s/it]\u001b[A\n",
      " 65%|██████▍   | 20/31 [00:32<00:17,  1.63s/it]\u001b[A\n",
      " 68%|██████▊   | 21/31 [00:34<00:17,  1.71s/it]\u001b[A\n",
      " 71%|███████   | 22/31 [00:36<00:15,  1.75s/it]\u001b[A\n",
      " 74%|███████▍  | 23/31 [00:38<00:13,  1.72s/it]\u001b[A\n",
      " 77%|███████▋  | 24/31 [00:40<00:12,  1.78s/it]\u001b[A\n",
      " 81%|████████  | 25/31 [00:41<00:10,  1.69s/it]\u001b[A\n",
      " 84%|████████▍ | 26/31 [00:43<00:08,  1.64s/it]\u001b[A\n",
      " 87%|████████▋ | 27/31 [00:44<00:06,  1.72s/it]\u001b[A\n",
      " 90%|█████████ | 28/31 [00:46<00:05,  1.70s/it]\u001b[A\n",
      " 94%|█████████▎| 29/31 [00:48<00:03,  1.64s/it]\u001b[A\n",
      " 97%|█████████▋| 30/31 [00:49<00:01,  1.69s/it]\u001b[A\n",
      "100%|██████████| 31/31 [00:51<00:00,  1.65s/it]\n",
      " 93%|█████████▎| 382/412 [1:16:24<09:30, 19.01s/it]"
     ]
    },
    {
     "name": "stdout",
     "output_type": "stream",
     "text": [
      "https://reviews.webmd.com/drugs/drugreview-8892-lorazepam-capsule-4-hr-capsule-er-hr\n"
     ]
    },
    {
     "name": "stderr",
     "output_type": "stream",
     "text": [
      "\n",
      "  0%|          | 0/31 [00:00<?, ?it/s]\u001b[A\n",
      "  3%|▎         | 1/31 [00:01<00:46,  1.55s/it]\u001b[A\n",
      "  6%|▋         | 2/31 [00:02<00:38,  1.34s/it]\u001b[A\n",
      " 10%|▉         | 3/31 [00:03<00:35,  1.28s/it]\u001b[A\n",
      " 13%|█▎        | 4/31 [00:05<00:33,  1.24s/it]\u001b[A\n",
      " 16%|█▌        | 5/31 [00:06<00:30,  1.17s/it]\u001b[A\n",
      " 19%|█▉        | 6/31 [00:07<00:29,  1.18s/it]\u001b[A\n",
      " 23%|██▎       | 7/31 [00:08<00:28,  1.20s/it]\u001b[A\n",
      " 26%|██▌       | 8/31 [00:09<00:27,  1.20s/it]\u001b[A\n",
      " 29%|██▉       | 9/31 [00:10<00:26,  1.18s/it]\u001b[A\n",
      " 32%|███▏      | 10/31 [00:12<00:25,  1.21s/it]\u001b[A\n",
      " 35%|███▌      | 11/31 [00:13<00:24,  1.22s/it]\u001b[A\n",
      " 39%|███▊      | 12/31 [00:15<00:25,  1.32s/it]\u001b[A\n",
      " 42%|████▏     | 13/31 [00:16<00:23,  1.28s/it]\u001b[A\n",
      " 45%|████▌     | 14/31 [00:17<00:20,  1.20s/it]\u001b[A\n",
      " 48%|████▊     | 15/31 [00:18<00:19,  1.20s/it]\u001b[A\n",
      " 52%|█████▏    | 16/31 [00:19<00:17,  1.16s/it]\u001b[A\n",
      " 55%|█████▍    | 17/31 [00:20<00:17,  1.22s/it]\u001b[A\n",
      " 58%|█████▊    | 18/31 [00:22<00:17,  1.32s/it]\u001b[A\n",
      " 61%|██████▏   | 19/31 [00:23<00:14,  1.23s/it]\u001b[A\n",
      " 65%|██████▍   | 20/31 [00:24<00:12,  1.15s/it]\u001b[A\n",
      " 68%|██████▊   | 21/31 [00:25<00:11,  1.14s/it]\u001b[A\n",
      " 71%|███████   | 22/31 [00:26<00:09,  1.10s/it]\u001b[A\n",
      " 74%|███████▍  | 23/31 [00:27<00:09,  1.17s/it]\u001b[A\n",
      " 77%|███████▋  | 24/31 [00:28<00:07,  1.12s/it]\u001b[A\n",
      " 81%|████████  | 25/31 [00:29<00:06,  1.13s/it]\u001b[A\n",
      " 84%|████████▍ | 26/31 [00:31<00:05,  1.15s/it]\u001b[A\n",
      " 87%|████████▋ | 27/31 [00:32<00:04,  1.17s/it]\u001b[A\n",
      " 90%|█████████ | 28/31 [00:33<00:03,  1.18s/it]\u001b[A\n",
      " 94%|█████████▎| 29/31 [00:34<00:02,  1.19s/it]\u001b[A\n",
      " 97%|█████████▋| 30/31 [00:35<00:01,  1.13s/it]\u001b[A\n",
      "100%|██████████| 31/31 [00:36<00:00,  1.19s/it]\n",
      " 93%|█████████▎| 383/412 [1:17:01<11:55, 24.67s/it]"
     ]
    },
    {
     "name": "stdout",
     "output_type": "stream",
     "text": [
      "https://reviews.webmd.com/drugs/drugreview-8892-lorazepam-concentrate\n"
     ]
    },
    {
     "name": "stderr",
     "output_type": "stream",
     "text": [
      "\n",
      "  0%|          | 0/31 [00:00<?, ?it/s]\u001b[A\n",
      "  3%|▎         | 1/31 [00:01<00:36,  1.21s/it]\u001b[A\n",
      "  6%|▋         | 2/31 [00:02<00:32,  1.11s/it]\u001b[A\n",
      " 10%|▉         | 3/31 [00:03<00:32,  1.16s/it]\u001b[A\n",
      " 13%|█▎        | 4/31 [00:04<00:31,  1.17s/it]\u001b[A\n",
      " 16%|█▌        | 5/31 [00:05<00:30,  1.17s/it]\u001b[A\n",
      " 19%|█▉        | 6/31 [00:06<00:29,  1.16s/it]\u001b[A\n",
      " 23%|██▎       | 7/31 [00:08<00:28,  1.18s/it]\u001b[A\n",
      " 26%|██▌       | 8/31 [00:09<00:25,  1.12s/it]\u001b[A\n",
      " 29%|██▉       | 9/31 [00:10<00:27,  1.23s/it]\u001b[A\n",
      " 32%|███▏      | 10/31 [00:11<00:25,  1.21s/it]\u001b[A\n",
      " 35%|███▌      | 11/31 [00:13<00:24,  1.21s/it]\u001b[A\n",
      " 39%|███▊      | 12/31 [00:14<00:22,  1.19s/it]\u001b[A\n",
      " 42%|████▏     | 13/31 [00:15<00:20,  1.14s/it]\u001b[A\n",
      " 45%|████▌     | 14/31 [00:16<00:20,  1.23s/it]\u001b[A\n",
      " 48%|████▊     | 15/31 [00:17<00:19,  1.23s/it]\u001b[A\n",
      " 52%|█████▏    | 16/31 [00:19<00:18,  1.22s/it]\u001b[A\n",
      " 55%|█████▍    | 17/31 [00:20<00:16,  1.20s/it]\u001b[A\n",
      " 58%|█████▊    | 18/31 [00:21<00:15,  1.20s/it]\u001b[A\n",
      " 61%|██████▏   | 19/31 [00:22<00:13,  1.13s/it]\u001b[A\n",
      " 65%|██████▍   | 20/31 [00:23<00:13,  1.24s/it]\u001b[A\n",
      " 68%|██████▊   | 21/31 [00:25<00:12,  1.21s/it]\u001b[A\n",
      " 71%|███████   | 22/31 [00:26<00:10,  1.21s/it]\u001b[A\n",
      " 74%|███████▍  | 23/31 [00:27<00:09,  1.21s/it]\u001b[A\n",
      " 77%|███████▋  | 24/31 [00:28<00:08,  1.16s/it]\u001b[A\n",
      " 81%|████████  | 25/31 [00:29<00:07,  1.17s/it]\u001b[A\n",
      " 84%|████████▍ | 26/31 [00:31<00:06,  1.28s/it]\u001b[A\n",
      " 87%|████████▋ | 27/31 [00:32<00:05,  1.25s/it]\u001b[A\n",
      " 90%|█████████ | 28/31 [00:33<00:03,  1.24s/it]\u001b[A\n",
      " 94%|█████████▎| 29/31 [00:34<00:02,  1.21s/it]\u001b[A\n",
      " 97%|█████████▋| 30/31 [00:35<00:01,  1.15s/it]\u001b[A\n",
      "100%|██████████| 31/31 [00:36<00:00,  1.19s/it]\n",
      " 93%|█████████▎| 384/412 [1:17:39<13:21, 28.62s/it]"
     ]
    },
    {
     "name": "stdout",
     "output_type": "stream",
     "text": [
      "https://reviews.webmd.com/drugs/drugreview-89444-buproban-tablet-er-12-hr\n"
     ]
    },
    {
     "name": "stderr",
     "output_type": "stream",
     "text": [
      "\n",
      "  0%|          | 0/1 [00:00<?, ?it/s]\u001b[A\n",
      "100%|██████████| 1/1 [00:01<00:00,  1.11s/it]\n",
      " 93%|█████████▎| 385/412 [1:17:42<09:25, 20.93s/it]"
     ]
    },
    {
     "name": "stdout",
     "output_type": "stream",
     "text": [
      "https://reviews.webmd.com/drugs/drugreview-9009-atazine-tablet\n"
     ]
    },
    {
     "name": "stderr",
     "output_type": "stream",
     "text": [
      " 94%|█████████▎| 386/412 [1:17:44<06:32, 15.10s/it]"
     ]
    },
    {
     "name": "stdout",
     "output_type": "stream",
     "text": [
      "https://reviews.webmd.com/drugs/drugreview-9118-depakote-sprinkle\n"
     ]
    },
    {
     "name": "stderr",
     "output_type": "stream",
     "text": [
      "\n",
      "  0%|          | 0/2 [00:00<?, ?it/s]\u001b[A\n",
      " 50%|█████     | 1/2 [00:01<00:01,  1.08s/it]\u001b[A\n",
      "100%|██████████| 2/2 [00:02<00:00,  1.08s/it]\n",
      " 94%|█████████▍| 387/412 [1:17:48<04:56, 11.86s/it]"
     ]
    },
    {
     "name": "stdout",
     "output_type": "stream",
     "text": [
      "https://reviews.webmd.com/drugs/drugreview-9127-di-tran-tablet\n"
     ]
    },
    {
     "name": "stderr",
     "output_type": "stream",
     "text": [
      " 94%|█████████▍| 389/412 [1:17:51<02:30,  6.52s/it]"
     ]
    },
    {
     "name": "stdout",
     "output_type": "stream",
     "text": [
      "skipping https://reviews.webmd.com/drugs/drugreview-91411-chlorpromazine-suppository: page not found\n",
      "https://reviews.webmd.com/drugs/drugreview-91490-duloxetine-capsule-delayed-release-sprinkle\n"
     ]
    },
    {
     "name": "stderr",
     "output_type": "stream",
     "text": [
      "\n",
      "  0%|          | 0/11 [00:00<?, ?it/s]\u001b[A\n",
      "  9%|▉         | 1/11 [00:01<00:13,  1.35s/it]\u001b[A\n",
      " 18%|█▊        | 2/11 [00:02<00:12,  1.44s/it]\u001b[A\n",
      " 27%|██▋       | 3/11 [00:04<00:13,  1.65s/it]\u001b[A\n",
      " 36%|███▋      | 4/11 [00:06<00:11,  1.63s/it]\u001b[A\n",
      " 45%|████▌     | 5/11 [00:07<00:09,  1.60s/it]\u001b[A\n",
      " 55%|█████▍    | 6/11 [00:09<00:08,  1.73s/it]\u001b[A\n",
      " 64%|██████▎   | 7/11 [00:11<00:06,  1.73s/it]\u001b[A\n",
      " 73%|███████▎  | 8/11 [00:13<00:05,  1.70s/it]\u001b[A\n",
      " 82%|████████▏ | 9/11 [00:15<00:03,  1.72s/it]\u001b[A\n",
      " 91%|█████████ | 10/11 [00:16<00:01,  1.66s/it]\u001b[A\n",
      "100%|██████████| 11/11 [00:17<00:00,  1.62s/it]\n",
      " 95%|█████████▍| 390/412 [1:18:11<03:52, 10.57s/it]"
     ]
    },
    {
     "name": "stdout",
     "output_type": "stream",
     "text": [
      "https://reviews.webmd.com/drugs/drugreview-91490-duloxetine-hcl\n"
     ]
    },
    {
     "name": "stderr",
     "output_type": "stream",
     "text": [
      "\n",
      "  0%|          | 0/11 [00:00<?, ?it/s]\u001b[A\n",
      "  9%|▉         | 1/11 [00:01<00:12,  1.21s/it]\u001b[A\n",
      " 18%|█▊        | 2/11 [00:02<00:10,  1.19s/it]\u001b[A\n",
      " 27%|██▋       | 3/11 [00:03<00:09,  1.17s/it]\u001b[A\n",
      " 36%|███▋      | 4/11 [00:04<00:08,  1.17s/it]\u001b[A\n",
      " 45%|████▌     | 5/11 [00:05<00:06,  1.13s/it]\u001b[A\n",
      " 55%|█████▍    | 6/11 [00:07<00:06,  1.27s/it]\u001b[A\n",
      " 64%|██████▎   | 7/11 [00:08<00:04,  1.23s/it]\u001b[A\n",
      " 73%|███████▎  | 8/11 [00:09<00:03,  1.20s/it]\u001b[A\n",
      " 82%|████████▏ | 9/11 [00:10<00:02,  1.17s/it]\u001b[A\n",
      " 91%|█████████ | 10/11 [00:11<00:01,  1.16s/it]\u001b[A\n",
      "100%|██████████| 11/11 [00:12<00:00,  1.16s/it]\n",
      " 95%|█████████▍| 391/412 [1:18:25<04:04, 11.64s/it]"
     ]
    },
    {
     "name": "stdout",
     "output_type": "stream",
     "text": [
      "https://reviews.webmd.com/drugs/drugreview-91491-cymbalta\n"
     ]
    },
    {
     "name": "stderr",
     "output_type": "stream",
     "text": [
      "\n",
      "  0%|          | 0/235 [00:00<?, ?it/s]\u001b[A\n",
      "  0%|          | 1/235 [00:01<04:27,  1.14s/it]\u001b[A\n",
      "  1%|          | 2/235 [00:03<06:06,  1.57s/it]\u001b[A\n",
      "  1%|▏         | 3/235 [00:04<06:37,  1.71s/it]\u001b[A\n",
      "  2%|▏         | 4/235 [00:06<07:03,  1.83s/it]\u001b[A\n",
      "  2%|▏         | 5/235 [00:09<07:43,  2.01s/it]\u001b[A\n",
      "  3%|▎         | 6/235 [00:11<07:53,  2.07s/it]\u001b[A\n",
      "  3%|▎         | 7/235 [00:13<08:04,  2.13s/it]\u001b[A\n",
      "  3%|▎         | 8/235 [00:15<07:55,  2.10s/it]\u001b[A\n",
      "  4%|▍         | 9/235 [00:17<08:01,  2.13s/it]\u001b[A\n",
      "  4%|▍         | 10/235 [00:19<07:52,  2.10s/it]\u001b[A\n",
      "  5%|▍         | 11/235 [00:22<08:13,  2.20s/it]\u001b[A\n",
      "  5%|▌         | 12/235 [00:24<08:04,  2.17s/it]\u001b[A\n",
      "  6%|▌         | 13/235 [00:26<07:29,  2.02s/it]\u001b[A\n",
      "  6%|▌         | 14/235 [00:28<07:22,  2.00s/it]\u001b[A\n",
      "  6%|▋         | 15/235 [00:30<07:20,  2.00s/it]\u001b[A\n",
      "  7%|▋         | 16/235 [00:32<07:21,  2.02s/it]\u001b[A\n",
      "  7%|▋         | 17/235 [00:34<07:17,  2.01s/it]\u001b[A\n",
      "  8%|▊         | 18/235 [00:36<07:22,  2.04s/it]\u001b[A\n",
      "  8%|▊         | 19/235 [00:38<07:16,  2.02s/it]\u001b[A\n",
      "  9%|▊         | 20/235 [00:40<07:04,  1.97s/it]\u001b[A\n",
      "  9%|▉         | 21/235 [00:42<07:02,  1.98s/it]\u001b[A\n",
      "  9%|▉         | 22/235 [00:44<07:24,  2.09s/it]\u001b[A\n",
      " 10%|▉         | 23/235 [00:46<07:27,  2.11s/it]\u001b[A\n",
      " 10%|█         | 24/235 [00:48<07:14,  2.06s/it]\u001b[A\n",
      " 11%|█         | 25/235 [00:50<06:55,  1.98s/it]\u001b[A\n",
      " 11%|█         | 26/235 [00:52<06:49,  1.96s/it]\u001b[A\n",
      " 11%|█▏        | 27/235 [00:54<06:43,  1.94s/it]\u001b[A\n",
      " 12%|█▏        | 28/235 [00:56<07:03,  2.04s/it]\u001b[A\n",
      " 12%|█▏        | 29/235 [00:58<06:50,  1.99s/it]\u001b[A\n",
      " 13%|█▎        | 30/235 [01:00<06:59,  2.05s/it]\u001b[A\n",
      " 13%|█▎        | 31/235 [01:02<06:55,  2.04s/it]\u001b[A\n",
      " 14%|█▎        | 32/235 [01:04<06:55,  2.05s/it]\u001b[A\n",
      " 14%|█▍        | 33/235 [01:06<07:11,  2.14s/it]\u001b[A\n",
      " 14%|█▍        | 34/235 [01:08<06:55,  2.07s/it]\u001b[A\n",
      " 15%|█▍        | 35/235 [01:10<06:38,  1.99s/it]\u001b[A\n",
      " 15%|█▌        | 36/235 [01:12<06:31,  1.97s/it]\u001b[A\n",
      " 16%|█▌        | 37/235 [01:14<06:41,  2.03s/it]\u001b[A\n",
      " 16%|█▌        | 38/235 [01:16<06:30,  1.98s/it]\u001b[A\n",
      " 17%|█▋        | 39/235 [01:19<06:59,  2.14s/it]\u001b[A\n",
      " 17%|█▋        | 40/235 [01:20<06:39,  2.05s/it]\u001b[A\n",
      " 17%|█▋        | 41/235 [01:22<06:33,  2.03s/it]\u001b[A\n",
      " 18%|█▊        | 42/235 [01:24<06:16,  1.95s/it]\u001b[A\n",
      " 18%|█▊        | 43/235 [01:26<06:11,  1.93s/it]\u001b[A\n",
      " 19%|█▊        | 44/235 [01:28<06:04,  1.91s/it]\u001b[A\n",
      " 19%|█▉        | 45/235 [01:30<06:14,  1.97s/it]\u001b[A\n",
      " 20%|█▉        | 46/235 [01:32<06:15,  1.99s/it]\u001b[A\n",
      " 20%|██        | 47/235 [01:34<06:01,  1.92s/it]\u001b[A\n",
      " 20%|██        | 48/235 [01:36<05:58,  1.91s/it]\u001b[A\n",
      " 21%|██        | 49/235 [01:38<06:23,  2.06s/it]\u001b[A\n",
      " 21%|██▏       | 50/235 [01:40<06:37,  2.15s/it]\u001b[A\n",
      " 22%|██▏       | 51/235 [01:42<06:16,  2.05s/it]\u001b[A\n",
      " 22%|██▏       | 52/235 [01:44<06:14,  2.05s/it]\u001b[A\n",
      " 23%|██▎       | 53/235 [01:46<06:05,  2.01s/it]\u001b[A\n",
      " 23%|██▎       | 54/235 [01:48<05:56,  1.97s/it]\u001b[A\n",
      " 23%|██▎       | 55/235 [01:50<06:03,  2.02s/it]\u001b[A\n",
      " 24%|██▍       | 56/235 [01:53<06:20,  2.12s/it]\u001b[A\n",
      " 24%|██▍       | 57/235 [01:55<06:10,  2.08s/it]\u001b[A\n",
      " 25%|██▍       | 58/235 [01:57<06:03,  2.06s/it]\u001b[A\n",
      " 25%|██▌       | 59/235 [01:59<06:06,  2.08s/it]\u001b[A\n",
      " 26%|██▌       | 60/235 [02:01<06:09,  2.11s/it]\u001b[A\n",
      " 26%|██▌       | 61/235 [02:03<06:10,  2.13s/it]\u001b[A\n",
      " 26%|██▋       | 62/235 [02:05<06:12,  2.16s/it]\u001b[A\n",
      " 27%|██▋       | 63/235 [02:07<05:54,  2.06s/it]\u001b[A\n",
      " 27%|██▋       | 64/235 [02:09<05:34,  1.96s/it]\u001b[A\n",
      " 28%|██▊       | 65/235 [02:11<05:39,  2.00s/it]\u001b[A\n",
      " 28%|██▊       | 66/235 [02:13<05:36,  1.99s/it]\u001b[A\n",
      " 29%|██▊       | 67/235 [02:15<05:30,  1.97s/it]\u001b[A\n",
      " 29%|██▉       | 68/235 [02:17<05:30,  1.98s/it]\u001b[A\n",
      " 29%|██▉       | 69/235 [02:19<05:28,  1.98s/it]\u001b[A\n",
      " 30%|██▉       | 70/235 [02:21<05:34,  2.03s/it]\u001b[A\n",
      " 30%|███       | 71/235 [02:23<05:37,  2.06s/it]\u001b[A\n",
      " 31%|███       | 72/235 [02:25<05:30,  2.03s/it]\u001b[A\n",
      " 31%|███       | 73/235 [02:27<05:44,  2.12s/it]\u001b[A\n",
      " 31%|███▏      | 74/235 [02:29<05:30,  2.05s/it]\u001b[A\n",
      " 32%|███▏      | 75/235 [02:31<05:19,  1.99s/it]\u001b[A\n",
      " 32%|███▏      | 76/235 [02:33<05:15,  1.98s/it]\u001b[A\n",
      " 33%|███▎      | 77/235 [02:35<05:18,  2.01s/it]\u001b[A\n",
      " 33%|███▎      | 78/235 [02:37<05:11,  1.98s/it]\u001b[A\n",
      " 34%|███▎      | 79/235 [02:39<05:13,  2.01s/it]\u001b[A\n",
      " 34%|███▍      | 80/235 [02:41<05:08,  1.99s/it]\u001b[A\n",
      " 34%|███▍      | 81/235 [02:43<05:08,  2.00s/it]\u001b[A\n",
      " 35%|███▍      | 82/235 [02:45<05:09,  2.02s/it]\u001b[A\n",
      " 35%|███▌      | 83/235 [02:47<05:07,  2.02s/it]\u001b[A\n",
      " 36%|███▌      | 84/235 [02:49<05:04,  2.02s/it]\u001b[A\n",
      " 36%|███▌      | 85/235 [02:51<05:01,  2.01s/it]\u001b[A\n",
      " 37%|███▋      | 86/235 [02:53<04:55,  1.98s/it]\u001b[A\n",
      " 37%|███▋      | 87/235 [02:55<04:59,  2.02s/it]\u001b[A\n",
      " 37%|███▋      | 88/235 [02:57<04:50,  1.98s/it]\u001b[A\n",
      " 38%|███▊      | 89/235 [02:59<04:50,  1.99s/it]\u001b[A\n",
      " 38%|███▊      | 90/235 [03:01<04:56,  2.05s/it]\u001b[A\n",
      " 39%|███▊      | 91/235 [03:03<04:49,  2.01s/it]\u001b[A\n",
      " 39%|███▉      | 92/235 [03:05<04:46,  2.00s/it]\u001b[A\n",
      " 40%|███▉      | 93/235 [03:07<04:48,  2.03s/it]\u001b[A\n",
      " 40%|████      | 94/235 [03:09<04:47,  2.04s/it]\u001b[A\n",
      " 40%|████      | 95/235 [03:11<04:42,  2.02s/it]\u001b[A\n",
      " 41%|████      | 96/235 [03:13<04:42,  2.03s/it]\u001b[A\n",
      " 41%|████▏     | 97/235 [03:15<04:27,  1.94s/it]\u001b[A\n",
      " 42%|████▏     | 98/235 [03:17<04:23,  1.92s/it]\u001b[A\n",
      " 42%|████▏     | 99/235 [03:19<04:26,  1.96s/it]\u001b[A\n",
      " 43%|████▎     | 100/235 [03:21<04:20,  1.93s/it]\u001b[A\n",
      " 43%|████▎     | 101/235 [03:23<04:26,  1.99s/it]\u001b[A\n",
      " 43%|████▎     | 102/235 [03:25<04:27,  2.01s/it]\u001b[A\n",
      " 44%|████▍     | 103/235 [03:27<04:22,  1.99s/it]\u001b[A\n",
      " 44%|████▍     | 104/235 [03:29<04:26,  2.03s/it]\u001b[A\n",
      " 45%|████▍     | 105/235 [03:31<04:22,  2.02s/it]\u001b[A\n",
      " 45%|████▌     | 106/235 [03:33<04:23,  2.04s/it]\u001b[A\n",
      " 46%|████▌     | 107/235 [03:36<04:30,  2.12s/it]\u001b[A\n",
      " 46%|████▌     | 108/235 [03:37<04:14,  2.00s/it]\u001b[A\n",
      " 46%|████▋     | 109/235 [03:39<04:12,  2.01s/it]\u001b[A\n",
      " 47%|████▋     | 110/235 [03:41<04:00,  1.93s/it]\u001b[A\n",
      " 47%|████▋     | 111/235 [03:43<04:01,  1.94s/it]\u001b[A\n",
      " 48%|████▊     | 112/235 [03:45<04:09,  2.03s/it]\u001b[A\n",
      " 48%|████▊     | 113/235 [03:47<04:07,  2.03s/it]\u001b[A\n",
      " 49%|████▊     | 114/235 [03:50<04:12,  2.09s/it]\u001b[A\n",
      " 49%|████▉     | 115/235 [03:51<04:04,  2.04s/it]\u001b[A\n",
      " 49%|████▉     | 116/235 [03:53<03:58,  2.01s/it]\u001b[A\n",
      " 50%|████▉     | 117/235 [03:56<04:01,  2.05s/it]\u001b[A\n",
      " 50%|█████     | 118/235 [03:58<04:07,  2.11s/it]\u001b[A\n",
      " 51%|█████     | 119/235 [04:00<04:04,  2.11s/it]\u001b[A\n",
      " 51%|█████     | 120/235 [04:02<03:56,  2.05s/it]\u001b[A\n",
      " 51%|█████▏    | 121/235 [04:04<03:57,  2.08s/it]\u001b[A\n",
      " 52%|█████▏    | 122/235 [04:06<03:56,  2.10s/it]\u001b[A\n",
      " 52%|█████▏    | 123/235 [04:08<03:53,  2.09s/it]\u001b[A\n",
      " 53%|█████▎    | 124/235 [04:10<03:54,  2.11s/it]\u001b[A\n",
      " 53%|█████▎    | 125/235 [04:13<03:59,  2.18s/it]\u001b[A\n",
      " 54%|█████▎    | 126/235 [04:14<03:44,  2.06s/it]\u001b[A\n",
      " 54%|█████▍    | 127/235 [04:16<03:38,  2.03s/it]\u001b[A\n",
      " 54%|█████▍    | 128/235 [04:18<03:32,  1.99s/it]\u001b[A\n",
      " 55%|█████▍    | 129/235 [04:21<03:41,  2.09s/it]\u001b[A\n",
      " 55%|█████▌    | 130/235 [04:23<03:31,  2.02s/it]\u001b[A\n",
      " 56%|█████▌    | 131/235 [04:25<03:34,  2.07s/it]\u001b[A\n",
      " 56%|█████▌    | 132/235 [04:27<03:37,  2.11s/it]\u001b[A\n",
      " 57%|█████▋    | 133/235 [04:29<03:34,  2.10s/it]\u001b[A\n",
      " 57%|█████▋    | 134/235 [04:31<03:38,  2.16s/it]\u001b[A\n",
      " 57%|█████▋    | 135/235 [04:33<03:33,  2.14s/it]\u001b[A\n",
      " 58%|█████▊    | 136/235 [04:35<03:31,  2.13s/it]\u001b[A\n",
      " 58%|█████▊    | 137/235 [04:37<03:23,  2.08s/it]\u001b[A\n",
      " 59%|█████▊    | 138/235 [04:40<03:22,  2.08s/it]\u001b[A\n",
      " 59%|█████▉    | 139/235 [04:41<03:14,  2.03s/it]\u001b[A\n",
      " 60%|█████▉    | 140/235 [04:43<03:13,  2.04s/it]\u001b[A\n",
      " 60%|██████    | 141/235 [04:46<03:11,  2.03s/it]\u001b[A\n",
      " 60%|██████    | 142/235 [04:47<03:06,  2.00s/it]\u001b[A\n",
      " 61%|██████    | 143/235 [04:49<02:58,  1.94s/it]\u001b[A\n",
      " 61%|██████▏   | 144/235 [04:51<03:04,  2.03s/it]\u001b[A\n",
      " 62%|██████▏   | 145/235 [04:53<03:00,  2.01s/it]\u001b[A\n",
      " 62%|██████▏   | 146/235 [04:56<03:01,  2.04s/it]\u001b[A\n",
      " 63%|██████▎   | 147/235 [04:58<03:02,  2.08s/it]\u001b[A\n",
      " 63%|██████▎   | 148/235 [05:00<02:58,  2.06s/it]\u001b[A\n",
      " 63%|██████▎   | 149/235 [05:02<02:56,  2.05s/it]\u001b[A\n",
      " 64%|██████▍   | 150/235 [05:04<02:58,  2.10s/it]\u001b[A\n",
      " 64%|██████▍   | 151/235 [05:06<02:51,  2.04s/it]\u001b[A\n",
      " 65%|██████▍   | 152/235 [05:08<03:00,  2.17s/it]\u001b[A\n",
      " 65%|██████▌   | 153/235 [05:10<02:54,  2.13s/it]\u001b[A\n",
      " 66%|██████▌   | 154/235 [05:12<02:49,  2.09s/it]\u001b[A\n",
      " 66%|██████▌   | 155/235 [05:14<02:42,  2.03s/it]\u001b[A\n",
      " 66%|██████▋   | 156/235 [05:16<02:41,  2.05s/it]\u001b[A\n",
      " 67%|██████▋   | 157/235 [05:18<02:38,  2.04s/it]\u001b[A\n",
      " 67%|██████▋   | 158/235 [05:21<02:46,  2.16s/it]\u001b[A\n",
      " 68%|██████▊   | 159/235 [05:23<02:47,  2.20s/it]\u001b[A\n",
      " 68%|██████▊   | 160/235 [05:25<02:40,  2.14s/it]\u001b[A\n",
      " 69%|██████▊   | 161/235 [05:27<02:36,  2.12s/it]\u001b[A\n",
      " 69%|██████▉   | 162/235 [05:29<02:37,  2.16s/it]\u001b[A\n",
      " 69%|██████▉   | 163/235 [05:32<02:33,  2.14s/it]\u001b[A\n",
      " 70%|██████▉   | 164/235 [05:33<02:27,  2.08s/it]\u001b[A\n",
      " 70%|███████   | 165/235 [05:35<02:21,  2.02s/it]\u001b[A\n",
      " 71%|███████   | 166/235 [05:37<02:18,  2.00s/it]\u001b[A\n",
      " 71%|███████   | 167/235 [05:39<02:19,  2.06s/it]\u001b[A\n",
      " 71%|███████▏  | 168/235 [05:41<02:16,  2.04s/it]\u001b[A\n",
      " 72%|███████▏  | 169/235 [05:44<02:19,  2.12s/it]\u001b[A\n",
      " 72%|███████▏  | 170/235 [05:46<02:12,  2.03s/it]\u001b[A\n",
      " 73%|███████▎  | 171/235 [05:48<02:10,  2.04s/it]\u001b[A\n",
      " 73%|███████▎  | 172/235 [05:50<02:09,  2.06s/it]\u001b[A\n",
      " 74%|███████▎  | 173/235 [05:52<02:05,  2.03s/it]\u001b[A\n",
      " 74%|███████▍  | 174/235 [05:54<02:07,  2.09s/it]\u001b[A\n",
      " 74%|███████▍  | 175/235 [05:56<02:01,  2.03s/it]\u001b[A\n",
      " 75%|███████▍  | 176/235 [05:58<02:00,  2.05s/it]\u001b[A\n",
      " 75%|███████▌  | 177/235 [06:00<02:02,  2.11s/it]\u001b[A\n",
      " 76%|███████▌  | 178/235 [06:02<01:55,  2.03s/it]\u001b[A\n",
      " 76%|███████▌  | 179/235 [06:04<01:54,  2.05s/it]\u001b[A\n",
      " 77%|███████▋  | 180/235 [06:06<01:53,  2.06s/it]\u001b[A\n",
      " 77%|███████▋  | 181/235 [06:08<01:50,  2.04s/it]\u001b[A\n",
      " 77%|███████▋  | 182/235 [06:10<01:46,  2.02s/it]\u001b[A\n",
      " 78%|███████▊  | 183/235 [06:12<01:46,  2.05s/it]\u001b[A\n",
      " 78%|███████▊  | 184/235 [06:14<01:44,  2.04s/it]\u001b[A\n",
      " 79%|███████▊  | 185/235 [06:16<01:41,  2.04s/it]\u001b[A\n",
      " 79%|███████▉  | 186/235 [06:19<01:44,  2.13s/it]\u001b[A\n",
      " 80%|███████▉  | 187/235 [06:21<01:38,  2.05s/it]\u001b[A\n",
      " 80%|████████  | 188/235 [06:23<01:38,  2.09s/it]\u001b[A\n",
      " 80%|████████  | 189/235 [06:25<01:32,  2.00s/it]\u001b[A\n",
      " 81%|████████  | 190/235 [06:27<01:31,  2.02s/it]\u001b[A\n",
      " 81%|████████▏ | 191/235 [06:29<01:33,  2.12s/it]\u001b[A\n",
      " 82%|████████▏ | 192/235 [06:31<01:30,  2.10s/it]\u001b[A\n",
      " 82%|████████▏ | 193/235 [06:33<01:24,  2.01s/it]\u001b[A\n",
      " 83%|████████▎ | 194/235 [06:35<01:20,  1.96s/it]\u001b[A\n",
      " 83%|████████▎ | 195/235 [06:37<01:18,  1.97s/it]\u001b[A\n",
      " 83%|████████▎ | 196/235 [06:39<01:17,  2.00s/it]\u001b[A\n",
      " 84%|████████▍ | 197/235 [06:41<01:19,  2.09s/it]\u001b[A\n",
      " 84%|████████▍ | 198/235 [06:43<01:15,  2.05s/it]\u001b[A\n",
      " 85%|████████▍ | 199/235 [06:45<01:14,  2.06s/it]\u001b[A\n",
      " 85%|████████▌ | 200/235 [06:47<01:13,  2.09s/it]\u001b[A\n",
      " 86%|████████▌ | 201/235 [06:49<01:10,  2.08s/it]\u001b[A\n",
      " 86%|████████▌ | 202/235 [06:52<01:10,  2.14s/it]\u001b[A\n",
      " 86%|████████▋ | 203/235 [06:54<01:10,  2.21s/it]\u001b[A\n",
      " 87%|████████▋ | 204/235 [06:56<01:06,  2.16s/it]\u001b[A\n",
      " 87%|████████▋ | 205/235 [06:58<01:03,  2.12s/it]\u001b[A\n",
      " 88%|████████▊ | 206/235 [07:00<01:00,  2.09s/it]\u001b[A\n",
      " 88%|████████▊ | 207/235 [07:02<00:58,  2.08s/it]\u001b[A\n",
      " 89%|████████▊ | 208/235 [07:05<00:58,  2.18s/it]\u001b[A\n",
      " 89%|████████▉ | 209/235 [07:07<00:56,  2.15s/it]\u001b[A\n",
      " 89%|████████▉ | 210/235 [07:09<00:52,  2.10s/it]\u001b[A\n",
      " 90%|████████▉ | 211/235 [07:11<00:52,  2.18s/it]\u001b[A\n",
      " 90%|█████████ | 212/235 [07:13<00:47,  2.06s/it]\u001b[A\n",
      " 91%|█████████ | 213/235 [07:15<00:44,  2.02s/it]\u001b[A\n",
      " 91%|█████████ | 214/235 [07:17<00:44,  2.14s/it]\u001b[A\n",
      " 91%|█████████▏| 215/235 [07:19<00:42,  2.10s/it]\u001b[A\n",
      " 92%|█████████▏| 216/235 [07:21<00:40,  2.13s/it]\u001b[A\n",
      " 92%|█████████▏| 217/235 [07:23<00:38,  2.13s/it]\u001b[A\n",
      " 93%|█████████▎| 218/235 [07:25<00:35,  2.06s/it]\u001b[A\n",
      " 93%|█████████▎| 219/235 [07:27<00:32,  2.04s/it]\u001b[A\n",
      " 94%|█████████▎| 220/235 [07:29<00:29,  1.96s/it]\u001b[A\n",
      " 94%|█████████▍| 221/235 [07:31<00:27,  1.99s/it]\u001b[A\n",
      " 94%|█████████▍| 222/235 [07:33<00:25,  1.96s/it]\u001b[A\n",
      " 95%|█████████▍| 223/235 [07:35<00:23,  1.98s/it]\u001b[A\n",
      " 95%|█████████▌| 224/235 [07:37<00:21,  1.99s/it]\u001b[A\n",
      " 96%|█████████▌| 225/235 [07:39<00:20,  2.00s/it]\u001b[A\n",
      " 96%|█████████▌| 226/235 [07:41<00:18,  2.06s/it]\u001b[A\n",
      " 97%|█████████▋| 227/235 [07:43<00:16,  2.06s/it]\u001b[A\n",
      " 97%|█████████▋| 228/235 [07:45<00:14,  2.04s/it]\u001b[A\n",
      " 97%|█████████▋| 229/235 [07:47<00:12,  2.06s/it]\u001b[A\n",
      " 98%|█████████▊| 230/235 [07:49<00:10,  2.07s/it]\u001b[A\n",
      " 98%|█████████▊| 231/235 [07:52<00:08,  2.16s/it]\u001b[A\n",
      " 99%|█████████▊| 232/235 [07:54<00:06,  2.11s/it]\u001b[A\n",
      " 99%|█████████▉| 233/235 [07:56<00:04,  2.02s/it]\u001b[A\n",
      "100%|█████████▉| 234/235 [07:58<00:02,  2.03s/it]\u001b[A\n",
      "100%|██████████| 235/235 [07:59<00:00,  2.04s/it]\n",
      " 95%|█████████▌| 392/412 [1:26:27<50:55, 152.75s/it]"
     ]
    },
    {
     "name": "stdout",
     "output_type": "stream",
     "text": [
      "https://reviews.webmd.com/drugs/drugreview-9159-endep-tablet\n"
     ]
    },
    {
     "name": "stderr",
     "output_type": "stream",
     "text": [
      "\n",
      "  0%|          | 0/2 [00:00<?, ?it/s]\u001b[A\n",
      " 50%|█████     | 1/2 [00:01<00:01,  1.48s/it]\u001b[A\n",
      "100%|██████████| 2/2 [00:03<00:00,  1.62s/it]\n",
      " 95%|█████████▌| 393/412 [1:26:32<34:21, 108.51s/it]"
     ]
    },
    {
     "name": "stdout",
     "output_type": "stream",
     "text": [
      "https://reviews.webmd.com/drugs/drugreview-9170-eskalith-capsule\n"
     ]
    },
    {
     "name": "stderr",
     "output_type": "stream",
     "text": [
      "\n",
      "  0%|          | 0/5 [00:00<?, ?it/s]\u001b[A\n",
      " 20%|██        | 1/5 [00:01<00:04,  1.06s/it]\u001b[A\n",
      " 40%|████      | 2/5 [00:03<00:05,  1.69s/it]\u001b[A\n",
      " 60%|██████    | 3/5 [00:04<00:03,  1.71s/it]\u001b[A\n",
      " 80%|████████  | 4/5 [00:06<00:01,  1.82s/it]\u001b[A\n",
      "100%|██████████| 5/5 [00:08<00:00,  1.73s/it]\n",
      " 96%|█████████▌| 394/412 [1:26:43<23:46, 79.25s/it] "
     ]
    },
    {
     "name": "stdout",
     "output_type": "stream",
     "text": [
      "https://reviews.webmd.com/drugs/drugreview-9227-h-tran-capsule\n"
     ]
    },
    {
     "name": "stderr",
     "output_type": "stream",
     "text": [
      " 96%|█████████▌| 396/412 [1:26:46<10:33, 39.62s/it]"
     ]
    },
    {
     "name": "stdout",
     "output_type": "stream",
     "text": [
      "skipping https://reviews.webmd.com/drugs/drugreview-92597-haloperidol-lactate-syringe: page not found\n",
      "https://reviews.webmd.com/drugs/drugreview-92783-niravam-tablet-disintegrating\n"
     ]
    },
    {
     "name": "stderr",
     "output_type": "stream",
     "text": [
      "\n",
      "  0%|          | 0/2 [00:00<?, ?it/s]\u001b[A\n",
      " 50%|█████     | 1/2 [00:01<00:01,  1.02s/it]\u001b[A\n",
      "100%|██████████| 2/2 [00:02<00:00,  1.09s/it]\n",
      " 96%|█████████▋| 397/412 [1:26:51<07:15, 29.01s/it]"
     ]
    },
    {
     "name": "stdout",
     "output_type": "stream",
     "text": [
      "https://reviews.webmd.com/drugs/drugreview-9291-lithotabs-tablet\n"
     ]
    },
    {
     "name": "stderr",
     "output_type": "stream",
     "text": [
      "\n",
      "  0%|          | 0/1 [00:00<?, ?it/s]\u001b[A\n",
      "100%|██████████| 1/1 [00:00<00:00,  1.95it/s]\n",
      " 97%|█████████▋| 398/412 [1:26:53<04:54, 21.04s/it]"
     ]
    },
    {
     "name": "stdout",
     "output_type": "stream",
     "text": [
      "https://reviews.webmd.com/drugs/drugreview-9299-mb-tab-tablet\n"
     ]
    },
    {
     "name": "stderr",
     "output_type": "stream",
     "text": [
      " 97%|█████████▋| 399/412 [1:26:55<03:18, 15.28s/it]"
     ]
    },
    {
     "name": "stdout",
     "output_type": "stream",
     "text": [
      "https://reviews.webmd.com/drugs/drugreview-9353-nardil\n"
     ]
    },
    {
     "name": "stderr",
     "output_type": "stream",
     "text": [
      "\n",
      "  0%|          | 0/6 [00:00<?, ?it/s]\u001b[A\n",
      " 17%|█▋        | 1/6 [00:01<00:05,  1.20s/it]\u001b[A\n",
      " 33%|███▎      | 2/6 [00:03<00:06,  1.69s/it]\u001b[A\n",
      " 50%|█████     | 3/6 [00:05<00:05,  1.74s/it]\u001b[A\n",
      " 67%|██████▋   | 4/6 [00:06<00:03,  1.81s/it]\u001b[A\n",
      " 83%|████████▎ | 5/6 [00:08<00:01,  1.77s/it]\u001b[A\n",
      "100%|██████████| 6/6 [00:09<00:00,  1.65s/it]\n",
      " 97%|█████████▋| 400/412 [1:27:08<02:53, 14.45s/it]"
     ]
    },
    {
     "name": "stdout",
     "output_type": "stream",
     "text": [
      "https://reviews.webmd.com/drugs/drugreview-9406-permitil-concentrate\n"
     ]
    },
    {
     "name": "stderr",
     "output_type": "stream",
     "text": [
      "\n",
      "  0%|          | 0/1 [00:00<?, ?it/s]\u001b[A\n",
      "100%|██████████| 1/1 [00:00<00:00,  1.81it/s]\n",
      " 97%|█████████▋| 401/412 [1:27:10<01:59, 10.83s/it]"
     ]
    },
    {
     "name": "stdout",
     "output_type": "stream",
     "text": [
      "https://reviews.webmd.com/drugs/drugreview-9406-permitil-tablet\n"
     ]
    },
    {
     "name": "stderr",
     "output_type": "stream",
     "text": [
      "\n",
      "  0%|          | 0/1 [00:00<?, ?it/s]\u001b[A\n",
      "100%|██████████| 1/1 [00:00<00:00,  1.82it/s]\n",
      " 98%|█████████▊| 403/412 [1:27:12<00:53,  5.91s/it]"
     ]
    },
    {
     "name": "stdout",
     "output_type": "stream",
     "text": [
      "skipping https://reviews.webmd.com/drugs/drugreview-9445-prolixin-solution: page not found\n",
      "https://reviews.webmd.com/drugs/drugreview-9495-serax-tablet\n"
     ]
    },
    {
     "name": "stderr",
     "output_type": "stream",
     "text": [
      "\n",
      "  0%|          | 0/2 [00:00<?, ?it/s]\u001b[A\n",
      " 50%|█████     | 1/2 [00:01<00:01,  1.11s/it]\u001b[A\n",
      "100%|██████████| 2/2 [00:02<00:00,  1.27s/it]\n",
      " 98%|█████████▊| 404/412 [1:27:17<00:43,  5.47s/it]"
     ]
    },
    {
     "name": "stdout",
     "output_type": "stream",
     "text": [
      "https://reviews.webmd.com/drugs/drugreview-9510-spaz-capsule\n"
     ]
    },
    {
     "name": "stderr",
     "output_type": "stream",
     "text": [
      " 98%|█████████▊| 405/412 [1:27:19<00:30,  4.38s/it]"
     ]
    },
    {
     "name": "stdout",
     "output_type": "stream",
     "text": [
      "https://reviews.webmd.com/drugs/drugreview-9543-thorazine-tablet\n"
     ]
    },
    {
     "name": "stderr",
     "output_type": "stream",
     "text": [
      "\n",
      "  0%|          | 0/4 [00:00<?, ?it/s]\u001b[A\n",
      " 25%|██▌       | 1/4 [00:01<00:04,  1.41s/it]\u001b[A\n",
      " 50%|█████     | 2/4 [00:03<00:03,  1.54s/it]\u001b[A\n",
      " 75%|███████▌  | 3/4 [00:04<00:01,  1.58s/it]\u001b[A\n",
      "100%|██████████| 4/4 [00:06<00:00,  1.54s/it]\n",
      " 99%|█████████▉| 407/412 [1:27:28<00:20,  4.14s/it]"
     ]
    },
    {
     "name": "stdout",
     "output_type": "stream",
     "text": [
      "skipping https://reviews.webmd.com/drugs/drugreview-9567-trilafon-solution: page not found\n",
      "https://reviews.webmd.com/drugs/drugreview-9630-equanil-tablet\n"
     ]
    },
    {
     "name": "stderr",
     "output_type": "stream",
     "text": [
      "\n",
      "  0%|          | 0/1 [00:00<?, ?it/s]\u001b[A\n",
      "100%|██████████| 1/1 [00:00<00:00,  1.58it/s]\n",
      " 99%|█████████▉| 408/412 [1:27:30<00:14,  3.65s/it]"
     ]
    },
    {
     "name": "stdout",
     "output_type": "stream",
     "text": [
      "https://reviews.webmd.com/drugs/drugreview-9702-depakene-capsule\n"
     ]
    },
    {
     "name": "stderr",
     "output_type": "stream",
     "text": [
      "\n",
      "  0%|          | 0/1 [00:00<?, ?it/s]\u001b[A\n",
      "100%|██████████| 1/1 [00:00<00:00,  1.01it/s]\n",
      " 99%|█████████▉| 409/412 [1:27:33<00:10,  3.51s/it]"
     ]
    },
    {
     "name": "stdout",
     "output_type": "stream",
     "text": [
      "https://reviews.webmd.com/drugs/drugreview-9702-depakene-solution\n"
     ]
    },
    {
     "name": "stderr",
     "output_type": "stream",
     "text": [
      "\n",
      "  0%|          | 0/1 [00:00<?, ?it/s]\u001b[A\n",
      "100%|██████████| 1/1 [00:01<00:00,  1.02s/it]\n",
      "100%|█████████▉| 410/412 [1:27:36<00:06,  3.16s/it]"
     ]
    },
    {
     "name": "stdout",
     "output_type": "stream",
     "text": [
      "https://reviews.webmd.com/drugs/drugreview-9824-xanax\n"
     ]
    },
    {
     "name": "stderr",
     "output_type": "stream",
     "text": [
      "\n",
      "  0%|          | 0/148 [00:00<?, ?it/s]\u001b[A\n",
      "  1%|          | 1/148 [00:01<02:27,  1.01s/it]\u001b[A\n",
      "  1%|▏         | 2/148 [00:02<03:42,  1.52s/it]\u001b[A\n",
      "  2%|▏         | 3/148 [00:04<03:53,  1.61s/it]\u001b[A\n",
      "  3%|▎         | 4/148 [00:06<04:07,  1.72s/it]\u001b[A\n",
      "  3%|▎         | 5/148 [00:08<04:14,  1.78s/it]\u001b[A\n",
      "  4%|▍         | 6/148 [00:10<04:23,  1.86s/it]\u001b[A\n",
      "  5%|▍         | 7/148 [00:12<04:27,  1.90s/it]\u001b[A\n",
      "  5%|▌         | 8/148 [00:14<04:26,  1.91s/it]\u001b[A\n",
      "  6%|▌         | 9/148 [00:16<04:21,  1.88s/it]\u001b[A\n",
      "  7%|▋         | 10/148 [00:18<04:19,  1.88s/it]\u001b[A\n",
      "  7%|▋         | 11/148 [00:19<04:09,  1.82s/it]\u001b[A\n",
      "  8%|▊         | 12/148 [00:21<04:05,  1.81s/it]\u001b[A\n",
      "  9%|▉         | 13/148 [00:23<04:07,  1.83s/it]\u001b[A\n",
      "  9%|▉         | 14/148 [00:25<04:12,  1.89s/it]\u001b[A\n",
      " 10%|█         | 15/148 [00:27<04:27,  2.01s/it]\u001b[A\n",
      " 11%|█         | 16/148 [00:29<04:21,  1.98s/it]\u001b[A\n",
      " 11%|█▏        | 17/148 [00:31<04:09,  1.90s/it]\u001b[A\n",
      " 12%|█▏        | 18/148 [00:33<04:12,  1.94s/it]\u001b[A\n",
      " 13%|█▎        | 19/148 [00:35<04:15,  1.98s/it]\u001b[A\n",
      " 14%|█▎        | 20/148 [00:37<04:16,  2.00s/it]\u001b[A\n",
      " 14%|█▍        | 21/148 [00:39<04:20,  2.05s/it]\u001b[A\n",
      " 15%|█▍        | 22/148 [00:41<04:11,  1.99s/it]\u001b[A\n",
      " 16%|█▌        | 23/148 [00:43<04:07,  1.98s/it]\u001b[A\n",
      " 16%|█▌        | 24/148 [00:45<04:01,  1.95s/it]\u001b[A\n",
      " 17%|█▋        | 25/148 [00:47<03:54,  1.90s/it]\u001b[A\n",
      " 18%|█▊        | 26/148 [00:48<03:51,  1.90s/it]\u001b[A\n",
      " 18%|█▊        | 27/148 [00:51<03:59,  1.98s/it]\u001b[A\n",
      " 19%|█▉        | 28/148 [00:53<03:56,  1.97s/it]\u001b[A\n",
      " 20%|█▉        | 29/148 [00:54<03:51,  1.94s/it]\u001b[A\n",
      " 20%|██        | 30/148 [00:57<03:52,  1.97s/it]\u001b[A\n",
      " 21%|██        | 31/148 [00:58<03:50,  1.97s/it]\u001b[A\n",
      " 22%|██▏       | 32/148 [01:01<04:04,  2.10s/it]\u001b[A\n",
      " 22%|██▏       | 33/148 [01:03<03:54,  2.04s/it]\u001b[A\n",
      " 23%|██▎       | 34/148 [01:05<03:52,  2.04s/it]\u001b[A\n",
      " 24%|██▎       | 35/148 [01:07<03:44,  1.98s/it]\u001b[A\n",
      " 24%|██▍       | 36/148 [01:09<03:41,  1.97s/it]\u001b[A\n",
      " 25%|██▌       | 37/148 [01:11<03:41,  1.99s/it]\u001b[A\n",
      " 26%|██▌       | 38/148 [01:13<03:33,  1.95s/it]\u001b[A\n",
      " 26%|██▋       | 39/148 [01:14<03:31,  1.94s/it]\u001b[A\n",
      " 27%|██▋       | 40/148 [01:16<03:30,  1.94s/it]\u001b[A\n",
      " 28%|██▊       | 41/148 [01:18<03:29,  1.96s/it]\u001b[A\n",
      " 28%|██▊       | 42/148 [01:20<03:19,  1.88s/it]\u001b[A\n",
      " 29%|██▉       | 43/148 [01:22<03:19,  1.90s/it]\u001b[A\n",
      " 30%|██▉       | 44/148 [01:24<03:29,  2.02s/it]\u001b[A\n",
      " 30%|███       | 45/148 [01:26<03:29,  2.04s/it]\u001b[A\n",
      " 31%|███       | 46/148 [01:28<03:16,  1.93s/it]\u001b[A\n",
      " 32%|███▏      | 47/148 [01:30<03:08,  1.86s/it]\u001b[A\n",
      " 32%|███▏      | 48/148 [01:32<03:07,  1.87s/it]\u001b[A\n",
      " 33%|███▎      | 49/148 [01:34<03:16,  1.99s/it]\u001b[A\n",
      " 34%|███▍      | 50/148 [01:36<03:10,  1.94s/it]\u001b[A\n",
      " 34%|███▍      | 51/148 [01:38<03:05,  1.91s/it]\u001b[A\n",
      " 35%|███▌      | 52/148 [01:39<02:55,  1.83s/it]\u001b[A\n",
      " 36%|███▌      | 53/148 [01:41<02:51,  1.81s/it]\u001b[A\n",
      " 36%|███▋      | 54/148 [01:43<02:52,  1.83s/it]\u001b[A\n",
      " 37%|███▋      | 55/148 [01:45<03:02,  1.96s/it]\u001b[A\n",
      " 38%|███▊      | 56/148 [01:47<03:01,  1.97s/it]\u001b[A\n",
      " 39%|███▊      | 57/148 [01:49<03:00,  1.99s/it]\u001b[A\n",
      " 39%|███▉      | 58/148 [01:51<02:55,  1.95s/it]\u001b[A\n",
      " 40%|███▉      | 59/148 [01:53<02:54,  1.96s/it]\u001b[A\n",
      " 41%|████      | 60/148 [01:55<02:48,  1.92s/it]\u001b[A\n",
      " 41%|████      | 61/148 [01:57<02:55,  2.02s/it]\u001b[A\n",
      " 42%|████▏     | 62/148 [01:59<02:55,  2.04s/it]\u001b[A\n",
      " 43%|████▎     | 63/148 [02:01<02:48,  1.98s/it]\u001b[A\n",
      " 43%|████▎     | 64/148 [02:03<02:45,  1.98s/it]\u001b[A\n",
      " 44%|████▍     | 65/148 [02:05<02:37,  1.90s/it]\u001b[A\n",
      " 45%|████▍     | 66/148 [02:07<02:38,  1.94s/it]\u001b[A\n",
      " 45%|████▌     | 67/148 [02:09<02:36,  1.94s/it]\u001b[A\n",
      " 46%|████▌     | 68/148 [02:10<02:31,  1.89s/it]\u001b[A\n",
      " 47%|████▋     | 69/148 [02:12<02:26,  1.86s/it]\u001b[A\n",
      " 47%|████▋     | 70/148 [02:14<02:25,  1.87s/it]\u001b[A\n",
      " 48%|████▊     | 71/148 [02:16<02:26,  1.90s/it]\u001b[A\n",
      " 49%|████▊     | 72/148 [02:18<02:26,  1.93s/it]\u001b[A\n",
      " 49%|████▉     | 73/148 [02:20<02:24,  1.93s/it]\u001b[A\n",
      " 50%|█████     | 74/148 [02:22<02:19,  1.88s/it]\u001b[A\n",
      " 51%|█████     | 75/148 [02:24<02:15,  1.86s/it]\u001b[A\n",
      " 51%|█████▏    | 76/148 [02:26<02:14,  1.86s/it]\u001b[A\n",
      " 52%|█████▏    | 77/148 [02:27<02:14,  1.89s/it]\u001b[A\n",
      " 53%|█████▎    | 78/148 [02:29<02:14,  1.92s/it]\u001b[A\n",
      " 53%|█████▎    | 79/148 [02:31<02:10,  1.90s/it]\u001b[A\n",
      " 54%|█████▍    | 80/148 [02:33<02:12,  1.95s/it]\u001b[A\n",
      " 55%|█████▍    | 81/148 [02:35<02:05,  1.88s/it]\u001b[A\n",
      " 55%|█████▌    | 82/148 [02:37<02:10,  1.98s/it]\u001b[A\n",
      " 56%|█████▌    | 83/148 [02:39<02:09,  2.00s/it]\u001b[A\n",
      " 57%|█████▋    | 84/148 [02:42<02:13,  2.08s/it]\u001b[A\n",
      " 57%|█████▋    | 85/148 [02:44<02:10,  2.07s/it]\u001b[A\n",
      " 58%|█████▊    | 86/148 [02:46<02:06,  2.04s/it]\u001b[A\n",
      " 59%|█████▉    | 87/148 [02:47<02:01,  1.98s/it]\u001b[A\n",
      " 59%|█████▉    | 88/148 [02:49<01:59,  1.99s/it]\u001b[A\n",
      " 60%|██████    | 89/148 [02:52<02:00,  2.04s/it]\u001b[A\n",
      " 61%|██████    | 90/148 [02:53<01:53,  1.96s/it]\u001b[A\n",
      " 61%|██████▏   | 91/148 [02:55<01:50,  1.93s/it]\u001b[A\n",
      " 62%|██████▏   | 92/148 [02:57<01:45,  1.89s/it]\u001b[A\n",
      " 63%|██████▎   | 93/148 [02:59<01:42,  1.87s/it]\u001b[A\n",
      " 64%|██████▎   | 94/148 [03:01<01:41,  1.88s/it]\u001b[A\n",
      " 64%|██████▍   | 95/148 [03:03<01:41,  1.92s/it]\u001b[A\n",
      " 65%|██████▍   | 96/148 [03:05<01:38,  1.89s/it]\u001b[A\n",
      " 66%|██████▌   | 97/148 [03:07<01:37,  1.92s/it]\u001b[A\n",
      " 66%|██████▌   | 98/148 [03:09<01:36,  1.92s/it]\u001b[A\n",
      " 67%|██████▋   | 99/148 [03:10<01:33,  1.91s/it]\u001b[A\n",
      " 68%|██████▊   | 100/148 [03:12<01:31,  1.91s/it]\u001b[A\n",
      " 68%|██████▊   | 101/148 [03:14<01:30,  1.93s/it]\u001b[A\n",
      " 69%|██████▉   | 102/148 [03:16<01:28,  1.93s/it]\u001b[A\n",
      " 70%|██████▉   | 103/148 [03:18<01:25,  1.90s/it]\u001b[A\n",
      " 70%|███████   | 104/148 [03:20<01:27,  1.98s/it]\u001b[A\n",
      " 71%|███████   | 105/148 [03:22<01:22,  1.91s/it]\u001b[A\n",
      " 72%|███████▏  | 106/148 [03:24<01:26,  2.06s/it]\u001b[A\n",
      " 72%|███████▏  | 107/148 [03:26<01:23,  2.03s/it]\u001b[A\n",
      " 73%|███████▎  | 108/148 [03:28<01:22,  2.05s/it]\u001b[A\n",
      " 74%|███████▎  | 109/148 [03:31<01:21,  2.10s/it]\u001b[A\n",
      " 74%|███████▍  | 110/148 [03:33<01:17,  2.04s/it]\u001b[A\n",
      " 75%|███████▌  | 111/148 [03:35<01:14,  2.02s/it]\u001b[A\n",
      " 76%|███████▌  | 112/148 [03:37<01:17,  2.17s/it]\u001b[A\n",
      " 76%|███████▋  | 113/148 [03:39<01:16,  2.17s/it]\u001b[A\n",
      " 77%|███████▋  | 114/148 [03:41<01:11,  2.10s/it]\u001b[A\n",
      " 78%|███████▊  | 115/148 [03:43<01:08,  2.08s/it]\u001b[A\n",
      " 78%|███████▊  | 116/148 [03:45<01:04,  2.01s/it]\u001b[A\n",
      " 79%|███████▉  | 117/148 [03:47<01:01,  1.98s/it]\u001b[A\n",
      " 80%|███████▉  | 118/148 [03:49<01:01,  2.06s/it]\u001b[A\n",
      " 80%|████████  | 119/148 [03:51<00:56,  1.95s/it]\u001b[A\n",
      " 81%|████████  | 120/148 [03:53<00:52,  1.87s/it]\u001b[A\n",
      " 82%|████████▏ | 121/148 [03:55<00:51,  1.89s/it]\u001b[A\n",
      " 82%|████████▏ | 122/148 [03:56<00:49,  1.90s/it]\u001b[A\n",
      " 83%|████████▎ | 123/148 [03:59<00:49,  2.00s/it]\u001b[A\n",
      " 84%|████████▍ | 124/148 [04:01<00:47,  1.98s/it]\u001b[A\n",
      " 84%|████████▍ | 125/148 [04:02<00:43,  1.89s/it]\u001b[A\n",
      " 85%|████████▌ | 126/148 [04:04<00:42,  1.93s/it]\u001b[A\n",
      " 86%|████████▌ | 127/148 [04:06<00:40,  1.95s/it]\u001b[A\n",
      " 86%|████████▋ | 128/148 [04:08<00:39,  1.97s/it]\u001b[A\n",
      " 87%|████████▋ | 129/148 [04:11<00:39,  2.09s/it]\u001b[A\n",
      " 88%|████████▊ | 130/148 [04:13<00:36,  2.01s/it]\u001b[A\n",
      " 89%|████████▊ | 131/148 [04:15<00:34,  2.00s/it]\u001b[A\n",
      " 89%|████████▉ | 132/148 [04:16<00:31,  1.96s/it]\u001b[A\n",
      " 90%|████████▉ | 133/148 [04:18<00:29,  1.99s/it]\u001b[A\n",
      " 91%|█████████ | 134/148 [04:20<00:26,  1.92s/it]\u001b[A\n",
      " 91%|█████████ | 135/148 [04:23<00:26,  2.06s/it]\u001b[A\n",
      " 92%|█████████▏| 136/148 [04:24<00:24,  2.00s/it]\u001b[A\n",
      " 93%|█████████▎| 137/148 [04:26<00:21,  1.97s/it]\u001b[A\n",
      " 93%|█████████▎| 138/148 [04:28<00:19,  1.98s/it]\u001b[A\n",
      " 94%|█████████▍| 139/148 [04:30<00:17,  2.00s/it]\u001b[A\n",
      " 95%|█████████▍| 140/148 [04:32<00:15,  2.00s/it]\u001b[A\n",
      " 95%|█████████▌| 141/148 [04:35<00:14,  2.07s/it]\u001b[A\n",
      " 96%|█████████▌| 142/148 [04:37<00:12,  2.06s/it]\u001b[A\n",
      " 97%|█████████▋| 143/148 [04:39<00:10,  2.01s/it]\u001b[A\n",
      " 97%|█████████▋| 144/148 [04:40<00:07,  1.97s/it]\u001b[A\n",
      " 98%|█████████▊| 145/148 [04:43<00:06,  2.00s/it]\u001b[A\n",
      " 99%|█████████▊| 146/148 [04:45<00:04,  2.08s/it]\u001b[A\n",
      " 99%|█████████▉| 147/148 [04:47<00:02,  2.07s/it]\u001b[A\n",
      "100%|██████████| 148/148 [04:49<00:00,  1.95s/it]\n",
      "100%|█████████▉| 411/412 [1:32:27<01:29, 89.67s/it]"
     ]
    },
    {
     "name": "stdout",
     "output_type": "stream",
     "text": [
      "https://reviews.webmd.com/drugs/drugreview-9846-risperdal\n"
     ]
    },
    {
     "name": "stderr",
     "output_type": "stream",
     "text": [
      "\n",
      "  0%|          | 0/24 [00:00<?, ?it/s]\u001b[A\n",
      "  4%|▍         | 1/24 [00:01<00:28,  1.22s/it]\u001b[A\n",
      "  8%|▊         | 2/24 [00:02<00:33,  1.51s/it]\u001b[A\n",
      " 12%|█▎        | 3/24 [00:04<00:36,  1.73s/it]\u001b[A\n",
      " 17%|█▋        | 4/24 [00:06<00:34,  1.70s/it]\u001b[A\n",
      " 21%|██        | 5/24 [00:08<00:31,  1.64s/it]\u001b[A\n",
      " 25%|██▌       | 6/24 [00:09<00:30,  1.71s/it]\u001b[A\n",
      " 29%|██▉       | 7/24 [00:11<00:28,  1.71s/it]\u001b[A\n",
      " 33%|███▎      | 8/24 [00:13<00:27,  1.73s/it]\u001b[A\n",
      " 38%|███▊      | 9/24 [00:15<00:27,  1.84s/it]\u001b[A\n",
      " 42%|████▏     | 10/24 [00:17<00:24,  1.78s/it]\u001b[A\n",
      " 46%|████▌     | 11/24 [00:18<00:22,  1.77s/it]\u001b[A\n",
      " 50%|█████     | 12/24 [00:20<00:21,  1.77s/it]\u001b[A\n",
      " 54%|█████▍    | 13/24 [00:22<00:19,  1.73s/it]\u001b[A\n",
      " 58%|█████▊    | 14/24 [00:24<00:18,  1.81s/it]\u001b[A\n",
      " 62%|██████▎   | 15/24 [00:25<00:15,  1.74s/it]\u001b[A\n",
      " 67%|██████▋   | 16/24 [00:27<00:13,  1.75s/it]\u001b[A\n",
      " 71%|███████   | 17/24 [00:29<00:12,  1.77s/it]\u001b[A\n",
      " 75%|███████▌  | 18/24 [00:30<00:10,  1.69s/it]\u001b[A\n",
      " 79%|███████▉  | 19/24 [00:32<00:08,  1.72s/it]\u001b[A\n",
      " 83%|████████▎ | 20/24 [00:34<00:07,  1.79s/it]\u001b[A\n",
      " 88%|████████▊ | 21/24 [00:36<00:05,  1.73s/it]\u001b[A\n",
      " 92%|█████████▏| 22/24 [00:38<00:03,  1.73s/it]\u001b[A\n",
      " 96%|█████████▌| 23/24 [00:39<00:01,  1.70s/it]\u001b[A\n",
      "100%|██████████| 24/24 [00:40<00:00,  1.70s/it]\n",
      "100%|██████████| 412/412 [1:33:10<00:00, 13.57s/it]\n"
     ]
    }
   ],
   "source": [
    "if scrape_psychiatric:\n",
    "    # use WebMD's search to find drugs by illness\n",
    "    conditions_psychiatric = {'anxiety': 'https://www.webmd.com/drugs/2/condition-967/anxiety',\n",
    "                 'depression': 'https://www.webmd.com/drugs/2/condition-1022/depression',\n",
    "                 'anxiety with depression': 'https://www.webmd.com/drugs/2/condition-978/anxiety-with-depression',\n",
    "                 'bipolar disorder': 'https://www.webmd.com/drugs/2/condition-954/bipolar-disorder',\n",
    "                 'schizophrenia': 'https://www.webmd.com/drugs/2/condition-948/schizophrenia'}\n",
    "    review_urls_psychiatric = get_review_urls(conditions_psychiatric)\n",
    "    compile_reviews(reviews_df.copy(deep=True), review_urls_psychiatric, 'psychiatric') # deep copy of blank dataframe"
   ]
  },
  {
   "cell_type": "code",
   "execution_count": 13,
   "id": "39eec571",
   "metadata": {
    "execution": {
     "iopub.execute_input": "2024-05-19T00:53:41.595033Z",
     "iopub.status.busy": "2024-05-19T00:53:41.594212Z",
     "iopub.status.idle": "2024-05-19T01:46:14.765839Z",
     "shell.execute_reply": "2024-05-19T01:46:14.764604Z"
    },
    "papermill": {
     "duration": 3153.937548,
     "end_time": "2024-05-19T01:46:14.768535",
     "exception": false,
     "start_time": "2024-05-19T00:53:40.830987",
     "status": "completed"
    },
    "tags": []
   },
   "outputs": [
    {
     "name": "stderr",
     "output_type": "stream",
     "text": [
      "  0%|          | 0/499 [00:00<?, ?it/s]"
     ]
    },
    {
     "name": "stdout",
     "output_type": "stream",
     "text": [
      "https://reviews.webmd.com/drugs/drugreview-10326-triamterene\n"
     ]
    },
    {
     "name": "stderr",
     "output_type": "stream",
     "text": [
      "\n",
      "  0%|          | 0/6 [00:00<?, ?it/s]\u001b[A\n",
      " 17%|█▋        | 1/6 [00:00<00:03,  1.48it/s]\u001b[A\n",
      " 33%|███▎      | 2/6 [00:01<00:03,  1.03it/s]\u001b[A\n",
      " 50%|█████     | 3/6 [00:03<00:03,  1.13s/it]\u001b[A\n",
      " 67%|██████▋   | 4/6 [00:05<00:02,  1.46s/it]\u001b[A\n",
      " 83%|████████▎ | 5/6 [00:06<00:01,  1.38s/it]\u001b[A\n",
      "100%|██████████| 6/6 [00:07<00:00,  1.25s/it]\n",
      "  0%|          | 1/499 [00:10<1:24:39, 10.20s/it]"
     ]
    },
    {
     "name": "stdout",
     "output_type": "stream",
     "text": [
      "https://reviews.webmd.com/drugs/drugreview-10404-propranolol-capsule-24-hr-capsule-er-hr\n"
     ]
    },
    {
     "name": "stderr",
     "output_type": "stream",
     "text": [
      "\n",
      "  0%|          | 0/21 [00:00<?, ?it/s]\u001b[A\n",
      "  5%|▍         | 1/21 [00:00<00:12,  1.64it/s]\u001b[A\n",
      " 10%|▉         | 2/21 [00:02<00:20,  1.09s/it]\u001b[A\n",
      " 14%|█▍        | 3/21 [00:03<00:20,  1.16s/it]\u001b[A\n",
      " 19%|█▉        | 4/21 [00:04<00:21,  1.26s/it]\u001b[A\n",
      " 24%|██▍       | 5/21 [00:06<00:22,  1.38s/it]\u001b[A\n",
      " 29%|██▊       | 6/21 [00:07<00:20,  1.36s/it]\u001b[A\n",
      " 33%|███▎      | 7/21 [00:08<00:18,  1.33s/it]\u001b[A\n",
      " 38%|███▊      | 8/21 [00:10<00:17,  1.31s/it]\u001b[A\n",
      " 43%|████▎     | 9/21 [00:11<00:15,  1.29s/it]\u001b[A\n",
      " 48%|████▊     | 10/21 [00:13<00:15,  1.40s/it]\u001b[A\n",
      " 52%|█████▏    | 11/21 [00:14<00:13,  1.33s/it]\u001b[A\n",
      " 57%|█████▋    | 12/21 [00:15<00:11,  1.31s/it]\u001b[A\n",
      " 62%|██████▏   | 13/21 [00:16<00:10,  1.31s/it]\u001b[A\n",
      " 67%|██████▋   | 14/21 [00:17<00:08,  1.26s/it]\u001b[A\n",
      " 71%|███████▏  | 15/21 [00:19<00:07,  1.27s/it]\u001b[A\n",
      " 76%|███████▌  | 16/21 [00:20<00:06,  1.29s/it]\u001b[A\n",
      " 81%|████████  | 17/21 [00:21<00:05,  1.34s/it]\u001b[A\n",
      " 86%|████████▌ | 18/21 [00:23<00:03,  1.30s/it]\u001b[A\n",
      " 90%|█████████ | 19/21 [00:24<00:02,  1.32s/it]\u001b[A\n",
      " 95%|█████████▌| 20/21 [00:25<00:01,  1.26s/it]\u001b[A\n",
      "100%|██████████| 21/21 [00:26<00:00,  1.27s/it]\n",
      "  0%|          | 2/499 [00:38<2:54:17, 21.04s/it]"
     ]
    },
    {
     "name": "stdout",
     "output_type": "stream",
     "text": [
      "https://reviews.webmd.com/drugs/drugreview-10404-propranolol-hcl\n"
     ]
    },
    {
     "name": "stderr",
     "output_type": "stream",
     "text": [
      "\n",
      "  0%|          | 0/21 [00:00<?, ?it/s]\u001b[A\n",
      "  5%|▍         | 1/21 [00:00<00:13,  1.45it/s]\u001b[A\n",
      " 10%|▉         | 2/21 [00:01<00:12,  1.48it/s]\u001b[A\n",
      " 14%|█▍        | 3/21 [00:02<00:12,  1.41it/s]\u001b[A\n",
      " 19%|█▉        | 4/21 [00:02<00:11,  1.44it/s]\u001b[A\n",
      " 24%|██▍       | 5/21 [00:03<00:11,  1.42it/s]\u001b[A\n",
      " 29%|██▊       | 6/21 [00:04<00:12,  1.21it/s]\u001b[A\n",
      " 33%|███▎      | 7/21 [00:05<00:11,  1.26it/s]\u001b[A\n",
      " 38%|███▊      | 8/21 [00:06<00:10,  1.28it/s]\u001b[A\n",
      " 43%|████▎     | 9/21 [00:06<00:09,  1.30it/s]\u001b[A\n",
      " 48%|████▊     | 10/21 [00:07<00:08,  1.34it/s]\u001b[A\n",
      " 52%|█████▏    | 11/21 [00:08<00:07,  1.43it/s]\u001b[A\n",
      " 57%|█████▋    | 12/21 [00:09<00:07,  1.21it/s]\u001b[A\n",
      " 62%|██████▏   | 13/21 [00:09<00:06,  1.28it/s]\u001b[A\n",
      " 67%|██████▋   | 14/21 [00:10<00:05,  1.35it/s]\u001b[A\n",
      " 71%|███████▏  | 15/21 [00:11<00:04,  1.34it/s]\u001b[A\n",
      " 76%|███████▌  | 16/21 [00:11<00:03,  1.36it/s]\u001b[A\n",
      " 81%|████████  | 17/21 [00:13<00:03,  1.21it/s]\u001b[A\n",
      " 86%|████████▌ | 18/21 [00:13<00:02,  1.25it/s]\u001b[A\n",
      " 90%|█████████ | 19/21 [00:14<00:01,  1.31it/s]\u001b[A\n",
      " 95%|█████████▌| 20/21 [00:15<00:00,  1.38it/s]\u001b[A\n",
      "100%|██████████| 21/21 [00:15<00:00,  1.35it/s]\n",
      "  1%|          | 3/499 [00:55<2:37:33, 19.06s/it]"
     ]
    },
    {
     "name": "stdout",
     "output_type": "stream",
     "text": [
      "https://reviews.webmd.com/drugs/drugreview-10404-propranolol-hcl-er\n"
     ]
    },
    {
     "name": "stderr",
     "output_type": "stream",
     "text": [
      "\n",
      "  0%|          | 0/21 [00:00<?, ?it/s]\u001b[A\n",
      "  5%|▍         | 1/21 [00:00<00:14,  1.38it/s]\u001b[A\n",
      " 10%|▉         | 2/21 [00:01<00:15,  1.20it/s]\u001b[A\n",
      " 14%|█▍        | 3/21 [00:02<00:14,  1.25it/s]\u001b[A\n",
      " 19%|█▉        | 4/21 [00:03<00:12,  1.37it/s]\u001b[A\n",
      " 24%|██▍       | 5/21 [00:03<00:11,  1.42it/s]\u001b[A\n",
      " 29%|██▊       | 6/21 [00:04<00:10,  1.43it/s]\u001b[A\n",
      " 33%|███▎      | 7/21 [00:05<00:11,  1.26it/s]\u001b[A\n",
      " 38%|███▊      | 8/21 [00:06<00:09,  1.32it/s]\u001b[A\n",
      " 43%|████▎     | 9/21 [00:06<00:08,  1.35it/s]\u001b[A\n",
      " 48%|████▊     | 10/21 [00:07<00:08,  1.36it/s]\u001b[A\n",
      " 52%|█████▏    | 11/21 [00:08<00:07,  1.34it/s]\u001b[A\n",
      " 57%|█████▋    | 12/21 [00:08<00:06,  1.39it/s]\u001b[A\n",
      " 62%|██████▏   | 13/21 [00:09<00:06,  1.28it/s]\u001b[A\n",
      " 67%|██████▋   | 14/21 [00:10<00:05,  1.24it/s]\u001b[A\n",
      " 71%|███████▏  | 15/21 [00:11<00:04,  1.29it/s]\u001b[A\n",
      " 76%|███████▌  | 16/21 [00:12<00:03,  1.32it/s]\u001b[A\n",
      " 81%|████████  | 17/21 [00:12<00:02,  1.36it/s]\u001b[A\n",
      " 86%|████████▌ | 18/21 [00:13<00:02,  1.29it/s]\u001b[A\n",
      " 90%|█████████ | 19/21 [00:14<00:01,  1.33it/s]\u001b[A\n",
      " 95%|█████████▌| 20/21 [00:15<00:00,  1.37it/s]\u001b[A\n",
      "100%|██████████| 21/21 [00:15<00:00,  1.35it/s]\n",
      "  1%|          | 4/499 [01:12<2:28:54, 18.05s/it]"
     ]
    },
    {
     "name": "stdout",
     "output_type": "stream",
     "text": [
      "https://reviews.webmd.com/drugs/drugreview-10404-propranolol-solution\n"
     ]
    },
    {
     "name": "stderr",
     "output_type": "stream",
     "text": [
      "\n",
      "  0%|          | 0/21 [00:00<?, ?it/s]\u001b[A\n",
      "  5%|▍         | 1/21 [00:00<00:15,  1.26it/s]\u001b[A\n",
      " 10%|▉         | 2/21 [00:01<00:14,  1.35it/s]\u001b[A\n",
      " 14%|█▍        | 3/21 [00:02<00:15,  1.17it/s]\u001b[A\n",
      " 19%|█▉        | 4/21 [00:03<00:14,  1.21it/s]\u001b[A\n",
      " 24%|██▍       | 5/21 [00:03<00:12,  1.27it/s]\u001b[A\n",
      " 29%|██▊       | 6/21 [00:04<00:11,  1.32it/s]\u001b[A\n",
      " 33%|███▎      | 7/21 [00:05<00:11,  1.17it/s]\u001b[A\n",
      " 38%|███▊      | 8/21 [00:06<00:11,  1.15it/s]\u001b[A\n",
      " 43%|████▎     | 9/21 [00:07<00:10,  1.20it/s]\u001b[A\n",
      " 48%|████▊     | 10/21 [00:08<00:08,  1.24it/s]\u001b[A\n",
      " 52%|█████▏    | 11/21 [00:08<00:07,  1.31it/s]\u001b[A\n",
      " 57%|█████▋    | 12/21 [00:09<00:06,  1.34it/s]\u001b[A\n",
      " 62%|██████▏   | 13/21 [00:10<00:05,  1.36it/s]\u001b[A\n",
      " 67%|██████▋   | 14/21 [00:11<00:05,  1.26it/s]\u001b[A\n",
      " 71%|███████▏  | 15/21 [00:11<00:04,  1.31it/s]\u001b[A\n",
      " 76%|███████▌  | 16/21 [00:12<00:03,  1.34it/s]\u001b[A\n",
      " 81%|████████  | 17/21 [00:13<00:02,  1.35it/s]\u001b[A\n",
      " 86%|████████▌ | 18/21 [00:14<00:02,  1.36it/s]\u001b[A\n",
      " 90%|█████████ | 19/21 [00:14<00:01,  1.37it/s]\u001b[A\n",
      " 95%|█████████▌| 20/21 [00:15<00:00,  1.20it/s]\u001b[A\n",
      "100%|██████████| 21/21 [00:16<00:00,  1.29it/s]\n",
      "  1%|          | 5/499 [01:29<2:26:17, 17.77s/it]"
     ]
    },
    {
     "name": "stdout",
     "output_type": "stream",
     "text": [
      "https://reviews.webmd.com/drugs/drugreview-10461-pronol-tablet\n"
     ]
    },
    {
     "name": "stderr",
     "output_type": "stream",
     "text": [
      "  1%|          | 6/499 [01:31<1:41:30, 12.35s/it]"
     ]
    },
    {
     "name": "stdout",
     "output_type": "stream",
     "text": [
      "https://reviews.webmd.com/drugs/drugreview-10482-calan-tablet\n"
     ]
    },
    {
     "name": "stderr",
     "output_type": "stream",
     "text": [
      "\n",
      "  0%|          | 0/1 [00:00<?, ?it/s]\u001b[A\n",
      "100%|██████████| 1/1 [00:01<00:00,  1.03s/it]\n",
      "  2%|▏         | 8/499 [01:35<55:32,  6.79s/it]  "
     ]
    },
    {
     "name": "stdout",
     "output_type": "stream",
     "text": [
      "skipping https://reviews.webmd.com/drugs/drugreview-10671-guanethidine-tablet: page not found\n",
      "https://reviews.webmd.com/drugs/drugreview-11035-atenolol\n"
     ]
    },
    {
     "name": "stderr",
     "output_type": "stream",
     "text": [
      "\n",
      "  0%|          | 0/64 [00:00<?, ?it/s]\u001b[A\n",
      "  2%|▏         | 1/64 [00:00<00:43,  1.45it/s]\u001b[A\n",
      "  3%|▎         | 2/64 [00:01<01:03,  1.02s/it]\u001b[A\n",
      "  5%|▍         | 3/64 [00:03<01:13,  1.21s/it]\u001b[A\n",
      "  6%|▋         | 4/64 [00:04<01:15,  1.27s/it]\u001b[A\n",
      "  8%|▊         | 5/64 [00:06<01:26,  1.47s/it]\u001b[A\n",
      "  9%|▉         | 6/64 [00:07<01:22,  1.43s/it]\u001b[A\n",
      " 11%|█         | 7/64 [00:09<01:21,  1.44s/it]\u001b[A\n",
      " 12%|█▎        | 8/64 [00:10<01:19,  1.42s/it]\u001b[A\n",
      " 14%|█▍        | 9/64 [00:12<01:18,  1.44s/it]\u001b[A\n",
      " 16%|█▌        | 10/64 [00:13<01:14,  1.38s/it]\u001b[A\n",
      " 17%|█▋        | 11/64 [00:14<01:11,  1.35s/it]\u001b[A\n",
      " 19%|█▉        | 12/64 [00:16<01:12,  1.40s/it]\u001b[A\n",
      " 20%|██        | 13/64 [00:17<01:10,  1.39s/it]\u001b[A\n",
      " 22%|██▏       | 14/64 [00:19<01:11,  1.42s/it]\u001b[A\n",
      " 23%|██▎       | 15/64 [00:20<01:06,  1.36s/it]\u001b[A\n",
      " 25%|██▌       | 16/64 [00:21<01:02,  1.30s/it]\u001b[A\n",
      " 27%|██▋       | 17/64 [00:22<01:00,  1.30s/it]\u001b[A\n",
      " 28%|██▊       | 18/64 [00:24<00:59,  1.30s/it]\u001b[A\n",
      " 30%|██▉       | 19/64 [00:25<00:58,  1.30s/it]\u001b[A\n",
      " 31%|███▏      | 20/64 [00:26<00:59,  1.34s/it]\u001b[A\n",
      " 33%|███▎      | 21/64 [00:28<00:59,  1.38s/it]\u001b[A\n",
      " 34%|███▍      | 22/64 [00:29<00:58,  1.39s/it]\u001b[A\n",
      " 36%|███▌      | 23/64 [00:31<00:56,  1.37s/it]\u001b[A\n",
      " 38%|███▊      | 24/64 [00:32<00:55,  1.38s/it]\u001b[A\n",
      " 39%|███▉      | 25/64 [00:33<00:53,  1.38s/it]\u001b[A\n",
      " 41%|████      | 26/64 [00:35<00:52,  1.38s/it]\u001b[A\n",
      " 42%|████▏     | 27/64 [00:36<00:50,  1.37s/it]\u001b[A\n",
      " 44%|████▍     | 28/64 [00:37<00:49,  1.38s/it]\u001b[A\n",
      " 45%|████▌     | 29/64 [00:39<00:46,  1.33s/it]\u001b[A\n",
      " 47%|████▋     | 30/64 [00:40<00:44,  1.31s/it]\u001b[A\n",
      " 48%|████▊     | 31/64 [00:41<00:44,  1.36s/it]\u001b[A\n",
      " 50%|█████     | 32/64 [00:43<00:42,  1.32s/it]\u001b[A\n",
      " 52%|█████▏    | 33/64 [00:44<00:40,  1.32s/it]\u001b[A\n",
      " 53%|█████▎    | 34/64 [00:45<00:40,  1.34s/it]\u001b[A\n",
      " 55%|█████▍    | 35/64 [00:47<00:38,  1.34s/it]\u001b[A\n",
      " 56%|█████▋    | 36/64 [00:48<00:37,  1.33s/it]\u001b[A\n",
      " 58%|█████▊    | 37/64 [00:50<00:37,  1.39s/it]\u001b[A\n",
      " 59%|█████▉    | 38/64 [00:51<00:36,  1.39s/it]\u001b[A\n",
      " 61%|██████    | 39/64 [00:52<00:35,  1.41s/it]\u001b[A\n",
      " 62%|██████▎   | 40/64 [00:54<00:34,  1.42s/it]\u001b[A\n",
      " 64%|██████▍   | 41/64 [00:55<00:31,  1.36s/it]\u001b[A\n",
      " 66%|██████▌   | 42/64 [00:57<00:30,  1.41s/it]\u001b[A\n",
      " 67%|██████▋   | 43/64 [00:58<00:29,  1.42s/it]\u001b[A\n",
      " 69%|██████▉   | 44/64 [00:59<00:27,  1.40s/it]\u001b[A\n",
      " 70%|███████   | 45/64 [01:01<00:25,  1.34s/it]\u001b[A\n",
      " 72%|███████▏  | 46/64 [01:02<00:23,  1.33s/it]\u001b[A\n",
      " 73%|███████▎  | 47/64 [01:03<00:22,  1.30s/it]\u001b[A\n",
      " 75%|███████▌  | 48/64 [01:05<00:21,  1.37s/it]\u001b[A\n",
      " 77%|███████▋  | 49/64 [01:06<00:20,  1.35s/it]\u001b[A\n",
      " 78%|███████▊  | 50/64 [01:07<00:18,  1.30s/it]\u001b[A\n",
      " 80%|███████▉  | 51/64 [01:08<00:16,  1.28s/it]\u001b[A\n",
      " 81%|████████▏ | 52/64 [01:10<00:15,  1.25s/it]\u001b[A\n",
      " 83%|████████▎ | 53/64 [01:11<00:13,  1.27s/it]\u001b[A\n",
      " 84%|████████▍ | 54/64 [01:12<00:13,  1.36s/it]\u001b[A\n",
      " 86%|████████▌ | 55/64 [01:14<00:12,  1.40s/it]\u001b[A\n",
      " 88%|████████▊ | 56/64 [01:15<00:11,  1.38s/it]\u001b[A\n",
      " 89%|████████▉ | 57/64 [01:16<00:09,  1.34s/it]\u001b[A\n",
      " 91%|█████████ | 58/64 [01:18<00:08,  1.43s/it]\u001b[A\n",
      " 92%|█████████▏| 59/64 [01:20<00:07,  1.48s/it]\u001b[A\n",
      " 94%|█████████▍| 60/64 [01:21<00:05,  1.45s/it]\u001b[A\n",
      " 95%|█████████▌| 61/64 [01:22<00:04,  1.40s/it]\u001b[A\n",
      " 97%|█████████▋| 62/64 [01:24<00:02,  1.34s/it]\u001b[A\n",
      " 98%|█████████▊| 63/64 [01:25<00:01,  1.31s/it]\u001b[A\n",
      "100%|██████████| 64/64 [01:26<00:00,  1.35s/it]\n",
      "  2%|▏         | 10/499 [03:05<3:05:11, 22.72s/it]"
     ]
    },
    {
     "name": "stdout",
     "output_type": "stream",
     "text": [
      "skipping https://reviews.webmd.com/drugs/drugreview-11063-methyldopate-hcl-vial: page not found\n"
     ]
    },
    {
     "name": "stderr",
     "output_type": "stream",
     "text": [
      "  2%|▏         | 11/499 [03:06<2:10:59, 16.11s/it]"
     ]
    },
    {
     "name": "stdout",
     "output_type": "stream",
     "text": [
      "skipping https://reviews.webmd.com/drugs/drugreview-11086-ismelin-tablet: page not found\n",
      "https://reviews.webmd.com/drugs/drugreview-11125-procardia-xl\n"
     ]
    },
    {
     "name": "stderr",
     "output_type": "stream",
     "text": [
      "\n",
      "  0%|          | 0/3 [00:00<?, ?it/s]\u001b[A\n",
      " 33%|███▎      | 1/3 [00:00<00:01,  1.50it/s]\u001b[A\n",
      " 67%|██████▋   | 2/3 [00:01<00:00,  1.07it/s]\u001b[A\n",
      "100%|██████████| 3/3 [00:02<00:00,  1.02it/s]\n",
      "  2%|▏         | 12/499 [03:11<1:43:32, 12.76s/it]"
     ]
    },
    {
     "name": "stdout",
     "output_type": "stream",
     "text": [
      "https://reviews.webmd.com/drugs/drugreview-11207-metoprolol-tartrate\n"
     ]
    },
    {
     "name": "stderr",
     "output_type": "stream",
     "text": [
      "\n",
      "  0%|          | 0/31 [00:00<?, ?it/s]\u001b[A\n",
      "  3%|▎         | 1/31 [00:00<00:21,  1.39it/s]\u001b[A\n",
      "  6%|▋         | 2/31 [00:02<00:34,  1.20s/it]\u001b[A\n",
      " 10%|▉         | 3/31 [00:03<00:36,  1.29s/it]\u001b[A\n",
      " 13%|█▎        | 4/31 [00:04<00:34,  1.26s/it]\u001b[A\n",
      " 16%|█▌        | 5/31 [00:06<00:33,  1.27s/it]\u001b[A\n",
      " 19%|█▉        | 6/31 [00:07<00:34,  1.39s/it]\u001b[A\n",
      " 23%|██▎       | 7/31 [00:09<00:32,  1.34s/it]\u001b[A\n",
      " 26%|██▌       | 8/31 [00:10<00:33,  1.44s/it]\u001b[A\n",
      " 29%|██▉       | 9/31 [00:11<00:30,  1.39s/it]\u001b[A\n",
      " 32%|███▏      | 10/31 [00:13<00:27,  1.33s/it]\u001b[A\n",
      " 35%|███▌      | 11/31 [00:14<00:26,  1.34s/it]\u001b[A\n",
      " 39%|███▊      | 12/31 [00:15<00:24,  1.27s/it]\u001b[A\n",
      " 42%|████▏     | 13/31 [00:17<00:24,  1.34s/it]\u001b[A\n",
      " 45%|████▌     | 14/31 [00:18<00:22,  1.30s/it]\u001b[A\n",
      " 48%|████▊     | 15/31 [00:19<00:20,  1.25s/it]\u001b[A\n",
      " 52%|█████▏    | 16/31 [00:20<00:18,  1.24s/it]\u001b[A\n",
      " 55%|█████▍    | 17/31 [00:22<00:17,  1.26s/it]\u001b[A\n",
      " 58%|█████▊    | 18/31 [00:23<00:16,  1.29s/it]\u001b[A\n",
      " 61%|██████▏   | 19/31 [00:25<00:17,  1.49s/it]\u001b[A\n",
      " 65%|██████▍   | 20/31 [00:26<00:15,  1.44s/it]\u001b[A\n",
      " 68%|██████▊   | 21/31 [00:27<00:13,  1.36s/it]\u001b[A\n",
      " 71%|███████   | 22/31 [00:29<00:11,  1.33s/it]\u001b[A\n",
      " 74%|███████▍  | 23/31 [00:30<00:10,  1.36s/it]\u001b[A\n",
      " 77%|███████▋  | 24/31 [00:31<00:09,  1.32s/it]\u001b[A\n",
      " 81%|████████  | 25/31 [00:33<00:08,  1.37s/it]\u001b[A\n",
      " 84%|████████▍ | 26/31 [00:34<00:06,  1.39s/it]\u001b[A\n",
      " 87%|████████▋ | 27/31 [00:35<00:05,  1.34s/it]\u001b[A\n",
      " 90%|█████████ | 28/31 [00:37<00:03,  1.29s/it]\u001b[A\n",
      " 94%|█████████▎| 29/31 [00:38<00:02,  1.25s/it]\u001b[A\n",
      " 97%|█████████▋| 30/31 [00:39<00:01,  1.33s/it]\u001b[A\n",
      "100%|██████████| 31/31 [00:40<00:00,  1.31s/it]\n",
      "  3%|▎         | 13/499 [03:54<2:56:54, 21.84s/it]"
     ]
    },
    {
     "name": "stdout",
     "output_type": "stream",
     "text": [
      "https://reviews.webmd.com/drugs/drugreview-11247-perindopril-erbumine\n"
     ]
    },
    {
     "name": "stderr",
     "output_type": "stream",
     "text": [
      "\n",
      "  0%|          | 0/2 [00:00<?, ?it/s]\u001b[A\n",
      " 50%|█████     | 1/2 [00:00<00:00,  1.50it/s]\u001b[A\n",
      "100%|██████████| 2/2 [00:01<00:00,  1.17it/s]\n",
      "  3%|▎         | 14/499 [03:57<2:11:51, 16.31s/it]"
     ]
    },
    {
     "name": "stdout",
     "output_type": "stream",
     "text": [
      "https://reviews.webmd.com/drugs/drugreview-11441-univasc-tablet\n"
     ]
    },
    {
     "name": "stderr",
     "output_type": "stream",
     "text": [
      "\n",
      "  0%|          | 0/1 [00:00<?, ?it/s]\u001b[A\n",
      "100%|██████████| 1/1 [00:00<00:00,  1.87it/s]\n",
      "  3%|▎         | 15/499 [04:00<1:37:54, 12.14s/it]"
     ]
    },
    {
     "name": "stdout",
     "output_type": "stream",
     "text": [
      "https://reviews.webmd.com/drugs/drugreview-11442-moexipril-hcl\n"
     ]
    },
    {
     "name": "stderr",
     "output_type": "stream",
     "text": [
      "\n",
      "  0%|          | 0/1 [00:00<?, ?it/s]\u001b[A\n",
      "100%|██████████| 1/1 [00:00<00:00,  1.86it/s]\n",
      "  3%|▎         | 16/499 [04:02<1:14:20,  9.23s/it]"
     ]
    },
    {
     "name": "stdout",
     "output_type": "stream",
     "text": [
      "https://reviews.webmd.com/drugs/drugreview-11481-amiloride-hcl\n"
     ]
    },
    {
     "name": "stderr",
     "output_type": "stream",
     "text": [
      "\n",
      "  0%|          | 0/1 [00:00<?, ?it/s]\u001b[A\n",
      "100%|██████████| 1/1 [00:00<00:00,  1.72it/s]\n",
      "  3%|▎         | 17/499 [04:05<58:21,  7.26s/it]  "
     ]
    },
    {
     "name": "stdout",
     "output_type": "stream",
     "text": [
      "https://reviews.webmd.com/drugs/drugreview-11524-amlodipine-besylate-benazepril\n"
     ]
    },
    {
     "name": "stderr",
     "output_type": "stream",
     "text": [
      "\n",
      "  0%|          | 0/8 [00:00<?, ?it/s]\u001b[A\n",
      " 12%|█▎        | 1/8 [00:00<00:04,  1.41it/s]\u001b[A\n",
      " 25%|██▌       | 2/8 [00:02<00:07,  1.19s/it]\u001b[A\n",
      " 38%|███▊      | 3/8 [00:03<00:06,  1.31s/it]\u001b[A\n",
      " 50%|█████     | 4/8 [00:05<00:05,  1.32s/it]\u001b[A\n",
      " 62%|██████▎   | 5/8 [00:06<00:04,  1.42s/it]\u001b[A\n",
      " 75%|███████▌  | 6/8 [00:07<00:02,  1.35s/it]\u001b[A\n",
      " 88%|████████▊ | 7/8 [00:08<00:01,  1.28s/it]\u001b[A\n",
      "100%|██████████| 8/8 [00:09<00:00,  1.24s/it]\n",
      "  4%|▎         | 18/499 [04:17<1:09:23,  8.66s/it]"
     ]
    },
    {
     "name": "stdout",
     "output_type": "stream",
     "text": [
      "https://reviews.webmd.com/drugs/drugreview-11528-cozaar\n"
     ]
    },
    {
     "name": "stderr",
     "output_type": "stream",
     "text": [
      "\n",
      "  0%|          | 0/21 [00:00<?, ?it/s]\u001b[A\n",
      "  5%|▍         | 1/21 [00:00<00:15,  1.28it/s]\u001b[A\n",
      " 10%|▉         | 2/21 [00:02<00:21,  1.14s/it]\u001b[A\n",
      " 14%|█▍        | 3/21 [00:03<00:22,  1.26s/it]\u001b[A\n",
      " 19%|█▉        | 4/21 [00:04<00:21,  1.28s/it]\u001b[A\n",
      " 24%|██▍       | 5/21 [00:06<00:21,  1.33s/it]\u001b[A\n",
      " 29%|██▊       | 6/21 [00:07<00:18,  1.26s/it]\u001b[A\n",
      " 33%|███▎      | 7/21 [00:09<00:19,  1.38s/it]\u001b[A\n",
      " 38%|███▊      | 8/21 [00:10<00:16,  1.30s/it]\u001b[A\n",
      " 43%|████▎     | 9/21 [00:11<00:14,  1.24s/it]\u001b[A\n",
      " 48%|████▊     | 10/21 [00:12<00:13,  1.24s/it]\u001b[A\n",
      " 52%|█████▏    | 11/21 [00:13<00:13,  1.31s/it]\u001b[A\n",
      " 57%|█████▋    | 12/21 [00:15<00:11,  1.31s/it]\u001b[A\n",
      " 62%|██████▏   | 13/21 [00:16<00:11,  1.38s/it]\u001b[A\n",
      " 67%|██████▋   | 14/21 [00:18<00:09,  1.34s/it]\u001b[A\n",
      " 71%|███████▏  | 15/21 [00:19<00:07,  1.28s/it]\u001b[A\n",
      " 76%|███████▌  | 16/21 [00:20<00:06,  1.29s/it]\u001b[A\n",
      " 81%|████████  | 17/21 [00:21<00:05,  1.27s/it]\u001b[A\n",
      " 86%|████████▌ | 18/21 [00:22<00:03,  1.22s/it]\u001b[A\n",
      " 90%|█████████ | 19/21 [00:24<00:02,  1.31s/it]\u001b[A\n",
      " 95%|█████████▌| 20/21 [00:25<00:01,  1.29s/it]\u001b[A\n",
      "100%|██████████| 21/21 [00:26<00:00,  1.27s/it]\n",
      "  4%|▍         | 19/499 [04:46<1:57:38, 14.70s/it]"
     ]
    },
    {
     "name": "stdout",
     "output_type": "stream",
     "text": [
      "https://reviews.webmd.com/drugs/drugreview-11578-propranolol-hcl-cr-capsule-er\n"
     ]
    },
    {
     "name": "stderr",
     "output_type": "stream",
     "text": [
      "  4%|▍         | 20/499 [04:48<1:26:15, 10.80s/it]"
     ]
    },
    {
     "name": "stdout",
     "output_type": "stream",
     "text": [
      "https://reviews.webmd.com/drugs/drugreview-11754-clonidine-hcl\n"
     ]
    },
    {
     "name": "stderr",
     "output_type": "stream",
     "text": [
      "\n",
      "  0%|          | 0/23 [00:00<?, ?it/s]\u001b[A\n",
      "  4%|▍         | 1/23 [00:00<00:15,  1.46it/s]\u001b[A\n",
      "  9%|▊         | 2/23 [00:02<00:23,  1.13s/it]\u001b[A\n",
      " 13%|█▎        | 3/23 [00:03<00:23,  1.17s/it]\u001b[A\n",
      " 17%|█▋        | 4/23 [00:04<00:23,  1.25s/it]\u001b[A\n",
      " 22%|██▏       | 5/23 [00:05<00:22,  1.24s/it]\u001b[A\n",
      " 26%|██▌       | 6/23 [00:07<00:21,  1.25s/it]\u001b[A\n",
      " 30%|███       | 7/23 [00:08<00:20,  1.27s/it]\u001b[A\n",
      " 35%|███▍      | 8/23 [00:10<00:20,  1.36s/it]\u001b[A\n",
      " 39%|███▉      | 9/23 [00:11<00:18,  1.33s/it]\u001b[A\n",
      " 43%|████▎     | 10/23 [00:12<00:17,  1.33s/it]\u001b[A\n",
      " 48%|████▊     | 11/23 [00:13<00:15,  1.31s/it]\u001b[A\n",
      " 52%|█████▏    | 12/23 [00:15<00:14,  1.28s/it]\u001b[A\n",
      " 57%|█████▋    | 13/23 [00:16<00:12,  1.22s/it]\u001b[A\n",
      " 61%|██████    | 14/23 [00:17<00:11,  1.25s/it]\u001b[A\n",
      " 65%|██████▌   | 15/23 [00:18<00:09,  1.24s/it]\u001b[A\n",
      " 70%|██████▉   | 16/23 [00:20<00:08,  1.24s/it]\u001b[A\n",
      " 74%|███████▍  | 17/23 [00:21<00:07,  1.25s/it]\u001b[A\n",
      " 78%|███████▊  | 18/23 [00:22<00:06,  1.29s/it]\u001b[A\n",
      " 83%|████████▎ | 19/23 [00:24<00:05,  1.35s/it]\u001b[A\n",
      " 87%|████████▋ | 20/23 [00:25<00:03,  1.30s/it]\u001b[A\n",
      " 91%|█████████▏| 21/23 [00:26<00:02,  1.31s/it]\u001b[A\n",
      " 96%|█████████▌| 22/23 [00:28<00:01,  1.33s/it]\u001b[A\n",
      "100%|██████████| 23/23 [00:32<00:00,  1.42s/it]\n",
      "  4%|▍         | 21/499 [05:22<2:23:23, 18.00s/it]"
     ]
    },
    {
     "name": "stdout",
     "output_type": "stream",
     "text": [
      "https://reviews.webmd.com/drugs/drugreview-11754-clonidine-hcl-er\n"
     ]
    },
    {
     "name": "stderr",
     "output_type": "stream",
     "text": [
      "\n",
      "  0%|          | 0/23 [00:00<?, ?it/s]\u001b[A\n",
      "  4%|▍         | 1/23 [00:01<00:23,  1.05s/it]\u001b[A\n",
      "  9%|▊         | 2/23 [00:01<00:17,  1.18it/s]\u001b[A\n",
      " 13%|█▎        | 3/23 [00:02<00:15,  1.29it/s]\u001b[A\n",
      " 17%|█▋        | 4/23 [00:03<00:15,  1.26it/s]\u001b[A\n",
      " 22%|██▏       | 5/23 [00:03<00:13,  1.31it/s]\u001b[A\n",
      " 26%|██▌       | 6/23 [00:04<00:12,  1.34it/s]\u001b[A\n",
      " 30%|███       | 7/23 [00:05<00:13,  1.19it/s]\u001b[A\n",
      " 35%|███▍      | 8/23 [00:06<00:12,  1.23it/s]\u001b[A\n",
      " 39%|███▉      | 9/23 [00:07<00:11,  1.23it/s]\u001b[A\n",
      " 43%|████▎     | 10/23 [00:07<00:10,  1.30it/s]\u001b[A\n",
      " 48%|████▊     | 11/23 [00:08<00:09,  1.27it/s]\u001b[A\n",
      " 52%|█████▏    | 12/23 [00:09<00:09,  1.14it/s]\u001b[A\n",
      " 57%|█████▋    | 13/23 [00:10<00:08,  1.18it/s]\u001b[A\n",
      " 61%|██████    | 14/23 [00:11<00:07,  1.17it/s]\u001b[A\n",
      " 65%|██████▌   | 15/23 [00:12<00:06,  1.22it/s]\u001b[A\n",
      " 70%|██████▉   | 16/23 [00:12<00:05,  1.26it/s]\u001b[A\n",
      " 74%|███████▍  | 17/23 [00:13<00:04,  1.26it/s]\u001b[A\n",
      " 78%|███████▊  | 18/23 [00:14<00:04,  1.17it/s]\u001b[A\n",
      " 83%|████████▎ | 19/23 [00:15<00:03,  1.22it/s]\u001b[A\n",
      " 87%|████████▋ | 20/23 [00:16<00:02,  1.27it/s]\u001b[A\n",
      " 91%|█████████▏| 21/23 [00:16<00:01,  1.30it/s]\u001b[A\n",
      " 96%|█████████▌| 22/23 [00:17<00:00,  1.29it/s]\u001b[A\n",
      "100%|██████████| 23/23 [00:18<00:00,  1.25it/s]\n",
      "  4%|▍         | 22/499 [05:42<2:26:15, 18.40s/it]"
     ]
    },
    {
     "name": "stdout",
     "output_type": "stream",
     "text": [
      "https://reviews.webmd.com/drugs/drugreview-11754-clonidine-hcl-er-tablet-12-hr\n"
     ]
    },
    {
     "name": "stderr",
     "output_type": "stream",
     "text": [
      "\n",
      "  0%|          | 0/23 [00:00<?, ?it/s]\u001b[A\n",
      "  4%|▍         | 1/23 [00:00<00:17,  1.25it/s]\u001b[A\n",
      "  9%|▊         | 2/23 [00:01<00:15,  1.37it/s]\u001b[A\n",
      " 13%|█▎        | 3/23 [00:02<00:14,  1.36it/s]\u001b[A\n",
      " 17%|█▋        | 4/23 [00:02<00:13,  1.40it/s]\u001b[A\n",
      " 22%|██▏       | 5/23 [00:03<00:13,  1.37it/s]\u001b[A\n",
      " 26%|██▌       | 6/23 [00:04<00:14,  1.20it/s]\u001b[A\n",
      " 30%|███       | 7/23 [00:05<00:13,  1.22it/s]\u001b[A\n",
      " 35%|███▍      | 8/23 [00:06<00:12,  1.24it/s]\u001b[A\n",
      " 39%|███▉      | 9/23 [00:07<00:11,  1.25it/s]\u001b[A\n",
      " 43%|████▎     | 10/23 [00:07<00:10,  1.29it/s]\u001b[A\n",
      " 48%|████▊     | 11/23 [00:08<00:10,  1.14it/s]\u001b[A\n",
      " 52%|█████▏    | 12/23 [00:09<00:09,  1.15it/s]\u001b[A\n",
      " 57%|█████▋    | 13/23 [00:10<00:08,  1.18it/s]\u001b[A\n",
      " 61%|██████    | 14/23 [00:11<00:07,  1.25it/s]\u001b[A\n",
      " 65%|██████▌   | 15/23 [00:11<00:06,  1.27it/s]\u001b[A\n",
      " 70%|██████▉   | 16/23 [00:13<00:07,  1.09s/it]\u001b[A\n",
      " 74%|███████▍  | 17/23 [00:14<00:06,  1.08s/it]\u001b[A\n",
      " 78%|███████▊  | 18/23 [00:15<00:04,  1.02it/s]\u001b[A\n",
      " 83%|████████▎ | 19/23 [00:16<00:03,  1.13it/s]\u001b[A\n",
      " 87%|████████▋ | 20/23 [00:16<00:02,  1.19it/s]\u001b[A\n",
      " 91%|█████████▏| 21/23 [00:17<00:01,  1.23it/s]\u001b[A\n",
      " 96%|█████████▌| 22/23 [00:18<00:00,  1.14it/s]\u001b[A\n",
      "100%|██████████| 23/23 [00:19<00:00,  1.18it/s]\n",
      "  5%|▍         | 23/499 [06:02<2:31:03, 19.04s/it]"
     ]
    },
    {
     "name": "stdout",
     "output_type": "stream",
     "text": [
      "https://reviews.webmd.com/drugs/drugreview-11755-nadolol\n"
     ]
    },
    {
     "name": "stderr",
     "output_type": "stream",
     "text": [
      "\n",
      "  0%|          | 0/3 [00:00<?, ?it/s]\u001b[A\n",
      " 33%|███▎      | 1/3 [00:00<00:01,  1.32it/s]\u001b[A\n",
      " 67%|██████▋   | 2/3 [00:01<00:01,  1.01s/it]\u001b[A\n",
      "100%|██████████| 3/3 [00:03<00:00,  1.06s/it]\n",
      "  5%|▍         | 24/499 [06:07<1:57:40, 14.86s/it]"
     ]
    },
    {
     "name": "stdout",
     "output_type": "stream",
     "text": [
      "https://reviews.webmd.com/drugs/drugreview-12067-nisoldipine\n"
     ]
    },
    {
     "name": "stderr",
     "output_type": "stream",
     "text": [
      "\n",
      "  0%|          | 0/1 [00:00<?, ?it/s]\u001b[A\n",
      "100%|██████████| 1/1 [00:00<00:00,  1.10it/s]\n",
      "  5%|▌         | 25/499 [06:10<1:28:06, 11.15s/it]"
     ]
    },
    {
     "name": "stdout",
     "output_type": "stream",
     "text": [
      "https://reviews.webmd.com/drugs/drugreview-12067-nisoldipine-tablet-er-24-hr\n"
     ]
    },
    {
     "name": "stderr",
     "output_type": "stream",
     "text": [
      "\n",
      "  0%|          | 0/1 [00:00<?, ?it/s]\u001b[A\n",
      "100%|██████████| 1/1 [00:00<00:00,  1.57it/s]\n",
      "  5%|▌         | 26/499 [06:11<1:05:04,  8.25s/it]"
     ]
    },
    {
     "name": "stdout",
     "output_type": "stream",
     "text": [
      "https://reviews.webmd.com/drugs/drugreview-12134-sular\n"
     ]
    },
    {
     "name": "stderr",
     "output_type": "stream",
     "text": [
      "\n",
      "  0%|          | 0/2 [00:00<?, ?it/s]\u001b[A\n",
      " 50%|█████     | 1/2 [00:00<00:00,  1.19it/s]\u001b[A\n",
      "100%|██████████| 2/2 [00:02<00:00,  1.04s/it]\n",
      "  5%|▌         | 27/499 [06:15<55:11,  7.02s/it]  "
     ]
    },
    {
     "name": "stdout",
     "output_type": "stream",
     "text": [
      "https://reviews.webmd.com/drugs/drugreview-12134-sular-tablet-er-24-hr\n"
     ]
    },
    {
     "name": "stderr",
     "output_type": "stream",
     "text": [
      "\n",
      "  0%|          | 0/2 [00:00<?, ?it/s]\u001b[A\n",
      " 50%|█████     | 1/2 [00:00<00:00,  1.04it/s]\u001b[A\n",
      "100%|██████████| 2/2 [00:01<00:00,  1.12it/s]\n",
      "  6%|▌         | 28/499 [06:18<44:47,  5.71s/it]"
     ]
    },
    {
     "name": "stdout",
     "output_type": "stream",
     "text": [
      "https://reviews.webmd.com/drugs/drugreview-12360-indapamide\n"
     ]
    },
    {
     "name": "stderr",
     "output_type": "stream",
     "text": [
      "\n",
      "  0%|          | 0/2 [00:00<?, ?it/s]\u001b[A\n",
      " 50%|█████     | 1/2 [00:00<00:00,  1.17it/s]\u001b[A\n",
      "100%|██████████| 2/2 [00:01<00:00,  1.02it/s]\n",
      "  6%|▌         | 29/499 [06:22<40:27,  5.16s/it]"
     ]
    },
    {
     "name": "stdout",
     "output_type": "stream",
     "text": [
      "https://reviews.webmd.com/drugs/drugreview-12430-trandolapril\n"
     ]
    },
    {
     "name": "stderr",
     "output_type": "stream",
     "text": [
      "\n",
      "  0%|          | 0/1 [00:00<?, ?it/s]\u001b[A\n",
      "100%|██████████| 1/1 [00:00<00:00,  1.39it/s]\n",
      "  6%|▌         | 30/499 [06:25<34:53,  4.46s/it]"
     ]
    },
    {
     "name": "stdout",
     "output_type": "stream",
     "text": [
      "https://reviews.webmd.com/drugs/drugreview-12566-mavik-tablet\n"
     ]
    },
    {
     "name": "stderr",
     "output_type": "stream",
     "text": [
      "\n",
      "  0%|          | 0/2 [00:00<?, ?it/s]\u001b[A\n",
      " 50%|█████     | 1/2 [00:00<00:00,  1.30it/s]\u001b[A\n",
      "100%|██████████| 2/2 [00:01<00:00,  1.06it/s]\n",
      "  6%|▌         | 31/499 [06:29<34:12,  4.39s/it]"
     ]
    },
    {
     "name": "stdout",
     "output_type": "stream",
     "text": [
      "https://reviews.webmd.com/drugs/drugreview-134-senormin-tablet\n"
     ]
    },
    {
     "name": "stderr",
     "output_type": "stream",
     "text": [
      "  7%|▋         | 33/499 [06:32<23:11,  2.99s/it]"
     ]
    },
    {
     "name": "stdout",
     "output_type": "stream",
     "text": [
      "skipping https://reviews.webmd.com/drugs/drugreview-13774-covera-hs-tablet-er-24-hr: page not found\n",
      "https://reviews.webmd.com/drugs/drugreview-14061-cardene-capsule\n"
     ]
    },
    {
     "name": "stderr",
     "output_type": "stream",
     "text": [
      "  7%|▋         | 34/499 [06:34<20:07,  2.60s/it]"
     ]
    },
    {
     "name": "stdout",
     "output_type": "stream",
     "text": [
      "https://reviews.webmd.com/drugs/drugreview-14206-bisoprolol-fumarate\n"
     ]
    },
    {
     "name": "stderr",
     "output_type": "stream",
     "text": [
      "\n",
      "  0%|          | 0/5 [00:00<?, ?it/s]\u001b[A\n",
      " 20%|██        | 1/5 [00:00<00:02,  1.35it/s]\u001b[A\n",
      " 40%|████      | 2/5 [00:02<00:03,  1.12s/it]\u001b[A\n",
      " 60%|██████    | 3/5 [00:03<00:02,  1.36s/it]\u001b[A\n",
      " 80%|████████  | 4/5 [00:05<00:01,  1.53s/it]\u001b[A\n",
      "100%|██████████| 5/5 [00:06<00:00,  1.34s/it]\n",
      "  7%|▋         | 36/499 [06:44<26:21,  3.42s/it]"
     ]
    },
    {
     "name": "stdout",
     "output_type": "stream",
     "text": [
      "skipping https://reviews.webmd.com/drugs/drugreview-14207-torsemide-solution: page not found\n",
      "https://reviews.webmd.com/drugs/drugreview-14219-thsc-hydrochlorothiazide-tablet\n"
     ]
    },
    {
     "name": "stderr",
     "output_type": "stream",
     "text": [
      "  7%|▋         | 37/499 [06:45<22:19,  2.90s/it]"
     ]
    },
    {
     "name": "stdout",
     "output_type": "stream",
     "text": [
      "https://reviews.webmd.com/drugs/drugreview-14222-thsc-atenolol-tablet\n"
     ]
    },
    {
     "name": "stderr",
     "output_type": "stream",
     "text": [
      "  8%|▊         | 38/499 [06:47<19:53,  2.59s/it]"
     ]
    },
    {
     "name": "stdout",
     "output_type": "stream",
     "text": [
      "https://reviews.webmd.com/drugs/drugreview-14225-thsc-propranolol-hcl-tablet\n"
     ]
    },
    {
     "name": "stderr",
     "output_type": "stream",
     "text": [
      "  8%|▊         | 39/499 [06:49<18:25,  2.40s/it]"
     ]
    },
    {
     "name": "stdout",
     "output_type": "stream",
     "text": [
      "https://reviews.webmd.com/drugs/drugreview-14230-thsc-nifedipine-cr-tablet-er\n"
     ]
    },
    {
     "name": "stderr",
     "output_type": "stream",
     "text": [
      "  8%|▊         | 40/499 [06:51<16:42,  2.18s/it]"
     ]
    },
    {
     "name": "stdout",
     "output_type": "stream",
     "text": [
      "https://reviews.webmd.com/drugs/drugreview-14233-thsc-furosemide-tablet\n"
     ]
    },
    {
     "name": "stderr",
     "output_type": "stream",
     "text": [
      "  8%|▊         | 41/499 [06:53<15:41,  2.06s/it]"
     ]
    },
    {
     "name": "stdout",
     "output_type": "stream",
     "text": [
      "https://reviews.webmd.com/drugs/drugreview-14239-thsc-verapamil-hcl-cr-tablet-er\n"
     ]
    },
    {
     "name": "stderr",
     "output_type": "stream",
     "text": [
      "  8%|▊         | 42/499 [06:55<15:43,  2.07s/it]"
     ]
    },
    {
     "name": "stdout",
     "output_type": "stream",
     "text": [
      "https://reviews.webmd.com/drugs/drugreview-14240-thsc-lisinopril-tablet\n"
     ]
    },
    {
     "name": "stderr",
     "output_type": "stream",
     "text": [
      "  9%|▊         | 43/499 [06:57<14:57,  1.97s/it]"
     ]
    },
    {
     "name": "stdout",
     "output_type": "stream",
     "text": [
      "https://reviews.webmd.com/drugs/drugreview-14244-thsc-captopril-tablet\n"
     ]
    },
    {
     "name": "stderr",
     "output_type": "stream",
     "text": [
      "  9%|▉         | 44/499 [06:58<14:35,  1.92s/it]"
     ]
    },
    {
     "name": "stdout",
     "output_type": "stream",
     "text": [
      "https://reviews.webmd.com/drugs/drugreview-14251-thsc-metoprolol-tartrate-tablet\n"
     ]
    },
    {
     "name": "stderr",
     "output_type": "stream",
     "text": [
      "  9%|▉         | 45/499 [07:00<14:25,  1.91s/it]"
     ]
    },
    {
     "name": "stdout",
     "output_type": "stream",
     "text": [
      "https://reviews.webmd.com/drugs/drugreview-14338-trandolapril-verapamil-er\n"
     ]
    },
    {
     "name": "stderr",
     "output_type": "stream",
     "text": [
      "\n",
      "  0%|          | 0/1 [00:00<?, ?it/s]\u001b[A\n",
      "100%|██████████| 1/1 [00:00<00:00,  1.04it/s]\n",
      "  9%|▉         | 46/499 [07:04<17:54,  2.37s/it]"
     ]
    },
    {
     "name": "stdout",
     "output_type": "stream",
     "text": [
      "https://reviews.webmd.com/drugs/drugreview-14386-pindolol\n"
     ]
    },
    {
     "name": "stderr",
     "output_type": "stream",
     "text": [
      "\n",
      "  0%|          | 0/1 [00:00<?, ?it/s]\u001b[A\n",
      "100%|██████████| 1/1 [00:00<00:00,  1.45it/s]\n",
      "  9%|▉         | 47/499 [07:07<19:06,  2.54s/it]"
     ]
    },
    {
     "name": "stdout",
     "output_type": "stream",
     "text": [
      "https://reviews.webmd.com/drugs/drugreview-146213-carvedilol-er\n"
     ]
    },
    {
     "name": "stderr",
     "output_type": "stream",
     "text": [
      "\n",
      "  0%|          | 0/1 [00:00<?, ?it/s]\u001b[A\n",
      "100%|██████████| 1/1 [00:00<00:00,  1.67it/s]\n",
      " 10%|▉         | 48/499 [07:09<19:03,  2.54s/it]"
     ]
    },
    {
     "name": "stdout",
     "output_type": "stream",
     "text": [
      "https://reviews.webmd.com/drugs/drugreview-14634-microzide-capsule\n"
     ]
    },
    {
     "name": "stderr",
     "output_type": "stream",
     "text": [
      "\n",
      "  0%|          | 0/2 [00:00<?, ?it/s]\u001b[A\n",
      " 50%|█████     | 1/2 [00:00<00:00,  1.33it/s]\u001b[A\n",
      "100%|██████████| 2/2 [00:01<00:00,  1.12it/s]\n",
      " 10%|█         | 50/499 [07:14<18:18,  2.45s/it]"
     ]
    },
    {
     "name": "stdout",
     "output_type": "stream",
     "text": [
      "skipping https://reviews.webmd.com/drugs/drugreview-14750-enalapril-maleate-felodipine-tablet-er: page not found\n",
      "https://reviews.webmd.com/drugs/drugreview-147671-aliskiren\n"
     ]
    },
    {
     "name": "stderr",
     "output_type": "stream",
     "text": [
      "\n",
      "  0%|          | 0/1 [00:00<?, ?it/s]\u001b[A\n",
      "100%|██████████| 1/1 [00:00<00:00,  1.88it/s]\n",
      " 10%|█         | 51/499 [07:17<18:01,  2.41s/it]"
     ]
    },
    {
     "name": "stdout",
     "output_type": "stream",
     "text": [
      "https://reviews.webmd.com/drugs/drugreview-147683-tekturna\n"
     ]
    },
    {
     "name": "stderr",
     "output_type": "stream",
     "text": [
      "\n",
      "  0%|          | 0/9 [00:00<?, ?it/s]\u001b[A\n",
      " 11%|█         | 1/9 [00:00<00:05,  1.38it/s]\u001b[A\n",
      " 22%|██▏       | 2/9 [00:02<00:08,  1.27s/it]\u001b[A\n",
      " 33%|███▎      | 3/9 [00:03<00:08,  1.34s/it]\u001b[A\n",
      " 44%|████▍     | 4/9 [00:04<00:06,  1.27s/it]\u001b[A\n",
      " 56%|█████▌    | 5/9 [00:06<00:05,  1.29s/it]\u001b[A\n",
      " 67%|██████▋   | 6/9 [00:07<00:04,  1.35s/it]\u001b[A\n",
      " 78%|███████▊  | 7/9 [00:09<00:02,  1.32s/it]\u001b[A\n",
      " 89%|████████▉ | 8/9 [00:10<00:01,  1.32s/it]\u001b[A\n",
      "100%|██████████| 9/9 [00:11<00:00,  1.27s/it]\n",
      " 11%|█         | 53/499 [07:32<32:45,  4.41s/it]"
     ]
    },
    {
     "name": "stdout",
     "output_type": "stream",
     "text": [
      "skipping https://reviews.webmd.com/drugs/drugreview-14851-hydrap-es-tablet: page not found\n",
      "https://reviews.webmd.com/drugs/drugreview-148915-naldol-tablet\n"
     ]
    },
    {
     "name": "stderr",
     "output_type": "stream",
     "text": [
      "\n",
      "  0%|          | 0/1 [00:00<?, ?it/s]\u001b[A\n",
      "100%|██████████| 1/1 [00:00<00:00,  2.13it/s]\n",
      " 11%|█         | 54/499 [07:34<27:52,  3.76s/it]"
     ]
    },
    {
     "name": "stdout",
     "output_type": "stream",
     "text": [
      "https://reviews.webmd.com/drugs/drugreview-149214-amlodipine-olmesartan\n"
     ]
    },
    {
     "name": "stderr",
     "output_type": "stream",
     "text": [
      "\n",
      "  0%|          | 0/1 [00:00<?, ?it/s]\u001b[A\n",
      "100%|██████████| 1/1 [00:00<00:00,  1.65it/s]\n",
      " 11%|█         | 55/499 [07:37<25:41,  3.47s/it]"
     ]
    },
    {
     "name": "stdout",
     "output_type": "stream",
     "text": [
      "https://reviews.webmd.com/drugs/drugreview-149217-azor\n"
     ]
    },
    {
     "name": "stderr",
     "output_type": "stream",
     "text": [
      "\n",
      "  0%|          | 0/16 [00:00<?, ?it/s]\u001b[A\n",
      "  6%|▋         | 1/16 [00:00<00:09,  1.54it/s]\u001b[A\n",
      " 12%|█▎        | 2/16 [00:02<00:17,  1.28s/it]\u001b[A\n",
      " 19%|█▉        | 3/16 [00:03<00:16,  1.30s/it]\u001b[A\n",
      " 25%|██▌       | 4/16 [00:04<00:15,  1.27s/it]\u001b[A\n",
      " 31%|███▏      | 5/16 [00:06<00:13,  1.27s/it]\u001b[A\n",
      " 38%|███▊      | 6/16 [00:07<00:12,  1.30s/it]\u001b[A\n",
      " 44%|████▍     | 7/16 [00:08<00:11,  1.33s/it]\u001b[A\n",
      " 50%|█████     | 8/16 [00:10<00:10,  1.29s/it]\u001b[A\n",
      " 56%|█████▋    | 9/16 [00:11<00:08,  1.28s/it]\u001b[A\n",
      " 62%|██████▎   | 10/16 [00:12<00:07,  1.27s/it]\u001b[A\n",
      " 69%|██████▉   | 11/16 [00:14<00:06,  1.33s/it]\u001b[A\n",
      " 75%|███████▌  | 12/16 [00:15<00:05,  1.29s/it]\u001b[A\n",
      " 81%|████████▏ | 13/16 [00:16<00:03,  1.29s/it]\u001b[A\n",
      " 88%|████████▊ | 14/16 [00:17<00:02,  1.26s/it]\u001b[A\n",
      " 94%|█████████▍| 15/16 [00:18<00:01,  1.24s/it]\u001b[A\n",
      "100%|██████████| 16/16 [00:20<00:00,  1.26s/it]\n",
      " 11%|█         | 56/499 [07:59<1:07:51,  9.19s/it]"
     ]
    },
    {
     "name": "stdout",
     "output_type": "stream",
     "text": [
      "https://reviews.webmd.com/drugs/drugreview-1494-cardizem-cd\n"
     ]
    },
    {
     "name": "stderr",
     "output_type": "stream",
     "text": [
      "\n",
      "  0%|          | 0/4 [00:00<?, ?it/s]\u001b[A\n",
      " 25%|██▌       | 1/4 [00:00<00:02,  1.35it/s]\u001b[A\n",
      " 50%|█████     | 2/4 [00:02<00:02,  1.12s/it]\u001b[A\n",
      " 75%|███████▌  | 3/4 [00:03<00:01,  1.27s/it]\u001b[A\n",
      "100%|██████████| 4/4 [00:04<00:00,  1.19s/it]\n",
      " 12%|█▏        | 58/499 [08:08<46:58,  6.39s/it]  "
     ]
    },
    {
     "name": "stdout",
     "output_type": "stream",
     "text": [
      "skipping https://reviews.webmd.com/drugs/drugreview-14942-uni-serp-tablet: page not found\n",
      "https://reviews.webmd.com/drugs/drugreview-1495-dilacor-xr-capsule-er\n"
     ]
    },
    {
     "name": "stderr",
     "output_type": "stream",
     "text": [
      "\n",
      "  0%|          | 0/1 [00:00<?, ?it/s]\u001b[A\n",
      "100%|██████████| 1/1 [00:00<00:00,  1.27it/s]\n",
      " 12%|█▏        | 59/499 [08:11<39:18,  5.36s/it]"
     ]
    },
    {
     "name": "stdout",
     "output_type": "stream",
     "text": [
      "https://reviews.webmd.com/drugs/drugreview-149866-nebivolol-hcl\n"
     ]
    },
    {
     "name": "stderr",
     "output_type": "stream",
     "text": [
      "\n",
      "  0%|          | 0/2 [00:00<?, ?it/s]\u001b[A\n",
      " 50%|█████     | 1/2 [00:00<00:00,  1.30it/s]\u001b[A\n",
      "100%|██████████| 2/2 [00:02<00:00,  1.02s/it]\n",
      " 12%|█▏        | 60/499 [08:15<37:28,  5.12s/it]"
     ]
    },
    {
     "name": "stdout",
     "output_type": "stream",
     "text": [
      "https://reviews.webmd.com/drugs/drugreview-149883-bystolic\n"
     ]
    },
    {
     "name": "stderr",
     "output_type": "stream",
     "text": [
      "\n",
      "  0%|          | 0/45 [00:00<?, ?it/s]\u001b[A\n",
      "  2%|▏         | 1/45 [00:00<00:39,  1.13it/s]\u001b[A\n",
      "  4%|▍         | 2/45 [00:02<00:49,  1.14s/it]\u001b[A\n",
      "  7%|▋         | 3/45 [00:03<00:56,  1.34s/it]\u001b[A\n",
      "  9%|▉         | 4/45 [00:05<00:53,  1.32s/it]\u001b[A\n",
      " 11%|█         | 5/45 [00:06<00:53,  1.35s/it]\u001b[A\n",
      " 13%|█▎        | 6/45 [00:07<00:52,  1.34s/it]\u001b[A\n",
      " 16%|█▌        | 7/45 [00:09<00:51,  1.37s/it]\u001b[A\n",
      " 18%|█▊        | 8/45 [00:10<00:55,  1.49s/it]\u001b[A\n",
      " 20%|██        | 9/45 [00:12<00:52,  1.47s/it]\u001b[A\n",
      " 22%|██▏       | 10/45 [00:13<00:49,  1.42s/it]\u001b[A\n",
      " 24%|██▍       | 11/45 [00:15<00:48,  1.44s/it]\u001b[A\n",
      " 27%|██▋       | 12/45 [00:16<00:47,  1.43s/it]\u001b[A\n",
      " 29%|██▉       | 13/45 [00:17<00:44,  1.38s/it]\u001b[A\n",
      " 31%|███       | 14/45 [00:19<00:44,  1.45s/it]\u001b[A\n",
      " 33%|███▎      | 15/45 [00:20<00:42,  1.40s/it]\u001b[A\n",
      " 36%|███▌      | 16/45 [00:21<00:39,  1.35s/it]\u001b[A\n",
      " 38%|███▊      | 17/45 [00:23<00:38,  1.36s/it]\u001b[A\n",
      " 40%|████      | 18/45 [00:24<00:37,  1.38s/it]\u001b[A\n",
      " 42%|████▏     | 19/45 [00:26<00:34,  1.33s/it]\u001b[A\n",
      " 44%|████▍     | 20/45 [00:27<00:33,  1.33s/it]\u001b[A\n",
      " 47%|████▋     | 21/45 [00:28<00:31,  1.33s/it]\u001b[A\n",
      " 49%|████▉     | 22/45 [00:30<00:31,  1.35s/it]\u001b[A\n",
      " 51%|█████     | 23/45 [00:31<00:29,  1.35s/it]\u001b[A\n",
      " 53%|█████▎    | 24/45 [00:32<00:28,  1.36s/it]\u001b[A\n",
      " 56%|█████▌    | 25/45 [00:34<00:27,  1.38s/it]\u001b[A\n",
      " 58%|█████▊    | 26/45 [00:35<00:27,  1.46s/it]\u001b[A\n",
      " 60%|██████    | 27/45 [00:37<00:25,  1.43s/it]\u001b[A\n",
      " 62%|██████▏   | 28/45 [00:38<00:23,  1.38s/it]\u001b[A\n",
      " 64%|██████▍   | 29/45 [00:39<00:21,  1.35s/it]\u001b[A\n",
      " 67%|██████▋   | 30/45 [00:41<00:21,  1.43s/it]\u001b[A\n",
      " 69%|██████▉   | 31/45 [00:43<00:20,  1.50s/it]\u001b[A\n",
      " 71%|███████   | 32/45 [00:44<00:19,  1.53s/it]\u001b[A\n",
      " 73%|███████▎  | 33/45 [00:45<00:17,  1.46s/it]\u001b[A\n",
      " 76%|███████▌  | 34/45 [00:47<00:15,  1.43s/it]\u001b[A\n",
      " 78%|███████▊  | 35/45 [00:48<00:14,  1.50s/it]\u001b[A\n",
      " 80%|████████  | 36/45 [00:50<00:12,  1.41s/it]\u001b[A\n",
      " 82%|████████▏ | 37/45 [00:51<00:11,  1.43s/it]\u001b[A\n",
      " 84%|████████▍ | 38/45 [00:53<00:10,  1.45s/it]\u001b[A\n",
      " 87%|████████▋ | 39/45 [00:54<00:08,  1.39s/it]\u001b[A\n",
      " 89%|████████▉ | 40/45 [00:55<00:07,  1.41s/it]\u001b[A\n",
      " 91%|█████████ | 41/45 [00:57<00:05,  1.38s/it]\u001b[A\n",
      " 93%|█████████▎| 42/45 [00:58<00:04,  1.37s/it]\u001b[A\n",
      " 96%|█████████▌| 43/45 [01:00<00:02,  1.42s/it]\u001b[A\n",
      " 98%|█████████▊| 44/45 [01:01<00:01,  1.39s/it]\u001b[A\n",
      "100%|██████████| 45/45 [01:03<00:00,  1.40s/it]\n",
      " 12%|█▏        | 61/499 [09:21<2:49:36, 23.23s/it]"
     ]
    },
    {
     "name": "stdout",
     "output_type": "stream",
     "text": [
      "https://reviews.webmd.com/drugs/drugreview-149962-aliskiren-hydrochlorothiazide-tablet\n"
     ]
    },
    {
     "name": "stderr",
     "output_type": "stream",
     "text": [
      " 12%|█▏        | 62/499 [09:22<2:02:05, 16.76s/it]"
     ]
    },
    {
     "name": "stdout",
     "output_type": "stream",
     "text": [
      "https://reviews.webmd.com/drugs/drugreview-149976-tekturna-hct\n"
     ]
    },
    {
     "name": "stderr",
     "output_type": "stream",
     "text": [
      "\n",
      "  0%|          | 0/3 [00:00<?, ?it/s]\u001b[A\n",
      " 33%|███▎      | 1/3 [00:00<00:01,  1.22it/s]\u001b[A\n",
      " 67%|██████▋   | 2/3 [00:02<00:01,  1.32s/it]\u001b[A\n",
      "100%|██████████| 3/3 [00:03<00:00,  1.19s/it]\n",
      " 13%|█▎        | 63/499 [09:28<1:37:34, 13.43s/it]"
     ]
    },
    {
     "name": "stdout",
     "output_type": "stream",
     "text": [
      "https://reviews.webmd.com/drugs/drugreview-1504-tiazac\n"
     ]
    },
    {
     "name": "stderr",
     "output_type": "stream",
     "text": [
      "\n",
      "  0%|          | 0/2 [00:00<?, ?it/s]\u001b[A\n",
      " 50%|█████     | 1/2 [00:00<00:00,  1.32it/s]\u001b[A\n",
      "100%|██████████| 2/2 [00:01<00:00,  1.17it/s]\n",
      " 13%|█▎        | 64/499 [09:32<1:17:03, 10.63s/it]"
     ]
    },
    {
     "name": "stdout",
     "output_type": "stream",
     "text": [
      "https://reviews.webmd.com/drugs/drugreview-151788-diltzac-er-capsule-24-hr-capsule-hr\n"
     ]
    },
    {
     "name": "stderr",
     "output_type": "stream",
     "text": [
      "\n",
      "  0%|          | 0/1 [00:00<?, ?it/s]\u001b[A\n",
      "100%|██████████| 1/1 [00:00<00:00,  1.94it/s]\n",
      " 13%|█▎        | 65/499 [09:34<59:08,  8.18s/it]  "
     ]
    },
    {
     "name": "stdout",
     "output_type": "stream",
     "text": [
      "https://reviews.webmd.com/drugs/drugreview-152357-amlodipine-valsartan-hctz\n"
     ]
    },
    {
     "name": "stderr",
     "output_type": "stream",
     "text": [
      "\n",
      "  0%|          | 0/1 [00:00<?, ?it/s]\u001b[A\n",
      "100%|██████████| 1/1 [00:00<00:00,  1.18it/s]\n",
      " 13%|█▎        | 66/499 [09:37<47:28,  6.58s/it]"
     ]
    },
    {
     "name": "stdout",
     "output_type": "stream",
     "text": [
      "https://reviews.webmd.com/drugs/drugreview-152359-exforge-hct\n"
     ]
    },
    {
     "name": "stderr",
     "output_type": "stream",
     "text": [
      "\n",
      "  0%|          | 0/3 [00:00<?, ?it/s]\u001b[A\n",
      " 33%|███▎      | 1/3 [00:00<00:01,  1.05it/s]\u001b[A\n",
      " 67%|██████▋   | 2/3 [00:02<00:01,  1.10s/it]\u001b[A\n",
      "100%|██████████| 3/3 [00:03<00:00,  1.10s/it]\n",
      " 14%|█▎        | 68/499 [09:44<33:35,  4.68s/it]"
     ]
    },
    {
     "name": "stdout",
     "output_type": "stream",
     "text": [
      "skipping https://reviews.webmd.com/drugs/drugreview-153008-aliskiren-valsartan-tablet: page not found\n"
     ]
    },
    {
     "name": "stderr",
     "output_type": "stream",
     "text": [
      " 14%|█▍        | 69/499 [09:45<25:43,  3.59s/it]"
     ]
    },
    {
     "name": "stdout",
     "output_type": "stream",
     "text": [
      "skipping https://reviews.webmd.com/drugs/drugreview-153012-valturna-tablet: page not found\n",
      "https://reviews.webmd.com/drugs/drugreview-153181-telmisartan-amlodipine\n"
     ]
    },
    {
     "name": "stderr",
     "output_type": "stream",
     "text": [
      "\n",
      "  0%|          | 0/1 [00:00<?, ?it/s]\u001b[A\n",
      "100%|██████████| 1/1 [00:00<00:00,  1.91it/s]\n",
      " 14%|█▍        | 70/499 [09:48<23:43,  3.32s/it]"
     ]
    },
    {
     "name": "stdout",
     "output_type": "stream",
     "text": [
      "https://reviews.webmd.com/drugs/drugreview-153194-twynsta-tablet\n"
     ]
    },
    {
     "name": "stderr",
     "output_type": "stream",
     "text": [
      "\n",
      "  0%|          | 0/2 [00:00<?, ?it/s]\u001b[A\n",
      " 50%|█████     | 1/2 [00:00<00:00,  1.35it/s]\u001b[A\n",
      "100%|██████████| 2/2 [00:01<00:00,  1.10it/s]\n",
      " 14%|█▍        | 71/499 [09:51<24:50,  3.48s/it]"
     ]
    },
    {
     "name": "stdout",
     "output_type": "stream",
     "text": [
      "https://reviews.webmd.com/drugs/drugreview-154436-olmesartan-amlodipine-hctz\n"
     ]
    },
    {
     "name": "stderr",
     "output_type": "stream",
     "text": [
      "\n",
      "  0%|          | 0/1 [00:00<?, ?it/s]\u001b[A\n",
      "100%|██████████| 1/1 [00:00<00:00,  1.56it/s]\n",
      " 14%|█▍        | 72/499 [09:54<22:17,  3.13s/it]"
     ]
    },
    {
     "name": "stdout",
     "output_type": "stream",
     "text": [
      "https://reviews.webmd.com/drugs/drugreview-154439-tribenzor\n"
     ]
    },
    {
     "name": "stderr",
     "output_type": "stream",
     "text": [
      "\n",
      "  0%|          | 0/6 [00:00<?, ?it/s]\u001b[A\n",
      " 17%|█▋        | 1/6 [00:00<00:03,  1.39it/s]\u001b[A\n",
      " 33%|███▎      | 2/6 [00:01<00:03,  1.02it/s]\u001b[A\n",
      " 50%|█████     | 3/6 [00:03<00:03,  1.13s/it]\u001b[A\n",
      " 67%|██████▋   | 4/6 [00:04<00:02,  1.25s/it]\u001b[A\n",
      " 83%|████████▎ | 5/6 [00:06<00:01,  1.30s/it]\u001b[A\n",
      "100%|██████████| 6/6 [00:07<00:00,  1.19s/it]\n",
      " 15%|█▍        | 74/499 [10:04<27:07,  3.83s/it]"
     ]
    },
    {
     "name": "stdout",
     "output_type": "stream",
     "text": [
      "skipping https://reviews.webmd.com/drugs/drugreview-154589-aliskiren-amlodipine-tablet: page not found\n"
     ]
    },
    {
     "name": "stderr",
     "output_type": "stream",
     "text": [
      " 15%|█▌        | 75/499 [10:05<21:14,  3.01s/it]"
     ]
    },
    {
     "name": "stdout",
     "output_type": "stream",
     "text": [
      "skipping https://reviews.webmd.com/drugs/drugreview-154590-tekamlo-tablet: page not found\n",
      "https://reviews.webmd.com/drugs/drugreview-155068-matzim-la-tablet-er-24-hr\n"
     ]
    },
    {
     "name": "stderr",
     "output_type": "stream",
     "text": [
      "\n",
      "  0%|          | 0/1 [00:00<?, ?it/s]\u001b[A\n",
      "100%|██████████| 1/1 [00:00<00:00,  1.84it/s]\n",
      " 15%|█▌        | 76/499 [10:08<20:28,  2.90s/it]"
     ]
    },
    {
     "name": "stdout",
     "output_type": "stream",
     "text": [
      "https://reviews.webmd.com/drugs/drugreview-155086-kapvay\n"
     ]
    },
    {
     "name": "stderr",
     "output_type": "stream",
     "text": [
      "\n",
      "  0%|          | 0/1 [00:00<?, ?it/s]\u001b[A\n",
      "100%|██████████| 1/1 [00:00<00:00,  1.61it/s]\n",
      " 15%|█▌        | 77/499 [10:10<19:46,  2.81s/it]"
     ]
    },
    {
     "name": "stdout",
     "output_type": "stream",
     "text": [
      "https://reviews.webmd.com/drugs/drugreview-155114-nexiclon-xr\n"
     ]
    },
    {
     "name": "stderr",
     "output_type": "stream",
     "text": [
      "\n",
      "  0%|          | 0/1 [00:00<?, ?it/s]\u001b[A\n",
      "100%|██████████| 1/1 [00:00<00:00,  1.60it/s]\n",
      " 16%|█▌        | 79/499 [10:14<16:09,  2.31s/it]"
     ]
    },
    {
     "name": "stdout",
     "output_type": "stream",
     "text": [
      "skipping https://reviews.webmd.com/drugs/drugreview-155198-aliskiren-amlodipin-hcthiazide-tablet: page not found\n"
     ]
    },
    {
     "name": "stderr",
     "output_type": "stream",
     "text": [
      " 16%|█▌        | 80/499 [10:16<13:40,  1.96s/it]"
     ]
    },
    {
     "name": "stdout",
     "output_type": "stream",
     "text": [
      "skipping https://reviews.webmd.com/drugs/drugreview-155202-amturnide-tablet: page not found\n",
      "https://reviews.webmd.com/drugs/drugreview-155413-azilsartan-medoxomil-tablet\n"
     ]
    },
    {
     "name": "stderr",
     "output_type": "stream",
     "text": [
      "\n",
      "  0%|          | 0/1 [00:00<?, ?it/s]\u001b[A\n",
      "100%|██████████| 1/1 [00:00<00:00,  2.01it/s]\n",
      " 16%|█▌        | 81/499 [10:18<14:31,  2.09s/it]"
     ]
    },
    {
     "name": "stdout",
     "output_type": "stream",
     "text": [
      "https://reviews.webmd.com/drugs/drugreview-155419-edarbi\n"
     ]
    },
    {
     "name": "stderr",
     "output_type": "stream",
     "text": [
      "\n",
      "  0%|          | 0/4 [00:00<?, ?it/s]\u001b[A\n",
      " 25%|██▌       | 1/4 [00:00<00:01,  1.54it/s]\u001b[A\n",
      " 50%|█████     | 2/4 [00:01<00:01,  1.00it/s]\u001b[A\n",
      " 75%|███████▌  | 3/4 [00:03<00:01,  1.09s/it]\u001b[A\n",
      "100%|██████████| 4/4 [00:04<00:00,  1.08s/it]\n",
      " 16%|█▋        | 82/499 [10:24<23:42,  3.41s/it]"
     ]
    },
    {
     "name": "stdout",
     "output_type": "stream",
     "text": [
      "https://reviews.webmd.com/drugs/drugreview-155740-matzim-la\n"
     ]
    },
    {
     "name": "stderr",
     "output_type": "stream",
     "text": [
      "\n",
      "  0%|          | 0/1 [00:00<?, ?it/s]\u001b[A\n",
      "100%|██████████| 1/1 [00:00<00:00,  1.19it/s]\n",
      " 17%|█▋        | 84/499 [10:28<18:07,  2.62s/it]"
     ]
    },
    {
     "name": "stdout",
     "output_type": "stream",
     "text": [
      "skipping https://reviews.webmd.com/drugs/drugreview-15620-ser-a-gen-tablet: page not found\n"
     ]
    },
    {
     "name": "stderr",
     "output_type": "stream",
     "text": [
      " 17%|█▋        | 85/499 [10:29<14:45,  2.14s/it]"
     ]
    },
    {
     "name": "stdout",
     "output_type": "stream",
     "text": [
      "skipping https://reviews.webmd.com/drugs/drugreview-15632-tri-hydroserpine-tablet: page not found\n",
      "https://reviews.webmd.com/drugs/drugreview-15636-hyzaar\n"
     ]
    },
    {
     "name": "stderr",
     "output_type": "stream",
     "text": [
      "\n",
      "  0%|          | 0/10 [00:00<?, ?it/s]\u001b[A\n",
      " 10%|█         | 1/10 [00:00<00:06,  1.32it/s]\u001b[A\n",
      " 20%|██        | 2/10 [00:01<00:08,  1.01s/it]\u001b[A\n",
      " 30%|███       | 3/10 [00:03<00:08,  1.21s/it]\u001b[A\n",
      " 40%|████      | 4/10 [00:04<00:07,  1.22s/it]\u001b[A\n",
      " 50%|█████     | 5/10 [00:05<00:06,  1.25s/it]\u001b[A\n",
      " 60%|██████    | 6/10 [00:07<00:05,  1.29s/it]\u001b[A\n",
      " 70%|███████   | 7/10 [00:08<00:04,  1.37s/it]\u001b[A\n",
      " 80%|████████  | 8/10 [00:10<00:02,  1.32s/it]\u001b[A\n",
      " 90%|█████████ | 9/10 [00:11<00:01,  1.33s/it]\u001b[A\n",
      "100%|██████████| 10/10 [00:12<00:00,  1.26s/it]\n",
      " 17%|█▋        | 86/499 [10:44<41:00,  5.96s/it]"
     ]
    },
    {
     "name": "stdout",
     "output_type": "stream",
     "text": [
      "https://reviews.webmd.com/drugs/drugreview-15679-aldoril-d30-tablet\n"
     ]
    },
    {
     "name": "stderr",
     "output_type": "stream",
     "text": [
      "\n",
      "  0%|          | 0/1 [00:00<?, ?it/s]\u001b[A\n",
      "100%|██████████| 1/1 [00:00<00:00,  2.14it/s]\n",
      " 18%|█▊        | 88/499 [10:48<25:22,  3.70s/it]"
     ]
    },
    {
     "name": "stdout",
     "output_type": "stream",
     "text": [
      "skipping https://reviews.webmd.com/drugs/drugreview-15680-combipres-2-tablet: page not found\n"
     ]
    },
    {
     "name": "stderr",
     "output_type": "stream",
     "text": [
      " 18%|█▊        | 89/499 [10:49<20:01,  2.93s/it]"
     ]
    },
    {
     "name": "stdout",
     "output_type": "stream",
     "text": [
      "skipping https://reviews.webmd.com/drugs/drugreview-15681-combipres-3-tablet: page not found\n",
      "https://reviews.webmd.com/drugs/drugreview-15682-aldoril-d50-tablet\n"
     ]
    },
    {
     "name": "stderr",
     "output_type": "stream",
     "text": [
      "\n",
      "  0%|          | 0/1 [00:00<?, ?it/s]\u001b[A\n",
      "100%|██████████| 1/1 [00:00<00:00,  1.41it/s]\n",
      " 18%|█▊        | 90/499 [10:51<19:26,  2.85s/it]"
     ]
    },
    {
     "name": "stdout",
     "output_type": "stream",
     "text": [
      "https://reviews.webmd.com/drugs/drugreview-15764-aldoril-25-tablet\n"
     ]
    },
    {
     "name": "stderr",
     "output_type": "stream",
     "text": [
      " 18%|█▊        | 91/499 [10:53<17:07,  2.52s/it]"
     ]
    },
    {
     "name": "stdout",
     "output_type": "stream",
     "text": [
      "https://reviews.webmd.com/drugs/drugreview-157991-perindopril-arginin-amlodipine-tablet\n"
     ]
    },
    {
     "name": "stderr",
     "output_type": "stream",
     "text": [
      "\n",
      "  0%|          | 0/1 [00:00<?, ?it/s]\u001b[A\n",
      "100%|██████████| 1/1 [00:00<00:00,  1.08it/s]\n",
      " 19%|█▊        | 93/499 [10:57<14:17,  2.11s/it]"
     ]
    },
    {
     "name": "stdout",
     "output_type": "stream",
     "text": [
      "skipping https://reviews.webmd.com/drugs/drugreview-159107-metoprolol-su-hydrochlorothiaz-tablet-er-24-hr: page not found\n"
     ]
    },
    {
     "name": "stderr",
     "output_type": "stream",
     "text": [
      " 19%|█▉        | 94/499 [10:58<12:26,  1.84s/it]"
     ]
    },
    {
     "name": "stdout",
     "output_type": "stream",
     "text": [
      "skipping https://reviews.webmd.com/drugs/drugreview-159118-dutoprol: page not found\n",
      "https://reviews.webmd.com/drugs/drugreview-159143-azilsartan-med-chlorthalidone-tablet\n"
     ]
    },
    {
     "name": "stderr",
     "output_type": "stream",
     "text": [
      "\n",
      "  0%|          | 0/1 [00:00<?, ?it/s]\u001b[A\n",
      "100%|██████████| 1/1 [00:00<00:00,  1.83it/s]\n",
      " 19%|█▉        | 95/499 [11:00<13:15,  1.97s/it]"
     ]
    },
    {
     "name": "stdout",
     "output_type": "stream",
     "text": [
      "https://reviews.webmd.com/drugs/drugreview-159144-edarbyclor\n"
     ]
    },
    {
     "name": "stderr",
     "output_type": "stream",
     "text": [
      "\n",
      "  0%|          | 0/4 [00:00<?, ?it/s]\u001b[A\n",
      " 25%|██▌       | 1/4 [00:00<00:02,  1.42it/s]\u001b[A\n",
      " 50%|█████     | 2/4 [00:02<00:02,  1.05s/it]\u001b[A\n",
      " 75%|███████▌  | 3/4 [00:03<00:01,  1.14s/it]\u001b[A\n",
      "100%|██████████| 4/4 [00:04<00:00,  1.21s/it]\n",
      " 19%|█▉        | 96/499 [11:07<23:06,  3.44s/it]"
     ]
    },
    {
     "name": "stdout",
     "output_type": "stream",
     "text": [
      "https://reviews.webmd.com/drugs/drugreview-16047-maxzide-25-mg\n"
     ]
    },
    {
     "name": "stderr",
     "output_type": "stream",
     "text": [
      "\n",
      "  0%|          | 0/2 [00:00<?, ?it/s]\u001b[A\n",
      " 50%|█████     | 1/2 [00:00<00:00,  1.34it/s]\u001b[A\n",
      "100%|██████████| 2/2 [00:01<00:00,  1.06it/s]\n",
      " 20%|█▉        | 98/499 [11:12<19:16,  2.88s/it]"
     ]
    },
    {
     "name": "stdout",
     "output_type": "stream",
     "text": [
      "skipping https://reviews.webmd.com/drugs/drugreview-16147-lexxel-tablet-er: page not found\n"
     ]
    },
    {
     "name": "stderr",
     "output_type": "stream",
     "text": [
      " 20%|█▉        | 99/499 [11:14<15:59,  2.40s/it]"
     ]
    },
    {
     "name": "stdout",
     "output_type": "stream",
     "text": [
      "skipping https://reviews.webmd.com/drugs/drugreview-161550-nicardipine-in-5-dextrose-solution: page not found\n"
     ]
    },
    {
     "name": "stderr",
     "output_type": "stream",
     "text": [
      " 20%|██        | 100/499 [11:15<13:29,  2.03s/it]"
     ]
    },
    {
     "name": "stdout",
     "output_type": "stream",
     "text": [
      "skipping https://reviews.webmd.com/drugs/drugreview-16164-aldoclor-tablet: page not found\n",
      "https://reviews.webmd.com/drugs/drugreview-16165-prinzide-tablet\n"
     ]
    },
    {
     "name": "stderr",
     "output_type": "stream",
     "text": [
      "\n",
      "  0%|          | 0/2 [00:00<?, ?it/s]\u001b[A\n",
      " 50%|█████     | 1/2 [00:00<00:00,  1.16it/s]\u001b[A\n",
      "100%|██████████| 2/2 [00:01<00:00,  1.05it/s]\n",
      " 20%|██        | 101/499 [11:19<17:12,  2.59s/it]"
     ]
    },
    {
     "name": "stdout",
     "output_type": "stream",
     "text": [
      "https://reviews.webmd.com/drugs/drugreview-16167-l-dopres-hydrochlorothiazide-tablet\n"
     ]
    },
    {
     "name": "stderr",
     "output_type": "stream",
     "text": [
      " 21%|██        | 103/499 [11:22<13:19,  2.02s/it]"
     ]
    },
    {
     "name": "stdout",
     "output_type": "stream",
     "text": [
      "skipping https://reviews.webmd.com/drugs/drugreview-16168-minizide-capsule: page not found\n",
      "https://reviews.webmd.com/drugs/drugreview-16169-lotensin-hct\n"
     ]
    },
    {
     "name": "stderr",
     "output_type": "stream",
     "text": [
      "\n",
      "  0%|          | 0/2 [00:00<?, ?it/s]\u001b[A\n",
      " 50%|█████     | 1/2 [00:00<00:00,  1.33it/s]\u001b[A\n",
      "100%|██████████| 2/2 [00:01<00:00,  1.11it/s]\n",
      " 21%|██        | 104/499 [11:26<17:43,  2.69s/it]"
     ]
    },
    {
     "name": "stdout",
     "output_type": "stream",
     "text": [
      "https://reviews.webmd.com/drugs/drugreview-16188-lotrel\n"
     ]
    },
    {
     "name": "stderr",
     "output_type": "stream",
     "text": [
      "\n",
      "  0%|          | 0/12 [00:00<?, ?it/s]\u001b[A\n",
      "  8%|▊         | 1/12 [00:00<00:08,  1.34it/s]\u001b[A\n",
      " 17%|█▋        | 2/12 [00:01<00:09,  1.01it/s]\u001b[A\n",
      " 25%|██▌       | 3/12 [00:03<00:11,  1.24s/it]\u001b[A\n",
      " 33%|███▎      | 4/12 [00:04<00:10,  1.27s/it]\u001b[A\n",
      " 42%|████▏     | 5/12 [00:06<00:09,  1.31s/it]\u001b[A\n",
      " 50%|█████     | 6/12 [00:07<00:07,  1.30s/it]\u001b[A\n",
      " 58%|█████▊    | 7/12 [00:08<00:06,  1.27s/it]\u001b[A\n",
      " 67%|██████▋   | 8/12 [00:09<00:05,  1.27s/it]\u001b[A\n",
      " 75%|███████▌  | 9/12 [00:11<00:04,  1.35s/it]\u001b[A\n",
      " 83%|████████▎ | 10/12 [00:12<00:02,  1.31s/it]\u001b[A\n",
      " 92%|█████████▏| 11/12 [00:14<00:01,  1.33s/it]\u001b[A\n",
      "100%|██████████| 12/12 [00:14<00:00,  1.25s/it]\n",
      " 21%|██        | 105/499 [11:43<46:05,  7.02s/it]"
     ]
    },
    {
     "name": "stdout",
     "output_type": "stream",
     "text": [
      "https://reviews.webmd.com/drugs/drugreview-16200-ziac\n"
     ]
    },
    {
     "name": "stderr",
     "output_type": "stream",
     "text": [
      "\n",
      "  0%|          | 0/4 [00:00<?, ?it/s]\u001b[A\n",
      " 25%|██▌       | 1/4 [00:00<00:02,  1.18it/s]\u001b[A\n",
      " 50%|█████     | 2/4 [00:02<00:02,  1.26s/it]\u001b[A\n",
      " 75%|███████▌  | 3/4 [00:03<00:01,  1.28s/it]\u001b[A\n",
      "100%|██████████| 4/4 [00:05<00:00,  1.25s/it]\n",
      " 21%|██        | 106/499 [11:50<45:50,  7.00s/it]"
     ]
    },
    {
     "name": "stdout",
     "output_type": "stream",
     "text": [
      "https://reviews.webmd.com/drugs/drugreview-162073-kapvay-dose-pack-tablet-er-tablet-pack\n"
     ]
    },
    {
     "name": "stderr",
     "output_type": "stream",
     "text": [
      " 21%|██▏       | 107/499 [11:52<35:27,  5.43s/it]"
     ]
    },
    {
     "name": "stdout",
     "output_type": "stream",
     "text": [
      "https://reviews.webmd.com/drugs/drugreview-16209-tarka\n"
     ]
    },
    {
     "name": "stderr",
     "output_type": "stream",
     "text": [
      "\n",
      "  0%|          | 0/2 [00:00<?, ?it/s]\u001b[A\n",
      " 50%|█████     | 1/2 [00:00<00:00,  1.27it/s]\u001b[A\n",
      "100%|██████████| 2/2 [00:02<00:00,  1.05s/it]\n",
      " 22%|██▏       | 108/499 [11:56<32:59,  5.06s/it]"
     ]
    },
    {
     "name": "stdout",
     "output_type": "stream",
     "text": [
      "https://reviews.webmd.com/drugs/drugreview-16214-tenoretic-50\n"
     ]
    },
    {
     "name": "stderr",
     "output_type": "stream",
     "text": [
      "\n",
      "  0%|          | 0/1 [00:00<?, ?it/s]\u001b[A\n",
      "100%|██████████| 1/1 [00:00<00:00,  1.57it/s]\n",
      " 22%|██▏       | 109/499 [11:59<28:48,  4.43s/it]"
     ]
    },
    {
     "name": "stdout",
     "output_type": "stream",
     "text": [
      "https://reviews.webmd.com/drugs/drugreview-1634-coreg\n"
     ]
    },
    {
     "name": "stderr",
     "output_type": "stream",
     "text": [
      "\n",
      "  0%|          | 0/17 [00:00<?, ?it/s]\u001b[A\n",
      "  6%|▌         | 1/17 [00:00<00:15,  1.01it/s]\u001b[A\n",
      " 12%|█▏        | 2/17 [00:02<00:16,  1.12s/it]\u001b[A\n",
      " 18%|█▊        | 3/17 [00:03<00:16,  1.18s/it]\u001b[A\n",
      " 24%|██▎       | 4/17 [00:04<00:17,  1.32s/it]\u001b[A\n",
      " 29%|██▉       | 5/17 [00:06<00:15,  1.30s/it]\u001b[A\n",
      " 35%|███▌      | 6/17 [00:08<00:18,  1.64s/it]\u001b[A\n",
      " 41%|████      | 7/17 [00:10<00:15,  1.58s/it]\u001b[A\n",
      " 47%|████▋     | 8/17 [00:11<00:13,  1.52s/it]\u001b[A\n",
      " 53%|█████▎    | 9/17 [00:12<00:11,  1.44s/it]\u001b[A\n",
      " 59%|█████▉    | 10/17 [00:14<00:10,  1.51s/it]\u001b[A\n",
      " 65%|██████▍   | 11/17 [00:15<00:08,  1.46s/it]\u001b[A\n",
      " 71%|███████   | 12/17 [00:17<00:07,  1.49s/it]\u001b[A\n",
      " 76%|███████▋  | 13/17 [00:18<00:05,  1.40s/it]\u001b[A\n",
      " 82%|████████▏ | 14/17 [00:19<00:04,  1.38s/it]\u001b[A\n",
      " 88%|████████▊ | 15/17 [00:21<00:02,  1.36s/it]\u001b[A\n",
      " 94%|█████████▍| 16/17 [00:22<00:01,  1.41s/it]\u001b[A\n",
      "100%|██████████| 17/17 [00:23<00:00,  1.39s/it]\n",
      " 22%|██▏       | 110/499 [12:25<1:09:55, 10.79s/it]"
     ]
    },
    {
     "name": "stdout",
     "output_type": "stream",
     "text": [
      "https://reviews.webmd.com/drugs/drugreview-164098-vecamyl\n"
     ]
    },
    {
     "name": "stderr",
     "output_type": "stream",
     "text": [
      "\n",
      "  0%|          | 0/1 [00:00<?, ?it/s]\u001b[A\n",
      "100%|██████████| 1/1 [00:00<00:00,  1.89it/s]\n",
      " 22%|██▏       | 111/499 [12:27<52:56,  8.19s/it]  "
     ]
    },
    {
     "name": "stdout",
     "output_type": "stream",
     "text": [
      "https://reviews.webmd.com/drugs/drugreview-164927-epaned\n"
     ]
    },
    {
     "name": "stderr",
     "output_type": "stream",
     "text": [
      " 23%|██▎       | 113/499 [12:29<30:08,  4.69s/it]"
     ]
    },
    {
     "name": "stdout",
     "output_type": "stream",
     "text": [
      "skipping https://reviews.webmd.com/drugs/drugreview-165673-cardene-i-v-solution-piggyback: page not found\n",
      "https://reviews.webmd.com/drugs/drugreview-165806-inderal-xl\n"
     ]
    },
    {
     "name": "stderr",
     "output_type": "stream",
     "text": [
      "\n",
      "  0%|          | 0/1 [00:00<?, ?it/s]\u001b[A\n",
      "100%|██████████| 1/1 [00:00<00:00,  1.94it/s]\n",
      " 23%|██▎       | 114/499 [12:32<25:20,  3.95s/it]"
     ]
    },
    {
     "name": "stdout",
     "output_type": "stream",
     "text": [
      "https://reviews.webmd.com/drugs/drugreview-16595-atacand\n"
     ]
    },
    {
     "name": "stderr",
     "output_type": "stream",
     "text": [
      "\n",
      "  0%|          | 0/6 [00:00<?, ?it/s]\u001b[A\n",
      " 17%|█▋        | 1/6 [00:00<00:03,  1.26it/s]\u001b[A\n",
      " 33%|███▎      | 2/6 [00:02<00:05,  1.29s/it]\u001b[A\n",
      " 50%|█████     | 3/6 [00:03<00:03,  1.28s/it]\u001b[A\n",
      " 67%|██████▋   | 4/6 [00:05<00:02,  1.30s/it]\u001b[A\n",
      " 83%|████████▎ | 5/6 [00:06<00:01,  1.28s/it]\u001b[A\n",
      "100%|██████████| 6/6 [00:07<00:00,  1.24s/it]\n",
      " 23%|██▎       | 115/499 [12:41<36:00,  5.63s/it]"
     ]
    },
    {
     "name": "stdout",
     "output_type": "stream",
     "text": [
      "https://reviews.webmd.com/drugs/drugreview-168-verapamil-hcl-cr-capsule-24-hr-capsule-er-hr\n"
     ]
    },
    {
     "name": "stderr",
     "output_type": "stream",
     "text": [
      " 23%|██▎       | 116/499 [12:44<29:32,  4.63s/it]"
     ]
    },
    {
     "name": "stdout",
     "output_type": "stream",
     "text": [
      "https://reviews.webmd.com/drugs/drugreview-168-verapamil-hcl-cr-tablet-er\n"
     ]
    },
    {
     "name": "stderr",
     "output_type": "stream",
     "text": [
      " 23%|██▎       | 117/499 [12:44<22:14,  3.49s/it]"
     ]
    },
    {
     "name": "stdout",
     "output_type": "stream",
     "text": [
      "https://reviews.webmd.com/drugs/drugreview-16800-telmisartan\n"
     ]
    },
    {
     "name": "stderr",
     "output_type": "stream",
     "text": [
      "\n",
      "  0%|          | 0/3 [00:00<?, ?it/s]\u001b[A\n",
      " 33%|███▎      | 1/3 [00:01<00:02,  1.12s/it]\u001b[A\n",
      " 67%|██████▋   | 2/3 [00:02<00:01,  1.23s/it]\u001b[A\n",
      "100%|██████████| 3/3 [00:03<00:00,  1.16s/it]\n",
      " 24%|██▎       | 118/499 [12:50<25:46,  4.06s/it]"
     ]
    },
    {
     "name": "stdout",
     "output_type": "stream",
     "text": [
      "https://reviews.webmd.com/drugs/drugreview-16806-micardis\n"
     ]
    },
    {
     "name": "stderr",
     "output_type": "stream",
     "text": [
      "\n",
      "  0%|          | 0/9 [00:00<?, ?it/s]\u001b[A\n",
      " 11%|█         | 1/9 [00:00<00:06,  1.29it/s]\u001b[A\n",
      " 22%|██▏       | 2/9 [00:02<00:07,  1.13s/it]\u001b[A\n",
      " 33%|███▎      | 3/9 [00:03<00:07,  1.30s/it]\u001b[A\n",
      " 44%|████▍     | 4/9 [00:04<00:06,  1.29s/it]\u001b[A\n",
      " 56%|█████▌    | 5/9 [00:06<00:05,  1.32s/it]\u001b[A\n",
      " 67%|██████▋   | 6/9 [00:07<00:04,  1.34s/it]\u001b[A\n",
      " 78%|███████▊  | 7/9 [00:08<00:02,  1.31s/it]\u001b[A\n",
      " 89%|████████▉ | 8/9 [00:10<00:01,  1.38s/it]\u001b[A\n",
      "100%|██████████| 9/9 [00:11<00:00,  1.31s/it]\n",
      " 24%|██▍       | 119/499 [13:03<44:08,  6.97s/it]"
     ]
    },
    {
     "name": "stdout",
     "output_type": "stream",
     "text": [
      "https://reviews.webmd.com/drugs/drugreview-169332-prestalia\n"
     ]
    },
    {
     "name": "stderr",
     "output_type": "stream",
     "text": [
      " 24%|██▍       | 120/499 [13:05<34:11,  5.41s/it]"
     ]
    },
    {
     "name": "stdout",
     "output_type": "stream",
     "text": [
      "https://reviews.webmd.com/drugs/drugreview-16976-verelan-pm\n"
     ]
    },
    {
     "name": "stderr",
     "output_type": "stream",
     "text": [
      "\n",
      "  0%|          | 0/1 [00:00<?, ?it/s]\u001b[A\n",
      "100%|██████████| 1/1 [00:00<00:00,  1.76it/s]\n",
      " 24%|██▍       | 122/499 [13:09<21:55,  3.49s/it]"
     ]
    },
    {
     "name": "stdout",
     "output_type": "stream",
     "text": [
      "skipping https://reviews.webmd.com/drugs/drugreview-171994-nebivolol-valsartan-tablet: page not found\n",
      "https://reviews.webmd.com/drugs/drugreview-17200-irbesartan-hydrochlorothiazide\n"
     ]
    },
    {
     "name": "stderr",
     "output_type": "stream",
     "text": [
      "\n",
      "  0%|          | 0/2 [00:00<?, ?it/s]\u001b[A\n",
      " 50%|█████     | 1/2 [00:00<00:00,  1.33it/s]\u001b[A\n",
      "100%|██████████| 2/2 [00:01<00:00,  1.05it/s]\n",
      " 25%|██▍       | 124/499 [13:14<17:45,  2.84s/it]"
     ]
    },
    {
     "name": "stdout",
     "output_type": "stream",
     "text": [
      "skipping https://reviews.webmd.com/drugs/drugreview-172271-byvalson-tablet: page not found\n",
      "https://reviews.webmd.com/drugs/drugreview-172307-qbrelis\n"
     ]
    },
    {
     "name": "stderr",
     "output_type": "stream",
     "text": [
      " 25%|██▌       | 125/499 [13:16<15:54,  2.55s/it]"
     ]
    },
    {
     "name": "stdout",
     "output_type": "stream",
     "text": [
      "https://reviews.webmd.com/drugs/drugreview-174059-carospir\n"
     ]
    },
    {
     "name": "stderr",
     "output_type": "stream",
     "text": [
      " 25%|██▌       | 126/499 [13:17<14:27,  2.33s/it]"
     ]
    },
    {
     "name": "stdout",
     "output_type": "stream",
     "text": [
      "https://reviews.webmd.com/drugs/drugreview-17555-eprosartan-mesylate\n"
     ]
    },
    {
     "name": "stderr",
     "output_type": "stream",
     "text": [
      "\n",
      "  0%|          | 0/1 [00:00<?, ?it/s]\u001b[A\n",
      "100%|██████████| 1/1 [00:00<00:00,  1.76it/s]\n",
      " 25%|██▌       | 127/499 [13:20<15:12,  2.45s/it]"
     ]
    },
    {
     "name": "stdout",
     "output_type": "stream",
     "text": [
      "https://reviews.webmd.com/drugs/drugreview-175675-kapspargo-sprinkle\n"
     ]
    },
    {
     "name": "stderr",
     "output_type": "stream",
     "text": [
      " 26%|██▌       | 128/499 [13:22<13:51,  2.24s/it]"
     ]
    },
    {
     "name": "stdout",
     "output_type": "stream",
     "text": [
      "https://reviews.webmd.com/drugs/drugreview-17572-teveten-tablet\n"
     ]
    },
    {
     "name": "stderr",
     "output_type": "stream",
     "text": [
      "\n",
      "  0%|          | 0/2 [00:00<?, ?it/s]\u001b[A\n",
      " 50%|█████     | 1/2 [00:00<00:00,  1.19it/s]\u001b[A\n",
      "100%|██████████| 2/2 [00:01<00:00,  1.07it/s]\n",
      " 26%|██▌       | 129/499 [13:26<17:24,  2.82s/it]"
     ]
    },
    {
     "name": "stdout",
     "output_type": "stream",
     "text": [
      "https://reviews.webmd.com/drugs/drugreview-177547-amlodipine-benzoate-suspension\n"
     ]
    },
    {
     "name": "stderr",
     "output_type": "stream",
     "text": [
      " 26%|██▌       | 130/499 [13:28<15:19,  2.49s/it]"
     ]
    },
    {
     "name": "stdout",
     "output_type": "stream",
     "text": [
      "https://reviews.webmd.com/drugs/drugreview-178341-tiadylt-er\n"
     ]
    },
    {
     "name": "stderr",
     "output_type": "stream",
     "text": [
      " 26%|██▋       | 131/499 [13:30<14:42,  2.40s/it]"
     ]
    },
    {
     "name": "stdout",
     "output_type": "stream",
     "text": [
      "https://reviews.webmd.com/drugs/drugreview-1785-corgard\n"
     ]
    },
    {
     "name": "stderr",
     "output_type": "stream",
     "text": [
      "\n",
      "  0%|          | 0/1 [00:00<?, ?it/s]\u001b[A\n",
      "100%|██████████| 1/1 [00:00<00:00,  1.20it/s]\n",
      " 26%|██▋       | 132/499 [13:33<15:21,  2.51s/it]"
     ]
    },
    {
     "name": "stdout",
     "output_type": "stream",
     "text": [
      "https://reviews.webmd.com/drugs/drugreview-178575-levamlodipine-maleate\n"
     ]
    },
    {
     "name": "stderr",
     "output_type": "stream",
     "text": [
      " 27%|██▋       | 133/499 [13:34<13:52,  2.28s/it]"
     ]
    },
    {
     "name": "stdout",
     "output_type": "stream",
     "text": [
      "https://reviews.webmd.com/drugs/drugreview-180121-conjupri\n"
     ]
    },
    {
     "name": "stderr",
     "output_type": "stream",
     "text": [
      " 27%|██▋       | 135/499 [13:37<11:08,  1.84s/it]"
     ]
    },
    {
     "name": "stdout",
     "output_type": "stream",
     "text": [
      "skipping https://reviews.webmd.com/drugs/drugreview-180390-labetalol-hcl-nacl-plastic-bag-injection: page not found\n"
     ]
    },
    {
     "name": "stderr",
     "output_type": "stream",
     "text": [
      " 27%|██▋       | 136/499 [13:38<09:37,  1.59s/it]"
     ]
    },
    {
     "name": "stdout",
     "output_type": "stream",
     "text": [
      "skipping https://reviews.webmd.com/drugs/drugreview-180397-labetalol-hcl-dextrose-plastic-bag-injection: page not found\n",
      "https://reviews.webmd.com/drugs/drugreview-1806-dynacirc-capsule\n"
     ]
    },
    {
     "name": "stderr",
     "output_type": "stream",
     "text": [
      "\n",
      "  0%|          | 0/1 [00:00<?, ?it/s]\u001b[A\n",
      "100%|██████████| 1/1 [00:01<00:00,  1.19s/it]\n",
      " 27%|██▋       | 137/499 [13:42<12:39,  2.10s/it]"
     ]
    },
    {
     "name": "stdout",
     "output_type": "stream",
     "text": [
      "https://reviews.webmd.com/drugs/drugreview-1813-minipress\n"
     ]
    },
    {
     "name": "stderr",
     "output_type": "stream",
     "text": [
      "\n",
      "  0%|          | 0/2 [00:00<?, ?it/s]\u001b[A\n",
      " 50%|█████     | 1/2 [00:01<00:01,  1.35s/it]\u001b[A\n",
      "100%|██████████| 2/2 [00:02<00:00,  1.22s/it]\n",
      " 28%|██▊       | 138/499 [13:46<16:47,  2.79s/it]"
     ]
    },
    {
     "name": "stdout",
     "output_type": "stream",
     "text": [
      "https://reviews.webmd.com/drugs/drugreview-18136-monopril-hct-tablet\n"
     ]
    },
    {
     "name": "stderr",
     "output_type": "stream",
     "text": [
      "\n",
      "  0%|          | 0/1 [00:00<?, ?it/s]\u001b[A\n",
      "100%|██████████| 1/1 [00:00<00:00,  1.88it/s]\n",
      " 28%|██▊       | 139/499 [13:49<16:03,  2.68s/it]"
     ]
    },
    {
     "name": "stdout",
     "output_type": "stream",
     "text": [
      "https://reviews.webmd.com/drugs/drugreview-1814-moduretic-tablet\n"
     ]
    },
    {
     "name": "stderr",
     "output_type": "stream",
     "text": [
      "\n",
      "  0%|          | 0/1 [00:00<?, ?it/s]\u001b[A\n",
      "100%|██████████| 1/1 [00:00<00:00,  1.54it/s]\n",
      " 28%|██▊       | 140/499 [13:51<15:44,  2.63s/it]"
     ]
    },
    {
     "name": "stdout",
     "output_type": "stream",
     "text": [
      "https://reviews.webmd.com/drugs/drugreview-18141-accuretic\n"
     ]
    },
    {
     "name": "stderr",
     "output_type": "stream",
     "text": [
      "\n",
      "  0%|          | 0/1 [00:00<?, ?it/s]\u001b[A\n",
      "100%|██████████| 1/1 [00:00<00:00,  1.12it/s]\n",
      " 28%|██▊       | 142/499 [13:55<12:59,  2.18s/it]"
     ]
    },
    {
     "name": "stdout",
     "output_type": "stream",
     "text": [
      "skipping https://reviews.webmd.com/drugs/drugreview-188396-aprocitentan-tablet: page not found\n"
     ]
    },
    {
     "name": "stderr",
     "output_type": "stream",
     "text": [
      " 29%|██▊       | 143/499 [13:56<10:44,  1.81s/it]"
     ]
    },
    {
     "name": "stdout",
     "output_type": "stream",
     "text": [
      "skipping https://reviews.webmd.com/drugs/drugreview-188607-tryvio: page not found\n"
     ]
    },
    {
     "name": "stderr",
     "output_type": "stream",
     "text": [
      " 29%|██▉       | 144/499 [13:57<09:30,  1.61s/it]"
     ]
    },
    {
     "name": "stdout",
     "output_type": "stream",
     "text": [
      "skipping https://reviews.webmd.com/drugs/drugreview-19007-hydralazine-plus-50-50-capsule: page not found\n"
     ]
    },
    {
     "name": "stderr",
     "output_type": "stream",
     "text": [
      " 29%|██▉       | 145/499 [13:58<08:47,  1.49s/it]"
     ]
    },
    {
     "name": "stdout",
     "output_type": "stream",
     "text": [
      "skipping https://reviews.webmd.com/drugs/drugreview-19036-hhr-tablet: page not found\n",
      "https://reviews.webmd.com/drugs/drugreview-1909-amiloride-hydrochlorothiazide\n"
     ]
    },
    {
     "name": "stderr",
     "output_type": "stream",
     "text": [
      "\n",
      "  0%|          | 0/1 [00:00<?, ?it/s]\u001b[A\n",
      "100%|██████████| 1/1 [00:00<00:00,  1.57it/s]\n",
      " 29%|██▉       | 147/499 [14:02<09:01,  1.54s/it]"
     ]
    },
    {
     "name": "stdout",
     "output_type": "stream",
     "text": [
      "skipping https://reviews.webmd.com/drugs/drugreview-19158-ser-ap-es-tablet: page not found\n",
      "https://reviews.webmd.com/drugs/drugreview-19479-inversine-tablet\n"
     ]
    },
    {
     "name": "stderr",
     "output_type": "stream",
     "text": [
      " 30%|██▉       | 148/499 [14:03<08:58,  1.54s/it]"
     ]
    },
    {
     "name": "stdout",
     "output_type": "stream",
     "text": [
      "https://reviews.webmd.com/drugs/drugreview-1955-atenolol-chlorthalidone\n"
     ]
    },
    {
     "name": "stderr",
     "output_type": "stream",
     "text": [
      "\n",
      "  0%|          | 0/4 [00:00<?, ?it/s]\u001b[A\n",
      " 25%|██▌       | 1/4 [00:00<00:02,  1.32it/s]\u001b[A\n",
      " 50%|█████     | 2/4 [00:02<00:02,  1.14s/it]\u001b[A\n",
      " 75%|███████▌  | 3/4 [00:03<00:01,  1.24s/it]\u001b[A\n",
      "100%|██████████| 4/4 [00:04<00:00,  1.22s/it]\n",
      " 30%|██▉       | 149/499 [14:10<18:52,  3.24s/it]"
     ]
    },
    {
     "name": "stdout",
     "output_type": "stream",
     "text": [
      "https://reviews.webmd.com/drugs/drugreview-19751-nifedipine-cr-osmotic-tablet-push-tablet-er-push\n"
     ]
    },
    {
     "name": "stderr",
     "output_type": "stream",
     "text": [
      " 30%|███       | 150/499 [14:12<16:03,  2.76s/it]"
     ]
    },
    {
     "name": "stdout",
     "output_type": "stream",
     "text": [
      "https://reviews.webmd.com/drugs/drugreview-19784-diltiazem-cd-capsule-er\n"
     ]
    },
    {
     "name": "stderr",
     "output_type": "stream",
     "text": [
      " 30%|███       | 151/499 [14:14<15:06,  2.60s/it]"
     ]
    },
    {
     "name": "stdout",
     "output_type": "stream",
     "text": [
      "https://reviews.webmd.com/drugs/drugreview-20226-nifedical-xl-tablet-er-24-hr\n"
     ]
    },
    {
     "name": "stderr",
     "output_type": "stream",
     "text": [
      "\n",
      "  0%|          | 0/3 [00:00<?, ?it/s]\u001b[A\n",
      " 33%|███▎      | 1/3 [00:00<00:01,  1.42it/s]\u001b[A\n",
      " 67%|██████▋   | 2/3 [00:02<00:01,  1.22s/it]\u001b[A\n",
      "100%|██████████| 3/3 [00:03<00:00,  1.15s/it]\n",
      " 30%|███       | 152/499 [14:20<20:05,  3.47s/it]"
     ]
    },
    {
     "name": "stdout",
     "output_type": "stream",
     "text": [
      "https://reviews.webmd.com/drugs/drugreview-20317-telmisartan-hydrochlorothiazid\n"
     ]
    },
    {
     "name": "stderr",
     "output_type": "stream",
     "text": [
      "\n",
      "  0%|          | 0/1 [00:00<?, ?it/s]\u001b[A\n",
      "100%|██████████| 1/1 [00:00<00:00,  1.03it/s]\n",
      " 31%|███       | 153/499 [14:23<19:19,  3.35s/it]"
     ]
    },
    {
     "name": "stdout",
     "output_type": "stream",
     "text": [
      "https://reviews.webmd.com/drugs/drugreview-20318-micardis-hct\n"
     ]
    },
    {
     "name": "stderr",
     "output_type": "stream",
     "text": [
      "\n",
      "  0%|          | 0/8 [00:00<?, ?it/s]\u001b[A\n",
      " 12%|█▎        | 1/8 [00:00<00:05,  1.29it/s]\u001b[A\n",
      " 25%|██▌       | 2/8 [00:01<00:05,  1.06it/s]\u001b[A\n",
      " 38%|███▊      | 3/8 [00:03<00:05,  1.09s/it]\u001b[A\n",
      " 50%|█████     | 4/8 [00:04<00:04,  1.14s/it]\u001b[A\n",
      " 62%|██████▎   | 5/8 [00:05<00:03,  1.27s/it]\u001b[A\n",
      " 75%|███████▌  | 6/8 [00:07<00:02,  1.24s/it]\u001b[A\n",
      " 88%|████████▊ | 7/8 [00:08<00:01,  1.26s/it]\u001b[A\n",
      "100%|██████████| 8/8 [00:09<00:00,  1.18s/it]\n",
      " 31%|███       | 154/499 [14:34<33:09,  5.77s/it]"
     ]
    },
    {
     "name": "stdout",
     "output_type": "stream",
     "text": [
      "https://reviews.webmd.com/drugs/drugreview-2069-benazepril-hydrochlorothiazide\n"
     ]
    },
    {
     "name": "stderr",
     "output_type": "stream",
     "text": [
      "\n",
      "  0%|          | 0/3 [00:00<?, ?it/s]\u001b[A\n",
      " 33%|███▎      | 1/3 [00:00<00:01,  1.37it/s]\u001b[A\n",
      " 67%|██████▋   | 2/3 [00:02<00:01,  1.35s/it]\u001b[A\n",
      "100%|██████████| 3/3 [00:03<00:00,  1.27s/it]\n",
      " 31%|███       | 155/499 [14:40<33:24,  5.83s/it]"
     ]
    },
    {
     "name": "stdout",
     "output_type": "stream",
     "text": [
      "https://reviews.webmd.com/drugs/drugreview-2077-bisoprolol-hydrochlorothiazide\n"
     ]
    },
    {
     "name": "stderr",
     "output_type": "stream",
     "text": [
      "\n",
      "  0%|          | 0/2 [00:00<?, ?it/s]\u001b[A\n",
      " 50%|█████     | 1/2 [00:00<00:00,  1.27it/s]\u001b[A\n",
      "100%|██████████| 2/2 [00:01<00:00,  1.10it/s]\n",
      " 31%|███▏      | 156/499 [14:44<29:44,  5.20s/it]"
     ]
    },
    {
     "name": "stdout",
     "output_type": "stream",
     "text": [
      "https://reviews.webmd.com/drugs/drugreview-20938-diltiazem-hcl-er-capsule-12-hr-capsule-hr\n"
     ]
    },
    {
     "name": "stderr",
     "output_type": "stream",
     "text": [
      " 31%|███▏      | 157/499 [14:46<24:12,  4.25s/it]"
     ]
    },
    {
     "name": "stdout",
     "output_type": "stream",
     "text": [
      "https://reviews.webmd.com/drugs/drugreview-21133-dilt-xr-capsule-degradable-capsule-er-degradable\n"
     ]
    },
    {
     "name": "stderr",
     "output_type": "stream",
     "text": [
      " 32%|███▏      | 158/499 [14:48<20:05,  3.54s/it]"
     ]
    },
    {
     "name": "stdout",
     "output_type": "stream",
     "text": [
      "https://reviews.webmd.com/drugs/drugreview-2119-captopril-hctz-tablet\n"
     ]
    },
    {
     "name": "stderr",
     "output_type": "stream",
     "text": [
      " 32%|███▏      | 160/499 [14:51<13:50,  2.45s/it]"
     ]
    },
    {
     "name": "stdout",
     "output_type": "stream",
     "text": [
      "skipping https://reviews.webmd.com/drugs/drugreview-2123-cardene-i-v-ampul: page not found\n",
      "https://reviews.webmd.com/drugs/drugreview-21422-spironolactone-hctz-tablet\n"
     ]
    },
    {
     "name": "stderr",
     "output_type": "stream",
     "text": [
      " 32%|███▏      | 162/499 [14:54<10:36,  1.89s/it]"
     ]
    },
    {
     "name": "stdout",
     "output_type": "stream",
     "text": [
      "skipping https://reviews.webmd.com/drugs/drugreview-2228-clonidine-chlorthalidone-tablet: page not found\n"
     ]
    },
    {
     "name": "stderr",
     "output_type": "stream",
     "text": [
      " 33%|███▎      | 163/499 [14:55<09:11,  1.64s/it]"
     ]
    },
    {
     "name": "stdout",
     "output_type": "stream",
     "text": [
      "skipping https://reviews.webmd.com/drugs/drugreview-2329-sodium-diuril-vial: page not found\n"
     ]
    },
    {
     "name": "stderr",
     "output_type": "stream",
     "text": [
      " 33%|███▎      | 164/499 [14:56<08:45,  1.57s/it]"
     ]
    },
    {
     "name": "stdout",
     "output_type": "stream",
     "text": [
      "skipping https://reviews.webmd.com/drugs/drugreview-2352-dynacirc-cr-tablet-er-24-hr: page not found\n",
      "https://reviews.webmd.com/drugs/drugreview-2359-enalapril-hydrochlorothiazide\n"
     ]
    },
    {
     "name": "stderr",
     "output_type": "stream",
     "text": [
      "\n",
      "  0%|          | 0/1 [00:00<?, ?it/s]\u001b[A\n",
      "100%|██████████| 1/1 [00:00<00:00,  1.43it/s]\n",
      " 33%|███▎      | 165/499 [14:59<10:18,  1.85s/it]"
     ]
    },
    {
     "name": "stdout",
     "output_type": "stream",
     "text": [
      "https://reviews.webmd.com/drugs/drugreview-2447-fosinopril-hydrochlorothiazide\n"
     ]
    },
    {
     "name": "stderr",
     "output_type": "stream",
     "text": [
      "\n",
      "  0%|          | 0/1 [00:00<?, ?it/s]\u001b[A\n",
      "100%|██████████| 1/1 [00:00<00:00,  1.63it/s]\n",
      " 33%|███▎      | 167/499 [15:02<09:58,  1.80s/it]"
     ]
    },
    {
     "name": "stdout",
     "output_type": "stream",
     "text": [
      "skipping https://reviews.webmd.com/drugs/drugreview-2471-guanethidine-hydrochlorothiazd-tablet: page not found\n"
     ]
    },
    {
     "name": "stderr",
     "output_type": "stream",
     "text": [
      " 34%|███▎      | 168/499 [15:03<08:41,  1.58s/it]"
     ]
    },
    {
     "name": "stdout",
     "output_type": "stream",
     "text": [
      "skipping https://reviews.webmd.com/drugs/drugreview-2519-hydralazine-hydrochlorothiazid-capsule: page not found\n"
     ]
    },
    {
     "name": "stderr",
     "output_type": "stream",
     "text": [
      " 34%|███▍      | 169/499 [15:05<07:51,  1.43s/it]"
     ]
    },
    {
     "name": "stdout",
     "output_type": "stream",
     "text": [
      "skipping https://reviews.webmd.com/drugs/drugreview-2520-hydralazine-reserpin-hcthiazid-tablet: page not found\n",
      "https://reviews.webmd.com/drugs/drugreview-2521-hydro-par-tablet\n"
     ]
    },
    {
     "name": "stderr",
     "output_type": "stream",
     "text": [
      " 34%|███▍      | 170/499 [15:06<08:07,  1.48s/it]"
     ]
    },
    {
     "name": "stdout",
     "output_type": "stream",
     "text": [
      "https://reviews.webmd.com/drugs/drugreview-2622-lisinopril-hydrochlorothiazide\n"
     ]
    },
    {
     "name": "stderr",
     "output_type": "stream",
     "text": [
      "\n",
      "  0%|          | 0/26 [00:00<?, ?it/s]\u001b[A\n",
      "  4%|▍         | 1/26 [00:00<00:18,  1.32it/s]\u001b[A\n",
      "  8%|▊         | 2/26 [00:02<00:28,  1.17s/it]\u001b[A\n",
      " 12%|█▏        | 3/26 [00:03<00:29,  1.26s/it]\u001b[A\n",
      " 15%|█▌        | 4/26 [00:05<00:31,  1.44s/it]\u001b[A\n",
      " 19%|█▉        | 5/26 [00:06<00:29,  1.41s/it]\u001b[A\n",
      " 23%|██▎       | 6/26 [00:07<00:27,  1.38s/it]\u001b[A\n",
      " 27%|██▋       | 7/26 [00:09<00:26,  1.39s/it]\u001b[A\n",
      " 31%|███       | 8/26 [00:10<00:24,  1.39s/it]\u001b[A\n",
      " 35%|███▍      | 9/26 [00:11<00:22,  1.33s/it]\u001b[A\n",
      " 38%|███▊      | 10/26 [00:13<00:23,  1.46s/it]\u001b[A\n",
      " 42%|████▏     | 11/26 [00:15<00:21,  1.43s/it]\u001b[A\n",
      " 46%|████▌     | 12/26 [00:16<00:19,  1.41s/it]\u001b[A\n",
      " 50%|█████     | 13/26 [00:17<00:18,  1.44s/it]\u001b[A\n",
      " 54%|█████▍    | 14/26 [00:19<00:17,  1.50s/it]\u001b[A\n",
      " 58%|█████▊    | 15/26 [00:20<00:15,  1.42s/it]\u001b[A\n",
      " 62%|██████▏   | 16/26 [00:22<00:15,  1.50s/it]\u001b[A\n",
      " 65%|██████▌   | 17/26 [00:23<00:12,  1.42s/it]\u001b[A\n",
      " 69%|██████▉   | 18/26 [00:24<00:10,  1.36s/it]\u001b[A\n",
      " 73%|███████▎  | 19/26 [00:26<00:09,  1.34s/it]\u001b[A\n",
      " 77%|███████▋  | 20/26 [00:27<00:07,  1.31s/it]\u001b[A\n",
      " 81%|████████  | 21/26 [00:28<00:06,  1.28s/it]\u001b[A\n",
      " 85%|████████▍ | 22/26 [00:30<00:05,  1.33s/it]\u001b[A\n",
      " 88%|████████▊ | 23/26 [00:31<00:03,  1.26s/it]\u001b[A\n",
      " 92%|█████████▏| 24/26 [00:32<00:02,  1.24s/it]\u001b[A\n",
      " 96%|█████████▌| 25/26 [00:33<00:01,  1.22s/it]\u001b[A\n",
      "100%|██████████| 26/26 [00:35<00:00,  1.35s/it]\n",
      " 34%|███▍      | 171/499 [15:43<1:06:23, 12.15s/it]"
     ]
    },
    {
     "name": "stdout",
     "output_type": "stream",
     "text": [
      "https://reviews.webmd.com/drugs/drugreview-2626-losartan-hydrochlorothiazide\n"
     ]
    },
    {
     "name": "stderr",
     "output_type": "stream",
     "text": [
      "\n",
      "  0%|          | 0/10 [00:00<?, ?it/s]\u001b[A\n",
      " 10%|█         | 1/10 [00:00<00:06,  1.41it/s]\u001b[A\n",
      " 20%|██        | 2/10 [00:01<00:08,  1.03s/it]\u001b[A\n",
      " 30%|███       | 3/10 [00:03<00:08,  1.19s/it]\u001b[A\n",
      " 40%|████      | 4/10 [00:04<00:07,  1.21s/it]\u001b[A\n",
      " 50%|█████     | 5/10 [00:06<00:06,  1.30s/it]\u001b[A\n",
      " 60%|██████    | 6/10 [00:07<00:05,  1.31s/it]\u001b[A\n",
      " 70%|███████   | 7/10 [00:08<00:04,  1.37s/it]\u001b[A\n",
      " 80%|████████  | 8/10 [00:10<00:02,  1.34s/it]\u001b[A\n",
      " 90%|█████████ | 9/10 [00:11<00:01,  1.30s/it]\u001b[A\n",
      "100%|██████████| 10/10 [00:12<00:00,  1.25s/it]\n",
      " 35%|███▍      | 173/499 [15:59<51:02,  9.39s/it]  "
     ]
    },
    {
     "name": "stdout",
     "output_type": "stream",
     "text": [
      "skipping https://reviews.webmd.com/drugs/drugreview-2674-methyldopa-chlorothiazide-tablet: page not found\n",
      "https://reviews.webmd.com/drugs/drugreview-2675-methyldopa-hydrochlorothiazide\n"
     ]
    },
    {
     "name": "stderr",
     "output_type": "stream",
     "text": [
      "\n",
      "  0%|          | 0/1 [00:00<?, ?it/s]\u001b[A\n",
      "100%|██████████| 1/1 [00:00<00:00,  2.19it/s]\n",
      " 35%|███▍      | 174/499 [16:01<39:23,  7.27s/it]"
     ]
    },
    {
     "name": "stdout",
     "output_type": "stream",
     "text": [
      "https://reviews.webmd.com/drugs/drugreview-2676-metoprolol-hydrochlorothiazide\n"
     ]
    },
    {
     "name": "stderr",
     "output_type": "stream",
     "text": [
      "\n",
      "  0%|          | 0/1 [00:00<?, ?it/s]\u001b[A\n",
      "100%|██████████| 1/1 [00:01<00:00,  1.13s/it]\n",
      " 35%|███▌      | 176/499 [16:06<24:59,  4.64s/it]"
     ]
    },
    {
     "name": "stdout",
     "output_type": "stream",
     "text": [
      "skipping https://reviews.webmd.com/drugs/drugreview-2728-nadolol-bendroflumethiazide-tablet: page not found\n"
     ]
    },
    {
     "name": "stderr",
     "output_type": "stream",
     "text": [
      " 35%|███▌      | 177/499 [16:07<18:55,  3.53s/it]"
     ]
    },
    {
     "name": "stdout",
     "output_type": "stream",
     "text": [
      "skipping https://reviews.webmd.com/drugs/drugreview-2906-prazosin-polythiazide-capsule: page not found\n",
      "https://reviews.webmd.com/drugs/drugreview-2930-propranolol-hydrochlorothiazid\n"
     ]
    },
    {
     "name": "stderr",
     "output_type": "stream",
     "text": [
      "\n",
      "  0%|          | 0/1 [00:00<?, ?it/s]\u001b[A\n",
      "100%|██████████| 1/1 [00:00<00:00,  1.51it/s]\n",
      " 36%|███▌      | 178/499 [16:09<17:11,  3.21s/it]"
     ]
    },
    {
     "name": "stdout",
     "output_type": "stream",
     "text": [
      "https://reviews.webmd.com/drugs/drugreview-3043-spironolactone-hctz\n"
     ]
    },
    {
     "name": "stderr",
     "output_type": "stream",
     "text": [
      "\n",
      "  0%|          | 0/1 [00:00<?, ?it/s]\u001b[A\n",
      "100%|██████████| 1/1 [00:00<00:00,  1.26it/s]\n",
      " 36%|███▌      | 180/499 [16:13<12:59,  2.44s/it]"
     ]
    },
    {
     "name": "stdout",
     "output_type": "stream",
     "text": [
      "skipping https://reviews.webmd.com/drugs/drugreview-3132-timolol-hydrochlorothiazide-tablet: page not found\n",
      "https://reviews.webmd.com/drugs/drugreview-3154-triamterene-hydrochlorothiazid\n"
     ]
    },
    {
     "name": "stderr",
     "output_type": "stream",
     "text": [
      "\n",
      "  0%|          | 0/9 [00:00<?, ?it/s]\u001b[A\n",
      " 11%|█         | 1/9 [00:01<00:08,  1.10s/it]\u001b[A\n",
      " 22%|██▏       | 2/9 [00:02<00:08,  1.19s/it]\u001b[A\n",
      " 33%|███▎      | 3/9 [00:03<00:07,  1.28s/it]\u001b[A\n",
      " 44%|████▍     | 4/9 [00:04<00:06,  1.25s/it]\u001b[A\n",
      " 56%|█████▌    | 5/9 [00:06<00:05,  1.27s/it]\u001b[A\n",
      " 67%|██████▋   | 6/9 [00:07<00:03,  1.33s/it]\u001b[A\n",
      " 78%|███████▊  | 7/9 [00:09<00:02,  1.40s/it]\u001b[A\n",
      " 89%|████████▉ | 8/9 [00:10<00:01,  1.36s/it]\u001b[A\n",
      "100%|██████████| 9/9 [00:11<00:00,  1.29s/it]\n",
      " 36%|███▋      | 181/499 [16:26<30:23,  5.73s/it]"
     ]
    },
    {
     "name": "stdout",
     "output_type": "stream",
     "text": [
      "https://reviews.webmd.com/drugs/drugreview-3340-vasotec\n"
     ]
    },
    {
     "name": "stderr",
     "output_type": "stream",
     "text": [
      "\n",
      "  0%|          | 0/3 [00:00<?, ?it/s]\u001b[A\n",
      " 33%|███▎      | 1/3 [00:00<00:01,  1.06it/s]\u001b[A\n",
      " 67%|██████▋   | 2/3 [00:02<00:01,  1.13s/it]\u001b[A\n",
      "100%|██████████| 3/3 [00:03<00:00,  1.09s/it]\n",
      " 36%|███▋      | 182/499 [16:32<29:30,  5.58s/it]"
     ]
    },
    {
     "name": "stdout",
     "output_type": "stream",
     "text": [
      "https://reviews.webmd.com/drugs/drugreview-3517-quinapril-hydrochlorothiazide\n"
     ]
    },
    {
     "name": "stderr",
     "output_type": "stream",
     "text": [
      "\n",
      "  0%|          | 0/1 [00:00<?, ?it/s]\u001b[A\n",
      "100%|██████████| 1/1 [00:00<00:00,  1.84it/s]\n",
      " 37%|███▋      | 183/499 [16:34<24:49,  4.71s/it]"
     ]
    },
    {
     "name": "stdout",
     "output_type": "stream",
     "text": [
      "https://reviews.webmd.com/drugs/drugreview-3710-cardura\n"
     ]
    },
    {
     "name": "stderr",
     "output_type": "stream",
     "text": [
      "\n",
      "  0%|          | 0/3 [00:00<?, ?it/s]\u001b[A\n",
      " 33%|███▎      | 1/3 [00:00<00:01,  1.20it/s]\u001b[A\n",
      " 67%|██████▋   | 2/3 [00:02<00:01,  1.12s/it]\u001b[A\n",
      "100%|██████████| 3/3 [00:03<00:00,  1.12s/it]\n",
      " 37%|███▋      | 184/499 [16:40<26:05,  4.97s/it]"
     ]
    },
    {
     "name": "stdout",
     "output_type": "stream",
     "text": [
      "https://reviews.webmd.com/drugs/drugreview-3750-doxazosin-mesylate\n"
     ]
    },
    {
     "name": "stderr",
     "output_type": "stream",
     "text": [
      "\n",
      "  0%|          | 0/6 [00:00<?, ?it/s]\u001b[A\n",
      " 17%|█▋        | 1/6 [00:00<00:04,  1.13it/s]\u001b[A\n",
      " 33%|███▎      | 2/6 [00:02<00:04,  1.20s/it]\u001b[A\n",
      " 50%|█████     | 3/6 [00:03<00:03,  1.29s/it]\u001b[A\n",
      " 67%|██████▋   | 4/6 [00:04<00:02,  1.28s/it]\u001b[A\n",
      " 83%|████████▎ | 5/6 [00:06<00:01,  1.33s/it]\u001b[A\n",
      "100%|██████████| 6/6 [00:07<00:00,  1.24s/it]\n",
      " 37%|███▋      | 185/499 [16:50<33:10,  6.34s/it]"
     ]
    },
    {
     "name": "stdout",
     "output_type": "stream",
     "text": [
      "https://reviews.webmd.com/drugs/drugreview-3750-doxazosin-tablet-er-24-hr\n"
     ]
    },
    {
     "name": "stderr",
     "output_type": "stream",
     "text": [
      "\n",
      "  0%|          | 0/6 [00:00<?, ?it/s]\u001b[A\n",
      " 17%|█▋        | 1/6 [00:00<00:04,  1.16it/s]\u001b[A\n",
      " 33%|███▎      | 2/6 [00:01<00:03,  1.03it/s]\u001b[A\n",
      " 50%|█████     | 3/6 [00:02<00:02,  1.14it/s]\u001b[A\n",
      " 67%|██████▋   | 4/6 [00:03<00:01,  1.21it/s]\u001b[A\n",
      " 83%|████████▎ | 5/6 [00:04<00:00,  1.28it/s]\u001b[A\n",
      "100%|██████████| 6/6 [00:04<00:00,  1.28it/s]\n",
      " 37%|███▋      | 186/499 [16:55<32:22,  6.21s/it]"
     ]
    },
    {
     "name": "stdout",
     "output_type": "stream",
     "text": [
      "https://reviews.webmd.com/drugs/drugreview-3776-lasix\n"
     ]
    },
    {
     "name": "stderr",
     "output_type": "stream",
     "text": [
      "\n",
      "  0%|          | 0/10 [00:00<?, ?it/s]\u001b[A\n",
      " 10%|█         | 1/10 [00:00<00:06,  1.42it/s]\u001b[A\n",
      " 20%|██        | 2/10 [00:02<00:08,  1.09s/it]\u001b[A\n",
      " 30%|███       | 3/10 [00:03<00:08,  1.21s/it]\u001b[A\n",
      " 40%|████      | 4/10 [00:04<00:07,  1.25s/it]\u001b[A\n",
      " 50%|█████     | 5/10 [00:06<00:06,  1.29s/it]\u001b[A\n",
      " 60%|██████    | 6/10 [00:08<00:06,  1.54s/it]\u001b[A\n",
      " 70%|███████   | 7/10 [00:09<00:04,  1.47s/it]\u001b[A\n",
      " 80%|████████  | 8/10 [00:11<00:03,  1.52s/it]\u001b[A\n",
      " 90%|█████████ | 9/10 [00:12<00:01,  1.51s/it]\u001b[A\n",
      "100%|██████████| 10/10 [00:13<00:00,  1.39s/it]\n",
      " 37%|███▋      | 187/499 [17:12<47:56,  9.22s/it]"
     ]
    },
    {
     "name": "stdout",
     "output_type": "stream",
     "text": [
      "https://reviews.webmd.com/drugs/drugreview-3776-lasix-solution\n"
     ]
    },
    {
     "name": "stderr",
     "output_type": "stream",
     "text": [
      "\n",
      "  0%|          | 0/10 [00:00<?, ?it/s]\u001b[A\n",
      " 10%|█         | 1/10 [00:00<00:06,  1.31it/s]\u001b[A\n",
      " 20%|██        | 2/10 [00:01<00:06,  1.23it/s]\u001b[A\n",
      " 30%|███       | 3/10 [00:02<00:05,  1.22it/s]\u001b[A\n",
      " 40%|████      | 4/10 [00:03<00:04,  1.20it/s]\u001b[A\n",
      " 50%|█████     | 5/10 [00:04<00:04,  1.11it/s]\u001b[A\n",
      " 60%|██████    | 6/10 [00:05<00:03,  1.07it/s]\u001b[A\n",
      " 70%|███████   | 7/10 [00:06<00:02,  1.09it/s]\u001b[A\n",
      " 80%|████████  | 8/10 [00:07<00:01,  1.11it/s]\u001b[A\n",
      " 90%|█████████ | 9/10 [00:07<00:00,  1.15it/s]\u001b[A\n",
      "100%|██████████| 10/10 [00:08<00:00,  1.15it/s]\n",
      " 38%|███▊      | 188/499 [17:21<48:44,  9.40s/it]"
     ]
    },
    {
     "name": "stdout",
     "output_type": "stream",
     "text": [
      "https://reviews.webmd.com/drugs/drugreview-3783-diltiazem-12hr-er\n"
     ]
    },
    {
     "name": "stderr",
     "output_type": "stream",
     "text": [
      "\n",
      "  0%|          | 0/10 [00:00<?, ?it/s]\u001b[A\n",
      " 10%|█         | 1/10 [00:00<00:08,  1.08it/s]\u001b[A\n",
      " 20%|██        | 2/10 [00:02<00:09,  1.14s/it]\u001b[A\n",
      " 30%|███       | 3/10 [00:03<00:08,  1.17s/it]\u001b[A\n",
      " 40%|████      | 4/10 [00:04<00:07,  1.27s/it]\u001b[A\n",
      " 50%|█████     | 5/10 [00:06<00:06,  1.28s/it]\u001b[A\n",
      " 60%|██████    | 6/10 [00:07<00:05,  1.36s/it]\u001b[A\n",
      " 70%|███████   | 7/10 [00:08<00:03,  1.32s/it]\u001b[A\n",
      " 80%|████████  | 8/10 [00:10<00:02,  1.34s/it]\u001b[A\n",
      " 90%|█████████ | 9/10 [00:11<00:01,  1.31s/it]\u001b[A\n",
      "100%|██████████| 10/10 [00:12<00:00,  1.27s/it]\n",
      " 38%|███▊      | 189/499 [17:37<57:54, 11.21s/it]"
     ]
    },
    {
     "name": "stdout",
     "output_type": "stream",
     "text": [
      "https://reviews.webmd.com/drugs/drugreview-3783-diltiazem-24hr-er\n"
     ]
    },
    {
     "name": "stderr",
     "output_type": "stream",
     "text": [
      "\n",
      "  0%|          | 0/10 [00:00<?, ?it/s]\u001b[A\n",
      " 10%|█         | 1/10 [00:00<00:07,  1.21it/s]\u001b[A\n",
      " 20%|██        | 2/10 [00:01<00:07,  1.05it/s]\u001b[A\n",
      " 30%|███       | 3/10 [00:02<00:06,  1.15it/s]\u001b[A\n",
      " 40%|████      | 4/10 [00:03<00:04,  1.21it/s]\u001b[A\n",
      " 50%|█████     | 5/10 [00:04<00:03,  1.27it/s]\u001b[A\n",
      " 60%|██████    | 6/10 [00:04<00:03,  1.27it/s]\u001b[A\n",
      " 70%|███████   | 7/10 [00:05<00:02,  1.19it/s]\u001b[A\n",
      " 80%|████████  | 8/10 [00:06<00:01,  1.21it/s]\u001b[A\n",
      " 90%|█████████ | 9/10 [00:07<00:00,  1.19it/s]\u001b[A\n",
      "100%|██████████| 10/10 [00:08<00:00,  1.23it/s]\n",
      " 38%|███▊      | 190/499 [17:46<54:23, 10.56s/it]"
     ]
    },
    {
     "name": "stdout",
     "output_type": "stream",
     "text": [
      "https://reviews.webmd.com/drugs/drugreview-3783-diltiazem-24hr-er-cd\n"
     ]
    },
    {
     "name": "stderr",
     "output_type": "stream",
     "text": [
      "\n",
      "  0%|          | 0/10 [00:00<?, ?it/s]\u001b[A\n",
      " 10%|█         | 1/10 [00:00<00:07,  1.18it/s]\u001b[A\n",
      " 20%|██        | 2/10 [00:01<00:06,  1.15it/s]\u001b[A\n",
      " 30%|███       | 3/10 [00:02<00:06,  1.08it/s]\u001b[A\n",
      " 40%|████      | 4/10 [00:03<00:05,  1.12it/s]\u001b[A\n",
      " 50%|█████     | 5/10 [00:04<00:04,  1.16it/s]\u001b[A\n",
      " 60%|██████    | 6/10 [00:05<00:03,  1.18it/s]\u001b[A\n",
      " 70%|███████   | 7/10 [00:06<00:02,  1.17it/s]\u001b[A\n",
      " 80%|████████  | 8/10 [00:07<00:01,  1.06it/s]\u001b[A\n",
      " 90%|█████████ | 9/10 [00:07<00:00,  1.12it/s]\u001b[A\n",
      "100%|██████████| 10/10 [00:08<00:00,  1.17it/s]\n",
      " 38%|███▊      | 191/499 [17:55<52:28, 10.22s/it]"
     ]
    },
    {
     "name": "stdout",
     "output_type": "stream",
     "text": [
      "https://reviews.webmd.com/drugs/drugreview-3783-diltiazem-24hr-er-la\n"
     ]
    },
    {
     "name": "stderr",
     "output_type": "stream",
     "text": [
      "\n",
      "  0%|          | 0/10 [00:00<?, ?it/s]\u001b[A\n",
      " 10%|█         | 1/10 [00:00<00:07,  1.27it/s]\u001b[A\n",
      " 20%|██        | 2/10 [00:01<00:05,  1.35it/s]\u001b[A\n",
      " 30%|███       | 3/10 [00:02<00:05,  1.28it/s]\u001b[A\n",
      " 40%|████      | 4/10 [00:03<00:05,  1.08it/s]\u001b[A\n",
      " 50%|█████     | 5/10 [00:04<00:04,  1.17it/s]\u001b[A\n",
      " 60%|██████    | 6/10 [00:04<00:03,  1.20it/s]\u001b[A\n",
      " 70%|███████   | 7/10 [00:05<00:02,  1.23it/s]\u001b[A\n",
      " 80%|████████  | 8/10 [00:06<00:01,  1.23it/s]\u001b[A\n",
      " 90%|█████████ | 9/10 [00:07<00:00,  1.19it/s]\u001b[A\n",
      "100%|██████████| 10/10 [00:07<00:00,  1.25it/s]\n",
      " 38%|███▊      | 192/499 [18:04<50:24,  9.85s/it]"
     ]
    },
    {
     "name": "stdout",
     "output_type": "stream",
     "text": [
      "https://reviews.webmd.com/drugs/drugreview-3783-diltiazem-24hr-er-xr\n"
     ]
    },
    {
     "name": "stderr",
     "output_type": "stream",
     "text": [
      "\n",
      "  0%|          | 0/10 [00:00<?, ?it/s]\u001b[A\n",
      " 10%|█         | 1/10 [00:00<00:06,  1.36it/s]\u001b[A\n",
      " 20%|██        | 2/10 [00:01<00:06,  1.27it/s]\u001b[A\n",
      " 30%|███       | 3/10 [00:02<00:05,  1.27it/s]\u001b[A\n",
      " 40%|████      | 4/10 [00:03<00:04,  1.23it/s]\u001b[A\n",
      " 50%|█████     | 5/10 [00:04<00:04,  1.07it/s]\u001b[A\n",
      " 60%|██████    | 6/10 [00:05<00:03,  1.13it/s]\u001b[A\n",
      " 70%|███████   | 7/10 [00:05<00:02,  1.15it/s]\u001b[A\n",
      " 80%|████████  | 8/10 [00:06<00:01,  1.11it/s]\u001b[A\n",
      " 90%|█████████ | 9/10 [00:07<00:00,  1.16it/s]\u001b[A\n",
      "100%|██████████| 10/10 [00:08<00:00,  1.19it/s]\n",
      " 39%|███▊      | 193/499 [18:14<49:34,  9.72s/it]"
     ]
    },
    {
     "name": "stdout",
     "output_type": "stream",
     "text": [
      "https://reviews.webmd.com/drugs/drugreview-3783-diltiazem-hcl\n"
     ]
    },
    {
     "name": "stderr",
     "output_type": "stream",
     "text": [
      "\n",
      "  0%|          | 0/10 [00:00<?, ?it/s]\u001b[A\n",
      " 10%|█         | 1/10 [00:00<00:07,  1.26it/s]\u001b[A\n",
      " 20%|██        | 2/10 [00:01<00:06,  1.19it/s]\u001b[A\n",
      " 30%|███       | 3/10 [00:02<00:05,  1.22it/s]\u001b[A\n",
      " 40%|████      | 4/10 [00:03<00:04,  1.21it/s]\u001b[A\n",
      " 50%|█████     | 5/10 [00:04<00:04,  1.16it/s]\u001b[A\n",
      " 60%|██████    | 6/10 [00:05<00:03,  1.04it/s]\u001b[A\n",
      " 70%|███████   | 7/10 [00:06<00:02,  1.11it/s]\u001b[A\n",
      " 80%|████████  | 8/10 [00:07<00:01,  1.11it/s]\u001b[A\n",
      " 90%|█████████ | 9/10 [00:07<00:00,  1.15it/s]\u001b[A\n",
      "100%|██████████| 10/10 [00:08<00:00,  1.19it/s]\n",
      " 39%|███▉      | 194/499 [18:24<49:33,  9.75s/it]"
     ]
    },
    {
     "name": "stdout",
     "output_type": "stream",
     "text": [
      "https://reviews.webmd.com/drugs/drugreview-3924-cardizem-sr-capsule-12-hr-capsule-er-hr\n"
     ]
    },
    {
     "name": "stderr",
     "output_type": "stream",
     "text": [
      "\n",
      "  0%|          | 0/1 [00:00<?, ?it/s]\u001b[A\n",
      "100%|██████████| 1/1 [00:00<00:00,  1.77it/s]\n",
      " 39%|███▉      | 195/499 [18:27<39:11,  7.74s/it]"
     ]
    },
    {
     "name": "stdout",
     "output_type": "stream",
     "text": [
      "https://reviews.webmd.com/drugs/drugreview-3926-diltiazem-hcl-cr-capsule-12-hr-capsule-er-hr\n"
     ]
    },
    {
     "name": "stderr",
     "output_type": "stream",
     "text": [
      " 39%|███▉      | 196/499 [18:28<30:09,  5.97s/it]"
     ]
    },
    {
     "name": "stdout",
     "output_type": "stream",
     "text": [
      "https://reviews.webmd.com/drugs/drugreview-3926-diltiazem-hcl-cr-capsule-er\n"
     ]
    },
    {
     "name": "stderr",
     "output_type": "stream",
     "text": [
      " 39%|███▉      | 197/499 [18:30<22:39,  4.50s/it]"
     ]
    },
    {
     "name": "stdout",
     "output_type": "stream",
     "text": [
      "https://reviews.webmd.com/drugs/drugreview-3951-chlorthalidone\n"
     ]
    },
    {
     "name": "stderr",
     "output_type": "stream",
     "text": [
      "\n",
      "  0%|          | 0/5 [00:00<?, ?it/s]\u001b[A\n",
      " 20%|██        | 1/5 [00:00<00:02,  1.37it/s]\u001b[A\n",
      " 40%|████      | 2/5 [00:02<00:03,  1.11s/it]\u001b[A\n",
      " 60%|██████    | 3/5 [00:03<00:02,  1.17s/it]\u001b[A\n",
      " 80%|████████  | 4/5 [00:04<00:01,  1.22s/it]\u001b[A\n",
      "100%|██████████| 5/5 [00:05<00:00,  1.14s/it]\n",
      " 40%|███▉      | 198/499 [18:37<27:42,  5.52s/it]"
     ]
    },
    {
     "name": "stdout",
     "output_type": "stream",
     "text": [
      "https://reviews.webmd.com/drugs/drugreview-3971-accupril\n"
     ]
    },
    {
     "name": "stderr",
     "output_type": "stream",
     "text": [
      "\n",
      "  0%|          | 0/3 [00:00<?, ?it/s]\u001b[A\n",
      " 33%|███▎      | 1/3 [00:00<00:01,  1.22it/s]\u001b[A\n",
      " 67%|██████▋   | 2/3 [00:02<00:01,  1.10s/it]\u001b[A\n",
      "100%|██████████| 3/3 [00:03<00:00,  1.05s/it]\n",
      " 40%|████      | 200/499 [18:45<21:41,  4.35s/it]"
     ]
    },
    {
     "name": "stdout",
     "output_type": "stream",
     "text": [
      "skipping https://reviews.webmd.com/drugs/drugreview-4030-moexipril-hydrochlorothiazide-tablet: page not found\n",
      "https://reviews.webmd.com/drugs/drugreview-4365-acebutolol-hcl\n"
     ]
    },
    {
     "name": "stderr",
     "output_type": "stream",
     "text": [
      "\n",
      "  0%|          | 0/1 [00:00<?, ?it/s]\u001b[A\n",
      "100%|██████████| 1/1 [00:00<00:00,  1.27it/s]\n",
      " 40%|████      | 201/499 [18:47<19:05,  3.84s/it]"
     ]
    },
    {
     "name": "stdout",
     "output_type": "stream",
     "text": [
      "https://reviews.webmd.com/drugs/drugreview-4889-lopressor-hct-tablet\n"
     ]
    },
    {
     "name": "stderr",
     "output_type": "stream",
     "text": [
      "\n",
      "  0%|          | 0/1 [00:00<?, ?it/s]\u001b[A\n",
      "100%|██████████| 1/1 [00:00<00:00,  1.34it/s]\n",
      " 40%|████      | 202/499 [18:50<17:23,  3.51s/it]"
     ]
    },
    {
     "name": "stdout",
     "output_type": "stream",
     "text": [
      "https://reviews.webmd.com/drugs/drugreview-4935-monopril-tablet\n"
     ]
    },
    {
     "name": "stderr",
     "output_type": "stream",
     "text": [
      "\n",
      "  0%|          | 0/1 [00:00<?, ?it/s]\u001b[A\n",
      "100%|██████████| 1/1 [00:00<00:00,  1.71it/s]\n",
      " 41%|████      | 203/499 [18:53<16:11,  3.28s/it]"
     ]
    },
    {
     "name": "stdout",
     "output_type": "stream",
     "text": [
      "https://reviews.webmd.com/drugs/drugreview-494-inderal-la\n"
     ]
    },
    {
     "name": "stderr",
     "output_type": "stream",
     "text": [
      "\n",
      "  0%|          | 0/3 [00:00<?, ?it/s]\u001b[A\n",
      " 33%|███▎      | 1/3 [00:00<00:01,  1.22it/s]\u001b[A\n",
      " 67%|██████▋   | 2/3 [00:02<00:01,  1.06s/it]\u001b[A\n",
      "100%|██████████| 3/3 [00:03<00:00,  1.06s/it]\n",
      " 41%|████      | 204/499 [18:58<19:17,  3.92s/it]"
     ]
    },
    {
     "name": "stdout",
     "output_type": "stream",
     "text": [
      "https://reviews.webmd.com/drugs/drugreview-5029-bumex-tablet\n"
     ]
    },
    {
     "name": "stderr",
     "output_type": "stream",
     "text": [
      "\n",
      "  0%|          | 0/1 [00:00<?, ?it/s]\u001b[A\n",
      "100%|██████████| 1/1 [00:00<00:00,  1.07it/s]\n",
      " 41%|████      | 205/499 [19:02<18:29,  3.77s/it]"
     ]
    },
    {
     "name": "stdout",
     "output_type": "stream",
     "text": [
      "https://reviews.webmd.com/drugs/drugreview-518-calan-sr\n"
     ]
    },
    {
     "name": "stderr",
     "output_type": "stream",
     "text": [
      "\n",
      "  0%|          | 0/1 [00:00<?, ?it/s]\u001b[A\n",
      "100%|██████████| 1/1 [00:00<00:00,  1.79it/s]\n",
      " 41%|████▏     | 206/499 [19:04<16:42,  3.42s/it]"
     ]
    },
    {
     "name": "stdout",
     "output_type": "stream",
     "text": [
      "https://reviews.webmd.com/drugs/drugreview-520-isoptin-sr-tablet-er\n"
     ]
    },
    {
     "name": "stderr",
     "output_type": "stream",
     "text": [
      "\n",
      "  0%|          | 0/1 [00:00<?, ?it/s]\u001b[A\n",
      "100%|██████████| 1/1 [00:00<00:00,  1.83it/s]\n",
      " 41%|████▏     | 207/499 [19:07<15:19,  3.15s/it]"
     ]
    },
    {
     "name": "stdout",
     "output_type": "stream",
     "text": [
      "https://reviews.webmd.com/drugs/drugreview-5236-demadex-tablet\n"
     ]
    },
    {
     "name": "stderr",
     "output_type": "stream",
     "text": [
      "\n",
      "  0%|          | 0/1 [00:00<?, ?it/s]\u001b[A\n",
      "100%|██████████| 1/1 [00:00<00:00,  1.41it/s]\n",
      " 42%|████▏     | 208/499 [19:10<14:37,  3.02s/it]"
     ]
    },
    {
     "name": "stdout",
     "output_type": "stream",
     "text": [
      "https://reviews.webmd.com/drugs/drugreview-5237-torsemide\n"
     ]
    },
    {
     "name": "stderr",
     "output_type": "stream",
     "text": [
      "\n",
      "  0%|          | 0/3 [00:00<?, ?it/s]\u001b[A\n",
      " 33%|███▎      | 1/3 [00:01<00:02,  1.12s/it]\u001b[A\n",
      " 67%|██████▋   | 2/3 [00:02<00:01,  1.16s/it]\u001b[A\n",
      "100%|██████████| 3/3 [00:03<00:00,  1.11s/it]\n",
      " 42%|████▏     | 210/499 [19:16<14:24,  2.99s/it]"
     ]
    },
    {
     "name": "stdout",
     "output_type": "stream",
     "text": [
      "skipping https://reviews.webmd.com/drugs/drugreview-5255-teczem-tablet-er-24-hr: page not found\n",
      "https://reviews.webmd.com/drugs/drugreview-5293-captopril-hydrochlorothiazide\n"
     ]
    },
    {
     "name": "stderr",
     "output_type": "stream",
     "text": [
      "\n",
      "  0%|          | 0/1 [00:00<?, ?it/s]\u001b[A\n",
      "100%|██████████| 1/1 [00:00<00:00,  1.57it/s]\n",
      " 42%|████▏     | 211/499 [19:19<13:30,  2.82s/it]"
     ]
    },
    {
     "name": "stdout",
     "output_type": "stream",
     "text": [
      "https://reviews.webmd.com/drugs/drugreview-5295-capozide-tablet\n"
     ]
    },
    {
     "name": "stderr",
     "output_type": "stream",
     "text": [
      " 42%|████▏     | 212/499 [19:21<12:06,  2.53s/it]"
     ]
    },
    {
     "name": "stdout",
     "output_type": "stream",
     "text": [
      "https://reviews.webmd.com/drugs/drugreview-5310-hydrochlorothiazide\n"
     ]
    },
    {
     "name": "stderr",
     "output_type": "stream",
     "text": [
      "\n",
      "  0%|          | 0/45 [00:00<?, ?it/s]\u001b[A\n",
      "  2%|▏         | 1/45 [00:00<00:36,  1.21it/s]\u001b[A\n",
      "  4%|▍         | 2/45 [00:02<01:01,  1.44s/it]\u001b[A\n",
      "  7%|▋         | 3/45 [00:04<00:58,  1.39s/it]\u001b[A\n",
      "  9%|▉         | 4/45 [00:05<00:56,  1.38s/it]\u001b[A\n",
      " 11%|█         | 5/45 [00:06<00:58,  1.45s/it]\u001b[A\n",
      " 13%|█▎        | 6/45 [00:08<00:54,  1.40s/it]\u001b[A\n",
      " 16%|█▌        | 7/45 [00:09<00:51,  1.36s/it]\u001b[A\n",
      " 18%|█▊        | 8/45 [00:11<00:53,  1.45s/it]\u001b[A\n",
      " 20%|██        | 9/45 [00:12<00:51,  1.42s/it]\u001b[A\n",
      " 22%|██▏       | 10/45 [00:14<00:50,  1.44s/it]\u001b[A\n",
      " 24%|██▍       | 11/45 [00:15<00:48,  1.43s/it]\u001b[A\n",
      " 27%|██▋       | 12/45 [00:16<00:47,  1.43s/it]\u001b[A\n",
      " 29%|██▉       | 13/45 [00:18<00:44,  1.39s/it]\u001b[A\n",
      " 31%|███       | 14/45 [00:19<00:46,  1.51s/it]\u001b[A\n",
      " 33%|███▎      | 15/45 [00:21<00:43,  1.45s/it]\u001b[A\n",
      " 36%|███▌      | 16/45 [00:22<00:41,  1.44s/it]\u001b[A\n",
      " 38%|███▊      | 17/45 [00:24<00:40,  1.45s/it]\u001b[A\n",
      " 40%|████      | 18/45 [00:25<00:39,  1.45s/it]\u001b[A\n",
      " 42%|████▏     | 19/45 [00:26<00:36,  1.42s/it]\u001b[A\n",
      " 44%|████▍     | 20/45 [00:28<00:37,  1.48s/it]\u001b[A\n",
      " 47%|████▋     | 21/45 [00:30<00:37,  1.55s/it]\u001b[A\n",
      " 49%|████▉     | 22/45 [00:31<00:34,  1.48s/it]\u001b[A\n",
      " 51%|█████     | 23/45 [00:33<00:32,  1.49s/it]\u001b[A\n",
      " 53%|█████▎    | 24/45 [00:34<00:30,  1.43s/it]\u001b[A\n",
      " 56%|█████▌    | 25/45 [00:35<00:28,  1.42s/it]\u001b[A\n",
      " 58%|█████▊    | 26/45 [00:37<00:27,  1.43s/it]\u001b[A\n",
      " 60%|██████    | 27/45 [00:38<00:25,  1.41s/it]\u001b[A\n",
      " 62%|██████▏   | 28/45 [00:40<00:23,  1.41s/it]\u001b[A\n",
      " 64%|██████▍   | 29/45 [00:41<00:22,  1.43s/it]\u001b[A\n",
      " 67%|██████▋   | 30/45 [00:43<00:21,  1.46s/it]\u001b[A\n",
      " 69%|██████▉   | 31/45 [00:44<00:20,  1.48s/it]\u001b[A\n",
      " 71%|███████   | 32/45 [00:46<00:19,  1.48s/it]\u001b[A\n",
      " 73%|███████▎  | 33/45 [00:47<00:17,  1.45s/it]\u001b[A\n",
      " 76%|███████▌  | 34/45 [00:48<00:15,  1.42s/it]\u001b[A\n",
      " 78%|███████▊  | 35/45 [00:50<00:13,  1.37s/it]\u001b[A\n",
      " 80%|████████  | 36/45 [00:51<00:12,  1.38s/it]\u001b[A\n",
      " 82%|████████▏ | 37/45 [00:53<00:12,  1.51s/it]\u001b[A\n",
      " 84%|████████▍ | 38/45 [00:54<00:10,  1.44s/it]\u001b[A\n",
      " 87%|████████▋ | 39/45 [00:55<00:08,  1.38s/it]\u001b[A\n",
      " 89%|████████▉ | 40/45 [00:57<00:06,  1.39s/it]\u001b[A\n",
      " 91%|█████████ | 41/45 [00:58<00:05,  1.36s/it]\u001b[A\n",
      " 93%|█████████▎| 42/45 [01:00<00:04,  1.43s/it]\u001b[A\n",
      " 96%|█████████▌| 43/45 [01:01<00:02,  1.45s/it]\u001b[A\n",
      " 98%|█████████▊| 44/45 [01:03<00:01,  1.48s/it]\u001b[A\n",
      "100%|██████████| 45/45 [01:04<00:00,  1.43s/it]\n",
      " 43%|████▎     | 214/499 [20:28<1:13:36, 15.50s/it]"
     ]
    },
    {
     "name": "stdout",
     "output_type": "stream",
     "text": [
      "skipping https://reviews.webmd.com/drugs/drugreview-5318-enalapril-diltiazem-tablet-er: page not found\n",
      "https://reviews.webmd.com/drugs/drugreview-53558-procard-tablet\n"
     ]
    },
    {
     "name": "stderr",
     "output_type": "stream",
     "text": [
      "\n",
      "  0%|          | 0/1 [00:00<?, ?it/s]\u001b[A\n",
      "100%|██████████| 1/1 [00:00<00:00,  1.76it/s]\n",
      " 43%|████▎     | 215/499 [20:31<55:57, 11.82s/it]  "
     ]
    },
    {
     "name": "stdout",
     "output_type": "stream",
     "text": [
      "https://reviews.webmd.com/drugs/drugreview-53559-lorol-tablet\n"
     ]
    },
    {
     "name": "stderr",
     "output_type": "stream",
     "text": [
      " 43%|████▎     | 216/499 [20:33<41:09,  8.73s/it]"
     ]
    },
    {
     "name": "stdout",
     "output_type": "stream",
     "text": [
      "https://reviews.webmd.com/drugs/drugreview-53560-tenormin-calendar-pak-tablet\n"
     ]
    },
    {
     "name": "stderr",
     "output_type": "stream",
     "text": [
      "\n",
      "  0%|          | 0/1 [00:00<?, ?it/s]\u001b[A\n",
      "100%|██████████| 1/1 [00:00<00:00,  1.89it/s]\n",
      " 43%|████▎     | 217/499 [20:35<32:11,  6.85s/it]"
     ]
    },
    {
     "name": "stdout",
     "output_type": "stream",
     "text": [
      "https://reviews.webmd.com/drugs/drugreview-53561-isoptin-s-r-tablet-er\n"
     ]
    },
    {
     "name": "stderr",
     "output_type": "stream",
     "text": [
      " 44%|████▎     | 218/499 [20:37<25:27,  5.43s/it]"
     ]
    },
    {
     "name": "stdout",
     "output_type": "stream",
     "text": [
      "https://reviews.webmd.com/drugs/drugreview-53587-catapres-tts-2-patch-weekly\n"
     ]
    },
    {
     "name": "stderr",
     "output_type": "stream",
     "text": [
      " 44%|████▍     | 219/499 [20:39<20:15,  4.34s/it]"
     ]
    },
    {
     "name": "stdout",
     "output_type": "stream",
     "text": [
      "https://reviews.webmd.com/drugs/drugreview-53588-catapres-tts-3-patch-weekly\n"
     ]
    },
    {
     "name": "stderr",
     "output_type": "stream",
     "text": [
      " 44%|████▍     | 221/499 [20:42<13:06,  2.83s/it]"
     ]
    },
    {
     "name": "stdout",
     "output_type": "stream",
     "text": [
      "skipping https://reviews.webmd.com/drugs/drugreview-53589-aldomet-solution: page not found\n"
     ]
    },
    {
     "name": "stderr",
     "output_type": "stream",
     "text": [
      " 44%|████▍     | 222/499 [20:43<10:25,  2.26s/it]"
     ]
    },
    {
     "name": "stdout",
     "output_type": "stream",
     "text": [
      "skipping https://reviews.webmd.com/drugs/drugreview-53590-aldomet-ester-hcl-injection-solution: page not found\n"
     ]
    },
    {
     "name": "stderr",
     "output_type": "stream",
     "text": [
      " 45%|████▍     | 223/499 [20:44<08:38,  1.88s/it]"
     ]
    },
    {
     "name": "stdout",
     "output_type": "stream",
     "text": [
      "skipping https://reviews.webmd.com/drugs/drugreview-53591-ingadine-tablet: page not found\n"
     ]
    },
    {
     "name": "stderr",
     "output_type": "stream",
     "text": [
      " 45%|████▍     | 224/499 [20:45<07:24,  1.62s/it]"
     ]
    },
    {
     "name": "stdout",
     "output_type": "stream",
     "text": [
      "skipping https://reviews.webmd.com/drugs/drugreview-53592-sandril-tablet: page not found\n"
     ]
    },
    {
     "name": "stderr",
     "output_type": "stream",
     "text": [
      " 45%|████▌     | 225/499 [20:46<06:42,  1.47s/it]"
     ]
    },
    {
     "name": "stdout",
     "output_type": "stream",
     "text": [
      "skipping https://reviews.webmd.com/drugs/drugreview-53593-serpasil-tablet: page not found\n"
     ]
    },
    {
     "name": "stderr",
     "output_type": "stream",
     "text": [
      " 45%|████▌     | 226/499 [20:47<06:06,  1.34s/it]"
     ]
    },
    {
     "name": "stdout",
     "output_type": "stream",
     "text": [
      "skipping https://reviews.webmd.com/drugs/drugreview-53594-serpate-tablet: page not found\n"
     ]
    },
    {
     "name": "stderr",
     "output_type": "stream",
     "text": [
      " 45%|████▌     | 227/499 [20:48<05:57,  1.31s/it]"
     ]
    },
    {
     "name": "stdout",
     "output_type": "stream",
     "text": [
      "skipping https://reviews.webmd.com/drugs/drugreview-53595-serpalan-tablet: page not found\n"
     ]
    },
    {
     "name": "stderr",
     "output_type": "stream",
     "text": [
      " 46%|████▌     | 228/499 [20:49<05:39,  1.25s/it]"
     ]
    },
    {
     "name": "stdout",
     "output_type": "stream",
     "text": [
      "skipping https://reviews.webmd.com/drugs/drugreview-53596-sk-reserpine-tablet: page not found\n"
     ]
    },
    {
     "name": "stderr",
     "output_type": "stream",
     "text": [
      " 46%|████▌     | 229/499 [20:50<05:15,  1.17s/it]"
     ]
    },
    {
     "name": "stdout",
     "output_type": "stream",
     "text": [
      "skipping https://reviews.webmd.com/drugs/drugreview-53597-reserpoid-tablet: page not found\n"
     ]
    },
    {
     "name": "stderr",
     "output_type": "stream",
     "text": [
      " 46%|████▌     | 230/499 [20:51<05:02,  1.12s/it]"
     ]
    },
    {
     "name": "stdout",
     "output_type": "stream",
     "text": [
      "skipping https://reviews.webmd.com/drugs/drugreview-53598-serpatab-tablet: page not found\n"
     ]
    },
    {
     "name": "stderr",
     "output_type": "stream",
     "text": [
      " 46%|████▋     | 231/499 [20:52<04:58,  1.11s/it]"
     ]
    },
    {
     "name": "stdout",
     "output_type": "stream",
     "text": [
      "skipping https://reviews.webmd.com/drugs/drugreview-53599-resa-tablet: page not found\n"
     ]
    },
    {
     "name": "stderr",
     "output_type": "stream",
     "text": [
      " 46%|████▋     | 232/499 [20:53<04:48,  1.08s/it]"
     ]
    },
    {
     "name": "stdout",
     "output_type": "stream",
     "text": [
      "skipping https://reviews.webmd.com/drugs/drugreview-53600-sertina-tablet: page not found\n"
     ]
    },
    {
     "name": "stderr",
     "output_type": "stream",
     "text": [
      " 47%|████▋     | 233/499 [20:54<04:46,  1.08s/it]"
     ]
    },
    {
     "name": "stdout",
     "output_type": "stream",
     "text": [
      "skipping https://reviews.webmd.com/drugs/drugreview-53601-serpanray-tablet: page not found\n"
     ]
    },
    {
     "name": "stderr",
     "output_type": "stream",
     "text": [
      " 47%|████▋     | 234/499 [20:55<04:40,  1.06s/it]"
     ]
    },
    {
     "name": "stdout",
     "output_type": "stream",
     "text": [
      "skipping https://reviews.webmd.com/drugs/drugreview-53602-zepine-tablet: page not found\n",
      "https://reviews.webmd.com/drugs/drugreview-53603-adrolazine-tablet\n"
     ]
    },
    {
     "name": "stderr",
     "output_type": "stream",
     "text": [
      " 47%|████▋     | 235/499 [20:57<05:25,  1.23s/it]"
     ]
    },
    {
     "name": "stdout",
     "output_type": "stream",
     "text": [
      "https://reviews.webmd.com/drugs/drugreview-53605-hydralyn-tablet\n"
     ]
    },
    {
     "name": "stderr",
     "output_type": "stream",
     "text": [
      " 47%|████▋     | 236/499 [20:59<06:00,  1.37s/it]"
     ]
    },
    {
     "name": "stdout",
     "output_type": "stream",
     "text": [
      "https://reviews.webmd.com/drugs/drugreview-53606-aprex-tablet\n"
     ]
    },
    {
     "name": "stderr",
     "output_type": "stream",
     "text": [
      " 47%|████▋     | 237/499 [21:00<06:16,  1.44s/it]"
     ]
    },
    {
     "name": "stdout",
     "output_type": "stream",
     "text": [
      "https://reviews.webmd.com/drugs/drugreview-53607-hydralyn-tablet\n"
     ]
    },
    {
     "name": "stderr",
     "output_type": "stream",
     "text": [
      " 48%|████▊     | 238/499 [21:02<06:52,  1.58s/it]"
     ]
    },
    {
     "name": "stdout",
     "output_type": "stream",
     "text": [
      "https://reviews.webmd.com/drugs/drugreview-53608-aprex-tablet\n"
     ]
    },
    {
     "name": "stderr",
     "output_type": "stream",
     "text": [
      " 48%|████▊     | 239/499 [21:04<06:46,  1.56s/it]"
     ]
    },
    {
     "name": "stdout",
     "output_type": "stream",
     "text": [
      "https://reviews.webmd.com/drugs/drugreview-53609-minodyl-tablet\n"
     ]
    },
    {
     "name": "stderr",
     "output_type": "stream",
     "text": [
      " 48%|████▊     | 241/499 [21:07<06:24,  1.49s/it]"
     ]
    },
    {
     "name": "stdout",
     "output_type": "stream",
     "text": [
      "skipping https://reviews.webmd.com/drugs/drugreview-53672-hctz-reserpine-hydralazine-tablet: page not found\n"
     ]
    },
    {
     "name": "stderr",
     "output_type": "stream",
     "text": [
      " 48%|████▊     | 242/499 [21:08<05:53,  1.38s/it]"
     ]
    },
    {
     "name": "stdout",
     "output_type": "stream",
     "text": [
      "skipping https://reviews.webmd.com/drugs/drugreview-53673-unipres-tablet: page not found\n"
     ]
    },
    {
     "name": "stderr",
     "output_type": "stream",
     "text": [
      " 49%|████▊     | 243/499 [21:09<05:30,  1.29s/it]"
     ]
    },
    {
     "name": "stdout",
     "output_type": "stream",
     "text": [
      "skipping https://reviews.webmd.com/drugs/drugreview-53674-sae-tablet: page not found\n"
     ]
    },
    {
     "name": "stderr",
     "output_type": "stream",
     "text": [
      " 49%|████▉     | 244/499 [21:10<05:18,  1.25s/it]"
     ]
    },
    {
     "name": "stdout",
     "output_type": "stream",
     "text": [
      "skipping https://reviews.webmd.com/drugs/drugreview-53675-serpex-tablet: page not found\n"
     ]
    },
    {
     "name": "stderr",
     "output_type": "stream",
     "text": [
      " 49%|████▉     | 245/499 [21:11<04:58,  1.18s/it]"
     ]
    },
    {
     "name": "stdout",
     "output_type": "stream",
     "text": [
      "skipping https://reviews.webmd.com/drugs/drugreview-53676-seragen-tablet: page not found\n"
     ]
    },
    {
     "name": "stderr",
     "output_type": "stream",
     "text": [
      " 49%|████▉     | 246/499 [21:12<04:53,  1.16s/it]"
     ]
    },
    {
     "name": "stdout",
     "output_type": "stream",
     "text": [
      "skipping https://reviews.webmd.com/drugs/drugreview-53677-hydroserpazine-tablet: page not found\n"
     ]
    },
    {
     "name": "stderr",
     "output_type": "stream",
     "text": [
      " 49%|████▉     | 247/499 [21:13<04:31,  1.08s/it]"
     ]
    },
    {
     "name": "stdout",
     "output_type": "stream",
     "text": [
      "skipping https://reviews.webmd.com/drugs/drugreview-53678-cherapas-tablet: page not found\n"
     ]
    },
    {
     "name": "stderr",
     "output_type": "stream",
     "text": [
      " 50%|████▉     | 248/499 [21:14<04:36,  1.10s/it]"
     ]
    },
    {
     "name": "stdout",
     "output_type": "stream",
     "text": [
      "skipping https://reviews.webmd.com/drugs/drugreview-53679-panpres-tablet: page not found\n"
     ]
    },
    {
     "name": "stderr",
     "output_type": "stream",
     "text": [
      " 50%|████▉     | 249/499 [21:15<04:27,  1.07s/it]"
     ]
    },
    {
     "name": "stdout",
     "output_type": "stream",
     "text": [
      "skipping https://reviews.webmd.com/drugs/drugreview-53680-seralazide-tablet: page not found\n"
     ]
    },
    {
     "name": "stderr",
     "output_type": "stream",
     "text": [
      " 50%|█████     | 250/499 [21:16<04:21,  1.05s/it]"
     ]
    },
    {
     "name": "stdout",
     "output_type": "stream",
     "text": [
      "skipping https://reviews.webmd.com/drugs/drugreview-53681-serapine-tablet: page not found\n"
     ]
    },
    {
     "name": "stderr",
     "output_type": "stream",
     "text": [
      " 50%|█████     | 251/499 [21:17<04:27,  1.08s/it]"
     ]
    },
    {
     "name": "stdout",
     "output_type": "stream",
     "text": [
      "skipping https://reviews.webmd.com/drugs/drugreview-53682-marpres-tablet: page not found\n"
     ]
    },
    {
     "name": "stderr",
     "output_type": "stream",
     "text": [
      " 51%|█████     | 252/499 [21:19<04:33,  1.11s/it]"
     ]
    },
    {
     "name": "stdout",
     "output_type": "stream",
     "text": [
      "skipping https://reviews.webmd.com/drugs/drugreview-53683-serathide-tablet: page not found\n"
     ]
    },
    {
     "name": "stderr",
     "output_type": "stream",
     "text": [
      " 51%|█████     | 253/499 [21:20<04:49,  1.18s/it]"
     ]
    },
    {
     "name": "stdout",
     "output_type": "stream",
     "text": [
      "skipping https://reviews.webmd.com/drugs/drugreview-53684-d-pres-tablet: page not found\n"
     ]
    },
    {
     "name": "stderr",
     "output_type": "stream",
     "text": [
      " 51%|█████     | 254/499 [21:21<04:45,  1.16s/it]"
     ]
    },
    {
     "name": "stdout",
     "output_type": "stream",
     "text": [
      "skipping https://reviews.webmd.com/drugs/drugreview-53685-hrh-tablet: page not found\n"
     ]
    },
    {
     "name": "stderr",
     "output_type": "stream",
     "text": [
      " 51%|█████     | 255/499 [21:22<04:41,  1.15s/it]"
     ]
    },
    {
     "name": "stdout",
     "output_type": "stream",
     "text": [
      "skipping https://reviews.webmd.com/drugs/drugreview-53686-serge-tablet: page not found\n"
     ]
    },
    {
     "name": "stderr",
     "output_type": "stream",
     "text": [
      " 51%|█████▏    | 256/499 [21:23<04:42,  1.16s/it]"
     ]
    },
    {
     "name": "stdout",
     "output_type": "stream",
     "text": [
      "skipping https://reviews.webmd.com/drugs/drugreview-53687-hydroap-es-tablet: page not found\n"
     ]
    },
    {
     "name": "stderr",
     "output_type": "stream",
     "text": [
      " 52%|█████▏    | 257/499 [21:25<04:40,  1.16s/it]"
     ]
    },
    {
     "name": "stdout",
     "output_type": "stream",
     "text": [
      "skipping https://reviews.webmd.com/drugs/drugreview-53688-hydroserpine-plus-tablet: page not found\n",
      "https://reviews.webmd.com/drugs/drugreview-53689-atenolol-w-chlorthalidone-tablet\n"
     ]
    },
    {
     "name": "stderr",
     "output_type": "stream",
     "text": [
      " 52%|█████▏    | 258/499 [21:26<05:21,  1.33s/it]"
     ]
    },
    {
     "name": "stdout",
     "output_type": "stream",
     "text": [
      "https://reviews.webmd.com/drugs/drugreview-53690-propranolol-hcl-w-hctz-tablet\n"
     ]
    },
    {
     "name": "stderr",
     "output_type": "stream",
     "text": [
      " 52%|█████▏    | 259/499 [21:28<06:05,  1.52s/it]"
     ]
    },
    {
     "name": "stdout",
     "output_type": "stream",
     "text": [
      "https://reviews.webmd.com/drugs/drugreview-53691-inderide-40-25-tablet\n"
     ]
    },
    {
     "name": "stderr",
     "output_type": "stream",
     "text": [
      " 52%|█████▏    | 260/499 [21:30<06:31,  1.64s/it]"
     ]
    },
    {
     "name": "stdout",
     "output_type": "stream",
     "text": [
      "https://reviews.webmd.com/drugs/drugreview-53692-inderide-80-25-tablet\n"
     ]
    },
    {
     "name": "stderr",
     "output_type": "stream",
     "text": [
      " 53%|█████▎    | 262/499 [21:33<06:11,  1.57s/it]"
     ]
    },
    {
     "name": "stdout",
     "output_type": "stream",
     "text": [
      "skipping https://reviews.webmd.com/drugs/drugreview-53693-clonidine-hcl-w-chlorthalidone-tablet: page not found\n"
     ]
    },
    {
     "name": "stderr",
     "output_type": "stream",
     "text": [
      " 53%|█████▎    | 263/499 [21:34<05:33,  1.41s/it]"
     ]
    },
    {
     "name": "stdout",
     "output_type": "stream",
     "text": [
      "skipping https://reviews.webmd.com/drugs/drugreview-53694-clonidine-w-chlorthalidone-tablet: page not found\n"
     ]
    },
    {
     "name": "stderr",
     "output_type": "stream",
     "text": [
      " 53%|█████▎    | 264/499 [21:35<05:07,  1.31s/it]"
     ]
    },
    {
     "name": "stdout",
     "output_type": "stream",
     "text": [
      "skipping https://reviews.webmd.com/drugs/drugreview-53695-combipres-tablet: page not found\n"
     ]
    },
    {
     "name": "stderr",
     "output_type": "stream",
     "text": [
      " 53%|█████▎    | 265/499 [21:37<04:51,  1.24s/it]"
     ]
    },
    {
     "name": "stdout",
     "output_type": "stream",
     "text": [
      "skipping https://reviews.webmd.com/drugs/drugreview-53696-methyldopa-w-chlorothiazide-tablet: page not found\n"
     ]
    },
    {
     "name": "stderr",
     "output_type": "stream",
     "text": [
      " 53%|█████▎    | 266/499 [21:38<04:38,  1.20s/it]"
     ]
    },
    {
     "name": "stdout",
     "output_type": "stream",
     "text": [
      "skipping https://reviews.webmd.com/drugs/drugreview-53697-minizide-2-capsule: page not found\n"
     ]
    },
    {
     "name": "stderr",
     "output_type": "stream",
     "text": [
      " 54%|█████▎    | 267/499 [21:39<04:29,  1.16s/it]"
     ]
    },
    {
     "name": "stdout",
     "output_type": "stream",
     "text": [
      "skipping https://reviews.webmd.com/drugs/drugreview-53698-hydralazine-w-hctz-capsule: page not found\n"
     ]
    },
    {
     "name": "stderr",
     "output_type": "stream",
     "text": [
      " 54%|█████▎    | 268/499 [21:40<04:19,  1.12s/it]"
     ]
    },
    {
     "name": "stdout",
     "output_type": "stream",
     "text": [
      "skipping https://reviews.webmd.com/drugs/drugreview-53699-hydrazide-capsule: page not found\n"
     ]
    },
    {
     "name": "stderr",
     "output_type": "stream",
     "text": [
      " 54%|█████▍    | 269/499 [21:41<04:15,  1.11s/it]"
     ]
    },
    {
     "name": "stdout",
     "output_type": "stream",
     "text": [
      "skipping https://reviews.webmd.com/drugs/drugreview-53700-hy-zide-capsule: page not found\n"
     ]
    },
    {
     "name": "stderr",
     "output_type": "stream",
     "text": [
      " 54%|█████▍    | 270/499 [21:42<04:16,  1.12s/it]"
     ]
    },
    {
     "name": "stdout",
     "output_type": "stream",
     "text": [
      "skipping https://reviews.webmd.com/drugs/drugreview-53701-hydra-zide-capsule: page not found\n",
      "https://reviews.webmd.com/drugs/drugreview-53705-lasimide-tablet\n"
     ]
    },
    {
     "name": "stderr",
     "output_type": "stream",
     "text": [
      "\n",
      "  0%|          | 0/1 [00:00<?, ?it/s]\u001b[A\n",
      "100%|██████████| 1/1 [00:00<00:00,  1.76it/s]\n",
      " 54%|█████▍    | 271/499 [21:44<05:44,  1.51s/it]"
     ]
    },
    {
     "name": "stdout",
     "output_type": "stream",
     "text": [
      "https://reviews.webmd.com/drugs/drugreview-53706-fumide-tablet\n"
     ]
    },
    {
     "name": "stderr",
     "output_type": "stream",
     "text": [
      " 55%|█████▍    | 272/499 [21:46<05:58,  1.58s/it]"
     ]
    },
    {
     "name": "stdout",
     "output_type": "stream",
     "text": [
      "https://reviews.webmd.com/drugs/drugreview-53707-delone-tablet\n"
     ]
    },
    {
     "name": "stderr",
     "output_type": "stream",
     "text": [
      " 55%|█████▍    | 273/499 [21:48<06:22,  1.69s/it]"
     ]
    },
    {
     "name": "stdout",
     "output_type": "stream",
     "text": [
      "https://reviews.webmd.com/drugs/drugreview-53708-lo-aqua-tablet\n"
     ]
    },
    {
     "name": "stderr",
     "output_type": "stream",
     "text": [
      " 55%|█████▍    | 274/499 [21:50<06:20,  1.69s/it]"
     ]
    },
    {
     "name": "stdout",
     "output_type": "stream",
     "text": [
      "https://reviews.webmd.com/drugs/drugreview-53709-furoben-tablet\n"
     ]
    },
    {
     "name": "stderr",
     "output_type": "stream",
     "text": [
      "\n",
      "  0%|          | 0/1 [00:00<?, ?it/s]\u001b[A\n",
      "100%|██████████| 1/1 [00:00<00:00,  1.32it/s]\n",
      " 55%|█████▌    | 275/499 [21:52<07:21,  1.97s/it]"
     ]
    },
    {
     "name": "stdout",
     "output_type": "stream",
     "text": [
      "https://reviews.webmd.com/drugs/drugreview-53710-detue-tablet\n"
     ]
    },
    {
     "name": "stderr",
     "output_type": "stream",
     "text": [
      " 55%|█████▌    | 276/499 [21:54<07:12,  1.94s/it]"
     ]
    },
    {
     "name": "stdout",
     "output_type": "stream",
     "text": [
      "https://reviews.webmd.com/drugs/drugreview-53717-altex-tablet\n"
     ]
    },
    {
     "name": "stderr",
     "output_type": "stream",
     "text": [
      " 56%|█████▌    | 277/499 [21:56<06:57,  1.88s/it]"
     ]
    },
    {
     "name": "stdout",
     "output_type": "stream",
     "text": [
      "https://reviews.webmd.com/drugs/drugreview-53718-spirazone-tablet\n"
     ]
    },
    {
     "name": "stderr",
     "output_type": "stream",
     "text": [
      " 56%|█████▌    | 279/499 [21:59<05:47,  1.58s/it]"
     ]
    },
    {
     "name": "stdout",
     "output_type": "stream",
     "text": [
      "skipping https://reviews.webmd.com/drugs/drugreview-53719-naturetin-tablet: page not found\n",
      "https://reviews.webmd.com/drugs/drugreview-53720-sk-chlorothiazide-tablet\n"
     ]
    },
    {
     "name": "stderr",
     "output_type": "stream",
     "text": [
      " 56%|█████▌    | 280/499 [22:00<05:45,  1.58s/it]"
     ]
    },
    {
     "name": "stdout",
     "output_type": "stream",
     "text": [
      "https://reviews.webmd.com/drugs/drugreview-53721-dithirex-tablet\n"
     ]
    },
    {
     "name": "stderr",
     "output_type": "stream",
     "text": [
      " 56%|█████▋    | 281/499 [22:02<06:06,  1.68s/it]"
     ]
    },
    {
     "name": "stdout",
     "output_type": "stream",
     "text": [
      "https://reviews.webmd.com/drugs/drugreview-53722-diurigen-tablet\n"
     ]
    },
    {
     "name": "stderr",
     "output_type": "stream",
     "text": [
      " 57%|█████▋    | 282/499 [22:04<06:01,  1.67s/it]"
     ]
    },
    {
     "name": "stdout",
     "output_type": "stream",
     "text": [
      "https://reviews.webmd.com/drugs/drugreview-53723-chlorulan-tablet\n"
     ]
    },
    {
     "name": "stderr",
     "output_type": "stream",
     "text": [
      " 57%|█████▋    | 283/499 [22:05<05:49,  1.62s/it]"
     ]
    },
    {
     "name": "stdout",
     "output_type": "stream",
     "text": [
      "https://reviews.webmd.com/drugs/drugreview-53724-kenuril-tablet\n"
     ]
    },
    {
     "name": "stderr",
     "output_type": "stream",
     "text": [
      " 57%|█████▋    | 284/499 [22:07<05:53,  1.64s/it]"
     ]
    },
    {
     "name": "stdout",
     "output_type": "stream",
     "text": [
      "https://reviews.webmd.com/drugs/drugreview-53725-kenuril-tablet\n"
     ]
    },
    {
     "name": "stderr",
     "output_type": "stream",
     "text": [
      " 57%|█████▋    | 285/499 [22:09<05:59,  1.68s/it]"
     ]
    },
    {
     "name": "stdout",
     "output_type": "stream",
     "text": [
      "https://reviews.webmd.com/drugs/drugreview-53726-biogroton-tablet\n"
     ]
    },
    {
     "name": "stderr",
     "output_type": "stream",
     "text": [
      " 57%|█████▋    | 286/499 [22:11<05:58,  1.68s/it]"
     ]
    },
    {
     "name": "stdout",
     "output_type": "stream",
     "text": [
      "https://reviews.webmd.com/drugs/drugreview-53727-hylidone-tablet\n"
     ]
    },
    {
     "name": "stderr",
     "output_type": "stream",
     "text": [
      " 58%|█████▊    | 287/499 [22:12<05:59,  1.69s/it]"
     ]
    },
    {
     "name": "stdout",
     "output_type": "stream",
     "text": [
      "https://reviews.webmd.com/drugs/drugreview-53728-sk-hydrochlorothiazide-tablet\n"
     ]
    },
    {
     "name": "stderr",
     "output_type": "stream",
     "text": [
      " 58%|█████▊    | 288/499 [22:14<06:09,  1.75s/it]"
     ]
    },
    {
     "name": "stdout",
     "output_type": "stream",
     "text": [
      "https://reviews.webmd.com/drugs/drugreview-53729-hydrorex-tablet\n"
     ]
    },
    {
     "name": "stderr",
     "output_type": "stream",
     "text": [
      " 58%|█████▊    | 289/499 [22:16<06:07,  1.75s/it]"
     ]
    },
    {
     "name": "stdout",
     "output_type": "stream",
     "text": [
      "https://reviews.webmd.com/drugs/drugreview-53730-icn-hythide-tablet\n"
     ]
    },
    {
     "name": "stderr",
     "output_type": "stream",
     "text": [
      " 58%|█████▊    | 290/499 [22:18<06:06,  1.76s/it]"
     ]
    },
    {
     "name": "stdout",
     "output_type": "stream",
     "text": [
      "https://reviews.webmd.com/drugs/drugreview-53731-hydrochlorulan-tablet\n"
     ]
    },
    {
     "name": "stderr",
     "output_type": "stream",
     "text": [
      " 58%|█████▊    | 291/499 [22:20<06:24,  1.85s/it]"
     ]
    },
    {
     "name": "stdout",
     "output_type": "stream",
     "text": [
      "https://reviews.webmd.com/drugs/drugreview-53732-hydoril-tablet\n"
     ]
    },
    {
     "name": "stderr",
     "output_type": "stream",
     "text": [
      " 59%|█████▊    | 292/499 [22:22<06:41,  1.94s/it]"
     ]
    },
    {
     "name": "stdout",
     "output_type": "stream",
     "text": [
      "https://reviews.webmd.com/drugs/drugreview-53733-hyazide-tablet\n"
     ]
    },
    {
     "name": "stderr",
     "output_type": "stream",
     "text": [
      " 59%|█████▊    | 293/499 [22:24<06:23,  1.86s/it]"
     ]
    },
    {
     "name": "stdout",
     "output_type": "stream",
     "text": [
      "https://reviews.webmd.com/drugs/drugreview-53734-hydro-d-tablet\n"
     ]
    },
    {
     "name": "stderr",
     "output_type": "stream",
     "text": [
      " 59%|█████▉    | 294/499 [22:25<06:10,  1.81s/it]"
     ]
    },
    {
     "name": "stdout",
     "output_type": "stream",
     "text": [
      "https://reviews.webmd.com/drugs/drugreview-53735-loqua-tablet\n"
     ]
    },
    {
     "name": "stderr",
     "output_type": "stream",
     "text": [
      " 59%|█████▉    | 295/499 [22:27<06:00,  1.77s/it]"
     ]
    },
    {
     "name": "stdout",
     "output_type": "stream",
     "text": [
      "https://reviews.webmd.com/drugs/drugreview-53736-kenazide-h-tablet\n"
     ]
    },
    {
     "name": "stderr",
     "output_type": "stream",
     "text": [
      " 59%|█████▉    | 296/499 [22:29<05:55,  1.75s/it]"
     ]
    },
    {
     "name": "stdout",
     "output_type": "stream",
     "text": [
      "https://reviews.webmd.com/drugs/drugreview-53737-m-zide-tablet\n"
     ]
    },
    {
     "name": "stderr",
     "output_type": "stream",
     "text": [
      " 60%|█████▉    | 297/499 [22:30<05:39,  1.68s/it]"
     ]
    },
    {
     "name": "stdout",
     "output_type": "stream",
     "text": [
      "https://reviews.webmd.com/drugs/drugreview-53738-hydroaca-tablet\n"
     ]
    },
    {
     "name": "stderr",
     "output_type": "stream",
     "text": [
      " 60%|█████▉    | 298/499 [22:32<05:50,  1.74s/it]"
     ]
    },
    {
     "name": "stdout",
     "output_type": "stream",
     "text": [
      "https://reviews.webmd.com/drugs/drugreview-53739-hyclar-tablet\n"
     ]
    },
    {
     "name": "stderr",
     "output_type": "stream",
     "text": [
      " 60%|█████▉    | 299/499 [22:34<06:19,  1.90s/it]"
     ]
    },
    {
     "name": "stdout",
     "output_type": "stream",
     "text": [
      "https://reviews.webmd.com/drugs/drugreview-53740-tri-zide-tablet\n"
     ]
    },
    {
     "name": "stderr",
     "output_type": "stream",
     "text": [
      " 60%|██████    | 300/499 [22:36<06:14,  1.88s/it]"
     ]
    },
    {
     "name": "stdout",
     "output_type": "stream",
     "text": [
      "https://reviews.webmd.com/drugs/drugreview-53741-hydromal-tablet\n"
     ]
    },
    {
     "name": "stderr",
     "output_type": "stream",
     "text": [
      " 60%|██████    | 301/499 [22:38<05:54,  1.79s/it]"
     ]
    },
    {
     "name": "stdout",
     "output_type": "stream",
     "text": [
      "https://reviews.webmd.com/drugs/drugreview-53742-hydro-z-tablet\n"
     ]
    },
    {
     "name": "stderr",
     "output_type": "stream",
     "text": [
      " 61%|██████    | 302/499 [22:39<05:41,  1.74s/it]"
     ]
    },
    {
     "name": "stdout",
     "output_type": "stream",
     "text": [
      "https://reviews.webmd.com/drugs/drugreview-53743-hydro-chlor-tablet\n"
     ]
    },
    {
     "name": "stderr",
     "output_type": "stream",
     "text": [
      "\n",
      "  0%|          | 0/1 [00:00<?, ?it/s]\u001b[A\n",
      "100%|██████████| 1/1 [00:00<00:00,  1.99it/s]\n",
      " 61%|██████    | 303/499 [22:42<06:13,  1.91s/it]"
     ]
    },
    {
     "name": "stdout",
     "output_type": "stream",
     "text": [
      "https://reviews.webmd.com/drugs/drugreview-53744-hydrozide-tablet\n"
     ]
    },
    {
     "name": "stderr",
     "output_type": "stream",
     "text": [
      " 61%|██████    | 304/499 [22:43<06:06,  1.88s/it]"
     ]
    },
    {
     "name": "stdout",
     "output_type": "stream",
     "text": [
      "https://reviews.webmd.com/drugs/drugreview-53745-tenzide-tablet\n"
     ]
    },
    {
     "name": "stderr",
     "output_type": "stream",
     "text": [
      " 61%|██████    | 305/499 [22:45<06:05,  1.88s/it]"
     ]
    },
    {
     "name": "stdout",
     "output_type": "stream",
     "text": [
      "https://reviews.webmd.com/drugs/drugreview-53746-aqua-cen-tablet\n"
     ]
    },
    {
     "name": "stderr",
     "output_type": "stream",
     "text": [
      " 61%|██████▏   | 306/499 [22:47<05:49,  1.81s/it]"
     ]
    },
    {
     "name": "stdout",
     "output_type": "stream",
     "text": [
      "https://reviews.webmd.com/drugs/drugreview-53747-hydro-t-tablet\n"
     ]
    },
    {
     "name": "stderr",
     "output_type": "stream",
     "text": [
      " 62%|██████▏   | 307/499 [22:49<05:48,  1.82s/it]"
     ]
    },
    {
     "name": "stdout",
     "output_type": "stream",
     "text": [
      "https://reviews.webmd.com/drugs/drugreview-53748-j-zide-tablet\n"
     ]
    },
    {
     "name": "stderr",
     "output_type": "stream",
     "text": [
      " 62%|██████▏   | 308/499 [22:50<05:33,  1.75s/it]"
     ]
    },
    {
     "name": "stdout",
     "output_type": "stream",
     "text": [
      "https://reviews.webmd.com/drugs/drugreview-53749-loqua-tablet\n"
     ]
    },
    {
     "name": "stderr",
     "output_type": "stream",
     "text": [
      " 62%|██████▏   | 309/499 [22:52<05:21,  1.69s/it]"
     ]
    },
    {
     "name": "stdout",
     "output_type": "stream",
     "text": [
      "https://reviews.webmd.com/drugs/drugreview-53750-diurazide-tablet\n"
     ]
    },
    {
     "name": "stderr",
     "output_type": "stream",
     "text": [
      " 62%|██████▏   | 310/499 [22:54<05:18,  1.69s/it]"
     ]
    },
    {
     "name": "stdout",
     "output_type": "stream",
     "text": [
      "https://reviews.webmd.com/drugs/drugreview-53751-kenazide-h-tablet\n"
     ]
    },
    {
     "name": "stderr",
     "output_type": "stream",
     "text": [
      " 62%|██████▏   | 311/499 [22:55<05:28,  1.75s/it]"
     ]
    },
    {
     "name": "stdout",
     "output_type": "stream",
     "text": [
      "https://reviews.webmd.com/drugs/drugreview-53752-kenazide-e-tablet\n"
     ]
    },
    {
     "name": "stderr",
     "output_type": "stream",
     "text": [
      " 63%|██████▎   | 312/499 [22:57<05:21,  1.72s/it]"
     ]
    },
    {
     "name": "stdout",
     "output_type": "stream",
     "text": [
      "https://reviews.webmd.com/drugs/drugreview-53753-diaqua-tablet\n"
     ]
    },
    {
     "name": "stderr",
     "output_type": "stream",
     "text": [
      " 63%|██████▎   | 313/499 [22:59<05:15,  1.70s/it]"
     ]
    },
    {
     "name": "stdout",
     "output_type": "stream",
     "text": [
      "https://reviews.webmd.com/drugs/drugreview-53754-aquamet-tablet\n"
     ]
    },
    {
     "name": "stderr",
     "output_type": "stream",
     "text": [
      " 63%|██████▎   | 314/499 [23:01<05:18,  1.72s/it]"
     ]
    },
    {
     "name": "stdout",
     "output_type": "stream",
     "text": [
      "https://reviews.webmd.com/drugs/drugreview-53755-hyclar-tablet\n"
     ]
    },
    {
     "name": "stderr",
     "output_type": "stream",
     "text": [
      " 63%|██████▎   | 315/499 [23:02<05:16,  1.72s/it]"
     ]
    },
    {
     "name": "stdout",
     "output_type": "stream",
     "text": [
      "https://reviews.webmd.com/drugs/drugreview-53756-hychlor-tablet\n"
     ]
    },
    {
     "name": "stderr",
     "output_type": "stream",
     "text": [
      "\n",
      "  0%|          | 0/1 [00:00<?, ?it/s]\u001b[A\n",
      "100%|██████████| 1/1 [00:00<00:00,  1.85it/s]\n",
      " 63%|██████▎   | 316/499 [23:05<05:59,  1.96s/it]"
     ]
    },
    {
     "name": "stdout",
     "output_type": "stream",
     "text": [
      "https://reviews.webmd.com/drugs/drugreview-53757-hydrozide-tablet\n"
     ]
    },
    {
     "name": "stderr",
     "output_type": "stream",
     "text": [
      " 64%|██████▎   | 317/499 [23:06<05:38,  1.86s/it]"
     ]
    },
    {
     "name": "stdout",
     "output_type": "stream",
     "text": [
      "https://reviews.webmd.com/drugs/drugreview-53758-aquazide-h-tablet\n"
     ]
    },
    {
     "name": "stderr",
     "output_type": "stream",
     "text": [
      "\n",
      "  0%|          | 0/1 [00:00<?, ?it/s]\u001b[A\n",
      "100%|██████████| 1/1 [00:00<00:00,  1.98it/s]\n",
      " 64%|██████▎   | 318/499 [23:09<05:54,  1.96s/it]"
     ]
    },
    {
     "name": "stdout",
     "output_type": "stream",
     "text": [
      "https://reviews.webmd.com/drugs/drugreview-53759-hydroben-tablet\n"
     ]
    },
    {
     "name": "stderr",
     "output_type": "stream",
     "text": [
      " 64%|██████▍   | 320/499 [23:11<04:48,  1.61s/it]"
     ]
    },
    {
     "name": "stdout",
     "output_type": "stream",
     "text": [
      "skipping https://reviews.webmd.com/drugs/drugreview-53760-sonazide-tablet: page not found\n",
      "https://reviews.webmd.com/drugs/drugreview-53761-diulo-tablet\n"
     ]
    },
    {
     "name": "stderr",
     "output_type": "stream",
     "text": [
      " 64%|██████▍   | 321/499 [23:13<04:59,  1.68s/it]"
     ]
    },
    {
     "name": "stdout",
     "output_type": "stream",
     "text": [
      "https://reviews.webmd.com/drugs/drugreview-53768-aquazide-tablet\n"
     ]
    },
    {
     "name": "stderr",
     "output_type": "stream",
     "text": [
      "\n",
      "  0%|          | 0/1 [00:00<?, ?it/s]\u001b[A\n",
      "100%|██████████| 1/1 [00:00<00:00,  1.18it/s]\n",
      " 65%|██████▍   | 322/499 [23:16<06:01,  2.04s/it]"
     ]
    },
    {
     "name": "stdout",
     "output_type": "stream",
     "text": [
      "https://reviews.webmd.com/drugs/drugreview-53772-amiloride-hcl-w-hctz-tablet\n"
     ]
    },
    {
     "name": "stderr",
     "output_type": "stream",
     "text": [
      " 65%|██████▍   | 323/499 [23:18<06:08,  2.10s/it]"
     ]
    },
    {
     "name": "stdout",
     "output_type": "stream",
     "text": [
      "https://reviews.webmd.com/drugs/drugreview-53773-spironolactone-w-hctz-tablet\n"
     ]
    },
    {
     "name": "stderr",
     "output_type": "stream",
     "text": [
      " 65%|██████▍   | 324/499 [23:20<05:48,  1.99s/it]"
     ]
    },
    {
     "name": "stdout",
     "output_type": "stream",
     "text": [
      "https://reviews.webmd.com/drugs/drugreview-53774-aldarex-plus-tablet\n"
     ]
    },
    {
     "name": "stderr",
     "output_type": "stream",
     "text": [
      " 65%|██████▌   | 325/499 [23:22<05:27,  1.88s/it]"
     ]
    },
    {
     "name": "stdout",
     "output_type": "stream",
     "text": [
      "https://reviews.webmd.com/drugs/drugreview-53775-spironazide-tablet\n"
     ]
    },
    {
     "name": "stderr",
     "output_type": "stream",
     "text": [
      "\n",
      "  0%|          | 0/1 [00:00<?, ?it/s]\u001b[A\n",
      "100%|██████████| 1/1 [00:00<00:00,  2.01it/s]\n",
      " 65%|██████▌   | 326/499 [23:24<05:46,  2.00s/it]"
     ]
    },
    {
     "name": "stdout",
     "output_type": "stream",
     "text": [
      "https://reviews.webmd.com/drugs/drugreview-53776-altexide-tablet\n"
     ]
    },
    {
     "name": "stderr",
     "output_type": "stream",
     "text": [
      " 66%|██████▌   | 327/499 [23:26<05:26,  1.90s/it]"
     ]
    },
    {
     "name": "stdout",
     "output_type": "stream",
     "text": [
      "https://reviews.webmd.com/drugs/drugreview-53777-spirozide-tablet\n"
     ]
    },
    {
     "name": "stderr",
     "output_type": "stream",
     "text": [
      " 66%|██████▌   | 328/499 [23:27<05:15,  1.84s/it]"
     ]
    },
    {
     "name": "stdout",
     "output_type": "stream",
     "text": [
      "https://reviews.webmd.com/drugs/drugreview-53778-decozide-tablet\n"
     ]
    },
    {
     "name": "stderr",
     "output_type": "stream",
     "text": [
      " 66%|██████▌   | 329/499 [23:29<05:15,  1.86s/it]"
     ]
    },
    {
     "name": "stdout",
     "output_type": "stream",
     "text": [
      "https://reviews.webmd.com/drugs/drugreview-53779-spirochlor-tablet\n"
     ]
    },
    {
     "name": "stderr",
     "output_type": "stream",
     "text": [
      "\n",
      "  0%|          | 0/1 [00:00<?, ?it/s]\u001b[A\n",
      "100%|██████████| 1/1 [00:00<00:00,  1.41it/s]\n",
      " 66%|██████▌   | 330/499 [23:32<05:43,  2.04s/it]"
     ]
    },
    {
     "name": "stdout",
     "output_type": "stream",
     "text": [
      "https://reviews.webmd.com/drugs/drugreview-53780-hydrotone-tablet\n"
     ]
    },
    {
     "name": "stderr",
     "output_type": "stream",
     "text": [
      " 66%|██████▋   | 331/499 [23:33<05:21,  1.91s/it]"
     ]
    },
    {
     "name": "stdout",
     "output_type": "stream",
     "text": [
      "https://reviews.webmd.com/drugs/drugreview-53781-triamterene-w-hctz-capsule\n"
     ]
    },
    {
     "name": "stderr",
     "output_type": "stream",
     "text": [
      " 67%|██████▋   | 332/499 [23:35<05:06,  1.84s/it]"
     ]
    },
    {
     "name": "stdout",
     "output_type": "stream",
     "text": [
      "https://reviews.webmd.com/drugs/drugreview-53782-triamtazide-capsule\n"
     ]
    },
    {
     "name": "stderr",
     "output_type": "stream",
     "text": [
      "\n",
      "  0%|          | 0/1 [00:00<?, ?it/s]\u001b[A\n",
      "100%|██████████| 1/1 [00:00<00:00,  1.67it/s]\n",
      " 67%|██████▋   | 333/499 [23:37<05:32,  2.00s/it]"
     ]
    },
    {
     "name": "stdout",
     "output_type": "stream",
     "text": [
      "https://reviews.webmd.com/drugs/drugreview-53783-maxzide-25-tablet\n"
     ]
    },
    {
     "name": "stderr",
     "output_type": "stream",
     "text": [
      " 67%|██████▋   | 334/499 [23:39<05:29,  2.00s/it]"
     ]
    },
    {
     "name": "stdout",
     "output_type": "stream",
     "text": [
      "https://reviews.webmd.com/drugs/drugreview-53784-trimax-tablet\n"
     ]
    },
    {
     "name": "stderr",
     "output_type": "stream",
     "text": [
      "\n",
      "  0%|          | 0/1 [00:00<?, ?it/s]\u001b[A\n",
      "100%|██████████| 1/1 [00:00<00:00,  2.17it/s]\n",
      " 67%|██████▋   | 335/499 [23:41<05:31,  2.02s/it]"
     ]
    },
    {
     "name": "stdout",
     "output_type": "stream",
     "text": [
      "https://reviews.webmd.com/drugs/drugreview-5435-timolol-maleate\n"
     ]
    },
    {
     "name": "stderr",
     "output_type": "stream",
     "text": [
      "\n",
      "  0%|          | 0/1 [00:00<?, ?it/s]\u001b[A\n",
      "100%|██████████| 1/1 [00:00<00:00,  2.05it/s]\n",
      " 67%|██████▋   | 336/499 [23:44<05:44,  2.11s/it]"
     ]
    },
    {
     "name": "stdout",
     "output_type": "stream",
     "text": [
      "https://reviews.webmd.com/drugs/drugreview-5481-guanfacine-hcl\n"
     ]
    },
    {
     "name": "stderr",
     "output_type": "stream",
     "text": [
      "\n",
      "  0%|          | 0/5 [00:00<?, ?it/s]\u001b[A\n",
      " 20%|██        | 1/5 [00:01<00:04,  1.13s/it]\u001b[A\n",
      " 40%|████      | 2/5 [00:02<00:03,  1.20s/it]\u001b[A\n",
      " 60%|██████    | 3/5 [00:03<00:02,  1.27s/it]\u001b[A\n",
      " 80%|████████  | 4/5 [00:04<00:01,  1.23s/it]\u001b[A\n",
      "100%|██████████| 5/5 [00:05<00:00,  1.17s/it]\n",
      " 68%|██████▊   | 337/499 [23:51<10:15,  3.80s/it]"
     ]
    },
    {
     "name": "stdout",
     "output_type": "stream",
     "text": [
      "https://reviews.webmd.com/drugs/drugreview-5481-guanfacine-hcl-er\n"
     ]
    },
    {
     "name": "stderr",
     "output_type": "stream",
     "text": [
      "\n",
      "  0%|          | 0/5 [00:00<?, ?it/s]\u001b[A\n",
      " 20%|██        | 1/5 [00:01<00:04,  1.03s/it]\u001b[A\n",
      " 40%|████      | 2/5 [00:01<00:02,  1.07it/s]\u001b[A\n",
      " 60%|██████    | 3/5 [00:02<00:01,  1.16it/s]\u001b[A\n",
      " 80%|████████  | 4/5 [00:03<00:00,  1.19it/s]\u001b[A\n",
      "100%|██████████| 5/5 [00:04<00:00,  1.20it/s]\n",
      " 68%|██████▊   | 339/499 [23:58<08:47,  3.30s/it]"
     ]
    },
    {
     "name": "stdout",
     "output_type": "stream",
     "text": [
      "skipping https://reviews.webmd.com/drugs/drugreview-5491-levatol-tablet: page not found\n"
     ]
    },
    {
     "name": "stderr",
     "output_type": "stream",
     "text": [
      " 68%|██████▊   | 340/499 [23:59<06:58,  2.63s/it]"
     ]
    },
    {
     "name": "stdout",
     "output_type": "stream",
     "text": [
      "skipping https://reviews.webmd.com/drugs/drugreview-5493-penbutolol-tablet: page not found\n"
     ]
    },
    {
     "name": "stderr",
     "output_type": "stream",
     "text": [
      " 68%|██████▊   | 341/499 [24:00<05:40,  2.15s/it]"
     ]
    },
    {
     "name": "stdout",
     "output_type": "stream",
     "text": [
      "skipping https://reviews.webmd.com/drugs/drugreview-5496-clorpres-tablet: page not found\n",
      "https://reviews.webmd.com/drugs/drugreview-5499-isoptin-tablet\n"
     ]
    },
    {
     "name": "stderr",
     "output_type": "stream",
     "text": [
      "\n",
      "  0%|          | 0/1 [00:00<?, ?it/s]\u001b[A\n",
      "100%|██████████| 1/1 [00:00<00:00,  1.59it/s]\n",
      " 69%|██████▊   | 342/499 [24:03<06:06,  2.33s/it]"
     ]
    },
    {
     "name": "stdout",
     "output_type": "stream",
     "text": [
      "https://reviews.webmd.com/drugs/drugreview-5512-furosemide\n"
     ]
    },
    {
     "name": "stderr",
     "output_type": "stream",
     "text": [
      "\n",
      "  0%|          | 0/12 [00:00<?, ?it/s]\u001b[A\n",
      "  8%|▊         | 1/12 [00:00<00:08,  1.37it/s]\u001b[A\n",
      " 17%|█▋        | 2/12 [00:02<00:10,  1.08s/it]\u001b[A\n",
      " 25%|██▌       | 3/12 [00:03<00:11,  1.24s/it]\u001b[A\n",
      " 33%|███▎      | 4/12 [00:04<00:09,  1.21s/it]\u001b[A\n",
      " 42%|████▏     | 5/12 [00:05<00:08,  1.22s/it]\u001b[A\n",
      " 50%|█████     | 6/12 [00:07<00:07,  1.29s/it]\u001b[A\n",
      " 58%|█████▊    | 7/12 [00:08<00:06,  1.31s/it]\u001b[A\n",
      " 67%|██████▋   | 8/12 [00:09<00:05,  1.31s/it]\u001b[A\n",
      " 75%|███████▌  | 9/12 [00:11<00:04,  1.34s/it]\u001b[A\n",
      " 83%|████████▎ | 10/12 [00:12<00:02,  1.39s/it]\u001b[A\n",
      " 92%|█████████▏| 11/12 [00:14<00:01,  1.51s/it]\u001b[A\n",
      "100%|██████████| 12/12 [00:15<00:00,  1.33s/it]\n",
      " 69%|██████▊   | 343/499 [24:21<18:17,  7.03s/it]"
     ]
    },
    {
     "name": "stdout",
     "output_type": "stream",
     "text": [
      "https://reviews.webmd.com/drugs/drugreview-5512-furosemide-solution\n"
     ]
    },
    {
     "name": "stderr",
     "output_type": "stream",
     "text": [
      "\n",
      "  0%|          | 0/12 [00:00<?, ?it/s]\u001b[A\n",
      "  8%|▊         | 1/12 [00:00<00:08,  1.29it/s]\u001b[A\n",
      " 17%|█▋        | 2/12 [00:01<00:08,  1.20it/s]\u001b[A\n",
      " 25%|██▌       | 3/12 [00:02<00:07,  1.19it/s]\u001b[A\n",
      " 33%|███▎      | 4/12 [00:03<00:07,  1.09it/s]\u001b[A\n",
      " 42%|████▏     | 5/12 [00:04<00:06,  1.13it/s]\u001b[A\n",
      " 50%|█████     | 6/12 [00:05<00:05,  1.16it/s]\u001b[A\n",
      " 58%|█████▊    | 7/12 [00:06<00:04,  1.16it/s]\u001b[A\n",
      " 67%|██████▋   | 8/12 [00:06<00:03,  1.18it/s]\u001b[A\n",
      " 75%|███████▌  | 9/12 [00:07<00:02,  1.19it/s]\u001b[A\n",
      " 83%|████████▎ | 10/12 [00:08<00:01,  1.16it/s]\u001b[A\n",
      " 92%|█████████▏| 11/12 [00:09<00:00,  1.20it/s]\u001b[A\n",
      "100%|██████████| 12/12 [00:10<00:00,  1.17it/s]\n",
      " 69%|██████▉   | 344/499 [24:32<21:24,  8.29s/it]"
     ]
    },
    {
     "name": "stdout",
     "output_type": "stream",
     "text": [
      "https://reviews.webmd.com/drugs/drugreview-5574-carvedilol\n"
     ]
    },
    {
     "name": "stderr",
     "output_type": "stream",
     "text": [
      "\n",
      "  0%|          | 0/19 [00:00<?, ?it/s]\u001b[A\n",
      "  5%|▌         | 1/19 [00:00<00:13,  1.30it/s]\u001b[A\n",
      " 11%|█         | 2/19 [00:02<00:19,  1.16s/it]\u001b[A\n",
      " 16%|█▌        | 3/19 [00:03<00:20,  1.25s/it]\u001b[A\n",
      " 21%|██        | 4/19 [00:05<00:20,  1.36s/it]\u001b[A\n",
      " 26%|██▋       | 5/19 [00:06<00:19,  1.39s/it]\u001b[A\n",
      " 32%|███▏      | 6/19 [00:08<00:18,  1.45s/it]\u001b[A\n",
      " 37%|███▋      | 7/19 [00:09<00:17,  1.47s/it]\u001b[A\n",
      " 42%|████▏     | 8/19 [00:11<00:17,  1.58s/it]\u001b[A\n",
      " 47%|████▋     | 9/19 [00:12<00:15,  1.54s/it]\u001b[A\n",
      " 53%|█████▎    | 10/19 [00:14<00:13,  1.50s/it]\u001b[A\n",
      " 58%|█████▊    | 11/19 [00:15<00:11,  1.49s/it]\u001b[A\n",
      " 63%|██████▎   | 12/19 [00:16<00:09,  1.41s/it]\u001b[A\n",
      " 68%|██████▊   | 13/19 [00:18<00:08,  1.38s/it]\u001b[A\n",
      " 74%|███████▎  | 14/19 [00:20<00:07,  1.51s/it]\u001b[A\n",
      " 79%|███████▉  | 15/19 [00:21<00:05,  1.46s/it]\u001b[A\n",
      " 84%|████████▍ | 16/19 [00:22<00:04,  1.44s/it]\u001b[A\n",
      " 89%|████████▉ | 17/19 [00:24<00:02,  1.39s/it]\u001b[A\n",
      " 95%|█████████▍| 18/19 [00:25<00:01,  1.35s/it]\u001b[A\n",
      "100%|██████████| 19/19 [00:26<00:00,  1.41s/it]\n",
      " 69%|██████▉   | 346/499 [25:02<26:48, 10.51s/it]"
     ]
    },
    {
     "name": "stdout",
     "output_type": "stream",
     "text": [
      "skipping https://reviews.webmd.com/drugs/drugreview-5588-apresazide-capsule: page not found\n",
      "https://reviews.webmd.com/drugs/drugreview-5591-zestoretic\n"
     ]
    },
    {
     "name": "stderr",
     "output_type": "stream",
     "text": [
      "\n",
      "  0%|          | 0/3 [00:00<?, ?it/s]\u001b[A\n",
      " 33%|███▎      | 1/3 [00:00<00:01,  1.10it/s]\u001b[A\n",
      " 67%|██████▋   | 2/3 [00:02<00:01,  1.13s/it]\u001b[A\n",
      "100%|██████████| 3/3 [00:03<00:00,  1.09s/it]\n",
      " 70%|██████▉   | 348/499 [25:08<16:35,  6.59s/it]"
     ]
    },
    {
     "name": "stdout",
     "output_type": "stream",
     "text": [
      "skipping https://reviews.webmd.com/drugs/drugreview-5734-saluron-tablet: page not found\n",
      "https://reviews.webmd.com/drugs/drugreview-5943-oretic-tablet\n"
     ]
    },
    {
     "name": "stderr",
     "output_type": "stream",
     "text": [
      "\n",
      "  0%|          | 0/1 [00:00<?, ?it/s]\u001b[A\n",
      "100%|██████████| 1/1 [00:00<00:00,  2.07it/s]\n",
      " 70%|██████▉   | 349/499 [25:11<13:13,  5.29s/it]"
     ]
    },
    {
     "name": "stdout",
     "output_type": "stream",
     "text": [
      "https://reviews.webmd.com/drugs/drugreview-6010-adalat-cc-tablet-er\n"
     ]
    },
    {
     "name": "stderr",
     "output_type": "stream",
     "text": [
      "\n",
      "  0%|          | 0/1 [00:00<?, ?it/s]\u001b[A\n",
      "100%|██████████| 1/1 [00:00<00:00,  1.33it/s]\n",
      " 70%|███████   | 350/499 [25:13<11:12,  4.51s/it]"
     ]
    },
    {
     "name": "stdout",
     "output_type": "stream",
     "text": [
      "https://reviews.webmd.com/drugs/drugreview-6036-fosinopril-sodium\n"
     ]
    },
    {
     "name": "stderr",
     "output_type": "stream",
     "text": [
      "\n",
      "  0%|          | 0/2 [00:00<?, ?it/s]\u001b[A\n",
      " 50%|█████     | 1/2 [00:00<00:00,  1.15it/s]\u001b[A\n",
      "100%|██████████| 2/2 [00:01<00:00,  1.00it/s]\n",
      " 71%|███████   | 352/499 [25:19<08:16,  3.38s/it]"
     ]
    },
    {
     "name": "stdout",
     "output_type": "stream",
     "text": [
      "skipping https://reviews.webmd.com/drugs/drugreview-6070-aquatensen-tablet: page not found\n",
      "https://reviews.webmd.com/drugs/drugreview-6140-isradipine\n"
     ]
    },
    {
     "name": "stderr",
     "output_type": "stream",
     "text": [
      "\n",
      "  0%|          | 0/1 [00:00<?, ?it/s]\u001b[A\n",
      "100%|██████████| 1/1 [00:00<00:00,  1.04it/s]\n",
      " 71%|███████   | 354/499 [25:22<06:11,  2.56s/it]"
     ]
    },
    {
     "name": "stdout",
     "output_type": "stream",
     "text": [
      "skipping https://reviews.webmd.com/drugs/drugreview-6236-hydroflumethiazide-tablet: page not found\n",
      "https://reviews.webmd.com/drugs/drugreview-6254-quinapril-hcl\n"
     ]
    },
    {
     "name": "stderr",
     "output_type": "stream",
     "text": [
      "\n",
      "  0%|          | 0/3 [00:00<?, ?it/s]\u001b[A\n",
      " 33%|███▎      | 1/3 [00:00<00:01,  1.11it/s]\u001b[A\n",
      " 67%|██████▋   | 2/3 [00:02<00:01,  1.27s/it]\u001b[A\n",
      "100%|██████████| 3/3 [00:03<00:00,  1.21s/it]\n",
      " 71%|███████   | 355/499 [25:28<08:21,  3.49s/it]"
     ]
    },
    {
     "name": "stdout",
     "output_type": "stream",
     "text": [
      "https://reviews.webmd.com/drugs/drugreview-6288-spironolactone\n"
     ]
    },
    {
     "name": "stderr",
     "output_type": "stream",
     "text": [
      "\n",
      "  0%|          | 0/22 [00:00<?, ?it/s]\u001b[A\n",
      "  5%|▍         | 1/22 [00:00<00:17,  1.22it/s]\u001b[A\n",
      "  9%|▉         | 2/22 [00:02<00:22,  1.14s/it]\u001b[A\n",
      " 14%|█▎        | 3/22 [00:03<00:26,  1.38s/it]\u001b[A\n",
      " 18%|█▊        | 4/22 [00:05<00:26,  1.46s/it]\u001b[A\n",
      " 23%|██▎       | 5/22 [00:06<00:24,  1.45s/it]\u001b[A\n",
      " 27%|██▋       | 6/22 [00:08<00:23,  1.45s/it]\u001b[A\n",
      " 32%|███▏      | 7/22 [00:09<00:21,  1.44s/it]\u001b[A\n",
      " 36%|███▋      | 8/22 [00:11<00:19,  1.41s/it]\u001b[A\n",
      " 41%|████      | 9/22 [00:12<00:17,  1.37s/it]\u001b[A\n",
      " 45%|████▌     | 10/22 [00:14<00:17,  1.49s/it]\u001b[A\n",
      " 50%|█████     | 11/22 [00:15<00:15,  1.45s/it]\u001b[A\n",
      " 55%|█████▍    | 12/22 [00:16<00:14,  1.45s/it]\u001b[A\n",
      " 59%|█████▉    | 13/22 [00:18<00:12,  1.43s/it]\u001b[A\n",
      " 64%|██████▎   | 14/22 [00:19<00:10,  1.37s/it]\u001b[A\n",
      " 68%|██████▊   | 15/22 [00:21<00:09,  1.40s/it]\u001b[A\n",
      " 73%|███████▎  | 16/22 [00:22<00:08,  1.50s/it]\u001b[A\n",
      " 77%|███████▋  | 17/22 [00:24<00:07,  1.44s/it]\u001b[A\n",
      " 82%|████████▏ | 18/22 [00:25<00:05,  1.37s/it]\u001b[A\n",
      " 86%|████████▋ | 19/22 [00:26<00:04,  1.40s/it]\u001b[A\n",
      " 91%|█████████ | 20/22 [00:28<00:02,  1.40s/it]\u001b[A\n",
      " 95%|█████████▌| 21/22 [00:29<00:01,  1.45s/it]\u001b[A\n",
      "100%|██████████| 22/22 [00:30<00:00,  1.40s/it]\n",
      " 71%|███████▏  | 356/499 [26:01<29:14, 12.27s/it]"
     ]
    },
    {
     "name": "stdout",
     "output_type": "stream",
     "text": [
      "https://reviews.webmd.com/drugs/drugreview-6301-enalapril-maleate\n"
     ]
    },
    {
     "name": "stderr",
     "output_type": "stream",
     "text": [
      "\n",
      "  0%|          | 0/9 [00:00<?, ?it/s]\u001b[A\n",
      " 11%|█         | 1/9 [00:00<00:07,  1.12it/s]\u001b[A\n",
      " 22%|██▏       | 2/9 [00:02<00:08,  1.17s/it]\u001b[A\n",
      " 33%|███▎      | 3/9 [00:03<00:07,  1.24s/it]\u001b[A\n",
      " 44%|████▍     | 4/9 [00:04<00:06,  1.26s/it]\u001b[A\n",
      " 56%|█████▌    | 5/9 [00:06<00:05,  1.40s/it]\u001b[A\n",
      " 67%|██████▋   | 6/9 [00:07<00:04,  1.36s/it]\u001b[A\n",
      " 78%|███████▊  | 7/9 [00:09<00:02,  1.33s/it]\u001b[A\n",
      " 89%|████████▉ | 8/9 [00:10<00:01,  1.42s/it]\u001b[A\n",
      "100%|██████████| 9/9 [00:12<00:00,  1.35s/it]\n",
      " 72%|███████▏  | 357/499 [26:15<30:15, 12.79s/it]"
     ]
    },
    {
     "name": "stdout",
     "output_type": "stream",
     "text": [
      "https://reviews.webmd.com/drugs/drugreview-6301-enalapril-maleate-solution\n"
     ]
    },
    {
     "name": "stderr",
     "output_type": "stream",
     "text": [
      "\n",
      "  0%|          | 0/9 [00:00<?, ?it/s]\u001b[A\n",
      " 11%|█         | 1/9 [00:00<00:06,  1.24it/s]\u001b[A\n",
      " 22%|██▏       | 2/9 [00:01<00:05,  1.21it/s]\u001b[A\n",
      " 33%|███▎      | 3/9 [00:02<00:04,  1.23it/s]\u001b[A\n",
      " 44%|████▍     | 4/9 [00:03<00:04,  1.15it/s]\u001b[A\n",
      " 56%|█████▌    | 5/9 [00:04<00:03,  1.15it/s]\u001b[A\n",
      " 67%|██████▋   | 6/9 [00:05<00:02,  1.05it/s]\u001b[A\n",
      " 78%|███████▊  | 7/9 [00:06<00:01,  1.09it/s]\u001b[A\n",
      " 89%|████████▉ | 8/9 [00:07<00:00,  1.11it/s]\u001b[A\n",
      "100%|██████████| 9/9 [00:07<00:00,  1.14it/s]\n",
      " 72%|███████▏  | 358/499 [26:24<27:30, 11.71s/it]"
     ]
    },
    {
     "name": "stdout",
     "output_type": "stream",
     "text": [
      "https://reviews.webmd.com/drugs/drugreview-6305-chlorothiazide-suspension\n"
     ]
    },
    {
     "name": "stderr",
     "output_type": "stream",
     "text": [
      "\n",
      "  0%|          | 0/1 [00:00<?, ?it/s]\u001b[A\n",
      "100%|██████████| 1/1 [00:00<00:00,  1.75it/s]\n",
      " 72%|███████▏  | 359/499 [26:26<20:50,  8.94s/it]"
     ]
    },
    {
     "name": "stdout",
     "output_type": "stream",
     "text": [
      "https://reviews.webmd.com/drugs/drugreview-6314-diovan\n"
     ]
    },
    {
     "name": "stderr",
     "output_type": "stream",
     "text": [
      "\n",
      "  0%|          | 0/43 [00:00<?, ?it/s]\u001b[A\n",
      "  2%|▏         | 1/43 [00:01<00:45,  1.07s/it]\u001b[A\n",
      "  5%|▍         | 2/43 [00:02<00:51,  1.26s/it]\u001b[A\n",
      "  7%|▋         | 3/43 [00:03<00:51,  1.29s/it]\u001b[A\n",
      "  9%|▉         | 4/43 [00:05<00:54,  1.40s/it]\u001b[A\n",
      " 12%|█▏        | 5/43 [00:06<00:51,  1.36s/it]\u001b[A\n",
      " 14%|█▍        | 6/43 [00:07<00:49,  1.34s/it]\u001b[A\n",
      " 16%|█▋        | 7/43 [00:09<00:52,  1.47s/it]\u001b[A\n",
      " 19%|█▊        | 8/43 [00:11<00:51,  1.46s/it]\u001b[A\n",
      " 21%|██        | 9/43 [00:12<00:49,  1.44s/it]\u001b[A\n",
      " 23%|██▎       | 10/43 [00:14<00:48,  1.48s/it]\u001b[A\n",
      " 26%|██▌       | 11/43 [00:15<00:45,  1.42s/it]\u001b[A\n",
      " 28%|██▊       | 12/43 [00:17<00:47,  1.53s/it]\u001b[A\n",
      " 30%|███       | 13/43 [00:18<00:44,  1.47s/it]\u001b[A\n",
      " 33%|███▎      | 14/43 [00:19<00:41,  1.43s/it]\u001b[A\n",
      " 35%|███▍      | 15/43 [00:21<00:39,  1.40s/it]\u001b[A\n",
      " 37%|███▋      | 16/43 [00:22<00:36,  1.36s/it]\u001b[A\n",
      " 40%|███▉      | 17/43 [00:23<00:34,  1.33s/it]\u001b[A\n",
      " 42%|████▏     | 18/43 [00:25<00:34,  1.39s/it]\u001b[A\n",
      " 44%|████▍     | 19/43 [00:26<00:33,  1.38s/it]\u001b[A\n",
      " 47%|████▋     | 20/43 [00:28<00:33,  1.44s/it]\u001b[A\n",
      " 49%|████▉     | 21/43 [00:29<00:31,  1.43s/it]\u001b[A\n",
      " 51%|█████     | 22/43 [00:31<00:31,  1.48s/it]\u001b[A\n",
      " 53%|█████▎    | 23/43 [00:32<00:28,  1.41s/it]\u001b[A\n",
      " 56%|█████▌    | 24/43 [00:33<00:27,  1.46s/it]\u001b[A\n",
      " 58%|█████▊    | 25/43 [00:35<00:25,  1.41s/it]\u001b[A\n",
      " 60%|██████    | 26/43 [00:36<00:23,  1.40s/it]\u001b[A\n",
      " 63%|██████▎   | 27/43 [00:38<00:22,  1.41s/it]\u001b[A\n",
      " 65%|██████▌   | 28/43 [00:39<00:21,  1.43s/it]\u001b[A\n",
      " 67%|██████▋   | 29/43 [00:40<00:19,  1.36s/it]\u001b[A\n",
      " 70%|██████▉   | 30/43 [00:42<00:18,  1.45s/it]\u001b[A\n",
      " 72%|███████▏  | 31/43 [00:43<00:16,  1.41s/it]\u001b[A\n",
      " 74%|███████▍  | 32/43 [00:45<00:17,  1.60s/it]\u001b[A\n",
      " 77%|███████▋  | 33/43 [00:47<00:16,  1.63s/it]\u001b[A\n",
      " 79%|███████▉  | 34/43 [00:48<00:14,  1.57s/it]\u001b[A\n",
      " 81%|████████▏ | 35/43 [00:50<00:12,  1.60s/it]\u001b[A\n",
      " 84%|████████▎ | 36/43 [00:51<00:10,  1.51s/it]\u001b[A\n",
      " 86%|████████▌ | 37/43 [00:53<00:08,  1.50s/it]\u001b[A\n",
      " 88%|████████▊ | 38/43 [00:54<00:07,  1.48s/it]\u001b[A\n",
      " 91%|█████████ | 39/43 [00:56<00:05,  1.47s/it]\u001b[A\n",
      " 93%|█████████▎| 40/43 [00:57<00:04,  1.51s/it]\u001b[A\n",
      " 95%|█████████▌| 41/43 [00:59<00:03,  1.54s/it]\u001b[A\n",
      " 98%|█████████▊| 42/43 [01:00<00:01,  1.47s/it]\u001b[A\n",
      "100%|██████████| 43/43 [01:01<00:00,  1.44s/it]\n",
      " 72%|███████▏  | 360/499 [27:30<58:57, 25.45s/it]"
     ]
    },
    {
     "name": "stdout",
     "output_type": "stream",
     "text": [
      "https://reviews.webmd.com/drugs/drugreview-63172-olmesartan-medoxomil\n"
     ]
    },
    {
     "name": "stderr",
     "output_type": "stream",
     "text": [
      "\n",
      "  0%|          | 0/3 [00:00<?, ?it/s]\u001b[A\n",
      " 33%|███▎      | 1/3 [00:00<00:01,  1.37it/s]\u001b[A\n",
      " 67%|██████▋   | 2/3 [00:02<00:01,  1.08s/it]\u001b[A\n",
      "100%|██████████| 3/3 [00:03<00:00,  1.02s/it]\n",
      " 72%|███████▏  | 361/499 [27:36<44:29, 19.34s/it]"
     ]
    },
    {
     "name": "stdout",
     "output_type": "stream",
     "text": [
      "https://reviews.webmd.com/drugs/drugreview-63173-benicar\n"
     ]
    },
    {
     "name": "stderr",
     "output_type": "stream",
     "text": [
      "\n",
      "  0%|          | 0/30 [00:00<?, ?it/s]\u001b[A\n",
      "  3%|▎         | 1/30 [00:00<00:23,  1.21it/s]\u001b[A\n",
      "  7%|▋         | 2/30 [00:01<00:28,  1.03s/it]\u001b[A\n",
      " 10%|█         | 3/30 [00:03<00:33,  1.25s/it]\u001b[A\n",
      " 13%|█▎        | 4/30 [00:04<00:34,  1.33s/it]\u001b[A\n",
      " 17%|█▋        | 5/30 [00:06<00:35,  1.41s/it]\u001b[A\n",
      " 20%|██        | 6/30 [00:07<00:33,  1.38s/it]\u001b[A\n",
      " 23%|██▎       | 7/30 [00:09<00:31,  1.37s/it]\u001b[A\n",
      " 27%|██▋       | 8/30 [00:10<00:31,  1.44s/it]\u001b[A\n",
      " 30%|███       | 9/30 [00:12<00:29,  1.42s/it]\u001b[A\n",
      " 33%|███▎      | 10/30 [00:13<00:28,  1.42s/it]\u001b[A\n",
      " 37%|███▋      | 11/30 [00:15<00:28,  1.50s/it]\u001b[A\n",
      " 40%|████      | 12/30 [00:16<00:27,  1.50s/it]\u001b[A\n",
      " 43%|████▎     | 13/30 [00:18<00:24,  1.46s/it]\u001b[A\n",
      " 47%|████▋     | 14/30 [00:19<00:22,  1.42s/it]\u001b[A\n",
      " 50%|█████     | 15/30 [00:20<00:21,  1.40s/it]\u001b[A\n",
      " 53%|█████▎    | 16/30 [00:22<00:19,  1.39s/it]\u001b[A\n",
      " 57%|█████▋    | 17/30 [00:24<00:19,  1.53s/it]\u001b[A\n",
      " 60%|██████    | 18/30 [00:25<00:17,  1.50s/it]\u001b[A\n",
      " 63%|██████▎   | 19/30 [00:26<00:15,  1.41s/it]\u001b[A\n",
      " 67%|██████▋   | 20/30 [00:28<00:14,  1.40s/it]\u001b[A\n",
      " 70%|███████   | 21/30 [00:29<00:12,  1.37s/it]\u001b[A\n",
      " 73%|███████▎  | 22/30 [00:30<00:10,  1.37s/it]\u001b[A\n",
      " 77%|███████▋  | 23/30 [00:32<00:10,  1.45s/it]\u001b[A\n",
      " 80%|████████  | 24/30 [00:33<00:08,  1.41s/it]\u001b[A\n",
      " 83%|████████▎ | 25/30 [00:35<00:07,  1.40s/it]\u001b[A\n",
      " 87%|████████▋ | 26/30 [00:36<00:05,  1.37s/it]\u001b[A\n",
      " 90%|█████████ | 27/30 [00:37<00:04,  1.40s/it]\u001b[A\n",
      " 93%|█████████▎| 28/30 [00:39<00:02,  1.48s/it]\u001b[A\n",
      " 97%|█████████▋| 29/30 [00:40<00:01,  1.46s/it]\u001b[A\n",
      "100%|██████████| 30/30 [00:42<00:00,  1.41s/it]\n",
      " 73%|███████▎  | 362/499 [28:20<1:01:25, 26.90s/it]"
     ]
    },
    {
     "name": "stdout",
     "output_type": "stream",
     "text": [
      "https://reviews.webmd.com/drugs/drugreview-63953-diltiazem-er-capsule-degradable-capsule-degradable\n"
     ]
    },
    {
     "name": "stderr",
     "output_type": "stream",
     "text": [
      "\n",
      "  0%|          | 0/1 [00:00<?, ?it/s]\u001b[A\n",
      "100%|██████████| 1/1 [00:00<00:00,  1.70it/s]\n",
      " 73%|███████▎  | 363/499 [28:23<44:49, 19.78s/it]  "
     ]
    },
    {
     "name": "stdout",
     "output_type": "stream",
     "text": [
      "https://reviews.webmd.com/drugs/drugreview-64014-terazosin-capsule\n"
     ]
    },
    {
     "name": "stderr",
     "output_type": "stream",
     "text": [
      " 73%|███████▎  | 364/499 [28:25<32:14, 14.33s/it]"
     ]
    },
    {
     "name": "stdout",
     "output_type": "stream",
     "text": [
      "https://reviews.webmd.com/drugs/drugreview-64218-eplerenone\n"
     ]
    },
    {
     "name": "stderr",
     "output_type": "stream",
     "text": [
      "\n",
      "  0%|          | 0/1 [00:00<?, ?it/s]\u001b[A\n",
      "100%|██████████| 1/1 [00:00<00:00,  1.32it/s]\n",
      " 73%|███████▎  | 365/499 [28:28<24:12, 10.84s/it]"
     ]
    },
    {
     "name": "stdout",
     "output_type": "stream",
     "text": [
      "https://reviews.webmd.com/drugs/drugreview-64443-nifedipine-er-tablet\n"
     ]
    },
    {
     "name": "stderr",
     "output_type": "stream",
     "text": [
      "\n",
      "  0%|          | 0/1 [00:00<?, ?it/s]\u001b[A\n",
      "100%|██████████| 1/1 [00:00<00:00,  1.64it/s]\n",
      " 73%|███████▎  | 366/499 [28:30<18:29,  8.35s/it]"
     ]
    },
    {
     "name": "stdout",
     "output_type": "stream",
     "text": [
      "https://reviews.webmd.com/drugs/drugreview-64443-nifedipine-er-tablet-osmotic-push-tablet-push\n"
     ]
    },
    {
     "name": "stderr",
     "output_type": "stream",
     "text": [
      "\n",
      "  0%|          | 0/1 [00:00<?, ?it/s]\u001b[A\n",
      "100%|██████████| 1/1 [00:00<00:00,  1.91it/s]\n",
      " 74%|███████▎  | 367/499 [28:32<13:53,  6.32s/it]"
     ]
    },
    {
     "name": "stdout",
     "output_type": "stream",
     "text": [
      "https://reviews.webmd.com/drugs/drugreview-64639-eprosartan-hydrochlorothiazide-tablet\n"
     ]
    },
    {
     "name": "stderr",
     "output_type": "stream",
     "text": [
      "\n",
      "  0%|          | 0/1 [00:00<?, ?it/s]\u001b[A\n",
      "100%|██████████| 1/1 [00:00<00:00,  1.89it/s]\n",
      " 74%|███████▎  | 368/499 [28:34<11:05,  5.08s/it]"
     ]
    },
    {
     "name": "stdout",
     "output_type": "stream",
     "text": [
      "https://reviews.webmd.com/drugs/drugreview-64640-teveten-hct-tablet\n"
     ]
    },
    {
     "name": "stderr",
     "output_type": "stream",
     "text": [
      "\n",
      "  0%|          | 0/1 [00:00<?, ?it/s]\u001b[A\n",
      "100%|██████████| 1/1 [00:00<00:00,  1.54it/s]\n",
      " 74%|███████▍  | 369/499 [28:36<09:23,  4.33s/it]"
     ]
    },
    {
     "name": "stdout",
     "output_type": "stream",
     "text": [
      "https://reviews.webmd.com/drugs/drugreview-6468-ezide-tablet\n"
     ]
    },
    {
     "name": "stderr",
     "output_type": "stream",
     "text": [
      " 74%|███████▍  | 370/499 [28:38<07:35,  3.53s/it]"
     ]
    },
    {
     "name": "stdout",
     "output_type": "stream",
     "text": [
      "https://reviews.webmd.com/drugs/drugreview-6559-edecrin\n"
     ]
    },
    {
     "name": "stderr",
     "output_type": "stream",
     "text": [
      "\n",
      "  0%|          | 0/1 [00:00<?, ?it/s]\u001b[A\n",
      "100%|██████████| 1/1 [00:00<00:00,  1.50it/s]\n",
      " 74%|███████▍  | 371/499 [28:41<06:56,  3.26s/it]"
     ]
    },
    {
     "name": "stdout",
     "output_type": "stream",
     "text": [
      "https://reviews.webmd.com/drugs/drugreview-6670-aldactazide\n"
     ]
    },
    {
     "name": "stderr",
     "output_type": "stream",
     "text": [
      "\n",
      "  0%|          | 0/1 [00:00<?, ?it/s]\u001b[A\n",
      "100%|██████████| 1/1 [00:00<00:00,  1.70it/s]\n",
      " 75%|███████▍  | 372/499 [28:43<06:27,  3.05s/it]"
     ]
    },
    {
     "name": "stdout",
     "output_type": "stream",
     "text": [
      "https://reviews.webmd.com/drugs/drugreview-6671-aldactone\n"
     ]
    },
    {
     "name": "stderr",
     "output_type": "stream",
     "text": [
      "\n",
      "  0%|          | 0/4 [00:00<?, ?it/s]\u001b[A\n",
      " 25%|██▌       | 1/4 [00:01<00:03,  1.13s/it]\u001b[A\n",
      " 50%|█████     | 2/4 [00:02<00:02,  1.33s/it]\u001b[A\n",
      " 75%|███████▌  | 3/4 [00:03<00:01,  1.35s/it]\u001b[A\n",
      "100%|██████████| 4/4 [00:05<00:00,  1.31s/it]\n",
      " 75%|███████▍  | 373/499 [28:51<09:03,  4.31s/it]"
     ]
    },
    {
     "name": "stdout",
     "output_type": "stream",
     "text": [
      "https://reviews.webmd.com/drugs/drugreview-6672-aldomet-tablet\n"
     ]
    },
    {
     "name": "stderr",
     "output_type": "stream",
     "text": [
      "\n",
      "  0%|          | 0/2 [00:00<?, ?it/s]\u001b[A\n",
      " 50%|█████     | 1/2 [00:00<00:00,  1.17it/s]\u001b[A\n",
      "100%|██████████| 2/2 [00:02<00:00,  1.08s/it]\n",
      " 75%|███████▍  | 374/499 [28:55<08:57,  4.30s/it]"
     ]
    },
    {
     "name": "stdout",
     "output_type": "stream",
     "text": [
      "https://reviews.webmd.com/drugs/drugreview-6673-aldoril-15-tablet\n"
     ]
    },
    {
     "name": "stderr",
     "output_type": "stream",
     "text": [
      " 75%|███████▌  | 375/499 [28:57<07:22,  3.57s/it]"
     ]
    },
    {
     "name": "stdout",
     "output_type": "stream",
     "text": [
      "https://reviews.webmd.com/drugs/drugreview-6680-apresoline-tablet\n"
     ]
    },
    {
     "name": "stderr",
     "output_type": "stream",
     "text": [
      "\n",
      "  0%|          | 0/1 [00:00<?, ?it/s]\u001b[A\n",
      "100%|██████████| 1/1 [00:00<00:00,  1.47it/s]\n",
      " 75%|███████▌  | 376/499 [28:59<06:42,  3.27s/it]"
     ]
    },
    {
     "name": "stdout",
     "output_type": "stream",
     "text": [
      "https://reviews.webmd.com/drugs/drugreview-6709-cardizem\n"
     ]
    },
    {
     "name": "stderr",
     "output_type": "stream",
     "text": [
      "\n",
      "  0%|          | 0/3 [00:00<?, ?it/s]\u001b[A\n",
      " 33%|███▎      | 1/3 [00:00<00:01,  1.21it/s]\u001b[A\n",
      " 67%|██████▋   | 2/3 [00:02<00:01,  1.17s/it]\u001b[A\n",
      "100%|██████████| 3/3 [00:03<00:00,  1.16s/it]\n",
      " 76%|███████▌  | 378/499 [29:06<06:22,  3.16s/it]"
     ]
    },
    {
     "name": "stdout",
     "output_type": "stream",
     "text": [
      "skipping https://reviews.webmd.com/drugs/drugreview-6712-cartrol-tablet: page not found\n"
     ]
    },
    {
     "name": "stderr",
     "output_type": "stream",
     "text": [
      " 76%|███████▌  | 379/499 [29:07<05:04,  2.54s/it]"
     ]
    },
    {
     "name": "stdout",
     "output_type": "stream",
     "text": [
      "skipping https://reviews.webmd.com/drugs/drugreview-6713-carteolol-tablet: page not found\n",
      "https://reviews.webmd.com/drugs/drugreview-6714-catapres-tablet\n"
     ]
    },
    {
     "name": "stderr",
     "output_type": "stream",
     "text": [
      "\n",
      "  0%|          | 0/3 [00:00<?, ?it/s]\u001b[A\n",
      " 33%|███▎      | 1/3 [00:00<00:01,  1.13it/s]\u001b[A\n",
      " 67%|██████▋   | 2/3 [00:02<00:01,  1.12s/it]\u001b[A\n",
      "100%|██████████| 3/3 [00:03<00:00,  1.11s/it]\n",
      " 76%|███████▌  | 380/499 [29:13<06:50,  3.45s/it]"
     ]
    },
    {
     "name": "stdout",
     "output_type": "stream",
     "text": [
      "https://reviews.webmd.com/drugs/drugreview-6715-catapres-tts-3-patch-weekly\n"
     ]
    },
    {
     "name": "stderr",
     "output_type": "stream",
     "text": [
      "\n",
      "  0%|          | 0/1 [00:00<?, ?it/s]\u001b[A\n",
      "100%|██████████| 1/1 [00:00<00:00,  1.55it/s]\n",
      " 76%|███████▋  | 381/499 [29:15<06:12,  3.15s/it]"
     ]
    },
    {
     "name": "stdout",
     "output_type": "stream",
     "text": [
      "https://reviews.webmd.com/drugs/drugreview-6716-clonidine-patch-weekly\n"
     ]
    },
    {
     "name": "stderr",
     "output_type": "stream",
     "text": [
      "\n",
      "  0%|          | 0/2 [00:00<?, ?it/s]\u001b[A\n",
      " 50%|█████     | 1/2 [00:00<00:00,  1.17it/s]\u001b[A\n",
      "100%|██████████| 2/2 [00:01<00:00,  1.07it/s]\n",
      " 77%|███████▋  | 383/499 [29:21<05:25,  2.81s/it]"
     ]
    },
    {
     "name": "stdout",
     "output_type": "stream",
     "text": [
      "skipping https://reviews.webmd.com/drugs/drugreview-6729-combipres-1-tablet: page not found\n",
      "https://reviews.webmd.com/drugs/drugreview-6762-diuril\n"
     ]
    },
    {
     "name": "stderr",
     "output_type": "stream",
     "text": [
      "\n",
      "  0%|          | 0/1 [00:00<?, ?it/s]\u001b[A\n",
      "100%|██████████| 1/1 [00:00<00:00,  1.55it/s]\n",
      " 77%|███████▋  | 384/499 [29:23<05:08,  2.68s/it]"
     ]
    },
    {
     "name": "stdout",
     "output_type": "stream",
     "text": [
      "https://reviews.webmd.com/drugs/drugreview-6831-hygroton-tablet\n"
     ]
    },
    {
     "name": "stderr",
     "output_type": "stream",
     "text": [
      "\n",
      "  0%|          | 0/1 [00:00<?, ?it/s]\u001b[A\n",
      "100%|██████████| 1/1 [00:00<00:00,  1.80it/s]\n",
      " 77%|███████▋  | 385/499 [29:25<04:53,  2.58s/it]"
     ]
    },
    {
     "name": "stdout",
     "output_type": "stream",
     "text": [
      "https://reviews.webmd.com/drugs/drugreview-6834-terazosin-hcl\n"
     ]
    },
    {
     "name": "stderr",
     "output_type": "stream",
     "text": [
      "\n",
      "  0%|          | 0/8 [00:00<?, ?it/s]\u001b[A\n",
      " 12%|█▎        | 1/8 [00:00<00:05,  1.18it/s]\u001b[A\n",
      " 25%|██▌       | 2/8 [00:02<00:07,  1.24s/it]\u001b[A\n",
      " 38%|███▊      | 3/8 [00:03<00:06,  1.27s/it]\u001b[A\n",
      " 50%|█████     | 4/8 [00:04<00:05,  1.26s/it]\u001b[A\n",
      " 62%|██████▎   | 5/8 [00:06<00:03,  1.28s/it]\u001b[A\n",
      " 75%|███████▌  | 6/8 [00:07<00:02,  1.29s/it]\u001b[A\n",
      " 88%|████████▊ | 7/8 [00:08<00:01,  1.30s/it]\u001b[A\n",
      "100%|██████████| 8/8 [00:10<00:00,  1.27s/it]\n",
      " 77%|███████▋  | 386/499 [29:38<10:24,  5.53s/it]"
     ]
    },
    {
     "name": "stdout",
     "output_type": "stream",
     "text": [
      "https://reviews.webmd.com/drugs/drugreview-6835-hytrin-tablet\n"
     ]
    },
    {
     "name": "stderr",
     "output_type": "stream",
     "text": [
      "\n",
      "  0%|          | 0/3 [00:00<?, ?it/s]\u001b[A\n",
      " 33%|███▎      | 1/3 [00:00<00:01,  1.26it/s]\u001b[A\n",
      " 67%|██████▋   | 2/3 [00:01<00:01,  1.01s/it]\u001b[A\n",
      "100%|██████████| 3/3 [00:03<00:00,  1.01s/it]\n",
      " 78%|███████▊  | 387/499 [29:43<09:57,  5.34s/it]"
     ]
    },
    {
     "name": "stdout",
     "output_type": "stream",
     "text": [
      "https://reviews.webmd.com/drugs/drugreview-6840-inderal-tablet\n"
     ]
    },
    {
     "name": "stderr",
     "output_type": "stream",
     "text": [
      "\n",
      "  0%|          | 0/10 [00:00<?, ?it/s]\u001b[A\n",
      " 10%|█         | 1/10 [00:01<00:10,  1.19s/it]\u001b[A\n",
      " 20%|██        | 2/10 [00:02<00:10,  1.27s/it]\u001b[A\n",
      " 30%|███       | 3/10 [00:03<00:09,  1.33s/it]\u001b[A\n",
      " 40%|████      | 4/10 [00:05<00:08,  1.35s/it]\u001b[A\n",
      " 50%|█████     | 5/10 [00:06<00:06,  1.33s/it]\u001b[A\n",
      " 60%|██████    | 6/10 [00:08<00:05,  1.37s/it]\u001b[A\n",
      " 70%|███████   | 7/10 [00:09<00:04,  1.48s/it]\u001b[A\n",
      " 80%|████████  | 8/10 [00:11<00:02,  1.44s/it]\u001b[A\n",
      " 90%|█████████ | 9/10 [00:12<00:01,  1.42s/it]\u001b[A\n",
      "100%|██████████| 10/10 [00:13<00:00,  1.36s/it]\n",
      " 78%|███████▊  | 388/499 [29:59<15:38,  8.45s/it]"
     ]
    },
    {
     "name": "stdout",
     "output_type": "stream",
     "text": [
      "https://reviews.webmd.com/drugs/drugreview-6841-inderide-tablet\n"
     ]
    },
    {
     "name": "stderr",
     "output_type": "stream",
     "text": [
      " 78%|███████▊  | 389/499 [30:00<11:53,  6.48s/it]"
     ]
    },
    {
     "name": "stdout",
     "output_type": "stream",
     "text": [
      "https://reviews.webmd.com/drugs/drugreview-6860-kerlone-tablet\n"
     ]
    },
    {
     "name": "stderr",
     "output_type": "stream",
     "text": [
      "\n",
      "  0%|          | 0/1 [00:00<?, ?it/s]\u001b[A\n",
      "100%|██████████| 1/1 [00:00<00:00,  1.38it/s]\n",
      " 78%|███████▊  | 390/499 [30:03<09:41,  5.34s/it]"
     ]
    },
    {
     "name": "stdout",
     "output_type": "stream",
     "text": [
      "https://reviews.webmd.com/drugs/drugreview-6861-betaxolol-hcl\n"
     ]
    },
    {
     "name": "stderr",
     "output_type": "stream",
     "text": [
      "\n",
      "  0%|          | 0/1 [00:00<?, ?it/s]\u001b[A\n",
      "100%|██████████| 1/1 [00:00<00:00,  1.72it/s]\n",
      " 78%|███████▊  | 391/499 [30:05<08:00,  4.45s/it]"
     ]
    },
    {
     "name": "stdout",
     "output_type": "stream",
     "text": [
      "https://reviews.webmd.com/drugs/drugreview-6873-lisinopril\n"
     ]
    },
    {
     "name": "stderr",
     "output_type": "stream",
     "text": [
      "\n",
      "  0%|          | 0/217 [00:00<?, ?it/s]\u001b[A\n",
      "  0%|          | 1/217 [00:00<02:45,  1.30it/s]\u001b[A\n",
      "  1%|          | 2/217 [00:02<04:33,  1.27s/it]\u001b[A\n",
      "  1%|▏         | 3/217 [00:03<04:59,  1.40s/it]\u001b[A\n",
      "  2%|▏         | 4/217 [00:05<05:28,  1.54s/it]\u001b[A\n",
      "  2%|▏         | 5/217 [00:07<05:41,  1.61s/it]\u001b[A\n",
      "  3%|▎         | 6/217 [00:09<06:11,  1.76s/it]\u001b[A\n",
      "  3%|▎         | 7/217 [00:11<05:57,  1.70s/it]\u001b[A\n",
      "  4%|▎         | 8/217 [00:12<05:43,  1.64s/it]\u001b[A\n",
      "  4%|▍         | 9/217 [00:14<05:45,  1.66s/it]\u001b[A\n",
      "  5%|▍         | 10/217 [00:15<05:34,  1.62s/it]\u001b[A\n",
      "  5%|▌         | 11/217 [00:17<06:03,  1.76s/it]\u001b[A\n",
      "  6%|▌         | 12/217 [00:19<06:04,  1.78s/it]\u001b[A\n",
      "  6%|▌         | 13/217 [00:21<05:59,  1.76s/it]\u001b[A\n",
      "  6%|▋         | 14/217 [00:23<06:03,  1.79s/it]\u001b[A\n",
      "  7%|▋         | 15/217 [00:24<05:41,  1.69s/it]\u001b[A\n",
      "  7%|▋         | 16/217 [00:26<05:33,  1.66s/it]\u001b[A\n",
      "  8%|▊         | 17/217 [00:28<05:50,  1.75s/it]\u001b[A\n",
      "  8%|▊         | 18/217 [00:29<05:36,  1.69s/it]\u001b[A\n",
      "  9%|▉         | 19/217 [00:31<05:32,  1.68s/it]\u001b[A\n",
      "  9%|▉         | 20/217 [00:33<05:25,  1.65s/it]\u001b[A\n",
      " 10%|▉         | 21/217 [00:34<05:20,  1.64s/it]\u001b[A\n",
      " 10%|█         | 22/217 [00:36<05:11,  1.60s/it]\u001b[A\n",
      " 11%|█         | 23/217 [00:38<05:33,  1.72s/it]\u001b[A\n",
      " 11%|█         | 24/217 [00:39<05:20,  1.66s/it]\u001b[A\n",
      " 12%|█▏        | 25/217 [00:41<05:13,  1.63s/it]\u001b[A\n",
      " 12%|█▏        | 26/217 [00:42<05:07,  1.61s/it]\u001b[A\n",
      " 12%|█▏        | 27/217 [00:44<05:25,  1.71s/it]\u001b[A\n",
      " 13%|█▎        | 28/217 [00:46<05:34,  1.77s/it]\u001b[A\n",
      " 13%|█▎        | 29/217 [00:48<05:29,  1.75s/it]\u001b[A\n",
      " 14%|█▍        | 30/217 [00:49<05:15,  1.69s/it]\u001b[A\n",
      " 14%|█▍        | 31/217 [00:51<05:07,  1.65s/it]\u001b[A\n",
      " 15%|█▍        | 32/217 [00:53<05:01,  1.63s/it]\u001b[A\n",
      " 15%|█▌        | 33/217 [00:54<05:03,  1.65s/it]\u001b[A\n",
      " 16%|█▌        | 34/217 [00:56<05:15,  1.72s/it]\u001b[A\n",
      " 16%|█▌        | 35/217 [00:58<05:07,  1.69s/it]\u001b[A\n",
      " 17%|█▋        | 36/217 [00:59<05:01,  1.67s/it]\u001b[A\n",
      " 17%|█▋        | 37/217 [01:01<04:59,  1.66s/it]\u001b[A\n",
      " 18%|█▊        | 38/217 [01:03<04:50,  1.62s/it]\u001b[A\n",
      " 18%|█▊        | 39/217 [01:04<04:50,  1.63s/it]\u001b[A\n",
      " 18%|█▊        | 40/217 [01:06<05:00,  1.70s/it]\u001b[A\n",
      " 19%|█▉        | 41/217 [01:08<04:51,  1.66s/it]\u001b[A\n",
      " 19%|█▉        | 42/217 [01:09<04:53,  1.68s/it]\u001b[A\n",
      " 20%|█▉        | 43/217 [01:11<04:53,  1.69s/it]\u001b[A\n",
      " 20%|██        | 44/217 [01:13<04:47,  1.66s/it]\u001b[A\n",
      " 21%|██        | 45/217 [01:15<05:06,  1.78s/it]\u001b[A\n",
      " 21%|██        | 46/217 [01:16<04:54,  1.72s/it]\u001b[A\n",
      " 22%|██▏       | 47/217 [01:18<04:42,  1.66s/it]\u001b[A\n",
      " 22%|██▏       | 48/217 [01:19<04:37,  1.64s/it]\u001b[A\n",
      " 23%|██▎       | 49/217 [01:21<04:24,  1.58s/it]\u001b[A\n",
      " 23%|██▎       | 50/217 [01:22<04:21,  1.57s/it]\u001b[A\n",
      " 24%|██▎       | 51/217 [01:25<04:44,  1.71s/it]\u001b[A\n",
      " 24%|██▍       | 52/217 [01:26<04:39,  1.69s/it]\u001b[A\n",
      " 24%|██▍       | 53/217 [01:28<04:38,  1.70s/it]\u001b[A\n",
      " 25%|██▍       | 54/217 [01:29<04:31,  1.67s/it]\u001b[A\n",
      " 25%|██▌       | 55/217 [01:31<04:29,  1.66s/it]\u001b[A\n",
      " 26%|██▌       | 56/217 [01:33<04:29,  1.67s/it]\u001b[A\n",
      " 26%|██▋       | 57/217 [01:35<05:04,  1.90s/it]\u001b[A\n",
      " 27%|██▋       | 58/217 [01:37<04:46,  1.80s/it]\u001b[A\n",
      " 27%|██▋       | 59/217 [01:38<04:39,  1.77s/it]\u001b[A\n",
      " 28%|██▊       | 60/217 [01:40<04:31,  1.73s/it]\u001b[A\n",
      " 28%|██▊       | 61/217 [01:42<04:24,  1.70s/it]\u001b[A\n",
      " 29%|██▊       | 62/217 [01:44<04:26,  1.72s/it]\u001b[A\n",
      " 29%|██▉       | 63/217 [01:45<04:17,  1.67s/it]\u001b[A\n",
      " 29%|██▉       | 64/217 [01:47<04:16,  1.67s/it]\u001b[A\n",
      " 30%|██▉       | 65/217 [01:48<04:14,  1.67s/it]\u001b[A\n",
      " 30%|███       | 66/217 [01:50<04:05,  1.63s/it]\u001b[A\n",
      " 31%|███       | 67/217 [01:52<04:06,  1.64s/it]\u001b[A\n",
      " 31%|███▏      | 68/217 [01:54<04:16,  1.72s/it]\u001b[A\n",
      " 32%|███▏      | 69/217 [01:55<04:13,  1.71s/it]\u001b[A\n",
      " 32%|███▏      | 70/217 [01:57<04:11,  1.71s/it]\u001b[A\n",
      " 33%|███▎      | 71/217 [01:59<04:18,  1.77s/it]\u001b[A\n",
      " 33%|███▎      | 72/217 [02:01<04:17,  1.77s/it]\u001b[A\n",
      " 34%|███▎      | 73/217 [02:02<04:10,  1.74s/it]\u001b[A\n",
      " 34%|███▍      | 74/217 [02:04<04:07,  1.73s/it]\u001b[A\n",
      " 35%|███▍      | 75/217 [02:06<03:57,  1.68s/it]\u001b[A\n",
      " 35%|███▌      | 76/217 [02:07<03:55,  1.67s/it]\u001b[A\n",
      " 35%|███▌      | 77/217 [02:09<03:52,  1.66s/it]\u001b[A\n",
      " 36%|███▌      | 78/217 [02:10<03:43,  1.61s/it]\u001b[A\n",
      " 36%|███▋      | 79/217 [02:12<03:47,  1.65s/it]\u001b[A\n",
      " 37%|███▋      | 80/217 [02:14<03:47,  1.66s/it]\u001b[A\n",
      " 37%|███▋      | 81/217 [02:15<03:47,  1.67s/it]\u001b[A\n",
      " 38%|███▊      | 82/217 [02:17<03:45,  1.67s/it]\u001b[A\n",
      " 38%|███▊      | 83/217 [02:19<03:46,  1.69s/it]\u001b[A\n",
      " 39%|███▊      | 84/217 [02:21<03:43,  1.68s/it]\u001b[A\n",
      " 39%|███▉      | 85/217 [02:22<03:47,  1.73s/it]\u001b[A\n",
      " 40%|███▉      | 86/217 [02:24<03:39,  1.67s/it]\u001b[A\n",
      " 40%|████      | 87/217 [02:26<03:37,  1.68s/it]\u001b[A\n",
      " 41%|████      | 88/217 [02:27<03:38,  1.70s/it]\u001b[A\n",
      " 41%|████      | 89/217 [02:29<03:44,  1.75s/it]\u001b[A\n",
      " 41%|████▏     | 90/217 [02:31<03:37,  1.71s/it]\u001b[A\n",
      " 42%|████▏     | 91/217 [02:33<03:45,  1.79s/it]\u001b[A\n",
      " 42%|████▏     | 92/217 [02:34<03:38,  1.75s/it]\u001b[A\n",
      " 43%|████▎     | 93/217 [02:36<03:38,  1.76s/it]\u001b[A\n",
      " 43%|████▎     | 94/217 [02:38<03:30,  1.71s/it]\u001b[A\n",
      " 44%|████▍     | 95/217 [02:40<03:32,  1.74s/it]\u001b[A\n",
      " 44%|████▍     | 96/217 [02:42<03:37,  1.80s/it]\u001b[A\n",
      " 45%|████▍     | 97/217 [02:43<03:27,  1.73s/it]\u001b[A\n",
      " 45%|████▌     | 98/217 [02:45<03:25,  1.73s/it]\u001b[A\n",
      " 46%|████▌     | 99/217 [02:47<03:22,  1.71s/it]\u001b[A\n",
      " 46%|████▌     | 100/217 [02:48<03:16,  1.68s/it]\u001b[A\n",
      " 47%|████▋     | 101/217 [02:50<03:10,  1.65s/it]\u001b[A\n",
      " 47%|████▋     | 102/217 [02:52<03:23,  1.77s/it]\u001b[A\n",
      " 47%|████▋     | 103/217 [02:53<03:16,  1.72s/it]\u001b[A\n",
      " 48%|████▊     | 104/217 [02:55<03:11,  1.70s/it]\u001b[A\n",
      " 48%|████▊     | 105/217 [02:57<03:10,  1.70s/it]\u001b[A\n",
      " 49%|████▉     | 106/217 [02:58<03:06,  1.68s/it]\u001b[A\n",
      " 49%|████▉     | 107/217 [03:00<03:09,  1.72s/it]\u001b[A\n",
      " 50%|████▉     | 108/217 [03:02<03:11,  1.76s/it]\u001b[A\n",
      " 50%|█████     | 109/217 [03:04<03:11,  1.77s/it]\u001b[A\n",
      " 51%|█████     | 110/217 [03:06<03:07,  1.75s/it]\u001b[A\n",
      " 51%|█████     | 111/217 [03:07<03:00,  1.70s/it]\u001b[A\n",
      " 52%|█████▏    | 112/217 [03:09<02:53,  1.65s/it]\u001b[A\n",
      " 52%|█████▏    | 113/217 [03:11<03:00,  1.73s/it]\u001b[A\n",
      " 53%|█████▎    | 114/217 [03:12<02:56,  1.71s/it]\u001b[A\n",
      " 53%|█████▎    | 115/217 [03:14<02:55,  1.72s/it]\u001b[A\n",
      " 53%|█████▎    | 116/217 [03:16<02:50,  1.69s/it]\u001b[A\n",
      " 54%|█████▍    | 117/217 [03:17<02:48,  1.68s/it]\u001b[A\n",
      " 54%|█████▍    | 118/217 [03:19<02:41,  1.63s/it]\u001b[A\n",
      " 55%|█████▍    | 119/217 [03:21<02:52,  1.76s/it]\u001b[A\n",
      " 55%|█████▌    | 120/217 [03:22<02:44,  1.70s/it]\u001b[A\n",
      " 56%|█████▌    | 121/217 [03:24<02:38,  1.65s/it]\u001b[A\n",
      " 56%|█████▌    | 122/217 [03:26<02:34,  1.63s/it]\u001b[A\n",
      " 57%|█████▋    | 123/217 [03:27<02:30,  1.60s/it]\u001b[A\n",
      " 57%|█████▋    | 124/217 [03:29<02:32,  1.64s/it]\u001b[A\n",
      " 58%|█████▊    | 125/217 [03:31<02:43,  1.78s/it]\u001b[A\n",
      " 58%|█████▊    | 126/217 [03:33<02:40,  1.76s/it]\u001b[A\n",
      " 59%|█████▊    | 127/217 [03:34<02:35,  1.72s/it]\u001b[A\n",
      " 59%|█████▉    | 128/217 [03:36<02:34,  1.73s/it]\u001b[A\n",
      " 59%|█████▉    | 129/217 [03:38<02:33,  1.74s/it]\u001b[A\n",
      " 60%|█████▉    | 130/217 [03:40<02:40,  1.84s/it]\u001b[A\n",
      " 60%|██████    | 131/217 [03:42<02:36,  1.82s/it]\u001b[A\n",
      " 61%|██████    | 132/217 [03:43<02:35,  1.83s/it]\u001b[A\n",
      " 61%|██████▏   | 133/217 [03:45<02:30,  1.79s/it]\u001b[A\n",
      " 62%|██████▏   | 134/217 [03:47<02:22,  1.72s/it]\u001b[A\n",
      " 62%|██████▏   | 135/217 [03:48<02:20,  1.71s/it]\u001b[A\n",
      " 63%|██████▎   | 136/217 [03:51<02:37,  1.95s/it]\u001b[A\n",
      " 63%|██████▎   | 137/217 [03:52<02:27,  1.84s/it]\u001b[A\n",
      " 64%|██████▎   | 138/217 [03:54<02:25,  1.84s/it]\u001b[A\n",
      " 64%|██████▍   | 139/217 [03:56<02:21,  1.81s/it]\u001b[A\n",
      " 65%|██████▍   | 140/217 [03:58<02:14,  1.75s/it]\u001b[A\n",
      " 65%|██████▍   | 141/217 [03:59<02:07,  1.68s/it]\u001b[A\n",
      " 65%|██████▌   | 142/217 [04:01<02:15,  1.80s/it]\u001b[A\n",
      " 66%|██████▌   | 143/217 [04:03<02:06,  1.71s/it]\u001b[A\n",
      " 66%|██████▋   | 144/217 [04:04<01:59,  1.64s/it]\u001b[A\n",
      " 67%|██████▋   | 145/217 [04:06<01:54,  1.59s/it]\u001b[A\n",
      " 67%|██████▋   | 146/217 [04:07<01:52,  1.58s/it]\u001b[A\n",
      " 68%|██████▊   | 147/217 [04:09<01:58,  1.70s/it]\u001b[A\n",
      " 68%|██████▊   | 148/217 [04:11<01:57,  1.71s/it]\u001b[A\n",
      " 69%|██████▊   | 149/217 [04:13<02:05,  1.84s/it]\u001b[A\n",
      " 69%|██████▉   | 150/217 [04:15<02:00,  1.80s/it]\u001b[A\n",
      " 70%|██████▉   | 151/217 [04:17<02:00,  1.83s/it]\u001b[A\n",
      " 70%|███████   | 152/217 [04:18<01:55,  1.77s/it]\u001b[A\n",
      " 71%|███████   | 153/217 [04:20<01:52,  1.76s/it]\u001b[A\n",
      " 71%|███████   | 154/217 [04:22<01:53,  1.80s/it]\u001b[A\n",
      " 71%|███████▏  | 155/217 [04:24<01:48,  1.75s/it]\u001b[A\n",
      " 72%|███████▏  | 156/217 [04:25<01:43,  1.70s/it]\u001b[A\n",
      " 72%|███████▏  | 157/217 [04:27<01:42,  1.70s/it]\u001b[A\n",
      " 73%|███████▎  | 158/217 [04:29<01:38,  1.67s/it]\u001b[A\n",
      " 73%|███████▎  | 159/217 [04:30<01:40,  1.73s/it]\u001b[A\n",
      " 74%|███████▎  | 160/217 [04:32<01:37,  1.72s/it]\u001b[A\n",
      " 74%|███████▍  | 161/217 [04:34<01:33,  1.66s/it]\u001b[A\n",
      " 75%|███████▍  | 162/217 [04:35<01:29,  1.63s/it]\u001b[A\n",
      " 75%|███████▌  | 163/217 [04:37<01:27,  1.62s/it]\u001b[A\n",
      " 76%|███████▌  | 164/217 [04:39<01:31,  1.72s/it]\u001b[A\n",
      " 76%|███████▌  | 165/217 [04:40<01:29,  1.71s/it]\u001b[A\n",
      " 76%|███████▋  | 166/217 [04:42<01:24,  1.65s/it]\u001b[A\n",
      " 77%|███████▋  | 167/217 [04:44<01:22,  1.66s/it]\u001b[A\n",
      " 77%|███████▋  | 168/217 [04:45<01:22,  1.69s/it]\u001b[A\n",
      " 78%|███████▊  | 169/217 [04:47<01:18,  1.64s/it]\u001b[A\n",
      " 78%|███████▊  | 170/217 [04:49<01:20,  1.71s/it]\u001b[A\n",
      " 79%|███████▉  | 171/217 [04:50<01:16,  1.66s/it]\u001b[A\n",
      " 79%|███████▉  | 172/217 [04:52<01:14,  1.66s/it]\u001b[A\n",
      " 80%|███████▉  | 173/217 [04:53<01:10,  1.61s/it]\u001b[A\n",
      " 80%|████████  | 174/217 [04:55<01:12,  1.68s/it]\u001b[A\n",
      " 81%|████████  | 175/217 [04:57<01:10,  1.69s/it]\u001b[A\n",
      " 81%|████████  | 176/217 [04:59<01:11,  1.75s/it]\u001b[A\n",
      " 82%|████████▏ | 177/217 [05:01<01:11,  1.80s/it]\u001b[A\n",
      " 82%|████████▏ | 178/217 [05:03<01:10,  1.81s/it]\u001b[A\n",
      " 82%|████████▏ | 179/217 [05:04<01:06,  1.76s/it]\u001b[A\n",
      " 83%|████████▎ | 180/217 [05:06<01:02,  1.70s/it]\u001b[A\n",
      " 83%|████████▎ | 181/217 [05:08<01:01,  1.72s/it]\u001b[A\n",
      " 84%|████████▍ | 182/217 [05:09<00:59,  1.71s/it]\u001b[A\n",
      " 84%|████████▍ | 183/217 [05:11<00:59,  1.74s/it]\u001b[A\n",
      " 85%|████████▍ | 184/217 [05:13<00:56,  1.72s/it]\u001b[A\n",
      " 85%|████████▌ | 185/217 [05:14<00:54,  1.70s/it]\u001b[A\n",
      " 86%|████████▌ | 186/217 [05:16<00:52,  1.69s/it]\u001b[A\n",
      " 86%|████████▌ | 187/217 [05:18<00:55,  1.85s/it]\u001b[A\n",
      " 87%|████████▋ | 188/217 [05:20<00:50,  1.76s/it]\u001b[A\n",
      " 87%|████████▋ | 189/217 [05:22<00:50,  1.80s/it]\u001b[A\n",
      " 88%|████████▊ | 190/217 [05:24<00:48,  1.79s/it]\u001b[A\n",
      " 88%|████████▊ | 191/217 [05:25<00:45,  1.75s/it]\u001b[A\n",
      " 88%|████████▊ | 192/217 [05:27<00:43,  1.75s/it]\u001b[A\n",
      " 89%|████████▉ | 193/217 [05:29<00:43,  1.80s/it]\u001b[A\n",
      " 89%|████████▉ | 194/217 [05:30<00:38,  1.69s/it]\u001b[A\n",
      " 90%|████████▉ | 195/217 [05:32<00:37,  1.69s/it]\u001b[A\n",
      " 90%|█████████ | 196/217 [05:34<00:35,  1.67s/it]\u001b[A\n",
      " 91%|█████████ | 197/217 [05:35<00:32,  1.64s/it]\u001b[A\n",
      " 91%|█████████ | 198/217 [05:37<00:32,  1.69s/it]\u001b[A\n",
      " 92%|█████████▏| 199/217 [05:39<00:30,  1.72s/it]\u001b[A\n",
      " 92%|█████████▏| 200/217 [05:40<00:28,  1.70s/it]\u001b[A\n",
      " 93%|█████████▎| 201/217 [05:42<00:27,  1.71s/it]\u001b[A\n",
      " 93%|█████████▎| 202/217 [05:44<00:24,  1.63s/it]\u001b[A\n",
      " 94%|█████████▎| 203/217 [05:45<00:23,  1.66s/it]\u001b[A\n",
      " 94%|█████████▍| 204/217 [05:47<00:22,  1.75s/it]\u001b[A\n",
      " 94%|█████████▍| 205/217 [05:49<00:20,  1.70s/it]\u001b[A\n",
      " 95%|█████████▍| 206/217 [05:51<00:18,  1.69s/it]\u001b[A\n",
      " 95%|█████████▌| 207/217 [05:52<00:16,  1.67s/it]\u001b[A\n",
      " 96%|█████████▌| 208/217 [05:54<00:14,  1.63s/it]\u001b[A\n",
      " 96%|█████████▋| 209/217 [05:56<00:13,  1.69s/it]\u001b[A\n",
      " 97%|█████████▋| 210/217 [05:58<00:12,  1.81s/it]\u001b[A\n",
      " 97%|█████████▋| 211/217 [05:59<00:10,  1.78s/it]\u001b[A\n",
      " 98%|█████████▊| 212/217 [06:01<00:08,  1.72s/it]\u001b[A\n",
      " 98%|█████████▊| 213/217 [06:03<00:06,  1.72s/it]\u001b[A\n",
      " 99%|█████████▊| 214/217 [06:04<00:05,  1.73s/it]\u001b[A\n",
      " 99%|█████████▉| 215/217 [06:07<00:03,  1.86s/it]\u001b[A\n",
      "100%|█████████▉| 216/217 [06:08<00:01,  1.77s/it]\u001b[A\n",
      "100%|██████████| 217/217 [06:09<00:00,  1.70s/it]\n",
      " 79%|███████▊  | 392/499 [36:18<3:25:03, 114.98s/it]"
     ]
    },
    {
     "name": "stdout",
     "output_type": "stream",
     "text": [
      "https://reviews.webmd.com/drugs/drugreview-6873-lisinopril-solution\n"
     ]
    },
    {
     "name": "stderr",
     "output_type": "stream",
     "text": [
      "\n",
      "  0%|          | 0/217 [00:00<?, ?it/s]\u001b[A\n",
      "  0%|          | 1/217 [00:00<03:16,  1.10it/s]\u001b[A\n",
      "  1%|          | 2/217 [00:02<04:39,  1.30s/it]\u001b[A\n",
      "  1%|▏         | 3/217 [00:04<05:58,  1.68s/it]\u001b[A\n",
      "  2%|▏         | 4/217 [00:06<06:10,  1.74s/it]\u001b[A\n",
      "  2%|▏         | 5/217 [00:08<06:26,  1.82s/it]\u001b[A\n",
      "  3%|▎         | 6/217 [00:10<06:28,  1.84s/it]\u001b[A\n",
      "  3%|▎         | 7/217 [00:12<06:21,  1.81s/it]\u001b[A\n",
      "  4%|▎         | 8/217 [00:13<05:57,  1.71s/it]\u001b[A\n",
      "  4%|▍         | 9/217 [00:15<06:08,  1.77s/it]\u001b[A\n",
      "  5%|▍         | 10/217 [00:17<05:59,  1.74s/it]\u001b[A\n",
      "  5%|▌         | 11/217 [00:18<05:49,  1.70s/it]\u001b[A\n",
      "  6%|▌         | 12/217 [00:20<05:43,  1.68s/it]\u001b[A\n",
      "  6%|▌         | 13/217 [00:22<05:48,  1.71s/it]\u001b[A\n",
      "  6%|▋         | 14/217 [00:23<05:46,  1.71s/it]\u001b[A\n",
      "  7%|▋         | 15/217 [00:25<05:53,  1.75s/it]\u001b[A\n",
      "  7%|▋         | 16/217 [00:27<05:52,  1.75s/it]\u001b[A\n",
      "  8%|▊         | 17/217 [00:29<05:41,  1.71s/it]\u001b[A\n",
      "  8%|▊         | 18/217 [00:30<05:37,  1.69s/it]\u001b[A\n",
      "  9%|▉         | 19/217 [00:32<05:44,  1.74s/it]\u001b[A\n",
      "  9%|▉         | 20/217 [00:34<05:58,  1.82s/it]\u001b[A\n",
      " 10%|▉         | 21/217 [00:36<06:06,  1.87s/it]\u001b[A\n",
      " 10%|█         | 22/217 [00:38<05:48,  1.79s/it]\u001b[A\n",
      " 11%|█         | 23/217 [00:39<05:49,  1.80s/it]\u001b[A\n",
      " 11%|█         | 24/217 [00:41<05:35,  1.74s/it]\u001b[A\n",
      " 12%|█▏        | 25/217 [00:43<05:29,  1.72s/it]\u001b[A\n",
      " 12%|█▏        | 26/217 [00:45<05:36,  1.76s/it]\u001b[A\n",
      " 12%|█▏        | 27/217 [00:46<05:30,  1.74s/it]\u001b[A\n",
      " 13%|█▎        | 28/217 [00:48<05:22,  1.71s/it]\u001b[A\n",
      " 13%|█▎        | 29/217 [00:50<05:16,  1.68s/it]\u001b[A\n",
      " 14%|█▍        | 30/217 [00:51<05:21,  1.72s/it]\u001b[A\n",
      " 14%|█▍        | 31/217 [00:53<05:16,  1.70s/it]\u001b[A\n",
      " 15%|█▍        | 32/217 [00:55<05:33,  1.80s/it]\u001b[A\n",
      " 15%|█▌        | 33/217 [00:57<05:23,  1.76s/it]\u001b[A\n",
      " 16%|█▌        | 34/217 [00:59<05:41,  1.87s/it]\u001b[A\n",
      " 16%|█▌        | 35/217 [01:01<05:34,  1.84s/it]\u001b[A\n",
      " 17%|█▋        | 36/217 [01:02<05:29,  1.82s/it]\u001b[A\n",
      " 17%|█▋        | 37/217 [01:04<05:40,  1.89s/it]\u001b[A\n",
      " 18%|█▊        | 38/217 [01:06<05:31,  1.85s/it]\u001b[A\n",
      " 18%|█▊        | 39/217 [01:08<05:16,  1.78s/it]\u001b[A\n",
      " 18%|█▊        | 40/217 [01:10<05:13,  1.77s/it]\u001b[A\n",
      " 19%|█▉        | 41/217 [01:12<06:12,  2.12s/it]\u001b[A\n",
      " 19%|█▉        | 42/217 [01:14<05:56,  2.04s/it]\u001b[A\n",
      " 20%|█▉        | 43/217 [01:16<05:56,  2.05s/it]\u001b[A\n",
      " 20%|██        | 44/217 [01:18<05:31,  1.91s/it]\u001b[A\n",
      " 21%|██        | 45/217 [01:20<05:20,  1.87s/it]\u001b[A\n",
      " 21%|██        | 46/217 [01:22<05:14,  1.84s/it]\u001b[A\n",
      " 22%|██▏       | 47/217 [01:23<05:02,  1.78s/it]\u001b[A\n",
      " 22%|██▏       | 48/217 [01:25<04:56,  1.75s/it]\u001b[A\n",
      " 23%|██▎       | 49/217 [01:27<04:52,  1.74s/it]\u001b[A\n",
      " 23%|██▎       | 50/217 [01:28<04:48,  1.73s/it]\u001b[A\n",
      " 24%|██▎       | 51/217 [01:30<04:44,  1.71s/it]\u001b[A\n",
      " 24%|██▍       | 52/217 [01:32<04:46,  1.74s/it]\u001b[A\n",
      " 24%|██▍       | 53/217 [01:34<04:52,  1.79s/it]\u001b[A\n",
      " 25%|██▍       | 54/217 [01:36<05:10,  1.90s/it]\u001b[A\n",
      " 25%|██▌       | 55/217 [01:37<04:55,  1.82s/it]\u001b[A\n",
      " 26%|██▌       | 56/217 [01:39<04:45,  1.78s/it]\u001b[A\n",
      " 26%|██▋       | 57/217 [01:41<04:36,  1.73s/it]\u001b[A\n",
      " 27%|██▋       | 58/217 [01:42<04:32,  1.71s/it]\u001b[A\n",
      " 27%|██▋       | 59/217 [01:44<04:38,  1.76s/it]\u001b[A\n",
      " 28%|██▊       | 60/217 [01:46<04:56,  1.89s/it]\u001b[A\n",
      " 28%|██▊       | 61/217 [01:48<04:40,  1.80s/it]\u001b[A\n",
      " 29%|██▊       | 62/217 [01:50<04:49,  1.87s/it]\u001b[A\n",
      " 29%|██▉       | 63/217 [01:52<04:31,  1.76s/it]\u001b[A\n",
      " 29%|██▉       | 64/217 [01:53<04:22,  1.71s/it]\u001b[A\n",
      " 30%|██▉       | 65/217 [01:55<04:17,  1.69s/it]\u001b[A\n",
      " 30%|███       | 66/217 [01:57<04:35,  1.82s/it]\u001b[A\n",
      " 31%|███       | 67/217 [01:59<04:27,  1.78s/it]\u001b[A\n",
      " 31%|███▏      | 68/217 [02:00<04:22,  1.76s/it]\u001b[A\n",
      " 32%|███▏      | 69/217 [02:02<04:13,  1.71s/it]\u001b[A\n",
      " 32%|███▏      | 70/217 [02:03<03:59,  1.63s/it]\u001b[A\n",
      " 33%|███▎      | 71/217 [02:05<03:58,  1.63s/it]\u001b[A\n",
      " 33%|███▎      | 72/217 [02:07<04:09,  1.72s/it]\u001b[A\n",
      " 34%|███▎      | 73/217 [02:09<04:04,  1.70s/it]\u001b[A\n",
      " 34%|███▍      | 74/217 [02:10<03:57,  1.66s/it]\u001b[A\n",
      " 35%|███▍      | 75/217 [02:12<03:55,  1.66s/it]\u001b[A\n",
      " 35%|███▌      | 76/217 [02:14<03:57,  1.68s/it]\u001b[A\n",
      " 35%|███▌      | 77/217 [02:16<04:15,  1.82s/it]\u001b[A\n",
      " 36%|███▌      | 78/217 [02:18<04:14,  1.83s/it]\u001b[A\n",
      " 36%|███▋      | 79/217 [02:19<04:01,  1.75s/it]\u001b[A\n",
      " 37%|███▋      | 80/217 [02:21<03:56,  1.73s/it]\u001b[A\n",
      " 37%|███▋      | 81/217 [02:23<03:52,  1.71s/it]\u001b[A\n",
      " 38%|███▊      | 82/217 [02:24<03:51,  1.71s/it]\u001b[A\n",
      " 38%|███▊      | 83/217 [02:26<03:58,  1.78s/it]\u001b[A\n",
      " 39%|███▊      | 84/217 [02:28<03:54,  1.76s/it]\u001b[A\n",
      " 39%|███▉      | 85/217 [02:29<03:42,  1.69s/it]\u001b[A\n",
      " 40%|███▉      | 86/217 [02:31<03:43,  1.70s/it]\u001b[A\n",
      " 40%|████      | 87/217 [02:33<03:38,  1.68s/it]\u001b[A\n",
      " 41%|████      | 88/217 [02:34<03:37,  1.69s/it]\u001b[A\n",
      " 41%|████      | 89/217 [02:36<03:40,  1.72s/it]\u001b[A\n",
      " 41%|████▏     | 90/217 [02:38<03:36,  1.71s/it]\u001b[A\n",
      " 42%|████▏     | 91/217 [02:40<03:33,  1.70s/it]\u001b[A\n",
      " 42%|████▏     | 92/217 [02:41<03:28,  1.67s/it]\u001b[A\n",
      " 43%|████▎     | 93/217 [02:43<03:27,  1.68s/it]\u001b[A\n",
      " 43%|████▎     | 94/217 [02:45<03:33,  1.74s/it]\u001b[A\n",
      " 44%|████▍     | 95/217 [02:47<03:34,  1.76s/it]\u001b[A\n",
      " 44%|████▍     | 96/217 [02:48<03:29,  1.73s/it]\u001b[A\n",
      " 45%|████▍     | 97/217 [02:50<03:21,  1.68s/it]\u001b[A\n",
      " 45%|████▌     | 98/217 [02:51<03:17,  1.66s/it]\u001b[A\n",
      " 46%|████▌     | 99/217 [02:53<03:15,  1.66s/it]\u001b[A\n",
      " 46%|████▌     | 100/217 [02:55<03:23,  1.74s/it]\u001b[A\n",
      " 47%|████▋     | 101/217 [02:57<03:24,  1.76s/it]\u001b[A\n",
      " 47%|████▋     | 102/217 [02:59<03:25,  1.78s/it]\u001b[A\n",
      " 47%|████▋     | 103/217 [03:00<03:18,  1.74s/it]\u001b[A\n",
      " 48%|████▊     | 104/217 [03:02<03:15,  1.73s/it]\u001b[A\n",
      " 48%|████▊     | 105/217 [03:04<03:14,  1.73s/it]\u001b[A\n",
      " 49%|████▉     | 106/217 [03:06<03:14,  1.75s/it]\u001b[A\n",
      " 49%|████▉     | 107/217 [03:07<03:08,  1.72s/it]\u001b[A\n",
      " 50%|████▉     | 108/217 [03:10<03:42,  2.05s/it]\u001b[A\n",
      " 50%|█████     | 109/217 [03:12<03:30,  1.95s/it]\u001b[A\n",
      " 51%|█████     | 110/217 [03:14<03:24,  1.91s/it]\u001b[A\n",
      " 51%|█████     | 111/217 [03:15<03:22,  1.91s/it]\u001b[A\n",
      " 52%|█████▏    | 112/217 [03:17<03:16,  1.87s/it]\u001b[A\n",
      " 52%|█████▏    | 113/217 [03:19<03:10,  1.83s/it]\u001b[A\n",
      " 53%|█████▎    | 114/217 [03:21<03:00,  1.75s/it]\u001b[A\n",
      " 53%|█████▎    | 115/217 [03:22<03:00,  1.77s/it]\u001b[A\n",
      " 53%|█████▎    | 116/217 [03:24<03:01,  1.80s/it]\u001b[A\n",
      " 54%|█████▍    | 117/217 [03:26<03:06,  1.86s/it]\u001b[A\n",
      " 54%|█████▍    | 118/217 [03:28<02:58,  1.80s/it]\u001b[A\n",
      " 55%|█████▍    | 119/217 [03:30<02:51,  1.75s/it]\u001b[A\n",
      " 55%|█████▌    | 120/217 [03:31<02:43,  1.69s/it]\u001b[A\n",
      " 56%|█████▌    | 121/217 [03:33<02:41,  1.68s/it]\u001b[A\n",
      " 56%|█████▌    | 122/217 [03:34<02:38,  1.67s/it]\u001b[A\n",
      " 57%|█████▋    | 123/217 [03:36<02:47,  1.79s/it]\u001b[A\n",
      " 57%|█████▋    | 124/217 [03:38<02:39,  1.72s/it]\u001b[A\n",
      " 58%|█████▊    | 125/217 [03:40<02:37,  1.71s/it]\u001b[A\n",
      " 58%|█████▊    | 126/217 [03:42<02:40,  1.77s/it]\u001b[A\n",
      " 59%|█████▊    | 127/217 [03:43<02:37,  1.75s/it]\u001b[A\n",
      " 59%|█████▉    | 128/217 [03:45<02:43,  1.84s/it]\u001b[A\n",
      " 59%|█████▉    | 129/217 [03:47<02:35,  1.77s/it]\u001b[A\n",
      " 60%|█████▉    | 130/217 [03:49<02:30,  1.73s/it]\u001b[A\n",
      " 60%|██████    | 131/217 [03:50<02:32,  1.77s/it]\u001b[A\n",
      " 61%|██████    | 132/217 [03:52<02:32,  1.80s/it]\u001b[A\n",
      " 61%|██████▏   | 133/217 [03:54<02:28,  1.77s/it]\u001b[A\n",
      " 62%|██████▏   | 134/217 [03:56<02:25,  1.75s/it]\u001b[A\n",
      " 62%|██████▏   | 135/217 [03:57<02:19,  1.70s/it]\u001b[A\n",
      " 63%|██████▎   | 136/217 [03:59<02:18,  1.71s/it]\u001b[A\n",
      " 63%|██████▎   | 137/217 [04:01<02:12,  1.66s/it]\u001b[A\n",
      " 64%|██████▎   | 138/217 [04:02<02:09,  1.64s/it]\u001b[A\n",
      " 64%|██████▍   | 139/217 [04:04<02:07,  1.63s/it]\u001b[A\n",
      " 65%|██████▍   | 140/217 [04:06<02:16,  1.78s/it]\u001b[A\n",
      " 65%|██████▍   | 141/217 [04:08<02:11,  1.73s/it]\u001b[A\n",
      " 65%|██████▌   | 142/217 [04:09<02:13,  1.78s/it]\u001b[A\n",
      " 66%|██████▌   | 143/217 [04:11<02:07,  1.72s/it]\u001b[A\n",
      " 66%|██████▋   | 144/217 [04:13<02:03,  1.70s/it]\u001b[A\n",
      " 67%|██████▋   | 145/217 [04:15<02:13,  1.85s/it]\u001b[A\n",
      " 67%|██████▋   | 146/217 [04:17<02:19,  1.97s/it]\u001b[A\n",
      " 68%|██████▊   | 147/217 [04:19<02:11,  1.88s/it]\u001b[A\n",
      " 68%|██████▊   | 148/217 [04:20<02:04,  1.81s/it]\u001b[A\n",
      " 69%|██████▊   | 149/217 [04:22<02:02,  1.81s/it]\u001b[A\n",
      " 69%|██████▉   | 150/217 [04:24<02:00,  1.79s/it]\u001b[A\n",
      " 70%|██████▉   | 151/217 [04:26<02:04,  1.88s/it]\u001b[A\n",
      " 70%|███████   | 152/217 [04:28<01:56,  1.80s/it]\u001b[A\n",
      " 71%|███████   | 153/217 [04:29<01:48,  1.69s/it]\u001b[A\n",
      " 71%|███████   | 154/217 [04:31<01:43,  1.65s/it]\u001b[A\n",
      " 71%|███████▏  | 155/217 [04:32<01:42,  1.65s/it]\u001b[A\n",
      " 72%|███████▏  | 156/217 [04:34<01:43,  1.70s/it]\u001b[A\n",
      " 72%|███████▏  | 157/217 [04:36<01:47,  1.79s/it]\u001b[A\n",
      " 73%|███████▎  | 158/217 [04:38<01:44,  1.77s/it]\u001b[A\n",
      " 73%|███████▎  | 159/217 [04:39<01:39,  1.72s/it]\u001b[A\n",
      " 74%|███████▎  | 160/217 [04:41<01:36,  1.70s/it]\u001b[A\n",
      " 74%|███████▍  | 161/217 [04:43<01:35,  1.70s/it]\u001b[A\n",
      " 75%|███████▍  | 162/217 [04:45<01:39,  1.82s/it]\u001b[A\n",
      " 75%|███████▌  | 163/217 [04:47<01:36,  1.78s/it]\u001b[A\n",
      " 76%|███████▌  | 164/217 [04:48<01:31,  1.73s/it]\u001b[A\n",
      " 76%|███████▌  | 165/217 [04:50<01:28,  1.70s/it]\u001b[A\n",
      " 76%|███████▋  | 166/217 [04:52<01:27,  1.71s/it]\u001b[A\n",
      " 77%|███████▋  | 167/217 [04:53<01:25,  1.71s/it]\u001b[A\n",
      " 77%|███████▋  | 168/217 [04:55<01:25,  1.74s/it]\u001b[A\n",
      " 78%|███████▊  | 169/217 [04:57<01:22,  1.72s/it]\u001b[A\n",
      " 78%|███████▊  | 170/217 [04:59<01:22,  1.75s/it]\u001b[A\n",
      " 79%|███████▉  | 171/217 [05:00<01:16,  1.66s/it]\u001b[A\n",
      " 79%|███████▉  | 172/217 [05:02<01:12,  1.62s/it]\u001b[A\n",
      " 80%|███████▉  | 173/217 [05:03<01:12,  1.66s/it]\u001b[A\n",
      " 80%|████████  | 174/217 [05:05<01:16,  1.79s/it]\u001b[A\n",
      " 81%|████████  | 175/217 [05:07<01:14,  1.77s/it]\u001b[A\n",
      " 81%|████████  | 176/217 [05:09<01:10,  1.73s/it]\u001b[A\n",
      " 82%|████████▏ | 177/217 [05:10<01:09,  1.73s/it]\u001b[A\n",
      " 82%|████████▏ | 178/217 [05:12<01:07,  1.73s/it]\u001b[A\n",
      " 82%|████████▏ | 179/217 [05:14<01:07,  1.77s/it]\u001b[A\n",
      " 83%|████████▎ | 180/217 [05:16<01:04,  1.75s/it]\u001b[A\n",
      " 83%|████████▎ | 181/217 [05:18<01:03,  1.76s/it]\u001b[A\n",
      " 84%|████████▍ | 182/217 [05:19<01:00,  1.72s/it]\u001b[A\n",
      " 84%|████████▍ | 183/217 [05:21<00:58,  1.72s/it]\u001b[A\n",
      " 85%|████████▍ | 184/217 [05:23<00:57,  1.74s/it]\u001b[A\n",
      " 85%|████████▌ | 185/217 [05:25<00:58,  1.83s/it]\u001b[A\n",
      " 86%|████████▌ | 186/217 [05:26<00:55,  1.78s/it]\u001b[A\n",
      " 86%|████████▌ | 187/217 [05:28<00:52,  1.75s/it]\u001b[A\n",
      " 87%|████████▋ | 188/217 [05:30<00:49,  1.69s/it]\u001b[A\n",
      " 87%|████████▋ | 189/217 [05:31<00:46,  1.67s/it]\u001b[A\n",
      " 88%|████████▊ | 190/217 [05:33<00:44,  1.65s/it]\u001b[A\n",
      " 88%|████████▊ | 191/217 [05:35<00:46,  1.79s/it]\u001b[A\n",
      " 88%|████████▊ | 192/217 [05:37<00:44,  1.77s/it]\u001b[A\n",
      " 89%|████████▉ | 193/217 [05:38<00:40,  1.70s/it]\u001b[A\n",
      " 89%|████████▉ | 194/217 [05:40<00:39,  1.71s/it]\u001b[A\n",
      " 90%|████████▉ | 195/217 [05:42<00:38,  1.74s/it]\u001b[A\n",
      " 90%|█████████ | 196/217 [05:44<00:37,  1.80s/it]\u001b[A\n",
      " 91%|█████████ | 197/217 [05:45<00:34,  1.74s/it]\u001b[A\n",
      " 91%|█████████ | 198/217 [05:47<00:32,  1.71s/it]\u001b[A\n",
      " 92%|█████████▏| 199/217 [05:49<00:29,  1.66s/it]\u001b[A\n",
      " 92%|█████████▏| 200/217 [05:50<00:29,  1.73s/it]\u001b[A\n",
      " 93%|█████████▎| 201/217 [05:52<00:26,  1.66s/it]\u001b[A\n",
      " 93%|█████████▎| 202/217 [05:54<00:26,  1.77s/it]\u001b[A\n",
      " 94%|█████████▎| 203/217 [05:56<00:24,  1.76s/it]\u001b[A\n",
      " 94%|█████████▍| 204/217 [05:57<00:23,  1.77s/it]\u001b[A\n",
      " 94%|█████████▍| 205/217 [05:59<00:20,  1.75s/it]\u001b[A\n",
      " 95%|█████████▍| 206/217 [06:01<00:18,  1.73s/it]\u001b[A\n",
      " 95%|█████████▌| 207/217 [06:03<00:17,  1.76s/it]\u001b[A\n",
      " 96%|█████████▌| 208/217 [06:05<00:16,  1.87s/it]\u001b[A\n",
      " 96%|█████████▋| 209/217 [06:07<00:14,  1.82s/it]\u001b[A\n",
      " 97%|█████████▋| 210/217 [06:08<00:12,  1.79s/it]\u001b[A\n",
      " 97%|█████████▋| 211/217 [06:10<00:10,  1.72s/it]\u001b[A\n",
      " 98%|█████████▊| 212/217 [06:11<00:08,  1.70s/it]\u001b[A\n",
      " 98%|█████████▊| 213/217 [06:13<00:06,  1.71s/it]\u001b[A\n",
      " 99%|█████████▊| 214/217 [06:15<00:05,  1.69s/it]\u001b[A\n",
      " 99%|█████████▉| 215/217 [06:17<00:03,  1.74s/it]\u001b[A\n",
      "100%|█████████▉| 216/217 [06:18<00:01,  1.69s/it]\u001b[A\n",
      "100%|██████████| 217/217 [06:20<00:00,  1.75s/it]\n",
      " 79%|███████▉  | 393/499 [42:41<5:45:06, 195.35s/it]"
     ]
    },
    {
     "name": "stdout",
     "output_type": "stream",
     "text": [
      "https://reviews.webmd.com/drugs/drugreview-6877-loniten-tablet\n"
     ]
    },
    {
     "name": "stderr",
     "output_type": "stream",
     "text": [
      " 79%|███████▉  | 394/499 [42:43<4:00:08, 137.22s/it]"
     ]
    },
    {
     "name": "stdout",
     "output_type": "stream",
     "text": [
      "https://reviews.webmd.com/drugs/drugreview-6879-lopressor\n"
     ]
    },
    {
     "name": "stderr",
     "output_type": "stream",
     "text": [
      "\n",
      "  0%|          | 0/9 [00:00<?, ?it/s]\u001b[A\n",
      " 11%|█         | 1/9 [00:01<00:10,  1.28s/it]\u001b[A\n",
      " 22%|██▏       | 2/9 [00:02<00:10,  1.44s/it]\u001b[A\n",
      " 33%|███▎      | 3/9 [00:04<00:08,  1.38s/it]\u001b[A\n",
      " 44%|████▍     | 4/9 [00:05<00:07,  1.47s/it]\u001b[A\n",
      " 56%|█████▌    | 5/9 [00:07<00:05,  1.48s/it]\u001b[A\n",
      " 67%|██████▋   | 6/9 [00:08<00:04,  1.43s/it]\u001b[A\n",
      " 78%|███████▊  | 7/9 [00:10<00:03,  1.55s/it]\u001b[A\n",
      " 89%|████████▉ | 8/9 [00:11<00:01,  1.50s/it]\u001b[A\n",
      "100%|██████████| 9/9 [00:12<00:00,  1.43s/it]\n",
      " 79%|███████▉  | 395/499 [42:57<2:54:07, 100.46s/it]"
     ]
    },
    {
     "name": "stdout",
     "output_type": "stream",
     "text": [
      "https://reviews.webmd.com/drugs/drugreview-6883-lotensin\n"
     ]
    },
    {
     "name": "stderr",
     "output_type": "stream",
     "text": [
      "\n",
      "  0%|          | 0/1 [00:00<?, ?it/s]\u001b[A\n",
      "100%|██████████| 1/1 [00:00<00:00,  1.19it/s]\n",
      " 79%|███████▉  | 396/499 [43:00<2:02:09, 71.16s/it] "
     ]
    },
    {
     "name": "stdout",
     "output_type": "stream",
     "text": [
      "https://reviews.webmd.com/drugs/drugreview-6884-lozol-tablet\n"
     ]
    },
    {
     "name": "stderr",
     "output_type": "stream",
     "text": [
      "\n",
      "  0%|          | 0/1 [00:00<?, ?it/s]\u001b[A\n",
      "100%|██████████| 1/1 [00:00<00:00,  1.59it/s]\n",
      " 80%|███████▉  | 397/499 [43:03<1:25:56, 50.55s/it]"
     ]
    },
    {
     "name": "stdout",
     "output_type": "stream",
     "text": [
      "https://reviews.webmd.com/drugs/drugreview-6904-midamor-tablet\n"
     ]
    },
    {
     "name": "stderr",
     "output_type": "stream",
     "text": [
      "\n",
      "  0%|          | 0/1 [00:00<?, ?it/s]\u001b[A\n",
      "100%|██████████| 1/1 [00:00<00:00,  1.97it/s]\n",
      " 80%|███████▉  | 399/499 [43:06<42:31, 25.52s/it]  "
     ]
    },
    {
     "name": "stdout",
     "output_type": "stream",
     "text": [
      "skipping https://reviews.webmd.com/drugs/drugreview-6921-naturetin-tablet: page not found\n"
     ]
    },
    {
     "name": "stderr",
     "output_type": "stream",
     "text": [
      " 80%|████████  | 400/499 [43:07<29:59, 18.18s/it]"
     ]
    },
    {
     "name": "stdout",
     "output_type": "stream",
     "text": [
      "skipping https://reviews.webmd.com/drugs/drugreview-6922-bendroflumethiazide-tablet: page not found\n",
      "https://reviews.webmd.com/drugs/drugreview-6993-prinivil\n"
     ]
    },
    {
     "name": "stderr",
     "output_type": "stream",
     "text": [
      "\n",
      "  0%|          | 0/4 [00:00<?, ?it/s]\u001b[A\n",
      " 25%|██▌       | 1/4 [00:00<00:02,  1.14it/s]\u001b[A\n",
      " 50%|█████     | 2/4 [00:02<00:02,  1.20s/it]\u001b[A\n",
      " 75%|███████▌  | 3/4 [00:03<00:01,  1.23s/it]\u001b[A\n",
      "100%|██████████| 4/4 [00:04<00:00,  1.14s/it]\n",
      " 80%|████████  | 401/499 [43:14<24:04, 14.74s/it]"
     ]
    },
    {
     "name": "stdout",
     "output_type": "stream",
     "text": [
      "https://reviews.webmd.com/drugs/drugreview-7023-sectral-capsule\n"
     ]
    },
    {
     "name": "stderr",
     "output_type": "stream",
     "text": [
      "\n",
      "  0%|          | 0/1 [00:00<?, ?it/s]\u001b[A\n",
      "100%|██████████| 1/1 [00:01<00:00,  1.13s/it]\n",
      " 81%|████████  | 402/499 [43:17<18:12, 11.26s/it]"
     ]
    },
    {
     "name": "stdout",
     "output_type": "stream",
     "text": [
      "https://reviews.webmd.com/drugs/drugreview-7037-tenex-tablet\n"
     ]
    },
    {
     "name": "stderr",
     "output_type": "stream",
     "text": [
      "\n",
      "  0%|          | 0/4 [00:00<?, ?it/s]\u001b[A\n",
      " 25%|██▌       | 1/4 [00:00<00:02,  1.07it/s]\u001b[A\n",
      " 50%|█████     | 2/4 [00:02<00:02,  1.25s/it]\u001b[A\n",
      " 75%|███████▌  | 3/4 [00:03<00:01,  1.29s/it]\u001b[A\n",
      "100%|██████████| 4/4 [00:05<00:00,  1.27s/it]\n",
      " 81%|████████  | 403/499 [43:24<16:05, 10.06s/it]"
     ]
    },
    {
     "name": "stdout",
     "output_type": "stream",
     "text": [
      "https://reviews.webmd.com/drugs/drugreview-7085-verelan\n"
     ]
    },
    {
     "name": "stderr",
     "output_type": "stream",
     "text": [
      "\n",
      "  0%|          | 0/1 [00:00<?, ?it/s]\u001b[A\n",
      "100%|██████████| 1/1 [00:00<00:00,  1.49it/s]\n",
      " 81%|████████  | 404/499 [43:27<12:26,  7.86s/it]"
     ]
    },
    {
     "name": "stdout",
     "output_type": "stream",
     "text": [
      "https://reviews.webmd.com/drugs/drugreview-7086-verapamil-er\n"
     ]
    },
    {
     "name": "stderr",
     "output_type": "stream",
     "text": [
      "\n",
      "  0%|          | 0/12 [00:00<?, ?it/s]\u001b[A\n",
      "  8%|▊         | 1/12 [00:00<00:09,  1.22it/s]\u001b[A\n",
      " 17%|█▋        | 2/12 [00:02<00:12,  1.26s/it]\u001b[A\n",
      " 25%|██▌       | 3/12 [00:04<00:13,  1.54s/it]\u001b[A\n",
      " 33%|███▎      | 4/12 [00:05<00:11,  1.47s/it]\u001b[A\n",
      " 42%|████▏     | 5/12 [00:07<00:10,  1.56s/it]\u001b[A\n",
      " 50%|█████     | 6/12 [00:08<00:08,  1.49s/it]\u001b[A\n",
      " 58%|█████▊    | 7/12 [00:10<00:07,  1.47s/it]\u001b[A\n",
      " 67%|██████▋   | 8/12 [00:11<00:05,  1.45s/it]\u001b[A\n",
      " 75%|███████▌  | 9/12 [00:12<00:04,  1.45s/it]\u001b[A\n",
      " 83%|████████▎ | 10/12 [00:14<00:02,  1.44s/it]\u001b[A\n",
      " 92%|█████████▏| 11/12 [00:16<00:01,  1.55s/it]\u001b[A\n",
      "100%|██████████| 12/12 [00:17<00:00,  1.45s/it]\n",
      " 81%|████████  | 405/499 [43:46<17:51, 11.39s/it]"
     ]
    },
    {
     "name": "stdout",
     "output_type": "stream",
     "text": [
      "https://reviews.webmd.com/drugs/drugreview-7086-verapamil-hcl\n"
     ]
    },
    {
     "name": "stderr",
     "output_type": "stream",
     "text": [
      "\n",
      "  0%|          | 0/12 [00:00<?, ?it/s]\u001b[A\n",
      "  8%|▊         | 1/12 [00:00<00:08,  1.25it/s]\u001b[A\n",
      " 17%|█▋        | 2/12 [00:01<00:08,  1.17it/s]\u001b[A\n",
      " 25%|██▌       | 3/12 [00:02<00:08,  1.10it/s]\u001b[A\n",
      " 33%|███▎      | 4/12 [00:04<00:08,  1.08s/it]\u001b[A\n",
      " 42%|████▏     | 5/12 [00:04<00:07,  1.01s/it]\u001b[A\n",
      " 50%|█████     | 6/12 [00:05<00:06,  1.00s/it]\u001b[A\n",
      " 58%|█████▊    | 7/12 [00:06<00:04,  1.01it/s]\u001b[A\n",
      " 67%|██████▋   | 8/12 [00:07<00:04,  1.00s/it]\u001b[A\n",
      " 75%|███████▌  | 9/12 [00:08<00:02,  1.02it/s]\u001b[A\n",
      " 83%|████████▎ | 10/12 [00:09<00:02,  1.04s/it]\u001b[A\n",
      " 92%|█████████▏| 11/12 [00:10<00:01,  1.03s/it]\u001b[A\n",
      "100%|██████████| 12/12 [00:11<00:00,  1.02it/s]\n",
      " 81%|████████▏ | 406/499 [43:59<18:16, 11.79s/it]"
     ]
    },
    {
     "name": "stdout",
     "output_type": "stream",
     "text": [
      "https://reviews.webmd.com/drugs/drugreview-7086-verapamil-sr\n"
     ]
    },
    {
     "name": "stderr",
     "output_type": "stream",
     "text": [
      "\n",
      "  0%|          | 0/12 [00:00<?, ?it/s]\u001b[A\n",
      "  8%|▊         | 1/12 [00:00<00:08,  1.27it/s]\u001b[A\n",
      " 17%|█▋        | 2/12 [00:01<00:08,  1.23it/s]\u001b[A\n",
      " 25%|██▌       | 3/12 [00:02<00:09,  1.01s/it]\u001b[A\n",
      " 33%|███▎      | 4/12 [00:03<00:07,  1.00it/s]\u001b[A\n",
      " 42%|████▏     | 5/12 [00:04<00:07,  1.01s/it]\u001b[A\n",
      " 50%|█████     | 6/12 [00:05<00:05,  1.02it/s]\u001b[A\n",
      " 58%|█████▊    | 7/12 [00:06<00:04,  1.06it/s]\u001b[A\n",
      " 67%|██████▋   | 8/12 [00:07<00:03,  1.04it/s]\u001b[A\n",
      " 75%|███████▌  | 9/12 [00:08<00:02,  1.08it/s]\u001b[A\n",
      " 83%|████████▎ | 10/12 [00:09<00:01,  1.08it/s]\u001b[A\n",
      " 92%|█████████▏| 11/12 [00:10<00:00,  1.06it/s]\u001b[A\n",
      "100%|██████████| 12/12 [00:11<00:00,  1.07it/s]\n",
      " 82%|████████▏ | 407/499 [44:11<18:14, 11.89s/it]"
     ]
    },
    {
     "name": "stdout",
     "output_type": "stream",
     "text": [
      "https://reviews.webmd.com/drugs/drugreview-7091-visken-tablet\n"
     ]
    },
    {
     "name": "stderr",
     "output_type": "stream",
     "text": [
      "\n",
      "  0%|          | 0/1 [00:00<?, ?it/s]\u001b[A\n",
      "100%|██████████| 1/1 [00:00<00:00,  1.92it/s]\n",
      " 82%|████████▏ | 409/499 [44:14<09:53,  6.59s/it]"
     ]
    },
    {
     "name": "stdout",
     "output_type": "stream",
     "text": [
      "skipping https://reviews.webmd.com/drugs/drugreview-7094-wytensin-tablet: page not found\n",
      "https://reviews.webmd.com/drugs/drugreview-7101-zestril\n"
     ]
    },
    {
     "name": "stderr",
     "output_type": "stream",
     "text": [
      "\n",
      "  0%|          | 0/4 [00:00<?, ?it/s]\u001b[A\n",
      " 25%|██▌       | 1/4 [00:01<00:03,  1.33s/it]\u001b[A\n",
      " 50%|█████     | 2/4 [00:02<00:02,  1.44s/it]\u001b[A\n",
      " 75%|███████▌  | 3/4 [00:04<00:01,  1.50s/it]\u001b[A\n",
      "100%|██████████| 4/4 [00:05<00:00,  1.41s/it]\n",
      " 82%|████████▏ | 411/499 [44:24<07:43,  5.27s/it]"
     ]
    },
    {
     "name": "stdout",
     "output_type": "stream",
     "text": [
      "skipping https://reviews.webmd.com/drugs/drugreview-7113-h-h-r-tablet: page not found\n",
      "https://reviews.webmd.com/drugs/drugreview-7115-catapres-tts-2-patch-weekly\n"
     ]
    },
    {
     "name": "stderr",
     "output_type": "stream",
     "text": [
      "\n",
      "  0%|          | 0/1 [00:00<?, ?it/s]\u001b[A\n",
      "100%|██████████| 1/1 [00:00<00:00,  1.41it/s]\n",
      " 83%|████████▎ | 412/499 [44:26<06:33,  4.52s/it]"
     ]
    },
    {
     "name": "stdout",
     "output_type": "stream",
     "text": [
      "https://reviews.webmd.com/drugs/drugreview-7117-dyazide-capsule\n"
     ]
    },
    {
     "name": "stderr",
     "output_type": "stream",
     "text": [
      "\n",
      "  0%|          | 0/4 [00:00<?, ?it/s]\u001b[A\n",
      " 25%|██▌       | 1/4 [00:00<00:02,  1.08it/s]\u001b[A\n",
      " 50%|█████     | 2/4 [00:02<00:02,  1.31s/it]\u001b[A\n",
      " 75%|███████▌  | 3/4 [00:04<00:01,  1.47s/it]\u001b[A\n",
      "100%|██████████| 4/4 [00:05<00:00,  1.32s/it]\n",
      " 83%|████████▎ | 413/499 [44:34<07:47,  5.43s/it]"
     ]
    },
    {
     "name": "stdout",
     "output_type": "stream",
     "text": [
      "https://reviews.webmd.com/drugs/drugreview-7119-tenoretic-100\n"
     ]
    },
    {
     "name": "stderr",
     "output_type": "stream",
     "text": [
      "\n",
      "  0%|          | 0/1 [00:00<?, ?it/s]\u001b[A\n",
      "100%|██████████| 1/1 [00:00<00:00,  1.52it/s]\n",
      " 83%|████████▎ | 414/499 [44:37<06:32,  4.61s/it]"
     ]
    },
    {
     "name": "stdout",
     "output_type": "stream",
     "text": [
      "https://reviews.webmd.com/drugs/drugreview-7120-vaseretic\n"
     ]
    },
    {
     "name": "stderr",
     "output_type": "stream",
     "text": [
      "\n",
      "  0%|          | 0/1 [00:00<?, ?it/s]\u001b[A\n",
      "100%|██████████| 1/1 [00:00<00:00,  1.90it/s]\n",
      " 83%|████████▎ | 416/499 [44:40<04:17,  3.11s/it]"
     ]
    },
    {
     "name": "stdout",
     "output_type": "stream",
     "text": [
      "skipping https://reviews.webmd.com/drugs/drugreview-7123-corzide-tablet: page not found\n"
     ]
    },
    {
     "name": "stderr",
     "output_type": "stream",
     "text": [
      " 84%|████████▎ | 417/499 [44:41<03:25,  2.51s/it]"
     ]
    },
    {
     "name": "stdout",
     "output_type": "stream",
     "text": [
      "skipping https://reviews.webmd.com/drugs/drugreview-7124-inderide-la-capsule-er: page not found\n",
      "https://reviews.webmd.com/drugs/drugreview-7144-hydrodiuril-tablet\n"
     ]
    },
    {
     "name": "stderr",
     "output_type": "stream",
     "text": [
      "\n",
      "  0%|          | 0/1 [00:00<?, ?it/s]\u001b[A\n",
      "100%|██████████| 1/1 [00:00<00:00,  1.66it/s]\n",
      " 84%|████████▍ | 418/499 [44:44<03:22,  2.50s/it]"
     ]
    },
    {
     "name": "stdout",
     "output_type": "stream",
     "text": [
      "https://reviews.webmd.com/drugs/drugreview-7194-diovan-hct\n"
     ]
    },
    {
     "name": "stderr",
     "output_type": "stream",
     "text": [
      "\n",
      "  0%|          | 0/21 [00:00<?, ?it/s]\u001b[A\n",
      "  5%|▍         | 1/21 [00:00<00:18,  1.09it/s]\u001b[A\n",
      " 10%|▉         | 2/21 [00:02<00:23,  1.21s/it]\u001b[A\n",
      " 14%|█▍        | 3/21 [00:03<00:22,  1.26s/it]\u001b[A\n",
      " 19%|█▉        | 4/21 [00:05<00:24,  1.43s/it]\u001b[A\n",
      " 24%|██▍       | 5/21 [00:06<00:22,  1.43s/it]\u001b[A\n",
      " 29%|██▊       | 6/21 [00:08<00:21,  1.45s/it]\u001b[A\n",
      " 33%|███▎      | 7/21 [00:09<00:20,  1.47s/it]\u001b[A\n",
      " 38%|███▊      | 8/21 [00:11<00:18,  1.45s/it]\u001b[A\n",
      " 43%|████▎     | 9/21 [00:12<00:17,  1.46s/it]\u001b[A\n",
      " 48%|████▊     | 10/21 [00:14<00:16,  1.48s/it]\u001b[A\n",
      " 52%|█████▏    | 11/21 [00:15<00:14,  1.49s/it]\u001b[A\n",
      " 57%|█████▋    | 12/21 [00:17<00:14,  1.65s/it]\u001b[A\n",
      " 62%|██████▏   | 13/21 [00:19<00:12,  1.56s/it]\u001b[A\n",
      " 67%|██████▋   | 14/21 [00:20<00:10,  1.53s/it]\u001b[A\n",
      " 71%|███████▏  | 15/21 [00:22<00:10,  1.68s/it]\u001b[A\n",
      " 76%|███████▌  | 16/21 [00:23<00:07,  1.59s/it]\u001b[A\n",
      " 81%|████████  | 17/21 [00:25<00:06,  1.54s/it]\u001b[A\n",
      " 86%|████████▌ | 18/21 [00:26<00:04,  1.51s/it]\u001b[A\n",
      " 90%|█████████ | 19/21 [00:28<00:02,  1.48s/it]\u001b[A\n",
      " 95%|█████████▌| 20/21 [00:29<00:01,  1.41s/it]\u001b[A\n",
      "100%|██████████| 21/21 [00:31<00:00,  1.48s/it]\n",
      " 84%|████████▍ | 419/499 [45:17<15:37, 11.72s/it]"
     ]
    },
    {
     "name": "stdout",
     "output_type": "stream",
     "text": [
      "https://reviews.webmd.com/drugs/drugreview-7195-valsartan-hydrochlorothiazide\n"
     ]
    },
    {
     "name": "stderr",
     "output_type": "stream",
     "text": [
      "\n",
      "  0%|          | 0/3 [00:00<?, ?it/s]\u001b[A\n",
      " 33%|███▎      | 1/3 [00:01<00:02,  1.01s/it]\u001b[A\n",
      " 67%|██████▋   | 2/3 [00:02<00:01,  1.17s/it]\u001b[A\n",
      "100%|██████████| 3/3 [00:03<00:00,  1.21s/it]\n",
      " 84%|████████▍ | 420/499 [45:23<12:59,  9.86s/it]"
     ]
    },
    {
     "name": "stdout",
     "output_type": "stream",
     "text": [
      "https://reviews.webmd.com/drugs/drugreview-7211-normodyne-tablet\n"
     ]
    },
    {
     "name": "stderr",
     "output_type": "stream",
     "text": [
      "\n",
      "  0%|          | 0/1 [00:00<?, ?it/s]\u001b[A\n",
      "100%|██████████| 1/1 [00:00<00:00,  1.70it/s]\n",
      " 84%|████████▍ | 421/499 [45:25<09:54,  7.62s/it]"
     ]
    },
    {
     "name": "stdout",
     "output_type": "stream",
     "text": [
      "https://reviews.webmd.com/drugs/drugreview-7212-labetalol-hcl\n"
     ]
    },
    {
     "name": "stderr",
     "output_type": "stream",
     "text": [
      "\n",
      "  0%|          | 0/9 [00:00<?, ?it/s]\u001b[A\n",
      " 11%|█         | 1/9 [00:00<00:07,  1.03it/s]\u001b[A\n",
      " 22%|██▏       | 2/9 [00:02<00:09,  1.36s/it]\u001b[A\n",
      " 33%|███▎      | 3/9 [00:04<00:08,  1.41s/it]\u001b[A\n",
      " 44%|████▍     | 4/9 [00:05<00:07,  1.50s/it]\u001b[A\n",
      " 56%|█████▌    | 5/9 [00:07<00:05,  1.44s/it]\u001b[A\n",
      " 67%|██████▋   | 6/9 [00:08<00:04,  1.60s/it]\u001b[A\n",
      " 78%|███████▊  | 7/9 [00:10<00:03,  1.65s/it]\u001b[A\n",
      " 89%|████████▉ | 8/9 [00:12<00:01,  1.61s/it]\u001b[A\n",
      "100%|██████████| 9/9 [00:13<00:00,  1.47s/it]\n",
      " 85%|████████▍ | 422/499 [45:41<12:52, 10.03s/it]"
     ]
    },
    {
     "name": "stdout",
     "output_type": "stream",
     "text": [
      "https://reviews.webmd.com/drugs/drugreview-7214-trandate-tablet\n"
     ]
    },
    {
     "name": "stderr",
     "output_type": "stream",
     "text": [
      "\n",
      "  0%|          | 0/1 [00:00<?, ?it/s]\u001b[A\n",
      "100%|██████████| 1/1 [00:00<00:00,  1.62it/s]\n",
      " 85%|████████▍ | 424/499 [45:44<07:15,  5.81s/it]"
     ]
    },
    {
     "name": "stdout",
     "output_type": "stream",
     "text": [
      "skipping https://reviews.webmd.com/drugs/drugreview-7235-tiamate-tablet-er-24-hr: page not found\n"
     ]
    },
    {
     "name": "stderr",
     "output_type": "stream",
     "text": [
      " 85%|████████▌ | 425/499 [45:46<05:34,  4.52s/it]"
     ]
    },
    {
     "name": "stdout",
     "output_type": "stream",
     "text": [
      "skipping https://reviews.webmd.com/drugs/drugreview-7236-diltiazem-malate-tablet-er: page not found\n",
      "https://reviews.webmd.com/drugs/drugreview-7243-plendil-tablet-er-24-hr\n"
     ]
    },
    {
     "name": "stderr",
     "output_type": "stream",
     "text": [
      "\n",
      "  0%|          | 0/2 [00:00<?, ?it/s]\u001b[A\n",
      " 50%|█████     | 1/2 [00:00<00:00,  1.08it/s]\u001b[A\n",
      "100%|██████████| 2/2 [00:02<00:00,  1.22s/it]\n",
      " 85%|████████▌ | 426/499 [45:51<05:33,  4.57s/it]"
     ]
    },
    {
     "name": "stdout",
     "output_type": "stream",
     "text": [
      "https://reviews.webmd.com/drugs/drugreview-7244-felodipine-er\n"
     ]
    },
    {
     "name": "stderr",
     "output_type": "stream",
     "text": [
      "\n",
      "  0%|          | 0/3 [00:00<?, ?it/s]\u001b[A\n",
      " 33%|███▎      | 1/3 [00:00<00:01,  1.05it/s]\u001b[A\n",
      " 67%|██████▋   | 2/3 [00:02<00:01,  1.30s/it]\u001b[A\n",
      "100%|██████████| 3/3 [00:03<00:00,  1.25s/it]\n",
      " 86%|████████▌ | 427/499 [45:56<05:55,  4.93s/it]"
     ]
    },
    {
     "name": "stdout",
     "output_type": "stream",
     "text": [
      "https://reviews.webmd.com/drugs/drugreview-7376-maxzide\n"
     ]
    },
    {
     "name": "stderr",
     "output_type": "stream",
     "text": [
      "\n",
      "  0%|          | 0/4 [00:00<?, ?it/s]\u001b[A\n",
      " 25%|██▌       | 1/4 [00:01<00:03,  1.07s/it]\u001b[A\n",
      " 50%|█████     | 2/4 [00:02<00:02,  1.29s/it]\u001b[A\n",
      " 75%|███████▌  | 3/4 [00:03<00:01,  1.31s/it]\u001b[A\n",
      "100%|██████████| 4/4 [00:05<00:00,  1.27s/it]\n",
      " 86%|████████▌ | 428/499 [46:04<06:38,  5.61s/it]"
     ]
    },
    {
     "name": "stdout",
     "output_type": "stream",
     "text": [
      "https://reviews.webmd.com/drugs/drugreview-7456-catapres-tts-1-patch-weekly\n"
     ]
    },
    {
     "name": "stderr",
     "output_type": "stream",
     "text": [
      "\n",
      "  0%|          | 0/1 [00:00<?, ?it/s]\u001b[A\n",
      "100%|██████████| 1/1 [00:00<00:00,  1.36it/s]\n",
      " 86%|████████▌ | 429/499 [46:07<05:36,  4.80s/it]"
     ]
    },
    {
     "name": "stdout",
     "output_type": "stream",
     "text": [
      "https://reviews.webmd.com/drugs/drugreview-74894-cardizem-la\n"
     ]
    },
    {
     "name": "stderr",
     "output_type": "stream",
     "text": [
      "\n",
      "  0%|          | 0/1 [00:00<?, ?it/s]\u001b[A\n",
      "100%|██████████| 1/1 [00:01<00:00,  1.04s/it]\n",
      " 86%|████████▌ | 430/499 [46:10<04:56,  4.30s/it]"
     ]
    },
    {
     "name": "stdout",
     "output_type": "stream",
     "text": [
      "https://reviews.webmd.com/drugs/drugreview-74923-amiloride-hcl-hctz-tablet\n"
     ]
    },
    {
     "name": "stderr",
     "output_type": "stream",
     "text": [
      " 86%|████████▋ | 431/499 [46:11<03:58,  3.51s/it]"
     ]
    },
    {
     "name": "stdout",
     "output_type": "stream",
     "text": [
      "https://reviews.webmd.com/drugs/drugreview-74943-isoptin-s-r-tablet-er\n"
     ]
    },
    {
     "name": "stderr",
     "output_type": "stream",
     "text": [
      " 87%|████████▋ | 432/499 [46:13<03:21,  3.01s/it]"
     ]
    },
    {
     "name": "stdout",
     "output_type": "stream",
     "text": [
      "https://reviews.webmd.com/drugs/drugreview-75025-innopran-xl\n"
     ]
    },
    {
     "name": "stderr",
     "output_type": "stream",
     "text": [
      "\n",
      "  0%|          | 0/1 [00:00<?, ?it/s]\u001b[A\n",
      "100%|██████████| 1/1 [00:00<00:00,  1.19it/s]\n",
      " 87%|████████▋ | 433/499 [46:16<03:17,  2.99s/it]"
     ]
    },
    {
     "name": "stdout",
     "output_type": "stream",
     "text": [
      "https://reviews.webmd.com/drugs/drugreview-75092-taztia-xt\n"
     ]
    },
    {
     "name": "stderr",
     "output_type": "stream",
     "text": [
      "\n",
      "  0%|          | 0/2 [00:00<?, ?it/s]\u001b[A\n",
      " 50%|█████     | 1/2 [00:00<00:00,  1.09it/s]\u001b[A\n",
      "100%|██████████| 2/2 [00:01<00:00,  1.05it/s]\n",
      " 87%|████████▋ | 434/499 [46:20<03:36,  3.32s/it]"
     ]
    },
    {
     "name": "stdout",
     "output_type": "stream",
     "text": [
      "https://reviews.webmd.com/drugs/drugreview-75213-afeditab-cr-tablet-er\n"
     ]
    },
    {
     "name": "stderr",
     "output_type": "stream",
     "text": [
      "\n",
      "  0%|          | 0/1 [00:00<?, ?it/s]\u001b[A\n",
      "100%|██████████| 1/1 [00:00<00:00,  1.56it/s]\n",
      " 87%|████████▋ | 435/499 [46:23<03:17,  3.08s/it]"
     ]
    },
    {
     "name": "stdout",
     "output_type": "stream",
     "text": [
      "https://reviews.webmd.com/drugs/drugreview-7637-sodium-edecrin-vial\n"
     ]
    },
    {
     "name": "stderr",
     "output_type": "stream",
     "text": [
      "\n",
      "  0%|          | 0/1 [00:00<?, ?it/s]\u001b[A\n",
      "100%|██████████| 1/1 [00:00<00:00,  2.18it/s]\n",
      " 87%|████████▋ | 436/499 [46:27<03:30,  3.35s/it]"
     ]
    },
    {
     "name": "stdout",
     "output_type": "stream",
     "text": [
      "https://reviews.webmd.com/drugs/drugreview-7638-ethacrynate-sodium-vial\n"
     ]
    },
    {
     "name": "stderr",
     "output_type": "stream",
     "text": [
      " 88%|████████▊ | 437/499 [46:28<02:55,  2.83s/it]"
     ]
    },
    {
     "name": "stdout",
     "output_type": "stream",
     "text": [
      "https://reviews.webmd.com/drugs/drugreview-76390-olmesartan-hydrochlorothiazide\n"
     ]
    },
    {
     "name": "stderr",
     "output_type": "stream",
     "text": [
      "\n",
      "  0%|          | 0/1 [00:00<?, ?it/s]\u001b[A\n",
      "100%|██████████| 1/1 [00:00<00:00,  1.25it/s]\n",
      " 88%|████████▊ | 438/499 [46:31<02:52,  2.82s/it]"
     ]
    },
    {
     "name": "stdout",
     "output_type": "stream",
     "text": [
      "https://reviews.webmd.com/drugs/drugreview-76391-benicar-hct\n"
     ]
    },
    {
     "name": "stderr",
     "output_type": "stream",
     "text": [
      "\n",
      "  0%|          | 0/15 [00:00<?, ?it/s]\u001b[A\n",
      "  7%|▋         | 1/15 [00:00<00:11,  1.21it/s]\u001b[A\n",
      " 13%|█▎        | 2/15 [00:02<00:15,  1.22s/it]\u001b[A\n",
      " 20%|██        | 3/15 [00:04<00:17,  1.46s/it]\u001b[A\n",
      " 27%|██▋       | 4/15 [00:05<00:16,  1.47s/it]\u001b[A\n",
      " 33%|███▎      | 5/15 [00:06<00:14,  1.44s/it]\u001b[A\n",
      " 40%|████      | 6/15 [00:08<00:13,  1.48s/it]\u001b[A\n",
      " 47%|████▋     | 7/15 [00:10<00:11,  1.49s/it]\u001b[A\n",
      " 53%|█████▎    | 8/15 [00:11<00:10,  1.43s/it]\u001b[A\n",
      " 60%|██████    | 9/15 [00:12<00:08,  1.45s/it]\u001b[A\n",
      " 67%|██████▋   | 10/15 [00:14<00:07,  1.41s/it]\u001b[A\n",
      " 73%|███████▎  | 11/15 [00:15<00:05,  1.41s/it]\u001b[A\n",
      " 80%|████████  | 12/15 [00:16<00:04,  1.42s/it]\u001b[A\n",
      " 87%|████████▋ | 13/15 [00:18<00:02,  1.41s/it]\u001b[A\n",
      " 93%|█████████▎| 14/15 [00:20<00:01,  1.52s/it]\u001b[A\n",
      "100%|██████████| 15/15 [00:21<00:00,  1.42s/it]\n",
      " 88%|████████▊ | 439/499 [46:54<08:58,  8.98s/it]"
     ]
    },
    {
     "name": "stdout",
     "output_type": "stream",
     "text": [
      "https://reviews.webmd.com/drugs/drugreview-77327-betachron-capsule-24-hr-capsule-er-hr\n"
     ]
    },
    {
     "name": "stderr",
     "output_type": "stream",
     "text": [
      " 88%|████████▊ | 440/499 [46:56<06:41,  6.81s/it]"
     ]
    },
    {
     "name": "stdout",
     "output_type": "stream",
     "text": [
      "https://reviews.webmd.com/drugs/drugreview-7764-blocadren-tablet\n"
     ]
    },
    {
     "name": "stderr",
     "output_type": "stream",
     "text": [
      "\n",
      "  0%|          | 0/1 [00:00<?, ?it/s]\u001b[A\n",
      "100%|██████████| 1/1 [00:00<00:00,  1.91it/s]\n",
      " 88%|████████▊ | 441/499 [46:58<05:16,  5.45s/it]"
     ]
    },
    {
     "name": "stdout",
     "output_type": "stream",
     "text": [
      "https://reviews.webmd.com/drugs/drugreview-77809-inspra\n"
     ]
    },
    {
     "name": "stderr",
     "output_type": "stream",
     "text": [
      "\n",
      "  0%|          | 0/1 [00:00<?, ?it/s]\u001b[A\n",
      "100%|██████████| 1/1 [00:00<00:00,  1.09it/s]\n",
      " 89%|████████▊ | 442/499 [47:01<04:27,  4.69s/it]"
     ]
    },
    {
     "name": "stdout",
     "output_type": "stream",
     "text": [
      "https://reviews.webmd.com/drugs/drugreview-78139-nifediac-cc-tablet-er\n"
     ]
    },
    {
     "name": "stderr",
     "output_type": "stream",
     "text": [
      "\n",
      "  0%|          | 0/2 [00:00<?, ?it/s]\u001b[A\n",
      " 50%|█████     | 1/2 [00:00<00:00,  1.08it/s]\u001b[A\n",
      "100%|██████████| 2/2 [00:02<00:00,  1.10s/it]\n",
      " 89%|████████▉ | 443/499 [47:05<04:12,  4.52s/it]"
     ]
    },
    {
     "name": "stdout",
     "output_type": "stream",
     "text": [
      "https://reviews.webmd.com/drugs/drugreview-78636-amlodipine-atorvastatin\n"
     ]
    },
    {
     "name": "stderr",
     "output_type": "stream",
     "text": [
      "\n",
      "  0%|          | 0/1 [00:00<?, ?it/s]\u001b[A\n",
      "100%|██████████| 1/1 [00:00<00:00,  1.07it/s]\n",
      " 89%|████████▉ | 445/499 [47:10<02:54,  3.23s/it]"
     ]
    },
    {
     "name": "stdout",
     "output_type": "stream",
     "text": [
      "skipping https://reviews.webmd.com/drugs/drugreview-7985-guanabenz-tablet: page not found\n"
     ]
    },
    {
     "name": "stderr",
     "output_type": "stream",
     "text": [
      " 89%|████████▉ | 446/499 [47:11<02:17,  2.60s/it]"
     ]
    },
    {
     "name": "stdout",
     "output_type": "stream",
     "text": [
      "skipping https://reviews.webmd.com/drugs/drugreview-8043-cardene-sr-capsule-er: page not found\n",
      "https://reviews.webmd.com/drugs/drugreview-8044-nicardipine-hcl\n"
     ]
    },
    {
     "name": "stderr",
     "output_type": "stream",
     "text": [
      "\n",
      "  0%|          | 0/1 [00:00<?, ?it/s]\u001b[A\n",
      "100%|██████████| 1/1 [00:00<00:00,  1.56it/s]\n",
      " 90%|████████▉ | 448/499 [47:14<01:45,  2.06s/it]"
     ]
    },
    {
     "name": "stdout",
     "output_type": "stream",
     "text": [
      "skipping https://reviews.webmd.com/drugs/drugreview-8070-timolide-tablet: page not found\n",
      "https://reviews.webmd.com/drugs/drugreview-8148-rose-tablet\n"
     ]
    },
    {
     "name": "stderr",
     "output_type": "stream",
     "text": [
      " 90%|████████▉ | 449/499 [47:16<01:36,  1.92s/it]"
     ]
    },
    {
     "name": "stdout",
     "output_type": "stream",
     "text": [
      "https://reviews.webmd.com/drugs/drugreview-8183-candesartan-cilexetil\n"
     ]
    },
    {
     "name": "stderr",
     "output_type": "stream",
     "text": [
      "\n",
      "  0%|          | 0/2 [00:00<?, ?it/s]\u001b[A\n",
      " 50%|█████     | 1/2 [00:00<00:00,  1.09it/s]\u001b[A\n",
      "100%|██████████| 2/2 [00:01<00:00,  1.00it/s]\n",
      " 90%|█████████ | 451/499 [47:21<01:42,  2.14s/it]"
     ]
    },
    {
     "name": "stdout",
     "output_type": "stream",
     "text": [
      "skipping https://reviews.webmd.com/drugs/drugreview-8340-methyclothiazide-tablet: page not found\n"
     ]
    },
    {
     "name": "stderr",
     "output_type": "stream",
     "text": [
      " 91%|█████████ | 452/499 [47:22<01:25,  1.81s/it]"
     ]
    },
    {
     "name": "stdout",
     "output_type": "stream",
     "text": [
      "skipping https://reviews.webmd.com/drugs/drugreview-8427-hylorel-tablet: page not found\n"
     ]
    },
    {
     "name": "stderr",
     "output_type": "stream",
     "text": [
      " 91%|█████████ | 453/499 [47:23<01:13,  1.59s/it]"
     ]
    },
    {
     "name": "stdout",
     "output_type": "stream",
     "text": [
      "skipping https://reviews.webmd.com/drugs/drugreview-8428-guanadrel-tablet: page not found\n",
      "https://reviews.webmd.com/drugs/drugreview-8430-mykrox-tablet\n"
     ]
    },
    {
     "name": "stderr",
     "output_type": "stream",
     "text": [
      " 91%|█████████ | 454/499 [47:25<01:11,  1.58s/it]"
     ]
    },
    {
     "name": "stdout",
     "output_type": "stream",
     "text": [
      "https://reviews.webmd.com/drugs/drugreview-8431-metolazone\n"
     ]
    },
    {
     "name": "stderr",
     "output_type": "stream",
     "text": [
      "\n",
      "  0%|          | 0/2 [00:00<?, ?it/s]\u001b[A\n",
      " 50%|█████     | 1/2 [00:00<00:00,  1.01it/s]\u001b[A\n",
      "100%|██████████| 2/2 [00:02<00:00,  1.07s/it]\n",
      " 91%|█████████ | 455/499 [47:29<01:46,  2.41s/it]"
     ]
    },
    {
     "name": "stdout",
     "output_type": "stream",
     "text": [
      "https://reviews.webmd.com/drugs/drugreview-8434-zaroxolyn-tablet\n"
     ]
    },
    {
     "name": "stderr",
     "output_type": "stream",
     "text": [
      "\n",
      "  0%|          | 0/1 [00:00<?, ?it/s]\u001b[A\n",
      "100%|██████████| 1/1 [00:00<00:00,  1.20it/s]\n",
      " 91%|█████████▏| 456/499 [47:32<01:47,  2.50s/it]"
     ]
    },
    {
     "name": "stdout",
     "output_type": "stream",
     "text": [
      "https://reviews.webmd.com/drugs/drugreview-849-valsartan\n"
     ]
    },
    {
     "name": "stderr",
     "output_type": "stream",
     "text": [
      "\n",
      "  0%|          | 0/6 [00:00<?, ?it/s]\u001b[A\n",
      " 17%|█▋        | 1/6 [00:00<00:04,  1.20it/s]\u001b[A\n",
      " 33%|███▎      | 2/6 [00:02<00:05,  1.36s/it]\u001b[A\n",
      " 50%|█████     | 3/6 [00:03<00:04,  1.37s/it]\u001b[A\n",
      " 67%|██████▋   | 4/6 [00:05<00:02,  1.40s/it]\u001b[A\n",
      " 83%|████████▎ | 5/6 [00:06<00:01,  1.45s/it]\u001b[A\n",
      "100%|██████████| 6/6 [00:07<00:00,  1.31s/it]\n",
      " 92%|█████████▏| 457/499 [47:42<03:21,  4.80s/it]"
     ]
    },
    {
     "name": "stdout",
     "output_type": "stream",
     "text": [
      "https://reviews.webmd.com/drugs/drugreview-8678-methyldopa\n"
     ]
    },
    {
     "name": "stderr",
     "output_type": "stream",
     "text": [
      "\n",
      "  0%|          | 0/2 [00:00<?, ?it/s]\u001b[A\n",
      " 50%|█████     | 1/2 [00:00<00:00,  1.14it/s]\u001b[A\n",
      "100%|██████████| 2/2 [00:02<00:00,  1.28s/it]\n",
      " 92%|█████████▏| 458/499 [47:46<03:11,  4.68s/it]"
     ]
    },
    {
     "name": "stdout",
     "output_type": "stream",
     "text": [
      "https://reviews.webmd.com/drugs/drugreview-8680-minoxidil\n"
     ]
    },
    {
     "name": "stderr",
     "output_type": "stream",
     "text": [
      "\n",
      "  0%|          | 0/2 [00:00<?, ?it/s]\u001b[A\n",
      " 50%|█████     | 1/2 [00:00<00:00,  1.28it/s]\u001b[A\n",
      "100%|██████████| 2/2 [00:01<00:00,  1.03it/s]\n",
      " 92%|█████████▏| 459/499 [47:50<02:57,  4.44s/it]"
     ]
    },
    {
     "name": "stdout",
     "output_type": "stream",
     "text": [
      "https://reviews.webmd.com/drugs/drugreview-8681-nifedipine\n"
     ]
    },
    {
     "name": "stderr",
     "output_type": "stream",
     "text": [
      "\n",
      "  0%|          | 0/5 [00:00<?, ?it/s]\u001b[A\n",
      " 20%|██        | 1/5 [00:00<00:03,  1.07it/s]\u001b[A\n",
      " 40%|████      | 2/5 [00:02<00:04,  1.43s/it]\u001b[A\n",
      " 60%|██████    | 3/5 [00:04<00:02,  1.44s/it]\u001b[A\n",
      " 80%|████████  | 4/5 [00:05<00:01,  1.44s/it]\u001b[A\n",
      "100%|██████████| 5/5 [00:06<00:00,  1.39s/it]\n",
      " 92%|█████████▏| 460/499 [47:59<03:45,  5.78s/it]"
     ]
    },
    {
     "name": "stdout",
     "output_type": "stream",
     "text": [
      "https://reviews.webmd.com/drugs/drugreview-8681-nifedipine-er\n"
     ]
    },
    {
     "name": "stderr",
     "output_type": "stream",
     "text": [
      "\n",
      "  0%|          | 0/5 [00:00<?, ?it/s]\u001b[A\n",
      " 20%|██        | 1/5 [00:00<00:03,  1.13it/s]\u001b[A\n",
      " 40%|████      | 2/5 [00:02<00:03,  1.22s/it]\u001b[A\n",
      " 60%|██████    | 3/5 [00:03<00:02,  1.12s/it]\u001b[A\n",
      " 80%|████████  | 4/5 [00:04<00:01,  1.06s/it]\u001b[A\n",
      "100%|██████████| 5/5 [00:05<00:00,  1.04s/it]\n",
      " 92%|█████████▏| 461/499 [48:06<03:45,  5.92s/it]"
     ]
    },
    {
     "name": "stdout",
     "output_type": "stream",
     "text": [
      "https://reviews.webmd.com/drugs/drugreview-8681-nifedipine-er-tablet\n"
     ]
    },
    {
     "name": "stderr",
     "output_type": "stream",
     "text": [
      "\n",
      "  0%|          | 0/5 [00:00<?, ?it/s]\u001b[A\n",
      " 20%|██        | 1/5 [00:01<00:05,  1.31s/it]\u001b[A\n",
      " 40%|████      | 2/5 [00:02<00:03,  1.11s/it]\u001b[A\n",
      " 60%|██████    | 3/5 [00:03<00:02,  1.04s/it]\u001b[A\n",
      " 80%|████████  | 4/5 [00:04<00:01,  1.03s/it]\u001b[A\n",
      "100%|██████████| 5/5 [00:05<00:00,  1.04s/it]\n",
      " 93%|█████████▎| 462/499 [48:12<03:42,  6.02s/it]"
     ]
    },
    {
     "name": "stdout",
     "output_type": "stream",
     "text": [
      "https://reviews.webmd.com/drugs/drugreview-8695-prazosin-hcl\n"
     ]
    },
    {
     "name": "stderr",
     "output_type": "stream",
     "text": [
      "\n",
      "  0%|          | 0/5 [00:00<?, ?it/s]\u001b[A\n",
      " 20%|██        | 1/5 [00:01<00:04,  1.09s/it]\u001b[A\n",
      " 40%|████      | 2/5 [00:02<00:03,  1.29s/it]\u001b[A\n",
      " 60%|██████    | 3/5 [00:04<00:02,  1.38s/it]\u001b[A\n",
      " 80%|████████  | 4/5 [00:05<00:01,  1.51s/it]\u001b[A\n",
      "100%|██████████| 5/5 [00:07<00:00,  1.46s/it]\n",
      " 93%|█████████▎| 464/499 [48:22<03:00,  5.17s/it]"
     ]
    },
    {
     "name": "stdout",
     "output_type": "stream",
     "text": [
      "skipping https://reviews.webmd.com/drugs/drugreview-8703-reserpine-tablet: page not found\n"
     ]
    },
    {
     "name": "stderr",
     "output_type": "stream",
     "text": [
      " 93%|█████████▎| 465/499 [48:23<02:14,  3.94s/it]"
     ]
    },
    {
     "name": "stdout",
     "output_type": "stream",
     "text": [
      "skipping https://reviews.webmd.com/drugs/drugreview-8752-chlorothiazide-sodium-vial: page not found\n",
      "https://reviews.webmd.com/drugs/drugreview-8778-ethacrynic-acid\n"
     ]
    },
    {
     "name": "stderr",
     "output_type": "stream",
     "text": [
      " 94%|█████████▎| 467/499 [48:26<01:21,  2.56s/it]"
     ]
    },
    {
     "name": "stdout",
     "output_type": "stream",
     "text": [
      "skipping https://reviews.webmd.com/drugs/drugreview-8798-labetalol-hcl-vial: page not found\n",
      "https://reviews.webmd.com/drugs/drugreview-8814-metoprolol-succinate\n"
     ]
    },
    {
     "name": "stderr",
     "output_type": "stream",
     "text": [
      "\n",
      "  0%|          | 0/41 [00:00<?, ?it/s]\u001b[A\n",
      "  2%|▏         | 1/41 [00:01<00:53,  1.34s/it]\u001b[A\n",
      "  5%|▍         | 2/41 [00:02<00:57,  1.48s/it]\u001b[A\n",
      "  7%|▋         | 3/41 [00:04<00:57,  1.50s/it]\u001b[A\n",
      " 10%|▉         | 4/41 [00:05<00:55,  1.49s/it]\u001b[A\n",
      " 12%|█▏        | 5/41 [00:07<00:54,  1.53s/it]\u001b[A\n",
      " 15%|█▍        | 6/41 [00:09<00:56,  1.62s/it]\u001b[A\n",
      " 17%|█▋        | 7/41 [00:10<00:53,  1.59s/it]\u001b[A\n",
      " 20%|█▉        | 8/41 [00:12<00:50,  1.52s/it]\u001b[A\n",
      " 22%|██▏       | 9/41 [00:13<00:50,  1.58s/it]\u001b[A\n",
      " 24%|██▍       | 10/41 [00:15<00:48,  1.55s/it]\u001b[A\n",
      " 27%|██▋       | 11/41 [00:17<00:47,  1.59s/it]\u001b[A\n",
      " 29%|██▉       | 12/41 [00:19<00:49,  1.71s/it]\u001b[A\n",
      " 32%|███▏      | 13/41 [00:20<00:46,  1.66s/it]\u001b[A\n",
      " 34%|███▍      | 14/41 [00:22<00:43,  1.60s/it]\u001b[A\n",
      " 37%|███▋      | 15/41 [00:23<00:41,  1.59s/it]\u001b[A\n",
      " 39%|███▉      | 16/41 [00:24<00:37,  1.52s/it]\u001b[A\n",
      " 41%|████▏     | 17/41 [00:26<00:35,  1.49s/it]\u001b[A\n",
      " 44%|████▍     | 18/41 [00:28<00:36,  1.58s/it]\u001b[A\n",
      " 46%|████▋     | 19/41 [00:29<00:33,  1.54s/it]\u001b[A\n",
      " 49%|████▉     | 20/41 [00:31<00:33,  1.58s/it]\u001b[A\n",
      " 51%|█████     | 21/41 [00:33<00:32,  1.61s/it]\u001b[A\n",
      " 54%|█████▎    | 22/41 [00:34<00:30,  1.58s/it]\u001b[A\n",
      " 56%|█████▌    | 23/41 [00:36<00:29,  1.63s/it]\u001b[A\n",
      " 59%|█████▊    | 24/41 [00:37<00:27,  1.62s/it]\u001b[A\n",
      " 61%|██████    | 25/41 [00:39<00:25,  1.57s/it]\u001b[A\n",
      " 63%|██████▎   | 26/41 [00:40<00:23,  1.55s/it]\u001b[A\n",
      " 66%|██████▌   | 27/41 [00:42<00:21,  1.51s/it]\u001b[A\n",
      " 68%|██████▊   | 28/41 [00:43<00:19,  1.53s/it]\u001b[A\n",
      " 71%|███████   | 29/41 [00:45<00:20,  1.69s/it]\u001b[A\n",
      " 73%|███████▎  | 30/41 [00:47<00:18,  1.64s/it]\u001b[A\n",
      " 76%|███████▌  | 31/41 [00:48<00:15,  1.55s/it]\u001b[A\n",
      " 78%|███████▊  | 32/41 [00:50<00:13,  1.52s/it]\u001b[A\n",
      " 80%|████████  | 33/41 [00:52<00:13,  1.65s/it]\u001b[A\n",
      " 83%|████████▎ | 34/41 [00:54<00:12,  1.72s/it]\u001b[A\n",
      " 85%|████████▌ | 35/41 [00:55<00:09,  1.65s/it]\u001b[A\n",
      " 88%|████████▊ | 36/41 [00:57<00:08,  1.61s/it]\u001b[A\n",
      " 90%|█████████ | 37/41 [00:58<00:06,  1.55s/it]\u001b[A\n",
      " 93%|█████████▎| 38/41 [01:00<00:04,  1.57s/it]\u001b[A\n",
      " 95%|█████████▌| 39/41 [01:01<00:03,  1.54s/it]\u001b[A\n",
      " 98%|█████████▊| 40/41 [01:03<00:01,  1.63s/it]\u001b[A\n",
      "100%|██████████| 41/41 [01:04<00:00,  1.57s/it]\n",
      " 94%|█████████▍| 468/499 [49:32<11:14, 21.76s/it]"
     ]
    },
    {
     "name": "stdout",
     "output_type": "stream",
     "text": [
      "https://reviews.webmd.com/drugs/drugreview-8814-metoprolol-succinate-capsule-sprinkle-er-24-hr-dose-pack-capsule-sprinkle-ext-rel-24hr-pack\n"
     ]
    },
    {
     "name": "stderr",
     "output_type": "stream",
     "text": [
      "\n",
      "  0%|          | 0/41 [00:00<?, ?it/s]\u001b[A\n",
      "  2%|▏         | 1/41 [00:01<00:41,  1.03s/it]\u001b[A\n",
      "  5%|▍         | 2/41 [00:02<00:39,  1.00s/it]\u001b[A\n",
      "  7%|▋         | 3/41 [00:03<00:38,  1.00s/it]\u001b[A\n",
      " 10%|▉         | 4/41 [00:04<00:42,  1.14s/it]\u001b[A\n",
      " 12%|█▏        | 5/41 [00:05<00:37,  1.04s/it]\u001b[A\n",
      " 15%|█▍        | 6/41 [00:06<00:34,  1.01it/s]\u001b[A\n",
      " 17%|█▋        | 7/41 [00:07<00:32,  1.03it/s]\u001b[A\n",
      " 20%|█▉        | 8/41 [00:08<00:31,  1.03it/s]\u001b[A\n",
      " 22%|██▏       | 9/41 [00:08<00:30,  1.04it/s]\u001b[A\n",
      " 24%|██▍       | 10/41 [00:10<00:33,  1.08s/it]\u001b[A\n",
      " 27%|██▋       | 11/41 [00:11<00:31,  1.04s/it]\u001b[A\n",
      " 29%|██▉       | 12/41 [00:12<00:30,  1.06s/it]\u001b[A\n",
      " 32%|███▏      | 13/41 [00:13<00:29,  1.04s/it]\u001b[A\n",
      " 34%|███▍      | 14/41 [00:14<00:27,  1.02s/it]\u001b[A\n",
      " 37%|███▋      | 15/41 [00:15<00:26,  1.01s/it]\u001b[A\n",
      " 39%|███▉      | 16/41 [00:16<00:27,  1.11s/it]\u001b[A\n",
      " 41%|████▏     | 17/41 [00:17<00:24,  1.04s/it]\u001b[A\n",
      " 44%|████▍     | 18/41 [00:18<00:23,  1.01s/it]\u001b[A\n",
      " 46%|████▋     | 19/41 [00:19<00:22,  1.02s/it]\u001b[A\n",
      " 49%|████▉     | 20/41 [00:20<00:21,  1.03s/it]\u001b[A\n",
      " 51%|█████     | 21/41 [00:21<00:22,  1.11s/it]\u001b[A\n",
      " 54%|█████▎    | 22/41 [00:22<00:20,  1.07s/it]\u001b[A\n",
      " 56%|█████▌    | 23/41 [00:23<00:18,  1.01s/it]\u001b[A\n",
      " 59%|█████▊    | 24/41 [00:24<00:16,  1.02it/s]\u001b[A\n",
      " 61%|██████    | 25/41 [00:25<00:15,  1.02it/s]\u001b[A\n",
      " 63%|██████▎   | 26/41 [00:26<00:14,  1.03it/s]\u001b[A\n",
      " 66%|██████▌   | 27/41 [00:27<00:15,  1.11s/it]\u001b[A\n",
      " 68%|██████▊   | 28/41 [00:28<00:13,  1.03s/it]\u001b[A\n",
      " 71%|███████   | 29/41 [00:29<00:12,  1.01s/it]\u001b[A\n",
      " 73%|███████▎  | 30/41 [00:30<00:11,  1.01s/it]\u001b[A\n",
      " 76%|███████▌  | 31/41 [00:31<00:10,  1.00s/it]\u001b[A\n",
      " 78%|███████▊  | 32/41 [00:32<00:08,  1.00it/s]\u001b[A\n",
      " 80%|████████  | 33/41 [00:34<00:08,  1.10s/it]\u001b[A\n",
      " 83%|████████▎ | 34/41 [00:35<00:07,  1.04s/it]\u001b[A\n",
      " 85%|████████▌ | 35/41 [00:35<00:05,  1.01it/s]\u001b[A\n",
      " 88%|████████▊ | 36/41 [00:36<00:04,  1.01it/s]\u001b[A\n",
      " 90%|█████████ | 37/41 [00:37<00:04,  1.02s/it]\u001b[A\n",
      " 93%|█████████▎| 38/41 [00:39<00:03,  1.09s/it]\u001b[A\n",
      " 95%|█████████▌| 39/41 [00:40<00:02,  1.10s/it]\u001b[A\n",
      " 98%|█████████▊| 40/41 [00:41<00:01,  1.06s/it]\u001b[A\n",
      "100%|██████████| 41/41 [00:41<00:00,  1.02s/it]\n",
      " 94%|█████████▍| 469/499 [50:15<14:02, 28.09s/it]"
     ]
    },
    {
     "name": "stdout",
     "output_type": "stream",
     "text": [
      "https://reviews.webmd.com/drugs/drugreview-8843-ramipril\n"
     ]
    },
    {
     "name": "stderr",
     "output_type": "stream",
     "text": [
      "\n",
      "  0%|          | 0/9 [00:00<?, ?it/s]\u001b[A\n",
      " 11%|█         | 1/9 [00:00<00:07,  1.01it/s]\u001b[A\n",
      " 22%|██▏       | 2/9 [00:02<00:08,  1.21s/it]\u001b[A\n",
      " 33%|███▎      | 3/9 [00:04<00:08,  1.42s/it]\u001b[A\n",
      " 44%|████▍     | 4/9 [00:05<00:07,  1.40s/it]\u001b[A\n",
      " 56%|█████▌    | 5/9 [00:06<00:05,  1.44s/it]\u001b[A\n",
      " 67%|██████▋   | 6/9 [00:08<00:04,  1.43s/it]\u001b[A\n",
      " 78%|███████▊  | 7/9 [00:09<00:02,  1.42s/it]\u001b[A\n",
      " 89%|████████▉ | 8/9 [00:11<00:01,  1.46s/it]\u001b[A\n",
      "100%|██████████| 9/9 [00:12<00:00,  1.41s/it]\n",
      " 94%|█████████▍| 471/499 [50:31<08:00, 17.16s/it]"
     ]
    },
    {
     "name": "stdout",
     "output_type": "stream",
     "text": [
      "skipping https://reviews.webmd.com/drugs/drugreview-8865-enalaprilat-vial: page not found\n",
      "https://reviews.webmd.com/drugs/drugreview-88964-caduet\n"
     ]
    },
    {
     "name": "stderr",
     "output_type": "stream",
     "text": [
      "\n",
      "  0%|          | 0/3 [00:00<?, ?it/s]\u001b[A\n",
      " 33%|███▎      | 1/3 [00:00<00:01,  1.15it/s]\u001b[A\n",
      " 67%|██████▋   | 2/3 [00:02<00:01,  1.23s/it]\u001b[A\n",
      "100%|██████████| 3/3 [00:03<00:00,  1.15s/it]\n",
      " 95%|█████████▍| 472/499 [50:36<06:09, 13.67s/it]"
     ]
    },
    {
     "name": "stdout",
     "output_type": "stream",
     "text": [
      "https://reviews.webmd.com/drugs/drugreview-89348-quinaretic-tablet\n"
     ]
    },
    {
     "name": "stderr",
     "output_type": "stream",
     "text": [
      "\n",
      "  0%|          | 0/1 [00:00<?, ?it/s]\u001b[A\n",
      "100%|██████████| 1/1 [00:00<00:00,  1.95it/s]\n",
      " 95%|█████████▍| 474/499 [50:39<03:06,  7.45s/it]"
     ]
    },
    {
     "name": "stdout",
     "output_type": "stream",
     "text": [
      "skipping https://reviews.webmd.com/drugs/drugreview-8941-hydralazine-hcl-vial: page not found\n",
      "https://reviews.webmd.com/drugs/drugreview-8982-altace\n"
     ]
    },
    {
     "name": "stderr",
     "output_type": "stream",
     "text": [
      "\n",
      "  0%|          | 0/8 [00:00<?, ?it/s]\u001b[A\n",
      " 12%|█▎        | 1/8 [00:01<00:07,  1.11s/it]\u001b[A\n",
      " 25%|██▌       | 2/8 [00:02<00:07,  1.33s/it]\u001b[A\n",
      " 38%|███▊      | 3/8 [00:04<00:07,  1.41s/it]\u001b[A\n",
      " 50%|█████     | 4/8 [00:05<00:05,  1.44s/it]\u001b[A\n",
      " 62%|██████▎   | 5/8 [00:07<00:04,  1.43s/it]\u001b[A\n",
      " 75%|███████▌  | 6/8 [00:08<00:03,  1.55s/it]\u001b[A\n",
      " 88%|████████▊ | 7/8 [00:10<00:01,  1.53s/it]\u001b[A\n",
      "100%|██████████| 8/8 [00:11<00:00,  1.46s/it]\n",
      " 95%|█████████▌| 475/499 [50:53<03:45,  9.40s/it]"
     ]
    },
    {
     "name": "stdout",
     "output_type": "stream",
     "text": [
      "https://reviews.webmd.com/drugs/drugreview-9062-carozide-tablet\n"
     ]
    },
    {
     "name": "stderr",
     "output_type": "stream",
     "text": [
      " 95%|█████████▌| 476/499 [50:55<02:43,  7.13s/it]"
     ]
    },
    {
     "name": "stdout",
     "output_type": "stream",
     "text": [
      "https://reviews.webmd.com/drugs/drugreview-91243-dilt-cd-capsule-24-hr-capsule-er-hr\n"
     ]
    },
    {
     "name": "stderr",
     "output_type": "stream",
     "text": [
      "\n",
      "  0%|          | 0/1 [00:00<?, ?it/s]\u001b[A\n",
      "100%|██████████| 1/1 [00:01<00:00,  1.11s/it]\n",
      " 96%|█████████▌| 478/499 [51:00<01:34,  4.52s/it]"
     ]
    },
    {
     "name": "stdout",
     "output_type": "stream",
     "text": [
      "skipping https://reviews.webmd.com/drugs/drugreview-9140-diucardin-tablet: page not found\n"
     ]
    },
    {
     "name": "stderr",
     "output_type": "stream",
     "text": [
      " 96%|█████████▌| 479/499 [51:01<01:09,  3.46s/it]"
     ]
    },
    {
     "name": "stdout",
     "output_type": "stream",
     "text": [
      "skipping https://reviews.webmd.com/drugs/drugreview-91420-apresoline-esidrix-tablet: page not found\n"
     ]
    },
    {
     "name": "stderr",
     "output_type": "stream",
     "text": [
      " 96%|█████████▌| 480/499 [51:02<00:52,  2.74s/it]"
     ]
    },
    {
     "name": "stdout",
     "output_type": "stream",
     "text": [
      "skipping https://reviews.webmd.com/drugs/drugreview-91422-hydralazide-tablet: page not found\n",
      "https://reviews.webmd.com/drugs/drugreview-91429-dilt-xr\n"
     ]
    },
    {
     "name": "stderr",
     "output_type": "stream",
     "text": [
      "\n",
      "  0%|          | 0/1 [00:00<?, ?it/s]\u001b[A\n",
      "100%|██████████| 1/1 [00:01<00:00,  1.23s/it]\n",
      " 96%|█████████▋| 481/499 [51:05<00:52,  2.93s/it]"
     ]
    },
    {
     "name": "stdout",
     "output_type": "stream",
     "text": [
      "https://reviews.webmd.com/drugs/drugreview-9152-dyrenium\n"
     ]
    },
    {
     "name": "stderr",
     "output_type": "stream",
     "text": [
      "\n",
      "  0%|          | 0/1 [00:00<?, ?it/s]\u001b[A\n",
      "100%|██████████| 1/1 [00:00<00:00,  1.31it/s]\n",
      " 97%|█████████▋| 483/499 [51:09<00:36,  2.30s/it]"
     ]
    },
    {
     "name": "stdout",
     "output_type": "stream",
     "text": [
      "skipping https://reviews.webmd.com/drugs/drugreview-91539-apresodrex-tablet: page not found\n"
     ]
    },
    {
     "name": "stderr",
     "output_type": "stream",
     "text": [
      " 97%|█████████▋| 484/499 [51:10<00:28,  1.90s/it]"
     ]
    },
    {
     "name": "stdout",
     "output_type": "stream",
     "text": [
      "skipping https://reviews.webmd.com/drugs/drugreview-91540-apresodex-tablet: page not found\n"
     ]
    },
    {
     "name": "stderr",
     "output_type": "stream",
     "text": [
      " 97%|█████████▋| 485/499 [51:11<00:23,  1.66s/it]"
     ]
    },
    {
     "name": "stdout",
     "output_type": "stream",
     "text": [
      "skipping https://reviews.webmd.com/drugs/drugreview-91541-hy-es-tablet: page not found\n"
     ]
    },
    {
     "name": "stderr",
     "output_type": "stream",
     "text": [
      " 97%|█████████▋| 486/499 [51:12<00:18,  1.46s/it]"
     ]
    },
    {
     "name": "stdout",
     "output_type": "stream",
     "text": [
      "skipping https://reviews.webmd.com/drugs/drugreview-9160-enduron-tablet: page not found\n",
      "https://reviews.webmd.com/drugs/drugreview-9169-esidrix-tablet\n"
     ]
    },
    {
     "name": "stderr",
     "output_type": "stream",
     "text": [
      "\n",
      "  0%|          | 0/1 [00:00<?, ?it/s]\u001b[A\n",
      "100%|██████████| 1/1 [00:00<00:00,  1.87it/s]\n",
      " 98%|█████████▊| 487/499 [51:14<00:20,  1.72s/it]"
     ]
    },
    {
     "name": "stdout",
     "output_type": "stream",
     "text": [
      "https://reviews.webmd.com/drugs/drugreview-9242-hydone-tablet\n"
     ]
    },
    {
     "name": "stderr",
     "output_type": "stream",
     "text": [
      " 98%|█████████▊| 488/499 [51:16<00:18,  1.67s/it]"
     ]
    },
    {
     "name": "stdout",
     "output_type": "stream",
     "text": [
      "https://reviews.webmd.com/drugs/drugreview-9281-l-dopres-tablet\n"
     ]
    },
    {
     "name": "stderr",
     "output_type": "stream",
     "text": [
      " 98%|█████████▊| 490/499 [51:18<00:13,  1.52s/it]"
     ]
    },
    {
     "name": "stdout",
     "output_type": "stream",
     "text": [
      "skipping https://reviews.webmd.com/drugs/drugreview-9375-normodyne-solution: page not found\n",
      "https://reviews.webmd.com/drugs/drugreview-9533-tenormin\n"
     ]
    },
    {
     "name": "stderr",
     "output_type": "stream",
     "text": [
      "\n",
      "  0%|          | 0/4 [00:00<?, ?it/s]\u001b[A\n",
      " 25%|██▌       | 1/4 [00:01<00:03,  1.02s/it]\u001b[A\n",
      " 50%|█████     | 2/4 [00:02<00:02,  1.26s/it]\u001b[A\n",
      " 75%|███████▌  | 3/4 [00:04<00:01,  1.41s/it]\u001b[A\n",
      "100%|██████████| 4/4 [00:05<00:00,  1.29s/it]\n",
      " 98%|█████████▊| 491/499 [51:26<00:25,  3.25s/it]"
     ]
    },
    {
     "name": "stdout",
     "output_type": "stream",
     "text": [
      "https://reviews.webmd.com/drugs/drugreview-9548-toprol-xl\n"
     ]
    },
    {
     "name": "stderr",
     "output_type": "stream",
     "text": [
      "\n",
      "  0%|          | 0/33 [00:00<?, ?it/s]\u001b[A\n",
      "  3%|▎         | 1/33 [00:00<00:31,  1.02it/s]\u001b[A\n",
      "  6%|▌         | 2/33 [00:02<00:37,  1.20s/it]\u001b[A\n",
      "  9%|▉         | 3/33 [00:03<00:40,  1.35s/it]\u001b[A\n",
      " 12%|█▏        | 4/33 [00:05<00:42,  1.46s/it]\u001b[A\n",
      " 15%|█▌        | 5/33 [00:07<00:41,  1.48s/it]\u001b[A\n",
      " 18%|█▊        | 6/33 [00:08<00:39,  1.47s/it]\u001b[A\n",
      " 21%|██        | 7/33 [00:09<00:37,  1.45s/it]\u001b[A\n",
      " 24%|██▍       | 8/33 [00:11<00:36,  1.47s/it]\u001b[A\n",
      " 27%|██▋       | 9/33 [00:12<00:35,  1.46s/it]\u001b[A\n",
      " 30%|███       | 10/33 [00:14<00:36,  1.58s/it]\u001b[A\n",
      " 33%|███▎      | 11/33 [00:16<00:33,  1.54s/it]\u001b[A\n",
      " 36%|███▋      | 12/33 [00:17<00:31,  1.51s/it]\u001b[A\n",
      " 39%|███▉      | 13/33 [00:18<00:29,  1.48s/it]\u001b[A\n",
      " 42%|████▏     | 14/33 [00:20<00:28,  1.49s/it]\u001b[A\n",
      " 45%|████▌     | 15/33 [00:22<00:29,  1.61s/it]\u001b[A\n",
      " 48%|████▊     | 16/33 [00:23<00:27,  1.60s/it]\u001b[A\n",
      " 52%|█████▏    | 17/33 [00:25<00:25,  1.57s/it]\u001b[A\n",
      " 55%|█████▍    | 18/33 [00:26<00:23,  1.54s/it]\u001b[A\n",
      " 58%|█████▊    | 19/33 [00:28<00:20,  1.48s/it]\u001b[A\n",
      " 61%|██████    | 20/33 [00:29<00:18,  1.46s/it]\u001b[A\n",
      " 64%|██████▎   | 21/33 [00:31<00:19,  1.60s/it]\u001b[A\n",
      " 67%|██████▋   | 22/33 [00:33<00:17,  1.59s/it]\u001b[A\n",
      " 70%|██████▉   | 23/33 [00:34<00:15,  1.51s/it]\u001b[A\n",
      " 73%|███████▎  | 24/33 [00:36<00:13,  1.53s/it]\u001b[A\n",
      " 76%|███████▌  | 25/33 [00:37<00:11,  1.50s/it]\u001b[A\n",
      " 79%|███████▉  | 26/33 [00:38<00:10,  1.50s/it]\u001b[A\n",
      " 82%|████████▏ | 27/33 [00:40<00:09,  1.60s/it]\u001b[A\n",
      " 85%|████████▍ | 28/33 [00:42<00:07,  1.56s/it]\u001b[A\n",
      " 88%|████████▊ | 29/33 [00:43<00:06,  1.52s/it]\u001b[A\n",
      " 91%|█████████ | 30/33 [00:45<00:04,  1.53s/it]\u001b[A\n",
      " 94%|█████████▍| 31/33 [00:46<00:03,  1.52s/it]\u001b[A\n",
      " 97%|█████████▋| 32/33 [00:48<00:01,  1.58s/it]\u001b[A\n",
      "100%|██████████| 33/33 [00:49<00:00,  1.50s/it]\n",
      " 99%|█████████▉| 493/499 [52:18<01:16, 12.75s/it]"
     ]
    },
    {
     "name": "stdout",
     "output_type": "stream",
     "text": [
      "skipping https://reviews.webmd.com/drugs/drugreview-9554-trandate-solution: page not found\n",
      "https://reviews.webmd.com/drugs/drugreview-9613-zide-tablet\n"
     ]
    },
    {
     "name": "stderr",
     "output_type": "stream",
     "text": [
      " 99%|█████████▉| 494/499 [52:20<00:46,  9.38s/it]"
     ]
    },
    {
     "name": "stdout",
     "output_type": "stream",
     "text": [
      "https://reviews.webmd.com/drugs/drugreview-964-captopril\n"
     ]
    },
    {
     "name": "stderr",
     "output_type": "stream",
     "text": [
      "\n",
      "  0%|          | 0/2 [00:00<?, ?it/s]\u001b[A\n",
      " 50%|█████     | 1/2 [00:00<00:00,  1.08it/s]\u001b[A\n",
      "100%|██████████| 2/2 [00:01<00:00,  1.05it/s]\n",
      " 99%|█████████▉| 496/499 [52:25<00:17,  5.74s/it]"
     ]
    },
    {
     "name": "stdout",
     "output_type": "stream",
     "text": [
      "skipping https://reviews.webmd.com/drugs/drugreview-9683-vasotec-solution: page not found\n",
      "https://reviews.webmd.com/drugs/drugreview-9798-zebeta-tablet\n"
     ]
    },
    {
     "name": "stderr",
     "output_type": "stream",
     "text": [
      "\n",
      "  0%|          | 0/2 [00:00<?, ?it/s]\u001b[A\n",
      " 50%|█████     | 1/2 [00:00<00:00,  1.04it/s]\u001b[A\n",
      "100%|██████████| 2/2 [00:01<00:00,  1.05it/s]\n",
      "100%|█████████▉| 498/499 [52:30<00:03,  3.93s/it]"
     ]
    },
    {
     "name": "stdout",
     "output_type": "stream",
     "text": [
      "skipping https://reviews.webmd.com/drugs/drugreview-9850-demadex-solution: page not found\n"
     ]
    },
    {
     "name": "stderr",
     "output_type": "stream",
     "text": [
      "100%|██████████| 499/499 [52:31<00:00,  6.32s/it]"
     ]
    },
    {
     "name": "stdout",
     "output_type": "stream",
     "text": [
      "skipping https://reviews.webmd.com/drugs/drugreview-9997-nicardipine-hcl-vial: page not found\n"
     ]
    },
    {
     "name": "stderr",
     "output_type": "stream",
     "text": [
      "\n"
     ]
    }
   ],
   "source": [
    "if scrape_hypertension:\n",
    "    conditions_hypertension = {'hypertension': 'https://www.webmd.com/drugs/2/condition-1432/hypertension'}\n",
    "    review_urls_hypertension = get_review_urls(conditions_hypertension)\n",
    "    compile_reviews(reviews_df.copy(deep=True), review_urls_hypertension, 'hypertension')"
   ]
  },
  {
   "cell_type": "code",
   "execution_count": 14,
   "id": "fa576e1c",
   "metadata": {
    "execution": {
     "iopub.execute_input": "2024-05-19T01:46:17.399343Z",
     "iopub.status.busy": "2024-05-19T01:46:17.398095Z",
     "iopub.status.idle": "2024-05-19T02:11:34.739618Z",
     "shell.execute_reply": "2024-05-19T02:11:34.738447Z"
    },
    "papermill": {
     "duration": 1518.598673,
     "end_time": "2024-05-19T02:11:34.743113",
     "exception": false,
     "start_time": "2024-05-19T01:46:16.144440",
     "status": "completed"
    },
    "tags": []
   },
   "outputs": [
    {
     "name": "stderr",
     "output_type": "stream",
     "text": [
      "  0%|          | 0/333 [00:00<?, ?it/s]"
     ]
    },
    {
     "name": "stdout",
     "output_type": "stream",
     "text": [
      "https://reviews.webmd.com/drugs/drugreview-10094-glipizide\n"
     ]
    },
    {
     "name": "stderr",
     "output_type": "stream",
     "text": [
      "\n",
      "  0%|          | 0/11 [00:00<?, ?it/s]\u001b[A\n",
      "  9%|▉         | 1/11 [00:00<00:07,  1.37it/s]\u001b[A\n",
      " 18%|█▊        | 2/11 [00:01<00:08,  1.00it/s]\u001b[A\n",
      " 27%|██▋       | 3/11 [00:03<00:08,  1.06s/it]\u001b[A\n",
      " 36%|███▋      | 4/11 [00:04<00:08,  1.17s/it]\u001b[A\n",
      " 45%|████▌     | 5/11 [00:05<00:07,  1.22s/it]\u001b[A\n",
      " 55%|█████▍    | 6/11 [00:06<00:06,  1.22s/it]\u001b[A\n",
      " 64%|██████▎   | 7/11 [00:07<00:04,  1.17s/it]\u001b[A\n",
      " 73%|███████▎  | 8/11 [00:08<00:03,  1.12s/it]\u001b[A\n",
      " 82%|████████▏ | 9/11 [00:10<00:02,  1.11s/it]\u001b[A\n",
      " 91%|█████████ | 10/11 [00:11<00:01,  1.22s/it]\u001b[A\n",
      "100%|██████████| 11/11 [00:12<00:00,  1.15s/it]\n",
      "  0%|          | 1/333 [00:14<1:19:53, 14.44s/it]"
     ]
    },
    {
     "name": "stdout",
     "output_type": "stream",
     "text": [
      "https://reviews.webmd.com/drugs/drugreview-10094-glipizide-er\n"
     ]
    },
    {
     "name": "stderr",
     "output_type": "stream",
     "text": [
      "\n",
      "  0%|          | 0/11 [00:00<?, ?it/s]\u001b[A\n",
      "  9%|▉         | 1/11 [00:00<00:06,  1.44it/s]\u001b[A\n",
      " 18%|█▊        | 2/11 [00:01<00:06,  1.41it/s]\u001b[A\n",
      " 27%|██▋       | 3/11 [00:02<00:05,  1.39it/s]\u001b[A\n",
      " 36%|███▋      | 4/11 [00:03<00:05,  1.20it/s]\u001b[A\n",
      " 45%|████▌     | 5/11 [00:03<00:04,  1.24it/s]\u001b[A\n",
      " 55%|█████▍    | 6/11 [00:04<00:03,  1.27it/s]\u001b[A\n",
      " 64%|██████▎   | 7/11 [00:05<00:03,  1.32it/s]\u001b[A\n",
      " 73%|███████▎  | 8/11 [00:06<00:02,  1.34it/s]\u001b[A\n",
      " 82%|████████▏ | 9/11 [00:06<00:01,  1.35it/s]\u001b[A\n",
      " 91%|█████████ | 10/11 [00:07<00:00,  1.26it/s]\u001b[A\n",
      "100%|██████████| 11/11 [00:08<00:00,  1.31it/s]\n",
      "  1%|          | 2/333 [00:23<1:03:23, 11.49s/it]"
     ]
    },
    {
     "name": "stdout",
     "output_type": "stream",
     "text": [
      "https://reviews.webmd.com/drugs/drugreview-10095-glucotrol-xl\n"
     ]
    },
    {
     "name": "stderr",
     "output_type": "stream",
     "text": [
      "\n",
      "  0%|          | 0/1 [00:00<?, ?it/s]\u001b[A\n",
      "100%|██████████| 1/1 [00:00<00:00,  1.42it/s]\n",
      "  1%|          | 3/333 [00:26<40:45,  7.41s/it]  "
     ]
    },
    {
     "name": "stdout",
     "output_type": "stream",
     "text": [
      "https://reviews.webmd.com/drugs/drugreview-11285-metformin-hcl\n"
     ]
    },
    {
     "name": "stderr",
     "output_type": "stream",
     "text": [
      "\n",
      "  0%|          | 0/88 [00:00<?, ?it/s]\u001b[A\n",
      "  1%|          | 1/88 [00:00<00:59,  1.46it/s]\u001b[A\n",
      "  2%|▏         | 2/88 [00:01<01:28,  1.03s/it]\u001b[A\n",
      "  3%|▎         | 3/88 [00:03<01:51,  1.32s/it]\u001b[A\n",
      "  5%|▍         | 4/88 [00:04<01:51,  1.33s/it]\u001b[A\n",
      "  6%|▌         | 5/88 [00:06<01:49,  1.32s/it]\u001b[A\n",
      "  7%|▋         | 6/88 [00:07<01:47,  1.31s/it]\u001b[A\n",
      "  8%|▊         | 7/88 [00:08<01:47,  1.33s/it]\u001b[A\n",
      "  9%|▉         | 8/88 [00:10<01:52,  1.41s/it]\u001b[A\n",
      " 10%|█         | 9/88 [00:11<01:46,  1.35s/it]\u001b[A\n",
      " 11%|█▏        | 10/88 [00:13<01:44,  1.33s/it]\u001b[A\n",
      " 12%|█▎        | 11/88 [00:14<01:43,  1.35s/it]\u001b[A\n",
      " 14%|█▎        | 12/88 [00:15<01:41,  1.33s/it]\u001b[A\n",
      " 15%|█▍        | 13/88 [00:17<01:39,  1.33s/it]\u001b[A\n",
      " 16%|█▌        | 14/88 [00:18<01:45,  1.42s/it]\u001b[A\n",
      " 17%|█▋        | 15/88 [00:19<01:40,  1.37s/it]\u001b[A\n",
      " 18%|█▊        | 16/88 [00:21<01:37,  1.35s/it]\u001b[A\n",
      " 19%|█▉        | 17/88 [00:22<01:35,  1.35s/it]\u001b[A\n",
      " 20%|██        | 18/88 [00:24<01:38,  1.40s/it]\u001b[A\n",
      " 22%|██▏       | 19/88 [00:25<01:34,  1.37s/it]\u001b[A\n",
      " 23%|██▎       | 20/88 [00:27<01:40,  1.48s/it]\u001b[A\n",
      " 24%|██▍       | 21/88 [00:28<01:35,  1.43s/it]\u001b[A\n",
      " 25%|██▌       | 22/88 [00:29<01:30,  1.37s/it]\u001b[A\n",
      " 26%|██▌       | 23/88 [00:30<01:28,  1.35s/it]\u001b[A\n",
      " 27%|██▋       | 24/88 [00:32<01:26,  1.35s/it]\u001b[A\n",
      " 28%|██▊       | 25/88 [00:33<01:27,  1.38s/it]\u001b[A\n",
      " 30%|██▉       | 26/88 [00:35<01:27,  1.42s/it]\u001b[A\n",
      " 31%|███       | 27/88 [00:36<01:25,  1.40s/it]\u001b[A\n",
      " 32%|███▏      | 28/88 [00:37<01:22,  1.38s/it]\u001b[A\n",
      " 33%|███▎      | 29/88 [00:39<01:19,  1.35s/it]\u001b[A\n",
      " 34%|███▍      | 30/88 [00:40<01:16,  1.32s/it]\u001b[A\n",
      " 35%|███▌      | 31/88 [00:41<01:18,  1.37s/it]\u001b[A\n",
      " 36%|███▋      | 32/88 [00:43<01:17,  1.39s/it]\u001b[A\n",
      " 38%|███▊      | 33/88 [00:44<01:13,  1.33s/it]\u001b[A\n",
      " 39%|███▊      | 34/88 [00:46<01:13,  1.36s/it]\u001b[A\n",
      " 40%|███▉      | 35/88 [00:47<01:12,  1.37s/it]\u001b[A\n",
      " 41%|████      | 36/88 [00:48<01:11,  1.38s/it]\u001b[A\n",
      " 42%|████▏     | 37/88 [00:50<01:16,  1.50s/it]\u001b[A\n",
      " 43%|████▎     | 38/88 [00:51<01:12,  1.44s/it]\u001b[A\n",
      " 44%|████▍     | 39/88 [00:53<01:16,  1.56s/it]\u001b[A\n",
      " 45%|████▌     | 40/88 [00:55<01:10,  1.48s/it]\u001b[A\n",
      " 47%|████▋     | 41/88 [00:56<01:06,  1.40s/it]\u001b[A\n",
      " 48%|████▊     | 42/88 [00:58<01:09,  1.51s/it]\u001b[A\n",
      " 49%|████▉     | 43/88 [00:59<01:05,  1.46s/it]\u001b[A\n",
      " 50%|█████     | 44/88 [01:00<01:01,  1.39s/it]\u001b[A\n",
      " 51%|█████     | 45/88 [01:01<00:59,  1.38s/it]\u001b[A\n",
      " 52%|█████▏    | 46/88 [01:03<00:56,  1.35s/it]\u001b[A\n",
      " 53%|█████▎    | 47/88 [01:04<00:54,  1.34s/it]\u001b[A\n",
      " 55%|█████▍    | 48/88 [01:06<00:56,  1.41s/it]\u001b[A\n",
      " 56%|█████▌    | 49/88 [01:07<00:54,  1.40s/it]\u001b[A\n",
      " 57%|█████▋    | 50/88 [01:09<00:54,  1.45s/it]\u001b[A\n",
      " 58%|█████▊    | 51/88 [01:10<00:52,  1.42s/it]\u001b[A\n",
      " 59%|█████▉    | 52/88 [01:11<00:52,  1.46s/it]\u001b[A\n",
      " 60%|██████    | 53/88 [01:13<00:49,  1.41s/it]\u001b[A\n",
      " 61%|██████▏   | 54/88 [01:14<00:50,  1.47s/it]\u001b[A\n",
      " 62%|██████▎   | 55/88 [01:16<00:46,  1.42s/it]\u001b[A\n",
      " 64%|██████▎   | 56/88 [01:17<00:45,  1.41s/it]\u001b[A\n",
      " 65%|██████▍   | 57/88 [01:18<00:43,  1.40s/it]\u001b[A\n",
      " 66%|██████▌   | 58/88 [01:20<00:42,  1.41s/it]\u001b[A\n",
      " 67%|██████▋   | 59/88 [01:21<00:40,  1.39s/it]\u001b[A\n",
      " 68%|██████▊   | 60/88 [01:23<00:40,  1.46s/it]\u001b[A\n",
      " 69%|██████▉   | 61/88 [01:24<00:38,  1.44s/it]\u001b[A\n",
      " 70%|███████   | 62/88 [01:26<00:36,  1.40s/it]\u001b[A\n",
      " 72%|███████▏  | 63/88 [01:27<00:34,  1.39s/it]\u001b[A\n",
      " 73%|███████▎  | 64/88 [01:28<00:32,  1.37s/it]\u001b[A\n",
      " 74%|███████▍  | 65/88 [01:30<00:33,  1.45s/it]\u001b[A\n",
      " 75%|███████▌  | 66/88 [01:31<00:30,  1.39s/it]\u001b[A\n",
      " 76%|███████▌  | 67/88 [01:32<00:28,  1.35s/it]\u001b[A\n",
      " 77%|███████▋  | 68/88 [01:34<00:26,  1.33s/it]\u001b[A\n",
      " 78%|███████▊  | 69/88 [01:35<00:25,  1.32s/it]\u001b[A\n",
      " 80%|███████▉  | 70/88 [01:36<00:23,  1.31s/it]\u001b[A\n",
      " 81%|████████  | 71/88 [01:38<00:24,  1.43s/it]\u001b[A\n",
      " 82%|████████▏ | 72/88 [01:39<00:22,  1.41s/it]\u001b[A\n",
      " 83%|████████▎ | 73/88 [01:41<00:20,  1.36s/it]\u001b[A\n",
      " 84%|████████▍ | 74/88 [01:42<00:19,  1.40s/it]\u001b[A\n",
      " 85%|████████▌ | 75/88 [01:44<00:18,  1.42s/it]\u001b[A\n",
      " 86%|████████▋ | 76/88 [01:45<00:16,  1.38s/it]\u001b[A\n",
      " 88%|████████▊ | 77/88 [01:46<00:15,  1.42s/it]\u001b[A\n",
      " 89%|████████▊ | 78/88 [01:48<00:14,  1.40s/it]\u001b[A\n",
      " 90%|████████▉ | 79/88 [01:49<00:12,  1.40s/it]\u001b[A\n",
      " 91%|█████████ | 80/88 [01:50<00:10,  1.36s/it]\u001b[A\n",
      " 92%|█████████▏| 81/88 [01:52<00:09,  1.31s/it]\u001b[A\n",
      " 93%|█████████▎| 82/88 [01:53<00:08,  1.34s/it]\u001b[A\n",
      " 94%|█████████▍| 83/88 [01:54<00:06,  1.36s/it]\u001b[A\n",
      " 95%|█████████▌| 84/88 [01:56<00:05,  1.38s/it]\u001b[A\n",
      " 97%|█████████▋| 85/88 [01:57<00:04,  1.40s/it]\u001b[A\n",
      " 98%|█████████▊| 86/88 [01:58<00:02,  1.35s/it]\u001b[A\n",
      " 99%|█████████▉| 87/88 [02:00<00:01,  1.41s/it]\u001b[A\n",
      "100%|██████████| 88/88 [02:01<00:00,  1.38s/it]\n",
      "  1%|          | 4/333 [02:30<4:52:10, 53.28s/it]"
     ]
    },
    {
     "name": "stdout",
     "output_type": "stream",
     "text": [
      "https://reviews.webmd.com/drugs/drugreview-11285-metformin-hcl-er\n"
     ]
    },
    {
     "name": "stderr",
     "output_type": "stream",
     "text": [
      "\n",
      "  0%|          | 0/88 [00:00<?, ?it/s]\u001b[A\n",
      "  1%|          | 1/88 [00:00<00:58,  1.49it/s]\u001b[A\n",
      "  2%|▏         | 2/88 [00:02<01:33,  1.09s/it]\u001b[A\n",
      "  3%|▎         | 3/88 [00:03<01:47,  1.27s/it]\u001b[A\n",
      "  5%|▍         | 4/88 [00:04<01:49,  1.31s/it]\u001b[A\n",
      "  6%|▌         | 5/88 [00:06<01:51,  1.35s/it]\u001b[A\n",
      "  7%|▋         | 6/88 [00:07<01:59,  1.46s/it]\u001b[A\n",
      "  8%|▊         | 7/88 [00:09<01:51,  1.37s/it]\u001b[A\n",
      "  9%|▉         | 8/88 [00:10<01:50,  1.39s/it]\u001b[A\n",
      " 10%|█         | 9/88 [00:11<01:48,  1.38s/it]\u001b[A\n",
      " 11%|█▏        | 10/88 [00:13<01:45,  1.36s/it]\u001b[A\n",
      " 12%|█▎        | 11/88 [00:15<01:58,  1.54s/it]\u001b[A\n",
      " 14%|█▎        | 12/88 [00:16<01:49,  1.44s/it]\u001b[A\n",
      " 15%|█▍        | 13/88 [00:17<01:41,  1.35s/it]\u001b[A\n",
      " 16%|█▌        | 14/88 [00:19<01:49,  1.48s/it]\u001b[A\n",
      " 17%|█▋        | 15/88 [00:20<01:45,  1.44s/it]\u001b[A\n",
      " 18%|█▊        | 16/88 [00:22<01:41,  1.41s/it]\u001b[A\n",
      " 19%|█▉        | 17/88 [00:23<01:41,  1.42s/it]\u001b[A\n",
      " 20%|██        | 18/88 [00:24<01:36,  1.38s/it]\u001b[A\n",
      " 22%|██▏       | 19/88 [00:26<01:36,  1.40s/it]\u001b[A\n",
      " 23%|██▎       | 20/88 [00:27<01:35,  1.40s/it]\u001b[A\n",
      " 24%|██▍       | 21/88 [00:28<01:32,  1.38s/it]\u001b[A\n",
      " 25%|██▌       | 22/88 [00:30<01:26,  1.31s/it]\u001b[A\n",
      " 26%|██▌       | 23/88 [00:31<01:29,  1.37s/it]\u001b[A\n",
      " 27%|██▋       | 24/88 [00:32<01:26,  1.36s/it]\u001b[A\n",
      " 28%|██▊       | 25/88 [00:34<01:29,  1.42s/it]\u001b[A\n",
      " 30%|██▉       | 26/88 [00:35<01:26,  1.40s/it]\u001b[A\n",
      " 31%|███       | 27/88 [00:37<01:22,  1.36s/it]\u001b[A\n",
      " 32%|███▏      | 28/88 [00:38<01:23,  1.39s/it]\u001b[A\n",
      " 33%|███▎      | 29/88 [00:40<01:22,  1.40s/it]\u001b[A\n",
      " 34%|███▍      | 30/88 [00:41<01:20,  1.39s/it]\u001b[A\n",
      " 35%|███▌      | 31/88 [00:42<01:17,  1.36s/it]\u001b[A\n",
      " 36%|███▋      | 32/88 [00:43<01:13,  1.31s/it]\u001b[A\n",
      " 38%|███▊      | 33/88 [00:45<01:14,  1.35s/it]\u001b[A\n",
      " 39%|███▊      | 34/88 [00:47<01:21,  1.50s/it]\u001b[A\n",
      " 40%|███▉      | 35/88 [00:48<01:20,  1.52s/it]\u001b[A\n",
      " 41%|████      | 36/88 [00:49<01:14,  1.43s/it]\u001b[A\n",
      " 42%|████▏     | 37/88 [00:51<01:12,  1.42s/it]\u001b[A\n",
      " 43%|████▎     | 38/88 [00:52<01:09,  1.38s/it]\u001b[A\n",
      " 44%|████▍     | 39/88 [00:54<01:09,  1.42s/it]\u001b[A\n",
      " 45%|████▌     | 40/88 [00:55<01:11,  1.49s/it]\u001b[A\n",
      " 47%|████▋     | 41/88 [00:57<01:09,  1.47s/it]\u001b[A\n",
      " 48%|████▊     | 42/88 [00:58<01:04,  1.39s/it]\u001b[A\n",
      " 49%|████▉     | 43/88 [00:59<01:02,  1.39s/it]\u001b[A\n",
      " 50%|█████     | 44/88 [01:00<00:57,  1.32s/it]\u001b[A\n",
      " 51%|█████     | 45/88 [01:02<01:02,  1.44s/it]\u001b[A\n",
      " 52%|█████▏    | 46/88 [01:03<00:57,  1.38s/it]\u001b[A\n",
      " 53%|█████▎    | 47/88 [01:05<00:55,  1.36s/it]\u001b[A\n",
      " 55%|█████▍    | 48/88 [01:06<00:53,  1.34s/it]\u001b[A\n",
      " 56%|█████▌    | 49/88 [01:07<00:53,  1.36s/it]\u001b[A\n",
      " 57%|█████▋    | 50/88 [01:09<00:51,  1.35s/it]\u001b[A\n",
      " 58%|█████▊    | 51/88 [01:10<00:53,  1.46s/it]\u001b[A\n",
      " 59%|█████▉    | 52/88 [01:12<00:52,  1.45s/it]\u001b[A\n",
      " 60%|██████    | 53/88 [01:13<00:50,  1.45s/it]\u001b[A\n",
      " 61%|██████▏   | 54/88 [01:15<00:47,  1.40s/it]\u001b[A\n",
      " 62%|██████▎   | 55/88 [01:16<00:45,  1.39s/it]\u001b[A\n",
      " 64%|██████▎   | 56/88 [01:17<00:43,  1.36s/it]\u001b[A\n",
      " 65%|██████▍   | 57/88 [01:19<00:42,  1.38s/it]\u001b[A\n",
      " 66%|██████▌   | 58/88 [01:20<00:41,  1.40s/it]\u001b[A\n",
      " 67%|██████▋   | 59/88 [01:21<00:38,  1.34s/it]\u001b[A\n",
      " 68%|██████▊   | 60/88 [01:23<00:39,  1.40s/it]\u001b[A\n",
      " 69%|██████▉   | 61/88 [01:24<00:37,  1.38s/it]\u001b[A\n",
      " 70%|███████   | 62/88 [01:26<00:35,  1.38s/it]\u001b[A\n",
      " 72%|███████▏  | 63/88 [01:27<00:36,  1.45s/it]\u001b[A\n",
      " 73%|███████▎  | 64/88 [01:28<00:33,  1.39s/it]\u001b[A\n",
      " 74%|███████▍  | 65/88 [01:30<00:31,  1.36s/it]\u001b[A\n",
      " 75%|███████▌  | 66/88 [01:31<00:29,  1.36s/it]\u001b[A\n",
      " 76%|███████▌  | 67/88 [01:33<00:28,  1.36s/it]\u001b[A\n",
      " 77%|███████▋  | 68/88 [01:34<00:28,  1.43s/it]\u001b[A\n",
      " 78%|███████▊  | 69/88 [01:35<00:26,  1.38s/it]\u001b[A\n",
      " 80%|███████▉  | 70/88 [01:37<00:24,  1.34s/it]\u001b[A\n",
      " 81%|████████  | 71/88 [01:38<00:22,  1.31s/it]\u001b[A\n",
      " 82%|████████▏ | 72/88 [01:39<00:21,  1.33s/it]\u001b[A\n",
      " 83%|████████▎ | 73/88 [01:41<00:19,  1.32s/it]\u001b[A\n",
      " 84%|████████▍ | 74/88 [01:42<00:19,  1.42s/it]\u001b[A\n",
      " 85%|████████▌ | 75/88 [01:44<00:18,  1.43s/it]\u001b[A\n",
      " 86%|████████▋ | 76/88 [01:45<00:16,  1.38s/it]\u001b[A\n",
      " 88%|████████▊ | 77/88 [01:46<00:15,  1.37s/it]\u001b[A\n",
      " 89%|████████▊ | 78/88 [01:48<00:13,  1.35s/it]\u001b[A\n",
      " 90%|████████▉ | 79/88 [01:49<00:11,  1.32s/it]\u001b[A\n",
      " 91%|█████████ | 80/88 [01:50<00:10,  1.37s/it]\u001b[A\n",
      " 92%|█████████▏| 81/88 [01:52<00:09,  1.33s/it]\u001b[A\n",
      " 93%|█████████▎| 82/88 [01:53<00:07,  1.33s/it]\u001b[A\n",
      " 94%|█████████▍| 83/88 [01:54<00:06,  1.30s/it]\u001b[A\n",
      " 95%|█████████▌| 84/88 [01:55<00:05,  1.28s/it]\u001b[A\n",
      " 97%|█████████▋| 85/88 [01:57<00:04,  1.34s/it]\u001b[A\n",
      " 98%|█████████▊| 86/88 [01:58<00:02,  1.34s/it]\u001b[A\n",
      " 99%|█████████▉| 87/88 [01:59<00:01,  1.30s/it]\u001b[A\n",
      "100%|██████████| 88/88 [02:00<00:00,  1.37s/it]\n",
      "  2%|▏         | 5/333 [04:33<7:08:41, 78.42s/it]"
     ]
    },
    {
     "name": "stdout",
     "output_type": "stream",
     "text": [
      "https://reviews.webmd.com/drugs/drugreview-11285-metformin-hcl-solution\n"
     ]
    },
    {
     "name": "stderr",
     "output_type": "stream",
     "text": [
      "\n",
      "  0%|          | 0/88 [00:00<?, ?it/s]\u001b[A\n",
      "  1%|          | 1/88 [00:00<01:06,  1.31it/s]\u001b[A\n",
      "  2%|▏         | 2/88 [00:02<01:45,  1.23s/it]\u001b[A\n",
      "  3%|▎         | 3/88 [00:03<01:59,  1.41s/it]\u001b[A\n",
      "  5%|▍         | 4/88 [00:05<01:53,  1.35s/it]\u001b[A\n",
      "  6%|▌         | 5/88 [00:06<01:51,  1.35s/it]\u001b[A\n",
      "  7%|▋         | 6/88 [00:07<01:49,  1.33s/it]\u001b[A\n",
      "  8%|▊         | 7/88 [00:09<01:49,  1.35s/it]\u001b[A\n",
      "  9%|▉         | 8/88 [00:10<01:51,  1.39s/it]\u001b[A\n",
      " 10%|█         | 9/88 [00:12<01:51,  1.41s/it]\u001b[A\n",
      " 11%|█▏        | 10/88 [00:13<01:47,  1.38s/it]\u001b[A\n",
      " 12%|█▎        | 11/88 [00:14<01:47,  1.39s/it]\u001b[A\n",
      " 14%|█▎        | 12/88 [00:16<01:42,  1.35s/it]\u001b[A\n",
      " 15%|█▍        | 13/88 [00:17<01:38,  1.32s/it]\u001b[A\n",
      " 16%|█▌        | 14/88 [00:18<01:43,  1.39s/it]\u001b[A\n",
      " 17%|█▋        | 15/88 [00:20<01:40,  1.38s/it]\u001b[A\n",
      " 18%|█▊        | 16/88 [00:21<01:38,  1.36s/it]\u001b[A\n",
      " 19%|█▉        | 17/88 [00:22<01:35,  1.35s/it]\u001b[A\n",
      " 20%|██        | 18/88 [00:24<01:34,  1.35s/it]\u001b[A\n",
      " 22%|██▏       | 19/88 [00:25<01:30,  1.32s/it]\u001b[A\n",
      " 23%|██▎       | 20/88 [00:27<01:37,  1.43s/it]\u001b[A\n",
      " 24%|██▍       | 21/88 [00:28<01:31,  1.36s/it]\u001b[A\n",
      " 25%|██▌       | 22/88 [00:29<01:30,  1.38s/it]\u001b[A\n",
      " 26%|██▌       | 23/88 [00:31<01:30,  1.40s/it]\u001b[A\n",
      " 27%|██▋       | 24/88 [00:32<01:27,  1.37s/it]\u001b[A\n",
      " 28%|██▊       | 25/88 [00:34<01:33,  1.48s/it]\u001b[A\n",
      " 30%|██▉       | 26/88 [00:35<01:29,  1.44s/it]\u001b[A\n",
      " 31%|███       | 27/88 [00:37<01:26,  1.42s/it]\u001b[A\n",
      " 32%|███▏      | 28/88 [00:38<01:22,  1.38s/it]\u001b[A\n",
      " 33%|███▎      | 29/88 [00:39<01:21,  1.38s/it]\u001b[A\n",
      " 34%|███▍      | 30/88 [00:41<01:19,  1.37s/it]\u001b[A\n",
      " 35%|███▌      | 31/88 [00:42<01:20,  1.41s/it]\u001b[A\n",
      " 36%|███▋      | 32/88 [00:43<01:17,  1.38s/it]\u001b[A\n",
      " 38%|███▊      | 33/88 [00:45<01:15,  1.38s/it]\u001b[A\n",
      " 39%|███▊      | 34/88 [00:46<01:13,  1.36s/it]\u001b[A\n",
      " 40%|███▉      | 35/88 [00:47<01:11,  1.34s/it]\u001b[A\n",
      " 41%|████      | 36/88 [00:49<01:08,  1.32s/it]\u001b[A\n",
      " 42%|████▏     | 37/88 [00:50<01:08,  1.33s/it]\u001b[A\n",
      " 43%|████▎     | 38/88 [00:51<01:06,  1.33s/it]\u001b[A\n",
      " 44%|████▍     | 39/88 [00:53<01:04,  1.31s/it]\u001b[A\n",
      " 45%|████▌     | 40/88 [00:54<01:03,  1.33s/it]\u001b[A\n",
      " 47%|████▋     | 41/88 [00:55<01:03,  1.34s/it]\u001b[A\n",
      " 48%|████▊     | 42/88 [00:57<01:02,  1.35s/it]\u001b[A\n",
      " 49%|████▉     | 43/88 [00:58<01:03,  1.40s/it]\u001b[A\n",
      " 50%|█████     | 44/88 [01:00<01:01,  1.39s/it]\u001b[A\n",
      " 51%|█████     | 45/88 [01:01<01:00,  1.41s/it]\u001b[A\n",
      " 52%|█████▏    | 46/88 [01:02<00:56,  1.34s/it]\u001b[A\n",
      " 53%|█████▎    | 47/88 [01:04<00:55,  1.36s/it]\u001b[A\n",
      " 55%|█████▍    | 48/88 [01:05<00:58,  1.45s/it]\u001b[A\n",
      " 56%|█████▌    | 49/88 [01:07<00:54,  1.40s/it]\u001b[A\n",
      " 57%|█████▋    | 50/88 [01:08<00:52,  1.37s/it]\u001b[A\n",
      " 58%|█████▊    | 51/88 [01:09<00:49,  1.35s/it]\u001b[A\n",
      " 59%|█████▉    | 52/88 [01:11<00:48,  1.35s/it]\u001b[A\n",
      " 60%|██████    | 53/88 [01:12<00:47,  1.37s/it]\u001b[A\n",
      " 61%|██████▏   | 54/88 [01:14<00:50,  1.48s/it]\u001b[A\n",
      " 62%|██████▎   | 55/88 [01:15<00:46,  1.42s/it]\u001b[A\n",
      " 64%|██████▎   | 56/88 [01:17<00:46,  1.47s/it]\u001b[A\n",
      " 65%|██████▍   | 57/88 [01:18<00:43,  1.41s/it]\u001b[A\n",
      " 66%|██████▌   | 58/88 [01:19<00:42,  1.41s/it]\u001b[A\n",
      " 67%|██████▋   | 59/88 [01:21<00:40,  1.40s/it]\u001b[A\n",
      " 68%|██████▊   | 60/88 [01:22<00:40,  1.44s/it]\u001b[A\n",
      " 69%|██████▉   | 61/88 [01:23<00:38,  1.41s/it]\u001b[A\n",
      " 70%|███████   | 62/88 [01:25<00:35,  1.37s/it]\u001b[A\n",
      " 72%|███████▏  | 63/88 [01:26<00:33,  1.35s/it]\u001b[A\n",
      " 73%|███████▎  | 64/88 [01:28<00:34,  1.42s/it]\u001b[A\n",
      " 74%|███████▍  | 65/88 [01:29<00:33,  1.44s/it]\u001b[A\n",
      " 75%|███████▌  | 66/88 [01:30<00:30,  1.40s/it]\u001b[A\n",
      " 76%|███████▌  | 67/88 [01:32<00:29,  1.40s/it]\u001b[A\n",
      " 77%|███████▋  | 68/88 [01:33<00:28,  1.42s/it]\u001b[A\n",
      " 78%|███████▊  | 69/88 [01:35<00:26,  1.41s/it]\u001b[A\n",
      " 80%|███████▉  | 70/88 [01:36<00:24,  1.38s/it]\u001b[A\n",
      " 81%|████████  | 71/88 [01:38<00:24,  1.43s/it]\u001b[A\n",
      " 82%|████████▏ | 72/88 [01:39<00:22,  1.40s/it]\u001b[A\n",
      " 83%|████████▎ | 73/88 [01:40<00:20,  1.40s/it]\u001b[A\n",
      " 84%|████████▍ | 74/88 [01:42<00:19,  1.40s/it]\u001b[A\n",
      " 85%|████████▌ | 75/88 [01:43<00:18,  1.40s/it]\u001b[A\n",
      " 86%|████████▋ | 76/88 [01:45<00:17,  1.42s/it]\u001b[A\n",
      " 88%|████████▊ | 77/88 [01:46<00:16,  1.52s/it]\u001b[A\n",
      " 89%|████████▊ | 78/88 [01:48<00:14,  1.46s/it]\u001b[A\n",
      " 90%|████████▉ | 79/88 [01:49<00:12,  1.39s/it]\u001b[A\n",
      " 91%|█████████ | 80/88 [01:50<00:10,  1.37s/it]\u001b[A\n",
      " 92%|█████████▏| 81/88 [01:52<00:09,  1.38s/it]\u001b[A\n",
      " 93%|█████████▎| 82/88 [01:53<00:08,  1.40s/it]\u001b[A\n",
      " 94%|█████████▍| 83/88 [01:54<00:07,  1.42s/it]\u001b[A\n",
      " 95%|█████████▌| 84/88 [01:56<00:05,  1.46s/it]\u001b[A\n",
      " 97%|█████████▋| 85/88 [01:57<00:04,  1.38s/it]\u001b[A\n",
      " 98%|█████████▊| 86/88 [01:59<00:02,  1.36s/it]\u001b[A\n",
      " 99%|█████████▉| 87/88 [02:00<00:01,  1.38s/it]\u001b[A\n",
      "100%|██████████| 88/88 [02:01<00:00,  1.38s/it]\n",
      "  2%|▏         | 6/333 [06:36<8:30:59, 93.76s/it]"
     ]
    },
    {
     "name": "stdout",
     "output_type": "stream",
     "text": [
      "https://reviews.webmd.com/drugs/drugreview-11285-metformin-suspension-er-reconstituted-suspension-reconstituted\n"
     ]
    },
    {
     "name": "stderr",
     "output_type": "stream",
     "text": [
      "\n",
      "  0%|          | 0/88 [00:00<?, ?it/s]\u001b[A\n",
      "  1%|          | 1/88 [00:00<01:00,  1.44it/s]\u001b[A\n",
      "  2%|▏         | 2/88 [00:02<01:48,  1.26s/it]\u001b[A\n",
      "  3%|▎         | 3/88 [00:03<01:51,  1.31s/it]\u001b[A\n",
      "  5%|▍         | 4/88 [00:05<01:59,  1.42s/it]\u001b[A\n",
      "  6%|▌         | 5/88 [00:06<01:56,  1.40s/it]\u001b[A\n",
      "  7%|▋         | 6/88 [00:08<02:01,  1.48s/it]\u001b[A\n",
      "  8%|▊         | 7/88 [00:09<01:53,  1.40s/it]\u001b[A\n",
      "  9%|▉         | 8/88 [00:10<01:51,  1.39s/it]\u001b[A\n",
      " 10%|█         | 9/88 [00:12<01:50,  1.40s/it]\u001b[A\n",
      " 11%|█▏        | 10/88 [00:13<01:47,  1.38s/it]\u001b[A\n",
      " 12%|█▎        | 11/88 [00:15<01:55,  1.50s/it]\u001b[A\n",
      " 14%|█▎        | 12/88 [00:16<01:51,  1.47s/it]\u001b[A\n",
      " 15%|█▍        | 13/88 [00:18<01:44,  1.40s/it]\u001b[A\n",
      " 16%|█▌        | 14/88 [00:19<01:42,  1.38s/it]\u001b[A\n",
      " 17%|█▋        | 15/88 [00:20<01:41,  1.39s/it]\u001b[A\n",
      " 18%|█▊        | 16/88 [00:22<01:38,  1.36s/it]\u001b[A\n",
      " 19%|█▉        | 17/88 [00:23<01:39,  1.41s/it]\u001b[A\n",
      " 20%|██        | 18/88 [00:24<01:35,  1.36s/it]\u001b[A\n",
      " 22%|██▏       | 19/88 [00:26<01:32,  1.34s/it]\u001b[A\n",
      " 23%|██▎       | 20/88 [00:27<01:29,  1.31s/it]\u001b[A\n",
      " 24%|██▍       | 21/88 [00:28<01:30,  1.34s/it]\u001b[A\n",
      " 25%|██▌       | 22/88 [00:30<01:35,  1.44s/it]\u001b[A\n",
      " 26%|██▌       | 23/88 [00:31<01:33,  1.43s/it]\u001b[A\n",
      " 27%|██▋       | 24/88 [00:33<01:29,  1.41s/it]\u001b[A\n",
      " 28%|██▊       | 25/88 [00:34<01:25,  1.36s/it]\u001b[A\n",
      " 30%|██▉       | 26/88 [00:35<01:24,  1.37s/it]\u001b[A\n",
      " 31%|███       | 27/88 [00:37<01:21,  1.34s/it]\u001b[A\n",
      " 32%|███▏      | 28/88 [00:38<01:25,  1.42s/it]\u001b[A\n",
      " 33%|███▎      | 29/88 [00:40<01:25,  1.44s/it]\u001b[A\n",
      " 34%|███▍      | 30/88 [00:41<01:24,  1.45s/it]\u001b[A\n",
      " 35%|███▌      | 31/88 [00:43<01:19,  1.40s/it]\u001b[A\n",
      " 36%|███▋      | 32/88 [00:44<01:17,  1.38s/it]\u001b[A\n",
      " 38%|███▊      | 33/88 [00:45<01:15,  1.37s/it]\u001b[A\n",
      " 39%|███▊      | 34/88 [00:47<01:18,  1.45s/it]\u001b[A\n",
      " 40%|███▉      | 35/88 [00:48<01:15,  1.42s/it]\u001b[A\n",
      " 41%|████      | 36/88 [00:50<01:17,  1.49s/it]\u001b[A\n",
      " 42%|████▏     | 37/88 [00:51<01:16,  1.50s/it]\u001b[A\n",
      " 43%|████▎     | 38/88 [00:53<01:10,  1.42s/it]\u001b[A\n",
      " 44%|████▍     | 39/88 [00:54<01:07,  1.38s/it]\u001b[A\n",
      " 45%|████▌     | 40/88 [00:55<01:08,  1.43s/it]\u001b[A\n",
      " 47%|████▋     | 41/88 [00:57<01:05,  1.40s/it]\u001b[A\n",
      " 48%|████▊     | 42/88 [00:58<01:02,  1.37s/it]\u001b[A\n",
      " 49%|████▉     | 43/88 [00:59<01:00,  1.34s/it]\u001b[A\n",
      " 50%|█████     | 44/88 [01:01<00:59,  1.35s/it]\u001b[A\n",
      " 51%|█████     | 45/88 [01:02<01:00,  1.41s/it]\u001b[A\n",
      " 52%|█████▏    | 46/88 [01:04<01:01,  1.47s/it]\u001b[A\n",
      " 53%|█████▎    | 47/88 [01:05<00:59,  1.44s/it]\u001b[A\n",
      " 55%|█████▍    | 48/88 [01:07<00:58,  1.46s/it]\u001b[A\n",
      " 56%|█████▌    | 49/88 [01:08<00:55,  1.42s/it]\u001b[A\n",
      " 57%|█████▋    | 50/88 [01:10<00:53,  1.42s/it]\u001b[A\n",
      " 58%|█████▊    | 51/88 [01:11<00:54,  1.48s/it]\u001b[A\n",
      " 59%|█████▉    | 52/88 [01:13<00:52,  1.45s/it]\u001b[A\n",
      " 60%|██████    | 53/88 [01:14<00:50,  1.44s/it]\u001b[A\n",
      " 61%|██████▏   | 54/88 [01:15<00:48,  1.41s/it]\u001b[A\n",
      " 62%|██████▎   | 55/88 [01:17<00:45,  1.38s/it]\u001b[A\n",
      " 64%|██████▎   | 56/88 [01:18<00:44,  1.38s/it]\u001b[A\n",
      " 65%|██████▍   | 57/88 [01:20<00:47,  1.52s/it]\u001b[A\n",
      " 66%|██████▌   | 58/88 [01:21<00:43,  1.46s/it]\u001b[A\n",
      " 67%|██████▋   | 59/88 [01:22<00:41,  1.43s/it]\u001b[A\n",
      " 68%|██████▊   | 60/88 [01:24<00:38,  1.38s/it]\u001b[A\n",
      " 69%|██████▉   | 61/88 [01:25<00:37,  1.38s/it]\u001b[A\n",
      " 70%|███████   | 62/88 [01:27<00:36,  1.40s/it]\u001b[A\n",
      " 72%|███████▏  | 63/88 [01:28<00:36,  1.46s/it]\u001b[A\n",
      " 73%|███████▎  | 64/88 [01:30<00:34,  1.46s/it]\u001b[A\n",
      " 74%|███████▍  | 65/88 [01:31<00:32,  1.41s/it]\u001b[A\n",
      " 75%|███████▌  | 66/88 [01:32<00:30,  1.38s/it]\u001b[A\n",
      " 76%|███████▌  | 67/88 [01:34<00:28,  1.36s/it]\u001b[A\n",
      " 77%|███████▋  | 68/88 [01:35<00:29,  1.47s/it]\u001b[A\n",
      " 78%|███████▊  | 69/88 [01:37<00:27,  1.45s/it]\u001b[A\n",
      " 80%|███████▉  | 70/88 [01:38<00:25,  1.43s/it]\u001b[A\n",
      " 81%|████████  | 71/88 [01:39<00:23,  1.38s/it]\u001b[A\n",
      " 82%|████████▏ | 72/88 [01:41<00:21,  1.34s/it]\u001b[A\n",
      " 83%|████████▎ | 73/88 [01:42<00:19,  1.33s/it]\u001b[A\n",
      " 84%|████████▍ | 74/88 [01:44<00:20,  1.43s/it]\u001b[A\n",
      " 85%|████████▌ | 75/88 [01:45<00:18,  1.42s/it]\u001b[A\n",
      " 86%|████████▋ | 76/88 [01:46<00:16,  1.39s/it]\u001b[A\n",
      " 88%|████████▊ | 77/88 [01:48<00:15,  1.41s/it]\u001b[A\n",
      " 89%|████████▊ | 78/88 [01:49<00:14,  1.44s/it]\u001b[A\n",
      " 90%|████████▉ | 79/88 [01:50<00:12,  1.37s/it]\u001b[A\n",
      " 91%|█████████ | 80/88 [01:52<00:11,  1.42s/it]\u001b[A\n",
      " 92%|█████████▏| 81/88 [01:53<00:09,  1.40s/it]\u001b[A\n",
      " 93%|█████████▎| 82/88 [01:55<00:08,  1.39s/it]\u001b[A\n",
      " 94%|█████████▍| 83/88 [01:56<00:06,  1.39s/it]\u001b[A\n",
      " 95%|█████████▌| 84/88 [01:57<00:05,  1.33s/it]\u001b[A\n",
      " 97%|█████████▋| 85/88 [01:59<00:04,  1.42s/it]\u001b[A\n",
      " 98%|█████████▊| 86/88 [02:00<00:02,  1.38s/it]\u001b[A\n",
      " 99%|█████████▉| 87/88 [02:02<00:01,  1.41s/it]\u001b[A\n",
      "100%|██████████| 88/88 [02:03<00:00,  1.40s/it]\n",
      "  2%|▏         | 7/333 [08:42<9:26:27, 104.26s/it]"
     ]
    },
    {
     "name": "stdout",
     "output_type": "stream",
     "text": [
      "https://reviews.webmd.com/drugs/drugreview-11294-glucophage-tablet\n"
     ]
    },
    {
     "name": "stderr",
     "output_type": "stream",
     "text": [
      "\n",
      "  0%|          | 0/8 [00:00<?, ?it/s]\u001b[A\n",
      " 12%|█▎        | 1/8 [00:00<00:04,  1.45it/s]\u001b[A\n",
      " 25%|██▌       | 2/8 [00:02<00:06,  1.06s/it]\u001b[A\n",
      " 38%|███▊      | 3/8 [00:03<00:06,  1.25s/it]\u001b[A\n",
      " 50%|█████     | 4/8 [00:04<00:04,  1.23s/it]\u001b[A\n",
      " 62%|██████▎   | 5/8 [00:05<00:03,  1.23s/it]\u001b[A\n",
      " 75%|███████▌  | 6/8 [00:07<00:02,  1.25s/it]\u001b[A\n",
      " 88%|████████▊ | 7/8 [00:08<00:01,  1.27s/it]\u001b[A\n",
      "100%|██████████| 8/8 [00:09<00:00,  1.19s/it]\n",
      "  3%|▎         | 9/333 [08:54<4:38:58, 51.66s/it]"
     ]
    },
    {
     "name": "stdout",
     "output_type": "stream",
     "text": [
      "skipping https://reviews.webmd.com/drugs/drugreview-11668-dymelor-tablet: page not found\n",
      "https://reviews.webmd.com/drugs/drugreview-11773-glucotrol\n"
     ]
    },
    {
     "name": "stderr",
     "output_type": "stream",
     "text": [
      "\n",
      "  0%|          | 0/1 [00:00<?, ?it/s]\u001b[A\n",
      "100%|██████████| 1/1 [00:00<00:00,  1.26it/s]\n",
      "  3%|▎         | 11/333 [08:58<2:18:16, 25.76s/it]"
     ]
    },
    {
     "name": "stdout",
     "output_type": "stream",
     "text": [
      "skipping https://reviews.webmd.com/drugs/drugreview-11926-insulin-reg-human-buffered-solution: page not found\n"
     ]
    },
    {
     "name": "stderr",
     "output_type": "stream",
     "text": [
      "  4%|▎         | 12/333 [08:59<1:37:33, 18.23s/it]"
     ]
    },
    {
     "name": "stdout",
     "output_type": "stream",
     "text": [
      "skipping https://reviews.webmd.com/drugs/drugreview-11965-insulin-regular-beef-pork-solution: page not found\n"
     ]
    },
    {
     "name": "stderr",
     "output_type": "stream",
     "text": [
      "  4%|▍         | 13/333 [09:01<1:09:36, 13.05s/it]"
     ]
    },
    {
     "name": "stdout",
     "output_type": "stream",
     "text": [
      "skipping https://reviews.webmd.com/drugs/drugreview-11967-insulin-zinc-beef-pork-suspension: page not found\n"
     ]
    },
    {
     "name": "stderr",
     "output_type": "stream",
     "text": [
      "  4%|▍         | 14/333 [09:02<50:01,  9.41s/it]  "
     ]
    },
    {
     "name": "stdout",
     "output_type": "stream",
     "text": [
      "skipping https://reviews.webmd.com/drugs/drugreview-11968-iletin-i-lente-suspension: page not found\n"
     ]
    },
    {
     "name": "stderr",
     "output_type": "stream",
     "text": [
      "  5%|▍         | 15/333 [09:03<36:29,  6.88s/it]"
     ]
    },
    {
     "name": "stdout",
     "output_type": "stream",
     "text": [
      "skipping https://reviews.webmd.com/drugs/drugreview-11969-iletin-i-regular-solution: page not found\n"
     ]
    },
    {
     "name": "stderr",
     "output_type": "stream",
     "text": [
      "  5%|▍         | 16/333 [09:03<26:53,  5.09s/it]"
     ]
    },
    {
     "name": "stdout",
     "output_type": "stream",
     "text": [
      "skipping https://reviews.webmd.com/drugs/drugreview-11970-iletin-ii-lente-pork-suspension: page not found\n",
      "https://reviews.webmd.com/drugs/drugreview-11971-insulin-purified-nph-pork-suspension\n"
     ]
    },
    {
     "name": "stderr",
     "output_type": "stream",
     "text": [
      "  5%|▌         | 17/333 [09:05<21:26,  4.07s/it]"
     ]
    },
    {
     "name": "stdout",
     "output_type": "stream",
     "text": [
      "https://reviews.webmd.com/drugs/drugreview-11981-insulin-regular-pork-solution\n"
     ]
    },
    {
     "name": "stderr",
     "output_type": "stream",
     "text": [
      "  5%|▌         | 18/333 [09:07<17:32,  3.34s/it]"
     ]
    },
    {
     "name": "stdout",
     "output_type": "stream",
     "text": [
      "https://reviews.webmd.com/drugs/drugreview-11982-iletin-ii-regular-pork-solution\n"
     ]
    },
    {
     "name": "stderr",
     "output_type": "stream",
     "text": [
      "  6%|▌         | 19/333 [09:08<14:44,  2.82s/it]"
     ]
    },
    {
     "name": "stdout",
     "output_type": "stream",
     "text": [
      "https://reviews.webmd.com/drugs/drugreview-12271-glimepiride\n"
     ]
    },
    {
     "name": "stderr",
     "output_type": "stream",
     "text": [
      "\n",
      "  0%|          | 0/9 [00:00<?, ?it/s]\u001b[A\n",
      " 11%|█         | 1/9 [00:00<00:05,  1.50it/s]\u001b[A\n",
      " 22%|██▏       | 2/9 [00:01<00:07,  1.01s/it]\u001b[A\n",
      " 33%|███▎      | 3/9 [00:02<00:06,  1.04s/it]\u001b[A\n",
      " 44%|████▍     | 4/9 [00:04<00:06,  1.24s/it]\u001b[A\n",
      " 56%|█████▌    | 5/9 [00:05<00:04,  1.21s/it]\u001b[A\n",
      " 67%|██████▋   | 6/9 [00:07<00:03,  1.27s/it]\u001b[A\n",
      " 78%|███████▊  | 7/9 [00:08<00:02,  1.23s/it]\u001b[A\n",
      " 89%|████████▉ | 8/9 [00:09<00:01,  1.24s/it]\u001b[A\n",
      "100%|██████████| 9/9 [00:10<00:00,  1.17s/it]\n",
      "  6%|▌         | 20/333 [09:21<29:52,  5.73s/it]"
     ]
    },
    {
     "name": "stdout",
     "output_type": "stream",
     "text": [
      "https://reviews.webmd.com/drugs/drugreview-12297-amaryl\n"
     ]
    },
    {
     "name": "stderr",
     "output_type": "stream",
     "text": [
      "\n",
      "  0%|          | 0/5 [00:00<?, ?it/s]\u001b[A\n",
      " 20%|██        | 1/5 [00:00<00:03,  1.30it/s]\u001b[A\n",
      " 40%|████      | 2/5 [00:01<00:03,  1.02s/it]\u001b[A\n",
      " 60%|██████    | 3/5 [00:03<00:02,  1.15s/it]\u001b[A\n",
      " 80%|████████  | 4/5 [00:04<00:01,  1.17s/it]\u001b[A\n",
      "100%|██████████| 5/5 [00:05<00:00,  1.15s/it]\n",
      "  6%|▋         | 21/333 [09:29<32:55,  6.33s/it]"
     ]
    },
    {
     "name": "stdout",
     "output_type": "stream",
     "text": [
      "https://reviews.webmd.com/drugs/drugreview-1284-miglitol\n"
     ]
    },
    {
     "name": "stderr",
     "output_type": "stream",
     "text": [
      "\n",
      "  0%|          | 0/1 [00:00<?, ?it/s]\u001b[A\n",
      "100%|██████████| 1/1 [00:00<00:00,  2.05it/s]\n",
      "  7%|▋         | 22/333 [09:32<27:52,  5.38s/it]"
     ]
    },
    {
     "name": "stdout",
     "output_type": "stream",
     "text": [
      "https://reviews.webmd.com/drugs/drugreview-13818-humalog-vial\n"
     ]
    },
    {
     "name": "stderr",
     "output_type": "stream",
     "text": [
      "\n",
      "  0%|          | 0/2 [00:00<?, ?it/s]\u001b[A\n",
      " 50%|█████     | 1/2 [00:00<00:00,  1.38it/s]\u001b[A\n",
      "100%|██████████| 2/2 [00:01<00:00,  1.11it/s]\n",
      "  7%|▋         | 23/333 [09:36<25:17,  4.90s/it]"
     ]
    },
    {
     "name": "stdout",
     "output_type": "stream",
     "text": [
      "https://reviews.webmd.com/drugs/drugreview-14228-thsc-glyburide-tablet\n"
     ]
    },
    {
     "name": "stderr",
     "output_type": "stream",
     "text": [
      "  8%|▊         | 25/333 [09:38<15:44,  3.07s/it]"
     ]
    },
    {
     "name": "stdout",
     "output_type": "stream",
     "text": [
      "skipping https://reviews.webmd.com/drugs/drugreview-14352-acetohexamide-tablet: page not found\n"
     ]
    },
    {
     "name": "stderr",
     "output_type": "stream",
     "text": [
      "  8%|▊         | 26/333 [09:39<12:32,  2.45s/it]"
     ]
    },
    {
     "name": "stdout",
     "output_type": "stream",
     "text": [
      "skipping https://reviews.webmd.com/drugs/drugreview-144565-insulin-combo-pack-combination-package: page not found\n"
     ]
    },
    {
     "name": "stderr",
     "output_type": "stream",
     "text": [
      "  8%|▊         | 27/333 [09:40<10:32,  2.07s/it]"
     ]
    },
    {
     "name": "stdout",
     "output_type": "stream",
     "text": [
      "skipping https://reviews.webmd.com/drugs/drugreview-144567-insulin-kit-inhaler: page not found\n"
     ]
    },
    {
     "name": "stderr",
     "output_type": "stream",
     "text": [
      "  8%|▊         | 28/333 [09:41<08:51,  1.74s/it]"
     ]
    },
    {
     "name": "stdout",
     "output_type": "stream",
     "text": [
      "skipping https://reviews.webmd.com/drugs/drugreview-144581-exubera-kit-inhaler: page not found\n"
     ]
    },
    {
     "name": "stderr",
     "output_type": "stream",
     "text": [
      "  9%|▊         | 29/333 [09:43<07:47,  1.54s/it]"
     ]
    },
    {
     "name": "stdout",
     "output_type": "stream",
     "text": [
      "skipping https://reviews.webmd.com/drugs/drugreview-144582-exubera-combination-pack-15-package: page not found\n"
     ]
    },
    {
     "name": "stderr",
     "output_type": "stream",
     "text": [
      "  9%|▉         | 30/333 [09:44<06:56,  1.38s/it]"
     ]
    },
    {
     "name": "stdout",
     "output_type": "stream",
     "text": [
      "skipping https://reviews.webmd.com/drugs/drugreview-144583-exubera-combination-pack-12-package: page not found\n"
     ]
    },
    {
     "name": "stderr",
     "output_type": "stream",
     "text": [
      "  9%|▉         | 31/333 [09:45<06:21,  1.26s/it]"
     ]
    },
    {
     "name": "stdout",
     "output_type": "stream",
     "text": [
      "skipping https://reviews.webmd.com/drugs/drugreview-14461-humulin-l-suspension: page not found\n",
      "https://reviews.webmd.com/drugs/drugreview-144868-glumetza\n"
     ]
    },
    {
     "name": "stderr",
     "output_type": "stream",
     "text": [
      "\n",
      "  0%|          | 0/4 [00:00<?, ?it/s]\u001b[A\n",
      " 25%|██▌       | 1/4 [00:00<00:02,  1.21it/s]\u001b[A\n",
      " 50%|█████     | 2/4 [00:02<00:02,  1.22s/it]\u001b[A\n",
      " 75%|███████▌  | 3/4 [00:03<00:01,  1.22s/it]\u001b[A\n",
      "100%|██████████| 4/4 [00:04<00:00,  1.15s/it]\n",
      " 10%|▉         | 32/333 [09:51<14:20,  2.86s/it]"
     ]
    },
    {
     "name": "stdout",
     "output_type": "stream",
     "text": [
      "https://reviews.webmd.com/drugs/drugreview-144978-pioglitazone-glimepiride\n"
     ]
    },
    {
     "name": "stderr",
     "output_type": "stream",
     "text": [
      " 10%|▉         | 33/333 [09:53<12:20,  2.47s/it]"
     ]
    },
    {
     "name": "stdout",
     "output_type": "stream",
     "text": [
      "https://reviews.webmd.com/drugs/drugreview-144983-duetact\n"
     ]
    },
    {
     "name": "stderr",
     "output_type": "stream",
     "text": [
      "\n",
      "  0%|          | 0/1 [00:00<?, ?it/s]\u001b[A\n",
      "100%|██████████| 1/1 [00:00<00:00,  1.50it/s]\n",
      " 10%|█         | 34/333 [09:55<12:32,  2.52s/it]"
     ]
    },
    {
     "name": "stdout",
     "output_type": "stream",
     "text": [
      "https://reviews.webmd.com/drugs/drugreview-14536-insulin-regular-human-pen\n"
     ]
    },
    {
     "name": "stderr",
     "output_type": "stream",
     "text": [
      " 11%|█         | 35/333 [09:57<11:14,  2.26s/it]"
     ]
    },
    {
     "name": "stdout",
     "output_type": "stream",
     "text": [
      "https://reviews.webmd.com/drugs/drugreview-145697-sitagliptin-phosphate-tablet\n"
     ]
    },
    {
     "name": "stderr",
     "output_type": "stream",
     "text": [
      "\n",
      "  0%|          | 0/1 [00:00<?, ?it/s]\u001b[A\n",
      "100%|██████████| 1/1 [00:01<00:00,  1.09s/it]\n",
      " 11%|█         | 36/333 [10:00<12:03,  2.44s/it]"
     ]
    },
    {
     "name": "stdout",
     "output_type": "stream",
     "text": [
      "https://reviews.webmd.com/drugs/drugreview-145704-januvia\n"
     ]
    },
    {
     "name": "stderr",
     "output_type": "stream",
     "text": [
      "\n",
      "  0%|          | 0/24 [00:00<?, ?it/s]\u001b[A\n",
      "  4%|▍         | 1/24 [00:00<00:17,  1.29it/s]\u001b[A\n",
      "  8%|▊         | 2/24 [00:02<00:25,  1.16s/it]\u001b[A\n",
      " 12%|█▎        | 3/24 [00:03<00:24,  1.19s/it]\u001b[A\n",
      " 17%|█▋        | 4/24 [00:04<00:23,  1.20s/it]\u001b[A\n",
      " 21%|██        | 5/24 [00:06<00:24,  1.31s/it]\u001b[A\n",
      " 25%|██▌       | 6/24 [00:07<00:23,  1.30s/it]\u001b[A\n",
      " 29%|██▉       | 7/24 [00:08<00:21,  1.28s/it]\u001b[A\n",
      " 33%|███▎      | 8/24 [00:09<00:19,  1.24s/it]\u001b[A\n",
      " 38%|███▊      | 9/24 [00:11<00:19,  1.27s/it]\u001b[A\n",
      " 42%|████▏     | 10/24 [00:12<00:17,  1.27s/it]\u001b[A\n",
      " 46%|████▌     | 11/24 [00:14<00:17,  1.37s/it]\u001b[A\n",
      " 50%|█████     | 12/24 [00:15<00:15,  1.31s/it]\u001b[A\n",
      " 54%|█████▍    | 13/24 [00:16<00:14,  1.30s/it]\u001b[A\n",
      " 58%|█████▊    | 14/24 [00:17<00:12,  1.28s/it]\u001b[A\n",
      " 62%|██████▎   | 15/24 [00:18<00:11,  1.26s/it]\u001b[A\n",
      " 67%|██████▋   | 16/24 [00:20<00:10,  1.33s/it]\u001b[A\n",
      " 71%|███████   | 17/24 [00:21<00:09,  1.30s/it]\u001b[A\n",
      " 75%|███████▌  | 18/24 [00:23<00:08,  1.34s/it]\u001b[A\n",
      " 79%|███████▉  | 19/24 [00:24<00:06,  1.28s/it]\u001b[A\n",
      " 83%|████████▎ | 20/24 [00:25<00:04,  1.22s/it]\u001b[A\n",
      " 88%|████████▊ | 21/24 [00:26<00:03,  1.22s/it]\u001b[A\n",
      " 92%|█████████▏| 22/24 [00:28<00:02,  1.35s/it]\u001b[A\n",
      " 96%|█████████▌| 23/24 [00:29<00:01,  1.37s/it]\u001b[A\n",
      "100%|██████████| 24/24 [00:30<00:00,  1.27s/it]\n",
      " 11%|█         | 37/333 [10:32<56:14, 11.40s/it]"
     ]
    },
    {
     "name": "stdout",
     "output_type": "stream",
     "text": [
      "https://reviews.webmd.com/drugs/drugreview-1468-novolin-70-30-vial\n"
     ]
    },
    {
     "name": "stderr",
     "output_type": "stream",
     "text": [
      "\n",
      "  0%|          | 0/1 [00:00<?, ?it/s]\u001b[A\n",
      "100%|██████████| 1/1 [00:00<00:00,  1.59it/s]\n",
      " 12%|█▏        | 39/333 [10:35<31:04,  6.34s/it]"
     ]
    },
    {
     "name": "stdout",
     "output_type": "stream",
     "text": [
      "skipping https://reviews.webmd.com/drugs/drugreview-1469-novolin-l-semi-synthetic-suspension: page not found\n",
      "https://reviews.webmd.com/drugs/drugreview-1470-novolin-n-semi-synthetic-suspension\n"
     ]
    },
    {
     "name": "stderr",
     "output_type": "stream",
     "text": [
      "\n",
      "  0%|          | 0/1 [00:00<?, ?it/s]\u001b[A\n",
      "100%|██████████| 1/1 [00:00<00:00,  2.01it/s]\n",
      " 12%|█▏        | 40/333 [10:37<24:46,  5.07s/it]"
     ]
    },
    {
     "name": "stdout",
     "output_type": "stream",
     "text": [
      "https://reviews.webmd.com/drugs/drugreview-1471-novolin-r-vial\n"
     ]
    },
    {
     "name": "stderr",
     "output_type": "stream",
     "text": [
      "\n",
      "  0%|          | 0/1 [00:00<?, ?it/s]\u001b[A\n",
      "100%|██████████| 1/1 [00:00<00:00,  1.50it/s]\n",
      " 13%|█▎        | 42/333 [10:41<15:53,  3.28s/it]"
     ]
    },
    {
     "name": "stdout",
     "output_type": "stream",
     "text": [
      "skipping https://reviews.webmd.com/drugs/drugreview-147838-exubera-patient-pack-combination-package: page not found\n",
      "https://reviews.webmd.com/drugs/drugreview-148063-sitagliptin-phos-metformin-tablet\n"
     ]
    },
    {
     "name": "stderr",
     "output_type": "stream",
     "text": [
      "\n",
      "  0%|          | 0/1 [00:00<?, ?it/s]\u001b[A\n",
      "100%|██████████| 1/1 [00:00<00:00,  1.82it/s]\n",
      " 13%|█▎        | 43/333 [10:44<16:04,  3.33s/it]"
     ]
    },
    {
     "name": "stdout",
     "output_type": "stream",
     "text": [
      "https://reviews.webmd.com/drugs/drugreview-148063-sitagliptin-phos-metformin-tablet-multiphase-24-hr-tablet-er-hr\n"
     ]
    },
    {
     "name": "stderr",
     "output_type": "stream",
     "text": [
      "\n",
      "  0%|          | 0/1 [00:00<?, ?it/s]\u001b[A\n",
      "100%|██████████| 1/1 [00:00<00:00,  1.75it/s]\n",
      " 13%|█▎        | 44/333 [10:46<13:21,  2.77s/it]"
     ]
    },
    {
     "name": "stdout",
     "output_type": "stream",
     "text": [
      "https://reviews.webmd.com/drugs/drugreview-148074-janumet\n"
     ]
    },
    {
     "name": "stderr",
     "output_type": "stream",
     "text": [
      "\n",
      "  0%|          | 0/11 [00:00<?, ?it/s]\u001b[A\n",
      "  9%|▉         | 1/11 [00:00<00:06,  1.43it/s]\u001b[A\n",
      " 18%|█▊        | 2/11 [00:02<00:09,  1.06s/it]\u001b[A\n",
      " 27%|██▋       | 3/11 [00:03<00:10,  1.28s/it]\u001b[A\n",
      " 36%|███▋      | 4/11 [00:05<00:10,  1.43s/it]\u001b[A\n",
      " 45%|████▌     | 5/11 [00:06<00:08,  1.44s/it]\u001b[A\n",
      " 55%|█████▍    | 6/11 [00:07<00:06,  1.35s/it]\u001b[A\n",
      " 64%|██████▎   | 7/11 [00:10<00:06,  1.71s/it]\u001b[A\n",
      " 73%|███████▎  | 8/11 [00:11<00:04,  1.56s/it]\u001b[A\n",
      " 82%|████████▏ | 9/11 [00:12<00:02,  1.43s/it]\u001b[A\n",
      " 91%|█████████ | 10/11 [00:14<00:01,  1.49s/it]\u001b[A\n",
      "100%|██████████| 11/11 [00:15<00:00,  1.44s/it]\n",
      " 14%|█▎        | 45/333 [11:04<35:27,  7.39s/it]"
     ]
    },
    {
     "name": "stdout",
     "output_type": "stream",
     "text": [
      "https://reviews.webmd.com/drugs/drugreview-14850-humulin-50-50-suspension\n"
     ]
    },
    {
     "name": "stderr",
     "output_type": "stream",
     "text": [
      "\n",
      "  0%|          | 0/1 [00:00<?, ?it/s]\u001b[A\n",
      "100%|██████████| 1/1 [00:00<00:00,  1.84it/s]\n",
      " 14%|█▍        | 46/333 [11:06<28:23,  5.94s/it]"
     ]
    },
    {
     "name": "stdout",
     "output_type": "stream",
     "text": [
      "https://reviews.webmd.com/drugs/drugreview-148652-lantus-solostar-insulin-pen\n"
     ]
    },
    {
     "name": "stderr",
     "output_type": "stream",
     "text": [
      "\n",
      "  0%|          | 0/6 [00:00<?, ?it/s]\u001b[A\n",
      " 17%|█▋        | 1/6 [00:01<00:05,  1.07s/it]\u001b[A\n",
      " 33%|███▎      | 2/6 [00:02<00:05,  1.37s/it]\u001b[A\n",
      " 50%|█████     | 3/6 [00:04<00:04,  1.52s/it]\u001b[A\n",
      " 67%|██████▋   | 4/6 [00:05<00:02,  1.36s/it]\u001b[A\n",
      " 83%|████████▎ | 5/6 [00:06<00:01,  1.33s/it]\u001b[A\n",
      "100%|██████████| 6/6 [00:07<00:00,  1.30s/it]\n",
      " 14%|█▍        | 47/333 [11:17<34:40,  7.27s/it]"
     ]
    },
    {
     "name": "stdout",
     "output_type": "stream",
     "text": [
      "https://reviews.webmd.com/drugs/drugreview-149828-humalog-kwikpen-u-100-insulin-pen\n"
     ]
    },
    {
     "name": "stderr",
     "output_type": "stream",
     "text": [
      "\n",
      "  0%|          | 0/2 [00:00<?, ?it/s]\u001b[A\n",
      " 50%|█████     | 1/2 [00:00<00:00,  1.35it/s]\u001b[A\n",
      "100%|██████████| 2/2 [00:02<00:00,  1.29s/it]\n",
      " 14%|█▍        | 48/333 [11:21<30:24,  6.40s/it]"
     ]
    },
    {
     "name": "stdout",
     "output_type": "stream",
     "text": [
      "https://reviews.webmd.com/drugs/drugreview-149829-humalog-mix-75-25-kwikpen-insulin-pen\n"
     ]
    },
    {
     "name": "stderr",
     "output_type": "stream",
     "text": [
      "\n",
      "  0%|          | 0/1 [00:00<?, ?it/s]\u001b[A\n",
      "100%|██████████| 1/1 [00:00<00:00,  1.60it/s]\n",
      " 15%|█▍        | 49/333 [11:24<25:01,  5.29s/it]"
     ]
    },
    {
     "name": "stdout",
     "output_type": "stream",
     "text": [
      "https://reviews.webmd.com/drugs/drugreview-149830-humalog-mix-50-50-kwikpen-insulin-pen\n"
     ]
    },
    {
     "name": "stderr",
     "output_type": "stream",
     "text": [
      "\n",
      "  0%|          | 0/1 [00:00<?, ?it/s]\u001b[A\n",
      "100%|██████████| 1/1 [00:00<00:00,  1.91it/s]\n",
      " 15%|█▌        | 51/333 [11:28<17:15,  3.67s/it]"
     ]
    },
    {
     "name": "stdout",
     "output_type": "stream",
     "text": [
      "skipping https://reviews.webmd.com/drugs/drugreview-151643-repaglinide-metformin-tablet: page not found\n"
     ]
    },
    {
     "name": "stderr",
     "output_type": "stream",
     "text": [
      " 16%|█▌        | 52/333 [11:29<13:32,  2.89s/it]"
     ]
    },
    {
     "name": "stdout",
     "output_type": "stream",
     "text": [
      "skipping https://reviews.webmd.com/drugs/drugreview-151644-prandimet-tablet: page not found\n",
      "https://reviews.webmd.com/drugs/drugreview-152040-apidra-solostar-insulin-pen\n"
     ]
    },
    {
     "name": "stderr",
     "output_type": "stream",
     "text": [
      "\n",
      "  0%|          | 0/1 [00:00<?, ?it/s]\u001b[A\n",
      "100%|██████████| 1/1 [00:00<00:00,  1.72it/s]\n",
      " 16%|█▌        | 53/333 [11:32<12:40,  2.72s/it]"
     ]
    },
    {
     "name": "stdout",
     "output_type": "stream",
     "text": [
      "https://reviews.webmd.com/drugs/drugreview-152751-saxagliptin-hcl\n"
     ]
    },
    {
     "name": "stderr",
     "output_type": "stream",
     "text": [
      "\n",
      "  0%|          | 0/1 [00:00<?, ?it/s]\u001b[A\n",
      "100%|██████████| 1/1 [00:00<00:00,  1.79it/s]\n",
      " 16%|█▌        | 54/333 [11:34<12:04,  2.60s/it]"
     ]
    },
    {
     "name": "stdout",
     "output_type": "stream",
     "text": [
      "https://reviews.webmd.com/drugs/drugreview-152753-onglyza\n"
     ]
    },
    {
     "name": "stderr",
     "output_type": "stream",
     "text": [
      "\n",
      "  0%|          | 0/6 [00:00<?, ?it/s]\u001b[A\n",
      " 17%|█▋        | 1/6 [00:00<00:04,  1.12it/s]\u001b[A\n",
      " 33%|███▎      | 2/6 [00:02<00:04,  1.19s/it]\u001b[A\n",
      " 50%|█████     | 3/6 [00:03<00:03,  1.25s/it]\u001b[A\n",
      " 67%|██████▋   | 4/6 [00:04<00:02,  1.25s/it]\u001b[A\n",
      " 83%|████████▎ | 5/6 [00:06<00:01,  1.22s/it]\u001b[A\n",
      "100%|██████████| 6/6 [00:07<00:00,  1.23s/it]\n",
      " 17%|█▋        | 55/333 [11:43<21:15,  4.59s/it]"
     ]
    },
    {
     "name": "stdout",
     "output_type": "stream",
     "text": [
      "https://reviews.webmd.com/drugs/drugreview-153566-liraglutide-pen-injector\n"
     ]
    },
    {
     "name": "stderr",
     "output_type": "stream",
     "text": [
      "\n",
      "  0%|          | 0/1 [00:00<?, ?it/s]\u001b[A\n",
      "100%|██████████| 1/1 [00:00<00:00,  1.72it/s]\n",
      " 17%|█▋        | 56/333 [11:46<18:12,  3.95s/it]"
     ]
    },
    {
     "name": "stdout",
     "output_type": "stream",
     "text": [
      "https://reviews.webmd.com/drugs/drugreview-153568-victoza-pen-injector\n"
     ]
    },
    {
     "name": "stderr",
     "output_type": "stream",
     "text": [
      "\n",
      "  0%|          | 0/18 [00:00<?, ?it/s]\u001b[A\n",
      "  6%|▌         | 1/18 [00:00<00:13,  1.23it/s]\u001b[A\n",
      " 11%|█         | 2/18 [00:02<00:17,  1.12s/it]\u001b[A\n",
      " 17%|█▋        | 3/18 [00:03<00:17,  1.18s/it]\u001b[A\n",
      " 22%|██▏       | 4/18 [00:04<00:16,  1.21s/it]\u001b[A\n",
      " 28%|██▊       | 5/18 [00:06<00:18,  1.42s/it]\u001b[A\n",
      " 33%|███▎      | 6/18 [00:07<00:16,  1.38s/it]\u001b[A\n",
      " 39%|███▉      | 7/18 [00:08<00:14,  1.30s/it]\u001b[A\n",
      " 44%|████▍     | 8/18 [00:10<00:12,  1.30s/it]\u001b[A\n",
      " 50%|█████     | 9/18 [00:11<00:11,  1.28s/it]\u001b[A\n",
      " 56%|█████▌    | 10/18 [00:12<00:10,  1.32s/it]\u001b[A\n",
      " 61%|██████    | 11/18 [00:14<00:08,  1.28s/it]\u001b[A\n",
      " 67%|██████▋   | 12/18 [00:15<00:07,  1.29s/it]\u001b[A\n",
      " 72%|███████▏  | 13/18 [00:16<00:06,  1.25s/it]\u001b[A\n",
      " 78%|███████▊  | 14/18 [00:17<00:05,  1.25s/it]\u001b[A\n",
      " 83%|████████▎ | 15/18 [00:18<00:03,  1.22s/it]\u001b[A\n",
      " 89%|████████▉ | 16/18 [00:20<00:02,  1.29s/it]\u001b[A\n",
      " 94%|█████████▍| 17/18 [00:21<00:01,  1.30s/it]\u001b[A\n",
      "100%|██████████| 18/18 [00:22<00:00,  1.27s/it]\n",
      " 17%|█▋        | 58/333 [12:11<34:18,  7.49s/it]"
     ]
    },
    {
     "name": "stdout",
     "output_type": "stream",
     "text": [
      "skipping https://reviews.webmd.com/drugs/drugreview-154175-actoplus-met-xr-tablet-multiphase-24-hr-tablet-er-hr: page not found\n",
      "https://reviews.webmd.com/drugs/drugreview-154914-saxagliptin-metformin-er\n"
     ]
    },
    {
     "name": "stderr",
     "output_type": "stream",
     "text": [
      "\n",
      "  0%|          | 0/1 [00:00<?, ?it/s]\u001b[A\n",
      "100%|██████████| 1/1 [00:00<00:00,  1.77it/s]\n",
      " 18%|█▊        | 59/333 [12:14<27:00,  5.91s/it]"
     ]
    },
    {
     "name": "stdout",
     "output_type": "stream",
     "text": [
      "https://reviews.webmd.com/drugs/drugreview-154922-kombiglyze-xr\n"
     ]
    },
    {
     "name": "stderr",
     "output_type": "stream",
     "text": [
      "\n",
      "  0%|          | 0/3 [00:00<?, ?it/s]\u001b[A\n",
      " 33%|███▎      | 1/3 [00:00<00:01,  1.41it/s]\u001b[A\n",
      " 67%|██████▋   | 2/3 [00:02<00:01,  1.29s/it]\u001b[A\n",
      "100%|██████████| 3/3 [00:03<00:00,  1.31s/it]\n",
      " 18%|█▊        | 60/333 [12:20<26:52,  5.90s/it]"
     ]
    },
    {
     "name": "stdout",
     "output_type": "stream",
     "text": [
      "https://reviews.webmd.com/drugs/drugreview-155005-novolog-penfill-cartridge\n"
     ]
    },
    {
     "name": "stderr",
     "output_type": "stream",
     "text": [
      "\n",
      "  0%|          | 0/1 [00:00<?, ?it/s]\u001b[A\n",
      "100%|██████████| 1/1 [00:00<00:00,  1.84it/s]\n",
      " 18%|█▊        | 61/333 [12:22<21:49,  4.81s/it]"
     ]
    },
    {
     "name": "stdout",
     "output_type": "stream",
     "text": [
      "https://reviews.webmd.com/drugs/drugreview-155816-linagliptin-tablet\n"
     ]
    },
    {
     "name": "stderr",
     "output_type": "stream",
     "text": [
      "\n",
      "  0%|          | 0/1 [00:00<?, ?it/s]\u001b[A\n",
      "100%|██████████| 1/1 [00:00<00:00,  1.95it/s]\n",
      " 19%|█▊        | 62/333 [12:24<18:10,  4.03s/it]"
     ]
    },
    {
     "name": "stdout",
     "output_type": "stream",
     "text": [
      "https://reviews.webmd.com/drugs/drugreview-155820-tradjenta\n"
     ]
    },
    {
     "name": "stderr",
     "output_type": "stream",
     "text": [
      "\n",
      "  0%|          | 0/5 [00:00<?, ?it/s]\u001b[A\n",
      " 20%|██        | 1/5 [00:00<00:02,  1.47it/s]\u001b[A\n",
      " 40%|████      | 2/5 [00:01<00:03,  1.03s/it]\u001b[A\n",
      " 60%|██████    | 3/5 [00:03<00:02,  1.23s/it]\u001b[A\n",
      " 80%|████████  | 4/5 [00:04<00:01,  1.29s/it]\u001b[A\n",
      "100%|██████████| 5/5 [00:05<00:00,  1.18s/it]\n",
      " 19%|█▉        | 64/333 [12:33<17:52,  3.99s/it]"
     ]
    },
    {
     "name": "stdout",
     "output_type": "stream",
     "text": [
      "skipping https://reviews.webmd.com/drugs/drugreview-157670-sitagliptin-phos-simvastatin-tablet: page not found\n"
     ]
    },
    {
     "name": "stderr",
     "output_type": "stream",
     "text": [
      " 20%|█▉        | 65/333 [12:34<14:10,  3.17s/it]"
     ]
    },
    {
     "name": "stdout",
     "output_type": "stream",
     "text": [
      "skipping https://reviews.webmd.com/drugs/drugreview-157671-juvisync-tablet: page not found\n",
      "https://reviews.webmd.com/drugs/drugreview-159402-exenatide-microspheres-suspension-er-reconstituted-suspension-reconstituted\n"
     ]
    },
    {
     "name": "stderr",
     "output_type": "stream",
     "text": [
      "\n",
      "  0%|          | 0/1 [00:00<?, ?it/s]\u001b[A\n",
      "100%|██████████| 1/1 [00:00<00:00,  2.02it/s]\n",
      " 20%|█▉        | 66/333 [12:37<13:23,  3.01s/it]"
     ]
    },
    {
     "name": "stdout",
     "output_type": "stream",
     "text": [
      "https://reviews.webmd.com/drugs/drugreview-159405-bydureon-suspension-er-reconstituted-suspension-reconstituted\n"
     ]
    },
    {
     "name": "stderr",
     "output_type": "stream",
     "text": [
      "\n",
      "  0%|          | 0/8 [00:00<?, ?it/s]\u001b[A\n",
      " 12%|█▎        | 1/8 [00:00<00:04,  1.45it/s]\u001b[A\n",
      " 25%|██▌       | 2/8 [00:02<00:07,  1.23s/it]\u001b[A\n",
      " 38%|███▊      | 3/8 [00:03<00:05,  1.17s/it]\u001b[A\n",
      " 50%|█████     | 4/8 [00:04<00:05,  1.25s/it]\u001b[A\n",
      " 62%|██████▎   | 5/8 [00:05<00:03,  1.20s/it]\u001b[A\n",
      " 75%|███████▌  | 6/8 [00:07<00:02,  1.24s/it]\u001b[A\n",
      " 88%|████████▊ | 7/8 [00:08<00:01,  1.24s/it]\u001b[A\n",
      "100%|██████████| 8/8 [00:09<00:00,  1.22s/it]\n",
      " 20%|██        | 67/333 [12:49<25:06,  5.67s/it]"
     ]
    },
    {
     "name": "stdout",
     "output_type": "stream",
     "text": [
      "https://reviews.webmd.com/drugs/drugreview-159426-linagliptin-metformin-tablet\n"
     ]
    },
    {
     "name": "stderr",
     "output_type": "stream",
     "text": [
      "\n",
      "  0%|          | 0/1 [00:00<?, ?it/s]\u001b[A\n",
      "100%|██████████| 1/1 [00:00<00:00,  1.91it/s]\n",
      " 20%|██        | 68/333 [12:51<20:27,  4.63s/it]"
     ]
    },
    {
     "name": "stdout",
     "output_type": "stream",
     "text": [
      "https://reviews.webmd.com/drugs/drugreview-159426-linagliptin-metformin-tablet-immediate-release-and-er-biphasic-24hr-tablet-immed-ext-release-biphasic-24hr\n"
     ]
    },
    {
     "name": "stderr",
     "output_type": "stream",
     "text": [
      "\n",
      "  0%|          | 0/1 [00:00<?, ?it/s]\u001b[A\n",
      "100%|██████████| 1/1 [00:00<00:00,  1.80it/s]\n",
      " 21%|██        | 69/333 [12:53<16:04,  3.65s/it]"
     ]
    },
    {
     "name": "stdout",
     "output_type": "stream",
     "text": [
      "https://reviews.webmd.com/drugs/drugreview-159449-jentadueto\n"
     ]
    },
    {
     "name": "stderr",
     "output_type": "stream",
     "text": [
      "\n",
      "  0%|          | 0/1 [00:00<?, ?it/s]\u001b[A\n",
      "100%|██████████| 1/1 [00:00<00:00,  1.44it/s]\n",
      " 21%|██        | 70/333 [12:55<14:39,  3.34s/it]"
     ]
    },
    {
     "name": "stdout",
     "output_type": "stream",
     "text": [
      "https://reviews.webmd.com/drugs/drugreview-159466-janumet-xr\n"
     ]
    },
    {
     "name": "stderr",
     "output_type": "stream",
     "text": [
      "\n",
      "  0%|          | 0/2 [00:00<?, ?it/s]\u001b[A\n",
      " 50%|█████     | 1/2 [00:00<00:00,  1.23it/s]\u001b[A\n",
      "100%|██████████| 2/2 [00:02<00:00,  1.05s/it]\n",
      " 21%|██▏       | 71/333 [12:59<15:38,  3.58s/it]"
     ]
    },
    {
     "name": "stdout",
     "output_type": "stream",
     "text": [
      "https://reviews.webmd.com/drugs/drugreview-163054-victoza-2-pak-pen-injector\n"
     ]
    },
    {
     "name": "stderr",
     "output_type": "stream",
     "text": [
      "\n",
      "  0%|          | 0/3 [00:00<?, ?it/s]\u001b[A\n",
      " 33%|███▎      | 1/3 [00:00<00:01,  1.30it/s]\u001b[A\n",
      " 67%|██████▋   | 2/3 [00:01<00:00,  1.01it/s]\u001b[A\n",
      "100%|██████████| 3/3 [00:02<00:00,  1.01it/s]\n",
      " 22%|██▏       | 72/333 [13:04<17:13,  3.96s/it]"
     ]
    },
    {
     "name": "stdout",
     "output_type": "stream",
     "text": [
      "https://reviews.webmd.com/drugs/drugreview-163392-alogliptin\n"
     ]
    },
    {
     "name": "stderr",
     "output_type": "stream",
     "text": [
      "\n",
      "  0%|          | 0/1 [00:00<?, ?it/s]\u001b[A\n",
      "100%|██████████| 1/1 [00:00<00:00,  1.98it/s]\n",
      " 22%|██▏       | 73/333 [13:06<14:45,  3.41s/it]"
     ]
    },
    {
     "name": "stdout",
     "output_type": "stream",
     "text": [
      "https://reviews.webmd.com/drugs/drugreview-163393-alogliptin-pioglitazone\n"
     ]
    },
    {
     "name": "stderr",
     "output_type": "stream",
     "text": [
      "\n",
      "  0%|          | 0/1 [00:00<?, ?it/s]\u001b[A\n",
      "100%|██████████| 1/1 [00:00<00:00,  1.86it/s]\n",
      " 22%|██▏       | 74/333 [13:09<13:14,  3.07s/it]"
     ]
    },
    {
     "name": "stdout",
     "output_type": "stream",
     "text": [
      "https://reviews.webmd.com/drugs/drugreview-163394-alogliptin-metformin\n"
     ]
    },
    {
     "name": "stderr",
     "output_type": "stream",
     "text": [
      " 23%|██▎       | 75/333 [13:10<11:18,  2.63s/it]"
     ]
    },
    {
     "name": "stdout",
     "output_type": "stream",
     "text": [
      "https://reviews.webmd.com/drugs/drugreview-163396-kazano\n"
     ]
    },
    {
     "name": "stderr",
     "output_type": "stream",
     "text": [
      "\n",
      "  0%|          | 0/1 [00:00<?, ?it/s]\u001b[A\n",
      "100%|██████████| 1/1 [00:00<00:00,  1.93it/s]\n",
      " 23%|██▎       | 76/333 [13:13<11:13,  2.62s/it]"
     ]
    },
    {
     "name": "stdout",
     "output_type": "stream",
     "text": [
      "https://reviews.webmd.com/drugs/drugreview-163399-nesina\n"
     ]
    },
    {
     "name": "stderr",
     "output_type": "stream",
     "text": [
      "\n",
      "  0%|          | 0/1 [00:00<?, ?it/s]\u001b[A\n",
      "100%|██████████| 1/1 [00:00<00:00,  1.88it/s]\n",
      " 23%|██▎       | 77/333 [13:15<10:34,  2.48s/it]"
     ]
    },
    {
     "name": "stdout",
     "output_type": "stream",
     "text": [
      "https://reviews.webmd.com/drugs/drugreview-163400-oseni\n"
     ]
    },
    {
     "name": "stderr",
     "output_type": "stream",
     "text": [
      "\n",
      "  0%|          | 0/1 [00:00<?, ?it/s]\u001b[A\n",
      "100%|██████████| 1/1 [00:00<00:00,  1.62it/s]\n",
      " 23%|██▎       | 78/333 [13:17<10:25,  2.45s/it]"
     ]
    },
    {
     "name": "stdout",
     "output_type": "stream",
     "text": [
      "https://reviews.webmd.com/drugs/drugreview-163872-canagliflozin-tablet\n"
     ]
    },
    {
     "name": "stderr",
     "output_type": "stream",
     "text": [
      "\n",
      "  0%|          | 0/1 [00:00<?, ?it/s]\u001b[A\n",
      "100%|██████████| 1/1 [00:00<00:00,  1.69it/s]\n",
      " 24%|██▎       | 79/333 [13:20<10:15,  2.42s/it]"
     ]
    },
    {
     "name": "stdout",
     "output_type": "stream",
     "text": [
      "https://reviews.webmd.com/drugs/drugreview-163874-invokana\n"
     ]
    },
    {
     "name": "stderr",
     "output_type": "stream",
     "text": [
      "\n",
      "  0%|          | 0/11 [00:00<?, ?it/s]\u001b[A\n",
      "  9%|▉         | 1/11 [00:00<00:07,  1.28it/s]\u001b[A\n",
      " 18%|█▊        | 2/11 [00:02<00:11,  1.28s/it]\u001b[A\n",
      " 27%|██▋       | 3/11 [00:03<00:10,  1.30s/it]\u001b[A\n",
      " 36%|███▋      | 4/11 [00:05<00:09,  1.29s/it]\u001b[A\n",
      " 45%|████▌     | 5/11 [00:06<00:07,  1.30s/it]\u001b[A\n",
      " 55%|█████▍    | 6/11 [00:07<00:06,  1.28s/it]\u001b[A\n",
      " 64%|██████▎   | 7/11 [00:08<00:05,  1.29s/it]\u001b[A\n",
      " 73%|███████▎  | 8/11 [00:10<00:04,  1.39s/it]\u001b[A\n",
      " 82%|████████▏ | 9/11 [00:11<00:02,  1.36s/it]\u001b[A\n",
      " 91%|█████████ | 10/11 [00:13<00:01,  1.36s/it]\u001b[A\n",
      "100%|██████████| 11/11 [00:14<00:00,  1.29s/it]\n",
      " 24%|██▍       | 80/333 [13:36<27:36,  6.55s/it]"
     ]
    },
    {
     "name": "stdout",
     "output_type": "stream",
     "text": [
      "https://reviews.webmd.com/drugs/drugreview-164535-victoza-3-pak-pen-injector\n"
     ]
    },
    {
     "name": "stderr",
     "output_type": "stream",
     "text": [
      "\n",
      "  0%|          | 0/2 [00:00<?, ?it/s]\u001b[A\n",
      " 50%|█████     | 1/2 [00:00<00:00,  1.23it/s]\u001b[A\n",
      "100%|██████████| 2/2 [00:01<00:00,  1.07it/s]\n",
      " 25%|██▍       | 82/333 [13:41<18:10,  4.34s/it]"
     ]
    },
    {
     "name": "stdout",
     "output_type": "stream",
     "text": [
      "skipping https://reviews.webmd.com/drugs/drugreview-164719-novolin-r-penfill-semi-synth-cartridge: page not found\n",
      "https://reviews.webmd.com/drugs/drugreview-165589-insulin-degludec-pen-u-200\n"
     ]
    },
    {
     "name": "stderr",
     "output_type": "stream",
     "text": [
      " 25%|██▍       | 83/333 [13:43<15:01,  3.61s/it]"
     ]
    },
    {
     "name": "stdout",
     "output_type": "stream",
     "text": [
      "https://reviews.webmd.com/drugs/drugreview-165640-dapagliflozin\n"
     ]
    },
    {
     "name": "stderr",
     "output_type": "stream",
     "text": [
      "\n",
      "  0%|          | 0/1 [00:00<?, ?it/s]\u001b[A\n",
      "100%|██████████| 1/1 [00:00<00:00,  1.74it/s]\n",
      " 25%|██▌       | 84/333 [13:47<15:34,  3.75s/it]"
     ]
    },
    {
     "name": "stdout",
     "output_type": "stream",
     "text": [
      "https://reviews.webmd.com/drugs/drugreview-165641-farxiga\n"
     ]
    },
    {
     "name": "stderr",
     "output_type": "stream",
     "text": [
      "\n",
      "  0%|          | 0/5 [00:00<?, ?it/s]\u001b[A\n",
      " 20%|██        | 1/5 [00:00<00:03,  1.14it/s]\u001b[A\n",
      " 40%|████      | 2/5 [00:02<00:03,  1.29s/it]\u001b[A\n",
      " 60%|██████    | 3/5 [00:03<00:02,  1.31s/it]\u001b[A\n",
      " 80%|████████  | 4/5 [00:05<00:01,  1.41s/it]\u001b[A\n",
      "100%|██████████| 5/5 [00:06<00:00,  1.37s/it]\n",
      " 26%|██▌       | 85/333 [13:55<21:16,  5.15s/it]"
     ]
    },
    {
     "name": "stdout",
     "output_type": "stream",
     "text": [
      "https://reviews.webmd.com/drugs/drugreview-165658-humulin-70-30-kwikpen-insulin-pen\n"
     ]
    },
    {
     "name": "stderr",
     "output_type": "stream",
     "text": [
      "\n",
      "  0%|          | 0/1 [00:00<?, ?it/s]\u001b[A\n",
      "100%|██████████| 1/1 [00:00<00:00,  2.12it/s]\n",
      " 26%|██▌       | 86/333 [13:58<17:50,  4.33s/it]"
     ]
    },
    {
     "name": "stdout",
     "output_type": "stream",
     "text": [
      "https://reviews.webmd.com/drugs/drugreview-165659-humulin-n-kwikpen-insulin-pen\n"
     ]
    },
    {
     "name": "stderr",
     "output_type": "stream",
     "text": [
      "\n",
      "  0%|          | 0/1 [00:00<?, ?it/s]\u001b[A\n",
      "100%|██████████| 1/1 [00:00<00:00,  2.13it/s]\n",
      " 26%|██▌       | 87/333 [14:00<15:16,  3.72s/it]"
     ]
    },
    {
     "name": "stdout",
     "output_type": "stream",
     "text": [
      "https://reviews.webmd.com/drugs/drugreview-165976-lixisenatide-pen-injector\n"
     ]
    },
    {
     "name": "stderr",
     "output_type": "stream",
     "text": [
      " 26%|██▋       | 88/333 [14:02<12:57,  3.17s/it]"
     ]
    },
    {
     "name": "stdout",
     "output_type": "stream",
     "text": [
      "https://reviews.webmd.com/drugs/drugreview-166327-levemir-flextouch-insulin-pen\n"
     ]
    },
    {
     "name": "stderr",
     "output_type": "stream",
     "text": [
      "\n",
      "  0%|          | 0/3 [00:00<?, ?it/s]\u001b[A\n",
      " 33%|███▎      | 1/3 [00:00<00:01,  1.34it/s]\u001b[A\n",
      " 67%|██████▋   | 2/3 [00:02<00:01,  1.08s/it]\u001b[A\n",
      "100%|██████████| 3/3 [00:03<00:00,  1.23s/it]\n",
      " 27%|██▋       | 90/333 [14:08<12:24,  3.06s/it]"
     ]
    },
    {
     "name": "stdout",
     "output_type": "stream",
     "text": [
      "skipping https://reviews.webmd.com/drugs/drugreview-166372-albiglutide-pen-injector: page not found\n"
     ]
    },
    {
     "name": "stderr",
     "output_type": "stream",
     "text": [
      " 27%|██▋       | 91/333 [14:10<10:07,  2.51s/it]"
     ]
    },
    {
     "name": "stdout",
     "output_type": "stream",
     "text": [
      "skipping https://reviews.webmd.com/drugs/drugreview-166388-tanzeum-pen-injector: page not found\n",
      "https://reviews.webmd.com/drugs/drugreview-166761-empagliflozin-tablet\n"
     ]
    },
    {
     "name": "stderr",
     "output_type": "stream",
     "text": [
      "\n",
      "  0%|          | 0/1 [00:00<?, ?it/s]\u001b[A\n",
      "100%|██████████| 1/1 [00:00<00:00,  1.82it/s]\n",
      " 28%|██▊       | 92/333 [14:12<09:49,  2.45s/it]"
     ]
    },
    {
     "name": "stdout",
     "output_type": "stream",
     "text": [
      "https://reviews.webmd.com/drugs/drugreview-166762-jardiance\n"
     ]
    },
    {
     "name": "stderr",
     "output_type": "stream",
     "text": [
      "\n",
      "  0%|          | 0/7 [00:00<?, ?it/s]\u001b[A\n",
      " 14%|█▍        | 1/7 [00:00<00:04,  1.46it/s]\u001b[A\n",
      " 29%|██▊       | 2/7 [00:01<00:04,  1.05it/s]\u001b[A\n",
      " 43%|████▎     | 3/7 [00:03<00:04,  1.10s/it]\u001b[A\n",
      " 57%|█████▋    | 4/7 [00:04<00:03,  1.29s/it]\u001b[A\n",
      " 71%|███████▏  | 5/7 [00:06<00:02,  1.32s/it]\u001b[A\n",
      " 86%|████████▌ | 6/7 [00:07<00:01,  1.40s/it]\u001b[A\n",
      "100%|██████████| 7/7 [00:08<00:00,  1.25s/it]\n",
      " 28%|██▊       | 93/333 [14:23<19:33,  4.89s/it]"
     ]
    },
    {
     "name": "stdout",
     "output_type": "stream",
     "text": [
      "https://reviews.webmd.com/drugs/drugreview-166778-canagliflozin-metformin-tablet\n"
     ]
    },
    {
     "name": "stderr",
     "output_type": "stream",
     "text": [
      " 28%|██▊       | 94/333 [14:24<15:50,  3.98s/it]"
     ]
    },
    {
     "name": "stdout",
     "output_type": "stream",
     "text": [
      "https://reviews.webmd.com/drugs/drugreview-166778-canagliflozin-metformin-tablet-immediate-release-and-er-biphasic-24hr-tablet-immed-ext-release-biphasic-24hr\n"
     ]
    },
    {
     "name": "stderr",
     "output_type": "stream",
     "text": [
      " 29%|██▊       | 95/333 [14:25<11:59,  3.02s/it]"
     ]
    },
    {
     "name": "stdout",
     "output_type": "stream",
     "text": [
      "https://reviews.webmd.com/drugs/drugreview-166783-invokamet\n"
     ]
    },
    {
     "name": "stderr",
     "output_type": "stream",
     "text": [
      "\n",
      "  0%|          | 0/1 [00:00<?, ?it/s]\u001b[A\n",
      "100%|██████████| 1/1 [00:00<00:00,  1.79it/s]\n",
      " 29%|██▉       | 96/333 [14:28<11:25,  2.89s/it]"
     ]
    },
    {
     "name": "stdout",
     "output_type": "stream",
     "text": [
      "https://reviews.webmd.com/drugs/drugreview-167024-dulaglutide-pen-injector\n"
     ]
    },
    {
     "name": "stderr",
     "output_type": "stream",
     "text": [
      " 29%|██▉       | 97/333 [14:29<09:55,  2.52s/it]"
     ]
    },
    {
     "name": "stdout",
     "output_type": "stream",
     "text": [
      "https://reviews.webmd.com/drugs/drugreview-167025-trulicity-pen-injector\n"
     ]
    },
    {
     "name": "stderr",
     "output_type": "stream",
     "text": [
      "\n",
      "  0%|          | 0/14 [00:00<?, ?it/s]\u001b[A\n",
      "  7%|▋         | 1/14 [00:01<00:13,  1.02s/it]\u001b[A\n",
      " 14%|█▍        | 2/14 [00:02<00:13,  1.11s/it]\u001b[A\n",
      " 21%|██▏       | 3/14 [00:03<00:13,  1.19s/it]\u001b[A\n",
      " 29%|██▊       | 4/14 [00:04<00:12,  1.21s/it]\u001b[A\n",
      " 36%|███▌      | 5/14 [00:06<00:11,  1.27s/it]\u001b[A\n",
      " 43%|████▎     | 6/14 [00:08<00:12,  1.52s/it]\u001b[A\n",
      " 50%|█████     | 7/14 [00:09<00:10,  1.43s/it]\u001b[A\n",
      " 57%|█████▋    | 8/14 [00:10<00:08,  1.38s/it]\u001b[A\n",
      " 64%|██████▍   | 9/14 [00:11<00:06,  1.35s/it]\u001b[A\n",
      " 71%|███████▏  | 10/14 [00:13<00:05,  1.34s/it]\u001b[A\n",
      " 79%|███████▊  | 11/14 [00:14<00:04,  1.33s/it]\u001b[A\n",
      " 86%|████████▌ | 12/14 [00:16<00:02,  1.40s/it]\u001b[A\n",
      " 93%|█████████▎| 13/14 [00:17<00:01,  1.37s/it]\u001b[A\n",
      "100%|██████████| 14/14 [00:18<00:00,  1.31s/it]\n",
      " 29%|██▉       | 98/333 [14:50<30:55,  7.89s/it]"
     ]
    },
    {
     "name": "stdout",
     "output_type": "stream",
     "text": [
      "https://reviews.webmd.com/drugs/drugreview-167198-dapagliflozin-metformin-er\n"
     ]
    },
    {
     "name": "stderr",
     "output_type": "stream",
     "text": [
      "\n",
      "  0%|          | 0/1 [00:00<?, ?it/s]\u001b[A\n",
      "100%|██████████| 1/1 [00:00<00:00,  2.03it/s]\n",
      " 30%|██▉       | 99/333 [14:52<24:04,  6.17s/it]"
     ]
    },
    {
     "name": "stdout",
     "output_type": "stream",
     "text": [
      "https://reviews.webmd.com/drugs/drugreview-167199-xigduo-xr\n"
     ]
    },
    {
     "name": "stderr",
     "output_type": "stream",
     "text": [
      "\n",
      "  0%|          | 0/1 [00:00<?, ?it/s]\u001b[A\n",
      "100%|██████████| 1/1 [00:00<00:00,  1.37it/s]\n",
      " 30%|███       | 100/333 [14:55<20:03,  5.16s/it]"
     ]
    },
    {
     "name": "stdout",
     "output_type": "stream",
     "text": [
      "https://reviews.webmd.com/drugs/drugreview-167500-afrezza-cartridge-with-inhaler\n"
     ]
    },
    {
     "name": "stderr",
     "output_type": "stream",
     "text": [
      "\n",
      "  0%|          | 0/4 [00:00<?, ?it/s]\u001b[A\n",
      " 25%|██▌       | 1/4 [00:00<00:02,  1.04it/s]\u001b[A\n",
      " 50%|█████     | 2/4 [00:02<00:02,  1.29s/it]\u001b[A\n",
      " 75%|███████▌  | 3/4 [00:03<00:01,  1.31s/it]\u001b[A\n",
      "100%|██████████| 4/4 [00:04<00:00,  1.22s/it]\n",
      " 30%|███       | 101/333 [15:02<21:46,  5.63s/it]"
     ]
    },
    {
     "name": "stdout",
     "output_type": "stream",
     "text": [
      "https://reviews.webmd.com/drugs/drugreview-167707-empagliflozin-linagliptin-tablet\n"
     ]
    },
    {
     "name": "stderr",
     "output_type": "stream",
     "text": [
      "\n",
      "  0%|          | 0/1 [00:00<?, ?it/s]\u001b[A\n",
      "100%|██████████| 1/1 [00:00<00:00,  1.88it/s]\n",
      " 31%|███       | 102/333 [15:04<17:48,  4.63s/it]"
     ]
    },
    {
     "name": "stdout",
     "output_type": "stream",
     "text": [
      "https://reviews.webmd.com/drugs/drugreview-167715-glyxambi\n"
     ]
    },
    {
     "name": "stderr",
     "output_type": "stream",
     "text": [
      "\n",
      "  0%|          | 0/1 [00:00<?, ?it/s]\u001b[A\n",
      "100%|██████████| 1/1 [00:01<00:00,  1.03s/it]\n",
      " 31%|███       | 103/333 [15:07<15:41,  4.10s/it]"
     ]
    },
    {
     "name": "stdout",
     "output_type": "stream",
     "text": [
      "https://reviews.webmd.com/drugs/drugreview-167874-toujeo-solostar-insulin-pen\n"
     ]
    },
    {
     "name": "stderr",
     "output_type": "stream",
     "text": [
      "\n",
      "  0%|          | 0/2 [00:00<?, ?it/s]\u001b[A\n",
      " 50%|█████     | 1/2 [00:00<00:00,  1.39it/s]\u001b[A\n",
      "100%|██████████| 2/2 [00:01<00:00,  1.06it/s]\n",
      " 31%|███       | 104/333 [15:11<15:34,  4.08s/it]"
     ]
    },
    {
     "name": "stdout",
     "output_type": "stream",
     "text": [
      "https://reviews.webmd.com/drugs/drugreview-16866-glyset-tablet\n"
     ]
    },
    {
     "name": "stderr",
     "output_type": "stream",
     "text": [
      "\n",
      "  0%|          | 0/1 [00:00<?, ?it/s]\u001b[A\n",
      "100%|██████████| 1/1 [00:00<00:00,  1.83it/s]\n",
      " 32%|███▏      | 105/333 [15:13<13:28,  3.55s/it]"
     ]
    },
    {
     "name": "stdout",
     "output_type": "stream",
     "text": [
      "https://reviews.webmd.com/drugs/drugreview-16873-humulin-70-30-insulin-pen-syringe\n"
     ]
    },
    {
     "name": "stderr",
     "output_type": "stream",
     "text": [
      "\n",
      "  0%|          | 0/1 [00:00<?, ?it/s]\u001b[A\n",
      "100%|██████████| 1/1 [00:00<00:00,  1.87it/s]\n",
      " 32%|███▏      | 106/333 [15:15<11:58,  3.17s/it]"
     ]
    },
    {
     "name": "stdout",
     "output_type": "stream",
     "text": [
      "https://reviews.webmd.com/drugs/drugreview-16874-humulin-n-pen-syringe\n"
     ]
    },
    {
     "name": "stderr",
     "output_type": "stream",
     "text": [
      "\n",
      "  0%|          | 0/1 [00:00<?, ?it/s]\u001b[A\n",
      "100%|██████████| 1/1 [00:00<00:00,  1.91it/s]\n",
      " 32%|███▏      | 107/333 [15:18<10:59,  2.92s/it]"
     ]
    },
    {
     "name": "stdout",
     "output_type": "stream",
     "text": [
      "https://reviews.webmd.com/drugs/drugreview-16875-humalog-pen-insulin\n"
     ]
    },
    {
     "name": "stderr",
     "output_type": "stream",
     "text": [
      "\n",
      "  0%|          | 0/1 [00:00<?, ?it/s]\u001b[A\n",
      "100%|██████████| 1/1 [00:00<00:00,  1.75it/s]\n",
      " 32%|███▏      | 108/333 [15:20<10:40,  2.84s/it]"
     ]
    },
    {
     "name": "stdout",
     "output_type": "stream",
     "text": [
      "https://reviews.webmd.com/drugs/drugreview-16875-humalog-pen-syringe\n"
     ]
    },
    {
     "name": "stderr",
     "output_type": "stream",
     "text": [
      "\n",
      "  0%|          | 0/1 [00:00<?, ?it/s]\u001b[A\n",
      "100%|██████████| 1/1 [00:00<00:00,  1.63it/s]\n",
      " 33%|███▎      | 109/333 [15:22<09:09,  2.45s/it]"
     ]
    },
    {
     "name": "stdout",
     "output_type": "stream",
     "text": [
      "https://reviews.webmd.com/drugs/drugreview-169671-empagliflozin-metformin-tablet\n"
     ]
    },
    {
     "name": "stderr",
     "output_type": "stream",
     "text": [
      " 33%|███▎      | 110/333 [15:24<08:24,  2.26s/it]"
     ]
    },
    {
     "name": "stdout",
     "output_type": "stream",
     "text": [
      "https://reviews.webmd.com/drugs/drugreview-169671-empagliflozin-metformin-tablet-immediate-release-and-er-biphasic-24hr-tablet-immed-ext-release-biphasic-24hr\n"
     ]
    },
    {
     "name": "stderr",
     "output_type": "stream",
     "text": [
      " 33%|███▎      | 111/333 [15:25<06:50,  1.85s/it]"
     ]
    },
    {
     "name": "stdout",
     "output_type": "stream",
     "text": [
      "https://reviews.webmd.com/drugs/drugreview-169678-synjardy\n"
     ]
    },
    {
     "name": "stderr",
     "output_type": "stream",
     "text": [
      "\n",
      "  0%|          | 0/1 [00:00<?, ?it/s]\u001b[A\n",
      "100%|██████████| 1/1 [00:00<00:00,  1.55it/s]\n",
      " 34%|███▎      | 112/333 [15:27<07:28,  2.03s/it]"
     ]
    },
    {
     "name": "stdout",
     "output_type": "stream",
     "text": [
      "https://reviews.webmd.com/drugs/drugreview-170029-tresiba-flextouch-u-100-insulin-pen\n"
     ]
    },
    {
     "name": "stderr",
     "output_type": "stream",
     "text": [
      "\n",
      "  0%|          | 0/1 [00:00<?, ?it/s]\u001b[A\n",
      "100%|██████████| 1/1 [00:00<00:00,  1.88it/s]\n",
      " 34%|███▍      | 113/333 [15:29<07:40,  2.09s/it]"
     ]
    },
    {
     "name": "stdout",
     "output_type": "stream",
     "text": [
      "https://reviews.webmd.com/drugs/drugreview-170030-tresiba-flextouch-u-200-insulin-pen\n"
     ]
    },
    {
     "name": "stderr",
     "output_type": "stream",
     "text": [
      "\n",
      "  0%|          | 0/1 [00:00<?, ?it/s]\u001b[A\n",
      "100%|██████████| 1/1 [00:00<00:00,  1.93it/s]\n",
      " 34%|███▍      | 114/333 [15:32<08:09,  2.23s/it]"
     ]
    },
    {
     "name": "stdout",
     "output_type": "stream",
     "text": [
      "https://reviews.webmd.com/drugs/drugreview-170716-basaglar-kwikpen-u-100-insulin-pen\n"
     ]
    },
    {
     "name": "stderr",
     "output_type": "stream",
     "text": [
      "\n",
      "  0%|          | 0/1 [00:00<?, ?it/s]\u001b[A\n",
      "100%|██████████| 1/1 [00:00<00:00,  1.60it/s]\n",
      " 35%|███▍      | 115/333 [15:34<08:33,  2.36s/it]"
     ]
    },
    {
     "name": "stdout",
     "output_type": "stream",
     "text": [
      "https://reviews.webmd.com/drugs/drugreview-172005-jentadueto-xr\n"
     ]
    },
    {
     "name": "stderr",
     "output_type": "stream",
     "text": [
      "\n",
      "  0%|          | 0/1 [00:00<?, ?it/s]\u001b[A\n",
      "100%|██████████| 1/1 [00:00<00:00,  1.88it/s]\n",
      " 35%|███▍      | 116/333 [15:37<08:32,  2.36s/it]"
     ]
    },
    {
     "name": "stdout",
     "output_type": "stream",
     "text": [
      "https://reviews.webmd.com/drugs/drugreview-172573-invokamet-xr\n"
     ]
    },
    {
     "name": "stderr",
     "output_type": "stream",
     "text": [
      " 35%|███▌      | 117/333 [15:38<07:41,  2.13s/it]"
     ]
    },
    {
     "name": "stdout",
     "output_type": "stream",
     "text": [
      "https://reviews.webmd.com/drugs/drugreview-172910-insulin-degludec-liraglutide-pen\n"
     ]
    },
    {
     "name": "stderr",
     "output_type": "stream",
     "text": [
      " 35%|███▌      | 118/333 [15:40<07:12,  2.01s/it]"
     ]
    },
    {
     "name": "stdout",
     "output_type": "stream",
     "text": [
      "https://reviews.webmd.com/drugs/drugreview-172911-xultophy-100-3-6-insulin-pen\n"
     ]
    },
    {
     "name": "stderr",
     "output_type": "stream",
     "text": [
      " 36%|███▌      | 119/333 [15:42<06:40,  1.87s/it]"
     ]
    },
    {
     "name": "stdout",
     "output_type": "stream",
     "text": [
      "https://reviews.webmd.com/drugs/drugreview-172916-insulin-glargine-lixisenatide-pen\n"
     ]
    },
    {
     "name": "stderr",
     "output_type": "stream",
     "text": [
      " 36%|███▌      | 120/333 [15:44<06:34,  1.85s/it]"
     ]
    },
    {
     "name": "stdout",
     "output_type": "stream",
     "text": [
      "https://reviews.webmd.com/drugs/drugreview-17298-rosiglitazone-tablet\n"
     ]
    },
    {
     "name": "stderr",
     "output_type": "stream",
     "text": [
      "\n",
      "  0%|          | 0/1 [00:00<?, ?it/s]\u001b[A\n",
      "100%|██████████| 1/1 [00:00<00:00,  1.93it/s]\n",
      " 36%|███▋      | 121/333 [15:46<07:11,  2.04s/it]"
     ]
    },
    {
     "name": "stdout",
     "output_type": "stream",
     "text": [
      "https://reviews.webmd.com/drugs/drugreview-172984-adlyxin-pen-injector\n"
     ]
    },
    {
     "name": "stderr",
     "output_type": "stream",
     "text": [
      "\n",
      "  0%|          | 0/1 [00:00<?, ?it/s]\u001b[A\n",
      "100%|██████████| 1/1 [00:00<00:00,  2.05it/s]\n",
      " 37%|███▋      | 122/333 [15:48<07:20,  2.09s/it]"
     ]
    },
    {
     "name": "stdout",
     "output_type": "stream",
     "text": [
      "https://reviews.webmd.com/drugs/drugreview-172986-soliqua-100-33-insulin-pen\n"
     ]
    },
    {
     "name": "stderr",
     "output_type": "stream",
     "text": [
      "\n",
      "  0%|          | 0/1 [00:00<?, ?it/s]\u001b[A\n",
      "100%|██████████| 1/1 [00:00<00:00,  1.75it/s]\n",
      " 37%|███▋      | 123/333 [15:51<07:42,  2.20s/it]"
     ]
    },
    {
     "name": "stdout",
     "output_type": "stream",
     "text": [
      "https://reviews.webmd.com/drugs/drugreview-17300-avandia-tablet\n"
     ]
    },
    {
     "name": "stderr",
     "output_type": "stream",
     "text": [
      "\n",
      "  0%|          | 0/5 [00:00<?, ?it/s]\u001b[A\n",
      " 20%|██        | 1/5 [00:00<00:03,  1.05it/s]\u001b[A\n",
      " 40%|████      | 2/5 [00:02<00:03,  1.27s/it]\u001b[A\n",
      " 60%|██████    | 3/5 [00:03<00:02,  1.30s/it]\u001b[A\n",
      " 80%|████████  | 4/5 [00:05<00:01,  1.31s/it]\u001b[A\n",
      "100%|██████████| 5/5 [00:06<00:00,  1.24s/it]\n",
      " 37%|███▋      | 124/333 [15:59<13:49,  3.97s/it]"
     ]
    },
    {
     "name": "stdout",
     "output_type": "stream",
     "text": [
      "https://reviews.webmd.com/drugs/drugreview-173266-insulin-aspart-niacinamide-cartridge\n"
     ]
    },
    {
     "name": "stderr",
     "output_type": "stream",
     "text": [
      " 38%|███▊      | 125/333 [16:01<11:27,  3.31s/it]"
     ]
    },
    {
     "name": "stdout",
     "output_type": "stream",
     "text": [
      "https://reviews.webmd.com/drugs/drugreview-173268-fiasp-vial\n"
     ]
    },
    {
     "name": "stderr",
     "output_type": "stream",
     "text": [
      "\n",
      "  0%|          | 0/1 [00:00<?, ?it/s]\u001b[A\n",
      "100%|██████████| 1/1 [00:00<00:00,  1.13it/s]\n",
      " 38%|███▊      | 126/333 [16:03<10:48,  3.13s/it]"
     ]
    },
    {
     "name": "stdout",
     "output_type": "stream",
     "text": [
      "https://reviews.webmd.com/drugs/drugreview-173286-fiasp-flextouch-insulin-pen\n"
     ]
    },
    {
     "name": "stderr",
     "output_type": "stream",
     "text": [
      " 38%|███▊      | 127/333 [16:05<09:19,  2.72s/it]"
     ]
    },
    {
     "name": "stdout",
     "output_type": "stream",
     "text": [
      "https://reviews.webmd.com/drugs/drugreview-173287-fiasp-penfill-cartridge\n"
     ]
    },
    {
     "name": "stderr",
     "output_type": "stream",
     "text": [
      " 38%|███▊      | 128/333 [16:07<08:11,  2.40s/it]"
     ]
    },
    {
     "name": "stdout",
     "output_type": "stream",
     "text": [
      "https://reviews.webmd.com/drugs/drugreview-173353-dapagliflozin-saxagliptin-tablet\n"
     ]
    },
    {
     "name": "stderr",
     "output_type": "stream",
     "text": [
      " 39%|███▊      | 129/333 [16:09<07:51,  2.31s/it]"
     ]
    },
    {
     "name": "stdout",
     "output_type": "stream",
     "text": [
      "https://reviews.webmd.com/drugs/drugreview-173445-synjardy-xr\n"
     ]
    },
    {
     "name": "stderr",
     "output_type": "stream",
     "text": [
      "\n",
      "  0%|          | 0/1 [00:00<?, ?it/s]\u001b[A\n",
      "100%|██████████| 1/1 [00:00<00:00,  1.51it/s]\n",
      " 39%|███▉      | 130/333 [16:11<07:55,  2.34s/it]"
     ]
    },
    {
     "name": "stdout",
     "output_type": "stream",
     "text": [
      "https://reviews.webmd.com/drugs/drugreview-17385-glycron-tablet\n"
     ]
    },
    {
     "name": "stderr",
     "output_type": "stream",
     "text": [
      " 39%|███▉      | 131/333 [16:13<07:36,  2.26s/it]"
     ]
    },
    {
     "name": "stdout",
     "output_type": "stream",
     "text": [
      "https://reviews.webmd.com/drugs/drugreview-174012-humalog-junior-kwikpen-insulin-pen-half-unit\n"
     ]
    },
    {
     "name": "stderr",
     "output_type": "stream",
     "text": [
      " 40%|███▉      | 132/333 [16:15<06:55,  2.07s/it]"
     ]
    },
    {
     "name": "stdout",
     "output_type": "stream",
     "text": [
      "https://reviews.webmd.com/drugs/drugreview-17406-pioglitazone-hcl\n"
     ]
    },
    {
     "name": "stderr",
     "output_type": "stream",
     "text": [
      "\n",
      "  0%|          | 0/3 [00:00<?, ?it/s]\u001b[A\n",
      " 33%|███▎      | 1/3 [00:00<00:01,  1.48it/s]\u001b[A\n",
      " 67%|██████▋   | 2/3 [00:01<00:01,  1.05s/it]\u001b[A\n",
      "100%|██████████| 3/3 [00:03<00:00,  1.16s/it]\n",
      " 40%|███▉      | 133/333 [16:21<10:27,  3.14s/it]"
     ]
    },
    {
     "name": "stdout",
     "output_type": "stream",
     "text": [
      "https://reviews.webmd.com/drugs/drugreview-17410-actos\n"
     ]
    },
    {
     "name": "stderr",
     "output_type": "stream",
     "text": [
      "\n",
      "  0%|          | 0/26 [00:00<?, ?it/s]\u001b[A\n",
      "  4%|▍         | 1/26 [00:00<00:17,  1.41it/s]\u001b[A\n",
      "  8%|▊         | 2/26 [00:01<00:24,  1.03s/it]\u001b[A\n",
      " 12%|█▏        | 3/26 [00:03<00:26,  1.13s/it]\u001b[A\n",
      " 15%|█▌        | 4/26 [00:04<00:28,  1.28s/it]\u001b[A\n",
      " 19%|█▉        | 5/26 [00:06<00:29,  1.43s/it]\u001b[A\n",
      " 23%|██▎       | 6/26 [00:07<00:27,  1.39s/it]\u001b[A\n",
      " 27%|██▋       | 7/26 [00:09<00:25,  1.35s/it]\u001b[A\n",
      " 31%|███       | 8/26 [00:10<00:23,  1.33s/it]\u001b[A\n",
      " 35%|███▍      | 9/26 [00:11<00:22,  1.30s/it]\u001b[A\n",
      " 38%|███▊      | 10/26 [00:12<00:20,  1.31s/it]\u001b[A\n",
      " 42%|████▏     | 11/26 [00:14<00:22,  1.47s/it]\u001b[A\n",
      " 46%|████▌     | 12/26 [00:16<00:20,  1.44s/it]\u001b[A\n",
      " 50%|█████     | 13/26 [00:17<00:18,  1.39s/it]\u001b[A\n",
      " 54%|█████▍    | 14/26 [00:18<00:16,  1.40s/it]\u001b[A\n",
      " 58%|█████▊    | 15/26 [00:20<00:15,  1.38s/it]\u001b[A\n",
      " 62%|██████▏   | 16/26 [00:21<00:14,  1.46s/it]\u001b[A\n",
      " 65%|██████▌   | 17/26 [00:23<00:13,  1.45s/it]\u001b[A\n",
      " 69%|██████▉   | 18/26 [00:24<00:11,  1.41s/it]\u001b[A\n",
      " 73%|███████▎  | 19/26 [00:25<00:09,  1.35s/it]\u001b[A\n",
      " 77%|███████▋  | 20/26 [00:27<00:08,  1.35s/it]\u001b[A\n",
      " 81%|████████  | 21/26 [00:28<00:06,  1.36s/it]\u001b[A\n",
      " 85%|████████▍ | 22/26 [00:30<00:05,  1.45s/it]\u001b[A\n",
      " 88%|████████▊ | 23/26 [00:31<00:04,  1.41s/it]\u001b[A\n",
      " 92%|█████████▏| 24/26 [00:32<00:02,  1.45s/it]\u001b[A\n",
      " 96%|█████████▌| 25/26 [00:34<00:01,  1.41s/it]\u001b[A\n",
      "100%|██████████| 26/26 [00:35<00:00,  1.37s/it]\n",
      " 40%|████      | 134/333 [16:58<44:47, 13.50s/it]"
     ]
    },
    {
     "name": "stdout",
     "output_type": "stream",
     "text": [
      "https://reviews.webmd.com/drugs/drugreview-17424-insulin-lispro-protamine-mix-pen\n"
     ]
    },
    {
     "name": "stderr",
     "output_type": "stream",
     "text": [
      "\n",
      "  0%|          | 0/1 [00:00<?, ?it/s]\u001b[A\n",
      "100%|██████████| 1/1 [00:00<00:00,  1.87it/s]\n",
      " 41%|████      | 135/333 [17:00<33:14, 10.07s/it]"
     ]
    },
    {
     "name": "stdout",
     "output_type": "stream",
     "text": [
      "https://reviews.webmd.com/drugs/drugreview-174355-qtern\n"
     ]
    },
    {
     "name": "stderr",
     "output_type": "stream",
     "text": [
      " 41%|████      | 136/333 [17:02<24:40,  7.52s/it]"
     ]
    },
    {
     "name": "stdout",
     "output_type": "stream",
     "text": [
      "https://reviews.webmd.com/drugs/drugreview-174375-bydureon-bcise-auto-injector\n"
     ]
    },
    {
     "name": "stderr",
     "output_type": "stream",
     "text": [
      "\n",
      "  0%|          | 0/1 [00:00<?, ?it/s]\u001b[A\n",
      "100%|██████████| 1/1 [00:00<00:00,  1.46it/s]\n",
      " 41%|████      | 137/333 [17:05<19:53,  6.09s/it]"
     ]
    },
    {
     "name": "stdout",
     "output_type": "stream",
     "text": [
      "https://reviews.webmd.com/drugs/drugreview-174490-semaglutide-pen-injector\n"
     ]
    },
    {
     "name": "stderr",
     "output_type": "stream",
     "text": [
      "\n",
      "  0%|          | 0/1 [00:00<?, ?it/s]\u001b[A\n",
      "100%|██████████| 1/1 [00:00<00:00,  1.42it/s]\n",
      " 41%|████▏     | 138/333 [17:07<16:36,  5.11s/it]"
     ]
    },
    {
     "name": "stdout",
     "output_type": "stream",
     "text": [
      "https://reviews.webmd.com/drugs/drugreview-174491-ozempic-pen-injector\n"
     ]
    },
    {
     "name": "stderr",
     "output_type": "stream",
     "text": [
      "\n",
      "  0%|          | 0/23 [00:00<?, ?it/s]\u001b[A\n",
      "  4%|▍         | 1/23 [00:00<00:15,  1.46it/s]\u001b[A\n",
      "  9%|▊         | 2/23 [00:02<00:25,  1.21s/it]\u001b[A\n",
      " 13%|█▎        | 3/23 [00:03<00:24,  1.20s/it]\u001b[A\n",
      " 17%|█▋        | 4/23 [00:04<00:24,  1.27s/it]\u001b[A\n",
      " 22%|██▏       | 5/23 [00:06<00:23,  1.32s/it]\u001b[A\n",
      " 26%|██▌       | 6/23 [00:07<00:22,  1.32s/it]\u001b[A\n",
      " 30%|███       | 7/23 [00:08<00:20,  1.29s/it]\u001b[A\n",
      " 35%|███▍      | 8/23 [00:10<00:21,  1.42s/it]\u001b[A\n",
      " 39%|███▉      | 9/23 [00:11<00:19,  1.41s/it]\u001b[A\n",
      " 43%|████▎     | 10/23 [00:13<00:18,  1.38s/it]\u001b[A\n",
      " 48%|████▊     | 11/23 [00:14<00:15,  1.33s/it]\u001b[A\n",
      " 52%|█████▏    | 12/23 [00:15<00:14,  1.34s/it]\u001b[A\n",
      " 57%|█████▋    | 13/23 [00:17<00:13,  1.35s/it]\u001b[A\n",
      " 61%|██████    | 14/23 [00:18<00:13,  1.48s/it]\u001b[A\n",
      " 65%|██████▌   | 15/23 [00:20<00:11,  1.41s/it]\u001b[A\n",
      " 70%|██████▉   | 16/23 [00:21<00:09,  1.33s/it]\u001b[A\n",
      " 74%|███████▍  | 17/23 [00:22<00:07,  1.25s/it]\u001b[A\n",
      " 78%|███████▊  | 18/23 [00:23<00:06,  1.25s/it]\u001b[A\n",
      " 83%|████████▎ | 19/23 [00:25<00:05,  1.30s/it]\u001b[A\n",
      " 87%|████████▋ | 20/23 [00:26<00:03,  1.33s/it]\u001b[A\n",
      " 91%|█████████▏| 21/23 [00:27<00:02,  1.33s/it]\u001b[A\n",
      " 96%|█████████▌| 22/23 [00:29<00:01,  1.33s/it]\u001b[A\n",
      "100%|██████████| 23/23 [00:30<00:00,  1.31s/it]\n",
      " 42%|████▏     | 139/333 [17:39<42:42, 13.21s/it]"
     ]
    },
    {
     "name": "stdout",
     "output_type": "stream",
     "text": [
      "https://reviews.webmd.com/drugs/drugreview-174564-ertugliflozin-sitagliptin-phos-tablet\n"
     ]
    },
    {
     "name": "stderr",
     "output_type": "stream",
     "text": [
      " 42%|████▏     | 140/333 [17:41<31:21,  9.75s/it]"
     ]
    },
    {
     "name": "stdout",
     "output_type": "stream",
     "text": [
      "https://reviews.webmd.com/drugs/drugreview-174571-ertugliflozin-tablet\n"
     ]
    },
    {
     "name": "stderr",
     "output_type": "stream",
     "text": [
      " 42%|████▏     | 141/333 [17:43<23:39,  7.39s/it]"
     ]
    },
    {
     "name": "stdout",
     "output_type": "stream",
     "text": [
      "https://reviews.webmd.com/drugs/drugreview-174575-admelog-vial\n"
     ]
    },
    {
     "name": "stderr",
     "output_type": "stream",
     "text": [
      "\n",
      "  0%|          | 0/3 [00:00<?, ?it/s]\u001b[A\n",
      " 33%|███▎      | 1/3 [00:00<00:01,  1.07it/s]\u001b[A\n",
      " 67%|██████▋   | 2/3 [00:02<00:01,  1.16s/it]\u001b[A\n",
      "100%|██████████| 3/3 [00:03<00:00,  1.13s/it]\n",
      " 43%|████▎     | 142/333 [17:49<21:41,  6.82s/it]"
     ]
    },
    {
     "name": "stdout",
     "output_type": "stream",
     "text": [
      "https://reviews.webmd.com/drugs/drugreview-174576-admelog-solostar-insulin-pen\n"
     ]
    },
    {
     "name": "stderr",
     "output_type": "stream",
     "text": [
      "\n",
      "  0%|          | 0/1 [00:00<?, ?it/s]\u001b[A\n",
      "100%|██████████| 1/1 [00:00<00:00,  2.03it/s]\n",
      " 43%|████▎     | 143/333 [17:51<17:08,  5.41s/it]"
     ]
    },
    {
     "name": "stdout",
     "output_type": "stream",
     "text": [
      "https://reviews.webmd.com/drugs/drugreview-174582-ertugliflozin-metformin-tablet\n"
     ]
    },
    {
     "name": "stderr",
     "output_type": "stream",
     "text": [
      " 43%|████▎     | 144/333 [17:52<13:34,  4.31s/it]"
     ]
    },
    {
     "name": "stdout",
     "output_type": "stream",
     "text": [
      "https://reviews.webmd.com/drugs/drugreview-174602-steglatro\n"
     ]
    },
    {
     "name": "stderr",
     "output_type": "stream",
     "text": [
      "\n",
      "  0%|          | 0/1 [00:00<?, ?it/s]\u001b[A\n",
      "100%|██████████| 1/1 [00:00<00:00,  1.74it/s]\n",
      " 44%|████▎     | 145/333 [17:55<11:38,  3.71s/it]"
     ]
    },
    {
     "name": "stdout",
     "output_type": "stream",
     "text": [
      "https://reviews.webmd.com/drugs/drugreview-174662-steglujan\n"
     ]
    },
    {
     "name": "stderr",
     "output_type": "stream",
     "text": [
      " 44%|████▍     | 146/333 [17:56<09:39,  3.10s/it]"
     ]
    },
    {
     "name": "stdout",
     "output_type": "stream",
     "text": [
      "https://reviews.webmd.com/drugs/drugreview-174733-segluromet\n"
     ]
    },
    {
     "name": "stderr",
     "output_type": "stream",
     "text": [
      "\n",
      "  0%|          | 0/1 [00:00<?, ?it/s]\u001b[A\n",
      "100%|██████████| 1/1 [00:00<00:00,  2.07it/s]\n",
      " 44%|████▍     | 147/333 [17:59<08:46,  2.83s/it]"
     ]
    },
    {
     "name": "stdout",
     "output_type": "stream",
     "text": [
      "https://reviews.webmd.com/drugs/drugreview-175027-toujeo-max-solostar-insulin-pen\n"
     ]
    },
    {
     "name": "stderr",
     "output_type": "stream",
     "text": [
      " 44%|████▍     | 148/333 [18:00<07:44,  2.51s/it]"
     ]
    },
    {
     "name": "stdout",
     "output_type": "stream",
     "text": [
      "https://reviews.webmd.com/drugs/drugreview-175773-insulin-glargine-solostar-pen\n"
     ]
    },
    {
     "name": "stderr",
     "output_type": "stream",
     "text": [
      " 45%|████▍     | 149/333 [18:02<07:03,  2.30s/it]"
     ]
    },
    {
     "name": "stdout",
     "output_type": "stream",
     "text": [
      "https://reviews.webmd.com/drugs/drugreview-176248-novolin-70-30-flexpen-insulin-pen\n"
     ]
    },
    {
     "name": "stderr",
     "output_type": "stream",
     "text": [
      " 45%|████▌     | 150/333 [18:04<06:24,  2.10s/it]"
     ]
    },
    {
     "name": "stdout",
     "output_type": "stream",
     "text": [
      "https://reviews.webmd.com/drugs/drugreview-176683-tresiba-vial\n"
     ]
    },
    {
     "name": "stderr",
     "output_type": "stream",
     "text": [
      " 46%|████▌     | 152/333 [18:07<05:13,  1.73s/it]"
     ]
    },
    {
     "name": "stdout",
     "output_type": "stream",
     "text": [
      "skipping https://reviews.webmd.com/drugs/drugreview-17744-velosulin-br-solution: page not found\n"
     ]
    },
    {
     "name": "stderr",
     "output_type": "stream",
     "text": [
      " 46%|████▌     | 153/333 [18:08<04:39,  1.55s/it]"
     ]
    },
    {
     "name": "stdout",
     "output_type": "stream",
     "text": [
      "skipping https://reviews.webmd.com/drugs/drugreview-17746-velosulin-br-rdna-solution: page not found\n"
     ]
    },
    {
     "name": "stderr",
     "output_type": "stream",
     "text": [
      " 46%|████▌     | 154/333 [18:09<04:11,  1.40s/it]"
     ]
    },
    {
     "name": "stdout",
     "output_type": "stream",
     "text": [
      "skipping https://reviews.webmd.com/drugs/drugreview-177465-insulin-regular-in-0-9-nacl-solution: page not found\n"
     ]
    },
    {
     "name": "stderr",
     "output_type": "stream",
     "text": [
      " 47%|████▋     | 155/333 [18:10<03:53,  1.31s/it]"
     ]
    },
    {
     "name": "stdout",
     "output_type": "stream",
     "text": [
      "skipping https://reviews.webmd.com/drugs/drugreview-177940-myxredlin-plastic-bag-injection: page not found\n",
      "https://reviews.webmd.com/drugs/drugreview-178018-semaglutide-tablet\n"
     ]
    },
    {
     "name": "stderr",
     "output_type": "stream",
     "text": [
      "\n",
      "  0%|          | 0/1 [00:00<?, ?it/s]\u001b[A\n",
      "100%|██████████| 1/1 [00:00<00:00,  1.75it/s]\n",
      " 47%|████▋     | 156/333 [18:12<04:48,  1.63s/it]"
     ]
    },
    {
     "name": "stdout",
     "output_type": "stream",
     "text": [
      "https://reviews.webmd.com/drugs/drugreview-178019-rybelsus\n"
     ]
    },
    {
     "name": "stderr",
     "output_type": "stream",
     "text": [
      "\n",
      "  0%|          | 0/4 [00:00<?, ?it/s]\u001b[A\n",
      " 25%|██▌       | 1/4 [00:00<00:02,  1.40it/s]\u001b[A\n",
      " 50%|█████     | 2/4 [00:02<00:02,  1.13s/it]\u001b[A\n",
      " 75%|███████▌  | 3/4 [00:03<00:01,  1.20s/it]\u001b[A\n",
      "100%|██████████| 4/4 [00:04<00:00,  1.11s/it]\n",
      " 47%|████▋     | 157/333 [18:19<09:05,  3.10s/it]"
     ]
    },
    {
     "name": "stdout",
     "output_type": "stream",
     "text": [
      "https://reviews.webmd.com/drugs/drugreview-178494-novolin-n-flexpen-insulin-pen\n"
     ]
    },
    {
     "name": "stderr",
     "output_type": "stream",
     "text": [
      " 47%|████▋     | 158/333 [18:21<07:41,  2.64s/it]"
     ]
    },
    {
     "name": "stdout",
     "output_type": "stream",
     "text": [
      "https://reviews.webmd.com/drugs/drugreview-178502-novolin-r-flexpen-insulin-pen\n"
     ]
    },
    {
     "name": "stderr",
     "output_type": "stream",
     "text": [
      " 48%|████▊     | 159/333 [18:22<06:55,  2.39s/it]"
     ]
    },
    {
     "name": "stdout",
     "output_type": "stream",
     "text": [
      "https://reviews.webmd.com/drugs/drugreview-178652-riomet-er\n"
     ]
    },
    {
     "name": "stderr",
     "output_type": "stream",
     "text": [
      " 48%|████▊     | 160/333 [18:24<06:14,  2.16s/it]"
     ]
    },
    {
     "name": "stdout",
     "output_type": "stream",
     "text": [
      "https://reviews.webmd.com/drugs/drugreview-178777-empaglifloz-linaglip-metformin-tablet-immediate-release-and-er-biphasic-24hr-tablet-immed-ext-release-biphasic-24hr\n"
     ]
    },
    {
     "name": "stderr",
     "output_type": "stream",
     "text": [
      " 48%|████▊     | 161/333 [18:26<05:46,  2.01s/it]"
     ]
    },
    {
     "name": "stdout",
     "output_type": "stream",
     "text": [
      "https://reviews.webmd.com/drugs/drugreview-178887-semglee-vial\n"
     ]
    },
    {
     "name": "stderr",
     "output_type": "stream",
     "text": [
      "\n",
      "  0%|          | 0/1 [00:00<?, ?it/s]\u001b[A\n",
      "100%|██████████| 1/1 [00:01<00:00,  1.23s/it]\n",
      " 49%|████▉     | 163/333 [18:30<05:36,  1.98s/it]"
     ]
    },
    {
     "name": "stdout",
     "output_type": "stream",
     "text": [
      "skipping https://reviews.webmd.com/drugs/drugreview-1789-diabinese-tablet: page not found\n",
      "https://reviews.webmd.com/drugs/drugreview-178950-trijardy-xr\n"
     ]
    },
    {
     "name": "stderr",
     "output_type": "stream",
     "text": [
      "\n",
      "  0%|          | 0/1 [00:00<?, ?it/s]\u001b[A\n",
      "100%|██████████| 1/1 [00:00<00:00,  2.02it/s]\n",
      " 49%|████▉     | 164/333 [18:32<05:42,  2.03s/it]"
     ]
    },
    {
     "name": "stdout",
     "output_type": "stream",
     "text": [
      "https://reviews.webmd.com/drugs/drugreview-179541-insulin-lispro-aabc-solution\n"
     ]
    },
    {
     "name": "stderr",
     "output_type": "stream",
     "text": [
      " 50%|████▉     | 165/333 [18:34<05:22,  1.92s/it]"
     ]
    },
    {
     "name": "stdout",
     "output_type": "stream",
     "text": [
      "https://reviews.webmd.com/drugs/drugreview-179553-lyumjev-vial\n"
     ]
    },
    {
     "name": "stderr",
     "output_type": "stream",
     "text": [
      " 50%|████▉     | 166/333 [18:35<05:15,  1.89s/it]"
     ]
    },
    {
     "name": "stdout",
     "output_type": "stream",
     "text": [
      "https://reviews.webmd.com/drugs/drugreview-179554-lyumjev-kwikpen-u-100-insulin-pen\n"
     ]
    },
    {
     "name": "stderr",
     "output_type": "stream",
     "text": [
      " 50%|█████     | 167/333 [18:37<05:04,  1.83s/it]"
     ]
    },
    {
     "name": "stdout",
     "output_type": "stream",
     "text": [
      "https://reviews.webmd.com/drugs/drugreview-179555-lyumjev-kwikpen-u-200-insulin-pen\n"
     ]
    },
    {
     "name": "stderr",
     "output_type": "stream",
     "text": [
      " 50%|█████     | 168/333 [18:39<05:00,  1.82s/it]"
     ]
    },
    {
     "name": "stdout",
     "output_type": "stream",
     "text": [
      "https://reviews.webmd.com/drugs/drugreview-180007-semglee-pen-insulin\n"
     ]
    },
    {
     "name": "stderr",
     "output_type": "stream",
     "text": [
      "\n",
      "  0%|          | 0/1 [00:00<?, ?it/s]\u001b[A\n",
      "100%|██████████| 1/1 [00:00<00:00,  1.96it/s]\n",
      " 51%|█████     | 169/333 [18:41<05:15,  1.92s/it]"
     ]
    },
    {
     "name": "stdout",
     "output_type": "stream",
     "text": [
      "https://reviews.webmd.com/drugs/drugreview-181317-basaglar-tempo-pen-u-100-insulin-pen-sensor\n"
     ]
    },
    {
     "name": "stderr",
     "output_type": "stream",
     "text": [
      "\n",
      "  0%|          | 0/1 [00:00<?, ?it/s]\u001b[A\n",
      "100%|██████████| 1/1 [00:00<00:00,  1.60it/s]\n",
      " 51%|█████     | 170/333 [18:44<05:39,  2.08s/it]"
     ]
    },
    {
     "name": "stdout",
     "output_type": "stream",
     "text": [
      "https://reviews.webmd.com/drugs/drugreview-181342-humalog-tempo-pen-u-100-insulin-pen-sensor\n"
     ]
    },
    {
     "name": "stderr",
     "output_type": "stream",
     "text": [
      " 51%|█████▏    | 171/333 [18:45<05:20,  1.98s/it]"
     ]
    },
    {
     "name": "stdout",
     "output_type": "stream",
     "text": [
      "https://reviews.webmd.com/drugs/drugreview-18179-novolin-70-30-penfill-cartridge\n"
     ]
    },
    {
     "name": "stderr",
     "output_type": "stream",
     "text": [
      "\n",
      "  0%|          | 0/1 [00:00<?, ?it/s]\u001b[A\n",
      "100%|██████████| 1/1 [00:00<00:00,  1.94it/s]\n",
      " 52%|█████▏    | 172/333 [18:48<05:32,  2.06s/it]"
     ]
    },
    {
     "name": "stdout",
     "output_type": "stream",
     "text": [
      "https://reviews.webmd.com/drugs/drugreview-18180-novolin-n-penfill-cartridge\n"
     ]
    },
    {
     "name": "stderr",
     "output_type": "stream",
     "text": [
      " 52%|█████▏    | 173/333 [18:49<05:09,  1.93s/it]"
     ]
    },
    {
     "name": "stdout",
     "output_type": "stream",
     "text": [
      "https://reviews.webmd.com/drugs/drugreview-18181-novolin-r-penfill-cartridge\n"
     ]
    },
    {
     "name": "stderr",
     "output_type": "stream",
     "text": [
      "\n",
      "  0%|          | 0/1 [00:00<?, ?it/s]\u001b[A\n",
      "100%|██████████| 1/1 [00:00<00:00,  1.78it/s]\n",
      " 52%|█████▏    | 174/333 [18:51<05:19,  2.01s/it]"
     ]
    },
    {
     "name": "stdout",
     "output_type": "stream",
     "text": [
      "https://reviews.webmd.com/drugs/drugreview-182013-insulin-glargine-yfgn-vial\n"
     ]
    },
    {
     "name": "stderr",
     "output_type": "stream",
     "text": [
      " 53%|█████▎    | 175/333 [18:53<05:10,  1.97s/it]"
     ]
    },
    {
     "name": "stdout",
     "output_type": "stream",
     "text": [
      "https://reviews.webmd.com/drugs/drugreview-182372-semglee-yfgn-pen-insulin\n"
     ]
    },
    {
     "name": "stderr",
     "output_type": "stream",
     "text": [
      "\n",
      "  0%|          | 0/1 [00:00<?, ?it/s]\u001b[A\n",
      "100%|██████████| 1/1 [00:00<00:00,  2.10it/s]\n",
      " 53%|█████▎    | 176/333 [18:55<05:19,  2.04s/it]"
     ]
    },
    {
     "name": "stdout",
     "output_type": "stream",
     "text": [
      "https://reviews.webmd.com/drugs/drugreview-182373-semglee-yfgn-vial\n"
     ]
    },
    {
     "name": "stderr",
     "output_type": "stream",
     "text": [
      " 53%|█████▎    | 177/333 [18:57<04:57,  1.90s/it]"
     ]
    },
    {
     "name": "stdout",
     "output_type": "stream",
     "text": [
      "https://reviews.webmd.com/drugs/drugreview-183194-insulin-glargine-aglr-pen\n"
     ]
    },
    {
     "name": "stderr",
     "output_type": "stream",
     "text": [
      " 53%|█████▎    | 178/333 [18:59<04:41,  1.82s/it]"
     ]
    },
    {
     "name": "stdout",
     "output_type": "stream",
     "text": [
      "https://reviews.webmd.com/drugs/drugreview-184157-tirzepatide-pen-injector\n"
     ]
    },
    {
     "name": "stderr",
     "output_type": "stream",
     "text": [
      "\n",
      "  0%|          | 0/1 [00:00<?, ?it/s]\u001b[A\n",
      "100%|██████████| 1/1 [00:00<00:00,  1.33it/s]\n",
      " 54%|█████▍    | 179/333 [19:01<05:12,  2.03s/it]"
     ]
    },
    {
     "name": "stdout",
     "output_type": "stream",
     "text": [
      "https://reviews.webmd.com/drugs/drugreview-184168-mounjaro-pen-injector\n"
     ]
    },
    {
     "name": "stderr",
     "output_type": "stream",
     "text": [
      "\n",
      "  0%|          | 0/27 [00:00<?, ?it/s]\u001b[A\n",
      "  4%|▎         | 1/27 [00:00<00:18,  1.38it/s]\u001b[A\n",
      "  7%|▋         | 2/27 [00:02<00:28,  1.12s/it]\u001b[A\n",
      " 11%|█         | 3/27 [00:03<00:27,  1.15s/it]\u001b[A\n",
      " 15%|█▍        | 4/27 [00:04<00:27,  1.21s/it]\u001b[A\n",
      " 19%|█▊        | 5/27 [00:06<00:30,  1.38s/it]\u001b[A\n",
      " 22%|██▏       | 6/27 [00:07<00:28,  1.34s/it]\u001b[A\n",
      " 26%|██▌       | 7/27 [00:09<00:27,  1.37s/it]\u001b[A\n",
      " 30%|██▉       | 8/27 [00:10<00:25,  1.33s/it]\u001b[A\n",
      " 33%|███▎      | 9/27 [00:11<00:23,  1.33s/it]\u001b[A\n",
      " 37%|███▋      | 10/27 [00:13<00:23,  1.36s/it]\u001b[A\n",
      " 41%|████      | 11/27 [00:14<00:21,  1.32s/it]\u001b[A\n",
      " 44%|████▍     | 12/27 [00:15<00:19,  1.32s/it]\u001b[A\n",
      " 48%|████▊     | 13/27 [00:16<00:18,  1.30s/it]\u001b[A\n",
      " 52%|█████▏    | 14/27 [00:18<00:16,  1.29s/it]\u001b[A\n",
      " 56%|█████▌    | 15/27 [00:19<00:15,  1.31s/it]\u001b[A\n",
      " 59%|█████▉    | 16/27 [00:20<00:14,  1.33s/it]\u001b[A\n",
      " 63%|██████▎   | 17/27 [00:22<00:13,  1.34s/it]\u001b[A\n",
      " 67%|██████▋   | 18/27 [00:23<00:11,  1.29s/it]\u001b[A\n",
      " 70%|███████   | 19/27 [00:24<00:10,  1.32s/it]\u001b[A\n",
      " 74%|███████▍  | 20/27 [00:26<00:09,  1.33s/it]\u001b[A\n",
      " 78%|███████▊  | 21/27 [00:27<00:07,  1.30s/it]\u001b[A\n",
      " 81%|████████▏ | 22/27 [00:29<00:07,  1.46s/it]\u001b[A\n",
      " 85%|████████▌ | 23/27 [00:30<00:05,  1.40s/it]\u001b[A\n",
      " 89%|████████▉ | 24/27 [00:31<00:04,  1.36s/it]\u001b[A\n",
      " 93%|█████████▎| 25/27 [00:32<00:02,  1.35s/it]\u001b[A\n",
      " 96%|█████████▋| 26/27 [00:34<00:01,  1.31s/it]\u001b[A\n",
      "100%|██████████| 27/27 [00:35<00:00,  1.31s/it]\n",
      " 54%|█████▍    | 180/333 [19:39<32:16, 12.66s/it]"
     ]
    },
    {
     "name": "stdout",
     "output_type": "stream",
     "text": [
      "https://reviews.webmd.com/drugs/drugreview-185382-lyumjev-tempo-pen-u-100-insulin-pen-sensor\n"
     ]
    },
    {
     "name": "stderr",
     "output_type": "stream",
     "text": [
      " 54%|█████▍    | 181/333 [19:41<23:51,  9.42s/it]"
     ]
    },
    {
     "name": "stdout",
     "output_type": "stream",
     "text": [
      "https://reviews.webmd.com/drugs/drugreview-185857-bexagliflozin\n"
     ]
    },
    {
     "name": "stderr",
     "output_type": "stream",
     "text": [
      " 55%|█████▍    | 182/333 [19:42<17:59,  7.15s/it]"
     ]
    },
    {
     "name": "stdout",
     "output_type": "stream",
     "text": [
      "https://reviews.webmd.com/drugs/drugreview-186157-rezvoglar-kwikpen-insulin-pen\n"
     ]
    },
    {
     "name": "stderr",
     "output_type": "stream",
     "text": [
      " 55%|█████▍    | 183/333 [19:44<13:53,  5.56s/it]"
     ]
    },
    {
     "name": "stdout",
     "output_type": "stream",
     "text": [
      "https://reviews.webmd.com/drugs/drugreview-187319-brenzavvy\n"
     ]
    },
    {
     "name": "stderr",
     "output_type": "stream",
     "text": [
      "\n",
      "  0%|          | 0/1 [00:00<?, ?it/s]\u001b[A\n",
      "100%|██████████| 1/1 [00:00<00:00,  1.93it/s]\n",
      " 55%|█████▌    | 184/333 [19:46<11:20,  4.56s/it]"
     ]
    },
    {
     "name": "stdout",
     "output_type": "stream",
     "text": [
      "https://reviews.webmd.com/drugs/drugreview-187400-insulin-aspart-b3-pump-cart-cartridge\n"
     ]
    },
    {
     "name": "stderr",
     "output_type": "stream",
     "text": [
      " 56%|█████▌    | 185/333 [19:48<09:12,  3.73s/it]"
     ]
    },
    {
     "name": "stdout",
     "output_type": "stream",
     "text": [
      "https://reviews.webmd.com/drugs/drugreview-187431-fiasp-pumpcart-cartridge\n"
     ]
    },
    {
     "name": "stderr",
     "output_type": "stream",
     "text": [
      " 56%|█████▌    | 186/333 [19:50<07:36,  3.10s/it]"
     ]
    },
    {
     "name": "stdout",
     "output_type": "stream",
     "text": [
      "https://reviews.webmd.com/drugs/drugreview-187692-sitagliptin\n"
     ]
    },
    {
     "name": "stderr",
     "output_type": "stream",
     "text": [
      " 56%|█████▌    | 187/333 [19:51<06:26,  2.65s/it]"
     ]
    },
    {
     "name": "stdout",
     "output_type": "stream",
     "text": [
      "https://reviews.webmd.com/drugs/drugreview-187793-tirzepatide-weight-loss-pen-injector\n"
     ]
    },
    {
     "name": "stderr",
     "output_type": "stream",
     "text": [
      " 56%|█████▋    | 188/333 [19:53<05:45,  2.39s/it]"
     ]
    },
    {
     "name": "stdout",
     "output_type": "stream",
     "text": [
      "https://reviews.webmd.com/drugs/drugreview-187794-zepbound-pen-injector\n"
     ]
    },
    {
     "name": "stderr",
     "output_type": "stream",
     "text": [
      "\n",
      "  0%|          | 0/1 [00:00<?, ?it/s]\u001b[A\n",
      "100%|██████████| 1/1 [00:00<00:00,  2.01it/s]\n",
      " 57%|█████▋    | 189/333 [19:55<05:36,  2.34s/it]"
     ]
    },
    {
     "name": "stdout",
     "output_type": "stream",
     "text": [
      "https://reviews.webmd.com/drugs/drugreview-187968-zituvio\n"
     ]
    },
    {
     "name": "stderr",
     "output_type": "stream",
     "text": [
      " 57%|█████▋    | 190/333 [19:57<05:03,  2.12s/it]"
     ]
    },
    {
     "name": "stdout",
     "output_type": "stream",
     "text": [
      "https://reviews.webmd.com/drugs/drugreview-19822-glucovance-tablet\n"
     ]
    },
    {
     "name": "stderr",
     "output_type": "stream",
     "text": [
      "\n",
      "  0%|          | 0/2 [00:00<?, ?it/s]\u001b[A\n",
      " 50%|█████     | 1/2 [00:00<00:00,  1.45it/s]\u001b[A\n",
      "100%|██████████| 2/2 [00:01<00:00,  1.19it/s]\n",
      " 57%|█████▋    | 191/333 [20:01<05:59,  2.53s/it]"
     ]
    },
    {
     "name": "stdout",
     "output_type": "stream",
     "text": [
      "https://reviews.webmd.com/drugs/drugreview-19823-glyburide-metformin-hcl\n"
     ]
    },
    {
     "name": "stderr",
     "output_type": "stream",
     "text": [
      "\n",
      "  0%|          | 0/2 [00:00<?, ?it/s]\u001b[A\n",
      " 50%|█████     | 1/2 [00:00<00:00,  1.06it/s]\u001b[A\n",
      "100%|██████████| 2/2 [00:01<00:00,  1.05it/s]\n",
      " 58%|█████▊    | 192/333 [20:05<07:00,  2.98s/it]"
     ]
    },
    {
     "name": "stdout",
     "output_type": "stream",
     "text": [
      "https://reviews.webmd.com/drugs/drugreview-19895-relion-n-innolet-suspension\n"
     ]
    },
    {
     "name": "stderr",
     "output_type": "stream",
     "text": [
      " 58%|█████▊    | 193/333 [20:06<05:56,  2.55s/it]"
     ]
    },
    {
     "name": "stdout",
     "output_type": "stream",
     "text": [
      "https://reviews.webmd.com/drugs/drugreview-19896-relion-r-solution\n"
     ]
    },
    {
     "name": "stderr",
     "output_type": "stream",
     "text": [
      " 58%|█████▊    | 194/333 [20:08<05:20,  2.31s/it]"
     ]
    },
    {
     "name": "stdout",
     "output_type": "stream",
     "text": [
      "https://reviews.webmd.com/drugs/drugreview-19897-insulin-70-30-suspension\n"
     ]
    },
    {
     "name": "stderr",
     "output_type": "stream",
     "text": [
      " 59%|█████▊    | 195/333 [20:10<04:59,  2.17s/it]"
     ]
    },
    {
     "name": "stdout",
     "output_type": "stream",
     "text": [
      "https://reviews.webmd.com/drugs/drugreview-20009-glucophage-xr-tablet-er-24-hr\n"
     ]
    },
    {
     "name": "stderr",
     "output_type": "stream",
     "text": [
      "\n",
      "  0%|          | 0/2 [00:00<?, ?it/s]\u001b[A\n",
      " 50%|█████     | 1/2 [00:00<00:00,  1.31it/s]\u001b[A\n",
      "100%|██████████| 2/2 [00:01<00:00,  1.10it/s]\n",
      " 59%|█████▉    | 196/333 [20:14<06:10,  2.70s/it]"
     ]
    },
    {
     "name": "stdout",
     "output_type": "stream",
     "text": [
      "https://reviews.webmd.com/drugs/drugreview-20224-humalog-mix-75-25-vial\n"
     ]
    },
    {
     "name": "stderr",
     "output_type": "stream",
     "text": [
      "\n",
      "  0%|          | 0/1 [00:00<?, ?it/s]\u001b[A\n",
      "100%|██████████| 1/1 [00:00<00:00,  1.23it/s]\n",
      " 59%|█████▉    | 197/333 [20:16<06:05,  2.69s/it]"
     ]
    },
    {
     "name": "stdout",
     "output_type": "stream",
     "text": [
      "https://reviews.webmd.com/drugs/drugreview-20312-starlix\n"
     ]
    },
    {
     "name": "stderr",
     "output_type": "stream",
     "text": [
      "\n",
      "  0%|          | 0/2 [00:00<?, ?it/s]\u001b[A\n",
      " 50%|█████     | 1/2 [00:00<00:00,  1.25it/s]\u001b[A\n",
      "100%|██████████| 2/2 [00:01<00:00,  1.09it/s]\n",
      " 59%|█████▉    | 198/333 [20:20<06:59,  3.10s/it]"
     ]
    },
    {
     "name": "stdout",
     "output_type": "stream",
     "text": [
      "https://reviews.webmd.com/drugs/drugreview-20313-nateglinide\n"
     ]
    },
    {
     "name": "stderr",
     "output_type": "stream",
     "text": [
      "\n",
      "  0%|          | 0/1 [00:00<?, ?it/s]\u001b[A\n",
      "100%|██████████| 1/1 [00:00<00:00,  1.48it/s]\n",
      " 60%|█████▉    | 199/333 [20:23<06:29,  2.90s/it]"
     ]
    },
    {
     "name": "stdout",
     "output_type": "stream",
     "text": [
      "https://reviews.webmd.com/drugs/drugreview-20805-insulin-glargine-solostar-pen\n"
     ]
    },
    {
     "name": "stderr",
     "output_type": "stream",
     "text": [
      "\n",
      "  0%|          | 0/1 [00:00<?, ?it/s]\u001b[A\n",
      "100%|██████████| 1/1 [00:00<00:00,  1.66it/s]\n",
      " 60%|██████    | 200/333 [20:25<06:02,  2.72s/it]"
     ]
    },
    {
     "name": "stdout",
     "output_type": "stream",
     "text": [
      "https://reviews.webmd.com/drugs/drugreview-20815-lantus-vial\n"
     ]
    },
    {
     "name": "stderr",
     "output_type": "stream",
     "text": [
      "\n",
      "  0%|          | 0/6 [00:00<?, ?it/s]\u001b[A\n",
      " 17%|█▋        | 1/6 [00:00<00:04,  1.23it/s]\u001b[A\n",
      " 33%|███▎      | 2/6 [00:02<00:04,  1.16s/it]\u001b[A\n",
      " 50%|█████     | 3/6 [00:03<00:03,  1.20s/it]\u001b[A\n",
      " 67%|██████▋   | 4/6 [00:04<00:02,  1.27s/it]\u001b[A\n",
      " 83%|████████▎ | 5/6 [00:06<00:01,  1.26s/it]\u001b[A\n",
      "100%|██████████| 6/6 [00:07<00:00,  1.23s/it]\n",
      " 60%|██████    | 201/333 [20:35<10:39,  4.85s/it]"
     ]
    },
    {
     "name": "stdout",
     "output_type": "stream",
     "text": [
      "https://reviews.webmd.com/drugs/drugreview-21774-insulin-aspart-penfill-cartridge\n"
     ]
    },
    {
     "name": "stderr",
     "output_type": "stream",
     "text": [
      "\n",
      "  0%|          | 0/1 [00:00<?, ?it/s]\u001b[A\n",
      "100%|██████████| 1/1 [00:00<00:00,  2.05it/s]\n",
      " 61%|██████    | 202/333 [20:37<08:50,  4.05s/it]"
     ]
    },
    {
     "name": "stdout",
     "output_type": "stream",
     "text": [
      "https://reviews.webmd.com/drugs/drugreview-21781-novolog-vial\n"
     ]
    },
    {
     "name": "stderr",
     "output_type": "stream",
     "text": [
      "\n",
      "  0%|          | 0/2 [00:00<?, ?it/s]\u001b[A\n",
      " 50%|█████     | 1/2 [00:00<00:00,  1.32it/s]\u001b[A\n",
      "100%|██████████| 2/2 [00:01<00:00,  1.01it/s]\n",
      " 61%|██████    | 203/333 [20:41<08:50,  4.08s/it]"
     ]
    },
    {
     "name": "stdout",
     "output_type": "stream",
     "text": [
      "https://reviews.webmd.com/drugs/drugreview-3365-insulin-purified-regularpork-solution\n"
     ]
    },
    {
     "name": "stderr",
     "output_type": "stream",
     "text": [
      " 61%|██████▏   | 204/333 [20:43<07:15,  3.38s/it]"
     ]
    },
    {
     "name": "stdout",
     "output_type": "stream",
     "text": [
      "https://reviews.webmd.com/drugs/drugreview-3448-humulin-70-30-vial\n"
     ]
    },
    {
     "name": "stderr",
     "output_type": "stream",
     "text": [
      "\n",
      "  0%|          | 0/1 [00:00<?, ?it/s]\u001b[A\n",
      "100%|██████████| 1/1 [00:00<00:00,  1.58it/s]\n",
      " 62%|██████▏   | 205/333 [20:46<06:58,  3.27s/it]"
     ]
    },
    {
     "name": "stdout",
     "output_type": "stream",
     "text": [
      "https://reviews.webmd.com/drugs/drugreview-3486-insulin-lispro-kwikpen-u-100-pen\n"
     ]
    },
    {
     "name": "stderr",
     "output_type": "stream",
     "text": [
      "\n",
      "  0%|          | 0/1 [00:00<?, ?it/s]\u001b[A\n",
      "100%|██████████| 1/1 [00:00<00:00,  1.70it/s]\n",
      " 62%|██████▏   | 206/333 [20:49<06:51,  3.24s/it]"
     ]
    },
    {
     "name": "stdout",
     "output_type": "stream",
     "text": [
      "https://reviews.webmd.com/drugs/drugreview-3773-diabeta-tablet\n"
     ]
    },
    {
     "name": "stderr",
     "output_type": "stream",
     "text": [
      "\n",
      "  0%|          | 0/1 [00:00<?, ?it/s]\u001b[A\n",
      "100%|██████████| 1/1 [00:00<00:00,  1.83it/s]\n",
      " 62%|██████▏   | 207/333 [20:52<06:15,  2.98s/it]"
     ]
    },
    {
     "name": "stdout",
     "output_type": "stream",
     "text": [
      "https://reviews.webmd.com/drugs/drugreview-3917-glyburide\n"
     ]
    },
    {
     "name": "stderr",
     "output_type": "stream",
     "text": [
      "\n",
      "  0%|          | 0/6 [00:00<?, ?it/s]\u001b[A\n",
      " 17%|█▋        | 1/6 [00:00<00:04,  1.22it/s]\u001b[A\n",
      " 33%|███▎      | 2/6 [00:02<00:04,  1.12s/it]\u001b[A\n",
      " 50%|█████     | 3/6 [00:03<00:03,  1.19s/it]\u001b[A\n",
      " 67%|██████▋   | 4/6 [00:04<00:02,  1.30s/it]\u001b[A\n",
      " 83%|████████▎ | 5/6 [00:06<00:01,  1.30s/it]\u001b[A\n",
      "100%|██████████| 6/6 [00:07<00:00,  1.20s/it]\n",
      " 63%|██████▎   | 209/333 [21:02<07:49,  3.78s/it]"
     ]
    },
    {
     "name": "stdout",
     "output_type": "stream",
     "text": [
      "skipping https://reviews.webmd.com/drugs/drugreview-3948-tolbutamide-tablet: page not found\n",
      "https://reviews.webmd.com/drugs/drugreview-5205-glyburide-micronized\n"
     ]
    },
    {
     "name": "stderr",
     "output_type": "stream",
     "text": [
      "\n",
      "  0%|          | 0/1 [00:00<?, ?it/s]\u001b[A\n",
      "100%|██████████| 1/1 [00:00<00:00,  1.79it/s]\n",
      " 63%|██████▎   | 210/333 [21:05<06:53,  3.36s/it]"
     ]
    },
    {
     "name": "stdout",
     "output_type": "stream",
     "text": [
      "https://reviews.webmd.com/drugs/drugreview-5207-acarbose\n"
     ]
    },
    {
     "name": "stderr",
     "output_type": "stream",
     "text": [
      "\n",
      "  0%|          | 0/2 [00:00<?, ?it/s]\u001b[A\n",
      " 50%|█████     | 1/2 [00:00<00:00,  1.23it/s]\u001b[A\n",
      "100%|██████████| 2/2 [00:01<00:00,  1.05it/s]\n",
      " 63%|██████▎   | 211/333 [21:08<07:07,  3.50s/it]"
     ]
    },
    {
     "name": "stdout",
     "output_type": "stream",
     "text": [
      "https://reviews.webmd.com/drugs/drugreview-5218-humulin-r-vial\n"
     ]
    },
    {
     "name": "stderr",
     "output_type": "stream",
     "text": [
      "\n",
      "  0%|          | 0/1 [00:00<?, ?it/s]\u001b[A\n",
      "100%|██████████| 1/1 [00:00<00:00,  1.74it/s]\n",
      " 64%|██████▎   | 212/333 [21:11<06:29,  3.22s/it]"
     ]
    },
    {
     "name": "stdout",
     "output_type": "stream",
     "text": [
      "https://reviews.webmd.com/drugs/drugreview-5233-insulin-regular-human-solution\n"
     ]
    },
    {
     "name": "stderr",
     "output_type": "stream",
     "text": [
      "\n",
      "  0%|          | 0/1 [00:00<?, ?it/s]\u001b[A\n",
      "100%|██████████| 1/1 [00:00<00:00,  1.53it/s]\n",
      " 64%|██████▍   | 213/333 [21:13<05:57,  2.98s/it]"
     ]
    },
    {
     "name": "stdout",
     "output_type": "stream",
     "text": [
      "https://reviews.webmd.com/drugs/drugreview-5235-glynase\n"
     ]
    },
    {
     "name": "stderr",
     "output_type": "stream",
     "text": [
      "\n",
      "  0%|          | 0/1 [00:00<?, ?it/s]\u001b[A\n",
      "100%|██████████| 1/1 [00:00<00:00,  1.98it/s]\n",
      " 64%|██████▍   | 214/333 [21:16<05:30,  2.78s/it]"
     ]
    },
    {
     "name": "stdout",
     "output_type": "stream",
     "text": [
      "https://reviews.webmd.com/drugs/drugreview-5250-precose\n"
     ]
    },
    {
     "name": "stderr",
     "output_type": "stream",
     "text": [
      "\n",
      "  0%|          | 0/1 [00:00<?, ?it/s]\u001b[A\n",
      "100%|██████████| 1/1 [00:00<00:00,  1.52it/s]\n",
      " 65%|██████▍   | 215/333 [21:18<05:13,  2.66s/it]"
     ]
    },
    {
     "name": "stdout",
     "output_type": "stream",
     "text": [
      "https://reviews.webmd.com/drugs/drugreview-53435-velosulin-r-solution\n"
     ]
    },
    {
     "name": "stderr",
     "output_type": "stream",
     "text": [
      " 65%|██████▍   | 216/333 [21:20<04:30,  2.31s/it]"
     ]
    },
    {
     "name": "stdout",
     "output_type": "stream",
     "text": [
      "https://reviews.webmd.com/drugs/drugreview-53436-insulin-r-purified-pork-solution\n"
     ]
    },
    {
     "name": "stderr",
     "output_type": "stream",
     "text": [
      " 65%|██████▌   | 217/333 [21:22<04:28,  2.31s/it]"
     ]
    },
    {
     "name": "stdout",
     "output_type": "stream",
     "text": [
      "https://reviews.webmd.com/drugs/drugreview-53437-purified-pork-insulin-solution\n"
     ]
    },
    {
     "name": "stderr",
     "output_type": "stream",
     "text": [
      " 65%|██████▌   | 218/333 [21:24<04:04,  2.12s/it]"
     ]
    },
    {
     "name": "stdout",
     "output_type": "stream",
     "text": [
      "https://reviews.webmd.com/drugs/drugreview-53438-insulin-regular-purified-pork-solution\n"
     ]
    },
    {
     "name": "stderr",
     "output_type": "stream",
     "text": [
      " 66%|██████▌   | 219/333 [21:26<04:09,  2.18s/it]"
     ]
    },
    {
     "name": "stdout",
     "output_type": "stream",
     "text": [
      "https://reviews.webmd.com/drugs/drugreview-53439-iletin-ii-regularpork-solution\n"
     ]
    },
    {
     "name": "stderr",
     "output_type": "stream",
     "text": [
      " 66%|██████▌   | 220/333 [21:28<03:56,  2.10s/it]"
     ]
    },
    {
     "name": "stdout",
     "output_type": "stream",
     "text": [
      "https://reviews.webmd.com/drugs/drugreview-53440-insulatard-n-suspension\n"
     ]
    },
    {
     "name": "stderr",
     "output_type": "stream",
     "text": [
      " 66%|██████▋   | 221/333 [21:29<03:36,  1.93s/it]"
     ]
    },
    {
     "name": "stdout",
     "output_type": "stream",
     "text": [
      "https://reviews.webmd.com/drugs/drugreview-53441-insulin-n-purified-pork-suspension\n"
     ]
    },
    {
     "name": "stderr",
     "output_type": "stream",
     "text": [
      " 67%|██████▋   | 222/333 [21:31<03:26,  1.86s/it]"
     ]
    },
    {
     "name": "stdout",
     "output_type": "stream",
     "text": [
      "https://reviews.webmd.com/drugs/drugreview-53442-insulin-nph-purified-pork-suspension\n"
     ]
    },
    {
     "name": "stderr",
     "output_type": "stream",
     "text": [
      " 67%|██████▋   | 223/333 [21:33<03:24,  1.86s/it]"
     ]
    },
    {
     "name": "stdout",
     "output_type": "stream",
     "text": [
      "https://reviews.webmd.com/drugs/drugreview-53443-iletin-ii-regularpork-suspension\n"
     ]
    },
    {
     "name": "stderr",
     "output_type": "stream",
     "text": [
      " 67%|██████▋   | 224/333 [21:35<03:25,  1.89s/it]"
     ]
    },
    {
     "name": "stdout",
     "output_type": "stream",
     "text": [
      "https://reviews.webmd.com/drugs/drugreview-53444-insulin-l-pork-purified-suspension\n"
     ]
    },
    {
     "name": "stderr",
     "output_type": "stream",
     "text": [
      " 68%|██████▊   | 225/333 [21:37<03:26,  1.91s/it]"
     ]
    },
    {
     "name": "stdout",
     "output_type": "stream",
     "text": [
      "https://reviews.webmd.com/drugs/drugreview-53445-insulin-r-pork-purified-suspension\n"
     ]
    },
    {
     "name": "stderr",
     "output_type": "stream",
     "text": [
      " 68%|██████▊   | 226/333 [21:39<03:17,  1.85s/it]"
     ]
    },
    {
     "name": "stdout",
     "output_type": "stream",
     "text": [
      "https://reviews.webmd.com/drugs/drugreview-53446-iletin-ii-nphpork-suspension\n"
     ]
    },
    {
     "name": "stderr",
     "output_type": "stream",
     "text": [
      " 68%|██████▊   | 228/333 [21:41<02:44,  1.57s/it]"
     ]
    },
    {
     "name": "stdout",
     "output_type": "stream",
     "text": [
      "skipping https://reviews.webmd.com/drugs/drugreview-53447-insulin-l-purified-pork-suspension: page not found\n"
     ]
    },
    {
     "name": "stderr",
     "output_type": "stream",
     "text": [
      " 69%|██████▉   | 229/333 [21:42<02:26,  1.41s/it]"
     ]
    },
    {
     "name": "stdout",
     "output_type": "stream",
     "text": [
      "skipping https://reviews.webmd.com/drugs/drugreview-53448-insulin-lente-purified-pork-suspension: page not found\n"
     ]
    },
    {
     "name": "stderr",
     "output_type": "stream",
     "text": [
      " 69%|██████▉   | 230/333 [21:44<02:20,  1.36s/it]"
     ]
    },
    {
     "name": "stdout",
     "output_type": "stream",
     "text": [
      "skipping https://reviews.webmd.com/drugs/drugreview-53449-velosulin-human-r-solution: page not found\n"
     ]
    },
    {
     "name": "stderr",
     "output_type": "stream",
     "text": [
      " 69%|██████▉   | 231/333 [21:44<02:06,  1.24s/it]"
     ]
    },
    {
     "name": "stdout",
     "output_type": "stream",
     "text": [
      "skipping https://reviews.webmd.com/drugs/drugreview-53450-velosulin-human-br-solution: page not found\n"
     ]
    },
    {
     "name": "stderr",
     "output_type": "stream",
     "text": [
      " 70%|██████▉   | 232/333 [21:45<01:57,  1.16s/it]"
     ]
    },
    {
     "name": "stdout",
     "output_type": "stream",
     "text": [
      "skipping https://reviews.webmd.com/drugs/drugreview-53451-velosulin-human-solution: page not found\n"
     ]
    },
    {
     "name": "stderr",
     "output_type": "stream",
     "text": [
      " 70%|██████▉   | 233/333 [21:47<01:52,  1.13s/it]"
     ]
    },
    {
     "name": "stdout",
     "output_type": "stream",
     "text": [
      "skipping https://reviews.webmd.com/drugs/drugreview-53452-humulin-br-solution: page not found\n"
     ]
    },
    {
     "name": "stderr",
     "output_type": "stream",
     "text": [
      " 70%|███████   | 234/333 [21:48<01:50,  1.12s/it]"
     ]
    },
    {
     "name": "stdout",
     "output_type": "stream",
     "text": [
      "skipping https://reviews.webmd.com/drugs/drugreview-53453-glucamide-tablet: page not found\n"
     ]
    },
    {
     "name": "stderr",
     "output_type": "stream",
     "text": [
      " 71%|███████   | 235/333 [21:49<01:52,  1.15s/it]"
     ]
    },
    {
     "name": "stdout",
     "output_type": "stream",
     "text": [
      "skipping https://reviews.webmd.com/drugs/drugreview-53454-dibatrol-tablet: page not found\n"
     ]
    },
    {
     "name": "stderr",
     "output_type": "stream",
     "text": [
      " 71%|███████   | 236/333 [21:50<01:47,  1.10s/it]"
     ]
    },
    {
     "name": "stdout",
     "output_type": "stream",
     "text": [
      "skipping https://reviews.webmd.com/drugs/drugreview-53455-chlorabetic-tablet: page not found\n"
     ]
    },
    {
     "name": "stderr",
     "output_type": "stream",
     "text": [
      " 71%|███████   | 237/333 [21:51<01:51,  1.17s/it]"
     ]
    },
    {
     "name": "stdout",
     "output_type": "stream",
     "text": [
      "skipping https://reviews.webmd.com/drugs/drugreview-53456-ronase-tablet: page not found\n"
     ]
    },
    {
     "name": "stderr",
     "output_type": "stream",
     "text": [
      " 71%|███████▏  | 238/333 [21:52<01:46,  1.13s/it]"
     ]
    },
    {
     "name": "stdout",
     "output_type": "stream",
     "text": [
      "skipping https://reviews.webmd.com/drugs/drugreview-53457-tolamide-tablet: page not found\n"
     ]
    },
    {
     "name": "stderr",
     "output_type": "stream",
     "text": [
      " 72%|███████▏  | 239/333 [21:53<01:45,  1.13s/it]"
     ]
    },
    {
     "name": "stdout",
     "output_type": "stream",
     "text": [
      "skipping https://reviews.webmd.com/drugs/drugreview-53458-sk-tolbutamide-tablet: page not found\n"
     ]
    },
    {
     "name": "stderr",
     "output_type": "stream",
     "text": [
      " 72%|███████▏  | 240/333 [21:54<01:42,  1.11s/it]"
     ]
    },
    {
     "name": "stdout",
     "output_type": "stream",
     "text": [
      "skipping https://reviews.webmd.com/drugs/drugreview-53459-icn-tolam-tablet: page not found\n"
     ]
    },
    {
     "name": "stderr",
     "output_type": "stream",
     "text": [
      " 72%|███████▏  | 241/333 [21:55<01:42,  1.11s/it]"
     ]
    },
    {
     "name": "stdout",
     "output_type": "stream",
     "text": [
      "skipping https://reviews.webmd.com/drugs/drugreview-53460-oribetic-tablet: page not found\n",
      "https://reviews.webmd.com/drugs/drugreview-5953-humulin-n-vial\n"
     ]
    },
    {
     "name": "stderr",
     "output_type": "stream",
     "text": [
      "\n",
      "  0%|          | 0/1 [00:00<?, ?it/s]\u001b[A\n",
      "100%|██████████| 1/1 [00:00<00:00,  1.63it/s]\n",
      " 73%|███████▎  | 243/333 [21:59<02:01,  1.35s/it]"
     ]
    },
    {
     "name": "stdout",
     "output_type": "stream",
     "text": [
      "skipping https://reviews.webmd.com/drugs/drugreview-6021-insulin-zinc-human-recomb-suspension: page not found\n"
     ]
    },
    {
     "name": "stderr",
     "output_type": "stream",
     "text": [
      " 73%|███████▎  | 244/333 [22:00<01:50,  1.24s/it]"
     ]
    },
    {
     "name": "stdout",
     "output_type": "stream",
     "text": [
      "skipping https://reviews.webmd.com/drugs/drugreview-6154-tolinase-tablet: page not found\n",
      "https://reviews.webmd.com/drugs/drugreview-6158-insulin-nph-isoph-u-human-suspension\n"
     ]
    },
    {
     "name": "stderr",
     "output_type": "stream",
     "text": [
      "\n",
      "  0%|          | 0/1 [00:00<?, ?it/s]\u001b[A\n",
      "100%|██████████| 1/1 [00:00<00:00,  1.90it/s]\n",
      " 74%|███████▎  | 245/333 [22:02<02:14,  1.53s/it]"
     ]
    },
    {
     "name": "stdout",
     "output_type": "stream",
     "text": [
      "https://reviews.webmd.com/drugs/drugreview-6159-insulin-nph-and-regular-human-suspension\n"
     ]
    },
    {
     "name": "stderr",
     "output_type": "stream",
     "text": [
      "\n",
      "  0%|          | 0/1 [00:00<?, ?it/s]\u001b[A\n",
      "100%|██████████| 1/1 [00:00<00:00,  2.08it/s]\n",
      " 74%|███████▍  | 247/333 [22:05<02:15,  1.57s/it]"
     ]
    },
    {
     "name": "stdout",
     "output_type": "stream",
     "text": [
      "skipping https://reviews.webmd.com/drugs/drugreview-6237-orinase-tablet: page not found\n",
      "https://reviews.webmd.com/drugs/drugreview-63178-humulin-suspension\n"
     ]
    },
    {
     "name": "stderr",
     "output_type": "stream",
     "text": [
      " 75%|███████▍  | 249/333 [22:08<01:59,  1.42s/it]"
     ]
    },
    {
     "name": "stdout",
     "output_type": "stream",
     "text": [
      "skipping https://reviews.webmd.com/drugs/drugreview-63549-insulin-beef-solution: page not found\n"
     ]
    },
    {
     "name": "stderr",
     "output_type": "stream",
     "text": [
      " 75%|███████▌  | 250/333 [22:09<01:52,  1.35s/it]"
     ]
    },
    {
     "name": "stdout",
     "output_type": "stream",
     "text": [
      "skipping https://reviews.webmd.com/drugs/drugreview-63550-insulin-regular-human-semi-syn-cartridge: page not found\n"
     ]
    },
    {
     "name": "stderr",
     "output_type": "stream",
     "text": [
      " 75%|███████▌  | 251/333 [22:10<01:42,  1.24s/it]"
     ]
    },
    {
     "name": "stdout",
     "output_type": "stream",
     "text": [
      "skipping https://reviews.webmd.com/drugs/drugreview-63552-insulin-pork-solution: page not found\n",
      "https://reviews.webmd.com/drugs/drugreview-63742-insulin-70-30-innolet-suspension\n"
     ]
    },
    {
     "name": "stderr",
     "output_type": "stream",
     "text": [
      " 76%|███████▌  | 252/333 [22:12<01:54,  1.42s/it]"
     ]
    },
    {
     "name": "stdout",
     "output_type": "stream",
     "text": [
      "https://reviews.webmd.com/drugs/drugreview-64070-insulin-aspart-prot-mix-70-30-pen\n"
     ]
    },
    {
     "name": "stderr",
     "output_type": "stream",
     "text": [
      "\n",
      "  0%|          | 0/1 [00:00<?, ?it/s]\u001b[A\n",
      "100%|██████████| 1/1 [00:00<00:00,  2.22it/s]\n",
      " 76%|███████▌  | 253/333 [22:14<02:13,  1.67s/it]"
     ]
    },
    {
     "name": "stdout",
     "output_type": "stream",
     "text": [
      "https://reviews.webmd.com/drugs/drugreview-64071-novolog-mix-70-30-vial\n"
     ]
    },
    {
     "name": "stderr",
     "output_type": "stream",
     "text": [
      "\n",
      "  0%|          | 0/1 [00:00<?, ?it/s]\u001b[A\n",
      "100%|██████████| 1/1 [00:00<00:00,  1.89it/s]\n",
      " 77%|███████▋  | 255/333 [22:17<02:00,  1.54s/it]"
     ]
    },
    {
     "name": "stdout",
     "output_type": "stream",
     "text": [
      "skipping https://reviews.webmd.com/drugs/drugreview-64227-insulin-regular-pork-conc-solution: page not found\n"
     ]
    },
    {
     "name": "stderr",
     "output_type": "stream",
     "text": [
      " 77%|███████▋  | 256/333 [22:19<01:54,  1.49s/it]"
     ]
    },
    {
     "name": "stdout",
     "output_type": "stream",
     "text": [
      "skipping https://reviews.webmd.com/drugs/drugreview-64253-rosiglitazone-metformin-tablet: page not found\n"
     ]
    },
    {
     "name": "stderr",
     "output_type": "stream",
     "text": [
      " 77%|███████▋  | 257/333 [22:20<01:43,  1.37s/it]"
     ]
    },
    {
     "name": "stdout",
     "output_type": "stream",
     "text": [
      "skipping https://reviews.webmd.com/drugs/drugreview-64261-avandamet-tablet: page not found\n",
      "https://reviews.webmd.com/drugs/drugreview-64318-glipizide-metformin\n"
     ]
    },
    {
     "name": "stderr",
     "output_type": "stream",
     "text": [
      "\n",
      "  0%|          | 0/1 [00:00<?, ?it/s]\u001b[A\n",
      "100%|██████████| 1/1 [00:00<00:00,  1.23it/s]\n",
      " 77%|███████▋  | 258/333 [22:23<02:16,  1.82s/it]"
     ]
    },
    {
     "name": "stdout",
     "output_type": "stream",
     "text": [
      "https://reviews.webmd.com/drugs/drugreview-64323-metaglip-tablet\n"
     ]
    },
    {
     "name": "stderr",
     "output_type": "stream",
     "text": [
      "\n",
      "  0%|          | 0/1 [00:00<?, ?it/s]\u001b[A\n",
      "100%|██████████| 1/1 [00:00<00:00,  1.93it/s]\n",
      " 78%|███████▊  | 260/333 [22:26<02:05,  1.71s/it]"
     ]
    },
    {
     "name": "stdout",
     "output_type": "stream",
     "text": [
      "skipping https://reviews.webmd.com/drugs/drugreview-64670-insulin-nph-regular-hum-s-syn-cartridge: page not found\n"
     ]
    },
    {
     "name": "stderr",
     "output_type": "stream",
     "text": [
      " 78%|███████▊  | 261/333 [22:27<01:48,  1.50s/it]"
     ]
    },
    {
     "name": "stdout",
     "output_type": "stream",
     "text": [
      "skipping https://reviews.webmd.com/drugs/drugreview-64671-insulin-nph-regular-pork-pure-solution: page not found\n"
     ]
    },
    {
     "name": "stderr",
     "output_type": "stream",
     "text": [
      " 79%|███████▊  | 262/333 [22:28<01:36,  1.36s/it]"
     ]
    },
    {
     "name": "stdout",
     "output_type": "stream",
     "text": [
      "skipping https://reviews.webmd.com/drugs/drugreview-64672-insulin-protamine-zinc-beef-suspension: page not found\n"
     ]
    },
    {
     "name": "stderr",
     "output_type": "stream",
     "text": [
      " 79%|███████▉  | 263/333 [22:29<01:29,  1.27s/it]"
     ]
    },
    {
     "name": "stdout",
     "output_type": "stream",
     "text": [
      "skipping https://reviews.webmd.com/drugs/drugreview-64673-insulin-protamine-zn-beef-pure-suspension: page not found\n"
     ]
    },
    {
     "name": "stderr",
     "output_type": "stream",
     "text": [
      " 79%|███████▉  | 264/333 [22:30<01:23,  1.20s/it]"
     ]
    },
    {
     "name": "stdout",
     "output_type": "stream",
     "text": [
      "skipping https://reviews.webmd.com/drugs/drugreview-64674-insulin-protamine-zn-pork-pure-suspension: page not found\n"
     ]
    },
    {
     "name": "stderr",
     "output_type": "stream",
     "text": [
      " 80%|███████▉  | 265/333 [22:32<01:19,  1.17s/it]"
     ]
    },
    {
     "name": "stdout",
     "output_type": "stream",
     "text": [
      "skipping https://reviews.webmd.com/drugs/drugreview-64675-insulin-protamine-zn-beef-pork-suspension: page not found\n"
     ]
    },
    {
     "name": "stderr",
     "output_type": "stream",
     "text": [
      " 80%|███████▉  | 266/333 [22:33<01:15,  1.12s/it]"
     ]
    },
    {
     "name": "stdout",
     "output_type": "stream",
     "text": [
      "skipping https://reviews.webmd.com/drugs/drugreview-64676-insulin-isophane-beef-suspension: page not found\n"
     ]
    },
    {
     "name": "stderr",
     "output_type": "stream",
     "text": [
      " 80%|████████  | 267/333 [22:33<01:09,  1.05s/it]"
     ]
    },
    {
     "name": "stdout",
     "output_type": "stream",
     "text": [
      "skipping https://reviews.webmd.com/drugs/drugreview-64677-insulin-isophane-beef-pure-suspension: page not found\n",
      "https://reviews.webmd.com/drugs/drugreview-64678-insulin-nph-human-semi-syn-suspension\n"
     ]
    },
    {
     "name": "stderr",
     "output_type": "stream",
     "text": [
      "\n",
      "  0%|          | 0/1 [00:00<?, ?it/s]\u001b[A\n",
      "100%|██████████| 1/1 [00:00<00:00,  1.96it/s]\n",
      " 81%|████████  | 269/333 [22:37<01:27,  1.37s/it]"
     ]
    },
    {
     "name": "stdout",
     "output_type": "stream",
     "text": [
      "skipping https://reviews.webmd.com/drugs/drugreview-64679-ins-zn-bf-pure-ins-pk-pure-suspension: page not found\n"
     ]
    },
    {
     "name": "stderr",
     "output_type": "stream",
     "text": [
      " 81%|████████  | 270/333 [22:38<01:19,  1.25s/it]"
     ]
    },
    {
     "name": "stdout",
     "output_type": "stream",
     "text": [
      "skipping https://reviews.webmd.com/drugs/drugreview-64680-insulin-zinc-beef-suspension: page not found\n"
     ]
    },
    {
     "name": "stderr",
     "output_type": "stream",
     "text": [
      " 81%|████████▏ | 271/333 [22:39<01:14,  1.21s/it]"
     ]
    },
    {
     "name": "stdout",
     "output_type": "stream",
     "text": [
      "skipping https://reviews.webmd.com/drugs/drugreview-64681-insulin-zinc-beef-purified-suspension: page not found\n"
     ]
    },
    {
     "name": "stderr",
     "output_type": "stream",
     "text": [
      " 82%|████████▏ | 272/333 [22:40<01:09,  1.14s/it]"
     ]
    },
    {
     "name": "stdout",
     "output_type": "stream",
     "text": [
      "skipping https://reviews.webmd.com/drugs/drugreview-64682-insulin-zinc-human-semi-syn-suspension: page not found\n"
     ]
    },
    {
     "name": "stderr",
     "output_type": "stream",
     "text": [
      " 82%|████████▏ | 273/333 [22:41<01:05,  1.09s/it]"
     ]
    },
    {
     "name": "stdout",
     "output_type": "stream",
     "text": [
      "skipping https://reviews.webmd.com/drugs/drugreview-64683-insulin-zinc-extended-beef-suspension: page not found\n"
     ]
    },
    {
     "name": "stderr",
     "output_type": "stream",
     "text": [
      " 82%|████████▏ | 274/333 [22:42<01:03,  1.08s/it]"
     ]
    },
    {
     "name": "stdout",
     "output_type": "stream",
     "text": [
      "skipping https://reviews.webmd.com/drugs/drugreview-64684-insulin-zinc-ext-beef-pure-suspension: page not found\n"
     ]
    },
    {
     "name": "stderr",
     "output_type": "stream",
     "text": [
      " 83%|████████▎ | 275/333 [22:43<01:02,  1.08s/it]"
     ]
    },
    {
     "name": "stdout",
     "output_type": "stream",
     "text": [
      "skipping https://reviews.webmd.com/drugs/drugreview-64685-insulin-zinc-ext-beef-pork-suspension: page not found\n"
     ]
    },
    {
     "name": "stderr",
     "output_type": "stream",
     "text": [
      " 83%|████████▎ | 276/333 [22:44<01:00,  1.06s/it]"
     ]
    },
    {
     "name": "stdout",
     "output_type": "stream",
     "text": [
      "skipping https://reviews.webmd.com/drugs/drugreview-64686-insulin-zinc-prompt-beef-suspension: page not found\n"
     ]
    },
    {
     "name": "stderr",
     "output_type": "stream",
     "text": [
      " 83%|████████▎ | 277/333 [22:45<00:58,  1.04s/it]"
     ]
    },
    {
     "name": "stdout",
     "output_type": "stream",
     "text": [
      "skipping https://reviews.webmd.com/drugs/drugreview-64687-insulin-zinc-prompt-pork-pure-suspension: page not found\n"
     ]
    },
    {
     "name": "stderr",
     "output_type": "stream",
     "text": [
      " 83%|████████▎ | 278/333 [22:46<00:59,  1.08s/it]"
     ]
    },
    {
     "name": "stdout",
     "output_type": "stream",
     "text": [
      "skipping https://reviews.webmd.com/drugs/drugreview-64688-insulin-zinc-prompt-beef-pork-suspension: page not found\n",
      "https://reviews.webmd.com/drugs/drugreview-64858-novolog-flexpen-insulin-pen\n"
     ]
    },
    {
     "name": "stderr",
     "output_type": "stream",
     "text": [
      "\n",
      "  0%|          | 0/3 [00:00<?, ?it/s]\u001b[A\n",
      " 33%|███▎      | 1/3 [00:00<00:01,  1.37it/s]\u001b[A\n",
      " 67%|██████▋   | 2/3 [00:02<00:01,  1.09s/it]\u001b[A\n",
      "100%|██████████| 3/3 [00:03<00:00,  1.14s/it]\n",
      " 84%|████████▍ | 279/333 [22:52<02:11,  2.43s/it]"
     ]
    },
    {
     "name": "stdout",
     "output_type": "stream",
     "text": [
      "https://reviews.webmd.com/drugs/drugreview-6614-repaglinide\n"
     ]
    },
    {
     "name": "stderr",
     "output_type": "stream",
     "text": [
      "\n",
      "  0%|          | 0/1 [00:00<?, ?it/s]\u001b[A\n",
      "100%|██████████| 1/1 [00:00<00:00,  1.95it/s]\n",
      " 84%|████████▍ | 280/333 [22:54<02:09,  2.44s/it]"
     ]
    },
    {
     "name": "stdout",
     "output_type": "stream",
     "text": [
      "https://reviews.webmd.com/drugs/drugreview-6639-prandin-tablet\n"
     ]
    },
    {
     "name": "stderr",
     "output_type": "stream",
     "text": [
      "\n",
      "  0%|          | 0/2 [00:00<?, ?it/s]\u001b[A\n",
      " 50%|█████     | 1/2 [00:00<00:00,  1.36it/s]\u001b[A\n",
      "100%|██████████| 2/2 [00:01<00:00,  1.05it/s]\n",
      " 84%|████████▍ | 281/333 [22:58<02:29,  2.88s/it]"
     ]
    },
    {
     "name": "stdout",
     "output_type": "stream",
     "text": [
      "https://reviews.webmd.com/drugs/drugreview-6836-iletin-ii-nph-pork-suspension\n"
     ]
    },
    {
     "name": "stderr",
     "output_type": "stream",
     "text": [
      " 85%|████████▍ | 282/333 [23:00<02:07,  2.49s/it]"
     ]
    },
    {
     "name": "stdout",
     "output_type": "stream",
     "text": [
      "https://reviews.webmd.com/drugs/drugreview-6837-insulin-isophane-pork-pure-suspension\n"
     ]
    },
    {
     "name": "stderr",
     "output_type": "stream",
     "text": [
      " 85%|████████▌ | 284/333 [23:02<01:29,  1.82s/it]"
     ]
    },
    {
     "name": "stdout",
     "output_type": "stream",
     "text": [
      "skipping https://reviews.webmd.com/drugs/drugreview-6842-insulin-purified-lente-pork-suspension: page not found\n"
     ]
    },
    {
     "name": "stderr",
     "output_type": "stream",
     "text": [
      " 86%|████████▌ | 285/333 [23:03<01:17,  1.60s/it]"
     ]
    },
    {
     "name": "stdout",
     "output_type": "stream",
     "text": [
      "skipping https://reviews.webmd.com/drugs/drugreview-6843-insulin-zinc-pork-purified-suspension: page not found\n"
     ]
    },
    {
     "name": "stderr",
     "output_type": "stream",
     "text": [
      " 86%|████████▌ | 286/333 [23:05<01:09,  1.48s/it]"
     ]
    },
    {
     "name": "stdout",
     "output_type": "stream",
     "text": [
      "skipping https://reviews.webmd.com/drugs/drugreview-7359-humulin-u-insulin-suspension: page not found\n"
     ]
    },
    {
     "name": "stderr",
     "output_type": "stream",
     "text": [
      " 86%|████████▌ | 287/333 [23:06<01:02,  1.35s/it]"
     ]
    },
    {
     "name": "stdout",
     "output_type": "stream",
     "text": [
      "skipping https://reviews.webmd.com/drugs/drugreview-7360-insulin-zinc-extended-human-suspension: page not found\n"
     ]
    },
    {
     "name": "stderr",
     "output_type": "stream",
     "text": [
      " 86%|████████▋ | 288/333 [23:07<01:00,  1.35s/it]"
     ]
    },
    {
     "name": "stdout",
     "output_type": "stream",
     "text": [
      "skipping https://reviews.webmd.com/drugs/drugreview-7599-iletin-i-nph-suspension: page not found\n"
     ]
    },
    {
     "name": "stderr",
     "output_type": "stream",
     "text": [
      " 87%|████████▋ | 289/333 [23:08<00:54,  1.25s/it]"
     ]
    },
    {
     "name": "stdout",
     "output_type": "stream",
     "text": [
      "skipping https://reviews.webmd.com/drugs/drugreview-7600-insulin-nph-beef-pork-suspension: page not found\n"
     ]
    },
    {
     "name": "stderr",
     "output_type": "stream",
     "text": [
      " 87%|████████▋ | 290/333 [23:09<00:50,  1.16s/it]"
     ]
    },
    {
     "name": "stdout",
     "output_type": "stream",
     "text": [
      "skipping https://reviews.webmd.com/drugs/drugreview-76307-novolin-l-suspension: page not found\n",
      "https://reviews.webmd.com/drugs/drugreview-76308-novolin-n-vial\n"
     ]
    },
    {
     "name": "stderr",
     "output_type": "stream",
     "text": [
      "\n",
      "  0%|          | 0/1 [00:00<?, ?it/s]\u001b[A\n",
      "100%|██████████| 1/1 [00:00<00:00,  1.34it/s]\n",
      " 87%|████████▋ | 291/333 [23:12<01:07,  1.61s/it]"
     ]
    },
    {
     "name": "stdout",
     "output_type": "stream",
     "text": [
      "https://reviews.webmd.com/drugs/drugreview-77963-riomet\n"
     ]
    },
    {
     "name": "stderr",
     "output_type": "stream",
     "text": [
      "\n",
      "  0%|          | 0/1 [00:00<?, ?it/s]\u001b[A\n",
      "100%|██████████| 1/1 [00:00<00:00,  1.57it/s]\n",
      " 88%|████████▊ | 292/333 [23:15<01:23,  2.05s/it]"
     ]
    },
    {
     "name": "stdout",
     "output_type": "stream",
     "text": [
      "https://reviews.webmd.com/drugs/drugreview-78112-insulin-nph-innolet-pen\n"
     ]
    },
    {
     "name": "stderr",
     "output_type": "stream",
     "text": [
      " 88%|████████▊ | 293/333 [23:16<01:16,  1.92s/it]"
     ]
    },
    {
     "name": "stdout",
     "output_type": "stream",
     "text": [
      "https://reviews.webmd.com/drugs/drugreview-78113-insulin-nph-reg-innolet-pen\n"
     ]
    },
    {
     "name": "stderr",
     "output_type": "stream",
     "text": [
      " 88%|████████▊ | 294/333 [23:18<01:11,  1.84s/it]"
     ]
    },
    {
     "name": "stdout",
     "output_type": "stream",
     "text": [
      "https://reviews.webmd.com/drugs/drugreview-8068-micronase-tablet\n"
     ]
    },
    {
     "name": "stderr",
     "output_type": "stream",
     "text": [
      "\n",
      "  0%|          | 0/1 [00:00<?, ?it/s]\u001b[A\n",
      "100%|██████████| 1/1 [00:00<00:00,  1.66it/s]\n",
      " 89%|████████▉ | 296/333 [23:22<01:06,  1.79s/it]"
     ]
    },
    {
     "name": "stdout",
     "output_type": "stream",
     "text": [
      "skipping https://reviews.webmd.com/drugs/drugreview-8635-chlorpropamide-tablet: page not found\n"
     ]
    },
    {
     "name": "stderr",
     "output_type": "stream",
     "text": [
      " 89%|████████▉ | 297/333 [23:23<00:56,  1.57s/it]"
     ]
    },
    {
     "name": "stdout",
     "output_type": "stream",
     "text": [
      "skipping https://reviews.webmd.com/drugs/drugreview-8719-tolazamide-tablet: page not found\n",
      "https://reviews.webmd.com/drugs/drugreview-88973-novolin-70-30-innolet-insulin-pen\n"
     ]
    },
    {
     "name": "stderr",
     "output_type": "stream",
     "text": [
      "\n",
      "  0%|          | 0/1 [00:00<?, ?it/s]\u001b[A\n",
      "100%|██████████| 1/1 [00:00<00:00,  1.97it/s]\n",
      " 89%|████████▉ | 298/333 [23:25<01:02,  1.77s/it]"
     ]
    },
    {
     "name": "stdout",
     "output_type": "stream",
     "text": [
      "https://reviews.webmd.com/drugs/drugreview-89227-fortamet\n"
     ]
    },
    {
     "name": "stderr",
     "output_type": "stream",
     "text": [
      "\n",
      "  0%|          | 0/2 [00:00<?, ?it/s]\u001b[A\n",
      " 50%|█████     | 1/2 [00:00<00:00,  1.33it/s]\u001b[A\n",
      "100%|██████████| 2/2 [00:01<00:00,  1.04it/s]\n",
      " 90%|████████▉ | 299/333 [23:29<01:22,  2.43s/it]"
     ]
    },
    {
     "name": "stdout",
     "output_type": "stream",
     "text": [
      "https://reviews.webmd.com/drugs/drugreview-90540-glipizide-xl-tablet-osmotic-push-tablet-er-push\n"
     ]
    },
    {
     "name": "stderr",
     "output_type": "stream",
     "text": [
      " 90%|█████████ | 301/333 [23:32<00:59,  1.86s/it]"
     ]
    },
    {
     "name": "stdout",
     "output_type": "stream",
     "text": [
      "skipping https://reviews.webmd.com/drugs/drugreview-90872-insulin-lente-beef-suspension: page not found\n"
     ]
    },
    {
     "name": "stderr",
     "output_type": "stream",
     "text": [
      " 91%|█████████ | 302/333 [23:33<00:51,  1.66s/it]"
     ]
    },
    {
     "name": "stdout",
     "output_type": "stream",
     "text": [
      "skipping https://reviews.webmd.com/drugs/drugreview-90873-insulin-nph-beef-suspension: page not found\n"
     ]
    },
    {
     "name": "stderr",
     "output_type": "stream",
     "text": [
      " 91%|█████████ | 303/333 [23:34<00:44,  1.49s/it]"
     ]
    },
    {
     "name": "stdout",
     "output_type": "stream",
     "text": [
      "skipping https://reviews.webmd.com/drugs/drugreview-91890-iletin-i-protamine-zinc-suspension: page not found\n"
     ]
    },
    {
     "name": "stderr",
     "output_type": "stream",
     "text": [
      " 91%|█████████▏| 304/333 [23:35<00:38,  1.31s/it]"
     ]
    },
    {
     "name": "stdout",
     "output_type": "stream",
     "text": [
      "skipping https://reviews.webmd.com/drugs/drugreview-91891-iletin-ii-protamine-zincpork-suspension: page not found\n"
     ]
    },
    {
     "name": "stderr",
     "output_type": "stream",
     "text": [
      " 92%|█████████▏| 305/333 [23:36<00:34,  1.22s/it]"
     ]
    },
    {
     "name": "stdout",
     "output_type": "stream",
     "text": [
      "skipping https://reviews.webmd.com/drugs/drugreview-91892-iletin-ii-protamine-zincbeef-suspension: page not found\n"
     ]
    },
    {
     "name": "stderr",
     "output_type": "stream",
     "text": [
      " 92%|█████████▏| 306/333 [23:37<00:31,  1.16s/it]"
     ]
    },
    {
     "name": "stdout",
     "output_type": "stream",
     "text": [
      "skipping https://reviews.webmd.com/drugs/drugreview-91893-iletin-ii-regularbeef-solution: page not found\n"
     ]
    },
    {
     "name": "stderr",
     "output_type": "stream",
     "text": [
      " 92%|█████████▏| 307/333 [23:38<00:28,  1.11s/it]"
     ]
    },
    {
     "name": "stdout",
     "output_type": "stream",
     "text": [
      "skipping https://reviews.webmd.com/drugs/drugreview-91895-iletin-ii-lentebeef-suspension: page not found\n"
     ]
    },
    {
     "name": "stderr",
     "output_type": "stream",
     "text": [
      " 92%|█████████▏| 308/333 [23:39<00:28,  1.14s/it]"
     ]
    },
    {
     "name": "stdout",
     "output_type": "stream",
     "text": [
      "skipping https://reviews.webmd.com/drugs/drugreview-91896-iletin-ii-regularporkconc-solution: page not found\n"
     ]
    },
    {
     "name": "stderr",
     "output_type": "stream",
     "text": [
      " 93%|█████████▎| 309/333 [23:40<00:26,  1.10s/it]"
     ]
    },
    {
     "name": "stdout",
     "output_type": "stream",
     "text": [
      "skipping https://reviews.webmd.com/drugs/drugreview-91897-iletin-i-semilente-suspension: page not found\n"
     ]
    },
    {
     "name": "stderr",
     "output_type": "stream",
     "text": [
      " 93%|█████████▎| 310/333 [23:41<00:25,  1.10s/it]"
     ]
    },
    {
     "name": "stdout",
     "output_type": "stream",
     "text": [
      "skipping https://reviews.webmd.com/drugs/drugreview-91898-iletin-i-ultralente-suspension: page not found\n",
      "https://reviews.webmd.com/drugs/drugreview-91900-insulatard-human-n-suspension\n"
     ]
    },
    {
     "name": "stderr",
     "output_type": "stream",
     "text": [
      " 94%|█████████▎| 312/333 [23:44<00:26,  1.24s/it]"
     ]
    },
    {
     "name": "stdout",
     "output_type": "stream",
     "text": [
      "skipping https://reviews.webmd.com/drugs/drugreview-91915-mixtard-70-30-solution: page not found\n"
     ]
    },
    {
     "name": "stderr",
     "output_type": "stream",
     "text": [
      " 94%|█████████▍| 313/333 [23:45<00:24,  1.20s/it]"
     ]
    },
    {
     "name": "stdout",
     "output_type": "stream",
     "text": [
      "skipping https://reviews.webmd.com/drugs/drugreview-91917-mixtard-human-70-30-solution: page not found\n"
     ]
    },
    {
     "name": "stderr",
     "output_type": "stream",
     "text": [
      " 94%|█████████▍| 314/333 [23:46<00:22,  1.17s/it]"
     ]
    },
    {
     "name": "stdout",
     "output_type": "stream",
     "text": [
      "skipping https://reviews.webmd.com/drugs/drugreview-91932-monotard-human-lente-suspension: page not found\n"
     ]
    },
    {
     "name": "stderr",
     "output_type": "stream",
     "text": [
      " 95%|█████████▍| 315/333 [23:47<00:20,  1.14s/it]"
     ]
    },
    {
     "name": "stdout",
     "output_type": "stream",
     "text": [
      "skipping https://reviews.webmd.com/drugs/drugreview-91935-lentard-insulin-purified-suspension: page not found\n",
      "https://reviews.webmd.com/drugs/drugreview-93223-exenatide-pen-injector\n"
     ]
    },
    {
     "name": "stderr",
     "output_type": "stream",
     "text": [
      "\n",
      "  0%|          | 0/1 [00:00<?, ?it/s]\u001b[A\n",
      "100%|██████████| 1/1 [00:00<00:00,  1.68it/s]\n",
      " 95%|█████████▍| 316/333 [23:50<00:26,  1.58s/it]"
     ]
    },
    {
     "name": "stdout",
     "output_type": "stream",
     "text": [
      "https://reviews.webmd.com/drugs/drugreview-93242-byetta-pen-injector\n"
     ]
    },
    {
     "name": "stderr",
     "output_type": "stream",
     "text": [
      "\n",
      "  0%|          | 0/21 [00:00<?, ?it/s]\u001b[A\n",
      "  5%|▍         | 1/21 [00:00<00:14,  1.39it/s]\u001b[A\n",
      " 10%|▉         | 2/21 [00:02<00:20,  1.10s/it]\u001b[A\n",
      " 14%|█▍        | 3/21 [00:03<00:21,  1.19s/it]\u001b[A\n",
      " 19%|█▉        | 4/21 [00:04<00:22,  1.34s/it]\u001b[A\n",
      " 24%|██▍       | 5/21 [00:06<00:21,  1.32s/it]\u001b[A\n",
      " 29%|██▊       | 6/21 [00:07<00:19,  1.31s/it]\u001b[A\n",
      " 33%|███▎      | 7/21 [00:08<00:18,  1.30s/it]\u001b[A\n",
      " 38%|███▊      | 8/21 [00:10<00:17,  1.34s/it]\u001b[A\n",
      " 43%|████▎     | 9/21 [00:11<00:16,  1.36s/it]\u001b[A\n",
      " 48%|████▊     | 10/21 [00:13<00:15,  1.39s/it]\u001b[A\n",
      " 52%|█████▏    | 11/21 [00:14<00:13,  1.39s/it]\u001b[A\n",
      " 57%|█████▋    | 12/21 [00:15<00:12,  1.39s/it]\u001b[A\n",
      " 62%|██████▏   | 13/21 [00:17<00:10,  1.36s/it]\u001b[A\n",
      " 67%|██████▋   | 14/21 [00:18<00:09,  1.42s/it]\u001b[A\n",
      " 71%|███████▏  | 15/21 [00:20<00:08,  1.39s/it]\u001b[A\n",
      " 76%|███████▌  | 16/21 [00:21<00:07,  1.50s/it]\u001b[A\n",
      " 81%|████████  | 17/21 [00:23<00:05,  1.43s/it]\u001b[A\n",
      " 86%|████████▌ | 18/21 [00:24<00:04,  1.36s/it]\u001b[A\n",
      " 90%|█████████ | 19/21 [00:25<00:02,  1.34s/it]\u001b[A\n",
      " 95%|█████████▌| 20/21 [00:26<00:01,  1.32s/it]\u001b[A\n",
      "100%|██████████| 21/21 [00:28<00:00,  1.34s/it]\n",
      " 95%|█████████▌| 317/333 [24:20<02:42, 10.13s/it]"
     ]
    },
    {
     "name": "stdout",
     "output_type": "stream",
     "text": [
      "https://reviews.webmd.com/drugs/drugreview-93248-novolin-r-innolet-insulin-pen\n"
     ]
    },
    {
     "name": "stderr",
     "output_type": "stream",
     "text": [
      " 95%|█████████▌| 318/333 [24:22<01:54,  7.66s/it]"
     ]
    },
    {
     "name": "stdout",
     "output_type": "stream",
     "text": [
      "https://reviews.webmd.com/drugs/drugreview-94011-insulin-detemir-u-solution\n"
     ]
    },
    {
     "name": "stderr",
     "output_type": "stream",
     "text": [
      "\n",
      "  0%|          | 0/1 [00:00<?, ?it/s]\u001b[A\n",
      "100%|██████████| 1/1 [00:00<00:00,  1.47it/s]\n",
      " 96%|█████████▌| 319/333 [24:24<01:25,  6.10s/it]"
     ]
    },
    {
     "name": "stdout",
     "output_type": "stream",
     "text": [
      "https://reviews.webmd.com/drugs/drugreview-94092-novolog-mix-70-30-flexpen-insulin-pen\n"
     ]
    },
    {
     "name": "stderr",
     "output_type": "stream",
     "text": [
      "\n",
      "  0%|          | 0/2 [00:00<?, ?it/s]\u001b[A\n",
      " 50%|█████     | 1/2 [00:00<00:00,  1.28it/s]\u001b[A\n",
      "100%|██████████| 2/2 [00:01<00:00,  1.12it/s]\n",
      " 96%|█████████▌| 320/333 [24:28<01:10,  5.41s/it]"
     ]
    },
    {
     "name": "stdout",
     "output_type": "stream",
     "text": [
      "https://reviews.webmd.com/drugs/drugreview-94097-pioglitazone-metformin\n"
     ]
    },
    {
     "name": "stderr",
     "output_type": "stream",
     "text": [
      "\n",
      "  0%|          | 0/1 [00:00<?, ?it/s]\u001b[A\n",
      "100%|██████████| 1/1 [00:00<00:00,  1.47it/s]\n",
      " 96%|█████████▋| 321/333 [24:31<00:54,  4.57s/it]"
     ]
    },
    {
     "name": "stdout",
     "output_type": "stream",
     "text": [
      "https://reviews.webmd.com/drugs/drugreview-94140-actoplus-met\n"
     ]
    },
    {
     "name": "stderr",
     "output_type": "stream",
     "text": [
      "\n",
      "  0%|          | 0/4 [00:00<?, ?it/s]\u001b[A\n",
      " 25%|██▌       | 1/4 [00:01<00:03,  1.24s/it]\u001b[A\n",
      " 50%|█████     | 2/4 [00:02<00:02,  1.35s/it]\u001b[A\n",
      " 75%|███████▌  | 3/4 [00:03<00:01,  1.29s/it]\u001b[A\n",
      "100%|██████████| 4/4 [00:04<00:00,  1.22s/it]\n",
      " 97%|█████████▋| 322/333 [24:38<00:59,  5.39s/it]"
     ]
    },
    {
     "name": "stdout",
     "output_type": "stream",
     "text": [
      "https://reviews.webmd.com/drugs/drugreview-94376-novolin-n-innolet-insulin-pen\n"
     ]
    },
    {
     "name": "stderr",
     "output_type": "stream",
     "text": [
      "\n",
      "  0%|          | 0/1 [00:00<?, ?it/s]\u001b[A\n",
      "100%|██████████| 1/1 [00:00<00:00,  2.02it/s]\n",
      " 97%|█████████▋| 324/333 [24:41<00:30,  3.44s/it]"
     ]
    },
    {
     "name": "stdout",
     "output_type": "stream",
     "text": [
      "skipping https://reviews.webmd.com/drugs/drugreview-94692-rosiglitazone-glimepiride-tablet: page not found\n"
     ]
    },
    {
     "name": "stderr",
     "output_type": "stream",
     "text": [
      " 98%|█████████▊| 325/333 [24:43<00:22,  2.76s/it]"
     ]
    },
    {
     "name": "stdout",
     "output_type": "stream",
     "text": [
      "skipping https://reviews.webmd.com/drugs/drugreview-94833-avandaryl-tablet: page not found\n",
      "https://reviews.webmd.com/drugs/drugreview-94838-insulin-glulisine-u-solution\n"
     ]
    },
    {
     "name": "stderr",
     "output_type": "stream",
     "text": [
      " 98%|█████████▊| 326/333 [24:44<00:17,  2.45s/it]"
     ]
    },
    {
     "name": "stdout",
     "output_type": "stream",
     "text": [
      "https://reviews.webmd.com/drugs/drugreview-94890-apidra-vial\n"
     ]
    },
    {
     "name": "stderr",
     "output_type": "stream",
     "text": [
      "\n",
      "  0%|          | 0/1 [00:00<?, ?it/s]\u001b[A\n",
      "100%|██████████| 1/1 [00:00<00:00,  1.14it/s]\n",
      " 98%|█████████▊| 327/333 [24:47<00:15,  2.56s/it]"
     ]
    },
    {
     "name": "stdout",
     "output_type": "stream",
     "text": [
      "https://reviews.webmd.com/drugs/drugreview-94930-humalog-mix-50-50-vial\n"
     ]
    },
    {
     "name": "stderr",
     "output_type": "stream",
     "text": [
      "\n",
      "  0%|          | 0/1 [00:00<?, ?it/s]\u001b[A\n",
      "100%|██████████| 1/1 [00:00<00:00,  1.82it/s]\n",
      " 99%|█████████▉| 329/333 [24:51<00:08,  2.14s/it]"
     ]
    },
    {
     "name": "stdout",
     "output_type": "stream",
     "text": [
      "skipping https://reviews.webmd.com/drugs/drugreview-94948-novolin-70-30-semi-synthetic-cartridge: page not found\n",
      "https://reviews.webmd.com/drugs/drugreview-95012-insulin-regular-human-cartridge-with-inhaler\n"
     ]
    },
    {
     "name": "stderr",
     "output_type": "stream",
     "text": [
      "\n",
      "  0%|          | 0/1 [00:00<?, ?it/s]\u001b[A\n",
      "100%|██████████| 1/1 [00:00<00:00,  1.67it/s]\n",
      " 99%|█████████▉| 330/333 [24:53<00:06,  2.21s/it]"
     ]
    },
    {
     "name": "stdout",
     "output_type": "stream",
     "text": [
      "https://reviews.webmd.com/drugs/drugreview-95095-levemir-vial\n"
     ]
    },
    {
     "name": "stderr",
     "output_type": "stream",
     "text": [
      "\n",
      "  0%|          | 0/3 [00:00<?, ?it/s]\u001b[A\n",
      " 33%|███▎      | 1/3 [00:00<00:01,  1.17it/s]\u001b[A\n",
      " 67%|██████▋   | 2/3 [00:02<00:01,  1.10s/it]\u001b[A\n",
      "100%|██████████| 3/3 [00:03<00:00,  1.04s/it]\n",
      " 99%|█████████▉| 331/333 [24:58<00:06,  3.06s/it]"
     ]
    },
    {
     "name": "stdout",
     "output_type": "stream",
     "text": [
      "https://reviews.webmd.com/drugs/drugreview-95096-levemir-flexpen-insulin-pen\n"
     ]
    },
    {
     "name": "stderr",
     "output_type": "stream",
     "text": [
      "\n",
      "  0%|          | 0/11 [00:00<?, ?it/s]\u001b[A\n",
      "  9%|▉         | 1/11 [00:00<00:07,  1.35it/s]\u001b[A\n",
      " 18%|█▊        | 2/11 [00:02<00:10,  1.13s/it]\u001b[A\n",
      " 27%|██▋       | 3/11 [00:03<00:10,  1.32s/it]\u001b[A\n",
      " 36%|███▋      | 4/11 [00:05<00:09,  1.32s/it]\u001b[A\n",
      " 45%|████▌     | 5/11 [00:06<00:08,  1.38s/it]\u001b[A\n",
      " 55%|█████▍    | 6/11 [00:08<00:07,  1.45s/it]\u001b[A\n",
      " 64%|██████▎   | 7/11 [00:09<00:05,  1.43s/it]\u001b[A\n",
      " 73%|███████▎  | 8/11 [00:10<00:04,  1.45s/it]\u001b[A\n",
      " 82%|████████▏ | 9/11 [00:12<00:02,  1.39s/it]\u001b[A\n",
      " 91%|█████████ | 10/11 [00:13<00:01,  1.33s/it]\u001b[A\n",
      "100%|██████████| 11/11 [00:14<00:00,  1.30s/it]\n",
      "100%|██████████| 333/333 [25:16<00:00,  4.55s/it]"
     ]
    },
    {
     "name": "stdout",
     "output_type": "stream",
     "text": [
      "skipping https://reviews.webmd.com/drugs/drugreview-9724-insulase-tablet: page not found\n"
     ]
    },
    {
     "name": "stderr",
     "output_type": "stream",
     "text": [
      "\n"
     ]
    }
   ],
   "source": [
    "if scrape_diabetes:\n",
    "    conditions_diabetes = {'type 2 diabetes mellitus': 'https://www.webmd.com/drugs/2/condition-594/type-2-diabetes-mellitus'}\n",
    "    review_urls_diabetes = get_review_urls(conditions_diabetes)\n",
    "    compile_reviews(reviews_df.copy(deep=True), review_urls_diabetes, 'diabetes')"
   ]
  },
  {
   "cell_type": "markdown",
   "id": "7e03585b",
   "metadata": {
    "papermill": {
     "duration": 1.531695,
     "end_time": "2024-05-19T02:11:37.794435",
     "exception": false,
     "start_time": "2024-05-19T02:11:36.262740",
     "status": "completed"
    },
    "tags": []
   },
   "source": [
    "\n"
   ]
  }
 ],
 "metadata": {
  "kaggle": {
   "accelerator": "none",
   "dataSources": [],
   "dockerImageVersionId": 30587,
   "isGpuEnabled": false,
   "isInternetEnabled": true,
   "language": "python",
   "sourceType": "notebook"
  },
  "kernelspec": {
   "display_name": "Python 3",
   "language": "python",
   "name": "python3"
  },
  "language_info": {
   "codemirror_mode": {
    "name": "ipython",
    "version": 3
   },
   "file_extension": ".py",
   "mimetype": "text/x-python",
   "name": "python",
   "nbconvert_exporter": "python",
   "pygments_lexer": "ipython3",
   "version": "3.10.12"
  },
  "papermill": {
   "default_parameters": {},
   "duration": 10279.637316,
   "end_time": "2024-05-19T02:11:40.236211",
   "environment_variables": {},
   "exception": null,
   "input_path": "__notebook__.ipynb",
   "output_path": "__notebook__.ipynb",
   "parameters": {},
   "start_time": "2024-05-18T23:20:20.598895",
   "version": "2.4.0"
  }
 },
 "nbformat": 4,
 "nbformat_minor": 5
}
